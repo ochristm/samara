{
 "cells": [
  {
   "cell_type": "code",
   "execution_count": 1,
   "metadata": {},
   "outputs": [],
   "source": [
    "import os\n",
    "import conda\n",
    "conda_file_dir = conda.__file__\n",
    "conda_dir = conda_file_dir.split('lib')[0]\n",
    "proj_lib = os.path.join(conda_dir, 'Library\\share')\n",
    "# proj_lib = os.path.join(os.path.join(conda_dir, 'pkgs'), 'proj4-5.2.0-h6538335_1006\\Library\\share')\n",
    "path_gdal = os.path.join(proj_lib, 'gdal')\n",
    "os.environ ['PROJ_LIB']=proj_lib\n",
    "os.environ ['GDAL_DATA']=path_gdal\n",
    "\n",
    "from datetime import datetime\n",
    "import pandas as pd\n",
    "import geopandas as gpd\n",
    "import numpy as np\n",
    "\n",
    "import warnings\n",
    "warnings.filterwarnings(\"ignore\")\n",
    "\n",
    "import shapely\n",
    "from shapely.geometry import Point, LineString, MultiLineString, Polygon"
   ]
  },
  {
   "cell_type": "code",
   "execution_count": null,
   "metadata": {},
   "outputs": [],
   "source": []
  },
  {
   "cell_type": "code",
   "execution_count": 119,
   "metadata": {},
   "outputs": [],
   "source": [
    "buff_km = ['2','4','3']\n",
    "poly_osmid = ['3368701','3338286','7700136']\n",
    "place = ['Самара','Тольятти','Новокуйбышевск']\n",
    "str_date = ['20200713_0959','20200713_1023','20200713_1026']"
   ]
  },
  {
   "cell_type": "code",
   "execution_count": null,
   "metadata": {},
   "outputs": [],
   "source": []
  },
  {
   "cell_type": "code",
   "execution_count": null,
   "metadata": {},
   "outputs": [],
   "source": [
    "# filename = './data/{}/{}/raw/layers/buildings_{}_{}_{}.shp'.format(poly_osmid[i], str_date[i],buff_km[i], place[i], str_date[i])"
   ]
  },
  {
   "cell_type": "code",
   "execution_count": 120,
   "metadata": {},
   "outputs": [],
   "source": [
    "big_gdf = gpd.GeoDataFrame()\n",
    "i = 0\n",
    "for i in range(len(place)):\n",
    "    filename = './data/{}/{}/raw/layers/buildings_{}_{}_{}.shp'.format(poly_osmid[i], \n",
    "                                                                       str_date[i], \n",
    "                                                                       buff_km[i], \n",
    "                                                                       place[i], str_date[i])\n",
    "    gdf = gpd.read_file(filename, encoding='utf-8')\n",
    "    gdf.crs = 'epsg:4326'\n",
    "    gdf['city_name'] = place[i]\n",
    "    gdf = gdf.to_crs('epsg:4326')\n",
    "    big_gdf = big_gdf.append(gdf).reset_index(drop=True)\n",
    "# "
   ]
  },
  {
   "cell_type": "code",
   "execution_count": null,
   "metadata": {},
   "outputs": [],
   "source": []
  },
  {
   "cell_type": "code",
   "execution_count": 123,
   "metadata": {},
   "outputs": [],
   "source": [
    "big_gdf = big_gdf.drop_duplicates(subset=['geometry'])"
   ]
  },
  {
   "cell_type": "code",
   "execution_count": null,
   "metadata": {},
   "outputs": [],
   "source": []
  },
  {
   "cell_type": "code",
   "execution_count": null,
   "metadata": {},
   "outputs": [],
   "source": [
    "# np_bfgd = big_gdf.to_numpy()\n",
    "# ind_oi = list(big_gdf.columns).index('osm_id')\n",
    "# ind_ad = list(big_gdf.columns).index('address')\n",
    "\n",
    "# lst_new_addr = []\n",
    "# i=0\n",
    "# for i in range(len(np_bfgd)):\n",
    "#     one_addr = np_bfgd[i,ind_ad]\n",
    "#     if (one_addr == \"None, None\") | (\"None, \" in one_addr):\n",
    "#         newstr = None\n",
    "#     elif \", None\" in one_addr:\n",
    "#         newstr = one_addr.replace(\", None\",\"\")\n",
    "#     else:\n",
    "#         newstr = one_addr\n",
    "#     lst_new_addr.append(newstr)\n",
    "# # \n",
    "# big_gdf['address'] = lst_new_addr\n"
   ]
  },
  {
   "cell_type": "code",
   "execution_count": null,
   "metadata": {},
   "outputs": [],
   "source": []
  },
  {
   "cell_type": "code",
   "execution_count": null,
   "metadata": {},
   "outputs": [],
   "source": []
  },
  {
   "cell_type": "code",
   "execution_count": null,
   "metadata": {},
   "outputs": [],
   "source": []
  },
  {
   "cell_type": "code",
   "execution_count": null,
   "metadata": {},
   "outputs": [],
   "source": [
    "cp_bgdf = big_gdf.copy()\n",
    "cp_bgdf = cp_bgdf.to_crs('epsg:32637')\n",
    "np_cbfgd = cp_bgdf.to_numpy()\n",
    "ind_oi = list(cp_bgdf.columns).index('osm_id')\n",
    "ind_geo = list(cp_bgdf.columns).index('geometry')\n",
    "ind_am = list(cp_bgdf.columns).index('amenity')\n",
    "ind_bt = list(cp_bgdf.columns).index('bui_type')\n",
    "ind_adr = list(cp_bgdf.columns).index('address')\n",
    "ind_bl = list(cp_bgdf.columns).index('bui_lvl')"
   ]
  },
  {
   "cell_type": "code",
   "execution_count": 179,
   "metadata": {},
   "outputs": [],
   "source": []
  },
  {
   "cell_type": "code",
   "execution_count": null,
   "metadata": {},
   "outputs": [],
   "source": []
  },
  {
   "cell_type": "code",
   "execution_count": 180,
   "metadata": {},
   "outputs": [],
   "source": [
    "lst_liv = ['apartments', 'house', 'dormitory', 'hut', 'terrace']\n",
    "\n",
    "lst_area = []\n",
    "lst_bui_grp = []\n",
    "\n",
    "i=0\n",
    "for i in range(len(np_cbfgd)):\n",
    "    p_area = np_cbfgd[i,ind_geo].area\n",
    "    bui_type = np_cbfgd[i,ind_bt]\n",
    "    amn = np_cbfgd[i,ind_am]\n",
    "    addr = np_cbfgd[i,ind_adr]\n",
    "    bui_lvl = np_cbfgd[i,ind_bl]\n",
    "    \n",
    "    if ((bui_type in lst_liv) | ((bui_type == 'yes') & (addr != None) & (amn == None))):\n",
    "        bui_grp = \"жилое\"\n",
    "    else:\n",
    "        bui_grp = \"нежилое\"\n",
    "    #\n",
    "    if bui_lvl < 0:\n",
    "        bui_lvl = abs(bui_lvl) + 1 # добавить наземный этаж\n",
    "    #\n",
    "    all_area = round(p_area * bui_lvl, 2)\n",
    "    \n",
    "    lst_bui_grp.append(bui_grp)\n",
    "    lst_area.append(all_area)\n",
    "# "
   ]
  },
  {
   "cell_type": "code",
   "execution_count": null,
   "metadata": {},
   "outputs": [],
   "source": []
  },
  {
   "cell_type": "code",
   "execution_count": null,
   "metadata": {},
   "outputs": [],
   "source": []
  },
  {
   "cell_type": "code",
   "execution_count": 181,
   "metadata": {},
   "outputs": [],
   "source": [
    "big_gdf['total_area_m'] = lst_area\n",
    "big_gdf['bui_group'] = lst_bui_grp"
   ]
  },
  {
   "cell_type": "code",
   "execution_count": null,
   "metadata": {},
   "outputs": [],
   "source": []
  },
  {
   "cell_type": "code",
   "execution_count": null,
   "metadata": {},
   "outputs": [],
   "source": [
    "big_gdf.to_file('buildings_СТН.shp',encoding='utf-8')"
   ]
  },
  {
   "cell_type": "code",
   "execution_count": null,
   "metadata": {},
   "outputs": [],
   "source": []
  }
 ],
 "metadata": {
  "kernelspec": {
   "display_name": "Python 3",
   "language": "python",
   "name": "python3"
  },
  "language_info": {
   "codemirror_mode": {
    "name": "ipython",
    "version": 3
   },
   "file_extension": ".py",
   "mimetype": "text/x-python",
   "name": "python",
   "nbconvert_exporter": "python",
   "pygments_lexer": "ipython3",
   "version": "3.7.6"
  }
 },
 "nbformat": 4,
 "nbformat_minor": 4
}
