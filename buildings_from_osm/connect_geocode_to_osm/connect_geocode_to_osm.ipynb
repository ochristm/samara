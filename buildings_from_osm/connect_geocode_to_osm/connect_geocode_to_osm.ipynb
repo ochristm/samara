{
 "cells": [
  {
   "cell_type": "code",
   "execution_count": 1,
   "metadata": {},
   "outputs": [],
   "source": [
    "import os\n",
    "import conda\n",
    "conda_file_dir = conda.__file__\n",
    "conda_dir = conda_file_dir.split('lib')[0]\n",
    "proj_lib = os.path.join(conda_dir, 'Library\\share')\n",
    "# proj_lib = os.path.join(os.path.join(conda_dir, 'pkgs'), 'proj4-5.2.0-h6538335_1006\\Library\\share')\n",
    "path_gdal = os.path.join(proj_lib, 'gdal')\n",
    "os.environ ['PROJ_LIB']=proj_lib\n",
    "os.environ ['GDAL_DATA']=path_gdal\n",
    "\n",
    "from datetime import datetime\n",
    "import pandas as pd\n",
    "import geopandas as gpd\n",
    "import numpy as np\n",
    "\n",
    "import warnings\n",
    "warnings.filterwarnings(\"ignore\")\n",
    "\n",
    "import shapely\n",
    "from shapely.geometry import Point, LineString, MultiLineString, Polygon"
   ]
  },
  {
   "cell_type": "code",
   "execution_count": null,
   "metadata": {},
   "outputs": [],
   "source": []
  },
  {
   "cell_type": "code",
   "execution_count": null,
   "metadata": {},
   "outputs": [],
   "source": []
  },
  {
   "cell_type": "code",
   "execution_count": 3,
   "metadata": {},
   "outputs": [],
   "source": [
    "gdf_bui = gpd.read_file('buildings_1_СТН.json',encoding='utf-8')"
   ]
  },
  {
   "cell_type": "code",
   "execution_count": null,
   "metadata": {},
   "outputs": [],
   "source": []
  },
  {
   "cell_type": "code",
   "execution_count": 7,
   "metadata": {},
   "outputs": [],
   "source": [
    "gdf_addr = gpd.read_file('gdf_pt.json',encoding='utf-8')"
   ]
  },
  {
   "cell_type": "code",
   "execution_count": 9,
   "metadata": {
    "scrolled": true
   },
   "outputs": [],
   "source": [
    "adresses = gdf_addr[['address','total_sq','total_ppl','location','geometry']]"
   ]
  },
  {
   "cell_type": "code",
   "execution_count": 16,
   "metadata": {},
   "outputs": [],
   "source": [
    "adresses = adresses.rename(columns={'address':'addr_ref'})"
   ]
  },
  {
   "cell_type": "code",
   "execution_count": 43,
   "metadata": {},
   "outputs": [],
   "source": [
    "bui_buff = gdf_bui.copy()\n",
    "bui_buff.crs='epsg:4326'\n",
    "bui_buff.geometry = bui_buff.geometry.to_crs('epsg:32637').buffer(30).to_crs('epsg:4326')\n",
    "# bui_buff.geometry = bui_buff.geometry.buffer(30)\n",
    "# bui_buff = bui_buff.to_crs('epsg:4326')"
   ]
  },
  {
   "cell_type": "code",
   "execution_count": null,
   "metadata": {},
   "outputs": [],
   "source": []
  },
  {
   "cell_type": "code",
   "execution_count": null,
   "metadata": {},
   "outputs": [],
   "source": []
  },
  {
   "cell_type": "code",
   "execution_count": 47,
   "metadata": {},
   "outputs": [],
   "source": [
    "bui_buff.to_file('bui_buff.json',driver='GeoJSON',encoding='utf-8')"
   ]
  },
  {
   "cell_type": "code",
   "execution_count": 71,
   "metadata": {},
   "outputs": [
    {
     "data": {
      "text/plain": [
       "Index(['osm_id', 'address', 'bui_lvl', 'name', 'amenity', 'bui_type', 'tags',\n",
       "       'total_area_m', 'bui_group', 'city_name', 'geometry'],\n",
       "      dtype='object')"
      ]
     },
     "execution_count": 71,
     "metadata": {},
     "output_type": "execute_result"
    }
   ],
   "source": [
    "bui_buff.columns"
   ]
  },
  {
   "cell_type": "code",
   "execution_count": null,
   "metadata": {},
   "outputs": [],
   "source": []
  },
  {
   "cell_type": "code",
   "execution_count": 72,
   "metadata": {},
   "outputs": [
    {
     "name": "stdout",
     "output_type": "stream",
     "text": [
      "time start: 16:56:57\n",
      "Estimated time: 20.82 seconds\n",
      "time end: 16:57:16\n"
     ]
    }
   ],
   "source": [
    "time_end = \"{:%H:%M:%S}\".format(datetime.now())\n",
    "print(\"time start:\", time_end)\n",
    "time_all = round(len(adresses) / 17,2)\n",
    "print(\"Estimated time:\", time_all, \"seconds\")\n",
    "sj_poly = gpd.sjoin(bui_buff[['osm_id','geometry']], adresses).drop('index_right',axis=1)\n",
    "#\n",
    "time_end = \"{:%H:%M:%S}\".format(datetime.now())\n",
    "print(\"time end:\", time_end)"
   ]
  },
  {
   "cell_type": "code",
   "execution_count": 73,
   "metadata": {},
   "outputs": [
    {
     "data": {
      "text/plain": [
       "Index(['osm_id', 'geometry', 'addr_ref', 'total_sq', 'total_ppl', 'location'], dtype='object')"
      ]
     },
     "execution_count": 73,
     "metadata": {},
     "output_type": "execute_result"
    }
   ],
   "source": [
    "sj_poly.columns"
   ]
  },
  {
   "cell_type": "code",
   "execution_count": null,
   "metadata": {},
   "outputs": [],
   "source": []
  },
  {
   "cell_type": "code",
   "execution_count": 74,
   "metadata": {},
   "outputs": [],
   "source": [
    "# bui_new = gdf_bui[gdf_bui.osm_id.isin(sj_poly.osm_id)]\n",
    "bui_new = gdf_bui.merge(sj_poly[['osm_id', 'addr_ref', 'total_sq',\n",
    "       'total_ppl', 'location']],how='left',on=['osm_id'])\n",
    "\n",
    "# bui_new['geometry'] = bui_new['geometry_x']\n",
    "# del bui_new['geometry_y'], bui_new['geometry_x']\n",
    "bui_new = gpd.GeoDataFrame(bui_new)\n",
    "bui_new.crs='epsg:4326'"
   ]
  },
  {
   "cell_type": "code",
   "execution_count": 75,
   "metadata": {},
   "outputs": [
    {
     "name": "stdout",
     "output_type": "stream",
     "text": [
      "191563\n",
      "191767\n"
     ]
    }
   ],
   "source": [
    "print(len(gdf_bui))\n",
    "print(len(bui_new))"
   ]
  },
  {
   "cell_type": "code",
   "execution_count": null,
   "metadata": {},
   "outputs": [],
   "source": []
  },
  {
   "cell_type": "code",
   "execution_count": null,
   "metadata": {},
   "outputs": [],
   "source": []
  },
  {
   "cell_type": "code",
   "execution_count": 60,
   "metadata": {},
   "outputs": [
    {
     "name": "stdout",
     "output_type": "stream",
     "text": [
      "8\n"
     ]
    }
   ],
   "source": [
    "not_found = adresses[~adresses.addr_ref.isin(bui_new.addr_ref)].reset_index(drop=True)\n",
    "print(len(not_found))"
   ]
  },
  {
   "cell_type": "code",
   "execution_count": null,
   "metadata": {},
   "outputs": [],
   "source": []
  },
  {
   "cell_type": "code",
   "execution_count": 37,
   "metadata": {},
   "outputs": [],
   "source": [
    "not_found.to_file('not_found.json',driver='GeoJSON',encoding='utf-8')"
   ]
  },
  {
   "cell_type": "code",
   "execution_count": 38,
   "metadata": {},
   "outputs": [],
   "source": [
    "sj_poly.to_file('sj_poly.json',driver='GeoJSON',encoding='utf-8')"
   ]
  },
  {
   "cell_type": "code",
   "execution_count": null,
   "metadata": {},
   "outputs": [],
   "source": []
  }
 ],
 "metadata": {
  "kernelspec": {
   "display_name": "Python 3",
   "language": "python",
   "name": "python3"
  },
  "language_info": {
   "codemirror_mode": {
    "name": "ipython",
    "version": 3
   },
   "file_extension": ".py",
   "mimetype": "text/x-python",
   "name": "python",
   "nbconvert_exporter": "python",
   "pygments_lexer": "ipython3",
   "version": "3.7.6"
  }
 },
 "nbformat": 4,
 "nbformat_minor": 4
}
