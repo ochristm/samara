{
 "cells": [
  {
   "cell_type": "code",
   "execution_count": 1,
   "metadata": {},
   "outputs": [],
   "source": [
    "import os\n",
    "import conda\n",
    "conda_file_dir = conda.__file__\n",
    "conda_dir = conda_file_dir.split('lib')[0]\n",
    "proj_lib = os.path.join(conda_dir, 'Library\\share')\n",
    "# proj_lib = os.path.join(os.path.join(conda_dir, 'pkgs'), 'proj4-5.2.0-h6538335_1006\\Library\\share')\n",
    "path_gdal = os.path.join(proj_lib, 'gdal')\n",
    "os.environ ['PROJ_LIB']=proj_lib\n",
    "os.environ ['GDAL_DATA']=path_gdal\n",
    "\n",
    "from datetime import datetime\n",
    "import pandas as pd\n",
    "import geopandas as gpd\n",
    "import numpy as np\n",
    "\n",
    "import warnings\n",
    "warnings.filterwarnings(\"ignore\")\n",
    "\n",
    "import shapely\n",
    "from shapely.geometry import Point, LineString, MultiLineString, Polygon"
   ]
  },
  {
   "cell_type": "code",
   "execution_count": null,
   "metadata": {},
   "outputs": [],
   "source": []
  },
  {
   "cell_type": "code",
   "execution_count": null,
   "metadata": {},
   "outputs": [],
   "source": []
  },
  {
   "cell_type": "code",
   "execution_count": 2,
   "metadata": {},
   "outputs": [],
   "source": [
    "gdf_bui = gpd.read_file('buildings_1_СТН.json',encoding='utf-8')"
   ]
  },
  {
   "cell_type": "code",
   "execution_count": null,
   "metadata": {},
   "outputs": [],
   "source": []
  },
  {
   "cell_type": "code",
   "execution_count": 3,
   "metadata": {},
   "outputs": [],
   "source": [
    "gdf_addr = gpd.read_file('../geocoding/gdf_ok.json',encoding='utf-8')"
   ]
  },
  {
   "cell_type": "code",
   "execution_count": 46,
   "metadata": {},
   "outputs": [],
   "source": [
    "gdf_addr = gdf_addr.rename(columns={'address':'addr_ref'})\n",
    "try:\n",
    "    del gdf_addr['index_right']\n",
    "except:\n",
    "    pass"
   ]
  },
  {
   "cell_type": "code",
   "execution_count": null,
   "metadata": {},
   "outputs": [],
   "source": []
  },
  {
   "cell_type": "code",
   "execution_count": 79,
   "metadata": {},
   "outputs": [],
   "source": [
    "def connect_addr_to_bui(gdf_addr,gdf_bui,buff):\n",
    "    bui_buff = gdf_bui.copy()\n",
    "    bui_buff.crs='epsg:4326'\n",
    "    bui_buff.geometry = bui_buff.geometry.to_crs('epsg:32637').buffer(buff).to_crs('epsg:4326')\n",
    "    #\n",
    "    sj_poly = gpd.sjoin(bui_buff[['osm_id','geometry']], gdf_addr).drop('index_right',axis=1)\n",
    "    \n",
    "    del sj_poly['geometry']\n",
    "    \n",
    "    bui_new = sj_poly.merge(gdf_bui,how='left',on=['osm_id'])\n",
    "    bui_new = gpd.GeoDataFrame(bui_new)\n",
    "    bui_new.crs='epsg:4326'\n",
    "\n",
    "    return bui_new"
   ]
  },
  {
   "cell_type": "code",
   "execution_count": null,
   "metadata": {},
   "outputs": [],
   "source": []
  },
  {
   "cell_type": "code",
   "execution_count": 76,
   "metadata": {},
   "outputs": [],
   "source": [
    "zero_buff = connect_addr_to_bui(gdf_addr,gdf_bui,0)"
   ]
  },
  {
   "cell_type": "code",
   "execution_count": null,
   "metadata": {},
   "outputs": [],
   "source": []
  },
  {
   "cell_type": "code",
   "execution_count": 52,
   "metadata": {},
   "outputs": [],
   "source": [
    "not_found_addr_zero = gdf_addr[~gdf_addr.addr_ref.isin(zero_buff.addr_ref)].reset_index(drop=True)"
   ]
  },
  {
   "cell_type": "code",
   "execution_count": 53,
   "metadata": {},
   "outputs": [],
   "source": [
    "not_found_bui_zero = gdf_bui[~gdf_bui.osm_id.isin(zero_buff.osm_id)].reset_index(drop=True)"
   ]
  },
  {
   "cell_type": "code",
   "execution_count": null,
   "metadata": {},
   "outputs": [],
   "source": []
  },
  {
   "cell_type": "code",
   "execution_count": 54,
   "metadata": {},
   "outputs": [],
   "source": [
    "ten_buff = connect_addr_to_bui(not_found_addr_zero,not_found_bui_zero,10)"
   ]
  },
  {
   "cell_type": "code",
   "execution_count": 60,
   "metadata": {},
   "outputs": [],
   "source": [
    "not_found_addr_ten = gdf_addr[( (~gdf_addr.addr_ref.isin(zero_buff.addr_ref) \n",
    "                               & (~gdf_addr.addr_ref.isin(ten_buff.addr_ref))))\n",
    "                             ].reset_index(drop=True)"
   ]
  },
  {
   "cell_type": "code",
   "execution_count": 61,
   "metadata": {},
   "outputs": [],
   "source": [
    "not_found_bui_ten = gdf_bui[((~gdf_bui.osm_id.isin(zero_buff.osm_id)) \n",
    "                             & (~gdf_bui.osm_id.isin(ten_buff.osm_id))\n",
    "                            )].reset_index(drop=True)"
   ]
  },
  {
   "cell_type": "code",
   "execution_count": null,
   "metadata": {},
   "outputs": [],
   "source": []
  },
  {
   "cell_type": "code",
   "execution_count": 62,
   "metadata": {},
   "outputs": [],
   "source": [
    "thirty_buff = connect_addr_to_bui(not_found_addr_ten,not_found_bui_ten,30)"
   ]
  },
  {
   "cell_type": "code",
   "execution_count": null,
   "metadata": {},
   "outputs": [],
   "source": []
  },
  {
   "cell_type": "code",
   "execution_count": 94,
   "metadata": {},
   "outputs": [],
   "source": [
    "zero_buff = zero_buff.drop_duplicates(subset=['osm_id']).reset_index(drop=True)\n",
    "ten_buff = ten_buff.drop_duplicates(subset=['osm_id']).reset_index(drop=True)\n",
    "thirty_buff = thirty_buff.drop_duplicates(subset=['osm_id']).reset_index(drop=True)"
   ]
  },
  {
   "cell_type": "code",
   "execution_count": null,
   "metadata": {},
   "outputs": [],
   "source": [
    "zero_buff['buff'] = 0\n",
    "ten_buff['buff'] = 10\n",
    "thirty_buff['buff'] = 30"
   ]
  },
  {
   "cell_type": "code",
   "execution_count": 108,
   "metadata": {},
   "outputs": [],
   "source": [
    "all_found = zero_buff.append(ten_buff).append(thirty_buff).reset_index(drop=True)"
   ]
  },
  {
   "cell_type": "code",
   "execution_count": null,
   "metadata": {},
   "outputs": [],
   "source": []
  },
  {
   "cell_type": "code",
   "execution_count": null,
   "metadata": {},
   "outputs": [],
   "source": []
  },
  {
   "cell_type": "code",
   "execution_count": null,
   "metadata": {},
   "outputs": [],
   "source": []
  },
  {
   "cell_type": "code",
   "execution_count": 110,
   "metadata": {},
   "outputs": [],
   "source": [
    "all_found.to_file('all_found.json',driver='GeoJSON',encoding='utf-8')"
   ]
  },
  {
   "cell_type": "code",
   "execution_count": null,
   "metadata": {},
   "outputs": [],
   "source": []
  },
  {
   "cell_type": "code",
   "execution_count": null,
   "metadata": {},
   "outputs": [],
   "source": []
  },
  {
   "cell_type": "code",
   "execution_count": 115,
   "metadata": {},
   "outputs": [],
   "source": []
  },
  {
   "cell_type": "code",
   "execution_count": 114,
   "metadata": {},
   "outputs": [],
   "source": [
    "all_bui = gdf_bui[~gdf_bui.osm_id.isin(all_found.osm_id)].reset_index(drop=True)"
   ]
  },
  {
   "cell_type": "code",
   "execution_count": null,
   "metadata": {},
   "outputs": [],
   "source": []
  },
  {
   "cell_type": "code",
   "execution_count": 116,
   "metadata": {},
   "outputs": [],
   "source": [
    "lst_all_clmn = list(all_found.columns)\n",
    "\n",
    "i=0\n",
    "for clmn in lst_all_clmn:\n",
    "    if clmn not in gdf_bui.columns:\n",
    "        all_bui[clmn] = None\n",
    "    #\n",
    "#"
   ]
  },
  {
   "cell_type": "code",
   "execution_count": 118,
   "metadata": {},
   "outputs": [],
   "source": [
    "all_bui = all_bui[lst_all_clmn]"
   ]
  },
  {
   "cell_type": "code",
   "execution_count": null,
   "metadata": {},
   "outputs": [],
   "source": []
  },
  {
   "cell_type": "code",
   "execution_count": 120,
   "metadata": {},
   "outputs": [],
   "source": [
    "all_bui = all_bui.append(all_found).reset_index(drop=True)"
   ]
  },
  {
   "cell_type": "code",
   "execution_count": null,
   "metadata": {},
   "outputs": [],
   "source": []
  },
  {
   "cell_type": "code",
   "execution_count": 121,
   "metadata": {},
   "outputs": [],
   "source": [
    "all_bui.to_file('all_bui.json',driver='GeoJSON',encoding='utf-8')"
   ]
  },
  {
   "cell_type": "code",
   "execution_count": null,
   "metadata": {},
   "outputs": [],
   "source": []
  },
  {
   "cell_type": "code",
   "execution_count": null,
   "metadata": {},
   "outputs": [],
   "source": []
  }
 ],
 "metadata": {
  "kernelspec": {
   "display_name": "Python 3",
   "language": "python",
   "name": "python3"
  },
  "language_info": {
   "codemirror_mode": {
    "name": "ipython",
    "version": 3
   },
   "file_extension": ".py",
   "mimetype": "text/x-python",
   "name": "python",
   "nbconvert_exporter": "python",
   "pygments_lexer": "ipython3",
   "version": "3.7.6"
  }
 },
 "nbformat": 4,
 "nbformat_minor": 4
}
