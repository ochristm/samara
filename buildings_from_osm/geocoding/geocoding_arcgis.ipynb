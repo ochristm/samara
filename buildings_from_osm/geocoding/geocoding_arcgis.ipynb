{
 "cells": [
  {
   "cell_type": "code",
   "execution_count": 14,
   "metadata": {},
   "outputs": [],
   "source": [
    "import pandas as pd\n",
    "import geopandas as gpd\n",
    "from tqdm.notebook import tqdm\n",
    "import time\n",
    "from datetime import datetime\n",
    "\n",
    "from geopy.geocoders import ArcGIS\n",
    "\n",
    "import shapely\n",
    "from shapely.geometry import Point, LineString, MultiLineString, Polygon\n",
    "\n",
    "import requests\n",
    "import re\n",
    "from bs4 import BeautifulSoup\n",
    "import json\n",
    "import urllib"
   ]
  },
  {
   "cell_type": "code",
   "execution_count": 2,
   "metadata": {},
   "outputs": [],
   "source": [
    "pd.options.mode.chained_assignment = None\n",
    "import warnings\n",
    "warnings.filterwarnings(\"ignore\")\n",
    "\n",
    "geolocator = ArcGIS()"
   ]
  },
  {
   "cell_type": "code",
   "execution_count": null,
   "metadata": {},
   "outputs": [],
   "source": []
  },
  {
   "cell_type": "code",
   "execution_count": null,
   "metadata": {},
   "outputs": [],
   "source": [
    "# https://www.reformagkh.ru/opendata?gid=2208161&page=8&pageSize=10\n",
    "df = pd.read_csv('./samara_building_ref.csv',sep=';',encoding='utf-8')\n",
    "df = df.reset_index(drop=True)\n",
    "df = df.reset_index()\n",
    "\n",
    "df_gcd = df#[['address','index']]\n",
    "df_gcd['address'] = 'Россия, Самарская область, ' + df_gcd['address']"
   ]
  },
  {
   "cell_type": "code",
   "execution_count": null,
   "metadata": {},
   "outputs": [],
   "source": []
  },
  {
   "cell_type": "code",
   "execution_count": null,
   "metadata": {},
   "outputs": [],
   "source": []
  },
  {
   "cell_type": "code",
   "execution_count": null,
   "metadata": {},
   "outputs": [],
   "source": [
    "def geocode_address(df,column):\n",
    "    print(datetime.now())\n",
    "    tm = round((len(df) / 1.7 / 60), 1)\n",
    "    print(\"Estimated time:{} minutes\".format(tm))\n",
    "    df['location'] = df[column].apply(geolocator.geocode, timeout=None)\n",
    "    df['lat'] = df['location'].apply(lambda x: x.latitude if x!=None else None)\n",
    "    df['lon'] = df['location'].apply(lambda x: x.longitude if x!=None else None)\n",
    "    print(datetime.now())\n",
    "    return df"
   ]
  },
  {
   "cell_type": "code",
   "execution_count": null,
   "metadata": {},
   "outputs": [],
   "source": [
    "def create_points(df):\n",
    "    np_dn = df.to_numpy()\n",
    "    ind_lat = list(df.columns).index('lat')\n",
    "    ind_lon = list(df.columns).index('lon')\n",
    "    ind_lct = list(df.columns).index('location')\n",
    "\n",
    "    lst_pnt=[]\n",
    "    lst_lctn = []\n",
    "    i=0\n",
    "    for i in range(len(np_dn)):\n",
    "        lat = np_dn[i,ind_lat]\n",
    "        lon = np_dn[i,ind_lon]\n",
    "        lctn = str(np_dn[i,ind_lct]).replace(')','').replace('(','')\n",
    "        lst_pnt.append(Point(lon,lat))\n",
    "        lst_lctn.append(lctn)\n",
    "    # \n",
    "\n",
    "    gdf_pt = gpd.GeoDataFrame(df,geometry=lst_pnt)\n",
    "    gdf_pt.crs='epsg:4326'\n",
    "    gdf_pt['location'] = lst_lctn\n",
    "\n",
    "    return gdf_pt"
   ]
  },
  {
   "cell_type": "code",
   "execution_count": null,
   "metadata": {},
   "outputs": [],
   "source": [
    "gdf_pt = geocode_address(df_gcd,'address')"
   ]
  },
  {
   "cell_type": "code",
   "execution_count": null,
   "metadata": {},
   "outputs": [],
   "source": [
    "gdf_pt = create_points(gdf_pt)"
   ]
  },
  {
   "cell_type": "code",
   "execution_count": null,
   "metadata": {},
   "outputs": [],
   "source": []
  },
  {
   "cell_type": "code",
   "execution_count": null,
   "metadata": {},
   "outputs": [],
   "source": [
    "gdf_pt = gdf_pt[['mun_obr_oktmo',\n",
    "                     'address',\n",
    "                    'architectural_monument_status',\n",
    "                    'total_sq',\n",
    "                    'total_rooms_amount',\n",
    "                    'living_rooms_amount',\n",
    "                    'living_rooms_with_nonresidental_amount',\n",
    "                    'total_rooms_sq',\n",
    "                    'living_rooms_sq',\n",
    "                    'living_rooms_with_nonresidental_sq',\n",
    "                    'total_ppl',\n",
    "                    'house_id', \n",
    "                     'location','lat', 'lon', 'geometry']]\n",
    "#"
   ]
  },
  {
   "cell_type": "code",
   "execution_count": null,
   "metadata": {},
   "outputs": [],
   "source": []
  },
  {
   "cell_type": "code",
   "execution_count": null,
   "metadata": {
    "scrolled": true
   },
   "outputs": [],
   "source": [
    "gdf_pt.to_file('gdf_pt_all2.json',driver='GeoJSON',encoding='utf-8')"
   ]
  },
  {
   "cell_type": "code",
   "execution_count": null,
   "metadata": {},
   "outputs": [],
   "source": []
  },
  {
   "cell_type": "code",
   "execution_count": 3,
   "metadata": {},
   "outputs": [],
   "source": [
    "gdf_pt = gpd.read_file('new_gdf_13.json',encoding='utf-8')"
   ]
  },
  {
   "cell_type": "code",
   "execution_count": null,
   "metadata": {},
   "outputs": [],
   "source": []
  },
  {
   "cell_type": "code",
   "execution_count": 4,
   "metadata": {},
   "outputs": [],
   "source": [
    "gdf_poly = gpd.read_file('./borders/outer_border_SO.shp',encoding='utf-8')"
   ]
  },
  {
   "cell_type": "code",
   "execution_count": 5,
   "metadata": {},
   "outputs": [],
   "source": [
    "gdf_poly.geometry = gdf_poly.geometry.to_crs('epsg:32637').buffer(100).to_crs('epsg:4326')"
   ]
  },
  {
   "cell_type": "code",
   "execution_count": null,
   "metadata": {},
   "outputs": [],
   "source": []
  },
  {
   "cell_type": "code",
   "execution_count": null,
   "metadata": {},
   "outputs": [],
   "source": []
  },
  {
   "cell_type": "code",
   "execution_count": 6,
   "metadata": {},
   "outputs": [
    {
     "name": "stdout",
     "output_type": "stream",
     "text": [
      "2020-07-30 09:41:01.032664\n",
      "Wall time: 1.2 s\n"
     ]
    }
   ],
   "source": [
    "print(datetime.now())\n",
    "%time pt_in_brdr = gpd.sjoin(gdf_pt, gdf_poly[['geometry']], how='inner',op='within')"
   ]
  },
  {
   "cell_type": "code",
   "execution_count": null,
   "metadata": {},
   "outputs": [],
   "source": []
  },
  {
   "cell_type": "code",
   "execution_count": 11,
   "metadata": {},
   "outputs": [],
   "source": [
    "pt_not_in_brdr = gdf_pt[~gdf_pt.address.isin(pt_in_brdr.address)].reset_index(drop=True)"
   ]
  },
  {
   "cell_type": "code",
   "execution_count": 9,
   "metadata": {},
   "outputs": [
    {
     "data": {
      "text/plain": [
       "13"
      ]
     },
     "execution_count": 9,
     "metadata": {},
     "output_type": "execute_result"
    }
   ],
   "source": [
    "len(pt_not_in_brdr)"
   ]
  },
  {
   "cell_type": "code",
   "execution_count": 15,
   "metadata": {},
   "outputs": [],
   "source": [
    "def find_js(lnk):\n",
    "    with requests.get(lnk, stream=True, timeout=25) as req:\n",
    "        bs = BeautifulSoup(req.text, 'html.parser')\n",
    "        all_scrpt = bs.find_all(\"script\")\n",
    "        for scr in all_scrpt:\n",
    "            if scr.get('type') == \"application/json\":\n",
    "                sc_ind = all_scrpt.index(scr)\n",
    "                break\n",
    "            else:\n",
    "                sc_ind=0\n",
    "        # \n",
    "        scrp_txt = all_scrpt[sc_ind].text\n",
    "        js = json.loads(scrp_txt)\n",
    "\n",
    "        return js"
   ]
  },
  {
   "cell_type": "code",
   "execution_count": null,
   "metadata": {},
   "outputs": [],
   "source": []
  },
  {
   "cell_type": "code",
   "execution_count": 30,
   "metadata": {},
   "outputs": [
    {
     "data": {
      "application/vnd.jupyter.widget-view+json": {
       "model_id": "d79963297eea47a19fdc1a878e81b0d0",
       "version_major": 2,
       "version_minor": 0
      },
      "text/plain": [
       "HBox(children=(FloatProgress(value=0.0, max=13.0), HTML(value='')))"
      ]
     },
     "metadata": {},
     "output_type": "display_data"
    },
    {
     "name": "stdout",
     "output_type": "stream",
     "text": [
      "\n"
     ]
    }
   ],
   "source": [
    "lst_addr = list(pt_not_in_brdr.address)\n",
    "\n",
    "lst_lon,lst_lat,lst_lctn,lst_pnt=[],[],[],[]\n",
    "\n",
    "i=0\n",
    "for i in tqdm(range(len(lst_addr))):\n",
    "    addr = 'Россия, Самарская область, ' + lst_addr[i]\n",
    "    str_qt = urllib.parse.quote(addr)\n",
    "    srch_ct = \"https://yandex.ru/maps/?text={}\".format(str_qt)\n",
    "    try:\n",
    "        js = find_js(srch_ct)\n",
    "        location = js['searchPreloadedResults']['items'][0]['address']\n",
    "        coords = js['searchPreloadedResults']['items'][0]['coordinates']\n",
    "        lon = coords[0]\n",
    "        lat = coords[1]\n",
    "    except:\n",
    "        print(addr)\n",
    "        lon,lat,location = 0.0,0.0,0\n",
    "    lst_lon.append(lon)\n",
    "    lst_lat.append(lat)\n",
    "    lst_lctn.append(location)\n",
    "    lst_pnt.append(Point(lon,lat))\n",
    "#\n"
   ]
  },
  {
   "cell_type": "code",
   "execution_count": null,
   "metadata": {},
   "outputs": [],
   "source": []
  },
  {
   "cell_type": "code",
   "execution_count": null,
   "metadata": {},
   "outputs": [],
   "source": []
  },
  {
   "cell_type": "code",
   "execution_count": 35,
   "metadata": {},
   "outputs": [],
   "source": [
    "new_find = pt_not_in_brdr.copy()\n",
    "new_find['location'] = lst_lctn\n",
    "new_find['lat'] = lst_lat\n",
    "new_find['lon'] = lst_lon\n",
    "new_find['geometry'] = lst_pnt\n"
   ]
  },
  {
   "cell_type": "code",
   "execution_count": null,
   "metadata": {},
   "outputs": [],
   "source": []
  },
  {
   "cell_type": "code",
   "execution_count": 38,
   "metadata": {},
   "outputs": [],
   "source": [
    "gdf_ok = pt_in_brdr.append(new_find).reset_index(drop=True)"
   ]
  },
  {
   "cell_type": "code",
   "execution_count": 40,
   "metadata": {},
   "outputs": [],
   "source": [
    "gdf_ok.to_file('gdf_ok.json',driver='GeoJSON',encoding='utf-8')"
   ]
  },
  {
   "cell_type": "code",
   "execution_count": null,
   "metadata": {},
   "outputs": [],
   "source": []
  }
 ],
 "metadata": {
  "kernelspec": {
   "display_name": "Python 3",
   "language": "python",
   "name": "python3"
  },
  "language_info": {
   "codemirror_mode": {
    "name": "ipython",
    "version": 3
   },
   "file_extension": ".py",
   "mimetype": "text/x-python",
   "name": "python",
   "nbconvert_exporter": "python",
   "pygments_lexer": "ipython3",
   "version": "3.7.6"
  }
 },
 "nbformat": 4,
 "nbformat_minor": 4
}
