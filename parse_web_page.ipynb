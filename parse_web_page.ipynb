{
 "cells": [
  {
   "cell_type": "code",
   "execution_count": 1,
   "metadata": {},
   "outputs": [],
   "source": [
    "import pandas as pd\n",
    "from bs4 import BeautifulSoup\n",
    "import requests "
   ]
  },
  {
   "cell_type": "code",
   "execution_count": null,
   "metadata": {},
   "outputs": [],
   "source": []
  },
  {
   "cell_type": "code",
   "execution_count": 2,
   "metadata": {},
   "outputs": [],
   "source": [
    "url=\"http://www.samaratrans.info/wiki/index.php/%D0%A1%D0%B0%D0%BC%D0%B0%D1%80%D0%B0_%D0%B0%D0%B2%D1%82%D0%BE%D0%B1%D1%83%D1%81_1\"\n"
   ]
  },
  {
   "cell_type": "code",
   "execution_count": null,
   "metadata": {},
   "outputs": [],
   "source": []
  },
  {
   "cell_type": "code",
   "execution_count": 126,
   "metadata": {},
   "outputs": [],
   "source": [
    "def getInfo(url):\n",
    "    req = requests.get(url)\n",
    "    bs = BeautifulSoup(req.text, 'html.parser')\n",
    "\n",
    "\n",
    "\n",
    "    #!!!!!!!!!!!!!!!!!!!\n",
    "    # region = \n",
    "    region='муниципальный'\n",
    "    #!!!!!!!!!!!!!!!!!!!\n",
    "\n",
    "\n",
    "\n",
    "    # str_url = urllib.parse.unquote(url.rsplit('/',1)[1])\n",
    "    str_url = url.rsplit('/',1)[1]\n",
    "    lst = str_url.split(\"_\")\n",
    "    # 2 - номер маршрута\n",
    "    nmbr = lst[-1]\n",
    "    # 1 - тип транспорта\n",
    "    tp_ts = lst[-2]\n",
    "    # rt_nmbr = url.rsplit(\"_\",1)[1]\n",
    "\n",
    "    def getTable(table_rows):\n",
    "        l = []\n",
    "        for tr in table_rows:\n",
    "            try:\n",
    "                td = tr.find_all('td')\n",
    "                row = [tr.text for tr in td]\n",
    "                l.append(row)\n",
    "            except:\n",
    "                pass\n",
    "        #\n",
    "        return l\n",
    "    #\n",
    "    # 2 - содержание\n",
    "    # 3 - маршрут следования\n",
    "    # 5 - оп в прямом направлении\n",
    "    # 6 - оп в обратном направлении\n",
    "    # 7 - особенности работы\n",
    "    # 8 - расписание (две версии, для регионов!!)\n",
    "\n",
    "    all_tables = bs.find_all(\"table\")\n",
    "    l2 = getTable(all_tables[2])\n",
    "    l3 = getTable(all_tables[3])\n",
    "    l5 = getTable(all_tables[5])\n",
    "    l6 = getTable(all_tables[6])\n",
    "    l7 = getTable(all_tables[7])\n",
    "    l8 = getTable(all_tables[8])\n",
    "\n",
    "    ####\n",
    "    # 3 - наименование маршрута\n",
    "    str1 = l2[0][0]\n",
    "    str1 = str1.replace(\"\\n\\n\",\"\\n\")\n",
    "    rt_nm = str1.split(\"\\n\")[1][2:].split(\"№\")[1]\n",
    "    rt_nm = rt_nm.split('\"', 1)[1][:-1]\n",
    "\n",
    "    ####\n",
    "    # 4 -маршрут следования\n",
    "    route_frw = l3[0][1]\n",
    "    route_bckw = l3[1][1]\n",
    "    ####\n",
    "\n",
    "    ####\n",
    "    # 5,6 - список оп\n",
    "    def stops(l):\n",
    "    #\n",
    "        str_all=''\n",
    "        for row in l[2:]:\n",
    "            rw = []\n",
    "            for i in row:\n",
    "                i = i.replace(\"\\n\",\"\")\n",
    "                rw.append(i)\n",
    "            str1 = rw[1]\n",
    "            str_all = str_all + \"_\" + str1\n",
    "        #\n",
    "        str_all = str_all[1:]\n",
    "        return str_all\n",
    "    # \n",
    "    stops_frw = stops(l5)\n",
    "    stops_bckw = stops(l6)\n",
    "    ####\n",
    "\n",
    "    ####\n",
    "    # 7) Режим работы\n",
    "    # 8) Интервалы движения\n",
    "    # 9) Выпуск на линию\n",
    "    # 10) Время в пути\n",
    "    # 11) Протяжённость маршрута\n",
    "    # 12) Обслуживающие предприятия\n",
    "    # 13) Подвижной состав\n",
    "    # 14) Стоимость проезда\n",
    "    # 15) Место отстоя \n",
    "\n",
    "    nlst = []\n",
    "    for row in l7:\n",
    "        tmplst = []\n",
    "        for j in row:\n",
    "            j = j.replace(\"\\n\",\"\")\n",
    "            tmplst.append(j)\n",
    "        nlst.append(tmplst)\n",
    "    # \n",
    "\n",
    "    work_time = nlst[0][1]\n",
    "    intervs = nlst[1][1]\n",
    "    amnt_mch = nlst[2][1]\n",
    "    duration = nlst[3][1]\n",
    "    length = nlst[4][1]\n",
    "    orgnztn = nlst[5][1]\n",
    "    podv_sost = nlst[6][1]\n",
    "    payment = nlst[7][1]\n",
    "    place_rest = nlst[8][1]\n",
    "    ####\n",
    "\n",
    "\n",
    "    # get all to list\n",
    "    lst_all = [tp_ts,region,nmbr,rt_nm,route_frw,route_bckw,stops_frw,stops_bckw,\n",
    "                    work_time,intervs,amnt_mch,duration,length,orgnztn,podv_sost,payment,place_rest,url]\n",
    "    #\n",
    "    return lst_all"
   ]
  },
  {
   "cell_type": "code",
   "execution_count": null,
   "metadata": {},
   "outputs": [],
   "source": []
  },
  {
   "cell_type": "code",
   "execution_count": 127,
   "metadata": {},
   "outputs": [],
   "source": [
    "lst1 = getInfo(url)"
   ]
  },
  {
   "cell_type": "code",
   "execution_count": 130,
   "metadata": {},
   "outputs": [
    {
     "data": {
      "text/plain": [
       "'%D0%B0%D0%B2%D1%82%D0%BE%D0%B1%D1%83%D1%81'"
      ]
     },
     "execution_count": 130,
     "metadata": {},
     "output_type": "execute_result"
    }
   ],
   "source": [
    "lst1[0]"
   ]
  },
  {
   "cell_type": "code",
   "execution_count": null,
   "metadata": {},
   "outputs": [],
   "source": []
  },
  {
   "cell_type": "code",
   "execution_count": null,
   "metadata": {},
   "outputs": [],
   "source": []
  },
  {
   "cell_type": "code",
   "execution_count": null,
   "metadata": {},
   "outputs": [],
   "source": []
  },
  {
   "cell_type": "code",
   "execution_count": null,
   "metadata": {},
   "outputs": [],
   "source": []
  },
  {
   "cell_type": "code",
   "execution_count": 98,
   "metadata": {},
   "outputs": [
    {
     "name": "stdout",
     "output_type": "stream",
     "text": [
      "8-20\n"
     ]
    }
   ],
   "source": [
    "# reg = re.compile('[^0-9-]')\n",
    "# one_line = df['data'][1].split(\" мин\")[0]\n",
    "# if \"раб\" in one_line:\n",
    "#     one_line2 = one_line.split(\":\")[1]\n",
    "#     one_line2 = reg.sub('', one_line2)\n",
    "#     print(one_line2)"
   ]
  },
  {
   "cell_type": "code",
   "execution_count": null,
   "metadata": {},
   "outputs": [],
   "source": []
  },
  {
   "cell_type": "code",
   "execution_count": null,
   "metadata": {},
   "outputs": [],
   "source": []
  },
  {
   "cell_type": "code",
   "execution_count": null,
   "metadata": {},
   "outputs": [],
   "source": [
    "# проверять table title\n",
    "# \"href\""
   ]
  },
  {
   "cell_type": "code",
   "execution_count": null,
   "metadata": {},
   "outputs": [],
   "source": []
  },
  {
   "cell_type": "code",
   "execution_count": 13,
   "metadata": {},
   "outputs": [],
   "source": [
    "url=\"http://www.samaratrans.info/wiki/index.php/%D0%97%D0%B0%D0%B3%D0%BB%D0%B0%D0%B2%D0%BD%D0%B0%D1%8F_%D1%81%D1%82%D1%80%D0%B0%D0%BD%D0%B8%D1%86%D0%B0\"\n"
   ]
  },
  {
   "cell_type": "code",
   "execution_count": 14,
   "metadata": {},
   "outputs": [],
   "source": [
    "req = requests.get(url)\n",
    "bs = BeautifulSoup(req.text, 'html.parser')"
   ]
  },
  {
   "cell_type": "code",
   "execution_count": null,
   "metadata": {},
   "outputs": [],
   "source": []
  },
  {
   "cell_type": "code",
   "execution_count": 35,
   "metadata": {},
   "outputs": [],
   "source": [
    "def getLinks(url):\n",
    "    req = requests.get(url)\n",
    "    soup = BeautifulSoup(req.text, 'html.parser')\n",
    "#     html_page = urllib2.urlopen(url)\n",
    "#     soup = BeautifulSoup(html_page)\n",
    "    links = []\n",
    "\n",
    "    for link in soup.findAll('a', attrs={'href': re.compile(\"^http://\")}):\n",
    "        links.append(link.get('href'))\n",
    "\n",
    "    return links"
   ]
  },
  {
   "cell_type": "code",
   "execution_count": 36,
   "metadata": {},
   "outputs": [],
   "source": [
    "links = getLinks(url)"
   ]
  },
  {
   "cell_type": "code",
   "execution_count": 34,
   "metadata": {},
   "outputs": [],
   "source": [
    "import re"
   ]
  },
  {
   "cell_type": "code",
   "execution_count": null,
   "metadata": {},
   "outputs": [],
   "source": []
  },
  {
   "cell_type": "code",
   "execution_count": 42,
   "metadata": {},
   "outputs": [],
   "source": [
    "new_links = []\n",
    "\n",
    "for elem in links:\n",
    "#     if \"http://www.samaratrans.info/wiki/index.php/Самара_\" in elem:\n",
    "    if \"маршрут\" in elem:\n",
    "        new_links.append(elem)"
   ]
  },
  {
   "cell_type": "code",
   "execution_count": null,
   "metadata": {},
   "outputs": [],
   "source": []
  },
  {
   "cell_type": "code",
   "execution_count": 45,
   "metadata": {
    "scrolled": true
   },
   "outputs": [
    {
     "data": {
      "text/plain": [
       "['http://www.samaratrans.info/wiki/index.php/Самара_автобус_маршруты',\n",
       " 'http://www.samaratrans.info/wiki/index.php/Самара_автобус_коммерческий_маршруты',\n",
       " 'http://www.samaratrans.info/wiki/index.php/Самара_автобус_сезонный_маршруты',\n",
       " 'http://www.samaratrans.info/wiki/index.php/Самара_автобус_специальный_маршруты',\n",
       " 'http://www.samaratrans.info/wiki/index.php/Самара_трамвай_маршруты',\n",
       " 'http://www.samaratrans.info/wiki/index.php/Самара_троллейбус_маршруты']"
      ]
     },
     "execution_count": 45,
     "metadata": {},
     "output_type": "execute_result"
    }
   ],
   "source": [
    "new_links"
   ]
  },
  {
   "cell_type": "code",
   "execution_count": 46,
   "metadata": {},
   "outputs": [],
   "source": [
    "url = new_links[0]"
   ]
  },
  {
   "cell_type": "code",
   "execution_count": 49,
   "metadata": {},
   "outputs": [],
   "source": [
    "req = requests.get(url)\n",
    "soup = BeautifulSoup(req.text, 'html.parser')"
   ]
  },
  {
   "cell_type": "code",
   "execution_count": 83,
   "metadata": {},
   "outputs": [],
   "source": [
    "links=[]\n",
    "stfa = soup.find_all(\"table\")[-3].find_all('a')\n",
    "for link in stfa:\n",
    "    lsh = link.get('href')\n",
    "    lsh = 'http://www.samaratrans.info' + lsh\n",
    "    links.append(lsh)\n",
    "# "
   ]
  },
  {
   "cell_type": "code",
   "execution_count": null,
   "metadata": {},
   "outputs": [],
   "source": []
  },
  {
   "cell_type": "code",
   "execution_count": null,
   "metadata": {},
   "outputs": [],
   "source": []
  }
 ],
 "metadata": {
  "kernelspec": {
   "display_name": "Python 3",
   "language": "python",
   "name": "python3"
  },
  "language_info": {
   "codemirror_mode": {
    "name": "ipython",
    "version": 3
   },
   "file_extension": ".py",
   "mimetype": "text/x-python",
   "name": "python",
   "nbconvert_exporter": "python",
   "pygments_lexer": "ipython3",
   "version": "3.7.3"
  }
 },
 "nbformat": 4,
 "nbformat_minor": 4
}
