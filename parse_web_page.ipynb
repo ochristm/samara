{
 "cells": [
  {
   "cell_type": "code",
   "execution_count": 1,
   "metadata": {},
   "outputs": [],
   "source": [
    "import pandas as pd\n",
    "from bs4 import BeautifulSoup\n",
    "import requests\n",
    "import re\n",
    "import urllib"
   ]
  },
  {
   "cell_type": "code",
   "execution_count": null,
   "metadata": {},
   "outputs": [],
   "source": []
  },
  {
   "cell_type": "code",
   "execution_count": null,
   "metadata": {},
   "outputs": [],
   "source": [
    "# url=\"http://www.samaratrans.info/wiki/index.php/%D0%A1%D0%B0%D0%BC%D0%B0%D1%80%D0%B0_%D0%B0%D0%B2%D1%82%D0%BE%D0%B1%D1%83%D1%81_1\"\n"
   ]
  },
  {
   "cell_type": "code",
   "execution_count": null,
   "metadata": {},
   "outputs": [],
   "source": []
  },
  {
   "cell_type": "code",
   "execution_count": 363,
   "metadata": {},
   "outputs": [],
   "source": [
    "def getInfo(url,grp_name,city):\n",
    "    req = requests.get(url)\n",
    "    bs = BeautifulSoup(req.text, 'html.parser')\n",
    "    \n",
    "    region = grp_name\n",
    "#     region='муниципальный'\n",
    "    str_url = checkEnd(url)\n",
    "    \n",
    "    lst = str_url.split(\"_\")\n",
    "    # 2 - номер маршрута\n",
    "    nmbr = lst[-1]\n",
    "    # 1 - тип транспорта\n",
    "    tp_ts = lst[-2]\n",
    "    # rt_nmbr = url.rsplit(\"_\",1)[1]\n",
    "\n",
    "    def getTable(table_rows):\n",
    "        l = []\n",
    "        for tr in table_rows:\n",
    "            try:\n",
    "                td = tr.find_all('td')\n",
    "                row = [tr.text for tr in td]\n",
    "                l.append(row)\n",
    "            except:\n",
    "                pass\n",
    "        #\n",
    "        return l\n",
    "    #\n",
    "    # 2 - содержание\n",
    "    # 3 - маршрут следования\n",
    "    # 5 - оп в прямом направлении\n",
    "    # 6 - оп в обратном направлении\n",
    "    # 7 - особенности работы\n",
    "    # 8 - расписание (две версии, для регионов!!)\n",
    "\n",
    "    #####\n",
    "\n",
    "    all_tables = bs.find_all(\"table\")\n",
    "    # l2 = getTable(all_tables[2])\n",
    "    # l3 = getTable(all_tables[3])\n",
    "    # l5 = getTable(all_tables[5])\n",
    "    # l6 = getTable(all_tables[6])\n",
    "    # l7 = getTable(all_tables[7])\n",
    "    # l8 = getTable(all_tables[8])\n",
    "\n",
    "    #######\n",
    "    l2,l3,l4,l5,l6,l7,l8 = [],[],[],[],[],[],[]\n",
    "    for i in range(len(all_tables)):\n",
    "        l = getTable(all_tables[i])\n",
    "        if 'Содержание'in l[0][0]:\n",
    "            l2 = l\n",
    "        elif ('направление'in l[0][0]) & (len(l[0][0]) < 40):\n",
    "            try: \n",
    "                tmp = l[1][0]\n",
    "            except:\n",
    "                tmp = ''\n",
    "            if ('прям' in l[0][0]) | ('прям' in tmp):\n",
    "                if '№п' not in tmp:\n",
    "                    l3 = l\n",
    "                else:\n",
    "                    l5 = l\n",
    "            elif ('обратн' in l[0][0]) | ('обратн' in tmp):\n",
    "                if '№п' in tmp:\n",
    "                    l6 = l\n",
    "            #\n",
    "        elif ('обратное'in l[0][0]) & (len(l[0][0]) < 40):\n",
    "            try: \n",
    "                tmp = l[1][0]\n",
    "            except:\n",
    "                tmp = ''\n",
    "            if '№п' in tmp:\n",
    "                l6 = l\n",
    "        elif 'работы'in l[0][0]:\n",
    "            l7 = l\n",
    "        else:\n",
    "            l8 = l\n",
    "    # \n",
    "    #######\n",
    "    \n",
    "    \n",
    "    ###\n",
    "    # если кольцевой!!!\n",
    "#     if ['обратное направление\\n'] not in l6:\n",
    "#         l8 = l7\n",
    "#         l7 = l6\n",
    "    ###\n",
    "\n",
    "    ####\n",
    "    # 3 - наименование маршрута\n",
    "    str1 = l2[0][0]\n",
    "    str1 = str1.replace(\"\\n\\n\",\"\\n\")\n",
    "    rt_nm = str1.split(\"\\n\")[1][2:].split(\"маршрут \")[1]\n",
    "#     rt_nm = str1.split(\"\\n\")[1][2:].split(\"№\")[1]\n",
    "    rt_nm = rt_nm.split('\"', 1)[1][:-1]\n",
    "\n",
    "    ####\n",
    "    # 4 -маршрут следования\n",
    "    route_frw = l3[0][1]\n",
    "    try:\n",
    "        route_bckw = l3[1][1]\n",
    "    except:\n",
    "        route_bckw = 'кольцевой'\n",
    "    ####\n",
    "\n",
    "    ####\n",
    "    # 5,6 - список оп\n",
    "    def stops(l):\n",
    "    #\n",
    "        str_all=''\n",
    "        for row in l[2:]:\n",
    "            rw = []\n",
    "            for i in row:\n",
    "                i = i.replace(\"\\n\",\"\")\n",
    "                rw.append(i)\n",
    "            str1 = rw[1]\n",
    "            str_all = str_all + \"_\" + str1\n",
    "        #\n",
    "        str_all = str_all[1:]\n",
    "        return str_all\n",
    "    # \n",
    "    stops_frw = stops(l5)\n",
    "    try:\n",
    "        stops_bckw = stops(l6)\n",
    "    except:\n",
    "        stops_bckw = 'кольцевой'\n",
    "    ####\n",
    "\n",
    "    ####\n",
    "    # 7) Режим работы\n",
    "    # 8) Интервалы движения\n",
    "    # 9) Выпуск на линию\n",
    "    # 10) Время в пути\n",
    "    # 11) Протяжённость маршрута\n",
    "    # 12) Обслуживающие предприятия\n",
    "    # 13) Подвижной состав\n",
    "    # 14) Стоимость проезда\n",
    "    # 15) Место отстоя \n",
    "\n",
    "    nlst = []\n",
    "    for row in l7:\n",
    "        tmplst = []\n",
    "        for j in row:\n",
    "            j = j.replace(\"\\n\",\"\")\n",
    "            tmplst.append(j)\n",
    "        nlst.append(tmplst)\n",
    "    # \n",
    "    \n",
    "    lst_all = [city,tp_ts,region,nmbr,rt_nm,route_frw,route_bckw,stops_frw,stops_bckw]\n",
    "#                     work_time,intervs,amnt_mch,duration,length,orgnztn,podv_sost,payment,place_rest,url]\n",
    "    \n",
    "    def foo(nlst,i):\n",
    "        return nlst[i][1]\n",
    "\n",
    "    for i in range(9):\n",
    "        try: \n",
    "            tmp = foo(nlst,i)\n",
    "        except:\n",
    "            tmp = None\n",
    "        lst_all.append(tmp)\n",
    "    # \n",
    "    lst_all.append(url)\n",
    "\n",
    "\n",
    "#     work_time = nlst[0][1]\n",
    "#     intervs = nlst[1][1]\n",
    "#     amnt_mch = nlst[2][1]\n",
    "#     duration = nlst[3][1]\n",
    "#     length = nlst[4][1]\n",
    "#     orgnztn = nlst[5][1]\n",
    "#     podv_sost = nlst[6][1]\n",
    "#     payment = nlst[7][1]\n",
    "#     place_rest = nlst[8][1]\n",
    "#     ####\n",
    "\n",
    "\n",
    "#     # get all to list\n",
    "#     lst_all = [city,tp_ts,region,nmbr,rt_nm,route_frw,route_bckw,stops_frw,stops_bckw,\n",
    "#                     work_time,intervs,amnt_mch,duration,length,orgnztn,podv_sost,payment,place_rest,url]\n",
    "#     #\n",
    "    return lst_all"
   ]
  },
  {
   "cell_type": "code",
   "execution_count": 376,
   "metadata": {},
   "outputs": [],
   "source": [
    "def getInfo2(url,grp_name,city):\n",
    "    # Сызрань спешл\n",
    "    req = requests.get(url)\n",
    "    bs = BeautifulSoup(req.text, 'html.parser')\n",
    "    \n",
    "    region = grp_name\n",
    "#     region='муниципальный'\n",
    "    str_url = checkEnd(url)\n",
    "    \n",
    "    lst = str_url.split(\"_\")\n",
    "    # 2 - номер маршрута\n",
    "    nmbr = lst[-1]\n",
    "    # 1 - тип транспорта\n",
    "    tp_ts = lst[-2]\n",
    "    # rt_nmbr = url.rsplit(\"_\",1)[1]\n",
    "\n",
    "    def getTable(table_rows):\n",
    "        l = []\n",
    "        for tr in table_rows:\n",
    "            try:\n",
    "                td = tr.find_all('td')\n",
    "                row = [tr.text for tr in td]\n",
    "                l.append(row)\n",
    "            except:\n",
    "                pass\n",
    "        #\n",
    "        return l\n",
    "    #\n",
    "    # 2 - содержание\n",
    "    # 3 - маршрут следования\n",
    "    # 5 - оп в прямом направлении\n",
    "    # 6 - оп в обратном направлении\n",
    "    # 7 - особенности работы\n",
    "    # 8 - расписание (две версии, для регионов!!)\n",
    "\n",
    "    #####\n",
    "\n",
    "    all_tables = bs.find_all(\"table\")\n",
    "    \n",
    "        # 3 - наименование маршрута\n",
    "    rt_nm = str(bs.find_all('b')[2]).replace(\"<b>\",\"\").replace(\"</b>\",\"\")\n",
    "\n",
    "    def getLines(lst_s,nmb):\n",
    "        lst_ok = []\n",
    "\n",
    "        for i in range(len(lst_s)):\n",
    "            lst1 = lst_s[i][nmb].split(\"\\n\")\n",
    "            for s in lst1:\n",
    "                if s != '':\n",
    "                    lst_ok.append(s)\n",
    "        # \n",
    "        return lst_ok\n",
    "\n",
    "    def stops(lst_s,nmb):\n",
    "        lst_ok = getLines(lst_s,nmb)\n",
    "\n",
    "        str1=''\n",
    "        for row in lst_ok:\n",
    "            if row != '\\n':\n",
    "                row = row.replace(\"\\n\", \"\")\n",
    "                str1 = str1 + \"_\" + row\n",
    "        # \n",
    "        str1 = str1[1:]\n",
    "        return str1\n",
    "\n",
    "    ####\n",
    "    \n",
    "    i=0\n",
    "    for i in range(len(all_tables)):\n",
    "        l = getTable(all_tables[i])\n",
    "        if \"в сторону\" in l[0][0]:\n",
    "            l5 = getTable(all_tables[i+2])\n",
    "            l6 = getTable(all_tables[i+3])\n",
    "            break\n",
    "        else:\n",
    "            l5 = getTable(all_tables[5])\n",
    "            l6 = getTable(all_tables[6])\n",
    "    # \n",
    "\n",
    "    ####\n",
    "    # 4 -маршрут следования\n",
    "\n",
    "    route_frw = stops(l5,0)\n",
    "    try:\n",
    "        route_bckw = stops(l6,0)\n",
    "    except:\n",
    "        route_bckw = 'кольцевой'\n",
    "    ####\n",
    "\n",
    "    # 5,6 - список оп\n",
    "    stops_frw = stops(l5,1)\n",
    "    try:\n",
    "        stops_bckw = stops(l6,1)\n",
    "    except:\n",
    "        stops_bckw = 'кольцевой'\n",
    "    ####\n",
    "    \n",
    "    nlst = []\n",
    "    \n",
    "    lst_all = [city,tp_ts,region,nmbr,rt_nm,route_frw,route_bckw,stops_frw,stops_bckw]\n",
    "#                     work_time,intervs,amnt_mch,duration,length,orgnztn,podv_sost,payment,place_rest,url]\n",
    "    \n",
    "    def foo(nlst,i):\n",
    "        return nlst[i][1]\n",
    "\n",
    "    for i in range(9):\n",
    "        try: \n",
    "            tmp = foo(nlst,i)\n",
    "        except:\n",
    "            tmp = None\n",
    "        lst_all.append(tmp)\n",
    "    # \n",
    "    lst_all.append(url)\n",
    "    \n",
    "    return lst_all"
   ]
  },
  {
   "cell_type": "code",
   "execution_count": 2,
   "metadata": {},
   "outputs": [],
   "source": [
    "def checkGrpNm(tmp_grp_nm):\n",
    "    if tmp_grp_nm == 'маршруты':\n",
    "        grp_name = 'муниципальный'\n",
    "    elif  tmp_grp_nm == 'коммерческий_маршруты':\n",
    "        grp_name = 'коммерческий'\n",
    "    elif  tmp_grp_nm == 'пригородный_расписания':\n",
    "        grp_name = 'пригородный'\n",
    "    elif  tmp_grp_nm == 'сезонный_маршруты':\n",
    "        grp_name = 'сезонный'\n",
    "    elif  tmp_grp_nm == 'междугородный_расписания':\n",
    "        grp_name = 'междугородний'\n",
    "    else:\n",
    "        grp_name = tmp_grp_nm\n",
    "    # \n",
    "    return grp_name"
   ]
  },
  {
   "cell_type": "code",
   "execution_count": 3,
   "metadata": {},
   "outputs": [],
   "source": [
    "def checkEnd(url):\n",
    "    the_string = url.rsplit('php/',1)[1]\n",
    "    srch = re.search('[а-яА-Я]', the_string) \n",
    "    if srch == None:\n",
    "        str_url = urllib.parse.unquote(the_string)\n",
    "    else:\n",
    "        str_url = the_string\n",
    "    #\n",
    "    return str_url"
   ]
  },
  {
   "cell_type": "code",
   "execution_count": 4,
   "metadata": {},
   "outputs": [],
   "source": [
    "# \n",
    "def linksCity(city):\n",
    "\n",
    "    url_grp = 'http://www.samaratrans.info/wiki/index.php/' + city\n",
    "    req = requests.get(url_grp)\n",
    "    bs = BeautifulSoup(req.text, 'html.parser')\n",
    "    stfa = bs.find_all('a')\n",
    "    links=[]\n",
    "    for link in stfa:\n",
    "        try:\n",
    "            if 'маршрут' in link.get(\"title\"):\n",
    "                lsh = 'http://www.samaratrans.info' + link.get(\"href\")\n",
    "                if lsh not in links:\n",
    "                    links.append(lsh)\n",
    "        except:\n",
    "            pass\n",
    "    # \n",
    "    return links"
   ]
  },
  {
   "cell_type": "code",
   "execution_count": 5,
   "metadata": {},
   "outputs": [],
   "source": [
    "# def linksCity(city):\n",
    "#     lst_links_city = []\n",
    "#     lst_types = ['автобус', 'троллейбус', 'трамвай']\n",
    "#     lst_route_type = ['маршруты','коммерческий_маршруты', \n",
    "#                   'пригородный_расписания','сезонный_маршруты','междугородный_расписания']\n",
    "#     #\n",
    "#     city_link = 'http://www.samaratrans.info/wiki/index.php/' + city\n",
    "#     i=0\n",
    "#     for i in range(len(lst_types)):\n",
    "#         tp_link = city_link + '_' + lst_types[i] + '_' + lst_route_type[0]\n",
    "#         lst_links_city.append(tp_link)\n",
    "#     #\n",
    "#     bus_link = city_link + '_' + lst_types[0]\n",
    "    \n",
    "#     i=0\n",
    "#     for i in range(1,len(lst_route_type)):\n",
    "#         link = bus_link + '_' + lst_route_type[i]\n",
    "#         lst_links_city.append(link)\n",
    "#     #\n",
    "#     return lst_links_city"
   ]
  },
  {
   "cell_type": "code",
   "execution_count": 6,
   "metadata": {},
   "outputs": [],
   "source": [
    "def getTable(table_rows):\n",
    "    l = []\n",
    "    for tr in table_rows:\n",
    "        try:\n",
    "            td = tr.find_all('td')\n",
    "            row = [tr.text for tr in td]\n",
    "            l.append(row)\n",
    "        except:\n",
    "            pass\n",
    "    #\n",
    "    return l"
   ]
  },
  {
   "cell_type": "code",
   "execution_count": 21,
   "metadata": {},
   "outputs": [],
   "source": [
    "def routeLinks(url_grp):\n",
    "    links=[]\n",
    "    req = requests.get(url_grp)\n",
    "    bs = BeautifulSoup(req.text, 'html.parser')\n",
    "    stfa = bs.find_all('table')\n",
    "    \n",
    "    cnt=2\n",
    "    for i in range(len(stfa)):\n",
    "        table_rows = stfa[i]\n",
    "        l = getTable(table_rows)\n",
    "        if 'Наименование маршрута\\n' in l[0]:\n",
    "            cnt = i\n",
    "            break\n",
    "    # \n",
    "    lst_find = stfa[cnt].find_all('a')\n",
    "    for link in lst_find:\n",
    "        try:\n",
    "            lst_notok = ['расписан', 'парк', '.gif', '.png', 'перевозчик', 'edit', 'ТД', 'ТТУ']\n",
    "            lnk_hr = link.get(\"href\")\n",
    "            ch = checkEnd(lnk_hr)\n",
    "            if not any((c in ch) for c in lst_notok):\n",
    "                lsh = 'http://www.samaratrans.info' + lnk_hr\n",
    "                if lsh not in links:\n",
    "                    links.append(lsh)\n",
    "        except:\n",
    "            pass\n",
    "    # \n",
    "    return links"
   ]
  },
  {
   "cell_type": "code",
   "execution_count": null,
   "metadata": {},
   "outputs": [],
   "source": []
  },
  {
   "cell_type": "code",
   "execution_count": null,
   "metadata": {},
   "outputs": [],
   "source": []
  },
  {
   "cell_type": "code",
   "execution_count": 349,
   "metadata": {},
   "outputs": [],
   "source": [
    "def getCityData(city):\n",
    "    lst_links = []\n",
    "    lst_links = linksCity(city)\n",
    "    all_routes=[]\n",
    "    for grp in range(len(lst_links)):\n",
    "        tmp_grp_nm = checkEnd(lst_links[grp]).split(\"_\",2)[-1]\n",
    "        grp_name = checkGrpNm(tmp_grp_nm)\n",
    "        \n",
    "        try:\n",
    "            lst_group = []\n",
    "            lst_group = routeLinks(lst_links[grp])\n",
    "        except:\n",
    "            lst_group = []\n",
    "        for rtl in range(len(lst_group)):\n",
    "            try:\n",
    "                tmp_lnk_nm = checkEnd(lst_group[rtl])\n",
    "                lst_notok = ['расписан', 'парк', '.gif', '.png', 'перевозчик', 'edit', 'ТД', 'ТТУ']\n",
    "                if not any((c in tmp_lnk_nm) for c in lst_notok):\n",
    "                    try:\n",
    "                        one_route = getInfo(lst_group[rtl],grp_name,city)\n",
    "                    except:\n",
    "                        one_route = getInfo2(lst_group[rtl],grp_name,city)\n",
    "                    all_routes.append(one_route)\n",
    "                #\n",
    "            except:\n",
    "                one_route = [lst_group[rtl]] * 19\n",
    "                if one_route not in all_routes:\n",
    "                    all_routes.append(one_route)\n",
    "                #\n",
    "    return all_routes\n",
    "# "
   ]
  },
  {
   "cell_type": "code",
   "execution_count": null,
   "metadata": {},
   "outputs": [],
   "source": []
  },
  {
   "cell_type": "code",
   "execution_count": null,
   "metadata": {},
   "outputs": [],
   "source": []
  },
  {
   "cell_type": "code",
   "execution_count": 350,
   "metadata": {},
   "outputs": [],
   "source": [
    "lst_ct = ['Самара', 'Тольятти', 'Сызрань', 'Новокуйбышевск', \n",
    "          'Чапаевск', 'Жигулевск', 'Отрадный', 'Кинель', 'Похвистнево', 'Безенчук']\n",
    "# lst_ct = ['Самара', 'Тольятти', 'Новокуйбышевск', \n",
    "#           'Чапаевск', 'Жигулевск', 'Отрадный', 'Кинель', 'Похвистнево', 'Безенчук']"
   ]
  },
  {
   "cell_type": "code",
   "execution_count": 377,
   "metadata": {
    "scrolled": true
   },
   "outputs": [
    {
     "name": "stdout",
     "output_type": "stream",
     "text": [
      "Самара\n",
      "Тольятти\n",
      "Сызрань\n",
      "Новокуйбышевск\n",
      "Чапаевск\n",
      "Жигулевск\n",
      "Отрадный\n",
      "Кинель\n",
      "Похвистнево\n",
      "Безенчук\n"
     ]
    }
   ],
   "source": [
    "lst_big = []\n",
    "for i in range(len(lst_ct)):\n",
    "    city = lst_ct[i]\n",
    "    print(city)\n",
    "    lst = getCityData(city)\n",
    "#     print(len(lst_big))\n",
    "    lst_big = lst_big + lst\n",
    "#     print(len(lst_big))\n",
    "# "
   ]
  },
  {
   "cell_type": "code",
   "execution_count": null,
   "metadata": {},
   "outputs": [],
   "source": []
  },
  {
   "cell_type": "code",
   "execution_count": null,
   "metadata": {},
   "outputs": [],
   "source": [
    "# import time"
   ]
  },
  {
   "cell_type": "code",
   "execution_count": 207,
   "metadata": {},
   "outputs": [],
   "source": [
    "# %time lst_big = getCityData(lst_ct[4])"
   ]
  },
  {
   "cell_type": "code",
   "execution_count": null,
   "metadata": {},
   "outputs": [],
   "source": []
  },
  {
   "cell_type": "code",
   "execution_count": 352,
   "metadata": {},
   "outputs": [],
   "source": [
    "clmn = []\n",
    "for i in range(1,len(lst_big[0])+1):\n",
    "    str1 = str(i)+'str'\n",
    "    clmn.append(str1)\n",
    "# "
   ]
  },
  {
   "cell_type": "code",
   "execution_count": null,
   "metadata": {},
   "outputs": [],
   "source": []
  },
  {
   "cell_type": "code",
   "execution_count": 353,
   "metadata": {},
   "outputs": [],
   "source": [
    "# df_cp = df_big.copy()"
   ]
  },
  {
   "cell_type": "code",
   "execution_count": 378,
   "metadata": {},
   "outputs": [],
   "source": [
    "df_big = pd.DataFrame(data=lst_big,columns=clmn)"
   ]
  },
  {
   "cell_type": "code",
   "execution_count": 379,
   "metadata": {},
   "outputs": [
    {
     "name": "stdout",
     "output_type": "stream",
     "text": [
      "447\n"
     ]
    }
   ],
   "source": [
    "print(len(df_big))"
   ]
  },
  {
   "cell_type": "code",
   "execution_count": 380,
   "metadata": {},
   "outputs": [],
   "source": [
    "lst_not_ok = list(set(list(df_big[df_big[\"1str\"].str.contains(\"www\")][\"1str\"])))"
   ]
  },
  {
   "cell_type": "code",
   "execution_count": 381,
   "metadata": {},
   "outputs": [],
   "source": [
    "lst2 = list(set(lst_not_ok))"
   ]
  },
  {
   "cell_type": "code",
   "execution_count": 382,
   "metadata": {},
   "outputs": [
    {
     "name": "stdout",
     "output_type": "stream",
     "text": [
      "0\n"
     ]
    }
   ],
   "source": [
    "print(len(lst2))"
   ]
  },
  {
   "cell_type": "code",
   "execution_count": null,
   "metadata": {},
   "outputs": [],
   "source": []
  },
  {
   "cell_type": "code",
   "execution_count": null,
   "metadata": {},
   "outputs": [],
   "source": []
  },
  {
   "cell_type": "code",
   "execution_count": 359,
   "metadata": {
    "scrolled": true
   },
   "outputs": [
    {
     "name": "stdout",
     "output_type": "stream",
     "text": [
      "http://www.samaratrans.info/wiki/index.php/%D0%A1%D1%8B%D0%B7%D1%80%D0%B0%D0%BD%D1%8C_%D0%B0%D0%B2%D1%82%D0%BE%D0%B1%D1%83%D1%81_7\n",
      "http://www.samaratrans.info/wiki/index.php/%D0%A1%D1%8B%D0%B7%D1%80%D0%B0%D0%BD%D1%8C_%D0%B0%D0%B2%D1%82%D0%BE%D0%B1%D1%83%D1%81_6\n",
      "http://www.samaratrans.info/wiki/index.php/%D0%A1%D1%8B%D0%B7%D1%80%D0%B0%D0%BD%D1%8C_%D0%B0%D0%B2%D1%82%D0%BE%D0%B1%D1%83%D1%81_8\n",
      "http://www.samaratrans.info/wiki/index.php/%D0%A1%D1%8B%D0%B7%D1%80%D0%B0%D0%BD%D1%8C_%D0%B0%D0%B2%D1%82%D0%BE%D0%B1%D1%83%D1%81_116\n",
      "http://www.samaratrans.info/wiki/index.php/%D0%A1%D1%8B%D0%B7%D1%80%D0%B0%D0%BD%D1%8C_%D0%B0%D0%B2%D1%82%D0%BE%D0%B1%D1%83%D1%81_3\n",
      "http://www.samaratrans.info/wiki/index.php/%D0%A1%D1%8B%D0%B7%D1%80%D0%B0%D0%BD%D1%8C_%D0%B0%D0%B2%D1%82%D0%BE%D0%B1%D1%83%D1%81_35\n",
      "http://www.samaratrans.info/wiki/index.php/%D0%A1%D1%8B%D0%B7%D1%80%D0%B0%D0%BD%D1%8C_%D0%B0%D0%B2%D1%82%D0%BE%D0%B1%D1%83%D1%81_2\n",
      "http://www.samaratrans.info/wiki/index.php/%D0%A1%D1%8B%D0%B7%D1%80%D0%B0%D0%BD%D1%8C_%D0%B0%D0%B2%D1%82%D0%BE%D0%B1%D1%83%D1%81_18\n",
      "http://www.samaratrans.info/wiki/index.php/%D0%A1%D1%8B%D0%B7%D1%80%D0%B0%D0%BD%D1%8C_%D0%B0%D0%B2%D1%82%D0%BE%D0%B1%D1%83%D1%81_4\n"
     ]
    }
   ],
   "source": [
    "for i in lst2:\n",
    "    print(i)"
   ]
  },
  {
   "cell_type": "code",
   "execution_count": null,
   "metadata": {},
   "outputs": [],
   "source": []
  },
  {
   "cell_type": "code",
   "execution_count": 360,
   "metadata": {},
   "outputs": [
    {
     "name": "stdout",
     "output_type": "stream",
     "text": [
      "http://www.samaratrans.info/wiki/index.php/%D0%A1%D1%8B%D0%B7%D1%80%D0%B0%D0%BD%D1%8C_%D0%B0%D0%B2%D1%82%D0%BE%D0%B1%D1%83%D1%81_7\n"
     ]
    }
   ],
   "source": [
    "url = lst2[0]\n",
    "grp_name = 'error'\n",
    "city = 'Сызрань'\n",
    "print(url)"
   ]
  },
  {
   "cell_type": "code",
   "execution_count": null,
   "metadata": {},
   "outputs": [],
   "source": []
  },
  {
   "cell_type": "code",
   "execution_count": null,
   "metadata": {},
   "outputs": [],
   "source": []
  },
  {
   "cell_type": "code",
   "execution_count": 362,
   "metadata": {
    "scrolled": true
   },
   "outputs": [
    {
     "ename": "IndexError",
     "evalue": "list index out of range",
     "output_type": "error",
     "traceback": [
      "\u001b[1;31m---------------------------------------------------------------------------\u001b[0m",
      "\u001b[1;31mIndexError\u001b[0m                                Traceback (most recent call last)",
      "\u001b[1;32m<ipython-input-362-bb8cf8488257>\u001b[0m in \u001b[0;36m<module>\u001b[1;34m\u001b[0m\n\u001b[0;32m      1\u001b[0m \u001b[1;31m# ltp = getInfo2(url,grp_name,city)\u001b[0m\u001b[1;33m\u001b[0m\u001b[1;33m\u001b[0m\u001b[1;33m\u001b[0m\u001b[0m\n\u001b[1;32m----> 2\u001b[1;33m \u001b[0mltp\u001b[0m\u001b[1;33m=\u001b[0m\u001b[0mgetInfo2\u001b[0m\u001b[1;33m(\u001b[0m\u001b[0murl\u001b[0m\u001b[1;33m,\u001b[0m\u001b[0mgrp_name\u001b[0m\u001b[1;33m,\u001b[0m\u001b[0mcity\u001b[0m\u001b[1;33m)\u001b[0m\u001b[1;33m\u001b[0m\u001b[1;33m\u001b[0m\u001b[0m\n\u001b[0m",
      "\u001b[1;32m<ipython-input-348-33ac290bad46>\u001b[0m in \u001b[0;36mgetInfo2\u001b[1;34m(url, grp_name, city)\u001b[0m\n\u001b[0;32m     79\u001b[0m \u001b[1;33m\u001b[0m\u001b[0m\n\u001b[0;32m     80\u001b[0m     \u001b[1;31m# 5,6 - список оп\u001b[0m\u001b[1;33m\u001b[0m\u001b[1;33m\u001b[0m\u001b[1;33m\u001b[0m\u001b[0m\n\u001b[1;32m---> 81\u001b[1;33m     \u001b[0mstops_frw\u001b[0m \u001b[1;33m=\u001b[0m \u001b[0mstops\u001b[0m\u001b[1;33m(\u001b[0m\u001b[0ml5\u001b[0m\u001b[1;33m,\u001b[0m\u001b[1;36m1\u001b[0m\u001b[1;33m)\u001b[0m\u001b[1;33m\u001b[0m\u001b[1;33m\u001b[0m\u001b[0m\n\u001b[0m\u001b[0;32m     82\u001b[0m     \u001b[1;32mtry\u001b[0m\u001b[1;33m:\u001b[0m\u001b[1;33m\u001b[0m\u001b[1;33m\u001b[0m\u001b[0m\n\u001b[0;32m     83\u001b[0m         \u001b[0mstops_bckw\u001b[0m \u001b[1;33m=\u001b[0m \u001b[0mstops\u001b[0m\u001b[1;33m(\u001b[0m\u001b[0ml6\u001b[0m\u001b[1;33m,\u001b[0m\u001b[1;36m1\u001b[0m\u001b[1;33m)\u001b[0m\u001b[1;33m\u001b[0m\u001b[1;33m\u001b[0m\u001b[0m\n",
      "\u001b[1;32m<ipython-input-348-33ac290bad46>\u001b[0m in \u001b[0;36mstops\u001b[1;34m(lst_s, nmb)\u001b[0m\n\u001b[0;32m     52\u001b[0m \u001b[1;33m\u001b[0m\u001b[0m\n\u001b[0;32m     53\u001b[0m     \u001b[1;32mdef\u001b[0m \u001b[0mstops\u001b[0m\u001b[1;33m(\u001b[0m\u001b[0mlst_s\u001b[0m\u001b[1;33m,\u001b[0m\u001b[0mnmb\u001b[0m\u001b[1;33m)\u001b[0m\u001b[1;33m:\u001b[0m\u001b[1;33m\u001b[0m\u001b[1;33m\u001b[0m\u001b[0m\n\u001b[1;32m---> 54\u001b[1;33m         \u001b[0mlst_ok\u001b[0m \u001b[1;33m=\u001b[0m \u001b[0mgetLines\u001b[0m\u001b[1;33m(\u001b[0m\u001b[0mlst_s\u001b[0m\u001b[1;33m,\u001b[0m\u001b[0mnmb\u001b[0m\u001b[1;33m)\u001b[0m\u001b[1;33m\u001b[0m\u001b[1;33m\u001b[0m\u001b[0m\n\u001b[0m\u001b[0;32m     55\u001b[0m \u001b[1;33m\u001b[0m\u001b[0m\n\u001b[0;32m     56\u001b[0m         \u001b[0mstr1\u001b[0m\u001b[1;33m=\u001b[0m\u001b[1;34m''\u001b[0m\u001b[1;33m\u001b[0m\u001b[1;33m\u001b[0m\u001b[0m\n",
      "\u001b[1;32m<ipython-input-348-33ac290bad46>\u001b[0m in \u001b[0;36mgetLines\u001b[1;34m(lst_s, nmb)\u001b[0m\n\u001b[0;32m     44\u001b[0m \u001b[1;33m\u001b[0m\u001b[0m\n\u001b[0;32m     45\u001b[0m         \u001b[1;32mfor\u001b[0m \u001b[0mi\u001b[0m \u001b[1;32min\u001b[0m \u001b[0mrange\u001b[0m\u001b[1;33m(\u001b[0m\u001b[0mlen\u001b[0m\u001b[1;33m(\u001b[0m\u001b[0mlst_s\u001b[0m\u001b[1;33m)\u001b[0m\u001b[1;33m)\u001b[0m\u001b[1;33m:\u001b[0m\u001b[1;33m\u001b[0m\u001b[1;33m\u001b[0m\u001b[0m\n\u001b[1;32m---> 46\u001b[1;33m             \u001b[0mlst1\u001b[0m \u001b[1;33m=\u001b[0m \u001b[0mlst_s\u001b[0m\u001b[1;33m[\u001b[0m\u001b[0mi\u001b[0m\u001b[1;33m]\u001b[0m\u001b[1;33m[\u001b[0m\u001b[0mnmb\u001b[0m\u001b[1;33m]\u001b[0m\u001b[1;33m.\u001b[0m\u001b[0msplit\u001b[0m\u001b[1;33m(\u001b[0m\u001b[1;34m\"\\n\"\u001b[0m\u001b[1;33m)\u001b[0m\u001b[1;33m\u001b[0m\u001b[1;33m\u001b[0m\u001b[0m\n\u001b[0m\u001b[0;32m     47\u001b[0m             \u001b[1;32mfor\u001b[0m \u001b[0ms\u001b[0m \u001b[1;32min\u001b[0m \u001b[0mlst1\u001b[0m\u001b[1;33m:\u001b[0m\u001b[1;33m\u001b[0m\u001b[1;33m\u001b[0m\u001b[0m\n\u001b[0;32m     48\u001b[0m                 \u001b[1;32mif\u001b[0m \u001b[0ms\u001b[0m \u001b[1;33m!=\u001b[0m \u001b[1;34m''\u001b[0m\u001b[1;33m:\u001b[0m\u001b[1;33m\u001b[0m\u001b[1;33m\u001b[0m\u001b[0m\n",
      "\u001b[1;31mIndexError\u001b[0m: list index out of range"
     ]
    }
   ],
   "source": [
    "# ltp = getInfo2(url,grp_name,city)\n",
    "ltp=getInfo2(url,grp_name,city)"
   ]
  },
  {
   "cell_type": "code",
   "execution_count": 346,
   "metadata": {
    "scrolled": true
   },
   "outputs": [
    {
     "data": {
      "text/plain": [
       "['Сызрань',\n",
       " 'автобус',\n",
       " 'error',\n",
       " '30',\n",
       " 'Железнодорожный вокзал / ст. Сызрань-1 - п. Турбостроителей',\n",
       " ' ул. Московская _ ул. Фридриха Энгельса _ пер. Волжский _ ул. Ульяновская _ ул. Декабристов _ ул. 2-я студенческая _ ул. Гидротурбинная _ Ульяновское шоссе _ ул. Локомобильная',\n",
       " ' ул. Локомобильная _ Ульяновское шоссе _ ул. Гидротурбинная _ ул. 2-я студенческая _ ул. Декабристов _ ул. Ульяновская _ пер. Волжский _ ул. Фридриха Энгельса _ ул. Московская ',\n",
       " '1. Железнодорожный вокзал / ст. Сызрань-1 (посадка)_2. ТВ \"Канон\"_3. МП \"Зеленое хозяйство\"_4. Школа №15_5. ул. Дачная_6. ул. Студенческая_7. ДК \"Авангард\"_8. Военный городок_9. 2-я проходная АО \"Тяжмаш\"_10. п. Турбостроителей_11. ОАО \"Сызраньмолоко\" (высадка)',\n",
       " '1. ОАО \"Сызраньмолоко\" (посадка)_2. п. Турбостроителей_3. 2-я проходная АО \"Тяжмаш\"_4. Военный городок_5. ДК \"Авангард\"_6. ул. Студенческая_7. ул. Дачная_8. Школа №15_9. МП \"Зеленое хозяйство\"_10. ТВ \"Канон\"_11. Железнодорожный вокзал / ст. Сызрань-1 (высадка)',\n",
       " None,\n",
       " None,\n",
       " None,\n",
       " None,\n",
       " None,\n",
       " None,\n",
       " None,\n",
       " None,\n",
       " None,\n",
       " 'http://www.samaratrans.info/wiki/index.php/%D0%A1%D1%8B%D0%B7%D1%80%D0%B0%D0%BD%D1%8C_%D0%B0%D0%B2%D1%82%D0%BE%D0%B1%D1%83%D1%81_30']"
      ]
     },
     "execution_count": 346,
     "metadata": {},
     "output_type": "execute_result"
    }
   ],
   "source": [
    "ltp"
   ]
  },
  {
   "cell_type": "code",
   "execution_count": null,
   "metadata": {},
   "outputs": [],
   "source": []
  },
  {
   "cell_type": "code",
   "execution_count": null,
   "metadata": {},
   "outputs": [],
   "source": []
  },
  {
   "cell_type": "code",
   "execution_count": 374,
   "metadata": {
    "scrolled": true
   },
   "outputs": [],
   "source": [
    "# def getInfo2(url,grp_name,city):\n",
    "# Сызрань спешл\n",
    "req = requests.get(url)\n",
    "bs = BeautifulSoup(req.text, 'html.parser')\n",
    "\n",
    "region = grp_name\n",
    "#     region='муниципальный'\n",
    "str_url = checkEnd(url)\n",
    "\n",
    "lst = str_url.split(\"_\")\n",
    "# 2 - номер маршрута\n",
    "nmbr = lst[-1]\n",
    "# 1 - тип транспорта\n",
    "tp_ts = lst[-2]\n",
    "# rt_nmbr = url.rsplit(\"_\",1)[1]\n",
    "\n",
    "def getTable(table_rows):\n",
    "    l = []\n",
    "    for tr in table_rows:\n",
    "        try:\n",
    "            td = tr.find_all('td')\n",
    "            row = [tr.text for tr in td]\n",
    "            l.append(row)\n",
    "        except:\n",
    "            pass\n",
    "    #\n",
    "    return l\n",
    "#\n",
    "# 2 - содержание\n",
    "# 3 - маршрут следования\n",
    "# 5 - оп в прямом направлении\n",
    "# 6 - оп в обратном направлении\n",
    "# 7 - особенности работы\n",
    "# 8 - расписание (две версии, для регионов!!)\n",
    "\n",
    "#####\n",
    "\n",
    "all_tables = bs.find_all(\"table\")\n",
    "\n",
    "    # 3 - наименование маршрута\n",
    "rt_nm = str(bs.find_all('b')[2]).replace(\"<b>\",\"\").replace(\"</b>\",\"\")\n",
    "\n",
    "def getLines(lst_s,nmb):\n",
    "    lst_ok = []\n",
    "\n",
    "    for i in range(len(lst_s)):\n",
    "        lst1 = lst_s[i][nmb].split(\"\\n\")\n",
    "        for s in lst1:\n",
    "            if s != '':\n",
    "                lst_ok.append(s)\n",
    "    # \n",
    "    return lst_ok\n",
    "\n",
    "def stops(lst_s,nmb):\n",
    "    lst_ok = getLines(lst_s,nmb)\n",
    "\n",
    "    str1=''\n",
    "    for row in lst_ok:\n",
    "        if row != '\\n':\n",
    "            row = row.replace(\"\\n\", \"\")\n",
    "            str1 = str1 + \"_\" + row\n",
    "    # \n",
    "    str1 = str1[1:]\n",
    "    return str1\n",
    "\n",
    "####\n",
    "i=0\n",
    "for i in range(len(all_tables)):\n",
    "    l = getTable(all_tables[i])\n",
    "    if \"в сторону\" in l[0][0]:\n",
    "        l5 = getTable(all_tables[i+2])\n",
    "        l6 = getTable(all_tables[i+3])\n",
    "        break\n",
    "    else:\n",
    "        l5 = getTable(all_tables[5])\n",
    "        l6 = getTable(all_tables[6])\n",
    "# \n",
    "\n",
    "# l5 = getTable(all_tables[5])\n",
    "# l6 = getTable(all_tables[6])\n",
    "\n",
    "####\n",
    "# 4 -маршрут следования\n",
    "\n",
    "route_frw = stops(l5,0)\n",
    "try:\n",
    "    route_bckw = stops(l6,0)\n",
    "except:\n",
    "    route_bckw = 'кольцевой'\n",
    "####\n",
    "\n",
    "# 5,6 - список оп\n",
    "stops_frw = stops(l5,1)\n",
    "try:\n",
    "    stops_bckw = stops(l6,1)\n",
    "except:\n",
    "    stops_bckw = 'кольцевой'\n",
    "####\n",
    "\n",
    "nlst = []\n",
    "\n",
    "lst_all = [city,tp_ts,region,nmbr,rt_nm,route_frw,route_bckw,stops_frw,stops_bckw]\n",
    "#                     work_time,intervs,amnt_mch,duration,length,orgnztn,podv_sost,payment,place_rest,url]\n",
    "\n",
    "def foo(nlst,i):\n",
    "    return nlst[i][1]\n",
    "\n",
    "for i in range(9):\n",
    "    try: \n",
    "        tmp = foo(nlst,i)\n",
    "    except:\n",
    "        tmp = None\n",
    "    lst_all.append(tmp)\n",
    "# \n",
    "lst_all.append(url)\n",
    "\n",
    "#     return lst_all"
   ]
  },
  {
   "cell_type": "code",
   "execution_count": null,
   "metadata": {},
   "outputs": [],
   "source": []
  },
  {
   "cell_type": "code",
   "execution_count": null,
   "metadata": {},
   "outputs": [],
   "source": []
  },
  {
   "cell_type": "code",
   "execution_count": null,
   "metadata": {},
   "outputs": [],
   "source": []
  }
 ],
 "metadata": {
  "kernelspec": {
   "display_name": "Python 3",
   "language": "python",
   "name": "python3"
  },
  "language_info": {
   "codemirror_mode": {
    "name": "ipython",
    "version": 3
   },
   "file_extension": ".py",
   "mimetype": "text/x-python",
   "name": "python",
   "nbconvert_exporter": "python",
   "pygments_lexer": "ipython3",
   "version": "3.7.3"
  }
 },
 "nbformat": 4,
 "nbformat_minor": 4
}
