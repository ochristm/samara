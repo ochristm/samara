{
 "cells": [
  {
   "cell_type": "code",
   "execution_count": 1,
   "metadata": {},
   "outputs": [],
   "source": [
    "import pandas as pd\n",
    "from bs4 import BeautifulSoup\n",
    "import requests\n",
    "import re\n",
    "import urllib"
   ]
  },
  {
   "cell_type": "code",
   "execution_count": null,
   "metadata": {},
   "outputs": [],
   "source": []
  },
  {
   "cell_type": "code",
   "execution_count": null,
   "metadata": {},
   "outputs": [],
   "source": [
    "# url=\"http://www.samaratrans.info/wiki/index.php/%D0%A1%D0%B0%D0%BC%D0%B0%D1%80%D0%B0_%D0%B0%D0%B2%D1%82%D0%BE%D0%B1%D1%83%D1%81_1\"\n"
   ]
  },
  {
   "cell_type": "code",
   "execution_count": null,
   "metadata": {},
   "outputs": [],
   "source": []
  },
  {
   "cell_type": "code",
   "execution_count": 2,
   "metadata": {},
   "outputs": [],
   "source": [
    "def getInfo(url,grp_name,city):\n",
    "    req = requests.get(url)\n",
    "    bs = BeautifulSoup(req.text, 'html.parser')\n",
    "    \n",
    "    region = grp_name\n",
    "#     region='муниципальный'\n",
    "    str_url = checkEnd(url)\n",
    "    \n",
    "    lst = str_url.split(\"_\")\n",
    "    # 2 - номер маршрута\n",
    "    nmbr = lst[-1]\n",
    "    # 1 - тип транспорта\n",
    "    tp_ts = lst[-2]\n",
    "    # rt_nmbr = url.rsplit(\"_\",1)[1]\n",
    "\n",
    "    def getTable(table_rows):\n",
    "        l = []\n",
    "        for tr in table_rows:\n",
    "            try:\n",
    "                td = tr.find_all('td')\n",
    "                row = [tr.text for tr in td]\n",
    "                l.append(row)\n",
    "            except:\n",
    "                pass\n",
    "        #\n",
    "        return l\n",
    "    #\n",
    "    # 2 - содержание\n",
    "    # 3 - маршрут следования\n",
    "    # 5 - оп в прямом направлении\n",
    "    # 6 - оп в обратном направлении\n",
    "    # 7 - особенности работы\n",
    "    # 8 - расписание (две версии, для регионов!!)\n",
    "\n",
    "    all_tables = bs.find_all(\"table\")\n",
    "    l2 = getTable(all_tables[2])\n",
    "    l3 = getTable(all_tables[3])\n",
    "    l5 = getTable(all_tables[5])\n",
    "    l6 = getTable(all_tables[6])\n",
    "    l7 = getTable(all_tables[7])\n",
    "    l8 = getTable(all_tables[8])\n",
    "    \n",
    "    \n",
    "    ###\n",
    "    # если кольцевой!!!\n",
    "    if ['обратное направление\\n'] not in l6:\n",
    "        l8 = l7\n",
    "        l7 = l6\n",
    "    ###\n",
    "\n",
    "    ####\n",
    "    # 3 - наименование маршрута\n",
    "    str1 = l2[0][0]\n",
    "    str1 = str1.replace(\"\\n\\n\",\"\\n\")\n",
    "    rt_nm = str1.split(\"\\n\")[1][2:].split(\"№\")[1]\n",
    "    rt_nm = rt_nm.split('\"', 1)[1][:-1]\n",
    "\n",
    "    ####\n",
    "    # 4 -маршрут следования\n",
    "    route_frw = l3[0][1]\n",
    "    try:\n",
    "        route_bckw = l3[1][1]\n",
    "    except:\n",
    "        route_bckw = 'кольцевой'\n",
    "    ####\n",
    "\n",
    "    ####\n",
    "    # 5,6 - список оп\n",
    "    def stops(l):\n",
    "    #\n",
    "        str_all=''\n",
    "        for row in l[2:]:\n",
    "            rw = []\n",
    "            for i in row:\n",
    "                i = i.replace(\"\\n\",\"\")\n",
    "                rw.append(i)\n",
    "            str1 = rw[1]\n",
    "            str_all = str_all + \"_\" + str1\n",
    "        #\n",
    "        str_all = str_all[1:]\n",
    "        return str_all\n",
    "    # \n",
    "    stops_frw = stops(l5)\n",
    "    try:\n",
    "        stops_bckw = stops(l6)\n",
    "    except:\n",
    "        stops_bckw = 'кольцевой'\n",
    "    ####\n",
    "\n",
    "    ####\n",
    "    # 7) Режим работы\n",
    "    # 8) Интервалы движения\n",
    "    # 9) Выпуск на линию\n",
    "    # 10) Время в пути\n",
    "    # 11) Протяжённость маршрута\n",
    "    # 12) Обслуживающие предприятия\n",
    "    # 13) Подвижной состав\n",
    "    # 14) Стоимость проезда\n",
    "    # 15) Место отстоя \n",
    "\n",
    "    nlst = []\n",
    "    for row in l7:\n",
    "        tmplst = []\n",
    "        for j in row:\n",
    "            j = j.replace(\"\\n\",\"\")\n",
    "            tmplst.append(j)\n",
    "        nlst.append(tmplst)\n",
    "    # \n",
    "\n",
    "    work_time = nlst[0][1]\n",
    "    intervs = nlst[1][1]\n",
    "    amnt_mch = nlst[2][1]\n",
    "    duration = nlst[3][1]\n",
    "    length = nlst[4][1]\n",
    "    orgnztn = nlst[5][1]\n",
    "    podv_sost = nlst[6][1]\n",
    "    payment = nlst[7][1]\n",
    "    place_rest = nlst[8][1]\n",
    "    ####\n",
    "\n",
    "\n",
    "    # get all to list\n",
    "    lst_all = [city,tp_ts,region,nmbr,rt_nm,route_frw,route_bckw,stops_frw,stops_bckw,\n",
    "                    work_time,intervs,amnt_mch,duration,length,orgnztn,podv_sost,payment,place_rest,url]\n",
    "    #\n",
    "    return lst_all"
   ]
  },
  {
   "cell_type": "code",
   "execution_count": null,
   "metadata": {},
   "outputs": [],
   "source": []
  },
  {
   "cell_type": "code",
   "execution_count": 3,
   "metadata": {},
   "outputs": [],
   "source": [
    "def checkGrpNm(tmp_grp_nm):\n",
    "    if tmp_grp_nm == 'маршруты':\n",
    "        grp_name = 'муниципальный'\n",
    "    elif  tmp_grp_nm == 'коммерческий_маршруты':\n",
    "        grp_name = 'коммерческий'\n",
    "    elif  tmp_grp_nm == 'пригородный_расписания':\n",
    "        grp_name = 'пригородный'\n",
    "    elif  tmp_grp_nm == 'сезонный_маршруты':\n",
    "        grp_name = 'сезонный'\n",
    "    elif  tmp_grp_nm == 'междугородный_расписания':\n",
    "        grp_name = 'междугородний'\n",
    "    else:\n",
    "        grp_name = tmp_grp_nm\n",
    "    # \n",
    "    return grp_name"
   ]
  },
  {
   "cell_type": "code",
   "execution_count": 4,
   "metadata": {},
   "outputs": [],
   "source": [
    "def checkEnd(url):\n",
    "    the_string = url.rsplit('/',1)[1]\n",
    "    srch = re.search('[а-яА-Я]', the_string) \n",
    "    if srch == None:\n",
    "        str_url = urllib.parse.unquote(the_string)\n",
    "    else:\n",
    "        str_url = the_string\n",
    "    #\n",
    "    return str_url"
   ]
  },
  {
   "cell_type": "code",
   "execution_count": 5,
   "metadata": {},
   "outputs": [],
   "source": [
    "# \n",
    "def linksCity(city):\n",
    "\n",
    "    url_grp = 'http://www.samaratrans.info/wiki/index.php/' + city\n",
    "    req = requests.get(url_grp)\n",
    "    soup = BeautifulSoup(req.text, 'html.parser')\n",
    "    stfa = soup.find_all('a')\n",
    "    links=[]\n",
    "    for link in stfa:\n",
    "        try:\n",
    "            if 'маршрут' in link.get(\"title\"):\n",
    "                lsh = 'http://www.samaratrans.info' + link.get(\"href\")\n",
    "                if lsh not in links:\n",
    "                    links.append(lsh)\n",
    "        except:\n",
    "            pass\n",
    "    # \n",
    "    return links"
   ]
  },
  {
   "cell_type": "code",
   "execution_count": null,
   "metadata": {},
   "outputs": [],
   "source": [
    "# def linksCity(city):\n",
    "#     lst_links_city = []\n",
    "#     lst_types = ['автобус', 'троллейбус', 'трамвай']\n",
    "#     lst_route_type = ['маршруты','коммерческий_маршруты', \n",
    "#                   'пригородный_расписания','сезонный_маршруты','междугородный_расписания']\n",
    "#     #\n",
    "#     city_link = 'http://www.samaratrans.info/wiki/index.php/' + city\n",
    "#     i=0\n",
    "#     for i in range(len(lst_types)):\n",
    "#         tp_link = city_link + '_' + lst_types[i] + '_' + lst_route_type[0]\n",
    "#         lst_links_city.append(tp_link)\n",
    "#     #\n",
    "#     bus_link = city_link + '_' + lst_types[0]\n",
    "    \n",
    "#     i=0\n",
    "#     for i in range(1,len(lst_route_type)):\n",
    "#         link = bus_link + '_' + lst_route_type[i]\n",
    "#         lst_links_city.append(link)\n",
    "#     #\n",
    "#     return lst_links_city"
   ]
  },
  {
   "cell_type": "code",
   "execution_count": null,
   "metadata": {},
   "outputs": [],
   "source": [
    "def getTable(table_rows):\n",
    "    l = []\n",
    "    for tr in table_rows:\n",
    "        try:\n",
    "            td = tr.find_all('td')\n",
    "            row = [tr.text for tr in td]\n",
    "            l.append(row)\n",
    "        except:\n",
    "            pass\n",
    "    #\n",
    "    return l"
   ]
  },
  {
   "cell_type": "code",
   "execution_count": 118,
   "metadata": {},
   "outputs": [],
   "source": [
    "def routeLinks(url_grp):\n",
    "    links=[]\n",
    "    req = requests.get(url_grp)\n",
    "    soup = BeautifulSoup(req.text, 'html.parser')\n",
    "    stfa = soup.find_all('table')\n",
    "    \n",
    "    cnt=2\n",
    "    for i in range(len(stfa)):\n",
    "        table_rows = stfa[i]\n",
    "        l = getTable(table_rows)\n",
    "        if 'Наименование маршрута\\n' in l[0]:\n",
    "            cnt = i\n",
    "            break\n",
    "    # \n",
    "    lst_find = stfa[cnt].find_all('a')\n",
    "    for link in lst_find:\n",
    "        try:\n",
    "            lst_notok = ['расписан', 'парк', '.gif', '.png', 'перевозчик', 'edit', 'ТД']\n",
    "            lnk_hr = link.get(\"href\")\n",
    "            ch = checkEnd(lnk_hr)\n",
    "            if not any((c in ch) for c in lst_notok):\n",
    "                lsh = 'http://www.samaratrans.info' + lnk_hr\n",
    "                if lsh not in links:\n",
    "                    links.append(lsh)\n",
    "        except:\n",
    "            pass\n",
    "    # \n",
    "    return links"
   ]
  },
  {
   "cell_type": "code",
   "execution_count": null,
   "metadata": {},
   "outputs": [],
   "source": []
  },
  {
   "cell_type": "code",
   "execution_count": null,
   "metadata": {},
   "outputs": [],
   "source": []
  },
  {
   "cell_type": "code",
   "execution_count": 119,
   "metadata": {},
   "outputs": [],
   "source": [
    "def getCityData(city):\n",
    "    lst_links = []\n",
    "    lst_links = linksCity(city)\n",
    "    all_routes=[]\n",
    "    for grp in range(len(lst_links)):\n",
    "        tmp_grp_nm = checkEnd(lst_links[grp]).split(\"_\",2)[-1]\n",
    "        grp_name = checkGrpNm(tmp_grp_nm)\n",
    "        \n",
    "        try:\n",
    "            lst_group = []\n",
    "            lst_group = routeLinks(lst_links[grp])\n",
    "        except:\n",
    "            lst_group = []\n",
    "        for rtl in range(len(lst_group)):\n",
    "            try:\n",
    "                tmp_lnk_nm = checkEnd(lst_group[rtl])\n",
    "                lst_notok = ['расписан', 'парк', '.gif', '.png', 'перевозчик', 'edit', 'ТД']\n",
    "                if not any((c in tmp_lnk_nm) for c in lst_notok):\n",
    "                    one_route = getInfo(lst_group[rtl],grp_name,city)\n",
    "                    all_routes.append(one_route)\n",
    "                #\n",
    "            except:\n",
    "                one_route = [lst_group[rtl]] * 19\n",
    "                if one_route not in all_routes:\n",
    "                    all_routes.append(one_route)\n",
    "                #\n",
    "    return all_routes,lst_not_ok\n",
    "# "
   ]
  },
  {
   "cell_type": "code",
   "execution_count": null,
   "metadata": {},
   "outputs": [],
   "source": []
  },
  {
   "cell_type": "code",
   "execution_count": null,
   "metadata": {},
   "outputs": [],
   "source": []
  },
  {
   "cell_type": "code",
   "execution_count": 8,
   "metadata": {},
   "outputs": [],
   "source": [
    "lst_ct = ['Самара', 'Тольятти', 'Сызрань', 'Новокуйбышевск', \n",
    "          'Чапаевск', 'Жигулевск', 'Отрадный', 'Кинель', 'Похвистнево', 'Безенчук']"
   ]
  },
  {
   "cell_type": "code",
   "execution_count": 120,
   "metadata": {
    "scrolled": true
   },
   "outputs": [
    {
     "name": "stdout",
     "output_type": "stream",
     "text": [
      "Самара\n",
      "Тольятти\n",
      "Сызрань\n",
      "Новокуйбышевск\n",
      "Чапаевск\n",
      "Жигулевск\n",
      "Отрадный\n",
      "Кинель\n",
      "Похвистнево\n",
      "Безенчук\n"
     ]
    }
   ],
   "source": [
    "lst_big = []\n",
    "for i in range(len(lst_ct)):\n",
    "    city = lst_ct[i]\n",
    "    print(city)\n",
    "    lst,lst_not_ok = getCityData(city)\n",
    "    lst_not_ok = lst_not_ok + lst_not_ok\n",
    "#     print(len(lst_big))\n",
    "    lst_big = lst_big + lst\n",
    "#     print(len(lst_big))\n",
    "# "
   ]
  },
  {
   "cell_type": "code",
   "execution_count": null,
   "metadata": {},
   "outputs": [],
   "source": []
  },
  {
   "cell_type": "code",
   "execution_count": null,
   "metadata": {},
   "outputs": [],
   "source": [
    "# import time"
   ]
  },
  {
   "cell_type": "code",
   "execution_count": null,
   "metadata": {},
   "outputs": [],
   "source": [
    "# %time lst_big = getCityData(lst_ct[4])"
   ]
  },
  {
   "cell_type": "code",
   "execution_count": 52,
   "metadata": {},
   "outputs": [],
   "source": []
  },
  {
   "cell_type": "code",
   "execution_count": 121,
   "metadata": {},
   "outputs": [],
   "source": [
    "clmn = []\n",
    "for i in range(1,len(lst_big[0])+1):\n",
    "    str1 = str(i)+'str'\n",
    "    clmn.append(str1)\n",
    "# "
   ]
  },
  {
   "cell_type": "code",
   "execution_count": 122,
   "metadata": {},
   "outputs": [],
   "source": [
    "df_big = pd.DataFrame(data=lst_big,columns=clmn)"
   ]
  },
  {
   "cell_type": "code",
   "execution_count": 123,
   "metadata": {},
   "outputs": [
    {
     "name": "stdout",
     "output_type": "stream",
     "text": [
      "449\n"
     ]
    }
   ],
   "source": [
    "print(len(df_big))"
   ]
  },
  {
   "cell_type": "code",
   "execution_count": 129,
   "metadata": {},
   "outputs": [],
   "source": [
    "# list(set(list(df_big[df_big[\"1str\"].str.contains(\"www\")][\"1str\"])))"
   ]
  },
  {
   "cell_type": "code",
   "execution_count": 130,
   "metadata": {},
   "outputs": [],
   "source": [
    "lst_not_ok = list(set(list(df_big[df_big[\"1str\"].str.contains(\"www\")][\"1str\"])))"
   ]
  },
  {
   "cell_type": "code",
   "execution_count": 131,
   "metadata": {},
   "outputs": [],
   "source": [
    "lst2 = list(set(lst_not_ok))"
   ]
  },
  {
   "cell_type": "code",
   "execution_count": 132,
   "metadata": {
    "collapsed": true
   },
   "outputs": [
    {
     "name": "stdout",
     "output_type": "stream",
     "text": [
      "http://www.samaratrans.info/wiki/index.php/%D0%96%D0%B8%D0%B3%D1%83%D0%BB%D0%B5%D0%B2%D1%81%D0%BA_%D0%B0%D0%B2%D1%82%D0%BE%D0%B1%D1%83%D1%81_3\n",
      "http://www.samaratrans.info/wiki/index.php/%D0%A1%D1%8B%D0%B7%D1%80%D0%B0%D0%BD%D1%8C_%D0%B0%D0%B2%D1%82%D0%BE%D0%B1%D1%83%D1%81_5%D0%B4\n",
      "http://www.samaratrans.info/wiki/index.php/%D0%A7%D0%B0%D0%BF%D0%B0%D0%B5%D0%B2%D1%81%D0%BA_%D0%B0%D0%B2%D1%82%D0%BE%D0%B1%D1%83%D1%81_3\n",
      "http://www.samaratrans.info/wiki/index.php/%D0%A7%D0%B0%D0%BF%D0%B0%D0%B5%D0%B2%D1%81%D0%BA_%D0%B0%D0%B2%D1%82%D0%BE%D0%B1%D1%83%D1%81_6%D0%B0\n",
      "http://www.samaratrans.info/wiki/index.php/%D0%A7%D0%B0%D0%BF%D0%B0%D0%B5%D0%B2%D1%81%D0%BA_%D0%B0%D0%B2%D1%82%D0%BE%D0%B1%D1%83%D1%81_15\n",
      "http://www.samaratrans.info/wiki/index.php/%D0%96%D0%B8%D0%B3%D1%83%D0%BB%D0%B5%D0%B2%D1%81%D0%BA_%D0%B0%D0%B2%D1%82%D0%BE%D0%B1%D1%83%D1%81_1%D0%BA\n",
      "http://www.samaratrans.info/wiki/index.php/%D0%91%D0%B5%D0%B7%D0%B5%D0%BD%D1%87%D1%83%D0%BA_%D0%B0%D0%B2%D1%82%D0%BE%D0%B1%D1%83%D1%81_231\n",
      "http://www.samaratrans.info/wiki/index.php/%D0%9A%D0%B8%D0%BD%D0%B5%D0%BB%D1%8C_%D0%B0%D0%B2%D1%82%D0%BE%D0%B1%D1%83%D1%81_1\n",
      "http://www.samaratrans.info/wiki/index.php/%D0%9F%D0%BE%D1%85%D0%B2%D0%B8%D1%81%D1%82%D0%BD%D0%B5%D0%B2%D0%BE_%D0%B0%D0%B2%D1%82%D0%BE%D0%B1%D1%83%D1%81_1\n",
      "http://www.samaratrans.info/wiki/index.php/%D0%A7%D0%B0%D0%BF%D0%B0%D0%B5%D0%B2%D1%81%D0%BA_%D0%B0%D0%B2%D1%82%D0%BE%D0%B1%D1%83%D1%81_2\n",
      "http://www.samaratrans.info/wiki/index.php/%D0%A1%D1%8B%D0%B7%D1%80%D0%B0%D0%BD%D1%8C_%D0%B0%D0%B2%D1%82%D0%BE%D0%B1%D1%83%D1%81_3\n",
      "http://www.samaratrans.info/wiki/index.php/%D0%9A%D0%B8%D0%BD%D0%B5%D0%BB%D1%8C_%D0%B0%D0%B2%D1%82%D0%BE%D0%B1%D1%83%D1%81_9\n",
      "http://www.samaratrans.info/wiki/index.php/%D0%A1%D1%8B%D0%B7%D1%80%D0%B0%D0%BD%D1%8C_%D0%B0%D0%B2%D1%82%D0%BE%D0%B1%D1%83%D1%81_8\n",
      "http://www.samaratrans.info/wiki/index.php/%D0%A1%D1%8B%D0%B7%D1%80%D0%B0%D0%BD%D1%8C_%D0%B0%D0%B2%D1%82%D0%BE%D0%B1%D1%83%D1%81_16\n",
      "http://www.samaratrans.info/wiki/index.php/%D0%A2%D0%BE%D0%BB%D1%8C%D1%8F%D1%82%D1%82%D0%B8_%D0%B0%D0%B2%D1%82%D0%BE%D0%B1%D1%83%D1%81_277/278\n",
      "http://www.samaratrans.info/wiki/index.php/%D0%91%D0%B5%D0%B7%D0%B5%D0%BD%D1%87%D1%83%D0%BA_%D0%B0%D0%B2%D1%82%D0%BE%D0%B1%D1%83%D1%81_7\n",
      "http://www.samaratrans.info/wiki/index.php/%D0%96%D0%B8%D0%B3%D1%83%D0%BB%D0%B5%D0%B2%D1%81%D0%BA_%D0%B0%D0%B2%D1%82%D0%BE%D0%B1%D1%83%D1%81_2\n",
      "http://www.samaratrans.info/wiki/index.php/%D0%A2%D0%BE%D0%BB%D1%8C%D1%8F%D1%82%D1%82%D0%B8_%D0%B0%D0%B2%D1%82%D0%BE%D0%B1%D1%83%D1%81_149%D0%B4/292\n",
      "http://www.samaratrans.info/wiki/index.php/%D0%96%D0%B8%D0%B3%D1%83%D0%BB%D0%B5%D0%B2%D1%81%D0%BA_%D0%B0%D0%B2%D1%82%D0%BE%D0%B1%D1%83%D1%81_4%D0%BA\n",
      "http://www.samaratrans.info/wiki/index.php/%D0%96%D0%B8%D0%B3%D1%83%D0%BB%D0%B5%D0%B2%D1%81%D0%BA_%D0%B0%D0%B2%D1%82%D0%BE%D0%B1%D1%83%D1%81_1\n",
      "http://www.samaratrans.info/wiki/index.php/%D0%91%D0%B5%D0%B7%D0%B5%D0%BD%D1%87%D1%83%D0%BA_%D0%B0%D0%B2%D1%82%D0%BE%D0%B1%D1%83%D1%81_290\n",
      "http://www.samaratrans.info/wiki/index.php/%D0%A1%D1%8B%D0%B7%D1%80%D0%B0%D0%BD%D1%8C_%D0%B0%D0%B2%D1%82%D0%BE%D0%B1%D1%83%D1%81_11\n",
      "http://www.samaratrans.info/wiki/index.php/%D0%A7%D0%B0%D0%BF%D0%B0%D0%B5%D0%B2%D1%81%D0%BA_%D0%B0%D0%B2%D1%82%D0%BE%D0%B1%D1%83%D1%81_142\n",
      "http://www.samaratrans.info/wiki/index.php/%D0%A2%D0%BE%D0%BB%D1%8C%D1%8F%D1%82%D1%82%D0%B8_%D0%B0%D0%B2%D1%82%D0%BE%D0%B1%D1%83%D1%81_251/138%D0%B4/159\n",
      "http://www.samaratrans.info/wiki/index.php/%D0%9F%D0%BE%D1%85%D0%B2%D0%B8%D1%81%D1%82%D0%BD%D0%B5%D0%B2%D0%BE_%D0%B0%D0%B2%D1%82%D0%BE%D0%B1%D1%83%D1%81_2\n",
      "http://www.samaratrans.info/wiki/index.php/%D0%A7%D0%B0%D0%BF%D0%B0%D0%B5%D0%B2%D1%81%D0%BA_%D0%B0%D0%B2%D1%82%D0%BE%D0%B1%D1%83%D1%81_16\n",
      "http://www.samaratrans.info/wiki/index.php/%D0%9E%D1%82%D1%80%D0%B0%D0%B4%D0%BD%D1%8B%D0%B9_%D0%B0%D0%B2%D1%82%D0%BE%D0%B1%D1%83%D1%81_11\n",
      "http://www.samaratrans.info/wiki/index.php/%D0%A7%D0%B0%D0%BF%D0%B0%D0%B5%D0%B2%D1%81%D0%BA_%D0%B0%D0%B2%D1%82%D0%BE%D0%B1%D1%83%D1%81_10\n",
      "http://www.samaratrans.info/wiki/index.php/%D0%9C%D0%9F_%D0%A2%D0%A2%D0%A3_%D0%A1%D0%B0%D0%BC%D0%B0%D1%80%D1%8B\n",
      "http://www.samaratrans.info/wiki/index.php/%D0%9E%D1%82%D1%80%D0%B0%D0%B4%D0%BD%D1%8B%D0%B9_%D0%B0%D0%B2%D1%82%D0%BE%D0%B1%D1%83%D1%81_5\n",
      "http://www.samaratrans.info/wiki/index.php/%D0%9A%D0%B8%D0%BD%D0%B5%D0%BB%D1%8C_%D0%B0%D0%B2%D1%82%D0%BE%D0%B1%D1%83%D1%81_7\n",
      "http://www.samaratrans.info/wiki/index.php/%D0%9E%D1%82%D1%80%D0%B0%D0%B4%D0%BD%D1%8B%D0%B9_%D0%B0%D0%B2%D1%82%D0%BE%D0%B1%D1%83%D1%81_3\n",
      "http://www.samaratrans.info/wiki/index.php/%D0%A1%D1%8B%D0%B7%D1%80%D0%B0%D0%BD%D1%8C_%D0%B0%D0%B2%D1%82%D0%BE%D0%B1%D1%83%D1%81_27\n",
      "http://www.samaratrans.info/wiki/index.php/%D0%A7%D0%B0%D0%BF%D0%B0%D0%B5%D0%B2%D1%81%D0%BA_%D0%B0%D0%B2%D1%82%D0%BE%D0%B1%D1%83%D1%81_3%D1%8D\n",
      "http://www.samaratrans.info/wiki/index.php/%D0%A1%D1%8B%D0%B7%D1%80%D0%B0%D0%BD%D1%8C_%D0%B0%D0%B2%D1%82%D0%BE%D0%B1%D1%83%D1%81_77\n",
      "http://www.samaratrans.info/wiki/index.php/%D0%91%D0%B5%D0%B7%D0%B5%D0%BD%D1%87%D1%83%D0%BA_%D0%B0%D0%B2%D1%82%D0%BE%D0%B1%D1%83%D1%81_229\n",
      "http://www.samaratrans.info/wiki/index.php/%D0%A1%D1%8B%D0%B7%D1%80%D0%B0%D0%BD%D1%8C_%D0%B0%D0%B2%D1%82%D0%BE%D0%B1%D1%83%D1%81_18\n",
      "http://www.samaratrans.info/wiki/index.php/%D0%A2%D0%BE%D0%BB%D1%8C%D1%8F%D1%82%D1%82%D0%B8_%D0%B0%D0%B2%D1%82%D0%BE%D0%B1%D1%83%D1%81_156/172%D0%BA\n",
      "http://www.samaratrans.info/wiki/index.php/%D0%A1%D1%8B%D0%B7%D1%80%D0%B0%D0%BD%D1%8C_%D0%B0%D0%B2%D1%82%D0%BE%D0%B1%D1%83%D1%81_10\n",
      "http://www.samaratrans.info/wiki/index.php/%D0%A2%D0%BE%D0%BB%D1%8C%D1%8F%D1%82%D1%82%D0%B8_%D0%B0%D0%B2%D1%82%D0%BE%D0%B1%D1%83%D1%81_776\n",
      "http://www.samaratrans.info/wiki/index.php/%D0%9E%D1%82%D1%80%D0%B0%D0%B4%D0%BD%D1%8B%D0%B9_%D0%B0%D0%B2%D1%82%D0%BE%D0%B1%D1%83%D1%81_4\n",
      "http://www.samaratrans.info/wiki/index.php/%D0%9E%D1%82%D1%80%D0%B0%D0%B4%D0%BD%D1%8B%D0%B9_%D0%B0%D0%B2%D1%82%D0%BE%D0%B1%D1%83%D1%81_7\n",
      "http://www.samaratrans.info/wiki/index.php/%D0%91%D0%B5%D0%B7%D0%B5%D0%BD%D1%87%D1%83%D0%BA_%D0%B0%D0%B2%D1%82%D0%BE%D0%B1%D1%83%D1%81_8\n",
      "http://www.samaratrans.info/wiki/index.php/%D0%9E%D1%82%D1%80%D0%B0%D0%B4%D0%BD%D1%8B%D0%B9_%D0%B0%D0%B2%D1%82%D0%BE%D0%B1%D1%83%D1%81_6\n",
      "http://www.samaratrans.info/wiki/index.php/%D0%96%D0%B8%D0%B3%D1%83%D0%BB%D0%B5%D0%B2%D1%81%D0%BA_%D0%B0%D0%B2%D1%82%D0%BE%D0%B1%D1%83%D1%81_9\n",
      "http://www.samaratrans.info/wiki/index.php/%D0%91%D0%B5%D0%B7%D0%B5%D0%BD%D1%87%D1%83%D0%BA_%D0%B0%D0%B2%D1%82%D0%BE%D0%B1%D1%83%D1%81_5\n",
      "http://www.samaratrans.info/wiki/index.php/%D0%91%D0%B5%D0%B7%D0%B5%D0%BD%D1%87%D1%83%D0%BA_%D0%B0%D0%B2%D1%82%D0%BE%D0%B1%D1%83%D1%81_333\n",
      "http://www.samaratrans.info/wiki/index.php/%D0%A1%D1%8B%D0%B7%D1%80%D0%B0%D0%BD%D1%8C_%D0%B0%D0%B2%D1%82%D0%BE%D0%B1%D1%83%D1%81_7\n",
      "http://www.samaratrans.info/wiki/index.php/%D0%A2%D0%BE%D0%BB%D1%8C%D1%8F%D1%82%D1%82%D0%B8_%D0%B0%D0%B2%D1%82%D0%BE%D0%B1%D1%83%D1%81_163/172\n",
      "http://www.samaratrans.info/wiki/index.php/%D0%A1%D1%8B%D0%B7%D1%80%D0%B0%D0%BD%D1%8C_%D0%B0%D0%B2%D1%82%D0%BE%D0%B1%D1%83%D1%81_28\n",
      "http://www.samaratrans.info/wiki/index.php/%D0%91%D0%B5%D0%B7%D0%B5%D0%BD%D1%87%D1%83%D0%BA_%D0%B0%D0%B2%D1%82%D0%BE%D0%B1%D1%83%D1%81_2\n",
      "http://www.samaratrans.info/wiki/index.php/%D0%91%D0%B5%D0%B7%D0%B5%D0%BD%D1%87%D1%83%D0%BA_%D0%B0%D0%B2%D1%82%D0%BE%D0%B1%D1%83%D1%81_291\n",
      "http://www.samaratrans.info/wiki/index.php/%D0%9E%D1%82%D1%80%D0%B0%D0%B4%D0%BD%D1%8B%D0%B9_%D0%B0%D0%B2%D1%82%D0%BE%D0%B1%D1%83%D1%81_2\n",
      "http://www.samaratrans.info/wiki/index.php/%D0%A7%D0%B0%D0%BF%D0%B0%D0%B5%D0%B2%D1%81%D0%BA_%D0%B0%D0%B2%D1%82%D0%BE%D0%B1%D1%83%D1%81_16%D0%BA\n",
      "http://www.samaratrans.info/wiki/index.php/%D0%9F%D0%BE%D1%85%D0%B2%D0%B8%D1%81%D1%82%D0%BD%D0%B5%D0%B2%D0%BE_%D0%B0%D0%B2%D1%82%D0%BE%D0%B1%D1%83%D1%81_6\n",
      "http://www.samaratrans.info/wiki/index.php/%D0%9E%D1%82%D1%80%D0%B0%D0%B4%D0%BD%D1%8B%D0%B9_%D0%B0%D0%B2%D1%82%D0%BE%D0%B1%D1%83%D1%81_1\n",
      "http://www.samaratrans.info/wiki/index.php/%D0%96%D0%B8%D0%B3%D1%83%D0%BB%D0%B5%D0%B2%D1%81%D0%BA_%D0%B0%D0%B2%D1%82%D0%BE%D0%B1%D1%83%D1%81_193\n",
      "http://www.samaratrans.info/wiki/index.php/%D0%A1%D1%8B%D0%B7%D1%80%D0%B0%D0%BD%D1%8C_%D0%B0%D0%B2%D1%82%D0%BE%D0%B1%D1%83%D1%81_35\n",
      "http://www.samaratrans.info/wiki/index.php/%D0%9D%D0%BE%D0%B2%D0%BE%D0%BA%D1%83%D0%B9%D0%B1%D1%8B%D1%88%D0%B5%D0%B2%D1%81%D0%BA_%D1%82%D1%80%D0%BE%D0%BB%D0%BB%D0%B5%D0%B9%D0%B1%D1%83%D1%81_12-11\n",
      "http://www.samaratrans.info/wiki/index.php/%D0%A1%D1%8B%D0%B7%D1%80%D0%B0%D0%BD%D1%8C_%D0%B0%D0%B2%D1%82%D0%BE%D0%B1%D1%83%D1%81_65\n",
      "http://www.samaratrans.info/wiki/index.php/%D0%A2%D0%BE%D0%BB%D1%8C%D1%8F%D1%82%D1%82%D0%B8_%D0%B0%D0%B2%D1%82%D0%BE%D0%B1%D1%83%D1%81_160/162\n",
      "http://www.samaratrans.info/wiki/index.php/%D0%A1%D1%8B%D0%B7%D1%80%D0%B0%D0%BD%D1%8C_%D0%B0%D0%B2%D1%82%D0%BE%D0%B1%D1%83%D1%81_116\n",
      "http://www.samaratrans.info/wiki/index.php/%D0%91%D0%B5%D0%B7%D0%B5%D0%BD%D1%87%D1%83%D0%BA_%D0%B0%D0%B2%D1%82%D0%BE%D0%B1%D1%83%D1%81_3%D0%B0\n",
      "http://www.samaratrans.info/wiki/index.php/%D0%A2%D0%BE%D0%BB%D1%8C%D1%8F%D1%82%D1%82%D0%B8_%D0%B0%D0%B2%D1%82%D0%BE%D0%B1%D1%83%D1%81_190\n",
      "http://www.samaratrans.info/wiki/index.php/%D0%A1%D1%8B%D0%B7%D1%80%D0%B0%D0%BD%D1%8C_%D0%B0%D0%B2%D1%82%D0%BE%D0%B1%D1%83%D1%81_4\n",
      "http://www.samaratrans.info/wiki/index.php/%D0%A1%D1%8B%D0%B7%D1%80%D0%B0%D0%BD%D1%8C_%D0%B0%D0%B2%D1%82%D0%BE%D0%B1%D1%83%D1%81_12\n",
      "http://www.samaratrans.info/wiki/index.php/%D0%A7%D0%B0%D0%BF%D0%B0%D0%B5%D0%B2%D1%81%D0%BA_%D0%B0%D0%B2%D1%82%D0%BE%D0%B1%D1%83%D1%81_6\n",
      "http://www.samaratrans.info/wiki/index.php/%D0%96%D0%B8%D0%B3%D1%83%D0%BB%D0%B5%D0%B2%D1%81%D0%BA_%D0%B0%D0%B2%D1%82%D0%BE%D0%B1%D1%83%D1%81_174\n",
      "http://www.samaratrans.info/wiki/index.php/%D0%91%D0%B5%D0%B7%D0%B5%D0%BD%D1%87%D1%83%D0%BA_%D0%B0%D0%B2%D1%82%D0%BE%D0%B1%D1%83%D1%81_1\n",
      "http://www.samaratrans.info/wiki/index.php/%D0%9A%D0%B8%D0%BD%D0%B5%D0%BB%D1%8C_%D0%B0%D0%B2%D1%82%D0%BE%D0%B1%D1%83%D1%81_25\n",
      "http://www.samaratrans.info/wiki/index.php/%D0%A7%D0%B0%D0%BF%D0%B0%D0%B5%D0%B2%D1%81%D0%BA_%D0%B0%D0%B2%D1%82%D0%BE%D0%B1%D1%83%D1%81_1\n",
      "http://www.samaratrans.info/wiki/index.php/%D0%96%D0%B8%D0%B3%D1%83%D0%BB%D0%B5%D0%B2%D1%81%D0%BA_%D0%B0%D0%B2%D1%82%D0%BE%D0%B1%D1%83%D1%81_4\n",
      "http://www.samaratrans.info/wiki/index.php/%D0%91%D0%B5%D0%B7%D0%B5%D0%BD%D1%87%D1%83%D0%BA_%D0%B0%D0%B2%D1%82%D0%BE%D0%B1%D1%83%D1%81_223\n",
      "http://www.samaratrans.info/wiki/index.php/%D0%91%D0%B5%D0%B7%D0%B5%D0%BD%D1%87%D1%83%D0%BA_%D0%B0%D0%B2%D1%82%D0%BE%D0%B1%D1%83%D1%81_224\n",
      "http://www.samaratrans.info/wiki/index.php/%D0%96%D0%B8%D0%B3%D1%83%D0%BB%D0%B5%D0%B2%D1%81%D0%BA_%D0%B0%D0%B2%D1%82%D0%BE%D0%B1%D1%83%D1%81_5%D0%B4\n",
      "http://www.samaratrans.info/wiki/index.php/%D0%A1%D1%8B%D0%B7%D1%80%D0%B0%D0%BD%D1%8C_%D0%B0%D0%B2%D1%82%D0%BE%D0%B1%D1%83%D1%81_30\n",
      "http://www.samaratrans.info/wiki/index.php/%D0%91%D0%B5%D0%B7%D0%B5%D0%BD%D1%87%D1%83%D0%BA_%D0%B0%D0%B2%D1%82%D0%BE%D0%B1%D1%83%D1%81_233\n",
      "http://www.samaratrans.info/wiki/index.php/%D0%A7%D0%B0%D0%BF%D0%B0%D0%B5%D0%B2%D1%81%D0%BA_%D0%B0%D0%B2%D1%82%D0%BE%D0%B1%D1%83%D1%81_14\n",
      "http://www.samaratrans.info/wiki/index.php/%D0%91%D0%B5%D0%B7%D0%B5%D0%BD%D1%87%D1%83%D0%BA_%D0%B0%D0%B2%D1%82%D0%BE%D0%B1%D1%83%D1%81_5%D0%B0\n",
      "http://www.samaratrans.info/wiki/index.php/%D0%91%D0%B5%D0%B7%D0%B5%D0%BD%D1%87%D1%83%D0%BA_%D0%B0%D0%B2%D1%82%D0%BE%D0%B1%D1%83%D1%81_225\n",
      "http://www.samaratrans.info/wiki/index.php/%D0%9A%D0%B8%D0%BD%D0%B5%D0%BB%D1%8C_%D0%B0%D0%B2%D1%82%D0%BE%D0%B1%D1%83%D1%81_3\n",
      "http://www.samaratrans.info/wiki/index.php/%D0%96%D0%B8%D0%B3%D1%83%D0%BB%D0%B5%D0%B2%D1%81%D0%BA_%D0%B0%D0%B2%D1%82%D0%BE%D0%B1%D1%83%D1%81_11\n",
      "http://www.samaratrans.info/wiki/index.php/%D0%A7%D0%B0%D0%BF%D0%B0%D0%B5%D0%B2%D1%81%D0%BA_%D0%B0%D0%B2%D1%82%D0%BE%D0%B1%D1%83%D1%81_17\n",
      "http://www.samaratrans.info/wiki/index.php/%D0%91%D0%B5%D0%B7%D0%B5%D0%BD%D1%87%D1%83%D0%BA_%D0%B0%D0%B2%D1%82%D0%BE%D0%B1%D1%83%D1%81_4\n",
      "http://www.samaratrans.info/wiki/index.php/%D0%9C%D0%9F_%D0%A2%D0%A2%D0%A3_%D0%A2%D0%BE%D0%BB%D1%8C%D1%8F%D1%82%D1%82%D0%B8\n",
      "http://www.samaratrans.info/wiki/index.php/%D0%A1%D1%8B%D0%B7%D1%80%D0%B0%D0%BD%D1%8C_%D0%B0%D0%B2%D1%82%D0%BE%D0%B1%D1%83%D1%81_33\n",
      "http://www.samaratrans.info/wiki/index.php/%D0%A1%D1%8B%D0%B7%D1%80%D0%B0%D0%BD%D1%8C_%D0%B0%D0%B2%D1%82%D0%BE%D0%B1%D1%83%D1%81_2\n",
      "http://www.samaratrans.info/wiki/index.php/%D0%A2%D0%BE%D0%BB%D1%8C%D1%8F%D1%82%D1%82%D0%B8_%D0%B0%D0%B2%D1%82%D0%BE%D0%B1%D1%83%D1%81_254/281/266\n",
      "http://www.samaratrans.info/wiki/index.php/%D0%9F%D0%BE%D1%85%D0%B2%D0%B8%D1%81%D1%82%D0%BD%D0%B5%D0%B2%D0%BE_%D0%B0%D0%B2%D1%82%D0%BE%D0%B1%D1%83%D1%81_3\n",
      "http://www.samaratrans.info/wiki/index.php/%D0%A1%D1%8B%D0%B7%D1%80%D0%B0%D0%BD%D1%8C_%D0%B0%D0%B2%D1%82%D0%BE%D0%B1%D1%83%D1%81_6\n",
      "http://www.samaratrans.info/wiki/index.php/%D0%A1%D1%8B%D0%B7%D1%80%D0%B0%D0%BD%D1%8C_%D0%B0%D0%B2%D1%82%D0%BE%D0%B1%D1%83%D1%81_99\n",
      "http://www.samaratrans.info/wiki/index.php/%D0%A1%D1%8B%D0%B7%D1%80%D0%B0%D0%BD%D1%8C_%D0%B0%D0%B2%D1%82%D0%BE%D0%B1%D1%83%D1%81_15\n",
      "http://www.samaratrans.info/wiki/index.php/%D0%91%D0%B5%D0%B7%D0%B5%D0%BD%D1%87%D1%83%D0%BA_%D0%B0%D0%B2%D1%82%D0%BE%D0%B1%D1%83%D1%81_3\n",
      "http://www.samaratrans.info/wiki/index.php/%D0%A7%D0%B0%D0%BF%D0%B0%D0%B5%D0%B2%D1%81%D0%BA_%D0%B0%D0%B2%D1%82%D0%BE%D0%B1%D1%83%D1%81_8\n"
     ]
    }
   ],
   "source": [
    "for i in lst2:\n",
    "    if 'edit' not in i:\n",
    "        print(i)"
   ]
  },
  {
   "cell_type": "code",
   "execution_count": 133,
   "metadata": {},
   "outputs": [
    {
     "name": "stdout",
     "output_type": "stream",
     "text": [
      "94\n"
     ]
    }
   ],
   "source": [
    "print(len(lst2))"
   ]
  },
  {
   "cell_type": "code",
   "execution_count": null,
   "metadata": {},
   "outputs": [],
   "source": []
  },
  {
   "cell_type": "code",
   "execution_count": 110,
   "metadata": {},
   "outputs": [],
   "source": [
    "city = lst_ct[0]\n",
    "lst_links = linksCity(city)\n",
    "url_grp = lst_links[3]"
   ]
  },
  {
   "cell_type": "code",
   "execution_count": 137,
   "metadata": {},
   "outputs": [],
   "source": [
    "url = lst2[0]\n",
    "grp_name = 'error'\n",
    "city = 'city'"
   ]
  },
  {
   "cell_type": "code",
   "execution_count": null,
   "metadata": {},
   "outputs": [],
   "source": []
  },
  {
   "cell_type": "code",
   "execution_count": 138,
   "metadata": {},
   "outputs": [
    {
     "ename": "IndexError",
     "evalue": "list index out of range",
     "output_type": "error",
     "traceback": [
      "\u001b[1;31m---------------------------------------------------------------------------\u001b[0m",
      "\u001b[1;31mIndexError\u001b[0m                                Traceback (most recent call last)",
      "\u001b[1;32m<ipython-input-138-4eb74d6ac958>\u001b[0m in \u001b[0;36m<module>\u001b[1;34m\u001b[0m\n\u001b[0;32m     53\u001b[0m \u001b[0mstr1\u001b[0m \u001b[1;33m=\u001b[0m \u001b[0ml2\u001b[0m\u001b[1;33m[\u001b[0m\u001b[1;36m0\u001b[0m\u001b[1;33m]\u001b[0m\u001b[1;33m[\u001b[0m\u001b[1;36m0\u001b[0m\u001b[1;33m]\u001b[0m\u001b[1;33m\u001b[0m\u001b[1;33m\u001b[0m\u001b[0m\n\u001b[0;32m     54\u001b[0m \u001b[0mstr1\u001b[0m \u001b[1;33m=\u001b[0m \u001b[0mstr1\u001b[0m\u001b[1;33m.\u001b[0m\u001b[0mreplace\u001b[0m\u001b[1;33m(\u001b[0m\u001b[1;34m\"\\n\\n\"\u001b[0m\u001b[1;33m,\u001b[0m\u001b[1;34m\"\\n\"\u001b[0m\u001b[1;33m)\u001b[0m\u001b[1;33m\u001b[0m\u001b[1;33m\u001b[0m\u001b[0m\n\u001b[1;32m---> 55\u001b[1;33m \u001b[0mrt_nm\u001b[0m \u001b[1;33m=\u001b[0m \u001b[0mstr1\u001b[0m\u001b[1;33m.\u001b[0m\u001b[0msplit\u001b[0m\u001b[1;33m(\u001b[0m\u001b[1;34m\"\\n\"\u001b[0m\u001b[1;33m)\u001b[0m\u001b[1;33m[\u001b[0m\u001b[1;36m1\u001b[0m\u001b[1;33m]\u001b[0m\u001b[1;33m[\u001b[0m\u001b[1;36m2\u001b[0m\u001b[1;33m:\u001b[0m\u001b[1;33m]\u001b[0m\u001b[1;33m.\u001b[0m\u001b[0msplit\u001b[0m\u001b[1;33m(\u001b[0m\u001b[1;34m\"№\"\u001b[0m\u001b[1;33m)\u001b[0m\u001b[1;33m[\u001b[0m\u001b[1;36m1\u001b[0m\u001b[1;33m]\u001b[0m\u001b[1;33m\u001b[0m\u001b[1;33m\u001b[0m\u001b[0m\n\u001b[0m\u001b[0;32m     56\u001b[0m \u001b[0mrt_nm\u001b[0m \u001b[1;33m=\u001b[0m \u001b[0mrt_nm\u001b[0m\u001b[1;33m.\u001b[0m\u001b[0msplit\u001b[0m\u001b[1;33m(\u001b[0m\u001b[1;34m'\"'\u001b[0m\u001b[1;33m,\u001b[0m \u001b[1;36m1\u001b[0m\u001b[1;33m)\u001b[0m\u001b[1;33m[\u001b[0m\u001b[1;36m1\u001b[0m\u001b[1;33m]\u001b[0m\u001b[1;33m[\u001b[0m\u001b[1;33m:\u001b[0m\u001b[1;33m-\u001b[0m\u001b[1;36m1\u001b[0m\u001b[1;33m]\u001b[0m\u001b[1;33m\u001b[0m\u001b[1;33m\u001b[0m\u001b[0m\n\u001b[0;32m     57\u001b[0m \u001b[1;33m\u001b[0m\u001b[0m\n",
      "\u001b[1;31mIndexError\u001b[0m: list index out of range"
     ]
    }
   ],
   "source": [
    "# def getInfo(url,grp_name,city):\n",
    "req = requests.get(url)\n",
    "bs = BeautifulSoup(req.text, 'html.parser')\n",
    "\n",
    "region = grp_name\n",
    "#     region='муниципальный'\n",
    "str_url = checkEnd(url)\n",
    "\n",
    "lst = str_url.split(\"_\")\n",
    "# 2 - номер маршрута\n",
    "nmbr = lst[-1]\n",
    "# 1 - тип транспорта\n",
    "tp_ts = lst[-2]\n",
    "# rt_nmbr = url.rsplit(\"_\",1)[1]\n",
    "\n",
    "def getTable(table_rows):\n",
    "    l = []\n",
    "    for tr in table_rows:\n",
    "        try:\n",
    "            td = tr.find_all('td')\n",
    "            row = [tr.text for tr in td]\n",
    "            l.append(row)\n",
    "        except:\n",
    "            pass\n",
    "    #\n",
    "    return l\n",
    "#\n",
    "# 2 - содержание\n",
    "# 3 - маршрут следования\n",
    "# 5 - оп в прямом направлении\n",
    "# 6 - оп в обратном направлении\n",
    "# 7 - особенности работы\n",
    "# 8 - расписание (две версии, для регионов!!)\n",
    "\n",
    "all_tables = bs.find_all(\"table\")\n",
    "l2 = getTable(all_tables[2])\n",
    "l3 = getTable(all_tables[3])\n",
    "l5 = getTable(all_tables[5])\n",
    "l6 = getTable(all_tables[6])\n",
    "l7 = getTable(all_tables[7])\n",
    "l8 = getTable(all_tables[8])\n",
    "\n",
    "\n",
    "###\n",
    "# если кольцевой!!!\n",
    "if ['обратное направление\\n'] not in l6:\n",
    "    l8 = l7\n",
    "    l7 = l6\n",
    "###\n",
    "\n",
    "####\n",
    "# 3 - наименование маршрута\n",
    "str1 = l2[0][0]\n",
    "str1 = str1.replace(\"\\n\\n\",\"\\n\")\n",
    "rt_nm = str1.split(\"\\n\")[1][2:].split(\"№\")[1]\n",
    "rt_nm = rt_nm.split('\"', 1)[1][:-1]\n",
    "\n",
    "####\n",
    "# 4 -маршрут следования\n",
    "route_frw = l3[0][1]\n",
    "try:\n",
    "    route_bckw = l3[1][1]\n",
    "except:\n",
    "    route_bckw = 'кольцевой'\n",
    "####\n",
    "\n",
    "####\n",
    "# 5,6 - список оп\n",
    "def stops(l):\n",
    "#\n",
    "    str_all=''\n",
    "    for row in l[2:]:\n",
    "        rw = []\n",
    "        for i in row:\n",
    "            i = i.replace(\"\\n\",\"\")\n",
    "            rw.append(i)\n",
    "        str1 = rw[1]\n",
    "        str_all = str_all + \"_\" + str1\n",
    "    #\n",
    "    str_all = str_all[1:]\n",
    "    return str_all\n",
    "# \n",
    "stops_frw = stops(l5)\n",
    "try:\n",
    "    stops_bckw = stops(l6)\n",
    "except:\n",
    "    stops_bckw = 'кольцевой'\n",
    "####\n",
    "\n",
    "####\n",
    "# 7) Режим работы\n",
    "# 8) Интервалы движения\n",
    "# 9) Выпуск на линию\n",
    "# 10) Время в пути\n",
    "# 11) Протяжённость маршрута\n",
    "# 12) Обслуживающие предприятия\n",
    "# 13) Подвижной состав\n",
    "# 14) Стоимость проезда\n",
    "# 15) Место отстоя \n",
    "\n",
    "nlst = []\n",
    "for row in l7:\n",
    "    tmplst = []\n",
    "    for j in row:\n",
    "        j = j.replace(\"\\n\",\"\")\n",
    "        tmplst.append(j)\n",
    "    nlst.append(tmplst)\n",
    "# \n",
    "\n",
    "work_time = nlst[0][1]\n",
    "intervs = nlst[1][1]\n",
    "amnt_mch = nlst[2][1]\n",
    "duration = nlst[3][1]\n",
    "length = nlst[4][1]\n",
    "orgnztn = nlst[5][1]\n",
    "podv_sost = nlst[6][1]\n",
    "payment = nlst[7][1]\n",
    "place_rest = nlst[8][1]\n",
    "####\n",
    "\n",
    "\n",
    "# get all to list\n",
    "lst_all = [city,tp_ts,region,nmbr,rt_nm,route_frw,route_bckw,stops_frw,stops_bckw,\n",
    "                work_time,intervs,amnt_mch,duration,length,orgnztn,podv_sost,payment,place_rest,url]\n",
    "#\n",
    "#     return lst_all"
   ]
  },
  {
   "cell_type": "code",
   "execution_count": null,
   "metadata": {},
   "outputs": [],
   "source": []
  },
  {
   "cell_type": "code",
   "execution_count": null,
   "metadata": {},
   "outputs": [],
   "source": [
    "for i in range(len(all_tables)):\n",
    "    l = getTable(all_tables[i])\n",
    "    if 'Содержание'in l[0][0]:\n",
    "        l2 = l\n",
    "    elif ('прямое направление'in l[0][0]) & (len(l[0][0]) < 25):\n",
    "        if '№п' not in l[1][0]:\n",
    "            l3 = l\n",
    "        else:\n",
    "            l5 = l"
   ]
  },
  {
   "cell_type": "code",
   "execution_count": null,
   "metadata": {},
   "outputs": [],
   "source": []
  },
  {
   "cell_type": "code",
   "execution_count": 157,
   "metadata": {},
   "outputs": [
    {
     "data": {
      "text/plain": [
       "20"
      ]
     },
     "execution_count": 157,
     "metadata": {},
     "output_type": "execute_result"
    }
   ],
   "source": [
    "len(l2[0][0])"
   ]
  },
  {
   "cell_type": "code",
   "execution_count": 162,
   "metadata": {},
   "outputs": [
    {
     "data": {
      "text/plain": [
       "'№п/п\\n'"
      ]
     },
     "execution_count": 162,
     "metadata": {},
     "output_type": "execute_result"
    }
   ],
   "source": [
    "getTable(all_tables[4])[1][0]"
   ]
  },
  {
   "cell_type": "code",
   "execution_count": null,
   "metadata": {},
   "outputs": [],
   "source": []
  }
 ],
 "metadata": {
  "kernelspec": {
   "display_name": "Python 3",
   "language": "python",
   "name": "python3"
  },
  "language_info": {
   "codemirror_mode": {
    "name": "ipython",
    "version": 3
   },
   "file_extension": ".py",
   "mimetype": "text/x-python",
   "name": "python",
   "nbconvert_exporter": "python",
   "pygments_lexer": "ipython3",
   "version": "3.7.3"
  }
 },
 "nbformat": 4,
 "nbformat_minor": 4
}
