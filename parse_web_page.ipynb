{
 "cells": [
  {
   "cell_type": "code",
   "execution_count": 1,
   "metadata": {},
   "outputs": [],
   "source": [
    "import pandas as pd\n",
    "from bs4 import BeautifulSoup\n",
    "import requests\n",
    "import re\n",
    "import urllib"
   ]
  },
  {
   "cell_type": "code",
   "execution_count": null,
   "metadata": {},
   "outputs": [],
   "source": []
  },
  {
   "cell_type": "code",
   "execution_count": 2,
   "metadata": {},
   "outputs": [],
   "source": [
    "# url=\"http://www.samaratrans.info/wiki/index.php/%D0%A1%D0%B0%D0%BC%D0%B0%D1%80%D0%B0_%D0%B0%D0%B2%D1%82%D0%BE%D0%B1%D1%83%D1%81_1\"\n"
   ]
  },
  {
   "cell_type": "code",
   "execution_count": null,
   "metadata": {},
   "outputs": [],
   "source": []
  },
  {
   "cell_type": "code",
   "execution_count": 354,
   "metadata": {},
   "outputs": [],
   "source": [
    "def getInfo(url,grp_name):\n",
    "    req = requests.get(url)\n",
    "    bs = BeautifulSoup(req.text, 'html.parser')\n",
    "\n",
    "    #!!!!!!!!!!!!!!!!!!!\n",
    "    region = grp_name\n",
    "#     region='муниципальный'\n",
    "    #!!!!!!!!!!!!!!!!!!!\n",
    "    str_url = checkEnd(url)\n",
    "\n",
    "#     the_string = url.rsplit('/',1)[1]\n",
    "#     srch = re.search('[а-яА-Я]', the_string) \n",
    "#     if srch == None:\n",
    "#         str_url = urllib.parse.unquote(the_string)\n",
    "#     else:\n",
    "#         str_url = the_string\n",
    "#     #\n",
    "    lst = str_url.split(\"_\")\n",
    "    # 2 - номер маршрута\n",
    "    nmbr = lst[-1]\n",
    "    # 1 - тип транспорта\n",
    "    tp_ts = lst[-2]\n",
    "    # rt_nmbr = url.rsplit(\"_\",1)[1]\n",
    "\n",
    "    def getTable(table_rows):\n",
    "        l = []\n",
    "        for tr in table_rows:\n",
    "            try:\n",
    "                td = tr.find_all('td')\n",
    "                row = [tr.text for tr in td]\n",
    "                l.append(row)\n",
    "            except:\n",
    "                pass\n",
    "        #\n",
    "        return l\n",
    "    #\n",
    "    # 2 - содержание\n",
    "    # 3 - маршрут следования\n",
    "    # 5 - оп в прямом направлении\n",
    "    # 6 - оп в обратном направлении\n",
    "    # 7 - особенности работы\n",
    "    # 8 - расписание (две версии, для регионов!!)\n",
    "\n",
    "    all_tables = bs.find_all(\"table\")\n",
    "    l2 = getTable(all_tables[2])\n",
    "    l3 = getTable(all_tables[3])\n",
    "    l5 = getTable(all_tables[5])\n",
    "    l6 = getTable(all_tables[6])\n",
    "    l7 = getTable(all_tables[7])\n",
    "    l8 = getTable(all_tables[8])\n",
    "\n",
    "    ####\n",
    "    # 3 - наименование маршрута\n",
    "    str1 = l2[0][0]\n",
    "    str1 = str1.replace(\"\\n\\n\",\"\\n\")\n",
    "    rt_nm = str1.split(\"\\n\")[1][2:].split(\"№\")[1]\n",
    "    rt_nm = rt_nm.split('\"', 1)[1][:-1]\n",
    "\n",
    "    ####\n",
    "    # 4 -маршрут следования\n",
    "    route_frw = l3[0][1]\n",
    "    route_bckw = l3[1][1]\n",
    "    ####\n",
    "\n",
    "    ####\n",
    "    # 5,6 - список оп\n",
    "    def stops(l):\n",
    "    #\n",
    "        str_all=''\n",
    "        for row in l[2:]:\n",
    "            rw = []\n",
    "            for i in row:\n",
    "                i = i.replace(\"\\n\",\"\")\n",
    "                rw.append(i)\n",
    "            str1 = rw[1]\n",
    "            str_all = str_all + \"_\" + str1\n",
    "        #\n",
    "        str_all = str_all[1:]\n",
    "        return str_all\n",
    "    # \n",
    "    stops_frw = stops(l5)\n",
    "    try:\n",
    "        stops_bckw = stops(l6)\n",
    "    except:\n",
    "        stops_bckw = 'кольцевой'\n",
    "    ####\n",
    "\n",
    "    ####\n",
    "    # 7) Режим работы\n",
    "    # 8) Интервалы движения\n",
    "    # 9) Выпуск на линию\n",
    "    # 10) Время в пути\n",
    "    # 11) Протяжённость маршрута\n",
    "    # 12) Обслуживающие предприятия\n",
    "    # 13) Подвижной состав\n",
    "    # 14) Стоимость проезда\n",
    "    # 15) Место отстоя \n",
    "\n",
    "    nlst = []\n",
    "    for row in l7:\n",
    "        tmplst = []\n",
    "        for j in row:\n",
    "            j = j.replace(\"\\n\",\"\")\n",
    "            tmplst.append(j)\n",
    "        nlst.append(tmplst)\n",
    "    # \n",
    "\n",
    "    work_time = nlst[0][1]\n",
    "    intervs = nlst[1][1]\n",
    "    amnt_mch = nlst[2][1]\n",
    "    duration = nlst[3][1]\n",
    "    length = nlst[4][1]\n",
    "    orgnztn = nlst[5][1]\n",
    "    podv_sost = nlst[6][1]\n",
    "    payment = nlst[7][1]\n",
    "    place_rest = nlst[8][1]\n",
    "    ####\n",
    "\n",
    "\n",
    "    # get all to list\n",
    "    lst_all = [tp_ts,region,nmbr,rt_nm,route_frw,route_bckw,stops_frw,stops_bckw,\n",
    "                    work_time,intervs,amnt_mch,duration,length,orgnztn,podv_sost,payment,place_rest,url]\n",
    "    #\n",
    "    return lst_all"
   ]
  },
  {
   "cell_type": "code",
   "execution_count": null,
   "metadata": {},
   "outputs": [],
   "source": []
  },
  {
   "cell_type": "code",
   "execution_count": 156,
   "metadata": {},
   "outputs": [],
   "source": [
    "# lst1 = getInfo(url)"
   ]
  },
  {
   "cell_type": "code",
   "execution_count": null,
   "metadata": {},
   "outputs": [],
   "source": []
  },
  {
   "cell_type": "code",
   "execution_count": null,
   "metadata": {},
   "outputs": [],
   "source": []
  },
  {
   "cell_type": "code",
   "execution_count": null,
   "metadata": {},
   "outputs": [],
   "source": []
  },
  {
   "cell_type": "code",
   "execution_count": 98,
   "metadata": {},
   "outputs": [
    {
     "name": "stdout",
     "output_type": "stream",
     "text": [
      "8-20\n"
     ]
    }
   ],
   "source": [
    "# reg = re.compile('[^0-9-]')\n",
    "# one_line = df['data'][1].split(\" мин\")[0]\n",
    "# if \"раб\" in one_line:\n",
    "#     one_line2 = one_line.split(\":\")[1]\n",
    "#     one_line2 = reg.sub('', one_line2)\n",
    "#     print(one_line2)"
   ]
  },
  {
   "cell_type": "code",
   "execution_count": null,
   "metadata": {},
   "outputs": [],
   "source": []
  },
  {
   "cell_type": "code",
   "execution_count": null,
   "metadata": {},
   "outputs": [],
   "source": []
  },
  {
   "cell_type": "code",
   "execution_count": null,
   "metadata": {},
   "outputs": [],
   "source": []
  },
  {
   "cell_type": "code",
   "execution_count": null,
   "metadata": {},
   "outputs": [],
   "source": []
  },
  {
   "cell_type": "code",
   "execution_count": null,
   "metadata": {},
   "outputs": [],
   "source": []
  },
  {
   "cell_type": "code",
   "execution_count": null,
   "metadata": {},
   "outputs": [],
   "source": []
  },
  {
   "cell_type": "code",
   "execution_count": null,
   "metadata": {},
   "outputs": [],
   "source": []
  },
  {
   "cell_type": "code",
   "execution_count": null,
   "metadata": {},
   "outputs": [],
   "source": []
  },
  {
   "cell_type": "code",
   "execution_count": null,
   "metadata": {},
   "outputs": [],
   "source": []
  },
  {
   "cell_type": "code",
   "execution_count": 279,
   "metadata": {},
   "outputs": [],
   "source": [
    "def checkGrpNm(tmp_grp_nm):\n",
    "    if tmp_grp_nm == 'маршруты':\n",
    "        grp_name = 'муниципальный'\n",
    "    elif  tmp_grp_nm == 'коммерческий_маршруты':\n",
    "        grp_name = 'коммерческий'\n",
    "    elif  tmp_grp_nm == 'пригородный_расписания':\n",
    "        grp_name = 'пригородный'\n",
    "    elif  tmp_grp_nm == 'сезонный_маршруты':\n",
    "        grp_name = 'сезонный'\n",
    "    elif  tmp_grp_nm == 'междугородный_расписания':\n",
    "        grp_name = 'междугородний'\n",
    "    else:\n",
    "        grp_name = 'другой'\n",
    "    # \n",
    "    return grp_name"
   ]
  },
  {
   "cell_type": "code",
   "execution_count": 280,
   "metadata": {},
   "outputs": [],
   "source": [
    "def checkEnd(url):\n",
    "    the_string = url.rsplit('/',1)[1]\n",
    "    srch = re.search('[а-яА-Я]', the_string) \n",
    "    if srch == None:\n",
    "        str_url = urllib.parse.unquote(the_string)\n",
    "    else:\n",
    "        str_url = the_string\n",
    "    #\n",
    "    return str_url"
   ]
  },
  {
   "cell_type": "code",
   "execution_count": 281,
   "metadata": {},
   "outputs": [],
   "source": [
    "def linksCity(city):\n",
    "    lst_links_city = []\n",
    "    lst_types = ['автобус', 'троллейбус', 'трамвай']\n",
    "    lst_route_type = ['маршруты','коммерческий_маршруты', \n",
    "                  'пригородный_расписания','сезонный_маршруты','междугородный_расписания']\n",
    "    #\n",
    "    city_link = 'http://www.samaratrans.info/wiki/index.php/' + city\n",
    "    i=0\n",
    "    for i in range(len(lst_types)):\n",
    "        tp_link = city_link + '_' + lst_types[i] + '_' + lst_route_type[0]\n",
    "        lst_links_city.append(tp_link)\n",
    "    #\n",
    "    bus_link = city_link + '_' + lst_types[0]\n",
    "    \n",
    "    i=0\n",
    "    for i in range(1,len(lst_route_type)):\n",
    "        link = bus_link + '_' + lst_route_type[i]\n",
    "        lst_links_city.append(link)\n",
    "    #\n",
    "    return lst_links_city"
   ]
  },
  {
   "cell_type": "code",
   "execution_count": 282,
   "metadata": {},
   "outputs": [],
   "source": [
    "def routeLinks(url_grp):\n",
    "    links=[]\n",
    "    stfa = soup.find_all('table')\n",
    "    for link in stfa[2].find_all('b'):\n",
    "        try:\n",
    "            lsh = 'http://www.samaratrans.info' + link.find_all('a')[0].get(\"href\")\n",
    "            links.append(lsh)\n",
    "        except:\n",
    "            pass\n",
    "    # \n",
    "    return links"
   ]
  },
  {
   "cell_type": "code",
   "execution_count": null,
   "metadata": {},
   "outputs": [],
   "source": []
  },
  {
   "cell_type": "code",
   "execution_count": null,
   "metadata": {},
   "outputs": [],
   "source": []
  },
  {
   "cell_type": "code",
   "execution_count": 298,
   "metadata": {},
   "outputs": [],
   "source": [
    "def getCityData(city):\n",
    "    lst_links = linksCity(city)\n",
    "    all_group=[]\n",
    "    for grp in range(len(lst_links)):\n",
    "        tmp_grp_nm = checkEnd(lst_links[grp]).split(\"_\",2)[-1]\n",
    "        grp_name = checkGrpNm(tmp_grp_nm)\n",
    "        \n",
    "        lst_group = routeLinks(lst_links[grp])\n",
    "        all_routes=[]\n",
    "        for rtl in range(len(lst_group)):\n",
    "            try:\n",
    "                one_route = getInfo(lst_group[rtl],grp_name)\n",
    "            except:\n",
    "                one_route = [lst_group[rtl]] * 18\n",
    "            all_routes.append(one_route)\n",
    "        all_group.append(all_routes)\n",
    "    return all_group\n",
    "# "
   ]
  },
  {
   "cell_type": "code",
   "execution_count": null,
   "metadata": {},
   "outputs": [],
   "source": []
  },
  {
   "cell_type": "code",
   "execution_count": null,
   "metadata": {},
   "outputs": [],
   "source": []
  },
  {
   "cell_type": "code",
   "execution_count": null,
   "metadata": {},
   "outputs": [],
   "source": []
  },
  {
   "cell_type": "code",
   "execution_count": null,
   "metadata": {},
   "outputs": [],
   "source": [
    "# 18"
   ]
  },
  {
   "cell_type": "code",
   "execution_count": 284,
   "metadata": {},
   "outputs": [],
   "source": [
    "lst_ct = ['Самара', 'Тольятти', 'Сызрань', 'Новокуйбышевск', \n",
    "          'Чапаевск', 'Жигулевск', 'Отрадный', 'Кинель', 'Похвистнево', 'Безенчук']"
   ]
  },
  {
   "cell_type": "code",
   "execution_count": null,
   "metadata": {},
   "outputs": [],
   "source": [
    "# lst_big = []\n",
    "# for i in range(len(lst_ct)):\n",
    "#     lst = getCityData(lst_ct[i])\n",
    "#     lst_big.append(lst)"
   ]
  },
  {
   "cell_type": "code",
   "execution_count": 285,
   "metadata": {},
   "outputs": [],
   "source": [
    "# import time"
   ]
  },
  {
   "cell_type": "code",
   "execution_count": null,
   "metadata": {},
   "outputs": [],
   "source": [
    "%time lst = getCityData(lst_ct[0])"
   ]
  },
  {
   "cell_type": "code",
   "execution_count": null,
   "metadata": {},
   "outputs": [],
   "source": []
  },
  {
   "cell_type": "code",
   "execution_count": null,
   "metadata": {},
   "outputs": [],
   "source": [
    "clmn = []\n",
    "for i in range(1,len(lst[0])+1):\n",
    "    str1 = str(i)+'str'\n",
    "    clmn.append(str1)\n",
    "# "
   ]
  },
  {
   "cell_type": "code",
   "execution_count": null,
   "metadata": {
    "scrolled": true
   },
   "outputs": [],
   "source": [
    "df = pd.DataFrame(data=lst,columns=clmn)"
   ]
  },
  {
   "cell_type": "code",
   "execution_count": null,
   "metadata": {},
   "outputs": [],
   "source": []
  },
  {
   "cell_type": "code",
   "execution_count": null,
   "metadata": {},
   "outputs": [],
   "source": [
    "not_ok = df[df[\"1str\"].str.contains(\"www\", na=False)].reset_index(drop=True)"
   ]
  },
  {
   "cell_type": "code",
   "execution_count": null,
   "metadata": {},
   "outputs": [],
   "source": [
    "print(len(not_ok))"
   ]
  },
  {
   "cell_type": "code",
   "execution_count": null,
   "metadata": {},
   "outputs": [],
   "source": []
  },
  {
   "cell_type": "code",
   "execution_count": 353,
   "metadata": {},
   "outputs": [
    {
     "name": "stdout",
     "output_type": "stream",
     "text": [
      "http://www.samaratrans.info/wiki/index.php/%D0%A1%D0%B0%D0%BC%D0%B0%D1%80%D0%B0_%D0%B0%D0%B2%D1%82%D0%BE%D0%B1%D1%83%D1%81_7\n"
     ]
    }
   ],
   "source": [
    "print(not_ok[\"1str\"][0])"
   ]
  },
  {
   "cell_type": "code",
   "execution_count": null,
   "metadata": {},
   "outputs": [],
   "source": []
  }
 ],
 "metadata": {
  "kernelspec": {
   "display_name": "Python 3",
   "language": "python",
   "name": "python3"
  },
  "language_info": {
   "codemirror_mode": {
    "name": "ipython",
    "version": 3
   },
   "file_extension": ".py",
   "mimetype": "text/x-python",
   "name": "python",
   "nbconvert_exporter": "python",
   "pygments_lexer": "ipython3",
   "version": "3.7.3"
  }
 },
 "nbformat": 4,
 "nbformat_minor": 4
}
