{
 "cells": [
  {
   "cell_type": "code",
   "execution_count": 1,
   "metadata": {},
   "outputs": [],
   "source": [
    "import pandas as pd\n",
    "from bs4 import BeautifulSoup\n",
    "import requests\n",
    "import re\n",
    "import urllib"
   ]
  },
  {
   "cell_type": "code",
   "execution_count": null,
   "metadata": {},
   "outputs": [],
   "source": []
  },
  {
   "cell_type": "code",
   "execution_count": null,
   "metadata": {},
   "outputs": [],
   "source": [
    "# url=\"http://www.samaratrans.info/wiki/index.php/%D0%A1%D0%B0%D0%BC%D0%B0%D1%80%D0%B0_%D0%B0%D0%B2%D1%82%D0%BE%D0%B1%D1%83%D1%81_1\"\n"
   ]
  },
  {
   "cell_type": "code",
   "execution_count": null,
   "metadata": {},
   "outputs": [],
   "source": []
  },
  {
   "cell_type": "code",
   "execution_count": 383,
   "metadata": {},
   "outputs": [],
   "source": [
    "def getTable(table_rows):\n",
    "    l = []\n",
    "    for tr in table_rows:\n",
    "        try:\n",
    "            td = tr.find_all('td')\n",
    "            row = [tr.text for tr in td]\n",
    "            l.append(row)\n",
    "        except:\n",
    "            pass\n",
    "    #\n",
    "    return l"
   ]
  },
  {
   "cell_type": "code",
   "execution_count": 523,
   "metadata": {},
   "outputs": [],
   "source": [
    "def end(city,tp_ts,region,nmbr,rt_nm,route_frw,route_bckw,stops_frw,stops_bckw,nlst,url):\n",
    "    lst_all = [city,tp_ts,region,nmbr,rt_nm,route_frw,route_bckw,stops_frw,stops_bckw]\n",
    "    \n",
    "    def foo(nlst,i):\n",
    "        return nlst[i][1]\n",
    "\n",
    "    for i in range(9):\n",
    "        try: \n",
    "            tmp = foo(nlst,i)\n",
    "        except:\n",
    "            tmp = None\n",
    "        lst_all.append(tmp)\n",
    "    # \n",
    "    lst_all.append(url)\n",
    "    return lst_all"
   ]
  },
  {
   "cell_type": "code",
   "execution_count": 524,
   "metadata": {},
   "outputs": [],
   "source": [
    "def getInfo(url,grp_name,city):\n",
    "    req = requests.get(url)\n",
    "    bs = BeautifulSoup(req.text, 'html.parser')\n",
    "    \n",
    "    region = grp_name\n",
    "    #     region='муниципальный'\n",
    "    str_url = checkEnd(url)\n",
    "    \n",
    "    lst = str_url.split(\"_\")\n",
    "    # 2 - номер маршрута\n",
    "    nmbr = lst[-1]\n",
    "    # 1 - тип транспорта\n",
    "    tp_ts = lst[-2]\n",
    "    # rt_nmbr = url.rsplit(\"_\",1)[1]\n",
    "    \n",
    "    # 2 - содержание\n",
    "    # 3 - маршрут следования\n",
    "    # 5 - оп в прямом направлении\n",
    "    # 6 - оп в обратном направлении\n",
    "    # 7 - особенности работы\n",
    "    # 8 - расписание (две версии, для регионов!!)\n",
    "\n",
    "    #####\n",
    "\n",
    "    all_tables = bs.find_all(\"table\")\n",
    "\n",
    "    #######\n",
    "    l2,l3,l4,l5,l6,l7,l8 = [],[],[],[],[],[],[]\n",
    "    for i in range(len(all_tables)):\n",
    "        l = getTable(all_tables[i])\n",
    "        if 'Содержание'in l[0][0]:\n",
    "            l2 = l\n",
    "        elif ('направление'in l[0][0]) & (len(l[0][0]) < 40):\n",
    "            try: \n",
    "                tmp = l[1][0]\n",
    "            except:\n",
    "                tmp = ''\n",
    "            if ('прям' in l[0][0]) | ('прям' in tmp):\n",
    "                if '№п' not in tmp:\n",
    "                    l3 = l\n",
    "                else:\n",
    "                    l5 = l\n",
    "            elif ('обратн' in l[0][0]) | ('обратн' in tmp):\n",
    "                if '№п' in tmp:\n",
    "                    l6 = l\n",
    "            #\n",
    "        elif ('обратное'in l[0][0]) & (len(l[0][0]) < 40):\n",
    "            try: \n",
    "                tmp = l[1][0]\n",
    "            except:\n",
    "                tmp = ''\n",
    "            if '№п' in tmp:\n",
    "                l6 = l\n",
    "        elif 'работы'in l[0][0]:\n",
    "            l7 = l\n",
    "        else:\n",
    "            l8 = l\n",
    "    # \n",
    "\n",
    "    ####\n",
    "    # 3 - наименование маршрута\n",
    "    str1 = l2[0][0]\n",
    "    str1 = str1.replace(\"\\n\\n\",\"\\n\")\n",
    "    rt_nm = str1.split(\"\\n\")[1][2:].split(\"маршрут \")[1]\n",
    "    rt_nm = rt_nm.split('\"', 1)[1][:-1]\n",
    "\n",
    "    ####\n",
    "    # 4 -маршрут следования\n",
    "    route_frw = l3[0][1]\n",
    "    try:\n",
    "        route_bckw = l3[1][1]\n",
    "    except:\n",
    "        route_bckw = 'кольцевой'\n",
    "    ####\n",
    "\n",
    "    ####\n",
    "    # 5,6 - список оп\n",
    "    def stops(l):\n",
    "    #\n",
    "        str_all=''\n",
    "        for row in l[2:]:\n",
    "            rw = []\n",
    "            for i in row:\n",
    "                i = i.replace(\"\\n\",\"\")\n",
    "                rw.append(i)\n",
    "            str1 = rw[1]\n",
    "            str_all = str_all + \"_\" + str1\n",
    "        #\n",
    "        str_all = str_all[1:]\n",
    "        return str_all\n",
    "    # \n",
    "    stops_frw = stops(l5)\n",
    "    try:\n",
    "        stops_bckw = stops(l6)\n",
    "    except:\n",
    "        stops_bckw = 'кольцевой'\n",
    "    ####\n",
    "\n",
    "    ####\n",
    "    # 7) Режим работы\n",
    "    # 8) Интервалы движения\n",
    "    # 9) Выпуск на линию\n",
    "    # 10) Время в пути\n",
    "    # 11) Протяжённость маршрута\n",
    "    # 12) Обслуживающие предприятия\n",
    "    # 13) Подвижной состав\n",
    "    # 14) Стоимость проезда\n",
    "    # 15) Место отстоя \n",
    "\n",
    "    nlst = []\n",
    "    for row in l7:\n",
    "        tmplst = []\n",
    "        for j in row:\n",
    "            j = j.replace(\"\\n\",\"\")\n",
    "            tmplst.append(j)\n",
    "        nlst.append(tmplst)\n",
    "    # \n",
    "    lst_all = end(city,tp_ts,region,nmbr,rt_nm,route_frw,route_bckw,stops_frw,stops_bckw,nlst,url)\n",
    "    \n",
    "#     lst_all = [city,tp_ts,region,nmbr,rt_nm,route_frw,route_bckw,stops_frw,stops_bckw]\n",
    "#     #                     work_time,intervs,amnt_mch,duration,length,orgnztn,podv_sost,payment,place_rest,url]\n",
    "    \n",
    "#     def foo(nlst,i):\n",
    "#         return nlst[i][1]\n",
    "\n",
    "#     for i in range(9):\n",
    "#         try: \n",
    "#             tmp = foo(nlst,i)\n",
    "#         except:\n",
    "#             tmp = None\n",
    "#         lst_all.append(tmp)\n",
    "#     # \n",
    "#     lst_all.append(url)\n",
    "\n",
    "    # \n",
    "    return lst_all"
   ]
  },
  {
   "cell_type": "code",
   "execution_count": 525,
   "metadata": {},
   "outputs": [],
   "source": [
    "def getInfo2(url,grp_name,city):\n",
    "    # Сызрань спешл\n",
    "    req = requests.get(url)\n",
    "    bs = BeautifulSoup(req.text, 'html.parser')\n",
    "    \n",
    "    region = grp_name\n",
    "    #     region='муниципальный'\n",
    "    str_url = checkEnd(url)\n",
    "    \n",
    "    lst = str_url.split(\"_\")\n",
    "    # 2 - номер маршрута\n",
    "    nmbr = lst[-1]\n",
    "    # 1 - тип транспорта\n",
    "    tp_ts = lst[-2]\n",
    "    # rt_nmbr = url.rsplit(\"_\",1)[1]\n",
    "\n",
    "    all_tables = bs.find_all(\"table\")\n",
    "    \n",
    "        # 3 - наименование маршрута\n",
    "    rt_nm = str(bs.find_all('b')[2]).replace(\"<b>\",\"\").replace(\"</b>\",\"\")\n",
    "\n",
    "    def getLines(lst_s,nmb):\n",
    "        lst_ok = []\n",
    "\n",
    "        for i in range(len(lst_s)):\n",
    "            lst1 = lst_s[i][nmb].split(\"\\n\")\n",
    "            for s in lst1:\n",
    "                if s != '':\n",
    "                    lst_ok.append(s)\n",
    "        # \n",
    "        return lst_ok\n",
    "\n",
    "    def stops(lst_s,nmb):\n",
    "        lst_ok = getLines(lst_s,nmb)\n",
    "\n",
    "        str1=''\n",
    "        for row in lst_ok:\n",
    "            if row != '\\n':\n",
    "                row = row.replace(\"\\n\", \"\")\n",
    "                str1 = str1 + \"_\" + row\n",
    "        # \n",
    "        str1 = str1[1:]\n",
    "        return str1\n",
    "\n",
    "    ####\n",
    "    \n",
    "    i=0\n",
    "    for i in range(len(all_tables)):\n",
    "        l = getTable(all_tables[i])\n",
    "        if \"в сторону\" in l[0][0]:\n",
    "            l5 = getTable(all_tables[i+2])\n",
    "            l6 = getTable(all_tables[i+3])\n",
    "            break\n",
    "        else:\n",
    "            l5 = getTable(all_tables[5])\n",
    "            l6 = getTable(all_tables[6])\n",
    "    # \n",
    "\n",
    "    ####\n",
    "    # 4 -маршрут следования\n",
    "\n",
    "    route_frw = stops(l5,0)\n",
    "    try:\n",
    "        route_bckw = stops(l6,0)\n",
    "    except:\n",
    "        route_bckw = 'кольцевой'\n",
    "    ####\n",
    "\n",
    "    # 5,6 - список оп\n",
    "    stops_frw = stops(l5,1)\n",
    "    try:\n",
    "        stops_bckw = stops(l6,1)\n",
    "    except:\n",
    "        stops_bckw = 'кольцевой'\n",
    "    ####\n",
    "    \n",
    "    nlst = []\n",
    "    lst_all = end(city,tp_ts,region,nmbr,rt_nm,route_frw,route_bckw,stops_frw,stops_bckw,nlst,url)\n",
    "    \n",
    "#     lst_all = [city,tp_ts,region,nmbr,rt_nm,route_frw,route_bckw,stops_frw,stops_bckw]\n",
    "#     #                     work_time,intervs,amnt_mch,duration,length,orgnztn,podv_sost,payment,place_rest,url]\n",
    "    \n",
    "#     def foo(nlst,i):\n",
    "#         return nlst[i][1]\n",
    "\n",
    "#     for i in range(9):\n",
    "#         try: \n",
    "#             tmp = foo(nlst,i)\n",
    "#         except:\n",
    "#             tmp = None\n",
    "#         lst_all.append(tmp)\n",
    "#     # \n",
    "#     lst_all.append(url)\n",
    "    \n",
    "    return lst_all"
   ]
  },
  {
   "cell_type": "code",
   "execution_count": 2,
   "metadata": {},
   "outputs": [],
   "source": [
    "def checkGrpNm(tmp_grp_nm):\n",
    "    if tmp_grp_nm == 'маршруты':\n",
    "        grp_name = 'муниципальный'\n",
    "    elif  tmp_grp_nm == 'коммерческий_маршруты':\n",
    "        grp_name = 'коммерческий'\n",
    "    elif  tmp_grp_nm == 'пригородный_расписания':\n",
    "        grp_name = 'пригородный'\n",
    "    elif  tmp_grp_nm == 'сезонный_маршруты':\n",
    "        grp_name = 'сезонный'\n",
    "    elif  tmp_grp_nm == 'междугородный_расписания':\n",
    "        grp_name = 'междугородний'\n",
    "    else:\n",
    "        grp_name = tmp_grp_nm\n",
    "    # \n",
    "    return grp_name"
   ]
  },
  {
   "cell_type": "code",
   "execution_count": 3,
   "metadata": {},
   "outputs": [],
   "source": [
    "def checkEnd(url):\n",
    "    the_string = url.rsplit('php/',1)[1]\n",
    "    srch = re.search('[а-яА-Я]', the_string) \n",
    "    if srch == None:\n",
    "        str_url = urllib.parse.unquote(the_string)\n",
    "    else:\n",
    "        str_url = the_string\n",
    "    #\n",
    "    return str_url"
   ]
  },
  {
   "cell_type": "code",
   "execution_count": 4,
   "metadata": {},
   "outputs": [],
   "source": [
    "# \n",
    "def linksCity(city):\n",
    "\n",
    "    url_grp = 'http://www.samaratrans.info/wiki/index.php/' + city\n",
    "    req = requests.get(url_grp)\n",
    "    bs = BeautifulSoup(req.text, 'html.parser')\n",
    "    stfa = bs.find_all('a')\n",
    "    links=[]\n",
    "    for link in stfa:\n",
    "        try:\n",
    "            if 'маршрут' in link.get(\"title\"):\n",
    "                lsh = 'http://www.samaratrans.info' + link.get(\"href\")\n",
    "                if lsh not in links:\n",
    "                    links.append(lsh)\n",
    "        except:\n",
    "            pass\n",
    "    # \n",
    "    return links"
   ]
  },
  {
   "cell_type": "code",
   "execution_count": 21,
   "metadata": {},
   "outputs": [],
   "source": [
    "def routeLinks(url_grp):\n",
    "    links=[]\n",
    "    req = requests.get(url_grp)\n",
    "    bs = BeautifulSoup(req.text, 'html.parser')\n",
    "    stfa = bs.find_all('table')\n",
    "    \n",
    "    cnt=2\n",
    "    for i in range(len(stfa)):\n",
    "        table_rows = stfa[i]\n",
    "        l = getTable(table_rows)\n",
    "        if 'Наименование маршрута\\n' in l[0]:\n",
    "            cnt = i\n",
    "            break\n",
    "    # \n",
    "    lst_find = stfa[cnt].find_all('a')\n",
    "    for link in lst_find:\n",
    "        try:\n",
    "            lst_notok = ['расписан', 'парк', '.gif', '.png', 'перевозчик', 'edit', 'ТД', 'ТТУ']\n",
    "            lnk_hr = link.get(\"href\")\n",
    "            ch = checkEnd(lnk_hr)\n",
    "            if not any((c in ch) for c in lst_notok):\n",
    "                lsh = 'http://www.samaratrans.info' + lnk_hr\n",
    "                if lsh not in links:\n",
    "                    links.append(lsh)\n",
    "        except:\n",
    "            pass\n",
    "    # \n",
    "    return links"
   ]
  },
  {
   "cell_type": "code",
   "execution_count": 349,
   "metadata": {},
   "outputs": [],
   "source": [
    "def getCityData(city):\n",
    "    lst_links = []\n",
    "    lst_links = linksCity(city)\n",
    "    all_routes=[]\n",
    "    for grp in range(len(lst_links)):\n",
    "        tmp_grp_nm = checkEnd(lst_links[grp]).split(\"_\",2)[-1]\n",
    "        grp_name = checkGrpNm(tmp_grp_nm)\n",
    "        \n",
    "        try:\n",
    "            lst_group = []\n",
    "            lst_group = routeLinks(lst_links[grp])\n",
    "        except:\n",
    "            lst_group = []\n",
    "        for rtl in range(len(lst_group)):\n",
    "            try:\n",
    "                tmp_lnk_nm = checkEnd(lst_group[rtl])\n",
    "                lst_notok = ['расписан', 'парк', '.gif', '.png', 'перевозчик', 'edit', 'ТД', 'ТТУ']\n",
    "                if not any((c in tmp_lnk_nm) for c in lst_notok):\n",
    "                    try:\n",
    "                        one_route = getInfo(lst_group[rtl],grp_name,city)\n",
    "                    except:\n",
    "                        one_route = getInfo2(lst_group[rtl],grp_name,city)\n",
    "                    all_routes.append(one_route)\n",
    "                #\n",
    "            except:\n",
    "                one_route = [lst_group[rtl]] * 19\n",
    "                if one_route not in all_routes:\n",
    "                    all_routes.append(one_route)\n",
    "                #\n",
    "    return all_routes\n",
    "# "
   ]
  },
  {
   "cell_type": "code",
   "execution_count": null,
   "metadata": {},
   "outputs": [],
   "source": []
  },
  {
   "cell_type": "code",
   "execution_count": 350,
   "metadata": {},
   "outputs": [],
   "source": [
    "lst_ct = ['Самара', 'Тольятти', 'Сызрань', 'Новокуйбышевск', \n",
    "          'Чапаевск', 'Жигулевск', 'Отрадный', 'Кинель', 'Похвистнево', 'Безенчук']"
   ]
  },
  {
   "cell_type": "code",
   "execution_count": 377,
   "metadata": {
    "scrolled": true
   },
   "outputs": [
    {
     "name": "stdout",
     "output_type": "stream",
     "text": [
      "Самара\n",
      "Тольятти\n",
      "Сызрань\n",
      "Новокуйбышевск\n",
      "Чапаевск\n",
      "Жигулевск\n",
      "Отрадный\n",
      "Кинель\n",
      "Похвистнево\n",
      "Безенчук\n"
     ]
    }
   ],
   "source": [
    "lst_big = []\n",
    "for i in range(len(lst_ct)):\n",
    "    city = lst_ct[i]\n",
    "    print(city)\n",
    "    lst = getCityData(city)\n",
    "    lst_big = lst_big + lst\n",
    "# "
   ]
  },
  {
   "cell_type": "code",
   "execution_count": null,
   "metadata": {},
   "outputs": [],
   "source": []
  },
  {
   "cell_type": "code",
   "execution_count": null,
   "metadata": {},
   "outputs": [],
   "source": []
  },
  {
   "cell_type": "code",
   "execution_count": 352,
   "metadata": {},
   "outputs": [],
   "source": [
    "clmn = []\n",
    "for i in range(1,len(lst_big[0])+1):\n",
    "    str1 = str(i)+'str'\n",
    "    clmn.append(str1)\n",
    "# "
   ]
  },
  {
   "cell_type": "code",
   "execution_count": null,
   "metadata": {},
   "outputs": [],
   "source": []
  },
  {
   "cell_type": "code",
   "execution_count": 378,
   "metadata": {},
   "outputs": [],
   "source": [
    "df_big = pd.DataFrame(data=lst_big,columns=clmn)"
   ]
  },
  {
   "cell_type": "code",
   "execution_count": 379,
   "metadata": {},
   "outputs": [
    {
     "name": "stdout",
     "output_type": "stream",
     "text": [
      "447\n"
     ]
    }
   ],
   "source": [
    "print(len(df_big))"
   ]
  },
  {
   "cell_type": "code",
   "execution_count": 565,
   "metadata": {},
   "outputs": [],
   "source": [
    "# lst_not_ok = list(set(list(df_big[df_big[\"1str\"].str.contains(\"www\")][\"1str\"])))\n",
    "lst_not_ok = list(set(list(df_othr[df_othr[\"1str\"].str.contains(\"www\")][\"1str\"])))"
   ]
  },
  {
   "cell_type": "code",
   "execution_count": 566,
   "metadata": {},
   "outputs": [],
   "source": [
    "lst2 = list(set(lst_not_ok))"
   ]
  },
  {
   "cell_type": "code",
   "execution_count": 567,
   "metadata": {},
   "outputs": [
    {
     "name": "stdout",
     "output_type": "stream",
     "text": [
      "9\n"
     ]
    }
   ],
   "source": [
    "print(len(lst2))"
   ]
  },
  {
   "cell_type": "code",
   "execution_count": null,
   "metadata": {},
   "outputs": [],
   "source": []
  },
  {
   "cell_type": "code",
   "execution_count": null,
   "metadata": {},
   "outputs": [],
   "source": []
  },
  {
   "cell_type": "code",
   "execution_count": 568,
   "metadata": {
    "scrolled": true
   },
   "outputs": [
    {
     "name": "stdout",
     "output_type": "stream",
     "text": [
      "http://www.samaratrans.info/wiki/index.php/%D0%A7%D0%B5%D0%BB%D0%BD%D0%BE-%D0%92%D0%B5%D1%80%D1%88%D0%B8%D0%BD%D1%8B_%D0%B0%D0%B2%D1%82%D0%BE%D0%B1%D1%83%D1%81_%D1%80%D0%B0%D1%81%D0%BF%D0%B8%D1%81%D0%B0%D0%BD%D0%B8%D1%8F\n",
      "http://www.samaratrans.info/wiki/index.php/%D0%9A%D1%80%D0%B0%D1%81%D0%BD%D1%8B%D0%B9_%D0%AF%D1%80_%D0%B0%D0%B2%D1%82%D0%BE%D0%B1%D1%83%D1%81_%D1%80%D0%B0%D1%81%D0%BF%D0%B8%D1%81%D0%B0%D0%BD%D0%B8%D1%8F\n",
      "http://www.samaratrans.info/wiki/index.php/%D0%91%D0%BE%D1%80%D1%81%D0%BA%D0%BE%D0%B5_%D0%B0%D0%B2%D1%82%D0%BE%D0%B1%D1%83%D1%81_%D1%80%D0%B0%D1%81%D0%BF%D0%B8%D1%81%D0%B0%D0%BD%D0%B8%D1%8F\n",
      "http://www.samaratrans.info/wiki/index.php/%D0%9A%D0%B8%D0%BD%D0%B5%D0%BB%D1%8C-%D0%A7%D0%B5%D1%80%D0%BA%D0%B0%D1%81%D1%81%D1%8B_%D0%B0%D0%B2%D1%82%D0%BE%D0%B1%D1%83%D1%81_%D1%80%D0%B0%D1%81%D0%BF%D0%B8%D1%81%D0%B0%D0%BD%D0%B8%D1%8F\n",
      "http://www.samaratrans.info/wiki/index.php/%D0%9A%D0%B0%D0%BC%D1%8B%D1%88%D0%BB%D0%B0_%D0%B0%D0%B2%D1%82%D0%BE%D0%B1%D1%83%D1%81_%D1%80%D0%B0%D1%81%D0%BF%D0%B8%D1%81%D0%B0%D0%BD%D0%B8%D1%8F\n",
      "http://www.samaratrans.info/wiki/index.php/%D0%A0%D0%BE%D0%B6%D0%B4%D0%B5%D1%81%D1%82%D0%B2%D0%B5%D0%BD%D0%BE_%D0%B0%D0%B2%D1%82%D0%BE%D0%B1%D1%83%D1%81_%D1%80%D0%B0%D1%81%D0%BF%D0%B8%D1%81%D0%B0%D0%BD%D0%B8%D1%8F\n",
      "http://www.samaratrans.info/wiki/index.php/%D0%91%D0%BE%D0%B3%D0%B0%D1%82%D0%BE%D0%B5_%D0%B0%D0%B2%D1%82%D0%BE%D0%B1%D1%83%D1%81_%D1%80%D0%B0%D1%81%D0%BF%D0%B8%D1%81%D0%B0%D0%BD%D0%B8%D1%8F\n",
      "http://www.samaratrans.info/wiki/index.php/%D0%A1%D0%B5%D1%80%D0%B3%D0%B8%D0%B5%D0%B2%D1%81%D0%BA_%D0%B0%D0%B2%D1%82%D0%BE%D0%B1%D1%83%D1%81_%D1%80%D0%B0%D1%81%D0%BF%D0%B8%D1%81%D0%B0%D0%BD%D0%B8%D1%8F\n",
      "http://www.samaratrans.info/wiki/index.php/%D0%9F%D0%BE%D1%85%D0%B2%D0%B8%D1%81%D1%82%D0%BD%D0%B5%D0%B2%D0%BE_%D0%B0%D0%B2%D1%82%D0%BE%D0%B1%D1%83%D1%81_%D1%80%D0%B0%D1%81%D0%BF%D0%B8%D1%81%D0%B0%D0%BD%D0%B8%D1%8F\n"
     ]
    }
   ],
   "source": [
    "for i in lst2:\n",
    "    print(i)"
   ]
  },
  {
   "cell_type": "code",
   "execution_count": null,
   "metadata": {},
   "outputs": [],
   "source": []
  },
  {
   "cell_type": "code",
   "execution_count": 576,
   "metadata": {},
   "outputs": [
    {
     "name": "stdout",
     "output_type": "stream",
     "text": [
      "http://www.samaratrans.info/wiki/index.php/%D0%9A%D1%80%D0%B0%D1%81%D0%BD%D1%8B%D0%B9_%D0%AF%D1%80_%D0%B0%D0%B2%D1%82%D0%BE%D0%B1%D1%83%D1%81_%D1%80%D0%B0%D1%81%D0%BF%D0%B8%D1%81%D0%B0%D0%BD%D0%B8%D1%8F\n"
     ]
    }
   ],
   "source": [
    "url = lst2[1]\n",
    "grp_name = 'error'\n",
    "city = 'Сызрань'\n",
    "print(url)"
   ]
  },
  {
   "cell_type": "code",
   "execution_count": null,
   "metadata": {},
   "outputs": [],
   "source": []
  },
  {
   "cell_type": "code",
   "execution_count": null,
   "metadata": {},
   "outputs": [],
   "source": []
  },
  {
   "cell_type": "code",
   "execution_count": 386,
   "metadata": {
    "scrolled": true
   },
   "outputs": [],
   "source": [
    "# ltp=getInfo2(url,grp_name,city)"
   ]
  },
  {
   "cell_type": "code",
   "execution_count": 571,
   "metadata": {},
   "outputs": [
    {
     "ename": "IndexError",
     "evalue": "list index out of range",
     "output_type": "error",
     "traceback": [
      "\u001b[1;31m---------------------------------------------------------------------------\u001b[0m",
      "\u001b[1;31mIndexError\u001b[0m                                Traceback (most recent call last)",
      "\u001b[1;32m<ipython-input-571-bae49782084b>\u001b[0m in \u001b[0;36m<module>\u001b[1;34m\u001b[0m\n\u001b[1;32m----> 1\u001b[1;33m \u001b[0mltp\u001b[0m\u001b[1;33m=\u001b[0m\u001b[0mgetInfo3\u001b[0m\u001b[1;33m(\u001b[0m\u001b[0murl\u001b[0m\u001b[1;33m)\u001b[0m\u001b[1;33m\u001b[0m\u001b[1;33m\u001b[0m\u001b[0m\n\u001b[0m",
      "\u001b[1;32m<ipython-input-555-071e9fd0f981>\u001b[0m in \u001b[0;36mgetInfo3\u001b[1;34m(url)\u001b[0m\n\u001b[0;32m     80\u001b[0m     \u001b[0mlst_all\u001b[0m \u001b[1;33m=\u001b[0m \u001b[1;33m[\u001b[0m\u001b[1;33m]\u001b[0m\u001b[1;33m\u001b[0m\u001b[1;33m\u001b[0m\u001b[0m\n\u001b[0;32m     81\u001b[0m     \u001b[1;32mfor\u001b[0m \u001b[0mi\u001b[0m \u001b[1;32min\u001b[0m \u001b[0mrange\u001b[0m\u001b[1;33m(\u001b[0m\u001b[0mlen\u001b[0m\u001b[1;33m(\u001b[0m\u001b[0mlst_stops\u001b[0m\u001b[1;33m)\u001b[0m\u001b[1;33m)\u001b[0m\u001b[1;33m:\u001b[0m\u001b[1;33m\u001b[0m\u001b[1;33m\u001b[0m\u001b[0m\n\u001b[1;32m---> 82\u001b[1;33m         \u001b[0mtp_ts\u001b[0m \u001b[1;33m=\u001b[0m \u001b[0mlst_tpts\u001b[0m\u001b[1;33m[\u001b[0m\u001b[0mi\u001b[0m\u001b[1;33m]\u001b[0m\u001b[1;33m\u001b[0m\u001b[1;33m\u001b[0m\u001b[0m\n\u001b[0m\u001b[0;32m     83\u001b[0m         \u001b[0mregion\u001b[0m \u001b[1;33m=\u001b[0m \u001b[0mlst_reg\u001b[0m\u001b[1;33m[\u001b[0m\u001b[0mi\u001b[0m\u001b[1;33m]\u001b[0m\u001b[1;33m\u001b[0m\u001b[1;33m\u001b[0m\u001b[0m\n\u001b[0;32m     84\u001b[0m         \u001b[0mnmbr\u001b[0m \u001b[1;33m=\u001b[0m \u001b[0mlst_rtnbr\u001b[0m\u001b[1;33m[\u001b[0m\u001b[0mi\u001b[0m\u001b[1;33m]\u001b[0m\u001b[1;33m\u001b[0m\u001b[1;33m\u001b[0m\u001b[0m\n",
      "\u001b[1;31mIndexError\u001b[0m: list index out of range"
     ]
    }
   ],
   "source": [
    "ltp=getInfo3(url)"
   ]
  },
  {
   "cell_type": "code",
   "execution_count": null,
   "metadata": {},
   "outputs": [],
   "source": []
  },
  {
   "cell_type": "code",
   "execution_count": null,
   "metadata": {},
   "outputs": [],
   "source": []
  },
  {
   "cell_type": "code",
   "execution_count": null,
   "metadata": {},
   "outputs": [],
   "source": []
  },
  {
   "cell_type": "code",
   "execution_count": null,
   "metadata": {},
   "outputs": [],
   "source": []
  },
  {
   "cell_type": "code",
   "execution_count": 526,
   "metadata": {},
   "outputs": [],
   "source": [
    "url_ot = \"http://www.samaratrans.info/wiki/index.php/%D0%A0%D0%B0%D0%B9%D0%BE%D0%BD%D1%8B_%D0%B0%D0%B2%D1%82%D0%BE%D0%B1%D1%83%D1%81_%D1%80%D0%B0%D1%81%D0%BF%D0%B8%D1%81%D0%B0%D0%BD%D0%B8%D1%8F\""
   ]
  },
  {
   "cell_type": "code",
   "execution_count": 527,
   "metadata": {},
   "outputs": [],
   "source": [
    "def getOtherLinks(url_ot):\n",
    "    req = requests.get(url_ot)\n",
    "    bs = BeautifulSoup(req.text, 'html.parser')\n",
    "\n",
    "    all_lnks = bs.find_all('a')\n",
    "    lst_rasp=[]\n",
    "    i=0\n",
    "    for link in all_lnks:\n",
    "        if \"расписани\" in str(link.get('title')):\n",
    "            lsh = \"http://www.samaratrans.info\" + link.get('href')\n",
    "            lst_rasp.append(lsh)\n",
    "    # \n",
    "\n",
    "    return lst_rasp"
   ]
  },
  {
   "cell_type": "code",
   "execution_count": null,
   "metadata": {},
   "outputs": [],
   "source": []
  },
  {
   "cell_type": "code",
   "execution_count": 528,
   "metadata": {},
   "outputs": [],
   "source": [
    "lst_rasp = getOtherLinks(url_ot)"
   ]
  },
  {
   "cell_type": "code",
   "execution_count": null,
   "metadata": {},
   "outputs": [],
   "source": []
  },
  {
   "cell_type": "code",
   "execution_count": 648,
   "metadata": {},
   "outputs": [],
   "source": [
    "def getInfo3(url):\n",
    "\n",
    "    req = requests.get(url)\n",
    "    bs = BeautifulSoup(req.text, 'html.parser')\n",
    "\n",
    "    city = checkEnd(url).split(\"_\",1)[0]\n",
    "\n",
    "    ####\n",
    "    # get stops\n",
    "    # stops_frw\n",
    "\n",
    "    all_p = bs.find_all('p')\n",
    "    p=0\n",
    "    lst_txt = []\n",
    "    for p in range(len(all_p)):\n",
    "        if \"Промежуточные\" in str(all_p[p]):\n",
    "            lst_txt.append(all_p[p].text)\n",
    "    # \n",
    "    i=0\n",
    "    lst_stops=[]\n",
    "    for i in range(len(lst_txt)):\n",
    "        txt = lst_txt[i].split(\":\",1)[1].replace(\", \",\"_\").replace(\"\\n\",\"\")\n",
    "        if \"остановки:\" in lst_txt[i]:\n",
    "            lst_stops.append(txt)\n",
    "        else:\n",
    "            txt2 = ''\n",
    "            while \"остановки:\" not in lst_txt[i]:\n",
    "                ii = i\n",
    "                txt = lst_txt[i].replace(\", \",\"_\").replace(\"\\n\",\"\").replace(\"Промежуточные остановки \",\"\")\n",
    "                txt2 = txt2 + \"[!!!]\" + txt\n",
    "                i+=1\n",
    "                if \"остановки:\" in lst_txt[i]:\n",
    "                    if \"[!!!]\" not in lst_stops[-1]:\n",
    "                        lst_stops.append(txt2)\n",
    "                        break\n",
    "    # \n",
    "    ####\n",
    "    ####\n",
    "    i=0\n",
    "    all_tables = bs.find_all('table')\n",
    "    for i in range(len(all_tables)):\n",
    "        l = getTable(bs.find_all('table')[0])\n",
    "        if \"Расписание\" in l[0][0]:\n",
    "            l1 = l\n",
    "            break\n",
    "        else:\n",
    "            l1 = getTable(bs.find_all('table')[0])\n",
    "    # \n",
    "    lst_nms = l1[0][0].split(\"\\n\")\n",
    "    ####\n",
    "\n",
    "    ####\n",
    "    lst_reg = []\n",
    "    lst_tpts = []\n",
    "    lst_rtnbr = []\n",
    "    lst_rtnm = []\n",
    "    for i in range(len(lst_nms)):\n",
    "        str1 = lst_nms[i]\n",
    "        if \"Расписание\" in str1:\n",
    "            if \" муниципальн\" in str1:\n",
    "                region = \"муниципальный\"\n",
    "            elif \" межмуниципальн\" in str1:\n",
    "                region = \"межмуниципальный\"\n",
    "            else:\n",
    "                region = \"другой\"\n",
    "        else:\n",
    "            if \"маршрут\" in str1:\n",
    "    #             lst_rt.append(str1)\n",
    "                tp_ts, rt = str1.split(\" \",1)[1].split(\"маршрут \",1)\n",
    "                rt_nbr, rt_nm = rt.split('\"',1)\n",
    "                rt_nbr = rt_nbr.replace(\" \", \"\")\n",
    "                rt_nm = rt_nm[:-1]\n",
    "\n",
    "                if \"втобус\" in tp_ts:\n",
    "                    tp_ts = \"автобус\"\n",
    "                elif \"рамвай\" in tp_ts:\n",
    "                    tp_ts = \"трамвай\"\n",
    "                elif \"роллейбус\" in tp_ts:\n",
    "                    tp_ts = \"троллейбус\"\n",
    "                else:\n",
    "                    tp_ts = \"другой\"\n",
    "                # \n",
    "                lst_rtnbr.append(rt_nbr)\n",
    "                lst_rtnm.append(rt_nm)\n",
    "                lst_tpts.append(tp_ts)\n",
    "\n",
    "                lst_reg.append(region)\n",
    "    # \n",
    "    ####\n",
    "\n",
    "    ####\n",
    "    lst_all = []\n",
    "    def foo(lst,nmbr):\n",
    "        try:\n",
    "            answ = lst[nmbr]\n",
    "        except:\n",
    "            answ = None\n",
    "        return answ\n",
    "    i=0\n",
    "    for i in range(len(lst_stops)):\n",
    "        tp_ts = foo(lst_tpts,i)\n",
    "        region = foo(lst_reg,i)\n",
    "        nmbr = foo(lst_rtnbr,i)\n",
    "        rt_nm = foo(lst_rtnm,i)\n",
    "        route_frw = None\n",
    "        route_bckw = None\n",
    "        stops_frw = foo(lst_stops,i)\n",
    "        stops_bckw = None\n",
    "        nlst = []\n",
    "        small_lst_all = end(city,tp_ts,region,nmbr,rt_nm,route_frw,route_bckw,stops_frw,stops_bckw,nlst,url)\n",
    "        lst_all.append(small_lst_all)\n",
    "    # \n",
    "    ####\n",
    "\n",
    "    return lst_all"
   ]
  },
  {
   "cell_type": "code",
   "execution_count": null,
   "metadata": {},
   "outputs": [],
   "source": []
  },
  {
   "cell_type": "code",
   "execution_count": null,
   "metadata": {},
   "outputs": [],
   "source": []
  },
  {
   "cell_type": "code",
   "execution_count": 649,
   "metadata": {},
   "outputs": [
    {
     "data": {
      "application/vnd.jupyter.widget-view+json": {
       "model_id": "530cfe810064452c926513070a7dd45e",
       "version_major": 2,
       "version_minor": 0
      },
      "text/plain": [
       "HBox(children=(FloatProgress(value=0.0, max=25.0), HTML(value='')))"
      ]
     },
     "metadata": {},
     "output_type": "display_data"
    },
    {
     "name": "stdout",
     "output_type": "stream",
     "text": [
      "\n"
     ]
    }
   ],
   "source": [
    "lst_big2 = []\n",
    "i=0\n",
    "for i in tqdm(range(len(lst_rasp))):\n",
    "    url = lst_rasp[i]\n",
    "    try:\n",
    "        lst = getInfo3(url)\n",
    "    except:\n",
    "        lst = [[url] * 19]\n",
    "    #\n",
    "    for j in range(len(lst)):\n",
    "        lst_big2.append(lst[j])\n",
    "#     lst_big2 = lst_big2 + lst\n",
    "# "
   ]
  },
  {
   "cell_type": "code",
   "execution_count": null,
   "metadata": {},
   "outputs": [],
   "source": []
  },
  {
   "cell_type": "code",
   "execution_count": null,
   "metadata": {},
   "outputs": [],
   "source": []
  },
  {
   "cell_type": "code",
   "execution_count": null,
   "metadata": {},
   "outputs": [],
   "source": []
  },
  {
   "cell_type": "code",
   "execution_count": 532,
   "metadata": {},
   "outputs": [],
   "source": [
    "# from tqdm.notebook import tqdm"
   ]
  },
  {
   "cell_type": "code",
   "execution_count": 650,
   "metadata": {
    "scrolled": true
   },
   "outputs": [],
   "source": [
    "df_othr = pd.DataFrame(data=lst_big2,columns=clmn)"
   ]
  },
  {
   "cell_type": "code",
   "execution_count": null,
   "metadata": {},
   "outputs": [],
   "source": []
  },
  {
   "cell_type": "code",
   "execution_count": null,
   "metadata": {},
   "outputs": [],
   "source": []
  },
  {
   "cell_type": "code",
   "execution_count": null,
   "metadata": {},
   "outputs": [],
   "source": []
  },
  {
   "cell_type": "code",
   "execution_count": 651,
   "metadata": {},
   "outputs": [
    {
     "name": "stdout",
     "output_type": "stream",
     "text": [
      "http://www.samaratrans.info/wiki/index.php/%D0%A7%D0%B5%D0%BB%D0%BD%D0%BE-%D0%92%D0%B5%D1%80%D1%88%D0%B8%D0%BD%D1%8B_%D0%B0%D0%B2%D1%82%D0%BE%D0%B1%D1%83%D1%81_%D1%80%D0%B0%D1%81%D0%BF%D0%B8%D1%81%D0%B0%D0%BD%D0%B8%D1%8F\n"
     ]
    }
   ],
   "source": [
    "lst_no = list(df_othr[df_othr[\"2str\"].isna()][\"19str\"])\n",
    "for i in lst_no:\n",
    "    print(i)"
   ]
  },
  {
   "cell_type": "code",
   "execution_count": null,
   "metadata": {},
   "outputs": [],
   "source": []
  },
  {
   "cell_type": "code",
   "execution_count": null,
   "metadata": {},
   "outputs": [],
   "source": []
  },
  {
   "cell_type": "code",
   "execution_count": 652,
   "metadata": {},
   "outputs": [],
   "source": [
    "url = lst_no[0]"
   ]
  },
  {
   "cell_type": "code",
   "execution_count": null,
   "metadata": {},
   "outputs": [],
   "source": []
  },
  {
   "cell_type": "code",
   "execution_count": 653,
   "metadata": {},
   "outputs": [
    {
     "ename": "IndexError",
     "evalue": "list index out of range",
     "output_type": "error",
     "traceback": [
      "\u001b[1;31m---------------------------------------------------------------------------\u001b[0m",
      "\u001b[1;31mIndexError\u001b[0m                                Traceback (most recent call last)",
      "\u001b[1;32m<ipython-input-653-91bfcb30fa74>\u001b[0m in \u001b[0;36m<module>\u001b[1;34m\u001b[0m\n\u001b[0;32m     92\u001b[0m \u001b[0mlst_all\u001b[0m \u001b[1;33m=\u001b[0m \u001b[1;33m[\u001b[0m\u001b[1;33m]\u001b[0m\u001b[1;33m\u001b[0m\u001b[1;33m\u001b[0m\u001b[0m\n\u001b[0;32m     93\u001b[0m \u001b[1;32mfor\u001b[0m \u001b[0mi\u001b[0m \u001b[1;32min\u001b[0m \u001b[0mrange\u001b[0m\u001b[1;33m(\u001b[0m\u001b[0mlen\u001b[0m\u001b[1;33m(\u001b[0m\u001b[0mlst_stops\u001b[0m\u001b[1;33m)\u001b[0m\u001b[1;33m)\u001b[0m\u001b[1;33m:\u001b[0m\u001b[1;33m\u001b[0m\u001b[1;33m\u001b[0m\u001b[0m\n\u001b[1;32m---> 94\u001b[1;33m     \u001b[0mtp_ts\u001b[0m \u001b[1;33m=\u001b[0m \u001b[0mlst_tpts\u001b[0m\u001b[1;33m[\u001b[0m\u001b[0mi\u001b[0m\u001b[1;33m]\u001b[0m\u001b[1;33m\u001b[0m\u001b[1;33m\u001b[0m\u001b[0m\n\u001b[0m\u001b[0;32m     95\u001b[0m     \u001b[0mregion\u001b[0m \u001b[1;33m=\u001b[0m \u001b[0mlst_reg\u001b[0m\u001b[1;33m[\u001b[0m\u001b[0mi\u001b[0m\u001b[1;33m]\u001b[0m\u001b[1;33m\u001b[0m\u001b[1;33m\u001b[0m\u001b[0m\n\u001b[0;32m     96\u001b[0m     \u001b[0mnmbr\u001b[0m \u001b[1;33m=\u001b[0m \u001b[0mlst_rtnbr\u001b[0m\u001b[1;33m[\u001b[0m\u001b[0mi\u001b[0m\u001b[1;33m]\u001b[0m\u001b[1;33m\u001b[0m\u001b[1;33m\u001b[0m\u001b[0m\n",
      "\u001b[1;31mIndexError\u001b[0m: list index out of range"
     ]
    }
   ],
   "source": [
    "# def getInfo3(url):\n",
    "\n",
    "req = requests.get(url)\n",
    "bs = BeautifulSoup(req.text, 'html.parser')\n",
    "\n",
    "city = checkEnd(url).split(\"_\",1)[0]\n",
    "\n",
    "####\n",
    "# get stops\n",
    "# stops_frw\n",
    "\n",
    "all_p = bs.find_all('p')\n",
    "p=0\n",
    "lst_txt = []\n",
    "for p in range(len(all_p)):\n",
    "    if \"Промежуточные\" in str(all_p[p]):\n",
    "        lst_txt.append(all_p[p].text)\n",
    "# \n",
    "i=0\n",
    "lst_stops=[]\n",
    "for i in range(len(lst_txt)):\n",
    "    txt = lst_txt[i].split(\":\",1)[1].replace(\", \",\"_\").replace(\"\\n\",\"\")\n",
    "    if \"остановки:\" in lst_txt[i]:\n",
    "        lst_stops.append(txt)\n",
    "    else:\n",
    "        txt2 = ''\n",
    "        while \"остановки:\" not in lst_txt[i]:\n",
    "            ii = i\n",
    "            txt = lst_txt[i].replace(\", \",\"_\").replace(\"\\n\",\"\").replace(\"Промежуточные остановки \",\"\")\n",
    "            txt2 = txt2 + \"[!!!]\" + txt\n",
    "            i+=1\n",
    "            if \"остановки:\" in lst_txt[i]:\n",
    "                if \"[!!!]\" not in lst_stops[-1]:\n",
    "                    lst_stops.append(txt2)\n",
    "                    break\n",
    "# \n",
    "####\n",
    "####\n",
    "i=0\n",
    "all_tables = bs.find_all('table')\n",
    "for i in range(len(all_tables)):\n",
    "    l = getTable(bs.find_all('table')[0])\n",
    "    if \"Расписание\" in l[0][0]:\n",
    "        l1 = l\n",
    "        break\n",
    "    else:\n",
    "        l1 = getTable(bs.find_all('table')[0])\n",
    "# \n",
    "lst_nms = l1[0][0].split(\"\\n\")\n",
    "####\n",
    "\n",
    "####\n",
    "lst_reg = []\n",
    "lst_tpts = []\n",
    "lst_rtnbr = []\n",
    "lst_rtnm = []\n",
    "for i in range(len(lst_nms)):\n",
    "    str1 = lst_nms[i]\n",
    "    if \"Расписание\" in str1:\n",
    "        if \" муниципальн\" in str1:\n",
    "            region = \"муниципальный\"\n",
    "        elif \" межмуниципальн\" in str1:\n",
    "            region = \"межмуниципальный\"\n",
    "        else:\n",
    "            region = \"другой\"\n",
    "    else:\n",
    "        if \"маршрут\" in str1:\n",
    "#             lst_rt.append(str1)\n",
    "            tp_ts, rt = str1.split(\" \",1)[1].split(\"маршрут \",1)\n",
    "            rt_nbr, rt_nm = rt.split('\"',1)\n",
    "            rt_nbr = rt_nbr.replace(\" \", \"\")\n",
    "            rt_nm = rt_nm[:-1]\n",
    "\n",
    "            if \"втобус\" in tp_ts:\n",
    "                tp_ts = \"автобус\"\n",
    "            elif \"рамвай\" in tp_ts:\n",
    "                tp_ts = \"трамвай\"\n",
    "            elif \"роллейбус\" in tp_ts:\n",
    "                tp_ts = \"троллейбус\"\n",
    "            else:\n",
    "                tp_ts = \"другой\"\n",
    "            # \n",
    "            lst_rtnbr.append(rt_nbr)\n",
    "            lst_rtnm.append(rt_nm)\n",
    "            lst_tpts.append(tp_ts)\n",
    "\n",
    "            lst_reg.append(region)\n",
    "# \n",
    "####\n",
    "\n",
    "####\n",
    "lst_all = []\n",
    "for i in range(len(lst_stops)):\n",
    "    tp_ts = lst_tpts[i]\n",
    "    region = lst_reg[i]\n",
    "    nmbr = lst_rtnbr[i]\n",
    "    rt_nm = lst_rtnm[i]\n",
    "    route_frw = None\n",
    "    route_bckw = None\n",
    "    stops_frw = lst_stops[i]\n",
    "    stops_bckw = None\n",
    "    nlst = []\n",
    "    small_lst_all = end(city,tp_ts,region,nmbr,rt_nm,route_frw,route_bckw,stops_frw,stops_bckw,nlst,url)\n",
    "    lst_all.append(small_lst_all)\n",
    "# \n",
    "####\n",
    "\n",
    "#     return lst_all"
   ]
  },
  {
   "cell_type": "code",
   "execution_count": null,
   "metadata": {},
   "outputs": [],
   "source": []
  },
  {
   "cell_type": "code",
   "execution_count": null,
   "metadata": {},
   "outputs": [],
   "source": []
  }
 ],
 "metadata": {
  "kernelspec": {
   "display_name": "Python 3",
   "language": "python",
   "name": "python3"
  },
  "language_info": {
   "codemirror_mode": {
    "name": "ipython",
    "version": 3
   },
   "file_extension": ".py",
   "mimetype": "text/x-python",
   "name": "python",
   "nbconvert_exporter": "python",
   "pygments_lexer": "ipython3",
   "version": "3.7.3"
  }
 },
 "nbformat": 4,
 "nbformat_minor": 4
}
