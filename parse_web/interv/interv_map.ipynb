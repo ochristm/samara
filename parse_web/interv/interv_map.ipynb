{
 "cells": [
  {
   "cell_type": "code",
   "execution_count": 1,
   "metadata": {},
   "outputs": [],
   "source": [
    "import pandas as pd\n",
    "import geopandas as gpd\n",
    "import shapely\n",
    "from shapely.geometry import Point, LineString, MultiLineString\n",
    "from tqdm.notebook import tqdm\n",
    "import numpy as np"
   ]
  },
  {
   "cell_type": "code",
   "execution_count": null,
   "metadata": {},
   "outputs": [],
   "source": []
  },
  {
   "cell_type": "code",
   "execution_count": 5,
   "metadata": {},
   "outputs": [],
   "source": [
    "df_dupl = pd.read_csv('intervs_st.csv',sep=';',encoding='windows-1251')"
   ]
  },
  {
   "cell_type": "code",
   "execution_count": null,
   "metadata": {},
   "outputs": [],
   "source": []
  },
  {
   "cell_type": "code",
   "execution_count": 6,
   "metadata": {},
   "outputs": [],
   "source": [
    "df = df_dupl.drop_duplicates(subset=['line_id']).reset_index(drop=True)"
   ]
  },
  {
   "cell_type": "code",
   "execution_count": 7,
   "metadata": {},
   "outputs": [],
   "source": [
    "df = df.sort_values(by=['населенный_пункт',\n",
    "                        'тип_тс','номер_маршрута']).reset_index(drop=True)\n",
    "df['line_id'] = df['line_id'].astype(str)"
   ]
  },
  {
   "cell_type": "code",
   "execution_count": null,
   "metadata": {},
   "outputs": [],
   "source": []
  },
  {
   "cell_type": "code",
   "execution_count": 8,
   "metadata": {},
   "outputs": [],
   "source": [
    "df.to_csv('rts_ya.csv',sep=';',encoding='utf-8-sig')"
   ]
  },
  {
   "cell_type": "code",
   "execution_count": null,
   "metadata": {},
   "outputs": [],
   "source": []
  },
  {
   "cell_type": "code",
   "execution_count": 10,
   "metadata": {},
   "outputs": [],
   "source": [
    "gdf_lines_dupl = gpd.read_file('./rts_ya/gdf_line_all_n_samobl.json',encoding='utf-8')"
   ]
  },
  {
   "cell_type": "code",
   "execution_count": 11,
   "metadata": {},
   "outputs": [],
   "source": [
    "gdf_lines = gdf_lines_dupl.drop_duplicates(subset=['line_id']).reset_index(drop=True)"
   ]
  },
  {
   "cell_type": "code",
   "execution_count": null,
   "metadata": {},
   "outputs": [],
   "source": []
  },
  {
   "cell_type": "code",
   "execution_count": null,
   "metadata": {},
   "outputs": [],
   "source": []
  },
  {
   "cell_type": "code",
   "execution_count": 19,
   "metadata": {
    "scrolled": true
   },
   "outputs": [],
   "source": [
    "full_geo_interv = df.merge(gdf_lines[['line_id','geometry']],how='left',on=['line_id'])"
   ]
  },
  {
   "cell_type": "code",
   "execution_count": 20,
   "metadata": {},
   "outputs": [],
   "source": [
    "full_geo_interv = gpd.GeoDataFrame(full_geo_interv)\n",
    "full_geo_interv.crs='epsg:4326'"
   ]
  },
  {
   "cell_type": "code",
   "execution_count": 37,
   "metadata": {},
   "outputs": [
    {
     "data": {
      "text/html": [
       "<div>\n",
       "<style scoped>\n",
       "    .dataframe tbody tr th:only-of-type {\n",
       "        vertical-align: middle;\n",
       "    }\n",
       "\n",
       "    .dataframe tbody tr th {\n",
       "        vertical-align: top;\n",
       "    }\n",
       "\n",
       "    .dataframe thead th {\n",
       "        text-align: right;\n",
       "    }\n",
       "</style>\n",
       "<table border=\"1\" class=\"dataframe\">\n",
       "  <thead>\n",
       "    <tr style=\"text-align: right;\">\n",
       "      <th></th>\n",
       "      <th>line_id</th>\n",
       "      <th>населенный_пункт</th>\n",
       "      <th>тип_тс</th>\n",
       "      <th>тип_маршрута</th>\n",
       "      <th>номер_маршрута</th>\n",
       "      <th>наим_маршрута</th>\n",
       "      <th>интерв_мин_буд</th>\n",
       "      <th>частота</th>\n",
       "      <th>geometry</th>\n",
       "    </tr>\n",
       "  </thead>\n",
       "  <tbody>\n",
       "    <tr>\n",
       "      <th>0</th>\n",
       "      <td>2193178991</td>\n",
       "      <td>Самара</td>\n",
       "      <td>автобус</td>\n",
       "      <td>муниципальный</td>\n",
       "      <td>1</td>\n",
       "      <td>а/ст \"Красная Глинка\" - Ж/д вокзал (Поликлиника)</td>\n",
       "      <td>8</td>\n",
       "      <td>7.5</td>\n",
       "      <td>LINESTRING (50.12249 53.18858, 50.12277 53.188...</td>\n",
       "    </tr>\n",
       "    <tr>\n",
       "      <th>1</th>\n",
       "      <td>2193178998</td>\n",
       "      <td>Самара</td>\n",
       "      <td>автобус</td>\n",
       "      <td>пригородный</td>\n",
       "      <td>101а</td>\n",
       "      <td>г. Самара (а/ст \"Аврора\") - с. Лопатино</td>\n",
       "      <td>30</td>\n",
       "      <td>2.0</td>\n",
       "      <td>LINESTRING (50.19138 53.19107, 50.19141 53.190...</td>\n",
       "    </tr>\n",
       "  </tbody>\n",
       "</table>\n",
       "</div>"
      ],
      "text/plain": [
       "      line_id населенный_пункт   тип_тс   тип_маршрута номер_маршрута  \\\n",
       "0  2193178991           Самара  автобус  муниципальный              1   \n",
       "1  2193178998           Самара  автобус    пригородный           101а   \n",
       "\n",
       "                                      наим_маршрута  интерв_мин_буд  частота  \\\n",
       "0  а/ст \"Красная Глинка\" - Ж/д вокзал (Поликлиника)               8      7.5   \n",
       "1           г. Самара (а/ст \"Аврора\") - с. Лопатино              30      2.0   \n",
       "\n",
       "                                            geometry  \n",
       "0  LINESTRING (50.12249 53.18858, 50.12277 53.188...  \n",
       "1  LINESTRING (50.19138 53.19107, 50.19141 53.190...  "
      ]
     },
     "execution_count": 37,
     "metadata": {},
     "output_type": "execute_result"
    }
   ],
   "source": [
    "full_geo_interv.head(2)"
   ]
  },
  {
   "cell_type": "code",
   "execution_count": null,
   "metadata": {},
   "outputs": [],
   "source": []
  },
  {
   "cell_type": "code",
   "execution_count": 28,
   "metadata": {},
   "outputs": [],
   "source": [
    "def get_grp_seg(full_geo_interv):\n",
    "\n",
    "    np_fgi = full_geo_interv.to_numpy()\n",
    "    ind_geo = list(full_geo_interv.columns).index('geometry')\n",
    "    ind_tpts = list(full_geo_interv.columns).index('тип_тс')\n",
    "    ind_freq = list(full_geo_interv.columns).index('частота')\n",
    "    ind_lnid = list(full_geo_interv.columns).index('line_id')\n",
    "    ind_rtnmbr = list(full_geo_interv.columns).index('номер_маршрута')\n",
    "\n",
    "\n",
    "    bg_lst_segm = []\n",
    "    bg_lst_tpts = []\n",
    "    bg_lst_freq = []\n",
    "    bg_lst_wkt = []\n",
    "\n",
    "    bg_lst_rtnmbr = []\n",
    "    bg_lst_lineid = []\n",
    "    i=0\n",
    "    for i in tqdm(range(len(np_fgi))):\n",
    "    # for i in range(2):\n",
    "        one_line = np_fgi[i,ind_geo]\n",
    "        one_tpts = np_fgi[i,ind_tpts]\n",
    "        one_freq = np_fgi[i,ind_freq]\n",
    "        one_lineid = np_fgi[i,ind_lnid]\n",
    "        one_rtnmbr = np_fgi[i,ind_rtnmbr]\n",
    "\n",
    "        intrsect = one_line.intersection(one_line)\n",
    "        lst_segm_new = list(intrsect)\n",
    "        lst_one_tpts = []\n",
    "        lst_one_freq = []\n",
    "        lst_one_wkt = []\n",
    "\n",
    "        lst_one_lineid = []\n",
    "        lst_one_rtnmbr = []\n",
    "        for j in range(len(lst_segm_new)):\n",
    "            if ((one_tpts == 'троллейбус') | (one_tpts == 'автобус')):\n",
    "                tp_ts_grp = 'not_rail'\n",
    "            else:\n",
    "                tp_ts_grp = 'rail'\n",
    "            #\n",
    "            lst_one_tpts.append(tp_ts_grp)\n",
    "            lst_one_freq.append(one_freq)\n",
    "            lst_one_wkt.append(lst_segm_new[j].to_wkt())\n",
    "            lst_one_lineid.append(one_lineid)\n",
    "            lst_one_rtnmbr.append(one_rtnmbr)\n",
    "        #\n",
    "        bg_lst_segm = bg_lst_segm + lst_segm_new\n",
    "        bg_lst_tpts = bg_lst_tpts + lst_one_tpts\n",
    "        bg_lst_freq = bg_lst_freq + lst_one_freq\n",
    "        bg_lst_wkt = bg_lst_wkt + lst_one_wkt\n",
    "        bg_lst_rtnmbr = bg_lst_rtnmbr + lst_one_rtnmbr\n",
    "        bg_lst_lineid = bg_lst_lineid + lst_one_lineid\n",
    "    # \n",
    "\n",
    "\n",
    "    df_seg = gpd.GeoDataFrame(data=list(zip(bg_lst_tpts, bg_lst_freq, bg_lst_wkt,\n",
    "                                            bg_lst_rtnmbr,bg_lst_lineid)), \n",
    "                              geometry=bg_lst_segm, \n",
    "                              columns=['type_ts','frequency','geo_wkt',\n",
    "                                       'route_number','line_id'])\n",
    "    df_seg.crs='epsg:4326'\n",
    "    #\n",
    "\n",
    "    grp_seg = pd.DataFrame(df_seg.groupby(['geo_wkt',\n",
    "                                           'type_ts']).sum()['frequency']).reset_index()\n",
    "\n",
    "    grp_seg = grp_seg.sort_values(by=['type_ts','frequency'],ascending=False)\n",
    "\n",
    "    grp_seg = grp_seg.merge(df_seg[['geo_wkt',\n",
    "                                    'geometry']].drop_duplicates(subset=['geo_wkt']), \n",
    "                            how='left', on=['geo_wkt']).reset_index(drop=True)\n",
    "    #\n",
    "    grp_seg = gpd.GeoDataFrame(grp_seg)\n",
    "    grp_seg.crs='epsg:4326'\n",
    "\n",
    "\n",
    "    np_gs = grp_seg.to_numpy()\n",
    "    ind_wkt = list(grp_seg.columns).index('geo_wkt')\n",
    "    ind_tpts = list(grp_seg.columns).index('type_ts')\n",
    "\n",
    "    np_ds = df_seg.to_numpy()\n",
    "    ind_wkt2 = list(df_seg.columns).index('geo_wkt')\n",
    "    ind_tpts2 = list(df_seg.columns).index('type_ts')\n",
    "    ind_rtnb2 = list(df_seg.columns).index('route_number')\n",
    "    ind_lnd2 = list(df_seg.columns).index('line_id')\n",
    "\n",
    "    lst_rts_in_seg = []\n",
    "    lst_lineid_in_seg = []\n",
    "    i=0\n",
    "    for i in tqdm(range(len(np_gs))):\n",
    "    # for i in range(10):\n",
    "        one_wkt = np_gs[i,ind_wkt]\n",
    "        one_tpts = np_gs[i,ind_tpts]\n",
    "        prt_df = np_ds[np.where((np_ds[:,ind_wkt2] == one_wkt) \n",
    "                                * (np_ds[:,ind_tpts2] == one_tpts))]\n",
    "\n",
    "        lst_lineid = list(set(list(prt_df[:,ind_lnd2])))\n",
    "        lst_rtnmbr = list(set(list(prt_df[:,ind_rtnb2])))\n",
    "        lst_rts_in_seg.append(str(lst_rtnmbr).replace('[','').replace(']',''))\n",
    "        lst_lineid_in_seg.append(str(lst_lineid).replace('[','').replace(']',''))\n",
    "    #\n",
    "\n",
    "    grp_seg['rtnmbr_in_seg'] = lst_rts_in_seg\n",
    "    grp_seg['lineid_in_seg'] = lst_lineid_in_seg\n",
    "\n",
    "    return grp_seg"
   ]
  },
  {
   "cell_type": "code",
   "execution_count": null,
   "metadata": {},
   "outputs": [],
   "source": []
  },
  {
   "cell_type": "code",
   "execution_count": 29,
   "metadata": {},
   "outputs": [
    {
     "data": {
      "application/vnd.jupyter.widget-view+json": {
       "model_id": "8ef3ccacfc6d47e8ad636f2c8fad1fb9",
       "version_major": 2,
       "version_minor": 0
      },
      "text/plain": [
       "HBox(children=(FloatProgress(value=0.0, max=24.0), HTML(value='')))"
      ]
     },
     "metadata": {},
     "output_type": "display_data"
    },
    {
     "name": "stdout",
     "output_type": "stream",
     "text": [
      "\n"
     ]
    },
    {
     "data": {
      "application/vnd.jupyter.widget-view+json": {
       "model_id": "f8ca270fe6014907828e28b28cdc7f52",
       "version_major": 2,
       "version_minor": 0
      },
      "text/plain": [
       "HBox(children=(FloatProgress(value=0.0, max=2863.0), HTML(value='')))"
      ]
     },
     "metadata": {},
     "output_type": "display_data"
    },
    {
     "name": "stdout",
     "output_type": "stream",
     "text": [
      "\n"
     ]
    }
   ],
   "source": [
    "sam_rail = full_geo_interv[((full_geo_interv.населенный_пункт == 'Самара') \n",
    "                                     & (full_geo_interv.тип_тс == 'трамвай'))].reset_index(drop=True)\n",
    "grp_seg_sam_rail = get_grp_seg(sam_rail)"
   ]
  },
  {
   "cell_type": "code",
   "execution_count": null,
   "metadata": {},
   "outputs": [],
   "source": []
  },
  {
   "cell_type": "code",
   "execution_count": 32,
   "metadata": {
    "scrolled": true
   },
   "outputs": [],
   "source": [
    "grp_seg_sam_rail.to_file('grp_seg_sam_rail.json',driver='GeoJSON',encoding='utf-8')"
   ]
  },
  {
   "cell_type": "code",
   "execution_count": null,
   "metadata": {},
   "outputs": [],
   "source": []
  },
  {
   "cell_type": "code",
   "execution_count": 34,
   "metadata": {},
   "outputs": [
    {
     "data": {
      "application/vnd.jupyter.widget-view+json": {
       "model_id": "2cf573b1da354146b4071c63e636b3c6",
       "version_major": 2,
       "version_minor": 0
      },
      "text/plain": [
       "HBox(children=(FloatProgress(value=0.0, max=160.0), HTML(value='')))"
      ]
     },
     "metadata": {},
     "output_type": "display_data"
    },
    {
     "name": "stdout",
     "output_type": "stream",
     "text": [
      "\n"
     ]
    },
    {
     "data": {
      "application/vnd.jupyter.widget-view+json": {
       "model_id": "787f77c894ba45e99551778a4ae79a74",
       "version_major": 2,
       "version_minor": 0
      },
      "text/plain": [
       "HBox(children=(FloatProgress(value=0.0, max=34830.0), HTML(value='')))"
      ]
     },
     "metadata": {},
     "output_type": "display_data"
    },
    {
     "name": "stdout",
     "output_type": "stream",
     "text": [
      "\n"
     ]
    }
   ],
   "source": [
    "sam_norail = full_geo_interv[((full_geo_interv.населенный_пункт == 'Самара') \n",
    "                                     & (full_geo_interv.тип_тс != 'трамвай'))].reset_index(drop=True)\n",
    "grp_seg_sam_norail = get_grp_seg(sam_norail)"
   ]
  },
  {
   "cell_type": "code",
   "execution_count": 35,
   "metadata": {},
   "outputs": [
    {
     "data": {
      "application/vnd.jupyter.widget-view+json": {
       "model_id": "f3e93183ffa34fbf96a89e6ac8cabc64",
       "version_major": 2,
       "version_minor": 0
      },
      "text/plain": [
       "HBox(children=(FloatProgress(value=0.0, max=122.0), HTML(value='')))"
      ]
     },
     "metadata": {},
     "output_type": "display_data"
    },
    {
     "name": "stdout",
     "output_type": "stream",
     "text": [
      "\n"
     ]
    },
    {
     "data": {
      "application/vnd.jupyter.widget-view+json": {
       "model_id": "1f411f04b8a84c19aaba830035c830e5",
       "version_major": 2,
       "version_minor": 0
      },
      "text/plain": [
       "HBox(children=(FloatProgress(value=0.0, max=18535.0), HTML(value='')))"
      ]
     },
     "metadata": {},
     "output_type": "display_data"
    },
    {
     "name": "stdout",
     "output_type": "stream",
     "text": [
      "\n"
     ]
    }
   ],
   "source": [
    "tol_norail = full_geo_interv[((full_geo_interv.населенный_пункт == 'Тольятти') \n",
    "                                     & (full_geo_interv.тип_тс != 'трамвай'))].reset_index(drop=True)\n",
    "grp_seg_tol_norail = get_grp_seg(tol_norail)"
   ]
  },
  {
   "cell_type": "code",
   "execution_count": 36,
   "metadata": {},
   "outputs": [],
   "source": [
    "grp_seg_tol_norail.to_file('grp_seg_tol_norail.json',driver='GeoJSON',encoding='utf-8')\n",
    "grp_seg_sam_norail.to_file('grp_seg_sam_norail.json',driver='GeoJSON',encoding='utf-8')"
   ]
  },
  {
   "cell_type": "code",
   "execution_count": 38,
   "metadata": {},
   "outputs": [],
   "source": [
    "full_geo_interv.to_file('full_geo_interv.json',driver='GeoJSON',encoding='utf-8')"
   ]
  },
  {
   "cell_type": "code",
   "execution_count": null,
   "metadata": {},
   "outputs": [],
   "source": []
  }
 ],
 "metadata": {
  "kernelspec": {
   "display_name": "Python 3",
   "language": "python",
   "name": "python3"
  },
  "language_info": {
   "codemirror_mode": {
    "name": "ipython",
    "version": 3
   },
   "file_extension": ".py",
   "mimetype": "text/x-python",
   "name": "python",
   "nbconvert_exporter": "python",
   "pygments_lexer": "ipython3",
   "version": "3.7.6"
  }
 },
 "nbformat": 4,
 "nbformat_minor": 4
}
