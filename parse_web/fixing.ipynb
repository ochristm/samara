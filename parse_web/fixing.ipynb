{
 "cells": [
  {
   "cell_type": "code",
   "execution_count": 2,
   "metadata": {},
   "outputs": [],
   "source": [
    "import pandas as pd\n",
    "import re\n",
    "from tqdm.notebook import tqdm\n",
    "import time\n",
    "from datetime import datetime"
   ]
  },
  {
   "cell_type": "code",
   "execution_count": null,
   "metadata": {},
   "outputs": [],
   "source": []
  },
  {
   "cell_type": "code",
   "execution_count": null,
   "metadata": {},
   "outputs": [],
   "source": []
  },
  {
   "cell_type": "code",
   "execution_count": 3,
   "metadata": {},
   "outputs": [],
   "source": [
    "df = pd.read_csv(\"reestr_17_1831.csv\",encoding='utf-8',sep=';')"
   ]
  },
  {
   "cell_type": "code",
   "execution_count": null,
   "metadata": {},
   "outputs": [],
   "source": []
  },
  {
   "cell_type": "code",
   "execution_count": 5,
   "metadata": {},
   "outputs": [
    {
     "data": {
      "text/plain": [
       "Index(['населенный_пункт', 'тип_тс', 'тип_маршрута', 'номер_маршрута',\n",
       "       'наим_маршрута', 'маршут_след_прям', 'маршут_след_обрат',\n",
       "       'список_оп_прям', 'список_оп_обрат', 'режим_работы', 'интервалы',\n",
       "       'выпуск', 'время_в_пути', 'протяженность', 'предприятие', 'подв_состав',\n",
       "       'стоимость_проезда', 'место_отстоя', 'место_отправл', 'время_отправл',\n",
       "       'интерв_ср_буд', 'интерв_ср_вых', 'интерв_ср_вчр', 'пнд', 'втр', 'срд',\n",
       "       'чтв', 'птн', 'сбт', 'вск', 'ссылка'],\n",
       "      dtype='object')"
      ]
     },
     "execution_count": 5,
     "metadata": {},
     "output_type": "execute_result"
    }
   ],
   "source": [
    "df.columns"
   ]
  },
  {
   "cell_type": "code",
   "execution_count": null,
   "metadata": {},
   "outputs": [],
   "source": []
  },
  {
   "cell_type": "code",
   "execution_count": 123,
   "metadata": {},
   "outputs": [],
   "source": [
    "lst1 = list(df.выпуск.unique())"
   ]
  },
  {
   "cell_type": "code",
   "execution_count": 107,
   "metadata": {},
   "outputs": [],
   "source": []
  },
  {
   "cell_type": "markdown",
   "metadata": {},
   "source": [
    "## Режим работы"
   ]
  },
  {
   "cell_type": "code",
   "execution_count": 55,
   "metadata": {},
   "outputs": [],
   "source": [
    "def fnd_tm_strt_end(string):\n",
    "    \n",
    "    lst_dgt = re.findall(r'\\d+', string)\n",
    "    if len(lst_dgt) > 1:\n",
    "        \n",
    "        l1 = []\n",
    "        for dgt in lst_dgt:\n",
    "            l1.append(int(dgt))\n",
    "        #\n",
    "        l1.sort()\n",
    "        tm_strt = min(l1)\n",
    "        tm_end = max(l1)\n",
    "        cnt=0\n",
    "        while ((tm_strt < 5) & (tm_strt < tm_end)):\n",
    "            try:\n",
    "                tm_strt = min(l1[cnt:])\n",
    "            except:\n",
    "                tm_strt = 6\n",
    "                break\n",
    "            cnt+=1\n",
    "        #\n",
    "        cnt=len(l1)\n",
    "        while ((tm_end > 23) & (tm_strt < tm_end)):\n",
    "            try:\n",
    "                tm_end = max(l1[:cnt])\n",
    "            except:\n",
    "                tm_end = 22\n",
    "                break\n",
    "            cnt-=1\n",
    "        #\n",
    "    #\n",
    "    else:\n",
    "        tm_strt = 6\n",
    "        tm_end = 22\n",
    "    #\n",
    "    return tm_strt, tm_end"
   ]
  },
  {
   "cell_type": "code",
   "execution_count": null,
   "metadata": {},
   "outputs": [],
   "source": []
  },
  {
   "cell_type": "code",
   "execution_count": 116,
   "metadata": {},
   "outputs": [],
   "source": [
    "lst_reg_rab = list(df.режим_работы)\n",
    "\n",
    "lst_strt_wrk,lst_end_wrk,lst_strt_hld,lst_end_hld = [],[],[],[]\n",
    "\n",
    "i=0\n",
    "for i in range(len(lst_reg_rab)):\n",
    "    string = str(lst_reg_rab[i])\n",
    "    if string == 'nan':\n",
    "        tm_strt_wrk, tm_end_wrk = '-','-'\n",
    "        tm_strt_hld, tm_end_hld = '-','-'\n",
    "    #\n",
    "    elif 'жедневно' in string:\n",
    "        tm_strt_wrk, tm_end_wrk = fnd_tm_strt_end(string)\n",
    "        tm_strt_hld, tm_end_hld = tm_strt_wrk, tm_end_wrk\n",
    "    #\n",
    "    elif 'рабочи' in string:\n",
    "        ind_hld = string.find('выходны')\n",
    "        str_wrk = string[:ind_hld]\n",
    "        tm_strt_wrk, tm_end_wrk = fnd_tm_strt_end(str_wrk)\n",
    "        if 'выходны' in string:\n",
    "            str_hld = string[ind_hld:]\n",
    "            tm_strt_hld, tm_end_hld = fnd_tm_strt_end(str_hld)\n",
    "        else:\n",
    "            tm_strt_hld, tm_end_hld = '-','-'\n",
    "    #\n",
    "    elif 'выходны' in string:\n",
    "        if 'рабочи' in string:\n",
    "            continue\n",
    "        else:\n",
    "            tm_strt_wrk, tm_end_wrk = '-','-'\n",
    "            tm_strt_hld, tm_end_hld = fnd_tm_strt_end(string)\n",
    "    #\n",
    "    else:\n",
    "        tm_strt_wrk, tm_end_wrk = fnd_tm_strt_end(string)\n",
    "        tm_strt_hld, tm_end_hld = tm_strt_wrk, tm_end_wrk\n",
    "    #\n",
    "    def mk_tm(one):\n",
    "        if one != '-':\n",
    "            one = str(one) + ':00'\n",
    "        return one\n",
    "    # \n",
    "    lst_strt_wrk.append(mk_tm(tm_strt_wrk))\n",
    "    lst_end_wrk.append(mk_tm(tm_end_wrk))\n",
    "    lst_strt_hld.append(mk_tm(tm_strt_hld))\n",
    "    lst_end_hld.append(mk_tm(tm_end_hld))\n",
    "# \n"
   ]
  },
  {
   "cell_type": "code",
   "execution_count": null,
   "metadata": {},
   "outputs": [],
   "source": []
  },
  {
   "cell_type": "code",
   "execution_count": null,
   "metadata": {},
   "outputs": [],
   "source": []
  },
  {
   "cell_type": "code",
   "execution_count": 120,
   "metadata": {},
   "outputs": [],
   "source": [
    "# data1=list(zip(lst_reg_rab,lst_strt_wrk,lst_end_wrk,lst_strt_hld,lst_end_hld))\n",
    "# columns1=['string','wrk_strt','wrk_end','hld_strt','hld_end']\n",
    "\n",
    "# tmp_df = pd.DataFrame(data=data1,columns=columns1)"
   ]
  },
  {
   "cell_type": "markdown",
   "metadata": {},
   "source": [
    "## Интервал"
   ]
  },
  {
   "cell_type": "code",
   "execution_count": 177,
   "metadata": {},
   "outputs": [],
   "source": [
    "def fnd_interv(string):\n",
    "    ind_sep = string.find(':')\n",
    "    if ind_sep == -1:\n",
    "        ind_sep = 0\n",
    "    #\n",
    "    ind_mnt = string.find('мин')\n",
    "    str_part = string[ind_sep:ind_mnt]\n",
    "\n",
    "    lst_dgt = re.findall(r'\\d+', str_part)\n",
    "    if len(lst_dgt) > 0:\n",
    "\n",
    "        l1 = []\n",
    "        for dgt in lst_dgt:\n",
    "            l1.append(int(dgt))\n",
    "        #\n",
    "        l1.sort()\n",
    "        min_interv = min(l1)\n",
    "        max_interv = max(l1)\n",
    "    #\n",
    "    else:\n",
    "        min_interv = 1\n",
    "        max_interv = 180\n",
    "    #\n",
    "\n",
    "    return min_interv, max_interv"
   ]
  },
  {
   "cell_type": "code",
   "execution_count": 183,
   "metadata": {},
   "outputs": [],
   "source": [
    "def fnd_day_tp(string,tp,rplc_min,replc_max):\n",
    "    if tp in string:\n",
    "        ind_tp = string.find(tp)\n",
    "        if tp == 'мин':\n",
    "            str_tp = string[:ind_tp]\n",
    "        else:\n",
    "            str_tp = string[ind_tp:]\n",
    "        min_res,max_res = fnd_interv(str_tp)\n",
    "    else:\n",
    "        min_res,max_res = rplc_min,replc_max\n",
    "    #\n",
    "    return min_res,max_res"
   ]
  },
  {
   "cell_type": "code",
   "execution_count": null,
   "metadata": {},
   "outputs": [],
   "source": []
  },
  {
   "cell_type": "code",
   "execution_count": null,
   "metadata": {},
   "outputs": [],
   "source": []
  },
  {
   "cell_type": "code",
   "execution_count": 190,
   "metadata": {},
   "outputs": [],
   "source": [
    "lst_interv = list(df.интервалы)\n",
    "\n",
    "lst_wrk_min,lst_wrk_max,lst_hld_min,lst_hld_max = [],[],[],[]\n",
    "lst_evn_wrk_min,lst_evn_wrk_max,lst_evn_hld_min,lst_evn_hld_max = [],[],[],[]\n",
    "\n",
    "i=0\n",
    "for i in range(len(lst_interv)):\n",
    "    string=str(lst_interv[i])\n",
    "    if ((string == 'nan') | ('расписани' in string)):\n",
    "        wrk_min,wrk_max,hld_min,hld_max = '-','-','-','-'\n",
    "        evn_wrk_min,evn_wrk_max,evn_hld_min,evn_hld_max = '-','-','-','-'\n",
    "    elif (('рабочи' in string) | ('выходн' in string) | ('вечерн' in string)):\n",
    "        wrk_min,wrk_max = fnd_day_tp(string,'рабочи',0,0)\n",
    "        if ((wrk_min==0)&(wrk_max == 0)):\n",
    "            wrk_min,wrk_max = fnd_day_tp(string,'мин',0,0)\n",
    "        #\n",
    "        hld_min,hld_max = fnd_day_tp(string,'выходн',wrk_min,wrk_max)\n",
    "        evn_wrk_min,evn_wrk_max = fnd_day_tp(string,'вечерн',wrk_min,wrk_max)\n",
    "    #\n",
    "    elif 'мин' in string:\n",
    "        wrk_min,wrk_max = fnd_interv(string)\n",
    "        hld_min,hld_max,evn_wrk_min,evn_wrk_max = wrk_min,wrk_max,wrk_min,wrk_max\n",
    "    else:\n",
    "        wrk_min,wrk_max,hld_min,hld_max = 0,0,0,0\n",
    "        evn_wrk_min,evn_wrk_max,evn_hld_min,evn_hld_max = 0,0,0,0\n",
    "    #\n",
    "    evn_hld_min,evn_hld_max = evn_wrk_min,evn_wrk_max\n",
    "    \n",
    "    lst_value=[wrk_min,wrk_max,hld_min,hld_max,\n",
    "               evn_wrk_min,evn_wrk_max,evn_hld_min,evn_hld_max]\n",
    "    lst_lsts=[lst_wrk_min,lst_wrk_max,lst_hld_min,lst_hld_max,\n",
    "             lst_evn_wrk_min,lst_evn_wrk_max,lst_evn_hld_min,lst_evn_hld_max]\n",
    "    j=0\n",
    "    for j in range(len(lst_value)):\n",
    "        lst_lsts[j].append(lst_value[j])\n",
    "#"
   ]
  },
  {
   "cell_type": "code",
   "execution_count": null,
   "metadata": {},
   "outputs": [],
   "source": [
    "# data2 = list(zip('wrk_min','wrk_max','hld_min','hld_max',\n",
    "#                  'evn_wrk_min','evn_wrk_max','evn_hld_min','evn_hld_max'))"
   ]
  },
  {
   "cell_type": "code",
   "execution_count": null,
   "metadata": {},
   "outputs": [],
   "source": []
  },
  {
   "cell_type": "code",
   "execution_count": null,
   "metadata": {},
   "outputs": [],
   "source": []
  },
  {
   "cell_type": "markdown",
   "metadata": {},
   "source": [
    "## Выпуск"
   ]
  },
  {
   "cell_type": "code",
   "execution_count": 254,
   "metadata": {},
   "outputs": [],
   "source": [
    "def fnd_vpsk(string,tp):\n",
    "    if tp == 'машин':\n",
    "        ind_strt = 0\n",
    "    elif tp == 'вагон':\n",
    "        ind_strt = 0\n",
    "    else:\n",
    "        ind_strt = string.find(tp)\n",
    "        if ind_strt == -1:\n",
    "            ind_strt = 0\n",
    "    #\n",
    "    str_prt = string[ind_strt:]\n",
    "    ind_veh = str_prt.find('машин')\n",
    "    if ind_veh == -1:\n",
    "        ind_veh = str_prt.find('вагон')\n",
    "    str_tp = str_prt[:ind_veh]\n",
    "\n",
    "    lst_dgt = re.findall(r'\\d+', str_tp)\n",
    "    if len(lst_dgt) > 0:\n",
    "        l1 = []\n",
    "        for dgt in lst_dgt:\n",
    "            l1.append(int(dgt))\n",
    "        #\n",
    "        vpsk = max(l1)\n",
    "    else:\n",
    "        vpsk = 0\n",
    "    #\n",
    "    return vpsk"
   ]
  },
  {
   "cell_type": "code",
   "execution_count": null,
   "metadata": {},
   "outputs": [],
   "source": []
  },
  {
   "cell_type": "code",
   "execution_count": 259,
   "metadata": {},
   "outputs": [],
   "source": [
    "lst_vpsk = list(df.выпуск)\n",
    "\n",
    "lst_vpsk_wrk,lst_vpsk_sbt,lst_vpsk_vsk = [],[],[]\n",
    "\n",
    "i=0\n",
    "for i in range(len(lst_vpsk)):\n",
    "    string=str(lst_vpsk[i])\n",
    "    if ((string == 'nan')):\n",
    "        vpsk_wrk,vpsk_sbt,vpsk_vsk = '-','-','-'\n",
    "        \n",
    "    elif (('рабочи' in string) | ('выходн' in string) \n",
    "          | ('суббот' in string) | ('воскресен' in string)):\n",
    "        vpsk_wrk = fnd_vpsk(string,'рабочим')\n",
    "        vpsk_sbt = fnd_vpsk(string,'суббот')\n",
    "        vpsk_vsk = fnd_vpsk(string,'воскресен')\n",
    "        if ((vpsk_sbt == 0) | (vpsk_vsk == 0)):\n",
    "            if vpsk_sbt == vpsk_vsk:\n",
    "                vpsk_sbt = fnd_vpsk(string,'выходн')\n",
    "                vpsk_vsk = vpsk_sbt\n",
    "            else:\n",
    "                if vpsk_vsk > 0:\n",
    "                    vpsk_sbt = vpsk_vsk\n",
    "                else:\n",
    "                    vpsk_vsk = vpsk_sbt\n",
    "        #\n",
    "    #\n",
    "    elif 'машин' in string:\n",
    "        vpsk_wrk = fnd_vpsk(string,'машин')\n",
    "        vpsk_sbt,vpsk_vsk = vpsk_wrk,vpsk_wrk\n",
    "    elif 'вагон' in string:\n",
    "        vpsk_wrk = fnd_vpsk(string,'вагон')\n",
    "        vpsk_sbt,vpsk_vsk = vpsk_wrk,vpsk_wrk\n",
    "    else:\n",
    "        vpsk_wrk,vpsk_sbt,vpsk_vsk = 0,0,0\n",
    "    #\n",
    "    lst_vpsk_wrk.append(vpsk_wrk)\n",
    "    lst_vpsk_sbt.append(vpsk_sbt)\n",
    "    lst_vpsk_vsk.append(vpsk_vsk)\n",
    "    \n",
    "#"
   ]
  },
  {
   "cell_type": "code",
   "execution_count": null,
   "metadata": {},
   "outputs": [],
   "source": []
  },
  {
   "cell_type": "code",
   "execution_count": null,
   "metadata": {},
   "outputs": [],
   "source": [
    "# data3 = list(zip(lst_vpsk_wrk,lst_vpsk_sbt,lst_vpsk_vsk))"
   ]
  },
  {
   "cell_type": "code",
   "execution_count": null,
   "metadata": {},
   "outputs": [],
   "source": []
  },
  {
   "cell_type": "markdown",
   "metadata": {},
   "source": [
    "## Время в пути"
   ]
  },
  {
   "cell_type": "code",
   "execution_count": null,
   "metadata": {},
   "outputs": [],
   "source": [
    "def fnd_dgt(string):\n",
    "    if '66-го' in string:\n",
    "        string = string.replace('66-го','')\n",
    "    lst_dgt = re.findall(r'\\d+', string)\n",
    "    if len(lst_dgt) > 0:\n",
    "        l1 = []\n",
    "        for dgt in lst_dgt:\n",
    "            l1.append(int(dgt))\n",
    "        #\n",
    "        tm_rt = max(l1)\n",
    "    else:\n",
    "        tm_rt = 0\n",
    "    #\n",
    "    return tm_rt"
   ]
  },
  {
   "cell_type": "code",
   "execution_count": 359,
   "metadata": {},
   "outputs": [],
   "source": [
    "def get_hr_to_mnt(string):\n",
    "    try:\n",
    "        lst_splt = string.split('ч.')\n",
    "        lst_dgt_hr = re.findall(r'\\d+', lst_splt[0])\n",
    "        hr = int(lst_dgt_hr[-1])\n",
    "\n",
    "        lst_dgt_mnt = re.findall(r'\\d+', lst_splt[1])\n",
    "        mnt = int(lst_dgt_mnt[0])\n",
    "        ttl_mnt = hr*60 + mnt\n",
    "    except:\n",
    "        \n",
    "        try:\n",
    "            lst_dgt_hr = re.findall(r'\\d+', string)\n",
    "            ttl_mnt = int(max(lst_dgt_hr))\n",
    "        except:\n",
    "            ttl_mnt = 0\n",
    "\n",
    "    return ttl_mnt"
   ]
  },
  {
   "cell_type": "code",
   "execution_count": null,
   "metadata": {},
   "outputs": [],
   "source": []
  },
  {
   "cell_type": "code",
   "execution_count": 368,
   "metadata": {
    "scrolled": true
   },
   "outputs": [],
   "source": [
    "lst_tm_rt_all = list(df.время_в_пути)\n",
    "\n",
    "lst_tm_rt=[]\n",
    "\n",
    "i=0\n",
    "for i in range(len(lst_tm_rt_all)):\n",
    "    string = str(lst_tm_rt_all[i])\n",
    "    if string == 'nan':\n",
    "        tm_rt = '-'\n",
    "    #\n",
    "    elif ('ч.' in string):\n",
    "        string = string.replace('ч:','ч ')\n",
    "        lst_hr = re.findall('мин', string)\n",
    "        if len(lst_hr) == 1:\n",
    "            tm_rt = get_hr_to_mnt(string)\n",
    "        else:\n",
    "            lst_prts=[]\n",
    "            j=0\n",
    "            for j in range(len(lst_hr)):\n",
    "                ind_prt = string.find('мин')\n",
    "                string1 = string[:ind_prt]\n",
    "                string = string[ind_prt:].replace('мин','',1)\n",
    "                try:\n",
    "                    tm_rt1 = get_hr_to_mnt(string1)\n",
    "                except:\n",
    "                    print(i)\n",
    "                    tm_rt1=0\n",
    "                lst_prts.append(tm_rt1)\n",
    "            # \n",
    "            tm_rt = max(lst_prts)\n",
    "\n",
    "    elif 'мин' in string:\n",
    "        tm_rt = fnd_dgt(string)\n",
    "    else:\n",
    "        tm_rt = 1111\n",
    "    #\n",
    "    lst_tm_rt.append(tm_rt)\n",
    "# "
   ]
  },
  {
   "cell_type": "code",
   "execution_count": null,
   "metadata": {},
   "outputs": [],
   "source": []
  },
  {
   "cell_type": "code",
   "execution_count": null,
   "metadata": {},
   "outputs": [],
   "source": []
  },
  {
   "cell_type": "markdown",
   "metadata": {},
   "source": [
    "## Протяженность"
   ]
  },
  {
   "cell_type": "code",
   "execution_count": 390,
   "metadata": {},
   "outputs": [],
   "source": [
    "lst_lngth_all = list(df.протяженность)\n",
    "\n",
    "lst_lngth = []\n",
    "\n",
    "i=0\n",
    "for i in range(len(lst_lngth_all)):\n",
    "    string = str(lst_lngth_all[i])\n",
    "    if string == 'nan':\n",
    "        lngth = '-'\n",
    "    else:\n",
    "        string = string.replace(',','.')\n",
    "        lst_dgt_hr = re.findall(\"\\d+\\.\\d+\", string)\n",
    "        if len(lst_dgt_hr) == 0:\n",
    "            lst_dgt_hr = re.findall(\"\\d+\", string)\n",
    "        #\n",
    "        lst_dgt_flt=[]\n",
    "        k=0\n",
    "        for k in range(len(lst_dgt_hr)):\n",
    "            dgt = float(lst_dgt_hr[k])\n",
    "            lst_dgt_flt.append(dgt)\n",
    "        #\n",
    "        try:\n",
    "            lngth = max(lst_dgt_flt)\n",
    "        except:\n",
    "            lngth='-'\n",
    "    lst_lngth.append(lngth)\n",
    "# "
   ]
  },
  {
   "cell_type": "code",
   "execution_count": null,
   "metadata": {},
   "outputs": [],
   "source": []
  },
  {
   "cell_type": "code",
   "execution_count": null,
   "metadata": {},
   "outputs": [],
   "source": []
  },
  {
   "cell_type": "markdown",
   "metadata": {},
   "source": [
    "## Подвижной состав"
   ]
  },
  {
   "cell_type": "code",
   "execution_count": 392,
   "metadata": {},
   "outputs": [],
   "source": [
    "lst1 = list(df.подв_состав.unique())"
   ]
  },
  {
   "cell_type": "code",
   "execution_count": null,
   "metadata": {},
   "outputs": [],
   "source": []
  },
  {
   "cell_type": "code",
   "execution_count": null,
   "metadata": {},
   "outputs": [],
   "source": []
  },
  {
   "cell_type": "markdown",
   "metadata": {},
   "source": [
    "## Стоимость проезда"
   ]
  },
  {
   "cell_type": "code",
   "execution_count": 416,
   "metadata": {},
   "outputs": [],
   "source": [
    "lst_money_all = list(df.стоимость_проезда)\n",
    "\n",
    "lst_money = []\n",
    "\n",
    "i=0\n",
    "for i in range(len(lst_money_all)):\n",
    "    string = str(lst_money_all[i])\n",
    "    if string == 'nan':\n",
    "        money = '-'\n",
    "    else:\n",
    "        string = string.replace(',','.')\n",
    "        lst_dgt_hr = re.findall(\"\\d+\", string)\n",
    "        #\n",
    "        lst_dgt_flt=[]\n",
    "        k=0\n",
    "        for k in range(len(lst_dgt_hr)):\n",
    "            dgt = int(lst_dgt_hr[k])\n",
    "            lst_dgt_flt.append(dgt)\n",
    "        #\n",
    "        try:\n",
    "            lst_dgt_flt.sort()\n",
    "            money = max(lst_dgt_flt)\n",
    "            if money >= 1000:\n",
    "                cnt=-1\n",
    "                while money >= 1000:\n",
    "                    money = max(lst_dgt_flt[:cnt])\n",
    "                    cnt-=1\n",
    "                #\n",
    "        except:\n",
    "            money='-'\n",
    "    lst_money.append(money)\n",
    "#"
   ]
  },
  {
   "cell_type": "code",
   "execution_count": null,
   "metadata": {},
   "outputs": [],
   "source": []
  },
  {
   "cell_type": "code",
   "execution_count": null,
   "metadata": {},
   "outputs": [],
   "source": []
  },
  {
   "cell_type": "code",
   "execution_count": null,
   "metadata": {},
   "outputs": [],
   "source": []
  }
 ],
 "metadata": {
  "kernelspec": {
   "display_name": "Python 3",
   "language": "python",
   "name": "python3"
  },
  "language_info": {
   "codemirror_mode": {
    "name": "ipython",
    "version": 3
   },
   "file_extension": ".py",
   "mimetype": "text/x-python",
   "name": "python",
   "nbconvert_exporter": "python",
   "pygments_lexer": "ipython3",
   "version": "3.7.6"
  }
 },
 "nbformat": 4,
 "nbformat_minor": 4
}
