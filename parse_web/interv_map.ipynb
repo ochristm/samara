{
 "cells": [
  {
   "cell_type": "code",
   "execution_count": 1,
   "metadata": {},
   "outputs": [],
   "source": [
    "import pandas as pd\n",
    "import geopandas as gpd\n",
    "import shapely\n",
    "from shapely.geometry import Point, LineString, MultiLineString\n",
    "from tqdm.notebook import tqdm\n",
    "import numpy as np"
   ]
  },
  {
   "cell_type": "code",
   "execution_count": null,
   "metadata": {},
   "outputs": [],
   "source": []
  },
  {
   "cell_type": "code",
   "execution_count": 2,
   "metadata": {},
   "outputs": [],
   "source": [
    "df_dupl = pd.read_csv('intervs_st.csv',sep=';',encoding='windows-1251')"
   ]
  },
  {
   "cell_type": "code",
   "execution_count": null,
   "metadata": {},
   "outputs": [],
   "source": []
  },
  {
   "cell_type": "code",
   "execution_count": 3,
   "metadata": {},
   "outputs": [],
   "source": [
    "df = df_dupl.drop_duplicates(subset=df_dupl.columns).reset_index(drop=True)"
   ]
  },
  {
   "cell_type": "code",
   "execution_count": 4,
   "metadata": {},
   "outputs": [],
   "source": [
    "df = df.sort_values(by=['населенный_пункт',\n",
    "                        'тип_тс','номер_маршрута']).reset_index(drop=True)"
   ]
  },
  {
   "cell_type": "code",
   "execution_count": null,
   "metadata": {},
   "outputs": [],
   "source": []
  },
  {
   "cell_type": "code",
   "execution_count": 5,
   "metadata": {},
   "outputs": [],
   "source": [
    "lst_freq = []\n",
    "i=0\n",
    "for i in range(len(df)):\n",
    "    freq = round((60 / df['интерв_ср_буд'][i]),1)\n",
    "    lst_freq.append(freq)\n",
    "# "
   ]
  },
  {
   "cell_type": "code",
   "execution_count": null,
   "metadata": {},
   "outputs": [],
   "source": []
  },
  {
   "cell_type": "code",
   "execution_count": 6,
   "metadata": {},
   "outputs": [],
   "source": [
    "df['частота_ТС_в_час'] = lst_freq"
   ]
  },
  {
   "cell_type": "code",
   "execution_count": null,
   "metadata": {},
   "outputs": [],
   "source": []
  },
  {
   "cell_type": "code",
   "execution_count": 7,
   "metadata": {},
   "outputs": [],
   "source": [
    "gdf_lines1 = gpd.read_file('./rts_ya/gdf_line1_СТН.json',encoding='utf-8')"
   ]
  },
  {
   "cell_type": "code",
   "execution_count": 8,
   "metadata": {},
   "outputs": [],
   "source": [
    "gdf_lines2 = gpd.read_file('./rts_ya/gdf_line_sam_tol_new.json',encoding='utf-8')"
   ]
  },
  {
   "cell_type": "code",
   "execution_count": null,
   "metadata": {},
   "outputs": [],
   "source": []
  },
  {
   "cell_type": "code",
   "execution_count": 9,
   "metadata": {},
   "outputs": [
    {
     "data": {
      "text/html": [
       "<div>\n",
       "<style scoped>\n",
       "    .dataframe tbody tr th:only-of-type {\n",
       "        vertical-align: middle;\n",
       "    }\n",
       "\n",
       "    .dataframe tbody tr th {\n",
       "        vertical-align: top;\n",
       "    }\n",
       "\n",
       "    .dataframe thead th {\n",
       "        text-align: right;\n",
       "    }\n",
       "</style>\n",
       "<table border=\"1\" class=\"dataframe\">\n",
       "  <thead>\n",
       "    <tr style=\"text-align: right;\">\n",
       "      <th></th>\n",
       "      <th>line_id</th>\n",
       "      <th>direction</th>\n",
       "      <th>geometry</th>\n",
       "    </tr>\n",
       "  </thead>\n",
       "  <tbody>\n",
       "    <tr>\n",
       "      <th>156</th>\n",
       "      <td>2193179417</td>\n",
       "      <td>0</td>\n",
       "      <td>LINESTRING (50.18772 53.21483, 50.18809 53.214...</td>\n",
       "    </tr>\n",
       "    <tr>\n",
       "      <th>747</th>\n",
       "      <td>2227623077</td>\n",
       "      <td>0</td>\n",
       "      <td>LINESTRING (49.48976 53.48649, 49.49112 53.486...</td>\n",
       "    </tr>\n",
       "    <tr>\n",
       "      <th>748</th>\n",
       "      <td>2227623077</td>\n",
       "      <td>1</td>\n",
       "      <td>LINESTRING (49.84604 53.48551, 49.84600 53.485...</td>\n",
       "    </tr>\n",
       "  </tbody>\n",
       "</table>\n",
       "</div>"
      ],
      "text/plain": [
       "        line_id  direction                                           geometry\n",
       "156  2193179417          0  LINESTRING (50.18772 53.21483, 50.18809 53.214...\n",
       "747  2227623077          0  LINESTRING (49.48976 53.48649, 49.49112 53.486...\n",
       "748  2227623077          1  LINESTRING (49.84604 53.48551, 49.84600 53.485..."
      ]
     },
     "execution_count": 9,
     "metadata": {},
     "output_type": "execute_result"
    }
   ],
   "source": [
    "gdf_lines1[gdf_lines1.line_id.isin(gdf_lines2.line_id)]"
   ]
  },
  {
   "cell_type": "code",
   "execution_count": null,
   "metadata": {},
   "outputs": [],
   "source": []
  },
  {
   "cell_type": "code",
   "execution_count": 10,
   "metadata": {},
   "outputs": [],
   "source": [
    "gdf_lines_all = gdf_lines1.append(gdf_lines2[~gdf_lines2.line_id.isin(gdf_lines1.line_id)])\n",
    "gdf_lines_all = gdf_lines_all.drop_duplicates(subset=['line_id','direction'])\n",
    "gdf_lines_all = gdf_lines_all.reset_index(drop=True)"
   ]
  },
  {
   "cell_type": "code",
   "execution_count": 11,
   "metadata": {},
   "outputs": [],
   "source": [
    "gdf_lines_frw = gdf_lines_all[gdf_lines_all.direction == 0].reset_index(drop=True)"
   ]
  },
  {
   "cell_type": "code",
   "execution_count": null,
   "metadata": {},
   "outputs": [],
   "source": []
  },
  {
   "cell_type": "code",
   "execution_count": 12,
   "metadata": {},
   "outputs": [],
   "source": [
    "df = df.rename(columns={'link_id_yandex_frw':'line_id'})"
   ]
  },
  {
   "cell_type": "code",
   "execution_count": 19,
   "metadata": {},
   "outputs": [],
   "source": [
    "df['line_id'] = df['line_id'].astype(str)"
   ]
  },
  {
   "cell_type": "code",
   "execution_count": 13,
   "metadata": {},
   "outputs": [
    {
     "data": {
      "text/plain": [
       "313"
      ]
     },
     "execution_count": 13,
     "metadata": {},
     "output_type": "execute_result"
    }
   ],
   "source": [
    "len(df)"
   ]
  },
  {
   "cell_type": "code",
   "execution_count": null,
   "metadata": {},
   "outputs": [],
   "source": []
  },
  {
   "cell_type": "code",
   "execution_count": 28,
   "metadata": {
    "scrolled": true
   },
   "outputs": [],
   "source": [
    "full_geo_interv = df.merge(gdf_lines_frw[['line_id','geometry']],how='left',on=['line_id'])"
   ]
  },
  {
   "cell_type": "code",
   "execution_count": 34,
   "metadata": {},
   "outputs": [],
   "source": [
    "full_geo_interv = gpd.GeoDataFrame(full_geo_interv)\n",
    "full_geo_interv.crs='epsg:4326'"
   ]
  },
  {
   "cell_type": "code",
   "execution_count": 36,
   "metadata": {},
   "outputs": [],
   "source": [
    "full_geo_interv.to_file('full_geo_interv.json',driver='GeoJSON',encoding='utf-8')"
   ]
  },
  {
   "cell_type": "code",
   "execution_count": 39,
   "metadata": {},
   "outputs": [],
   "source": [
    "rail_full_geo_interv = full_geo_interv[\n",
    "    full_geo_interv.тип_тс == 'трамвай'].reset_index(drop=True)"
   ]
  },
  {
   "cell_type": "code",
   "execution_count": 40,
   "metadata": {},
   "outputs": [],
   "source": [
    "not_rail_full_geo_interv = full_geo_interv[\n",
    "    full_geo_interv.тип_тс != 'трамвай'].reset_index(drop=True)"
   ]
  },
  {
   "cell_type": "code",
   "execution_count": 42,
   "metadata": {},
   "outputs": [],
   "source": [
    "rail_full_geo_interv.to_file('rail_full_geo_interv.json',driver='GeoJSON',encoding='utf-8')"
   ]
  },
  {
   "cell_type": "code",
   "execution_count": 43,
   "metadata": {},
   "outputs": [],
   "source": [
    "not_rail_full_geo_interv.to_file('not_rail_full_geo_interv.json',driver='GeoJSON',encoding='utf-8')"
   ]
  },
  {
   "cell_type": "code",
   "execution_count": null,
   "metadata": {},
   "outputs": [],
   "source": []
  },
  {
   "cell_type": "code",
   "execution_count": 52,
   "metadata": {},
   "outputs": [],
   "source": [
    "df_stops1 = pd.read_csv('./rts_ya/df_stop_seq1_СТН.csv',sep=';',encoding='utf-8')"
   ]
  },
  {
   "cell_type": "code",
   "execution_count": 47,
   "metadata": {},
   "outputs": [],
   "source": [
    "df_stops2 = pd.read_csv('./rts_ya/df_stop_seq_sam_tol_new.csv',sep=';',encoding='utf-8')"
   ]
  },
  {
   "cell_type": "code",
   "execution_count": null,
   "metadata": {},
   "outputs": [],
   "source": []
  },
  {
   "cell_type": "code",
   "execution_count": 58,
   "metadata": {},
   "outputs": [],
   "source": [
    "df_stop_all = df_stops1.append(df_stops2)\n",
    "df_stop_all = df_stop_all[df_stop_all.line_id.isin(full_geo_interv.line_id)]\n",
    "df_stop_all = df_stop_all.drop_duplicates(subset=['line_id','direction','stop_sequence'])\n",
    "df_stop_all = df_stop_all.reset_index(drop=True)\n",
    "df_stop_all['line_id'] = df_stop_all['line_id'].astype(str)"
   ]
  },
  {
   "cell_type": "code",
   "execution_count": null,
   "metadata": {},
   "outputs": [],
   "source": []
  },
  {
   "cell_type": "code",
   "execution_count": null,
   "metadata": {},
   "outputs": [],
   "source": []
  },
  {
   "cell_type": "code",
   "execution_count": 180,
   "metadata": {},
   "outputs": [
    {
     "data": {
      "text/html": [
       "<div>\n",
       "<style scoped>\n",
       "    .dataframe tbody tr th:only-of-type {\n",
       "        vertical-align: middle;\n",
       "    }\n",
       "\n",
       "    .dataframe tbody tr th {\n",
       "        vertical-align: top;\n",
       "    }\n",
       "\n",
       "    .dataframe thead th {\n",
       "        text-align: right;\n",
       "    }\n",
       "</style>\n",
       "<table border=\"1\" class=\"dataframe\">\n",
       "  <thead>\n",
       "    <tr style=\"text-align: right;\">\n",
       "      <th></th>\n",
       "      <th>line_id</th>\n",
       "      <th>населенный_пункт</th>\n",
       "      <th>тип_тс</th>\n",
       "      <th>тип_маршрута</th>\n",
       "      <th>номер_маршрута</th>\n",
       "      <th>наим_маршрута</th>\n",
       "      <th>интерв_ср_буд</th>\n",
       "      <th>частота_ТС_в_час</th>\n",
       "      <th>geometry</th>\n",
       "    </tr>\n",
       "  </thead>\n",
       "  <tbody>\n",
       "    <tr>\n",
       "      <th>0</th>\n",
       "      <td>2193178991</td>\n",
       "      <td>Самара</td>\n",
       "      <td>автобус</td>\n",
       "      <td>муниципальный</td>\n",
       "      <td>1</td>\n",
       "      <td>а/ст \"Красная Глинка\" - Ж/д вокзал (Поликлиника)</td>\n",
       "      <td>14.0</td>\n",
       "      <td>4.3</td>\n",
       "      <td>LINESTRING (50.16919 53.38468, 50.16979 53.384...</td>\n",
       "    </tr>\n",
       "    <tr>\n",
       "      <th>1</th>\n",
       "      <td>2193178998</td>\n",
       "      <td>Самара</td>\n",
       "      <td>автобус</td>\n",
       "      <td>пригородный</td>\n",
       "      <td>101а</td>\n",
       "      <td>г. Самара (а/ст \"Аврора\") - с. Лопатино</td>\n",
       "      <td>45.0</td>\n",
       "      <td>1.3</td>\n",
       "      <td>LINESTRING (50.19138 53.19107, 50.19141 53.190...</td>\n",
       "    </tr>\n",
       "    <tr>\n",
       "      <th>2</th>\n",
       "      <td>2193179000</td>\n",
       "      <td>Самара</td>\n",
       "      <td>автобус</td>\n",
       "      <td>пригородный</td>\n",
       "      <td>103к</td>\n",
       "      <td>г. Самара (Площадь им. Кирова) - Совхоз \"Юбиле...</td>\n",
       "      <td>80.0</td>\n",
       "      <td>0.8</td>\n",
       "      <td>LINESTRING (50.26398 53.21837, 50.26431 53.218...</td>\n",
       "    </tr>\n",
       "  </tbody>\n",
       "</table>\n",
       "</div>"
      ],
      "text/plain": [
       "      line_id населенный_пункт   тип_тс   тип_маршрута номер_маршрута  \\\n",
       "0  2193178991           Самара  автобус  муниципальный              1   \n",
       "1  2193178998           Самара  автобус    пригородный           101а   \n",
       "2  2193179000           Самара  автобус    пригородный           103к   \n",
       "\n",
       "                                       наим_маршрута  интерв_ср_буд  \\\n",
       "0   а/ст \"Красная Глинка\" - Ж/д вокзал (Поликлиника)           14.0   \n",
       "1            г. Самара (а/ст \"Аврора\") - с. Лопатино           45.0   \n",
       "2  г. Самара (Площадь им. Кирова) - Совхоз \"Юбиле...           80.0   \n",
       "\n",
       "   частота_ТС_в_час                                           geometry  \n",
       "0               4.3  LINESTRING (50.16919 53.38468, 50.16979 53.384...  \n",
       "1               1.3  LINESTRING (50.19138 53.19107, 50.19141 53.190...  \n",
       "2               0.8  LINESTRING (50.26398 53.21837, 50.26431 53.218...  "
      ]
     },
     "execution_count": 180,
     "metadata": {},
     "output_type": "execute_result"
    }
   ],
   "source": [
    "full_geo_interv.head(3)"
   ]
  },
  {
   "cell_type": "code",
   "execution_count": null,
   "metadata": {},
   "outputs": [],
   "source": []
  },
  {
   "cell_type": "code",
   "execution_count": 181,
   "metadata": {},
   "outputs": [],
   "source": [
    "np_fgi = full_geo_interv.to_numpy()\n",
    "ind_geo = list(full_geo_interv.columns).index('geometry')\n",
    "ind_tpts = list(full_geo_interv.columns).index('тип_тс')\n",
    "ind_freq = list(full_geo_interv.columns).index('частота_ТС_в_час')\n",
    "ind_lnid = list(full_geo_interv.columns).index('line_id')\n",
    "ind_rtnmbr = list(full_geo_interv.columns).index('номер_маршрута')"
   ]
  },
  {
   "cell_type": "code",
   "execution_count": null,
   "metadata": {},
   "outputs": [],
   "source": []
  },
  {
   "cell_type": "code",
   "execution_count": 182,
   "metadata": {},
   "outputs": [
    {
     "data": {
      "application/vnd.jupyter.widget-view+json": {
       "model_id": "4c52d9be15bf40bea94fa36c25ec3ac6",
       "version_major": 2,
       "version_minor": 0
      },
      "text/plain": [
       "HBox(children=(FloatProgress(value=0.0, max=313.0), HTML(value='')))"
      ]
     },
     "metadata": {},
     "output_type": "display_data"
    },
    {
     "name": "stdout",
     "output_type": "stream",
     "text": [
      "\n"
     ]
    }
   ],
   "source": [
    "bg_lst_segm = []\n",
    "bg_lst_tpts = []\n",
    "bg_lst_freq = []\n",
    "bg_lst_wkt = []\n",
    "\n",
    "bg_lst_rtnmbr = []\n",
    "bg_lst_lineid = []\n",
    "i=0\n",
    "for i in tqdm(range(len(np_fgi))):\n",
    "# for i in range(2):\n",
    "    one_line = np_fgi[i,ind_geo]\n",
    "    one_tpts = np_fgi[i,ind_tpts]\n",
    "    one_freq = np_fgi[i,ind_freq]\n",
    "    one_lineid = np_fgi[i,ind_lnid]\n",
    "    one_rtnmbr = np_fgi[i,ind_rtnmbr]\n",
    "    \n",
    "    intrsect = one_line.intersection(one_line)\n",
    "    lst_segm_new = list(intrsect)\n",
    "    lst_one_tpts = []\n",
    "    lst_one_freq = []\n",
    "    lst_one_wkt = []\n",
    "    \n",
    "    lst_one_lineid = []\n",
    "    lst_one_rtnmbr = []\n",
    "    for j in range(len(lst_segm_new)):\n",
    "        if ((one_tpts == 'троллейбус') | (one_tpts == 'автобус')):\n",
    "            tp_ts_grp = 'not_rail'\n",
    "        else:\n",
    "            tp_ts_grp = 'rail'\n",
    "        #\n",
    "        lst_one_tpts.append(tp_ts_grp)\n",
    "        lst_one_freq.append(one_freq)\n",
    "        lst_one_wkt.append(lst_segm_new[j].to_wkt())\n",
    "        lst_one_lineid.append(one_lineid)\n",
    "        lst_one_rtnmbr.append(one_rtnmbr)\n",
    "    #\n",
    "    bg_lst_segm = bg_lst_segm + lst_segm_new\n",
    "    bg_lst_tpts = bg_lst_tpts + lst_one_tpts\n",
    "    bg_lst_freq = bg_lst_freq + lst_one_freq\n",
    "    bg_lst_wkt = bg_lst_wkt + lst_one_wkt\n",
    "    bg_lst_rtnmbr = bg_lst_rtnmbr + lst_one_rtnmbr\n",
    "    bg_lst_lineid = bg_lst_lineid + lst_one_lineid\n",
    "# "
   ]
  },
  {
   "cell_type": "code",
   "execution_count": null,
   "metadata": {},
   "outputs": [],
   "source": []
  },
  {
   "cell_type": "code",
   "execution_count": null,
   "metadata": {},
   "outputs": [],
   "source": []
  },
  {
   "cell_type": "code",
   "execution_count": null,
   "metadata": {},
   "outputs": [],
   "source": []
  },
  {
   "cell_type": "code",
   "execution_count": null,
   "metadata": {},
   "outputs": [],
   "source": []
  },
  {
   "cell_type": "code",
   "execution_count": 183,
   "metadata": {
    "scrolled": true
   },
   "outputs": [],
   "source": [
    "df_seg = gpd.GeoDataFrame(data=list(zip(bg_lst_tpts, bg_lst_freq, bg_lst_wkt,\n",
    "                                        bg_lst_rtnmbr,bg_lst_lineid)), \n",
    "                          geometry=bg_lst_segm, \n",
    "                          columns=['type_ts','frequency','geo_wkt','route_number','line_id'])\n",
    "df_seg.crs='epsg:4326'"
   ]
  },
  {
   "cell_type": "code",
   "execution_count": null,
   "metadata": {},
   "outputs": [],
   "source": []
  },
  {
   "cell_type": "code",
   "execution_count": 184,
   "metadata": {},
   "outputs": [
    {
     "data": {
      "text/html": [
       "<div>\n",
       "<style scoped>\n",
       "    .dataframe tbody tr th:only-of-type {\n",
       "        vertical-align: middle;\n",
       "    }\n",
       "\n",
       "    .dataframe tbody tr th {\n",
       "        vertical-align: top;\n",
       "    }\n",
       "\n",
       "    .dataframe thead th {\n",
       "        text-align: right;\n",
       "    }\n",
       "</style>\n",
       "<table border=\"1\" class=\"dataframe\">\n",
       "  <thead>\n",
       "    <tr style=\"text-align: right;\">\n",
       "      <th></th>\n",
       "      <th>type_ts</th>\n",
       "      <th>frequency</th>\n",
       "      <th>geo_wkt</th>\n",
       "      <th>route_number</th>\n",
       "      <th>line_id</th>\n",
       "      <th>geometry</th>\n",
       "    </tr>\n",
       "  </thead>\n",
       "  <tbody>\n",
       "    <tr>\n",
       "      <th>0</th>\n",
       "      <td>not_rail</td>\n",
       "      <td>4.3</td>\n",
       "      <td>LINESTRING (50.1691939999999974 53.38468400000...</td>\n",
       "      <td>1</td>\n",
       "      <td>2193178991</td>\n",
       "      <td>LINESTRING (50.16919 53.38468, 50.16979 53.38482)</td>\n",
       "    </tr>\n",
       "    <tr>\n",
       "      <th>1</th>\n",
       "      <td>not_rail</td>\n",
       "      <td>4.3</td>\n",
       "      <td>LINESTRING (50.1697860000000020 53.38482100000...</td>\n",
       "      <td>1</td>\n",
       "      <td>2193178991</td>\n",
       "      <td>LINESTRING (50.16979 53.38482, 50.16946 53.38539)</td>\n",
       "    </tr>\n",
       "    <tr>\n",
       "      <th>2</th>\n",
       "      <td>not_rail</td>\n",
       "      <td>4.3</td>\n",
       "      <td>LINESTRING (50.1694630000000004 53.38538700000...</td>\n",
       "      <td>1</td>\n",
       "      <td>2193178991</td>\n",
       "      <td>LINESTRING (50.16946 53.38539, 50.16886 53.38526)</td>\n",
       "    </tr>\n",
       "  </tbody>\n",
       "</table>\n",
       "</div>"
      ],
      "text/plain": [
       "    type_ts  frequency                                            geo_wkt  \\\n",
       "0  not_rail        4.3  LINESTRING (50.1691939999999974 53.38468400000...   \n",
       "1  not_rail        4.3  LINESTRING (50.1697860000000020 53.38482100000...   \n",
       "2  not_rail        4.3  LINESTRING (50.1694630000000004 53.38538700000...   \n",
       "\n",
       "  route_number     line_id                                           geometry  \n",
       "0            1  2193178991  LINESTRING (50.16919 53.38468, 50.16979 53.38482)  \n",
       "1            1  2193178991  LINESTRING (50.16979 53.38482, 50.16946 53.38539)  \n",
       "2            1  2193178991  LINESTRING (50.16946 53.38539, 50.16886 53.38526)  "
      ]
     },
     "execution_count": 184,
     "metadata": {},
     "output_type": "execute_result"
    }
   ],
   "source": [
    "df_seg.head(3)"
   ]
  },
  {
   "cell_type": "code",
   "execution_count": null,
   "metadata": {},
   "outputs": [],
   "source": []
  },
  {
   "cell_type": "code",
   "execution_count": 185,
   "metadata": {},
   "outputs": [
    {
     "name": "stdout",
     "output_type": "stream",
     "text": [
      "54227\n"
     ]
    }
   ],
   "source": [
    "grp_seg = pd.DataFrame(df_seg.groupby(['geo_wkt','type_ts']).sum()['frequency']).reset_index()\n",
    "print(len(grp_seg))"
   ]
  },
  {
   "cell_type": "code",
   "execution_count": 186,
   "metadata": {},
   "outputs": [],
   "source": [
    "grp_seg = grp_seg.sort_values(by=['type_ts','frequency'],ascending=False)"
   ]
  },
  {
   "cell_type": "code",
   "execution_count": 187,
   "metadata": {},
   "outputs": [
    {
     "name": "stdout",
     "output_type": "stream",
     "text": [
      "54227\n"
     ]
    }
   ],
   "source": [
    "grp_seg = grp_seg.merge(df_seg[['geo_wkt','geometry']].drop_duplicates(subset=['geo_wkt']), \n",
    "                        how='left', on=['geo_wkt']).reset_index(drop=True)\n",
    "print(len(grp_seg))"
   ]
  },
  {
   "cell_type": "code",
   "execution_count": 188,
   "metadata": {},
   "outputs": [],
   "source": [
    "grp_seg = gpd.GeoDataFrame(grp_seg)\n",
    "grp_seg.crs='epsg:4326'"
   ]
  },
  {
   "cell_type": "code",
   "execution_count": null,
   "metadata": {},
   "outputs": [],
   "source": []
  },
  {
   "cell_type": "code",
   "execution_count": null,
   "metadata": {},
   "outputs": [],
   "source": [
    "# get all routes in segment"
   ]
  },
  {
   "cell_type": "code",
   "execution_count": 212,
   "metadata": {},
   "outputs": [
    {
     "data": {
      "application/vnd.jupyter.widget-view+json": {
       "model_id": "f254c433f4334330bc2e7451e7bac4e7",
       "version_major": 2,
       "version_minor": 0
      },
      "text/plain": [
       "HBox(children=(FloatProgress(value=0.0, max=54227.0), HTML(value='')))"
      ]
     },
     "metadata": {},
     "output_type": "display_data"
    },
    {
     "name": "stdout",
     "output_type": "stream",
     "text": [
      "\n",
      "54227\n",
      "54227\n"
     ]
    }
   ],
   "source": [
    "np_gs = grp_seg.to_numpy()\n",
    "ind_wkt = list(grp_seg.columns).index('geo_wkt')\n",
    "ind_tpts = list(grp_seg.columns).index('type_ts')\n",
    "\n",
    "np_ds = df_seg.to_numpy()\n",
    "ind_wkt2 = list(df_seg.columns).index('geo_wkt')\n",
    "ind_tpts2 = list(df_seg.columns).index('type_ts')\n",
    "ind_rtnb2 = list(df_seg.columns).index('route_number')\n",
    "ind_lnd2 = list(df_seg.columns).index('line_id')\n",
    "\n",
    "lst_rts_in_seg = []\n",
    "lst_lineid_in_seg = []\n",
    "i=0\n",
    "for i in tqdm(range(len(np_gs))):\n",
    "# for i in range(10):\n",
    "    one_wkt = np_gs[i,ind_wkt]\n",
    "    one_tpts = np_gs[i,ind_tpts]\n",
    "    prt_df = np_ds[np.where((np_ds[:,ind_wkt2] == one_wkt) * (np_ds[:,ind_tpts2] == one_tpts))]\n",
    "    \n",
    "    lst_lineid = list(set(list(prt_df[:,ind_lnd2])))\n",
    "    lst_rtnmbr = list(set(list(prt_df[:,ind_rtnb2])))\n",
    "    lst_rts_in_seg.append(str(lst_rtnmbr).replace('[','').replace(']',''))\n",
    "    lst_lineid_in_seg.append(str(lst_lineid).replace('[','').replace(']',''))\n",
    "#\n",
    "print(len(lst_rts_in_seg))\n",
    "print(len(lst_lineid_in_seg))\n",
    "# 3452/54227 [01:40<20:16, 41.73it/s]"
   ]
  },
  {
   "cell_type": "code",
   "execution_count": null,
   "metadata": {},
   "outputs": [],
   "source": []
  },
  {
   "cell_type": "code",
   "execution_count": 216,
   "metadata": {},
   "outputs": [],
   "source": [
    "grp_seg['rtnmbr_in_seg'] = lst_lineid_in_seg\n",
    "grp_seg['lineid_in_seg'] = lst_rts_in_seg"
   ]
  },
  {
   "cell_type": "code",
   "execution_count": 217,
   "metadata": {},
   "outputs": [
    {
     "data": {
      "text/html": [
       "<div>\n",
       "<style scoped>\n",
       "    .dataframe tbody tr th:only-of-type {\n",
       "        vertical-align: middle;\n",
       "    }\n",
       "\n",
       "    .dataframe tbody tr th {\n",
       "        vertical-align: top;\n",
       "    }\n",
       "\n",
       "    .dataframe thead th {\n",
       "        text-align: right;\n",
       "    }\n",
       "</style>\n",
       "<table border=\"1\" class=\"dataframe\">\n",
       "  <thead>\n",
       "    <tr style=\"text-align: right;\">\n",
       "      <th></th>\n",
       "      <th>geo_wkt</th>\n",
       "      <th>type_ts</th>\n",
       "      <th>frequency</th>\n",
       "      <th>geometry</th>\n",
       "      <th>rtnmbr_in_seg</th>\n",
       "      <th>lineid_in_seg</th>\n",
       "    </tr>\n",
       "  </thead>\n",
       "  <tbody>\n",
       "    <tr>\n",
       "      <th>0</th>\n",
       "      <td>LINESTRING (50.2311729999999983 53.22144099999...</td>\n",
       "      <td>rail</td>\n",
       "      <td>32.6</td>\n",
       "      <td>LINESTRING (50.23117 53.22144, 50.22938 53.22062)</td>\n",
       "      <td>'11', '19', '21', '13', '7'</td>\n",
       "      <td>'2193179383', '2193179005', '2193179041', '219...</td>\n",
       "    </tr>\n",
       "    <tr>\n",
       "      <th>1</th>\n",
       "      <td>LINESTRING (50.2347520000000003 53.22307599999...</td>\n",
       "      <td>rail</td>\n",
       "      <td>32.6</td>\n",
       "      <td>LINESTRING (50.23475 53.22308, 50.23296 53.22226)</td>\n",
       "      <td>'11', '19', '21', '13', '7'</td>\n",
       "      <td>'2193179383', '2193179005', '2193179041', '219...</td>\n",
       "    </tr>\n",
       "    <tr>\n",
       "      <th>2</th>\n",
       "      <td>LINESTRING (50.2222059999999999 53.21684199999...</td>\n",
       "      <td>rail</td>\n",
       "      <td>26.3</td>\n",
       "      <td>LINESTRING (50.22221 53.21684, 50.22255 53.21657)</td>\n",
       "      <td>'11', '19', '23', '2', '21', '7'</td>\n",
       "      <td>'2193179383', '2193179005', '2193179041', '219...</td>\n",
       "    </tr>\n",
       "  </tbody>\n",
       "</table>\n",
       "</div>"
      ],
      "text/plain": [
       "                                             geo_wkt type_ts  frequency  \\\n",
       "0  LINESTRING (50.2311729999999983 53.22144099999...    rail       32.6   \n",
       "1  LINESTRING (50.2347520000000003 53.22307599999...    rail       32.6   \n",
       "2  LINESTRING (50.2222059999999999 53.21684199999...    rail       26.3   \n",
       "\n",
       "                                            geometry  \\\n",
       "0  LINESTRING (50.23117 53.22144, 50.22938 53.22062)   \n",
       "1  LINESTRING (50.23475 53.22308, 50.23296 53.22226)   \n",
       "2  LINESTRING (50.22221 53.21684, 50.22255 53.21657)   \n",
       "\n",
       "                      rtnmbr_in_seg  \\\n",
       "0       '11', '19', '21', '13', '7'   \n",
       "1       '11', '19', '21', '13', '7'   \n",
       "2  '11', '19', '23', '2', '21', '7'   \n",
       "\n",
       "                                       lineid_in_seg  \n",
       "0  '2193179383', '2193179005', '2193179041', '219...  \n",
       "1  '2193179383', '2193179005', '2193179041', '219...  \n",
       "2  '2193179383', '2193179005', '2193179041', '219...  "
      ]
     },
     "execution_count": 217,
     "metadata": {},
     "output_type": "execute_result"
    }
   ],
   "source": [
    "grp_seg.head(3)"
   ]
  },
  {
   "cell_type": "code",
   "execution_count": null,
   "metadata": {},
   "outputs": [],
   "source": []
  },
  {
   "cell_type": "code",
   "execution_count": null,
   "metadata": {},
   "outputs": [],
   "source": []
  },
  {
   "cell_type": "code",
   "execution_count": 218,
   "metadata": {},
   "outputs": [],
   "source": [
    "grp_seg.to_file('./interv/grp_seg_ST.json',driver='GeoJSON',encoding='utf-8')"
   ]
  },
  {
   "cell_type": "code",
   "execution_count": null,
   "metadata": {},
   "outputs": [],
   "source": []
  },
  {
   "cell_type": "code",
   "execution_count": null,
   "metadata": {},
   "outputs": [],
   "source": []
  }
 ],
 "metadata": {
  "kernelspec": {
   "display_name": "Python 3",
   "language": "python",
   "name": "python3"
  },
  "language_info": {
   "codemirror_mode": {
    "name": "ipython",
    "version": 3
   },
   "file_extension": ".py",
   "mimetype": "text/x-python",
   "name": "python",
   "nbconvert_exporter": "python",
   "pygments_lexer": "ipython3",
   "version": "3.7.6"
  }
 },
 "nbformat": 4,
 "nbformat_minor": 4
}
