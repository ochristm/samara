{
 "cells": [
  {
   "cell_type": "code",
   "execution_count": 1,
   "metadata": {},
   "outputs": [],
   "source": [
    "import numpy as np\n",
    "import pandas as pd\n",
    "import geopandas as gpd\n",
    "import shapely\n",
    "from shapely.geometry import Point, LineString, MultiLineString, Polygon, MultiPolygon\n",
    "from tqdm.notebook import tqdm\n",
    "import time\n",
    "from datetime import datetime\n",
    "\n",
    "import requests\n",
    "import re\n",
    "from bs4 import BeautifulSoup\n",
    "import json\n",
    "import urllib\n",
    "\n",
    "\n",
    "# отключить предупреждения пандас\n",
    "pd.options.mode.chained_assignment = None"
   ]
  },
  {
   "cell_type": "code",
   "execution_count": null,
   "metadata": {},
   "outputs": [],
   "source": []
  },
  {
   "cell_type": "code",
   "execution_count": 2,
   "metadata": {},
   "outputs": [],
   "source": [
    "transp_reg = gpd.read_file('../data/from/transp_reg_st.shp',\n",
    "                        encoding='utf-8')\n",
    "# transp_reg.crs = 'epsg:53004'\n",
    "transp_reg = transp_reg.to_crs('epsg:4326')"
   ]
  },
  {
   "cell_type": "code",
   "execution_count": null,
   "metadata": {},
   "outputs": [],
   "source": []
  },
  {
   "cell_type": "code",
   "execution_count": 4,
   "metadata": {},
   "outputs": [],
   "source": [
    "def find_js(lnk):\n",
    "    with requests.get(lnk, stream=True, timeout=25) as req:\n",
    "        bs = BeautifulSoup(req.text, 'html.parser')\n",
    "        all_scrpt = bs.find_all(\"script\")\n",
    "        for scr in all_scrpt:\n",
    "            if scr.get('type') == \"application/json\":\n",
    "                sc_ind = all_scrpt.index(scr)\n",
    "                break\n",
    "            else:\n",
    "                sc_ind=0\n",
    "        # \n",
    "        scrp_txt = all_scrpt[sc_ind].text\n",
    "        js = json.loads(scrp_txt)\n",
    "\n",
    "        return js"
   ]
  },
  {
   "cell_type": "code",
   "execution_count": 5,
   "metadata": {},
   "outputs": [],
   "source": [
    "def get_poi(word, srch_pt, poly):\n",
    "\n",
    "    str_qt = urllib.parse.quote(word)\n",
    "\n",
    "    coords1 = str(str(srch_pt.coords[0][0]) + \"%2C\" + str(srch_pt.coords[0][1]))\n",
    "    coords2 = coords1\n",
    "\n",
    "    url = \"https://yandex.ru/maps/51/samara/search/{str_qt}/?ll={coords1}&sll={coords2}&sspn=0.015134%2C0.006711&z=15.96\".format(str_qt=str_qt,\n",
    "                                                                                                                                       coords1=coords1,\n",
    "                                                                                                                                       coords2=coords2)\n",
    "    # \n",
    "    js = find_js(url)\n",
    "\n",
    "    fnd_items = js['searchPreloadedResults']['items']\n",
    "\n",
    "    if len(fnd_items) == 0:\n",
    "        lst_res = [word+'_not_found', None, srch_pt]\n",
    "    else:\n",
    "        i=0\n",
    "        for i in range(len(fnd_items)):\n",
    "            fnd_pt = Point(fnd_items[i]['coordinates'])\n",
    "            if poly.intersects(fnd_pt):\n",
    "                name = fnd_items[0]['title']\n",
    "                lst_res = [word, name, fnd_pt]\n",
    "                break\n",
    "            else:\n",
    "                lst_res = [word+'_not_found', None, srch_pt]\n",
    "    # \n",
    "    return lst_res"
   ]
  },
  {
   "cell_type": "code",
   "execution_count": 6,
   "metadata": {},
   "outputs": [],
   "source": [
    "def get_reg_centre(reg, lst_words):\n",
    "\n",
    "    poly = reg.geometry[0]\n",
    "    srch_pt = poly.centroid\n",
    "    reg_id = reg.NO[0]\n",
    "\n",
    "    bg_lst_found = []\n",
    "    i=0\n",
    "    for i in range(len(lst_words)):\n",
    "        word = lst_words[i]\n",
    "        try:\n",
    "            lst_res = [reg_id] + get_poi(word, srch_pt, poly)\n",
    "        except:\n",
    "            time.sleep(30)\n",
    "            lst_res = [reg_id] + get_poi(word, srch_pt, poly)\n",
    "        bg_lst_found.append(lst_res)\n",
    "    # \n",
    "    return bg_lst_found"
   ]
  },
  {
   "cell_type": "code",
   "execution_count": null,
   "metadata": {},
   "outputs": [],
   "source": []
  },
  {
   "cell_type": "code",
   "execution_count": 10,
   "metadata": {},
   "outputs": [],
   "source": [
    "lst_words = ['Торговый центр',\n",
    "                'Железнодорожная станция',\n",
    "                'Автостанция',\n",
    "                'Площадь',\n",
    "                'Больница',\n",
    "                'ВУЗ',\n",
    "                'Завод']"
   ]
  },
  {
   "cell_type": "code",
   "execution_count": 17,
   "metadata": {},
   "outputs": [],
   "source": [
    "bg_lst_pts = []\n",
    "\n",
    "i=0\n",
    "# for i in tqdm(range(2)):\n",
    "for i in tqdm(range(len(transp_reg))):\n",
    "    reg = transp_reg.iloc[[i]].reset_index(drop=True)\n",
    "    bg_lst_found = get_reg_centre(reg, lst_words)\n",
    "    bg_lst_pts = bg_lst_pts + bg_lst_found\n",
    "# "
   ]
  },
  {
   "cell_type": "code",
   "execution_count": null,
   "metadata": {},
   "outputs": [],
   "source": []
  },
  {
   "cell_type": "code",
   "execution_count": 18,
   "metadata": {},
   "outputs": [],
   "source": [
    "clmns = ['reg_id', 'grp_pt', 'name_pt', 'geometry']\n",
    "df = pd.DataFrame(bg_lst_pts, columns = clmns)\n",
    "gdf_pts = gpd.GeoDataFrame(df, geometry='geometry')\n",
    "gdf_pts.crs='epsg:4326'"
   ]
  },
  {
   "cell_type": "code",
   "execution_count": 19,
   "metadata": {},
   "outputs": [],
   "source": [
    "gdf_pts.to_file('./data/res/gdf_pts_all.json', driver='GeoJSON', encoding='utf-8')"
   ]
  },
  {
   "cell_type": "code",
   "execution_count": null,
   "metadata": {},
   "outputs": [],
   "source": []
  },
  {
   "cell_type": "code",
   "execution_count": 11,
   "metadata": {},
   "outputs": [],
   "source": [
    "# gdf_pts_select = gpd.read_file('../data/res/gdf_pts_all_select.geojson',\n",
    "#                         encoding='utf-8')"
   ]
  },
  {
   "cell_type": "code",
   "execution_count": null,
   "metadata": {},
   "outputs": [],
   "source": []
  }
 ],
 "metadata": {
  "kernelspec": {
   "display_name": "Python 3",
   "language": "python",
   "name": "python3"
  },
  "language_info": {
   "codemirror_mode": {
    "name": "ipython",
    "version": 3
   },
   "file_extension": ".py",
   "mimetype": "text/x-python",
   "name": "python",
   "nbconvert_exporter": "python",
   "pygments_lexer": "ipython3",
   "version": "3.7.6"
  }
 },
 "nbformat": 4,
 "nbformat_minor": 4
}
