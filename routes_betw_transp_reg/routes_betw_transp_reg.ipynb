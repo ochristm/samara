{
 "cells": [
  {
   "cell_type": "code",
   "execution_count": 1,
   "metadata": {},
   "outputs": [],
   "source": [
    "import numpy as np\n",
    "import pandas as pd\n",
    "import geopandas as gpd\n",
    "import shapely\n",
    "from shapely.geometry import Point, LineString, MultiLineString, Polygon, MultiPolygon\n",
    "from tqdm.notebook import tqdm\n",
    "import time\n",
    "from datetime import datetime\n",
    "\n",
    "import requests\n",
    "import re\n",
    "from bs4 import BeautifulSoup\n",
    "import json\n",
    "import urllib"
   ]
  },
  {
   "cell_type": "code",
   "execution_count": null,
   "metadata": {},
   "outputs": [],
   "source": []
  },
  {
   "cell_type": "code",
   "execution_count": 2,
   "metadata": {},
   "outputs": [],
   "source": [
    "transp_reg = gpd.read_file('./data/from/transp_reg_st.shp',\n",
    "                        encoding='utf-8')\n",
    "# transp_reg.crs = 'epsg:53004'\n",
    "transp_reg = transp_reg.to_crs('epsg:4326')"
   ]
  },
  {
   "cell_type": "code",
   "execution_count": null,
   "metadata": {},
   "outputs": [],
   "source": []
  },
  {
   "cell_type": "code",
   "execution_count": 3,
   "metadata": {},
   "outputs": [],
   "source": [
    "def find_js(lnk):\n",
    "    with requests.get(lnk, stream=True, timeout=25) as req:\n",
    "        bs = BeautifulSoup(req.text, 'html.parser')\n",
    "        all_scrpt = bs.find_all(\"script\")\n",
    "        for scr in all_scrpt:\n",
    "            if scr.get('type') == \"application/json\":\n",
    "                sc_ind = all_scrpt.index(scr)\n",
    "                break\n",
    "            else:\n",
    "                sc_ind=0\n",
    "        # \n",
    "        scrp_txt = all_scrpt[sc_ind].text\n",
    "        js = json.loads(scrp_txt)\n",
    "\n",
    "        return js"
   ]
  },
  {
   "cell_type": "code",
   "execution_count": 4,
   "metadata": {},
   "outputs": [],
   "source": [
    "def get_poi(word, srch_pt, poly):\n",
    "\n",
    "    str_qt = urllib.parse.quote(word)\n",
    "\n",
    "    coords1 = str(str(srch_pt.coords[0][0]) + \"%2C\" + str(srch_pt.coords[0][1]))\n",
    "    coords2 = coords1\n",
    "\n",
    "    url = \"https://yandex.ru/maps/51/samara/search/{str_qt}/?ll={coords1}&sll={coords2}&sspn=0.015134%2C0.006711&z=15.96\".format(str_qt=str_qt,\n",
    "                                                                                                                                       coords1=coords1,\n",
    "                                                                                                                                       coords2=coords2)\n",
    "    # \n",
    "    js = find_js(url)\n",
    "\n",
    "    fnd_items = js['searchPreloadedResults']['items']\n",
    "\n",
    "    if len(fnd_items) == 0:\n",
    "        lst_res = [word+'_not_found', None, srch_pt]\n",
    "    else:\n",
    "        i=0\n",
    "        for i in range(len(fnd_items)):\n",
    "            fnd_pt = Point(fnd_items[i]['coordinates'])\n",
    "            if poly.intersects(fnd_pt):\n",
    "                name = fnd_items[0]['title']\n",
    "                lst_res = [word, name, fnd_pt]\n",
    "                break\n",
    "            else:\n",
    "                lst_res = [word+'_not_found', None, srch_pt]\n",
    "    # \n",
    "    return lst_res"
   ]
  },
  {
   "cell_type": "code",
   "execution_count": 5,
   "metadata": {},
   "outputs": [],
   "source": [
    "def get_reg_centre(reg, lst_words):\n",
    "\n",
    "    poly = reg.geometry[0]\n",
    "    srch_pt = poly.centroid\n",
    "    reg_id = reg.NO[0]\n",
    "\n",
    "    bg_lst_found = []\n",
    "    i=0\n",
    "    for i in range(len(lst_words)):\n",
    "        word = lst_words[i]\n",
    "        try:\n",
    "            lst_res = [reg_id] + get_poi(word, srch_pt, poly)\n",
    "        except:\n",
    "            time.sleep(30)\n",
    "            lst_res = [reg_id] + get_poi(word, srch_pt, poly)\n",
    "        bg_lst_found.append(lst_res)\n",
    "    # \n",
    "    return bg_lst_found"
   ]
  },
  {
   "cell_type": "code",
   "execution_count": 6,
   "metadata": {},
   "outputs": [],
   "source": [
    "def get_dist_n_time(js, tp_ts):\n",
    "\n",
    "    if tp_ts == 'auto':\n",
    "        distnc = round(js['routerResponse']['routes'][0]['distance']['value'] / 1000, 2)\n",
    "        tm_avg = round(js['routerResponse']['routes'][0]['duration'] / 60, 1)\n",
    "        tm_trfc = round(js['routerResponse']['routes'][0]['durationInTraffic'] / 60, 1)\n",
    "    else:\n",
    "        tm_avg = round(js['routerResponse']['routes'][0]['duration'] / 60, 1)\n",
    "        distnc = None\n",
    "        tm_trfc = None\n",
    "    # \n",
    "    lst_dist_time = [distnc, tm_avg, tm_trfc]\n",
    "\n",
    "    return lst_dist_time"
   ]
  },
  {
   "cell_type": "code",
   "execution_count": 7,
   "metadata": {},
   "outputs": [],
   "source": [
    "def make_str_coords(one_reg_pt, two_reg_pt):\n",
    "    coord_str = str(str(one_reg_pt.coords[0][1]) \n",
    "                    + \"%2C\" \n",
    "                    + str(one_reg_pt.coords[0][0]) \n",
    "                    + \"~\" \n",
    "                    + str(two_reg_pt.coords[0][1]) \n",
    "                    + \"%2C\" \n",
    "                    + str(two_reg_pt.coords[0][0]))\n",
    "    # \n",
    "    return coord_str"
   ]
  },
  {
   "cell_type": "code",
   "execution_count": null,
   "metadata": {},
   "outputs": [],
   "source": []
  },
  {
   "cell_type": "code",
   "execution_count": 8,
   "metadata": {},
   "outputs": [],
   "source": [
    "lst_words = ['Торговый центр',\n",
    "                'Железнодорожная станция',\n",
    "                'Автостанция',\n",
    "                'Площадь',\n",
    "                'Больница',\n",
    "                'ВУЗ',\n",
    "                'Завод']"
   ]
  },
  {
   "cell_type": "code",
   "execution_count": 216,
   "metadata": {},
   "outputs": [
    {
     "data": {
      "application/vnd.jupyter.widget-view+json": {
       "model_id": "4463a2fa8e304ef09f92a4cbbff37264",
       "version_major": 2,
       "version_minor": 0
      },
      "text/plain": [
       "HBox(children=(FloatProgress(value=0.0, max=115.0), HTML(value='')))"
      ]
     },
     "metadata": {},
     "output_type": "display_data"
    },
    {
     "name": "stdout",
     "output_type": "stream",
     "text": [
      "\n"
     ]
    }
   ],
   "source": [
    "# bg_lst_pts = []\n",
    "\n",
    "# i=0\n",
    "# # for i in tqdm(range(2)):\n",
    "# for i in tqdm(range(len(transp_reg))):\n",
    "#     reg = transp_reg.iloc[[i]].reset_index(drop=True)\n",
    "#     bg_lst_found = get_reg_centre(reg, lst_words)\n",
    "#     bg_lst_pts = bg_lst_pts + bg_lst_found\n",
    "# # "
   ]
  },
  {
   "cell_type": "code",
   "execution_count": null,
   "metadata": {},
   "outputs": [],
   "source": []
  },
  {
   "cell_type": "code",
   "execution_count": 217,
   "metadata": {},
   "outputs": [],
   "source": [
    "# clmns = ['reg_id', 'grp_pt', 'name_pt', 'geometry']\n",
    "# df = pd.DataFrame(bg_lst_pts, columns = clmns)\n",
    "# gdf_pts = gpd.GeoDataFrame(df, geometry='geometry')\n",
    "# gdf_pts.crs='epsg:4326'"
   ]
  },
  {
   "cell_type": "code",
   "execution_count": 218,
   "metadata": {},
   "outputs": [],
   "source": [
    "# gdf_pts.to_file('./data/res/gdf_pts_all.json', driver='GeoJSON', encoding='utf-8')"
   ]
  },
  {
   "cell_type": "code",
   "execution_count": null,
   "metadata": {},
   "outputs": [],
   "source": []
  },
  {
   "cell_type": "code",
   "execution_count": 9,
   "metadata": {},
   "outputs": [],
   "source": [
    "gdf_pts_select = gpd.read_file('./data/res/gdf_pts_all_select.geojson',\n",
    "                        encoding='utf-8')"
   ]
  },
  {
   "cell_type": "code",
   "execution_count": null,
   "metadata": {},
   "outputs": [],
   "source": []
  },
  {
   "cell_type": "code",
   "execution_count": 10,
   "metadata": {},
   "outputs": [],
   "source": [
    "def get_rt_data(one_reg_pt, two_reg_pt, reg_id_from, reg_id_to):\n",
    "\n",
    "    coord_str = make_str_coords(one_reg_pt, two_reg_pt)\n",
    "    str_coord = str(one_reg_pt.coords[0][1]) + \"%2C\"  +  str(one_reg_pt.coords[0][0])\n",
    "    \n",
    "    # tp_ts_mt=\"mt\"\n",
    "    url_mt = \"https://yandex.ru/maps/51/samara/?ll={}&mode=routes&rtext={}&rtt=mt&ruri=~&z=14.41\". format(str_coord, coord_str)\n",
    "    # tp_ts_auto = \"auto\"\n",
    "    url_auto = \"https://yandex.ru/maps/51/samara/?ll={}&mode=routes&rtext={}&rtt=auto&ruri=~&z=14.41\". format(str_coord, coord_str)\n",
    "    \n",
    "    js_mt = find_js(url_mt)\n",
    "    js_auto = find_js(url_auto)\n",
    "    lst_dist_time_auto = get_dist_n_time(js_auto, 'auto')\n",
    "    try:\n",
    "        lst_dist_time_mt = get_dist_n_time(js_mt, 'mt')\n",
    "    except:\n",
    "        lst_dist_time_mt = [None, None, None]\n",
    "    x_from = one_reg_pt.x\n",
    "    y_from = one_reg_pt.y\n",
    "    x_to = two_reg_pt.x\n",
    "    y_to = two_reg_pt.y\n",
    "    \n",
    "    line_geo = LineString(js_auto['routerResponse']['routes'][0]['coordinates'])\n",
    "    \n",
    "    lst_one_data = [[reg_id_from, reg_id_to] \n",
    "                    + lst_dist_time_auto \n",
    "                    + [lst_dist_time_mt[1]] + [x_from, y_from, x_to, y_to] + [line_geo]]\n",
    "    #\n",
    "    return lst_one_data"
   ]
  },
  {
   "cell_type": "code",
   "execution_count": null,
   "metadata": {},
   "outputs": [],
   "source": []
  },
  {
   "cell_type": "code",
   "execution_count": 11,
   "metadata": {},
   "outputs": [],
   "source": [
    "lst_from = list(gdf_pts_select.reg_id.unique())\n",
    "lst_to = list(gdf_pts_select.reg_id.unique())"
   ]
  },
  {
   "cell_type": "code",
   "execution_count": 323,
   "metadata": {
    "scrolled": true
   },
   "outputs": [
    {
     "data": {
      "application/vnd.jupyter.widget-view+json": {
       "model_id": "b7db0b93946c41c98f18f121f57a3c27",
       "version_major": 2,
       "version_minor": 0
      },
      "text/plain": [
       "HBox(children=(FloatProgress(value=0.0, max=1.0), HTML(value='')))"
      ]
     },
     "metadata": {},
     "output_type": "display_data"
    },
    {
     "data": {
      "application/vnd.jupyter.widget-view+json": {
       "model_id": "2e8ddcbce36e4439896f3eb12a71713e",
       "version_major": 2,
       "version_minor": 0
      },
      "text/plain": [
       "HBox(children=(FloatProgress(value=0.0, max=349.0), HTML(value='')))"
      ]
     },
     "metadata": {},
     "output_type": "display_data"
    },
    {
     "name": "stdout",
     "output_type": "stream",
     "text": [
      "161 532\n",
      "532 162\n",
      "162 532\n",
      "532 163\n",
      "163 532\n",
      "532 164\n",
      "164 532\n",
      "532 165\n",
      "165 532\n",
      "532 166\n",
      "166 532\n",
      "532 229\n",
      "229 532\n",
      "532 278\n",
      "278 532\n",
      "532 279\n",
      "279 532\n",
      "532 299\n",
      "299 532\n",
      "532 300\n",
      "300 532\n",
      "532 301\n",
      "301 532\n",
      "532 302\n",
      "302 532\n",
      "532 303\n",
      "303 532\n",
      "532 305\n",
      "305 532\n",
      "532 308\n",
      "308 532\n",
      "532 309\n",
      "309 532\n",
      "532 310\n",
      "310 532\n",
      "532 485\n",
      "485 532\n",
      "532 509\n",
      "509 532\n",
      "532 510\n",
      "510 532\n",
      "532 511\n",
      "511 532\n",
      "532 512\n",
      "512 532\n",
      "532 513\n",
      "513 532\n",
      "532 514\n",
      "514 532\n",
      "532 515\n",
      "515 532\n",
      "532 516\n",
      "516 532\n",
      "532 517\n",
      "517 532\n",
      "532 518\n",
      "518 532\n",
      "532 519\n",
      "519 532\n",
      "532 522\n",
      "522 532\n",
      "532 523\n",
      "523 532\n",
      "532 524\n",
      "524 532\n",
      "\n",
      "\n"
     ]
    }
   ],
   "source": [
    "\n",
    "lst_total_data=[]\n",
    "lst_done=[]\n",
    "\n",
    "\n",
    "j=0\n",
    "for j in tqdm(range(len(lst_from))):\n",
    "\n",
    "    i=0\n",
    "    for i in tqdm(range(lst_to)):\n",
    "    \n",
    "        reg_id_from, reg_id_to = lst_from[i], lst_to[j]\n",
    "        \n",
    "        dnpr = str(reg_id_from) + \"_\" + str(reg_id_to)\n",
    "        if dnpr not in lst_done:\n",
    "            lst_done.append(dnpr)\n",
    "            if reg_id_from != reg_id_to:\n",
    "\n",
    "                one_reg_pt = gdf_pts_select[gdf_pts_select.reg_id \n",
    "                                            == reg_id_from].reset_index(drop=True).geometry[0]\n",
    "                two_reg_pt = gdf_pts_select[gdf_pts_select.reg_id \n",
    "                                            == reg_id_to].reset_index(drop=True).geometry[0]\n",
    "                try:\n",
    "                    lst_one_data = get_rt_data(one_reg_pt, two_reg_pt, reg_id_from, reg_id_to)\n",
    "                    lst_total_data = lst_total_data + lst_one_data\n",
    "                except:\n",
    "                    time.sleep(30)\n",
    "                    try:\n",
    "                        lst_one_data = get_rt_data(one_reg_pt, two_reg_pt, reg_id_from, reg_id_to)\n",
    "                        lst_total_data = lst_total_data + lst_one_data\n",
    "                    except:\n",
    "                        print(reg_id_from,reg_id_to)\n",
    "                        pass\n",
    "                try:\n",
    "                    lst_one_data2 = get_rt_data(two_reg_pt, one_reg_pt, reg_id_to, reg_id_from)\n",
    "                    lst_total_data = lst_total_data + lst_one_data2\n",
    "                except:\n",
    "                    time.sleep(30)\n",
    "                    try:\n",
    "                        lst_one_data2 = get_rt_data(two_reg_pt, one_reg_pt, reg_id_to, reg_id_from)\n",
    "                        lst_total_data = lst_total_data + lst_one_data2\n",
    "                    except:\n",
    "                        print(reg_id_to, reg_id_from)\n",
    "                        pass\n",
    "\n",
    "        #\n",
    "# "
   ]
  },
  {
   "cell_type": "code",
   "execution_count": null,
   "metadata": {},
   "outputs": [],
   "source": []
  },
  {
   "cell_type": "code",
   "execution_count": null,
   "metadata": {},
   "outputs": [],
   "source": []
  },
  {
   "cell_type": "code",
   "execution_count": 324,
   "metadata": {
    "scrolled": true
   },
   "outputs": [],
   "source": [
    "clmns=['id_reg_from', 'id_reg_to', 'length', 'time_auto_avg', \n",
    "       'time_auto_traff', 'time_pubtr', 'x_from', 'y_from', 'x_to', 'y_to', 'geometry']\n",
    "df_rt = pd.DataFrame(lst_total_data, columns = clmns)\n",
    "gdf_rt = gpd.GeoDataFrame(df_rt, geometry='geometry')\n",
    "\n",
    "gdf_rt = gdf_rt.reset_index(drop=True).reset_index()\n",
    "\n",
    "gdf_rt.crs='epsg:4326'\n"
   ]
  },
  {
   "cell_type": "code",
   "execution_count": 325,
   "metadata": {},
   "outputs": [],
   "source": [
    "gdf_rt.to_file('./data/res/gdf_rt_new_prt5.json', driver='GeoJSON', encoding='utf-8')"
   ]
  },
  {
   "cell_type": "code",
   "execution_count": null,
   "metadata": {},
   "outputs": [],
   "source": [
    "# откуда, куда, расстояние, авто_время среднее, авто_время в пробках, \n",
    "# общтр_время среднее, точко откуда, точка куда"
   ]
  },
  {
   "cell_type": "code",
   "execution_count": null,
   "metadata": {},
   "outputs": [],
   "source": []
  },
  {
   "cell_type": "code",
   "execution_count": 260,
   "metadata": {},
   "outputs": [],
   "source": [
    "# lst_done2 = list(gdf_rt['id_reg_from'].astype(str) + \"_\" + gdf_rt['id_reg_to'].astype(str))\n",
    "# lst_done3 = lst_done + lst_done2 "
   ]
  },
  {
   "cell_type": "code",
   "execution_count": null,
   "metadata": {},
   "outputs": [],
   "source": []
  },
  {
   "cell_type": "code",
   "execution_count": null,
   "metadata": {},
   "outputs": [],
   "source": []
  },
  {
   "cell_type": "code",
   "execution_count": 16,
   "metadata": {},
   "outputs": [],
   "source": [
    "gdf_rt_all3 = gpd.read_file('./data/res/gdf_rt_all3.json',encoding='utf-8')"
   ]
  },
  {
   "cell_type": "code",
   "execution_count": 288,
   "metadata": {
    "scrolled": true
   },
   "outputs": [],
   "source": [
    "# no_geo_gdf_rt_all = gdf_rt_all.copy()\n",
    "# del no_geo_gdf_rt_all['geometry']\n",
    "# no_geo_gdf_rt_all.to_csv('./data/res/gdf_rt_all_csv.csv', sep=';', encoding='utf-8')"
   ]
  },
  {
   "cell_type": "code",
   "execution_count": 17,
   "metadata": {},
   "outputs": [],
   "source": [
    "lst_all = list(gdf_rt_all3['id_reg_from'].astype(str) \n",
    "               + \"_\" \n",
    "               + gdf_rt_all3['id_reg_to'].astype(str))"
   ]
  },
  {
   "cell_type": "code",
   "execution_count": null,
   "metadata": {},
   "outputs": [],
   "source": []
  },
  {
   "cell_type": "code",
   "execution_count": 12,
   "metadata": {},
   "outputs": [],
   "source": [
    "lst_pts=[]\n",
    "lst_one=list(gdf_pts_select['reg_id'].astype(str))\n",
    "\n",
    "i=0\n",
    "for i in range(len(lst_one)):\n",
    "    j=0\n",
    "    for j in range(len(lst_one)):\n",
    "        one_pair = lst_one[i] + \"_\" + lst_one[j]\n",
    "        if one_pair not in lst_pts:\n",
    "            lst_pts.append(one_pair)\n",
    "# "
   ]
  },
  {
   "cell_type": "code",
   "execution_count": 14,
   "metadata": {},
   "outputs": [
    {
     "data": {
      "text/plain": [
       "13225"
      ]
     },
     "execution_count": 14,
     "metadata": {},
     "output_type": "execute_result"
    }
   ],
   "source": [
    "len(lst_pts)"
   ]
  },
  {
   "cell_type": "code",
   "execution_count": 18,
   "metadata": {},
   "outputs": [],
   "source": [
    "lst_left = []\n",
    "for k in range(len(lst_pts)):\n",
    "    one = lst_pts[k]\n",
    "    if one not in lst_all:\n",
    "        lst_left.append(one)"
   ]
  },
  {
   "cell_type": "code",
   "execution_count": 19,
   "metadata": {},
   "outputs": [
    {
     "data": {
      "text/plain": [
       "115"
      ]
     },
     "execution_count": 19,
     "metadata": {},
     "output_type": "execute_result"
    }
   ],
   "source": [
    "len(lst_left)"
   ]
  },
  {
   "cell_type": "code",
   "execution_count": null,
   "metadata": {},
   "outputs": [],
   "source": []
  },
  {
   "cell_type": "code",
   "execution_count": null,
   "metadata": {},
   "outputs": [],
   "source": []
  }
 ],
 "metadata": {
  "kernelspec": {
   "display_name": "Python 3",
   "language": "python",
   "name": "python3"
  },
  "language_info": {
   "codemirror_mode": {
    "name": "ipython",
    "version": 3
   },
   "file_extension": ".py",
   "mimetype": "text/x-python",
   "name": "python",
   "nbconvert_exporter": "python",
   "pygments_lexer": "ipython3",
   "version": "3.7.6"
  }
 },
 "nbformat": 4,
 "nbformat_minor": 4
}
