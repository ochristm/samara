{
 "cells": [
  {
   "cell_type": "code",
   "execution_count": 1,
   "metadata": {},
   "outputs": [],
   "source": [
    "import numpy as np\n",
    "import pandas as pd\n",
    "import geopandas as gpd\n",
    "import shapely\n",
    "from shapely.geometry import Point, LineString, MultiLineString, Polygon, MultiPolygon\n",
    "from tqdm.notebook import tqdm\n",
    "import time\n",
    "from datetime import datetime\n",
    "\n",
    "import requests\n",
    "import re\n",
    "from bs4 import BeautifulSoup\n",
    "import json\n",
    "import urllib"
   ]
  },
  {
   "cell_type": "code",
   "execution_count": 5,
   "metadata": {},
   "outputs": [],
   "source": []
  },
  {
   "cell_type": "code",
   "execution_count": 12,
   "metadata": {},
   "outputs": [],
   "source": [
    "transp_reg = gpd.read_file('./data/from/transp_reg_st.shp',\n",
    "                        encoding='utf-8')\n",
    "# transp_reg.crs = 'epsg:53004'\n",
    "transp_reg = transp_reg.to_crs('epsg:4326')"
   ]
  },
  {
   "cell_type": "code",
   "execution_count": null,
   "metadata": {},
   "outputs": [],
   "source": []
  },
  {
   "cell_type": "code",
   "execution_count": 25,
   "metadata": {},
   "outputs": [],
   "source": [
    "def find_js(lnk):\n",
    "    with requests.get(lnk, stream=True, timeout=25) as req:\n",
    "        bs = BeautifulSoup(req.text, 'html.parser')\n",
    "        all_scrpt = bs.find_all(\"script\")\n",
    "        for scr in all_scrpt:\n",
    "            if scr.get('type') == \"application/json\":\n",
    "                sc_ind = all_scrpt.index(scr)\n",
    "                break\n",
    "            else:\n",
    "                sc_ind=0\n",
    "        # \n",
    "        scrp_txt = all_scrpt[sc_ind].text\n",
    "        js = json.loads(scrp_txt)\n",
    "\n",
    "        return js"
   ]
  },
  {
   "cell_type": "code",
   "execution_count": null,
   "metadata": {},
   "outputs": [],
   "source": []
  },
  {
   "cell_type": "code",
   "execution_count": null,
   "metadata": {},
   "outputs": [],
   "source": [
    "def get_dist_n_time(js, tp_ts):\n",
    "\n",
    "    if tp_ts == 'auto':\n",
    "        distnc = round(js['routerResponse']['routes'][0]['distance']['value'] / 1000, 2)\n",
    "        tm_avg = round(js['routerResponse']['routes'][0]['duration'] / 60, 1)\n",
    "        tm_trfc = round(js['routerResponse']['routes'][0]['durationInTraffic'] / 60, 1)\n",
    "    else:\n",
    "        tm_avg = round(js['routerResponse']['routes'][0]['duration'] / 60, 1)\n",
    "        distnc = None\n",
    "        tm_trfc = None\n",
    "    # \n",
    "    lst_dist_time = [distnc, tm_avg, tm_trfc]\n",
    "\n",
    "    return lst_dist_time"
   ]
  },
  {
   "cell_type": "code",
   "execution_count": 66,
   "metadata": {},
   "outputs": [],
   "source": [
    "def make_str_coords(one_reg_pt, two_reg_pt):\n",
    "    coord_str = str(str(one_reg_pt.coords[0][1]) \n",
    "                    + \"%2C\" \n",
    "                    + str(one_reg_pt.coords[0][0]) \n",
    "                    + \"~\" \n",
    "                    + str(two_reg_pt.coords[0][1]) \n",
    "                    + \"%2C\" \n",
    "                    + str(two_reg_pt.coords[0][0]))\n",
    "    # \n",
    "    return coord_str"
   ]
  },
  {
   "cell_type": "code",
   "execution_count": 76,
   "metadata": {},
   "outputs": [],
   "source": [
    "# lst_coords = [coord_str2]\n",
    "lst_reg_id = [transp_reg.NO[0], transp_reg.NO[1]]\n",
    "lst_total_data=[]\n",
    "\n",
    "i=0\n",
    "# for i in range(len()):\n",
    "for i in range(1):\n",
    "    one_reg_pt = transp_reg.geometry[i].centroid\n",
    "    two_reg_pt = transp_reg.geometry[i+1].centroid\n",
    "    coord_str = make_str_coords(one_reg_pt, two_reg_pt)\n",
    "    \n",
    "    # tp_ts_mt=\"mt\"\n",
    "    url_mt = \"https://yandex.ru/maps/51/samara/?ll=50.131701%2C53.198707&mode=routes&rtext={}&rtt=mt&ruri=~&z=14.41\". format(coord_str)\n",
    "    # tp_ts_auto = \"auto\"\n",
    "    url_auto = \"https://yandex.ru/maps/51/samara/?ll=50.131701%2C53.198707&mode=routes&rtext={}&rtt=auto&ruri=~&z=14.41\". format(coord_str)\n",
    "    \n",
    "    js_mt = find_js(url_mt)\n",
    "    js_auto = find_js(url_auto)\n",
    "    lst_dist_time_auto = get_dist_n_time(js_auto, 'auto')\n",
    "    lst_dist_time_mt = get_dist_n_time(js_mt, 'mt')\n",
    "    lst_one_data = [[lst_reg_id[i], lst_reg_id[i+1]] \n",
    "                    + lst_dist_time_auto \n",
    "                    + [lst_dist_time_mt[1]] + [one_reg_pt, two_reg_pt]]\n",
    "    lst_total_data = lst_total_data + lst_one_data\n",
    "#     lst_total_data.append(lst_one_data)\n",
    "# "
   ]
  },
  {
   "cell_type": "code",
   "execution_count": 77,
   "metadata": {},
   "outputs": [
    {
     "data": {
      "text/plain": [
       "[[1,\n",
       "  2,\n",
       "  69.61,\n",
       "  70.9,\n",
       "  70.9,\n",
       "  147.1,\n",
       "  <shapely.geometry.point.Point at 0x2bba3927b08>,\n",
       "  <shapely.geometry.point.Point at 0x2bba1f85e48>]]"
      ]
     },
     "execution_count": 77,
     "metadata": {},
     "output_type": "execute_result"
    }
   ],
   "source": [
    "lst_one_data"
   ]
  },
  {
   "cell_type": "code",
   "execution_count": null,
   "metadata": {},
   "outputs": [],
   "source": [
    "# откуда, куда, расстояние, авто_время среднее, авто_время в пробках, \n",
    "# общтр_время среднее, точко откуда, точка куда"
   ]
  },
  {
   "cell_type": "code",
   "execution_count": null,
   "metadata": {},
   "outputs": [],
   "source": []
  },
  {
   "cell_type": "code",
   "execution_count": null,
   "metadata": {},
   "outputs": [],
   "source": []
  },
  {
   "cell_type": "code",
   "execution_count": null,
   "metadata": {},
   "outputs": [],
   "source": []
  }
 ],
 "metadata": {
  "kernelspec": {
   "display_name": "Python 3",
   "language": "python",
   "name": "python3"
  },
  "language_info": {
   "codemirror_mode": {
    "name": "ipython",
    "version": 3
   },
   "file_extension": ".py",
   "mimetype": "text/x-python",
   "name": "python",
   "nbconvert_exporter": "python",
   "pygments_lexer": "ipython3",
   "version": "3.7.6"
  }
 },
 "nbformat": 4,
 "nbformat_minor": 4
}
