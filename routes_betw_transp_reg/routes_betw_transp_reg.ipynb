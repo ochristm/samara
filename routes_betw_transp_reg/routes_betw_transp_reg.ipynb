{
 "cells": [
  {
   "cell_type": "code",
   "execution_count": 1,
   "metadata": {},
   "outputs": [],
   "source": [
    "import numpy as np\n",
    "import pandas as pd\n",
    "import geopandas as gpd\n",
    "import shapely\n",
    "from shapely.geometry import Point, LineString, MultiLineString, Polygon, MultiPolygon\n",
    "from tqdm.notebook import tqdm\n",
    "import time\n",
    "from datetime import datetime\n",
    "\n",
    "import requests\n",
    "import re\n",
    "from bs4 import BeautifulSoup\n",
    "import json\n",
    "import urllib\n",
    "\n",
    "\n",
    "# отключить предупреждения пандас\n",
    "pd.options.mode.chained_assignment = None"
   ]
  },
  {
   "cell_type": "code",
   "execution_count": 2,
   "metadata": {},
   "outputs": [],
   "source": [
    "# для запуска скрипта нужны файлы:\n",
    "#     1 файл с транспортными регионами\n",
    "#     2 файл с точками (центрами трнаспортных регионов)\n",
    "# необходимо проставить дату и время!\n",
    "# "
   ]
  },
  {
   "cell_type": "code",
   "execution_count": 3,
   "metadata": {},
   "outputs": [],
   "source": [
    "# это дата для сохранения файлов\n",
    "str_date = \"{:%Y%m%d_%H%M}\".format(datetime.now())"
   ]
  },
  {
   "cell_type": "code",
   "execution_count": 4,
   "metadata": {},
   "outputs": [],
   "source": [
    "# дата, за которую нужно выгрузить маршруты\n",
    "date_dep = '2020-09-25'\n",
    "time_dep = '07:30:00'"
   ]
  },
  {
   "cell_type": "code",
   "execution_count": 5,
   "metadata": {},
   "outputs": [],
   "source": [
    "transp_reg_all = gpd.read_file('./transp_reg_all.geojson',\n",
    "                        encoding='utf-8')\n",
    "# transp_reg.crs = 'epsg:53004'\n",
    "# transp_reg = transp_reg.to_crs('epsg:4326')"
   ]
  },
  {
   "cell_type": "code",
   "execution_count": 6,
   "metadata": {
    "scrolled": true
   },
   "outputs": [],
   "source": [
    "gdf_pts_select_148 = gpd.read_file('./data/res/gdf_pts_select_148.geojson',\n",
    "                        encoding='utf-8')"
   ]
  },
  {
   "cell_type": "code",
   "execution_count": 7,
   "metadata": {},
   "outputs": [],
   "source": [
    "reg_left = pd.read_csv('stz_left.csv', sep=\";\", encoding='utf-8')"
   ]
  },
  {
   "cell_type": "code",
   "execution_count": 8,
   "metadata": {},
   "outputs": [],
   "source": [
    "transp_reg = transp_reg_all[transp_reg_all.NO.isin(reg_left.NO)].reset_index(drop=True)"
   ]
  },
  {
   "cell_type": "code",
   "execution_count": 9,
   "metadata": {},
   "outputs": [],
   "source": [
    "old_big = gpd.read_file('./data/res/old/gdf_rt_time_price.json',\n",
    "                        encoding='utf-8')"
   ]
  },
  {
   "cell_type": "code",
   "execution_count": 10,
   "metadata": {},
   "outputs": [],
   "source": [
    "old_szrn = gpd.read_file('./data/res/old/gdf_rt_time_price_szrn.json',\n",
    "                        encoding='utf-8')"
   ]
  },
  {
   "cell_type": "code",
   "execution_count": 11,
   "metadata": {},
   "outputs": [],
   "source": [
    "old_all = old_big.append(old_szrn).reset_index(drop=True)"
   ]
  },
  {
   "cell_type": "code",
   "execution_count": 12,
   "metadata": {},
   "outputs": [],
   "source": [
    "lst_old_id = list(old_all.id_reg_from.unique())"
   ]
  },
  {
   "cell_type": "code",
   "execution_count": 13,
   "metadata": {},
   "outputs": [],
   "source": [
    "df_pts_old = old_all[['id_reg_from', 'x_from', 'y_from']]\n",
    "df_pts_old = df_pts_old.drop_duplicates(subset=['id_reg_from']).reset_index(drop=True)"
   ]
  },
  {
   "cell_type": "code",
   "execution_count": 14,
   "metadata": {},
   "outputs": [
    {
     "data": {
      "application/vnd.jupyter.widget-view+json": {
       "model_id": "fd46e8f02cb541d1a439b928cb70e6ca",
       "version_major": 2,
       "version_minor": 0
      },
      "text/plain": [
       "HBox(children=(FloatProgress(value=0.0, max=138.0), HTML(value='')))"
      ]
     },
     "metadata": {},
     "output_type": "display_data"
    },
    {
     "name": "stdout",
     "output_type": "stream",
     "text": [
      "\n"
     ]
    }
   ],
   "source": [
    "lst_geo=[]\n",
    "lst_lat=list(df_pts_old.y_from)\n",
    "lst_lon=list(df_pts_old.x_from)\n",
    "i=0\n",
    "for i in tqdm(range(len(df_pts_old))):\n",
    "    one_pt = Point(lst_lon[i], lst_lat[i])\n",
    "    lst_geo.append(one_pt)\n",
    "# "
   ]
  },
  {
   "cell_type": "code",
   "execution_count": 15,
   "metadata": {},
   "outputs": [
    {
     "data": {
      "text/plain": [
       "138"
      ]
     },
     "execution_count": 15,
     "metadata": {},
     "output_type": "execute_result"
    }
   ],
   "source": [
    "len(df_pts_old)"
   ]
  },
  {
   "cell_type": "code",
   "execution_count": 16,
   "metadata": {},
   "outputs": [],
   "source": [
    "gdf_pts_select = gpd.GeoDataFrame(df_pts_old['id_reg_from'], geometry=lst_geo)\n",
    "gdf_pts_select.crs='epsg:4326'\n",
    "\n",
    "gdf_pts_select['grp_pt'] = None\n",
    "gdf_pts_select['name_pt'] = None\n",
    "gdf_pts_select = gdf_pts_select.rename(columns={'id_reg_from':'reg_id'})\n",
    "gdf_pts_select = gdf_pts_select[['reg_id', 'grp_pt', 'name_pt', 'geometry']]\n",
    "\n",
    "gdf_pts_select = gdf_pts_select.append(gdf_pts_select_148)\n",
    "gdf_pts_select = gdf_pts_select.sort_values(by=['reg_id']).reset_index(drop=True)"
   ]
  },
  {
   "cell_type": "code",
   "execution_count": null,
   "metadata": {},
   "outputs": [],
   "source": []
  },
  {
   "cell_type": "code",
   "execution_count": null,
   "metadata": {},
   "outputs": [],
   "source": []
  },
  {
   "cell_type": "code",
   "execution_count": 17,
   "metadata": {},
   "outputs": [],
   "source": [
    "# списки id районов (для составления пар)\n",
    "lst_from = list(gdf_pts_select.reg_id.unique())\n",
    "# lst_to = [532] * len(lst_from)\n",
    "lst_to = list(gdf_pts_select_148.reg_id.unique())"
   ]
  },
  {
   "cell_type": "code",
   "execution_count": null,
   "metadata": {},
   "outputs": [],
   "source": []
  },
  {
   "cell_type": "code",
   "execution_count": null,
   "metadata": {},
   "outputs": [],
   "source": []
  },
  {
   "cell_type": "code",
   "execution_count": 18,
   "metadata": {},
   "outputs": [],
   "source": [
    "reg_area_old = old_all[['id_reg_from', 'mnt_to_reg']]\n",
    "reg_area_old = reg_area_old.drop_duplicates(subset=['id_reg_from']).reset_index(drop=True)\n",
    "reg_area_old = reg_area_old.rename(columns={'id_reg_from':'NO','mnt_to_reg':'mint_ped'})"
   ]
  },
  {
   "cell_type": "code",
   "execution_count": null,
   "metadata": {},
   "outputs": [],
   "source": []
  },
  {
   "cell_type": "code",
   "execution_count": 19,
   "metadata": {},
   "outputs": [
    {
     "data": {
      "application/vnd.jupyter.widget-view+json": {
       "model_id": "eff4b624856e4906876922415a0fe294",
       "version_major": 2,
       "version_minor": 0
      },
      "text/plain": [
       "HBox(children=(FloatProgress(value=0.0, max=148.0), HTML(value='')))"
      ]
     },
     "metadata": {},
     "output_type": "display_data"
    },
    {
     "name": "stdout",
     "output_type": "stream",
     "text": [
      "\n"
     ]
    }
   ],
   "source": [
    "# нахождение времен пешей доступности до/от центров районов, исходя из их площади\n",
    "reg_area = transp_reg[['NO', 'geometry']].copy()\n",
    "# reg_area = transp_reg_all[transp_reg_all.NO.isin(gdf_pts_select_148.reg_id)][['NO', 'geometry']].copy()\n",
    "reg_area = reg_area.to_crs('epsg:20007')\n",
    "\n",
    "lst_area=[]\n",
    "i=0\n",
    "for i in tqdm(range(len(reg_area))):\n",
    "    area=round(reg_area.geometry[i].area / 1000 / 1000, 0)\n",
    "    lst_area.append(area)\n",
    "# \n",
    "\n",
    "reg_area['area_km'] = lst_area\n",
    "\n",
    "reg_area = reg_area.sort_values(by=['area_km']).reset_index(drop=True)\n",
    "reg_area['mint_ped'] = None\n",
    "\n",
    "# проставление времен пешей досутпности\n",
    "reg_area.mint_ped[:31] = 10\n",
    "reg_area.mint_ped[31:62] = 15\n",
    "reg_area.mint_ped[62:93] = 20\n",
    "reg_area.mint_ped[93:124] = 25\n",
    "reg_area.mint_ped[124:] = 30\n",
    "\n",
    "reg_area = reg_area.sort_values(by=['NO']).reset_index(drop=True)\n",
    "reg_area = reg_area[['NO', 'mint_ped']]\n",
    "reg_area = reg_area.append(reg_area_old)\n",
    "# reg_area = reg_area.to_crs('epsg:4326')"
   ]
  },
  {
   "cell_type": "code",
   "execution_count": 20,
   "metadata": {},
   "outputs": [
    {
     "data": {
      "text/plain": [
       "286"
      ]
     },
     "execution_count": 20,
     "metadata": {},
     "output_type": "execute_result"
    }
   ],
   "source": [
    "len(reg_area)"
   ]
  },
  {
   "cell_type": "code",
   "execution_count": null,
   "metadata": {},
   "outputs": [],
   "source": []
  },
  {
   "cell_type": "code",
   "execution_count": null,
   "metadata": {},
   "outputs": [],
   "source": []
  },
  {
   "cell_type": "code",
   "execution_count": 21,
   "metadata": {},
   "outputs": [],
   "source": [
    "def find_js(lnk):\n",
    "    with requests.get(lnk, stream=True, timeout=25) as req:\n",
    "        bs = BeautifulSoup(req.text, 'html.parser')\n",
    "        all_scrpt = bs.find_all(\"script\")\n",
    "        for scr in all_scrpt:\n",
    "            if scr.get('type') == \"application/json\":\n",
    "                sc_ind = all_scrpt.index(scr)\n",
    "                break\n",
    "            else:\n",
    "                sc_ind=0\n",
    "        # \n",
    "        scrp_txt = all_scrpt[sc_ind].text\n",
    "        js = json.loads(scrp_txt)\n",
    "\n",
    "        return js"
   ]
  },
  {
   "cell_type": "code",
   "execution_count": 22,
   "metadata": {},
   "outputs": [],
   "source": [
    "def get_dist_n_time(js, tp_ts, ind_min):\n",
    "\n",
    "    if tp_ts == 'auto':\n",
    "        # прибавить +5 +5 к времени для каждого конца, на парковку\n",
    "        distnc = round(js['routerResponse']['routes'][ind_min]['distance']['value'] / 1000, 2)\n",
    "        tm_avg = round(js['routerResponse']['routes'][ind_min]['duration'] / 60, 1) + 10\n",
    "        tm_trfc = round(js['routerResponse']['routes'][ind_min]['durationInTraffic'] / 60, 1) + 10\n",
    "    else:\n",
    "        try:\n",
    "            tm_avg = round(js['routerResponse']['routes'][ind_min]['duration'] / 60, 1)\n",
    "        except:\n",
    "            tm_avg = round(js['routerResponse']['routes'][0]['duration'] / 60, 1)\n",
    "        distnc = None\n",
    "        tm_trfc = None\n",
    "    # \n",
    "    \n",
    "    lst_dist_time = [distnc, tm_avg, tm_trfc]\n",
    "\n",
    "    return lst_dist_time"
   ]
  },
  {
   "cell_type": "code",
   "execution_count": 23,
   "metadata": {},
   "outputs": [],
   "source": [
    "def make_str_coords(one_reg_pt, two_reg_pt):\n",
    "    coord_str = str(str(one_reg_pt.coords[0][1]) \n",
    "                    + \"%2C\" \n",
    "                    + str(one_reg_pt.coords[0][0]) \n",
    "                    + \"~\" \n",
    "                    + str(two_reg_pt.coords[0][1]) \n",
    "                    + \"%2C\" \n",
    "                    + str(two_reg_pt.coords[0][0]))\n",
    "    # \n",
    "    return coord_str"
   ]
  },
  {
   "cell_type": "code",
   "execution_count": 24,
   "metadata": {},
   "outputs": [],
   "source": [
    "def make_str_coords2(one_reg_pt, two_reg_pt):\n",
    "    middle_pt = '53.438723%2C50.109816'\n",
    "    coord_str = str(str(one_reg_pt.coords[0][1]) \n",
    "                    + \"%2C\" \n",
    "                    + str(one_reg_pt.coords[0][0]) \n",
    "                    + \"~\" \n",
    "                    + middle_pt\n",
    "                    + \"~\" \n",
    "                    + str(two_reg_pt.coords[0][1]) \n",
    "                    + \"%2C\" \n",
    "                    + str(two_reg_pt.coords[0][0]))\n",
    "    # \n",
    "    return coord_str"
   ]
  },
  {
   "cell_type": "code",
   "execution_count": 25,
   "metadata": {},
   "outputs": [],
   "source": [
    "def get_auto_data(one_reg_pt, two_reg_pt, reg_id_from, reg_id_to, date_dep, time_dep):\n",
    "\n",
    "    coord_str = make_str_coords(one_reg_pt, two_reg_pt)\n",
    "    str_coord = str(one_reg_pt.coords[0][0]) + \"%2C\"  +  str(one_reg_pt.coords[0][1])\n",
    "    \n",
    "    # tp_ts_mt=\"mt\"\n",
    "    # url_mt = \"https://yandex.ru/maps/51/samara/?ll={}&mode=routes&rtext={}&rtt=mt&ruri=~&z=14.41\". format(str_coord, coord_str)\n",
    "    # tp_ts_auto = \"auto\"\n",
    "    time_start = str('&routes%5BtimeDependent%5D%5Btime%5D={}T{}'.format(date_dep, time_dep))\n",
    "    # \n",
    "    url_auto = \"https://yandex.ru/maps/51/samara/?ll={}&mode=routes{}&rtext={}&rtt=auto&ruri=~&z=14.41\". format(str_coord, time_start, coord_str)\n",
    "\n",
    "\n",
    "    #js_mt = find_js(url_mt)\n",
    "    js_auto = find_js(url_auto)\n",
    "    \n",
    "    # select shortest path\n",
    "    rts_all = js_auto['routerResponse']['routes']\n",
    "    distnc_min = 1000000000\n",
    "    ind_min = 0\n",
    "    i=0\n",
    "    for i in range(len(rts_all)):\n",
    "        dstnc = js_auto['routerResponse']['routes'][i]['distance']['value']\n",
    "        if dstnc < distnc_min:\n",
    "            distnc_min = dstnc\n",
    "            ind_min = i\n",
    "    # \n",
    "    \n",
    "    lst_dist_time_auto = get_dist_n_time(js_auto, 'auto', ind_min)\n",
    "#     try:\n",
    "#         lst_dist_time_mt = get_dist_n_time(js_mt, 'mt')\n",
    "#     except:\n",
    "#         lst_dist_time_mt = [None, None, None]\n",
    "\n",
    "    x_from = one_reg_pt.x\n",
    "    y_from = one_reg_pt.y\n",
    "    x_to = two_reg_pt.x\n",
    "    y_to = two_reg_pt.y\n",
    "    \n",
    "    line_geo = LineString(js_auto['routerResponse']['routes'][ind_min]['coordinates'])\n",
    "    \n",
    "    lst_one_data = [[reg_id_from, reg_id_to] \n",
    "                    + lst_dist_time_auto + [x_from, y_from, x_to, y_to] + [line_geo]]\n",
    "    #\n",
    "    return lst_one_data"
   ]
  },
  {
   "cell_type": "code",
   "execution_count": 26,
   "metadata": {},
   "outputs": [],
   "source": [
    "def total_get_auto_data(one_reg_pt, two_reg_pt, reg_id_from, reg_id_to, date_dep, time_dep):\n",
    "    try:\n",
    "        lst_auto = get_auto_data(one_reg_pt, two_reg_pt, reg_id_from, reg_id_to, date_dep, time_dep)\n",
    "    except:\n",
    "        time.sleep(30)\n",
    "        try:\n",
    "            lst_auto = get_auto_data(one_reg_pt, two_reg_pt, reg_id_from, reg_id_to, date_dep, time_dep)\n",
    "        except:\n",
    "            print(reg_id_from,reg_id_to)\n",
    "            lst_auto=0\n",
    "            pass\n",
    "    try:\n",
    "        lst_auto2 = get_auto_data(two_reg_pt, one_reg_pt, reg_id_to, reg_id_from, date_dep, time_dep)\n",
    "    except:\n",
    "        time.sleep(30)\n",
    "        try:\n",
    "            lst_auto2 = get_auto_data(two_reg_pt, one_reg_pt, reg_id_to, reg_id_from, date_dep, time_dep)\n",
    "        except:\n",
    "            print(reg_id_to, reg_id_from)\n",
    "            lst_auto2=0\n",
    "            pass\n",
    "\n",
    "    #\n",
    "    return lst_auto, lst_auto2"
   ]
  },
  {
   "cell_type": "code",
   "execution_count": 27,
   "metadata": {},
   "outputs": [],
   "source": [
    "def select_ind_rt(js_mt):\n",
    "    rts = js_mt['routerResponse']['routes'][0]['paths']\n",
    "\n",
    "    ind_rt = 0\n",
    "    i=0\n",
    "    for i in range(len(rts)):\n",
    "        if len(rts[i]['segments']) > 1:\n",
    "            j=0\n",
    "            for j in range(len(rts[i]['segments'])):\n",
    "                if rts[i]['segments'][j]['type'] == 'transport':\n",
    "                    ind_rt = i\n",
    "                    break\n",
    "        if ind_rt > 0:\n",
    "            break\n",
    "    # \n",
    "    return ind_rt"
   ]
  },
  {
   "cell_type": "code",
   "execution_count": 28,
   "metadata": {},
   "outputs": [],
   "source": [
    "def get_mt_rt_seq(one_reg_pt, two_reg_pt, reg_id_from, reg_id_to, js_mt):\n",
    "    \n",
    "    ind_rt = select_ind_rt(js_mt)\n",
    "    rt_segm = js_mt['routerResponse']['routes'][0]['paths'][ind_rt]['segments']\n",
    "\n",
    "    lst_tp_seq = []\n",
    "    cnt=1\n",
    "    i=0\n",
    "    for i in (range(len(rt_segm))):\n",
    "        if rt_segm[i]['type'] == 'transport':\n",
    "            one_rt = rt_segm[i]['transports'][0]\n",
    "            line_id = one_rt['id']\n",
    "            rt_type = one_rt['type']\n",
    "            rt_name = one_rt['name']\n",
    "            distnc = round(rt_segm[i]['distance']['value'] / 1000, 2)\n",
    "            lst_tp_seq.append([reg_id_from, reg_id_to, cnt, line_id, rt_type, rt_name, distnc])\n",
    "            cnt+=1\n",
    "    #\n",
    "    return lst_tp_seq"
   ]
  },
  {
   "cell_type": "code",
   "execution_count": 29,
   "metadata": {},
   "outputs": [],
   "source": [
    "def get_mt_rt_time(one_reg_pt, two_reg_pt, reg_id_from, reg_id_to, var_foo, mnt_from, mnt_to, date_dep, time_dep):\n",
    "    \n",
    "    if var_foo == 2:\n",
    "        coord_str = make_str_coords2(one_reg_pt, two_reg_pt)\n",
    "    else:\n",
    "        coord_str = make_str_coords(one_reg_pt, two_reg_pt)\n",
    "    \n",
    "    str_coord = str(one_reg_pt.coords[0][0]) + \"%2C\" + str(one_reg_pt.coords[0][1])\n",
    "    # исключение водного и жд транспорта, почти не работает)), \n",
    "    # если нет альтернатив, Яндекс все равно строит через водный или жд\n",
    "    avoid_tp = '&routes%5BavoidTypes%5D=railway%2Cwater'\n",
    "\n",
    "    # date_dep = '2020-08-24'\n",
    "    # time_dep = '07:30:00'\n",
    "    \n",
    "    time_start = str('&routes%5BtimeDependent%5D%5Btime%5D={}T{}'.format(date_dep, time_dep) \n",
    "                     + '&routes%5BtimeDependent%5D%5Btype%5D=departure')\n",
    "    # tp_ts_mt=\"mt\"\n",
    "    url_mt = \"https://yandex.ru/maps/51/samara/?ll={}&mode=routes{}{}&rtext={}&rtt=mt&ruri=~&z=14.41\". format(str_coord, avoid_tp, time_start, coord_str)\n",
    "\n",
    "    js_mt = find_js(url_mt)\n",
    "\n",
    "    ind_rt = select_ind_rt(js_mt)\n",
    "    rt_segm = js_mt['routerResponse']['routes'][0]['paths'][ind_rt]['segments']\n",
    "    #     lst_dist_time_mt = get_dist_n_time(js_mt, 'mt', ind_rt)\n",
    "    \n",
    "    # кол-во пересадок \n",
    "    trnsfer_cnt = js_mt['routerResponse']['routes'][0]['transfersCount'] + 1\n",
    "    # плюс 1 это время для посадки на первый транспорт\n",
    "    # ожидание каждой посадки - 5 минут\n",
    "    time_wait_in_transfer = trnsfer_cnt * 5\n",
    "\n",
    "    sum_clear_time = 0\n",
    "    i=0\n",
    "    for i in range(len(rt_segm)):\n",
    "        # не прибавляем первое и последнее пешее время, \n",
    "        # так как оно усредненно посчитано для района\n",
    "        # в Яндексе время в секундах!!\n",
    "        if ((i != 0) & (i != (len(rt_segm) - 1))):\n",
    "            segm_time = rt_segm[i]['duration']['value']\n",
    "            sum_clear_time = sum_clear_time + segm_time\n",
    "    # \n",
    "    sum_clear_time_all = round(sum_clear_time / 60, 1) + (mnt_from + mnt_to + time_wait_in_transfer)\n",
    "    \n",
    "    lst_dist_time_mt = [sum_clear_time_all, mnt_from, mnt_to, trnsfer_cnt]\n",
    "    lst_tp_seq = get_mt_rt_seq(one_reg_pt, two_reg_pt, reg_id_from, reg_id_to, js_mt)\n",
    "    \n",
    "    return lst_dist_time_mt, lst_tp_seq"
   ]
  },
  {
   "cell_type": "code",
   "execution_count": 30,
   "metadata": {},
   "outputs": [],
   "source": [
    "def total_get_mt_data(one_reg_pt, two_reg_pt, reg_id_from, reg_id_to, var_foo, mnt_from, mnt_to, date_dep, time_dep):\n",
    "    try:\n",
    "        lst_dist_time_mt,lst_tp_seq = get_mt_rt_time(one_reg_pt, two_reg_pt, reg_id_from, reg_id_to, var_foo, mnt_from, mnt_to, date_dep, time_dep)\n",
    "    except:\n",
    "        time.sleep(30)\n",
    "        try:\n",
    "            lst_dist_time_mt,lst_tp_seq = get_mt_rt_time(one_reg_pt, two_reg_pt, reg_id_from, reg_id_to, var_foo, mnt_from, mnt_to, date_dep, time_dep)\n",
    "        except:\n",
    "            print(reg_id_from,reg_id_to)\n",
    "            lst_dist_time_mt=0\n",
    "            lst_tp_seq=0\n",
    "            pass\n",
    "    try:\n",
    "        lst_dist_time_mt2,lst_tp_seq2 = get_mt_rt_time(two_reg_pt, one_reg_pt, reg_id_to, reg_id_from, var_foo, mnt_to, mnt_from, date_dep, time_dep)\n",
    "    except:\n",
    "        time.sleep(30)\n",
    "        try:\n",
    "            lst_dist_time_mt2,lst_tp_seq2 = get_mt_rt_time(two_reg_pt, one_reg_pt, reg_id_to, reg_id_from, var_foo, mnt_to, mnt_from, date_dep, time_dep)\n",
    "        except:\n",
    "            print(reg_id_to, reg_id_from)\n",
    "            lst_dist_time_mt2=0\n",
    "            lst_tp_seq2=0\n",
    "            pass\n",
    "\n",
    "    #\n",
    "    return lst_dist_time_mt, lst_dist_time_mt2, lst_tp_seq, lst_tp_seq2"
   ]
  },
  {
   "cell_type": "code",
   "execution_count": null,
   "metadata": {},
   "outputs": [],
   "source": []
  },
  {
   "cell_type": "code",
   "execution_count": null,
   "metadata": {},
   "outputs": [],
   "source": []
  },
  {
   "cell_type": "code",
   "execution_count": null,
   "metadata": {},
   "outputs": [],
   "source": []
  },
  {
   "cell_type": "code",
   "execution_count": 32,
   "metadata": {
    "scrolled": true
   },
   "outputs": [
    {
     "data": {
      "application/vnd.jupyter.widget-view+json": {
       "model_id": "56e22775028d4eee8cfdb24de5306609",
       "version_major": 2,
       "version_minor": 0
      },
      "text/plain": [
       "HBox(children=(FloatProgress(value=0.0, max=286.0), HTML(value='')))"
      ]
     },
     "metadata": {},
     "output_type": "display_data"
    },
    {
     "data": {
      "application/vnd.jupyter.widget-view+json": {
       "model_id": "1203e3dda2744e90894763a13fe6f418",
       "version_major": 2,
       "version_minor": 0
      },
      "text/plain": [
       "HBox(children=(FloatProgress(value=0.0, max=148.0), HTML(value='')))"
      ]
     },
     "metadata": {},
     "output_type": "display_data"
    },
    {
     "name": "stdout",
     "output_type": "stream",
     "text": [
      "\n"
     ]
    },
    {
     "data": {
      "application/vnd.jupyter.widget-view+json": {
       "model_id": "a28740fd15034f7a93aa3c64b2b7d576",
       "version_major": 2,
       "version_minor": 0
      },
      "text/plain": [
       "HBox(children=(FloatProgress(value=0.0, max=148.0), HTML(value='')))"
      ]
     },
     "metadata": {},
     "output_type": "display_data"
    },
    {
     "name": "stdout",
     "output_type": "stream",
     "text": [
      "\n"
     ]
    },
    {
     "data": {
      "application/vnd.jupyter.widget-view+json": {
       "model_id": "b3a329b38ddc4c96a0f7bc5006f6f6c9",
       "version_major": 2,
       "version_minor": 0
      },
      "text/plain": [
       "HBox(children=(FloatProgress(value=0.0, max=148.0), HTML(value='')))"
      ]
     },
     "metadata": {},
     "output_type": "display_data"
    },
    {
     "name": "stdout",
     "output_type": "stream",
     "text": [
      "\n"
     ]
    },
    {
     "data": {
      "application/vnd.jupyter.widget-view+json": {
       "model_id": "3ef3b8a6db614c50b332425f29418993",
       "version_major": 2,
       "version_minor": 0
      },
      "text/plain": [
       "HBox(children=(FloatProgress(value=0.0, max=148.0), HTML(value='')))"
      ]
     },
     "metadata": {},
     "output_type": "display_data"
    },
    {
     "name": "stdout",
     "output_type": "stream",
     "text": [
      "\n"
     ]
    },
    {
     "data": {
      "application/vnd.jupyter.widget-view+json": {
       "model_id": "c3df29344ab14fe29d294909ad67b689",
       "version_major": 2,
       "version_minor": 0
      },
      "text/plain": [
       "HBox(children=(FloatProgress(value=0.0, max=148.0), HTML(value='')))"
      ]
     },
     "metadata": {},
     "output_type": "display_data"
    },
    {
     "name": "stdout",
     "output_type": "stream",
     "text": [
      "\n"
     ]
    },
    {
     "data": {
      "application/vnd.jupyter.widget-view+json": {
       "model_id": "476b0e65aa7d40aebc3911da0982c0b7",
       "version_major": 2,
       "version_minor": 0
      },
      "text/plain": [
       "HBox(children=(FloatProgress(value=0.0, max=148.0), HTML(value='')))"
      ]
     },
     "metadata": {},
     "output_type": "display_data"
    },
    {
     "name": "stdout",
     "output_type": "stream",
     "text": [
      "\n"
     ]
    },
    {
     "data": {
      "application/vnd.jupyter.widget-view+json": {
       "model_id": "6c416e2c908749738b8567081d72b53f",
       "version_major": 2,
       "version_minor": 0
      },
      "text/plain": [
       "HBox(children=(FloatProgress(value=0.0, max=148.0), HTML(value='')))"
      ]
     },
     "metadata": {},
     "output_type": "display_data"
    },
    {
     "name": "stdout",
     "output_type": "stream",
     "text": [
      "\n"
     ]
    },
    {
     "data": {
      "application/vnd.jupyter.widget-view+json": {
       "model_id": "8b4180d802e64590aa924e0f23df2777",
       "version_major": 2,
       "version_minor": 0
      },
      "text/plain": [
       "HBox(children=(FloatProgress(value=0.0, max=148.0), HTML(value='')))"
      ]
     },
     "metadata": {},
     "output_type": "display_data"
    },
    {
     "name": "stdout",
     "output_type": "stream",
     "text": [
      "\n"
     ]
    },
    {
     "data": {
      "application/vnd.jupyter.widget-view+json": {
       "model_id": "5e2aac4c1358487b870a36bd5ff055e6",
       "version_major": 2,
       "version_minor": 0
      },
      "text/plain": [
       "HBox(children=(FloatProgress(value=0.0, max=148.0), HTML(value='')))"
      ]
     },
     "metadata": {},
     "output_type": "display_data"
    },
    {
     "name": "stdout",
     "output_type": "stream",
     "text": [
      "\n"
     ]
    },
    {
     "data": {
      "application/vnd.jupyter.widget-view+json": {
       "model_id": "e72290925cf44b0ba691db6b86430405",
       "version_major": 2,
       "version_minor": 0
      },
      "text/plain": [
       "HBox(children=(FloatProgress(value=0.0, max=148.0), HTML(value='')))"
      ]
     },
     "metadata": {},
     "output_type": "display_data"
    },
    {
     "name": "stdout",
     "output_type": "stream",
     "text": [
      "\n"
     ]
    },
    {
     "data": {
      "application/vnd.jupyter.widget-view+json": {
       "model_id": "fba2f068e35148d8a1d0df277c96588c",
       "version_major": 2,
       "version_minor": 0
      },
      "text/plain": [
       "HBox(children=(FloatProgress(value=0.0, max=148.0), HTML(value='')))"
      ]
     },
     "metadata": {},
     "output_type": "display_data"
    },
    {
     "name": "stdout",
     "output_type": "stream",
     "text": [
      "\n"
     ]
    },
    {
     "data": {
      "application/vnd.jupyter.widget-view+json": {
       "model_id": "20bd5a23e8ec4faeb25dcfb97fe65809",
       "version_major": 2,
       "version_minor": 0
      },
      "text/plain": [
       "HBox(children=(FloatProgress(value=0.0, max=148.0), HTML(value='')))"
      ]
     },
     "metadata": {},
     "output_type": "display_data"
    },
    {
     "name": "stdout",
     "output_type": "stream",
     "text": [
      "\n"
     ]
    },
    {
     "data": {
      "application/vnd.jupyter.widget-view+json": {
       "model_id": "085391976c654df694586108ad0439b8",
       "version_major": 2,
       "version_minor": 0
      },
      "text/plain": [
       "HBox(children=(FloatProgress(value=0.0, max=148.0), HTML(value='')))"
      ]
     },
     "metadata": {},
     "output_type": "display_data"
    },
    {
     "name": "stdout",
     "output_type": "stream",
     "text": [
      "\n"
     ]
    },
    {
     "data": {
      "application/vnd.jupyter.widget-view+json": {
       "model_id": "9cfe19df9f9c4a78bd5081966633722c",
       "version_major": 2,
       "version_minor": 0
      },
      "text/plain": [
       "HBox(children=(FloatProgress(value=0.0, max=148.0), HTML(value='')))"
      ]
     },
     "metadata": {},
     "output_type": "display_data"
    },
    {
     "name": "stdout",
     "output_type": "stream",
     "text": [
      "\n"
     ]
    },
    {
     "data": {
      "application/vnd.jupyter.widget-view+json": {
       "model_id": "364be99c3ac040f18d717210793a1904",
       "version_major": 2,
       "version_minor": 0
      },
      "text/plain": [
       "HBox(children=(FloatProgress(value=0.0, max=148.0), HTML(value='')))"
      ]
     },
     "metadata": {},
     "output_type": "display_data"
    },
    {
     "name": "stdout",
     "output_type": "stream",
     "text": [
      "\n"
     ]
    },
    {
     "data": {
      "application/vnd.jupyter.widget-view+json": {
       "model_id": "ca381c400534492bb7a9c39127d59fa5",
       "version_major": 2,
       "version_minor": 0
      },
      "text/plain": [
       "HBox(children=(FloatProgress(value=0.0, max=148.0), HTML(value='')))"
      ]
     },
     "metadata": {},
     "output_type": "display_data"
    },
    {
     "name": "stdout",
     "output_type": "stream",
     "text": [
      "\n"
     ]
    },
    {
     "data": {
      "application/vnd.jupyter.widget-view+json": {
       "model_id": "a62a0d2f5c844d39ab89066c6562cf6a",
       "version_major": 2,
       "version_minor": 0
      },
      "text/plain": [
       "HBox(children=(FloatProgress(value=0.0, max=148.0), HTML(value='')))"
      ]
     },
     "metadata": {},
     "output_type": "display_data"
    },
    {
     "name": "stdout",
     "output_type": "stream",
     "text": [
      "\n"
     ]
    },
    {
     "data": {
      "application/vnd.jupyter.widget-view+json": {
       "model_id": "79cb92f97ca548bd95548288a82f0369",
       "version_major": 2,
       "version_minor": 0
      },
      "text/plain": [
       "HBox(children=(FloatProgress(value=0.0, max=148.0), HTML(value='')))"
      ]
     },
     "metadata": {},
     "output_type": "display_data"
    },
    {
     "name": "stdout",
     "output_type": "stream",
     "text": [
      "\n"
     ]
    },
    {
     "data": {
      "application/vnd.jupyter.widget-view+json": {
       "model_id": "342e276712904583ba0c1675a69d16ef",
       "version_major": 2,
       "version_minor": 0
      },
      "text/plain": [
       "HBox(children=(FloatProgress(value=0.0, max=148.0), HTML(value='')))"
      ]
     },
     "metadata": {},
     "output_type": "display_data"
    },
    {
     "name": "stdout",
     "output_type": "stream",
     "text": [
      "\n"
     ]
    },
    {
     "data": {
      "application/vnd.jupyter.widget-view+json": {
       "model_id": "ff9e4ec9d4e84beaa4ae0d03a49bb661",
       "version_major": 2,
       "version_minor": 0
      },
      "text/plain": [
       "HBox(children=(FloatProgress(value=0.0, max=148.0), HTML(value='')))"
      ]
     },
     "metadata": {},
     "output_type": "display_data"
    },
    {
     "name": "stdout",
     "output_type": "stream",
     "text": [
      "\n"
     ]
    },
    {
     "data": {
      "application/vnd.jupyter.widget-view+json": {
       "model_id": "98457392b84b4973920a15bb2da71f7d",
       "version_major": 2,
       "version_minor": 0
      },
      "text/plain": [
       "HBox(children=(FloatProgress(value=0.0, max=148.0), HTML(value='')))"
      ]
     },
     "metadata": {},
     "output_type": "display_data"
    },
    {
     "name": "stdout",
     "output_type": "stream",
     "text": [
      "\n"
     ]
    },
    {
     "data": {
      "application/vnd.jupyter.widget-view+json": {
       "model_id": "06a369b65fc145a892451d216d9ddef1",
       "version_major": 2,
       "version_minor": 0
      },
      "text/plain": [
       "HBox(children=(FloatProgress(value=0.0, max=148.0), HTML(value='')))"
      ]
     },
     "metadata": {},
     "output_type": "display_data"
    },
    {
     "name": "stdout",
     "output_type": "stream",
     "text": [
      "\n"
     ]
    },
    {
     "data": {
      "application/vnd.jupyter.widget-view+json": {
       "model_id": "e5e00cc6c5a14deb87bccfcec5af4284",
       "version_major": 2,
       "version_minor": 0
      },
      "text/plain": [
       "HBox(children=(FloatProgress(value=0.0, max=148.0), HTML(value='')))"
      ]
     },
     "metadata": {},
     "output_type": "display_data"
    },
    {
     "name": "stdout",
     "output_type": "stream",
     "text": [
      "\n"
     ]
    },
    {
     "data": {
      "application/vnd.jupyter.widget-view+json": {
       "model_id": "335212ca5ab5458a88b36e394d553de7",
       "version_major": 2,
       "version_minor": 0
      },
      "text/plain": [
       "HBox(children=(FloatProgress(value=0.0, max=148.0), HTML(value='')))"
      ]
     },
     "metadata": {},
     "output_type": "display_data"
    },
    {
     "name": "stdout",
     "output_type": "stream",
     "text": [
      "\n"
     ]
    },
    {
     "data": {
      "application/vnd.jupyter.widget-view+json": {
       "model_id": "6452c02acd354037913dfb2135e97267",
       "version_major": 2,
       "version_minor": 0
      },
      "text/plain": [
       "HBox(children=(FloatProgress(value=0.0, max=148.0), HTML(value='')))"
      ]
     },
     "metadata": {},
     "output_type": "display_data"
    },
    {
     "name": "stdout",
     "output_type": "stream",
     "text": [
      "\n"
     ]
    },
    {
     "data": {
      "application/vnd.jupyter.widget-view+json": {
       "model_id": "14f9a5721bf341e3b9eba58a6dc27975",
       "version_major": 2,
       "version_minor": 0
      },
      "text/plain": [
       "HBox(children=(FloatProgress(value=0.0, max=148.0), HTML(value='')))"
      ]
     },
     "metadata": {},
     "output_type": "display_data"
    },
    {
     "name": "stdout",
     "output_type": "stream",
     "text": [
      "\n"
     ]
    },
    {
     "data": {
      "application/vnd.jupyter.widget-view+json": {
       "model_id": "4c43bc93eb754da4b5e5feb6f157fa22",
       "version_major": 2,
       "version_minor": 0
      },
      "text/plain": [
       "HBox(children=(FloatProgress(value=0.0, max=148.0), HTML(value='')))"
      ]
     },
     "metadata": {},
     "output_type": "display_data"
    },
    {
     "name": "stdout",
     "output_type": "stream",
     "text": [
      "\n"
     ]
    },
    {
     "data": {
      "application/vnd.jupyter.widget-view+json": {
       "model_id": "da4ff2d1010845b5b8167b5180e4d6ce",
       "version_major": 2,
       "version_minor": 0
      },
      "text/plain": [
       "HBox(children=(FloatProgress(value=0.0, max=148.0), HTML(value='')))"
      ]
     },
     "metadata": {},
     "output_type": "display_data"
    },
    {
     "name": "stdout",
     "output_type": "stream",
     "text": [
      "\n"
     ]
    },
    {
     "data": {
      "application/vnd.jupyter.widget-view+json": {
       "model_id": "047538fa222e42c7a14dc1f90d269344",
       "version_major": 2,
       "version_minor": 0
      },
      "text/plain": [
       "HBox(children=(FloatProgress(value=0.0, max=148.0), HTML(value='')))"
      ]
     },
     "metadata": {},
     "output_type": "display_data"
    },
    {
     "name": "stdout",
     "output_type": "stream",
     "text": [
      "\n"
     ]
    },
    {
     "data": {
      "application/vnd.jupyter.widget-view+json": {
       "model_id": "cec4bfa7728d46429e90469fdb3d2f28",
       "version_major": 2,
       "version_minor": 0
      },
      "text/plain": [
       "HBox(children=(FloatProgress(value=0.0, max=148.0), HTML(value='')))"
      ]
     },
     "metadata": {},
     "output_type": "display_data"
    },
    {
     "name": "stdout",
     "output_type": "stream",
     "text": [
      "\n"
     ]
    },
    {
     "data": {
      "application/vnd.jupyter.widget-view+json": {
       "model_id": "97fd789eaa614a669355c5c01b09609c",
       "version_major": 2,
       "version_minor": 0
      },
      "text/plain": [
       "HBox(children=(FloatProgress(value=0.0, max=148.0), HTML(value='')))"
      ]
     },
     "metadata": {},
     "output_type": "display_data"
    },
    {
     "name": "stdout",
     "output_type": "stream",
     "text": [
      "\n"
     ]
    },
    {
     "data": {
      "application/vnd.jupyter.widget-view+json": {
       "model_id": "c14275f6867643ce963596ca3b9b7344",
       "version_major": 2,
       "version_minor": 0
      },
      "text/plain": [
       "HBox(children=(FloatProgress(value=0.0, max=148.0), HTML(value='')))"
      ]
     },
     "metadata": {},
     "output_type": "display_data"
    },
    {
     "name": "stdout",
     "output_type": "stream",
     "text": [
      "\n"
     ]
    },
    {
     "data": {
      "application/vnd.jupyter.widget-view+json": {
       "model_id": "0d38abd48ddd4bca81271f744dae4520",
       "version_major": 2,
       "version_minor": 0
      },
      "text/plain": [
       "HBox(children=(FloatProgress(value=0.0, max=148.0), HTML(value='')))"
      ]
     },
     "metadata": {},
     "output_type": "display_data"
    },
    {
     "name": "stdout",
     "output_type": "stream",
     "text": [
      "\n"
     ]
    },
    {
     "data": {
      "application/vnd.jupyter.widget-view+json": {
       "model_id": "10d841ce98264136b4b70559c51a40d2",
       "version_major": 2,
       "version_minor": 0
      },
      "text/plain": [
       "HBox(children=(FloatProgress(value=0.0, max=148.0), HTML(value='')))"
      ]
     },
     "metadata": {},
     "output_type": "display_data"
    },
    {
     "name": "stdout",
     "output_type": "stream",
     "text": [
      "\n"
     ]
    },
    {
     "data": {
      "application/vnd.jupyter.widget-view+json": {
       "model_id": "97d63c8e3ce541188db169491797308e",
       "version_major": 2,
       "version_minor": 0
      },
      "text/plain": [
       "HBox(children=(FloatProgress(value=0.0, max=148.0), HTML(value='')))"
      ]
     },
     "metadata": {},
     "output_type": "display_data"
    },
    {
     "name": "stdout",
     "output_type": "stream",
     "text": [
      "\n"
     ]
    },
    {
     "data": {
      "application/vnd.jupyter.widget-view+json": {
       "model_id": "8b29b3d9b83e4c4289dff272da19a9bc",
       "version_major": 2,
       "version_minor": 0
      },
      "text/plain": [
       "HBox(children=(FloatProgress(value=0.0, max=148.0), HTML(value='')))"
      ]
     },
     "metadata": {},
     "output_type": "display_data"
    },
    {
     "name": "stdout",
     "output_type": "stream",
     "text": [
      "\n"
     ]
    },
    {
     "data": {
      "application/vnd.jupyter.widget-view+json": {
       "model_id": "5e58acd93d2b464d9e04f556af482d02",
       "version_major": 2,
       "version_minor": 0
      },
      "text/plain": [
       "HBox(children=(FloatProgress(value=0.0, max=148.0), HTML(value='')))"
      ]
     },
     "metadata": {},
     "output_type": "display_data"
    },
    {
     "name": "stdout",
     "output_type": "stream",
     "text": [
      "\n"
     ]
    },
    {
     "data": {
      "application/vnd.jupyter.widget-view+json": {
       "model_id": "5478cfa3f67a43a7964e5de74b921323",
       "version_major": 2,
       "version_minor": 0
      },
      "text/plain": [
       "HBox(children=(FloatProgress(value=0.0, max=148.0), HTML(value='')))"
      ]
     },
     "metadata": {},
     "output_type": "display_data"
    },
    {
     "name": "stdout",
     "output_type": "stream",
     "text": [
      "\n"
     ]
    },
    {
     "data": {
      "application/vnd.jupyter.widget-view+json": {
       "model_id": "b3befd531a7044cca94cd51720551095",
       "version_major": 2,
       "version_minor": 0
      },
      "text/plain": [
       "HBox(children=(FloatProgress(value=0.0, max=148.0), HTML(value='')))"
      ]
     },
     "metadata": {},
     "output_type": "display_data"
    },
    {
     "name": "stdout",
     "output_type": "stream",
     "text": [
      "\n"
     ]
    },
    {
     "data": {
      "application/vnd.jupyter.widget-view+json": {
       "model_id": "8e077395e3b649f49cc22a4242b29727",
       "version_major": 2,
       "version_minor": 0
      },
      "text/plain": [
       "HBox(children=(FloatProgress(value=0.0, max=148.0), HTML(value='')))"
      ]
     },
     "metadata": {},
     "output_type": "display_data"
    },
    {
     "name": "stdout",
     "output_type": "stream",
     "text": [
      "\n"
     ]
    },
    {
     "data": {
      "application/vnd.jupyter.widget-view+json": {
       "model_id": "02b44fd6ec0541cd8881d54bd0e20b51",
       "version_major": 2,
       "version_minor": 0
      },
      "text/plain": [
       "HBox(children=(FloatProgress(value=0.0, max=148.0), HTML(value='')))"
      ]
     },
     "metadata": {},
     "output_type": "display_data"
    },
    {
     "name": "stdout",
     "output_type": "stream",
     "text": [
      "\n"
     ]
    },
    {
     "data": {
      "application/vnd.jupyter.widget-view+json": {
       "model_id": "c314bf448c3d4a24bfb3a502b0b617bd",
       "version_major": 2,
       "version_minor": 0
      },
      "text/plain": [
       "HBox(children=(FloatProgress(value=0.0, max=148.0), HTML(value='')))"
      ]
     },
     "metadata": {},
     "output_type": "display_data"
    },
    {
     "name": "stdout",
     "output_type": "stream",
     "text": [
      "\n"
     ]
    },
    {
     "data": {
      "application/vnd.jupyter.widget-view+json": {
       "model_id": "f79003a2a463475bb88bc6f6f212a3b6",
       "version_major": 2,
       "version_minor": 0
      },
      "text/plain": [
       "HBox(children=(FloatProgress(value=0.0, max=148.0), HTML(value='')))"
      ]
     },
     "metadata": {},
     "output_type": "display_data"
    },
    {
     "name": "stdout",
     "output_type": "stream",
     "text": [
      "\n"
     ]
    },
    {
     "data": {
      "application/vnd.jupyter.widget-view+json": {
       "model_id": "ca67bbefa656444b885bc6901a1c7844",
       "version_major": 2,
       "version_minor": 0
      },
      "text/plain": [
       "HBox(children=(FloatProgress(value=0.0, max=148.0), HTML(value='')))"
      ]
     },
     "metadata": {},
     "output_type": "display_data"
    },
    {
     "name": "stdout",
     "output_type": "stream",
     "text": [
      "\n"
     ]
    },
    {
     "data": {
      "application/vnd.jupyter.widget-view+json": {
       "model_id": "1a18d8bf3dc34b30b6913246e91e232a",
       "version_major": 2,
       "version_minor": 0
      },
      "text/plain": [
       "HBox(children=(FloatProgress(value=0.0, max=148.0), HTML(value='')))"
      ]
     },
     "metadata": {},
     "output_type": "display_data"
    },
    {
     "name": "stdout",
     "output_type": "stream",
     "text": [
      "\n"
     ]
    },
    {
     "data": {
      "application/vnd.jupyter.widget-view+json": {
       "model_id": "f41f927908e8430cbd1c34c38402fd80",
       "version_major": 2,
       "version_minor": 0
      },
      "text/plain": [
       "HBox(children=(FloatProgress(value=0.0, max=148.0), HTML(value='')))"
      ]
     },
     "metadata": {},
     "output_type": "display_data"
    },
    {
     "name": "stdout",
     "output_type": "stream",
     "text": [
      "\n"
     ]
    },
    {
     "data": {
      "application/vnd.jupyter.widget-view+json": {
       "model_id": "00c0801c0d424aefab5de9745be6c95a",
       "version_major": 2,
       "version_minor": 0
      },
      "text/plain": [
       "HBox(children=(FloatProgress(value=0.0, max=148.0), HTML(value='')))"
      ]
     },
     "metadata": {},
     "output_type": "display_data"
    },
    {
     "name": "stdout",
     "output_type": "stream",
     "text": [
      "\n"
     ]
    },
    {
     "data": {
      "application/vnd.jupyter.widget-view+json": {
       "model_id": "7f0164d721a44b40908c611dd499d71d",
       "version_major": 2,
       "version_minor": 0
      },
      "text/plain": [
       "HBox(children=(FloatProgress(value=0.0, max=148.0), HTML(value='')))"
      ]
     },
     "metadata": {},
     "output_type": "display_data"
    },
    {
     "name": "stdout",
     "output_type": "stream",
     "text": [
      "\n"
     ]
    },
    {
     "data": {
      "application/vnd.jupyter.widget-view+json": {
       "model_id": "8cf6a1d392384cb19832fe96519ab3a3",
       "version_major": 2,
       "version_minor": 0
      },
      "text/plain": [
       "HBox(children=(FloatProgress(value=0.0, max=148.0), HTML(value='')))"
      ]
     },
     "metadata": {},
     "output_type": "display_data"
    },
    {
     "name": "stdout",
     "output_type": "stream",
     "text": [
      "\n"
     ]
    },
    {
     "data": {
      "application/vnd.jupyter.widget-view+json": {
       "model_id": "15edce3f7fc2458c94997b3ee589969c",
       "version_major": 2,
       "version_minor": 0
      },
      "text/plain": [
       "HBox(children=(FloatProgress(value=0.0, max=148.0), HTML(value='')))"
      ]
     },
     "metadata": {},
     "output_type": "display_data"
    },
    {
     "name": "stdout",
     "output_type": "stream",
     "text": [
      "\n"
     ]
    },
    {
     "data": {
      "application/vnd.jupyter.widget-view+json": {
       "model_id": "97c9997f32b24a7e843910d157ad9da0",
       "version_major": 2,
       "version_minor": 0
      },
      "text/plain": [
       "HBox(children=(FloatProgress(value=0.0, max=148.0), HTML(value='')))"
      ]
     },
     "metadata": {},
     "output_type": "display_data"
    },
    {
     "name": "stdout",
     "output_type": "stream",
     "text": [
      "\n"
     ]
    },
    {
     "data": {
      "application/vnd.jupyter.widget-view+json": {
       "model_id": "a8ff907548c04d4d888b5db776c14be0",
       "version_major": 2,
       "version_minor": 0
      },
      "text/plain": [
       "HBox(children=(FloatProgress(value=0.0, max=148.0), HTML(value='')))"
      ]
     },
     "metadata": {},
     "output_type": "display_data"
    },
    {
     "name": "stdout",
     "output_type": "stream",
     "text": [
      "\n"
     ]
    },
    {
     "data": {
      "application/vnd.jupyter.widget-view+json": {
       "model_id": "7a9a908b34df424a8adc52dfb7f6f0f7",
       "version_major": 2,
       "version_minor": 0
      },
      "text/plain": [
       "HBox(children=(FloatProgress(value=0.0, max=148.0), HTML(value='')))"
      ]
     },
     "metadata": {},
     "output_type": "display_data"
    },
    {
     "name": "stdout",
     "output_type": "stream",
     "text": [
      "\n"
     ]
    },
    {
     "data": {
      "application/vnd.jupyter.widget-view+json": {
       "model_id": "bce9b8abcb65495a8cbcb6d641b4ac36",
       "version_major": 2,
       "version_minor": 0
      },
      "text/plain": [
       "HBox(children=(FloatProgress(value=0.0, max=148.0), HTML(value='')))"
      ]
     },
     "metadata": {},
     "output_type": "display_data"
    },
    {
     "name": "stdout",
     "output_type": "stream",
     "text": [
      "\n"
     ]
    },
    {
     "data": {
      "application/vnd.jupyter.widget-view+json": {
       "model_id": "cd23bdda78f94b80a6cbc2ded21f9ed6",
       "version_major": 2,
       "version_minor": 0
      },
      "text/plain": [
       "HBox(children=(FloatProgress(value=0.0, max=148.0), HTML(value='')))"
      ]
     },
     "metadata": {},
     "output_type": "display_data"
    },
    {
     "name": "stdout",
     "output_type": "stream",
     "text": [
      "\n"
     ]
    },
    {
     "data": {
      "application/vnd.jupyter.widget-view+json": {
       "model_id": "d5631d13390a491e82b3147be6677425",
       "version_major": 2,
       "version_minor": 0
      },
      "text/plain": [
       "HBox(children=(FloatProgress(value=0.0, max=148.0), HTML(value='')))"
      ]
     },
     "metadata": {},
     "output_type": "display_data"
    },
    {
     "name": "stdout",
     "output_type": "stream",
     "text": [
      "\n"
     ]
    },
    {
     "data": {
      "application/vnd.jupyter.widget-view+json": {
       "model_id": "2cab74f13c7a481792b799e5beffa982",
       "version_major": 2,
       "version_minor": 0
      },
      "text/plain": [
       "HBox(children=(FloatProgress(value=0.0, max=148.0), HTML(value='')))"
      ]
     },
     "metadata": {},
     "output_type": "display_data"
    },
    {
     "name": "stdout",
     "output_type": "stream",
     "text": [
      "\n"
     ]
    },
    {
     "data": {
      "application/vnd.jupyter.widget-view+json": {
       "model_id": "c7dbd9487b164250bab63defeba5a9ac",
       "version_major": 2,
       "version_minor": 0
      },
      "text/plain": [
       "HBox(children=(FloatProgress(value=0.0, max=148.0), HTML(value='')))"
      ]
     },
     "metadata": {},
     "output_type": "display_data"
    },
    {
     "name": "stdout",
     "output_type": "stream",
     "text": [
      "\n"
     ]
    },
    {
     "data": {
      "application/vnd.jupyter.widget-view+json": {
       "model_id": "27d4492c3ae84dceaf5a24431e6df2b0",
       "version_major": 2,
       "version_minor": 0
      },
      "text/plain": [
       "HBox(children=(FloatProgress(value=0.0, max=148.0), HTML(value='')))"
      ]
     },
     "metadata": {},
     "output_type": "display_data"
    },
    {
     "name": "stdout",
     "output_type": "stream",
     "text": [
      "\n"
     ]
    },
    {
     "data": {
      "application/vnd.jupyter.widget-view+json": {
       "model_id": "1c2b5193c6854604b061cac6be7c47ea",
       "version_major": 2,
       "version_minor": 0
      },
      "text/plain": [
       "HBox(children=(FloatProgress(value=0.0, max=148.0), HTML(value='')))"
      ]
     },
     "metadata": {},
     "output_type": "display_data"
    },
    {
     "name": "stdout",
     "output_type": "stream",
     "text": [
      "1 230\n",
      "230 1\n",
      "2 230\n",
      "230 2\n",
      "3 230\n",
      "230 3\n",
      "4 230\n",
      "230 4\n",
      "5 230\n",
      "230 5\n",
      "6 230\n",
      "230 6\n",
      "7 230\n",
      "230 7\n",
      "8 230\n",
      "230 8\n",
      "9 230\n",
      "230 9\n",
      "10 230\n",
      "230 10\n",
      "11 230\n",
      "230 11\n",
      "12 230\n",
      "230 12\n",
      "13 230\n",
      "230 13\n",
      "14 230\n",
      "230 14\n",
      "15 230\n",
      "230 15\n",
      "16 230\n",
      "230 16\n"
     ]
    },
    {
     "data": {
      "application/vnd.jupyter.widget-view+json": {
       "model_id": "e854bf1669ce41769ce73f707d1e52a4",
       "version_major": 2,
       "version_minor": 0
      },
      "text/plain": [
       "HBox(children=(FloatProgress(value=0.0, max=148.0), HTML(value='')))"
      ]
     },
     "metadata": {},
     "output_type": "display_data"
    },
    {
     "name": "stdout",
     "output_type": "stream",
     "text": [
      "\n"
     ]
    },
    {
     "data": {
      "application/vnd.jupyter.widget-view+json": {
       "model_id": "35c6300cfe604c0bab3ff11b7f90f8c0",
       "version_major": 2,
       "version_minor": 0
      },
      "text/plain": [
       "HBox(children=(FloatProgress(value=0.0, max=148.0), HTML(value='')))"
      ]
     },
     "metadata": {},
     "output_type": "display_data"
    },
    {
     "name": "stdout",
     "output_type": "stream",
     "text": [
      "\n"
     ]
    },
    {
     "data": {
      "application/vnd.jupyter.widget-view+json": {
       "model_id": "735da8c361504f999ff4be8910431c3c",
       "version_major": 2,
       "version_minor": 0
      },
      "text/plain": [
       "HBox(children=(FloatProgress(value=0.0, max=148.0), HTML(value='')))"
      ]
     },
     "metadata": {},
     "output_type": "display_data"
    },
    {
     "name": "stdout",
     "output_type": "stream",
     "text": [
      "\n"
     ]
    },
    {
     "data": {
      "application/vnd.jupyter.widget-view+json": {
       "model_id": "b14f0b4cc9ec44c197068b45ae869ef4",
       "version_major": 2,
       "version_minor": 0
      },
      "text/plain": [
       "HBox(children=(FloatProgress(value=0.0, max=148.0), HTML(value='')))"
      ]
     },
     "metadata": {},
     "output_type": "display_data"
    },
    {
     "name": "stdout",
     "output_type": "stream",
     "text": [
      "1 258\n",
      "258 1\n",
      "2 258\n",
      "258 2\n",
      "3 258\n",
      "258 3\n",
      "4 258\n",
      "258 4\n",
      "5 258\n",
      "258 5\n",
      "6 258\n",
      "258 6\n",
      "7 258\n",
      "258 7\n",
      "8 258\n",
      "258 8\n",
      "9 258\n",
      "258 9\n",
      "10 258\n",
      "258 10\n",
      "11 258\n",
      "258 11\n",
      "12 258\n",
      "258 12\n",
      "13 258\n",
      "258 13\n",
      "14 258\n",
      "258 14\n",
      "15 258\n",
      "258 15\n",
      "16 258\n",
      "258 16\n"
     ]
    },
    {
     "data": {
      "application/vnd.jupyter.widget-view+json": {
       "model_id": "b606365459ee4954b232e66667a64175",
       "version_major": 2,
       "version_minor": 0
      },
      "text/plain": [
       "HBox(children=(FloatProgress(value=0.0, max=148.0), HTML(value='')))"
      ]
     },
     "metadata": {},
     "output_type": "display_data"
    },
    {
     "name": "stdout",
     "output_type": "stream",
     "text": [
      "\n"
     ]
    },
    {
     "data": {
      "application/vnd.jupyter.widget-view+json": {
       "model_id": "5ff6bd2993af476eb62d95e44ece896c",
       "version_major": 2,
       "version_minor": 0
      },
      "text/plain": [
       "HBox(children=(FloatProgress(value=0.0, max=148.0), HTML(value='')))"
      ]
     },
     "metadata": {},
     "output_type": "display_data"
    },
    {
     "name": "stdout",
     "output_type": "stream",
     "text": [
      "\n"
     ]
    },
    {
     "data": {
      "application/vnd.jupyter.widget-view+json": {
       "model_id": "f3d127e761b945b8878e3f206fd63c53",
       "version_major": 2,
       "version_minor": 0
      },
      "text/plain": [
       "HBox(children=(FloatProgress(value=0.0, max=148.0), HTML(value='')))"
      ]
     },
     "metadata": {},
     "output_type": "display_data"
    },
    {
     "name": "stdout",
     "output_type": "stream",
     "text": [
      "\n"
     ]
    },
    {
     "data": {
      "application/vnd.jupyter.widget-view+json": {
       "model_id": "ce13df6c2d6a4a59a884b05e8abb5cd1",
       "version_major": 2,
       "version_minor": 0
      },
      "text/plain": [
       "HBox(children=(FloatProgress(value=0.0, max=148.0), HTML(value='')))"
      ]
     },
     "metadata": {},
     "output_type": "display_data"
    },
    {
     "name": "stdout",
     "output_type": "stream",
     "text": [
      "\n"
     ]
    },
    {
     "data": {
      "application/vnd.jupyter.widget-view+json": {
       "model_id": "092471aa95bd4a94b3efeeb81d7bdfac",
       "version_major": 2,
       "version_minor": 0
      },
      "text/plain": [
       "HBox(children=(FloatProgress(value=0.0, max=148.0), HTML(value='')))"
      ]
     },
     "metadata": {},
     "output_type": "display_data"
    },
    {
     "name": "stdout",
     "output_type": "stream",
     "text": [
      "\n"
     ]
    },
    {
     "data": {
      "application/vnd.jupyter.widget-view+json": {
       "model_id": "c837672ee35a42b8ab869c2b694528fd",
       "version_major": 2,
       "version_minor": 0
      },
      "text/plain": [
       "HBox(children=(FloatProgress(value=0.0, max=148.0), HTML(value='')))"
      ]
     },
     "metadata": {},
     "output_type": "display_data"
    },
    {
     "name": "stdout",
     "output_type": "stream",
     "text": [
      "1 293\n",
      "293 1\n",
      "2 293\n",
      "293 2\n",
      "3 293\n",
      "293 3\n",
      "4 293\n",
      "293 4\n",
      "5 293\n",
      "293 5\n",
      "6 293\n",
      "293 6\n",
      "7 293\n",
      "293 7\n",
      "8 293\n",
      "293 8\n",
      "9 293\n",
      "293 9\n",
      "10 293\n",
      "293 10\n",
      "11 293\n",
      "293 11\n",
      "12 293\n",
      "293 12\n",
      "13 293\n",
      "293 13\n",
      "14 293\n",
      "293 14\n",
      "15 293\n",
      "293 15\n",
      "16 293\n",
      "293 16\n"
     ]
    },
    {
     "data": {
      "application/vnd.jupyter.widget-view+json": {
       "model_id": "0d93afb294d64b439a5799f2dd393175",
       "version_major": 2,
       "version_minor": 0
      },
      "text/plain": [
       "HBox(children=(FloatProgress(value=0.0, max=148.0), HTML(value='')))"
      ]
     },
     "metadata": {},
     "output_type": "display_data"
    },
    {
     "name": "stdout",
     "output_type": "stream",
     "text": [
      "\n"
     ]
    },
    {
     "data": {
      "application/vnd.jupyter.widget-view+json": {
       "model_id": "0220f66916714565a518d2a9658decd7",
       "version_major": 2,
       "version_minor": 0
      },
      "text/plain": [
       "HBox(children=(FloatProgress(value=0.0, max=148.0), HTML(value='')))"
      ]
     },
     "metadata": {},
     "output_type": "display_data"
    },
    {
     "name": "stdout",
     "output_type": "stream",
     "text": [
      "\n"
     ]
    },
    {
     "data": {
      "application/vnd.jupyter.widget-view+json": {
       "model_id": "5a627bb550fc4f678046ac7842a157e2",
       "version_major": 2,
       "version_minor": 0
      },
      "text/plain": [
       "HBox(children=(FloatProgress(value=0.0, max=148.0), HTML(value='')))"
      ]
     },
     "metadata": {},
     "output_type": "display_data"
    },
    {
     "name": "stdout",
     "output_type": "stream",
     "text": [
      "\n"
     ]
    },
    {
     "data": {
      "application/vnd.jupyter.widget-view+json": {
       "model_id": "0c5eb8cd2df14091b81509f191cbadec",
       "version_major": 2,
       "version_minor": 0
      },
      "text/plain": [
       "HBox(children=(FloatProgress(value=0.0, max=148.0), HTML(value='')))"
      ]
     },
     "metadata": {},
     "output_type": "display_data"
    },
    {
     "name": "stdout",
     "output_type": "stream",
     "text": [
      "\n"
     ]
    },
    {
     "data": {
      "application/vnd.jupyter.widget-view+json": {
       "model_id": "e8bc6dac4f3b4f9ca1bf1ff0ce899d73",
       "version_major": 2,
       "version_minor": 0
      },
      "text/plain": [
       "HBox(children=(FloatProgress(value=0.0, max=148.0), HTML(value='')))"
      ]
     },
     "metadata": {},
     "output_type": "display_data"
    },
    {
     "name": "stdout",
     "output_type": "stream",
     "text": [
      "\n"
     ]
    },
    {
     "data": {
      "application/vnd.jupyter.widget-view+json": {
       "model_id": "4fe687bf2e6c439f8f19fc63d0e8ce08",
       "version_major": 2,
       "version_minor": 0
      },
      "text/plain": [
       "HBox(children=(FloatProgress(value=0.0, max=148.0), HTML(value='')))"
      ]
     },
     "metadata": {},
     "output_type": "display_data"
    },
    {
     "name": "stdout",
     "output_type": "stream",
     "text": [
      "\n"
     ]
    },
    {
     "data": {
      "application/vnd.jupyter.widget-view+json": {
       "model_id": "b03661de514c445f86bbd70d46fb12a5",
       "version_major": 2,
       "version_minor": 0
      },
      "text/plain": [
       "HBox(children=(FloatProgress(value=0.0, max=148.0), HTML(value='')))"
      ]
     },
     "metadata": {},
     "output_type": "display_data"
    },
    {
     "name": "stdout",
     "output_type": "stream",
     "text": [
      "\n"
     ]
    },
    {
     "data": {
      "application/vnd.jupyter.widget-view+json": {
       "model_id": "13fafb609f034416a443a1faf0c30413",
       "version_major": 2,
       "version_minor": 0
      },
      "text/plain": [
       "HBox(children=(FloatProgress(value=0.0, max=148.0), HTML(value='')))"
      ]
     },
     "metadata": {},
     "output_type": "display_data"
    },
    {
     "name": "stdout",
     "output_type": "stream",
     "text": [
      "\n"
     ]
    },
    {
     "data": {
      "application/vnd.jupyter.widget-view+json": {
       "model_id": "61240356c9fd460fa0785e57ddc2ad02",
       "version_major": 2,
       "version_minor": 0
      },
      "text/plain": [
       "HBox(children=(FloatProgress(value=0.0, max=148.0), HTML(value='')))"
      ]
     },
     "metadata": {},
     "output_type": "display_data"
    },
    {
     "name": "stdout",
     "output_type": "stream",
     "text": [
      "\n"
     ]
    },
    {
     "data": {
      "application/vnd.jupyter.widget-view+json": {
       "model_id": "d53b067543e84729bc92f92379e33655",
       "version_major": 2,
       "version_minor": 0
      },
      "text/plain": [
       "HBox(children=(FloatProgress(value=0.0, max=148.0), HTML(value='')))"
      ]
     },
     "metadata": {},
     "output_type": "display_data"
    },
    {
     "name": "stdout",
     "output_type": "stream",
     "text": [
      "\n"
     ]
    },
    {
     "data": {
      "application/vnd.jupyter.widget-view+json": {
       "model_id": "d8ccff5a06344236b776402ab79b87a7",
       "version_major": 2,
       "version_minor": 0
      },
      "text/plain": [
       "HBox(children=(FloatProgress(value=0.0, max=148.0), HTML(value='')))"
      ]
     },
     "metadata": {},
     "output_type": "display_data"
    },
    {
     "name": "stdout",
     "output_type": "stream",
     "text": [
      "\n"
     ]
    },
    {
     "data": {
      "application/vnd.jupyter.widget-view+json": {
       "model_id": "0b02ebdea9de424a98dfb240050ad3d4",
       "version_major": 2,
       "version_minor": 0
      },
      "text/plain": [
       "HBox(children=(FloatProgress(value=0.0, max=148.0), HTML(value='')))"
      ]
     },
     "metadata": {},
     "output_type": "display_data"
    },
    {
     "name": "stdout",
     "output_type": "stream",
     "text": [
      "\n"
     ]
    },
    {
     "data": {
      "application/vnd.jupyter.widget-view+json": {
       "model_id": "059dd4f2df2542f7bb4746920082a1ef",
       "version_major": 2,
       "version_minor": 0
      },
      "text/plain": [
       "HBox(children=(FloatProgress(value=0.0, max=148.0), HTML(value='')))"
      ]
     },
     "metadata": {},
     "output_type": "display_data"
    },
    {
     "name": "stdout",
     "output_type": "stream",
     "text": [
      "\n"
     ]
    },
    {
     "data": {
      "application/vnd.jupyter.widget-view+json": {
       "model_id": "a6c1843306a7479f9985a6d1e0daf981",
       "version_major": 2,
       "version_minor": 0
      },
      "text/plain": [
       "HBox(children=(FloatProgress(value=0.0, max=148.0), HTML(value='')))"
      ]
     },
     "metadata": {},
     "output_type": "display_data"
    },
    {
     "name": "stdout",
     "output_type": "stream",
     "text": [
      "\n"
     ]
    },
    {
     "data": {
      "application/vnd.jupyter.widget-view+json": {
       "model_id": "5a91863d52eb4681b52236d3baca0701",
       "version_major": 2,
       "version_minor": 0
      },
      "text/plain": [
       "HBox(children=(FloatProgress(value=0.0, max=148.0), HTML(value='')))"
      ]
     },
     "metadata": {},
     "output_type": "display_data"
    },
    {
     "name": "stdout",
     "output_type": "stream",
     "text": [
      "\n"
     ]
    },
    {
     "data": {
      "application/vnd.jupyter.widget-view+json": {
       "model_id": "9e39e5cfff5e4a0d99ea1477af274aa2",
       "version_major": 2,
       "version_minor": 0
      },
      "text/plain": [
       "HBox(children=(FloatProgress(value=0.0, max=148.0), HTML(value='')))"
      ]
     },
     "metadata": {},
     "output_type": "display_data"
    },
    {
     "name": "stdout",
     "output_type": "stream",
     "text": [
      "\n"
     ]
    },
    {
     "data": {
      "application/vnd.jupyter.widget-view+json": {
       "model_id": "28fdb96c9e9840f59ab6712009e7b849",
       "version_major": 2,
       "version_minor": 0
      },
      "text/plain": [
       "HBox(children=(FloatProgress(value=0.0, max=148.0), HTML(value='')))"
      ]
     },
     "metadata": {},
     "output_type": "display_data"
    },
    {
     "name": "stdout",
     "output_type": "stream",
     "text": [
      "\n"
     ]
    },
    {
     "data": {
      "application/vnd.jupyter.widget-view+json": {
       "model_id": "287e370b35e740c3a2786ff67990c59d",
       "version_major": 2,
       "version_minor": 0
      },
      "text/plain": [
       "HBox(children=(FloatProgress(value=0.0, max=148.0), HTML(value='')))"
      ]
     },
     "metadata": {},
     "output_type": "display_data"
    },
    {
     "name": "stdout",
     "output_type": "stream",
     "text": [
      "\n"
     ]
    },
    {
     "data": {
      "application/vnd.jupyter.widget-view+json": {
       "model_id": "f81a7a9b94dd4a45bb2cbd9767dace76",
       "version_major": 2,
       "version_minor": 0
      },
      "text/plain": [
       "HBox(children=(FloatProgress(value=0.0, max=148.0), HTML(value='')))"
      ]
     },
     "metadata": {},
     "output_type": "display_data"
    },
    {
     "name": "stdout",
     "output_type": "stream",
     "text": [
      "\n"
     ]
    },
    {
     "data": {
      "application/vnd.jupyter.widget-view+json": {
       "model_id": "35c9606a87bd493eb762743fd0c599e6",
       "version_major": 2,
       "version_minor": 0
      },
      "text/plain": [
       "HBox(children=(FloatProgress(value=0.0, max=148.0), HTML(value='')))"
      ]
     },
     "metadata": {},
     "output_type": "display_data"
    },
    {
     "name": "stdout",
     "output_type": "stream",
     "text": [
      "\n"
     ]
    },
    {
     "data": {
      "application/vnd.jupyter.widget-view+json": {
       "model_id": "4b9cb928cac54446bc33d003c7642243",
       "version_major": 2,
       "version_minor": 0
      },
      "text/plain": [
       "HBox(children=(FloatProgress(value=0.0, max=148.0), HTML(value='')))"
      ]
     },
     "metadata": {},
     "output_type": "display_data"
    },
    {
     "name": "stdout",
     "output_type": "stream",
     "text": [
      "\n"
     ]
    },
    {
     "data": {
      "application/vnd.jupyter.widget-view+json": {
       "model_id": "4b9771fcb81f43d59d483349825fb664",
       "version_major": 2,
       "version_minor": 0
      },
      "text/plain": [
       "HBox(children=(FloatProgress(value=0.0, max=148.0), HTML(value='')))"
      ]
     },
     "metadata": {},
     "output_type": "display_data"
    },
    {
     "name": "stdout",
     "output_type": "stream",
     "text": [
      "\n"
     ]
    },
    {
     "data": {
      "application/vnd.jupyter.widget-view+json": {
       "model_id": "a583231654a44d8a895108ec063c2392",
       "version_major": 2,
       "version_minor": 0
      },
      "text/plain": [
       "HBox(children=(FloatProgress(value=0.0, max=148.0), HTML(value='')))"
      ]
     },
     "metadata": {},
     "output_type": "display_data"
    },
    {
     "name": "stdout",
     "output_type": "stream",
     "text": [
      "\n"
     ]
    },
    {
     "data": {
      "application/vnd.jupyter.widget-view+json": {
       "model_id": "4b5675ba76ba4a1b9d4c68741ea6eceb",
       "version_major": 2,
       "version_minor": 0
      },
      "text/plain": [
       "HBox(children=(FloatProgress(value=0.0, max=148.0), HTML(value='')))"
      ]
     },
     "metadata": {},
     "output_type": "display_data"
    },
    {
     "name": "stdout",
     "output_type": "stream",
     "text": [
      "\n"
     ]
    },
    {
     "data": {
      "application/vnd.jupyter.widget-view+json": {
       "model_id": "45d2c8788c104b9ea1a20b4aa11ba2fb",
       "version_major": 2,
       "version_minor": 0
      },
      "text/plain": [
       "HBox(children=(FloatProgress(value=0.0, max=148.0), HTML(value='')))"
      ]
     },
     "metadata": {},
     "output_type": "display_data"
    },
    {
     "name": "stdout",
     "output_type": "stream",
     "text": [
      "\n"
     ]
    },
    {
     "data": {
      "application/vnd.jupyter.widget-view+json": {
       "model_id": "9cb849d5f54a4385bdca473fe54974ad",
       "version_major": 2,
       "version_minor": 0
      },
      "text/plain": [
       "HBox(children=(FloatProgress(value=0.0, max=148.0), HTML(value='')))"
      ]
     },
     "metadata": {},
     "output_type": "display_data"
    },
    {
     "name": "stdout",
     "output_type": "stream",
     "text": [
      "\n"
     ]
    },
    {
     "data": {
      "application/vnd.jupyter.widget-view+json": {
       "model_id": "5e49c4f99f8448f7b563ef01044088c2",
       "version_major": 2,
       "version_minor": 0
      },
      "text/plain": [
       "HBox(children=(FloatProgress(value=0.0, max=148.0), HTML(value='')))"
      ]
     },
     "metadata": {},
     "output_type": "display_data"
    },
    {
     "name": "stdout",
     "output_type": "stream",
     "text": [
      "\n"
     ]
    },
    {
     "data": {
      "application/vnd.jupyter.widget-view+json": {
       "model_id": "78ff9aeda8c74acf88d3a093ab0851c3",
       "version_major": 2,
       "version_minor": 0
      },
      "text/plain": [
       "HBox(children=(FloatProgress(value=0.0, max=148.0), HTML(value='')))"
      ]
     },
     "metadata": {},
     "output_type": "display_data"
    },
    {
     "name": "stdout",
     "output_type": "stream",
     "text": [
      "\n"
     ]
    },
    {
     "data": {
      "application/vnd.jupyter.widget-view+json": {
       "model_id": "7c2bee4d9fb24b77b1d50f63d0650e88",
       "version_major": 2,
       "version_minor": 0
      },
      "text/plain": [
       "HBox(children=(FloatProgress(value=0.0, max=148.0), HTML(value='')))"
      ]
     },
     "metadata": {},
     "output_type": "display_data"
    },
    {
     "name": "stdout",
     "output_type": "stream",
     "text": [
      "27 346\n",
      "346 27\n",
      "40 346\n",
      "68 346\n",
      "346 68\n",
      "346 126\n",
      "148 346\n",
      "346 148\n",
      "346 205\n",
      "224 346\n",
      "346 224\n",
      "225 346\n",
      "\n"
     ]
    },
    {
     "data": {
      "application/vnd.jupyter.widget-view+json": {
       "model_id": "e9440508380d4a40a7cfc72cc315b20f",
       "version_major": 2,
       "version_minor": 0
      },
      "text/plain": [
       "HBox(children=(FloatProgress(value=0.0, max=148.0), HTML(value='')))"
      ]
     },
     "metadata": {},
     "output_type": "display_data"
    },
    {
     "name": "stdout",
     "output_type": "stream",
     "text": [
      "\n"
     ]
    },
    {
     "data": {
      "application/vnd.jupyter.widget-view+json": {
       "model_id": "65e771dd75db490c8ce29b0296dc706e",
       "version_major": 2,
       "version_minor": 0
      },
      "text/plain": [
       "HBox(children=(FloatProgress(value=0.0, max=148.0), HTML(value='')))"
      ]
     },
     "metadata": {},
     "output_type": "display_data"
    },
    {
     "name": "stdout",
     "output_type": "stream",
     "text": [
      "\n"
     ]
    },
    {
     "data": {
      "application/vnd.jupyter.widget-view+json": {
       "model_id": "fe60b1925acb44d38b51c788369c73c9",
       "version_major": 2,
       "version_minor": 0
      },
      "text/plain": [
       "HBox(children=(FloatProgress(value=0.0, max=148.0), HTML(value='')))"
      ]
     },
     "metadata": {},
     "output_type": "display_data"
    },
    {
     "name": "stdout",
     "output_type": "stream",
     "text": [
      "1 349\n",
      "349 1\n",
      "2 349\n",
      "349 2\n",
      "3 349\n",
      "349 3\n",
      "4 349\n",
      "349 4\n",
      "5 349\n",
      "349 5\n",
      "6 349\n",
      "349 6\n",
      "7 349\n",
      "349 7\n",
      "8 349\n",
      "349 8\n",
      "9 349\n",
      "349 9\n",
      "10 349\n",
      "349 10\n",
      "11 349\n",
      "349 11\n",
      "12 349\n",
      "349 12\n",
      "13 349\n",
      "349 13\n",
      "14 349\n",
      "349 14\n",
      "15 349\n",
      "349 15\n",
      "16 349\n",
      "349 16\n"
     ]
    },
    {
     "data": {
      "application/vnd.jupyter.widget-view+json": {
       "model_id": "8c517c34e2484d71abdb533714bbc146",
       "version_major": 2,
       "version_minor": 0
      },
      "text/plain": [
       "HBox(children=(FloatProgress(value=0.0, max=148.0), HTML(value='')))"
      ]
     },
     "metadata": {},
     "output_type": "display_data"
    },
    {
     "name": "stdout",
     "output_type": "stream",
     "text": [
      "\n"
     ]
    },
    {
     "data": {
      "application/vnd.jupyter.widget-view+json": {
       "model_id": "0ce8107ebffe4124b9a0b4dcafec22ab",
       "version_major": 2,
       "version_minor": 0
      },
      "text/plain": [
       "HBox(children=(FloatProgress(value=0.0, max=148.0), HTML(value='')))"
      ]
     },
     "metadata": {},
     "output_type": "display_data"
    },
    {
     "name": "stdout",
     "output_type": "stream",
     "text": [
      "\n"
     ]
    },
    {
     "data": {
      "application/vnd.jupyter.widget-view+json": {
       "model_id": "deea250eac1f4251be4d81b8f7119a0f",
       "version_major": 2,
       "version_minor": 0
      },
      "text/plain": [
       "HBox(children=(FloatProgress(value=0.0, max=148.0), HTML(value='')))"
      ]
     },
     "metadata": {},
     "output_type": "display_data"
    },
    {
     "name": "stdout",
     "output_type": "stream",
     "text": [
      "\n"
     ]
    },
    {
     "data": {
      "application/vnd.jupyter.widget-view+json": {
       "model_id": "1e836193561147edb3e3487f45b9b0f8",
       "version_major": 2,
       "version_minor": 0
      },
      "text/plain": [
       "HBox(children=(FloatProgress(value=0.0, max=148.0), HTML(value='')))"
      ]
     },
     "metadata": {},
     "output_type": "display_data"
    },
    {
     "name": "stdout",
     "output_type": "stream",
     "text": [
      "27 353\n",
      "353 27\n",
      "353 35\n",
      "40 353\n",
      "353 40\n",
      "50 353\n",
      "353 55\n",
      "68 353\n",
      "353 68\n",
      "75 353\n",
      "353 75\n",
      "82 353\n",
      "126 353\n",
      "148 353\n",
      "353 148\n",
      "353 205\n",
      "224 353\n",
      "353 224\n",
      "225 353\n",
      "353 225\n",
      "\n"
     ]
    },
    {
     "data": {
      "application/vnd.jupyter.widget-view+json": {
       "model_id": "6789d559be824c72a90fd23f29429321",
       "version_major": 2,
       "version_minor": 0
      },
      "text/plain": [
       "HBox(children=(FloatProgress(value=0.0, max=148.0), HTML(value='')))"
      ]
     },
     "metadata": {},
     "output_type": "display_data"
    },
    {
     "name": "stdout",
     "output_type": "stream",
     "text": [
      "\n"
     ]
    },
    {
     "data": {
      "application/vnd.jupyter.widget-view+json": {
       "model_id": "cd1357d9d70f4b918e9e4e52a9849a5e",
       "version_major": 2,
       "version_minor": 0
      },
      "text/plain": [
       "HBox(children=(FloatProgress(value=0.0, max=148.0), HTML(value='')))"
      ]
     },
     "metadata": {},
     "output_type": "display_data"
    },
    {
     "name": "stdout",
     "output_type": "stream",
     "text": [
      "\n"
     ]
    },
    {
     "data": {
      "application/vnd.jupyter.widget-view+json": {
       "model_id": "90144b449e094617a98b0d30987ad3ce",
       "version_major": 2,
       "version_minor": 0
      },
      "text/plain": [
       "HBox(children=(FloatProgress(value=0.0, max=148.0), HTML(value='')))"
      ]
     },
     "metadata": {},
     "output_type": "display_data"
    },
    {
     "name": "stdout",
     "output_type": "stream",
     "text": [
      "\n"
     ]
    },
    {
     "data": {
      "application/vnd.jupyter.widget-view+json": {
       "model_id": "42447362cd7d48b18ccb79baadf77754",
       "version_major": 2,
       "version_minor": 0
      },
      "text/plain": [
       "HBox(children=(FloatProgress(value=0.0, max=148.0), HTML(value='')))"
      ]
     },
     "metadata": {},
     "output_type": "display_data"
    },
    {
     "name": "stdout",
     "output_type": "stream",
     "text": [
      "1 475\n",
      "475 1\n",
      "2 475\n",
      "475 2\n",
      "3 475\n",
      "475 3\n",
      "4 475\n",
      "475 4\n",
      "5 475\n",
      "475 5\n",
      "6 475\n",
      "475 6\n",
      "7 475\n",
      "475 7\n",
      "8 475\n",
      "475 8\n",
      "9 475\n",
      "475 9\n",
      "10 475\n",
      "475 10\n",
      "11 475\n",
      "475 11\n",
      "12 475\n",
      "475 12\n",
      "13 475\n",
      "475 13\n",
      "14 475\n",
      "475 14\n",
      "15 475\n",
      "475 15\n",
      "16 475\n",
      "475 16\n"
     ]
    },
    {
     "data": {
      "application/vnd.jupyter.widget-view+json": {
       "model_id": "fa69cdebc0c54076a00b3a925884ef99",
       "version_major": 2,
       "version_minor": 0
      },
      "text/plain": [
       "HBox(children=(FloatProgress(value=0.0, max=148.0), HTML(value='')))"
      ]
     },
     "metadata": {},
     "output_type": "display_data"
    },
    {
     "name": "stdout",
     "output_type": "stream",
     "text": [
      "\n"
     ]
    },
    {
     "data": {
      "application/vnd.jupyter.widget-view+json": {
       "model_id": "a36fca9967114e3abd345d5ea4dd8ce4",
       "version_major": 2,
       "version_minor": 0
      },
      "text/plain": [
       "HBox(children=(FloatProgress(value=0.0, max=148.0), HTML(value='')))"
      ]
     },
     "metadata": {},
     "output_type": "display_data"
    },
    {
     "name": "stdout",
     "output_type": "stream",
     "text": [
      "\n"
     ]
    },
    {
     "data": {
      "application/vnd.jupyter.widget-view+json": {
       "model_id": "f55f42c424ba480e90e3da84bf7c0072",
       "version_major": 2,
       "version_minor": 0
      },
      "text/plain": [
       "HBox(children=(FloatProgress(value=0.0, max=148.0), HTML(value='')))"
      ]
     },
     "metadata": {},
     "output_type": "display_data"
    },
    {
     "name": "stdout",
     "output_type": "stream",
     "text": [
      "\n"
     ]
    },
    {
     "data": {
      "application/vnd.jupyter.widget-view+json": {
       "model_id": "00da71fde5184775ae02693421256725",
       "version_major": 2,
       "version_minor": 0
      },
      "text/plain": [
       "HBox(children=(FloatProgress(value=0.0, max=148.0), HTML(value='')))"
      ]
     },
     "metadata": {},
     "output_type": "display_data"
    },
    {
     "name": "stdout",
     "output_type": "stream",
     "text": [
      "\n"
     ]
    },
    {
     "data": {
      "application/vnd.jupyter.widget-view+json": {
       "model_id": "1f6fbf53e01e41449310b8516646ddca",
       "version_major": 2,
       "version_minor": 0
      },
      "text/plain": [
       "HBox(children=(FloatProgress(value=0.0, max=148.0), HTML(value='')))"
      ]
     },
     "metadata": {},
     "output_type": "display_data"
    },
    {
     "name": "stdout",
     "output_type": "stream",
     "text": [
      "\n"
     ]
    },
    {
     "data": {
      "application/vnd.jupyter.widget-view+json": {
       "model_id": "d07fc3244fa146a691ba119a32497d75",
       "version_major": 2,
       "version_minor": 0
      },
      "text/plain": [
       "HBox(children=(FloatProgress(value=0.0, max=148.0), HTML(value='')))"
      ]
     },
     "metadata": {},
     "output_type": "display_data"
    },
    {
     "name": "stdout",
     "output_type": "stream",
     "text": [
      "\n"
     ]
    },
    {
     "data": {
      "application/vnd.jupyter.widget-view+json": {
       "model_id": "cc87ab7b8b254ba2ad9c9f3359df99ea",
       "version_major": 2,
       "version_minor": 0
      },
      "text/plain": [
       "HBox(children=(FloatProgress(value=0.0, max=148.0), HTML(value='')))"
      ]
     },
     "metadata": {},
     "output_type": "display_data"
    },
    {
     "name": "stdout",
     "output_type": "stream",
     "text": [
      "\n"
     ]
    },
    {
     "data": {
      "application/vnd.jupyter.widget-view+json": {
       "model_id": "80ddc1fdbc6647e69f168d7b4c29e153",
       "version_major": 2,
       "version_minor": 0
      },
      "text/plain": [
       "HBox(children=(FloatProgress(value=0.0, max=148.0), HTML(value='')))"
      ]
     },
     "metadata": {},
     "output_type": "display_data"
    },
    {
     "name": "stdout",
     "output_type": "stream",
     "text": [
      "\n"
     ]
    },
    {
     "data": {
      "application/vnd.jupyter.widget-view+json": {
       "model_id": "70d0b427391c43a7a7797f43d6329a10",
       "version_major": 2,
       "version_minor": 0
      },
      "text/plain": [
       "HBox(children=(FloatProgress(value=0.0, max=148.0), HTML(value='')))"
      ]
     },
     "metadata": {},
     "output_type": "display_data"
    },
    {
     "name": "stdout",
     "output_type": "stream",
     "text": [
      "\n"
     ]
    },
    {
     "data": {
      "application/vnd.jupyter.widget-view+json": {
       "model_id": "841cae96c6f44aeb8ae7d6b4248fd26f",
       "version_major": 2,
       "version_minor": 0
      },
      "text/plain": [
       "HBox(children=(FloatProgress(value=0.0, max=148.0), HTML(value='')))"
      ]
     },
     "metadata": {},
     "output_type": "display_data"
    },
    {
     "name": "stdout",
     "output_type": "stream",
     "text": [
      "\n"
     ]
    },
    {
     "data": {
      "application/vnd.jupyter.widget-view+json": {
       "model_id": "c2cbddf5bade440ca83ee942ae28c643",
       "version_major": 2,
       "version_minor": 0
      },
      "text/plain": [
       "HBox(children=(FloatProgress(value=0.0, max=148.0), HTML(value='')))"
      ]
     },
     "metadata": {},
     "output_type": "display_data"
    },
    {
     "name": "stdout",
     "output_type": "stream",
     "text": [
      "\n"
     ]
    },
    {
     "data": {
      "application/vnd.jupyter.widget-view+json": {
       "model_id": "b1cbf50bdfd94c8b85ac9e638b22698a",
       "version_major": 2,
       "version_minor": 0
      },
      "text/plain": [
       "HBox(children=(FloatProgress(value=0.0, max=148.0), HTML(value='')))"
      ]
     },
     "metadata": {},
     "output_type": "display_data"
    },
    {
     "name": "stdout",
     "output_type": "stream",
     "text": [
      "\n"
     ]
    },
    {
     "data": {
      "application/vnd.jupyter.widget-view+json": {
       "model_id": "2b6676cb4e824ce7b62d58ca9a98ec31",
       "version_major": 2,
       "version_minor": 0
      },
      "text/plain": [
       "HBox(children=(FloatProgress(value=0.0, max=148.0), HTML(value='')))"
      ]
     },
     "metadata": {},
     "output_type": "display_data"
    },
    {
     "name": "stdout",
     "output_type": "stream",
     "text": [
      "\n"
     ]
    },
    {
     "data": {
      "application/vnd.jupyter.widget-view+json": {
       "model_id": "42fdbae8205a4ba4bdb48d35bfff16c4",
       "version_major": 2,
       "version_minor": 0
      },
      "text/plain": [
       "HBox(children=(FloatProgress(value=0.0, max=148.0), HTML(value='')))"
      ]
     },
     "metadata": {},
     "output_type": "display_data"
    },
    {
     "name": "stdout",
     "output_type": "stream",
     "text": [
      "\n"
     ]
    },
    {
     "data": {
      "application/vnd.jupyter.widget-view+json": {
       "model_id": "d46761b75a324722886f1fc304a8d93e",
       "version_major": 2,
       "version_minor": 0
      },
      "text/plain": [
       "HBox(children=(FloatProgress(value=0.0, max=148.0), HTML(value='')))"
      ]
     },
     "metadata": {},
     "output_type": "display_data"
    },
    {
     "name": "stdout",
     "output_type": "stream",
     "text": [
      "\n"
     ]
    },
    {
     "data": {
      "application/vnd.jupyter.widget-view+json": {
       "model_id": "2cb06589fa414295b144c1cb3ae3f4ab",
       "version_major": 2,
       "version_minor": 0
      },
      "text/plain": [
       "HBox(children=(FloatProgress(value=0.0, max=148.0), HTML(value='')))"
      ]
     },
     "metadata": {},
     "output_type": "display_data"
    },
    {
     "name": "stdout",
     "output_type": "stream",
     "text": [
      "\n"
     ]
    },
    {
     "data": {
      "application/vnd.jupyter.widget-view+json": {
       "model_id": "59664d5a19224b87847a59a2e88b182a",
       "version_major": 2,
       "version_minor": 0
      },
      "text/plain": [
       "HBox(children=(FloatProgress(value=0.0, max=148.0), HTML(value='')))"
      ]
     },
     "metadata": {},
     "output_type": "display_data"
    },
    {
     "name": "stdout",
     "output_type": "stream",
     "text": [
      "\n"
     ]
    },
    {
     "data": {
      "application/vnd.jupyter.widget-view+json": {
       "model_id": "5d889159d38542188cef66da34c93be0",
       "version_major": 2,
       "version_minor": 0
      },
      "text/plain": [
       "HBox(children=(FloatProgress(value=0.0, max=148.0), HTML(value='')))"
      ]
     },
     "metadata": {},
     "output_type": "display_data"
    },
    {
     "name": "stdout",
     "output_type": "stream",
     "text": [
      "\n"
     ]
    },
    {
     "data": {
      "application/vnd.jupyter.widget-view+json": {
       "model_id": "f4e99cac6a354662b484a37e2e1403fe",
       "version_major": 2,
       "version_minor": 0
      },
      "text/plain": [
       "HBox(children=(FloatProgress(value=0.0, max=148.0), HTML(value='')))"
      ]
     },
     "metadata": {},
     "output_type": "display_data"
    },
    {
     "name": "stdout",
     "output_type": "stream",
     "text": [
      "\n"
     ]
    },
    {
     "data": {
      "application/vnd.jupyter.widget-view+json": {
       "model_id": "1749435ec7ce42899e7acbac4565f97c",
       "version_major": 2,
       "version_minor": 0
      },
      "text/plain": [
       "HBox(children=(FloatProgress(value=0.0, max=148.0), HTML(value='')))"
      ]
     },
     "metadata": {},
     "output_type": "display_data"
    },
    {
     "name": "stdout",
     "output_type": "stream",
     "text": [
      "\n"
     ]
    },
    {
     "data": {
      "application/vnd.jupyter.widget-view+json": {
       "model_id": "b7a0f5ad499f47af9751977b70259ec4",
       "version_major": 2,
       "version_minor": 0
      },
      "text/plain": [
       "HBox(children=(FloatProgress(value=0.0, max=148.0), HTML(value='')))"
      ]
     },
     "metadata": {},
     "output_type": "display_data"
    },
    {
     "name": "stdout",
     "output_type": "stream",
     "text": [
      "\n"
     ]
    },
    {
     "data": {
      "application/vnd.jupyter.widget-view+json": {
       "model_id": "9cce6cf39dff42c7ba0238a53ee87879",
       "version_major": 2,
       "version_minor": 0
      },
      "text/plain": [
       "HBox(children=(FloatProgress(value=0.0, max=148.0), HTML(value='')))"
      ]
     },
     "metadata": {},
     "output_type": "display_data"
    },
    {
     "name": "stdout",
     "output_type": "stream",
     "text": [
      "\n"
     ]
    },
    {
     "data": {
      "application/vnd.jupyter.widget-view+json": {
       "model_id": "e3897d79b6874af29c072d663b000023",
       "version_major": 2,
       "version_minor": 0
      },
      "text/plain": [
       "HBox(children=(FloatProgress(value=0.0, max=148.0), HTML(value='')))"
      ]
     },
     "metadata": {},
     "output_type": "display_data"
    },
    {
     "name": "stdout",
     "output_type": "stream",
     "text": [
      "\n"
     ]
    },
    {
     "data": {
      "application/vnd.jupyter.widget-view+json": {
       "model_id": "880ed178746e46b2a8e845bc242b7890",
       "version_major": 2,
       "version_minor": 0
      },
      "text/plain": [
       "HBox(children=(FloatProgress(value=0.0, max=148.0), HTML(value='')))"
      ]
     },
     "metadata": {},
     "output_type": "display_data"
    },
    {
     "name": "stdout",
     "output_type": "stream",
     "text": [
      "\n"
     ]
    },
    {
     "data": {
      "application/vnd.jupyter.widget-view+json": {
       "model_id": "9dd2e09d2f664ad1be53bfcc8225974b",
       "version_major": 2,
       "version_minor": 0
      },
      "text/plain": [
       "HBox(children=(FloatProgress(value=0.0, max=148.0), HTML(value='')))"
      ]
     },
     "metadata": {},
     "output_type": "display_data"
    },
    {
     "name": "stdout",
     "output_type": "stream",
     "text": [
      "\n"
     ]
    },
    {
     "data": {
      "application/vnd.jupyter.widget-view+json": {
       "model_id": "e4a194c2fa6243d9b6af4b90e30fd57d",
       "version_major": 2,
       "version_minor": 0
      },
      "text/plain": [
       "HBox(children=(FloatProgress(value=0.0, max=148.0), HTML(value='')))"
      ]
     },
     "metadata": {},
     "output_type": "display_data"
    },
    {
     "name": "stdout",
     "output_type": "stream",
     "text": [
      "\n"
     ]
    },
    {
     "data": {
      "application/vnd.jupyter.widget-view+json": {
       "model_id": "df55b003a20a4ef8b55176f3da3b3219",
       "version_major": 2,
       "version_minor": 0
      },
      "text/plain": [
       "HBox(children=(FloatProgress(value=0.0, max=148.0), HTML(value='')))"
      ]
     },
     "metadata": {},
     "output_type": "display_data"
    },
    {
     "name": "stdout",
     "output_type": "stream",
     "text": [
      "1 521\n",
      "521 1\n",
      "2 521\n",
      "521 2\n",
      "3 521\n",
      "521 3\n",
      "4 521\n",
      "521 4\n",
      "5 521\n",
      "521 5\n",
      "6 521\n",
      "521 6\n",
      "7 521\n",
      "521 7\n",
      "8 521\n",
      "521 8\n",
      "9 521\n",
      "521 9\n",
      "10 521\n",
      "521 10\n",
      "11 521\n",
      "521 11\n",
      "12 521\n",
      "521 12\n",
      "13 521\n",
      "521 13\n",
      "14 521\n",
      "521 14\n",
      "15 521\n",
      "521 15\n",
      "16 521\n",
      "521 16\n"
     ]
    },
    {
     "data": {
      "application/vnd.jupyter.widget-view+json": {
       "model_id": "693ed9898225421a9077f42cc62eb266",
       "version_major": 2,
       "version_minor": 0
      },
      "text/plain": [
       "HBox(children=(FloatProgress(value=0.0, max=148.0), HTML(value='')))"
      ]
     },
     "metadata": {},
     "output_type": "display_data"
    },
    {
     "name": "stdout",
     "output_type": "stream",
     "text": [
      "\n"
     ]
    },
    {
     "data": {
      "application/vnd.jupyter.widget-view+json": {
       "model_id": "c9e916a1149248d9a81e1b6c4e49d432",
       "version_major": 2,
       "version_minor": 0
      },
      "text/plain": [
       "HBox(children=(FloatProgress(value=0.0, max=148.0), HTML(value='')))"
      ]
     },
     "metadata": {},
     "output_type": "display_data"
    },
    {
     "name": "stdout",
     "output_type": "stream",
     "text": [
      "\n"
     ]
    },
    {
     "data": {
      "application/vnd.jupyter.widget-view+json": {
       "model_id": "d536395c57bd422e8058620480d55f38",
       "version_major": 2,
       "version_minor": 0
      },
      "text/plain": [
       "HBox(children=(FloatProgress(value=0.0, max=148.0), HTML(value='')))"
      ]
     },
     "metadata": {},
     "output_type": "display_data"
    },
    {
     "name": "stdout",
     "output_type": "stream",
     "text": [
      "\n"
     ]
    },
    {
     "data": {
      "application/vnd.jupyter.widget-view+json": {
       "model_id": "88ecf9dabee24bbca46e58ecd74bd1fa",
       "version_major": 2,
       "version_minor": 0
      },
      "text/plain": [
       "HBox(children=(FloatProgress(value=0.0, max=148.0), HTML(value='')))"
      ]
     },
     "metadata": {},
     "output_type": "display_data"
    },
    {
     "name": "stdout",
     "output_type": "stream",
     "text": [
      "\n"
     ]
    },
    {
     "data": {
      "application/vnd.jupyter.widget-view+json": {
       "model_id": "72874e79a8c94adab9c030e67f77b88f",
       "version_major": 2,
       "version_minor": 0
      },
      "text/plain": [
       "HBox(children=(FloatProgress(value=0.0, max=148.0), HTML(value='')))"
      ]
     },
     "metadata": {},
     "output_type": "display_data"
    },
    {
     "name": "stdout",
     "output_type": "stream",
     "text": [
      "\n"
     ]
    },
    {
     "data": {
      "application/vnd.jupyter.widget-view+json": {
       "model_id": "a338a6598ff742b2a6a9af100788cfa4",
       "version_major": 2,
       "version_minor": 0
      },
      "text/plain": [
       "HBox(children=(FloatProgress(value=0.0, max=148.0), HTML(value='')))"
      ]
     },
     "metadata": {},
     "output_type": "display_data"
    },
    {
     "name": "stdout",
     "output_type": "stream",
     "text": [
      "\n"
     ]
    },
    {
     "data": {
      "application/vnd.jupyter.widget-view+json": {
       "model_id": "cde86d7268ca40ae93510fe78571b0e6",
       "version_major": 2,
       "version_minor": 0
      },
      "text/plain": [
       "HBox(children=(FloatProgress(value=0.0, max=148.0), HTML(value='')))"
      ]
     },
     "metadata": {},
     "output_type": "display_data"
    },
    {
     "name": "stdout",
     "output_type": "stream",
     "text": [
      "\n"
     ]
    },
    {
     "data": {
      "application/vnd.jupyter.widget-view+json": {
       "model_id": "c72fc28a362245a7b5b51c111c1a4d94",
       "version_major": 2,
       "version_minor": 0
      },
      "text/plain": [
       "HBox(children=(FloatProgress(value=0.0, max=148.0), HTML(value='')))"
      ]
     },
     "metadata": {},
     "output_type": "display_data"
    },
    {
     "name": "stdout",
     "output_type": "stream",
     "text": [
      "\n"
     ]
    },
    {
     "data": {
      "application/vnd.jupyter.widget-view+json": {
       "model_id": "4a440c0afb844f4b9ae4480f1492c8f9",
       "version_major": 2,
       "version_minor": 0
      },
      "text/plain": [
       "HBox(children=(FloatProgress(value=0.0, max=148.0), HTML(value='')))"
      ]
     },
     "metadata": {},
     "output_type": "display_data"
    },
    {
     "name": "stdout",
     "output_type": "stream",
     "text": [
      "\n"
     ]
    },
    {
     "data": {
      "application/vnd.jupyter.widget-view+json": {
       "model_id": "79e57bc413b24145a924c09ccccff256",
       "version_major": 2,
       "version_minor": 0
      },
      "text/plain": [
       "HBox(children=(FloatProgress(value=0.0, max=148.0), HTML(value='')))"
      ]
     },
     "metadata": {},
     "output_type": "display_data"
    },
    {
     "name": "stdout",
     "output_type": "stream",
     "text": [
      "\n"
     ]
    },
    {
     "data": {
      "application/vnd.jupyter.widget-view+json": {
       "model_id": "7f172327533448ab98965cf2ff820cc8",
       "version_major": 2,
       "version_minor": 0
      },
      "text/plain": [
       "HBox(children=(FloatProgress(value=0.0, max=148.0), HTML(value='')))"
      ]
     },
     "metadata": {},
     "output_type": "display_data"
    },
    {
     "name": "stdout",
     "output_type": "stream",
     "text": [
      "\n"
     ]
    },
    {
     "data": {
      "application/vnd.jupyter.widget-view+json": {
       "model_id": "32dbbb4d0b4b4263b96731ddb47a50c9",
       "version_major": 2,
       "version_minor": 0
      },
      "text/plain": [
       "HBox(children=(FloatProgress(value=0.0, max=148.0), HTML(value='')))"
      ]
     },
     "metadata": {},
     "output_type": "display_data"
    },
    {
     "name": "stdout",
     "output_type": "stream",
     "text": [
      "\n"
     ]
    },
    {
     "ename": "IndexError",
     "evalue": "list index out of range",
     "output_type": "error",
     "traceback": [
      "\u001b[1;31m---------------------------------------------------------------------------\u001b[0m",
      "\u001b[1;31mIndexError\u001b[0m                                Traceback (most recent call last)",
      "\u001b[1;32m<ipython-input-32-e384efb1cc94>\u001b[0m in \u001b[0;36m<module>\u001b[1;34m\u001b[0m\n\u001b[0;32m     23\u001b[0m     \u001b[1;32mfor\u001b[0m \u001b[0mi\u001b[0m \u001b[1;32min\u001b[0m \u001b[0mtqdm\u001b[0m\u001b[1;33m(\u001b[0m\u001b[0mrange\u001b[0m\u001b[1;33m(\u001b[0m\u001b[0mlen\u001b[0m\u001b[1;33m(\u001b[0m\u001b[0mlst_to\u001b[0m\u001b[1;33m)\u001b[0m\u001b[1;33m)\u001b[0m\u001b[1;33m)\u001b[0m\u001b[1;33m:\u001b[0m\u001b[1;33m\u001b[0m\u001b[1;33m\u001b[0m\u001b[0m\n\u001b[0;32m     24\u001b[0m \u001b[1;33m\u001b[0m\u001b[0m\n\u001b[1;32m---> 25\u001b[1;33m         \u001b[0mreg_id_from\u001b[0m\u001b[1;33m,\u001b[0m \u001b[0mreg_id_to\u001b[0m \u001b[1;33m=\u001b[0m \u001b[0mlst_from\u001b[0m\u001b[1;33m[\u001b[0m\u001b[0mi\u001b[0m\u001b[1;33m]\u001b[0m\u001b[1;33m,\u001b[0m \u001b[0mlst_to\u001b[0m\u001b[1;33m[\u001b[0m\u001b[0mj\u001b[0m\u001b[1;33m]\u001b[0m\u001b[1;33m\u001b[0m\u001b[1;33m\u001b[0m\u001b[0m\n\u001b[0m\u001b[0;32m     26\u001b[0m         \u001b[1;32mif\u001b[0m \u001b[1;33m(\u001b[0m\u001b[1;33m(\u001b[0m\u001b[0mreg_id_from\u001b[0m \u001b[1;33m==\u001b[0m \u001b[1;36m532\u001b[0m\u001b[1;33m)\u001b[0m \u001b[1;33m|\u001b[0m \u001b[1;33m(\u001b[0m\u001b[0mreg_id_to\u001b[0m \u001b[1;33m==\u001b[0m \u001b[1;36m532\u001b[0m\u001b[1;33m)\u001b[0m\u001b[1;33m)\u001b[0m\u001b[1;33m:\u001b[0m\u001b[1;33m\u001b[0m\u001b[1;33m\u001b[0m\u001b[0m\n\u001b[0;32m     27\u001b[0m             \u001b[0mvar_foo\u001b[0m \u001b[1;33m=\u001b[0m \u001b[1;36m2\u001b[0m\u001b[1;33m\u001b[0m\u001b[1;33m\u001b[0m\u001b[0m\n",
      "\u001b[1;31mIndexError\u001b[0m: list index out of range"
     ]
    }
   ],
   "source": [
    "# в цикле выполняется поиск маршрутов по обеим парам (и от 1 до 2, и от 2 до 1)\n",
    "# в данном случае район 532 - особенный, для него нужна дополнительная точка, \n",
    "# иначе Яндекс не ищет маршрут на общественном транспорте оттуда/туда\n",
    "# для 115 районов - 13110 пар (без 115 пар \"сам в себя\"), \n",
    "# только общественный транспорт - 3-3.5 часа\n",
    "# общественный и авто - 8-10 часов\n",
    "\n",
    "\n",
    "lst_total_data=[]\n",
    "lst_time_data = []\n",
    "lst_seq_data = []\n",
    "lst_done=[]\n",
    "lst_auto_total = []\n",
    "\n",
    "lst_not_ok = [213,214,218]\n",
    "j=0\n",
    "# for j in tqdm(range(1)):\n",
    "for j in tqdm(range(len(lst_from))):\n",
    "    one_range = []\n",
    "\n",
    "    i=0\n",
    "#     for i in tqdm(range(2)):\n",
    "    for i in tqdm(range(len(lst_to))):\n",
    "\n",
    "        reg_id_from, reg_id_to = lst_from[j], lst_to[i]\n",
    "        if ((reg_id_from == 532) | (reg_id_to == 532)):\n",
    "            var_foo = 2\n",
    "        else:\n",
    "            var_foo = 1\n",
    "        #\n",
    "        dnpr = str(reg_id_from) + \"_\" + str(reg_id_to)\n",
    "        if dnpr not in lst_done:\n",
    "            lst_done.append(dnpr)\n",
    "            if ((reg_id_from != reg_id_to) \n",
    "                & (reg_id_from not in lst_not_ok) \n",
    "                & (reg_id_to not in lst_not_ok)):\n",
    "                \n",
    "                if len(one_range) > 15:\n",
    "                    break\n",
    "                \n",
    "                one_reg_pt = gdf_pts_select[gdf_pts_select.reg_id \n",
    "                                            == reg_id_from].reset_index(drop=True).geometry[0]\n",
    "                two_reg_pt = gdf_pts_select[gdf_pts_select.reg_id \n",
    "                                            == reg_id_to].reset_index(drop=True).geometry[0]\n",
    "                mnt_from = list(reg_area[reg_area.NO == reg_id_from]['mint_ped'])[0]\n",
    "                mnt_to = list(reg_area[reg_area.NO == reg_id_to]['mint_ped'])[0]\n",
    "                \n",
    "                lst_dist_time_mt, lst_dist_time_mt2, lst_tp_seq, lst_tp_seq2 = total_get_mt_data(one_reg_pt, two_reg_pt, \n",
    "                                                                                                 reg_id_from, reg_id_to, \n",
    "                                                                                                 var_foo, \n",
    "                                                                                                 mnt_from, mnt_to, \n",
    "                                                                                                 date_dep, time_dep)\n",
    "                #\n",
    "                if lst_dist_time_mt != 0:\n",
    "                    lst_time_data.append([reg_id_from, reg_id_to] + lst_dist_time_mt)\n",
    "                #\n",
    "                else:\n",
    "                    one_range.append(0)\n",
    "                if lst_dist_time_mt2 != 0:\n",
    "                    lst_time_data.append([reg_id_to, reg_id_from] + lst_dist_time_mt2)\n",
    "                # \n",
    "                if lst_tp_seq != 0:\n",
    "                    lst_seq_data = lst_seq_data + lst_tp_seq\n",
    "                # \n",
    "                if lst_tp_seq2 != 0:\n",
    "                    lst_seq_data = lst_seq_data + lst_tp_seq2\n",
    "                \n",
    "                \n",
    "                ###########\n",
    "                ## auto - carefull\n",
    "                lst_auto, lst_auto2 = total_get_auto_data(one_reg_pt, two_reg_pt, reg_id_from, \n",
    "                                          reg_id_to, date_dep, time_dep)\n",
    "                #\n",
    "                \n",
    "                if lst_auto !=0:\n",
    "                    lst_auto_total = lst_auto_total + lst_auto\n",
    "                # \n",
    "                else:\n",
    "                    print(dnpr)\n",
    "                if lst_auto2 !=0:\n",
    "                    lst_auto_total = lst_auto_total + lst_auto2\n",
    "                else:\n",
    "                    print(dnpr)\n",
    "                # \n",
    "# "
   ]
  },
  {
   "cell_type": "code",
   "execution_count": null,
   "metadata": {},
   "outputs": [],
   "source": []
  },
  {
   "cell_type": "code",
   "execution_count": null,
   "metadata": {},
   "outputs": [],
   "source": []
  },
  {
   "cell_type": "code",
   "execution_count": 44,
   "metadata": {
    "scrolled": true
   },
   "outputs": [],
   "source": [
    "clmns=['id_reg_from', 'id_reg_to', 'seq_in_rt', 'line_id', \n",
    "       'tp_ts', 'name', 'distance']\n",
    "df_rt_seq = pd.DataFrame(lst_seq_data, columns = clmns)"
   ]
  },
  {
   "cell_type": "code",
   "execution_count": 45,
   "metadata": {},
   "outputs": [],
   "source": [
    "df_rt_seq.to_csv('./res/df_rt_seq_{}_139.csv'.format(str_date), sep=';', \n",
    "                 encoding='utf-8-sig', index=False)"
   ]
  },
  {
   "cell_type": "code",
   "execution_count": null,
   "metadata": {},
   "outputs": [],
   "source": []
  },
  {
   "cell_type": "code",
   "execution_count": 46,
   "metadata": {},
   "outputs": [],
   "source": [
    "clmns2 = ['id_reg_from', 'id_reg_to','time_pubtr2', 'mnt_from_reg', 'mnt_to_reg', 'cnt_transprt']\n",
    "df_time = pd.DataFrame(lst_time_data, columns=clmns2)\n",
    "df_time = df_time.drop_duplicates(subset=['id_reg_from', 'id_reg_to']).reset_index(drop=True)"
   ]
  },
  {
   "cell_type": "code",
   "execution_count": 47,
   "metadata": {},
   "outputs": [],
   "source": [
    "df_time.to_csv('./res/df_rt_time_clear_{}_139.csv'.format(str_date), sep=';', \n",
    "               encoding='utf-8-sig', index=False)"
   ]
  },
  {
   "cell_type": "code",
   "execution_count": null,
   "metadata": {},
   "outputs": [],
   "source": []
  },
  {
   "cell_type": "code",
   "execution_count": 48,
   "metadata": {},
   "outputs": [],
   "source": [
    "clmns_auto = ['id_reg_from', 'id_reg_to','length', \n",
    "              'time_auto_avg', 'time_auto_traff', \n",
    "              'x_from', 'y_from', 'x_to', 'y_to', 'geometry']\n",
    "matrice_len_time = gpd.GeoDataFrame(data = lst_auto_total, columns = clmns_auto)\n",
    "matrice_len_time.crs='epsg:4326'"
   ]
  },
  {
   "cell_type": "code",
   "execution_count": 49,
   "metadata": {},
   "outputs": [],
   "source": [
    "matrice_len_time.to_file('./res/matrice_len_time_{}_139.json'.format(str_date), \n",
    "                         driver='GeoJSON', \n",
    "                            encoding='utf-8')"
   ]
  },
  {
   "cell_type": "code",
   "execution_count": null,
   "metadata": {},
   "outputs": [],
   "source": []
  },
  {
   "cell_type": "code",
   "execution_count": null,
   "metadata": {},
   "outputs": [],
   "source": []
  },
  {
   "cell_type": "code",
   "execution_count": null,
   "metadata": {},
   "outputs": [],
   "source": []
  },
  {
   "cell_type": "code",
   "execution_count": 41,
   "metadata": {},
   "outputs": [],
   "source": [
    "## это если нужно общественный отдельно прогнать в разные часы, \n",
    "## чтобы авто не прогонять, взять старую версию\n",
    "\n",
    "# gdf_rt_shorter_all = gpd.read_file('../data/res/big_ok/gdf_rt_shorter_all.json',\n",
    "#                         encoding='utf-8')"
   ]
  },
  {
   "cell_type": "code",
   "execution_count": 42,
   "metadata": {},
   "outputs": [],
   "source": [
    "# #  временное прибавление по 5 минут на каждом конце\n",
    "# gdf_rt_shorter_all['time_auto_avg'] = gdf_rt_shorter_all['time_auto_avg'] + 10\n",
    "# gdf_rt_shorter_all['time_auto_traff'] = gdf_rt_shorter_all['time_auto_traff'] + 10"
   ]
  },
  {
   "cell_type": "code",
   "execution_count": null,
   "metadata": {},
   "outputs": [],
   "source": []
  },
  {
   "cell_type": "code",
   "execution_count": 51,
   "metadata": {
    "scrolled": true
   },
   "outputs": [],
   "source": [
    "# gdf_rt_shorter_all4 = gdf_rt_shorter_all.merge(df_time, how='left', \n",
    "#                                 on = ['id_reg_from', 'id_reg_to'])"
   ]
  },
  {
   "cell_type": "code",
   "execution_count": 52,
   "metadata": {},
   "outputs": [],
   "source": [
    "# gdf_rt_shorter_all4.time_pubtr = gdf_rt_shorter_all4.time_pubtr2"
   ]
  },
  {
   "cell_type": "code",
   "execution_count": 53,
   "metadata": {},
   "outputs": [],
   "source": [
    "# del gdf_rt_shorter_all4['time_pubtr2']"
   ]
  },
  {
   "cell_type": "code",
   "execution_count": 54,
   "metadata": {},
   "outputs": [],
   "source": [
    "# ntgeo_gdf_rt_all4 = gdf_rt_shorter_all4.copy()\n",
    "# del ntgeo_gdf_rt_all4['geometry']\n",
    "# ntgeo_gdf_rt_all4.to_csv('../data/res/big_ok/matrice_len_time_csv.csv', \n",
    "#                sep=';', encoding='utf-8-sig', index=False)"
   ]
  },
  {
   "cell_type": "code",
   "execution_count": 55,
   "metadata": {},
   "outputs": [],
   "source": [
    "# gdf_rt_shorter_all4.to_file('../data/res/big_ok/matrice_len_time.json', driver='GeoJSON', \n",
    "#                             encoding='utf-8')"
   ]
  },
  {
   "cell_type": "code",
   "execution_count": null,
   "metadata": {},
   "outputs": [],
   "source": []
  },
  {
   "cell_type": "code",
   "execution_count": null,
   "metadata": {},
   "outputs": [],
   "source": []
  },
  {
   "cell_type": "code",
   "execution_count": null,
   "metadata": {},
   "outputs": [],
   "source": []
  }
 ],
 "metadata": {
  "kernelspec": {
   "display_name": "Python 3",
   "language": "python",
   "name": "python3"
  },
  "language_info": {
   "codemirror_mode": {
    "name": "ipython",
    "version": 3
   },
   "file_extension": ".py",
   "mimetype": "text/x-python",
   "name": "python",
   "nbconvert_exporter": "python",
   "pygments_lexer": "ipython3",
   "version": "3.7.6"
  }
 },
 "nbformat": 4,
 "nbformat_minor": 4
}
