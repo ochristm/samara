{
 "cells": [
  {
   "cell_type": "code",
   "execution_count": 1,
   "metadata": {},
   "outputs": [],
   "source": [
    "import numpy as np\n",
    "import pandas as pd\n",
    "import geopandas as gpd\n",
    "import shapely\n",
    "from shapely.geometry import Point, LineString, MultiLineString, Polygon, MultiPolygon\n",
    "from tqdm.notebook import tqdm\n",
    "import time\n",
    "from datetime import datetime\n",
    "\n",
    "import requests\n",
    "import re\n",
    "from bs4 import BeautifulSoup\n",
    "import json\n",
    "import urllib\n",
    "\n",
    "\n",
    "# отключить предупреждения пандас\n",
    "pd.options.mode.chained_assignment = None"
   ]
  },
  {
   "cell_type": "code",
   "execution_count": 2,
   "metadata": {},
   "outputs": [],
   "source": [
    "# для запуска скрипта нужны файлы:\n",
    "#     1 файл с транспортными регионами\n",
    "#     2 файл с точками (центрами трнаспортных регионов)\n",
    "# необходимо проставить дату и время!\n",
    "# "
   ]
  },
  {
   "cell_type": "code",
   "execution_count": 3,
   "metadata": {},
   "outputs": [],
   "source": [
    "# это дата для сохранения файлов\n",
    "str_date = \"{:%Y%m%d_%H%M}\".format(datetime.now())"
   ]
  },
  {
   "cell_type": "code",
   "execution_count": 47,
   "metadata": {},
   "outputs": [],
   "source": [
    "# дата, за которую нужно выгрузить маршруты\n",
    "date_dep = '2020-08-27'\n",
    "time_dep = '07:30:00'"
   ]
  },
  {
   "cell_type": "code",
   "execution_count": 10,
   "metadata": {},
   "outputs": [],
   "source": [
    "transp_reg = gpd.read_file('./data/from/transp_reg_st.shp',\n",
    "                        encoding='utf-8')\n",
    "# transp_reg.crs = 'epsg:53004'\n",
    "transp_reg = transp_reg.to_crs('epsg:4326')"
   ]
  },
  {
   "cell_type": "code",
   "execution_count": 11,
   "metadata": {
    "scrolled": true
   },
   "outputs": [],
   "source": [
    "gdf_pts_select = gpd.read_file('./data/res/gdf_pts_all_select.geojson',\n",
    "                        encoding='utf-8')"
   ]
  },
  {
   "cell_type": "code",
   "execution_count": 12,
   "metadata": {},
   "outputs": [],
   "source": [
    "# списки id районов (для составления пар)\n",
    "lst_from = list(gdf_pts_select.reg_id.unique())\n",
    "# lst_to = [532] * len(lst_from)\n",
    "lst_to = list(gdf_pts_select.reg_id.unique())"
   ]
  },
  {
   "cell_type": "code",
   "execution_count": 13,
   "metadata": {},
   "outputs": [
    {
     "data": {
      "application/vnd.jupyter.widget-view+json": {
       "model_id": "13794b68a8c44e7d9dac94dbc182b2ff",
       "version_major": 2,
       "version_minor": 0
      },
      "text/plain": [
       "HBox(children=(FloatProgress(value=0.0, max=115.0), HTML(value='')))"
      ]
     },
     "metadata": {},
     "output_type": "display_data"
    },
    {
     "name": "stdout",
     "output_type": "stream",
     "text": [
      "\n"
     ]
    }
   ],
   "source": [
    "# нахождение времен пешей доступности до/от центров районов, исходя из их площади\n",
    "reg_area = transp_reg[['NO', 'geometry']].copy()\n",
    "reg_area = reg_area.to_crs('epsg:20007')\n",
    "\n",
    "lst_area=[]\n",
    "i=0\n",
    "for i in tqdm(range(len(reg_area))):\n",
    "    area=round(reg_area.geometry[i].area / 1000 / 1000, 0)\n",
    "    lst_area.append(area)\n",
    "# \n",
    "\n",
    "reg_area['area_km'] = lst_area\n",
    "\n",
    "reg_area = reg_area.sort_values(by=['area_km']).reset_index(drop=True)\n",
    "reg_area['mint_ped'] = None\n",
    "\n",
    "# проставление времен пешей досутпности\n",
    "reg_area.mint_ped[:24] = 10\n",
    "reg_area.mint_ped[24:47] = 15\n",
    "reg_area.mint_ped[47:70] = 20\n",
    "reg_area.mint_ped[70:93] = 25\n",
    "reg_area.mint_ped[93:] = 30\n",
    "\n",
    "reg_area = reg_area.sort_values(by=['NO']).reset_index(drop=True)\n",
    "reg_area = reg_area.to_crs('epsg:4326')"
   ]
  },
  {
   "cell_type": "code",
   "execution_count": null,
   "metadata": {},
   "outputs": [],
   "source": []
  },
  {
   "cell_type": "code",
   "execution_count": null,
   "metadata": {},
   "outputs": [],
   "source": []
  },
  {
   "cell_type": "code",
   "execution_count": 14,
   "metadata": {},
   "outputs": [],
   "source": [
    "def find_js(lnk):\n",
    "    with requests.get(lnk, stream=True, timeout=25) as req:\n",
    "        bs = BeautifulSoup(req.text, 'html.parser')\n",
    "        all_scrpt = bs.find_all(\"script\")\n",
    "        for scr in all_scrpt:\n",
    "            if scr.get('type') == \"application/json\":\n",
    "                sc_ind = all_scrpt.index(scr)\n",
    "                break\n",
    "            else:\n",
    "                sc_ind=0\n",
    "        # \n",
    "        scrp_txt = all_scrpt[sc_ind].text\n",
    "        js = json.loads(scrp_txt)\n",
    "\n",
    "        return js"
   ]
  },
  {
   "cell_type": "code",
   "execution_count": 15,
   "metadata": {},
   "outputs": [],
   "source": [
    "def get_dist_n_time(js, tp_ts, ind_min):\n",
    "\n",
    "    if tp_ts == 'auto':\n",
    "        # прибавить +5 +5 к времени для каждого конца, на парковку\n",
    "        distnc = round(js['routerResponse']['routes'][ind_min]['distance']['value'] / 1000, 2)\n",
    "        tm_avg = round(js['routerResponse']['routes'][ind_min]['duration'] / 60, 1) + 10\n",
    "        tm_trfc = round(js['routerResponse']['routes'][ind_min]['durationInTraffic'] / 60, 1) + 10\n",
    "    else:\n",
    "        try:\n",
    "            tm_avg = round(js['routerResponse']['routes'][ind_min]['duration'] / 60, 1)\n",
    "        except:\n",
    "            tm_avg = round(js['routerResponse']['routes'][0]['duration'] / 60, 1)\n",
    "        distnc = None\n",
    "        tm_trfc = None\n",
    "    # \n",
    "    \n",
    "    lst_dist_time = [distnc, tm_avg, tm_trfc]\n",
    "\n",
    "    return lst_dist_time"
   ]
  },
  {
   "cell_type": "code",
   "execution_count": 16,
   "metadata": {},
   "outputs": [],
   "source": [
    "def make_str_coords(one_reg_pt, two_reg_pt):\n",
    "    coord_str = str(str(one_reg_pt.coords[0][1]) \n",
    "                    + \"%2C\" \n",
    "                    + str(one_reg_pt.coords[0][0]) \n",
    "                    + \"~\" \n",
    "                    + str(two_reg_pt.coords[0][1]) \n",
    "                    + \"%2C\" \n",
    "                    + str(two_reg_pt.coords[0][0]))\n",
    "    # \n",
    "    return coord_str"
   ]
  },
  {
   "cell_type": "code",
   "execution_count": 17,
   "metadata": {},
   "outputs": [],
   "source": [
    "def make_str_coords2(one_reg_pt, two_reg_pt):\n",
    "    middle_pt = '53.438723%2C50.109816'\n",
    "    coord_str = str(str(one_reg_pt.coords[0][1]) \n",
    "                    + \"%2C\" \n",
    "                    + str(one_reg_pt.coords[0][0]) \n",
    "                    + \"~\" \n",
    "                    + middle_pt\n",
    "                    + \"~\" \n",
    "                    + str(two_reg_pt.coords[0][1]) \n",
    "                    + \"%2C\" \n",
    "                    + str(two_reg_pt.coords[0][0]))\n",
    "    # \n",
    "    return coord_str"
   ]
  },
  {
   "cell_type": "code",
   "execution_count": 58,
   "metadata": {},
   "outputs": [],
   "source": [
    "def get_auto_data(one_reg_pt, two_reg_pt, reg_id_from, reg_id_to, date_dep, time_dep):\n",
    "\n",
    "    coord_str = make_str_coords(one_reg_pt, two_reg_pt)\n",
    "    str_coord = str(one_reg_pt.coords[0][0]) + \"%2C\"  +  str(one_reg_pt.coords[0][1])\n",
    "    \n",
    "    # tp_ts_mt=\"mt\"\n",
    "    # url_mt = \"https://yandex.ru/maps/51/samara/?ll={}&mode=routes&rtext={}&rtt=mt&ruri=~&z=14.41\". format(str_coord, coord_str)\n",
    "    # tp_ts_auto = \"auto\"\n",
    "    time_start = str('&routes%5BtimeDependent%5D%5Btime%5D={}T{}'.format(date_dep, time_dep))\n",
    "    # \n",
    "    url_auto = \"https://yandex.ru/maps/51/samara/?ll={}&mode=routes{}&rtext={}&rtt=auto&ruri=~&z=14.41\". format(str_coord, time_start, coord_str)\n",
    "\n",
    "\n",
    "    #js_mt = find_js(url_mt)\n",
    "    js_auto = find_js(url_auto)\n",
    "    \n",
    "    # select shortest path\n",
    "    rts_all = js_auto['routerResponse']['routes']\n",
    "    distnc_min = 1000000000\n",
    "    ind_min = 0\n",
    "    i=0\n",
    "    for i in range(len(rts_all)):\n",
    "        dstnc = js_auto['routerResponse']['routes'][i]['distance']['value']\n",
    "        if dstnc < distnc_min:\n",
    "            distnc_min = dstnc\n",
    "            ind_min = i\n",
    "    # \n",
    "    \n",
    "    lst_dist_time_auto = get_dist_n_time(js_auto, 'auto', ind_min)\n",
    "#     try:\n",
    "#         lst_dist_time_mt = get_dist_n_time(js_mt, 'mt')\n",
    "#     except:\n",
    "#         lst_dist_time_mt = [None, None, None]\n",
    "\n",
    "    x_from = one_reg_pt.x\n",
    "    y_from = one_reg_pt.y\n",
    "    x_to = two_reg_pt.x\n",
    "    y_to = two_reg_pt.y\n",
    "    \n",
    "    line_geo = LineString(js_auto['routerResponse']['routes'][ind_min]['coordinates'])\n",
    "    \n",
    "    lst_one_data = [[reg_id_from, reg_id_to] \n",
    "                    + lst_dist_time_auto + [x_from, y_from, x_to, y_to] + [line_geo]]\n",
    "    #\n",
    "    return lst_one_data"
   ]
  },
  {
   "cell_type": "code",
   "execution_count": 59,
   "metadata": {},
   "outputs": [],
   "source": [
    "def total_get_auto_data(one_reg_pt, two_reg_pt, reg_id_from, reg_id_to, date_dep, time_dep):\n",
    "    try:\n",
    "        lst_auto = get_auto_data(one_reg_pt, two_reg_pt, reg_id_from, reg_id_to, date_dep, time_dep)\n",
    "    except:\n",
    "        time.sleep(30)\n",
    "        try:\n",
    "            lst_auto = get_auto_data(one_reg_pt, two_reg_pt, reg_id_from, reg_id_to, date_dep, time_dep)\n",
    "        except:\n",
    "            print(reg_id_from,reg_id_to)\n",
    "            lst_auto=0\n",
    "            pass\n",
    "    try:\n",
    "        lst_auto2 = get_auto_data(two_reg_pt, one_reg_pt, reg_id_to, reg_id_from, date_dep, time_dep)\n",
    "    except:\n",
    "        time.sleep(30)\n",
    "        try:\n",
    "            lst_auto2 = get_auto_data(two_reg_pt, one_reg_pt, reg_id_to, reg_id_from, date_dep, time_dep)\n",
    "        except:\n",
    "            print(reg_id_to, reg_id_from)\n",
    "            lst_auto2=0\n",
    "            pass\n",
    "\n",
    "    #\n",
    "    return lst_auto, lst_auto2"
   ]
  },
  {
   "cell_type": "code",
   "execution_count": 19,
   "metadata": {},
   "outputs": [],
   "source": [
    "def select_ind_rt(js_mt):\n",
    "    rts = js_mt['routerResponse']['routes'][0]['paths']\n",
    "\n",
    "    ind_rt = 0\n",
    "    i=0\n",
    "    for i in range(len(rts)):\n",
    "        if len(rts[i]['segments']) > 1:\n",
    "            j=0\n",
    "            for j in range(len(rts[i]['segments'])):\n",
    "                if rts[i]['segments'][j]['type'] == 'transport':\n",
    "                    ind_rt = i\n",
    "                    break\n",
    "        if ind_rt > 0:\n",
    "            break\n",
    "    # \n",
    "    return ind_rt"
   ]
  },
  {
   "cell_type": "code",
   "execution_count": 20,
   "metadata": {},
   "outputs": [],
   "source": [
    "def get_mt_rt_seq(one_reg_pt, two_reg_pt, reg_id_from, reg_id_to, js_mt):\n",
    "    \n",
    "    ind_rt = select_ind_rt(js_mt)\n",
    "    rt_segm = js_mt['routerResponse']['routes'][0]['paths'][ind_rt]['segments']\n",
    "\n",
    "    lst_tp_seq = []\n",
    "    cnt=1\n",
    "    i=0\n",
    "    for i in (range(len(rt_segm))):\n",
    "        if rt_segm[i]['type'] == 'transport':\n",
    "            one_rt = rt_segm[i]['transports'][0]\n",
    "            line_id = one_rt['id']\n",
    "            rt_type = one_rt['type']\n",
    "            rt_name = one_rt['name']\n",
    "            distnc = round(rt_segm[i]['distance']['value'] / 1000, 2)\n",
    "            lst_tp_seq.append([reg_id_from, reg_id_to, cnt, line_id, rt_type, rt_name, distnc])\n",
    "            cnt+=1\n",
    "    #\n",
    "    return lst_tp_seq"
   ]
  },
  {
   "cell_type": "code",
   "execution_count": 21,
   "metadata": {},
   "outputs": [],
   "source": [
    "def get_mt_rt_time(one_reg_pt, two_reg_pt, reg_id_from, reg_id_to, var_foo, mnt_from, mnt_to, date_dep, time_dep):\n",
    "    \n",
    "    if var_foo == 2:\n",
    "        coord_str = make_str_coords2(one_reg_pt, two_reg_pt)\n",
    "    else:\n",
    "        coord_str = make_str_coords(one_reg_pt, two_reg_pt)\n",
    "    \n",
    "    str_coord = str(one_reg_pt.coords[0][0]) + \"%2C\" + str(one_reg_pt.coords[0][1])\n",
    "    # исключение водного и жд транспорта, почти не работает)), \n",
    "    # если нет альтернатив, Яндекс все равно строит через водный или жд\n",
    "    avoid_tp = '&routes%5BavoidTypes%5D=railway%2Cwater'\n",
    "\n",
    "    # date_dep = '2020-08-24'\n",
    "    # time_dep = '07:30:00'\n",
    "    \n",
    "    time_start = str('&routes%5BtimeDependent%5D%5Btime%5D={}T{}'.format(date_dep, time_dep) \n",
    "                     + '&routes%5BtimeDependent%5D%5Btype%5D=departure')\n",
    "    # tp_ts_mt=\"mt\"\n",
    "    url_mt = \"https://yandex.ru/maps/51/samara/?ll={}&mode=routes{}{}&rtext={}&rtt=mt&ruri=~&z=14.41\". format(str_coord, avoid_tp, time_start, coord_str)\n",
    "\n",
    "    js_mt = find_js(url_mt)\n",
    "\n",
    "    ind_rt = select_ind_rt(js_mt)\n",
    "    rt_segm = js_mt['routerResponse']['routes'][0]['paths'][ind_rt]['segments']\n",
    "    #     lst_dist_time_mt = get_dist_n_time(js_mt, 'mt', ind_rt)\n",
    "    \n",
    "    # кол-во пересадок \n",
    "    trnsfer_cnt = js_mt['routerResponse']['routes'][0]['transfersCount'] + 1\n",
    "    # плюс 1 это время для посадки на первый транспорт\n",
    "    # ожидание каждой посадки - 5 минут\n",
    "    time_wait_in_transfer = trnsfer_cnt * 5\n",
    "\n",
    "    sum_clear_time = 0\n",
    "    i=0\n",
    "    for i in range(len(rt_segm)):\n",
    "        # не прибавляем первое и последнее пешее время, \n",
    "        # так как оно усредненно посчитано для района\n",
    "        # в Яндексе время в секундах!!\n",
    "        if ((i != 0) & (i != (len(rt_segm) - 1))):\n",
    "            segm_time = rt_segm[i]['duration']['value']\n",
    "            sum_clear_time = sum_clear_time + segm_time\n",
    "    # \n",
    "    sum_clear_time_all = round(sum_clear_time / 60, 1) + (mnt_from + mnt_to + time_wait_in_transfer)\n",
    "    \n",
    "    lst_dist_time_mt = [sum_clear_time_all, mnt_from, mnt_to, trnsfer_cnt]\n",
    "    lst_tp_seq = get_mt_rt_seq(one_reg_pt, two_reg_pt, reg_id_from, reg_id_to, js_mt)\n",
    "    \n",
    "    return lst_dist_time_mt, lst_tp_seq"
   ]
  },
  {
   "cell_type": "code",
   "execution_count": 22,
   "metadata": {},
   "outputs": [],
   "source": [
    "def total_get_mt_data(one_reg_pt, two_reg_pt, reg_id_from, reg_id_to, var_foo, mnt_from, mnt_to, date_dep, time_dep):\n",
    "    try:\n",
    "        lst_dist_time_mt,lst_tp_seq = get_mt_rt_time(one_reg_pt, two_reg_pt, reg_id_from, reg_id_to, var_foo, mnt_from, mnt_to, date_dep, time_dep)\n",
    "    except:\n",
    "        time.sleep(30)\n",
    "        try:\n",
    "            lst_dist_time_mt,lst_tp_seq = get_mt_rt_time(one_reg_pt, two_reg_pt, reg_id_from, reg_id_to, var_foo, mnt_from, mnt_to, date_dep, time_dep)\n",
    "        except:\n",
    "            print(reg_id_from,reg_id_to)\n",
    "            lst_dist_time_mt=0\n",
    "            lst_tp_seq=0\n",
    "            pass\n",
    "    try:\n",
    "        lst_dist_time_mt2,lst_tp_seq2 = get_mt_rt_time(two_reg_pt, one_reg_pt, reg_id_to, reg_id_from, var_foo, mnt_to, mnt_from, date_dep, time_dep)\n",
    "    except:\n",
    "        time.sleep(30)\n",
    "        try:\n",
    "            lst_dist_time_mt2,lst_tp_seq2 = get_mt_rt_time(two_reg_pt, one_reg_pt, reg_id_to, reg_id_from, var_foo, mnt_to, mnt_from, date_dep, time_dep)\n",
    "        except:\n",
    "            print(reg_id_to, reg_id_from)\n",
    "            lst_dist_time_mt2=0\n",
    "            lst_tp_seq=0\n",
    "            pass\n",
    "\n",
    "    #\n",
    "    return lst_dist_time_mt, lst_dist_time_mt2, lst_tp_seq, lst_tp_seq2"
   ]
  },
  {
   "cell_type": "code",
   "execution_count": null,
   "metadata": {},
   "outputs": [],
   "source": []
  },
  {
   "cell_type": "code",
   "execution_count": null,
   "metadata": {},
   "outputs": [],
   "source": []
  },
  {
   "cell_type": "code",
   "execution_count": null,
   "metadata": {},
   "outputs": [],
   "source": []
  },
  {
   "cell_type": "code",
   "execution_count": 67,
   "metadata": {
    "scrolled": true
   },
   "outputs": [
    {
     "data": {
      "application/vnd.jupyter.widget-view+json": {
       "model_id": "7060b2ffccd64f07a85a63eb1e9810d7",
       "version_major": 2,
       "version_minor": 0
      },
      "text/plain": [
       "HBox(children=(FloatProgress(value=0.0, max=1.0), HTML(value='')))"
      ]
     },
     "metadata": {},
     "output_type": "display_data"
    },
    {
     "data": {
      "application/vnd.jupyter.widget-view+json": {
       "model_id": "44710e46ab7948269110a9bf2dc17ff7",
       "version_major": 2,
       "version_minor": 0
      },
      "text/plain": [
       "HBox(children=(FloatProgress(value=0.0, max=2.0), HTML(value='')))"
      ]
     },
     "metadata": {},
     "output_type": "display_data"
    },
    {
     "name": "stdout",
     "output_type": "stream",
     "text": [
      "\n",
      "\n"
     ]
    }
   ],
   "source": [
    "# в цикле выполняется поиск маршрутов по обеим парам (и от 1 до 2, и от 2 до 1)\n",
    "# в данном случае район 532 - особенный, для него нужна дополнительная точка, \n",
    "# иначе Яндекс не ищет маршрут на общественном транспорте оттуда/туда\n",
    "# для 115 районов - 13110 пар (без 115 пар \"сам в себя\"), \n",
    "# только общественный транспорт - 3-3.5 часа\n",
    "# общественный и авто - 8-10 часов\n",
    "\n",
    "\n",
    "lst_total_data=[]\n",
    "lst_time_data = []\n",
    "lst_seq_data = []\n",
    "lst_done=[]\n",
    "\n",
    "\n",
    "j=0\n",
    "for j in tqdm(range(1)):\n",
    "# for j in tqdm(range(len(lst_from))):\n",
    "\n",
    "    i=0\n",
    "    for i in tqdm(range(2)):\n",
    "#     for i in tqdm(range(len(lst_to))):\n",
    "\n",
    "        reg_id_from, reg_id_to = lst_from[i], lst_to[j]\n",
    "        if ((reg_id_from == 532) | (reg_id_to == 532)):\n",
    "            var_foo = 2\n",
    "        else:\n",
    "            var_foo = 1\n",
    "        #\n",
    "        dnpr = str(reg_id_from) + \"_\" + str(reg_id_to)\n",
    "        if dnpr not in lst_done:\n",
    "            lst_done.append(dnpr)\n",
    "            if (reg_id_from != reg_id_to):\n",
    "                \n",
    "                one_reg_pt = gdf_pts_select[gdf_pts_select.reg_id \n",
    "                                            == reg_id_from].reset_index(drop=True).geometry[0]\n",
    "                two_reg_pt = gdf_pts_select[gdf_pts_select.reg_id \n",
    "                                            == reg_id_to].reset_index(drop=True).geometry[0]\n",
    "                mnt_from = list(reg_area[reg_area.NO == reg_id_from]['mint_ped'])[0]\n",
    "                mnt_to = list(reg_area[reg_area.NO == reg_id_to]['mint_ped'])[0]\n",
    "                \n",
    "#                 lst_dist_time_mt, lst_dist_time_mt2, lst_tp_seq, lst_tp_seq2 = total_get_mt_data(one_reg_pt, two_reg_pt, \n",
    "#                                                                                                  reg_id_from, reg_id_to, \n",
    "#                                                                                                  var_foo, \n",
    "#                                                                                                  mnt_from, mnt_to, \n",
    "#                                                                                                  date_dep, time_dep)\n",
    "#                 #\n",
    "#                 if lst_dist_time_mt != 0:\n",
    "#                     lst_time_data.append([reg_id_from, reg_id_to] + lst_dist_time_mt)\n",
    "#                 # \n",
    "#                 if lst_dist_time_mt2 != 0:\n",
    "#                     lst_time_data.append([reg_id_to, reg_id_from] + lst_dist_time_mt2)\n",
    "#                 # \n",
    "#                 if lst_tp_seq != 0:\n",
    "#                     lst_seq_data = lst_seq_data + lst_tp_seq\n",
    "#                 # \n",
    "#                 if lst_tp_seq2 != 0:\n",
    "#                     lst_seq_data = lst_seq_data + lst_tp_seq2\n",
    "                # \n",
    "                \n",
    "                ###########\n",
    "                ## auto - carefull\n",
    "                lst_auto, lst_auto2 = total_get_auto_data(one_reg_pt, two_reg_pt, reg_id_from, \n",
    "                                          reg_id_to, date_dep, time_dep)\n",
    "                #\n",
    "                lst_auto_total = []\n",
    "                if lst_auto !=0:\n",
    "                    lst_auto_total = lst_auto_total + lst_auto\n",
    "                # \n",
    "                if lst_auto2 !=0:\n",
    "                    lst_auto_total = lst_auto_total + lst_auto2\n",
    "                # \n",
    "# "
   ]
  },
  {
   "cell_type": "code",
   "execution_count": null,
   "metadata": {},
   "outputs": [],
   "source": []
  },
  {
   "cell_type": "code",
   "execution_count": 36,
   "metadata": {
    "scrolled": true
   },
   "outputs": [],
   "source": [
    "clmns=['id_reg_from', 'id_reg_to', 'seq_in_rt', 'line_id', \n",
    "       'tp_ts', 'name', 'distance']\n",
    "df_rt_seq = pd.DataFrame(lst_seq_data, columns = clmns)"
   ]
  },
  {
   "cell_type": "code",
   "execution_count": 37,
   "metadata": {},
   "outputs": [],
   "source": [
    "df_rt_seq.to_csv('./res/df_rt_seq_{}.csv'.format(str_date), sep=';', \n",
    "                 encoding='utf-8-sig', index=False)"
   ]
  },
  {
   "cell_type": "code",
   "execution_count": null,
   "metadata": {},
   "outputs": [],
   "source": []
  },
  {
   "cell_type": "code",
   "execution_count": 38,
   "metadata": {},
   "outputs": [],
   "source": [
    "clmns2 = ['id_reg_from', 'id_reg_to','time_pubtr2', 'mnt_from_reg', 'mnt_to_reg', 'cnt_transprt']\n",
    "df_time = pd.DataFrame(lst_time_data, columns=clmns2)\n",
    "df_time = df_time.drop_duplicates(subset=['id_reg_from', 'id_reg_to']).reset_index(drop=True)"
   ]
  },
  {
   "cell_type": "code",
   "execution_count": 39,
   "metadata": {},
   "outputs": [],
   "source": [
    "df_time.to_csv('./res/df_rt_time_clear_{}.csv'.format(str_date), sep=';', \n",
    "               encoding='utf-8-sig', index=False)"
   ]
  },
  {
   "cell_type": "code",
   "execution_count": null,
   "metadata": {},
   "outputs": [],
   "source": []
  },
  {
   "cell_type": "code",
   "execution_count": 68,
   "metadata": {},
   "outputs": [],
   "source": [
    "clmns_auto = ['id_reg_from', 'id_reg_to','length', \n",
    "              'time_auto_avg', 'time_auto_traff', \n",
    "              'x_from', 'y_from', 'x_to', 'y_to', 'geometry']\n",
    "matrice_len_time = gpd.GeoDataFrame(data = lst_auto_total, columns = clmns_auto)\n",
    "matrice_len_time.crs='epsg:4326'"
   ]
  },
  {
   "cell_type": "code",
   "execution_count": 70,
   "metadata": {},
   "outputs": [],
   "source": [
    "matrice_len_time.to_file('./data/res/big_ok/matrice_len_time.json', driver='GeoJSON', \n",
    "                            encoding='utf-8')"
   ]
  },
  {
   "cell_type": "code",
   "execution_count": null,
   "metadata": {},
   "outputs": [],
   "source": []
  },
  {
   "cell_type": "code",
   "execution_count": null,
   "metadata": {},
   "outputs": [],
   "source": []
  },
  {
   "cell_type": "code",
   "execution_count": 41,
   "metadata": {},
   "outputs": [],
   "source": [
    "## это если нужно общественный отдельно прогнать в разные часы, \n",
    "## чтобы авто не прогонять, взять старую версию\n",
    "\n",
    "# gdf_rt_shorter_all = gpd.read_file('../data/res/big_ok/gdf_rt_shorter_all.json',\n",
    "#                         encoding='utf-8')"
   ]
  },
  {
   "cell_type": "code",
   "execution_count": 42,
   "metadata": {},
   "outputs": [],
   "source": [
    "# #  временное прибавление по 5 минут на каждом конце\n",
    "# gdf_rt_shorter_all['time_auto_avg'] = gdf_rt_shorter_all['time_auto_avg'] + 10\n",
    "# gdf_rt_shorter_all['time_auto_traff'] = gdf_rt_shorter_all['time_auto_traff'] + 10"
   ]
  },
  {
   "cell_type": "code",
   "execution_count": null,
   "metadata": {},
   "outputs": [],
   "source": []
  },
  {
   "cell_type": "code",
   "execution_count": 51,
   "metadata": {
    "scrolled": true
   },
   "outputs": [],
   "source": [
    "# gdf_rt_shorter_all4 = gdf_rt_shorter_all.merge(df_time, how='left', \n",
    "#                                 on = ['id_reg_from', 'id_reg_to'])"
   ]
  },
  {
   "cell_type": "code",
   "execution_count": 52,
   "metadata": {},
   "outputs": [],
   "source": [
    "# gdf_rt_shorter_all4.time_pubtr = gdf_rt_shorter_all4.time_pubtr2"
   ]
  },
  {
   "cell_type": "code",
   "execution_count": 53,
   "metadata": {},
   "outputs": [],
   "source": [
    "# del gdf_rt_shorter_all4['time_pubtr2']"
   ]
  },
  {
   "cell_type": "code",
   "execution_count": 54,
   "metadata": {},
   "outputs": [],
   "source": [
    "# ntgeo_gdf_rt_all4 = gdf_rt_shorter_all4.copy()\n",
    "# del ntgeo_gdf_rt_all4['geometry']\n",
    "# ntgeo_gdf_rt_all4.to_csv('../data/res/big_ok/matrice_len_time_csv.csv', \n",
    "#                sep=';', encoding='utf-8-sig', index=False)"
   ]
  },
  {
   "cell_type": "code",
   "execution_count": 55,
   "metadata": {},
   "outputs": [],
   "source": [
    "# gdf_rt_shorter_all4.to_file('../data/res/big_ok/matrice_len_time.json', driver='GeoJSON', \n",
    "#                             encoding='utf-8')"
   ]
  },
  {
   "cell_type": "code",
   "execution_count": null,
   "metadata": {},
   "outputs": [],
   "source": []
  },
  {
   "cell_type": "code",
   "execution_count": null,
   "metadata": {},
   "outputs": [],
   "source": []
  },
  {
   "cell_type": "code",
   "execution_count": null,
   "metadata": {},
   "outputs": [],
   "source": []
  }
 ],
 "metadata": {
  "kernelspec": {
   "display_name": "Python 3",
   "language": "python",
   "name": "python3"
  },
  "language_info": {
   "codemirror_mode": {
    "name": "ipython",
    "version": 3
   },
   "file_extension": ".py",
   "mimetype": "text/x-python",
   "name": "python",
   "nbconvert_exporter": "python",
   "pygments_lexer": "ipython3",
   "version": "3.7.6"
  }
 },
 "nbformat": 4,
 "nbformat_minor": 4
}
