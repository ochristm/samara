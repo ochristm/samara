{
 "cells": [
  {
   "cell_type": "code",
   "execution_count": 1,
   "metadata": {},
   "outputs": [],
   "source": [
    "import numpy as np\n",
    "import pandas as pd\n",
    "import geopandas as gpd\n",
    "import shapely\n",
    "from shapely.geometry import Point, LineString, MultiLineString, Polygon, MultiPolygon\n",
    "from tqdm.notebook import tqdm\n",
    "import time\n",
    "from datetime import datetime\n",
    "\n",
    "import requests\n",
    "import re\n",
    "from bs4 import BeautifulSoup\n",
    "import json\n",
    "import urllib"
   ]
  },
  {
   "cell_type": "code",
   "execution_count": null,
   "metadata": {},
   "outputs": [],
   "source": []
  },
  {
   "cell_type": "code",
   "execution_count": 2,
   "metadata": {},
   "outputs": [],
   "source": [
    "transp_reg = gpd.read_file('../data/from/transp_reg_st.shp',\n",
    "                        encoding='utf-8')\n",
    "# transp_reg.crs = 'epsg:53004'\n",
    "transp_reg = transp_reg.to_crs('epsg:4326')"
   ]
  },
  {
   "cell_type": "code",
   "execution_count": null,
   "metadata": {},
   "outputs": [],
   "source": []
  },
  {
   "cell_type": "code",
   "execution_count": 3,
   "metadata": {},
   "outputs": [],
   "source": [
    "def find_js(lnk):\n",
    "    with requests.get(lnk, stream=True, timeout=25) as req:\n",
    "        bs = BeautifulSoup(req.text, 'html.parser')\n",
    "        all_scrpt = bs.find_all(\"script\")\n",
    "        for scr in all_scrpt:\n",
    "            if scr.get('type') == \"application/json\":\n",
    "                sc_ind = all_scrpt.index(scr)\n",
    "                break\n",
    "            else:\n",
    "                sc_ind=0\n",
    "        # \n",
    "        scrp_txt = all_scrpt[sc_ind].text\n",
    "        js = json.loads(scrp_txt)\n",
    "\n",
    "        return js"
   ]
  },
  {
   "cell_type": "code",
   "execution_count": 4,
   "metadata": {},
   "outputs": [],
   "source": [
    "def get_poi(word, srch_pt, poly):\n",
    "\n",
    "    str_qt = urllib.parse.quote(word)\n",
    "\n",
    "    coords1 = str(str(srch_pt.coords[0][0]) + \"%2C\" + str(srch_pt.coords[0][1]))\n",
    "    coords2 = coords1\n",
    "\n",
    "    url = \"https://yandex.ru/maps/51/samara/search/{str_qt}/?ll={coords1}&sll={coords2}&sspn=0.015134%2C0.006711&z=15.96\".format(str_qt=str_qt,\n",
    "                                                                                                                                       coords1=coords1,\n",
    "                                                                                                                                       coords2=coords2)\n",
    "    # \n",
    "    js = find_js(url)\n",
    "\n",
    "    fnd_items = js['searchPreloadedResults']['items']\n",
    "\n",
    "    if len(fnd_items) == 0:\n",
    "        lst_res = [word+'_not_found', None, srch_pt]\n",
    "    else:\n",
    "        i=0\n",
    "        for i in range(len(fnd_items)):\n",
    "            fnd_pt = Point(fnd_items[i]['coordinates'])\n",
    "            if poly.intersects(fnd_pt):\n",
    "                name = fnd_items[0]['title']\n",
    "                lst_res = [word, name, fnd_pt]\n",
    "                break\n",
    "            else:\n",
    "                lst_res = [word+'_not_found', None, srch_pt]\n",
    "    # \n",
    "    return lst_res"
   ]
  },
  {
   "cell_type": "code",
   "execution_count": 5,
   "metadata": {},
   "outputs": [],
   "source": [
    "def get_reg_centre(reg, lst_words):\n",
    "\n",
    "    poly = reg.geometry[0]\n",
    "    srch_pt = poly.centroid\n",
    "    reg_id = reg.NO[0]\n",
    "\n",
    "    bg_lst_found = []\n",
    "    i=0\n",
    "    for i in range(len(lst_words)):\n",
    "        word = lst_words[i]\n",
    "        try:\n",
    "            lst_res = [reg_id] + get_poi(word, srch_pt, poly)\n",
    "        except:\n",
    "            time.sleep(30)\n",
    "            lst_res = [reg_id] + get_poi(word, srch_pt, poly)\n",
    "        bg_lst_found.append(lst_res)\n",
    "    # \n",
    "    return bg_lst_found"
   ]
  },
  {
   "cell_type": "code",
   "execution_count": 52,
   "metadata": {},
   "outputs": [],
   "source": [
    "def get_dist_n_time(js, tp_ts, ind_rt):\n",
    "\n",
    "    if tp_ts == 'auto':\n",
    "        distnc = round(js['routerResponse']['routes'][0]['distance']['value'] / 1000, 2)\n",
    "        tm_avg = round(js['routerResponse']['routes'][0]['duration'] / 60, 1)\n",
    "        tm_trfc = round(js['routerResponse']['routes'][0]['durationInTraffic'] / 60, 1)\n",
    "    else:\n",
    "        try:\n",
    "            tm_avg = round(js['routerResponse']['routes'][ind_rt]['duration'] / 60, 1)\n",
    "        except:\n",
    "            tm_avg = round(js['routerResponse']['routes'][0]['duration'] / 60, 1)\n",
    "        distnc = None\n",
    "        tm_trfc = None\n",
    "    # \n",
    "    \n",
    "    lst_dist_time = [distnc, tm_avg, tm_trfc]\n",
    "\n",
    "    return lst_dist_time"
   ]
  },
  {
   "cell_type": "code",
   "execution_count": 7,
   "metadata": {},
   "outputs": [],
   "source": [
    "def make_str_coords(one_reg_pt, two_reg_pt):\n",
    "    coord_str = str(str(one_reg_pt.coords[0][1]) \n",
    "                    + \"%2C\" \n",
    "                    + str(one_reg_pt.coords[0][0]) \n",
    "                    + \"~\" \n",
    "                    + str(two_reg_pt.coords[0][1]) \n",
    "                    + \"%2C\" \n",
    "                    + str(two_reg_pt.coords[0][0]))\n",
    "    # \n",
    "    return coord_str"
   ]
  },
  {
   "cell_type": "code",
   "execution_count": 8,
   "metadata": {},
   "outputs": [],
   "source": [
    "def make_str_coords2(one_reg_pt, two_reg_pt):\n",
    "    middle_pt = '53.438723%2C50.109816'\n",
    "    coord_str = str(str(one_reg_pt.coords[0][1]) \n",
    "                    + \"%2C\" \n",
    "                    + str(one_reg_pt.coords[0][0]) \n",
    "                    + \"~\" \n",
    "                    + middle_pt\n",
    "                    + \"~\" \n",
    "                    + str(two_reg_pt.coords[0][1]) \n",
    "                    + \"%2C\" \n",
    "                    + str(two_reg_pt.coords[0][0]))\n",
    "    # \n",
    "    return coord_str"
   ]
  },
  {
   "cell_type": "code",
   "execution_count": null,
   "metadata": {},
   "outputs": [],
   "source": []
  },
  {
   "cell_type": "code",
   "execution_count": 9,
   "metadata": {},
   "outputs": [],
   "source": [
    "lst_words = ['Торговый центр',\n",
    "                'Железнодорожная станция',\n",
    "                'Автостанция',\n",
    "                'Площадь',\n",
    "                'Больница',\n",
    "                'ВУЗ',\n",
    "                'Завод']"
   ]
  },
  {
   "cell_type": "code",
   "execution_count": 17,
   "metadata": {},
   "outputs": [],
   "source": [
    "# bg_lst_pts = []\n",
    "\n",
    "# i=0\n",
    "# # for i in tqdm(range(2)):\n",
    "# for i in tqdm(range(len(transp_reg))):\n",
    "#     reg = transp_reg.iloc[[i]].reset_index(drop=True)\n",
    "#     bg_lst_found = get_reg_centre(reg, lst_words)\n",
    "#     bg_lst_pts = bg_lst_pts + bg_lst_found\n",
    "# # "
   ]
  },
  {
   "cell_type": "code",
   "execution_count": null,
   "metadata": {},
   "outputs": [],
   "source": []
  },
  {
   "cell_type": "code",
   "execution_count": 18,
   "metadata": {},
   "outputs": [],
   "source": [
    "# clmns = ['reg_id', 'grp_pt', 'name_pt', 'geometry']\n",
    "# df = pd.DataFrame(bg_lst_pts, columns = clmns)\n",
    "# gdf_pts = gpd.GeoDataFrame(df, geometry='geometry')\n",
    "# gdf_pts.crs='epsg:4326'"
   ]
  },
  {
   "cell_type": "code",
   "execution_count": 19,
   "metadata": {},
   "outputs": [],
   "source": [
    "# gdf_pts.to_file('./data/res/gdf_pts_all.json', driver='GeoJSON', encoding='utf-8')"
   ]
  },
  {
   "cell_type": "code",
   "execution_count": null,
   "metadata": {},
   "outputs": [],
   "source": []
  },
  {
   "cell_type": "code",
   "execution_count": 10,
   "metadata": {},
   "outputs": [],
   "source": [
    "gdf_pts_select = gpd.read_file('../data/res/gdf_pts_all_select.geojson',\n",
    "                        encoding='utf-8')"
   ]
  },
  {
   "cell_type": "code",
   "execution_count": null,
   "metadata": {},
   "outputs": [],
   "source": []
  },
  {
   "cell_type": "code",
   "execution_count": 11,
   "metadata": {},
   "outputs": [],
   "source": [
    "def get_rt_data(one_reg_pt, two_reg_pt, reg_id_from, reg_id_to):\n",
    "\n",
    "    coord_str = make_str_coords(one_reg_pt, two_reg_pt)\n",
    "    str_coord = str(one_reg_pt.coords[0][1]) + \"%2C\"  +  str(one_reg_pt.coords[0][0])\n",
    "    \n",
    "    # tp_ts_mt=\"mt\"\n",
    "    url_mt = \"https://yandex.ru/maps/51/samara/?ll={}&mode=routes&rtext={}&rtt=mt&ruri=~&z=14.41\". format(str_coord, coord_str)\n",
    "    # tp_ts_auto = \"auto\"\n",
    "    url_auto = \"https://yandex.ru/maps/51/samara/?ll={}&mode=routes&rtext={}&rtt=auto&ruri=~&z=14.41\". format(str_coord, coord_str)\n",
    "    \n",
    "    js_mt = find_js(url_mt)\n",
    "    js_auto = find_js(url_auto)\n",
    "    lst_dist_time_auto = get_dist_n_time(js_auto, 'auto')\n",
    "    try:\n",
    "        lst_dist_time_mt = get_dist_n_time(js_mt, 'mt')\n",
    "    except:\n",
    "        lst_dist_time_mt = [None, None, None]\n",
    "    x_from = one_reg_pt.x\n",
    "    y_from = one_reg_pt.y\n",
    "    x_to = two_reg_pt.x\n",
    "    y_to = two_reg_pt.y\n",
    "    \n",
    "    line_geo = LineString(js_auto['routerResponse']['routes'][0]['coordinates'])\n",
    "    \n",
    "    lst_one_data = [[reg_id_from, reg_id_to] \n",
    "                    + lst_dist_time_auto \n",
    "                    + [lst_dist_time_mt[1]] + [x_from, y_from, x_to, y_to] + [line_geo]]\n",
    "    #\n",
    "    return lst_one_data"
   ]
  },
  {
   "cell_type": "code",
   "execution_count": null,
   "metadata": {},
   "outputs": [],
   "source": []
  },
  {
   "cell_type": "code",
   "execution_count": 12,
   "metadata": {},
   "outputs": [],
   "source": [
    "def select_ind_rt(js_mt):\n",
    "    rts = js_mt['routerResponse']['routes'][0]['paths']\n",
    "\n",
    "    ind_rt = 0\n",
    "    i=0\n",
    "    for i in range(len(rts)):\n",
    "        if len(rts[i]['segments']) > 1:\n",
    "            j=0\n",
    "            for j in range(len(rts[i]['segments'])):\n",
    "                if rts[i]['segments'][j]['type'] == 'transport':\n",
    "                    ind_rt = i\n",
    "                    break\n",
    "        if ind_rt > 0:\n",
    "            break\n",
    "    # \n",
    "    return ind_rt"
   ]
  },
  {
   "cell_type": "code",
   "execution_count": null,
   "metadata": {},
   "outputs": [],
   "source": []
  },
  {
   "cell_type": "code",
   "execution_count": 17,
   "metadata": {},
   "outputs": [],
   "source": [
    "def get_mt_rt_data(one_reg_pt, two_reg_pt, reg_id_from, reg_id_to):\n",
    "    coord_str = make_str_coords2(one_reg_pt, two_reg_pt)\n",
    "    \n",
    "    str_coord = str(one_reg_pt.coords[0][0]) + \"%2C\" + str(one_reg_pt.coords[0][1])\n",
    "\n",
    "    avoid_tp = '&routes%5BavoidTypes%5D=railway%2Cwater'\n",
    "\n",
    "    # tp_ts_mt=\"mt\"\n",
    "    url_mt = \"https://yandex.ru/maps/51/samara/?ll={}&mode=routes{}&rtext={}&rtt=mt&ruri=~&z=14.41\". format(str_coord, avoid_tp, coord_str)\n",
    "    \n",
    "    js_mt = find_js(url_mt)\n",
    "    \n",
    "    ind_rt = select_ind_rt(js_mt)\n",
    "    rt_segm = js_mt['routerResponse']['routes'][0]['paths'][ind_rt]['segments']\n",
    "\n",
    "    lst_tp_seq = []\n",
    "    cnt=1\n",
    "    i=0\n",
    "    for i in (range(len(rt_segm))):\n",
    "        if rt_segm[i]['type'] == 'transport':\n",
    "            one_rt = rt_segm[i]['transports'][0]\n",
    "            line_id = one_rt['id']\n",
    "            rt_type = one_rt['type']\n",
    "            rt_name = one_rt['name']\n",
    "            distnc = round(rt_segm[i]['distance']['value'] / 1000, 2)\n",
    "            lst_tp_seq.append([reg_id_from, reg_id_to, cnt, line_id, rt_type, rt_name, distnc])\n",
    "            cnt+=1\n",
    "    #\n",
    "    return lst_tp_seq"
   ]
  },
  {
   "cell_type": "code",
   "execution_count": 163,
   "metadata": {},
   "outputs": [],
   "source": [
    "def get_mt_rt_time(one_reg_pt, two_reg_pt, reg_id_from, reg_id_to, var_foo):\n",
    "    \n",
    "    if var_foo == 2:\n",
    "        coord_str = make_str_coords2(one_reg_pt, two_reg_pt)\n",
    "    else:\n",
    "        coord_str = make_str_coords(one_reg_pt, two_reg_pt)\n",
    "    \n",
    "    str_coord = str(one_reg_pt.coords[0][0]) + \"%2C\" + str(one_reg_pt.coords[0][1])\n",
    "\n",
    "    avoid_tp = '&routes%5BavoidTypes%5D=railway%2Cwater'\n",
    "\n",
    "    # tp_ts_mt=\"mt\"\n",
    "    url_mt = \"https://yandex.ru/maps/51/samara/?ll={}&mode=routes{}&rtext={}&rtt=mt&ruri=~&z=14.41\". format(str_coord, avoid_tp, coord_str)\n",
    "    \n",
    "    js_mt = find_js(url_mt)\n",
    "    \n",
    "    ind_rt = select_ind_rt(js_mt)\n",
    "    rt_segm = js_mt['routerResponse']['routes'][0]['paths'][ind_rt]['segments']\n",
    "#     lst_dist_time_mt = get_dist_n_time(js_mt, 'mt', ind_rt)\n",
    "\n",
    "    sum_clear_time = 0\n",
    "    i=0\n",
    "    for i in range(len(rt_segm)):\n",
    "        segm_time = rt_segm[i]['duration']['value']\n",
    "        sum_clear_time = sum_clear_time + segm_time\n",
    "    # \n",
    "    \n",
    "    lst_dist_time_mt = [None, round(sum_clear_time / 60, 1), None]\n",
    "    \n",
    "    return lst_dist_time_mt"
   ]
  },
  {
   "cell_type": "code",
   "execution_count": null,
   "metadata": {},
   "outputs": [],
   "source": []
  },
  {
   "cell_type": "code",
   "execution_count": 156,
   "metadata": {},
   "outputs": [],
   "source": [
    "lst_from = list(gdf_pts_select.reg_id.unique())\n",
    "# lst_to = [532] * len(lst_from)\n",
    "lst_to = list(gdf_pts_select.reg_id.unique())"
   ]
  },
  {
   "cell_type": "code",
   "execution_count": null,
   "metadata": {},
   "outputs": [],
   "source": []
  },
  {
   "cell_type": "code",
   "execution_count": null,
   "metadata": {},
   "outputs": [],
   "source": []
  },
  {
   "cell_type": "code",
   "execution_count": null,
   "metadata": {
    "scrolled": true
   },
   "outputs": [
    {
     "data": {
      "application/vnd.jupyter.widget-view+json": {
       "model_id": "e2771a49f62046c7847ec5fcbaa04f7c",
       "version_major": 2,
       "version_minor": 0
      },
      "text/plain": [
       "HBox(children=(FloatProgress(value=0.0, max=115.0), HTML(value='')))"
      ]
     },
     "metadata": {},
     "output_type": "display_data"
    },
    {
     "data": {
      "application/vnd.jupyter.widget-view+json": {
       "model_id": "d3cfb80648ad48d0a64e1b631bc3e21e",
       "version_major": 2,
       "version_minor": 0
      },
      "text/plain": [
       "HBox(children=(FloatProgress(value=0.0, max=115.0), HTML(value='')))"
      ]
     },
     "metadata": {},
     "output_type": "display_data"
    },
    {
     "name": "stdout",
     "output_type": "stream",
     "text": [
      "\n"
     ]
    },
    {
     "data": {
      "application/vnd.jupyter.widget-view+json": {
       "model_id": "9d2d645dafd04a66a3aa4fc2b1a66109",
       "version_major": 2,
       "version_minor": 0
      },
      "text/plain": [
       "HBox(children=(FloatProgress(value=0.0, max=115.0), HTML(value='')))"
      ]
     },
     "metadata": {},
     "output_type": "display_data"
    },
    {
     "name": "stdout",
     "output_type": "stream",
     "text": [
      "\n"
     ]
    },
    {
     "data": {
      "application/vnd.jupyter.widget-view+json": {
       "model_id": "293496c3b4734b2aa298c129aa3853c4",
       "version_major": 2,
       "version_minor": 0
      },
      "text/plain": [
       "HBox(children=(FloatProgress(value=0.0, max=115.0), HTML(value='')))"
      ]
     },
     "metadata": {},
     "output_type": "display_data"
    },
    {
     "name": "stdout",
     "output_type": "stream",
     "text": [
      "\n"
     ]
    },
    {
     "data": {
      "application/vnd.jupyter.widget-view+json": {
       "model_id": "82a04910e21b48eeb440c1af4dbfb049",
       "version_major": 2,
       "version_minor": 0
      },
      "text/plain": [
       "HBox(children=(FloatProgress(value=0.0, max=115.0), HTML(value='')))"
      ]
     },
     "metadata": {},
     "output_type": "display_data"
    },
    {
     "name": "stdout",
     "output_type": "stream",
     "text": [
      "\n"
     ]
    },
    {
     "data": {
      "application/vnd.jupyter.widget-view+json": {
       "model_id": "13cf210dd38048349d0d0c21cded1e22",
       "version_major": 2,
       "version_minor": 0
      },
      "text/plain": [
       "HBox(children=(FloatProgress(value=0.0, max=115.0), HTML(value='')))"
      ]
     },
     "metadata": {},
     "output_type": "display_data"
    },
    {
     "name": "stdout",
     "output_type": "stream",
     "text": [
      "\n"
     ]
    },
    {
     "data": {
      "application/vnd.jupyter.widget-view+json": {
       "model_id": "25df662ac75f458cb78747ad8f98760e",
       "version_major": 2,
       "version_minor": 0
      },
      "text/plain": [
       "HBox(children=(FloatProgress(value=0.0, max=115.0), HTML(value='')))"
      ]
     },
     "metadata": {},
     "output_type": "display_data"
    },
    {
     "name": "stdout",
     "output_type": "stream",
     "text": [
      "\n"
     ]
    },
    {
     "data": {
      "application/vnd.jupyter.widget-view+json": {
       "model_id": "bc8afc5b52994fc8a9de47ea456e1e4f",
       "version_major": 2,
       "version_minor": 0
      },
      "text/plain": [
       "HBox(children=(FloatProgress(value=0.0, max=115.0), HTML(value='')))"
      ]
     },
     "metadata": {},
     "output_type": "display_data"
    },
    {
     "name": "stdout",
     "output_type": "stream",
     "text": [
      "\n"
     ]
    },
    {
     "data": {
      "application/vnd.jupyter.widget-view+json": {
       "model_id": "f034f8cb425b4c4a94cc67b865838759",
       "version_major": 2,
       "version_minor": 0
      },
      "text/plain": [
       "HBox(children=(FloatProgress(value=0.0, max=115.0), HTML(value='')))"
      ]
     },
     "metadata": {},
     "output_type": "display_data"
    },
    {
     "name": "stdout",
     "output_type": "stream",
     "text": [
      "\n"
     ]
    },
    {
     "data": {
      "application/vnd.jupyter.widget-view+json": {
       "model_id": "f1556cedb1d14a4aaa54bb0e3378ec73",
       "version_major": 2,
       "version_minor": 0
      },
      "text/plain": [
       "HBox(children=(FloatProgress(value=0.0, max=115.0), HTML(value='')))"
      ]
     },
     "metadata": {},
     "output_type": "display_data"
    },
    {
     "name": "stdout",
     "output_type": "stream",
     "text": [
      "\n"
     ]
    },
    {
     "data": {
      "application/vnd.jupyter.widget-view+json": {
       "model_id": "843ed0dbb3a0436da36c827cfe82d574",
       "version_major": 2,
       "version_minor": 0
      },
      "text/plain": [
       "HBox(children=(FloatProgress(value=0.0, max=115.0), HTML(value='')))"
      ]
     },
     "metadata": {},
     "output_type": "display_data"
    },
    {
     "name": "stdout",
     "output_type": "stream",
     "text": [
      "\n"
     ]
    },
    {
     "data": {
      "application/vnd.jupyter.widget-view+json": {
       "model_id": "f3e0b65d07c14a7ba18cc3c2ba2d87fa",
       "version_major": 2,
       "version_minor": 0
      },
      "text/plain": [
       "HBox(children=(FloatProgress(value=0.0, max=115.0), HTML(value='')))"
      ]
     },
     "metadata": {},
     "output_type": "display_data"
    },
    {
     "name": "stdout",
     "output_type": "stream",
     "text": [
      "\n"
     ]
    },
    {
     "data": {
      "application/vnd.jupyter.widget-view+json": {
       "model_id": "026e4e31c0be47bfa05f3197b35910e1",
       "version_major": 2,
       "version_minor": 0
      },
      "text/plain": [
       "HBox(children=(FloatProgress(value=0.0, max=115.0), HTML(value='')))"
      ]
     },
     "metadata": {},
     "output_type": "display_data"
    },
    {
     "name": "stdout",
     "output_type": "stream",
     "text": [
      "\n"
     ]
    },
    {
     "data": {
      "application/vnd.jupyter.widget-view+json": {
       "model_id": "c576bd309c5c404096db8102f85a026e",
       "version_major": 2,
       "version_minor": 0
      },
      "text/plain": [
       "HBox(children=(FloatProgress(value=0.0, max=115.0), HTML(value='')))"
      ]
     },
     "metadata": {},
     "output_type": "display_data"
    },
    {
     "name": "stdout",
     "output_type": "stream",
     "text": [
      "\n"
     ]
    },
    {
     "data": {
      "application/vnd.jupyter.widget-view+json": {
       "model_id": "93add01baf0c4586944bc9d4f52f4446",
       "version_major": 2,
       "version_minor": 0
      },
      "text/plain": [
       "HBox(children=(FloatProgress(value=0.0, max=115.0), HTML(value='')))"
      ]
     },
     "metadata": {},
     "output_type": "display_data"
    },
    {
     "name": "stdout",
     "output_type": "stream",
     "text": [
      "\n"
     ]
    },
    {
     "data": {
      "application/vnd.jupyter.widget-view+json": {
       "model_id": "8ba81fa54f374cf1933742b3d15e5e1a",
       "version_major": 2,
       "version_minor": 0
      },
      "text/plain": [
       "HBox(children=(FloatProgress(value=0.0, max=115.0), HTML(value='')))"
      ]
     },
     "metadata": {},
     "output_type": "display_data"
    },
    {
     "name": "stdout",
     "output_type": "stream",
     "text": [
      "\n"
     ]
    },
    {
     "data": {
      "application/vnd.jupyter.widget-view+json": {
       "model_id": "9c69b7a9037d40e69b125031d4e0ff49",
       "version_major": 2,
       "version_minor": 0
      },
      "text/plain": [
       "HBox(children=(FloatProgress(value=0.0, max=115.0), HTML(value='')))"
      ]
     },
     "metadata": {},
     "output_type": "display_data"
    },
    {
     "name": "stdout",
     "output_type": "stream",
     "text": [
      "\n"
     ]
    },
    {
     "data": {
      "application/vnd.jupyter.widget-view+json": {
       "model_id": "69d37343b1a9454a88fb6a2479ca78e7",
       "version_major": 2,
       "version_minor": 0
      },
      "text/plain": [
       "HBox(children=(FloatProgress(value=0.0, max=115.0), HTML(value='')))"
      ]
     },
     "metadata": {},
     "output_type": "display_data"
    },
    {
     "name": "stdout",
     "output_type": "stream",
     "text": [
      "\n"
     ]
    },
    {
     "data": {
      "application/vnd.jupyter.widget-view+json": {
       "model_id": "653c736ececc4c208c69e74dd474c667",
       "version_major": 2,
       "version_minor": 0
      },
      "text/plain": [
       "HBox(children=(FloatProgress(value=0.0, max=115.0), HTML(value='')))"
      ]
     },
     "metadata": {},
     "output_type": "display_data"
    },
    {
     "name": "stdout",
     "output_type": "stream",
     "text": [
      "\n"
     ]
    },
    {
     "data": {
      "application/vnd.jupyter.widget-view+json": {
       "model_id": "e5a5dffaad694215ad067ec10e2bae0d",
       "version_major": 2,
       "version_minor": 0
      },
      "text/plain": [
       "HBox(children=(FloatProgress(value=0.0, max=115.0), HTML(value='')))"
      ]
     },
     "metadata": {},
     "output_type": "display_data"
    },
    {
     "name": "stdout",
     "output_type": "stream",
     "text": [
      "\n"
     ]
    },
    {
     "data": {
      "application/vnd.jupyter.widget-view+json": {
       "model_id": "d06d852b0e8d45ef962df31ca5162342",
       "version_major": 2,
       "version_minor": 0
      },
      "text/plain": [
       "HBox(children=(FloatProgress(value=0.0, max=115.0), HTML(value='')))"
      ]
     },
     "metadata": {},
     "output_type": "display_data"
    },
    {
     "name": "stdout",
     "output_type": "stream",
     "text": [
      "\n"
     ]
    },
    {
     "data": {
      "application/vnd.jupyter.widget-view+json": {
       "model_id": "59723b5345b341af85850bb34257b84f",
       "version_major": 2,
       "version_minor": 0
      },
      "text/plain": [
       "HBox(children=(FloatProgress(value=0.0, max=115.0), HTML(value='')))"
      ]
     },
     "metadata": {},
     "output_type": "display_data"
    },
    {
     "name": "stdout",
     "output_type": "stream",
     "text": [
      "\n"
     ]
    },
    {
     "data": {
      "application/vnd.jupyter.widget-view+json": {
       "model_id": "d15c5a07802a4d6a9c7c4325d169eb86",
       "version_major": 2,
       "version_minor": 0
      },
      "text/plain": [
       "HBox(children=(FloatProgress(value=0.0, max=115.0), HTML(value='')))"
      ]
     },
     "metadata": {},
     "output_type": "display_data"
    },
    {
     "name": "stdout",
     "output_type": "stream",
     "text": [
      "\n"
     ]
    },
    {
     "data": {
      "application/vnd.jupyter.widget-view+json": {
       "model_id": "2912fa94dd8d4a9bbcbbcbf368cded0e",
       "version_major": 2,
       "version_minor": 0
      },
      "text/plain": [
       "HBox(children=(FloatProgress(value=0.0, max=115.0), HTML(value='')))"
      ]
     },
     "metadata": {},
     "output_type": "display_data"
    },
    {
     "name": "stdout",
     "output_type": "stream",
     "text": [
      "\n"
     ]
    },
    {
     "data": {
      "application/vnd.jupyter.widget-view+json": {
       "model_id": "9016add4ae7a4a3fae7765b1d4232f4b",
       "version_major": 2,
       "version_minor": 0
      },
      "text/plain": [
       "HBox(children=(FloatProgress(value=0.0, max=115.0), HTML(value='')))"
      ]
     },
     "metadata": {},
     "output_type": "display_data"
    },
    {
     "name": "stdout",
     "output_type": "stream",
     "text": [
      "\n"
     ]
    },
    {
     "data": {
      "application/vnd.jupyter.widget-view+json": {
       "model_id": "eab0d5b8784248589804a2bf134a79ca",
       "version_major": 2,
       "version_minor": 0
      },
      "text/plain": [
       "HBox(children=(FloatProgress(value=0.0, max=115.0), HTML(value='')))"
      ]
     },
     "metadata": {},
     "output_type": "display_data"
    },
    {
     "name": "stdout",
     "output_type": "stream",
     "text": [
      "\n"
     ]
    },
    {
     "data": {
      "application/vnd.jupyter.widget-view+json": {
       "model_id": "912cc063d29e4ea9a2ff76ac84381f82",
       "version_major": 2,
       "version_minor": 0
      },
      "text/plain": [
       "HBox(children=(FloatProgress(value=0.0, max=115.0), HTML(value='')))"
      ]
     },
     "metadata": {},
     "output_type": "display_data"
    },
    {
     "name": "stdout",
     "output_type": "stream",
     "text": [
      "\n"
     ]
    },
    {
     "data": {
      "application/vnd.jupyter.widget-view+json": {
       "model_id": "0ba9a106b43c44eca6750567e276be98",
       "version_major": 2,
       "version_minor": 0
      },
      "text/plain": [
       "HBox(children=(FloatProgress(value=0.0, max=115.0), HTML(value='')))"
      ]
     },
     "metadata": {},
     "output_type": "display_data"
    },
    {
     "name": "stdout",
     "output_type": "stream",
     "text": [
      "\n"
     ]
    },
    {
     "data": {
      "application/vnd.jupyter.widget-view+json": {
       "model_id": "6d660ed98e5948bb8c425880f87ae9ef",
       "version_major": 2,
       "version_minor": 0
      },
      "text/plain": [
       "HBox(children=(FloatProgress(value=0.0, max=115.0), HTML(value='')))"
      ]
     },
     "metadata": {},
     "output_type": "display_data"
    },
    {
     "name": "stdout",
     "output_type": "stream",
     "text": [
      "\n"
     ]
    },
    {
     "data": {
      "application/vnd.jupyter.widget-view+json": {
       "model_id": "bf4f8a6168c9410e983e93a3296fd8e6",
       "version_major": 2,
       "version_minor": 0
      },
      "text/plain": [
       "HBox(children=(FloatProgress(value=0.0, max=115.0), HTML(value='')))"
      ]
     },
     "metadata": {},
     "output_type": "display_data"
    },
    {
     "name": "stdout",
     "output_type": "stream",
     "text": [
      "\n"
     ]
    },
    {
     "data": {
      "application/vnd.jupyter.widget-view+json": {
       "model_id": "1e8d44976f0f4cb1b79008d4c501224c",
       "version_major": 2,
       "version_minor": 0
      },
      "text/plain": [
       "HBox(children=(FloatProgress(value=0.0, max=115.0), HTML(value='')))"
      ]
     },
     "metadata": {},
     "output_type": "display_data"
    },
    {
     "name": "stdout",
     "output_type": "stream",
     "text": [
      "\n"
     ]
    },
    {
     "data": {
      "application/vnd.jupyter.widget-view+json": {
       "model_id": "24e35ef9928941fc9397a12a7537f7ae",
       "version_major": 2,
       "version_minor": 0
      },
      "text/plain": [
       "HBox(children=(FloatProgress(value=0.0, max=115.0), HTML(value='')))"
      ]
     },
     "metadata": {},
     "output_type": "display_data"
    },
    {
     "name": "stdout",
     "output_type": "stream",
     "text": [
      "\n"
     ]
    },
    {
     "data": {
      "application/vnd.jupyter.widget-view+json": {
       "model_id": "50a2ccafb5b24423b6e9fd27d37cdb4c",
       "version_major": 2,
       "version_minor": 0
      },
      "text/plain": [
       "HBox(children=(FloatProgress(value=0.0, max=115.0), HTML(value='')))"
      ]
     },
     "metadata": {},
     "output_type": "display_data"
    },
    {
     "name": "stdout",
     "output_type": "stream",
     "text": [
      "\n"
     ]
    },
    {
     "data": {
      "application/vnd.jupyter.widget-view+json": {
       "model_id": "8ddabd7379e84f2b8ac75bf98769c7f5",
       "version_major": 2,
       "version_minor": 0
      },
      "text/plain": [
       "HBox(children=(FloatProgress(value=0.0, max=115.0), HTML(value='')))"
      ]
     },
     "metadata": {},
     "output_type": "display_data"
    },
    {
     "name": "stdout",
     "output_type": "stream",
     "text": [
      "\n"
     ]
    },
    {
     "data": {
      "application/vnd.jupyter.widget-view+json": {
       "model_id": "46d309e41fd14fe6b7d51ef89ebbfeba",
       "version_major": 2,
       "version_minor": 0
      },
      "text/plain": [
       "HBox(children=(FloatProgress(value=0.0, max=115.0), HTML(value='')))"
      ]
     },
     "metadata": {},
     "output_type": "display_data"
    },
    {
     "name": "stdout",
     "output_type": "stream",
     "text": [
      "\n"
     ]
    },
    {
     "data": {
      "application/vnd.jupyter.widget-view+json": {
       "model_id": "064c6603bb084a9fad3d5942d385f4e9",
       "version_major": 2,
       "version_minor": 0
      },
      "text/plain": [
       "HBox(children=(FloatProgress(value=0.0, max=115.0), HTML(value='')))"
      ]
     },
     "metadata": {},
     "output_type": "display_data"
    },
    {
     "name": "stdout",
     "output_type": "stream",
     "text": [
      "\n"
     ]
    },
    {
     "data": {
      "application/vnd.jupyter.widget-view+json": {
       "model_id": "ea3501381e444901b52ce26c114391cf",
       "version_major": 2,
       "version_minor": 0
      },
      "text/plain": [
       "HBox(children=(FloatProgress(value=0.0, max=115.0), HTML(value='')))"
      ]
     },
     "metadata": {},
     "output_type": "display_data"
    },
    {
     "name": "stdout",
     "output_type": "stream",
     "text": [
      "\n"
     ]
    },
    {
     "data": {
      "application/vnd.jupyter.widget-view+json": {
       "model_id": "336e3da6264046869a9093199f1acf40",
       "version_major": 2,
       "version_minor": 0
      },
      "text/plain": [
       "HBox(children=(FloatProgress(value=0.0, max=115.0), HTML(value='')))"
      ]
     },
     "metadata": {},
     "output_type": "display_data"
    }
   ],
   "source": [
    "\n",
    "lst_total_data=[]\n",
    "lst_time_data = []\n",
    "lst_done=[]\n",
    "\n",
    "\n",
    "j=0\n",
    "# for j in tqdm(range(1)):\n",
    "for j in tqdm(range(len(lst_from))):\n",
    "\n",
    "    i=0\n",
    "#     for i in tqdm(range(2)):\n",
    "    for i in tqdm(range(len(lst_to))):\n",
    "\n",
    "        reg_id_from, reg_id_to = lst_from[i], lst_to[j]\n",
    "        if ((reg_id_from == 532) | (reg_id_to == 532)):\n",
    "            var_foo = 2\n",
    "        else:\n",
    "            var_foo = 1\n",
    "        #\n",
    "        dnpr = str(reg_id_from) + \"_\" + str(reg_id_to)\n",
    "        if dnpr not in lst_done:\n",
    "            lst_done.append(dnpr)\n",
    "            if (reg_id_from != reg_id_to):\n",
    "\n",
    "                one_reg_pt = gdf_pts_select[gdf_pts_select.reg_id \n",
    "                                            == reg_id_from].reset_index(drop=True).geometry[0]\n",
    "                two_reg_pt = gdf_pts_select[gdf_pts_select.reg_id \n",
    "                                            == reg_id_to].reset_index(drop=True).geometry[0]\n",
    "                try:\n",
    "                    lst_dist_time_mt = get_mt_rt_time(one_reg_pt, two_reg_pt, reg_id_from, reg_id_to, var_foo)\n",
    "                    lst_total_data = lst_total_data + lst_one_data\n",
    "                    lst_time_data.append([reg_id_from, reg_id_to] + lst_dist_time_mt)\n",
    "                except:\n",
    "                    time.sleep(30)\n",
    "                    try:\n",
    "                        lst_dist_time_mt = get_mt_rt_time(one_reg_pt, two_reg_pt, reg_id_from, reg_id_to, var_foo)\n",
    "                        lst_total_data = lst_total_data + lst_one_data\n",
    "                        lst_time_data.append([reg_id_from, reg_id_to] + lst_dist_time_mt)\n",
    "                    except:\n",
    "                        print(reg_id_from,reg_id_to)\n",
    "                        pass\n",
    "                try:\n",
    "                    lst_dist_time_mt2 = get_mt_rt_time(two_reg_pt, one_reg_pt, reg_id_to, reg_id_from, var_foo)\n",
    "                    lst_total_data = lst_total_data + lst_one_data2\n",
    "                    lst_time_data.append([reg_id_to, reg_id_from] + lst_dist_time_mt2)\n",
    "                except:\n",
    "                    time.sleep(30)\n",
    "                    try:\n",
    "                        lst_dist_time_mt2 = get_mt_rt_time(two_reg_pt, one_reg_pt, reg_id_to, reg_id_from, var_foo)\n",
    "                        lst_total_data = lst_total_data + lst_one_data2\n",
    "                        lst_time_data.append([reg_id_to, reg_id_from] + lst_dist_time_mt2)\n",
    "                    except:\n",
    "                        print(reg_id_to, reg_id_from)\n",
    "                        pass\n",
    "\n",
    "        #\n",
    "#"
   ]
  },
  {
   "cell_type": "code",
   "execution_count": null,
   "metadata": {},
   "outputs": [],
   "source": []
  },
  {
   "cell_type": "code",
   "execution_count": null,
   "metadata": {},
   "outputs": [],
   "source": []
  },
  {
   "cell_type": "code",
   "execution_count": 158,
   "metadata": {
    "scrolled": true
   },
   "outputs": [],
   "source": [
    "# clmns=['id_reg_from', 'id_reg_to', 'seq_in_rt', 'line_id', \n",
    "#        'tp_ts', 'name', 'distance']\n",
    "# df_rt = pd.DataFrame(lst_total_data, columns = clmns)"
   ]
  },
  {
   "cell_type": "code",
   "execution_count": 80,
   "metadata": {},
   "outputs": [],
   "source": [
    "# df_rt.to_csv('./res/df_rt_mt_532.csv', sep=';', encoding='utf-8-sig', index=False)"
   ]
  },
  {
   "cell_type": "code",
   "execution_count": null,
   "metadata": {},
   "outputs": [],
   "source": []
  },
  {
   "cell_type": "code",
   "execution_count": null,
   "metadata": {},
   "outputs": [],
   "source": [
    "clmns2 = ['id_reg_from', 'id_reg_to','distnc', 'time_pubtr2', 'tm_trfc']\n",
    "df_time = pd.DataFrame(lst_time_data, columns=clmns2)"
   ]
  },
  {
   "cell_type": "code",
   "execution_count": null,
   "metadata": {},
   "outputs": [],
   "source": [
    "df_time.to_csv('./res/df_rt_time_clear.csv', sep=';', encoding='utf-8-sig', index=False)"
   ]
  },
  {
   "cell_type": "code",
   "execution_count": null,
   "metadata": {},
   "outputs": [],
   "source": [
    "df_time"
   ]
  },
  {
   "cell_type": "code",
   "execution_count": null,
   "metadata": {},
   "outputs": [],
   "source": []
  },
  {
   "cell_type": "code",
   "execution_count": null,
   "metadata": {},
   "outputs": [],
   "source": []
  },
  {
   "cell_type": "code",
   "execution_count": 110,
   "metadata": {},
   "outputs": [],
   "source": [
    "gdf_rt_shorter_all = gpd.read_file('../data/res/big_ok/gdf_rt_shorter_all.json',\n",
    "                        encoding='utf-8')"
   ]
  },
  {
   "cell_type": "code",
   "execution_count": 97,
   "metadata": {},
   "outputs": [],
   "source": [
    "df_time = df_time.drop_duplicates(subset=['id_reg_from', 'id_reg_to']).reset_index(drop=True)"
   ]
  },
  {
   "cell_type": "code",
   "execution_count": null,
   "metadata": {},
   "outputs": [],
   "source": []
  },
  {
   "cell_type": "code",
   "execution_count": 112,
   "metadata": {},
   "outputs": [
    {
     "data": {
      "text/plain": [
       "13110"
      ]
     },
     "execution_count": 112,
     "metadata": {},
     "output_type": "execute_result"
    }
   ],
   "source": [
    "len(gdf_rt_shorter_all)"
   ]
  },
  {
   "cell_type": "code",
   "execution_count": null,
   "metadata": {},
   "outputs": [],
   "source": []
  },
  {
   "cell_type": "code",
   "execution_count": 113,
   "metadata": {
    "scrolled": true
   },
   "outputs": [],
   "source": [
    "gdf_rt_shorter_all4 = gdf_rt_shorter_all.merge(df_time[['id_reg_from', 'id_reg_to', 'time_pubtr2']], \n",
    "                                how='left', \n",
    "                                on = ['id_reg_from', 'id_reg_to'])"
   ]
  },
  {
   "cell_type": "code",
   "execution_count": 114,
   "metadata": {},
   "outputs": [],
   "source": [
    "gdf_rt_shorter_all4.time_pubtr = gdf_rt_shorter_all4.time_pubtr.fillna(gdf_rt_shorter_all4.time_pubtr2)"
   ]
  },
  {
   "cell_type": "code",
   "execution_count": 115,
   "metadata": {},
   "outputs": [],
   "source": [
    "del gdf_rt_shorter_all4['time_pubtr2']"
   ]
  },
  {
   "cell_type": "code",
   "execution_count": 117,
   "metadata": {},
   "outputs": [],
   "source": [
    "gdf_rt_shorter_all4.to_file('../data/res/big_ok/matrice_len_time.json', encoding='utf-8')"
   ]
  },
  {
   "cell_type": "code",
   "execution_count": null,
   "metadata": {},
   "outputs": [],
   "source": []
  },
  {
   "cell_type": "code",
   "execution_count": 116,
   "metadata": {},
   "outputs": [],
   "source": [
    "ntgeo_gdf_rt_all4 = gdf_rt_shorter_all4.copy()\n",
    "del ntgeo_gdf_rt_all4['geometry']\n",
    "ntgeo_gdf_rt_all4.to_csv('../data/res/big_ok/matrice_len_time_csv.csv', \n",
    "               sep=';', encoding='utf-8-sig', index=False)"
   ]
  },
  {
   "cell_type": "code",
   "execution_count": null,
   "metadata": {},
   "outputs": [],
   "source": []
  },
  {
   "cell_type": "code",
   "execution_count": null,
   "metadata": {},
   "outputs": [],
   "source": []
  },
  {
   "cell_type": "code",
   "execution_count": null,
   "metadata": {},
   "outputs": [],
   "source": []
  }
 ],
 "metadata": {
  "kernelspec": {
   "display_name": "Python 3",
   "language": "python",
   "name": "python3"
  },
  "language_info": {
   "codemirror_mode": {
    "name": "ipython",
    "version": 3
   },
   "file_extension": ".py",
   "mimetype": "text/x-python",
   "name": "python",
   "nbconvert_exporter": "python",
   "pygments_lexer": "ipython3",
   "version": "3.7.6"
  }
 },
 "nbformat": 4,
 "nbformat_minor": 4
}
