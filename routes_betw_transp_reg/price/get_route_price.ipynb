{
 "cells": [
  {
   "cell_type": "code",
   "execution_count": 1,
   "metadata": {},
   "outputs": [],
   "source": [
    "import numpy as np\n",
    "import pandas as pd\n",
    "import geopandas as gpd"
   ]
  },
  {
   "cell_type": "code",
   "execution_count": null,
   "metadata": {},
   "outputs": [],
   "source": []
  },
  {
   "cell_type": "code",
   "execution_count": 27,
   "metadata": {},
   "outputs": [],
   "source": [
    "df_length = pd.read_csv('yandex_sti_w_price.csv', sep=';', encoding='utf-8')"
   ]
  },
  {
   "cell_type": "code",
   "execution_count": 30,
   "metadata": {},
   "outputs": [
    {
     "data": {
      "text/html": [
       "<div>\n",
       "<style scoped>\n",
       "    .dataframe tbody tr th:only-of-type {\n",
       "        vertical-align: middle;\n",
       "    }\n",
       "\n",
       "    .dataframe tbody tr th {\n",
       "        vertical-align: top;\n",
       "    }\n",
       "\n",
       "    .dataframe thead th {\n",
       "        text-align: right;\n",
       "    }\n",
       "</style>\n",
       "<table border=\"1\" class=\"dataframe\">\n",
       "  <thead>\n",
       "    <tr style=\"text-align: right;\">\n",
       "      <th></th>\n",
       "      <th>line_id</th>\n",
       "      <th>route_number</th>\n",
       "      <th>type_ts</th>\n",
       "      <th>route_long_name</th>\n",
       "      <th>реестр_номер</th>\n",
       "      <th>реестр_имя</th>\n",
       "      <th>тип_тс</th>\n",
       "      <th>city</th>\n",
       "      <th>length</th>\n",
       "      <th>price</th>\n",
       "      <th>region</th>\n",
       "    </tr>\n",
       "  </thead>\n",
       "  <tbody>\n",
       "    <tr>\n",
       "      <th>0</th>\n",
       "      <td>1704841444</td>\n",
       "      <td>1</td>\n",
       "      <td>bus</td>\n",
       "      <td>72-й квартал_Станция Новокуйбышевская</td>\n",
       "      <td>1</td>\n",
       "      <td>72-й квартал - Станция Новокуйбышевская</td>\n",
       "      <td>автобус</td>\n",
       "      <td>Новокуйбышевск</td>\n",
       "      <td>10.53</td>\n",
       "      <td>25</td>\n",
       "      <td>муниципальный</td>\n",
       "    </tr>\n",
       "    <tr>\n",
       "      <th>1</th>\n",
       "      <td>3245401927</td>\n",
       "      <td>1</td>\n",
       "      <td>bus</td>\n",
       "      <td>Автостанция Нефтегорск_Дмитриевка</td>\n",
       "      <td>1</td>\n",
       "      <td>г. Нефтегорск - с. Дмитриевка</td>\n",
       "      <td>автобус</td>\n",
       "      <td>Нефтегорский район</td>\n",
       "      <td>57.17</td>\n",
       "      <td>-</td>\n",
       "      <td>муниципальный</td>\n",
       "    </tr>\n",
       "    <tr>\n",
       "      <th>2</th>\n",
       "      <td>1704841008</td>\n",
       "      <td>1</td>\n",
       "      <td>bus</td>\n",
       "      <td>Автостанция_Автостанция</td>\n",
       "      <td>None</td>\n",
       "      <td>None</td>\n",
       "      <td>NaN</td>\n",
       "      <td>Похвистнево</td>\n",
       "      <td>19.89</td>\n",
       "      <td>-</td>\n",
       "      <td>муниципальный</td>\n",
       "    </tr>\n",
       "  </tbody>\n",
       "</table>\n",
       "</div>"
      ],
      "text/plain": [
       "      line_id route_number type_ts                        route_long_name  \\\n",
       "0  1704841444            1     bus  72-й квартал_Станция Новокуйбышевская   \n",
       "1  3245401927            1     bus      Автостанция Нефтегорск_Дмитриевка   \n",
       "2  1704841008            1     bus                Автостанция_Автостанция   \n",
       "\n",
       "  реестр_номер                               реестр_имя   тип_тс  \\\n",
       "0            1  72-й квартал - Станция Новокуйбышевская  автобус   \n",
       "1            1            г. Нефтегорск - с. Дмитриевка  автобус   \n",
       "2         None                                     None      NaN   \n",
       "\n",
       "                 city  length price         region  \n",
       "0      Новокуйбышевск   10.53    25  муниципальный  \n",
       "1  Нефтегорский район   57.17     -  муниципальный  \n",
       "2         Похвистнево   19.89     -  муниципальный  "
      ]
     },
     "execution_count": 30,
     "metadata": {},
     "output_type": "execute_result"
    }
   ],
   "source": [
    "df_length.head(3)"
   ]
  },
  {
   "cell_type": "code",
   "execution_count": 31,
   "metadata": {},
   "outputs": [],
   "source": [
    "np_dfl = df_length.to_numpy()\n",
    "ind_tp = list(df_length.columns).index('type_ts')\n",
    "ind_reg = list(df_length.columns).index('region')\n",
    "ind_len = list(df_length.columns).index('length')\n",
    "ind_prc = list(df_length.columns).index('price')\n",
    "ind_ld = list(df_length.columns).index('line_id')"
   ]
  },
  {
   "cell_type": "code",
   "execution_count": 47,
   "metadata": {},
   "outputs": [],
   "source": []
  },
  {
   "cell_type": "code",
   "execution_count": 61,
   "metadata": {},
   "outputs": [
    {
     "data": {
      "application/vnd.jupyter.widget-view+json": {
       "model_id": "4095959b5ec040beabf027a841922575",
       "version_major": 2,
       "version_minor": 0
      },
      "text/plain": [
       "HBox(children=(FloatProgress(value=0.0, max=758.0), HTML(value='')))"
      ]
     },
     "metadata": {},
     "output_type": "display_data"
    },
    {
     "name": "stdout",
     "output_type": "stream",
     "text": [
      "\n"
     ]
    }
   ],
   "source": [
    "lst_min = []\n",
    "lst_max = []\n",
    "lst_prc_km = []\n",
    "i=0\n",
    "for i in tqdm(range(len(np_dfl))):\n",
    "    tp_ts = np_dfl[i, ind_tp]\n",
    "    reg = np_dfl[i, ind_reg]\n",
    "    lngth = np_dfl[i, ind_len]\n",
    "    lineid = np_dfl[i, ind_ld]\n",
    "    \n",
    "    try:\n",
    "        prc_ttl = int(np_dfl[i, ind_prc])\n",
    "    except:\n",
    "        prc_ttl = np_dfl[i, ind_prc]    \n",
    "    if tp_ts == 'water':\n",
    "        mn_min = prc_ttl\n",
    "        mn_max = prc_ttl\n",
    "        prc_km = round(int(prc_ttl) / lngth, 1)\n",
    "    elif tp_ts == 'suburban':\n",
    "        mn_min = 80\n",
    "        mn_max = prc_ttl\n",
    "        prc_km = 2\n",
    "    else:\n",
    "        if 'муницип' in reg:\n",
    "            if prc_ttl == '-':\n",
    "                prc_ttl = 29\n",
    "            mn_min = prc_ttl\n",
    "            mn_max = prc_ttl\n",
    "            prc_km = round(int(prc_ttl) / lngth, 1)\n",
    "        else:\n",
    "            if prc_ttl == '-':\n",
    "                    prc_ttl = round(lngth * 3, 1)\n",
    "            if prc_ttl < 60:\n",
    "                mn_min = prc_ttl\n",
    "                mn_max = 60\n",
    "                prc_km = 3             \n",
    "            else:\n",
    "                mn_min = 60\n",
    "                mn_max = round(lngth * 3, 1)\n",
    "                prc_km = 3\n",
    "    #\n",
    "    lst_prc_km.append([lineid, mn_min, mn_max, prc_km])\n",
    "# "
   ]
  },
  {
   "cell_type": "code",
   "execution_count": null,
   "metadata": {},
   "outputs": [],
   "source": []
  },
  {
   "cell_type": "code",
   "execution_count": null,
   "metadata": {},
   "outputs": [],
   "source": []
  },
  {
   "cell_type": "code",
   "execution_count": 62,
   "metadata": {},
   "outputs": [],
   "source": [
    "df_total_price = pd.DataFrame(lst_prc_km, columns=['line_id', \n",
    "                                                   'min_price', 'max_price', 'rub_km'])"
   ]
  },
  {
   "cell_type": "code",
   "execution_count": null,
   "metadata": {},
   "outputs": [],
   "source": []
  },
  {
   "cell_type": "code",
   "execution_count": 63,
   "metadata": {},
   "outputs": [
    {
     "data": {
      "text/html": [
       "<div>\n",
       "<style scoped>\n",
       "    .dataframe tbody tr th:only-of-type {\n",
       "        vertical-align: middle;\n",
       "    }\n",
       "\n",
       "    .dataframe tbody tr th {\n",
       "        vertical-align: top;\n",
       "    }\n",
       "\n",
       "    .dataframe thead th {\n",
       "        text-align: right;\n",
       "    }\n",
       "</style>\n",
       "<table border=\"1\" class=\"dataframe\">\n",
       "  <thead>\n",
       "    <tr style=\"text-align: right;\">\n",
       "      <th></th>\n",
       "      <th>line_id</th>\n",
       "      <th>min_price</th>\n",
       "      <th>max_price</th>\n",
       "      <th>rub_km</th>\n",
       "    </tr>\n",
       "  </thead>\n",
       "  <tbody>\n",
       "    <tr>\n",
       "      <th>0</th>\n",
       "      <td>1704841444</td>\n",
       "      <td>25.0</td>\n",
       "      <td>25.0</td>\n",
       "      <td>2.4</td>\n",
       "    </tr>\n",
       "    <tr>\n",
       "      <th>1</th>\n",
       "      <td>3245401927</td>\n",
       "      <td>29.0</td>\n",
       "      <td>29.0</td>\n",
       "      <td>0.5</td>\n",
       "    </tr>\n",
       "  </tbody>\n",
       "</table>\n",
       "</div>"
      ],
      "text/plain": [
       "      line_id  min_price  max_price  rub_km\n",
       "0  1704841444       25.0       25.0     2.4\n",
       "1  3245401927       29.0       29.0     0.5"
      ]
     },
     "execution_count": 63,
     "metadata": {},
     "output_type": "execute_result"
    }
   ],
   "source": [
    "df_total_price.head(2)"
   ]
  },
  {
   "cell_type": "code",
   "execution_count": null,
   "metadata": {},
   "outputs": [],
   "source": []
  },
  {
   "cell_type": "code",
   "execution_count": 64,
   "metadata": {},
   "outputs": [],
   "source": [
    "df_total_price.to_csv('df_total_price.csv', sep=';', encoding='utf-8-sig', index=False)"
   ]
  },
  {
   "cell_type": "code",
   "execution_count": null,
   "metadata": {},
   "outputs": [],
   "source": []
  },
  {
   "cell_type": "code",
   "execution_count": null,
   "metadata": {},
   "outputs": [],
   "source": []
  }
 ],
 "metadata": {
  "kernelspec": {
   "display_name": "Python 3",
   "language": "python",
   "name": "python3"
  },
  "language_info": {
   "codemirror_mode": {
    "name": "ipython",
    "version": 3
   },
   "file_extension": ".py",
   "mimetype": "text/x-python",
   "name": "python",
   "nbconvert_exporter": "python",
   "pygments_lexer": "ipython3",
   "version": "3.7.6"
  }
 },
 "nbformat": 4,
 "nbformat_minor": 4
}
