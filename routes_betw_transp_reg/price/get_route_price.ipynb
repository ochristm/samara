{
 "cells": [
  {
   "cell_type": "code",
   "execution_count": 1,
   "metadata": {},
   "outputs": [],
   "source": [
    "import numpy as np\n",
    "import pandas as pd\n",
    "import geopandas as gpd\n",
    "from tqdm.notebook import tqdm"
   ]
  },
  {
   "cell_type": "code",
   "execution_count": null,
   "metadata": {},
   "outputs": [],
   "source": []
  },
  {
   "cell_type": "code",
   "execution_count": 2,
   "metadata": {},
   "outputs": [],
   "source": [
    "# дата, когда был выгружен файл с последовательностью ТС\n",
    "str_date = '20200825_1508'"
   ]
  },
  {
   "cell_type": "code",
   "execution_count": 3,
   "metadata": {},
   "outputs": [],
   "source": [
    "# чтение файла с последовательностью ТС на маршруте (на каких автобусах доехать от А до В)\n",
    "df_rt_mt_all = pd.read_csv('../new_mt_time/res/df_rt_seq_{}.csv'.format(str_date), sep=';', \n",
    "                           encoding='utf-8')"
   ]
  },
  {
   "cell_type": "code",
   "execution_count": null,
   "metadata": {},
   "outputs": [],
   "source": []
  },
  {
   "cell_type": "code",
   "execution_count": 4,
   "metadata": {
    "scrolled": true
   },
   "outputs": [],
   "source": [
    "# чтение данных с длиной маршрута, типом (внутри или вне города), данные из Яндекса и СТИ\n",
    "df_length = pd.read_csv('./data/yandex_sti_w_price.csv', sep=';', encoding='utf-8')"
   ]
  },
  {
   "cell_type": "code",
   "execution_count": 5,
   "metadata": {},
   "outputs": [
    {
     "data": {
      "text/html": [
       "<div>\n",
       "<style scoped>\n",
       "    .dataframe tbody tr th:only-of-type {\n",
       "        vertical-align: middle;\n",
       "    }\n",
       "\n",
       "    .dataframe tbody tr th {\n",
       "        vertical-align: top;\n",
       "    }\n",
       "\n",
       "    .dataframe thead th {\n",
       "        text-align: right;\n",
       "    }\n",
       "</style>\n",
       "<table border=\"1\" class=\"dataframe\">\n",
       "  <thead>\n",
       "    <tr style=\"text-align: right;\">\n",
       "      <th></th>\n",
       "      <th>line_id</th>\n",
       "      <th>route_number</th>\n",
       "      <th>type_ts</th>\n",
       "      <th>route_long_name</th>\n",
       "      <th>реестр_номер</th>\n",
       "      <th>реестр_имя</th>\n",
       "      <th>тип_тс</th>\n",
       "      <th>city</th>\n",
       "      <th>length</th>\n",
       "      <th>price</th>\n",
       "      <th>region</th>\n",
       "    </tr>\n",
       "  </thead>\n",
       "  <tbody>\n",
       "    <tr>\n",
       "      <th>0</th>\n",
       "      <td>1704841444</td>\n",
       "      <td>1</td>\n",
       "      <td>bus</td>\n",
       "      <td>72-й квартал_Станция Новокуйбышевская</td>\n",
       "      <td>1</td>\n",
       "      <td>72-й квартал - Станция Новокуйбышевская</td>\n",
       "      <td>автобус</td>\n",
       "      <td>Новокуйбышевск</td>\n",
       "      <td>10.53</td>\n",
       "      <td>25</td>\n",
       "      <td>муниципальный</td>\n",
       "    </tr>\n",
       "    <tr>\n",
       "      <th>1</th>\n",
       "      <td>3245401927</td>\n",
       "      <td>1</td>\n",
       "      <td>bus</td>\n",
       "      <td>Автостанция Нефтегорск_Дмитриевка</td>\n",
       "      <td>1</td>\n",
       "      <td>г. Нефтегорск - с. Дмитриевка</td>\n",
       "      <td>автобус</td>\n",
       "      <td>Нефтегорский район</td>\n",
       "      <td>57.17</td>\n",
       "      <td>-</td>\n",
       "      <td>муниципальный</td>\n",
       "    </tr>\n",
       "    <tr>\n",
       "      <th>2</th>\n",
       "      <td>1704841008</td>\n",
       "      <td>1</td>\n",
       "      <td>bus</td>\n",
       "      <td>Автостанция_Автостанция</td>\n",
       "      <td>None</td>\n",
       "      <td>None</td>\n",
       "      <td>NaN</td>\n",
       "      <td>Похвистнево</td>\n",
       "      <td>19.89</td>\n",
       "      <td>-</td>\n",
       "      <td>муниципальный</td>\n",
       "    </tr>\n",
       "  </tbody>\n",
       "</table>\n",
       "</div>"
      ],
      "text/plain": [
       "      line_id route_number type_ts                        route_long_name  \\\n",
       "0  1704841444            1     bus  72-й квартал_Станция Новокуйбышевская   \n",
       "1  3245401927            1     bus      Автостанция Нефтегорск_Дмитриевка   \n",
       "2  1704841008            1     bus                Автостанция_Автостанция   \n",
       "\n",
       "  реестр_номер                               реестр_имя   тип_тс  \\\n",
       "0            1  72-й квартал - Станция Новокуйбышевская  автобус   \n",
       "1            1            г. Нефтегорск - с. Дмитриевка  автобус   \n",
       "2         None                                     None      NaN   \n",
       "\n",
       "                 city  length price         region  \n",
       "0      Новокуйбышевск   10.53    25  муниципальный  \n",
       "1  Нефтегорский район   57.17     -  муниципальный  \n",
       "2         Похвистнево   19.89     -  муниципальный  "
      ]
     },
     "execution_count": 5,
     "metadata": {},
     "output_type": "execute_result"
    }
   ],
   "source": [
    "df_length.head(3)"
   ]
  },
  {
   "cell_type": "code",
   "execution_count": null,
   "metadata": {},
   "outputs": [],
   "source": []
  },
  {
   "cell_type": "code",
   "execution_count": 6,
   "metadata": {},
   "outputs": [],
   "source": [
    "np_dfl = df_length.to_numpy()\n",
    "ind_tp = list(df_length.columns).index('type_ts')\n",
    "ind_reg = list(df_length.columns).index('region')\n",
    "ind_len = list(df_length.columns).index('length')\n",
    "ind_prc = list(df_length.columns).index('price')\n",
    "ind_ld = list(df_length.columns).index('line_id')"
   ]
  },
  {
   "cell_type": "code",
   "execution_count": null,
   "metadata": {},
   "outputs": [],
   "source": []
  },
  {
   "cell_type": "code",
   "execution_count": 7,
   "metadata": {},
   "outputs": [
    {
     "data": {
      "application/vnd.jupyter.widget-view+json": {
       "model_id": "0a12dce7ae344583902c877baa749090",
       "version_major": 2,
       "version_minor": 0
      },
      "text/plain": [
       "HBox(children=(FloatProgress(value=0.0, max=758.0), HTML(value='')))"
      ]
     },
     "metadata": {},
     "output_type": "display_data"
    },
    {
     "name": "stdout",
     "output_type": "stream",
     "text": [
      "\n"
     ]
    }
   ],
   "source": [
    "# подсчет стоимости минимальной, максимальной и руб/км\n",
    "\n",
    "lst_min = []\n",
    "lst_max = []\n",
    "lst_prc_km = []\n",
    "i=0\n",
    "for i in tqdm(range(len(np_dfl))):\n",
    "    tp_ts = np_dfl[i, ind_tp]\n",
    "    reg = np_dfl[i, ind_reg]\n",
    "    lngth = np_dfl[i, ind_len]\n",
    "    lineid = np_dfl[i, ind_ld]\n",
    "    \n",
    "    try:\n",
    "        prc_ttl = int(np_dfl[i, ind_prc])\n",
    "    except:\n",
    "        prc_ttl = np_dfl[i, ind_prc]    \n",
    "    if tp_ts == 'water':\n",
    "        mn_min = prc_ttl\n",
    "        mn_max = prc_ttl\n",
    "        prc_km = round(int(prc_ttl) / lngth, 1)\n",
    "    elif tp_ts == 'suburban':\n",
    "        mn_min = 80\n",
    "        mn_max = prc_ttl\n",
    "        prc_km = 2\n",
    "    else:\n",
    "        if 'муницип' in reg:\n",
    "            if prc_ttl == '-':\n",
    "                prc_ttl = 29\n",
    "            mn_min = prc_ttl\n",
    "            mn_max = prc_ttl\n",
    "            prc_km = round(int(prc_ttl) / lngth, 1)\n",
    "        else:\n",
    "            if prc_ttl == '-':\n",
    "                    prc_ttl = round(lngth * 3, 1)\n",
    "            if prc_ttl < 60:\n",
    "                mn_min = prc_ttl\n",
    "                mn_max = 60\n",
    "                prc_km = 3             \n",
    "            else:\n",
    "                mn_min = 60\n",
    "                mn_max = round(lngth * 3, 1)\n",
    "                prc_km = 3\n",
    "    #\n",
    "    lst_prc_km.append([lineid, mn_min, mn_max, prc_km])\n",
    "# "
   ]
  },
  {
   "cell_type": "code",
   "execution_count": null,
   "metadata": {},
   "outputs": [],
   "source": []
  },
  {
   "cell_type": "code",
   "execution_count": null,
   "metadata": {},
   "outputs": [],
   "source": []
  },
  {
   "cell_type": "code",
   "execution_count": 8,
   "metadata": {},
   "outputs": [],
   "source": [
    "df_total_price = pd.DataFrame(lst_prc_km, columns=['line_id', \n",
    "                                                   'min_price', 'max_price', 'rub_km'])"
   ]
  },
  {
   "cell_type": "code",
   "execution_count": null,
   "metadata": {},
   "outputs": [],
   "source": []
  },
  {
   "cell_type": "code",
   "execution_count": 154,
   "metadata": {},
   "outputs": [],
   "source": [
    "# df_total_price.to_csv('df_total_price.csv', sep=';', encoding='utf-8-sig', index=False)"
   ]
  },
  {
   "cell_type": "code",
   "execution_count": 155,
   "metadata": {},
   "outputs": [],
   "source": [
    "# df_total_price = pd.read_csv('./res/df_total_price.csv', sep=';', encoding='utf-8')"
   ]
  },
  {
   "cell_type": "code",
   "execution_count": 9,
   "metadata": {},
   "outputs": [
    {
     "data": {
      "text/html": [
       "<div>\n",
       "<style scoped>\n",
       "    .dataframe tbody tr th:only-of-type {\n",
       "        vertical-align: middle;\n",
       "    }\n",
       "\n",
       "    .dataframe tbody tr th {\n",
       "        vertical-align: top;\n",
       "    }\n",
       "\n",
       "    .dataframe thead th {\n",
       "        text-align: right;\n",
       "    }\n",
       "</style>\n",
       "<table border=\"1\" class=\"dataframe\">\n",
       "  <thead>\n",
       "    <tr style=\"text-align: right;\">\n",
       "      <th></th>\n",
       "      <th>line_id</th>\n",
       "      <th>min_price</th>\n",
       "      <th>max_price</th>\n",
       "      <th>rub_km</th>\n",
       "    </tr>\n",
       "  </thead>\n",
       "  <tbody>\n",
       "    <tr>\n",
       "      <th>0</th>\n",
       "      <td>1704841444</td>\n",
       "      <td>25.0</td>\n",
       "      <td>25.0</td>\n",
       "      <td>2.4</td>\n",
       "    </tr>\n",
       "    <tr>\n",
       "      <th>1</th>\n",
       "      <td>3245401927</td>\n",
       "      <td>29.0</td>\n",
       "      <td>29.0</td>\n",
       "      <td>0.5</td>\n",
       "    </tr>\n",
       "  </tbody>\n",
       "</table>\n",
       "</div>"
      ],
      "text/plain": [
       "      line_id  min_price  max_price  rub_km\n",
       "0  1704841444       25.0       25.0     2.4\n",
       "1  3245401927       29.0       29.0     0.5"
      ]
     },
     "execution_count": 9,
     "metadata": {},
     "output_type": "execute_result"
    }
   ],
   "source": [
    "df_total_price.head(2)"
   ]
  },
  {
   "cell_type": "code",
   "execution_count": null,
   "metadata": {},
   "outputs": [],
   "source": []
  },
  {
   "cell_type": "code",
   "execution_count": null,
   "metadata": {},
   "outputs": [],
   "source": []
  },
  {
   "cell_type": "code",
   "execution_count": 10,
   "metadata": {},
   "outputs": [],
   "source": [
    "df_total_price = df_total_price.merge(df_length[['line_id', 'type_ts', 'region']], \n",
    "                                      how='left', on=['line_id'])\n",
    "# "
   ]
  },
  {
   "cell_type": "code",
   "execution_count": null,
   "metadata": {},
   "outputs": [],
   "source": []
  },
  {
   "cell_type": "code",
   "execution_count": null,
   "metadata": {},
   "outputs": [],
   "source": []
  },
  {
   "cell_type": "code",
   "execution_count": null,
   "metadata": {},
   "outputs": [],
   "source": []
  },
  {
   "cell_type": "code",
   "execution_count": 11,
   "metadata": {},
   "outputs": [
    {
     "data": {
      "text/html": [
       "<div>\n",
       "<style scoped>\n",
       "    .dataframe tbody tr th:only-of-type {\n",
       "        vertical-align: middle;\n",
       "    }\n",
       "\n",
       "    .dataframe tbody tr th {\n",
       "        vertical-align: top;\n",
       "    }\n",
       "\n",
       "    .dataframe thead th {\n",
       "        text-align: right;\n",
       "    }\n",
       "</style>\n",
       "<table border=\"1\" class=\"dataframe\">\n",
       "  <thead>\n",
       "    <tr style=\"text-align: right;\">\n",
       "      <th></th>\n",
       "      <th>id_reg_from</th>\n",
       "      <th>id_reg_to</th>\n",
       "      <th>seq_in_rt</th>\n",
       "      <th>line_id</th>\n",
       "      <th>tp_ts</th>\n",
       "      <th>name</th>\n",
       "      <th>distance</th>\n",
       "    </tr>\n",
       "  </thead>\n",
       "  <tbody>\n",
       "    <tr>\n",
       "      <th>0</th>\n",
       "      <td>2</td>\n",
       "      <td>1</td>\n",
       "      <td>1</td>\n",
       "      <td>2193179089</td>\n",
       "      <td>bus</td>\n",
       "      <td>30</td>\n",
       "      <td>1.38</td>\n",
       "    </tr>\n",
       "    <tr>\n",
       "      <th>1</th>\n",
       "      <td>2</td>\n",
       "      <td>1</td>\n",
       "      <td>2</td>\n",
       "      <td>2193179361</td>\n",
       "      <td>minibus</td>\n",
       "      <td>261</td>\n",
       "      <td>8.07</td>\n",
       "    </tr>\n",
       "  </tbody>\n",
       "</table>\n",
       "</div>"
      ],
      "text/plain": [
       "   id_reg_from  id_reg_to  seq_in_rt     line_id    tp_ts name  distance\n",
       "0            2          1          1  2193179089      bus   30      1.38\n",
       "1            2          1          2  2193179361  minibus  261      8.07"
      ]
     },
     "execution_count": 11,
     "metadata": {},
     "output_type": "execute_result"
    }
   ],
   "source": [
    "df_rt_mt_all.head(2)"
   ]
  },
  {
   "cell_type": "code",
   "execution_count": 12,
   "metadata": {},
   "outputs": [],
   "source": [
    "df_rt_mt_all = df_rt_mt_all.drop_duplicates(subset=['id_reg_from', \n",
    "                                                    'id_reg_to', 'seq_in_rt']).reset_index(drop=True)"
   ]
  },
  {
   "cell_type": "code",
   "execution_count": 13,
   "metadata": {},
   "outputs": [],
   "source": [
    "# создание numpy.array - так быстрее, чем через pandas\n",
    "# некоторые id надо заменить, так как они не сходятся, соответствия были найдены вручную\n",
    "np_mt = df_rt_mt_all.to_numpy()\n",
    "ind_li = list(df_rt_mt_all.columns).index('line_id')\n",
    "\n",
    "lst_bad = ['grouped_id_s9606096_s9606549', 'grouped_id_s9606549_s9606096', \n",
    "          'grouped_id_s9606629_s9606096', 'grouped_id_s9606096_s9606629',\n",
    "          'grouped_id_s9606246_s9606374', 'grouped_id_s9606374_s9606246',\n",
    "          'grouped_id_s9606404_s9606096', 'grouped_id_s9606096_s9606404']\n",
    "# \n",
    "lst_good = ['lh_6318x6317_9606096_g20_4', 'lh_6320x6319_9606549_g20_4', \n",
    "          'lh_6324x6323_9606629_g20_4', 'lh_6340x6339_9606096_g20_4',\n",
    "          'lh_6571x6573_9606246_g20_4', 'lh_6562_9606374_g20_4',\n",
    "          'lh_6519_9606404_g20_4', 'lh_6528_9606096_g20_4']\n",
    "# "
   ]
  },
  {
   "cell_type": "code",
   "execution_count": null,
   "metadata": {},
   "outputs": [],
   "source": []
  },
  {
   "cell_type": "code",
   "execution_count": 14,
   "metadata": {},
   "outputs": [
    {
     "data": {
      "application/vnd.jupyter.widget-view+json": {
       "model_id": "d9b40b30563a4fd8818b2ae8ca4b1db9",
       "version_major": 2,
       "version_minor": 0
      },
      "text/plain": [
       "HBox(children=(FloatProgress(value=0.0, max=33982.0), HTML(value='')))"
      ]
     },
     "metadata": {},
     "output_type": "display_data"
    },
    {
     "name": "stdout",
     "output_type": "stream",
     "text": [
      "\n"
     ]
    }
   ],
   "source": [
    "lst_id_new = []\n",
    "i=0\n",
    "for i in tqdm(range(len(np_mt))):\n",
    "    if np_mt[i, ind_li] in lst_bad:\n",
    "        ind_bad = lst_bad.index(np_mt[i, ind_li])\n",
    "        lst_id_new.append(lst_good[ind_bad])\n",
    "    else:\n",
    "        lst_id_new.append(np_mt[i, ind_li])\n",
    "# "
   ]
  },
  {
   "cell_type": "code",
   "execution_count": 15,
   "metadata": {},
   "outputs": [],
   "source": [
    "df_rt_mt_all['line_id'] = lst_id_new"
   ]
  },
  {
   "cell_type": "code",
   "execution_count": null,
   "metadata": {},
   "outputs": [],
   "source": []
  },
  {
   "cell_type": "code",
   "execution_count": null,
   "metadata": {},
   "outputs": [],
   "source": []
  },
  {
   "cell_type": "code",
   "execution_count": 16,
   "metadata": {},
   "outputs": [],
   "source": [
    "# подтягивание стоимости к последвоательностям\n",
    "df_mt_n_price = df_rt_mt_all.merge(df_total_price[['line_id', 'min_price',\n",
    "                                                   'max_price', 'rub_km','region']], \n",
    "                                      how='left', on=['line_id'])"
   ]
  },
  {
   "cell_type": "code",
   "execution_count": 17,
   "metadata": {},
   "outputs": [
    {
     "data": {
      "text/html": [
       "<div>\n",
       "<style scoped>\n",
       "    .dataframe tbody tr th:only-of-type {\n",
       "        vertical-align: middle;\n",
       "    }\n",
       "\n",
       "    .dataframe tbody tr th {\n",
       "        vertical-align: top;\n",
       "    }\n",
       "\n",
       "    .dataframe thead th {\n",
       "        text-align: right;\n",
       "    }\n",
       "</style>\n",
       "<table border=\"1\" class=\"dataframe\">\n",
       "  <thead>\n",
       "    <tr style=\"text-align: right;\">\n",
       "      <th></th>\n",
       "      <th>id_reg_from</th>\n",
       "      <th>id_reg_to</th>\n",
       "      <th>seq_in_rt</th>\n",
       "      <th>line_id</th>\n",
       "      <th>tp_ts</th>\n",
       "      <th>name</th>\n",
       "      <th>distance</th>\n",
       "      <th>min_price</th>\n",
       "      <th>max_price</th>\n",
       "      <th>rub_km</th>\n",
       "      <th>region</th>\n",
       "    </tr>\n",
       "  </thead>\n",
       "  <tbody>\n",
       "    <tr>\n",
       "      <th>0</th>\n",
       "      <td>2</td>\n",
       "      <td>1</td>\n",
       "      <td>1</td>\n",
       "      <td>2193179089</td>\n",
       "      <td>bus</td>\n",
       "      <td>30</td>\n",
       "      <td>1.38</td>\n",
       "      <td>32.0</td>\n",
       "      <td>32.0</td>\n",
       "      <td>1.9</td>\n",
       "      <td>муниципальный</td>\n",
       "    </tr>\n",
       "    <tr>\n",
       "      <th>1</th>\n",
       "      <td>2</td>\n",
       "      <td>1</td>\n",
       "      <td>2</td>\n",
       "      <td>2193179361</td>\n",
       "      <td>minibus</td>\n",
       "      <td>261</td>\n",
       "      <td>8.07</td>\n",
       "      <td>35.0</td>\n",
       "      <td>35.0</td>\n",
       "      <td>1.3</td>\n",
       "      <td>муниципальный</td>\n",
       "    </tr>\n",
       "  </tbody>\n",
       "</table>\n",
       "</div>"
      ],
      "text/plain": [
       "   id_reg_from  id_reg_to  seq_in_rt     line_id    tp_ts name  distance  \\\n",
       "0            2          1          1  2193179089      bus   30      1.38   \n",
       "1            2          1          2  2193179361  minibus  261      8.07   \n",
       "\n",
       "   min_price  max_price  rub_km         region  \n",
       "0       32.0       32.0     1.9  муниципальный  \n",
       "1       35.0       35.0     1.3  муниципальный  "
      ]
     },
     "execution_count": 17,
     "metadata": {},
     "output_type": "execute_result"
    }
   ],
   "source": [
    "df_mt_n_price.head(2)"
   ]
  },
  {
   "cell_type": "code",
   "execution_count": null,
   "metadata": {},
   "outputs": [],
   "source": []
  },
  {
   "cell_type": "code",
   "execution_count": 18,
   "metadata": {},
   "outputs": [],
   "source": [
    "np_mnp = df_mt_n_price.to_numpy()\n",
    "ind_ifr = list(df_mt_n_price.columns).index('id_reg_from')\n",
    "ind_ito = list(df_mt_n_price.columns).index('id_reg_to')\n",
    "ind_tp = list(df_mt_n_price.columns).index('tp_ts')\n",
    "ind_dist = list(df_mt_n_price.columns).index('distance')\n",
    "ind_min = list(df_mt_n_price.columns).index('min_price')\n",
    "ind_max = list(df_mt_n_price.columns).index('max_price')\n",
    "ind_rkm = list(df_mt_n_price.columns).index('rub_km')\n",
    "ind_reg = list(df_mt_n_price.columns).index('region')"
   ]
  },
  {
   "cell_type": "code",
   "execution_count": null,
   "metadata": {},
   "outputs": [],
   "source": []
  },
  {
   "cell_type": "code",
   "execution_count": 19,
   "metadata": {},
   "outputs": [
    {
     "data": {
      "application/vnd.jupyter.widget-view+json": {
       "model_id": "ebc21dda47de405e997b2d673b6a1482",
       "version_major": 2,
       "version_minor": 0
      },
      "text/plain": [
       "HBox(children=(FloatProgress(value=0.0, max=33982.0), HTML(value='')))"
      ]
     },
     "metadata": {},
     "output_type": "display_data"
    },
    {
     "name": "stdout",
     "output_type": "stream",
     "text": [
      "\n"
     ]
    }
   ],
   "source": [
    "# расчет стоимости проезда: стоимость км * км\n",
    "lst_money_per_mt = []\n",
    "i=0\n",
    "for i in tqdm(range(len(np_mnp))):\n",
    "    idfrom = np_mnp[i, ind_ifr]\n",
    "    idto = np_mnp[i, ind_ito]\n",
    "    tp_ts = str(np_mnp[i, ind_tp])\n",
    "    distnc = np_mnp[i, ind_dist]\n",
    "    mn_min = np_mnp[i, ind_min]\n",
    "    mn_max = np_mnp[i, ind_max]\n",
    "    rub_km = np_mnp[i, ind_rkm]\n",
    "    region = str(np_mnp[i, ind_reg])\n",
    "    \n",
    "    if (('муниципальн' in region) | (tp_ts in ['water', 'underground'])):\n",
    "        mn_per_mt = mn_min\n",
    "    else:\n",
    "        mn_per_mt = distnc * rub_km\n",
    "        if mn_per_mt < mn_min:\n",
    "            mn_per_mt = mn_min\n",
    "        if mn_per_mt > mn_max:\n",
    "            mn_per_mt = mn_max\n",
    "        #\n",
    "    lst_money_per_mt.append(mn_per_mt)\n",
    "# "
   ]
  },
  {
   "cell_type": "code",
   "execution_count": null,
   "metadata": {},
   "outputs": [],
   "source": []
  },
  {
   "cell_type": "code",
   "execution_count": 20,
   "metadata": {},
   "outputs": [],
   "source": [
    "df_mt_n_price['mn_per_mt'] = lst_money_per_mt"
   ]
  },
  {
   "cell_type": "code",
   "execution_count": null,
   "metadata": {},
   "outputs": [],
   "source": []
  },
  {
   "cell_type": "code",
   "execution_count": 168,
   "metadata": {},
   "outputs": [],
   "source": [
    "# df_mt_n_price.to_csv('./res/df_mt_n_price.csv', sep=';', encoding='utf-8-sig', index=False)"
   ]
  },
  {
   "cell_type": "code",
   "execution_count": null,
   "metadata": {},
   "outputs": [],
   "source": []
  },
  {
   "cell_type": "code",
   "execution_count": 21,
   "metadata": {},
   "outputs": [],
   "source": [
    "# суммирование всех ТС, для получения общей стоимости проезда на всех ТС от А до В\n",
    "grp_mtnp = pd.DataFrame(df_mt_n_price.groupby(['id_reg_from', \n",
    "                                               'id_reg_to']).sum()['mn_per_mt']).reset_index()\n",
    "grp_mtnp = grp_mtnp.reset_index(drop=True)"
   ]
  },
  {
   "cell_type": "code",
   "execution_count": null,
   "metadata": {},
   "outputs": [],
   "source": []
  },
  {
   "cell_type": "code",
   "execution_count": 22,
   "metadata": {},
   "outputs": [
    {
     "data": {
      "text/html": [
       "<div>\n",
       "<style scoped>\n",
       "    .dataframe tbody tr th:only-of-type {\n",
       "        vertical-align: middle;\n",
       "    }\n",
       "\n",
       "    .dataframe tbody tr th {\n",
       "        vertical-align: top;\n",
       "    }\n",
       "\n",
       "    .dataframe thead th {\n",
       "        text-align: right;\n",
       "    }\n",
       "</style>\n",
       "<table border=\"1\" class=\"dataframe\">\n",
       "  <thead>\n",
       "    <tr style=\"text-align: right;\">\n",
       "      <th></th>\n",
       "      <th>id_reg_from</th>\n",
       "      <th>id_reg_to</th>\n",
       "      <th>mn_per_mt</th>\n",
       "    </tr>\n",
       "  </thead>\n",
       "  <tbody>\n",
       "    <tr>\n",
       "      <th>0</th>\n",
       "      <td>1</td>\n",
       "      <td>2</td>\n",
       "      <td>99.0</td>\n",
       "    </tr>\n",
       "    <tr>\n",
       "      <th>1</th>\n",
       "      <td>1</td>\n",
       "      <td>3</td>\n",
       "      <td>67.0</td>\n",
       "    </tr>\n",
       "    <tr>\n",
       "      <th>2</th>\n",
       "      <td>1</td>\n",
       "      <td>4</td>\n",
       "      <td>124.0</td>\n",
       "    </tr>\n",
       "  </tbody>\n",
       "</table>\n",
       "</div>"
      ],
      "text/plain": [
       "   id_reg_from  id_reg_to  mn_per_mt\n",
       "0            1          2       99.0\n",
       "1            1          3       67.0\n",
       "2            1          4      124.0"
      ]
     },
     "execution_count": 22,
     "metadata": {},
     "output_type": "execute_result"
    }
   ],
   "source": [
    "grp_mtnp.head(3)"
   ]
  },
  {
   "cell_type": "code",
   "execution_count": null,
   "metadata": {},
   "outputs": [],
   "source": []
  },
  {
   "cell_type": "code",
   "execution_count": null,
   "metadata": {},
   "outputs": [],
   "source": []
  },
  {
   "cell_type": "code",
   "execution_count": 23,
   "metadata": {},
   "outputs": [
    {
     "data": {
      "application/vnd.jupyter.widget-view+json": {
       "model_id": "47b025d7cad24dde914ea810f52a2729",
       "version_major": 2,
       "version_minor": 0
      },
      "text/plain": [
       "HBox(children=(FloatProgress(value=0.0, max=13093.0), HTML(value='')))"
      ]
     },
     "metadata": {},
     "output_type": "display_data"
    },
    {
     "name": "stderr",
     "output_type": "stream",
     "text": [
      "C:\\Users\\ochristm\\anaconda3\\lib\\site-packages\\ipykernel_launcher.py:11: SettingWithCopyWarning: \n",
      "A value is trying to be set on a copy of a slice from a DataFrame.\n",
      "Try using .loc[row_indexer,col_indexer] = value instead\n",
      "\n",
      "See the caveats in the documentation: https://pandas.pydata.org/pandas-docs/stable/user_guide/indexing.html#returning-a-view-versus-a-copy\n",
      "  # This is added back by InteractiveShellApp.init_path()\n"
     ]
    },
    {
     "name": "stdout",
     "output_type": "stream",
     "text": [
      "\n"
     ]
    }
   ],
   "source": [
    "# лучше переделать через numpy, так быстрее\n",
    "# создание списков стоимости и маршуртов от А до В \n",
    "# (просто чтобы можно было видеть, как складывалась цена)\n",
    "lst_cmm_mn = []\n",
    "lst_cmm_rts = []\n",
    "i=0\n",
    "for i in tqdm(range(len(grp_mtnp))):\n",
    "    id_from = grp_mtnp.id_reg_from[i]\n",
    "    id_to = grp_mtnp.id_reg_to[i]\n",
    "    prt_df = df_mt_n_price[(df_mt_n_price.id_reg_from == id_from) \n",
    "                           & (df_mt_n_price.id_reg_to == id_to)]\n",
    "    prt_df['mn_per_mt'] = prt_df['mn_per_mt'].astype(str)\n",
    "    lst_cmm_mn.append(str(list(prt_df['mn_per_mt'])))\n",
    "    lst_cmm_rts.append(str(list(prt_df['line_id'])))\n",
    "# "
   ]
  },
  {
   "cell_type": "code",
   "execution_count": null,
   "metadata": {},
   "outputs": [],
   "source": []
  },
  {
   "cell_type": "code",
   "execution_count": 25,
   "metadata": {},
   "outputs": [],
   "source": [
    "grp_mtnp['mn_sep'] = lst_cmm_mn\n",
    "grp_mtnp['rts_sep'] = lst_cmm_rts"
   ]
  },
  {
   "cell_type": "code",
   "execution_count": 26,
   "metadata": {},
   "outputs": [
    {
     "data": {
      "text/html": [
       "<div>\n",
       "<style scoped>\n",
       "    .dataframe tbody tr th:only-of-type {\n",
       "        vertical-align: middle;\n",
       "    }\n",
       "\n",
       "    .dataframe tbody tr th {\n",
       "        vertical-align: top;\n",
       "    }\n",
       "\n",
       "    .dataframe thead th {\n",
       "        text-align: right;\n",
       "    }\n",
       "</style>\n",
       "<table border=\"1\" class=\"dataframe\">\n",
       "  <thead>\n",
       "    <tr style=\"text-align: right;\">\n",
       "      <th></th>\n",
       "      <th>id_reg_from</th>\n",
       "      <th>id_reg_to</th>\n",
       "      <th>mn_per_mt</th>\n",
       "      <th>mn_sep</th>\n",
       "      <th>rts_sep</th>\n",
       "    </tr>\n",
       "  </thead>\n",
       "  <tbody>\n",
       "    <tr>\n",
       "      <th>0</th>\n",
       "      <td>1</td>\n",
       "      <td>2</td>\n",
       "      <td>99.0</td>\n",
       "      <td>['32.0', '35.0', '32.0']</td>\n",
       "      <td>['2193179055', '2193179361', '2193179089']</td>\n",
       "    </tr>\n",
       "    <tr>\n",
       "      <th>1</th>\n",
       "      <td>1</td>\n",
       "      <td>3</td>\n",
       "      <td>67.0</td>\n",
       "      <td>['32.0', '35.0']</td>\n",
       "      <td>['2193179055', '2193179361']</td>\n",
       "    </tr>\n",
       "  </tbody>\n",
       "</table>\n",
       "</div>"
      ],
      "text/plain": [
       "   id_reg_from  id_reg_to  mn_per_mt                    mn_sep  \\\n",
       "0            1          2       99.0  ['32.0', '35.0', '32.0']   \n",
       "1            1          3       67.0          ['32.0', '35.0']   \n",
       "\n",
       "                                      rts_sep  \n",
       "0  ['2193179055', '2193179361', '2193179089']  \n",
       "1                ['2193179055', '2193179361']  "
      ]
     },
     "execution_count": 26,
     "metadata": {},
     "output_type": "execute_result"
    }
   ],
   "source": [
    "grp_mtnp.head(2)"
   ]
  },
  {
   "cell_type": "code",
   "execution_count": null,
   "metadata": {},
   "outputs": [],
   "source": []
  },
  {
   "cell_type": "code",
   "execution_count": null,
   "metadata": {},
   "outputs": [],
   "source": []
  },
  {
   "cell_type": "code",
   "execution_count": null,
   "metadata": {},
   "outputs": [],
   "source": []
  },
  {
   "cell_type": "code",
   "execution_count": 27,
   "metadata": {},
   "outputs": [],
   "source": [
    "# чтение файла с геометрией по маршрутам между районами (только авто)\n",
    "# чтобы подтянуть данные от стоимости к геометрии\n",
    "gdf_rt_all = gpd.read_file('../data/res/big_ok/matrice_len_time.json', encoding='utf-8')"
   ]
  },
  {
   "cell_type": "code",
   "execution_count": 28,
   "metadata": {},
   "outputs": [
    {
     "data": {
      "text/plain": [
       "Index(['index', 'id_reg_from', 'id_reg_to', 'length', 'time_auto_avg',\n",
       "       'time_auto_traff', 'time_pubtr', 'x_from', 'y_from', 'x_to', 'y_to',\n",
       "       'mnt_from_reg', 'mnt_to_reg', 'cnt_transprt', 'geometry'],\n",
       "      dtype='object')"
      ]
     },
     "execution_count": 28,
     "metadata": {},
     "output_type": "execute_result"
    }
   ],
   "source": [
    "gdf_rt_all.columns"
   ]
  },
  {
   "cell_type": "code",
   "execution_count": 29,
   "metadata": {},
   "outputs": [],
   "source": [
    "# gdf_rt_all2 = gdf_rt_all[['id_reg_from', 'id_reg_to', 'length', \n",
    "#                           'time_auto_avg','geometry']].copy()\n",
    "gdf_rt_all2 = gdf_rt_all.copy()"
   ]
  },
  {
   "cell_type": "code",
   "execution_count": 30,
   "metadata": {},
   "outputs": [
    {
     "data": {
      "text/plain": [
       "13110"
      ]
     },
     "execution_count": 30,
     "metadata": {},
     "output_type": "execute_result"
    }
   ],
   "source": [
    "len(gdf_rt_all2)"
   ]
  },
  {
   "cell_type": "code",
   "execution_count": 31,
   "metadata": {
    "scrolled": true
   },
   "outputs": [],
   "source": [
    "# подтягивание, описано выше\n",
    "gdf_rt_all3 = gdf_rt_all2.merge(grp_mtnp, how='left', on=['id_reg_from', 'id_reg_to'])"
   ]
  },
  {
   "cell_type": "code",
   "execution_count": 32,
   "metadata": {},
   "outputs": [
    {
     "data": {
      "text/plain": [
       "13110"
      ]
     },
     "execution_count": 32,
     "metadata": {},
     "output_type": "execute_result"
    }
   ],
   "source": [
    "len(gdf_rt_all3)"
   ]
  },
  {
   "cell_type": "code",
   "execution_count": 33,
   "metadata": {},
   "outputs": [
    {
     "data": {
      "text/html": [
       "<div>\n",
       "<style scoped>\n",
       "    .dataframe tbody tr th:only-of-type {\n",
       "        vertical-align: middle;\n",
       "    }\n",
       "\n",
       "    .dataframe tbody tr th {\n",
       "        vertical-align: top;\n",
       "    }\n",
       "\n",
       "    .dataframe thead th {\n",
       "        text-align: right;\n",
       "    }\n",
       "</style>\n",
       "<table border=\"1\" class=\"dataframe\">\n",
       "  <thead>\n",
       "    <tr style=\"text-align: right;\">\n",
       "      <th></th>\n",
       "      <th>index</th>\n",
       "      <th>id_reg_from</th>\n",
       "      <th>id_reg_to</th>\n",
       "      <th>length</th>\n",
       "      <th>time_auto_avg</th>\n",
       "      <th>time_auto_traff</th>\n",
       "      <th>time_pubtr</th>\n",
       "      <th>x_from</th>\n",
       "      <th>y_from</th>\n",
       "      <th>x_to</th>\n",
       "      <th>y_to</th>\n",
       "      <th>mnt_from_reg</th>\n",
       "      <th>mnt_to_reg</th>\n",
       "      <th>cnt_transprt</th>\n",
       "      <th>geometry</th>\n",
       "      <th>mn_per_mt</th>\n",
       "      <th>mn_sep</th>\n",
       "      <th>rts_sep</th>\n",
       "    </tr>\n",
       "  </thead>\n",
       "  <tbody>\n",
       "    <tr>\n",
       "      <th>0</th>\n",
       "      <td>0</td>\n",
       "      <td>1</td>\n",
       "      <td>2</td>\n",
       "      <td>67.75</td>\n",
       "      <td>69.3</td>\n",
       "      <td>69.3</td>\n",
       "      <td>162.0</td>\n",
       "      <td>49.847273</td>\n",
       "      <td>53.484996</td>\n",
       "      <td>50.257003</td>\n",
       "      <td>53.199730</td>\n",
       "      <td>30</td>\n",
       "      <td>25</td>\n",
       "      <td>3</td>\n",
       "      <td>LINESTRING (49.84730 53.48513, 49.84669 53.485...</td>\n",
       "      <td>99.0</td>\n",
       "      <td>['32.0', '35.0', '32.0']</td>\n",
       "      <td>['2193179055', '2193179361', '2193179089']</td>\n",
       "    </tr>\n",
       "    <tr>\n",
       "      <th>1</th>\n",
       "      <td>1</td>\n",
       "      <td>2</td>\n",
       "      <td>1</td>\n",
       "      <td>59.54</td>\n",
       "      <td>69.4</td>\n",
       "      <td>69.4</td>\n",
       "      <td>167.9</td>\n",
       "      <td>50.257003</td>\n",
       "      <td>53.199730</td>\n",
       "      <td>49.847273</td>\n",
       "      <td>53.484996</td>\n",
       "      <td>25</td>\n",
       "      <td>30</td>\n",
       "      <td>3</td>\n",
       "      <td>LINESTRING (50.25715 53.19960, 50.25656 53.199...</td>\n",
       "      <td>99.0</td>\n",
       "      <td>['32.0', '35.0', '32.0']</td>\n",
       "      <td>['2193179089', '2193179361', '2193179055']</td>\n",
       "    </tr>\n",
       "    <tr>\n",
       "      <th>2</th>\n",
       "      <td>2</td>\n",
       "      <td>2</td>\n",
       "      <td>3</td>\n",
       "      <td>3.13</td>\n",
       "      <td>15.2</td>\n",
       "      <td>15.2</td>\n",
       "      <td>65.5</td>\n",
       "      <td>50.257003</td>\n",
       "      <td>53.199730</td>\n",
       "      <td>50.282329</td>\n",
       "      <td>53.211924</td>\n",
       "      <td>25</td>\n",
       "      <td>30</td>\n",
       "      <td>1</td>\n",
       "      <td>LINESTRING (50.25685 53.19986, 50.25628 53.199...</td>\n",
       "      <td>35.0</td>\n",
       "      <td>['35.0']</td>\n",
       "      <td>['2193179362']</td>\n",
       "    </tr>\n",
       "  </tbody>\n",
       "</table>\n",
       "</div>"
      ],
      "text/plain": [
       "   index  id_reg_from  id_reg_to  length  time_auto_avg  time_auto_traff  \\\n",
       "0      0            1          2   67.75           69.3             69.3   \n",
       "1      1            2          1   59.54           69.4             69.4   \n",
       "2      2            2          3    3.13           15.2             15.2   \n",
       "\n",
       "   time_pubtr     x_from     y_from       x_to       y_to  mnt_from_reg  \\\n",
       "0       162.0  49.847273  53.484996  50.257003  53.199730            30   \n",
       "1       167.9  50.257003  53.199730  49.847273  53.484996            25   \n",
       "2        65.5  50.257003  53.199730  50.282329  53.211924            25   \n",
       "\n",
       "   mnt_to_reg  cnt_transprt  \\\n",
       "0          25             3   \n",
       "1          30             3   \n",
       "2          30             1   \n",
       "\n",
       "                                            geometry  mn_per_mt  \\\n",
       "0  LINESTRING (49.84730 53.48513, 49.84669 53.485...       99.0   \n",
       "1  LINESTRING (50.25715 53.19960, 50.25656 53.199...       99.0   \n",
       "2  LINESTRING (50.25685 53.19986, 50.25628 53.199...       35.0   \n",
       "\n",
       "                     mn_sep                                     rts_sep  \n",
       "0  ['32.0', '35.0', '32.0']  ['2193179055', '2193179361', '2193179089']  \n",
       "1  ['32.0', '35.0', '32.0']  ['2193179089', '2193179361', '2193179055']  \n",
       "2                  ['35.0']                              ['2193179362']  "
      ]
     },
     "execution_count": 33,
     "metadata": {},
     "output_type": "execute_result"
    }
   ],
   "source": [
    "gdf_rt_all3.head(3)"
   ]
  },
  {
   "cell_type": "code",
   "execution_count": null,
   "metadata": {},
   "outputs": [],
   "source": []
  },
  {
   "cell_type": "code",
   "execution_count": 34,
   "metadata": {},
   "outputs": [],
   "source": [
    "# 47 = Стоимость бензина, руб. / л\n",
    "# 0.11 = Расход бензина, л / км\t\n",
    "# 2.12 = Стоимость времени в пути, руб, / мин\n",
    "# 5 = время \"на парковку\" - проверить, не было ли добавлено "
   ]
  },
  {
   "cell_type": "code",
   "execution_count": 35,
   "metadata": {},
   "outputs": [],
   "source": [
    "# вычисление соимости проезда на авто\n",
    "# gdf_rt_all3['time_auto_avg'] = gdf_rt_all3['time_auto_avg'] + 5 + 5\n",
    "# gdf_rt_all3['time_auto_traff'] = gdf_rt_all3['time_auto_traff'] + 5 + 5\n",
    "\n",
    "gdf_rt_all3['mn_per_auto'] = 47*0.11*gdf_rt_all3['length'] + gdf_rt_all3['time_auto_avg']*2.12"
   ]
  },
  {
   "cell_type": "code",
   "execution_count": 36,
   "metadata": {},
   "outputs": [
    {
     "data": {
      "text/html": [
       "<div>\n",
       "<style scoped>\n",
       "    .dataframe tbody tr th:only-of-type {\n",
       "        vertical-align: middle;\n",
       "    }\n",
       "\n",
       "    .dataframe tbody tr th {\n",
       "        vertical-align: top;\n",
       "    }\n",
       "\n",
       "    .dataframe thead th {\n",
       "        text-align: right;\n",
       "    }\n",
       "</style>\n",
       "<table border=\"1\" class=\"dataframe\">\n",
       "  <thead>\n",
       "    <tr style=\"text-align: right;\">\n",
       "      <th></th>\n",
       "      <th>index</th>\n",
       "      <th>id_reg_from</th>\n",
       "      <th>id_reg_to</th>\n",
       "      <th>length</th>\n",
       "      <th>time_auto_avg</th>\n",
       "      <th>time_auto_traff</th>\n",
       "      <th>time_pubtr</th>\n",
       "      <th>x_from</th>\n",
       "      <th>y_from</th>\n",
       "      <th>x_to</th>\n",
       "      <th>y_to</th>\n",
       "      <th>mnt_from_reg</th>\n",
       "      <th>mnt_to_reg</th>\n",
       "      <th>cnt_transprt</th>\n",
       "      <th>geometry</th>\n",
       "      <th>mn_per_mt</th>\n",
       "      <th>mn_sep</th>\n",
       "      <th>rts_sep</th>\n",
       "      <th>mn_per_auto</th>\n",
       "    </tr>\n",
       "  </thead>\n",
       "  <tbody>\n",
       "    <tr>\n",
       "      <th>0</th>\n",
       "      <td>0</td>\n",
       "      <td>1</td>\n",
       "      <td>2</td>\n",
       "      <td>67.75</td>\n",
       "      <td>69.3</td>\n",
       "      <td>69.3</td>\n",
       "      <td>162.0</td>\n",
       "      <td>49.847273</td>\n",
       "      <td>53.484996</td>\n",
       "      <td>50.257003</td>\n",
       "      <td>53.199730</td>\n",
       "      <td>30</td>\n",
       "      <td>25</td>\n",
       "      <td>3</td>\n",
       "      <td>LINESTRING (49.84730 53.48513, 49.84669 53.485...</td>\n",
       "      <td>99.0</td>\n",
       "      <td>['32.0', '35.0', '32.0']</td>\n",
       "      <td>['2193179055', '2193179361', '2193179089']</td>\n",
       "      <td>497.1835</td>\n",
       "    </tr>\n",
       "    <tr>\n",
       "      <th>1</th>\n",
       "      <td>1</td>\n",
       "      <td>2</td>\n",
       "      <td>1</td>\n",
       "      <td>59.54</td>\n",
       "      <td>69.4</td>\n",
       "      <td>69.4</td>\n",
       "      <td>167.9</td>\n",
       "      <td>50.257003</td>\n",
       "      <td>53.199730</td>\n",
       "      <td>49.847273</td>\n",
       "      <td>53.484996</td>\n",
       "      <td>25</td>\n",
       "      <td>30</td>\n",
       "      <td>3</td>\n",
       "      <td>LINESTRING (50.25715 53.19960, 50.25656 53.199...</td>\n",
       "      <td>99.0</td>\n",
       "      <td>['32.0', '35.0', '32.0']</td>\n",
       "      <td>['2193179089', '2193179361', '2193179055']</td>\n",
       "      <td>454.9498</td>\n",
       "    </tr>\n",
       "    <tr>\n",
       "      <th>2</th>\n",
       "      <td>2</td>\n",
       "      <td>2</td>\n",
       "      <td>3</td>\n",
       "      <td>3.13</td>\n",
       "      <td>15.2</td>\n",
       "      <td>15.2</td>\n",
       "      <td>65.5</td>\n",
       "      <td>50.257003</td>\n",
       "      <td>53.199730</td>\n",
       "      <td>50.282329</td>\n",
       "      <td>53.211924</td>\n",
       "      <td>25</td>\n",
       "      <td>30</td>\n",
       "      <td>1</td>\n",
       "      <td>LINESTRING (50.25685 53.19986, 50.25628 53.199...</td>\n",
       "      <td>35.0</td>\n",
       "      <td>['35.0']</td>\n",
       "      <td>['2193179362']</td>\n",
       "      <td>48.4061</td>\n",
       "    </tr>\n",
       "  </tbody>\n",
       "</table>\n",
       "</div>"
      ],
      "text/plain": [
       "   index  id_reg_from  id_reg_to  length  time_auto_avg  time_auto_traff  \\\n",
       "0      0            1          2   67.75           69.3             69.3   \n",
       "1      1            2          1   59.54           69.4             69.4   \n",
       "2      2            2          3    3.13           15.2             15.2   \n",
       "\n",
       "   time_pubtr     x_from     y_from       x_to       y_to  mnt_from_reg  \\\n",
       "0       162.0  49.847273  53.484996  50.257003  53.199730            30   \n",
       "1       167.9  50.257003  53.199730  49.847273  53.484996            25   \n",
       "2        65.5  50.257003  53.199730  50.282329  53.211924            25   \n",
       "\n",
       "   mnt_to_reg  cnt_transprt  \\\n",
       "0          25             3   \n",
       "1          30             3   \n",
       "2          30             1   \n",
       "\n",
       "                                            geometry  mn_per_mt  \\\n",
       "0  LINESTRING (49.84730 53.48513, 49.84669 53.485...       99.0   \n",
       "1  LINESTRING (50.25715 53.19960, 50.25656 53.199...       99.0   \n",
       "2  LINESTRING (50.25685 53.19986, 50.25628 53.199...       35.0   \n",
       "\n",
       "                     mn_sep                                     rts_sep  \\\n",
       "0  ['32.0', '35.0', '32.0']  ['2193179055', '2193179361', '2193179089']   \n",
       "1  ['32.0', '35.0', '32.0']  ['2193179089', '2193179361', '2193179055']   \n",
       "2                  ['35.0']                              ['2193179362']   \n",
       "\n",
       "   mn_per_auto  \n",
       "0     497.1835  \n",
       "1     454.9498  \n",
       "2      48.4061  "
      ]
     },
     "execution_count": 36,
     "metadata": {},
     "output_type": "execute_result"
    }
   ],
   "source": [
    "gdf_rt_all3.head(3)"
   ]
  },
  {
   "cell_type": "code",
   "execution_count": null,
   "metadata": {},
   "outputs": [],
   "source": []
  },
  {
   "cell_type": "code",
   "execution_count": 37,
   "metadata": {},
   "outputs": [],
   "source": [
    "# gdf_rt_all3['time_pubtr'] = gdf_rt_all3['time_pubtr'].fillna(gdf_rt_all3['time_auto_avg'])"
   ]
  },
  {
   "cell_type": "code",
   "execution_count": null,
   "metadata": {},
   "outputs": [],
   "source": []
  },
  {
   "cell_type": "code",
   "execution_count": 38,
   "metadata": {},
   "outputs": [],
   "source": [
    "# прибавление стоимости времени в пути\n",
    "gdf_rt_all3['mn_per_mt'] = gdf_rt_all3['mn_per_mt'] + gdf_rt_all3['time_pubtr'] * 2.12"
   ]
  },
  {
   "cell_type": "code",
   "execution_count": 39,
   "metadata": {},
   "outputs": [],
   "source": [
    "\n",
    "# gdf_rt_all3['mn_per_mt'] = gdf_rt_all3['mn_per_mt'].fillna(gdf_rt_all3['time_pubtr'] * 2.12)"
   ]
  },
  {
   "cell_type": "code",
   "execution_count": 40,
   "metadata": {},
   "outputs": [
    {
     "data": {
      "text/html": [
       "<div>\n",
       "<style scoped>\n",
       "    .dataframe tbody tr th:only-of-type {\n",
       "        vertical-align: middle;\n",
       "    }\n",
       "\n",
       "    .dataframe tbody tr th {\n",
       "        vertical-align: top;\n",
       "    }\n",
       "\n",
       "    .dataframe thead th {\n",
       "        text-align: right;\n",
       "    }\n",
       "</style>\n",
       "<table border=\"1\" class=\"dataframe\">\n",
       "  <thead>\n",
       "    <tr style=\"text-align: right;\">\n",
       "      <th></th>\n",
       "      <th>index</th>\n",
       "      <th>id_reg_from</th>\n",
       "      <th>id_reg_to</th>\n",
       "      <th>length</th>\n",
       "      <th>time_auto_avg</th>\n",
       "      <th>time_auto_traff</th>\n",
       "      <th>time_pubtr</th>\n",
       "      <th>x_from</th>\n",
       "      <th>y_from</th>\n",
       "      <th>x_to</th>\n",
       "      <th>y_to</th>\n",
       "      <th>mnt_from_reg</th>\n",
       "      <th>mnt_to_reg</th>\n",
       "      <th>cnt_transprt</th>\n",
       "      <th>geometry</th>\n",
       "      <th>mn_per_mt</th>\n",
       "      <th>mn_sep</th>\n",
       "      <th>rts_sep</th>\n",
       "      <th>mn_per_auto</th>\n",
       "    </tr>\n",
       "  </thead>\n",
       "  <tbody>\n",
       "    <tr>\n",
       "      <th>0</th>\n",
       "      <td>0</td>\n",
       "      <td>1</td>\n",
       "      <td>2</td>\n",
       "      <td>67.75</td>\n",
       "      <td>69.3</td>\n",
       "      <td>69.3</td>\n",
       "      <td>162.0</td>\n",
       "      <td>49.847273</td>\n",
       "      <td>53.484996</td>\n",
       "      <td>50.257003</td>\n",
       "      <td>53.199730</td>\n",
       "      <td>30</td>\n",
       "      <td>25</td>\n",
       "      <td>3</td>\n",
       "      <td>LINESTRING (49.84730 53.48513, 49.84669 53.485...</td>\n",
       "      <td>442.440</td>\n",
       "      <td>['32.0', '35.0', '32.0']</td>\n",
       "      <td>['2193179055', '2193179361', '2193179089']</td>\n",
       "      <td>497.1835</td>\n",
       "    </tr>\n",
       "    <tr>\n",
       "      <th>1</th>\n",
       "      <td>1</td>\n",
       "      <td>2</td>\n",
       "      <td>1</td>\n",
       "      <td>59.54</td>\n",
       "      <td>69.4</td>\n",
       "      <td>69.4</td>\n",
       "      <td>167.9</td>\n",
       "      <td>50.257003</td>\n",
       "      <td>53.199730</td>\n",
       "      <td>49.847273</td>\n",
       "      <td>53.484996</td>\n",
       "      <td>25</td>\n",
       "      <td>30</td>\n",
       "      <td>3</td>\n",
       "      <td>LINESTRING (50.25715 53.19960, 50.25656 53.199...</td>\n",
       "      <td>454.948</td>\n",
       "      <td>['32.0', '35.0', '32.0']</td>\n",
       "      <td>['2193179089', '2193179361', '2193179055']</td>\n",
       "      <td>454.9498</td>\n",
       "    </tr>\n",
       "    <tr>\n",
       "      <th>2</th>\n",
       "      <td>2</td>\n",
       "      <td>2</td>\n",
       "      <td>3</td>\n",
       "      <td>3.13</td>\n",
       "      <td>15.2</td>\n",
       "      <td>15.2</td>\n",
       "      <td>65.5</td>\n",
       "      <td>50.257003</td>\n",
       "      <td>53.199730</td>\n",
       "      <td>50.282329</td>\n",
       "      <td>53.211924</td>\n",
       "      <td>25</td>\n",
       "      <td>30</td>\n",
       "      <td>1</td>\n",
       "      <td>LINESTRING (50.25685 53.19986, 50.25628 53.199...</td>\n",
       "      <td>173.860</td>\n",
       "      <td>['35.0']</td>\n",
       "      <td>['2193179362']</td>\n",
       "      <td>48.4061</td>\n",
       "    </tr>\n",
       "  </tbody>\n",
       "</table>\n",
       "</div>"
      ],
      "text/plain": [
       "   index  id_reg_from  id_reg_to  length  time_auto_avg  time_auto_traff  \\\n",
       "0      0            1          2   67.75           69.3             69.3   \n",
       "1      1            2          1   59.54           69.4             69.4   \n",
       "2      2            2          3    3.13           15.2             15.2   \n",
       "\n",
       "   time_pubtr     x_from     y_from       x_to       y_to  mnt_from_reg  \\\n",
       "0       162.0  49.847273  53.484996  50.257003  53.199730            30   \n",
       "1       167.9  50.257003  53.199730  49.847273  53.484996            25   \n",
       "2        65.5  50.257003  53.199730  50.282329  53.211924            25   \n",
       "\n",
       "   mnt_to_reg  cnt_transprt  \\\n",
       "0          25             3   \n",
       "1          30             3   \n",
       "2          30             1   \n",
       "\n",
       "                                            geometry  mn_per_mt  \\\n",
       "0  LINESTRING (49.84730 53.48513, 49.84669 53.485...    442.440   \n",
       "1  LINESTRING (50.25715 53.19960, 50.25656 53.199...    454.948   \n",
       "2  LINESTRING (50.25685 53.19986, 50.25628 53.199...    173.860   \n",
       "\n",
       "                     mn_sep                                     rts_sep  \\\n",
       "0  ['32.0', '35.0', '32.0']  ['2193179055', '2193179361', '2193179089']   \n",
       "1  ['32.0', '35.0', '32.0']  ['2193179089', '2193179361', '2193179055']   \n",
       "2                  ['35.0']                              ['2193179362']   \n",
       "\n",
       "   mn_per_auto  \n",
       "0     497.1835  \n",
       "1     454.9498  \n",
       "2      48.4061  "
      ]
     },
     "execution_count": 40,
     "metadata": {},
     "output_type": "execute_result"
    }
   ],
   "source": [
    "gdf_rt_all3.head(3)"
   ]
  },
  {
   "cell_type": "code",
   "execution_count": null,
   "metadata": {},
   "outputs": [],
   "source": []
  },
  {
   "cell_type": "code",
   "execution_count": null,
   "metadata": {},
   "outputs": [],
   "source": []
  },
  {
   "cell_type": "code",
   "execution_count": 42,
   "metadata": {},
   "outputs": [
    {
     "data": {
      "application/vnd.jupyter.widget-view+json": {
       "model_id": "7ad55939c829452b8a57f3372684032a",
       "version_major": 2,
       "version_minor": 0
      },
      "text/plain": [
       "HBox(children=(FloatProgress(value=0.0, max=13110.0), HTML(value='')))"
      ]
     },
     "metadata": {},
     "output_type": "display_data"
    },
    {
     "name": "stdout",
     "output_type": "stream",
     "text": [
      "\n"
     ]
    }
   ],
   "source": [
    "# там, где нет последовательности маршрутов - Яндекс построил пешком,\n",
    "# изменить кол-во ТС на 0 и посчитать стоимость времени в пути\n",
    "\n",
    "lst_new_money_mt=[]\n",
    "lst_new_cnt_transprt=[]\n",
    "i=0\n",
    "for i in tqdm(range(len(gdf_rt_all3))):\n",
    "    # if is nan\n",
    "    if gdf_rt_all3.mn_sep[i] != gdf_rt_all3.mn_sep[i]:\n",
    "        money = gdf_rt_all3.time_pubtr[i] * 2.12\n",
    "        cnt_transprt = 0\n",
    "    else:\n",
    "        money = gdf_rt_all3.mn_per_mt[i]\n",
    "        cnt_transprt = gdf_rt_all3.cnt_transprt[i]\n",
    "    #\n",
    "    lst_new_money_mt.append(money)\n",
    "    lst_new_cnt_transprt.append(cnt_transprt)\n",
    "#"
   ]
  },
  {
   "cell_type": "code",
   "execution_count": null,
   "metadata": {},
   "outputs": [],
   "source": []
  },
  {
   "cell_type": "code",
   "execution_count": 43,
   "metadata": {},
   "outputs": [],
   "source": [
    "gdf_rt_all3['cnt_transprt'] = lst_new_cnt_transprt\n",
    "gdf_rt_all3['mn_per_mt'] = lst_new_money_mt"
   ]
  },
  {
   "cell_type": "code",
   "execution_count": null,
   "metadata": {},
   "outputs": [],
   "source": []
  },
  {
   "cell_type": "code",
   "execution_count": 46,
   "metadata": {},
   "outputs": [],
   "source": [
    "gdf_rt_all3 = gdf_rt_all3.rename(columns={'length':'dist_auto_km', \n",
    "                                          'mn_per_auto':'total_money_auto', \n",
    "                                          'mn_per_mt':'total_money_pubtr', \n",
    "                                          'mn_sep':'tariffs_sep', \n",
    "                                          'rts_sep' :'routes_sep'})"
   ]
  },
  {
   "cell_type": "code",
   "execution_count": null,
   "metadata": {},
   "outputs": [],
   "source": []
  },
  {
   "cell_type": "code",
   "execution_count": 47,
   "metadata": {},
   "outputs": [],
   "source": [
    "# это просто для изменения порядка столбцов\n",
    "gdf_rt_all3 = gdf_rt_all3[['id_reg_from', 'id_reg_to', 'dist_auto_km', \n",
    "                           'time_auto_avg','time_auto_traff', 'time_pubtr',\n",
    "                           'total_money_auto', 'total_money_pubtr', \n",
    "                           'cnt_transprt', 'tariffs_sep', 'routes_sep',\n",
    "                           'mnt_from_reg', 'mnt_to_reg',\n",
    "                           'x_from', 'y_from', 'x_to', 'y_to', \n",
    "                           'geometry']]"
   ]
  },
  {
   "cell_type": "code",
   "execution_count": null,
   "metadata": {},
   "outputs": [],
   "source": []
  },
  {
   "cell_type": "code",
   "execution_count": 48,
   "metadata": {},
   "outputs": [],
   "source": [
    "gdf_rt_all4 = gdf_rt_all3.copy()\n",
    "del gdf_rt_all4['geometry']\n",
    "gdf_rt_all4.to_csv('./res/gdf_rt_time_price_csv.csv', sep=';', encoding='utf-8-sig', index=False)"
   ]
  },
  {
   "cell_type": "code",
   "execution_count": null,
   "metadata": {},
   "outputs": [],
   "source": []
  },
  {
   "cell_type": "code",
   "execution_count": 49,
   "metadata": {},
   "outputs": [],
   "source": [
    "gdf_rt_all3.to_file('./res/gdf_rt_time_price.json', driver='GeoJSON', encoding='utf-8')"
   ]
  },
  {
   "cell_type": "code",
   "execution_count": null,
   "metadata": {},
   "outputs": [],
   "source": []
  }
 ],
 "metadata": {
  "kernelspec": {
   "display_name": "Python 3",
   "language": "python",
   "name": "python3"
  },
  "language_info": {
   "codemirror_mode": {
    "name": "ipython",
    "version": 3
   },
   "file_extension": ".py",
   "mimetype": "text/x-python",
   "name": "python",
   "nbconvert_exporter": "python",
   "pygments_lexer": "ipython3",
   "version": "3.7.6"
  }
 },
 "nbformat": 4,
 "nbformat_minor": 4
}
