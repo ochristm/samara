{
 "cells": [
  {
   "cell_type": "code",
   "execution_count": 1,
   "metadata": {},
   "outputs": [],
   "source": [
    "import pandas as pd\n",
    "import geopandas as gpd\n",
    "import shapely\n",
    "from shapely.geometry import Point, LineString, MultiLineString, Polygon, MultiPolygon\n",
    "from tqdm.notebook import tqdm\n",
    "import time\n",
    "from datetime import datetime\n",
    "\n",
    "import momepy as mm\n",
    "import networkx as nx"
   ]
  },
  {
   "cell_type": "code",
   "execution_count": null,
   "metadata": {},
   "outputs": [],
   "source": []
  },
  {
   "cell_type": "code",
   "execution_count": null,
   "metadata": {},
   "outputs": [],
   "source": [
    "# https://ipython-books.github.io/147-creating-a-route-planner-for-a-road-network/"
   ]
  },
  {
   "cell_type": "code",
   "execution_count": 2,
   "metadata": {},
   "outputs": [],
   "source": [
    "gdf_big = gpd.read_file('./total/gdf_line_all_n_samobl.json',\n",
    "                        encoding='utf-8')"
   ]
  },
  {
   "cell_type": "code",
   "execution_count": 3,
   "metadata": {},
   "outputs": [],
   "source": [
    "gdf_left = gpd.read_file('./total/gdf_line_sam_tol_new2.json',\n",
    "                        encoding='utf-8')"
   ]
  },
  {
   "cell_type": "code",
   "execution_count": 4,
   "metadata": {},
   "outputs": [],
   "source": [
    "gdf_all = gdf_big.append(gdf_left)\n",
    "gdf_all = gdf_all.drop_duplicates(subset=['line_id', \n",
    "                                          'trip_id']).reset_index(drop=True)"
   ]
  },
  {
   "cell_type": "code",
   "execution_count": null,
   "metadata": {},
   "outputs": [],
   "source": []
  },
  {
   "cell_type": "code",
   "execution_count": 5,
   "metadata": {
    "scrolled": true
   },
   "outputs": [],
   "source": [
    "stps_big = pd.read_csv('./total/df_stop_seq_all_n_samobl.csv',\n",
    "                        encoding='utf-8', sep=';')"
   ]
  },
  {
   "cell_type": "code",
   "execution_count": 144,
   "metadata": {
    "scrolled": true
   },
   "outputs": [],
   "source": [
    "reestr_big = pd.read_csv('./total/df_reestr_all_n_samobl.csv',\n",
    "                        encoding='utf-8', sep=';')"
   ]
  },
  {
   "cell_type": "code",
   "execution_count": null,
   "metadata": {},
   "outputs": [],
   "source": []
  },
  {
   "cell_type": "code",
   "execution_count": 6,
   "metadata": {},
   "outputs": [],
   "source": [
    "graph = gpd.read_file('./with_ped/new_graph_with_ped.json',\n",
    "                        encoding='utf-8')"
   ]
  },
  {
   "cell_type": "code",
   "execution_count": 7,
   "metadata": {},
   "outputs": [],
   "source": [
    "nodes = gpd.read_file('./with_ped/all_nodes_with_ped.json',\n",
    "                        encoding='utf-8')"
   ]
  },
  {
   "cell_type": "code",
   "execution_count": null,
   "metadata": {},
   "outputs": [],
   "source": []
  },
  {
   "cell_type": "code",
   "execution_count": null,
   "metadata": {},
   "outputs": [],
   "source": []
  },
  {
   "cell_type": "code",
   "execution_count": null,
   "metadata": {},
   "outputs": [],
   "source": [
    "one_big_line = gdf_all.iloc[[0]]\n"
   ]
  },
  {
   "cell_type": "code",
   "execution_count": 165,
   "metadata": {
    "scrolled": true
   },
   "outputs": [],
   "source": [
    "route_info = reestr_big[reestr_big.line_id == int(one_big_line.line_id[0])].reset_index(drop=True)\n",
    "route_type = route_info.type_ts[0]"
   ]
  },
  {
   "cell_type": "code",
   "execution_count": null,
   "metadata": {},
   "outputs": [],
   "source": []
  },
  {
   "cell_type": "code",
   "execution_count": 166,
   "metadata": {},
   "outputs": [],
   "source": [
    "def get_line_graph(line, graph, nodes, route_type, buffer):\n",
    "    tmp_grph = graph[((graph.type_ped == 'car_n_ped') \n",
    "                     & (graph.lanes != 0))]\n",
    "    if route_type == 'tramway':\n",
    "        tmp_grph = tmp_grph[((tmp_grph.type_ts == 'TM,CAR,BUS,TB,MT') \n",
    "                      | (tmp_grph.type_ts == 'TM'))].reset_index(drop=True)\n",
    "    else:\n",
    "        tmp_grph = tmp_grph[tmp_grph.type_ts != 'TM'].reset_index(drop=True)\n",
    "    # \n",
    "    buff_one_line = gpd.GeoDataFrame(geometry=[line])\n",
    "    buff_one_line.crs = graph.crs\n",
    "    buff_one_line.geometry = buff_one_line.geometry.to_crs('epsg:32637').buffer(buffer).to_crs('epsg:4326')\n",
    "    \n",
    "    \n",
    "    line_graph = gpd.sjoin(tmp_grph, buff_one_line[['geometry']], how='inner', op='within')\n",
    "    line_graph = line_graph.drop('index_right', axis=1).reset_index(drop=True)\n",
    "    \n",
    "    lst_nodes = list(set(list(line_graph.from_node.unique()) \n",
    "                         + list(line_graph.to_node.unique())))\n",
    "    #\n",
    "    line_nodes = nodes[nodes.nodeID.isin(lst_nodes)]\n",
    "    \n",
    "    \n",
    "    return line_graph, line_nodes"
   ]
  },
  {
   "cell_type": "code",
   "execution_count": null,
   "metadata": {},
   "outputs": [],
   "source": []
  },
  {
   "cell_type": "code",
   "execution_count": 168,
   "metadata": {
    "scrolled": true
   },
   "outputs": [],
   "source": [
    "buffer=7\n",
    "line = one_big_line.geometry[0]\n",
    "line_graph, line_nodes = get_line_graph(line, graph, nodes, route_type, buffer)"
   ]
  },
  {
   "cell_type": "code",
   "execution_count": null,
   "metadata": {},
   "outputs": [],
   "source": []
  },
  {
   "cell_type": "code",
   "execution_count": 169,
   "metadata": {},
   "outputs": [],
   "source": [
    "i=0\n",
    "segm = line[i]"
   ]
  },
  {
   "cell_type": "code",
   "execution_count": null,
   "metadata": {},
   "outputs": [],
   "source": [
    "def get_closest_pt(ope_pt, one_grph, nodes):\n",
    "    closest_link_id = mm.get_network_id(ope_pt, one_grph, 'link_id')[0]\n",
    "    link_in_graph = one_grph[one_grph.link_id == closest_link_id].reset_index(drop=True)\n",
    "    to_node_id = link_in_graph.to_node[0]\n",
    "    from_node_id = link_in_graph.from_node[0]\n",
    "    to_node = nodes[nodes.nodeID == to_node_id].reset_index(drop=True)['geometry'][0]\n",
    "    from_node = nodes[nodes.nodeID == from_node_id].reset_index(drop=True)['geometry'][0]\n",
    "\n",
    "    dist1 = ope_pt.geometry[0].distance(to_node)\n",
    "    dist2 = ope_pt.geometry[0].distance(from_node)\n",
    "\n",
    "    if dist1 < dist2:\n",
    "        closest_node = to_node\n",
    "        closest_node_id = to_node_id\n",
    "    else:\n",
    "        closest_node = from_node\n",
    "        closest_node_id = from_node_id\n",
    "    # \n",
    "    return closest_node,closest_node_id"
   ]
  },
  {
   "cell_type": "code",
   "execution_count": 176,
   "metadata": {},
   "outputs": [],
   "source": [
    "def create_lst_coords_from_df(nodes):\n",
    "    lst_geo = list(nodes.geometry)\n",
    "    lst_ndid = list(nodes.nodeID)\n",
    "\n",
    "    lst_coords=[]\n",
    "    i=0\n",
    "    for i in range(len(nodes)):\n",
    "        lst_coords.append(lst_geo[i].coords[0])\n",
    "    # \n",
    "    return lst_coords"
   ]
  },
  {
   "cell_type": "code",
   "execution_count": 177,
   "metadata": {},
   "outputs": [],
   "source": [
    "def get_one_segm_seq(segm, line_graph, line_nodes):\n",
    "\n",
    "    ope_pt = gpd.GeoDataFrame(geometry=[Point(segm.coords[0])])\n",
    "    two_pt = gpd.GeoDataFrame(geometry=[Point(segm.coords[-1])])\n",
    "\n",
    "    closest_node,closest_node_id = get_closest_pt(ope_pt, line_graph, line_nodes)\n",
    "    closest_node2,closest_node_id2 = get_closest_pt(two_pt, line_graph, line_nodes)\n",
    "\n",
    "    one_G = mm.gdf_to_nx(one_grph)\n",
    "    res_lst = nx.shortest_path(one_G, closest_node.coords[0], closest_node2.coords[0])\n",
    "\n",
    "    lst_coords = create_lst_coords_from_df(line_nodes)\n",
    "\n",
    "    segm_seq=[]\n",
    "\n",
    "    cnt=1\n",
    "    i=0\n",
    "    for i in range(len(res_lst)):\n",
    "        one_lst_pt=[]\n",
    "        one_coord = res_lst[i]\n",
    "        j=0\n",
    "        if one_coord in lst_coords:\n",
    "            ind = lst_coords.index(one_coord)\n",
    "            nodid = lst_ndid[ind]\n",
    "        else:\n",
    "            print(i)\n",
    "            nodid = 0\n",
    "        #\n",
    "        segm_seq.append([cnt, nodid, one_coord])\n",
    "        cnt+=1\n",
    "    # \n",
    "\n",
    "    return segm_seq"
   ]
  },
  {
   "cell_type": "code",
   "execution_count": null,
   "metadata": {},
   "outputs": [],
   "source": []
  },
  {
   "cell_type": "code",
   "execution_count": 178,
   "metadata": {},
   "outputs": [
    {
     "name": "stderr",
     "output_type": "stream",
     "text": [
      "Snapping: 100%|██████████████████████████████████████████████████████████████████████████| 1/1 [00:00<00:00, 76.92it/s]\n",
      "Snapping: 100%|██████████████████████████████████████████████████████████████████████████| 1/1 [00:00<00:00, 47.61it/s]"
     ]
    },
    {
     "name": "stdout",
     "output_type": "stream",
     "text": [
      "Generating centroids...\n",
      "Generating rtree...\n",
      "Generating centroids...\n",
      "Generating rtree...\n"
     ]
    },
    {
     "name": "stderr",
     "output_type": "stream",
     "text": [
      "\n"
     ]
    }
   ],
   "source": [
    "segm_seq = get_one_segm_seq(segm, line_graph, line_nodes)"
   ]
  },
  {
   "cell_type": "code",
   "execution_count": null,
   "metadata": {},
   "outputs": [],
   "source": []
  },
  {
   "cell_type": "code",
   "execution_count": null,
   "metadata": {},
   "outputs": [],
   "source": []
  },
  {
   "cell_type": "code",
   "execution_count": null,
   "metadata": {},
   "outputs": [],
   "source": []
  },
  {
   "cell_type": "code",
   "execution_count": null,
   "metadata": {},
   "outputs": [],
   "source": []
  },
  {
   "cell_type": "code",
   "execution_count": null,
   "metadata": {},
   "outputs": [],
   "source": []
  },
  {
   "cell_type": "code",
   "execution_count": null,
   "metadata": {},
   "outputs": [],
   "source": [
    "# def get_node_seq(line, graph, nodes, route_info):\n",
    "\n",
    "buffer=7\n",
    "# line = one_big_line\n",
    "line_graph, line_nodes = get_line_graph(line, graph, nodes, route_info, buffer)\n",
    "\n",
    "node_seq = []\n",
    "i=0\n",
    "for i in range(len(line)):\n",
    "    segm = line[i]\n",
    "    segm_seq = get_one_segm_seq(segm, line_graph, line_nodes)\n",
    "    node_seq = node_seq + segm_seq\n",
    "# \n",
    "# return node_seq"
   ]
  },
  {
   "cell_type": "code",
   "execution_count": null,
   "metadata": {},
   "outputs": [],
   "source": []
  }
 ],
 "metadata": {
  "kernelspec": {
   "display_name": "Python 3",
   "language": "python",
   "name": "python3"
  },
  "language_info": {
   "codemirror_mode": {
    "name": "ipython",
    "version": 3
   },
   "file_extension": ".py",
   "mimetype": "text/x-python",
   "name": "python",
   "nbconvert_exporter": "python",
   "pygments_lexer": "ipython3",
   "version": "3.7.6"
  }
 },
 "nbformat": 4,
 "nbformat_minor": 4
}
