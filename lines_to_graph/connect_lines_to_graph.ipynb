{
 "cells": [
  {
   "cell_type": "code",
   "execution_count": 1,
   "metadata": {},
   "outputs": [],
   "source": [
    "import pandas as pd\n",
    "import geopandas as gpd\n",
    "import shapely\n",
    "from shapely.geometry import Point, LineString, MultiLineString, Polygon, MultiPolygon\n",
    "from tqdm.notebook import tqdm\n",
    "import time\n",
    "from datetime import datetime"
   ]
  },
  {
   "cell_type": "code",
   "execution_count": null,
   "metadata": {},
   "outputs": [],
   "source": []
  },
  {
   "cell_type": "code",
   "execution_count": null,
   "metadata": {},
   "outputs": [],
   "source": [
    "# https://ipython-books.github.io/147-creating-a-route-planner-for-a-road-network/"
   ]
  },
  {
   "cell_type": "code",
   "execution_count": 2,
   "metadata": {},
   "outputs": [],
   "source": [
    "gdf_big = gpd.read_file('./total/gdf_line_all_n_samobl.json',\n",
    "                        encoding='utf-8')"
   ]
  },
  {
   "cell_type": "code",
   "execution_count": 3,
   "metadata": {},
   "outputs": [],
   "source": [
    "gdf_left = gpd.read_file('./total/gdf_line_sam_tol_new2.json',\n",
    "                        encoding='utf-8')"
   ]
  },
  {
   "cell_type": "code",
   "execution_count": 4,
   "metadata": {},
   "outputs": [],
   "source": [
    "gdf_all = gdf_big.append(gdf_left)\n",
    "gdf_all = gdf_all.drop_duplicates(subset=['line_id', \n",
    "                                          'trip_id']).reset_index(drop=True)"
   ]
  },
  {
   "cell_type": "code",
   "execution_count": null,
   "metadata": {},
   "outputs": [],
   "source": []
  },
  {
   "cell_type": "code",
   "execution_count": 5,
   "metadata": {
    "scrolled": true
   },
   "outputs": [],
   "source": [
    "stps_big = pd.read_csv('./total/df_stop_seq_all_n_samobl.csv',\n",
    "                        encoding='utf-8', sep=';')"
   ]
  },
  {
   "cell_type": "code",
   "execution_count": null,
   "metadata": {},
   "outputs": [],
   "source": []
  },
  {
   "cell_type": "code",
   "execution_count": 6,
   "metadata": {},
   "outputs": [],
   "source": [
    "graph = gpd.read_file('./with_ped/new_graph_with_ped.json',\n",
    "                        encoding='utf-8')"
   ]
  },
  {
   "cell_type": "code",
   "execution_count": 7,
   "metadata": {},
   "outputs": [],
   "source": [
    "nodes = gpd.read_file('./with_ped/all_nodes_with_ped.json',\n",
    "                        encoding='utf-8')"
   ]
  },
  {
   "cell_type": "code",
   "execution_count": null,
   "metadata": {},
   "outputs": [],
   "source": []
  },
  {
   "cell_type": "code",
   "execution_count": null,
   "metadata": {},
   "outputs": [],
   "source": []
  },
  {
   "cell_type": "code",
   "execution_count": null,
   "metadata": {},
   "outputs": [],
   "source": []
  },
  {
   "cell_type": "code",
   "execution_count": null,
   "metadata": {},
   "outputs": [],
   "source": []
  },
  {
   "cell_type": "code",
   "execution_count": 8,
   "metadata": {},
   "outputs": [],
   "source": [
    "one_big_line = gdf_all.iloc[[0]]\n"
   ]
  },
  {
   "cell_type": "code",
   "execution_count": null,
   "metadata": {},
   "outputs": [],
   "source": [
    "\n",
    "# bg_geo = one_big_line.geometry[0]\n",
    "# tripid = one_big_line.trip_id[0]\n",
    "\n",
    "# lst_parts=[]\n",
    "# i=0\n",
    "# for i in range(len(bg_geo)):\n",
    "#     one_part = bg_geo[i]\n",
    "#     .append(one_part)\n",
    "# # "
   ]
  },
  {
   "cell_type": "code",
   "execution_count": null,
   "metadata": {},
   "outputs": [],
   "source": []
  },
  {
   "cell_type": "code",
   "execution_count": 9,
   "metadata": {},
   "outputs": [],
   "source": [
    "lst_parts = list(one_big_line.geometry[0])"
   ]
  },
  {
   "cell_type": "code",
   "execution_count": 10,
   "metadata": {},
   "outputs": [],
   "source": [
    "lst_parts = list(one_big_line.geometry[0])\n",
    "\n",
    "gdf_parts = gpd.GeoDataFrame(geometry=lst_parts)\n",
    "gdf_parts.crs='epsg:4326'\n",
    "gdf_parts['trip_id'] = one_big_line.trip_id[0]"
   ]
  },
  {
   "cell_type": "code",
   "execution_count": null,
   "metadata": {},
   "outputs": [],
   "source": []
  },
  {
   "cell_type": "code",
   "execution_count": 12,
   "metadata": {},
   "outputs": [],
   "source": [
    "tp_grph = graph[(((graph.type_ts == 'TM,CAR,BUS,TB,MT') \n",
    "                  | (graph.type_ts == 'TM')) \n",
    "                 & (graph.type_ped == 'car_n_ped') \n",
    "                 & (graph.lanes != 0))].reset_index(drop=True)"
   ]
  },
  {
   "cell_type": "code",
   "execution_count": 17,
   "metadata": {},
   "outputs": [],
   "source": [
    "lst_frm = list(set(list(tp_grph.from_node.unique()) + list(tp_grph.to_node.unique())))"
   ]
  },
  {
   "cell_type": "code",
   "execution_count": 23,
   "metadata": {},
   "outputs": [],
   "source": [
    "tp_nds = nodes[nodes.nodeID.isin(lst_frm)]"
   ]
  },
  {
   "cell_type": "code",
   "execution_count": null,
   "metadata": {},
   "outputs": [],
   "source": []
  },
  {
   "cell_type": "code",
   "execution_count": 11,
   "metadata": {},
   "outputs": [],
   "source": [
    "buff_gdf_parts = gdf_parts.copy()\n",
    "\n",
    "buffer = 5\n",
    "buff_gdf_parts.geometry = buff_gdf_parts.geometry.to_crs('epsg:32637').buffer(buffer).to_crs('epsg:4326')"
   ]
  },
  {
   "cell_type": "code",
   "execution_count": null,
   "metadata": {},
   "outputs": [],
   "source": []
  },
  {
   "cell_type": "code",
   "execution_count": 13,
   "metadata": {},
   "outputs": [
    {
     "name": "stdout",
     "output_type": "stream",
     "text": [
      "Wall time: 269 ms\n"
     ]
    }
   ],
   "source": [
    "%time grph_tmp = gpd.sjoin(tp_grph, buff_gdf_parts[['geometry']], how='inner', op='intersects')"
   ]
  },
  {
   "cell_type": "code",
   "execution_count": 24,
   "metadata": {},
   "outputs": [
    {
     "name": "stdout",
     "output_type": "stream",
     "text": [
      "Wall time: 104 ms\n"
     ]
    }
   ],
   "source": [
    "%time nds_tmp = gpd.sjoin(tp_nds, buff_gdf_parts[['geometry']], how='inner', op='intersects')"
   ]
  },
  {
   "cell_type": "code",
   "execution_count": null,
   "metadata": {},
   "outputs": [],
   "source": []
  },
  {
   "cell_type": "code",
   "execution_count": null,
   "metadata": {},
   "outputs": [],
   "source": []
  },
  {
   "cell_type": "code",
   "execution_count": 31,
   "metadata": {},
   "outputs": [],
   "source": [
    "def create_buff_frm_coord(coords,buffer):\n",
    "    buff_gdf = gpd.GeoDataFrame(geometry=[Point(coords)])\n",
    "    buff_gdf.crs='epsg:4326'\n",
    "    buff_gdf.geometry = buff_gdf.geometry.to_crs('epsg:32637').buffer(buffer).to_crs('epsg:4326')\n",
    "    return buff_gdf"
   ]
  },
  {
   "cell_type": "code",
   "execution_count": 29,
   "metadata": {},
   "outputs": [],
   "source": [
    "i=0\n",
    "one_line = lst_parts[i]\n",
    "lst_coord = list(one_line.coords)\n",
    "first = lst_coord[0]\n",
    "buffer = 5"
   ]
  },
  {
   "cell_type": "code",
   "execution_count": 32,
   "metadata": {},
   "outputs": [],
   "source": [
    "buff_gdf = create_buff_frm_coord(first,buffer)"
   ]
  },
  {
   "cell_type": "code",
   "execution_count": 38,
   "metadata": {},
   "outputs": [],
   "source": [
    "last_buff_gdf = create_buff_frm_coord(lst_coord[-1],buffer)"
   ]
  },
  {
   "cell_type": "code",
   "execution_count": 36,
   "metadata": {},
   "outputs": [],
   "source": [
    "first_sj = gpd.sjoin(tp_grph, buff_gdf[['geometry']], how='inner',\n",
    "                       op='intersects').reset_index(drop=True)"
   ]
  },
  {
   "cell_type": "code",
   "execution_count": 39,
   "metadata": {},
   "outputs": [],
   "source": [
    "last_sj = gpd.sjoin(tp_grph, last_buff_gdf[['geometry']], how='inner',\n",
    "                       op='intersects').reset_index(drop=True)"
   ]
  },
  {
   "cell_type": "code",
   "execution_count": null,
   "metadata": {},
   "outputs": [],
   "source": []
  },
  {
   "cell_type": "code",
   "execution_count": null,
   "metadata": {},
   "outputs": [],
   "source": []
  },
  {
   "cell_type": "code",
   "execution_count": null,
   "metadata": {},
   "outputs": [],
   "source": []
  },
  {
   "cell_type": "code",
   "execution_count": 45,
   "metadata": {
    "scrolled": true
   },
   "outputs": [
    {
     "data": {
      "application/vnd.jupyter.widget-view+json": {
       "model_id": "143317c252ac43cdb1f565dff3b27e01",
       "version_major": 2,
       "version_minor": 0
      },
      "text/plain": [
       "HBox(children=(FloatProgress(value=0.0, max=21.0), HTML(value='')))"
      ]
     },
     "metadata": {},
     "output_type": "display_data"
    },
    {
     "name": "stdout",
     "output_type": "stream",
     "text": [
      "\n"
     ]
    }
   ],
   "source": [
    "buffer=5\n",
    "cnt=1\n",
    "bg_sj = gpd.GeoDataFrame()\n",
    "# lst_parts = list(one_big_line.geometry[0])\n",
    "\n",
    "i=0\n",
    "for i in tqdm(range(len(lst_parts))):\n",
    "#     one_buff = buff_gdf_parts.iloc[[i]].reset_index(drop=True)\n",
    "    one_line = lst_parts[i]\n",
    "    lst_coord = list(one_line.coords)\n",
    "    first = lst_coord[0]\n",
    "    last = lst_coord[-1]\n",
    "    first_buff_gdf = create_buff_frm_coord(first,buffer)\n",
    "    last_buff_gdf = create_buff_frm_coord(last,buffer)\n",
    "    \n",
    "    first_sj = gpd.sjoin(tp_grph, first_buff_gdf[['geometry']], how='inner',\n",
    "                       op='within').reset_index(drop=True)\n",
    "    if len(one_sj) > 0:\n",
    "        one_sj['seq'] = cnt\n",
    "        bg_sj = bg_sj.append(one_sj)\n",
    "        cnt+=1\n",
    "# "
   ]
  },
  {
   "cell_type": "code",
   "execution_count": null,
   "metadata": {},
   "outputs": [],
   "source": []
  },
  {
   "cell_type": "code",
   "execution_count": null,
   "metadata": {},
   "outputs": [],
   "source": []
  },
  {
   "cell_type": "code",
   "execution_count": 48,
   "metadata": {},
   "outputs": [],
   "source": [
    "bg_sj = bg_sj.reset_index(drop=True)\n",
    "bg_sj = bg_sj.drop('index_right', axis=1)"
   ]
  },
  {
   "cell_type": "code",
   "execution_count": 53,
   "metadata": {},
   "outputs": [],
   "source": [
    "bg_sj['trip_id']=buff_gdf_parts.trip_id[0]"
   ]
  },
  {
   "cell_type": "code",
   "execution_count": null,
   "metadata": {},
   "outputs": [],
   "source": []
  },
  {
   "cell_type": "code",
   "execution_count": null,
   "metadata": {},
   "outputs": [],
   "source": []
  },
  {
   "cell_type": "code",
   "execution_count": null,
   "metadata": {},
   "outputs": [],
   "source": []
  },
  {
   "cell_type": "code",
   "execution_count": null,
   "metadata": {},
   "outputs": [],
   "source": []
  },
  {
   "cell_type": "code",
   "execution_count": null,
   "metadata": {},
   "outputs": [],
   "source": []
  },
  {
   "cell_type": "code",
   "execution_count": 36,
   "metadata": {},
   "outputs": [],
   "source": []
  },
  {
   "cell_type": "code",
   "execution_count": null,
   "metadata": {},
   "outputs": [],
   "source": []
  },
  {
   "cell_type": "code",
   "execution_count": null,
   "metadata": {},
   "outputs": [],
   "source": []
  },
  {
   "cell_type": "code",
   "execution_count": null,
   "metadata": {},
   "outputs": [],
   "source": []
  },
  {
   "cell_type": "code",
   "execution_count": 46,
   "metadata": {},
   "outputs": [],
   "source": [
    "one_stop_seq = stps_big[stps_big.trip_id == int(one_big_line.trip_id[0])].reset_index(drop=True)"
   ]
  },
  {
   "cell_type": "code",
   "execution_count": 132,
   "metadata": {},
   "outputs": [],
   "source": [
    "buff_one_line = one_big_line.copy()\n",
    "\n",
    "buffer = 7\n",
    "buff_one_line.geometry = buff_one_line.geometry.to_crs('epsg:32637').buffer(buffer).to_crs('epsg:4326')"
   ]
  },
  {
   "cell_type": "code",
   "execution_count": 133,
   "metadata": {},
   "outputs": [],
   "source": [
    "one_grph = gpd.sjoin(tp_grph, buff_one_line[['geometry','trip_id']],how='inner',op='within')"
   ]
  },
  {
   "cell_type": "code",
   "execution_count": null,
   "metadata": {},
   "outputs": [],
   "source": []
  },
  {
   "cell_type": "code",
   "execution_count": null,
   "metadata": {},
   "outputs": [],
   "source": [
    "# lst_parts = list(one_big_line.geometry[0])\n",
    "\n",
    "# gdf_parts = gpd.GeoDataFrame(geometry=lst_parts)\n",
    "# gdf_parts.crs='epsg:4326'\n",
    "# gdf_parts['trip_id'] = one_big_line.trip_id[0]"
   ]
  },
  {
   "cell_type": "code",
   "execution_count": 53,
   "metadata": {},
   "outputs": [],
   "source": [
    "ope_pt = gpd.GeoDataFrame(geometry=[Point(one_stop_seq.lon[0],one_stop_seq.lat[0])])"
   ]
  },
  {
   "cell_type": "code",
   "execution_count": null,
   "metadata": {},
   "outputs": [],
   "source": []
  },
  {
   "cell_type": "code",
   "execution_count": 49,
   "metadata": {},
   "outputs": [],
   "source": [
    "import momepy as mm\n",
    "import networkx as nx"
   ]
  },
  {
   "cell_type": "code",
   "execution_count": null,
   "metadata": {},
   "outputs": [],
   "source": []
  },
  {
   "cell_type": "code",
   "execution_count": 80,
   "metadata": {},
   "outputs": [],
   "source": [
    "def get_closest_pt(ope_pt, one_grph, nodes):\n",
    "    closest_link_id = mm.get_network_id(ope_pt, one_grph, 'link_id')[0]\n",
    "    link_in_graph = one_grph[one_grph.link_id == closest_link_id].reset_index(drop=True)\n",
    "    to_node_id = link_in_graph.to_node[0]\n",
    "    from_node_id = link_in_graph.from_node[0]\n",
    "    to_node = nodes[nodes.nodeID == to_node_id].reset_index(drop=True)['geometry'][0]\n",
    "    from_node = nodes[nodes.nodeID == from_node_id].reset_index(drop=True)['geometry'][0]\n",
    "\n",
    "    dist1 = ope_pt.geometry[0].distance(to_node)\n",
    "    dist2 = ope_pt.geometry[0].distance(from_node)\n",
    "\n",
    "    if dist1 < dist2:\n",
    "        closest_node = to_node\n",
    "        closest_node_id = to_node_id\n",
    "    else:\n",
    "        closest_node = from_node\n",
    "        closest_node_id = from_node_id\n",
    "    # \n",
    "    return closest_node,closest_node_id"
   ]
  },
  {
   "cell_type": "code",
   "execution_count": null,
   "metadata": {},
   "outputs": [],
   "source": []
  },
  {
   "cell_type": "code",
   "execution_count": 81,
   "metadata": {},
   "outputs": [
    {
     "name": "stderr",
     "output_type": "stream",
     "text": [
      "Snapping: 100%|██████████████████████████████████████████████████████████████████████████| 1/1 [00:00<00:00, 71.44it/s]"
     ]
    },
    {
     "name": "stdout",
     "output_type": "stream",
     "text": [
      "Generating centroids...\n",
      "Generating rtree...\n",
      "Wall time: 68.2 ms\n"
     ]
    },
    {
     "name": "stderr",
     "output_type": "stream",
     "text": [
      "\n"
     ]
    }
   ],
   "source": [
    "%time closest_node,closest_node_id = get_closest_pt(ope_pt, one_grph, nodes)"
   ]
  },
  {
   "cell_type": "code",
   "execution_count": 82,
   "metadata": {},
   "outputs": [],
   "source": [
    "ope_pt2 = gpd.GeoDataFrame(geometry=[Point(one_stop_seq.lon[1],one_stop_seq.lat[1])])"
   ]
  },
  {
   "cell_type": "code",
   "execution_count": 83,
   "metadata": {},
   "outputs": [
    {
     "name": "stderr",
     "output_type": "stream",
     "text": [
      "Snapping: 100%|██████████████████████████████████████████████████████████████████████████| 1/1 [00:00<00:00, 76.92it/s]"
     ]
    },
    {
     "name": "stdout",
     "output_type": "stream",
     "text": [
      "Generating centroids...\n",
      "Generating rtree...\n",
      "Wall time: 65 ms\n"
     ]
    },
    {
     "name": "stderr",
     "output_type": "stream",
     "text": [
      "\n"
     ]
    }
   ],
   "source": [
    "%time closest_node2,closest_node_id2 = get_closest_pt(ope_pt2, one_grph, nodes)"
   ]
  },
  {
   "cell_type": "code",
   "execution_count": null,
   "metadata": {},
   "outputs": [],
   "source": []
  },
  {
   "cell_type": "code",
   "execution_count": null,
   "metadata": {},
   "outputs": [],
   "source": []
  },
  {
   "cell_type": "code",
   "execution_count": null,
   "metadata": {},
   "outputs": [],
   "source": []
  },
  {
   "cell_type": "code",
   "execution_count": 134,
   "metadata": {},
   "outputs": [
    {
     "name": "stderr",
     "output_type": "stream",
     "text": [
      "C:\\Users\\ochristm\\anaconda3\\lib\\site-packages\\momepy\\utils.py:202: UserWarning: Geometry is in a geographic CRS. Results from 'length' are likely incorrect. Use 'GeoSeries.to_crs()' to re-project geometries to a projected CRS before this operation.\n",
      "\n",
      "  gdf_network[length] = gdf_network.geometry.length\n"
     ]
    }
   ],
   "source": [
    "one_G = mm.gdf_to_nx(one_grph)"
   ]
  },
  {
   "cell_type": "code",
   "execution_count": 135,
   "metadata": {
    "scrolled": true
   },
   "outputs": [],
   "source": [
    "res_lst = nx.shortest_path(one_G, closest_node.coords[0], closest_node2.coords[0])"
   ]
  },
  {
   "cell_type": "code",
   "execution_count": null,
   "metadata": {},
   "outputs": [],
   "source": []
  },
  {
   "cell_type": "code",
   "execution_count": null,
   "metadata": {},
   "outputs": [],
   "source": []
  },
  {
   "cell_type": "code",
   "execution_count": 136,
   "metadata": {},
   "outputs": [
    {
     "data": {
      "text/plain": [
       "[(50.1883528, 53.1915989),\n",
       " (50.1881586, 53.1915936),\n",
       " (50.1880451, 53.1915905),\n",
       " (50.1878873, 53.1915863),\n",
       " (50.18737, 53.1915722),\n",
       " (50.1867769, 53.1915562),\n",
       " (50.1840486, 53.1914827)]"
      ]
     },
     "execution_count": 136,
     "metadata": {},
     "output_type": "execute_result"
    }
   ],
   "source": [
    "res_lst"
   ]
  },
  {
   "cell_type": "code",
   "execution_count": null,
   "metadata": {},
   "outputs": [],
   "source": []
  },
  {
   "cell_type": "code",
   "execution_count": null,
   "metadata": {},
   "outputs": [],
   "source": [
    "# def get_nodeid_by_coords(lst_coords_line, lst_coords_all, lst_ndid):\n",
    "\n",
    "\n",
    "\n",
    "# return dct_ids"
   ]
  },
  {
   "cell_type": "code",
   "execution_count": null,
   "metadata": {},
   "outputs": [],
   "source": []
  },
  {
   "cell_type": "code",
   "execution_count": 137,
   "metadata": {},
   "outputs": [],
   "source": [
    "lst_nodid_line=[]\n",
    "lst_seq =[]\n",
    "\n",
    "cnt=1\n",
    "i=0\n",
    "for i in range(len(res_lst)):\n",
    "    one_coord = res_lst[i]\n",
    "    j=0\n",
    "    if one_coord in lst_coords:\n",
    "        ind = lst_coords.index(one_coord)\n",
    "        nodid = lst_ndid[ind]\n",
    "    else:\n",
    "        print(i)\n",
    "        nodid = 0\n",
    "    #\n",
    "    lst_nodid_line.append(nodid)\n",
    "    lst_seq.append(cnt)\n",
    "    cnt+=1\n",
    "# \n"
   ]
  },
  {
   "cell_type": "code",
   "execution_count": 138,
   "metadata": {},
   "outputs": [
    {
     "data": {
      "text/plain": [
       "[27397, 27415, 27385, 27413, 26931, 27396, 26908]"
      ]
     },
     "execution_count": 138,
     "metadata": {},
     "output_type": "execute_result"
    }
   ],
   "source": [
    "lst_nodid_line"
   ]
  },
  {
   "cell_type": "code",
   "execution_count": 131,
   "metadata": {},
   "outputs": [
    {
     "data": {
      "text/plain": [
       "[1, 2, 3, 4, 5, 6, 7]"
      ]
     },
     "execution_count": 131,
     "metadata": {},
     "output_type": "execute_result"
    }
   ],
   "source": [
    "lst_seq"
   ]
  },
  {
   "cell_type": "code",
   "execution_count": null,
   "metadata": {},
   "outputs": [],
   "source": []
  },
  {
   "cell_type": "code",
   "execution_count": null,
   "metadata": {},
   "outputs": [],
   "source": [
    "lst_all"
   ]
  },
  {
   "cell_type": "code",
   "execution_count": 107,
   "metadata": {},
   "outputs": [
    {
     "data": {
      "text/plain": [
       "[(49.7993692, 52.299129)]"
      ]
     },
     "execution_count": 107,
     "metadata": {},
     "output_type": "execute_result"
    }
   ],
   "source": [
    "nodes.geometry[0].coords[:]"
   ]
  },
  {
   "cell_type": "code",
   "execution_count": null,
   "metadata": {},
   "outputs": [],
   "source": []
  },
  {
   "cell_type": "code",
   "execution_count": 124,
   "metadata": {},
   "outputs": [],
   "source": [
    "# def create_dict_from_df(nodes):\n",
    "lst_geo = list(nodes.geometry)\n",
    "lst_ndid = list(nodes.nodeID)\n",
    "\n",
    "lst_coords=[]\n",
    "i=0\n",
    "for i in range(len(nodes)):\n",
    "    lst_coords.append(lst_geo[i].coords[0])\n",
    "# \n",
    "# return dct"
   ]
  },
  {
   "cell_type": "code",
   "execution_count": 125,
   "metadata": {},
   "outputs": [
    {
     "data": {
      "text/plain": [
       "(50.0882993, 53.1828105)"
      ]
     },
     "execution_count": 125,
     "metadata": {},
     "output_type": "execute_result"
    }
   ],
   "source": [
    "lst_coords_all[1]"
   ]
  },
  {
   "cell_type": "code",
   "execution_count": null,
   "metadata": {},
   "outputs": [],
   "source": []
  },
  {
   "cell_type": "code",
   "execution_count": null,
   "metadata": {},
   "outputs": [],
   "source": []
  },
  {
   "cell_type": "code",
   "execution_count": 127,
   "metadata": {},
   "outputs": [
    {
     "data": {
      "text/plain": [
       "True"
      ]
     },
     "execution_count": 127,
     "metadata": {},
     "output_type": "execute_result"
    }
   ],
   "source": [
    "res_lst[1] in lst_coords"
   ]
  },
  {
   "cell_type": "code",
   "execution_count": null,
   "metadata": {},
   "outputs": [],
   "source": []
  },
  {
   "cell_type": "code",
   "execution_count": null,
   "metadata": {},
   "outputs": [],
   "source": []
  },
  {
   "cell_type": "code",
   "execution_count": null,
   "metadata": {},
   "outputs": [],
   "source": []
  }
 ],
 "metadata": {
  "kernelspec": {
   "display_name": "Python 3",
   "language": "python",
   "name": "python3"
  },
  "language_info": {
   "codemirror_mode": {
    "name": "ipython",
    "version": 3
   },
   "file_extension": ".py",
   "mimetype": "text/x-python",
   "name": "python",
   "nbconvert_exporter": "python",
   "pygments_lexer": "ipython3",
   "version": "3.7.6"
  }
 },
 "nbformat": 4,
 "nbformat_minor": 4
}
