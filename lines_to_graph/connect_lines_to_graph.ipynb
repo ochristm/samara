{
 "cells": [
  {
   "cell_type": "code",
   "execution_count": 1,
   "metadata": {},
   "outputs": [],
   "source": [
    "import numpy as np\n",
    "import pandas as pd\n",
    "import geopandas as gpd\n",
    "import shapely\n",
    "from shapely.geometry import Point, LineString, MultiLineString, Polygon, MultiPolygon\n",
    "from tqdm.notebook import tqdm\n",
    "import time\n",
    "from datetime import datetime\n",
    "\n",
    "import momepy as mm\n",
    "import networkx as nx\n",
    "\n",
    "import math\n",
    "\n",
    "from contextlib import redirect_stdout\n",
    "\n",
    "import io\n",
    "import sys"
   ]
  },
  {
   "cell_type": "code",
   "execution_count": 46,
   "metadata": {},
   "outputs": [],
   "source": [
    "# import momepy as mm"
   ]
  },
  {
   "cell_type": "code",
   "execution_count": 2,
   "metadata": {},
   "outputs": [],
   "source": [
    "# https://ipython-books.github.io/147-creating-a-route-planner-for-a-road-network/"
   ]
  },
  {
   "cell_type": "code",
   "execution_count": 2,
   "metadata": {},
   "outputs": [],
   "source": [
    "gdf_big = gpd.read_file('./total/gdf_line_all_n_samobl.json',\n",
    "                        encoding='utf-8')"
   ]
  },
  {
   "cell_type": "code",
   "execution_count": 3,
   "metadata": {},
   "outputs": [],
   "source": [
    "gdf_left = gpd.read_file('./total/gdf_line_sam_tol_new2.json',\n",
    "                        encoding='utf-8')"
   ]
  },
  {
   "cell_type": "code",
   "execution_count": 4,
   "metadata": {},
   "outputs": [],
   "source": [
    "gdf_all = gdf_big.append(gdf_left)\n",
    "gdf_all = gdf_all.drop_duplicates(subset=['line_id', \n",
    "                                          'trip_id']).reset_index(drop=True)"
   ]
  },
  {
   "cell_type": "code",
   "execution_count": null,
   "metadata": {},
   "outputs": [],
   "source": []
  },
  {
   "cell_type": "code",
   "execution_count": 5,
   "metadata": {
    "scrolled": true
   },
   "outputs": [],
   "source": [
    "stps_big = pd.read_csv('./total/df_stop_seq_all_n_samobl.csv',\n",
    "                        encoding='utf-8', sep=';')"
   ]
  },
  {
   "cell_type": "code",
   "execution_count": 6,
   "metadata": {
    "scrolled": true
   },
   "outputs": [],
   "source": [
    "reestr_big = pd.read_csv('./total/df_reestr_all_n_samobl.csv',\n",
    "                        encoding='utf-8', sep=';')"
   ]
  },
  {
   "cell_type": "code",
   "execution_count": null,
   "metadata": {},
   "outputs": [],
   "source": []
  },
  {
   "cell_type": "code",
   "execution_count": 7,
   "metadata": {},
   "outputs": [],
   "source": [
    "graph = gpd.read_file('./with_ped/new_graph_with_ped.json',\n",
    "                        encoding='utf-8')"
   ]
  },
  {
   "cell_type": "code",
   "execution_count": 8,
   "metadata": {},
   "outputs": [],
   "source": [
    "nodes = gpd.read_file('./with_ped/all_nodes_with_ped.json',\n",
    "                        encoding='utf-8')"
   ]
  },
  {
   "cell_type": "code",
   "execution_count": null,
   "metadata": {},
   "outputs": [],
   "source": []
  },
  {
   "cell_type": "code",
   "execution_count": null,
   "metadata": {},
   "outputs": [],
   "source": []
  },
  {
   "cell_type": "code",
   "execution_count": null,
   "metadata": {},
   "outputs": [],
   "source": []
  },
  {
   "cell_type": "code",
   "execution_count": 9,
   "metadata": {},
   "outputs": [],
   "source": [
    "def get_line_graph(line, graph, nodes, route_type, buffer):\n",
    "    tmp_grph = graph[((graph.type_ped == 'car_n_ped') \n",
    "                     & (graph.lanes != 0))]\n",
    "    if route_type == 'tramway':\n",
    "        tmp_grph = tmp_grph[((tmp_grph.type_ts == 'TM,CAR,BUS,TB,MT') \n",
    "                      | (tmp_grph.type_ts == 'TM'))].reset_index(drop=True)\n",
    "    elif route_type == 'all':\n",
    "        tmp_grph = tmp_grph\n",
    "    else:\n",
    "        tmp_grph = tmp_grph[tmp_grph.type_ts != 'TM'].reset_index(drop=True)\n",
    "    # \n",
    "    buff_one_line = gpd.GeoDataFrame(geometry=[line])\n",
    "    buff_one_line.crs = graph.crs\n",
    "    buff_one_line.geometry = buff_one_line.geometry.to_crs('epsg:32637').buffer(buffer).to_crs('epsg:4326')\n",
    "    \n",
    "    \n",
    "    line_graph = gpd.sjoin(tmp_grph, buff_one_line[['geometry']], how='inner', op='within')\n",
    "    line_graph = line_graph.drop('index_right', axis=1).reset_index(drop=True)\n",
    "    \n",
    "    wider_graph = gpd.sjoin(tmp_grph, buff_one_line[['geometry']], how='inner', op='intersects')\n",
    "    wider_graph = wider_graph.drop('index_right', axis=1).reset_index(drop=True)\n",
    "    \n",
    "    lst_nodes = list(set(list(line_graph.from_node.unique()) \n",
    "                         + list(line_graph.to_node.unique())))\n",
    "    #\n",
    "    line_nodes = nodes[nodes.nodeID.isin(lst_nodes)]\n",
    "        \n",
    "    return line_graph, line_nodes, wider_graph"
   ]
  },
  {
   "cell_type": "code",
   "execution_count": 10,
   "metadata": {},
   "outputs": [],
   "source": [
    "def get_closest_pt(ope_pt, one_grph, nodes):\n",
    "    \n",
    "    text_trap = io.StringIO()\n",
    "    with redirect_stdout(text_trap):\n",
    "        closest_link_id = mm.get_network_id(ope_pt, one_grph, 'link_id')[0]\n",
    "#     closest_link_id = mm.get_network_id(ope_pt, one_grph, 'link_id')[0]\n",
    "    link_in_graph = one_grph[one_grph.link_id == closest_link_id].reset_index(drop=True)\n",
    "    to_node_id = link_in_graph.to_node[0]\n",
    "    from_node_id = link_in_graph.from_node[0]\n",
    "    to_node = nodes[nodes.nodeID == to_node_id].reset_index(drop=True)['geometry'][0]\n",
    "    from_node = nodes[nodes.nodeID == from_node_id].reset_index(drop=True)['geometry'][0]\n",
    "\n",
    "    dist1 = ope_pt.geometry[0].distance(to_node)\n",
    "    dist2 = ope_pt.geometry[0].distance(from_node)\n",
    "\n",
    "    if dist1 < dist2:\n",
    "        closest_node = to_node\n",
    "        closest_node_id = to_node_id\n",
    "    else:\n",
    "        closest_node = from_node\n",
    "        closest_node_id = from_node_id\n",
    "    # \n",
    "    return closest_node,closest_node_id"
   ]
  },
  {
   "cell_type": "code",
   "execution_count": 11,
   "metadata": {},
   "outputs": [],
   "source": [
    "def create_lst_coords_from_df(nodes):\n",
    "    lst_geo = list(nodes.geometry)\n",
    "    lst_ndid = list(nodes.nodeID)\n",
    "\n",
    "    lst_coords=[]\n",
    "    i=0\n",
    "    for i in range(len(nodes)):\n",
    "        lst_coords.append(lst_geo[i].coords[0])\n",
    "    # \n",
    "    return lst_coords"
   ]
  },
  {
   "cell_type": "code",
   "execution_count": 12,
   "metadata": {},
   "outputs": [],
   "source": [
    "def get_nodeid(res_lst, cnt, lst_coords, lst_ndid):\n",
    "    segm_seq=[]\n",
    "    i=0\n",
    "    for i in range(len(res_lst)):\n",
    "        one_lst_pt=[]\n",
    "        one_coord = res_lst[i]\n",
    "        j=0\n",
    "        if one_coord in lst_coords:\n",
    "            ind = lst_coords.index(one_coord)\n",
    "            nodid = lst_ndid[ind]\n",
    "        else:\n",
    "            print(i)\n",
    "            nodid = 0\n",
    "        #\n",
    "        segm_seq.append([cnt, nodid, one_coord])\n",
    "        cnt+=1\n",
    "    # \n",
    "    return segm_seq, cnt"
   ]
  },
  {
   "cell_type": "code",
   "execution_count": 13,
   "metadata": {},
   "outputs": [],
   "source": [
    "def get_one_segm_seq(cnt, segm, line_graph, line_nodes):\n",
    "\n",
    "    ope_pt = gpd.GeoDataFrame(geometry=[Point(segm.coords[0])])\n",
    "    two_pt = gpd.GeoDataFrame(geometry=[Point(segm.coords[-1])])\n",
    "\n",
    "    closest_node,closest_node_id = get_closest_pt(ope_pt, line_graph, line_nodes)\n",
    "    closest_node2,closest_node_id2 = get_closest_pt(two_pt, line_graph, line_nodes)\n",
    "\n",
    "    one_G = mm.gdf_to_nx(line_graph)\n",
    "    res_lst = nx.shortest_path(one_G, closest_node.coords[0], closest_node2.coords[0])\n",
    "\n",
    "    lst_coords = create_lst_coords_from_df(line_nodes)\n",
    "    lst_ndid = list(line_nodes.nodeID)\n",
    "\n",
    "    segm_seq, cnt = get_nodeid(res_lst, cnt, lst_coords, lst_ndid)\n",
    "\n",
    "    return segm_seq, cnt"
   ]
  },
  {
   "cell_type": "code",
   "execution_count": 94,
   "metadata": {},
   "outputs": [],
   "source": [
    "def get_lst_segm_in_loop(one_segm, lnth_segm):\n",
    "    cnt_lp = int(lnth_segm / 6)\n",
    "\n",
    "    if cnt_lp > 1:\n",
    "        step1=0\n",
    "        step2 = 6\n",
    "        \n",
    "        k=0\n",
    "        lst_segs=[]\n",
    "        for k in range(cnt_lp):\n",
    "            first = one_segm.coords[step1:step2]\n",
    "            if len(first) >= 2:\n",
    "                seg_line = LineString(first)\n",
    "                lst_segs.append(seg_line)\n",
    "                step1 = step1 + 6\n",
    "                step2 = step2 + 6\n",
    "        if step1 < lnth_segm:\n",
    "            first = one_segm.coords[step1:]\n",
    "            seg_line = LineString(first)\n",
    "            lst_segs.append(seg_line)\n",
    "    else:\n",
    "        lst_segs = [one_segm]\n",
    "    #\n",
    "    return lst_segs"
   ]
  },
  {
   "cell_type": "code",
   "execution_count": 92,
   "metadata": {
    "scrolled": true
   },
   "outputs": [],
   "source": [
    "def get_node_seq(line, graph, nodes, route_type, buffer):\n",
    "\n",
    "#     buffer=7\n",
    "    # line = one_big_line\n",
    "    line_graph, line_nodes, wider_graph = get_line_graph(line, graph, nodes, route_type, buffer)\n",
    "\n",
    "    node_seq = []\n",
    "    cnt=1\n",
    "    i=0\n",
    "    for i in tqdm(range(len(line))):\n",
    "    # for i in range(2):\n",
    "        one_segm = line[i]\n",
    "        lnth_segm = len(one_segm.coords[:])\n",
    "\n",
    "        lst_segs=[]\n",
    "        if lnth_segm > 15:\n",
    "            print(i)\n",
    "            lst_segs = get_lst_segm_in_loop(one_segm, lnth_segm)\n",
    "        else:\n",
    "            lst_segs = [one_segm]\n",
    "        # \n",
    "        l=0\n",
    "        for l in range(len(lst_segs)):\n",
    "            segm = lst_segs[l]\n",
    "        \n",
    "            try:\n",
    "                segm_seq, cnt = get_one_segm_seq(cnt, segm, line_graph, line_nodes)\n",
    "                node_seq = node_seq + segm_seq\n",
    "            except:\n",
    "                try:\n",
    "                    buffer = 50\n",
    "                    line_graph2, line_nodes2, wider_graph2 = get_line_graph(line, graph, nodes, 'all', buffer)\n",
    "                    segm_seq, cnt = get_one_segm_seq(cnt, segm, line_graph2, line_nodes2)\n",
    "                    node_seq = node_seq + segm_seq\n",
    "                except:\n",
    "                    cnt+=100\n",
    "        # \n",
    "    node_seq_fin = get_unique_seq(node_seq)\n",
    "    try:\n",
    "        node_seq_fin2 = find_first_node(node_seq_fin, wider_graph, line_graph, line)\n",
    "#         new_node_seq_fin = find_first_last_node(node_seq_fin, wider_graph, line_graph, line)\n",
    "    except:\n",
    "        node_seq_fin2 = node_seq_fin\n",
    "    #\n",
    "    try:\n",
    "        new_node_seq_fin = find_last_node(node_seq_fin2, wider_graph, line_graph, line)\n",
    "    except:\n",
    "        new_node_seq_fin = node_seq_fin2\n",
    "\n",
    "    return new_node_seq_fin"
   ]
  },
  {
   "cell_type": "code",
   "execution_count": 16,
   "metadata": {},
   "outputs": [],
   "source": [
    "def get_unique_seq(node_seq):\n",
    "    node_seq2 = node_seq[:]\n",
    "\n",
    "    lst_ind=[]\n",
    "    j=0\n",
    "    for j in range(1,len(node_seq2)):\n",
    "        if node_seq2[j][-1] == node_seq2[j-1][-1]:\n",
    "            lst_ind.append(node_seq2[j])\n",
    "    #\n",
    "    k=0\n",
    "    for k in range(len(lst_ind)):\n",
    "        one = lst_ind[k]\n",
    "        node_seq2.remove(one)\n",
    "    # \n",
    "    node_seq_fin = []\n",
    "    \n",
    "    l=0\n",
    "    for l in range(len(node_seq2)):\n",
    "        node_seq_fin.append([node_seq2[l][0],node_seq2[l][1],Point(node_seq2[l][2])])\n",
    "    #\n",
    "    return node_seq_fin"
   ]
  },
  {
   "cell_type": "code",
   "execution_count": 17,
   "metadata": {},
   "outputs": [],
   "source": [
    "def get_closest_link(lst_geo, node, lst_links):\n",
    "    smallest_dist = 100\n",
    "    i=0\n",
    "    for i in range(len(lst_geo)):\n",
    "        if node.distance(lst_geo[i]) < smallest_dist:\n",
    "            smallest_dist = node.distance(lst_geo[i])\n",
    "            closest_link = lst_links[i]\n",
    "    # \n",
    "    return closest_link\n",
    "# "
   ]
  },
  {
   "cell_type": "code",
   "execution_count": 18,
   "metadata": {},
   "outputs": [],
   "source": [
    "################## Find inner_angle\n",
    "\n",
    "def find_inner_angle(line_from, line_to, line_via):\n",
    "\n",
    "    A = line_from.length #значения слишком маленькие  * 10000\n",
    "    B = line_to.length\n",
    "    C = line_via.length\n",
    "    try:\n",
    "        angle = math.degrees(math.acos((A * A + B * B - C * C)/(2.0 * A * B)))\n",
    "    except:\n",
    "        # if (A + B) <= C:\n",
    "        try:\n",
    "            # if (A + B) <= C - its an error, add a little to both\n",
    "            new_val = ((C - (A + B)) + 0.000002) / 2 \n",
    "            A = A + new_val\n",
    "            B = B + new_val\n",
    "            angle = math.degrees(math.acos((A * A + B * B - C * C)/(2.0 * A * B)))\n",
    "        except:\n",
    "            angle = math.degrees(math.atan2(A,B))\n",
    "#             print(\"Not ok\")\n",
    "    angle = int(round(angle, 0))\n",
    "    # \n",
    "    return angle"
   ]
  },
  {
   "cell_type": "code",
   "execution_count": 19,
   "metadata": {},
   "outputs": [],
   "source": [
    "def get_closest_angle(lst_geo, line_to, lst_links):\n",
    "\n",
    "    lst_angles = []\n",
    "    i=0\n",
    "    for i in range(len(lst_geo)):\n",
    "        line_from = lst_geo[i]\n",
    "        line_via = LineString([line_to.coords[-1], line_from.coords[0]])\n",
    "        angle = find_inner_angle(line_from, line_to, line_via)\n",
    "        lst_angles.append(angle)\n",
    "    # \n",
    "\n",
    "    smallest_angle = 360\n",
    "    sm_ind=0\n",
    "    i=0\n",
    "    for i in range(len(lst_angles)):\n",
    "        one=lst_angles[i]\n",
    "        if abs(180-one) < smallest_angle:\n",
    "            smallest_angle = abs(180-one)\n",
    "            sm_ind = i\n",
    "    # \n",
    "    smlst_ang_id = lst_links[sm_ind]\n",
    "\n",
    "    return smlst_ang_id"
   ]
  },
  {
   "cell_type": "code",
   "execution_count": 20,
   "metadata": {},
   "outputs": [],
   "source": [
    "def find_closest_node(gdf_links, node, second_link, from_to):\n",
    "\n",
    "    lst_geo = list(gdf_links.geometry)\n",
    "    lst_links = list(gdf_links.link_id)\n",
    "\n",
    "    line_to = second_link.geometry[0]\n",
    "\n",
    "    closest_link = get_closest_link(lst_geo, node, lst_links)\n",
    "\n",
    "    smlst_ang_id = get_closest_angle(lst_geo, line_to, lst_links)\n",
    "\n",
    "    while smlst_ang_id != closest_link:\n",
    "        print(\"Not equal:\", smlst_ang_id, closest_link)\n",
    "        try:\n",
    "            ind_not_ok = lst_links.index(closest_link)\n",
    "            lst_geo_new = lst_geo[:]\n",
    "            lst_geo_new.remove(lst_geo_new[ind_not_ok])\n",
    "\n",
    "            lst_lnk_new = lst_links[:]\n",
    "            lst_lnk_new.remove(closest_link)\n",
    "            closest_link = get_closest_link(lst_geo_new, node, lst_lnk_new)\n",
    "        except:\n",
    "            break\n",
    "    # \n",
    "    if from_to == 'from':\n",
    "        closest_node = list(gdf_links[gdf_links.link_id == closest_link]['from_node'])[0]\n",
    "    else:\n",
    "        closest_node = list(gdf_links[gdf_links.link_id == closest_link]['to_node'])[0]\n",
    "    #\n",
    "    \n",
    "    return closest_node"
   ]
  },
  {
   "cell_type": "code",
   "execution_count": 21,
   "metadata": {},
   "outputs": [],
   "source": [
    "def get_info_by_node(first_last, node, nodes_gdf, node_seq_fin):\n",
    "\n",
    "    nodes_coords = list(nodes_gdf[nodes_gdf.nodeID == node]['geometry'])[0]\n",
    "    new_node_seq_fin=[]\n",
    "    if first_last == 'first':\n",
    "        new_node_seq_fin=[[0, node, nodes_coords]]\n",
    "        new_node_seq_fin = new_node_seq_fin + node_seq_fin\n",
    "    else:\n",
    "        seq = node_seq_fin[-1][0] + 1\n",
    "        new_node_seq_fin=[[seq, node, nodes_coords]]\n",
    "        new_node_seq_fin = node_seq_fin + new_node_seq_fin\n",
    "    # \n",
    "    return new_node_seq_fin"
   ]
  },
  {
   "cell_type": "code",
   "execution_count": 22,
   "metadata": {},
   "outputs": [],
   "source": [
    "def find_first_node(node_seq_fin, wider_graph, line_graph, line):\n",
    "\n",
    "    # first node search\n",
    "    start_pnt = Point(line[0].coords[0])\n",
    "    first_id = node_seq_fin[0][1]\n",
    "    second_id = node_seq_fin[1][1]\n",
    "\n",
    "\n",
    "    first_links = wider_graph[((wider_graph.to_node == first_id) \n",
    "                               & (~wider_graph.link_id.isin(line_graph.link_id)))].reset_index(drop=True)\n",
    "    second_link = wider_graph[((wider_graph.from_node == first_id) \n",
    "                               & (wider_graph.to_node == second_id))].reset_index(drop=True)\n",
    "    #\n",
    "    first_closest_node = find_closest_node(first_links, start_pnt, second_link, 'from')\n",
    "\n",
    "\n",
    "    new_node_seq_fin = get_info_by_node('first', first_closest_node, nodes, node_seq_fin)\n",
    "    return new_node_seq_fin"
   ]
  },
  {
   "cell_type": "code",
   "execution_count": 23,
   "metadata": {},
   "outputs": [],
   "source": [
    "def find_last_node(node_seq_fin, wider_graph, line_graph, line):\n",
    "\n",
    "    # last node search\n",
    "    end_pnt = Point(line[-1].coords[-1])\n",
    "    last_id = node_seq_fin[-1][1]\n",
    "    prelast_id = node_seq_fin[-2][1]\n",
    "\n",
    "    last_links = wider_graph[((wider_graph.from_node == last_id) \n",
    "                              & (~wider_graph.link_id.isin(line_graph.link_id)))].reset_index(drop=True)\n",
    "    #\n",
    "    prelast_link = wider_graph[((wider_graph.from_node == prelast_id) \n",
    "                               & (wider_graph.to_node == last_id))].reset_index(drop=True)\n",
    "    #\n",
    "    last_closest_node = find_closest_node(last_links, end_pnt, prelast_link, 'to')\n",
    "\n",
    "    new_node_seq_fin = node_seq_fin\n",
    "    new_node_seq_fin = get_info_by_node('last', last_closest_node, nodes, new_node_seq_fin)\n",
    "    return new_node_seq_fin"
   ]
  },
  {
   "cell_type": "code",
   "execution_count": 24,
   "metadata": {},
   "outputs": [],
   "source": [
    "def find_first_last_node(node_seq_fin, wider_graph, line_graph, line):\n",
    "\n",
    "    # first node search\n",
    "    start_pnt = Point(line[0].coords[0])\n",
    "    first_id = node_seq_fin[0][1]\n",
    "    second_id = node_seq_fin[1][1]\n",
    "\n",
    "\n",
    "    first_links = wider_graph[((wider_graph.to_node == first_id) \n",
    "                               & (~wider_graph.link_id.isin(line_graph.link_id)))].reset_index(drop=True)\n",
    "    second_link = wider_graph[((wider_graph.from_node == first_id) \n",
    "                               & (wider_graph.to_node == second_id))].reset_index(drop=True)\n",
    "    #\n",
    "    first_closest_node = find_closest_node(first_links, start_pnt, second_link, 'from')\n",
    "\n",
    "    ##################\n",
    "    # last node search\n",
    "    end_pnt = Point(line[-1].coords[-1])\n",
    "    last_id = node_seq_fin[-1][1]\n",
    "    prelast_id = node_seq_fin[-2][1]\n",
    "\n",
    "    last_links = wider_graph[((wider_graph.from_node == last_id) \n",
    "                              & (~wider_graph.link_id.isin(line_graph.link_id)))].reset_index(drop=True)\n",
    "    #\n",
    "    prelast_link = wider_graph[((wider_graph.from_node == prelast_id) \n",
    "                               & (wider_graph.to_node == last_id))].reset_index(drop=True)\n",
    "    #\n",
    "    last_closest_node = find_closest_node(last_links, end_pnt, prelast_link, 'to')\n",
    "\n",
    "    new_node_seq_fin = get_info_by_node('first', first_closest_node, nodes, node_seq_fin)\n",
    "    new_node_seq_fin = get_info_by_node('last', last_closest_node, nodes, new_node_seq_fin)\n",
    "\n",
    "    return new_node_seq_fin"
   ]
  },
  {
   "cell_type": "code",
   "execution_count": 54,
   "metadata": {},
   "outputs": [],
   "source": [
    "def check_connectivity(one_trip_id, new_node_seq_fin, line, graph, nodes, route_type, buffer):\n",
    "\n",
    "    # buffer = 20\n",
    "    line_graph, line_nodes, wider_graph = get_line_graph(line, graph, nodes, route_type, buffer)\n",
    "\n",
    "    np_seq = np.array(new_node_seq_fin, dtype=object)\n",
    "\n",
    "    lst_new_seq=[]\n",
    "\n",
    "    cnt=1\n",
    "    for i in tqdm(range(1, len(np_seq))):\n",
    "\n",
    "        segm = LineString([np_seq[i-1,2], np_seq[i,2]])\n",
    "        try:\n",
    "            segm_seq, cnt = get_one_segm_seq(cnt, segm, line_graph, line_nodes)\n",
    "        except:\n",
    "            cnt+=1\n",
    "            one_pt = [cnt, np_seq[i-1,1], np_seq[i-1,2].coords[0]]\n",
    "            two_pt = [cnt+1, np_seq[i,1], np_seq[i,2].coords[0]]\n",
    "            segm_seq = [one_pt, two_pt]\n",
    "            print(i)\n",
    "        #\n",
    "#         segm_seq = [one_trip_id] + segm_seq\n",
    "        lst_new_seq = lst_new_seq + segm_seq\n",
    "    #\n",
    "\n",
    "    node_seq_fin = get_unique_seq(lst_new_seq)\n",
    "    i=0\n",
    "    for i in range(len(node_seq_fin)):\n",
    "        node_seq_fin[i] = [one_trip_id] + node_seq_fin[i]\n",
    "\n",
    "    return node_seq_fin"
   ]
  },
  {
   "cell_type": "code",
   "execution_count": 135,
   "metadata": {},
   "outputs": [],
   "source": [
    "def check_graph(new_seq, np_grph, ind_ndfr, ind_ndto):\n",
    "\n",
    "    lst_bad = []\n",
    "    i=0\n",
    "    for i in range(1, len(new_seq)):\n",
    "        nd_from = new_seq[i-1][2]\n",
    "        nd_to = new_seq[i][2]\n",
    "\n",
    "        one_link = np_grph[(np_grph[:,ind_ndfr] == nd_from) & (np_grph[:,ind_ndto] == nd_to)]\n",
    "        if len(one_link) == 0:\n",
    "            lst_bad.append(1)\n",
    "    # \n",
    "    new_seq2 = new_seq[:]\n",
    "    i=0\n",
    "    for i in range(len(new_seq)):\n",
    "        if len(lst_bad) == 0:\n",
    "            new_seq2[i] = new_seq2[i] + [True]\n",
    "        else:\n",
    "            new_seq2[i] = new_seq2[i] + [False]\n",
    "    #\n",
    "    return new_seq2\n",
    "#"
   ]
  },
  {
   "cell_type": "code",
   "execution_count": null,
   "metadata": {},
   "outputs": [],
   "source": []
  },
  {
   "cell_type": "code",
   "execution_count": 139,
   "metadata": {},
   "outputs": [],
   "source": [
    "buffer=7\n",
    "buffer2=20\n",
    "\n",
    "np_ga = gdf_all.to_numpy()\n",
    "ind_geo = list(gdf_all.columns).index('geometry')\n",
    "ind_ti = list(gdf_all.columns).index('trip_id')\n",
    "ind_li = list(gdf_all.columns).index('line_id')\n",
    "\n",
    "\n",
    "np_rb = reestr_big.to_numpy()\n",
    "ind_rb_li = list(reestr_big.columns).index('line_id')\n",
    "ind_rb_tp = list(reestr_big.columns).index('type_ts')\n",
    "\n",
    "\n",
    "np_grph = graph.to_numpy()\n",
    "ind_ndfr = list(graph.columns).index('from_node')\n",
    "ind_ndto = list(graph.columns).index('to_node')\n",
    "ind_gr_li = list(graph.columns).index('link_id')"
   ]
  },
  {
   "cell_type": "code",
   "execution_count": 63,
   "metadata": {},
   "outputs": [],
   "source": []
  },
  {
   "cell_type": "code",
   "execution_count": 144,
   "metadata": {
    "scrolled": true
   },
   "outputs": [
    {
     "data": {
      "application/vnd.jupyter.widget-view+json": {
       "model_id": "f00fe94cf17b4e1dbff67bed7809adf1",
       "version_major": 2,
       "version_minor": 0
      },
      "text/plain": [
       "HBox(children=(FloatProgress(value=0.0, max=10.0), HTML(value='')))"
      ]
     },
     "metadata": {},
     "output_type": "display_data"
    },
    {
     "data": {
      "application/vnd.jupyter.widget-view+json": {
       "model_id": "b1ed990d6fd74be6a20e81db43caa421",
       "version_major": 2,
       "version_minor": 0
      },
      "text/plain": [
       "HBox(children=(FloatProgress(value=0.0, max=21.0), HTML(value='')))"
      ]
     },
     "metadata": {},
     "output_type": "display_data"
    },
    {
     "name": "stderr",
     "output_type": "stream",
     "text": [
      "Snapping: 100%|██████████████████████████████████████████████████████████████████████████| 1/1 [00:00<00:00, 83.35it/s]\n",
      "Snapping: 100%|██████████████████████████████████████████████████████████████████████████| 1/1 [00:00<00:00, 90.92it/s]\n",
      "C:\\Users\\ochristm\\anaconda3\\lib\\site-packages\\momepy\\utils.py:202: UserWarning: Geometry is in a geographic CRS. Results from 'length' are likely incorrect. Use 'GeoSeries.to_crs()' to re-project geometries to a projected CRS before this operation.\n",
      "\n",
      "  gdf_network[length] = gdf_network.geometry.length\n",
      "Snapping: 100%|█████████████████████████████████████████████████████████████████████████| 1/1 [00:00<00:00, 100.02it/s]\n",
      "Snapping: 100%|█████████████████████████████████████████████████████████████████████████| 1/1 [00:00<00:00, 100.01it/s]\n",
      "Snapping: 100%|██████████████████████████████████████████████████████████████████████████| 1/1 [00:00<00:00, 90.93it/s]\n",
      "Snapping: 100%|██████████████████████████████████████████████████████████████████████████| 1/1 [00:00<00:00, 76.92it/s]\n",
      "Snapping: 100%|██████████████████████████████████████████████████████████████████████████| 1/1 [00:00<00:00, 71.44it/s]\n",
      "Snapping: 100%|██████████████████████████████████████████████████████████████████████████| 1/1 [00:00<00:00, 76.91it/s]\n",
      "Snapping: 100%|██████████████████████████████████████████████████████████████████████████| 1/1 [00:00<00:00, 90.93it/s]\n",
      "Snapping: 100%|██████████████████████████████████████████████████████████████████████████| 1/1 [00:00<00:00, 90.93it/s]\n",
      "Snapping: 100%|██████████████████████████████████████████████████████████████████████████| 1/1 [00:00<00:00, 90.91it/s]\n",
      "Snapping: 100%|██████████████████████████████████████████████████████████████████████████| 1/1 [00:00<00:00, 83.33it/s]\n",
      "Snapping: 100%|██████████████████████████████████████████████████████████████████████████| 1/1 [00:00<00:00, 99.96it/s]\n",
      "Snapping: 100%|██████████████████████████████████████████████████████████████████████████| 1/1 [00:00<00:00, 90.91it/s]"
     ]
    },
    {
     "name": "stdout",
     "output_type": "stream",
     "text": [
      "6\n"
     ]
    },
    {
     "name": "stderr",
     "output_type": "stream",
     "text": [
      "\n",
      "Snapping: 100%|██████████████████████████████████████████████████████████████████████████| 1/1 [00:00<00:00, 71.43it/s]\n",
      "Snapping: 100%|██████████████████████████████████████████████████████████████████████████| 1/1 [00:00<00:00, 99.97it/s]\n",
      "Snapping: 100%|█████████████████████████████████████████████████████████████████████████| 1/1 [00:00<00:00, 111.13it/s]\n",
      "Snapping: 100%|█████████████████████████████████████████████████████████████████████████| 1/1 [00:00<00:00, 111.14it/s]\n",
      "Snapping: 100%|██████████████████████████████████████████████████████████████████████████| 1/1 [00:00<00:00, 76.91it/s]\n",
      "Snapping: 100%|██████████████████████████████████████████████████████████████████████████| 1/1 [00:00<00:00, 83.32it/s]"
     ]
    },
    {
     "name": "stdout",
     "output_type": "stream",
     "text": [
      "7\n"
     ]
    },
    {
     "name": "stderr",
     "output_type": "stream",
     "text": [
      "\n",
      "Snapping: 100%|█████████████████████████████████████████████████████████████████████████| 1/1 [00:00<00:00, 111.13it/s]\n",
      "Snapping: 100%|██████████████████████████████████████████████████████████████████████████| 1/1 [00:00<00:00, 76.92it/s]\n",
      "Snapping: 100%|██████████████████████████████████████████████████████████████████████████| 1/1 [00:00<00:00, 83.35it/s]\n",
      "Snapping: 100%|██████████████████████████████████████████████████████████████████████████| 1/1 [00:00<00:00, 83.34it/s]\n",
      "Snapping: 100%|██████████████████████████████████████████████████████████████████████████| 1/1 [00:00<00:00, 71.41it/s]\n",
      "Snapping: 100%|█████████████████████████████████████████████████████████████████████████| 1/1 [00:00<00:00, 100.00it/s]\n",
      "Snapping: 100%|██████████████████████████████████████████████████████████████████████████| 1/1 [00:00<00:00, 71.43it/s]\n",
      "Snapping: 100%|██████████████████████████████████████████████████████████████████████████| 1/1 [00:00<00:00, 90.92it/s]\n",
      "Snapping: 100%|██████████████████████████████████████████████████████████████████████████| 1/1 [00:00<00:00, 76.91it/s]\n",
      "Snapping: 100%|██████████████████████████████████████████████████████████████████████████| 1/1 [00:00<00:00, 83.35it/s]\n",
      "Snapping: 100%|██████████████████████████████████████████████████████████████████████████| 1/1 [00:00<00:00, 76.93it/s]\n",
      "Snapping: 100%|█████████████████████████████████████████████████████████████████████████| 1/1 [00:00<00:00, 111.12it/s]"
     ]
    },
    {
     "name": "stdout",
     "output_type": "stream",
     "text": [
      "9\n"
     ]
    },
    {
     "name": "stderr",
     "output_type": "stream",
     "text": [
      "\n",
      "Snapping: 100%|█████████████████████████████████████████████████████████████████████████| 1/1 [00:00<00:00, 111.14it/s]\n",
      "Snapping: 100%|█████████████████████████████████████████████████████████████████████████| 1/1 [00:00<00:00, 111.12it/s]\n",
      "Snapping: 100%|██████████████████████████████████████████████████████████████████████████| 1/1 [00:00<00:00, 76.91it/s]\n",
      "Snapping: 100%|█████████████████████████████████████████████████████████████████████████| 1/1 [00:00<00:00, 111.13it/s]\n",
      "Snapping: 100%|█████████████████████████████████████████████████████████████████████████| 1/1 [00:00<00:00, 111.15it/s]\n",
      "Snapping: 100%|██████████████████████████████████████████████████████████████████████████| 1/1 [00:00<00:00, 99.98it/s]"
     ]
    },
    {
     "name": "stdout",
     "output_type": "stream",
     "text": [
      "10\n"
     ]
    },
    {
     "name": "stderr",
     "output_type": "stream",
     "text": [
      "\n",
      "Snapping: 100%|██████████████████████████████████████████████████████████████████████████| 1/1 [00:00<00:00, 76.93it/s]\n",
      "Snapping: 100%|██████████████████████████████████████████████████████████████████████████| 1/1 [00:00<00:00, 76.93it/s]\n",
      "Snapping: 100%|█████████████████████████████████████████████████████████████████████████| 1/1 [00:00<00:00, 111.11it/s]\n",
      "Snapping: 100%|██████████████████████████████████████████████████████████████████████████| 1/1 [00:00<00:00, 76.92it/s]\n",
      "Snapping: 100%|██████████████████████████████████████████████████████████████████████████| 1/1 [00:00<00:00, 76.92it/s]\n",
      "Snapping: 100%|█████████████████████████████████████████████████████████████████████████| 1/1 [00:00<00:00, 125.01it/s]\n",
      "Snapping: 100%|██████████████████████████████████████████████████████████████████████████| 1/1 [00:00<00:00, 76.89it/s]\n",
      "Snapping: 100%|██████████████████████████████████████████████████████████████████████████| 1/1 [00:00<00:00, 76.93it/s]\n",
      "Snapping: 100%|█████████████████████████████████████████████████████████████████████████| 1/1 [00:00<00:00, 111.13it/s]\n",
      "Snapping: 100%|█████████████████████████████████████████████████████████████████████████| 1/1 [00:00<00:00, 111.16it/s]\n",
      "Snapping: 100%|██████████████████████████████████████████████████████████████████████████| 1/1 [00:00<00:00, 90.92it/s]\n",
      "Snapping: 100%|██████████████████████████████████████████████████████████████████████████| 1/1 [00:00<00:00, 90.78it/s]\n",
      "Snapping: 100%|██████████████████████████████████████████████████████████████████████████| 1/1 [00:00<00:00, 83.35it/s]\n",
      "Snapping: 100%|██████████████████████████████████████████████████████████████████████████| 1/1 [00:00<00:00, 83.32it/s]\n",
      "Snapping: 100%|█████████████████████████████████████████████████████████████████████████| 1/1 [00:00<00:00, 100.00it/s]\n",
      "Snapping: 100%|█████████████████████████████████████████████████████████████████████████| 1/1 [00:00<00:00, 100.05it/s]\n",
      "Snapping: 100%|██████████████████████████████████████████████████████████████████████████| 1/1 [00:00<00:00, 90.91it/s]\n",
      "Snapping: 100%|█████████████████████████████████████████████████████████████████████████| 1/1 [00:00<00:00, 111.15it/s]\n",
      "Snapping: 100%|██████████████████████████████████████████████████████████████████████████| 1/1 [00:00<00:00, 90.88it/s]\n",
      "Snapping: 100%|█████████████████████████████████████████████████████████████████████████| 1/1 [00:00<00:00, 111.12it/s]\n",
      "Snapping: 100%|█████████████████████████████████████████████████████████████████████████| 1/1 [00:00<00:00, 100.03it/s]\n",
      "Snapping: 100%|█████████████████████████████████████████████████████████████████████████| 1/1 [00:00<00:00, 100.02it/s]\n",
      "Snapping: 100%|██████████████████████████████████████████████████████████████████████████| 1/1 [00:00<00:00, 76.94it/s]\n",
      "Snapping: 100%|██████████████████████████████████████████████████████████████████████████| 1/1 [00:00<00:00, 76.91it/s]\n",
      "Snapping: 100%|██████████████████████████████████████████████████████████████████████████| 1/1 [00:00<00:00, 76.93it/s]\n",
      "Snapping: 100%|██████████████████████████████████████████████████████████████████████████| 1/1 [00:00<00:00, 76.91it/s]\n",
      "Snapping: 100%|██████████████████████████████████████████████████████████████████████████| 1/1 [00:00<00:00, 90.96it/s]\n",
      "Snapping: 100%|█████████████████████████████████████████████████████████████████████████| 1/1 [00:00<00:00, 111.12it/s]\n",
      "Snapping: 100%|██████████████████████████████████████████████████████████████████████████| 1/1 [00:00<00:00, 62.50it/s]\n",
      "Snapping: 100%|██████████████████████████████████████████████████████████████████████████| 1/1 [00:00<00:00, 71.42it/s]"
     ]
    },
    {
     "name": "stdout",
     "output_type": "stream",
     "text": [
      "20\n"
     ]
    },
    {
     "name": "stderr",
     "output_type": "stream",
     "text": [
      "\n",
      "Snapping: 100%|█████████████████████████████████████████████████████████████████████████| 1/1 [00:00<00:00, 100.01it/s]\n",
      "Snapping: 100%|█████████████████████████████████████████████████████████████████████████| 1/1 [00:00<00:00, 100.00it/s]\n",
      "Snapping: 100%|██████████████████████████████████████████████████████████████████████████| 1/1 [00:00<00:00, 76.91it/s]\n",
      "Snapping: 100%|██████████████████████████████████████████████████████████████████████████| 1/1 [00:00<00:00, 76.94it/s]\n",
      "Snapping: 100%|██████████████████████████████████████████████████████████████████████████| 1/1 [00:00<00:00, 76.92it/s]\n",
      "Snapping: 100%|██████████████████████████████████████████████████████████████████████████| 1/1 [00:00<00:00, 76.93it/s]\n"
     ]
    },
    {
     "name": "stdout",
     "output_type": "stream",
     "text": [
      "\n"
     ]
    },
    {
     "data": {
      "application/vnd.jupyter.widget-view+json": {
       "model_id": "2afd9a276af44e87b59976a4292d48b1",
       "version_major": 2,
       "version_minor": 0
      },
      "text/plain": [
       "HBox(children=(FloatProgress(value=0.0, max=140.0), HTML(value='')))"
      ]
     },
     "metadata": {},
     "output_type": "display_data"
    },
    {
     "name": "stderr",
     "output_type": "stream",
     "text": [
      "Snapping: 100%|██████████████████████████████████████████████████████████████████████████| 1/1 [00:00<00:00, 71.42it/s]\n",
      "Snapping: 100%|██████████████████████████████████████████████████████████████████████████| 1/1 [00:00<00:00, 90.91it/s]\n",
      "C:\\Users\\ochristm\\anaconda3\\lib\\site-packages\\momepy\\utils.py:202: UserWarning: Geometry is in a geographic CRS. Results from 'length' are likely incorrect. Use 'GeoSeries.to_crs()' to re-project geometries to a projected CRS before this operation.\n",
      "\n",
      "  gdf_network[length] = gdf_network.geometry.length\n",
      "Snapping: 100%|██████████████████████████████████████████████████████████████████████████| 1/1 [00:00<00:00, 90.92it/s]\n",
      "Snapping: 100%|██████████████████████████████████████████████████████████████████████████| 1/1 [00:00<00:00, 90.90it/s]\n",
      "Snapping: 100%|██████████████████████████████████████████████████████████████████████████| 1/1 [00:00<00:00, 83.08it/s]\n",
      "Snapping: 100%|██████████████████████████████████████████████████████████████████████████| 1/1 [00:00<00:00, 76.93it/s]\n",
      "Snapping: 100%|█████████████████████████████████████████████████████████████████████████| 1/1 [00:00<00:00, 100.06it/s]\n",
      "Snapping: 100%|█████████████████████████████████████████████████████████████████████████| 1/1 [00:00<00:00, 100.00it/s]\n",
      "Snapping: 100%|██████████████████████████████████████████████████████████████████████████| 1/1 [00:00<00:00, 90.89it/s]\n",
      "Snapping: 100%|█████████████████████████████████████████████████████████████████████████| 1/1 [00:00<00:00, 111.11it/s]\n",
      "Snapping: 100%|██████████████████████████████████████████████████████████████████████████| 1/1 [00:00<00:00, 76.92it/s]\n",
      "Snapping: 100%|█████████████████████████████████████████████████████████████████████████| 1/1 [00:00<00:00, 100.00it/s]\n",
      "Snapping: 100%|██████████████████████████████████████████████████████████████████████████| 1/1 [00:00<00:00, 83.31it/s]\n",
      "Snapping: 100%|██████████████████████████████████████████████████████████████████████████| 1/1 [00:00<00:00, 83.32it/s]\n",
      "Snapping: 100%|██████████████████████████████████████████████████████████████████████████| 1/1 [00:00<00:00, 83.32it/s]\n",
      "Snapping: 100%|██████████████████████████████████████████████████████████████████████████| 1/1 [00:00<00:00, 66.66it/s]\n",
      "Snapping: 100%|██████████████████████████████████████████████████████████████████████████| 1/1 [00:00<00:00, 90.88it/s]\n",
      "Snapping: 100%|██████████████████████████████████████████████████████████████████████████| 1/1 [00:00<00:00, 99.99it/s]\n",
      "Snapping: 100%|█████████████████████████████████████████████████████████████████████████| 1/1 [00:00<00:00, 100.02it/s]\n",
      "Snapping: 100%|██████████████████████████████████████████████████████████████████████████| 1/1 [00:00<00:00, 76.93it/s]\n",
      "Snapping: 100%|██████████████████████████████████████████████████████████████████████████| 1/1 [00:00<00:00, 71.44it/s]\n",
      "Snapping: 100%|█████████████████████████████████████████████████████████████████████████| 1/1 [00:00<00:00, 111.12it/s]\n",
      "Snapping: 100%|██████████████████████████████████████████████████████████████████████████| 1/1 [00:00<00:00, 71.43it/s]\n",
      "Snapping: 100%|██████████████████████████████████████████████████████████████████████████| 1/1 [00:00<00:00, 76.93it/s]\n",
      "Snapping: 100%|██████████████████████████████████████████████████████████████████████████| 1/1 [00:00<00:00, 71.43it/s]\n",
      "Snapping: 100%|██████████████████████████████████████████████████████████████████████████| 1/1 [00:00<00:00, 71.40it/s]\n",
      "Snapping: 100%|█████████████████████████████████████████████████████████████████████████| 1/1 [00:00<00:00, 100.02it/s]\n",
      "Snapping: 100%|██████████████████████████████████████████████████████████████████████████| 1/1 [00:00<00:00, 99.98it/s]\n",
      "Snapping: 100%|██████████████████████████████████████████████████████████████████████████| 1/1 [00:00<00:00, 90.92it/s]\n",
      "Snapping: 100%|█████████████████████████████████████████████████████████████████████████| 1/1 [00:00<00:00, 111.11it/s]\n",
      "Snapping: 100%|██████████████████████████████████████████████████████████████████████████| 1/1 [00:00<00:00, 83.33it/s]\n",
      "Snapping: 100%|█████████████████████████████████████████████████████████████████████████| 1/1 [00:00<00:00, 100.02it/s]\n",
      "Snapping: 100%|██████████████████████████████████████████████████████████████████████████| 1/1 [00:00<00:00, 99.99it/s]\n",
      "Snapping: 100%|█████████████████████████████████████████████████████████████████████████| 1/1 [00:00<00:00, 100.01it/s]\n",
      "Snapping: 100%|██████████████████████████████████████████████████████████████████████████| 1/1 [00:00<00:00, 90.92it/s]\n",
      "Snapping: 100%|█████████████████████████████████████████████████████████████████████████| 1/1 [00:00<00:00, 100.00it/s]\n",
      "Snapping: 100%|██████████████████████████████████████████████████████████████████████████| 1/1 [00:00<00:00, 90.92it/s]\n",
      "Snapping: 100%|█████████████████████████████████████████████████████████████████████████| 1/1 [00:00<00:00, 100.05it/s]\n",
      "Snapping: 100%|██████████████████████████████████████████████████████████████████████████| 1/1 [00:00<00:00, 76.91it/s]\n",
      "Snapping: 100%|██████████████████████████████████████████████████████████████████████████| 1/1 [00:00<00:00, 76.95it/s]\n",
      "Snapping: 100%|██████████████████████████████████████████████████████████████████████████| 1/1 [00:00<00:00, 71.43it/s]\n",
      "Snapping: 100%|█████████████████████████████████████████████████████████████████████████| 1/1 [00:00<00:00, 100.00it/s]\n",
      "Snapping: 100%|██████████████████████████████████████████████████████████████████████████| 1/1 [00:00<00:00, 71.44it/s]\n",
      "Snapping: 100%|██████████████████████████████████████████████████████████████████████████| 1/1 [00:00<00:00, 71.42it/s]\n",
      "Snapping: 100%|██████████████████████████████████████████████████████████████████████████| 1/1 [00:00<00:00, 83.34it/s]\n",
      "Snapping: 100%|█████████████████████████████████████████████████████████████████████████| 1/1 [00:00<00:00, 100.02it/s]\n",
      "Snapping: 100%|██████████████████████████████████████████████████████████████████████████| 1/1 [00:00<00:00, 90.92it/s]\n",
      "Snapping: 100%|██████████████████████████████████████████████████████████████████████████| 1/1 [00:00<00:00, 76.92it/s]\n",
      "Snapping: 100%|██████████████████████████████████████████████████████████████████████████| 1/1 [00:00<00:00, 71.42it/s]\n",
      "Snapping: 100%|██████████████████████████████████████████████████████████████████████████| 1/1 [00:00<00:00, 90.92it/s]\n",
      "Snapping: 100%|██████████████████████████████████████████████████████████████████████████| 1/1 [00:00<00:00, 83.34it/s]\n",
      "Snapping: 100%|█████████████████████████████████████████████████████████████████████████| 1/1 [00:00<00:00, 105.22it/s]\n",
      "Snapping: 100%|██████████████████████████████████████████████████████████████████████████| 1/1 [00:00<00:00, 76.91it/s]\n",
      "Snapping: 100%|█████████████████████████████████████████████████████████████████████████| 1/1 [00:00<00:00, 111.14it/s]\n",
      "Snapping: 100%|█████████████████████████████████████████████████████████████████████████| 1/1 [00:00<00:00, 100.02it/s]\n",
      "Snapping: 100%|█████████████████████████████████████████████████████████████████████████| 1/1 [00:00<00:00, 100.01it/s]\n",
      "Snapping: 100%|██████████████████████████████████████████████████████████████████████████| 1/1 [00:00<00:00, 90.90it/s]\n",
      "Snapping: 100%|██████████████████████████████████████████████████████████████████████████| 1/1 [00:00<00:00, 71.43it/s]\n",
      "Snapping: 100%|█████████████████████████████████████████████████████████████████████████| 1/1 [00:00<00:00, 100.03it/s]\n",
      "Snapping: 100%|█████████████████████████████████████████████████████████████████████████| 1/1 [00:00<00:00, 100.00it/s]\n",
      "Snapping: 100%|██████████████████████████████████████████████████████████████████████████| 1/1 [00:00<00:00, 83.32it/s]\n",
      "Snapping: 100%|██████████████████████████████████████████████████████████████████████████| 1/1 [00:00<00:00, 83.31it/s]\n",
      "Snapping: 100%|██████████████████████████████████████████████████████████████████████████| 1/1 [00:00<00:00, 71.41it/s]\n",
      "Snapping: 100%|██████████████████████████████████████████████████████████████████████████| 1/1 [00:00<00:00, 83.31it/s]\n",
      "Snapping: 100%|██████████████████████████████████████████████████████████████████████████| 1/1 [00:00<00:00, 71.43it/s]\n"
     ]
    },
    {
     "name": "stderr",
     "output_type": "stream",
     "text": [
      "Snapping: 100%|██████████████████████████████████████████████████████████████████████████| 1/1 [00:00<00:00, 99.99it/s]\n",
      "Snapping: 100%|██████████████████████████████████████████████████████████████████████████| 1/1 [00:00<00:00, 71.43it/s]\n",
      "Snapping: 100%|█████████████████████████████████████████████████████████████████████████| 1/1 [00:00<00:00, 100.01it/s]\n",
      "Snapping: 100%|██████████████████████████████████████████████████████████████████████████| 1/1 [00:00<00:00, 71.43it/s]\n",
      "Snapping: 100%|██████████████████████████████████████████████████████████████████████████| 1/1 [00:00<00:00, 71.43it/s]\n",
      "Snapping: 100%|██████████████████████████████████████████████████████████████████████████| 1/1 [00:00<00:00, 83.35it/s]\n",
      "Snapping: 100%|██████████████████████████████████████████████████████████████████████████| 1/1 [00:00<00:00, 90.89it/s]\n",
      "Snapping: 100%|██████████████████████████████████████████████████████████████████████████| 1/1 [00:00<00:00, 83.33it/s]\n",
      "Snapping: 100%|█████████████████████████████████████████████████████████████████████████| 1/1 [00:00<00:00, 100.00it/s]\n",
      "Snapping: 100%|██████████████████████████████████████████████████████████████████████████| 1/1 [00:00<00:00, 90.91it/s]\n",
      "Snapping: 100%|██████████████████████████████████████████████████████████████████████████| 1/1 [00:00<00:00, 99.99it/s]\n",
      "Snapping: 100%|█████████████████████████████████████████████████████████████████████████| 1/1 [00:00<00:00, 100.05it/s]\n",
      "Snapping: 100%|██████████████████████████████████████████████████████████████████████████| 1/1 [00:00<00:00, 71.42it/s]\n",
      "Snapping: 100%|██████████████████████████████████████████████████████████████████████████| 1/1 [00:00<00:00, 83.33it/s]\n",
      "Snapping: 100%|██████████████████████████████████████████████████████████████████████████| 1/1 [00:00<00:00, 71.43it/s]\n",
      "Snapping: 100%|██████████████████████████████████████████████████████████████████████████| 1/1 [00:00<00:00, 90.92it/s]\n",
      "Snapping: 100%|██████████████████████████████████████████████████████████████████████████| 1/1 [00:00<00:00, 90.90it/s]\n",
      "Snapping: 100%|██████████████████████████████████████████████████████████████████████████| 1/1 [00:00<00:00, 90.91it/s]\n",
      "Snapping: 100%|██████████████████████████████████████████████████████████████████████████| 1/1 [00:00<00:00, 73.91it/s]\n",
      "Snapping: 100%|██████████████████████████████████████████████████████████████████████████| 1/1 [00:00<00:00, 83.34it/s]\n",
      "Snapping: 100%|██████████████████████████████████████████████████████████████████████████| 1/1 [00:00<00:00, 76.93it/s]\n",
      "Snapping: 100%|██████████████████████████████████████████████████████████████████████████| 1/1 [00:00<00:00, 66.67it/s]\n",
      "Snapping: 100%|█████████████████████████████████████████████████████████████████████████| 1/1 [00:00<00:00, 100.02it/s]\n",
      "Snapping: 100%|██████████████████████████████████████████████████████████████████████████| 1/1 [00:00<00:00, 99.99it/s]\n",
      "Snapping: 100%|██████████████████████████████████████████████████████████████████████████| 1/1 [00:00<00:00, 99.96it/s]\n",
      "Snapping: 100%|█████████████████████████████████████████████████████████████████████████| 1/1 [00:00<00:00, 100.01it/s]\n",
      "Snapping: 100%|█████████████████████████████████████████████████████████████████████████| 1/1 [00:00<00:00, 100.02it/s]\n",
      "Snapping: 100%|██████████████████████████████████████████████████████████████████████████| 1/1 [00:00<00:00, 90.90it/s]\n",
      "Snapping: 100%|██████████████████████████████████████████████████████████████████████████| 1/1 [00:00<00:00, 90.89it/s]\n",
      "Snapping: 100%|██████████████████████████████████████████████████████████████████████████| 1/1 [00:00<00:00, 71.43it/s]\n",
      "Snapping: 100%|█████████████████████████████████████████████████████████████████████████| 1/1 [00:00<00:00, 100.00it/s]\n",
      "Snapping: 100%|██████████████████████████████████████████████████████████████████████████| 1/1 [00:00<00:00, 99.99it/s]\n",
      "Snapping: 100%|██████████████████████████████████████████████████████████████████████████| 1/1 [00:00<00:00, 76.91it/s]\n",
      "Snapping: 100%|██████████████████████████████████████████████████████████████████████████| 1/1 [00:00<00:00, 90.93it/s]\n",
      "Snapping: 100%|█████████████████████████████████████████████████████████████████████████| 1/1 [00:00<00:00, 100.00it/s]\n",
      "Snapping: 100%|██████████████████████████████████████████████████████████████████████████| 1/1 [00:00<00:00, 71.44it/s]\n",
      "Snapping: 100%|██████████████████████████████████████████████████████████████████████████| 1/1 [00:00<00:00, 71.42it/s]\n",
      "Snapping: 100%|██████████████████████████████████████████████████████████████████████████| 1/1 [00:00<00:00, 83.34it/s]\n",
      "Snapping: 100%|██████████████████████████████████████████████████████████████████████████| 1/1 [00:00<00:00, 66.67it/s]\n",
      "Snapping: 100%|██████████████████████████████████████████████████████████████████████████| 1/1 [00:00<00:00, 83.32it/s]\n",
      "Snapping: 100%|██████████████████████████████████████████████████████████████████████████| 1/1 [00:00<00:00, 90.92it/s]\n",
      "Snapping: 100%|██████████████████████████████████████████████████████████████████████████| 1/1 [00:00<00:00, 90.90it/s]\n",
      "Snapping: 100%|██████████████████████████████████████████████████████████████████████████| 1/1 [00:00<00:00, 90.91it/s]\n",
      "Snapping: 100%|██████████████████████████████████████████████████████████████████████████| 1/1 [00:00<00:00, 66.65it/s]\n",
      "Snapping: 100%|██████████████████████████████████████████████████████████████████████████| 1/1 [00:00<00:00, 90.90it/s]\n",
      "Snapping: 100%|██████████████████████████████████████████████████████████████████████████| 1/1 [00:00<00:00, 76.92it/s]\n",
      "Snapping: 100%|██████████████████████████████████████████████████████████████████████████| 1/1 [00:00<00:00, 90.91it/s]\n",
      "Snapping: 100%|██████████████████████████████████████████████████████████████████████████| 1/1 [00:00<00:00, 90.91it/s]\n",
      "Snapping: 100%|██████████████████████████████████████████████████████████████████████████| 1/1 [00:00<00:00, 90.91it/s]\n",
      "Snapping: 100%|██████████████████████████████████████████████████████████████████████████| 1/1 [00:00<00:00, 76.94it/s]\n",
      "Snapping: 100%|██████████████████████████████████████████████████████████████████████████| 1/1 [00:00<00:00, 90.93it/s]\n",
      "Snapping: 100%|██████████████████████████████████████████████████████████████████████████| 1/1 [00:00<00:00, 90.90it/s]\n",
      "Snapping: 100%|██████████████████████████████████████████████████████████████████████████| 1/1 [00:00<00:00, 76.91it/s]\n",
      "Snapping: 100%|██████████████████████████████████████████████████████████████████████████| 1/1 [00:00<00:00, 71.42it/s]\n",
      "Snapping: 100%|██████████████████████████████████████████████████████████████████████████| 1/1 [00:00<00:00, 71.41it/s]\n",
      "Snapping: 100%|██████████████████████████████████████████████████████████████████████████| 1/1 [00:00<00:00, 83.31it/s]\n",
      "Snapping: 100%|██████████████████████████████████████████████████████████████████████████| 1/1 [00:00<00:00, 71.42it/s]\n",
      "Snapping: 100%|██████████████████████████████████████████████████████████████████████████| 1/1 [00:00<00:00, 90.93it/s]\n",
      "Snapping: 100%|██████████████████████████████████████████████████████████████████████████| 1/1 [00:00<00:00, 90.90it/s]\n",
      "Snapping: 100%|██████████████████████████████████████████████████████████████████████████| 1/1 [00:00<00:00, 90.93it/s]\n",
      "Snapping: 100%|██████████████████████████████████████████████████████████████████████████| 1/1 [00:00<00:00, 90.90it/s]\n",
      "Snapping: 100%|██████████████████████████████████████████████████████████████████████████| 1/1 [00:00<00:00, 71.43it/s]\n",
      "Snapping: 100%|██████████████████████████████████████████████████████████████████████████| 1/1 [00:00<00:00, 71.41it/s]\n",
      "Snapping: 100%|██████████████████████████████████████████████████████████████████████████| 1/1 [00:00<00:00, 90.92it/s]\n",
      "Snapping: 100%|██████████████████████████████████████████████████████████████████████████| 1/1 [00:00<00:00, 90.88it/s]\n",
      "Snapping: 100%|██████████████████████████████████████████████████████████████████████████| 1/1 [00:00<00:00, 90.89it/s]\n",
      "Snapping: 100%|██████████████████████████████████████████████████████████████████████████| 1/1 [00:00<00:00, 66.66it/s]\n",
      "Snapping: 100%|█████████████████████████████████████████████████████████████████████████| 1/1 [00:00<00:00, 100.03it/s]\n"
     ]
    },
    {
     "name": "stderr",
     "output_type": "stream",
     "text": [
      "Snapping: 100%|██████████████████████████████████████████████████████████████████████████| 1/1 [00:00<00:00, 90.87it/s]\n",
      "Snapping: 100%|██████████████████████████████████████████████████████████████████████████| 1/1 [00:00<00:00, 71.42it/s]\n",
      "Snapping: 100%|██████████████████████████████████████████████████████████████████████████| 1/1 [00:00<00:00, 71.42it/s]\n",
      "Snapping: 100%|██████████████████████████████████████████████████████████████████████████| 1/1 [00:00<00:00, 76.91it/s]\n",
      "Snapping: 100%|██████████████████████████████████████████████████████████████████████████| 1/1 [00:00<00:00, 71.43it/s]\n",
      "Snapping: 100%|██████████████████████████████████████████████████████████████████████████| 1/1 [00:00<00:00, 99.99it/s]\n",
      "Snapping: 100%|██████████████████████████████████████████████████████████████████████████| 1/1 [00:00<00:00, 90.89it/s]\n",
      "Snapping: 100%|██████████████████████████████████████████████████████████████████████████| 1/1 [00:00<00:00, 83.32it/s]\n",
      "Snapping: 100%|██████████████████████████████████████████████████████████████████████████| 1/1 [00:00<00:00, 71.45it/s]\n",
      "Snapping: 100%|██████████████████████████████████████████████████████████████████████████| 1/1 [00:00<00:00, 71.41it/s]\n",
      "Snapping: 100%|██████████████████████████████████████████████████████████████████████████| 1/1 [00:00<00:00, 71.40it/s]\n",
      "Snapping: 100%|██████████████████████████████████████████████████████████████████████████| 1/1 [00:00<00:00, 83.33it/s]\n",
      "Snapping: 100%|██████████████████████████████████████████████████████████████████████████| 1/1 [00:00<00:00, 90.90it/s]\n",
      "Snapping: 100%|██████████████████████████████████████████████████████████████████████████| 1/1 [00:00<00:00, 66.67it/s]\n",
      "Snapping: 100%|██████████████████████████████████████████████████████████████████████████| 1/1 [00:00<00:00, 71.43it/s]\n",
      "Snapping: 100%|██████████████████████████████████████████████████████████████████████████| 1/1 [00:00<00:00, 76.91it/s]\n",
      "Snapping: 100%|██████████████████████████████████████████████████████████████████████████| 1/1 [00:00<00:00, 66.67it/s]\n",
      "Snapping: 100%|██████████████████████████████████████████████████████████████████████████| 1/1 [00:00<00:00, 83.32it/s]\n",
      "Snapping: 100%|██████████████████████████████████████████████████████████████████████████| 1/1 [00:00<00:00, 71.45it/s]\n",
      "Snapping: 100%|██████████████████████████████████████████████████████████████████████████| 1/1 [00:00<00:00, 83.34it/s]\n",
      "Snapping: 100%|█████████████████████████████████████████████████████████████████████████| 1/1 [00:00<00:00, 100.03it/s]\n",
      "Snapping: 100%|██████████████████████████████████████████████████████████████████████████| 1/1 [00:00<00:00, 50.01it/s]\n",
      "Snapping: 100%|██████████████████████████████████████████████████████████████████████████| 1/1 [00:00<00:00, 71.43it/s]\n",
      "Snapping: 100%|██████████████████████████████████████████████████████████████████████████| 1/1 [00:00<00:00, 83.34it/s]\n",
      "Snapping: 100%|██████████████████████████████████████████████████████████████████████████| 1/1 [00:00<00:00, 71.42it/s]\n",
      "Snapping: 100%|██████████████████████████████████████████████████████████████████████████| 1/1 [00:00<00:00, 90.93it/s]\n",
      "Snapping: 100%|██████████████████████████████████████████████████████████████████████████| 1/1 [00:00<00:00, 66.66it/s]\n",
      "Snapping: 100%|██████████████████████████████████████████████████████████████████████████| 1/1 [00:00<00:00, 76.92it/s]\n",
      "Snapping: 100%|██████████████████████████████████████████████████████████████████████████| 1/1 [00:00<00:00, 90.91it/s]\n",
      "Snapping: 100%|██████████████████████████████████████████████████████████████████████████| 1/1 [00:00<00:00, 83.28it/s]\n",
      "Snapping: 100%|██████████████████████████████████████████████████████████████████████████| 1/1 [00:00<00:00, 90.90it/s]\n",
      "Snapping: 100%|██████████████████████████████████████████████████████████████████████████| 1/1 [00:00<00:00, 83.35it/s]\n",
      "Snapping: 100%|██████████████████████████████████████████████████████████████████████████| 1/1 [00:00<00:00, 90.92it/s]\n",
      "Snapping: 100%|██████████████████████████████████████████████████████████████████████████| 1/1 [00:00<00:00, 71.44it/s]\n",
      "Snapping: 100%|██████████████████████████████████████████████████████████████████████████| 1/1 [00:00<00:00, 90.89it/s]\n",
      "Snapping: 100%|██████████████████████████████████████████████████████████████████████████| 1/1 [00:00<00:00, 90.88it/s]\n",
      "Snapping: 100%|█████████████████████████████████████████████████████████████████████████| 1/1 [00:00<00:00, 100.01it/s]\n",
      "Snapping: 100%|██████████████████████████████████████████████████████████████████████████| 1/1 [00:00<00:00, 90.92it/s]\n",
      "Snapping: 100%|██████████████████████████████████████████████████████████████████████████| 1/1 [00:00<00:00, 83.34it/s]\n",
      "Snapping: 100%|██████████████████████████████████████████████████████████████████████████| 1/1 [00:00<00:00, 90.92it/s]\n",
      "Snapping: 100%|█████████████████████████████████████████████████████████████████████████| 1/1 [00:00<00:00, 100.00it/s]\n",
      "Snapping: 100%|██████████████████████████████████████████████████████████████████████████| 1/1 [00:00<00:00, 55.56it/s]\n",
      "Snapping: 100%|█████████████████████████████████████████████████████████████████████████| 1/1 [00:00<00:00, 100.03it/s]\n",
      "Snapping: 100%|██████████████████████████████████████████████████████████████████████████| 1/1 [00:00<00:00, 71.44it/s]\n",
      "Snapping: 100%|██████████████████████████████████████████████████████████████████████████| 1/1 [00:00<00:00, 90.91it/s]\n",
      "Snapping: 100%|██████████████████████████████████████████████████████████████████████████| 1/1 [00:00<00:00, 66.66it/s]\n",
      "Snapping: 100%|█████████████████████████████████████████████████████████████████████████| 1/1 [00:00<00:00, 100.03it/s]\n",
      "Snapping: 100%|██████████████████████████████████████████████████████████████████████████| 1/1 [00:00<00:00, 66.67it/s]\n",
      "Snapping: 100%|██████████████████████████████████████████████████████████████████████████| 1/1 [00:00<00:00, 99.98it/s]\n",
      "Snapping: 100%|██████████████████████████████████████████████████████████████████████████| 1/1 [00:00<00:00, 66.68it/s]\n",
      "Snapping: 100%|██████████████████████████████████████████████████████████████████████████| 1/1 [00:00<00:00, 76.92it/s]\n",
      "Snapping: 100%|██████████████████████████████████████████████████████████████████████████| 1/1 [00:00<00:00, 90.93it/s]\n",
      "Snapping: 100%|██████████████████████████████████████████████████████████████████████████| 1/1 [00:00<00:00, 71.42it/s]\n",
      "Snapping: 100%|██████████████████████████████████████████████████████████████████████████| 1/1 [00:00<00:00, 90.91it/s]\n",
      "Snapping: 100%|██████████████████████████████████████████████████████████████████████████| 1/1 [00:00<00:00, 90.93it/s]\n",
      "Snapping: 100%|██████████████████████████████████████████████████████████████████████████| 1/1 [00:00<00:00, 71.42it/s]\n",
      "Snapping: 100%|██████████████████████████████████████████████████████████████████████████| 1/1 [00:00<00:00, 99.74it/s]\n",
      "Snapping: 100%|██████████████████████████████████████████████████████████████████████████| 1/1 [00:00<00:00, 66.67it/s]\n",
      "Snapping: 100%|█████████████████████████████████████████████████████████████████████████| 1/1 [00:00<00:00, 100.00it/s]\n",
      "Snapping: 100%|██████████████████████████████████████████████████████████████████████████| 1/1 [00:00<00:00, 79.92it/s]\n",
      "Snapping: 100%|█████████████████████████████████████████████████████████████████████████| 1/1 [00:00<00:00, 100.02it/s]\n",
      "Snapping: 100%|██████████████████████████████████████████████████████████████████████████| 1/1 [00:00<00:00, 83.33it/s]\n",
      "Snapping: 100%|██████████████████████████████████████████████████████████████████████████| 1/1 [00:00<00:00, 71.42it/s]\n",
      "Snapping: 100%|██████████████████████████████████████████████████████████████████████████| 1/1 [00:00<00:00, 90.92it/s]\n",
      "Snapping: 100%|██████████████████████████████████████████████████████████████████████████| 1/1 [00:00<00:00, 76.92it/s]\n",
      "Snapping: 100%|██████████████████████████████████████████████████████████████████████████| 1/1 [00:00<00:00, 90.93it/s]\n",
      "Snapping: 100%|██████████████████████████████████████████████████████████████████████████| 1/1 [00:00<00:00, 62.49it/s]\n",
      "Snapping: 100%|██████████████████████████████████████████████████████████████████████████| 1/1 [00:00<00:00, 90.89it/s]\n"
     ]
    },
    {
     "name": "stderr",
     "output_type": "stream",
     "text": [
      "Snapping: 100%|██████████████████████████████████████████████████████████████████████████| 1/1 [00:00<00:00, 90.93it/s]\n",
      "Snapping: 100%|██████████████████████████████████████████████████████████████████████████| 1/1 [00:00<00:00, 83.33it/s]\n",
      "Snapping: 100%|██████████████████████████████████████████████████████████████████████████| 1/1 [00:00<00:00, 71.42it/s]\n",
      "Snapping: 100%|██████████████████████████████████████████████████████████████████████████| 1/1 [00:00<00:00, 90.90it/s]\n",
      "Snapping: 100%|██████████████████████████████████████████████████████████████████████████| 1/1 [00:00<00:00, 90.92it/s]\n",
      "Snapping: 100%|██████████████████████████████████████████████████████████████████████████| 1/1 [00:00<00:00, 76.91it/s]\n",
      "Snapping: 100%|██████████████████████████████████████████████████████████████████████████| 1/1 [00:00<00:00, 90.90it/s]\n",
      "Snapping: 100%|██████████████████████████████████████████████████████████████████████████| 1/1 [00:00<00:00, 99.99it/s]\n",
      "Snapping: 100%|██████████████████████████████████████████████████████████████████████████| 1/1 [00:00<00:00, 90.92it/s]\n",
      "Snapping: 100%|██████████████████████████████████████████████████████████████████████████| 1/1 [00:00<00:00, 76.95it/s]\n",
      "Snapping: 100%|██████████████████████████████████████████████████████████████████████████| 1/1 [00:00<00:00, 71.42it/s]\n",
      "Snapping: 100%|██████████████████████████████████████████████████████████████████████████| 1/1 [00:00<00:00, 76.93it/s]\n",
      "Snapping: 100%|██████████████████████████████████████████████████████████████████████████| 1/1 [00:00<00:00, 76.92it/s]\n",
      "Snapping: 100%|██████████████████████████████████████████████████████████████████████████| 1/1 [00:00<00:00, 99.98it/s]\n",
      "Snapping: 100%|██████████████████████████████████████████████████████████████████████████| 1/1 [00:00<00:00, 58.82it/s]\n",
      "Snapping: 100%|██████████████████████████████████████████████████████████████████████████| 1/1 [00:00<00:00, 66.66it/s]\n",
      "Snapping: 100%|██████████████████████████████████████████████████████████████████████████| 1/1 [00:00<00:00, 66.67it/s]\n",
      "Snapping: 100%|██████████████████████████████████████████████████████████████████████████| 1/1 [00:00<00:00, 90.93it/s]\n",
      "Snapping: 100%|██████████████████████████████████████████████████████████████████████████| 1/1 [00:00<00:00, 90.91it/s]\n",
      "Snapping: 100%|██████████████████████████████████████████████████████████████████████████| 1/1 [00:00<00:00, 66.67it/s]\n",
      "Snapping: 100%|██████████████████████████████████████████████████████████████████████████| 1/1 [00:00<00:00, 76.92it/s]\n",
      "Snapping: 100%|██████████████████████████████████████████████████████████████████████████| 1/1 [00:00<00:00, 83.32it/s]\n",
      "Snapping: 100%|██████████████████████████████████████████████████████████████████████████| 1/1 [00:00<00:00, 71.44it/s]\n",
      "Snapping: 100%|██████████████████████████████████████████████████████████████████████████| 1/1 [00:00<00:00, 62.49it/s]\n",
      "Snapping: 100%|██████████████████████████████████████████████████████████████████████████| 1/1 [00:00<00:00, 66.66it/s]\n",
      "Snapping: 100%|██████████████████████████████████████████████████████████████████████████| 1/1 [00:00<00:00, 90.92it/s]\n",
      "Snapping: 100%|██████████████████████████████████████████████████████████████████████████| 1/1 [00:00<00:00, 71.42it/s]\n",
      "Snapping: 100%|█████████████████████████████████████████████████████████████████████████| 1/1 [00:00<00:00, 100.02it/s]\n",
      "Snapping: 100%|██████████████████████████████████████████████████████████████████████████| 1/1 [00:00<00:00, 66.68it/s]\n",
      "Snapping: 100%|██████████████████████████████████████████████████████████████████████████| 1/1 [00:00<00:00, 83.32it/s]\n",
      "Snapping: 100%|██████████████████████████████████████████████████████████████████████████| 1/1 [00:00<00:00, 83.35it/s]\n",
      "Snapping: 100%|██████████████████████████████████████████████████████████████████████████| 1/1 [00:00<00:00, 90.92it/s]\n",
      "Snapping: 100%|██████████████████████████████████████████████████████████████████████████| 1/1 [00:00<00:00, 90.92it/s]\n",
      "Snapping: 100%|██████████████████████████████████████████████████████████████████████████| 1/1 [00:00<00:00, 90.92it/s]\n",
      "Snapping: 100%|██████████████████████████████████████████████████████████████████████████| 1/1 [00:00<00:00, 90.89it/s]\n",
      "Snapping: 100%|██████████████████████████████████████████████████████████████████████████| 1/1 [00:00<00:00, 83.35it/s]\n",
      "Snapping: 100%|██████████████████████████████████████████████████████████████████████████| 1/1 [00:00<00:00, 90.97it/s]\n",
      "Snapping: 100%|██████████████████████████████████████████████████████████████████████████| 1/1 [00:00<00:00, 71.43it/s]\n",
      "Snapping: 100%|██████████████████████████████████████████████████████████████████████████| 1/1 [00:00<00:00, 71.41it/s]\n",
      "Snapping: 100%|██████████████████████████████████████████████████████████████████████████| 1/1 [00:00<00:00, 83.35it/s]\n",
      "Snapping: 100%|██████████████████████████████████████████████████████████████████████████| 1/1 [00:00<00:00, 66.67it/s]\n",
      "Snapping: 100%|██████████████████████████████████████████████████████████████████████████| 1/1 [00:00<00:00, 66.67it/s]\n",
      "Snapping: 100%|██████████████████████████████████████████████████████████████████████████| 1/1 [00:00<00:00, 71.42it/s]\n",
      "Snapping: 100%|██████████████████████████████████████████████████████████████████████████| 1/1 [00:00<00:00, 83.34it/s]\n",
      "Snapping: 100%|██████████████████████████████████████████████████████████████████████████| 1/1 [00:00<00:00, 76.95it/s]\n",
      "Snapping: 100%|██████████████████████████████████████████████████████████████████████████| 1/1 [00:00<00:00, 90.93it/s]\n",
      "Snapping: 100%|██████████████████████████████████████████████████████████████████████████| 1/1 [00:00<00:00, 90.90it/s]\n",
      "Snapping: 100%|██████████████████████████████████████████████████████████████████████████| 1/1 [00:00<00:00, 90.91it/s]\n",
      "Snapping: 100%|██████████████████████████████████████████████████████████████████████████| 1/1 [00:00<00:00, 71.43it/s]\n",
      "Snapping: 100%|██████████████████████████████████████████████████████████████████████████| 1/1 [00:00<00:00, 62.51it/s]\n",
      "Snapping: 100%|██████████████████████████████████████████████████████████████████████████| 1/1 [00:00<00:00, 71.42it/s]\n",
      "Snapping: 100%|██████████████████████████████████████████████████████████████████████████| 1/1 [00:00<00:00, 83.34it/s]\n",
      "Snapping: 100%|██████████████████████████████████████████████████████████████████████████| 1/1 [00:00<00:00, 76.94it/s]\n",
      "Snapping: 100%|██████████████████████████████████████████████████████████████████████████| 1/1 [00:00<00:00, 47.62it/s]\n",
      "Snapping: 100%|██████████████████████████████████████████████████████████████████████████| 1/1 [00:00<00:00, 71.42it/s]\n",
      "Snapping: 100%|██████████████████████████████████████████████████████████████████████████| 1/1 [00:00<00:00, 83.34it/s]\n",
      "Snapping: 100%|██████████████████████████████████████████████████████████████████████████| 1/1 [00:00<00:00, 76.90it/s]\n",
      "Snapping: 100%|██████████████████████████████████████████████████████████████████████████| 1/1 [00:00<00:00, 83.31it/s]\n",
      "Snapping: 100%|██████████████████████████████████████████████████████████████████████████| 1/1 [00:00<00:00, 90.90it/s]\n",
      "Snapping: 100%|██████████████████████████████████████████████████████████████████████████| 1/1 [00:00<00:00, 62.50it/s]\n",
      "Snapping: 100%|██████████████████████████████████████████████████████████████████████████| 1/1 [00:00<00:00, 66.66it/s]\n",
      "Snapping: 100%|██████████████████████████████████████████████████████████████████████████| 1/1 [00:00<00:00, 90.91it/s]\n",
      "Snapping: 100%|█████████████████████████████████████████████████████████████████████████| 1/1 [00:00<00:00, 100.05it/s]\n",
      "Snapping: 100%|██████████████████████████████████████████████████████████████████████████| 1/1 [00:00<00:00, 83.33it/s]\n",
      "Snapping: 100%|█████████████████████████████████████████████████████████████████████████| 1/1 [00:00<00:00, 100.04it/s]\n",
      "Snapping: 100%|██████████████████████████████████████████████████████████████████████████| 1/1 [00:00<00:00, 83.34it/s]\n",
      "Snapping: 100%|██████████████████████████████████████████████████████████████████████████| 1/1 [00:00<00:00, 90.90it/s]\n",
      "Snapping: 100%|██████████████████████████████████████████████████████████████████████████| 1/1 [00:00<00:00, 66.66it/s]\n"
     ]
    },
    {
     "name": "stderr",
     "output_type": "stream",
     "text": [
      "Snapping: 100%|██████████████████████████████████████████████████████████████████████████| 1/1 [00:00<00:00, 69.35it/s]\n",
      "Snapping: 100%|██████████████████████████████████████████████████████████████████████████| 1/1 [00:00<00:00, 90.90it/s]\n",
      "Snapping: 100%|██████████████████████████████████████████████████████████████████████████| 1/1 [00:00<00:00, 71.43it/s]\n",
      "Snapping: 100%|██████████████████████████████████████████████████████████████████████████| 1/1 [00:00<00:00, 99.98it/s]\n",
      "Snapping: 100%|██████████████████████████████████████████████████████████████████████████| 1/1 [00:00<00:00, 66.68it/s]\n",
      "Snapping: 100%|██████████████████████████████████████████████████████████████████████████| 1/1 [00:00<00:00, 76.93it/s]\n",
      "Snapping: 100%|██████████████████████████████████████████████████████████████████████████| 1/1 [00:00<00:00, 66.66it/s]\n",
      "Snapping: 100%|██████████████████████████████████████████████████████████████████████████| 1/1 [00:00<00:00, 90.90it/s]\n",
      "Snapping: 100%|██████████████████████████████████████████████████████████████████████████| 1/1 [00:00<00:00, 90.91it/s]\n",
      "Snapping: 100%|██████████████████████████████████████████████████████████████████████████| 1/1 [00:00<00:00, 83.35it/s]\n",
      "Snapping: 100%|██████████████████████████████████████████████████████████████████████████| 1/1 [00:00<00:00, 76.93it/s]\n"
     ]
    },
    {
     "name": "stdout",
     "output_type": "stream",
     "text": [
      "\n"
     ]
    },
    {
     "data": {
      "application/vnd.jupyter.widget-view+json": {
       "model_id": "91f6ce88ab4a4985ac6c560183b644f6",
       "version_major": 2,
       "version_minor": 0
      },
      "text/plain": [
       "HBox(children=(FloatProgress(value=0.0, max=20.0), HTML(value='')))"
      ]
     },
     "metadata": {},
     "output_type": "display_data"
    },
    {
     "name": "stderr",
     "output_type": "stream",
     "text": [
      "Snapping: 100%|██████████████████████████████████████████████████████████████████████████| 1/1 [00:00<00:00, 99.98it/s]\n",
      "Snapping: 100%|█████████████████████████████████████████████████████████████████████████| 1/1 [00:00<00:00, 100.00it/s]\n",
      "C:\\Users\\ochristm\\anaconda3\\lib\\site-packages\\momepy\\utils.py:202: UserWarning: Geometry is in a geographic CRS. Results from 'length' are likely incorrect. Use 'GeoSeries.to_crs()' to re-project geometries to a projected CRS before this operation.\n",
      "\n",
      "  gdf_network[length] = gdf_network.geometry.length\n",
      "Snapping: 100%|██████████████████████████████████████████████████████████████████████████| 1/1 [00:00<00:00, 99.58it/s]\n",
      "Snapping: 100%|██████████████████████████████████████████████████████████████████████████| 1/1 [00:00<00:00, 71.40it/s]\n",
      "Snapping: 100%|██████████████████████████████████████████████████████████████████████████| 1/1 [00:00<00:00, 90.89it/s]\n",
      "Snapping: 100%|█████████████████████████████████████████████████████████████████████████| 1/1 [00:00<00:00, 111.09it/s]\n",
      "Snapping: 100%|██████████████████████████████████████████████████████████████████████████| 1/1 [00:00<00:00, 99.98it/s]\n",
      "Snapping: 100%|██████████████████████████████████████████████████████████████████████████| 1/1 [00:00<00:00, 83.36it/s]\n",
      "Snapping: 100%|█████████████████████████████████████████████████████████████████████████| 1/1 [00:00<00:00, 100.02it/s]\n",
      "Snapping: 100%|██████████████████████████████████████████████████████████████████████████| 1/1 [00:00<00:00, 76.92it/s]\n",
      "Snapping: 100%|██████████████████████████████████████████████████████████████████████████| 1/1 [00:00<00:00, 90.93it/s]\n",
      "Snapping: 100%|█████████████████████████████████████████████████████████████████████████| 1/1 [00:00<00:00, 111.15it/s]\n",
      "Snapping: 100%|██████████████████████████████████████████████████████████████████████████| 1/1 [00:00<00:00, 76.93it/s]\n",
      "Snapping: 100%|█████████████████████████████████████████████████████████████████████████| 1/1 [00:00<00:00, 111.13it/s]\n",
      "Snapping: 100%|█████████████████████████████████████████████████████████████████████████| 1/1 [00:00<00:00, 100.01it/s]\n",
      "Snapping: 100%|██████████████████████████████████████████████████████████████████████████| 1/1 [00:00<00:00, 83.35it/s]\n",
      "Snapping: 100%|██████████████████████████████████████████████████████████████████████████| 1/1 [00:00<00:00, 76.94it/s]\n",
      "Snapping: 100%|██████████████████████████████████████████████████████████████████████████| 1/1 [00:00<00:00, 76.91it/s]\n",
      "Snapping: 100%|█████████████████████████████████████████████████████████████████████████| 1/1 [00:00<00:00, 100.04it/s]\n",
      "Snapping: 100%|█████████████████████████████████████████████████████████████████████████| 1/1 [00:00<00:00, 100.00it/s]\n",
      "Snapping: 100%|█████████████████████████████████████████████████████████████████████████| 1/1 [00:00<00:00, 100.00it/s]\n",
      "Snapping: 100%|██████████████████████████████████████████████████████████████████████████| 1/1 [00:00<00:00, 77.04it/s]"
     ]
    },
    {
     "name": "stdout",
     "output_type": "stream",
     "text": [
      "10\n"
     ]
    },
    {
     "name": "stderr",
     "output_type": "stream",
     "text": [
      "\n",
      "Snapping: 100%|██████████████████████████████████████████████████████████████████████████| 1/1 [00:00<00:00, 76.95it/s]\n",
      "Snapping: 100%|██████████████████████████████████████████████████████████████████████████| 1/1 [00:00<00:00, 83.37it/s]\n",
      "Snapping: 100%|█████████████████████████████████████████████████████████████████████████| 1/1 [00:00<00:00, 111.17it/s]\n",
      "Snapping: 100%|██████████████████████████████████████████████████████████████████████████| 1/1 [00:00<00:00, 90.91it/s]\n",
      "Snapping: 100%|█████████████████████████████████████████████████████████████████████████| 1/1 [00:00<00:00, 111.15it/s]\n",
      "Snapping: 100%|██████████████████████████████████████████████████████████████████████████| 1/1 [00:00<00:00, 76.88it/s]\n",
      "Snapping: 100%|██████████████████████████████████████████████████████████████████████████| 1/1 [00:00<00:00, 76.92it/s]\n",
      "Snapping: 100%|██████████████████████████████████████████████████████████████████████████| 1/1 [00:00<00:00, 99.96it/s]\n",
      "Snapping: 100%|██████████████████████████████████████████████████████████████████████████| 1/1 [00:00<00:00, 83.34it/s]\n",
      "Snapping: 100%|██████████████████████████████████████████████████████████████████████████| 1/1 [00:00<00:00, 76.93it/s]\n",
      "Snapping: 100%|██████████████████████████████████████████████████████████████████████████| 1/1 [00:00<00:00, 76.92it/s]\n",
      "Snapping: 100%|█████████████████████████████████████████████████████████████████████████| 1/1 [00:00<00:00, 111.11it/s]\n",
      "Snapping: 100%|██████████████████████████████████████████████████████████████████████████| 1/1 [00:00<00:00, 76.90it/s]\n",
      "Snapping: 100%|██████████████████████████████████████████████████████████████████████████| 1/1 [00:00<00:00, 73.88it/s]\n",
      "Snapping: 100%|█████████████████████████████████████████████████████████████████████████| 1/1 [00:00<00:00, 111.14it/s]\n",
      "Snapping: 100%|██████████████████████████████████████████████████████████████████████████| 1/1 [00:00<00:00, 76.96it/s]"
     ]
    },
    {
     "name": "stdout",
     "output_type": "stream",
     "text": [
      "13\n"
     ]
    },
    {
     "name": "stderr",
     "output_type": "stream",
     "text": [
      "\n",
      "Snapping: 100%|█████████████████████████████████████████████████████████████████████████| 1/1 [00:00<00:00, 111.11it/s]\n",
      "Snapping: 100%|██████████████████████████████████████████████████████████████████████████| 1/1 [00:00<00:00, 83.35it/s]\n",
      "Snapping: 100%|█████████████████████████████████████████████████████████████████████████| 1/1 [00:00<00:00, 100.00it/s]\n",
      "Snapping: 100%|██████████████████████████████████████████████████████████████████████████| 1/1 [00:00<00:00, 76.88it/s]\n",
      "Snapping: 100%|█████████████████████████████████████████████████████████████████████████| 1/1 [00:00<00:00, 111.14it/s]\n",
      "Snapping: 100%|█████████████████████████████████████████████████████████████████████████| 1/1 [00:00<00:00, 111.14it/s]\n",
      "Snapping: 100%|█████████████████████████████████████████████████████████████████████████| 1/1 [00:00<00:00, 104.99it/s]\n",
      "Snapping: 100%|██████████████████████████████████████████████████████████████████████████| 1/1 [00:00<00:00, 90.93it/s]\n",
      "Snapping: 100%|██████████████████████████████████████████████████████████████████████████| 1/1 [00:00<00:00, 71.42it/s]\n",
      "Snapping: 100%|█████████████████████████████████████████████████████████████████████████| 1/1 [00:00<00:00, 100.00it/s]\n",
      "Snapping: 100%|██████████████████████████████████████████████████████████████████████████| 1/1 [00:00<00:00, 99.97it/s]\n",
      "Snapping: 100%|█████████████████████████████████████████████████████████████████████████| 1/1 [00:00<00:00, 111.13it/s]\n",
      "Snapping: 100%|█████████████████████████████████████████████████████████████████████████| 1/1 [00:00<00:00, 100.00it/s]\n",
      "Snapping: 100%|█████████████████████████████████████████████████████████████████████████| 1/1 [00:00<00:00, 111.15it/s]\n",
      "Snapping: 100%|██████████████████████████████████████████████████████████████████████████| 1/1 [00:00<00:00, 82.90it/s]\n",
      "Snapping: 100%|█████████████████████████████████████████████████████████████████████████| 1/1 [00:00<00:00, 100.02it/s]\n",
      "Snapping: 100%|██████████████████████████████████████████████████████████████████████████| 1/1 [00:00<00:00, 76.94it/s]\n",
      "Snapping: 100%|█████████████████████████████████████████████████████████████████████████| 1/1 [00:00<00:00, 125.02it/s]\n",
      "Snapping: 100%|█████████████████████████████████████████████████████████████████████████| 1/1 [00:00<00:00, 100.01it/s]\n",
      "Snapping: 100%|█████████████████████████████████████████████████████████████████████████| 1/1 [00:00<00:00, 125.04it/s]\n",
      "Snapping: 100%|██████████████████████████████████████████████████████████████████████████| 1/1 [00:00<00:00, 90.93it/s]\n",
      "Snapping: 100%|█████████████████████████████████████████████████████████████████████████| 1/1 [00:00<00:00, 100.02it/s]\n",
      "Snapping: 100%|█████████████████████████████████████████████████████████████████████████| 1/1 [00:00<00:00, 111.15it/s]\n",
      "Snapping: 100%|█████████████████████████████████████████████████████████████████████████| 1/1 [00:00<00:00, 111.12it/s]\n",
      "Snapping: 100%|██████████████████████████████████████████████████████████████████████████| 1/1 [00:00<00:00, 90.90it/s]\n",
      "Snapping: 100%|██████████████████████████████████████████████████████████████████████████| 1/1 [00:00<00:00, 76.93it/s]"
     ]
    },
    {
     "name": "stdout",
     "output_type": "stream",
     "text": [
      "19\n"
     ]
    },
    {
     "name": "stderr",
     "output_type": "stream",
     "text": [
      "\n",
      "Snapping: 100%|██████████████████████████████████████████████████████████████████████████| 1/1 [00:00<00:00, 83.32it/s]\n",
      "Snapping: 100%|█████████████████████████████████████████████████████████████████████████| 1/1 [00:00<00:00, 100.15it/s]\n",
      "Snapping: 100%|██████████████████████████████████████████████████████████████████████████| 1/1 [00:00<00:00, 76.93it/s]\n",
      "Snapping: 100%|██████████████████████████████████████████████████████████████████████████| 1/1 [00:00<00:00, 71.41it/s]\n",
      "Snapping: 100%|██████████████████████████████████████████████████████████████████████████| 1/1 [00:00<00:00, 71.43it/s]\n",
      "Snapping: 100%|██████████████████████████████████████████████████████████████████████████| 1/1 [00:00<00:00, 83.36it/s]\n",
      "Snapping: 100%|██████████████████████████████████████████████████████████████████████████| 1/1 [00:00<00:00, 83.35it/s]\n",
      "Snapping: 100%|██████████████████████████████████████████████████████████████████████████| 1/1 [00:00<00:00, 58.80it/s]\n",
      "C:\\Users\\ochristm\\anaconda3\\lib\\site-packages\\momepy\\utils.py:202: UserWarning: Geometry is in a geographic CRS. Results from 'length' are likely incorrect. Use 'GeoSeries.to_crs()' to re-project geometries to a projected CRS before this operation.\n",
      "\n",
      "  gdf_network[length] = gdf_network.geometry.length\n",
      "Snapping: 100%|█████████████████████████████████████████████████████████████████████████| 1/1 [00:00<00:00, 111.12it/s]\n",
      "Snapping: 100%|██████████████████████████████████████████████████████████████████████████| 1/1 [00:00<00:00, 90.92it/s]\n",
      "Snapping: 100%|██████████████████████████████████████████████████████████████████████████| 1/1 [00:00<00:00, 76.92it/s]\n",
      "Snapping: 100%|██████████████████████████████████████████████████████████████████████████| 1/1 [00:00<00:00, 99.99it/s]\n",
      "Snapping: 100%|██████████████████████████████████████████████████████████████████████████| 1/1 [00:00<00:00, 76.94it/s]\n",
      "Snapping: 100%|██████████████████████████████████████████████████████████████████████████| 1/1 [00:00<00:00, 79.97it/s]\n",
      "Snapping: 100%|██████████████████████████████████████████████████████████████████████████| 1/1 [00:00<00:00, 99.97it/s]\n",
      "Snapping: 100%|██████████████████████████████████████████████████████████████████████████| 1/1 [00:00<00:00, 99.98it/s]\n"
     ]
    },
    {
     "name": "stdout",
     "output_type": "stream",
     "text": [
      "\n"
     ]
    },
    {
     "data": {
      "application/vnd.jupyter.widget-view+json": {
       "model_id": "a40da7945cd0421fa1e8c1db4c6ee990",
       "version_major": 2,
       "version_minor": 0
      },
      "text/plain": [
       "HBox(children=(FloatProgress(value=0.0, max=140.0), HTML(value='')))"
      ]
     },
     "metadata": {},
     "output_type": "display_data"
    },
    {
     "name": "stderr",
     "output_type": "stream",
     "text": [
      "Snapping: 100%|█████████████████████████████████████████████████████████████████████████| 1/1 [00:00<00:00, 100.01it/s]\n",
      "Snapping: 100%|██████████████████████████████████████████████████████████████████████████| 1/1 [00:00<00:00, 66.67it/s]\n",
      "C:\\Users\\ochristm\\anaconda3\\lib\\site-packages\\momepy\\utils.py:202: UserWarning: Geometry is in a geographic CRS. Results from 'length' are likely incorrect. Use 'GeoSeries.to_crs()' to re-project geometries to a projected CRS before this operation.\n",
      "\n",
      "  gdf_network[length] = gdf_network.geometry.length\n",
      "Snapping: 100%|█████████████████████████████████████████████████████████████████████████| 1/1 [00:00<00:00, 100.00it/s]\n",
      "Snapping: 100%|█████████████████████████████████████████████████████████████████████████| 1/1 [00:00<00:00, 100.00it/s]\n",
      "Snapping: 100%|██████████████████████████████████████████████████████████████████████████| 1/1 [00:00<00:00, 99.95it/s]\n",
      "Snapping: 100%|█████████████████████████████████████████████████████████████████████████| 1/1 [00:00<00:00, 100.03it/s]\n",
      "Snapping: 100%|██████████████████████████████████████████████████████████████████████████| 1/1 [00:00<00:00, 66.67it/s]\n",
      "Snapping: 100%|█████████████████████████████████████████████████████████████████████████| 1/1 [00:00<00:00, 111.14it/s]\n",
      "Snapping: 100%|██████████████████████████████████████████████████████████████████████████| 1/1 [00:00<00:00, 90.91it/s]\n",
      "Snapping: 100%|██████████████████████████████████████████████████████████████████████████| 1/1 [00:00<00:00, 83.34it/s]\n",
      "Snapping: 100%|██████████████████████████████████████████████████████████████████████████| 1/1 [00:00<00:00, 90.92it/s]\n",
      "Snapping: 100%|██████████████████████████████████████████████████████████████████████████| 1/1 [00:00<00:00, 71.43it/s]\n",
      "Snapping: 100%|██████████████████████████████████████████████████████████████████████████| 1/1 [00:00<00:00, 90.91it/s]\n",
      "Snapping: 100%|██████████████████████████████████████████████████████████████████████████| 1/1 [00:00<00:00, 66.64it/s]\n",
      "Snapping: 100%|██████████████████████████████████████████████████████████████████████████| 1/1 [00:00<00:00, 66.67it/s]\n",
      "Snapping: 100%|██████████████████████████████████████████████████████████████████████████| 1/1 [00:00<00:00, 71.44it/s]\n",
      "Snapping: 100%|██████████████████████████████████████████████████████████████████████████| 1/1 [00:00<00:00, 83.30it/s]\n",
      "Snapping: 100%|█████████████████████████████████████████████████████████████████████████| 1/1 [00:00<00:00, 100.01it/s]\n",
      "Snapping: 100%|██████████████████████████████████████████████████████████████████████████| 1/1 [00:00<00:00, 90.90it/s]\n",
      "Snapping: 100%|██████████████████████████████████████████████████████████████████████████| 1/1 [00:00<00:00, 71.42it/s]\n",
      "Snapping: 100%|██████████████████████████████████████████████████████████████████████████| 1/1 [00:00<00:00, 76.92it/s]\n",
      "Snapping: 100%|██████████████████████████████████████████████████████████████████████████| 1/1 [00:00<00:00, 66.67it/s]\n",
      "Snapping: 100%|██████████████████████████████████████████████████████████████████████████| 1/1 [00:00<00:00, 71.43it/s]\n",
      "Snapping: 100%|█████████████████████████████████████████████████████████████████████████| 1/1 [00:00<00:00, 100.02it/s]\n",
      "Snapping: 100%|██████████████████████████████████████████████████████████████████████████| 1/1 [00:00<00:00, 66.66it/s]\n",
      "Snapping: 100%|██████████████████████████████████████████████████████████████████████████| 1/1 [00:00<00:00, 71.42it/s]\n",
      "Snapping: 100%|██████████████████████████████████████████████████████████████████████████| 1/1 [00:00<00:00, 71.44it/s]\n",
      "Snapping: 100%|██████████████████████████████████████████████████████████████████████████| 1/1 [00:00<00:00, 71.42it/s]\n",
      "Snapping: 100%|██████████████████████████████████████████████████████████████████████████| 1/1 [00:00<00:00, 90.91it/s]\n",
      "Snapping: 100%|██████████████████████████████████████████████████████████████████████████| 1/1 [00:00<00:00, 66.55it/s]\n",
      "Snapping: 100%|██████████████████████████████████████████████████████████████████████████| 1/1 [00:00<00:00, 90.94it/s]\n",
      "Snapping: 100%|██████████████████████████████████████████████████████████████████████████| 1/1 [00:00<00:00, 90.92it/s]\n",
      "Snapping: 100%|██████████████████████████████████████████████████████████████████████████| 1/1 [00:00<00:00, 90.88it/s]\n",
      "Snapping: 100%|██████████████████████████████████████████████████████████████████████████| 1/1 [00:00<00:00, 71.43it/s]\n",
      "Snapping: 100%|██████████████████████████████████████████████████████████████████████████| 1/1 [00:00<00:00, 71.38it/s]\n",
      "Snapping: 100%|██████████████████████████████████████████████████████████████████████████| 1/1 [00:00<00:00, 90.93it/s]\n",
      "Snapping: 100%|██████████████████████████████████████████████████████████████████████████| 1/1 [00:00<00:00, 90.91it/s]\n",
      "Snapping: 100%|██████████████████████████████████████████████████████████████████████████| 1/1 [00:00<00:00, 99.99it/s]\n",
      "Snapping: 100%|██████████████████████████████████████████████████████████████████████████| 1/1 [00:00<00:00, 66.67it/s]\n",
      "Snapping: 100%|█████████████████████████████████████████████████████████████████████████| 1/1 [00:00<00:00, 100.03it/s]\n",
      "Snapping: 100%|██████████████████████████████████████████████████████████████████████████| 1/1 [00:00<00:00, 90.90it/s]\n",
      "Snapping: 100%|██████████████████████████████████████████████████████████████████████████| 1/1 [00:00<00:00, 83.25it/s]\n",
      "Snapping: 100%|██████████████████████████████████████████████████████████████████████████| 1/1 [00:00<00:00, 90.90it/s]\n",
      "Snapping: 100%|██████████████████████████████████████████████████████████████████████████| 1/1 [00:00<00:00, 83.35it/s]\n",
      "Snapping: 100%|██████████████████████████████████████████████████████████████████████████| 1/1 [00:00<00:00, 71.43it/s]\n",
      "Snapping: 100%|██████████████████████████████████████████████████████████████████████████| 1/1 [00:00<00:00, 76.91it/s]\n",
      "Snapping: 100%|██████████████████████████████████████████████████████████████████████████| 1/1 [00:00<00:00, 83.32it/s]\n",
      "Snapping: 100%|█████████████████████████████████████████████████████████████████████████| 1/1 [00:00<00:00, 100.06it/s]\n",
      "Snapping: 100%|█████████████████████████████████████████████████████████████████████████| 1/1 [00:00<00:00, 100.04it/s]\n",
      "Snapping: 100%|██████████████████████████████████████████████████████████████████████████| 1/1 [00:00<00:00, 90.91it/s]\n",
      "Snapping: 100%|██████████████████████████████████████████████████████████████████████████| 1/1 [00:00<00:00, 99.99it/s]\n",
      "Snapping: 100%|██████████████████████████████████████████████████████████████████████████| 1/1 [00:00<00:00, 66.65it/s]\n",
      "Snapping: 100%|██████████████████████████████████████████████████████████████████████████| 1/1 [00:00<00:00, 90.90it/s]\n",
      "Snapping: 100%|██████████████████████████████████████████████████████████████████████████| 1/1 [00:00<00:00, 90.92it/s]\n",
      "Snapping: 100%|██████████████████████████████████████████████████████████████████████████| 1/1 [00:00<00:00, 76.93it/s]\n",
      "Snapping: 100%|██████████████████████████████████████████████████████████████████████████| 1/1 [00:00<00:00, 90.91it/s]\n",
      "Snapping: 100%|██████████████████████████████████████████████████████████████████████████| 1/1 [00:00<00:00, 83.32it/s]\n",
      "Snapping: 100%|██████████████████████████████████████████████████████████████████████████| 1/1 [00:00<00:00, 66.67it/s]\n",
      "Snapping: 100%|██████████████████████████████████████████████████████████████████████████| 1/1 [00:00<00:00, 66.66it/s]\n",
      "Snapping: 100%|██████████████████████████████████████████████████████████████████████████| 1/1 [00:00<00:00, 71.43it/s]\n",
      "Snapping: 100%|██████████████████████████████████████████████████████████████████████████| 1/1 [00:00<00:00, 90.93it/s]\n",
      "Snapping: 100%|██████████████████████████████████████████████████████████████████████████| 1/1 [00:00<00:00, 76.93it/s]\n",
      "Snapping: 100%|█████████████████████████████████████████████████████████████████████████| 1/1 [00:00<00:00, 100.02it/s]\n",
      "Snapping: 100%|██████████████████████████████████████████████████████████████████████████| 1/1 [00:00<00:00, 87.02it/s]\n",
      "Snapping: 100%|██████████████████████████████████████████████████████████████████████████| 1/1 [00:00<00:00, 90.92it/s]\n"
     ]
    },
    {
     "name": "stderr",
     "output_type": "stream",
     "text": [
      "Snapping: 100%|██████████████████████████████████████████████████████████████████████████| 1/1 [00:00<00:00, 90.91it/s]\n",
      "Snapping: 100%|█████████████████████████████████████████████████████████████████████████| 1/1 [00:00<00:00, 100.01it/s]\n",
      "Snapping: 100%|██████████████████████████████████████████████████████████████████████████| 1/1 [00:00<00:00, 95.13it/s]\n",
      "Snapping: 100%|█████████████████████████████████████████████████████████████████████████| 1/1 [00:00<00:00, 100.02it/s]\n",
      "Snapping: 100%|█████████████████████████████████████████████████████████████████████████| 1/1 [00:00<00:00, 111.12it/s]\n",
      "Snapping: 100%|██████████████████████████████████████████████████████████████████████████| 1/1 [00:00<00:00, 71.42it/s]\n",
      "Snapping: 100%|█████████████████████████████████████████████████████████████████████████| 1/1 [00:00<00:00, 100.00it/s]\n",
      "Snapping: 100%|██████████████████████████████████████████████████████████████████████████| 1/1 [00:00<00:00, 83.31it/s]\n",
      "Snapping: 100%|██████████████████████████████████████████████████████████████████████████| 1/1 [00:00<00:00, 66.64it/s]\n",
      "Snapping: 100%|██████████████████████████████████████████████████████████████████████████| 1/1 [00:00<00:00, 90.89it/s]\n",
      "Snapping: 100%|██████████████████████████████████████████████████████████████████████████| 1/1 [00:00<00:00, 83.34it/s]\n",
      "Snapping: 100%|█████████████████████████████████████████████████████████████████████████| 1/1 [00:00<00:00, 100.02it/s]\n",
      "Snapping: 100%|█████████████████████████████████████████████████████████████████████████| 1/1 [00:00<00:00, 100.03it/s]\n",
      "Snapping: 100%|██████████████████████████████████████████████████████████████████████████| 1/1 [00:00<00:00, 90.93it/s]\n",
      "Snapping: 100%|█████████████████████████████████████████████████████████████████████████| 1/1 [00:00<00:00, 100.01it/s]\n",
      "Snapping: 100%|██████████████████████████████████████████████████████████████████████████| 1/1 [00:00<00:00, 83.32it/s]\n",
      "Snapping: 100%|██████████████████████████████████████████████████████████████████████████| 1/1 [00:00<00:00, 99.99it/s]\n",
      "Snapping: 100%|██████████████████████████████████████████████████████████████████████████| 1/1 [00:00<00:00, 90.91it/s]\n",
      "Snapping: 100%|██████████████████████████████████████████████████████████████████████████| 1/1 [00:00<00:00, 71.41it/s]\n",
      "Snapping: 100%|█████████████████████████████████████████████████████████████████████████| 1/1 [00:00<00:00, 100.00it/s]\n",
      "Snapping: 100%|█████████████████████████████████████████████████████████████████████████| 1/1 [00:00<00:00, 100.01it/s]\n",
      "Snapping: 100%|██████████████████████████████████████████████████████████████████████████| 1/1 [00:00<00:00, 71.42it/s]\n",
      "Snapping: 100%|█████████████████████████████████████████████████████████████████████████| 1/1 [00:00<00:00, 100.02it/s]\n",
      "Snapping: 100%|██████████████████████████████████████████████████████████████████████████| 1/1 [00:00<00:00, 83.33it/s]\n",
      "Snapping: 100%|█████████████████████████████████████████████████████████████████████████| 1/1 [00:00<00:00, 100.01it/s]\n",
      "Snapping: 100%|██████████████████████████████████████████████████████████████████████████| 1/1 [00:00<00:00, 71.43it/s]\n",
      "Snapping: 100%|██████████████████████████████████████████████████████████████████████████| 1/1 [00:00<00:00, 71.43it/s]\n",
      "Snapping: 100%|██████████████████████████████████████████████████████████████████████████| 1/1 [00:00<00:00, 90.89it/s]\n",
      "Snapping: 100%|██████████████████████████████████████████████████████████████████████████| 1/1 [00:00<00:00, 83.33it/s]\n",
      "Snapping: 100%|██████████████████████████████████████████████████████████████████████████| 1/1 [00:00<00:00, 71.41it/s]\n",
      "Snapping: 100%|██████████████████████████████████████████████████████████████████████████| 1/1 [00:00<00:00, 76.94it/s]\n",
      "Snapping: 100%|██████████████████████████████████████████████████████████████████████████| 1/1 [00:00<00:00, 90.93it/s]\n",
      "Snapping: 100%|█████████████████████████████████████████████████████████████████████████| 1/1 [00:00<00:00, 100.00it/s]\n",
      "Snapping: 100%|██████████████████████████████████████████████████████████████████████████| 1/1 [00:00<00:00, 68.84it/s]\n",
      "Snapping: 100%|██████████████████████████████████████████████████████████████████████████| 1/1 [00:00<00:00, 90.92it/s]\n",
      "Snapping: 100%|██████████████████████████████████████████████████████████████████████████| 1/1 [00:00<00:00, 90.92it/s]\n",
      "Snapping: 100%|██████████████████████████████████████████████████████████████████████████| 1/1 [00:00<00:00, 99.99it/s]\n",
      "Snapping: 100%|██████████████████████████████████████████████████████████████████████████| 1/1 [00:00<00:00, 90.91it/s]\n",
      "Snapping: 100%|██████████████████████████████████████████████████████████████████████████| 1/1 [00:00<00:00, 90.91it/s]\n",
      "Snapping: 100%|██████████████████████████████████████████████████████████████████████████| 1/1 [00:00<00:00, 90.90it/s]\n",
      "Snapping: 100%|██████████████████████████████████████████████████████████████████████████| 1/1 [00:00<00:00, 90.91it/s]\n",
      "Snapping: 100%|█████████████████████████████████████████████████████████████████████████| 1/1 [00:00<00:00, 100.00it/s]\n",
      "Snapping: 100%|██████████████████████████████████████████████████████████████████████████| 1/1 [00:00<00:00, 71.43it/s]\n",
      "Snapping: 100%|██████████████████████████████████████████████████████████████████████████| 1/1 [00:00<00:00, 66.67it/s]\n",
      "Snapping: 100%|██████████████████████████████████████████████████████████████████████████| 1/1 [00:00<00:00, 71.43it/s]\n",
      "Snapping: 100%|██████████████████████████████████████████████████████████████████████████| 1/1 [00:00<00:00, 71.43it/s]\n",
      "Snapping: 100%|██████████████████████████████████████████████████████████████████████████| 1/1 [00:00<00:00, 90.88it/s]\n",
      "Snapping: 100%|██████████████████████████████████████████████████████████████████████████| 1/1 [00:00<00:00, 71.43it/s]\n",
      "Snapping: 100%|█████████████████████████████████████████████████████████████████████████| 1/1 [00:00<00:00, 100.00it/s]\n",
      "Snapping: 100%|██████████████████████████████████████████████████████████████████████████| 1/1 [00:00<00:00, 90.93it/s]\n",
      "Snapping: 100%|██████████████████████████████████████████████████████████████████████████| 1/1 [00:00<00:00, 90.92it/s]\n",
      "Snapping: 100%|██████████████████████████████████████████████████████████████████████████| 1/1 [00:00<00:00, 76.93it/s]\n",
      "Snapping: 100%|██████████████████████████████████████████████████████████████████████████| 1/1 [00:00<00:00, 66.67it/s]\n",
      "Snapping: 100%|█████████████████████████████████████████████████████████████████████████| 1/1 [00:00<00:00, 100.02it/s]\n",
      "Snapping: 100%|██████████████████████████████████████████████████████████████████████████| 1/1 [00:00<00:00, 66.68it/s]\n",
      "Snapping: 100%|██████████████████████████████████████████████████████████████████████████| 1/1 [00:00<00:00, 71.43it/s]\n",
      "Snapping: 100%|██████████████████████████████████████████████████████████████████████████| 1/1 [00:00<00:00, 71.43it/s]\n",
      "Snapping: 100%|█████████████████████████████████████████████████████████████████████████| 1/1 [00:00<00:00, 100.01it/s]\n",
      "Snapping: 100%|██████████████████████████████████████████████████████████████████████████| 1/1 [00:00<00:00, 99.98it/s]\n",
      "Snapping: 100%|██████████████████████████████████████████████████████████████████████████| 1/1 [00:00<00:00, 90.93it/s]\n",
      "Snapping: 100%|██████████████████████████████████████████████████████████████████████████| 1/1 [00:00<00:00, 71.43it/s]\n",
      "Snapping: 100%|██████████████████████████████████████████████████████████████████████████| 1/1 [00:00<00:00, 90.94it/s]\n",
      "Snapping: 100%|██████████████████████████████████████████████████████████████████████████| 1/1 [00:00<00:00, 83.35it/s]\n",
      "Snapping: 100%|██████████████████████████████████████████████████████████████████████████| 1/1 [00:00<00:00, 71.43it/s]\n",
      "Snapping: 100%|██████████████████████████████████████████████████████████████████████████| 1/1 [00:00<00:00, 76.93it/s]\n",
      "Snapping: 100%|██████████████████████████████████████████████████████████████████████████| 1/1 [00:00<00:00, 90.92it/s]\n",
      "Snapping: 100%|██████████████████████████████████████████████████████████████████████████| 1/1 [00:00<00:00, 83.33it/s]\n",
      "Snapping: 100%|██████████████████████████████████████████████████████████████████████████| 1/1 [00:00<00:00, 90.91it/s]\n"
     ]
    },
    {
     "name": "stderr",
     "output_type": "stream",
     "text": [
      "Snapping: 100%|██████████████████████████████████████████████████████████████████████████| 1/1 [00:00<00:00, 71.40it/s]\n",
      "Snapping: 100%|██████████████████████████████████████████████████████████████████████████| 1/1 [00:00<00:00, 99.97it/s]\n",
      "Snapping: 100%|██████████████████████████████████████████████████████████████████████████| 1/1 [00:00<00:00, 76.94it/s]\n",
      "Snapping: 100%|██████████████████████████████████████████████████████████████████████████| 1/1 [00:00<00:00, 99.99it/s]\n",
      "Snapping: 100%|██████████████████████████████████████████████████████████████████████████| 1/1 [00:00<00:00, 71.42it/s]\n",
      "Snapping: 100%|██████████████████████████████████████████████████████████████████████████| 1/1 [00:00<00:00, 66.51it/s]\n",
      "Snapping: 100%|██████████████████████████████████████████████████████████████████████████| 1/1 [00:00<00:00, 90.91it/s]\n",
      "Snapping: 100%|██████████████████████████████████████████████████████████████████████████| 1/1 [00:00<00:00, 83.33it/s]\n",
      "Snapping: 100%|█████████████████████████████████████████████████████████████████████████| 1/1 [00:00<00:00, 100.02it/s]\n",
      "Snapping: 100%|█████████████████████████████████████████████████████████████████████████| 1/1 [00:00<00:00, 100.01it/s]\n",
      "Snapping: 100%|██████████████████████████████████████████████████████████████████████████| 1/1 [00:00<00:00, 71.43it/s]\n",
      "Snapping: 100%|██████████████████████████████████████████████████████████████████████████| 1/1 [00:00<00:00, 66.66it/s]\n",
      "Snapping: 100%|██████████████████████████████████████████████████████████████████████████| 1/1 [00:00<00:00, 71.44it/s]\n",
      "Snapping: 100%|█████████████████████████████████████████████████████████████████████████| 1/1 [00:00<00:00, 100.02it/s]\n",
      "Snapping: 100%|██████████████████████████████████████████████████████████████████████████| 1/1 [00:00<00:00, 83.31it/s]\n",
      "Snapping: 100%|██████████████████████████████████████████████████████████████████████████| 1/1 [00:00<00:00, 90.89it/s]\n",
      "Snapping: 100%|██████████████████████████████████████████████████████████████████████████| 1/1 [00:00<00:00, 66.66it/s]\n",
      "Snapping: 100%|█████████████████████████████████████████████████████████████████████████| 1/1 [00:00<00:00, 100.02it/s]\n",
      "Snapping: 100%|██████████████████████████████████████████████████████████████████████████| 1/1 [00:00<00:00, 76.91it/s]\n",
      "Snapping: 100%|██████████████████████████████████████████████████████████████████████████| 1/1 [00:00<00:00, 66.67it/s]\n",
      "Snapping: 100%|██████████████████████████████████████████████████████████████████████████| 1/1 [00:00<00:00, 71.44it/s]\n",
      "Snapping: 100%|██████████████████████████████████████████████████████████████████████████| 1/1 [00:00<00:00, 66.68it/s]\n",
      "Snapping: 100%|██████████████████████████████████████████████████████████████████████████| 1/1 [00:00<00:00, 66.66it/s]\n",
      "Snapping: 100%|██████████████████████████████████████████████████████████████████████████| 1/1 [00:00<00:00, 66.66it/s]\n",
      "Snapping: 100%|██████████████████████████████████████████████████████████████████████████| 1/1 [00:00<00:00, 90.89it/s]\n",
      "Snapping: 100%|██████████████████████████████████████████████████████████████████████████| 1/1 [00:00<00:00, 76.92it/s]\n",
      "Snapping: 100%|██████████████████████████████████████████████████████████████████████████| 1/1 [00:00<00:00, 62.50it/s]\n",
      "Snapping: 100%|██████████████████████████████████████████████████████████████████████████| 1/1 [00:00<00:00, 90.87it/s]\n",
      "Snapping: 100%|██████████████████████████████████████████████████████████████████████████| 1/1 [00:00<00:00, 83.32it/s]\n",
      "Snapping: 100%|██████████████████████████████████████████████████████████████████████████| 1/1 [00:00<00:00, 90.89it/s]\n",
      "Snapping: 100%|█████████████████████████████████████████████████████████████████████████| 1/1 [00:00<00:00, 100.01it/s]\n",
      "Snapping: 100%|██████████████████████████████████████████████████████████████████████████| 1/1 [00:00<00:00, 90.91it/s]\n",
      "Snapping: 100%|█████████████████████████████████████████████████████████████████████████| 1/1 [00:00<00:00, 100.02it/s]\n",
      "Snapping: 100%|██████████████████████████████████████████████████████████████████████████| 1/1 [00:00<00:00, 88.17it/s]\n",
      "Snapping: 100%|██████████████████████████████████████████████████████████████████████████| 1/1 [00:00<00:00, 99.99it/s]\n",
      "Snapping: 100%|██████████████████████████████████████████████████████████████████████████| 1/1 [00:00<00:00, 76.91it/s]\n",
      "Snapping: 100%|█████████████████████████████████████████████████████████████████████████| 1/1 [00:00<00:00, 100.00it/s]\n",
      "Snapping: 100%|██████████████████████████████████████████████████████████████████████████| 1/1 [00:00<00:00, 83.36it/s]\n",
      "Snapping: 100%|██████████████████████████████████████████████████████████████████████████| 1/1 [00:00<00:00, 76.92it/s]\n",
      "Snapping: 100%|██████████████████████████████████████████████████████████████████████████| 1/1 [00:00<00:00, 90.90it/s]\n",
      "Snapping: 100%|██████████████████████████████████████████████████████████████████████████| 1/1 [00:00<00:00, 90.88it/s]\n",
      "Snapping: 100%|██████████████████████████████████████████████████████████████████████████| 1/1 [00:00<00:00, 76.93it/s]\n",
      "Snapping: 100%|█████████████████████████████████████████████████████████████████████████| 1/1 [00:00<00:00, 100.02it/s]\n",
      "Snapping: 100%|██████████████████████████████████████████████████████████████████████████| 1/1 [00:00<00:00, 83.35it/s]\n",
      "Snapping: 100%|██████████████████████████████████████████████████████████████████████████| 1/1 [00:00<00:00, 90.92it/s]\n",
      "Snapping: 100%|██████████████████████████████████████████████████████████████████████████| 1/1 [00:00<00:00, 90.90it/s]\n",
      "Snapping: 100%|██████████████████████████████████████████████████████████████████████████| 1/1 [00:00<00:00, 76.93it/s]\n",
      "Snapping: 100%|██████████████████████████████████████████████████████████████████████████| 1/1 [00:00<00:00, 83.32it/s]\n",
      "Snapping: 100%|██████████████████████████████████████████████████████████████████████████| 1/1 [00:00<00:00, 76.93it/s]\n",
      "Snapping: 100%|██████████████████████████████████████████████████████████████████████████| 1/1 [00:00<00:00, 83.33it/s]\n",
      "Snapping: 100%|██████████████████████████████████████████████████████████████████████████| 1/1 [00:00<00:00, 66.67it/s]\n",
      "Snapping: 100%|██████████████████████████████████████████████████████████████████████████| 1/1 [00:00<00:00, 83.32it/s]\n",
      "Snapping: 100%|██████████████████████████████████████████████████████████████████████████| 1/1 [00:00<00:00, 90.91it/s]\n",
      "Snapping: 100%|██████████████████████████████████████████████████████████████████████████| 1/1 [00:00<00:00, 90.39it/s]\n",
      "Snapping: 100%|██████████████████████████████████████████████████████████████████████████| 1/1 [00:00<00:00, 71.44it/s]\n",
      "Snapping: 100%|██████████████████████████████████████████████████████████████████████████| 1/1 [00:00<00:00, 71.43it/s]\n",
      "Snapping: 100%|██████████████████████████████████████████████████████████████████████████| 1/1 [00:00<00:00, 71.42it/s]\n",
      "Snapping: 100%|██████████████████████████████████████████████████████████████████████████| 1/1 [00:00<00:00, 83.33it/s]\n",
      "Snapping: 100%|██████████████████████████████████████████████████████████████████████████| 1/1 [00:00<00:00, 83.34it/s]\n",
      "Snapping: 100%|█████████████████████████████████████████████████████████████████████████| 1/1 [00:00<00:00, 103.06it/s]\n",
      "Snapping: 100%|██████████████████████████████████████████████████████████████████████████| 1/1 [00:00<00:00, 66.67it/s]\n",
      "Snapping: 100%|██████████████████████████████████████████████████████████████████████████| 1/1 [00:00<00:00, 76.93it/s]\n",
      "Snapping: 100%|██████████████████████████████████████████████████████████████████████████| 1/1 [00:00<00:00, 71.43it/s]\n",
      "Snapping: 100%|██████████████████████████████████████████████████████████████████████████| 1/1 [00:00<00:00, 76.93it/s]\n",
      "Snapping: 100%|██████████████████████████████████████████████████████████████████████████| 1/1 [00:00<00:00, 71.42it/s]\n",
      "Snapping: 100%|██████████████████████████████████████████████████████████████████████████| 1/1 [00:00<00:00, 99.99it/s]\n",
      "Snapping: 100%|██████████████████████████████████████████████████████████████████████████| 1/1 [00:00<00:00, 71.44it/s]\n",
      "Snapping: 100%|█████████████████████████████████████████████████████████████████████████| 1/1 [00:00<00:00, 111.10it/s]\n"
     ]
    },
    {
     "name": "stderr",
     "output_type": "stream",
     "text": [
      "Snapping: 100%|██████████████████████████████████████████████████████████████████████████| 1/1 [00:00<00:00, 76.90it/s]\n",
      "Snapping: 100%|██████████████████████████████████████████████████████████████████████████| 1/1 [00:00<00:00, 90.92it/s]\n",
      "Snapping: 100%|██████████████████████████████████████████████████████████████████████████| 1/1 [00:00<00:00, 76.93it/s]\n",
      "Snapping: 100%|██████████████████████████████████████████████████████████████████████████| 1/1 [00:00<00:00, 90.93it/s]\n",
      "Snapping: 100%|██████████████████████████████████████████████████████████████████████████| 1/1 [00:00<00:00, 71.42it/s]\n",
      "Snapping: 100%|██████████████████████████████████████████████████████████████████████████| 1/1 [00:00<00:00, 83.14it/s]\n",
      "Snapping: 100%|██████████████████████████████████████████████████████████████████████████| 1/1 [00:00<00:00, 71.44it/s]\n",
      "Snapping: 100%|█████████████████████████████████████████████████████████████████████████| 1/1 [00:00<00:00, 100.00it/s]\n",
      "Snapping: 100%|██████████████████████████████████████████████████████████████████████████| 1/1 [00:00<00:00, 99.99it/s]\n",
      "Snapping: 100%|██████████████████████████████████████████████████████████████████████████| 1/1 [00:00<00:00, 62.49it/s]\n",
      "Snapping: 100%|██████████████████████████████████████████████████████████████████████████| 1/1 [00:00<00:00, 76.92it/s]\n",
      "Snapping: 100%|██████████████████████████████████████████████████████████████████████████| 1/1 [00:00<00:00, 71.43it/s]\n",
      "Snapping: 100%|██████████████████████████████████████████████████████████████████████████| 1/1 [00:00<00:00, 99.97it/s]\n",
      "Snapping: 100%|█████████████████████████████████████████████████████████████████████████| 1/1 [00:00<00:00, 111.14it/s]\n",
      "Snapping: 100%|█████████████████████████████████████████████████████████████████████████| 1/1 [00:00<00:00, 100.00it/s]\n",
      "Snapping: 100%|██████████████████████████████████████████████████████████████████████████| 1/1 [00:00<00:00, 76.94it/s]\n",
      "Snapping: 100%|██████████████████████████████████████████████████████████████████████████| 1/1 [00:00<00:00, 71.42it/s]\n",
      "Snapping: 100%|██████████████████████████████████████████████████████████████████████████| 1/1 [00:00<00:00, 76.92it/s]\n",
      "Snapping: 100%|██████████████████████████████████████████████████████████████████████████| 1/1 [00:00<00:00, 76.91it/s]\n",
      "Snapping: 100%|██████████████████████████████████████████████████████████████████████████| 1/1 [00:00<00:00, 71.42it/s]\n",
      "Snapping: 100%|█████████████████████████████████████████████████████████████████████████| 1/1 [00:00<00:00, 111.13it/s]\n",
      "Snapping: 100%|██████████████████████████████████████████████████████████████████████████| 1/1 [00:00<00:00, 90.94it/s]\n",
      "Snapping: 100%|██████████████████████████████████████████████████████████████████████████| 1/1 [00:00<00:00, 76.93it/s]\n",
      "Snapping: 100%|█████████████████████████████████████████████████████████████████████████| 1/1 [00:00<00:00, 100.03it/s]\n",
      "Snapping: 100%|██████████████████████████████████████████████████████████████████████████| 1/1 [00:00<00:00, 83.31it/s]\n",
      "Snapping: 100%|█████████████████████████████████████████████████████████████████████████| 1/1 [00:00<00:00, 100.02it/s]\n",
      "Snapping: 100%|██████████████████████████████████████████████████████████████████████████| 1/1 [00:00<00:00, 99.98it/s]\n",
      "Snapping: 100%|██████████████████████████████████████████████████████████████████████████| 1/1 [00:00<00:00, 99.97it/s]\n",
      "Snapping: 100%|█████████████████████████████████████████████████████████████████████████| 1/1 [00:00<00:00, 100.02it/s]\n",
      "Snapping: 100%|██████████████████████████████████████████████████████████████████████████| 1/1 [00:00<00:00, 90.91it/s]\n",
      "Snapping: 100%|██████████████████████████████████████████████████████████████████████████| 1/1 [00:00<00:00, 99.99it/s]\n",
      "Snapping: 100%|██████████████████████████████████████████████████████████████████████████| 1/1 [00:00<00:00, 76.93it/s]\n",
      "Snapping: 100%|██████████████████████████████████████████████████████████████████████████| 1/1 [00:00<00:00, 90.91it/s]\n",
      "Snapping: 100%|█████████████████████████████████████████████████████████████████████████| 1/1 [00:00<00:00, 101.25it/s]\n",
      "Snapping: 100%|██████████████████████████████████████████████████████████████████████████| 1/1 [00:00<00:00, 90.92it/s]\n",
      "Snapping: 100%|██████████████████████████████████████████████████████████████████████████| 1/1 [00:00<00:00, 90.92it/s]\n",
      "Snapping: 100%|██████████████████████████████████████████████████████████████████████████| 1/1 [00:00<00:00, 99.98it/s]\n",
      "Snapping: 100%|██████████████████████████████████████████████████████████████████████████| 1/1 [00:00<00:00, 90.90it/s]\n",
      "Snapping: 100%|██████████████████████████████████████████████████████████████████████████| 1/1 [00:00<00:00, 76.93it/s]\n",
      "Snapping: 100%|██████████████████████████████████████████████████████████████████████████| 1/1 [00:00<00:00, 76.91it/s]\n",
      "Snapping: 100%|█████████████████████████████████████████████████████████████████████████| 1/1 [00:00<00:00, 100.02it/s]\n",
      "Snapping: 100%|██████████████████████████████████████████████████████████████████████████| 1/1 [00:00<00:00, 99.98it/s]\n",
      "Snapping: 100%|██████████████████████████████████████████████████████████████████████████| 1/1 [00:00<00:00, 76.92it/s]\n",
      "Snapping: 100%|██████████████████████████████████████████████████████████████████████████| 1/1 [00:00<00:00, 90.90it/s]\n",
      "Snapping: 100%|██████████████████████████████████████████████████████████████████████████| 1/1 [00:00<00:00, 90.89it/s]\n",
      "Snapping: 100%|██████████████████████████████████████████████████████████████████████████| 1/1 [00:00<00:00, 71.43it/s]\n",
      "Snapping: 100%|█████████████████████████████████████████████████████████████████████████| 1/1 [00:00<00:00, 100.01it/s]\n",
      "Snapping: 100%|██████████████████████████████████████████████████████████████████████████| 1/1 [00:00<00:00, 90.92it/s]\n",
      "Snapping: 100%|█████████████████████████████████████████████████████████████████████████| 1/1 [00:00<00:00, 100.02it/s]\n",
      "Snapping: 100%|██████████████████████████████████████████████████████████████████████████| 1/1 [00:00<00:00, 83.34it/s]\n",
      "Snapping: 100%|██████████████████████████████████████████████████████████████████████████| 1/1 [00:00<00:00, 76.90it/s]\n",
      "Snapping: 100%|█████████████████████████████████████████████████████████████████████████| 1/1 [00:00<00:00, 100.00it/s]\n",
      "Snapping: 100%|██████████████████████████████████████████████████████████████████████████| 1/1 [00:00<00:00, 90.88it/s]\n",
      "Snapping: 100%|█████████████████████████████████████████████████████████████████████████| 1/1 [00:00<00:00, 100.01it/s]\n",
      "Snapping: 100%|██████████████████████████████████████████████████████████████████████████| 1/1 [00:00<00:00, 90.93it/s]\n",
      "Snapping: 100%|██████████████████████████████████████████████████████████████████████████| 1/1 [00:00<00:00, 90.92it/s]\n",
      "Snapping: 100%|██████████████████████████████████████████████████████████████████████████| 1/1 [00:00<00:00, 71.43it/s]\n",
      "Snapping: 100%|██████████████████████████████████████████████████████████████████████████| 1/1 [00:00<00:00, 66.67it/s]\n",
      "Snapping: 100%|█████████████████████████████████████████████████████████████████████████| 1/1 [00:00<00:00, 100.01it/s]\n",
      "Snapping: 100%|██████████████████████████████████████████████████████████████████████████| 1/1 [00:00<00:00, 71.42it/s]\n",
      "Snapping: 100%|██████████████████████████████████████████████████████████████████████████| 1/1 [00:00<00:00, 71.44it/s]\n",
      "Snapping: 100%|██████████████████████████████████████████████████████████████████████████| 1/1 [00:00<00:00, 99.99it/s]\n",
      "Snapping: 100%|█████████████████████████████████████████████████████████████████████████| 1/1 [00:00<00:00, 100.00it/s]\n",
      "Snapping: 100%|██████████████████████████████████████████████████████████████████████████| 1/1 [00:00<00:00, 90.92it/s]\n",
      "Snapping: 100%|██████████████████████████████████████████████████████████████████████████| 1/1 [00:00<00:00, 71.43it/s]\n",
      "Snapping: 100%|██████████████████████████████████████████████████████████████████████████| 1/1 [00:00<00:00, 76.94it/s]\n",
      "Snapping: 100%|██████████████████████████████████████████████████████████████████████████| 1/1 [00:00<00:00, 83.34it/s]\n",
      "Snapping: 100%|██████████████████████████████████████████████████████████████████████████| 1/1 [00:00<00:00, 76.92it/s]\n"
     ]
    },
    {
     "name": "stderr",
     "output_type": "stream",
     "text": [
      "Snapping:   0%|                                                                                  | 0/1 [00:00<?, ?it/s]\r",
      "Snapping: 100%|██████████████████████████████████████████████████████████████████████████| 1/1 [00:00<00:00, 90.93it/s]"
     ]
    },
    {
     "name": "stdout",
     "output_type": "stream",
     "text": [
      "134\n"
     ]
    },
    {
     "name": "stderr",
     "output_type": "stream",
     "text": [
      "\n",
      "Snapping: 100%|██████████████████████████████████████████████████████████████████████████| 1/1 [00:00<00:00, 76.94it/s]\n",
      "Snapping: 100%|██████████████████████████████████████████████████████████████████████████| 1/1 [00:00<00:00, 90.95it/s]\n",
      "Snapping: 100%|██████████████████████████████████████████████████████████████████████████| 1/1 [00:00<00:00, 76.93it/s]\n",
      "Snapping: 100%|██████████████████████████████████████████████████████████████████████████| 1/1 [00:00<00:00, 90.92it/s]\n",
      "Snapping: 100%|██████████████████████████████████████████████████████████████████████████| 1/1 [00:00<00:00, 83.34it/s]\n",
      "Snapping: 100%|██████████████████████████████████████████████████████████████████████████| 1/1 [00:00<00:00, 90.89it/s]\n",
      "Snapping: 100%|██████████████████████████████████████████████████████████████████████████| 1/1 [00:00<00:00, 66.67it/s]\n",
      "Snapping: 100%|██████████████████████████████████████████████████████████████████████████| 1/1 [00:00<00:00, 90.92it/s]\n",
      "Snapping: 100%|██████████████████████████████████████████████████████████████████████████| 1/1 [00:00<00:00, 90.91it/s]\n",
      "Snapping: 100%|█████████████████████████████████████████████████████████████████████████| 1/1 [00:00<00:00, 100.04it/s]\n"
     ]
    },
    {
     "name": "stdout",
     "output_type": "stream",
     "text": [
      "\n"
     ]
    },
    {
     "data": {
      "application/vnd.jupyter.widget-view+json": {
       "model_id": "7a81add1b4a9464d9fa9482c10d518f6",
       "version_major": 2,
       "version_minor": 0
      },
      "text/plain": [
       "HBox(children=(FloatProgress(value=0.0, max=65.0), HTML(value='')))"
      ]
     },
     "metadata": {},
     "output_type": "display_data"
    },
    {
     "name": "stderr",
     "output_type": "stream",
     "text": [
      "Snapping: 100%|██████████████████████████████████████████████████████████████████████████| 1/1 [00:00<00:00, 50.00it/s]\n",
      "Snapping: 100%|██████████████████████████████████████████████████████████████████████████| 1/1 [00:00<00:00, 47.61it/s]\n",
      "C:\\Users\\ochristm\\anaconda3\\lib\\site-packages\\momepy\\utils.py:202: UserWarning: Geometry is in a geographic CRS. Results from 'length' are likely incorrect. Use 'GeoSeries.to_crs()' to re-project geometries to a projected CRS before this operation.\n",
      "\n",
      "  gdf_network[length] = gdf_network.geometry.length\n",
      "Snapping: 100%|██████████████████████████████████████████████████████████████████████████| 1/1 [00:00<00:00, 50.00it/s]\n",
      "Snapping: 100%|██████████████████████████████████████████████████████████████████████████| 1/1 [00:00<00:00, 62.50it/s]"
     ]
    },
    {
     "name": "stdout",
     "output_type": "stream",
     "text": [
      "1\n"
     ]
    },
    {
     "name": "stderr",
     "output_type": "stream",
     "text": [
      "\n",
      "Snapping: 100%|██████████████████████████████████████████████████████████████████████████| 1/1 [00:00<00:00, 49.99it/s]\n",
      "Snapping: 100%|██████████████████████████████████████████████████████████████████████████| 1/1 [00:00<00:00, 58.82it/s]\n",
      "Snapping: 100%|██████████████████████████████████████████████████████████████████████████| 1/1 [00:00<00:00, 62.50it/s]\n",
      "Snapping: 100%|██████████████████████████████████████████████████████████████████████████| 1/1 [00:00<00:00, 50.00it/s]\n",
      "Snapping: 100%|██████████████████████████████████████████████████████████████████████████| 1/1 [00:00<00:00, 58.82it/s]\n",
      "Snapping: 100%|██████████████████████████████████████████████████████████████████████████| 1/1 [00:00<00:00, 62.50it/s]"
     ]
    },
    {
     "name": "stdout",
     "output_type": "stream",
     "text": [
      "2\n"
     ]
    },
    {
     "name": "stderr",
     "output_type": "stream",
     "text": [
      "\n",
      "Snapping: 100%|██████████████████████████████████████████████████████████████████████████| 1/1 [00:00<00:00, 60.58it/s]\n",
      "Snapping: 100%|██████████████████████████████████████████████████████████████████████████| 1/1 [00:00<00:00, 50.00it/s]\n",
      "Snapping: 100%|██████████████████████████████████████████████████████████████████████████| 1/1 [00:00<00:00, 52.62it/s]\n",
      "Snapping: 100%|██████████████████████████████████████████████████████████████████████████| 1/1 [00:00<00:00, 58.82it/s]\n",
      "Snapping: 100%|██████████████████████████████████████████████████████████████████████████| 1/1 [00:00<00:00, 58.82it/s]\n",
      "Snapping: 100%|██████████████████████████████████████████████████████████████████████████| 1/1 [00:00<00:00, 58.82it/s]\n",
      "Snapping: 100%|██████████████████████████████████████████████████████████████████████████| 1/1 [00:00<00:00, 58.82it/s]\n",
      "Snapping: 100%|██████████████████████████████████████████████████████████████████████████| 1/1 [00:00<00:00, 48.15it/s]\n",
      "Snapping: 100%|██████████████████████████████████████████████████████████████████████████| 1/1 [00:00<00:00, 58.82it/s]\n",
      "Snapping: 100%|██████████████████████████████████████████████████████████████████████████| 1/1 [00:00<00:00, 58.82it/s]\n",
      "Snapping: 100%|██████████████████████████████████████████████████████████████████████████| 1/1 [00:00<00:00, 50.01it/s]\n",
      "Snapping: 100%|██████████████████████████████████████████████████████████████████████████| 1/1 [00:00<00:00, 58.82it/s]"
     ]
    },
    {
     "name": "stdout",
     "output_type": "stream",
     "text": [
      "3\n"
     ]
    },
    {
     "name": "stderr",
     "output_type": "stream",
     "text": [
      "\n",
      "Snapping: 100%|██████████████████████████████████████████████████████████████████████████| 1/1 [00:00<00:00, 62.50it/s]\n",
      "Snapping: 100%|██████████████████████████████████████████████████████████████████████████| 1/1 [00:00<00:00, 50.00it/s]\n",
      "Snapping: 100%|██████████████████████████████████████████████████████████████████████████| 1/1 [00:00<00:00, 62.49it/s]\n",
      "Snapping: 100%|██████████████████████████████████████████████████████████████████████████| 1/1 [00:00<00:00, 50.00it/s]\n",
      "Snapping: 100%|██████████████████████████████████████████████████████████████████████████| 1/1 [00:00<00:00, 62.50it/s]\n",
      "Snapping: 100%|██████████████████████████████████████████████████████████████████████████| 1/1 [00:00<00:00, 50.00it/s]\n",
      "Snapping: 100%|██████████████████████████████████████████████████████████████████████████| 1/1 [00:00<00:00, 24.39it/s]\n",
      "Snapping: 100%|██████████████████████████████████████████████████████████████████████████| 1/1 [00:00<00:00, 26.32it/s]\n",
      "C:\\Users\\ochristm\\anaconda3\\lib\\site-packages\\momepy\\utils.py:202: UserWarning: Geometry is in a geographic CRS. Results from 'length' are likely incorrect. Use 'GeoSeries.to_crs()' to re-project geometries to a projected CRS before this operation.\n",
      "\n",
      "  gdf_network[length] = gdf_network.geometry.length\n",
      "Snapping: 100%|██████████████████████████████████████████████████████████████████████████| 1/1 [00:00<00:00, 47.03it/s]\n",
      "Snapping: 100%|██████████████████████████████████████████████████████████████████████████| 1/1 [00:00<00:00, 58.68it/s]\n",
      "Snapping: 100%|██████████████████████████████████████████████████████████████████████████| 1/1 [00:00<00:00, 58.86it/s]\n",
      "Snapping: 100%|██████████████████████████████████████████████████████████████████████████| 1/1 [00:00<00:00, 58.81it/s]\n",
      "Snapping: 100%|██████████████████████████████████████████████████████████████████████████| 1/1 [00:00<00:00, 47.61it/s]\n",
      "Snapping: 100%|██████████████████████████████████████████████████████████████████████████| 1/1 [00:00<00:00, 50.00it/s]\n",
      "Snapping: 100%|██████████████████████████████████████████████████████████████████████████| 1/1 [00:00<00:00, 62.49it/s]\n",
      "Snapping: 100%|██████████████████████████████████████████████████████████████████████████| 1/1 [00:00<00:00, 61.50it/s]\n",
      "Snapping: 100%|██████████████████████████████████████████████████████████████████████████| 1/1 [00:00<00:00, 28.57it/s]\n",
      "Snapping: 100%|██████████████████████████████████████████████████████████████████████████| 1/1 [00:00<00:00, 25.97it/s]\n",
      "C:\\Users\\ochristm\\anaconda3\\lib\\site-packages\\momepy\\utils.py:202: UserWarning: Geometry is in a geographic CRS. Results from 'length' are likely incorrect. Use 'GeoSeries.to_crs()' to re-project geometries to a projected CRS before this operation.\n",
      "\n",
      "  gdf_network[length] = gdf_network.geometry.length\n",
      "Snapping: 100%|██████████████████████████████████████████████████████████████████████████| 1/1 [00:00<00:00, 62.42it/s]\n",
      "Snapping: 100%|██████████████████████████████████████████████████████████████████████████| 1/1 [00:00<00:00, 45.45it/s]\n",
      "Snapping: 100%|██████████████████████████████████████████████████████████████████████████| 1/1 [00:00<00:00, 58.81it/s]\n",
      "Snapping: 100%|██████████████████████████████████████████████████████████████████████████| 1/1 [00:00<00:00, 55.55it/s]\n",
      "Snapping: 100%|██████████████████████████████████████████████████████████████████████████| 1/1 [00:00<00:00, 58.82it/s]\n",
      "Snapping: 100%|██████████████████████████████████████████████████████████████████████████| 1/1 [00:00<00:00, 49.99it/s]\n",
      "Snapping: 100%|██████████████████████████████████████████████████████████████████████████| 1/1 [00:00<00:00, 62.49it/s]\n",
      "Snapping: 100%|██████████████████████████████████████████████████████████████████████████| 1/1 [00:00<00:00, 52.63it/s]"
     ]
    },
    {
     "name": "stdout",
     "output_type": "stream",
     "text": [
      "4\n"
     ]
    },
    {
     "name": "stderr",
     "output_type": "stream",
     "text": [
      "\n",
      "Snapping: 100%|██████████████████████████████████████████████████████████████████████████| 1/1 [00:00<00:00, 27.03it/s]\n",
      "Snapping: 100%|██████████████████████████████████████████████████████████████████████████| 1/1 [00:00<00:00, 26.31it/s]\n",
      "C:\\Users\\ochristm\\anaconda3\\lib\\site-packages\\momepy\\utils.py:202: UserWarning: Geometry is in a geographic CRS. Results from 'length' are likely incorrect. Use 'GeoSeries.to_crs()' to re-project geometries to a projected CRS before this operation.\n",
      "\n",
      "  gdf_network[length] = gdf_network.geometry.length\n",
      "Snapping: 100%|██████████████████████████████████████████████████████████████████████████| 1/1 [00:00<00:00, 34.48it/s]\n",
      "Snapping: 100%|██████████████████████████████████████████████████████████████████████████| 1/1 [00:00<00:00, 45.45it/s]\n",
      "Snapping: 100%|██████████████████████████████████████████████████████████████████████████| 1/1 [00:00<00:00, 58.82it/s]\n",
      "Snapping: 100%|██████████████████████████████████████████████████████████████████████████| 1/1 [00:00<00:00, 45.45it/s]\n",
      "Snapping: 100%|██████████████████████████████████████████████████████████████████████████| 1/1 [00:00<00:00, 25.00it/s]\n",
      "Snapping: 100%|██████████████████████████████████████████████████████████████████████████| 1/1 [00:00<00:00, 26.31it/s]\n",
      "C:\\Users\\ochristm\\anaconda3\\lib\\site-packages\\momepy\\utils.py:202: UserWarning: Geometry is in a geographic CRS. Results from 'length' are likely incorrect. Use 'GeoSeries.to_crs()' to re-project geometries to a projected CRS before this operation.\n",
      "\n",
      "  gdf_network[length] = gdf_network.geometry.length\n",
      "Snapping: 100%|██████████████████████████████████████████████████████████████████████████| 1/1 [00:00<00:00, 50.03it/s]\n",
      "Snapping: 100%|██████████████████████████████████████████████████████████████████████████| 1/1 [00:00<00:00, 55.55it/s]\n",
      "Snapping: 100%|██████████████████████████████████████████████████████████████████████████| 1/1 [00:00<00:00, 50.00it/s]\n",
      "Snapping: 100%|██████████████████████████████████████████████████████████████████████████| 1/1 [00:00<00:00, 55.54it/s]\n",
      "Snapping: 100%|██████████████████████████████████████████████████████████████████████████| 1/1 [00:00<00:00, 52.62it/s]\n",
      "Snapping: 100%|██████████████████████████████████████████████████████████████████████████| 1/1 [00:00<00:00, 58.83it/s]\n",
      "Snapping: 100%|██████████████████████████████████████████████████████████████████████████| 1/1 [00:00<00:00, 47.62it/s]\n",
      "Snapping: 100%|██████████████████████████████████████████████████████████████████████████| 1/1 [00:00<00:00, 50.00it/s]"
     ]
    },
    {
     "name": "stdout",
     "output_type": "stream",
     "text": [
      "5\n"
     ]
    },
    {
     "name": "stderr",
     "output_type": "stream",
     "text": [
      "\n",
      "Snapping: 100%|██████████████████████████████████████████████████████████████████████████| 1/1 [00:00<00:00, 47.61it/s]\n",
      "Snapping: 100%|██████████████████████████████████████████████████████████████████████████| 1/1 [00:00<00:00, 58.81it/s]\n",
      "Snapping: 100%|██████████████████████████████████████████████████████████████████████████| 1/1 [00:00<00:00, 58.80it/s]\n",
      "Snapping: 100%|██████████████████████████████████████████████████████████████████████████| 1/1 [00:00<00:00, 58.81it/s]\n",
      "Snapping: 100%|██████████████████████████████████████████████████████████████████████████| 1/1 [00:00<00:00, 50.00it/s]\n",
      "Snapping: 100%|██████████████████████████████████████████████████████████████████████████| 1/1 [00:00<00:00, 58.82it/s]\n",
      "Snapping: 100%|██████████████████████████████████████████████████████████████████████████| 1/1 [00:00<00:00, 62.49it/s]\n",
      "Snapping: 100%|██████████████████████████████████████████████████████████████████████████| 1/1 [00:00<00:00, 49.99it/s]\n",
      "Snapping: 100%|██████████████████████████████████████████████████████████████████████████| 1/1 [00:00<00:00, 62.49it/s]\n",
      "Snapping: 100%|██████████████████████████████████████████████████████████████████████████| 1/1 [00:00<00:00, 58.82it/s]\n",
      "Snapping: 100%|██████████████████████████████████████████████████████████████████████████| 1/1 [00:00<00:00, 62.49it/s]\n",
      "Snapping: 100%|██████████████████████████████████████████████████████████████████████████| 1/1 [00:00<00:00, 62.50it/s]\n",
      "Snapping: 100%|██████████████████████████████████████████████████████████████████████████| 1/1 [00:00<00:00, 49.34it/s]\n",
      "Snapping: 100%|██████████████████████████████████████████████████████████████████████████| 1/1 [00:00<00:00, 62.49it/s]\n",
      "Snapping: 100%|██████████████████████████████████████████████████████████████████████████| 1/1 [00:00<00:00, 49.99it/s]\n",
      "Snapping: 100%|██████████████████████████████████████████████████████████████████████████| 1/1 [00:00<00:00, 58.82it/s]\n",
      "Snapping: 100%|██████████████████████████████████████████████████████████████████████████| 1/1 [00:00<00:00, 62.48it/s]\n",
      "Snapping: 100%|██████████████████████████████████████████████████████████████████████████| 1/1 [00:00<00:00, 49.99it/s]\n",
      "Snapping: 100%|██████████████████████████████████████████████████████████████████████████| 1/1 [00:00<00:00, 62.49it/s]\n",
      "Snapping: 100%|██████████████████████████████████████████████████████████████████████████| 1/1 [00:00<00:00, 49.99it/s]\n",
      "Snapping: 100%|██████████████████████████████████████████████████████████████████████████| 1/1 [00:00<00:00, 47.58it/s]\n",
      "Snapping: 100%|██████████████████████████████████████████████████████████████████████████| 1/1 [00:00<00:00, 47.61it/s]\n",
      "Snapping: 100%|██████████████████████████████████████████████████████████████████████████| 1/1 [00:00<00:00, 62.50it/s]\n",
      "Snapping: 100%|██████████████████████████████████████████████████████████████████████████| 1/1 [00:00<00:00, 58.82it/s]\n",
      "Snapping: 100%|██████████████████████████████████████████████████████████████████████████| 1/1 [00:00<00:00, 48.76it/s]\n",
      "Snapping: 100%|██████████████████████████████████████████████████████████████████████████| 1/1 [00:00<00:00, 62.50it/s]\n",
      "Snapping: 100%|██████████████████████████████████████████████████████████████████████████| 1/1 [00:00<00:00, 49.99it/s]\n",
      "Snapping: 100%|██████████████████████████████████████████████████████████████████████████| 1/1 [00:00<00:00, 58.81it/s]\n",
      "Snapping: 100%|██████████████████████████████████████████████████████████████████████████| 1/1 [00:00<00:00, 58.82it/s]\n",
      "Snapping: 100%|██████████████████████████████████████████████████████████████████████████| 1/1 [00:00<00:00, 52.62it/s]\n",
      "Snapping: 100%|██████████████████████████████████████████████████████████████████████████| 1/1 [00:00<00:00, 62.49it/s]\n",
      "Snapping: 100%|██████████████████████████████████████████████████████████████████████████| 1/1 [00:00<00:00, 55.55it/s]\n",
      "Snapping: 100%|██████████████████████████████████████████████████████████████████████████| 1/1 [00:00<00:00, 49.99it/s]\n",
      "Snapping: 100%|██████████████████████████████████████████████████████████████████████████| 1/1 [00:00<00:00, 49.99it/s]\n",
      "Snapping: 100%|██████████████████████████████████████████████████████████████████████████| 1/1 [00:00<00:00, 58.82it/s]\n",
      "Snapping: 100%|██████████████████████████████████████████████████████████████████████████| 1/1 [00:00<00:00, 49.99it/s]\n",
      "Snapping: 100%|██████████████████████████████████████████████████████████████████████████| 1/1 [00:00<00:00, 62.49it/s]\n",
      "Snapping: 100%|██████████████████████████████████████████████████████████████████████████| 1/1 [00:00<00:00, 58.81it/s]\n",
      "Snapping: 100%|██████████████████████████████████████████████████████████████████████████| 1/1 [00:00<00:00, 62.48it/s]\n",
      "Snapping: 100%|██████████████████████████████████████████████████████████████████████████| 1/1 [00:00<00:00, 50.00it/s]\n",
      "Snapping: 100%|██████████████████████████████████████████████████████████████████████████| 1/1 [00:00<00:00, 48.77it/s]\n",
      "Snapping: 100%|██████████████████████████████████████████████████████████████████████████| 1/1 [00:00<00:00, 50.00it/s]\n",
      "Snapping: 100%|██████████████████████████████████████████████████████████████████████████| 1/1 [00:00<00:00, 62.49it/s]\n",
      "Snapping: 100%|██████████████████████████████████████████████████████████████████████████| 1/1 [00:00<00:00, 55.55it/s]\n",
      "Snapping: 100%|██████████████████████████████████████████████████████████████████████████| 1/1 [00:00<00:00, 62.48it/s]\n",
      "Snapping: 100%|██████████████████████████████████████████████████████████████████████████| 1/1 [00:00<00:00, 58.81it/s]\n",
      "Snapping: 100%|██████████████████████████████████████████████████████████████████████████| 1/1 [00:00<00:00, 52.63it/s]\n",
      "Snapping: 100%|██████████████████████████████████████████████████████████████████████████| 1/1 [00:00<00:00, 47.61it/s]\n",
      "Snapping: 100%|██████████████████████████████████████████████████████████████████████████| 1/1 [00:00<00:00, 49.99it/s]\n",
      "Snapping: 100%|██████████████████████████████████████████████████████████████████████████| 1/1 [00:00<00:00, 47.62it/s]\n",
      "Snapping: 100%|██████████████████████████████████████████████████████████████████████████| 1/1 [00:00<00:00, 47.62it/s]\n",
      "Snapping: 100%|██████████████████████████████████████████████████████████████████████████| 1/1 [00:00<00:00, 58.82it/s]"
     ]
    },
    {
     "name": "stdout",
     "output_type": "stream",
     "text": [
      "8\n"
     ]
    },
    {
     "name": "stderr",
     "output_type": "stream",
     "text": [
      "\n",
      "Snapping: 100%|██████████████████████████████████████████████████████████████████████████| 1/1 [00:00<00:00, 48.75it/s]\n",
      "Snapping: 100%|██████████████████████████████████████████████████████████████████████████| 1/1 [00:00<00:00, 58.81it/s]\n",
      "Snapping: 100%|██████████████████████████████████████████████████████████████████████████| 1/1 [00:00<00:00, 49.99it/s]\n",
      "Snapping: 100%|██████████████████████████████████████████████████████████████████████████| 1/1 [00:00<00:00, 58.81it/s]\n",
      "Snapping: 100%|██████████████████████████████████████████████████████████████████████████| 1/1 [00:00<00:00, 49.99it/s]\n",
      "Snapping: 100%|██████████████████████████████████████████████████████████████████████████| 1/1 [00:00<00:00, 50.00it/s]\n",
      "Snapping: 100%|██████████████████████████████████████████████████████████████████████████| 1/1 [00:00<00:00, 47.02it/s]\n",
      "Snapping: 100%|██████████████████████████████████████████████████████████████████████████| 1/1 [00:00<00:00, 49.99it/s]\n",
      "Snapping: 100%|██████████████████████████████████████████████████████████████████████████| 1/1 [00:00<00:00, 62.50it/s]\n",
      "Snapping: 100%|██████████████████████████████████████████████████████████████████████████| 1/1 [00:00<00:00, 58.81it/s]\n",
      "Snapping: 100%|██████████████████████████████████████████████████████████████████████████| 1/1 [00:00<00:00, 55.55it/s]\n",
      "Snapping: 100%|██████████████████████████████████████████████████████████████████████████| 1/1 [00:00<00:00, 49.99it/s]\n",
      "Snapping: 100%|██████████████████████████████████████████████████████████████████████████| 1/1 [00:00<00:00, 58.81it/s]\n",
      "Snapping: 100%|██████████████████████████████████████████████████████████████████████████| 1/1 [00:00<00:00, 49.99it/s]\n",
      "Snapping: 100%|██████████████████████████████████████████████████████████████████████████| 1/1 [00:00<00:00, 47.61it/s]\n",
      "Snapping: 100%|██████████████████████████████████████████████████████████████████████████| 1/1 [00:00<00:00, 58.82it/s]"
     ]
    },
    {
     "name": "stdout",
     "output_type": "stream",
     "text": [
      "14\n"
     ]
    },
    {
     "name": "stderr",
     "output_type": "stream",
     "text": [
      "\n",
      "Snapping: 100%|██████████████████████████████████████████████████████████████████████████| 1/1 [00:00<00:00, 47.62it/s]\n",
      "Snapping: 100%|██████████████████████████████████████████████████████████████████████████| 1/1 [00:00<00:00, 47.62it/s]\n",
      "Snapping: 100%|██████████████████████████████████████████████████████████████████████████| 1/1 [00:00<00:00, 62.49it/s]\n",
      "Snapping: 100%|██████████████████████████████████████████████████████████████████████████| 1/1 [00:00<00:00, 47.62it/s]\n",
      "Snapping: 100%|██████████████████████████████████████████████████████████████████████████| 1/1 [00:00<00:00, 55.55it/s]\n",
      "Snapping: 100%|██████████████████████████████████████████████████████████████████████████| 1/1 [00:00<00:00, 47.62it/s]"
     ]
    },
    {
     "name": "stdout",
     "output_type": "stream",
     "text": [
      "15\n"
     ]
    },
    {
     "name": "stderr",
     "output_type": "stream",
     "text": [
      "\n",
      "Snapping: 100%|██████████████████████████████████████████████████████████████████████████| 1/1 [00:00<00:00, 62.48it/s]\n",
      "Snapping: 100%|██████████████████████████████████████████████████████████████████████████| 1/1 [00:00<00:00, 47.61it/s]\n",
      "Snapping: 100%|██████████████████████████████████████████████████████████████████████████| 1/1 [00:00<00:00, 49.99it/s]\n",
      "Snapping: 100%|██████████████████████████████████████████████████████████████████████████| 1/1 [00:00<00:00, 62.49it/s]\n",
      "Snapping: 100%|██████████████████████████████████████████████████████████████████████████| 1/1 [00:00<00:00, 62.47it/s]\n",
      "Snapping: 100%|██████████████████████████████████████████████████████████████████████████| 1/1 [00:00<00:00, 47.62it/s]\n",
      "Snapping: 100%|██████████████████████████████████████████████████████████████████████████| 1/1 [00:00<00:00, 62.50it/s]\n",
      "Snapping: 100%|██████████████████████████████████████████████████████████████████████████| 1/1 [00:00<00:00, 58.82it/s]\n",
      "Snapping: 100%|██████████████████████████████████████████████████████████████████████████| 1/1 [00:00<00:00, 49.56it/s]\n",
      "Snapping: 100%|██████████████████████████████████████████████████████████████████████████| 1/1 [00:00<00:00, 62.49it/s]\n",
      "Snapping: 100%|██████████████████████████████████████████████████████████████████████████| 1/1 [00:00<00:00, 52.63it/s]\n",
      "Snapping: 100%|██████████████████████████████████████████████████████████████████████████| 1/1 [00:00<00:00, 58.82it/s]\n",
      "Snapping: 100%|██████████████████████████████████████████████████████████████████████████| 1/1 [00:00<00:00, 58.82it/s]\n",
      "Snapping: 100%|██████████████████████████████████████████████████████████████████████████| 1/1 [00:00<00:00, 62.50it/s]"
     ]
    },
    {
     "name": "stdout",
     "output_type": "stream",
     "text": [
      "18\n"
     ]
    },
    {
     "name": "stderr",
     "output_type": "stream",
     "text": [
      "\n",
      "Snapping: 100%|██████████████████████████████████████████████████████████████████████████| 1/1 [00:00<00:00, 58.81it/s]\n",
      "Snapping: 100%|██████████████████████████████████████████████████████████████████████████| 1/1 [00:00<00:00, 50.00it/s]\n",
      "Snapping: 100%|██████████████████████████████████████████████████████████████████████████| 1/1 [00:00<00:00, 50.00it/s]\n",
      "Snapping: 100%|██████████████████████████████████████████████████████████████████████████| 1/1 [00:00<00:00, 47.61it/s]\n",
      "Snapping: 100%|██████████████████████████████████████████████████████████████████████████| 1/1 [00:00<00:00, 47.61it/s]\n",
      "Snapping: 100%|██████████████████████████████████████████████████████████████████████████| 1/1 [00:00<00:00, 55.55it/s]\n",
      "Snapping: 100%|██████████████████████████████████████████████████████████████████████████| 1/1 [00:00<00:00, 47.61it/s]\n",
      "Snapping: 100%|██████████████████████████████████████████████████████████████████████████| 1/1 [00:00<00:00, 50.00it/s]\n",
      "Snapping: 100%|██████████████████████████████████████████████████████████████████████████| 1/1 [00:00<00:00, 47.62it/s]\n",
      "Snapping: 100%|██████████████████████████████████████████████████████████████████████████| 1/1 [00:00<00:00, 62.49it/s]\n",
      "Snapping: 100%|██████████████████████████████████████████████████████████████████████████| 1/1 [00:00<00:00, 50.00it/s]\n",
      "Snapping: 100%|██████████████████████████████████████████████████████████████████████████| 1/1 [00:00<00:00, 47.61it/s]\n",
      "Snapping: 100%|██████████████████████████████████████████████████████████████████████████| 1/1 [00:00<00:00, 58.82it/s]\n",
      "Snapping: 100%|██████████████████████████████████████████████████████████████████████████| 1/1 [00:00<00:00, 47.61it/s]"
     ]
    },
    {
     "name": "stdout",
     "output_type": "stream",
     "text": [
      "20\n"
     ]
    },
    {
     "name": "stderr",
     "output_type": "stream",
     "text": [
      "\n",
      "Snapping: 100%|██████████████████████████████████████████████████████████████████████████| 1/1 [00:00<00:00, 58.80it/s]\n",
      "Snapping: 100%|██████████████████████████████████████████████████████████████████████████| 1/1 [00:00<00:00, 58.81it/s]\n",
      "Snapping: 100%|██████████████████████████████████████████████████████████████████████████| 1/1 [00:00<00:00, 58.81it/s]\n",
      "Snapping: 100%|██████████████████████████████████████████████████████████████████████████| 1/1 [00:00<00:00, 52.64it/s]\n",
      "Snapping: 100%|██████████████████████████████████████████████████████████████████████████| 1/1 [00:00<00:00, 58.80it/s]\n",
      "Snapping: 100%|██████████████████████████████████████████████████████████████████████████| 1/1 [00:00<00:00, 49.99it/s]\n"
     ]
    },
    {
     "name": "stdout",
     "output_type": "stream",
     "text": [
      "21\n"
     ]
    },
    {
     "data": {
      "application/vnd.jupyter.widget-view+json": {
       "model_id": "18d187568dd84c14ad8944f9e3290dc5",
       "version_major": 2,
       "version_minor": 0
      },
      "text/plain": [
       "HBox(children=(FloatProgress(value=0.0, max=64.0), HTML(value='')))"
      ]
     },
     "metadata": {},
     "output_type": "display_data"
    },
    {
     "name": "stderr",
     "output_type": "stream",
     "text": [
      "Snapping: 100%|██████████████████████████████████████████████████████████████████████████| 1/1 [00:00<00:00, 50.00it/s]\n",
      "Snapping: 100%|██████████████████████████████████████████████████████████████████████████| 1/1 [00:00<00:00, 50.00it/s]"
     ]
    },
    {
     "name": "stdout",
     "output_type": "stream",
     "text": [
      "0\n"
     ]
    },
    {
     "name": "stderr",
     "output_type": "stream",
     "text": [
      "\n",
      "C:\\Users\\ochristm\\anaconda3\\lib\\site-packages\\momepy\\utils.py:202: UserWarning: Geometry is in a geographic CRS. Results from 'length' are likely incorrect. Use 'GeoSeries.to_crs()' to re-project geometries to a projected CRS before this operation.\n",
      "\n",
      "  gdf_network[length] = gdf_network.geometry.length\n",
      "Snapping: 100%|██████████████████████████████████████████████████████████████████████████| 1/1 [00:00<00:00, 66.66it/s]\n",
      "Snapping: 100%|██████████████████████████████████████████████████████████████████████████| 1/1 [00:00<00:00, 62.50it/s]\n",
      "Snapping: 100%|██████████████████████████████████████████████████████████████████████████| 1/1 [00:00<00:00, 58.81it/s]\n",
      "Snapping: 100%|██████████████████████████████████████████████████████████████████████████| 1/1 [00:00<00:00, 52.63it/s]\n",
      "Snapping: 100%|██████████████████████████████████████████████████████████████████████████| 1/1 [00:00<00:00, 62.47it/s]\n",
      "Snapping: 100%|██████████████████████████████████████████████████████████████████████████| 1/1 [00:00<00:00, 47.61it/s]\n",
      "Snapping: 100%|██████████████████████████████████████████████████████████████████████████| 1/1 [00:00<00:00, 62.49it/s]\n",
      "Snapping: 100%|██████████████████████████████████████████████████████████████████████████| 1/1 [00:00<00:00, 49.99it/s]\n",
      "Snapping: 100%|██████████████████████████████████████████████████████████████████████████| 1/1 [00:00<00:00, 62.50it/s]\n",
      "Snapping: 100%|██████████████████████████████████████████████████████████████████████████| 1/1 [00:00<00:00, 62.49it/s]\n",
      "Snapping: 100%|██████████████████████████████████████████████████████████████████████████| 1/1 [00:00<00:00, 62.49it/s]\n",
      "Snapping: 100%|██████████████████████████████████████████████████████████████████████████| 1/1 [00:00<00:00, 55.55it/s]"
     ]
    },
    {
     "name": "stdout",
     "output_type": "stream",
     "text": [
      "1\n"
     ]
    },
    {
     "name": "stderr",
     "output_type": "stream",
     "text": [
      "\n",
      "Snapping: 100%|██████████████████████████████████████████████████████████████████████████| 1/1 [00:00<00:00, 66.65it/s]\n",
      "Snapping: 100%|██████████████████████████████████████████████████████████████████████████| 1/1 [00:00<00:00, 62.49it/s]\n",
      "Snapping: 100%|██████████████████████████████████████████████████████████████████████████| 1/1 [00:00<00:00, 62.49it/s]\n",
      "Snapping: 100%|██████████████████████████████████████████████████████████████████████████| 1/1 [00:00<00:00, 58.81it/s]\n",
      "Snapping: 100%|██████████████████████████████████████████████████████████████████████████| 1/1 [00:00<00:00, 62.49it/s]\n",
      "Snapping: 100%|██████████████████████████████████████████████████████████████████████████| 1/1 [00:00<00:00, 62.49it/s]\n",
      "Snapping: 100%|██████████████████████████████████████████████████████████████████████████| 1/1 [00:00<00:00, 49.99it/s]\n",
      "Snapping: 100%|██████████████████████████████████████████████████████████████████████████| 1/1 [00:00<00:00, 52.63it/s]\n",
      "Snapping: 100%|██████████████████████████████████████████████████████████████████████████| 1/1 [00:00<00:00, 55.54it/s]\n",
      "Snapping: 100%|██████████████████████████████████████████████████████████████████████████| 1/1 [00:00<00:00, 49.99it/s]\n",
      "Snapping: 100%|██████████████████████████████████████████████████████████████████████████| 1/1 [00:00<00:00, 50.00it/s]\n",
      "Snapping: 100%|██████████████████████████████████████████████████████████████████████████| 1/1 [00:00<00:00, 52.63it/s]\n",
      "Snapping: 100%|██████████████████████████████████████████████████████████████████████████| 1/1 [00:00<00:00, 55.56it/s]\n",
      "Snapping: 100%|██████████████████████████████████████████████████████████████████████████| 1/1 [00:00<00:00, 52.62it/s]"
     ]
    },
    {
     "name": "stdout",
     "output_type": "stream",
     "text": [
      "2\n"
     ]
    },
    {
     "name": "stderr",
     "output_type": "stream",
     "text": [
      "\n",
      "Snapping: 100%|██████████████████████████████████████████████████████████████████████████| 1/1 [00:00<00:00, 52.63it/s]\n",
      "Snapping: 100%|██████████████████████████████████████████████████████████████████████████| 1/1 [00:00<00:00, 47.61it/s]\n",
      "Snapping: 100%|██████████████████████████████████████████████████████████████████████████| 1/1 [00:00<00:00, 52.62it/s]\n",
      "Snapping: 100%|██████████████████████████████████████████████████████████████████████████| 1/1 [00:00<00:00, 52.63it/s]\n",
      "Snapping: 100%|██████████████████████████████████████████████████████████████████████████| 1/1 [00:00<00:00, 66.65it/s]\n",
      "Snapping: 100%|██████████████████████████████████████████████████████████████████████████| 1/1 [00:00<00:00, 62.49it/s]\n",
      "Snapping: 100%|██████████████████████████████████████████████████████████████████████████| 1/1 [00:00<00:00, 50.00it/s]\n",
      "Snapping: 100%|██████████████████████████████████████████████████████████████████████████| 1/1 [00:00<00:00, 49.99it/s]\n",
      "Snapping: 100%|██████████████████████████████████████████████████████████████████████████| 1/1 [00:00<00:00, 26.32it/s]\n",
      "Snapping: 100%|██████████████████████████████████████████████████████████████████████████| 1/1 [00:00<00:00, 27.78it/s]\n",
      "C:\\Users\\ochristm\\anaconda3\\lib\\site-packages\\momepy\\utils.py:202: UserWarning: Geometry is in a geographic CRS. Results from 'length' are likely incorrect. Use 'GeoSeries.to_crs()' to re-project geometries to a projected CRS before this operation.\n",
      "\n",
      "  gdf_network[length] = gdf_network.geometry.length\n",
      "Snapping: 100%|██████████████████████████████████████████████████████████████████████████| 1/1 [00:00<00:00, 58.82it/s]\n",
      "Snapping: 100%|██████████████████████████████████████████████████████████████████████████| 1/1 [00:00<00:00, 49.99it/s]"
     ]
    },
    {
     "name": "stdout",
     "output_type": "stream",
     "text": [
      "3\n"
     ]
    },
    {
     "name": "stderr",
     "output_type": "stream",
     "text": [
      "\n",
      "Snapping: 100%|██████████████████████████████████████████████████████████████████████████| 1/1 [00:00<00:00, 49.99it/s]\n",
      "Snapping: 100%|██████████████████████████████████████████████████████████████████████████| 1/1 [00:00<00:00, 50.00it/s]\n",
      "Snapping: 100%|██████████████████████████████████████████████████████████████████████████| 1/1 [00:00<00:00, 62.49it/s]\n",
      "Snapping: 100%|██████████████████████████████████████████████████████████████████████████| 1/1 [00:00<00:00, 49.99it/s]\n",
      "Snapping: 100%|██████████████████████████████████████████████████████████████████████████| 1/1 [00:00<00:00, 58.81it/s]\n",
      "Snapping: 100%|██████████████████████████████████████████████████████████████████████████| 1/1 [00:00<00:00, 49.99it/s]\n",
      "Snapping: 100%|██████████████████████████████████████████████████████████████████████████| 1/1 [00:00<00:00, 62.49it/s]\n",
      "Snapping: 100%|██████████████████████████████████████████████████████████████████████████| 1/1 [00:00<00:00, 52.62it/s]"
     ]
    },
    {
     "name": "stdout",
     "output_type": "stream",
     "text": [
      "5\n"
     ]
    },
    {
     "name": "stderr",
     "output_type": "stream",
     "text": [
      "\n",
      "Snapping: 100%|██████████████████████████████████████████████████████████████████████████| 1/1 [00:00<00:00, 62.49it/s]\n",
      "Snapping: 100%|██████████████████████████████████████████████████████████████████████████| 1/1 [00:00<00:00, 52.62it/s]\n",
      "Snapping: 100%|██████████████████████████████████████████████████████████████████████████| 1/1 [00:00<00:00, 50.00it/s]\n",
      "Snapping: 100%|██████████████████████████████████████████████████████████████████████████| 1/1 [00:00<00:00, 58.81it/s]\n",
      "Snapping: 100%|██████████████████████████████████████████████████████████████████████████| 1/1 [00:00<00:00, 52.62it/s]\n",
      "Snapping: 100%|██████████████████████████████████████████████████████████████████████████| 1/1 [00:00<00:00, 49.99it/s]\n",
      "Snapping: 100%|██████████████████████████████████████████████████████████████████████████| 1/1 [00:00<00:00, 52.62it/s]\n",
      "Snapping: 100%|██████████████████████████████████████████████████████████████████████████| 1/1 [00:00<00:00, 47.61it/s]"
     ]
    },
    {
     "name": "stdout",
     "output_type": "stream",
     "text": [
      "6\n"
     ]
    },
    {
     "name": "stderr",
     "output_type": "stream",
     "text": [
      "\n",
      "Snapping: 100%|██████████████████████████████████████████████████████████████████████████| 1/1 [00:00<00:00, 62.47it/s]\n",
      "Snapping: 100%|██████████████████████████████████████████████████████████████████████████| 1/1 [00:00<00:00, 49.32it/s]\n",
      "Snapping: 100%|██████████████████████████████████████████████████████████████████████████| 1/1 [00:00<00:00, 58.83it/s]\n",
      "Snapping: 100%|██████████████████████████████████████████████████████████████████████████| 1/1 [00:00<00:00, 55.54it/s]\n",
      "Snapping: 100%|██████████████████████████████████████████████████████████████████████████| 1/1 [00:00<00:00, 58.81it/s]\n",
      "Snapping: 100%|██████████████████████████████████████████████████████████████████████████| 1/1 [00:00<00:00, 62.38it/s]\n",
      "Snapping: 100%|██████████████████████████████████████████████████████████████████████████| 1/1 [00:00<00:00, 50.00it/s]\n",
      "Snapping: 100%|██████████████████████████████████████████████████████████████████████████| 1/1 [00:00<00:00, 50.00it/s]"
     ]
    },
    {
     "name": "stdout",
     "output_type": "stream",
     "text": [
      "8\n"
     ]
    },
    {
     "name": "stderr",
     "output_type": "stream",
     "text": [
      "\n",
      "Snapping: 100%|██████████████████████████████████████████████████████████████████████████| 1/1 [00:00<00:00, 66.65it/s]\n",
      "Snapping: 100%|██████████████████████████████████████████████████████████████████████████| 1/1 [00:00<00:00, 49.97it/s]\n",
      "Snapping: 100%|██████████████████████████████████████████████████████████████████████████| 1/1 [00:00<00:00, 49.99it/s]\n",
      "Snapping: 100%|██████████████████████████████████████████████████████████████████████████| 1/1 [00:00<00:00, 47.61it/s]\n",
      "Snapping: 100%|██████████████████████████████████████████████████████████████████████████| 1/1 [00:00<00:00, 66.65it/s]\n",
      "Snapping: 100%|██████████████████████████████████████████████████████████████████████████| 1/1 [00:00<00:00, 62.49it/s]\n",
      "Snapping: 100%|██████████████████████████████████████████████████████████████████████████| 1/1 [00:00<00:00, 66.67it/s]\n",
      "Snapping: 100%|██████████████████████████████████████████████████████████████████████████| 1/1 [00:00<00:00, 62.49it/s]\n",
      "Snapping: 100%|██████████████████████████████████████████████████████████████████████████| 1/1 [00:00<00:00, 52.62it/s]\n",
      "Snapping: 100%|██████████████████████████████████████████████████████████████████████████| 1/1 [00:00<00:00, 45.45it/s]\n",
      "Snapping: 100%|██████████████████████████████████████████████████████████████████████████| 1/1 [00:00<00:00, 50.00it/s]\n",
      "Snapping: 100%|██████████████████████████████████████████████████████████████████████████| 1/1 [00:00<00:00, 50.00it/s]"
     ]
    },
    {
     "name": "stdout",
     "output_type": "stream",
     "text": [
      "11\n"
     ]
    },
    {
     "name": "stderr",
     "output_type": "stream",
     "text": [
      "\n",
      "Snapping: 100%|██████████████████████████████████████████████████████████████████████████| 1/1 [00:00<00:00, 52.63it/s]\n",
      "Snapping: 100%|██████████████████████████████████████████████████████████████████████████| 1/1 [00:00<00:00, 52.62it/s]\n",
      "Snapping: 100%|██████████████████████████████████████████████████████████████████████████| 1/1 [00:00<00:00, 49.99it/s]\n",
      "Snapping: 100%|██████████████████████████████████████████████████████████████████████████| 1/1 [00:00<00:00, 62.50it/s]\n",
      "Snapping: 100%|██████████████████████████████████████████████████████████████████████████| 1/1 [00:00<00:00, 49.99it/s]\n",
      "Snapping: 100%|██████████████████████████████████████████████████████████████████████████| 1/1 [00:00<00:00, 62.49it/s]"
     ]
    },
    {
     "name": "stdout",
     "output_type": "stream",
     "text": [
      "12\n"
     ]
    },
    {
     "name": "stderr",
     "output_type": "stream",
     "text": [
      "\n",
      "Snapping: 100%|██████████████████████████████████████████████████████████████████████████| 1/1 [00:00<00:00, 66.66it/s]\n",
      "Snapping: 100%|██████████████████████████████████████████████████████████████████████████| 1/1 [00:00<00:00, 62.50it/s]\n",
      "Snapping: 100%|██████████████████████████████████████████████████████████████████████████| 1/1 [00:00<00:00, 33.33it/s]\n",
      "Snapping: 100%|██████████████████████████████████████████████████████████████████████████| 1/1 [00:00<00:00, 52.62it/s]\n",
      "Snapping: 100%|██████████████████████████████████████████████████████████████████████████| 1/1 [00:00<00:00, 43.48it/s]\n",
      "Snapping: 100%|██████████████████████████████████████████████████████████████████████████| 1/1 [00:00<00:00, 52.62it/s]\n",
      "Snapping: 100%|██████████████████████████████████████████████████████████████████████████| 1/1 [00:00<00:00, 62.49it/s]\n",
      "Snapping: 100%|██████████████████████████████████████████████████████████████████████████| 1/1 [00:00<00:00, 52.62it/s]\n",
      "Snapping: 100%|██████████████████████████████████████████████████████████████████████████| 1/1 [00:00<00:00, 66.65it/s]\n",
      "Snapping: 100%|██████████████████████████████████████████████████████████████████████████| 1/1 [00:00<00:00, 52.63it/s]\n",
      "Snapping: 100%|██████████████████████████████████████████████████████████████████████████| 1/1 [00:00<00:00, 66.66it/s]\n",
      "Snapping: 100%|██████████████████████████████████████████████████████████████████████████| 1/1 [00:00<00:00, 62.50it/s]\n",
      "Snapping: 100%|██████████████████████████████████████████████████████████████████████████| 1/1 [00:00<00:00, 66.66it/s]\n",
      "Snapping: 100%|██████████████████████████████████████████████████████████████████████████| 1/1 [00:00<00:00, 45.45it/s]\n",
      "Snapping: 100%|██████████████████████████████████████████████████████████████████████████| 1/1 [00:00<00:00, 50.00it/s]\n",
      "Snapping: 100%|██████████████████████████████████████████████████████████████████████████| 1/1 [00:00<00:00, 49.99it/s]\n"
     ]
    },
    {
     "name": "stdout",
     "output_type": "stream",
     "text": [
      "14\n"
     ]
    },
    {
     "data": {
      "application/vnd.jupyter.widget-view+json": {
       "model_id": "21896c05556a486ea567e20fceffe0bf",
       "version_major": 2,
       "version_minor": 0
      },
      "text/plain": [
       "HBox(children=(FloatProgress(value=0.0, max=29.0), HTML(value='')))"
      ]
     },
     "metadata": {},
     "output_type": "display_data"
    },
    {
     "name": "stderr",
     "output_type": "stream",
     "text": [
      "Snapping: 100%|██████████████████████████████████████████████████████████████████████████| 1/1 [00:00<00:00, 99.98it/s]\n",
      "Snapping: 100%|██████████████████████████████████████████████████████████████████████████| 1/1 [00:00<00:00, 96.17it/s]\n",
      "C:\\Users\\ochristm\\anaconda3\\lib\\site-packages\\momepy\\utils.py:202: UserWarning: Geometry is in a geographic CRS. Results from 'length' are likely incorrect. Use 'GeoSeries.to_crs()' to re-project geometries to a projected CRS before this operation.\n",
      "\n",
      "  gdf_network[length] = gdf_network.geometry.length\n",
      "Snapping: 100%|██████████████████████████████████████████████████████████████████████████| 1/1 [00:00<00:00, 62.50it/s]\n",
      "Snapping: 100%|██████████████████████████████████████████████████████████████████████████| 1/1 [00:00<00:00, 83.33it/s]\n",
      "Snapping: 100%|██████████████████████████████████████████████████████████████████████████| 1/1 [00:00<00:00, 90.86it/s]\n",
      "Snapping: 100%|██████████████████████████████████████████████████████████████████████████| 1/1 [00:00<00:00, 99.99it/s]\n",
      "Snapping: 100%|██████████████████████████████████████████████████████████████████████████| 1/1 [00:00<00:00, 83.32it/s]\n",
      "Snapping: 100%|██████████████████████████████████████████████████████████████████████████| 1/1 [00:00<00:00, 76.92it/s]\n",
      "Snapping: 100%|██████████████████████████████████████████████████████████████████████████| 1/1 [00:00<00:00, 90.92it/s]\n",
      "Snapping: 100%|██████████████████████████████████████████████████████████████████████████| 1/1 [00:00<00:00, 92.26it/s]\n",
      "Snapping: 100%|█████████████████████████████████████████████████████████████████████████| 1/1 [00:00<00:00, 100.00it/s]\n",
      "Snapping: 100%|██████████████████████████████████████████████████████████████████████████| 1/1 [00:00<00:00, 90.90it/s]\n",
      "Snapping: 100%|█████████████████████████████████████████████████████████████████████████| 1/1 [00:00<00:00, 111.11it/s]\n",
      "Snapping: 100%|██████████████████████████████████████████████████████████████████████████| 1/1 [00:00<00:00, 90.91it/s]\n",
      "Snapping: 100%|█████████████████████████████████████████████████████████████████████████| 1/1 [00:00<00:00, 111.10it/s]\n",
      "Snapping: 100%|██████████████████████████████████████████████████████████████████████████| 1/1 [00:00<00:00, 78.88it/s]\n",
      "Snapping: 100%|██████████████████████████████████████████████████████████████████████████| 1/1 [00:00<00:00, 71.43it/s]\n",
      "Snapping: 100%|█████████████████████████████████████████████████████████████████████████| 1/1 [00:00<00:00, 124.97it/s]\n",
      "Snapping: 100%|██████████████████████████████████████████████████████████████████████████| 1/1 [00:00<00:00, 83.33it/s]\n",
      "Snapping: 100%|██████████████████████████████████████████████████████████████████████████| 1/1 [00:00<00:00, 86.52it/s]\n"
     ]
    },
    {
     "name": "stdout",
     "output_type": "stream",
     "text": [
      "10\n"
     ]
    },
    {
     "data": {
      "application/vnd.jupyter.widget-view+json": {
       "model_id": "2f1ac7f698414bbf92e1cc34b9084d08",
       "version_major": 2,
       "version_minor": 0
      },
      "text/plain": [
       "HBox(children=(FloatProgress(value=0.0, max=30.0), HTML(value='')))"
      ]
     },
     "metadata": {},
     "output_type": "display_data"
    },
    {
     "name": "stderr",
     "output_type": "stream",
     "text": [
      "Snapping: 100%|█████████████████████████████████████████████████████████████████████████| 1/1 [00:00<00:00, 100.00it/s]\n",
      "Snapping: 100%|██████████████████████████████████████████████████████████████████████████| 1/1 [00:00<00:00, 99.99it/s]\n",
      "C:\\Users\\ochristm\\anaconda3\\lib\\site-packages\\momepy\\utils.py:202: UserWarning: Geometry is in a geographic CRS. Results from 'length' are likely incorrect. Use 'GeoSeries.to_crs()' to re-project geometries to a projected CRS before this operation.\n",
      "\n",
      "  gdf_network[length] = gdf_network.geometry.length\n",
      "Snapping: 100%|██████████████████████████████████████████████████████████████████████████| 1/1 [00:00<00:00, 99.99it/s]\n",
      "Snapping: 100%|██████████████████████████████████████████████████████████████████████████| 1/1 [00:00<00:00, 76.93it/s]\n",
      "Snapping: 100%|██████████████████████████████████████████████████████████████████████████| 1/1 [00:00<00:00, 83.33it/s]\n",
      "Snapping: 100%|██████████████████████████████████████████████████████████████████████████| 1/1 [00:00<00:00, 99.99it/s]\n",
      "Snapping: 100%|██████████████████████████████████████████████████████████████████████████| 1/1 [00:00<00:00, 99.99it/s]\n",
      "Snapping: 100%|██████████████████████████████████████████████████████████████████████████| 1/1 [00:00<00:00, 90.89it/s]\n",
      "Snapping: 100%|██████████████████████████████████████████████████████████████████████████| 1/1 [00:00<00:00, 83.33it/s]\n",
      "Snapping: 100%|██████████████████████████████████████████████████████████████████████████| 1/1 [00:00<00:00, 99.99it/s]\n",
      "Snapping: 100%|█████████████████████████████████████████████████████████████████████████| 1/1 [00:00<00:00, 100.00it/s]\n",
      "Snapping: 100%|██████████████████████████████████████████████████████████████████████████| 1/1 [00:00<00:00, 90.94it/s]"
     ]
    },
    {
     "name": "stdout",
     "output_type": "stream",
     "text": [
      "5\n"
     ]
    },
    {
     "name": "stderr",
     "output_type": "stream",
     "text": [
      "\n",
      "Snapping: 100%|█████████████████████████████████████████████████████████████████████████| 1/1 [00:00<00:00, 111.10it/s]\n",
      "Snapping: 100%|██████████████████████████████████████████████████████████████████████████| 1/1 [00:00<00:00, 83.33it/s]\n",
      "Snapping: 100%|██████████████████████████████████████████████████████████████████████████| 1/1 [00:00<00:00, 79.91it/s]\n",
      "Snapping: 100%|██████████████████████████████████████████████████████████████████████████| 1/1 [00:00<00:00, 83.33it/s]\n",
      "Snapping: 100%|██████████████████████████████████████████████████████████████████████████| 1/1 [00:00<00:00, 83.31it/s]\n",
      "Snapping: 100%|██████████████████████████████████████████████████████████████████████████| 1/1 [00:00<00:00, 76.89it/s]\n",
      "Snapping: 100%|█████████████████████████████████████████████████████████████████████████| 1/1 [00:00<00:00, 111.10it/s]\n",
      "Snapping: 100%|█████████████████████████████████████████████████████████████████████████| 1/1 [00:00<00:00, 111.07it/s]\n",
      "Snapping: 100%|█████████████████████████████████████████████████████████████████████████| 1/1 [00:00<00:00, 100.00it/s]\n",
      "Snapping: 100%|██████████████████████████████████████████████████████████████████████████| 1/1 [00:00<00:00, 79.93it/s]\n",
      "Snapping: 100%|█████████████████████████████████████████████████████████████████████████| 1/1 [00:00<00:00, 111.10it/s]\n",
      "Snapping: 100%|██████████████████████████████████████████████████████████████████████████| 1/1 [00:00<00:00, 99.99it/s]\n",
      "Snapping: 100%|██████████████████████████████████████████████████████████████████████████| 1/1 [00:00<00:00, 90.91it/s]\n",
      "Snapping: 100%|██████████████████████████████████████████████████████████████████████████| 1/1 [00:00<00:00, 99.98it/s]\n",
      "Snapping: 100%|██████████████████████████████████████████████████████████████████████████| 1/1 [00:00<00:00, 99.99it/s]\n",
      "Snapping: 100%|██████████████████████████████████████████████████████████████████████████| 1/1 [00:00<00:00, 99.95it/s]\n",
      "Snapping: 100%|█████████████████████████████████████████████████████████████████████████| 1/1 [00:00<00:00, 100.00it/s]\n",
      "Snapping: 100%|██████████████████████████████████████████████████████████████████████████| 1/1 [00:00<00:00, 83.33it/s]\n",
      "Snapping: 100%|██████████████████████████████████████████████████████████████████████████| 1/1 [00:00<00:00, 99.98it/s]\n",
      "Snapping: 100%|██████████████████████████████████████████████████████████████████████████| 1/1 [00:00<00:00, 88.56it/s]"
     ]
    },
    {
     "name": "stdout",
     "output_type": "stream",
     "text": [
      "11\n"
     ]
    },
    {
     "name": "stderr",
     "output_type": "stream",
     "text": [
      "\n",
      "Snapping: 100%|█████████████████████████████████████████████████████████████████████████| 1/1 [00:00<00:00, 111.11it/s]\n",
      "Snapping: 100%|█████████████████████████████████████████████████████████████████████████| 1/1 [00:00<00:00, 111.10it/s]\n",
      "Snapping: 100%|██████████████████████████████████████████████████████████████████████████| 1/1 [00:00<00:00, 99.96it/s]\n",
      "Snapping: 100%|██████████████████████████████████████████████████████████████████████████| 1/1 [00:00<00:00, 90.90it/s]\n",
      "Snapping: 100%|██████████████████████████████████████████████████████████████████████████| 1/1 [00:00<00:00, 83.33it/s]\n",
      "Snapping: 100%|██████████████████████████████████████████████████████████████████████████| 1/1 [00:00<00:00, 52.62it/s]\n",
      "Snapping: 100%|██████████████████████████████████████████████████████████████████████████| 1/1 [00:00<00:00, 90.90it/s]\n",
      "Snapping: 100%|██████████████████████████████████████████████████████████████████████████| 1/1 [00:00<00:00, 83.32it/s]\n",
      "Snapping: 100%|██████████████████████████████████████████████████████████████████████████| 1/1 [00:00<00:00, 83.33it/s]\n",
      "Snapping: 100%|█████████████████████████████████████████████████████████████████████████| 1/1 [00:00<00:00, 111.11it/s]\n",
      "Snapping: 100%|█████████████████████████████████████████████████████████████████████████| 1/1 [00:00<00:00, 111.10it/s]\n",
      "Snapping: 100%|█████████████████████████████████████████████████████████████████████████| 1/1 [00:00<00:00, 111.10it/s]"
     ]
    },
    {
     "name": "stdout",
     "output_type": "stream",
     "text": [
      "14\n"
     ]
    },
    {
     "name": "stderr",
     "output_type": "stream",
     "text": [
      "\n",
      "Snapping: 100%|██████████████████████████████████████████████████████████████████████████| 1/1 [00:00<00:00, 76.92it/s]\n",
      "Snapping: 100%|██████████████████████████████████████████████████████████████████████████| 1/1 [00:00<00:00, 83.32it/s]\n",
      "Snapping: 100%|█████████████████████████████████████████████████████████████████████████| 1/1 [00:00<00:00, 111.11it/s]\n",
      "Snapping: 100%|██████████████████████████████████████████████████████████████████████████| 1/1 [00:00<00:00, 76.92it/s]\n",
      "Snapping: 100%|██████████████████████████████████████████████████████████████████████████| 1/1 [00:00<00:00, 90.52it/s]\n",
      "Snapping: 100%|██████████████████████████████████████████████████████████████████████████| 1/1 [00:00<00:00, 99.98it/s]\n",
      "Snapping: 100%|██████████████████████████████████████████████████████████████████████████| 1/1 [00:00<00:00, 73.99it/s]\n",
      "Snapping: 100%|█████████████████████████████████████████████████████████████████████████| 1/1 [00:00<00:00, 111.09it/s]\n",
      "Snapping: 100%|█████████████████████████████████████████████████████████████████████████| 1/1 [00:00<00:00, 111.07it/s]\n",
      "Snapping: 100%|██████████████████████████████████████████████████████████████████████████| 1/1 [00:00<00:00, 99.99it/s]\n",
      "Snapping: 100%|██████████████████████████████████████████████████████████████████████████| 1/1 [00:00<00:00, 76.92it/s]\n",
      "Snapping: 100%|█████████████████████████████████████████████████████████████████████████| 1/1 [00:00<00:00, 111.09it/s]\n",
      "Snapping: 100%|██████████████████████████████████████████████████████████████████████████| 1/1 [00:00<00:00, 76.92it/s]\n",
      "Snapping: 100%|██████████████████████████████████████████████████████████████████████████| 1/1 [00:00<00:00, 99.98it/s]\n",
      "Snapping: 100%|██████████████████████████████████████████████████████████████████████████| 1/1 [00:00<00:00, 90.91it/s]\n",
      "Snapping: 100%|██████████████████████████████████████████████████████████████████████████| 1/1 [00:00<00:00, 89.05it/s]"
     ]
    },
    {
     "name": "stdout",
     "output_type": "stream",
     "text": [
      "19\n"
     ]
    },
    {
     "name": "stderr",
     "output_type": "stream",
     "text": [
      "\n",
      "Snapping: 100%|██████████████████████████████████████████████████████████████████████████| 1/1 [00:00<00:00, 76.91it/s]\n",
      "Snapping: 100%|██████████████████████████████████████████████████████████████████████████| 1/1 [00:00<00:00, 99.99it/s]\n",
      "Snapping: 100%|█████████████████████████████████████████████████████████████████████████| 1/1 [00:00<00:00, 111.07it/s]\n",
      "Snapping: 100%|██████████████████████████████████████████████████████████████████████████| 1/1 [00:00<00:00, 90.90it/s]\n",
      "Snapping: 100%|██████████████████████████████████████████████████████████████████████████| 1/1 [00:00<00:00, 76.92it/s]\n",
      "Snapping: 100%|█████████████████████████████████████████████████████████████████████████| 1/1 [00:00<00:00, 100.00it/s]\n",
      "Snapping: 100%|██████████████████████████████████████████████████████████████████████████| 1/1 [00:00<00:00, 99.96it/s]\n",
      "Snapping: 100%|██████████████████████████████████████████████████████████████████████████| 1/1 [00:00<00:00, 71.43it/s]\n",
      "Snapping: 100%|█████████████████████████████████████████████████████████████████████████| 1/1 [00:00<00:00, 100.00it/s]\n",
      "Snapping: 100%|█████████████████████████████████████████████████████████████████████████| 1/1 [00:00<00:00, 111.12it/s]\n",
      "Snapping: 100%|██████████████████████████████████████████████████████████████████████████| 1/1 [00:00<00:00, 62.51it/s]\n",
      "Snapping: 100%|██████████████████████████████████████████████████████████████████████████| 1/1 [00:00<00:00, 99.97it/s]\n",
      "Snapping: 100%|██████████████████████████████████████████████████████████████████████████| 1/1 [00:00<00:00, 76.92it/s]\n",
      "Snapping: 100%|██████████████████████████████████████████████████████████████████████████| 1/1 [00:00<00:00, 83.31it/s]\n",
      "Snapping: 100%|██████████████████████████████████████████████████████████████████████████| 1/1 [00:00<00:00, 90.90it/s]\n",
      "Snapping: 100%|██████████████████████████████████████████████████████████████████████████| 1/1 [00:00<00:00, 76.91it/s]\n",
      "Snapping: 100%|██████████████████████████████████████████████████████████████████████████| 1/1 [00:00<00:00, 90.90it/s]\n",
      "Snapping: 100%|█████████████████████████████████████████████████████████████████████████| 1/1 [00:00<00:00, 111.06it/s]\n",
      "Snapping: 100%|██████████████████████████████████████████████████████████████████████████| 1/1 [00:00<00:00, 90.89it/s]\n",
      "Snapping: 100%|██████████████████████████████████████████████████████████████████████████| 1/1 [00:00<00:00, 99.95it/s]\n",
      "Snapping: 100%|██████████████████████████████████████████████████████████████████████████| 1/1 [00:00<00:00, 76.91it/s]\n",
      "Snapping: 100%|██████████████████████████████████████████████████████████████████████████| 1/1 [00:00<00:00, 76.93it/s]\n",
      "Snapping: 100%|█████████████████████████████████████████████████████████████████████████| 1/1 [00:00<00:00, 100.01it/s]\n",
      "Snapping: 100%|██████████████████████████████████████████████████████████████████████████| 1/1 [00:00<00:00, 99.98it/s]"
     ]
    },
    {
     "name": "stdout",
     "output_type": "stream",
     "text": [
      "29\n"
     ]
    },
    {
     "name": "stderr",
     "output_type": "stream",
     "text": [
      "\n",
      "Snapping: 100%|██████████████████████████████████████████████████████████████████████████| 1/1 [00:00<00:00, 76.91it/s]\n",
      "Snapping: 100%|█████████████████████████████████████████████████████████████████████████| 1/1 [00:00<00:00, 111.10it/s]\n",
      "Snapping: 100%|██████████████████████████████████████████████████████████████████████████| 1/1 [00:00<00:00, 99.95it/s]\n",
      "Snapping: 100%|██████████████████████████████████████████████████████████████████████████| 1/1 [00:00<00:00, 83.35it/s]\n",
      "Snapping: 100%|██████████████████████████████████████████████████████████████████████████| 1/1 [00:00<00:00, 76.91it/s]\n",
      "Snapping: 100%|█████████████████████████████████████████████████████████████████████████| 1/1 [00:00<00:00, 111.12it/s]\n"
     ]
    },
    {
     "name": "stdout",
     "output_type": "stream",
     "text": [
      "\n"
     ]
    },
    {
     "data": {
      "application/vnd.jupyter.widget-view+json": {
       "model_id": "1f8efa09812942a4991008047bb43348",
       "version_major": 2,
       "version_minor": 0
      },
      "text/plain": [
       "HBox(children=(FloatProgress(value=0.0, max=135.0), HTML(value='')))"
      ]
     },
     "metadata": {},
     "output_type": "display_data"
    },
    {
     "name": "stderr",
     "output_type": "stream",
     "text": [
      "Snapping: 100%|██████████████████████████████████████████████████████████████████████████| 1/1 [00:00<00:00, 73.81it/s]\n",
      "Snapping: 100%|██████████████████████████████████████████████████████████████████████████| 1/1 [00:00<00:00, 71.42it/s]\n",
      "C:\\Users\\ochristm\\anaconda3\\lib\\site-packages\\momepy\\utils.py:202: UserWarning: Geometry is in a geographic CRS. Results from 'length' are likely incorrect. Use 'GeoSeries.to_crs()' to re-project geometries to a projected CRS before this operation.\n",
      "\n",
      "  gdf_network[length] = gdf_network.geometry.length\n",
      "Snapping: 100%|█████████████████████████████████████████████████████████████████████████| 1/1 [00:00<00:00, 111.11it/s]\n",
      "Snapping: 100%|██████████████████████████████████████████████████████████████████████████| 1/1 [00:00<00:00, 99.99it/s]\n",
      "Snapping: 100%|██████████████████████████████████████████████████████████████████████████| 1/1 [00:00<00:00, 83.33it/s]\n",
      "Snapping: 100%|██████████████████████████████████████████████████████████████████████████| 1/1 [00:00<00:00, 76.92it/s]\n",
      "Snapping: 100%|██████████████████████████████████████████████████████████████████████████| 1/1 [00:00<00:00, 83.31it/s]\n",
      "Snapping: 100%|██████████████████████████████████████████████████████████████████████████| 1/1 [00:00<00:00, 99.97it/s]\n",
      "Snapping: 100%|██████████████████████████████████████████████████████████████████████████| 1/1 [00:00<00:00, 83.35it/s]\n",
      "Snapping: 100%|██████████████████████████████████████████████████████████████████████████| 1/1 [00:00<00:00, 76.91it/s]\n",
      "Snapping: 100%|██████████████████████████████████████████████████████████████████████████| 1/1 [00:00<00:00, 95.16it/s]\n",
      "Snapping: 100%|██████████████████████████████████████████████████████████████████████████| 1/1 [00:00<00:00, 76.93it/s]\n",
      "Snapping: 100%|██████████████████████████████████████████████████████████████████████████| 1/1 [00:00<00:00, 90.89it/s]\n",
      "Snapping: 100%|██████████████████████████████████████████████████████████████████████████| 1/1 [00:00<00:00, 83.33it/s]\n",
      "Snapping: 100%|█████████████████████████████████████████████████████████████████████████| 1/1 [00:00<00:00, 100.02it/s]\n",
      "Snapping: 100%|██████████████████████████████████████████████████████████████████████████| 1/1 [00:00<00:00, 99.94it/s]\n",
      "Snapping: 100%|█████████████████████████████████████████████████████████████████████████| 1/1 [00:00<00:00, 100.02it/s]\n",
      "Snapping: 100%|██████████████████████████████████████████████████████████████████████████| 1/1 [00:00<00:00, 99.98it/s]\n",
      "Snapping: 100%|██████████████████████████████████████████████████████████████████████████| 1/1 [00:00<00:00, 76.91it/s]\n",
      "Snapping: 100%|██████████████████████████████████████████████████████████████████████████| 1/1 [00:00<00:00, 58.81it/s]\n",
      "Snapping: 100%|██████████████████████████████████████████████████████████████████████████| 1/1 [00:00<00:00, 99.92it/s]\n",
      "Snapping: 100%|█████████████████████████████████████████████████████████████████████████| 1/1 [00:00<00:00, 111.12it/s]\n",
      "Snapping: 100%|██████████████████████████████████████████████████████████████████████████| 1/1 [00:00<00:00, 76.90it/s]\n",
      "Snapping: 100%|█████████████████████████████████████████████████████████████████████████| 1/1 [00:00<00:00, 111.10it/s]\n",
      "Snapping: 100%|██████████████████████████████████████████████████████████████████████████| 1/1 [00:00<00:00, 71.43it/s]\n",
      "Snapping: 100%|██████████████████████████████████████████████████████████████████████████| 1/1 [00:00<00:00, 76.90it/s]\n",
      "Snapping: 100%|██████████████████████████████████████████████████████████████████████████| 1/1 [00:00<00:00, 66.67it/s]\n",
      "Snapping: 100%|██████████████████████████████████████████████████████████████████████████| 1/1 [00:00<00:00, 90.91it/s]\n",
      "Snapping: 100%|██████████████████████████████████████████████████████████████████████████| 1/1 [00:00<00:00, 99.96it/s]\n",
      "Snapping: 100%|█████████████████████████████████████████████████████████████████████████| 1/1 [00:00<00:00, 100.02it/s]\n",
      "Snapping: 100%|██████████████████████████████████████████████████████████████████████████| 1/1 [00:00<00:00, 73.97it/s]\n",
      "Snapping: 100%|██████████████████████████████████████████████████████████████████████████| 1/1 [00:00<00:00, 83.32it/s]\n",
      "Snapping: 100%|█████████████████████████████████████████████████████████████████████████| 1/1 [00:00<00:00, 111.04it/s]\n",
      "Snapping: 100%|█████████████████████████████████████████████████████████████████████████| 1/1 [00:00<00:00, 100.00it/s]\n",
      "Snapping: 100%|██████████████████████████████████████████████████████████████████████████| 1/1 [00:00<00:00, 76.93it/s]\n",
      "Snapping: 100%|██████████████████████████████████████████████████████████████████████████| 1/1 [00:00<00:00, 71.40it/s]\n",
      "Snapping: 100%|██████████████████████████████████████████████████████████████████████████| 1/1 [00:00<00:00, 83.32it/s]\n",
      "Snapping: 100%|██████████████████████████████████████████████████████████████████████████| 1/1 [00:00<00:00, 76.92it/s]\n",
      "Snapping: 100%|██████████████████████████████████████████████████████████████████████████| 1/1 [00:00<00:00, 76.92it/s]\n",
      "Snapping: 100%|██████████████████████████████████████████████████████████████████████████| 1/1 [00:00<00:00, 76.90it/s]\n",
      "Snapping: 100%|█████████████████████████████████████████████████████████████████████████| 1/1 [00:00<00:00, 100.18it/s]\n",
      "Snapping: 100%|█████████████████████████████████████████████████████████████████████████| 1/1 [00:00<00:00, 100.04it/s]\n",
      "Snapping: 100%|██████████████████████████████████████████████████████████████████████████| 1/1 [00:00<00:00, 90.94it/s]\n",
      "Snapping: 100%|██████████████████████████████████████████████████████████████████████████| 1/1 [00:00<00:00, 76.90it/s]\n",
      "Snapping: 100%|██████████████████████████████████████████████████████████████████████████| 1/1 [00:00<00:00, 90.86it/s]\n",
      "Snapping: 100%|█████████████████████████████████████████████████████████████████████████| 1/1 [00:00<00:00, 100.02it/s]\n",
      "Snapping: 100%|█████████████████████████████████████████████████████████████████████████| 1/1 [00:00<00:00, 100.00it/s]\n",
      "Snapping: 100%|█████████████████████████████████████████████████████████████████████████| 1/1 [00:00<00:00, 111.10it/s]\n",
      "Snapping: 100%|██████████████████████████████████████████████████████████████████████████| 1/1 [00:00<00:00, 83.33it/s]\n",
      "Snapping: 100%|██████████████████████████████████████████████████████████████████████████| 1/1 [00:00<00:00, 99.99it/s]\n",
      "Snapping: 100%|█████████████████████████████████████████████████████████████████████████| 1/1 [00:00<00:00, 100.00it/s]\n",
      "Snapping: 100%|██████████████████████████████████████████████████████████████████████████| 1/1 [00:00<00:00, 55.56it/s]\n",
      "Snapping: 100%|██████████████████████████████████████████████████████████████████████████| 1/1 [00:00<00:00, 71.41it/s]\n",
      "Snapping: 100%|██████████████████████████████████████████████████████████████████████████| 1/1 [00:00<00:00, 71.42it/s]\n",
      "Snapping: 100%|██████████████████████████████████████████████████████████████████████████| 1/1 [00:00<00:00, 90.89it/s]\n",
      "Snapping: 100%|██████████████████████████████████████████████████████████████████████████| 1/1 [00:00<00:00, 66.66it/s]\n",
      "Snapping: 100%|██████████████████████████████████████████████████████████████████████████| 1/1 [00:00<00:00, 99.93it/s]\n",
      "Snapping: 100%|██████████████████████████████████████████████████████████████████████████| 1/1 [00:00<00:00, 99.99it/s]\n",
      "Snapping: 100%|██████████████████████████████████████████████████████████████████████████| 1/1 [00:00<00:00, 66.67it/s]\n",
      "Snapping: 100%|██████████████████████████████████████████████████████████████████████████| 1/1 [00:00<00:00, 83.32it/s]\n",
      "Snapping: 100%|██████████████████████████████████████████████████████████████████████████| 1/1 [00:00<00:00, 71.43it/s]\n",
      "Snapping: 100%|██████████████████████████████████████████████████████████████████████████| 1/1 [00:00<00:00, 76.91it/s]\n",
      "Snapping: 100%|██████████████████████████████████████████████████████████████████████████| 1/1 [00:00<00:00, 71.43it/s]\n",
      "Snapping: 100%|██████████████████████████████████████████████████████████████████████████| 1/1 [00:00<00:00, 73.95it/s]\n",
      "Snapping: 100%|██████████████████████████████████████████████████████████████████████████| 1/1 [00:00<00:00, 76.92it/s]\n"
     ]
    },
    {
     "name": "stderr",
     "output_type": "stream",
     "text": [
      "Snapping: 100%|█████████████████████████████████████████████████████████████████████████| 1/1 [00:00<00:00, 100.02it/s]\n",
      "Snapping: 100%|██████████████████████████████████████████████████████████████████████████| 1/1 [00:00<00:00, 76.90it/s]\n",
      "Snapping: 100%|██████████████████████████████████████████████████████████████████████████| 1/1 [00:00<00:00, 99.98it/s]\n",
      "Snapping: 100%|██████████████████████████████████████████████████████████████████████████| 1/1 [00:00<00:00, 71.42it/s]\n",
      "Snapping: 100%|█████████████████████████████████████████████████████████████████████████| 1/1 [00:00<00:00, 111.07it/s]\n",
      "Snapping: 100%|██████████████████████████████████████████████████████████████████████████| 1/1 [00:00<00:00, 76.91it/s]\n",
      "Snapping: 100%|██████████████████████████████████████████████████████████████████████████| 1/1 [00:00<00:00, 99.99it/s]\n",
      "Snapping: 100%|██████████████████████████████████████████████████████████████████████████| 1/1 [00:00<00:00, 90.89it/s]\n",
      "Snapping: 100%|██████████████████████████████████████████████████████████████████████████| 1/1 [00:00<00:00, 90.88it/s]\n",
      "Snapping: 100%|█████████████████████████████████████████████████████████████████████████| 1/1 [00:00<00:00, 100.03it/s]\n",
      "Snapping: 100%|█████████████████████████████████████████████████████████████████████████| 1/1 [00:00<00:00, 111.09it/s]\n",
      "Snapping: 100%|█████████████████████████████████████████████████████████████████████████| 1/1 [00:00<00:00, 111.00it/s]\n",
      "Snapping: 100%|█████████████████████████████████████████████████████████████████████████| 1/1 [00:00<00:00, 100.00it/s]\n",
      "Snapping: 100%|██████████████████████████████████████████████████████████████████████████| 1/1 [00:00<00:00, 99.99it/s]\n",
      "Snapping: 100%|█████████████████████████████████████████████████████████████████████████| 1/1 [00:00<00:00, 111.09it/s]\n",
      "Snapping: 100%|██████████████████████████████████████████████████████████████████████████| 1/1 [00:00<00:00, 90.91it/s]\n",
      "Snapping: 100%|██████████████████████████████████████████████████████████████████████████| 1/1 [00:00<00:00, 99.99it/s]\n",
      "Snapping: 100%|██████████████████████████████████████████████████████████████████████████| 1/1 [00:00<00:00, 76.85it/s]\n",
      "Snapping: 100%|█████████████████████████████████████████████████████████████████████████| 1/1 [00:00<00:00, 111.11it/s]\n",
      "Snapping: 100%|██████████████████████████████████████████████████████████████████████████| 1/1 [00:00<00:00, 90.88it/s]\n",
      "Snapping: 100%|██████████████████████████████████████████████████████████████████████████| 1/1 [00:00<00:00, 99.98it/s]\n",
      "Snapping: 100%|█████████████████████████████████████████████████████████████████████████| 1/1 [00:00<00:00, 100.01it/s]\n",
      "Snapping: 100%|█████████████████████████████████████████████████████████████████████████| 1/1 [00:00<00:00, 100.00it/s]\n",
      "Snapping: 100%|██████████████████████████████████████████████████████████████████████████| 1/1 [00:00<00:00, 76.92it/s]\n",
      "Snapping: 100%|██████████████████████████████████████████████████████████████████████████| 1/1 [00:00<00:00, 69.96it/s]\n",
      "Snapping: 100%|█████████████████████████████████████████████████████████████████████████| 1/1 [00:00<00:00, 103.75it/s]\n",
      "Snapping: 100%|█████████████████████████████████████████████████████████████████████████| 1/1 [00:00<00:00, 111.08it/s]\n",
      "Snapping: 100%|██████████████████████████████████████████████████████████████████████████| 1/1 [00:00<00:00, 99.99it/s]\n",
      "Snapping: 100%|█████████████████████████████████████████████████████████████████████████| 1/1 [00:00<00:00, 111.12it/s]\n",
      "Snapping: 100%|██████████████████████████████████████████████████████████████████████████| 1/1 [00:00<00:00, 66.66it/s]\n",
      "Snapping: 100%|██████████████████████████████████████████████████████████████████████████| 1/1 [00:00<00:00, 90.89it/s]\n",
      "Snapping: 100%|██████████████████████████████████████████████████████████████████████████| 1/1 [00:00<00:00, 76.93it/s]\n",
      "Snapping: 100%|██████████████████████████████████████████████████████████████████████████| 1/1 [00:00<00:00, 71.46it/s]\n",
      "Snapping: 100%|██████████████████████████████████████████████████████████████████████████| 1/1 [00:00<00:00, 90.92it/s]\n",
      "Snapping: 100%|██████████████████████████████████████████████████████████████████████████| 1/1 [00:00<00:00, 71.43it/s]\n",
      "Snapping: 100%|██████████████████████████████████████████████████████████████████████████| 1/1 [00:00<00:00, 99.86it/s]\n",
      "Snapping: 100%|█████████████████████████████████████████████████████████████████████████| 1/1 [00:00<00:00, 100.01it/s]\n",
      "Snapping: 100%|██████████████████████████████████████████████████████████████████████████| 1/1 [00:00<00:00, 76.91it/s]\n",
      "Snapping: 100%|██████████████████████████████████████████████████████████████████████████| 1/1 [00:00<00:00, 76.93it/s]\n",
      "Snapping: 100%|██████████████████████████████████████████████████████████████████████████| 1/1 [00:00<00:00, 71.43it/s]\n",
      "Snapping: 100%|██████████████████████████████████████████████████████████████████████████| 1/1 [00:00<00:00, 99.98it/s]\n",
      "Snapping: 100%|█████████████████████████████████████████████████████████████████████████| 1/1 [00:00<00:00, 100.00it/s]\n",
      "Snapping: 100%|██████████████████████████████████████████████████████████████████████████| 1/1 [00:00<00:00, 71.42it/s]\n",
      "Snapping: 100%|██████████████████████████████████████████████████████████████████████████| 1/1 [00:00<00:00, 99.97it/s]\n",
      "Snapping: 100%|██████████████████████████████████████████████████████████████████████████| 1/1 [00:00<00:00, 83.34it/s]\n",
      "Snapping: 100%|██████████████████████████████████████████████████████████████████████████| 1/1 [00:00<00:00, 90.91it/s]\n",
      "Snapping: 100%|██████████████████████████████████████████████████████████████████████████| 1/1 [00:00<00:00, 99.99it/s]\n",
      "Snapping: 100%|██████████████████████████████████████████████████████████████████████████| 1/1 [00:00<00:00, 90.89it/s]\n",
      "Snapping: 100%|█████████████████████████████████████████████████████████████████████████| 1/1 [00:00<00:00, 100.01it/s]\n",
      "Snapping: 100%|██████████████████████████████████████████████████████████████████████████| 1/1 [00:00<00:00, 90.91it/s]\n",
      "Snapping: 100%|██████████████████████████████████████████████████████████████████████████| 1/1 [00:00<00:00, 90.90it/s]\n",
      "Snapping: 100%|██████████████████████████████████████████████████████████████████████████| 1/1 [00:00<00:00, 90.87it/s]\n",
      "Snapping: 100%|██████████████████████████████████████████████████████████████████████████| 1/1 [00:00<00:00, 90.90it/s]\n",
      "Snapping: 100%|██████████████████████████████████████████████████████████████████████████| 1/1 [00:00<00:00, 90.89it/s]\n",
      "Snapping: 100%|█████████████████████████████████████████████████████████████████████████| 1/1 [00:00<00:00, 100.00it/s]\n",
      "Snapping: 100%|█████████████████████████████████████████████████████████████████████████| 1/1 [00:00<00:00, 111.08it/s]\n",
      "Snapping: 100%|█████████████████████████████████████████████████████████████████████████| 1/1 [00:00<00:00, 100.00it/s]\n",
      "Snapping: 100%|██████████████████████████████████████████████████████████████████████████| 1/1 [00:00<00:00, 90.90it/s]\n",
      "Snapping: 100%|██████████████████████████████████████████████████████████████████████████| 1/1 [00:00<00:00, 83.33it/s]\n",
      "Snapping: 100%|██████████████████████████████████████████████████████████████████████████| 1/1 [00:00<00:00, 90.91it/s]\n",
      "Snapping: 100%|█████████████████████████████████████████████████████████████████████████| 1/1 [00:00<00:00, 100.00it/s]\n",
      "Snapping: 100%|██████████████████████████████████████████████████████████████████████████| 1/1 [00:00<00:00, 71.42it/s]\n",
      "Snapping: 100%|██████████████████████████████████████████████████████████████████████████| 1/1 [00:00<00:00, 99.97it/s]\n",
      "Snapping: 100%|█████████████████████████████████████████████████████████████████████████| 1/1 [00:00<00:00, 100.00it/s]\n",
      "Snapping: 100%|██████████████████████████████████████████████████████████████████████████| 1/1 [00:00<00:00, 90.90it/s]\n",
      "Snapping: 100%|██████████████████████████████████████████████████████████████████████████| 1/1 [00:00<00:00, 99.98it/s]\n",
      "Snapping: 100%|█████████████████████████████████████████████████████████████████████████| 1/1 [00:00<00:00, 100.01it/s]\n",
      "Snapping: 100%|██████████████████████████████████████████████████████████████████████████| 1/1 [00:00<00:00, 71.41it/s]\n"
     ]
    },
    {
     "name": "stderr",
     "output_type": "stream",
     "text": [
      "Snapping: 100%|██████████████████████████████████████████████████████████████████████████| 1/1 [00:00<00:00, 83.31it/s]\n",
      "Snapping: 100%|██████████████████████████████████████████████████████████████████████████| 1/1 [00:00<00:00, 90.90it/s]\n",
      "Snapping: 100%|██████████████████████████████████████████████████████████████████████████| 1/1 [00:00<00:00, 76.91it/s]\n",
      "Snapping: 100%|██████████████████████████████████████████████████████████████████████████| 1/1 [00:00<00:00, 91.03it/s]\n",
      "Snapping: 100%|██████████████████████████████████████████████████████████████████████████| 1/1 [00:00<00:00, 90.90it/s]\n",
      "Snapping: 100%|██████████████████████████████████████████████████████████████████████████| 1/1 [00:00<00:00, 83.34it/s]\n",
      "Snapping: 100%|██████████████████████████████████████████████████████████████████████████| 1/1 [00:00<00:00, 90.91it/s]\n",
      "Snapping: 100%|██████████████████████████████████████████████████████████████████████████| 1/1 [00:00<00:00, 71.43it/s]\n",
      "Snapping: 100%|██████████████████████████████████████████████████████████████████████████| 1/1 [00:00<00:00, 76.90it/s]\n",
      "Snapping: 100%|██████████████████████████████████████████████████████████████████████████| 1/1 [00:00<00:00, 90.87it/s]\n",
      "Snapping: 100%|█████████████████████████████████████████████████████████████████████████| 1/1 [00:00<00:00, 111.09it/s]\n",
      "Snapping: 100%|██████████████████████████████████████████████████████████████████████████| 1/1 [00:00<00:00, 71.43it/s]\n",
      "Snapping: 100%|██████████████████████████████████████████████████████████████████████████| 1/1 [00:00<00:00, 76.91it/s]\n",
      "Snapping: 100%|██████████████████████████████████████████████████████████████████████████| 1/1 [00:00<00:00, 90.91it/s]\n",
      "Snapping: 100%|██████████████████████████████████████████████████████████████████████████| 1/1 [00:00<00:00, 71.42it/s]\n",
      "Snapping: 100%|██████████████████████████████████████████████████████████████████████████| 1/1 [00:00<00:00, 62.49it/s]\n",
      "Snapping: 100%|█████████████████████████████████████████████████████████████████████████| 1/1 [00:00<00:00, 111.11it/s]\n",
      "Snapping: 100%|██████████████████████████████████████████████████████████████████████████| 1/1 [00:00<00:00, 76.91it/s]\n",
      "Snapping: 100%|██████████████████████████████████████████████████████████████████████████| 1/1 [00:00<00:00, 83.33it/s]\n",
      "Snapping: 100%|██████████████████████████████████████████████████████████████████████████| 1/1 [00:00<00:00, 90.92it/s]\n",
      "Snapping: 100%|██████████████████████████████████████████████████████████████████████████| 1/1 [00:00<00:00, 90.87it/s]\n",
      "Snapping: 100%|██████████████████████████████████████████████████████████████████████████| 1/1 [00:00<00:00, 90.90it/s]\n",
      "Snapping: 100%|██████████████████████████████████████████████████████████████████████████| 1/1 [00:00<00:00, 99.98it/s]\n",
      "Snapping: 100%|█████████████████████████████████████████████████████████████████████████| 1/1 [00:00<00:00, 111.13it/s]\n",
      "Snapping: 100%|██████████████████████████████████████████████████████████████████████████| 1/1 [00:00<00:00, 93.59it/s]\n",
      "Snapping: 100%|██████████████████████████████████████████████████████████████████████████| 1/1 [00:00<00:00, 99.98it/s]\n",
      "Snapping: 100%|█████████████████████████████████████████████████████████████████████████| 1/1 [00:00<00:00, 105.14it/s]\n",
      "Snapping: 100%|██████████████████████████████████████████████████████████████████████████| 1/1 [00:00<00:00, 71.43it/s]\n",
      "Snapping: 100%|██████████████████████████████████████████████████████████████████████████| 1/1 [00:00<00:00, 90.91it/s]\n",
      "Snapping: 100%|██████████████████████████████████████████████████████████████████████████| 1/1 [00:00<00:00, 90.92it/s]\n",
      "Snapping: 100%|█████████████████████████████████████████████████████████████████████████| 1/1 [00:00<00:00, 100.00it/s]\n",
      "Snapping: 100%|██████████████████████████████████████████████████████████████████████████| 1/1 [00:00<00:00, 83.34it/s]\n",
      "Snapping: 100%|██████████████████████████████████████████████████████████████████████████| 1/1 [00:00<00:00, 83.33it/s]\n",
      "Snapping: 100%|██████████████████████████████████████████████████████████████████████████| 1/1 [00:00<00:00, 71.42it/s]\n",
      "Snapping: 100%|█████████████████████████████████████████████████████████████████████████| 1/1 [00:00<00:00, 100.00it/s]\n",
      "Snapping: 100%|██████████████████████████████████████████████████████████████████████████| 1/1 [00:00<00:00, 83.34it/s]\n",
      "Snapping: 100%|██████████████████████████████████████████████████████████████████████████| 1/1 [00:00<00:00, 99.99it/s]\n",
      "Snapping: 100%|██████████████████████████████████████████████████████████████████████████| 1/1 [00:00<00:00, 83.33it/s]\n",
      "Snapping: 100%|█████████████████████████████████████████████████████████████████████████| 1/1 [00:00<00:00, 111.10it/s]\n",
      "Snapping: 100%|██████████████████████████████████████████████████████████████████████████| 1/1 [00:00<00:00, 60.56it/s]\n",
      "Snapping: 100%|█████████████████████████████████████████████████████████████████████████| 1/1 [00:00<00:00, 111.10it/s]\n",
      "Snapping: 100%|██████████████████████████████████████████████████████████████████████████| 1/1 [00:00<00:00, 90.90it/s]\n",
      "Snapping: 100%|██████████████████████████████████████████████████████████████████████████| 1/1 [00:00<00:00, 99.98it/s]\n",
      "Snapping: 100%|█████████████████████████████████████████████████████████████████████████| 1/1 [00:00<00:00, 100.19it/s]\n",
      "Snapping: 100%|██████████████████████████████████████████████████████████████████████████| 1/1 [00:00<00:00, 90.91it/s]\n",
      "Snapping: 100%|█████████████████████████████████████████████████████████████████████████| 1/1 [00:00<00:00, 100.00it/s]\n",
      "Snapping: 100%|██████████████████████████████████████████████████████████████████████████| 1/1 [00:00<00:00, 90.91it/s]\n",
      "Snapping: 100%|██████████████████████████████████████████████████████████████████████████| 1/1 [00:00<00:00, 76.90it/s]\n",
      "Snapping: 100%|██████████████████████████████████████████████████████████████████████████| 1/1 [00:00<00:00, 76.92it/s]\n",
      "Snapping: 100%|██████████████████████████████████████████████████████████████████████████| 1/1 [00:00<00:00, 99.97it/s]\n",
      "Snapping: 100%|██████████████████████████████████████████████████████████████████████████| 1/1 [00:00<00:00, 90.89it/s]\n",
      "Snapping: 100%|██████████████████████████████████████████████████████████████████████████| 1/1 [00:00<00:00, 90.89it/s]\n",
      "Snapping: 100%|██████████████████████████████████████████████████████████████████████████| 1/1 [00:00<00:00, 99.75it/s]\n",
      "Snapping: 100%|██████████████████████████████████████████████████████████████████████████| 1/1 [00:00<00:00, 83.33it/s]\n",
      "Snapping: 100%|██████████████████████████████████████████████████████████████████████████| 1/1 [00:00<00:00, 90.89it/s]\n",
      "Snapping: 100%|██████████████████████████████████████████████████████████████████████████| 1/1 [00:00<00:00, 99.97it/s]\n",
      "Snapping: 100%|██████████████████████████████████████████████████████████████████████████| 1/1 [00:00<00:00, 99.99it/s]\n",
      "Snapping: 100%|█████████████████████████████████████████████████████████████████████████| 1/1 [00:00<00:00, 100.02it/s]\n",
      "Snapping: 100%|██████████████████████████████████████████████████████████████████████████| 1/1 [00:00<00:00, 90.89it/s]\n",
      "Snapping: 100%|██████████████████████████████████████████████████████████████████████████| 1/1 [00:00<00:00, 99.99it/s]\n",
      "Snapping: 100%|██████████████████████████████████████████████████████████████████████████| 1/1 [00:00<00:00, 76.91it/s]\n",
      "Snapping: 100%|██████████████████████████████████████████████████████████████████████████| 1/1 [00:00<00:00, 83.32it/s]\n",
      "Snapping: 100%|██████████████████████████████████████████████████████████████████████████| 1/1 [00:00<00:00, 76.93it/s]\n",
      "Snapping: 100%|██████████████████████████████████████████████████████████████████████████| 1/1 [00:00<00:00, 83.33it/s]\n",
      "Snapping: 100%|██████████████████████████████████████████████████████████████████████████| 1/1 [00:00<00:00, 99.94it/s]\n",
      "Snapping: 100%|██████████████████████████████████████████████████████████████████████████| 1/1 [00:00<00:00, 76.92it/s]\n",
      "Snapping: 100%|█████████████████████████████████████████████████████████████████████████| 1/1 [00:00<00:00, 100.01it/s]\n",
      "Snapping: 100%|██████████████████████████████████████████████████████████████████████████| 1/1 [00:00<00:00, 99.98it/s]\n"
     ]
    },
    {
     "name": "stderr",
     "output_type": "stream",
     "text": [
      "Snapping: 100%|██████████████████████████████████████████████████████████████████████████| 1/1 [00:00<00:00, 90.93it/s]\n",
      "Snapping: 100%|██████████████████████████████████████████████████████████████████████████| 1/1 [00:00<00:00, 90.92it/s]\n",
      "Snapping: 100%|█████████████████████████████████████████████████████████████████████████| 1/1 [00:00<00:00, 100.00it/s]\n",
      "Snapping: 100%|██████████████████████████████████████████████████████████████████████████| 1/1 [00:00<00:00, 76.92it/s]\n",
      "Snapping: 100%|██████████████████████████████████████████████████████████████████████████| 1/1 [00:00<00:00, 76.92it/s]\n",
      "Snapping: 100%|█████████████████████████████████████████████████████████████████████████| 1/1 [00:00<00:00, 111.12it/s]\n",
      "Snapping: 100%|█████████████████████████████████████████████████████████████████████████| 1/1 [00:00<00:00, 111.05it/s]\n",
      "Snapping: 100%|██████████████████████████████████████████████████████████████████████████| 1/1 [00:00<00:00, 50.00it/s]\n",
      "Snapping: 100%|██████████████████████████████████████████████████████████████████████████| 1/1 [00:00<00:00, 71.42it/s]\n",
      "Snapping: 100%|█████████████████████████████████████████████████████████████████████████| 1/1 [00:00<00:00, 100.01it/s]\n",
      "Snapping: 100%|██████████████████████████████████████████████████████████████████████████| 1/1 [00:00<00:00, 76.92it/s]\n",
      "Snapping: 100%|██████████████████████████████████████████████████████████████████████████| 1/1 [00:00<00:00, 99.99it/s]\n",
      "Snapping: 100%|██████████████████████████████████████████████████████████████████████████| 1/1 [00:00<00:00, 99.99it/s]\n",
      "Snapping: 100%|██████████████████████████████████████████████████████████████████████████| 1/1 [00:00<00:00, 83.34it/s]\n",
      "Snapping: 100%|██████████████████████████████████████████████████████████████████████████| 1/1 [00:00<00:00, 76.91it/s]\n",
      "Snapping: 100%|██████████████████████████████████████████████████████████████████████████| 1/1 [00:00<00:00, 62.49it/s]\n",
      "Snapping: 100%|██████████████████████████████████████████████████████████████████████████| 1/1 [00:00<00:00, 71.43it/s]\n",
      "Snapping: 100%|██████████████████████████████████████████████████████████████████████████| 1/1 [00:00<00:00, 90.91it/s]\n",
      "Snapping: 100%|█████████████████████████████████████████████████████████████████████████| 1/1 [00:00<00:00, 111.09it/s]\n",
      "Snapping: 100%|██████████████████████████████████████████████████████████████████████████| 1/1 [00:00<00:00, 71.39it/s]\n",
      "Snapping: 100%|██████████████████████████████████████████████████████████████████████████| 1/1 [00:00<00:00, 71.43it/s]\n",
      "Snapping: 100%|█████████████████████████████████████████████████████████████████████████| 1/1 [00:00<00:00, 100.01it/s]\n",
      "Snapping: 100%|██████████████████████████████████████████████████████████████████████████| 1/1 [00:00<00:00, 71.42it/s]\n",
      "Snapping: 100%|██████████████████████████████████████████████████████████████████████████| 1/1 [00:00<00:00, 71.42it/s]\n",
      "Snapping: 100%|█████████████████████████████████████████████████████████████████████████| 1/1 [00:00<00:00, 111.08it/s]\n",
      "Snapping: 100%|██████████████████████████████████████████████████████████████████████████| 1/1 [00:00<00:00, 90.92it/s]\n",
      "Snapping: 100%|█████████████████████████████████████████████████████████████████████████| 1/1 [00:00<00:00, 100.00it/s]\n",
      "Snapping: 100%|██████████████████████████████████████████████████████████████████████████| 1/1 [00:00<00:00, 71.43it/s]\n",
      "Snapping: 100%|█████████████████████████████████████████████████████████████████████████| 1/1 [00:00<00:00, 100.20it/s]\n",
      "Snapping: 100%|██████████████████████████████████████████████████████████████████████████| 1/1 [00:00<00:00, 99.96it/s]\n",
      "Snapping: 100%|██████████████████████████████████████████████████████████████████████████| 1/1 [00:00<00:00, 90.91it/s]\n",
      "Snapping: 100%|██████████████████████████████████████████████████████████████████████████| 1/1 [00:00<00:00, 62.50it/s]\n",
      "Snapping: 100%|██████████████████████████████████████████████████████████████████████████| 1/1 [00:00<00:00, 99.96it/s]\n",
      "Snapping: 100%|██████████████████████████████████████████████████████████████████████████| 1/1 [00:00<00:00, 99.97it/s]\n",
      "Snapping: 100%|█████████████████████████████████████████████████████████████████████████| 1/1 [00:00<00:00, 111.10it/s]\n",
      "Snapping: 100%|██████████████████████████████████████████████████████████████████████████| 1/1 [00:00<00:00, 93.75it/s]\n",
      "Snapping: 100%|██████████████████████████████████████████████████████████████████████████| 1/1 [00:00<00:00, 90.90it/s]\n",
      "Snapping: 100%|██████████████████████████████████████████████████████████████████████████| 1/1 [00:00<00:00, 86.94it/s]\n",
      "Snapping: 100%|█████████████████████████████████████████████████████████████████████████| 1/1 [00:00<00:00, 111.11it/s]\n",
      "Snapping: 100%|██████████████████████████████████████████████████████████████████████████| 1/1 [00:00<00:00, 83.33it/s]\n",
      "Snapping: 100%|██████████████████████████████████████████████████████████████████████████| 1/1 [00:00<00:00, 99.99it/s]\n",
      "Snapping: 100%|██████████████████████████████████████████████████████████████████████████| 1/1 [00:00<00:00, 83.33it/s]\n",
      "Snapping: 100%|█████████████████████████████████████████████████████████████████████████| 1/1 [00:00<00:00, 111.12it/s]\n",
      "Snapping: 100%|██████████████████████████████████████████████████████████████████████████| 1/1 [00:00<00:00, 99.37it/s]\n",
      "Snapping: 100%|██████████████████████████████████████████████████████████████████████████| 1/1 [00:00<00:00, 83.34it/s]\n",
      "Snapping: 100%|██████████████████████████████████████████████████████████████████████████| 1/1 [00:00<00:00, 90.91it/s]\n",
      "Snapping: 100%|██████████████████████████████████████████████████████████████████████████| 1/1 [00:00<00:00, 90.90it/s]\n",
      "Snapping: 100%|██████████████████████████████████████████████████████████████████████████| 1/1 [00:00<00:00, 71.42it/s]\n",
      "Snapping: 100%|█████████████████████████████████████████████████████████████████████████| 1/1 [00:00<00:00, 100.00it/s]\n",
      "Snapping: 100%|██████████████████████████████████████████████████████████████████████████| 1/1 [00:00<00:00, 76.91it/s]\n",
      "Snapping: 100%|██████████████████████████████████████████████████████████████████████████| 1/1 [00:00<00:00, 71.43it/s]\n",
      "Snapping: 100%|█████████████████████████████████████████████████████████████████████████| 1/1 [00:00<00:00, 100.01it/s]\n",
      "Snapping: 100%|██████████████████████████████████████████████████████████████████████████| 1/1 [00:00<00:00, 90.90it/s]\n",
      "Snapping: 100%|██████████████████████████████████████████████████████████████████████████| 1/1 [00:00<00:00, 90.90it/s]\n",
      "Snapping: 100%|█████████████████████████████████████████████████████████████████████████| 1/1 [00:00<00:00, 111.07it/s]\n",
      "Snapping: 100%|█████████████████████████████████████████████████████████████████████████| 1/1 [00:00<00:00, 100.00it/s]\n",
      "Snapping: 100%|█████████████████████████████████████████████████████████████████████████| 1/1 [00:00<00:00, 100.05it/s]\n",
      "Snapping: 100%|██████████████████████████████████████████████████████████████████████████| 1/1 [00:00<00:00, 90.89it/s]\n",
      "Snapping: 100%|██████████████████████████████████████████████████████████████████████████| 1/1 [00:00<00:00, 66.66it/s]\n",
      "Snapping: 100%|██████████████████████████████████████████████████████████████████████████| 1/1 [00:00<00:00, 83.34it/s]\n",
      "Snapping: 100%|██████████████████████████████████████████████████████████████████████████| 1/1 [00:00<00:00, 99.99it/s]\n",
      "Snapping: 100%|██████████████████████████████████████████████████████████████████████████| 1/1 [00:00<00:00, 83.33it/s]\n",
      "Snapping: 100%|██████████████████████████████████████████████████████████████████████████| 1/1 [00:00<00:00, 99.99it/s]\n",
      "Snapping: 100%|█████████████████████████████████████████████████████████████████████████| 1/1 [00:00<00:00, 100.00it/s]\n",
      "Snapping: 100%|██████████████████████████████████████████████████████████████████████████| 1/1 [00:00<00:00, 83.33it/s]\n",
      "Snapping: 100%|█████████████████████████████████████████████████████████████████████████| 1/1 [00:00<00:00, 100.01it/s]\n",
      "Snapping: 100%|██████████████████████████████████████████████████████████████████████████| 1/1 [00:00<00:00, 71.43it/s]\n",
      "Snapping: 100%|██████████████████████████████████████████████████████████████████████████| 1/1 [00:00<00:00, 90.88it/s]\n"
     ]
    },
    {
     "name": "stderr",
     "output_type": "stream",
     "text": [
      "Snapping: 100%|██████████████████████████████████████████████████████████████████████████| 1/1 [00:00<00:00, 90.90it/s]\n"
     ]
    },
    {
     "name": "stdout",
     "output_type": "stream",
     "text": [
      "\n"
     ]
    },
    {
     "data": {
      "application/vnd.jupyter.widget-view+json": {
       "model_id": "e7edab0a536e4793b5a3fb07d23a0d94",
       "version_major": 2,
       "version_minor": 0
      },
      "text/plain": [
       "HBox(children=(FloatProgress(value=0.0, max=22.0), HTML(value='')))"
      ]
     },
     "metadata": {},
     "output_type": "display_data"
    },
    {
     "name": "stderr",
     "output_type": "stream",
     "text": [
      "Snapping: 100%|█████████████████████████████████████████████████████████████████████████| 1/1 [00:00<00:00, 111.10it/s]\n",
      "Snapping: 100%|██████████████████████████████████████████████████████████████████████████| 1/1 [00:00<00:00, 76.93it/s]"
     ]
    },
    {
     "name": "stdout",
     "output_type": "stream",
     "text": [
      "0\n"
     ]
    },
    {
     "name": "stderr",
     "output_type": "stream",
     "text": [
      "\n",
      "C:\\Users\\ochristm\\anaconda3\\lib\\site-packages\\momepy\\utils.py:202: UserWarning: Geometry is in a geographic CRS. Results from 'length' are likely incorrect. Use 'GeoSeries.to_crs()' to re-project geometries to a projected CRS before this operation.\n",
      "\n",
      "  gdf_network[length] = gdf_network.geometry.length\n",
      "Snapping: 100%|██████████████████████████████████████████████████████████████████████████| 1/1 [00:00<00:00, 83.32it/s]\n",
      "Snapping: 100%|██████████████████████████████████████████████████████████████████████████| 1/1 [00:00<00:00, 99.98it/s]\n",
      "Snapping: 100%|█████████████████████████████████████████████████████████████████████████| 1/1 [00:00<00:00, 125.01it/s]\n",
      "Snapping: 100%|█████████████████████████████████████████████████████████████████████████| 1/1 [00:00<00:00, 111.11it/s]\n",
      "Snapping: 100%|█████████████████████████████████████████████████████████████████████████| 1/1 [00:00<00:00, 142.87it/s]\n",
      "Snapping: 100%|█████████████████████████████████████████████████████████████████████████| 1/1 [00:00<00:00, 125.02it/s]\n",
      "Snapping: 100%|██████████████████████████████████████████████████████████████████████████| 1/1 [00:00<00:00, 58.81it/s]\n",
      "Snapping: 100%|██████████████████████████████████████████████████████████████████████████| 1/1 [00:00<00:00, 58.81it/s]\n",
      "C:\\Users\\ochristm\\anaconda3\\lib\\site-packages\\momepy\\utils.py:202: UserWarning: Geometry is in a geographic CRS. Results from 'length' are likely incorrect. Use 'GeoSeries.to_crs()' to re-project geometries to a projected CRS before this operation.\n",
      "\n",
      "  gdf_network[length] = gdf_network.geometry.length\n",
      "Snapping: 100%|█████████████████████████████████████████████████████████████████████████| 1/1 [00:00<00:00, 124.89it/s]\n",
      "Snapping: 100%|█████████████████████████████████████████████████████████████████████████| 1/1 [00:00<00:00, 124.96it/s]"
     ]
    },
    {
     "name": "stdout",
     "output_type": "stream",
     "text": [
      "1\n"
     ]
    },
    {
     "name": "stderr",
     "output_type": "stream",
     "text": [
      "\n",
      "Snapping: 100%|██████████████████████████████████████████████████████████████████████████| 1/1 [00:00<00:00, 76.90it/s]\n",
      "Snapping: 100%|█████████████████████████████████████████████████████████████████████████| 1/1 [00:00<00:00, 125.03it/s]\n",
      "Snapping: 100%|█████████████████████████████████████████████████████████████████████████| 1/1 [00:00<00:00, 142.84it/s]\n",
      "Snapping: 100%|██████████████████████████████████████████████████████████████████████████| 1/1 [00:00<00:00, 90.93it/s]\n",
      "Snapping: 100%|██████████████████████████████████████████████████████████████████████████| 1/1 [00:00<00:00, 83.35it/s]\n",
      "Snapping: 100%|█████████████████████████████████████████████████████████████████████████| 1/1 [00:00<00:00, 111.08it/s]\n",
      "Snapping: 100%|█████████████████████████████████████████████████████████████████████████| 1/1 [00:00<00:00, 111.16it/s]\n",
      "Snapping: 100%|██████████████████████████████████████████████████████████████████████████| 1/1 [00:00<00:00, 83.33it/s]"
     ]
    },
    {
     "name": "stdout",
     "output_type": "stream",
     "text": [
      "3\n"
     ]
    },
    {
     "name": "stderr",
     "output_type": "stream",
     "text": [
      "\n",
      "Snapping: 100%|██████████████████████████████████████████████████████████████████████████| 1/1 [00:00<00:00, 99.97it/s]\n",
      "Snapping: 100%|██████████████████████████████████████████████████████████████████████████| 1/1 [00:00<00:00, 90.92it/s]\n",
      "Snapping: 100%|█████████████████████████████████████████████████████████████████████████| 1/1 [00:00<00:00, 124.94it/s]\n",
      "Snapping: 100%|█████████████████████████████████████████████████████████████████████████| 1/1 [00:00<00:00, 111.09it/s]\n",
      "Snapping: 100%|█████████████████████████████████████████████████████████████████████████| 1/1 [00:00<00:00, 124.99it/s]\n",
      "Snapping: 100%|██████████████████████████████████████████████████████████████████████████| 1/1 [00:00<00:00, 90.91it/s]\n"
     ]
    },
    {
     "name": "stdout",
     "output_type": "stream",
     "text": [
      "4\n"
     ]
    },
    {
     "data": {
      "application/vnd.jupyter.widget-view+json": {
       "model_id": "61b35e4863824d4082cefbaa9f451044",
       "version_major": 2,
       "version_minor": 0
      },
      "text/plain": [
       "HBox(children=(FloatProgress(value=0.0, max=21.0), HTML(value='')))"
      ]
     },
     "metadata": {},
     "output_type": "display_data"
    },
    {
     "name": "stderr",
     "output_type": "stream",
     "text": [
      "Snapping: 100%|██████████████████████████████████████████████████████████████████████████| 1/1 [00:00<00:00, 76.94it/s]\n",
      "Snapping: 100%|█████████████████████████████████████████████████████████████████████████| 1/1 [00:00<00:00, 111.09it/s]"
     ]
    },
    {
     "name": "stdout",
     "output_type": "stream",
     "text": [
      "0\n"
     ]
    },
    {
     "name": "stderr",
     "output_type": "stream",
     "text": [
      "\n",
      "C:\\Users\\ochristm\\anaconda3\\lib\\site-packages\\momepy\\utils.py:202: UserWarning: Geometry is in a geographic CRS. Results from 'length' are likely incorrect. Use 'GeoSeries.to_crs()' to re-project geometries to a projected CRS before this operation.\n",
      "\n",
      "  gdf_network[length] = gdf_network.geometry.length\n",
      "Snapping: 100%|██████████████████████████████████████████████████████████████████████████| 1/1 [00:00<00:00, 76.93it/s]\n",
      "Snapping: 100%|█████████████████████████████████████████████████████████████████████████| 1/1 [00:00<00:00, 111.08it/s]\n",
      "Snapping: 100%|█████████████████████████████████████████████████████████████████████████| 1/1 [00:00<00:00, 111.13it/s]\n",
      "Snapping: 100%|██████████████████████████████████████████████████████████████████████████| 1/1 [00:00<00:00, 90.91it/s]\n",
      "Snapping: 100%|██████████████████████████████████████████████████████████████████████████| 1/1 [00:00<00:00, 99.99it/s]\n",
      "Snapping: 100%|██████████████████████████████████████████████████████████████████████████| 1/1 [00:00<00:00, 99.99it/s]\n",
      "Snapping: 100%|█████████████████████████████████████████████████████████████████████████| 1/1 [00:00<00:00, 111.10it/s]\n",
      "Snapping: 100%|█████████████████████████████████████████████████████████████████████████| 1/1 [00:00<00:00, 124.98it/s]\n",
      "Snapping: 100%|█████████████████████████████████████████████████████████████████████████| 1/1 [00:00<00:00, 100.00it/s]\n",
      "Snapping: 100%|█████████████████████████████████████████████████████████████████████████| 1/1 [00:00<00:00, 111.01it/s]\n",
      "Snapping: 100%|█████████████████████████████████████████████████████████████████████████| 1/1 [00:00<00:00, 111.11it/s]\n",
      "Snapping: 100%|█████████████████████████████████████████████████████████████████████████| 1/1 [00:00<00:00, 124.97it/s]\n",
      "Snapping: 100%|██████████████████████████████████████████████████████████████████████████| 1/1 [00:00<00:00, 83.34it/s]\n",
      "Snapping: 100%|█████████████████████████████████████████████████████████████████████████| 1/1 [00:00<00:00, 111.12it/s]\n",
      "Snapping: 100%|█████████████████████████████████████████████████████████████████████████| 1/1 [00:00<00:00, 110.95it/s]\n",
      "Snapping: 100%|█████████████████████████████████████████████████████████████████████████| 1/1 [00:00<00:00, 111.11it/s]\n"
     ]
    },
    {
     "name": "stdout",
     "output_type": "stream",
     "text": [
      "7\n"
     ]
    },
    {
     "data": {
      "application/vnd.jupyter.widget-view+json": {
       "model_id": "150088a51e374ed1aaf4fbe535ec9aa6",
       "version_major": 2,
       "version_minor": 0
      },
      "text/plain": [
       "HBox(children=(FloatProgress(value=0.0, max=30.0), HTML(value='')))"
      ]
     },
     "metadata": {},
     "output_type": "display_data"
    },
    {
     "name": "stdout",
     "output_type": "stream",
     "text": [
      "0\n",
      "\n"
     ]
    },
    {
     "data": {
      "application/vnd.jupyter.widget-view+json": {
       "model_id": "271232175cda4e8d9d900d0eed574190",
       "version_major": 2,
       "version_minor": 0
      },
      "text/plain": [
       "HBox(children=(FloatProgress(value=0.0, max=32.0), HTML(value='')))"
      ]
     },
     "metadata": {},
     "output_type": "display_data"
    },
    {
     "name": "stderr",
     "output_type": "stream",
     "text": [
      "Snapping: 100%|██████████████████████████████████████████████████████████████████████████| 1/1 [00:00<00:00, 76.91it/s]\n",
      "Snapping: 100%|██████████████████████████████████████████████████████████████████████████| 1/1 [00:00<00:00, 83.33it/s]"
     ]
    },
    {
     "name": "stdout",
     "output_type": "stream",
     "text": [
      "0\n"
     ]
    },
    {
     "name": "stderr",
     "output_type": "stream",
     "text": [
      "\n",
      "C:\\Users\\ochristm\\anaconda3\\lib\\site-packages\\momepy\\utils.py:202: UserWarning: Geometry is in a geographic CRS. Results from 'length' are likely incorrect. Use 'GeoSeries.to_crs()' to re-project geometries to a projected CRS before this operation.\n",
      "\n",
      "  gdf_network[length] = gdf_network.geometry.length\n",
      "Snapping: 100%|██████████████████████████████████████████████████████████████████████████| 1/1 [00:00<00:00, 76.91it/s]\n",
      "Snapping: 100%|█████████████████████████████████████████████████████████████████████████| 1/1 [00:00<00:00, 100.01it/s]\n",
      "Snapping: 100%|██████████████████████████████████████████████████████████████████████████| 1/1 [00:00<00:00, 83.32it/s]\n",
      "Snapping: 100%|█████████████████████████████████████████████████████████████████████████| 1/1 [00:00<00:00, 100.00it/s]\n",
      "Snapping: 100%|█████████████████████████████████████████████████████████████████████████| 1/1 [00:00<00:00, 111.11it/s]\n",
      "Snapping: 100%|█████████████████████████████████████████████████████████████████████████| 1/1 [00:00<00:00, 111.10it/s]\n",
      "Snapping: 100%|██████████████████████████████████████████████████████████████████████████| 1/1 [00:00<00:00, 83.33it/s]\n",
      "Snapping: 100%|██████████████████████████████████████████████████████████████████████████| 1/1 [00:00<00:00, 71.43it/s]"
     ]
    },
    {
     "name": "stdout",
     "output_type": "stream",
     "text": [
      "1\n"
     ]
    },
    {
     "name": "stderr",
     "output_type": "stream",
     "text": [
      "\n",
      "Snapping: 100%|██████████████████████████████████████████████████████████████████████████| 1/1 [00:00<00:00, 76.90it/s]\n",
      "Snapping: 100%|██████████████████████████████████████████████████████████████████████████| 1/1 [00:00<00:00, 71.42it/s]\n",
      "Snapping: 100%|█████████████████████████████████████████████████████████████████████████| 1/1 [00:00<00:00, 111.11it/s]\n",
      "Snapping: 100%|██████████████████████████████████████████████████████████████████████████| 1/1 [00:00<00:00, 62.50it/s]\n",
      "Snapping: 100%|█████████████████████████████████████████████████████████████████████████| 1/1 [00:00<00:00, 100.00it/s]\n",
      "Snapping: 100%|█████████████████████████████████████████████████████████████████████████| 1/1 [00:00<00:00, 100.01it/s]\n",
      "Snapping: 100%|██████████████████████████████████████████████████████████████████████████| 1/1 [00:00<00:00, 71.44it/s]\n",
      "Snapping: 100%|█████████████████████████████████████████████████████████████████████████| 1/1 [00:00<00:00, 100.00it/s]"
     ]
    },
    {
     "name": "stdout",
     "output_type": "stream",
     "text": [
      "2\n"
     ]
    },
    {
     "name": "stderr",
     "output_type": "stream",
     "text": [
      "\n",
      "Snapping: 100%|█████████████████████████████████████████████████████████████████████████| 1/1 [00:00<00:00, 111.10it/s]\n",
      "Snapping: 100%|██████████████████████████████████████████████████████████████████████████| 1/1 [00:00<00:00, 99.99it/s]\n",
      "Snapping: 100%|██████████████████████████████████████████████████████████████████████████| 1/1 [00:00<00:00, 76.92it/s]\n",
      "Snapping: 100%|██████████████████████████████████████████████████████████████████████████| 1/1 [00:00<00:00, 99.99it/s]\n",
      "Snapping: 100%|██████████████████████████████████████████████████████████████████████████| 1/1 [00:00<00:00, 76.92it/s]\n",
      "Snapping: 100%|██████████████████████████████████████████████████████████████████████████| 1/1 [00:00<00:00, 71.43it/s]\n",
      "Snapping: 100%|██████████████████████████████████████████████████████████████████████████| 1/1 [00:00<00:00, 90.89it/s]\n",
      "Snapping: 100%|██████████████████████████████████████████████████████████████████████████| 1/1 [00:00<00:00, 90.90it/s]\n",
      "Snapping: 100%|██████████████████████████████████████████████████████████████████████████| 1/1 [00:00<00:00, 71.43it/s]\n",
      "Snapping: 100%|█████████████████████████████████████████████████████████████████████████| 1/1 [00:00<00:00, 105.18it/s]"
     ]
    },
    {
     "name": "stdout",
     "output_type": "stream",
     "text": [
      "4\n"
     ]
    },
    {
     "name": "stderr",
     "output_type": "stream",
     "text": [
      "\n",
      "Snapping: 100%|█████████████████████████████████████████████████████████████████████████| 1/1 [00:00<00:00, 111.11it/s]\n",
      "Snapping: 100%|██████████████████████████████████████████████████████████████████████████| 1/1 [00:00<00:00, 90.91it/s]\n",
      "Snapping: 100%|██████████████████████████████████████████████████████████████████████████| 1/1 [00:00<00:00, 76.92it/s]\n",
      "Snapping: 100%|██████████████████████████████████████████████████████████████████████████| 1/1 [00:00<00:00, 83.34it/s]\n",
      "Snapping: 100%|██████████████████████████████████████████████████████████████████████████| 1/1 [00:00<00:00, 76.92it/s]\n",
      "Snapping: 100%|█████████████████████████████████████████████████████████████████████████| 1/1 [00:00<00:00, 100.00it/s]\n",
      "Snapping: 100%|█████████████████████████████████████████████████████████████████████████| 1/1 [00:00<00:00, 111.11it/s]\n",
      "Snapping: 100%|██████████████████████████████████████████████████████████████████████████| 1/1 [00:00<00:00, 76.92it/s]\n",
      "Snapping: 100%|██████████████████████████████████████████████████████████████████████████| 1/1 [00:00<00:00, 76.91it/s]\n",
      "Snapping: 100%|█████████████████████████████████████████████████████████████████████████| 1/1 [00:00<00:00, 111.12it/s]\n",
      "Snapping: 100%|██████████████████████████████████████████████████████████████████████████| 1/1 [00:00<00:00, 90.91it/s]\n",
      "Snapping: 100%|█████████████████████████████████████████████████████████████████████████| 1/1 [00:00<00:00, 100.01it/s]"
     ]
    },
    {
     "name": "stdout",
     "output_type": "stream",
     "text": [
      "5\n"
     ]
    },
    {
     "name": "stderr",
     "output_type": "stream",
     "text": [
      "\n",
      "Snapping: 100%|██████████████████████████████████████████████████████████████████████████| 1/1 [00:00<00:00, 76.91it/s]\n",
      "Snapping: 100%|█████████████████████████████████████████████████████████████████████████| 1/1 [00:00<00:00, 111.11it/s]\n",
      "Snapping: 100%|██████████████████████████████████████████████████████████████████████████| 1/1 [00:00<00:00, 76.92it/s]\n",
      "Snapping: 100%|█████████████████████████████████████████████████████████████████████████| 1/1 [00:00<00:00, 100.01it/s]\n",
      "Snapping: 100%|██████████████████████████████████████████████████████████████████████████| 1/1 [00:00<00:00, 76.92it/s]\n",
      "Snapping: 100%|██████████████████████████████████████████████████████████████████████████| 1/1 [00:00<00:00, 76.91it/s]\n",
      "Snapping: 100%|█████████████████████████████████████████████████████████████████████████| 1/1 [00:00<00:00, 100.00it/s]\n",
      "Snapping: 100%|█████████████████████████████████████████████████████████████████████████| 1/1 [00:00<00:00, 100.00it/s]\n"
     ]
    },
    {
     "name": "stdout",
     "output_type": "stream",
     "text": [
      "6\n",
      "\n"
     ]
    }
   ],
   "source": [
    "big_seq = []\n",
    "lst_bad = []\n",
    "\n",
    "i=0\n",
    "for i in tqdm(range(10)):\n",
    "# for i in tqdm(range(len(np_ga))):\n",
    "    line = np_ga[i, ind_geo]\n",
    "    one_trip_id = np_ga[i, ind_ti]\n",
    "    one_line_id = int(np_ga[i, ind_li])\n",
    "    \n",
    "    route_type = np_rb[np_rb[:,ind_rb_li] == one_line_id][:,ind_rb_tp][0]\n",
    "    try:\n",
    "        node_seq_first = get_node_seq(line, graph, nodes, route_type, buffer)\n",
    "        new_seq = check_connectivity(one_trip_id, node_seq_first, line, \n",
    "                                     graph, nodes, route_type, buffer2)\n",
    "        #\n",
    "        new_seq = check_graph(new_seq, np_grph, ind_ndfr, ind_ndto)\n",
    "\n",
    "        big_seq  = big_seq + new_seq\n",
    "    except:\n",
    "        lst_bad.append(one_trip_id)\n",
    "# "
   ]
  },
  {
   "cell_type": "code",
   "execution_count": 145,
   "metadata": {},
   "outputs": [
    {
     "name": "stdout",
     "output_type": "stream",
     "text": [
      "7\n"
     ]
    }
   ],
   "source": [
    "print(len(lst_bad))"
   ]
  },
  {
   "cell_type": "code",
   "execution_count": null,
   "metadata": {},
   "outputs": [],
   "source": []
  },
  {
   "cell_type": "code",
   "execution_count": 141,
   "metadata": {},
   "outputs": [],
   "source": [
    "# df_fin = pd.DataFrame(new_seq, columns=['trip_id', 'seq','nodeID','geometry'])\n",
    "df_fin = pd.DataFrame(big_seq, columns=['trip_id', 'seq','nodeID','geometry', 'is_connected'])\n",
    "df_fin = df_fin.reset_index(drop=True).reset_index()\n",
    "df_fin['seq'] = df_fin['index'] + 1\n",
    "del df_fin['index']\n",
    "gdf_fin = gpd.GeoDataFrame(df_fin, geometry=df_fin.geometry)\n",
    "gdf_fin.crs='epsg:4326'"
   ]
  },
  {
   "cell_type": "code",
   "execution_count": 98,
   "metadata": {},
   "outputs": [],
   "source": [
    "# gdf_fin.to_file('./data/gdf_fin5_new.json', driver='GeoJSON', encoding='utf-8')"
   ]
  },
  {
   "cell_type": "code",
   "execution_count": null,
   "metadata": {},
   "outputs": [],
   "source": [
    "# сделать граф, проверить связность"
   ]
  },
  {
   "cell_type": "code",
   "execution_count": null,
   "metadata": {},
   "outputs": [],
   "source": []
  },
  {
   "cell_type": "code",
   "execution_count": 143,
   "metadata": {},
   "outputs": [
    {
     "data": {
      "text/plain": [
       "1756"
      ]
     },
     "execution_count": 143,
     "metadata": {},
     "output_type": "execute_result"
    }
   ],
   "source": [
    "len(np_ga)"
   ]
  },
  {
   "cell_type": "code",
   "execution_count": null,
   "metadata": {},
   "outputs": [],
   "source": []
  }
 ],
 "metadata": {
  "kernelspec": {
   "display_name": "Python 3",
   "language": "python",
   "name": "python3"
  },
  "language_info": {
   "codemirror_mode": {
    "name": "ipython",
    "version": 3
   },
   "file_extension": ".py",
   "mimetype": "text/x-python",
   "name": "python",
   "nbconvert_exporter": "python",
   "pygments_lexer": "ipython3",
   "version": "3.7.6"
  }
 },
 "nbformat": 4,
 "nbformat_minor": 4
}
