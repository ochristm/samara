{
 "cells": [
  {
   "cell_type": "code",
   "execution_count": 1,
   "metadata": {},
   "outputs": [],
   "source": [
    "import pandas as pd\n",
    "import geopandas as gpd\n",
    "import shapely\n",
    "from shapely.geometry import Point, LineString, MultiLineString, Polygon, MultiPolygon\n",
    "from tqdm.notebook import tqdm\n",
    "import time\n",
    "from datetime import datetime\n",
    "\n",
    "import momepy as mm\n",
    "import networkx as nx\n",
    "\n",
    "import math\n",
    "\n",
    "from contextlib import redirect_stdout\n",
    "\n",
    "import io\n",
    "import sys"
   ]
  },
  {
   "cell_type": "code",
   "execution_count": null,
   "metadata": {},
   "outputs": [],
   "source": []
  },
  {
   "cell_type": "code",
   "execution_count": 2,
   "metadata": {},
   "outputs": [],
   "source": [
    "# https://ipython-books.github.io/147-creating-a-route-planner-for-a-road-network/"
   ]
  },
  {
   "cell_type": "code",
   "execution_count": 2,
   "metadata": {},
   "outputs": [],
   "source": [
    "gdf_big = gpd.read_file('./total/gdf_line_all_n_samobl.json',\n",
    "                        encoding='utf-8')"
   ]
  },
  {
   "cell_type": "code",
   "execution_count": 3,
   "metadata": {},
   "outputs": [],
   "source": [
    "gdf_left = gpd.read_file('./total/gdf_line_sam_tol_new2.json',\n",
    "                        encoding='utf-8')"
   ]
  },
  {
   "cell_type": "code",
   "execution_count": 4,
   "metadata": {},
   "outputs": [],
   "source": [
    "gdf_all = gdf_big.append(gdf_left)\n",
    "gdf_all = gdf_all.drop_duplicates(subset=['line_id', \n",
    "                                          'trip_id']).reset_index(drop=True)"
   ]
  },
  {
   "cell_type": "code",
   "execution_count": null,
   "metadata": {},
   "outputs": [],
   "source": []
  },
  {
   "cell_type": "code",
   "execution_count": 5,
   "metadata": {
    "scrolled": true
   },
   "outputs": [],
   "source": [
    "stps_big = pd.read_csv('./total/df_stop_seq_all_n_samobl.csv',\n",
    "                        encoding='utf-8', sep=';')"
   ]
  },
  {
   "cell_type": "code",
   "execution_count": 6,
   "metadata": {
    "scrolled": true
   },
   "outputs": [],
   "source": [
    "reestr_big = pd.read_csv('./total/df_reestr_all_n_samobl.csv',\n",
    "                        encoding='utf-8', sep=';')"
   ]
  },
  {
   "cell_type": "code",
   "execution_count": null,
   "metadata": {},
   "outputs": [],
   "source": []
  },
  {
   "cell_type": "code",
   "execution_count": 7,
   "metadata": {},
   "outputs": [],
   "source": [
    "graph = gpd.read_file('./with_ped/new_graph_with_ped.json',\n",
    "                        encoding='utf-8')"
   ]
  },
  {
   "cell_type": "code",
   "execution_count": 8,
   "metadata": {},
   "outputs": [],
   "source": [
    "nodes = gpd.read_file('./with_ped/all_nodes_with_ped.json',\n",
    "                        encoding='utf-8')"
   ]
  },
  {
   "cell_type": "code",
   "execution_count": null,
   "metadata": {},
   "outputs": [],
   "source": []
  },
  {
   "cell_type": "code",
   "execution_count": null,
   "metadata": {},
   "outputs": [],
   "source": []
  },
  {
   "cell_type": "code",
   "execution_count": null,
   "metadata": {},
   "outputs": [],
   "source": []
  },
  {
   "cell_type": "code",
   "execution_count": 9,
   "metadata": {},
   "outputs": [],
   "source": [
    "def get_line_graph(line, graph, nodes, route_type, buffer):\n",
    "    tmp_grph = graph[((graph.type_ped == 'car_n_ped') \n",
    "                     & (graph.lanes != 0))]\n",
    "    if route_type == 'tramway':\n",
    "        tmp_grph = tmp_grph[((tmp_grph.type_ts == 'TM,CAR,BUS,TB,MT') \n",
    "                      | (tmp_grph.type_ts == 'TM'))].reset_index(drop=True)\n",
    "    elif route_type == 'all':\n",
    "        tmp_grph = tmp_grph\n",
    "    else:\n",
    "        tmp_grph = tmp_grph[tmp_grph.type_ts != 'TM'].reset_index(drop=True)\n",
    "    # \n",
    "    buff_one_line = gpd.GeoDataFrame(geometry=[line])\n",
    "    buff_one_line.crs = graph.crs\n",
    "    buff_one_line.geometry = buff_one_line.geometry.to_crs('epsg:32637').buffer(buffer).to_crs('epsg:4326')\n",
    "    \n",
    "    \n",
    "    line_graph = gpd.sjoin(tmp_grph, buff_one_line[['geometry']], how='inner', op='within')\n",
    "    line_graph = line_graph.drop('index_right', axis=1).reset_index(drop=True)\n",
    "    \n",
    "    wider_graph = gpd.sjoin(tmp_grph, buff_one_line[['geometry']], how='inner', op='intersects')\n",
    "    wider_graph = wider_graph.drop('index_right', axis=1).reset_index(drop=True)\n",
    "    \n",
    "    lst_nodes = list(set(list(line_graph.from_node.unique()) \n",
    "                         + list(line_graph.to_node.unique())))\n",
    "    #\n",
    "    line_nodes = nodes[nodes.nodeID.isin(lst_nodes)]\n",
    "        \n",
    "    return line_graph, line_nodes, wider_graph"
   ]
  },
  {
   "cell_type": "code",
   "execution_count": 10,
   "metadata": {},
   "outputs": [],
   "source": [
    "def get_closest_pt(ope_pt, one_grph, nodes):\n",
    "    \n",
    "    text_trap = io.StringIO()\n",
    "    with redirect_stdout(text_trap):\n",
    "        closest_link_id = mm.get_network_id(ope_pt, one_grph, 'link_id')[0]\n",
    "#     closest_link_id = mm.get_network_id(ope_pt, one_grph, 'link_id')[0]\n",
    "    link_in_graph = one_grph[one_grph.link_id == closest_link_id].reset_index(drop=True)\n",
    "    to_node_id = link_in_graph.to_node[0]\n",
    "    from_node_id = link_in_graph.from_node[0]\n",
    "    to_node = nodes[nodes.nodeID == to_node_id].reset_index(drop=True)['geometry'][0]\n",
    "    from_node = nodes[nodes.nodeID == from_node_id].reset_index(drop=True)['geometry'][0]\n",
    "\n",
    "    dist1 = ope_pt.geometry[0].distance(to_node)\n",
    "    dist2 = ope_pt.geometry[0].distance(from_node)\n",
    "\n",
    "    if dist1 < dist2:\n",
    "        closest_node = to_node\n",
    "        closest_node_id = to_node_id\n",
    "    else:\n",
    "        closest_node = from_node\n",
    "        closest_node_id = from_node_id\n",
    "    # \n",
    "    return closest_node,closest_node_id"
   ]
  },
  {
   "cell_type": "code",
   "execution_count": 11,
   "metadata": {},
   "outputs": [],
   "source": [
    "def create_lst_coords_from_df(nodes):\n",
    "    lst_geo = list(nodes.geometry)\n",
    "    lst_ndid = list(nodes.nodeID)\n",
    "\n",
    "    lst_coords=[]\n",
    "    i=0\n",
    "    for i in range(len(nodes)):\n",
    "        lst_coords.append(lst_geo[i].coords[0])\n",
    "    # \n",
    "    return lst_coords"
   ]
  },
  {
   "cell_type": "code",
   "execution_count": 12,
   "metadata": {},
   "outputs": [],
   "source": [
    "def get_one_segm_seq(cnt, segm, line_graph, line_nodes):\n",
    "\n",
    "    ope_pt = gpd.GeoDataFrame(geometry=[Point(segm.coords[0])])\n",
    "    two_pt = gpd.GeoDataFrame(geometry=[Point(segm.coords[-1])])\n",
    "\n",
    "    closest_node,closest_node_id = get_closest_pt(ope_pt, line_graph, line_nodes)\n",
    "    closest_node2,closest_node_id2 = get_closest_pt(two_pt, line_graph, line_nodes)\n",
    "\n",
    "    one_G = mm.gdf_to_nx(line_graph)\n",
    "    res_lst = nx.shortest_path(one_G, closest_node.coords[0], closest_node2.coords[0])\n",
    "\n",
    "    lst_coords = create_lst_coords_from_df(line_nodes)\n",
    "    lst_ndid = list(line_nodes.nodeID)\n",
    "\n",
    "    segm_seq=[]\n",
    "\n",
    "#     cnt=1\n",
    "    i=0\n",
    "    for i in range(len(res_lst)):\n",
    "        one_lst_pt=[]\n",
    "        one_coord = res_lst[i]\n",
    "        j=0\n",
    "        if one_coord in lst_coords:\n",
    "            ind = lst_coords.index(one_coord)\n",
    "            nodid = lst_ndid[ind]\n",
    "        else:\n",
    "            print(i)\n",
    "            nodid = 0\n",
    "        #\n",
    "        segm_seq.append([cnt, nodid, one_coord])\n",
    "        cnt+=1\n",
    "    # \n",
    "\n",
    "    return segm_seq, cnt"
   ]
  },
  {
   "cell_type": "code",
   "execution_count": 77,
   "metadata": {},
   "outputs": [],
   "source": [
    "def get_lst_segm_in_loop(one_segm, lnth_segm):\n",
    "    cnt_lp = int(lnth_segm / 10)\n",
    "\n",
    "    if cnt_lp > 1:\n",
    "        step1=0\n",
    "        step2 = 10\n",
    "        \n",
    "        k=0\n",
    "        lst_segs=[]\n",
    "        for k in range(cnt_lp):\n",
    "            first = one_segm.coords[step1:step2]\n",
    "            if len(first) >= 2:\n",
    "                seg_line = LineString(first)\n",
    "                lst_segs.append(seg_line)\n",
    "                step1 = step1 + 10\n",
    "                step2 = step2 + 10\n",
    "        if step1 < lnth_segm:\n",
    "            first = one_segm.coords[step1:]\n",
    "            seg_line = LineString(first)\n",
    "            lst_segs.append(seg_line)\n",
    "    else:\n",
    "        lst_segs = [one_segm]\n",
    "    #\n",
    "    return lst_segs"
   ]
  },
  {
   "cell_type": "code",
   "execution_count": 78,
   "metadata": {
    "scrolled": true
   },
   "outputs": [],
   "source": [
    "def get_node_seq(line, graph, nodes, route_type):\n",
    "\n",
    "    buffer=7\n",
    "    # line = one_big_line\n",
    "    line_graph, line_nodes, wider_graph = get_line_graph(line, graph, nodes, route_type, buffer)\n",
    "\n",
    "    node_seq = []\n",
    "    cnt=1\n",
    "    i=0\n",
    "    for i in tqdm(range(len(line))):\n",
    "    # for i in range(2):\n",
    "        one_segm = line[i]\n",
    "        lnth_segm = len(one_segm.coords[:])\n",
    "\n",
    "        lst_segs=[]\n",
    "        if lnth_segm > 15:\n",
    "            print(i)\n",
    "            lst_segs = get_lst_segm_in_loop(one_segm, lnth_segm)\n",
    "        else:\n",
    "            lst_segs = [one_segm]\n",
    "        # \n",
    "        l=0\n",
    "        for l in range(len(lst_segs)):\n",
    "            segm = lst_segs[l]\n",
    "        \n",
    "            try:\n",
    "                segm_seq, cnt = get_one_segm_seq(cnt, segm, line_graph, line_nodes)\n",
    "                node_seq = node_seq + segm_seq\n",
    "            except:\n",
    "                try:\n",
    "                    buffer = 50\n",
    "                    line_graph2, line_nodes2, wider_graph2 = get_line_graph(line, graph, nodes, 'all', buffer)\n",
    "                    segm_seq, cnt = get_one_segm_seq(cnt, segm, line_graph2, line_nodes2)\n",
    "                    node_seq = node_seq + segm_seq\n",
    "                except:\n",
    "                    cnt+=100\n",
    "        # \n",
    "    node_seq_fin = get_unique_seq(node_seq)\n",
    "    try:\n",
    "        node_seq_fin2 = find_first_node(node_seq_fin, wider_graph, line_graph, line)\n",
    "#         new_node_seq_fin = find_first_last_node(node_seq_fin, wider_graph, line_graph, line)\n",
    "    except:\n",
    "        node_seq_fin2 = node_seq_fin\n",
    "    #\n",
    "    try:\n",
    "        new_node_seq_fin = find_last_node(node_seq_fin2, wider_graph, line_graph, line)\n",
    "    except:\n",
    "        new_node_seq_fin = node_seq_fin2\n",
    "\n",
    "    return new_node_seq_fin"
   ]
  },
  {
   "cell_type": "code",
   "execution_count": 14,
   "metadata": {},
   "outputs": [],
   "source": [
    "def get_unique_seq(node_seq):\n",
    "    node_seq2 = node_seq[:]\n",
    "\n",
    "    lst_ind=[]\n",
    "    j=0\n",
    "    for j in range(1,len(node_seq2)):\n",
    "        if node_seq2[j][-1] == node_seq2[j-1][-1]:\n",
    "            lst_ind.append(node_seq2[j])\n",
    "    #\n",
    "    k=0\n",
    "    for k in range(len(lst_ind)):\n",
    "        one = lst_ind[k]\n",
    "        node_seq2.remove(one)\n",
    "    # \n",
    "    node_seq_fin = []\n",
    "    \n",
    "    l=0\n",
    "    for l in range(len(node_seq2)):\n",
    "        node_seq_fin.append([node_seq2[l][0],node_seq2[l][1],Point(node_seq2[l][2])])\n",
    "    #\n",
    "    return node_seq_fin"
   ]
  },
  {
   "cell_type": "code",
   "execution_count": 15,
   "metadata": {},
   "outputs": [],
   "source": [
    "def get_closest_link(lst_geo, node, lst_links):\n",
    "    smallest_dist = 100\n",
    "    i=0\n",
    "    for i in range(len(lst_geo)):\n",
    "        if node.distance(lst_geo[i]) < smallest_dist:\n",
    "            smallest_dist = node.distance(lst_geo[i])\n",
    "            closest_link = lst_links[i]\n",
    "    # \n",
    "    return closest_link\n",
    "# "
   ]
  },
  {
   "cell_type": "code",
   "execution_count": 16,
   "metadata": {},
   "outputs": [],
   "source": [
    "################## Find inner_angle\n",
    "\n",
    "def find_inner_angle(line_from, line_to, line_via):\n",
    "\n",
    "    A = line_from.length #значения слишком маленькие  * 10000\n",
    "    B = line_to.length\n",
    "    C = line_via.length\n",
    "    try:\n",
    "        angle = math.degrees(math.acos((A * A + B * B - C * C)/(2.0 * A * B)))\n",
    "    except:\n",
    "        # if (A + B) <= C:\n",
    "        try:\n",
    "            # if (A + B) <= C - its an error, add a little to both\n",
    "            new_val = ((C - (A + B)) + 0.000002) / 2 \n",
    "            A = A + new_val\n",
    "            B = B + new_val\n",
    "            angle = math.degrees(math.acos((A * A + B * B - C * C)/(2.0 * A * B)))\n",
    "        except:\n",
    "            angle = math.degrees(math.atan2(A,B))\n",
    "#             print(\"Not ok\")\n",
    "    angle = int(round(angle, 0))\n",
    "    # \n",
    "    return angle"
   ]
  },
  {
   "cell_type": "code",
   "execution_count": 17,
   "metadata": {},
   "outputs": [],
   "source": [
    "def get_closest_angle(lst_geo, line_to, lst_links):\n",
    "\n",
    "    lst_angles = []\n",
    "    i=0\n",
    "    for i in range(len(lst_geo)):\n",
    "        line_from = lst_geo[i]\n",
    "        line_via = LineString([line_to.coords[-1], line_from.coords[0]])\n",
    "        angle = find_inner_angle(line_from, line_to, line_via)\n",
    "        lst_angles.append(angle)\n",
    "    # \n",
    "\n",
    "    smallest_angle = 360\n",
    "    sm_ind=0\n",
    "    i=0\n",
    "    for i in range(len(lst_angles)):\n",
    "        one=lst_angles[i]\n",
    "        if abs(180-one) < smallest_angle:\n",
    "            smallest_angle = abs(180-one)\n",
    "            sm_ind = i\n",
    "    # \n",
    "    smlst_ang_id = lst_links[sm_ind]\n",
    "\n",
    "    return smlst_ang_id\n",
    "# "
   ]
  },
  {
   "cell_type": "code",
   "execution_count": 18,
   "metadata": {},
   "outputs": [],
   "source": [
    "def find_closest_node(gdf_links, node, second_link, from_to):\n",
    "\n",
    "    lst_geo = list(gdf_links.geometry)\n",
    "    lst_links = list(gdf_links.link_id)\n",
    "\n",
    "    line_to = second_link.geometry[0]\n",
    "\n",
    "    closest_link = get_closest_link(lst_geo, node, lst_links)\n",
    "\n",
    "    smlst_ang_id = get_closest_angle(lst_geo, line_to, lst_links)\n",
    "\n",
    "    while smlst_ang_id != closest_link:\n",
    "        print(\"Not equal:\", smlst_ang_id, closest_link)\n",
    "        try:\n",
    "            ind_not_ok = lst_links.index(closest_link)\n",
    "            lst_geo_new = lst_geo[:]\n",
    "            lst_geo_new.remove(lst_geo_new[ind_not_ok])\n",
    "\n",
    "            lst_lnk_new = lst_links[:]\n",
    "            lst_lnk_new.remove(closest_link)\n",
    "            closest_link = get_closest_link(lst_geo_new, node, lst_lnk_new)\n",
    "        except:\n",
    "            break\n",
    "    # \n",
    "    if from_to == 'from':\n",
    "        closest_node = list(gdf_links[gdf_links.link_id == closest_link]['from_node'])[0]\n",
    "    else:\n",
    "        closest_node = list(gdf_links[gdf_links.link_id == closest_link]['to_node'])[0]\n",
    "    #\n",
    "    \n",
    "    return closest_node"
   ]
  },
  {
   "cell_type": "code",
   "execution_count": 19,
   "metadata": {},
   "outputs": [],
   "source": [
    "def get_info_by_node(first_last, node, nodes_gdf, node_seq_fin):\n",
    "\n",
    "    nodes_coords = list(nodes_gdf[nodes_gdf.nodeID == node]['geometry'])[0]\n",
    "    new_node_seq_fin=[]\n",
    "    if first_last == 'first':\n",
    "        new_node_seq_fin=[[0, node, nodes_coords]]\n",
    "        new_node_seq_fin = new_node_seq_fin + node_seq_fin\n",
    "    else:\n",
    "        seq = node_seq_fin[-1][0] + 1\n",
    "        new_node_seq_fin=[[seq, node, nodes_coords]]\n",
    "        new_node_seq_fin = node_seq_fin + new_node_seq_fin\n",
    "    # \n",
    "    return new_node_seq_fin"
   ]
  },
  {
   "cell_type": "code",
   "execution_count": 20,
   "metadata": {},
   "outputs": [],
   "source": [
    "def find_first_node(node_seq_fin, wider_graph, line_graph, line):\n",
    "\n",
    "    # first node search\n",
    "    start_pnt = Point(line[0].coords[0])\n",
    "    first_id = node_seq_fin[0][1]\n",
    "    second_id = node_seq_fin[1][1]\n",
    "\n",
    "\n",
    "    first_links = wider_graph[((wider_graph.to_node == first_id) \n",
    "                               & (~wider_graph.link_id.isin(line_graph.link_id)))].reset_index(drop=True)\n",
    "    second_link = wider_graph[((wider_graph.from_node == first_id) \n",
    "                               & (wider_graph.to_node == second_id))].reset_index(drop=True)\n",
    "    #\n",
    "    first_closest_node = find_closest_node(first_links, start_pnt, second_link, 'from')\n",
    "\n",
    "\n",
    "    new_node_seq_fin = get_info_by_node('first', first_closest_node, nodes, node_seq_fin)\n",
    "    return new_node_seq_fin"
   ]
  },
  {
   "cell_type": "code",
   "execution_count": 21,
   "metadata": {},
   "outputs": [],
   "source": [
    "def find_last_node(node_seq_fin, wider_graph, line_graph, line):\n",
    "\n",
    "    # last node search\n",
    "    end_pnt = Point(line[-1].coords[-1])\n",
    "    last_id = node_seq_fin[-1][1]\n",
    "    prelast_id = node_seq_fin[-2][1]\n",
    "\n",
    "    last_links = wider_graph[((wider_graph.from_node == last_id) \n",
    "                              & (~wider_graph.link_id.isin(line_graph.link_id)))].reset_index(drop=True)\n",
    "    #\n",
    "    prelast_link = wider_graph[((wider_graph.from_node == prelast_id) \n",
    "                               & (wider_graph.to_node == last_id))].reset_index(drop=True)\n",
    "    #\n",
    "    last_closest_node = find_closest_node(last_links, end_pnt, prelast_link, 'to')\n",
    "\n",
    "    new_node_seq_fin = node_seq_fin\n",
    "    new_node_seq_fin = get_info_by_node('last', last_closest_node, nodes, new_node_seq_fin)\n",
    "    return new_node_seq_fin"
   ]
  },
  {
   "cell_type": "code",
   "execution_count": 22,
   "metadata": {},
   "outputs": [],
   "source": [
    "def find_first_last_node(node_seq_fin, wider_graph, line_graph, line):\n",
    "\n",
    "    # first node search\n",
    "    start_pnt = Point(line[0].coords[0])\n",
    "    first_id = node_seq_fin[0][1]\n",
    "    second_id = node_seq_fin[1][1]\n",
    "\n",
    "\n",
    "    first_links = wider_graph[((wider_graph.to_node == first_id) \n",
    "                               & (~wider_graph.link_id.isin(line_graph.link_id)))].reset_index(drop=True)\n",
    "    second_link = wider_graph[((wider_graph.from_node == first_id) \n",
    "                               & (wider_graph.to_node == second_id))].reset_index(drop=True)\n",
    "    #\n",
    "    first_closest_node = find_closest_node(first_links, start_pnt, second_link, 'from')\n",
    "\n",
    "    ##################\n",
    "    # last node search\n",
    "    end_pnt = Point(line[-1].coords[-1])\n",
    "    last_id = node_seq_fin[-1][1]\n",
    "    prelast_id = node_seq_fin[-2][1]\n",
    "\n",
    "    last_links = wider_graph[((wider_graph.from_node == last_id) \n",
    "                              & (~wider_graph.link_id.isin(line_graph.link_id)))].reset_index(drop=True)\n",
    "    #\n",
    "    prelast_link = wider_graph[((wider_graph.from_node == prelast_id) \n",
    "                               & (wider_graph.to_node == last_id))].reset_index(drop=True)\n",
    "    #\n",
    "    last_closest_node = find_closest_node(last_links, end_pnt, prelast_link, 'to')\n",
    "\n",
    "    new_node_seq_fin = get_info_by_node('first', first_closest_node, nodes, node_seq_fin)\n",
    "    new_node_seq_fin = get_info_by_node('last', last_closest_node, nodes, new_node_seq_fin)\n",
    "\n",
    "    return new_node_seq_fin"
   ]
  },
  {
   "cell_type": "code",
   "execution_count": null,
   "metadata": {},
   "outputs": [],
   "source": []
  },
  {
   "cell_type": "code",
   "execution_count": null,
   "metadata": {},
   "outputs": [],
   "source": []
  },
  {
   "cell_type": "code",
   "execution_count": 22,
   "metadata": {},
   "outputs": [],
   "source": [
    "# node_seq_fin = get_unique_seq(node_seq)\n",
    "# new_node_seq_fin = find_first_last_node(node_seq_fin, wider_graph, line_graph, line)"
   ]
  },
  {
   "cell_type": "code",
   "execution_count": 23,
   "metadata": {},
   "outputs": [],
   "source": [
    "buffer=7\n",
    "i=1\n",
    "one_big_line = gdf_all.iloc[[i]].reset_index(drop=True)\n",
    "line = one_big_line.geometry[0]\n",
    "# line_graph, line_nodes, wider_graph = get_line_graph(line, graph, nodes, route_type, buffer)"
   ]
  },
  {
   "cell_type": "code",
   "execution_count": null,
   "metadata": {},
   "outputs": [],
   "source": []
  },
  {
   "cell_type": "code",
   "execution_count": 24,
   "metadata": {},
   "outputs": [],
   "source": [
    "route_info = reestr_big[reestr_big.line_id == int(one_big_line.line_id[0])].reset_index(drop=True)\n",
    "route_type = route_info.type_ts[0]"
   ]
  },
  {
   "cell_type": "code",
   "execution_count": null,
   "metadata": {},
   "outputs": [],
   "source": []
  },
  {
   "cell_type": "code",
   "execution_count": 79,
   "metadata": {
    "scrolled": true
   },
   "outputs": [
    {
     "data": {
      "application/vnd.jupyter.widget-view+json": {
       "model_id": "0c7dfd3e2d1b43e99e61ad4d464927bc",
       "version_major": 2,
       "version_minor": 0
      },
      "text/plain": [
       "HBox(children=(FloatProgress(value=0.0, max=20.0), HTML(value='')))"
      ]
     },
     "metadata": {},
     "output_type": "display_data"
    },
    {
     "name": "stderr",
     "output_type": "stream",
     "text": [
      "Snapping: 100%|█████████████████████████████████████████████████████████████████████████| 1/1 [00:00<00:00, 100.00it/s]\n",
      "Snapping: 100%|██████████████████████████████████████████████████████████████████████████| 1/1 [00:00<00:00, 76.93it/s]\n",
      "C:\\Users\\ochristm\\anaconda3\\lib\\site-packages\\momepy\\utils.py:202: UserWarning: Geometry is in a geographic CRS. Results from 'length' are likely incorrect. Use 'GeoSeries.to_crs()' to re-project geometries to a projected CRS before this operation.\n",
      "\n",
      "  gdf_network[length] = gdf_network.geometry.length\n",
      "Snapping: 100%|██████████████████████████████████████████████████████████████████████████| 1/1 [00:00<00:00, 99.99it/s]\n",
      "Snapping: 100%|██████████████████████████████████████████████████████████████████████████| 1/1 [00:00<00:00, 76.93it/s]\n",
      "Snapping: 100%|██████████████████████████████████████████████████████████████████████████| 1/1 [00:00<00:00, 71.42it/s]\n",
      "Snapping: 100%|██████████████████████████████████████████████████████████████████████████| 1/1 [00:00<00:00, 71.43it/s]\n",
      "Snapping: 100%|█████████████████████████████████████████████████████████████████████████| 1/1 [00:00<00:00, 100.06it/s]\n",
      "Snapping: 100%|█████████████████████████████████████████████████████████████████████████| 1/1 [00:00<00:00, 100.00it/s]\n",
      "Snapping: 100%|██████████████████████████████████████████████████████████████████████████| 1/1 [00:00<00:00, 90.93it/s]\n",
      "Snapping: 100%|█████████████████████████████████████████████████████████████████████████| 1/1 [00:00<00:00, 111.13it/s]\n",
      "Snapping: 100%|██████████████████████████████████████████████████████████████████████████| 1/1 [00:00<00:00, 71.43it/s]\n",
      "Snapping: 100%|██████████████████████████████████████████████████████████████████████████| 1/1 [00:00<00:00, 90.89it/s]\n",
      "Snapping: 100%|█████████████████████████████████████████████████████████████████████████| 1/1 [00:00<00:00, 100.00it/s]\n",
      "Snapping: 100%|██████████████████████████████████████████████████████████████████████████| 1/1 [00:00<00:00, 99.99it/s]\n",
      "Snapping: 100%|██████████████████████████████████████████████████████████████████████████| 1/1 [00:00<00:00, 76.75it/s]\n",
      "Snapping: 100%|█████████████████████████████████████████████████████████████████████████| 1/1 [00:00<00:00, 111.12it/s]\n",
      "Snapping: 100%|█████████████████████████████████████████████████████████████████████████| 1/1 [00:00<00:00, 100.01it/s]\n",
      "Snapping: 100%|██████████████████████████████████████████████████████████████████████████| 1/1 [00:00<00:00, 90.88it/s]\n",
      "Snapping: 100%|█████████████████████████████████████████████████████████████████████████| 1/1 [00:00<00:00, 100.00it/s]\n",
      "Snapping: 100%|█████████████████████████████████████████████████████████████████████████| 1/1 [00:00<00:00, 100.00it/s]\n",
      "Snapping: 100%|█████████████████████████████████████████████████████████████████████████| 1/1 [00:00<00:00, 100.00it/s]\n",
      "Snapping: 100%|██████████████████████████████████████████████████████████████████████████| 1/1 [00:00<00:00, 83.33it/s]"
     ]
    },
    {
     "name": "stdout",
     "output_type": "stream",
     "text": [
      "10\n"
     ]
    },
    {
     "name": "stderr",
     "output_type": "stream",
     "text": [
      "\n",
      "Snapping: 100%|██████████████████████████████████████████████████████████████████████████| 1/1 [00:00<00:00, 76.92it/s]\n",
      "Snapping: 100%|█████████████████████████████████████████████████████████████████████████| 1/1 [00:00<00:00, 100.00it/s]\n",
      "Snapping: 100%|██████████████████████████████████████████████████████████████████████████| 1/1 [00:00<00:00, 83.33it/s]\n",
      "Snapping: 100%|█████████████████████████████████████████████████████████████████████████| 1/1 [00:00<00:00, 111.10it/s]\n",
      "Snapping: 100%|█████████████████████████████████████████████████████████████████████████| 1/1 [00:00<00:00, 100.00it/s]\n",
      "Snapping: 100%|█████████████████████████████████████████████████████████████████████████| 1/1 [00:00<00:00, 111.10it/s]\n",
      "Snapping: 100%|██████████████████████████████████████████████████████████████████████████| 1/1 [00:00<00:00, 90.90it/s]\n",
      "Snapping: 100%|██████████████████████████████████████████████████████████████████████████| 1/1 [00:00<00:00, 76.92it/s]\n",
      "Snapping: 100%|██████████████████████████████████████████████████████████████████████████| 1/1 [00:00<00:00, 83.32it/s]\n",
      "Snapping: 100%|██████████████████████████████████████████████████████████████████████████| 1/1 [00:00<00:00, 58.83it/s]\n",
      "Snapping: 100%|██████████████████████████████████████████████████████████████████████████| 1/1 [00:00<00:00, 62.50it/s]\n",
      "Snapping: 100%|██████████████████████████████████████████████████████████████████████████| 1/1 [00:00<00:00, 83.34it/s]"
     ]
    },
    {
     "name": "stdout",
     "output_type": "stream",
     "text": [
      "13\n"
     ]
    },
    {
     "name": "stderr",
     "output_type": "stream",
     "text": [
      "\n",
      "Snapping: 100%|██████████████████████████████████████████████████████████████████████████| 1/1 [00:00<00:00, 99.99it/s]\n",
      "Snapping: 100%|██████████████████████████████████████████████████████████████████████████| 1/1 [00:00<00:00, 83.32it/s]\n",
      "Snapping: 100%|██████████████████████████████████████████████████████████████████████████| 1/1 [00:00<00:00, 76.92it/s]\n",
      "Snapping: 100%|██████████████████████████████████████████████████████████████████████████| 1/1 [00:00<00:00, 66.66it/s]\n",
      "Snapping: 100%|██████████████████████████████████████████████████████████████████████████| 1/1 [00:00<00:00, 76.90it/s]\n",
      "Snapping: 100%|██████████████████████████████████████████████████████████████████████████| 1/1 [00:00<00:00, 90.93it/s]\n",
      "Snapping: 100%|█████████████████████████████████████████████████████████████████████████| 1/1 [00:00<00:00, 100.00it/s]\n",
      "Snapping: 100%|█████████████████████████████████████████████████████████████████████████| 1/1 [00:00<00:00, 111.11it/s]\n",
      "Snapping: 100%|██████████████████████████████████████████████████████████████████████████| 1/1 [00:00<00:00, 71.41it/s]\n",
      "Snapping: 100%|██████████████████████████████████████████████████████████████████████████| 1/1 [00:00<00:00, 97.40it/s]\n",
      "Snapping: 100%|██████████████████████████████████████████████████████████████████████████| 1/1 [00:00<00:00, 62.50it/s]\n",
      "Snapping: 100%|██████████████████████████████████████████████████████████████████████████| 1/1 [00:00<00:00, 71.42it/s]\n",
      "Snapping: 100%|██████████████████████████████████████████████████████████████████████████| 1/1 [00:00<00:00, 83.33it/s]\n",
      "Snapping: 100%|██████████████████████████████████████████████████████████████████████████| 1/1 [00:00<00:00, 66.67it/s]\n",
      "Snapping: 100%|██████████████████████████████████████████████████████████████████████████| 1/1 [00:00<00:00, 90.89it/s]\n",
      "Snapping: 100%|██████████████████████████████████████████████████████████████████████████| 1/1 [00:00<00:00, 83.35it/s]\n",
      "Snapping: 100%|██████████████████████████████████████████████████████████████████████████| 1/1 [00:00<00:00, 83.35it/s]\n",
      "Snapping: 100%|██████████████████████████████████████████████████████████████████████████| 1/1 [00:00<00:00, 76.92it/s]\n",
      "Snapping: 100%|█████████████████████████████████████████████████████████████████████████| 1/1 [00:00<00:00, 100.01it/s]\n",
      "Snapping: 100%|██████████████████████████████████████████████████████████████████████████| 1/1 [00:00<00:00, 83.32it/s]"
     ]
    },
    {
     "name": "stdout",
     "output_type": "stream",
     "text": [
      "19\n"
     ]
    },
    {
     "name": "stderr",
     "output_type": "stream",
     "text": [
      "\n",
      "Snapping: 100%|██████████████████████████████████████████████████████████████████████████| 1/1 [00:00<00:00, 83.32it/s]\n",
      "Snapping: 100%|██████████████████████████████████████████████████████████████████████████| 1/1 [00:00<00:00, 83.33it/s]\n",
      "Snapping: 100%|██████████████████████████████████████████████████████████████████████████| 1/1 [00:00<00:00, 76.93it/s]\n",
      "Snapping: 100%|██████████████████████████████████████████████████████████████████████████| 1/1 [00:00<00:00, 99.98it/s]\n",
      "Snapping: 100%|██████████████████████████████████████████████████████████████████████████| 1/1 [00:00<00:00, 76.92it/s]\n",
      "Snapping: 100%|██████████████████████████████████████████████████████████████████████████| 1/1 [00:00<00:00, 66.68it/s]\n",
      "C:\\Users\\ochristm\\anaconda3\\lib\\site-packages\\momepy\\utils.py:202: UserWarning: Geometry is in a geographic CRS. Results from 'length' are likely incorrect. Use 'GeoSeries.to_crs()' to re-project geometries to a projected CRS before this operation.\n",
      "\n",
      "  gdf_network[length] = gdf_network.geometry.length\n",
      "Snapping: 100%|██████████████████████████████████████████████████████████████████████████| 1/1 [00:00<00:00, 76.82it/s]\n",
      "Snapping: 100%|██████████████████████████████████████████████████████████████████████████| 1/1 [00:00<00:00, 58.82it/s]\n",
      "Snapping: 100%|██████████████████████████████████████████████████████████████████████████| 1/1 [00:00<00:00, 83.32it/s]\n",
      "Snapping: 100%|█████████████████████████████████████████████████████████████████████████| 1/1 [00:00<00:00, 111.13it/s]\n"
     ]
    },
    {
     "name": "stdout",
     "output_type": "stream",
     "text": [
      "\n"
     ]
    }
   ],
   "source": [
    "new_node_seq_fin = get_node_seq(line, graph, nodes, route_type)"
   ]
  },
  {
   "cell_type": "code",
   "execution_count": null,
   "metadata": {},
   "outputs": [],
   "source": []
  },
  {
   "cell_type": "code",
   "execution_count": 80,
   "metadata": {},
   "outputs": [],
   "source": [
    "df_fin = pd.DataFrame(new_node_seq_fin, columns=['seq','nodeID','geometry'])\n",
    "gdf_fin = gpd.GeoDataFrame(df_fin, geometry=df_fin.geometry)\n",
    "gdf_fin.crs='epsg:4326'"
   ]
  },
  {
   "cell_type": "code",
   "execution_count": 81,
   "metadata": {
    "scrolled": true
   },
   "outputs": [],
   "source": [
    "gdf_fin.to_file('./data/gdf_fin3.json', driver='GeoJSON', encoding='utf-8')"
   ]
  },
  {
   "cell_type": "code",
   "execution_count": 41,
   "metadata": {},
   "outputs": [],
   "source": [
    "one_big_line.to_file('./data/one_big_line2.json', driver='GeoJSON', encoding='utf-8')"
   ]
  },
  {
   "cell_type": "code",
   "execution_count": null,
   "metadata": {},
   "outputs": [],
   "source": []
  },
  {
   "cell_type": "code",
   "execution_count": 71,
   "metadata": {},
   "outputs": [],
   "source": []
  },
  {
   "cell_type": "code",
   "execution_count": null,
   "metadata": {},
   "outputs": [],
   "source": []
  }
 ],
 "metadata": {
  "kernelspec": {
   "display_name": "Python 3",
   "language": "python",
   "name": "python3"
  },
  "language_info": {
   "codemirror_mode": {
    "name": "ipython",
    "version": 3
   },
   "file_extension": ".py",
   "mimetype": "text/x-python",
   "name": "python",
   "nbconvert_exporter": "python",
   "pygments_lexer": "ipython3",
   "version": "3.7.6"
  }
 },
 "nbformat": 4,
 "nbformat_minor": 4
}
