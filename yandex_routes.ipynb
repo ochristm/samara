{
 "cells": [
  {
   "cell_type": "code",
   "execution_count": 1,
   "metadata": {},
   "outputs": [],
   "source": [
    "import requests\n",
    "import re\n",
    "from bs4 import BeautifulSoup\n",
    "import json\n",
    "import urllib"
   ]
  },
  {
   "cell_type": "code",
   "execution_count": 15,
   "metadata": {
    "collapsed": true
   },
   "outputs": [],
   "source": []
  },
  {
   "cell_type": "code",
   "execution_count": 2,
   "metadata": {
    "collapsed": true
   },
   "outputs": [],
   "source": [
    "# s = \"https://yandex.ru/maps/239/sochi/stops/stop__9973362/\"\n",
    "city_code = '239'\n",
    "city_name = 'sochi'\n",
    "stop = 'stop__9973362'\n",
    "\n",
    "s0 = 'href=\"/maps/'+str(city_code)+'/'+city_name+'/routes/'\n",
    "\n",
    "s = 'https://yandex.ru/maps/{}/{}/stops/{}/'.format(city_code, city_name, stop)"
   ]
  },
  {
   "cell_type": "code",
   "execution_count": 3,
   "metadata": {
    "collapsed": true
   },
   "outputs": [],
   "source": [
    "url = s"
   ]
  },
  {
   "cell_type": "code",
   "execution_count": 4,
   "metadata": {
    "collapsed": true
   },
   "outputs": [],
   "source": [
    "req = requests.get(url)\n",
    "bs = BeautifulSoup(req.text, 'html.parser')"
   ]
  },
  {
   "cell_type": "code",
   "execution_count": 5,
   "metadata": {
    "collapsed": true
   },
   "outputs": [],
   "source": [
    "lst_links = bs.find_all('a')"
   ]
  },
  {
   "cell_type": "code",
   "execution_count": 6,
   "metadata": {
    "collapsed": true
   },
   "outputs": [],
   "source": [
    "lst_routes_links = []\n",
    "route_names = []\n",
    "titles = []\n",
    "for link in lst_links:\n",
    "    if s0 in str(link) and link.text != 'Маршруты':\n",
    "        lst_routes_links.append('https://yandex.ru'+link.get('href'))\n",
    "        route_names.append(link.text)\n",
    "        titles.append(link.get('title'))\n",
    "# "
   ]
  },
  {
   "cell_type": "code",
   "execution_count": null,
   "metadata": {
    "collapsed": true
   },
   "outputs": [],
   "source": []
  },
  {
   "cell_type": "code",
   "execution_count": 7,
   "metadata": {
    "collapsed": true
   },
   "outputs": [],
   "source": [
    "url1 = lst_routes_links[0]"
   ]
  },
  {
   "cell_type": "code",
   "execution_count": 8,
   "metadata": {
    "collapsed": true
   },
   "outputs": [],
   "source": [
    "req = requests.get(url1)\n",
    "bs = BeautifulSoup(req.text, 'html.parser')"
   ]
  },
  {
   "cell_type": "code",
   "execution_count": 9,
   "metadata": {
    "collapsed": true
   },
   "outputs": [],
   "source": [
    "scrpt = bs.find_all('script')[-2].text\n",
    "js = json.loads(scrpt)"
   ]
  },
  {
   "cell_type": "code",
   "execution_count": 10,
   "metadata": {},
   "outputs": [
    {
     "data": {
      "text/plain": [
       "{'coordinates': [39.773594992, 43.557614811],\n",
       " 'id': 'stop__9973554',\n",
       " 'name': 'Микрорайон Искра',\n",
       " 'region': {'bounds': [[39.1261495, 43.261256799670214],\n",
       "   [40.3199745, 43.908055799670215]],\n",
       "  'hierarchy': [225, 10995, 239],\n",
       "  'id': 239,\n",
       "  'seoname': 'sochi'}}"
      ]
     },
     "execution_count": 10,
     "metadata": {},
     "output_type": "execute_result"
    }
   ],
   "source": [
    "js['masstransitLine']['features'][0]['features'][-1]"
   ]
  },
  {
   "cell_type": "code",
   "execution_count": null,
   "metadata": {
    "collapsed": true
   },
   "outputs": [],
   "source": []
  },
  {
   "cell_type": "code",
   "execution_count": 11,
   "metadata": {},
   "outputs": [
    {
     "data": {
      "text/plain": [
       "True"
      ]
     },
     "execution_count": 11,
     "metadata": {},
     "output_type": "execute_result"
    }
   ],
   "source": [
    "bs.find_all('script')[-2].get(\"type\") == \"application/json\""
   ]
  },
  {
   "cell_type": "code",
   "execution_count": null,
   "metadata": {
    "collapsed": true
   },
   "outputs": [],
   "source": []
  },
  {
   "cell_type": "code",
   "execution_count": 14,
   "metadata": {},
   "outputs": [
    {
     "name": "stdout",
     "output_type": "stream",
     "text": [
      "12\n"
     ]
    }
   ],
   "source": [
    "all_scrpt = bs.find_all('script')\n",
    "for scr in all_scrpt:\n",
    "    if scr.get(\"type\") == \"application/json\":\n",
    "        print(all_scrpt.index(scr))\n",
    "# "
   ]
  },
  {
   "cell_type": "code",
   "execution_count": null,
   "metadata": {
    "collapsed": true
   },
   "outputs": [],
   "source": []
  },
  {
   "cell_type": "code",
   "execution_count": null,
   "metadata": {
    "collapsed": true
   },
   "outputs": [],
   "source": []
  },
  {
   "cell_type": "code",
   "execution_count": 16,
   "metadata": {
    "collapsed": true
   },
   "outputs": [],
   "source": [
    "str1 = 'остановка общественного транспорта'\n",
    "str_qt = urllib.parse.quote(str1)"
   ]
  },
  {
   "cell_type": "code",
   "execution_count": 20,
   "metadata": {
    "collapsed": true
   },
   "outputs": [],
   "source": [
    "srch = \"https://yandex.ru/maps/239/sochi/search/{}\".format(str_qt)"
   ]
  },
  {
   "cell_type": "code",
   "execution_count": null,
   "metadata": {
    "collapsed": true
   },
   "outputs": [],
   "source": []
  },
  {
   "cell_type": "code",
   "execution_count": 21,
   "metadata": {
    "scrolled": true
   },
   "outputs": [],
   "source": [
    "req = requests.get(srch)\n",
    "bs = BeautifulSoup(req.text, 'html.parser')"
   ]
  },
  {
   "cell_type": "code",
   "execution_count": null,
   "metadata": {
    "collapsed": true
   },
   "outputs": [],
   "source": []
  },
  {
   "cell_type": "code",
   "execution_count": 33,
   "metadata": {},
   "outputs": [],
   "source": [
    "all_scrpt = bs.find_all(\"script\")"
   ]
  },
  {
   "cell_type": "code",
   "execution_count": 34,
   "metadata": {},
   "outputs": [
    {
     "name": "stdout",
     "output_type": "stream",
     "text": [
      "14\n"
     ]
    }
   ],
   "source": [
    "all_scrpt = bs.find_all(\"script\")\n",
    "for scr in all_scrpt:\n",
    "    if scr.get('type') == \"application/json\":\n",
    "        print(all_scrpt.index(scr))"
   ]
  },
  {
   "cell_type": "code",
   "execution_count": null,
   "metadata": {
    "collapsed": true
   },
   "outputs": [],
   "source": []
  },
  {
   "cell_type": "code",
   "execution_count": null,
   "metadata": {},
   "outputs": [],
   "source": []
  },
  {
   "cell_type": "code",
   "execution_count": 28,
   "metadata": {},
   "outputs": [],
   "source": [
    "scr1 = all_scrpt[13].text\n",
    "js2 = json.loads(scr1)"
   ]
  },
  {
   "cell_type": "code",
   "execution_count": null,
   "metadata": {
    "collapsed": true
   },
   "outputs": [],
   "source": []
  },
  {
   "cell_type": "code",
   "execution_count": 32,
   "metadata": {},
   "outputs": [
    {
     "data": {
      "text/plain": [
       "dict_keys(['counters', 'hosts', 'locale', 'lang', 'tld', 'query', 'baseUrl', 'originalUrl', 'uatraits', 'cspNonce', 'origin', 'csrfToken', 'xscriptCsrfToken', 'isUserFromPortal', 'isUserFromGoogle', 'availableLangs', 'currencyCode', 'banner', 'staticHost', 'pageMode', 'bookmarks', 'clientErrors', 'searchResultsCount', 'enableTaxi', 'enableAvia', 'enableZapravkiPromo', 'iframeCounter', 'tnsCounter', 'cloudApi', 'blaBlaCarBanner', 'search', 'routes', 'feedback', 'font', 'advert', 'serviceName', 'bilet', 'share', 'mobile', 'servicePanel', 'apiManual', 'mapMargin', 'business', 'troubleshooting', 'passport', 'morda', 'ruler', 'ugcCabinet', 'advertLandingUrl', 'advertLandingMetroUrl', 'becomeAuthorUrl', 'becomeOwnerUrl', 'agreementUrl', 'metroAgreementUrl', 'rightHoldersUrl', 'ymapsUrlTemplate', 'mrcLandingUrl', 'reviews', 'enableRoutesB2B', 'routesB2BUrl', 'enableMobileDistribution', 'bannerLayout', 'pharmacyLinks', 'mapLocation', 'mapType', 'userRegion', 'experiments', 'layerLinks', 'layers', 'searchPreloadedResults', 'isVectorEnabled', 'bunker', 'landing', 'promo', 'mapRegion', 'direct', 'brandings', 'serverCookie', 'meta'])"
      ]
     },
     "execution_count": 32,
     "metadata": {},
     "output_type": "execute_result"
    }
   ],
   "source": [
    "js2.keys()"
   ]
  },
  {
   "cell_type": "code",
   "execution_count": null,
   "metadata": {
    "collapsed": true
   },
   "outputs": [],
   "source": []
  },
  {
   "cell_type": "code",
   "execution_count": 34,
   "metadata": {},
   "outputs": [
    {
     "data": {
      "text/plain": [
       "dict_keys(['requestId', 'requestSerpId', 'requestContext', 'requestQuery', 'requestCorrectedQuery', 'requestBounds', 'displayType', 'totalResultCount', 'requestResults', 'requestSkip', 'items', 'bounds', 'categories', 'filters', 'hasLavkaBanner'])"
      ]
     },
     "execution_count": 34,
     "metadata": {},
     "output_type": "execute_result"
    }
   ],
   "source": [
    "js2['searchPreloadedResults'].keys()"
   ]
  },
  {
   "cell_type": "code",
   "execution_count": null,
   "metadata": {
    "collapsed": true
   },
   "outputs": [],
   "source": []
  },
  {
   "cell_type": "code",
   "execution_count": 48,
   "metadata": {},
   "outputs": [
    {
     "data": {
      "text/plain": [
       "dict_keys(['type', 'requestId', 'analyticsId', 'title', 'description', 'address', 'coordinates', 'displayCoordinates', 'bounds', 'logId', 'uri', 'id', 'metro', 'stops', 'panorama', 'shortTitle', 'fullAddress', 'country', 'status', 'businessLinks', 'ratingData', 'sources', 'categories', 'businessProperties', 'modularSnippet', 'seoname', 'geoId', 'compositeAddress', 'references', 'subtitleItems', 'region', 'breadcrumbs'])"
      ]
     },
     "execution_count": 48,
     "metadata": {},
     "output_type": "execute_result"
    }
   ],
   "source": [
    "js2['searchPreloadedResults']['items'][1].keys()"
   ]
  },
  {
   "cell_type": "code",
   "execution_count": 53,
   "metadata": {},
   "outputs": [
    {
     "data": {
      "text/plain": [
       "'Россия, Краснодарский край, Сочи, улица Конституции СССР'"
      ]
     },
     "execution_count": 53,
     "metadata": {},
     "output_type": "execute_result"
    }
   ],
   "source": [
    "js2['searchPreloadedResults']['items'][1]['description']"
   ]
  },
  {
   "cell_type": "code",
   "execution_count": null,
   "metadata": {
    "collapsed": true
   },
   "outputs": [],
   "source": []
  },
  {
   "cell_type": "code",
   "execution_count": null,
   "metadata": {},
   "outputs": [],
   "source": []
  },
  {
   "cell_type": "markdown",
   "metadata": {},
   "source": [
    "# Способ поиска всех маршрутов в городе по названию"
   ]
  },
  {
   "cell_type": "code",
   "execution_count": 80,
   "metadata": {},
   "outputs": [],
   "source": [
    "str_ct = 'Самара'\n",
    "str_qt = urllib.parse.quote(str_ct)\n",
    "srch_ct = \"https://yandex.ru/maps/?text={}\".format(str_qt)"
   ]
  },
  {
   "cell_type": "code",
   "execution_count": 81,
   "metadata": {},
   "outputs": [],
   "source": [
    "req = requests.get(srch_ct)\n",
    "bs = BeautifulSoup(req.text, 'html.parser')"
   ]
  },
  {
   "cell_type": "code",
   "execution_count": 83,
   "metadata": {},
   "outputs": [],
   "source": [
    "alla = bs.find_all('a')\n",
    "for aa in alla:\n",
    "    cls = aa.get(\"class\")\n",
    "    try:\n",
    "        if 'catalog-entry-point' in cls:\n",
    "            hrf = aa.get(\"href\")\n",
    "            break\n",
    "    except:\n",
    "        pass\n",
    "# \n",
    "try:\n",
    "    city_id,city_name = hrf.split(\"maps/\")[1].split(\"/catalog\")[0].split(\"/\")\n",
    "except:\n",
    "    city_id,city_name = None,None\n",
    "    print(\"Error. Not found\")\n",
    "    pass\n",
    "#\n"
   ]
  },
  {
   "cell_type": "code",
   "execution_count": 85,
   "metadata": {},
   "outputs": [],
   "source": [
    "lnk_tp = \"https://yandex.ru/maps/\"+ str(city_id) + \"/\" + str(city_name) + \"/transport\""
   ]
  },
  {
   "cell_type": "code",
   "execution_count": 96,
   "metadata": {},
   "outputs": [],
   "source": [
    "def find_js(lnk):\n",
    "    req = requests.get(lnk)\n",
    "    bs = BeautifulSoup(req.text, 'html.parser')\n",
    "    all_scrpt = bs.find_all(\"script\")\n",
    "    for scr in all_scrpt:\n",
    "        if scr.get('type') == \"application/json\":\n",
    "            sc_ind = all_scrpt.index(scr)\n",
    "    # \n",
    "    scrp_txt = all_scrpt[sc_ind].text\n",
    "    js = json.loads(scrp_txt)\n",
    "    \n",
    "    return js"
   ]
  },
  {
   "cell_type": "code",
   "execution_count": 105,
   "metadata": {},
   "outputs": [],
   "source": [
    "js_tp = find_js(lnk_tp)"
   ]
  },
  {
   "cell_type": "code",
   "execution_count": null,
   "metadata": {},
   "outputs": [],
   "source": []
  },
  {
   "cell_type": "code",
   "execution_count": 249,
   "metadata": {},
   "outputs": [],
   "source": [
    "lst_lineid = []\n",
    "lst_tpts = []\n",
    "lst_names = []\n",
    "i=0\n",
    "for i in range(len(js_tp['vehicles'])):\n",
    "    try:\n",
    "        meta_veh = js_tp['vehicles'][i]['properties']['VehicleMetaData']['Transport']\n",
    "        lineid = meta_veh['lineId']\n",
    "        if lineid not in lst_lineid:\n",
    "            lst_lineid.append(lineid)\n",
    "            answ_line = 1\n",
    "        else:\n",
    "            answ_line = 0\n",
    "        try:\n",
    "            transp_type = meta_veh['type']\n",
    "            name_rt = meta_veh['name']\n",
    "        except:\n",
    "            transp_type,name_rt = None,None\n",
    "        if answ_line == 1:\n",
    "            lst_tpts.append(transp_type)\n",
    "            lst_names.append(name_rt)\n",
    "        # \n",
    "    except:\n",
    "        pass\n",
    "# "
   ]
  },
  {
   "cell_type": "code",
   "execution_count": null,
   "metadata": {},
   "outputs": [],
   "source": []
  },
  {
   "cell_type": "code",
   "execution_count": 277,
   "metadata": {},
   "outputs": [],
   "source": [
    "dct_lnks = {}\n",
    "i=0\n",
    "# for i in range(len(lst_lineid)):\n",
    "for i in range(5):\n",
    "    lnkid = lst_lineid[i]\n",
    "    lnk_rt = 'https://yandex.ru/maps/{}/{}/routes/{}'.format(city_id, city_name, lnkid)\n",
    "    js_rt = find_js(lnk_rt)\n",
    "    dct_lnks[lnkid] = js_rt['masstransitLine']['features']\n",
    "# "
   ]
  },
  {
   "cell_type": "code",
   "execution_count": 278,
   "metadata": {},
   "outputs": [
    {
     "data": {
      "text/plain": [
       "dict_keys(['2193179075', '2193179452', '2193179408', '2193179080', '2193179401'])"
      ]
     },
     "execution_count": 278,
     "metadata": {},
     "output_type": "execute_result"
    }
   ],
   "source": [
    "dct_lnks.keys()"
   ]
  },
  {
   "cell_type": "code",
   "execution_count": null,
   "metadata": {},
   "outputs": [],
   "source": []
  },
  {
   "cell_type": "code",
   "execution_count": 280,
   "metadata": {},
   "outputs": [
    {
     "data": {
      "text/plain": [
       "2"
      ]
     },
     "execution_count": 280,
     "metadata": {},
     "output_type": "execute_result"
    }
   ],
   "source": [
    "len(dct_lnks['2193179075'])"
   ]
  },
  {
   "cell_type": "code",
   "execution_count": null,
   "metadata": {},
   "outputs": [],
   "source": [
    "# one_rt[0]['properties']['ThreadMetaData']['EssentialStops']"
   ]
  },
  {
   "cell_type": "code",
   "execution_count": null,
   "metadata": {},
   "outputs": [],
   "source": [
    "# for elem in dct_lnks:\n",
    "#     frw = elem[0]\n",
    "#     if len(elem) == 2:\n",
    "#         bckw = elem[1]\n",
    "#     else:\n",
    "#         bckw = None\n",
    "# # "
   ]
  },
  {
   "cell_type": "code",
   "execution_count": null,
   "metadata": {},
   "outputs": [],
   "source": []
  },
  {
   "cell_type": "code",
   "execution_count": 281,
   "metadata": {},
   "outputs": [],
   "source": [
    "one_rt = dct_lnks['2193179075']"
   ]
  },
  {
   "cell_type": "code",
   "execution_count": 305,
   "metadata": {},
   "outputs": [],
   "source": [
    "one_dir = one_rt[0]['features']"
   ]
  },
  {
   "cell_type": "code",
   "execution_count": null,
   "metadata": {},
   "outputs": [],
   "source": []
  },
  {
   "cell_type": "code",
   "execution_count": null,
   "metadata": {},
   "outputs": [],
   "source": []
  },
  {
   "cell_type": "code",
   "execution_count": null,
   "metadata": {},
   "outputs": [],
   "source": [
    "def get_stop(dct):\n",
    "    lst=[]\n",
    "    stop_id = dct['id']\n",
    "    name = dct['name']\n",
    "    stop_lon = dct['coordinates'][0]\n",
    "    stop_lat = dct['coordinates'][1]\n",
    "    lst = [stop_id,name,stop_lat,stop_lon]\n",
    "    return lst"
   ]
  },
  {
   "cell_type": "code",
   "execution_count": 334,
   "metadata": {},
   "outputs": [],
   "source": [
    "direction = 0\n",
    "rt_id = '2193179075'\n",
    "all_stops=[]\n",
    "rt_line=[]\n",
    "i=0\n",
    "lst_stop=[]\n",
    "cnt_stp = 0\n",
    "for i in range(len(one_dir)):\n",
    "    if 'id' in one_dir[i]:\n",
    "        cnt_stp +=1\n",
    "        lst_stop = []\n",
    "        lst_stop = lst_stop + [rt_id,direction,cnt_stp]\n",
    "        lst_stop = lst_stop + get_stop(one_dir[i])\n",
    "        all_stops.append(lst_stop)\n",
    "        \n",
    "    if 'points' in one_dir[i]:\n",
    "        one_part = one_dir[i]['points']\n",
    "        for j in range(len(one_part)):\n",
    "            rt_line.append(one_part[j])\n",
    "    #\n",
    "# "
   ]
  },
  {
   "cell_type": "code",
   "execution_count": null,
   "metadata": {},
   "outputs": [],
   "source": []
  },
  {
   "cell_type": "code",
   "execution_count": 336,
   "metadata": {},
   "outputs": [],
   "source": [
    "import pandas as pd"
   ]
  },
  {
   "cell_type": "code",
   "execution_count": 341,
   "metadata": {},
   "outputs": [],
   "source": [
    "import shapely\n",
    "from shapely.geometry import Point, LineString, MultiLineString"
   ]
  },
  {
   "cell_type": "code",
   "execution_count": null,
   "metadata": {},
   "outputs": [],
   "source": []
  },
  {
   "cell_type": "code",
   "execution_count": 342,
   "metadata": {},
   "outputs": [
    {
     "data": {
      "image/svg+xml": [
       "<svg xmlns=\"http://www.w3.org/2000/svg\" xmlns:xlink=\"http://www.w3.org/1999/xlink\" width=\"100.0\" height=\"100.0\" viewBox=\"50.11126667999999 53.17971067999999 0.19076364000000723 0.0807766400000105\" preserveAspectRatio=\"xMinYMin meet\"><g transform=\"matrix(1,0,0,-1,0,106.440198)\"><polyline fill=\"none\" stroke=\"#66cc99\" stroke-width=\"0.0038152728000001444\" points=\"50.294937,53.253422 50.294779,53.253065 50.294661999999995,53.252776999999995 50.294615,53.252646 50.294494,53.252264 50.294461999999996,53.252168999999995 50.29445,53.252061999999995 50.294453,53.252002 50.294475999999996,53.251912999999995 50.294497,53.251855 50.294602,53.251692 50.294837,53.251368 50.294886,53.251279999999994 50.29492,53.251219999999996 50.294940999999994,53.251169 50.294954999999995,53.251118 50.294965,53.251068 50.294954999999995,53.251014999999995 50.294928999999996,53.250969 50.294897999999996,53.250929 50.294858999999995,53.250885 50.294807999999996,53.250847 50.294554,53.250654999999995 50.294523,53.250634 50.29446,53.250577 50.294387,53.250501 50.29432,53.250423999999995 50.294259999999994,53.250324 50.294067,53.249880999999995 50.293946,53.249604 50.293946,53.249604 50.293870999999996,53.249432 50.293783,53.24923 50.293648,53.248909999999995 50.293414,53.248357 50.293043,53.247518 50.293028,53.247484 50.292652,53.246615 50.292505999999996,53.246283999999996 50.292488,53.246241999999995 50.292345,53.245934999999996 50.292311,53.245864 50.292217,53.245669 50.292099,53.245408999999995 50.292037,53.245270999999995 50.292026,53.245245999999995 50.29197,53.245096 50.291948999999995,53.245042999999995 50.291927,53.244989 50.291919,53.244968 50.291829,53.244755 50.291757999999994,53.244599 50.291641,53.244364999999995 50.291585,53.244268 50.291284,53.243786 50.290853999999996,53.243106999999995 50.290808999999996,53.243033999999994 50.290746,53.242929999999994 50.290651999999994,53.242779 50.290606999999994,53.242703999999996 50.290606999999994,53.242703999999996 50.289995,53.241699 50.28975,53.241288 50.289532,53.240928 50.289255,53.240443 50.289068,53.240128999999996 50.288999999999994,53.240013999999995 50.288944,53.239922 50.288807,53.239701 50.288675,53.239484999999995 50.288579,53.239329999999995 50.288519,53.239231 50.288382999999996,53.23901 50.288232,53.238766 50.288153,53.238637 50.288081,53.238519 50.287949,53.238305 50.287831999999995,53.238113999999996 50.287155,53.238264 50.287155,53.238264 50.286246,53.238465 50.285028,53.238734 50.28476,53.238793 50.28476,53.238793 50.284565,53.238836 50.284408,53.238868 50.284231999999996,53.238904 50.283038,53.239166999999995 50.282719,53.239238 50.282602,53.239266 50.282441,53.239303 50.280538,53.239719 50.280387999999995,53.239756 50.280166,53.239805 50.279934999999995,53.239853 50.279866999999996,53.239771 50.279821999999996,53.239695999999995 50.279064999999996,53.238426999999994 50.278774999999996,53.237939 50.278726999999996,53.23786 50.278676,53.237776 50.278285,53.23713 50.278158999999995,53.236922 50.278119,53.236855999999996 50.278119,53.236855999999996 50.278017999999996,53.236689 50.277609,53.236014999999995 50.277536999999995,53.235898999999996 50.277477,53.2358 50.277166,53.235296999999996 50.276396,53.234052 50.276106,53.233584 50.276042,53.23348 50.275912999999996,53.233289 50.275912999999996,53.233289 50.275824,53.233156 50.275802,53.233135999999995 50.275786,53.233114 50.275544,53.232859 50.275510999999995,53.232844 50.275365,53.232777 50.274266999999995,53.232279 50.273789,53.232057 50.272532,53.231482 50.271792999999995,53.231145 50.271664,53.231086 50.271530999999996,53.231026 50.271291,53.230916 50.271291,53.230916 50.27023,53.230429 50.269695,53.230187 50.269455,53.230067999999996 50.268814,53.229769 50.268107,53.22944 50.268026,53.229402 50.26771,53.229253 50.267579,53.229194 50.267455,53.229133999999995 50.267303999999996,53.229065999999996 50.266895,53.22888 50.266732999999995,53.228806999999996 50.266732999999995,53.228806999999996 50.266016,53.228483 50.265710999999996,53.228345 50.265235,53.228128999999996 50.265117,53.228075999999994 50.265018999999995,53.228032 50.264016,53.227587 50.263188,53.227219 50.263098,53.227177 50.263008,53.227134 50.261219,53.226316 50.261063,53.226245 50.261063,53.226245 50.260934,53.226186 50.260815,53.226129 50.26068,53.226065 50.260396,53.225939 50.259364999999995,53.225480999999995 50.258981999999996,53.225311 50.25879,53.225226 50.25794,53.225885999999996 50.257735999999994,53.226048 50.257602999999996,53.225986 50.257227,53.225811 50.256122999999995,53.2253 50.255783,53.225141 50.255677,53.225093 50.255494,53.22501 50.255291,53.224919 50.254956,53.224768 50.254525,53.224574999999994 50.254306,53.224478 50.254306,53.224478 50.253637999999995,53.224179 50.253538999999996,53.224134 50.253338,53.224044 50.253205,53.223985 50.253091,53.223932 50.252074,53.223462999999995 50.250927999999995,53.222949 50.249869,53.222452999999994 50.249497,53.222282 50.249497,53.222282 50.24887,53.221995 50.248759,53.221945999999996 50.248656999999994,53.221897999999996 50.24745,53.221346999999994 50.246879,53.221087 50.246728999999995,53.221019 50.246572,53.220946 50.244797,53.220129 50.24317,53.219378 50.242542,53.219089 50.242542,53.219089 50.241611,53.218658999999995 50.241504,53.21861 50.241405,53.218564 50.241084,53.218427999999996 50.240983,53.218381 50.240421999999995,53.218126999999996 50.239283,53.21761 50.238447,53.21723 50.237674999999996,53.216879 50.237674999999996,53.216879 50.236706999999996,53.21644 50.236529999999995,53.216358 50.236329,53.216265 50.235983999999995,53.216103999999994 50.235003,53.215649 50.234618,53.215469999999996 50.234327,53.215334999999996 50.233495999999995,53.214956 50.232482,53.214493 50.232161,53.214347 50.232,53.214272 50.231865,53.214211999999996 50.230067999999996,53.213401 50.229371,53.213086 50.229371,53.213086 50.228449,53.212669999999996 50.228334,53.212632 50.228218999999996,53.212602999999994 50.228114,53.212584 50.227875,53.21255 50.227519,53.21252 50.227325,53.212511 50.227143,53.212514999999996 50.226983999999995,53.212525 50.226890999999995,53.212533 50.226805,53.212547 50.22672,53.212562999999996 50.22663,53.212585999999995 50.226482,53.212635 50.226298,53.2127 50.226129,53.212759 50.225936,53.21282 50.225666999999994,53.212893 50.224959,53.212877 50.224623,53.212865 50.223189999999995,53.21283 50.221941,53.212799 50.221095,53.212778 50.221095,53.212778 50.220926,53.212773 50.220678,53.212768 50.220380999999996,53.212759 50.21926,53.212727 50.218931,53.212717 50.218416,53.212703 50.217813,53.21268 50.217731,53.212677 50.216713,53.212654 50.216463,53.212649 50.215596999999995,53.21262 50.215511,53.212613999999995 50.215489999999996,53.212613 50.215346999999994,53.212602 50.215202,53.212588 50.215202,53.212588 50.215176,53.212585 50.214957999999996,53.212556 50.214729999999996,53.21252 50.214448,53.212469999999996 50.214289,53.212452 50.214199,53.212447999999995 50.214112,53.212449 50.214040999999995,53.212455 50.213986999999996,53.212464 50.213930999999995,53.21248 50.213868999999995,53.212502 50.213812999999995,53.212533 50.213753999999994,53.212571 50.213713,53.212619 50.213671999999995,53.212658 50.213626999999995,53.212691 50.213567999999995,53.212727 50.213508,53.212751 50.213432999999995,53.212771 50.213342,53.212787 50.213224999999994,53.212796999999995 50.213102,53.212798 50.212986,53.212796 50.212869999999995,53.212789 50.212773,53.212775 50.21268,53.21275 50.212590999999996,53.212716 50.212517,53.212677 50.212469999999996,53.212629 50.212436999999994,53.212578 50.212409,53.212523999999995 50.21234,53.212477 50.212256,53.212436 50.212151,53.212396 50.211704999999995,53.21232 50.211144,53.212303999999996 50.210924999999996,53.212298999999994 50.210029999999996,53.212270999999994 50.210029999999996,53.212270999999994 50.209865,53.212266 50.209122,53.212246 50.208898,53.212239999999994 50.208577,53.212232 50.207409,53.212202 50.207316999999996,53.212199 50.205068999999995,53.212137999999996 50.204462,53.212122 50.202963999999994,53.212077 50.202740999999996,53.212072 50.202579,53.212067999999995 50.201747999999995,53.212042 50.201747999999995,53.212042 50.201557,53.212036 50.200618999999996,53.212061999999996 50.19883,53.212001 50.197196,53.211954 50.195415999999994,53.211904999999994 50.194660999999996,53.211832 50.194463,53.211827 50.194424999999995,53.211825999999995 50.194424999999995,53.211825999999995 50.193734,53.211808999999995 50.19361,53.211804 50.193366999999995,53.211796 50.193141,53.211787 50.193034999999995,53.211785 50.192921999999996,53.211782 50.191164,53.211728 50.190891,53.211738999999994 50.190742,53.211752 50.190597,53.211771999999996 50.190469,53.211800999999994 50.190343999999996,53.211839999999995 50.190228,53.211887 50.190121,53.211935 50.190024,53.211988 50.189969,53.212021 50.189912,53.212049 50.18985,53.212069 50.189778,53.212084 50.189706,53.212091 50.189631999999996,53.212091 50.189555999999996,53.212083 50.189488,53.21207 50.189420999999996,53.212047999999996 50.189361999999996,53.212021 50.189312,53.211987 50.18927,53.211949 50.18924,53.211909 50.189223,53.211866 50.189215,53.211821 50.189223,53.21172 50.189242,53.211503 50.18926,53.211282 50.18929,53.210741999999996 50.189293,53.210677 50.189322999999995,53.210217 50.189336,53.210046999999996 50.189344,53.209941 50.189352,53.209846999999996 50.189352,53.209846999999996 50.189375999999996,53.209571999999994 50.189422,53.209030999999996 50.189446,53.208752999999994 50.189543,53.207612999999995 50.189549,53.207536 50.189643,53.20619 50.189659,53.205962 50.189664,53.205892999999996 50.189671999999995,53.205752 50.189679,53.205619 50.189682,53.205568 50.189704,53.205138 50.189709,53.20507 50.189713999999995,53.205003 50.189713999999995,53.205003 50.18978,53.204093 50.189788,53.203972 50.189794,53.203875 50.189879999999995,53.202884999999995 50.189896999999995,53.202672 50.189972,53.201767999999994 50.190008999999996,53.201077999999995 50.190011999999996,53.20102 50.190039,53.200742 50.189595999999995,53.200731 50.188562999999995,53.200700999999995 50.188562999999995,53.200700999999995 50.186316,53.200635999999996 50.184813999999996,53.200593 50.184211,53.200573999999996 50.184065999999994,53.20057 50.183961,53.200568 50.181714,53.200503999999995 50.180336,53.200464 50.180336,53.200464 50.178929,53.200424 50.178816,53.200421 50.178475,53.20041 50.178363,53.200406 50.177622,53.200379999999996 50.175376,53.200306999999995 50.175225999999995,53.200302 50.175225999999995,53.200302 50.175208,53.200302 50.174323,53.200278999999995 50.173421,53.200255999999996 50.173030999999995,53.200243 50.172584,53.200232 50.171732999999996,53.200209 50.171222,53.200193999999996 50.171122,53.20019 50.170866,53.200181 50.17055,53.200173 50.168935,53.200129 50.167004999999996,53.200074 50.16683,53.200070999999994 50.166475999999996,53.200061999999996 50.166475999999996,53.200061999999996 50.165313999999995,53.200030999999996 50.165073,53.200030999999996 50.164907,53.200036999999995 50.164777,53.200044999999996 50.164652,53.20006 50.164541,53.200078 50.164434,53.200103 50.16433,53.200131 50.16413,53.200162999999996 50.164032,53.200173 50.163948999999995,53.200178 50.163877,53.200177 50.163807,53.20017 50.163748,53.200156 50.163698,53.200137999999995 50.163661999999995,53.200117999999996 50.163630999999995,53.200094 50.163610999999996,53.200063 50.163604,53.200035 50.163605999999994,53.200005999999995 50.163571,53.199948 50.163536,53.199901 50.163492,53.199853999999995 50.163439,53.199813999999996 50.163363999999994,53.19977 50.163291,53.199737 50.163215,53.199703 50.162813,53.199538 50.161561999999996,53.199025999999996 50.161532,53.199013 50.160799999999995,53.198713999999995 50.159925,53.198356 50.159735999999995,53.198277999999995 50.159645999999995,53.198242 50.158083,53.197607 50.157894999999996,53.197531 50.157894999999996,53.197531 50.157472999999996,53.197359999999996 50.157185999999996,53.197246 50.157087,53.197207 50.156825999999995,53.197122 50.156684,53.197072999999996 50.156512,53.197005999999995 50.156330999999994,53.196931 50.155125,53.196444 50.155077,53.196425 50.154458999999996,53.196172999999995 50.153209,53.195662 50.153065999999995,53.195602 50.153,53.19557 50.152919,53.195530999999995 50.152798,53.195468999999996 50.152684,53.195403999999996 50.152581999999995,53.195339999999995 50.152484,53.195268999999996 50.151409,53.194454 50.1511,53.194221 50.151035,53.194179 50.150965,53.19414 50.150909,53.194117999999996 50.150838,53.194097 50.150762,53.194081 50.150687999999995,53.194072 50.150611,53.194067999999994 50.150546999999996,53.194067999999994 50.150478,53.194072999999996 50.150406,53.194086999999996 50.150330999999994,53.194106 50.150264,53.194131 50.150216,53.194156 50.150144999999995,53.194198 50.149769,53.194461 50.149642,53.194531 50.149549,53.194576999999995 50.149426999999996,53.194606 50.149404999999994,53.194609 50.149361,53.194615999999996 50.149297999999995,53.194618 50.149221,53.194612 50.149136999999996,53.194607 50.149055,53.194595 50.148953,53.194579999999995 50.148871,53.194562999999995 50.148742999999996,53.194517999999995 50.147673999999995,53.19406 50.147059,53.193796999999996 50.146861,53.193715 50.146861,53.193715 50.146696,53.193647 50.146401999999995,53.193523 50.145911999999996,53.193317 50.145796999999995,53.193267 50.145467,53.19313 50.144310999999995,53.19264 50.144251,53.192614 50.14382,53.192432999999994 50.143398999999995,53.192257999999995 50.142655,53.19195 50.142337,53.191818 50.142337,53.191818 50.141932,53.191649 50.141856,53.191617 50.141694,53.191545999999995 50.141611999999995,53.191610999999995 50.141560999999996,53.191652999999995 50.140535,53.192499999999995 50.140152,53.192817 50.140023,53.192926 50.139948999999994,53.192992 50.139466999999996,53.193397999999995 50.138718999999995,53.194022 50.138400999999995,53.194289999999995 50.138337,53.194345 50.137817999999996,53.194764 50.137454999999996,53.195085999999996 50.137389,53.195141 50.137389,53.195141 50.137141,53.195346 50.136662,53.195747999999995 50.136623,53.19578 50.136568999999994,53.195825 50.136036999999995,53.196273 50.135279999999995,53.196884999999995 50.134876999999996,53.197229 50.13482,53.197277 50.134403999999996,53.197630999999994 50.134313999999996,53.197706999999994 50.134211,53.19766 50.133801,53.19746 50.133693,53.197407 50.133693,53.197407 50.133267,53.197199999999995 50.133129999999994,53.197154999999995 50.133050999999995,53.197131 50.132960999999995,53.197109 50.132391999999996,53.197005999999995 50.131975,53.196929999999995 50.131,53.196756 50.130584999999996,53.196684999999995 50.129661,53.196518 50.129203999999994,53.196436999999996 50.129045,53.19641 50.128858,53.196376 50.128066,53.196239 50.127938,53.196217 50.127204,53.196087 50.127027,53.196056 50.126447,53.195949 50.126301999999995,53.195921 50.126044,53.195873999999996 50.125572,53.195775 50.125053,53.195665999999996 50.124798,53.195614 50.124638,53.195544 50.12444,53.19545 50.124157999999994,53.195294999999994 50.123993,53.1952 50.123906999999996,53.195124 50.123843,53.195049999999995 50.123706,53.194846 50.123363,53.194347 50.123363,53.194347 50.122865,53.193621 50.122839,53.193583999999994 50.122690999999996,53.193366 50.122437,53.192986 50.122330999999996,53.192873999999996 50.122246,53.192797 50.122082999999996,53.19256 50.122082999999996,53.19256 50.122023999999996,53.192476 50.121925999999995,53.192330999999996 50.121572,53.191804 50.12146,53.191646999999996 50.121068,53.191067 50.121002999999995,53.190964 50.120945,53.190875999999996 50.120891,53.190796 50.120605999999995,53.190363999999995 50.120174,53.189727999999995 50.120106,53.189628 50.119913,53.189341 50.11971,53.189043999999996 50.119664,53.188976 50.119600999999996,53.188879 50.119547,53.1888 50.119519999999994,53.188761 50.119057,53.188074 50.119004999999994,53.187996 50.118953,53.18792 50.118927,53.187881999999995 50.118927,53.187881999999995 50.118761,53.187636999999995 50.118480999999996,53.187221 50.118348,53.187022999999996 50.118336,53.186993 50.118331999999995,53.186963 50.118336,53.186932 50.118348,53.186901999999996 50.118369,53.186873999999996 50.118396999999995,53.186848999999995 50.118431,53.186825999999996 50.118471,53.186806999999995 50.118516,53.186792999999994 50.118573999999995,53.186777 50.118741,53.186777 50.119139,53.186775999999995\" opacity=\"0.8\" /></g></svg>"
      ],
      "text/plain": [
       "<shapely.geometry.linestring.LineString at 0x1a28cdf43c8>"
      ]
     },
     "execution_count": 342,
     "metadata": {},
     "output_type": "execute_result"
    }
   ],
   "source": [
    "LineString(rt_line)"
   ]
  },
  {
   "cell_type": "code",
   "execution_count": null,
   "metadata": {},
   "outputs": [],
   "source": []
  },
  {
   "cell_type": "code",
   "execution_count": null,
   "metadata": {},
   "outputs": [],
   "source": []
  },
  {
   "cell_type": "code",
   "execution_count": null,
   "metadata": {},
   "outputs": [],
   "source": []
  },
  {
   "cell_type": "code",
   "execution_count": null,
   "metadata": {},
   "outputs": [],
   "source": []
  },
  {
   "cell_type": "code",
   "execution_count": null,
   "metadata": {},
   "outputs": [],
   "source": []
  },
  {
   "cell_type": "code",
   "execution_count": null,
   "metadata": {},
   "outputs": [],
   "source": []
  },
  {
   "cell_type": "code",
   "execution_count": null,
   "metadata": {},
   "outputs": [],
   "source": []
  },
  {
   "cell_type": "code",
   "execution_count": null,
   "metadata": {},
   "outputs": [],
   "source": []
  },
  {
   "cell_type": "code",
   "execution_count": null,
   "metadata": {},
   "outputs": [],
   "source": [
    "# \"https://yandex.ru/maps/51/samara/transport/buses/?l=masstransit&ll=50.212459%2C53.227108&z=11\""
   ]
  },
  {
   "cell_type": "code",
   "execution_count": null,
   "metadata": {},
   "outputs": [],
   "source": [
    "# https://yandex.ru/maps/51/samara/transport/?ll=50.183735%2C53.233963&z=10"
   ]
  },
  {
   "cell_type": "code",
   "execution_count": null,
   "metadata": {},
   "outputs": [],
   "source": []
  }
 ],
 "metadata": {
  "kernelspec": {
   "display_name": "Python 3",
   "language": "python",
   "name": "python3"
  },
  "language_info": {
   "codemirror_mode": {
    "name": "ipython",
    "version": 3
   },
   "file_extension": ".py",
   "mimetype": "text/x-python",
   "name": "python",
   "nbconvert_exporter": "python",
   "pygments_lexer": "ipython3",
   "version": "3.7.6"
  }
 },
 "nbformat": 4,
 "nbformat_minor": 2
}
