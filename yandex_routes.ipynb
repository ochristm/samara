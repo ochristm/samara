{
 "cells": [
  {
   "cell_type": "code",
   "execution_count": 1,
   "metadata": {},
   "outputs": [],
   "source": [
    "import requests\n",
    "import re\n",
    "from bs4 import BeautifulSoup\n",
    "import json\n",
    "import urllib"
   ]
  },
  {
   "cell_type": "code",
   "execution_count": 15,
   "metadata": {
    "collapsed": true
   },
   "outputs": [],
   "source": []
  },
  {
   "cell_type": "code",
   "execution_count": 2,
   "metadata": {
    "collapsed": true
   },
   "outputs": [],
   "source": [
    "# s = \"https://yandex.ru/maps/239/sochi/stops/stop__9973362/\"\n",
    "city_code = '239'\n",
    "city_name = 'sochi'\n",
    "stop = 'stop__9973362'\n",
    "\n",
    "s0 = 'href=\"/maps/'+str(city_code)+'/'+city_name+'/routes/'\n",
    "\n",
    "s = 'https://yandex.ru/maps/{}/{}/stops/{}/'.format(city_code, city_name, stop)"
   ]
  },
  {
   "cell_type": "code",
   "execution_count": 3,
   "metadata": {
    "collapsed": true
   },
   "outputs": [],
   "source": [
    "url = s"
   ]
  },
  {
   "cell_type": "code",
   "execution_count": 4,
   "metadata": {
    "collapsed": true
   },
   "outputs": [],
   "source": [
    "req = requests.get(url)\n",
    "bs = BeautifulSoup(req.text, 'html.parser')"
   ]
  },
  {
   "cell_type": "code",
   "execution_count": 5,
   "metadata": {
    "collapsed": true
   },
   "outputs": [],
   "source": [
    "lst_links = bs.find_all('a')"
   ]
  },
  {
   "cell_type": "code",
   "execution_count": 6,
   "metadata": {
    "collapsed": true
   },
   "outputs": [],
   "source": [
    "lst_routes_links = []\n",
    "route_names = []\n",
    "titles = []\n",
    "for link in lst_links:\n",
    "    if s0 in str(link) and link.text != 'Маршруты':\n",
    "        lst_routes_links.append('https://yandex.ru'+link.get('href'))\n",
    "        route_names.append(link.text)\n",
    "        titles.append(link.get('title'))\n",
    "# "
   ]
  },
  {
   "cell_type": "code",
   "execution_count": null,
   "metadata": {
    "collapsed": true
   },
   "outputs": [],
   "source": []
  },
  {
   "cell_type": "code",
   "execution_count": 7,
   "metadata": {
    "collapsed": true
   },
   "outputs": [],
   "source": [
    "url1 = lst_routes_links[0]"
   ]
  },
  {
   "cell_type": "code",
   "execution_count": 8,
   "metadata": {
    "collapsed": true
   },
   "outputs": [],
   "source": [
    "req = requests.get(url1)\n",
    "bs = BeautifulSoup(req.text, 'html.parser')"
   ]
  },
  {
   "cell_type": "code",
   "execution_count": 9,
   "metadata": {
    "collapsed": true
   },
   "outputs": [],
   "source": [
    "scrpt = bs.find_all('script')[-2].text\n",
    "js = json.loads(scrpt)"
   ]
  },
  {
   "cell_type": "code",
   "execution_count": 10,
   "metadata": {},
   "outputs": [
    {
     "data": {
      "text/plain": [
       "{'coordinates': [39.773594992, 43.557614811],\n",
       " 'id': 'stop__9973554',\n",
       " 'name': 'Микрорайон Искра',\n",
       " 'region': {'bounds': [[39.1261495, 43.261256799670214],\n",
       "   [40.3199745, 43.908055799670215]],\n",
       "  'hierarchy': [225, 10995, 239],\n",
       "  'id': 239,\n",
       "  'seoname': 'sochi'}}"
      ]
     },
     "execution_count": 10,
     "metadata": {},
     "output_type": "execute_result"
    }
   ],
   "source": [
    "js['masstransitLine']['features'][0]['features'][-1]"
   ]
  },
  {
   "cell_type": "code",
   "execution_count": null,
   "metadata": {
    "collapsed": true
   },
   "outputs": [],
   "source": []
  },
  {
   "cell_type": "code",
   "execution_count": 11,
   "metadata": {},
   "outputs": [
    {
     "data": {
      "text/plain": [
       "True"
      ]
     },
     "execution_count": 11,
     "metadata": {},
     "output_type": "execute_result"
    }
   ],
   "source": [
    "bs.find_all('script')[-2].get(\"type\") == \"application/json\""
   ]
  },
  {
   "cell_type": "code",
   "execution_count": null,
   "metadata": {
    "collapsed": true
   },
   "outputs": [],
   "source": []
  },
  {
   "cell_type": "code",
   "execution_count": 14,
   "metadata": {},
   "outputs": [
    {
     "name": "stdout",
     "output_type": "stream",
     "text": [
      "12\n"
     ]
    }
   ],
   "source": [
    "all_scrpt = bs.find_all('script')\n",
    "for scr in all_scrpt:\n",
    "    if scr.get(\"type\") == \"application/json\":\n",
    "        print(all_scrpt.index(scr))\n",
    "# "
   ]
  },
  {
   "cell_type": "code",
   "execution_count": null,
   "metadata": {
    "collapsed": true
   },
   "outputs": [],
   "source": []
  },
  {
   "cell_type": "code",
   "execution_count": null,
   "metadata": {
    "collapsed": true
   },
   "outputs": [],
   "source": []
  },
  {
   "cell_type": "code",
   "execution_count": 16,
   "metadata": {
    "collapsed": true
   },
   "outputs": [],
   "source": [
    "str1 = 'остановка общественного транспорта'\n",
    "str_qt = urllib.parse.quote(str1)"
   ]
  },
  {
   "cell_type": "code",
   "execution_count": 20,
   "metadata": {
    "collapsed": true
   },
   "outputs": [],
   "source": [
    "srch = \"https://yandex.ru/maps/239/sochi/search/{}\".format(str_qt)"
   ]
  },
  {
   "cell_type": "code",
   "execution_count": null,
   "metadata": {
    "collapsed": true
   },
   "outputs": [],
   "source": []
  },
  {
   "cell_type": "code",
   "execution_count": 21,
   "metadata": {
    "scrolled": true
   },
   "outputs": [],
   "source": [
    "req = requests.get(srch)\n",
    "bs = BeautifulSoup(req.text, 'html.parser')"
   ]
  },
  {
   "cell_type": "code",
   "execution_count": null,
   "metadata": {
    "collapsed": true
   },
   "outputs": [],
   "source": []
  },
  {
   "cell_type": "code",
   "execution_count": 33,
   "metadata": {},
   "outputs": [],
   "source": [
    "all_scrpt = bs.find_all(\"script\")"
   ]
  },
  {
   "cell_type": "code",
   "execution_count": 34,
   "metadata": {},
   "outputs": [
    {
     "name": "stdout",
     "output_type": "stream",
     "text": [
      "14\n"
     ]
    }
   ],
   "source": [
    "all_scrpt = bs.find_all(\"script\")\n",
    "for scr in all_scrpt:\n",
    "    if scr.get('type') == \"application/json\":\n",
    "        print(all_scrpt.index(scr))"
   ]
  },
  {
   "cell_type": "code",
   "execution_count": null,
   "metadata": {
    "collapsed": true
   },
   "outputs": [],
   "source": []
  },
  {
   "cell_type": "code",
   "execution_count": null,
   "metadata": {},
   "outputs": [],
   "source": []
  },
  {
   "cell_type": "code",
   "execution_count": 28,
   "metadata": {},
   "outputs": [],
   "source": [
    "scr1 = all_scrpt[13].text\n",
    "js2 = json.loads(scr1)"
   ]
  },
  {
   "cell_type": "code",
   "execution_count": null,
   "metadata": {
    "collapsed": true
   },
   "outputs": [],
   "source": []
  },
  {
   "cell_type": "code",
   "execution_count": 32,
   "metadata": {},
   "outputs": [
    {
     "data": {
      "text/plain": [
       "dict_keys(['counters', 'hosts', 'locale', 'lang', 'tld', 'query', 'baseUrl', 'originalUrl', 'uatraits', 'cspNonce', 'origin', 'csrfToken', 'xscriptCsrfToken', 'isUserFromPortal', 'isUserFromGoogle', 'availableLangs', 'currencyCode', 'banner', 'staticHost', 'pageMode', 'bookmarks', 'clientErrors', 'searchResultsCount', 'enableTaxi', 'enableAvia', 'enableZapravkiPromo', 'iframeCounter', 'tnsCounter', 'cloudApi', 'blaBlaCarBanner', 'search', 'routes', 'feedback', 'font', 'advert', 'serviceName', 'bilet', 'share', 'mobile', 'servicePanel', 'apiManual', 'mapMargin', 'business', 'troubleshooting', 'passport', 'morda', 'ruler', 'ugcCabinet', 'advertLandingUrl', 'advertLandingMetroUrl', 'becomeAuthorUrl', 'becomeOwnerUrl', 'agreementUrl', 'metroAgreementUrl', 'rightHoldersUrl', 'ymapsUrlTemplate', 'mrcLandingUrl', 'reviews', 'enableRoutesB2B', 'routesB2BUrl', 'enableMobileDistribution', 'bannerLayout', 'pharmacyLinks', 'mapLocation', 'mapType', 'userRegion', 'experiments', 'layerLinks', 'layers', 'searchPreloadedResults', 'isVectorEnabled', 'bunker', 'landing', 'promo', 'mapRegion', 'direct', 'brandings', 'serverCookie', 'meta'])"
      ]
     },
     "execution_count": 32,
     "metadata": {},
     "output_type": "execute_result"
    }
   ],
   "source": [
    "js2.keys()"
   ]
  },
  {
   "cell_type": "code",
   "execution_count": null,
   "metadata": {
    "collapsed": true
   },
   "outputs": [],
   "source": []
  },
  {
   "cell_type": "code",
   "execution_count": 34,
   "metadata": {},
   "outputs": [
    {
     "data": {
      "text/plain": [
       "dict_keys(['requestId', 'requestSerpId', 'requestContext', 'requestQuery', 'requestCorrectedQuery', 'requestBounds', 'displayType', 'totalResultCount', 'requestResults', 'requestSkip', 'items', 'bounds', 'categories', 'filters', 'hasLavkaBanner'])"
      ]
     },
     "execution_count": 34,
     "metadata": {},
     "output_type": "execute_result"
    }
   ],
   "source": [
    "js2['searchPreloadedResults'].keys()"
   ]
  },
  {
   "cell_type": "code",
   "execution_count": null,
   "metadata": {
    "collapsed": true
   },
   "outputs": [],
   "source": []
  },
  {
   "cell_type": "code",
   "execution_count": 48,
   "metadata": {},
   "outputs": [
    {
     "data": {
      "text/plain": [
       "dict_keys(['type', 'requestId', 'analyticsId', 'title', 'description', 'address', 'coordinates', 'displayCoordinates', 'bounds', 'logId', 'uri', 'id', 'metro', 'stops', 'panorama', 'shortTitle', 'fullAddress', 'country', 'status', 'businessLinks', 'ratingData', 'sources', 'categories', 'businessProperties', 'modularSnippet', 'seoname', 'geoId', 'compositeAddress', 'references', 'subtitleItems', 'region', 'breadcrumbs'])"
      ]
     },
     "execution_count": 48,
     "metadata": {},
     "output_type": "execute_result"
    }
   ],
   "source": [
    "js2['searchPreloadedResults']['items'][1].keys()"
   ]
  },
  {
   "cell_type": "code",
   "execution_count": 53,
   "metadata": {},
   "outputs": [
    {
     "data": {
      "text/plain": [
       "'Россия, Краснодарский край, Сочи, улица Конституции СССР'"
      ]
     },
     "execution_count": 53,
     "metadata": {},
     "output_type": "execute_result"
    }
   ],
   "source": [
    "js2['searchPreloadedResults']['items'][1]['description']"
   ]
  },
  {
   "cell_type": "code",
   "execution_count": null,
   "metadata": {
    "collapsed": true
   },
   "outputs": [],
   "source": []
  },
  {
   "cell_type": "code",
   "execution_count": null,
   "metadata": {},
   "outputs": [],
   "source": []
  },
  {
   "cell_type": "markdown",
   "metadata": {},
   "source": [
    "# Способ поиска всех маршрутов в городе по названию"
   ]
  },
  {
   "cell_type": "code",
   "execution_count": null,
   "metadata": {},
   "outputs": [],
   "source": [
    "import pandas as pd\n",
    "import shapely\n",
    "from shapely.geometry import Point, LineString, MultiLineString"
   ]
  },
  {
   "cell_type": "code",
   "execution_count": null,
   "metadata": {},
   "outputs": [],
   "source": []
  },
  {
   "cell_type": "code",
   "execution_count": 80,
   "metadata": {},
   "outputs": [],
   "source": [
    "str_ct = 'Самара'\n",
    "str_qt = urllib.parse.quote(str_ct)\n",
    "srch_ct = \"https://yandex.ru/maps/?text={}\".format(str_qt)"
   ]
  },
  {
   "cell_type": "code",
   "execution_count": 81,
   "metadata": {},
   "outputs": [],
   "source": [
    "req = requests.get(srch_ct)\n",
    "bs = BeautifulSoup(req.text, 'html.parser')"
   ]
  },
  {
   "cell_type": "code",
   "execution_count": 83,
   "metadata": {},
   "outputs": [],
   "source": [
    "alla = bs.find_all('a')\n",
    "for aa in alla:\n",
    "    cls = aa.get(\"class\")\n",
    "    try:\n",
    "        if 'catalog-entry-point' in cls:\n",
    "            hrf = aa.get(\"href\")\n",
    "            break\n",
    "    except:\n",
    "        pass\n",
    "# \n",
    "try:\n",
    "    city_id,city_name = hrf.split(\"maps/\")[1].split(\"/catalog\")[0].split(\"/\")\n",
    "except:\n",
    "    city_id,city_name = None,None\n",
    "    print(\"Error. Not found\")\n",
    "    pass\n",
    "#\n"
   ]
  },
  {
   "cell_type": "code",
   "execution_count": 85,
   "metadata": {},
   "outputs": [],
   "source": [
    "lnk_tp = \"https://yandex.ru/maps/\"+ str(city_id) + \"/\" + str(city_name) + \"/transport\""
   ]
  },
  {
   "cell_type": "code",
   "execution_count": 96,
   "metadata": {},
   "outputs": [],
   "source": [
    "def find_js(lnk):\n",
    "    req = requests.get(lnk)\n",
    "    bs = BeautifulSoup(req.text, 'html.parser')\n",
    "    all_scrpt = bs.find_all(\"script\")\n",
    "    for scr in all_scrpt:\n",
    "        if scr.get('type') == \"application/json\":\n",
    "            sc_ind = all_scrpt.index(scr)\n",
    "            break\n",
    "    # \n",
    "    scrp_txt = all_scrpt[sc_ind].text\n",
    "    js = json.loads(scrp_txt)\n",
    "    \n",
    "    return js"
   ]
  },
  {
   "cell_type": "code",
   "execution_count": 105,
   "metadata": {},
   "outputs": [],
   "source": [
    "js_tp = find_js(lnk_tp)"
   ]
  },
  {
   "cell_type": "code",
   "execution_count": null,
   "metadata": {},
   "outputs": [],
   "source": []
  },
  {
   "cell_type": "code",
   "execution_count": null,
   "metadata": {},
   "outputs": [],
   "source": [
    "link"
   ]
  },
  {
   "cell_type": "code",
   "execution_count": 379,
   "metadata": {},
   "outputs": [],
   "source": [
    "req = requests.get(lnk_tp)\n",
    "bs = BeautifulSoup(req.text, 'html.parser')\n",
    "lst_srp = bs.find_all('script')"
   ]
  },
  {
   "cell_type": "code",
   "execution_count": null,
   "metadata": {},
   "outputs": [],
   "source": []
  },
  {
   "cell_type": "code",
   "execution_count": 384,
   "metadata": {},
   "outputs": [
    {
     "data": {
      "text/plain": [
       "<script type=\"application/ld+json\">{\"@context\":\"http://schema.org\",\"@type\":\"BreadcrumbList\",\"itemListElement\":[{\"@type\":\"ListItem\",\"position\":1,\"item\":{\"@id\":\"https://yandex.ru/maps/\",\"name\":\"Карты\"}},{\"@type\":\"ListItem\",\"position\":2,\"item\":{\"@id\":\"https://yandex.ru/maps/51/samara/\",\"name\":\"Самара\"}}]}</script>"
      ]
     },
     "execution_count": 384,
     "metadata": {},
     "output_type": "execute_result"
    }
   ],
   "source": [
    "lst_srp[11]"
   ]
  },
  {
   "cell_type": "code",
   "execution_count": null,
   "metadata": {},
   "outputs": [],
   "source": []
  },
  {
   "cell_type": "code",
   "execution_count": null,
   "metadata": {},
   "outputs": [],
   "source": []
  },
  {
   "cell_type": "code",
   "execution_count": 387,
   "metadata": {},
   "outputs": [],
   "source": [
    "lst_lineid = []\n",
    "lst_tpts = []\n",
    "lst_names = []\n",
    "lst_rts = []\n",
    "i=0\n",
    "for i in range(len(js_tp['vehicles'])):\n",
    "    one_lst = []\n",
    "    try:\n",
    "        meta_veh = js_tp['vehicles'][i]['properties']['VehicleMetaData']['Transport']\n",
    "        lineid = meta_veh['lineId']\n",
    "        if lineid not in lst_lineid:\n",
    "            lst_lineid.append(lineid)\n",
    "            one_lst.append(lineid)\n",
    "            answ_line = 1\n",
    "        else:\n",
    "            answ_line = 0\n",
    "        try:\n",
    "            transp_type = meta_veh['type']\n",
    "            name_rt = meta_veh['name']\n",
    "        except:\n",
    "            transp_type,name_rt = None,None\n",
    "        if answ_line == 1:\n",
    "            lst_tpts.append(transp_type)\n",
    "            lst_names.append(name_rt)\n",
    "            one_lst.append(name_rt)\n",
    "            one_lst.append(transp_type)\n",
    "        #\n",
    "        if one_lst != []:\n",
    "            lst_rts.append(one_lst)\n",
    "    except:\n",
    "        pass\n",
    "# "
   ]
  },
  {
   "cell_type": "code",
   "execution_count": null,
   "metadata": {},
   "outputs": [],
   "source": []
  },
  {
   "cell_type": "code",
   "execution_count": 390,
   "metadata": {},
   "outputs": [
    {
     "data": {
      "text/plain": [
       "'2193179075'"
      ]
     },
     "execution_count": 390,
     "metadata": {},
     "output_type": "execute_result"
    }
   ],
   "source": [
    "lst_rts[0][0]"
   ]
  },
  {
   "cell_type": "code",
   "execution_count": null,
   "metadata": {},
   "outputs": [],
   "source": []
  },
  {
   "cell_type": "code",
   "execution_count": 277,
   "metadata": {},
   "outputs": [],
   "source": [
    "dct_lnks = {}\n",
    "i=0\n",
    "# for i in range(len(lst_rts)):\n",
    "for i in range(5):\n",
    "#     lnkid = lst_rts[i][0]\n",
    "    lnkid = lst_lineid[i]\n",
    "    lnk_rt = 'https://yandex.ru/maps/{}/{}/routes/{}'.format(city_id, city_name, lnkid)\n",
    "    js_rt = find_js(lnk_rt)\n",
    "    dct_lnks[lnkid] = js_rt['masstransitLine']['features']\n",
    "# "
   ]
  },
  {
   "cell_type": "code",
   "execution_count": null,
   "metadata": {},
   "outputs": [],
   "source": []
  },
  {
   "cell_type": "code",
   "execution_count": 377,
   "metadata": {},
   "outputs": [
    {
     "data": {
      "text/plain": [
       "{'title': 'Трамвай 20: маршрут, остановки и расписание в Самаре',\n",
       " 'breadcrumbs': [{'name': 'Карты',\n",
       "   'type': 'root',\n",
       "   'url': 'https://yandex.ru/maps/'},\n",
       "  {'name': 'Самара',\n",
       "   'type': 'region',\n",
       "   'url': 'https://yandex.ru/maps/51/samara/',\n",
       "   'region': {'center': [50.101783, 53.195538], 'zoom': 12}},\n",
       "  {'name': 'Общественный транспорт',\n",
       "   'type': 'masstransit-home',\n",
       "   'url': 'https://yandex.ru/maps/51/samara/transport/'},\n",
       "  {'name': 'Трамваи',\n",
       "   'type': 'masstransit-list',\n",
       "   'url': 'https://yandex.ru/maps/51/samara/transport/trams/',\n",
       "   'vehicleType': 'tramway'},\n",
       "  {'name': 'Трамвай 20',\n",
       "   'type': 'search',\n",
       "   'url': 'https://yandex.ru/maps/51/samara/routes/tramway_20/796d617073626d313a2f2f7472616e7369742f6c696e653f69643d32313933313739343031266c6c3d35302e31353030313025324335332e323132353431266e616d653d323026723d3532363426747970653d7472616d776179/',\n",
       "   'currentPage': True}]}"
      ]
     },
     "execution_count": 377,
     "metadata": {},
     "output_type": "execute_result"
    }
   ],
   "source": [
    "js_rt['meta']"
   ]
  },
  {
   "cell_type": "code",
   "execution_count": null,
   "metadata": {},
   "outputs": [],
   "source": []
  },
  {
   "cell_type": "code",
   "execution_count": null,
   "metadata": {},
   "outputs": [],
   "source": []
  },
  {
   "cell_type": "code",
   "execution_count": 373,
   "metadata": {},
   "outputs": [
    {
     "name": "stdout",
     "output_type": "stream",
     "text": [
      "2193179075\n"
     ]
    }
   ],
   "source": [
    "# cnt=1\n",
    "# for elem in dct_lnks:\n",
    "#     cnt+=1\n",
    "#     print(elem)\n",
    "#     if cnt==2:\n",
    "#         break"
   ]
  },
  {
   "cell_type": "code",
   "execution_count": null,
   "metadata": {},
   "outputs": [],
   "source": []
  },
  {
   "cell_type": "code",
   "execution_count": null,
   "metadata": {},
   "outputs": [],
   "source": [
    "# def get_rt_data(one_rt,rt_id):\n",
    "## one_rt = dct_lnks[elem]\n",
    "## rt_id = elem\n",
    "\n",
    "data_frw = get_dir_data(one_rt[0])\n",
    "stp_frw = one_rt[0]['properties']['ThreadMetaData']['EssentialStops'][0]['name']\n",
    "stp_bckw = one_rt[0]['properties']['ThreadMetaData']['EssentialStops'][1]['name']\n",
    "str_rt_nm = str(stp_frw) + \"_\" str(stp_bckw)\n",
    "\n",
    "if len(one_rt) == 2:\n",
    "    data_bcw = get_dir_data(one_rt[1])\n",
    "    is_circle = False\n",
    "    \n",
    "else:\n",
    "    is_circle = True\n",
    "    \n",
    "# "
   ]
  },
  {
   "cell_type": "code",
   "execution_count": 374,
   "metadata": {},
   "outputs": [
    {
     "ename": "AttributeError",
     "evalue": "'list' object has no attribute 'keys'",
     "output_type": "error",
     "traceback": [
      "\u001b[1;31m---------------------------------------------------------------------------\u001b[0m",
      "\u001b[1;31mAttributeError\u001b[0m                            Traceback (most recent call last)",
      "\u001b[1;32m<ipython-input-374-eef5413ba914>\u001b[0m in \u001b[0;36m<module>\u001b[1;34m\u001b[0m\n\u001b[1;32m----> 1\u001b[1;33m \u001b[0mone_rt\u001b[0m\u001b[1;33m.\u001b[0m\u001b[0mkeys\u001b[0m\u001b[1;33m(\u001b[0m\u001b[1;33m)\u001b[0m\u001b[1;33m\u001b[0m\u001b[1;33m\u001b[0m\u001b[0m\n\u001b[0m",
      "\u001b[1;31mAttributeError\u001b[0m: 'list' object has no attribute 'keys'"
     ]
    }
   ],
   "source": [
    "one_rt.keys()"
   ]
  },
  {
   "cell_type": "code",
   "execution_count": null,
   "metadata": {},
   "outputs": [],
   "source": []
  },
  {
   "cell_type": "code",
   "execution_count": 364,
   "metadata": {},
   "outputs": [],
   "source": [
    "one_rt = dct_lnks['2193179075']"
   ]
  },
  {
   "cell_type": "code",
   "execution_count": 372,
   "metadata": {},
   "outputs": [
    {
     "data": {
      "text/plain": [
       "'Овощная база'"
      ]
     },
     "execution_count": 372,
     "metadata": {},
     "output_type": "execute_result"
    }
   ],
   "source": [
    "one_rt[0]['properties']['ThreadMetaData']['EssentialStops'][0]['name']"
   ]
  },
  {
   "cell_type": "code",
   "execution_count": null,
   "metadata": {},
   "outputs": [],
   "source": []
  },
  {
   "cell_type": "code",
   "execution_count": 369,
   "metadata": {},
   "outputs": [
    {
     "data": {
      "text/plain": [
       "{'features': [{'id': 'stop__10002140',\n",
       "   'coordinates': [50.2948622, 53.253455],\n",
       "   'name': 'Овощная база',\n",
       "   'region': {'id': 51,\n",
       "    'hierarchy': [225, 11131, 51],\n",
       "    'seoname': 'samara',\n",
       "    'bounds': [[49.772227, 52.96536237206464],\n",
       "     [50.431338999999994, 53.42448437206464]]}},\n",
       "  {'points': [[50.294937, 53.253422],\n",
       "    [50.294779, 53.253065],\n",
       "    [50.294661999999995, 53.252776999999995],\n",
       "    [50.294615, 53.252646],\n",
       "    [50.294494, 53.252264],\n",
       "    [50.294461999999996, 53.252168999999995],\n",
       "    [50.29445, 53.252061999999995],\n",
       "    [50.294453, 53.252002],\n",
       "    [50.294475999999996, 53.251912999999995],\n",
       "    [50.294497, 53.251855],\n",
       "    [50.294602, 53.251692],\n",
       "    [50.294837, 53.251368],\n",
       "    [50.294886, 53.251279999999994],\n",
       "    [50.29492, 53.251219999999996],\n",
       "    [50.294940999999994, 53.251169],\n",
       "    [50.294954999999995, 53.251118],\n",
       "    [50.294965, 53.251068],\n",
       "    [50.294954999999995, 53.251014999999995],\n",
       "    [50.294928999999996, 53.250969],\n",
       "    [50.294897999999996, 53.250929],\n",
       "    [50.294858999999995, 53.250885],\n",
       "    [50.294807999999996, 53.250847],\n",
       "    [50.294554, 53.250654999999995],\n",
       "    [50.294523, 53.250634],\n",
       "    [50.29446, 53.250577],\n",
       "    [50.294387, 53.250501],\n",
       "    [50.29432, 53.250423999999995],\n",
       "    [50.294259999999994, 53.250324],\n",
       "    [50.294067, 53.249880999999995],\n",
       "    [50.293946, 53.249604]]},\n",
       "  {'id': 'stop__10110580',\n",
       "   'coordinates': [50.293806167, 53.249625961],\n",
       "   'name': 'Олимпийская улица, 65',\n",
       "   'region': {'id': 51,\n",
       "    'hierarchy': [225, 11131, 51],\n",
       "    'seoname': 'samara',\n",
       "    'bounds': [[49.772227, 52.96536237206464],\n",
       "     [50.431338999999994, 53.42448437206464]]}},\n",
       "  {'points': [[50.293946, 53.249604],\n",
       "    [50.293870999999996, 53.249432],\n",
       "    [50.293783, 53.24923],\n",
       "    [50.293648, 53.248909999999995],\n",
       "    [50.293414, 53.248357],\n",
       "    [50.293043, 53.247518],\n",
       "    [50.293028, 53.247484],\n",
       "    [50.292652, 53.246615],\n",
       "    [50.292505999999996, 53.246283999999996],\n",
       "    [50.292488, 53.246241999999995],\n",
       "    [50.292345, 53.245934999999996],\n",
       "    [50.292311, 53.245864],\n",
       "    [50.292217, 53.245669],\n",
       "    [50.292099, 53.245408999999995],\n",
       "    [50.292037, 53.245270999999995],\n",
       "    [50.292026, 53.245245999999995],\n",
       "    [50.29197, 53.245096],\n",
       "    [50.291948999999995, 53.245042999999995],\n",
       "    [50.291927, 53.244989],\n",
       "    [50.291919, 53.244968],\n",
       "    [50.291829, 53.244755],\n",
       "    [50.291757999999994, 53.244599],\n",
       "    [50.291641, 53.244364999999995],\n",
       "    [50.291585, 53.244268],\n",
       "    [50.291284, 53.243786],\n",
       "    [50.290853999999996, 53.243106999999995],\n",
       "    [50.290808999999996, 53.243033999999994],\n",
       "    [50.290746, 53.242929999999994],\n",
       "    [50.290651999999994, 53.242779],\n",
       "    [50.290606999999994, 53.242703999999996]]},\n",
       "  {'id': 'stop__10110582',\n",
       "   'coordinates': [50.2905097, 53.2427256],\n",
       "   'name': 'СУМР-4',\n",
       "   'region': {'id': 51,\n",
       "    'hierarchy': [225, 11131, 51],\n",
       "    'seoname': 'samara',\n",
       "    'bounds': [[49.772227, 52.96536237206464],\n",
       "     [50.431338999999994, 53.42448437206464]]}},\n",
       "  {'points': [[50.290606999999994, 53.242703999999996],\n",
       "    [50.289995, 53.241699],\n",
       "    [50.28975, 53.241288],\n",
       "    [50.289532, 53.240928],\n",
       "    [50.289255, 53.240443],\n",
       "    [50.289068, 53.240128999999996],\n",
       "    [50.288999999999994, 53.240013999999995],\n",
       "    [50.288944, 53.239922],\n",
       "    [50.288807, 53.239701],\n",
       "    [50.288675, 53.239484999999995],\n",
       "    [50.288579, 53.239329999999995],\n",
       "    [50.288519, 53.239231],\n",
       "    [50.288382999999996, 53.23901],\n",
       "    [50.288232, 53.238766],\n",
       "    [50.288153, 53.238637],\n",
       "    [50.288081, 53.238519],\n",
       "    [50.287949, 53.238305],\n",
       "    [50.287831999999995, 53.238113999999996],\n",
       "    [50.287155, 53.238264]]},\n",
       "  {'id': 'stop__10002143',\n",
       "   'coordinates': [50.2871911, 53.2383221],\n",
       "   'name': 'Олимпийская улица',\n",
       "   'region': {'id': 51,\n",
       "    'hierarchy': [225, 11131, 51],\n",
       "    'seoname': 'samara',\n",
       "    'bounds': [[49.772227, 52.96536237206464],\n",
       "     [50.431338999999994, 53.42448437206464]]}},\n",
       "  {'points': [[50.287155, 53.238264],\n",
       "    [50.286246, 53.238465],\n",
       "    [50.285028, 53.238734],\n",
       "    [50.28476, 53.238793]]},\n",
       "  {'id': 'stop__10002144',\n",
       "   'coordinates': [50.2847985, 53.2388563],\n",
       "   'name': 'Улица Свободы',\n",
       "   'region': {'id': 51,\n",
       "    'hierarchy': [225, 11131, 51],\n",
       "    'seoname': 'samara',\n",
       "    'bounds': [[49.772227, 52.96536237206464],\n",
       "     [50.431338999999994, 53.42448437206464]]}},\n",
       "  {'points': [[50.28476, 53.238793],\n",
       "    [50.284565, 53.238836],\n",
       "    [50.284408, 53.238868],\n",
       "    [50.284231999999996, 53.238904],\n",
       "    [50.283038, 53.239166999999995],\n",
       "    [50.282719, 53.239238],\n",
       "    [50.282602, 53.239266],\n",
       "    [50.282441, 53.239303],\n",
       "    [50.280538, 53.239719],\n",
       "    [50.280387999999995, 53.239756],\n",
       "    [50.280166, 53.239805],\n",
       "    [50.279934999999995, 53.239853],\n",
       "    [50.279866999999996, 53.239771],\n",
       "    [50.279821999999996, 53.239695999999995],\n",
       "    [50.279064999999996, 53.238426999999994],\n",
       "    [50.278774999999996, 53.237939],\n",
       "    [50.278726999999996, 53.23786],\n",
       "    [50.278676, 53.237776],\n",
       "    [50.278285, 53.23713],\n",
       "    [50.278158999999995, 53.236922],\n",
       "    [50.278119, 53.236855999999996]]},\n",
       "  {'id': 'stop__10001494',\n",
       "   'coordinates': [50.278005218, 53.236880149],\n",
       "   'name': 'Дом одежды',\n",
       "   'region': {'id': 51,\n",
       "    'hierarchy': [225, 11131, 51],\n",
       "    'seoname': 'samara',\n",
       "    'bounds': [[49.772227, 52.96536237206464],\n",
       "     [50.431338999999994, 53.42448437206464]]}},\n",
       "  {'points': [[50.278119, 53.236855999999996],\n",
       "    [50.278017999999996, 53.236689],\n",
       "    [50.277609, 53.236014999999995],\n",
       "    [50.277536999999995, 53.235898999999996],\n",
       "    [50.277477, 53.2358],\n",
       "    [50.277166, 53.235296999999996],\n",
       "    [50.276396, 53.234052],\n",
       "    [50.276106, 53.233584],\n",
       "    [50.276042, 53.23348],\n",
       "    [50.275912999999996, 53.233289]]},\n",
       "  {'id': 'stop__10001493',\n",
       "   'coordinates': [50.27570528, 53.23333868],\n",
       "   'name': 'Площадь имени П.П. Мочалова',\n",
       "   'region': {'id': 51,\n",
       "    'hierarchy': [225, 11131, 51],\n",
       "    'seoname': 'samara',\n",
       "    'bounds': [[49.772227, 52.96536237206464],\n",
       "     [50.431338999999994, 53.42448437206464]]}},\n",
       "  {'points': [[50.275912999999996, 53.233289],\n",
       "    [50.275824, 53.233156],\n",
       "    [50.275802, 53.233135999999995],\n",
       "    [50.275786, 53.233114],\n",
       "    [50.275544, 53.232859],\n",
       "    [50.275510999999995, 53.232844],\n",
       "    [50.275365, 53.232777],\n",
       "    [50.274266999999995, 53.232279],\n",
       "    [50.273789, 53.232057],\n",
       "    [50.272532, 53.231482],\n",
       "    [50.271792999999995, 53.231145],\n",
       "    [50.271664, 53.231086],\n",
       "    [50.271530999999996, 53.231026],\n",
       "    [50.271291, 53.230916]]},\n",
       "  {'id': 'stop__10001490',\n",
       "   'coordinates': [50.271155225, 53.231021741],\n",
       "   'name': 'Пугачёвская улица',\n",
       "   'region': {'id': 51,\n",
       "    'hierarchy': [225, 11131, 51],\n",
       "    'seoname': 'samara',\n",
       "    'bounds': [[49.772227, 52.96536237206464],\n",
       "     [50.431338999999994, 53.42448437206464]]}},\n",
       "  {'points': [[50.271291, 53.230916],\n",
       "    [50.27023, 53.230429],\n",
       "    [50.269695, 53.230187],\n",
       "    [50.269455, 53.230067999999996],\n",
       "    [50.268814, 53.229769],\n",
       "    [50.268107, 53.22944],\n",
       "    [50.268026, 53.229402],\n",
       "    [50.26771, 53.229253],\n",
       "    [50.267579, 53.229194],\n",
       "    [50.267455, 53.229133999999995],\n",
       "    [50.267303999999996, 53.229065999999996],\n",
       "    [50.266895, 53.22888],\n",
       "    [50.266732999999995, 53.228806999999996]]},\n",
       "  {'id': 'stop__10001489',\n",
       "   'coordinates': [50.266620541, 53.228896718],\n",
       "   'name': 'Советская улица',\n",
       "   'region': {'id': 51,\n",
       "    'hierarchy': [225, 11131, 51],\n",
       "    'seoname': 'samara',\n",
       "    'bounds': [[49.772227, 52.96536237206464],\n",
       "     [50.431338999999994, 53.42448437206464]]}},\n",
       "  {'points': [[50.266732999999995, 53.228806999999996],\n",
       "    [50.266016, 53.228483],\n",
       "    [50.265710999999996, 53.228345],\n",
       "    [50.265235, 53.228128999999996],\n",
       "    [50.265117, 53.228075999999994],\n",
       "    [50.265018999999995, 53.228032],\n",
       "    [50.264016, 53.227587],\n",
       "    [50.263188, 53.227219],\n",
       "    [50.263098, 53.227177],\n",
       "    [50.263008, 53.227134],\n",
       "    [50.261219, 53.226316],\n",
       "    [50.261063, 53.226245]]},\n",
       "  {'id': 'stop__10001486',\n",
       "   'coordinates': [50.260969023, 53.22631827],\n",
       "   'name': 'Севастопольская улица',\n",
       "   'region': {'id': 51,\n",
       "    'hierarchy': [225, 11131, 51],\n",
       "    'seoname': 'samara',\n",
       "    'bounds': [[49.772227, 52.96536237206464],\n",
       "     [50.431338999999994, 53.42448437206464]]}},\n",
       "  {'points': [[50.261063, 53.226245],\n",
       "    [50.260934, 53.226186],\n",
       "    [50.260815, 53.226129],\n",
       "    [50.26068, 53.226065],\n",
       "    [50.260396, 53.225939],\n",
       "    [50.259364999999995, 53.225480999999995],\n",
       "    [50.258981999999996, 53.225311],\n",
       "    [50.25879, 53.225226],\n",
       "    [50.25794, 53.225885999999996],\n",
       "    [50.257735999999994, 53.226048],\n",
       "    [50.257602999999996, 53.225986],\n",
       "    [50.257227, 53.225811],\n",
       "    [50.256122999999995, 53.2253],\n",
       "    [50.255783, 53.225141],\n",
       "    [50.255677, 53.225093],\n",
       "    [50.255494, 53.22501],\n",
       "    [50.255291, 53.224919],\n",
       "    [50.254956, 53.224768],\n",
       "    [50.254525, 53.224574999999994],\n",
       "    [50.254306, 53.224478]]},\n",
       "  {'id': 'stop__10001498',\n",
       "   'coordinates': [50.254217736, 53.224548527],\n",
       "   'name': 'Проспект Кирова / Вольская улица',\n",
       "   'region': {'id': 51,\n",
       "    'hierarchy': [225, 11131, 51],\n",
       "    'seoname': 'samara',\n",
       "    'bounds': [[49.772227, 52.96536237206464],\n",
       "     [50.431338999999994, 53.42448437206464]]}},\n",
       "  {'points': [[50.254306, 53.224478],\n",
       "    [50.253637999999995, 53.224179],\n",
       "    [50.253538999999996, 53.224134],\n",
       "    [50.253338, 53.224044],\n",
       "    [50.253205, 53.223985],\n",
       "    [50.253091, 53.223932],\n",
       "    [50.252074, 53.223462999999995],\n",
       "    [50.250927999999995, 53.222949],\n",
       "    [50.249869, 53.222452999999994],\n",
       "    [50.249497, 53.222282]]},\n",
       "  {'id': 'stop__10001501',\n",
       "   'coordinates': [50.249409886, 53.22235],\n",
       "   'name': 'Воронежская улица',\n",
       "   'region': {'id': 51,\n",
       "    'hierarchy': [225, 11131, 51],\n",
       "    'seoname': 'samara',\n",
       "    'bounds': [[49.772227, 52.96536237206464],\n",
       "     [50.431338999999994, 53.42448437206464]]}},\n",
       "  {'points': [[50.249497, 53.222282],\n",
       "    [50.24887, 53.221995],\n",
       "    [50.248759, 53.221945999999996],\n",
       "    [50.248656999999994, 53.221897999999996],\n",
       "    [50.24745, 53.221346999999994],\n",
       "    [50.246879, 53.221087],\n",
       "    [50.246728999999995, 53.221019],\n",
       "    [50.246572, 53.220946],\n",
       "    [50.244797, 53.220129],\n",
       "    [50.24317, 53.219378],\n",
       "    [50.242542, 53.219089]]},\n",
       "  {'id': 'stop__10001502',\n",
       "   'coordinates': [50.242458895, 53.219153427],\n",
       "   'name': 'Ново-Вокзальная улица',\n",
       "   'region': {'id': 51,\n",
       "    'hierarchy': [225, 11131, 51],\n",
       "    'seoname': 'samara',\n",
       "    'bounds': [[49.772227, 52.96536237206464],\n",
       "     [50.431338999999994, 53.42448437206464]]}},\n",
       "  {'points': [[50.242542, 53.219089],\n",
       "    [50.241611, 53.218658999999995],\n",
       "    [50.241504, 53.21861],\n",
       "    [50.241405, 53.218564],\n",
       "    [50.241084, 53.218427999999996],\n",
       "    [50.240983, 53.218381],\n",
       "    [50.240421999999995, 53.218126999999996],\n",
       "    [50.239283, 53.21761],\n",
       "    [50.238447, 53.21723],\n",
       "    [50.237674999999996, 53.216879]]},\n",
       "  {'id': 'stop__10001505',\n",
       "   'coordinates': [50.237582637, 53.216952638],\n",
       "   'name': 'Улица Александра Матросова',\n",
       "   'region': {'id': 51,\n",
       "    'hierarchy': [225, 11131, 51],\n",
       "    'seoname': 'samara',\n",
       "    'bounds': [[49.772227, 52.96536237206464],\n",
       "     [50.431338999999994, 53.42448437206464]]}},\n",
       "  {'points': [[50.237674999999996, 53.216879],\n",
       "    [50.236706999999996, 53.21644],\n",
       "    [50.236529999999995, 53.216358],\n",
       "    [50.236329, 53.216265],\n",
       "    [50.235983999999995, 53.216103999999994],\n",
       "    [50.235003, 53.215649],\n",
       "    [50.234618, 53.215469999999996],\n",
       "    [50.234327, 53.215334999999996],\n",
       "    [50.233495999999995, 53.214956],\n",
       "    [50.232482, 53.214493],\n",
       "    [50.232161, 53.214347],\n",
       "    [50.232, 53.214272],\n",
       "    [50.231865, 53.214211999999996],\n",
       "    [50.230067999999996, 53.213401],\n",
       "    [50.229371, 53.213086]]},\n",
       "  {'id': 'stop__10001507',\n",
       "   'coordinates': [50.229272811, 53.213164218],\n",
       "   'name': 'Улица XXII Партсъезда',\n",
       "   'region': {'id': 51,\n",
       "    'hierarchy': [225, 11131, 51],\n",
       "    'seoname': 'samara',\n",
       "    'bounds': [[49.772227, 52.96536237206464],\n",
       "     [50.431338999999994, 53.42448437206464]]}},\n",
       "  {'points': [[50.229371, 53.213086],\n",
       "    [50.228449, 53.212669999999996],\n",
       "    [50.228334, 53.212632],\n",
       "    [50.228218999999996, 53.212602999999994],\n",
       "    [50.228114, 53.212584],\n",
       "    [50.227875, 53.21255],\n",
       "    [50.227519, 53.21252],\n",
       "    [50.227325, 53.212511],\n",
       "    [50.227143, 53.212514999999996],\n",
       "    [50.226983999999995, 53.212525],\n",
       "    [50.226890999999995, 53.212533],\n",
       "    [50.226805, 53.212547],\n",
       "    [50.22672, 53.212562999999996],\n",
       "    [50.22663, 53.212585999999995],\n",
       "    [50.226482, 53.212635],\n",
       "    [50.226298, 53.2127],\n",
       "    [50.226129, 53.212759],\n",
       "    [50.225936, 53.21282],\n",
       "    [50.225666999999994, 53.212893],\n",
       "    [50.224959, 53.212877],\n",
       "    [50.224623, 53.212865],\n",
       "    [50.223189999999995, 53.21283],\n",
       "    [50.221941, 53.212799],\n",
       "    [50.221095, 53.212778]]},\n",
       "  {'id': 'stop__10001508',\n",
       "   'coordinates': [50.221085701, 53.212909872],\n",
       "   'name': 'Машиностроительный колледж',\n",
       "   'region': {'id': 51,\n",
       "    'hierarchy': [225, 11131, 51],\n",
       "    'seoname': 'samara',\n",
       "    'bounds': [[49.772227, 52.96536237206464],\n",
       "     [50.431338999999994, 53.42448437206464]]}},\n",
       "  {'points': [[50.221095, 53.212778],\n",
       "    [50.220926, 53.212773],\n",
       "    [50.220678, 53.212768],\n",
       "    [50.220380999999996, 53.212759],\n",
       "    [50.21926, 53.212727],\n",
       "    [50.218931, 53.212717],\n",
       "    [50.218416, 53.212703],\n",
       "    [50.217813, 53.21268],\n",
       "    [50.217731, 53.212677],\n",
       "    [50.216713, 53.212654],\n",
       "    [50.216463, 53.212649],\n",
       "    [50.215596999999995, 53.21262],\n",
       "    [50.215511, 53.212613999999995],\n",
       "    [50.215489999999996, 53.212613],\n",
       "    [50.215346999999994, 53.212602],\n",
       "    [50.215202, 53.212588]]},\n",
       "  {'id': 'stop__10001510',\n",
       "   'coordinates': [50.21516666, 53.212717518],\n",
       "   'name': 'Улица Советской Армии',\n",
       "   'region': {'id': 51,\n",
       "    'hierarchy': [225, 11131, 51],\n",
       "    'seoname': 'samara',\n",
       "    'bounds': [[49.772227, 52.96536237206464],\n",
       "     [50.431338999999994, 53.42448437206464]]}},\n",
       "  {'points': [[50.215202, 53.212588],\n",
       "    [50.215176, 53.212585],\n",
       "    [50.214957999999996, 53.212556],\n",
       "    [50.214729999999996, 53.21252],\n",
       "    [50.214448, 53.212469999999996],\n",
       "    [50.214289, 53.212452],\n",
       "    [50.214199, 53.212447999999995],\n",
       "    [50.214112, 53.212449],\n",
       "    [50.214040999999995, 53.212455],\n",
       "    [50.213986999999996, 53.212464],\n",
       "    [50.213930999999995, 53.21248],\n",
       "    [50.213868999999995, 53.212502],\n",
       "    [50.213812999999995, 53.212533],\n",
       "    [50.213753999999994, 53.212571],\n",
       "    [50.213713, 53.212619],\n",
       "    [50.213671999999995, 53.212658],\n",
       "    [50.213626999999995, 53.212691],\n",
       "    [50.213567999999995, 53.212727],\n",
       "    [50.213508, 53.212751],\n",
       "    [50.213432999999995, 53.212771],\n",
       "    [50.213342, 53.212787],\n",
       "    [50.213224999999994, 53.212796999999995],\n",
       "    [50.213102, 53.212798],\n",
       "    [50.212986, 53.212796],\n",
       "    [50.212869999999995, 53.212789],\n",
       "    [50.212773, 53.212775],\n",
       "    [50.21268, 53.21275],\n",
       "    [50.212590999999996, 53.212716],\n",
       "    [50.212517, 53.212677],\n",
       "    [50.212469999999996, 53.212629],\n",
       "    [50.212436999999994, 53.212578],\n",
       "    [50.212409, 53.212523999999995],\n",
       "    [50.21234, 53.212477],\n",
       "    [50.212256, 53.212436],\n",
       "    [50.212151, 53.212396],\n",
       "    [50.211704999999995, 53.21232],\n",
       "    [50.211144, 53.212303999999996],\n",
       "    [50.210924999999996, 53.212298999999994],\n",
       "    [50.210029999999996, 53.212270999999994]]},\n",
       "  {'id': 'stop__10001512',\n",
       "   'coordinates': [50.210020883, 53.212375988],\n",
       "   'name': 'Педуниверситет',\n",
       "   'region': {'id': 51,\n",
       "    'hierarchy': [225, 11131, 51],\n",
       "    'seoname': 'samara',\n",
       "    'bounds': [[49.772227, 52.96536237206464],\n",
       "     [50.431338999999994, 53.42448437206464]]}},\n",
       "  {'points': [[50.210029999999996, 53.212270999999994],\n",
       "    [50.209865, 53.212266],\n",
       "    [50.209122, 53.212246],\n",
       "    [50.208898, 53.212239999999994],\n",
       "    [50.208577, 53.212232],\n",
       "    [50.207409, 53.212202],\n",
       "    [50.207316999999996, 53.212199],\n",
       "    [50.205068999999995, 53.212137999999996],\n",
       "    [50.204462, 53.212122],\n",
       "    [50.202963999999994, 53.212077],\n",
       "    [50.202740999999996, 53.212072],\n",
       "    [50.202579, 53.212067999999995],\n",
       "    [50.201747999999995, 53.212042]]},\n",
       "  {'id': 'stop__10001514',\n",
       "   'coordinates': [50.201737629, 53.21216283],\n",
       "   'name': 'Улица Карбышева / Автомагазин',\n",
       "   'region': {'id': 51,\n",
       "    'hierarchy': [225, 11131, 51],\n",
       "    'seoname': 'samara',\n",
       "    'bounds': [[49.772227, 52.96536237206464],\n",
       "     [50.431338999999994, 53.42448437206464]]}},\n",
       "  {'points': [[50.201747999999995, 53.212042],\n",
       "    [50.201557, 53.212036],\n",
       "    [50.200618999999996, 53.212061999999996],\n",
       "    [50.19883, 53.212001],\n",
       "    [50.197196, 53.211954],\n",
       "    [50.195415999999994, 53.211904999999994],\n",
       "    [50.194660999999996, 53.211832],\n",
       "    [50.194463, 53.211827],\n",
       "    [50.194424999999995, 53.211825999999995]]},\n",
       "  {'id': 'stop__10001516',\n",
       "   'coordinates': [50.194415692, 53.211952534],\n",
       "   'name': 'Улица Ивана Булкина',\n",
       "   'region': {'id': 51,\n",
       "    'hierarchy': [225, 11131, 51],\n",
       "    'seoname': 'samara',\n",
       "    'bounds': [[49.772227, 52.96536237206464],\n",
       "     [50.431338999999994, 53.42448437206464]]}},\n",
       "  {'points': [[50.194424999999995, 53.211825999999995],\n",
       "    [50.193734, 53.211808999999995],\n",
       "    [50.19361, 53.211804],\n",
       "    [50.193366999999995, 53.211796],\n",
       "    [50.193141, 53.211787],\n",
       "    [50.193034999999995, 53.211785],\n",
       "    [50.192921999999996, 53.211782],\n",
       "    [50.191164, 53.211728],\n",
       "    [50.190891, 53.211738999999994],\n",
       "    [50.190742, 53.211752],\n",
       "    [50.190597, 53.211771999999996],\n",
       "    [50.190469, 53.211800999999994],\n",
       "    [50.190343999999996, 53.211839999999995],\n",
       "    [50.190228, 53.211887],\n",
       "    [50.190121, 53.211935],\n",
       "    [50.190024, 53.211988],\n",
       "    [50.189969, 53.212021],\n",
       "    [50.189912, 53.212049],\n",
       "    [50.18985, 53.212069],\n",
       "    [50.189778, 53.212084],\n",
       "    [50.189706, 53.212091],\n",
       "    [50.189631999999996, 53.212091],\n",
       "    [50.189555999999996, 53.212083],\n",
       "    [50.189488, 53.21207],\n",
       "    [50.189420999999996, 53.212047999999996],\n",
       "    [50.189361999999996, 53.212021],\n",
       "    [50.189312, 53.211987],\n",
       "    [50.18927, 53.211949],\n",
       "    [50.18924, 53.211909],\n",
       "    [50.189223, 53.211866],\n",
       "    [50.189215, 53.211821],\n",
       "    [50.189223, 53.21172],\n",
       "    [50.189242, 53.211503],\n",
       "    [50.18926, 53.211282],\n",
       "    [50.18929, 53.210741999999996],\n",
       "    [50.189293, 53.210677],\n",
       "    [50.189322999999995, 53.210217],\n",
       "    [50.189336, 53.210046999999996],\n",
       "    [50.189344, 53.209941],\n",
       "    [50.189352, 53.209846999999996]]},\n",
       "  {'id': 'stop__10001357',\n",
       "   'coordinates': [50.189240746, 53.209843953],\n",
       "   'name': 'Улица Антонова-Овсеенко',\n",
       "   'region': {'id': 51,\n",
       "    'hierarchy': [225, 11131, 51],\n",
       "    'seoname': 'samara',\n",
       "    'bounds': [[49.772227, 52.96536237206464],\n",
       "     [50.431338999999994, 53.42448437206464]]}},\n",
       "  {'points': [[50.189352, 53.209846999999996],\n",
       "    [50.189375999999996, 53.209571999999994],\n",
       "    [50.189422, 53.209030999999996],\n",
       "    [50.189446, 53.208752999999994],\n",
       "    [50.189543, 53.207612999999995],\n",
       "    [50.189549, 53.207536],\n",
       "    [50.189643, 53.20619],\n",
       "    [50.189659, 53.205962],\n",
       "    [50.189664, 53.205892999999996],\n",
       "    [50.189671999999995, 53.205752],\n",
       "    [50.189679, 53.205619],\n",
       "    [50.189682, 53.205568],\n",
       "    [50.189704, 53.205138],\n",
       "    [50.189709, 53.20507],\n",
       "    [50.189713999999995, 53.205003]]},\n",
       "  {'id': 'stop__10001358',\n",
       "   'coordinates': [50.189595015, 53.205000325],\n",
       "   'name': 'Улица Дыбенко',\n",
       "   'region': {'id': 51,\n",
       "    'hierarchy': [225, 11131, 51],\n",
       "    'seoname': 'samara',\n",
       "    'bounds': [[49.772227, 52.96536237206464],\n",
       "     [50.431338999999994, 53.42448437206464]]}},\n",
       "  {'points': [[50.189713999999995, 53.205003],\n",
       "    [50.18978, 53.204093],\n",
       "    [50.189788, 53.203972],\n",
       "    [50.189794, 53.203875],\n",
       "    [50.189879999999995, 53.202884999999995],\n",
       "    [50.189896999999995, 53.202672],\n",
       "    [50.189972, 53.201767999999994],\n",
       "    [50.190008999999996, 53.201077999999995],\n",
       "    [50.190011999999996, 53.20102],\n",
       "    [50.190039, 53.200742],\n",
       "    [50.189595999999995, 53.200731],\n",
       "    [50.188562999999995, 53.200700999999995]]},\n",
       "  {'id': 'stop__10001544',\n",
       "   'coordinates': [50.188555884, 53.200790267],\n",
       "   'name': 'Улица Авроры',\n",
       "   'region': {'id': 51,\n",
       "    'hierarchy': [225, 11131, 51],\n",
       "    'seoname': 'samara',\n",
       "    'bounds': [[49.772227, 52.96536237206464],\n",
       "     [50.431338999999994, 53.42448437206464]]}},\n",
       "  {'points': [[50.188562999999995, 53.200700999999995],\n",
       "    [50.186316, 53.200635999999996],\n",
       "    [50.184813999999996, 53.200593],\n",
       "    [50.184211, 53.200573999999996],\n",
       "    [50.184065999999994, 53.20057],\n",
       "    [50.183961, 53.200568],\n",
       "    [50.181714, 53.200503999999995],\n",
       "    [50.180336, 53.200464]]},\n",
       "  {'id': 'stop__10001547',\n",
       "   'coordinates': [50.1803298, 53.2005464],\n",
       "   'name': 'Революционная улица',\n",
       "   'region': {'id': 51,\n",
       "    'hierarchy': [225, 11131, 51],\n",
       "    'seoname': 'samara',\n",
       "    'bounds': [[49.772227, 52.96536237206464],\n",
       "     [50.431338999999994, 53.42448437206464]]}},\n",
       "  {'points': [[50.180336, 53.200464],\n",
       "    [50.178929, 53.200424],\n",
       "    [50.178816, 53.200421],\n",
       "    [50.178475, 53.20041],\n",
       "    [50.178363, 53.200406],\n",
       "    [50.177622, 53.200379999999996],\n",
       "    [50.175376, 53.200306999999995],\n",
       "    [50.175225999999995, 53.200302]]},\n",
       "  {'id': 'stop__10001548',\n",
       "   'coordinates': [50.1752175, 53.2003982],\n",
       "   'name': 'Метро Гагаринская',\n",
       "   'region': {'id': 51,\n",
       "    'hierarchy': [225, 11131, 51],\n",
       "    'seoname': 'samara',\n",
       "    'bounds': [[49.772227, 52.96536237206464],\n",
       "     [50.431338999999994, 53.42448437206464]]}},\n",
       "  {'points': [[50.175225999999995, 53.200302],\n",
       "    [50.175208, 53.200302],\n",
       "    [50.174323, 53.200278999999995],\n",
       "    [50.173421, 53.200255999999996],\n",
       "    [50.173030999999995, 53.200243],\n",
       "    [50.172584, 53.200232],\n",
       "    [50.171732999999996, 53.200209],\n",
       "    [50.171222, 53.200193999999996],\n",
       "    [50.171122, 53.20019],\n",
       "    [50.170866, 53.200181],\n",
       "    [50.17055, 53.200173],\n",
       "    [50.168935, 53.200129],\n",
       "    [50.167004999999996, 53.200074],\n",
       "    [50.16683, 53.200070999999994],\n",
       "    [50.166475999999996, 53.200061999999996]]},\n",
       "  {'id': 'stop__10001551',\n",
       "   'coordinates': [50.16646979, 53.200148301],\n",
       "   'name': 'Клиники Медуниверситета',\n",
       "   'region': {'id': 51,\n",
       "    'hierarchy': [225, 11131, 51],\n",
       "    'seoname': 'samara',\n",
       "    'bounds': [[49.772227, 52.96536237206464],\n",
       "     [50.431338999999994, 53.42448437206464]]}},\n",
       "  {'points': [[50.166475999999996, 53.200061999999996],\n",
       "    [50.165313999999995, 53.200030999999996],\n",
       "    [50.165073, 53.200030999999996],\n",
       "    [50.164907, 53.200036999999995],\n",
       "    [50.164777, 53.200044999999996],\n",
       "    [50.164652, 53.20006],\n",
       "    [50.164541, 53.200078],\n",
       "    [50.164434, 53.200103],\n",
       "    [50.16433, 53.200131],\n",
       "    [50.16413, 53.200162999999996],\n",
       "    [50.164032, 53.200173],\n",
       "    [50.163948999999995, 53.200178],\n",
       "    [50.163877, 53.200177],\n",
       "    [50.163807, 53.20017],\n",
       "    [50.163748, 53.200156],\n",
       "    [50.163698, 53.200137999999995],\n",
       "    [50.163661999999995, 53.200117999999996],\n",
       "    [50.163630999999995, 53.200094],\n",
       "    [50.163610999999996, 53.200063],\n",
       "    [50.163604, 53.200035],\n",
       "    [50.163605999999994, 53.200005999999995],\n",
       "    [50.163571, 53.199948],\n",
       "    [50.163536, 53.199901],\n",
       "    [50.163492, 53.199853999999995],\n",
       "    [50.163439, 53.199813999999996],\n",
       "    [50.163363999999994, 53.19977],\n",
       "    [50.163291, 53.199737],\n",
       "    [50.163215, 53.199703],\n",
       "    [50.162813, 53.199538],\n",
       "    [50.161561999999996, 53.199025999999996],\n",
       "    [50.161532, 53.199013],\n",
       "    [50.160799999999995, 53.198713999999995],\n",
       "    [50.159925, 53.198356],\n",
       "    [50.159735999999995, 53.198277999999995],\n",
       "    [50.159645999999995, 53.198242],\n",
       "    [50.158083, 53.197607],\n",
       "    [50.157894999999996, 53.197531]]},\n",
       "  {'id': 'stop__10001553',\n",
       "   'coordinates': [50.157815419, 53.197601301],\n",
       "   'name': 'Улица Тухачевского',\n",
       "   'region': {'id': 51,\n",
       "    'hierarchy': [225, 11131, 51],\n",
       "    'seoname': 'samara',\n",
       "    'bounds': [[49.772227, 52.96536237206464],\n",
       "     [50.431338999999994, 53.42448437206464]]}},\n",
       "  {'points': [[50.157894999999996, 53.197531],\n",
       "    [50.157472999999996, 53.197359999999996],\n",
       "    [50.157185999999996, 53.197246],\n",
       "    [50.157087, 53.197207],\n",
       "    [50.156825999999995, 53.197122],\n",
       "    [50.156684, 53.197072999999996],\n",
       "    [50.156512, 53.197005999999995],\n",
       "    [50.156330999999994, 53.196931],\n",
       "    [50.155125, 53.196444],\n",
       "    [50.155077, 53.196425],\n",
       "    [50.154458999999996, 53.196172999999995],\n",
       "    [50.153209, 53.195662],\n",
       "    [50.153065999999995, 53.195602],\n",
       "    [50.153, 53.19557],\n",
       "    [50.152919, 53.195530999999995],\n",
       "    [50.152798, 53.195468999999996],\n",
       "    [50.152684, 53.195403999999996],\n",
       "    [50.152581999999995, 53.195339999999995],\n",
       "    [50.152484, 53.195268999999996],\n",
       "    [50.151409, 53.194454],\n",
       "    [50.1511, 53.194221],\n",
       "    [50.151035, 53.194179],\n",
       "    [50.150965, 53.19414],\n",
       "    [50.150909, 53.194117999999996],\n",
       "    [50.150838, 53.194097],\n",
       "    [50.150762, 53.194081],\n",
       "    [50.150687999999995, 53.194072],\n",
       "    [50.150611, 53.194067999999994],\n",
       "    [50.150546999999996, 53.194067999999994],\n",
       "    [50.150478, 53.194072999999996],\n",
       "    [50.150406, 53.194086999999996],\n",
       "    [50.150330999999994, 53.194106],\n",
       "    [50.150264, 53.194131],\n",
       "    [50.150216, 53.194156],\n",
       "    [50.150144999999995, 53.194198],\n",
       "    [50.149769, 53.194461],\n",
       "    [50.149642, 53.194531],\n",
       "    [50.149549, 53.194576999999995],\n",
       "    [50.149426999999996, 53.194606],\n",
       "    [50.149404999999994, 53.194609],\n",
       "    [50.149361, 53.194615999999996],\n",
       "    [50.149297999999995, 53.194618],\n",
       "    [50.149221, 53.194612],\n",
       "    [50.149136999999996, 53.194607],\n",
       "    [50.149055, 53.194595],\n",
       "    [50.148953, 53.194579999999995],\n",
       "    [50.148871, 53.194562999999995],\n",
       "    [50.148742999999996, 53.194517999999995],\n",
       "    [50.147673999999995, 53.19406],\n",
       "    [50.147059, 53.193796999999996],\n",
       "    [50.146861, 53.193715]]},\n",
       "  {'id': 'stop__10002135',\n",
       "   'coordinates': [50.146760659, 53.193802716],\n",
       "   'name': 'Пензенская улица',\n",
       "   'region': {'id': 51,\n",
       "    'hierarchy': [225, 11131, 51],\n",
       "    'seoname': 'samara',\n",
       "    'bounds': [[49.772227, 52.96536237206464],\n",
       "     [50.431338999999994, 53.42448437206464]]}},\n",
       "  {'points': [[50.146861, 53.193715],\n",
       "    [50.146696, 53.193647],\n",
       "    [50.146401999999995, 53.193523],\n",
       "    [50.145911999999996, 53.193317],\n",
       "    [50.145796999999995, 53.193267],\n",
       "    [50.145467, 53.19313],\n",
       "    [50.144310999999995, 53.19264],\n",
       "    [50.144251, 53.192614],\n",
       "    [50.14382, 53.192432999999994],\n",
       "    [50.143398999999995, 53.192257999999995],\n",
       "    [50.142655, 53.19195],\n",
       "    [50.142337, 53.191818]]},\n",
       "  {'id': 'stop__10002136',\n",
       "   'coordinates': [50.142263225, 53.191881222],\n",
       "   'name': 'Владимирская улица',\n",
       "   'region': {'id': 51,\n",
       "    'hierarchy': [225, 11131, 51],\n",
       "    'seoname': 'samara',\n",
       "    'bounds': [[49.772227, 52.96536237206464],\n",
       "     [50.431338999999994, 53.42448437206464]]}},\n",
       "  {'points': [[50.142337, 53.191818],\n",
       "    [50.141932, 53.191649],\n",
       "    [50.141856, 53.191617],\n",
       "    [50.141694, 53.191545999999995],\n",
       "    [50.141611999999995, 53.191610999999995],\n",
       "    [50.141560999999996, 53.191652999999995],\n",
       "    [50.140535, 53.192499999999995],\n",
       "    [50.140152, 53.192817],\n",
       "    [50.140023, 53.192926],\n",
       "    [50.139948999999994, 53.192992],\n",
       "    [50.139466999999996, 53.193397999999995],\n",
       "    [50.138718999999995, 53.194022],\n",
       "    [50.138400999999995, 53.194289999999995],\n",
       "    [50.138337, 53.194345],\n",
       "    [50.137817999999996, 53.194764],\n",
       "    [50.137454999999996, 53.195085999999996],\n",
       "    [50.137389, 53.195141]]},\n",
       "  {'id': 'stop__10002147',\n",
       "   'coordinates': [50.137501785, 53.195190027],\n",
       "   'name': 'Чернореченская улица',\n",
       "   'region': {'id': 51,\n",
       "    'hierarchy': [225, 11131, 51],\n",
       "    'seoname': 'samara',\n",
       "    'bounds': [[49.772227, 52.96536237206464],\n",
       "     [50.431338999999994, 53.42448437206464]]}},\n",
       "  {'points': [[50.137389, 53.195141],\n",
       "    [50.137141, 53.195346],\n",
       "    [50.136662, 53.195747999999995],\n",
       "    [50.136623, 53.19578],\n",
       "    [50.136568999999994, 53.195825],\n",
       "    [50.136036999999995, 53.196273],\n",
       "    [50.135279999999995, 53.196884999999995],\n",
       "    [50.134876999999996, 53.197229],\n",
       "    [50.13482, 53.197277],\n",
       "    [50.134403999999996, 53.197630999999994],\n",
       "    [50.134313999999996, 53.197706999999994],\n",
       "    [50.134211, 53.19766],\n",
       "    [50.133801, 53.19746],\n",
       "    [50.133693, 53.197407]]},\n",
       "  {'id': 'stop__10001632',\n",
       "   'coordinates': [50.133619212, 53.197461488],\n",
       "   'name': 'Владимирская улица / Международный институт рынка',\n",
       "   'region': {'id': 51,\n",
       "    'hierarchy': [225, 11131, 51],\n",
       "    'seoname': 'samara',\n",
       "    'bounds': [[49.772227, 52.96536237206464],\n",
       "     [50.431338999999994, 53.42448437206464]]}},\n",
       "  {'points': [[50.133693, 53.197407],\n",
       "    [50.133267, 53.197199999999995],\n",
       "    [50.133129999999994, 53.197154999999995],\n",
       "    [50.133050999999995, 53.197131],\n",
       "    [50.132960999999995, 53.197109],\n",
       "    [50.132391999999996, 53.197005999999995],\n",
       "    [50.131975, 53.196929999999995],\n",
       "    [50.131, 53.196756],\n",
       "    [50.130584999999996, 53.196684999999995],\n",
       "    [50.129661, 53.196518],\n",
       "    [50.129203999999994, 53.196436999999996],\n",
       "    [50.129045, 53.19641],\n",
       "    [50.128858, 53.196376],\n",
       "    [50.128066, 53.196239],\n",
       "    [50.127938, 53.196217],\n",
       "    [50.127204, 53.196087],\n",
       "    [50.127027, 53.196056],\n",
       "    [50.126447, 53.195949],\n",
       "    [50.126301999999995, 53.195921],\n",
       "    [50.126044, 53.195873999999996],\n",
       "    [50.125572, 53.195775],\n",
       "    [50.125053, 53.195665999999996],\n",
       "    [50.124798, 53.195614],\n",
       "    [50.124638, 53.195544],\n",
       "    [50.12444, 53.19545],\n",
       "    [50.124157999999994, 53.195294999999994],\n",
       "    [50.123993, 53.1952],\n",
       "    [50.123906999999996, 53.195124],\n",
       "    [50.123843, 53.195049999999995],\n",
       "    [50.123706, 53.194846],\n",
       "    [50.123363, 53.194347]]},\n",
       "  {'id': 'stop__10001251',\n",
       "   'coordinates': [50.123211867, 53.194384078],\n",
       "   'name': 'Губернский рынок',\n",
       "   'region': {'id': 51,\n",
       "    'hierarchy': [225, 11131, 51],\n",
       "    'seoname': 'samara',\n",
       "    'bounds': [[49.772227, 52.96536237206464],\n",
       "     [50.431338999999994, 53.42448437206464]]}},\n",
       "  {'points': [[50.123363, 53.194347],\n",
       "    [50.122865, 53.193621],\n",
       "    [50.122839, 53.193583999999994],\n",
       "    [50.122690999999996, 53.193366],\n",
       "    [50.122437, 53.192986],\n",
       "    [50.122330999999996, 53.192873999999996],\n",
       "    [50.122246, 53.192797],\n",
       "    [50.122082999999996, 53.19256]]},\n",
       "  {'id': 'stop__10001252',\n",
       "   'coordinates': [50.1219378, 53.192596],\n",
       "   'name': 'ЦУМ Самара / Пригородный автовокзал',\n",
       "   'region': {'id': 51,\n",
       "    'hierarchy': [225, 11131, 51],\n",
       "    'seoname': 'samara',\n",
       "    'bounds': [[49.772227, 52.96536237206464],\n",
       "     [50.431338999999994, 53.42448437206464]]}},\n",
       "  {'points': [[50.122082999999996, 53.19256],\n",
       "    [50.122023999999996, 53.192476],\n",
       "    [50.121925999999995, 53.192330999999996],\n",
       "    [50.121572, 53.191804],\n",
       "    [50.12146, 53.191646999999996],\n",
       "    [50.121068, 53.191067],\n",
       "    [50.121002999999995, 53.190964],\n",
       "    [50.120945, 53.190875999999996],\n",
       "    [50.120891, 53.190796],\n",
       "    [50.120605999999995, 53.190363999999995],\n",
       "    [50.120174, 53.189727999999995],\n",
       "    [50.120106, 53.189628],\n",
       "    [50.119913, 53.189341],\n",
       "    [50.11971, 53.189043999999996],\n",
       "    [50.119664, 53.188976],\n",
       "    [50.119600999999996, 53.188879],\n",
       "    [50.119547, 53.1888],\n",
       "    [50.119519999999994, 53.188761],\n",
       "    [50.119057, 53.188074],\n",
       "    [50.119004999999994, 53.187996],\n",
       "    [50.118953, 53.18792],\n",
       "    [50.118927, 53.187881999999995]]},\n",
       "  {'id': 'stop__10001254',\n",
       "   'coordinates': [50.118758055, 53.187923483],\n",
       "   'name': 'Поликлиника / Железнодорожный вокзал',\n",
       "   'region': {'id': 51,\n",
       "    'hierarchy': [225, 11131, 51],\n",
       "    'seoname': 'samara',\n",
       "    'bounds': [[49.772227, 52.96536237206464],\n",
       "     [50.431338999999994, 53.42448437206464]]}},\n",
       "  {'points': [[50.118927, 53.187881999999995],\n",
       "    [50.118761, 53.187636999999995],\n",
       "    [50.118480999999996, 53.187221],\n",
       "    [50.118348, 53.187022999999996],\n",
       "    [50.118336, 53.186993],\n",
       "    [50.118331999999995, 53.186963],\n",
       "    [50.118336, 53.186932],\n",
       "    [50.118348, 53.186901999999996],\n",
       "    [50.118369, 53.186873999999996],\n",
       "    [50.118396999999995, 53.186848999999995],\n",
       "    [50.118431, 53.186825999999996],\n",
       "    [50.118471, 53.186806999999995],\n",
       "    [50.118516, 53.186792999999994],\n",
       "    [50.118573999999995, 53.186777],\n",
       "    [50.118741, 53.186777],\n",
       "    [50.119139, 53.186775999999995]]},\n",
       "  {'id': 'stop__10001256',\n",
       "   'coordinates': [50.119139105, 53.186703194],\n",
       "   'name': 'Железнодорожный вокзал',\n",
       "   'region': {'id': 51,\n",
       "    'hierarchy': [225, 11131, 51],\n",
       "    'seoname': 'samara',\n",
       "    'bounds': [[49.772227, 52.96536237206464],\n",
       "     [50.431338999999994, 53.42448437206464]]}}],\n",
       " 'properties': {'ThreadMetaData': {'id': '2193179214',\n",
       "   'lineId': '2193179075',\n",
       "   'name': '99',\n",
       "   'type': 'minibus',\n",
       "   'Types': ['minibus'],\n",
       "   'EssentialStops': [{'id': 'stop__10002140', 'name': 'Овощная база'},\n",
       "    {'id': 'stop__10001256', 'name': 'Железнодорожный вокзал'}],\n",
       "   'uri': 'ymapsbm1://transit/line?id=2193179075&ll=50.206932%2C53.220111&name=99&r=6935&type=minibus',\n",
       "   'seoname': '99',\n",
       "   'breadcrumbs': [{'name': 'Карты',\n",
       "     'type': 'root',\n",
       "     'url': 'https://yandex.ru/maps/'},\n",
       "    {'name': 'Самара',\n",
       "     'type': 'region',\n",
       "     'url': 'https://yandex.ru/maps/51/samara/',\n",
       "     'region': {'center': [50.101783, 53.195538], 'zoom': 12}},\n",
       "    {'name': 'Общественный транспорт',\n",
       "     'type': 'masstransit-home',\n",
       "     'url': 'https://yandex.ru/maps/51/samara/transport/'},\n",
       "    {'name': 'Маршрутка 99',\n",
       "     'type': 'search',\n",
       "     'url': 'https://yandex.ru/maps/51/samara/routes/minibus_99/796d617073626d313a2f2f7472616e7369742f6c696e653f69643d32313933313739303735266c6c3d35302e32303639333225324335332e323230313131266e616d653d393926723d3639333526747970653d6d696e69627573/',\n",
       "     'currentPage': True}]},\n",
       "  'boundedBy': [[50.118331545, 53.1867756169], [50.294964788, 53.253455]]},\n",
       " 'MapsUIMetaData': {'Region': [{'id': 51,\n",
       "    'type': 6,\n",
       "    'parent_id': 120861,\n",
       "    'capital_id': 0,\n",
       "    'geo_parent_id': 0,\n",
       "    'city_id': 51,\n",
       "    'name': 'Самара',\n",
       "    'native_name': '',\n",
       "    'iso_name': 'RU KUF',\n",
       "    'is_main': True,\n",
       "    'en_name': 'Samara',\n",
       "    'short_en_name': 'KUF',\n",
       "    'phone_code': '846',\n",
       "    'phone_code_old': '',\n",
       "    'zip_code': '',\n",
       "    'population': 1163399,\n",
       "    'synonyms': '',\n",
       "    'latitude': 53.195538,\n",
       "    'longitude': 50.101783,\n",
       "    'latitude_size': 0.459122,\n",
       "    'longitude_size': 0.659112,\n",
       "    'zoom': 12,\n",
       "    'tzname': 'Europe/Samara',\n",
       "    'official_languages': 'ru',\n",
       "    'widespread_languages': 'ba,cv,ru,tt',\n",
       "    'suggest_list': [],\n",
       "    'is_eu': False,\n",
       "    'services_names': ['bs',\n",
       "     'yaca',\n",
       "     'weather',\n",
       "     'afisha',\n",
       "     'maps',\n",
       "     'tv',\n",
       "     'ad',\n",
       "     'etrain',\n",
       "     'delivery',\n",
       "     'route'],\n",
       "    'seoname': 'samara',\n",
       "    'bounds': [[49.772227, 52.96536237206464],\n",
       "     [50.431338999999994, 53.42448437206464]],\n",
       "    'names': {'ablative': '',\n",
       "     'accusative': 'Самару',\n",
       "     'dative': 'Самаре',\n",
       "     'directional': '',\n",
       "     'genitive': 'Самары',\n",
       "     'instrumental': 'Самарой',\n",
       "     'locative': '',\n",
       "     'nominative': 'Самара',\n",
       "     'preposition': 'в',\n",
       "     'prepositional': 'Самаре'},\n",
       "    'parent': {'id': 11131,\n",
       "     'type': 5,\n",
       "     'parent_id': 40,\n",
       "     'capital_id': 51,\n",
       "     'geo_parent_id': 0,\n",
       "     'city_id': 51,\n",
       "     'name': 'Самарская область',\n",
       "     'native_name': '',\n",
       "     'iso_name': 'RU-SAM',\n",
       "     'is_main': False,\n",
       "     'en_name': 'Samara Oblast',\n",
       "     'short_en_name': 'RU-SAM',\n",
       "     'phone_code': '846 848',\n",
       "     'phone_code_old': '',\n",
       "     'zip_code': '',\n",
       "     'population': 3193514,\n",
       "     'synonyms': '',\n",
       "     'latitude': 53.27635,\n",
       "     'longitude': 50.463301,\n",
       "     'latitude_size': 2.906034,\n",
       "     'longitude_size': 4.640813,\n",
       "     'zoom': 8,\n",
       "     'tzname': 'Europe/Samara',\n",
       "     'official_languages': 'ru',\n",
       "     'widespread_languages': 'ba,cv,ru,tt',\n",
       "     'suggest_list': [51,\n",
       "      240,\n",
       "      11139,\n",
       "      11135,\n",
       "      11141,\n",
       "      11132,\n",
       "      11137,\n",
       "      11133,\n",
       "      11138,\n",
       "      11136,\n",
       "      11134],\n",
       "     'is_eu': False,\n",
       "     'services_names': ['bs', 'yaca', 'ad'],\n",
       "     'seoname': 'samara-oblast',\n",
       "     'bounds': [[48.142894500000004, 51.79864476633541],\n",
       "      [52.7837075, 54.704678766335405]],\n",
       "     'names': {'ablative': '',\n",
       "      'accusative': 'Самарскую область',\n",
       "      'dative': 'Самарской области',\n",
       "      'directional': '',\n",
       "      'genitive': 'Самарской области',\n",
       "      'instrumental': 'Самарской областью',\n",
       "      'locative': '',\n",
       "      'nominative': 'Самарская область',\n",
       "      'preposition': 'в',\n",
       "      'prepositional': 'Самарской области'},\n",
       "     'parent': {'id': 225,\n",
       "      'type': 3,\n",
       "      'parent_id': 10001,\n",
       "      'capital_id': 213,\n",
       "      'geo_parent_id': 0,\n",
       "      'city_id': 213,\n",
       "      'name': 'Россия',\n",
       "      'native_name': '',\n",
       "      'iso_name': 'RU',\n",
       "      'is_main': False,\n",
       "      'en_name': 'Russia',\n",
       "      'short_en_name': 'RU',\n",
       "      'phone_code': '7',\n",
       "      'phone_code_old': '',\n",
       "      'zip_code': '',\n",
       "      'population': 146880432,\n",
       "      'synonyms': 'Russian Federation,Российская Федерация',\n",
       "      'latitude': 61.698653,\n",
       "      'longitude': 99.505405,\n",
       "      'latitude_size': 40.700127,\n",
       "      'longitude_size': 171.643239,\n",
       "      'zoom': 3,\n",
       "      'tzname': '',\n",
       "      'official_languages': 'ru',\n",
       "      'widespread_languages': 'ru',\n",
       "      'suggest_list': [213, 2, 65, 54, 47, 43, 66, 51, 56, 172, 39, 62],\n",
       "      'is_eu': False,\n",
       "      'services_names': ['bs', 'yaca', 'ad'],\n",
       "      'seoname': 'russia',\n",
       "      'bounds': [[13.683785499999999, 35.290400699917846],\n",
       "       [-174.6729755, 75.99052769991785]],\n",
       "      'names': {'ablative': '',\n",
       "       'accusative': 'Россию',\n",
       "       'dative': 'России',\n",
       "       'directional': '',\n",
       "       'genitive': 'России',\n",
       "       'instrumental': 'Россией',\n",
       "       'locative': '',\n",
       "       'nominative': 'Россия',\n",
       "       'preposition': 'в',\n",
       "       'prepositional': 'России'}}}},\n",
       "   {'id': 51,\n",
       "    'type': 6,\n",
       "    'parent_id': 120861,\n",
       "    'capital_id': 0,\n",
       "    'geo_parent_id': 0,\n",
       "    'city_id': 51,\n",
       "    'name': 'Самара',\n",
       "    'native_name': '',\n",
       "    'iso_name': 'RU KUF',\n",
       "    'is_main': True,\n",
       "    'en_name': 'Samara',\n",
       "    'short_en_name': 'KUF',\n",
       "    'phone_code': '846',\n",
       "    'phone_code_old': '',\n",
       "    'zip_code': '',\n",
       "    'population': 1163399,\n",
       "    'synonyms': '',\n",
       "    'latitude': 53.195538,\n",
       "    'longitude': 50.101783,\n",
       "    'latitude_size': 0.459122,\n",
       "    'longitude_size': 0.659112,\n",
       "    'zoom': 12,\n",
       "    'tzname': 'Europe/Samara',\n",
       "    'official_languages': 'ru',\n",
       "    'widespread_languages': 'ba,cv,ru,tt',\n",
       "    'suggest_list': [],\n",
       "    'is_eu': False,\n",
       "    'services_names': ['bs',\n",
       "     'yaca',\n",
       "     'weather',\n",
       "     'afisha',\n",
       "     'maps',\n",
       "     'tv',\n",
       "     'ad',\n",
       "     'etrain',\n",
       "     'delivery',\n",
       "     'route'],\n",
       "    'seoname': 'samara',\n",
       "    'bounds': [[49.772227, 52.96536237206464],\n",
       "     [50.431338999999994, 53.42448437206464]],\n",
       "    'names': {'ablative': '',\n",
       "     'accusative': 'Самару',\n",
       "     'dative': 'Самаре',\n",
       "     'directional': '',\n",
       "     'genitive': 'Самары',\n",
       "     'instrumental': 'Самарой',\n",
       "     'locative': '',\n",
       "     'nominative': 'Самара',\n",
       "     'preposition': 'в',\n",
       "     'prepositional': 'Самаре'},\n",
       "    'parent': {'id': 11131,\n",
       "     'type': 5,\n",
       "     'parent_id': 40,\n",
       "     'capital_id': 51,\n",
       "     'geo_parent_id': 0,\n",
       "     'city_id': 51,\n",
       "     'name': 'Самарская область',\n",
       "     'native_name': '',\n",
       "     'iso_name': 'RU-SAM',\n",
       "     'is_main': False,\n",
       "     'en_name': 'Samara Oblast',\n",
       "     'short_en_name': 'RU-SAM',\n",
       "     'phone_code': '846 848',\n",
       "     'phone_code_old': '',\n",
       "     'zip_code': '',\n",
       "     'population': 3193514,\n",
       "     'synonyms': '',\n",
       "     'latitude': 53.27635,\n",
       "     'longitude': 50.463301,\n",
       "     'latitude_size': 2.906034,\n",
       "     'longitude_size': 4.640813,\n",
       "     'zoom': 8,\n",
       "     'tzname': 'Europe/Samara',\n",
       "     'official_languages': 'ru',\n",
       "     'widespread_languages': 'ba,cv,ru,tt',\n",
       "     'suggest_list': [51,\n",
       "      240,\n",
       "      11139,\n",
       "      11135,\n",
       "      11141,\n",
       "      11132,\n",
       "      11137,\n",
       "      11133,\n",
       "      11138,\n",
       "      11136,\n",
       "      11134],\n",
       "     'is_eu': False,\n",
       "     'services_names': ['bs', 'yaca', 'ad'],\n",
       "     'seoname': 'samara-oblast',\n",
       "     'bounds': [[48.142894500000004, 51.79864476633541],\n",
       "      [52.7837075, 54.704678766335405]],\n",
       "     'names': {'ablative': '',\n",
       "      'accusative': 'Самарскую область',\n",
       "      'dative': 'Самарской области',\n",
       "      'directional': '',\n",
       "      'genitive': 'Самарской области',\n",
       "      'instrumental': 'Самарской областью',\n",
       "      'locative': '',\n",
       "      'nominative': 'Самарская область',\n",
       "      'preposition': 'в',\n",
       "      'prepositional': 'Самарской области'},\n",
       "     'parent': {'id': 225,\n",
       "      'type': 3,\n",
       "      'parent_id': 10001,\n",
       "      'capital_id': 213,\n",
       "      'geo_parent_id': 0,\n",
       "      'city_id': 213,\n",
       "      'name': 'Россия',\n",
       "      'native_name': '',\n",
       "      'iso_name': 'RU',\n",
       "      'is_main': False,\n",
       "      'en_name': 'Russia',\n",
       "      'short_en_name': 'RU',\n",
       "      'phone_code': '7',\n",
       "      'phone_code_old': '',\n",
       "      'zip_code': '',\n",
       "      'population': 146880432,\n",
       "      'synonyms': 'Russian Federation,Российская Федерация',\n",
       "      'latitude': 61.698653,\n",
       "      'longitude': 99.505405,\n",
       "      'latitude_size': 40.700127,\n",
       "      'longitude_size': 171.643239,\n",
       "      'zoom': 3,\n",
       "      'tzname': '',\n",
       "      'official_languages': 'ru',\n",
       "      'widespread_languages': 'ru',\n",
       "      'suggest_list': [213, 2, 65, 54, 47, 43, 66, 51, 56, 172, 39, 62],\n",
       "      'is_eu': False,\n",
       "      'services_names': ['bs', 'yaca', 'ad'],\n",
       "      'seoname': 'russia',\n",
       "      'bounds': [[13.683785499999999, 35.290400699917846],\n",
       "       [-174.6729755, 75.99052769991785]],\n",
       "      'names': {'ablative': '',\n",
       "       'accusative': 'Россию',\n",
       "       'dative': 'России',\n",
       "       'directional': '',\n",
       "       'genitive': 'России',\n",
       "       'instrumental': 'Россией',\n",
       "       'locative': '',\n",
       "       'nominative': 'Россия',\n",
       "       'preposition': 'в',\n",
       "       'prepositional': 'России'}}}}],\n",
       "  'areFirstAndLastStopsInSameRegion': True}}"
      ]
     },
     "execution_count": 369,
     "metadata": {},
     "output_type": "execute_result"
    }
   ],
   "source": [
    "one_rt[0]"
   ]
  },
  {
   "cell_type": "code",
   "execution_count": null,
   "metadata": {},
   "outputs": [],
   "source": []
  },
  {
   "cell_type": "code",
   "execution_count": 278,
   "metadata": {},
   "outputs": [
    {
     "data": {
      "text/plain": [
       "dict_keys(['2193179075', '2193179452', '2193179408', '2193179080', '2193179401'])"
      ]
     },
     "execution_count": 278,
     "metadata": {},
     "output_type": "execute_result"
    }
   ],
   "source": [
    "dct_lnks.keys()"
   ]
  },
  {
   "cell_type": "code",
   "execution_count": null,
   "metadata": {},
   "outputs": [],
   "source": []
  },
  {
   "cell_type": "code",
   "execution_count": 280,
   "metadata": {},
   "outputs": [
    {
     "data": {
      "text/plain": [
       "2"
      ]
     },
     "execution_count": 280,
     "metadata": {},
     "output_type": "execute_result"
    }
   ],
   "source": [
    "len(dct_lnks['2193179075'])"
   ]
  },
  {
   "cell_type": "code",
   "execution_count": null,
   "metadata": {},
   "outputs": [],
   "source": [
    "one_rt = dct_lnks['2193179075']"
   ]
  },
  {
   "cell_type": "code",
   "execution_count": 363,
   "metadata": {},
   "outputs": [
    {
     "data": {
      "text/plain": [
       "dict_keys(['features', 'properties', 'MapsUIMetaData'])"
      ]
     },
     "execution_count": 363,
     "metadata": {},
     "output_type": "execute_result"
    }
   ],
   "source": [
    "js_rt['masstransitLine']['features'][0].keys()"
   ]
  },
  {
   "cell_type": "code",
   "execution_count": null,
   "metadata": {},
   "outputs": [],
   "source": []
  },
  {
   "cell_type": "code",
   "execution_count": null,
   "metadata": {},
   "outputs": [],
   "source": [
    "dct_lnks['2193179075'][]"
   ]
  },
  {
   "cell_type": "code",
   "execution_count": null,
   "metadata": {},
   "outputs": [],
   "source": []
  },
  {
   "cell_type": "code",
   "execution_count": null,
   "metadata": {},
   "outputs": [],
   "source": [
    "# one_rt[0]['properties']['ThreadMetaData']['EssentialStops']"
   ]
  },
  {
   "cell_type": "code",
   "execution_count": null,
   "metadata": {},
   "outputs": [],
   "source": [
    "# for elem in dct_lnks:\n",
    "#     frw = elem[0]\n",
    "#     if len(elem) == 2:\n",
    "#         bckw = elem[1]\n",
    "#     else:\n",
    "#         bckw = None\n",
    "# # "
   ]
  },
  {
   "cell_type": "code",
   "execution_count": null,
   "metadata": {},
   "outputs": [],
   "source": []
  },
  {
   "cell_type": "code",
   "execution_count": 281,
   "metadata": {},
   "outputs": [],
   "source": [
    "one_rt = dct_lnks['2193179075']"
   ]
  },
  {
   "cell_type": "code",
   "execution_count": 305,
   "metadata": {},
   "outputs": [],
   "source": [
    "one_dir = one_rt[0]['features']"
   ]
  },
  {
   "cell_type": "code",
   "execution_count": null,
   "metadata": {},
   "outputs": [],
   "source": []
  },
  {
   "cell_type": "code",
   "execution_count": null,
   "metadata": {},
   "outputs": [],
   "source": []
  },
  {
   "cell_type": "code",
   "execution_count": null,
   "metadata": {},
   "outputs": [],
   "source": [
    "def get_stop(dct):\n",
    "    lst=[]\n",
    "    stop_id = dct['id']\n",
    "    name = dct['name']\n",
    "    stop_lon = dct['coordinates'][0]\n",
    "    stop_lat = dct['coordinates'][1]\n",
    "    lst = [stop_id,name,stop_lat,stop_lon]\n",
    "    return lst"
   ]
  },
  {
   "cell_type": "code",
   "execution_count": null,
   "metadata": {},
   "outputs": [],
   "source": []
  },
  {
   "cell_type": "code",
   "execution_count": null,
   "metadata": {},
   "outputs": [],
   "source": []
  },
  {
   "cell_type": "code",
   "execution_count": 357,
   "metadata": {},
   "outputs": [],
   "source": [
    "def get_dir_data(one_dir,direction,rt_id):\n",
    "    all_stops=[]\n",
    "    rt_line=[]\n",
    "    line_data=[]\n",
    "    i=0\n",
    "    lst_stop=[]\n",
    "    cnt_stp = 0\n",
    "    line_data = line_data + [rt_id,direction]\n",
    "    for i in range(len(one_dir)):\n",
    "        if 'id' in one_dir[i]:\n",
    "            cnt_stp +=1\n",
    "            lst_stop = []\n",
    "            lst_stop = lst_stop + [rt_id,direction,cnt_stp]\n",
    "            lst_stop = lst_stop + get_stop(one_dir[i])\n",
    "            all_stops.append(lst_stop)\n",
    "\n",
    "        if 'points' in one_dir[i]:\n",
    "            one_part = one_dir[i]['points']\n",
    "            for j in range(len(one_part)):\n",
    "                rt_line.append(one_part[j])\n",
    "        #\n",
    "    # \n",
    "    line_data.append(LineString(rt_line))\n",
    "    \n",
    "    return all_stops,line_data"
   ]
  },
  {
   "cell_type": "code",
   "execution_count": null,
   "metadata": {},
   "outputs": [],
   "source": []
  },
  {
   "cell_type": "code",
   "execution_count": 358,
   "metadata": {},
   "outputs": [],
   "source": [
    "direction = 0\n",
    "rt_id = '2193179075'\n",
    "all_stops,line_data = get_dir_data(one_dir,direction,rt_id)"
   ]
  },
  {
   "cell_type": "code",
   "execution_count": null,
   "metadata": {},
   "outputs": [],
   "source": []
  },
  {
   "cell_type": "code",
   "execution_count": null,
   "metadata": {},
   "outputs": [],
   "source": []
  },
  {
   "cell_type": "code",
   "execution_count": 336,
   "metadata": {},
   "outputs": [],
   "source": [
    "import pandas as pd\n",
    "import shapely\n",
    "from shapely.geometry import Point, LineString, MultiLineString"
   ]
  },
  {
   "cell_type": "code",
   "execution_count": null,
   "metadata": {},
   "outputs": [],
   "source": []
  },
  {
   "cell_type": "code",
   "execution_count": null,
   "metadata": {},
   "outputs": [],
   "source": []
  },
  {
   "cell_type": "code",
   "execution_count": null,
   "metadata": {},
   "outputs": [],
   "source": []
  },
  {
   "cell_type": "code",
   "execution_count": null,
   "metadata": {},
   "outputs": [],
   "source": []
  },
  {
   "cell_type": "code",
   "execution_count": null,
   "metadata": {},
   "outputs": [],
   "source": []
  },
  {
   "cell_type": "code",
   "execution_count": null,
   "metadata": {},
   "outputs": [],
   "source": []
  },
  {
   "cell_type": "code",
   "execution_count": null,
   "metadata": {},
   "outputs": [],
   "source": []
  },
  {
   "cell_type": "code",
   "execution_count": null,
   "metadata": {},
   "outputs": [],
   "source": []
  },
  {
   "cell_type": "code",
   "execution_count": null,
   "metadata": {},
   "outputs": [],
   "source": [
    "# \"https://yandex.ru/maps/51/samara/transport/buses/?l=masstransit&ll=50.212459%2C53.227108&z=11\""
   ]
  },
  {
   "cell_type": "code",
   "execution_count": null,
   "metadata": {},
   "outputs": [],
   "source": [
    "# https://yandex.ru/maps/51/samara/transport/?ll=50.183735%2C53.233963&z=10"
   ]
  },
  {
   "cell_type": "code",
   "execution_count": null,
   "metadata": {},
   "outputs": [],
   "source": []
  }
 ],
 "metadata": {
  "kernelspec": {
   "display_name": "Python 3",
   "language": "python",
   "name": "python3"
  },
  "language_info": {
   "codemirror_mode": {
    "name": "ipython",
    "version": 3
   },
   "file_extension": ".py",
   "mimetype": "text/x-python",
   "name": "python",
   "nbconvert_exporter": "python",
   "pygments_lexer": "ipython3",
   "version": "3.7.6"
  }
 },
 "nbformat": 4,
 "nbformat_minor": 2
}
