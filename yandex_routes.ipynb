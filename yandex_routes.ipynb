{
 "cells": [
  {
   "cell_type": "code",
   "execution_count": 1,
   "metadata": {},
   "outputs": [],
   "source": [
    "import requests\n",
    "import re\n",
    "from bs4 import BeautifulSoup\n",
    "import json\n",
    "import urllib"
   ]
  },
  {
   "cell_type": "code",
   "execution_count": 15,
   "metadata": {
    "collapsed": true
   },
   "outputs": [],
   "source": []
  },
  {
   "cell_type": "code",
   "execution_count": 2,
   "metadata": {
    "collapsed": true
   },
   "outputs": [],
   "source": [
    "# s = \"https://yandex.ru/maps/239/sochi/stops/stop__9973362/\"\n",
    "city_code = '239'\n",
    "city_name = 'sochi'\n",
    "stop = 'stop__9973362'\n",
    "\n",
    "s0 = 'href=\"/maps/'+str(city_code)+'/'+city_name+'/routes/'\n",
    "\n",
    "s = 'https://yandex.ru/maps/{}/{}/stops/{}/'.format(city_code, city_name, stop)"
   ]
  },
  {
   "cell_type": "code",
   "execution_count": 3,
   "metadata": {
    "collapsed": true
   },
   "outputs": [],
   "source": [
    "url = s"
   ]
  },
  {
   "cell_type": "code",
   "execution_count": 4,
   "metadata": {
    "collapsed": true
   },
   "outputs": [],
   "source": [
    "req = requests.get(url)\n",
    "bs = BeautifulSoup(req.text, 'html.parser')"
   ]
  },
  {
   "cell_type": "code",
   "execution_count": 5,
   "metadata": {
    "collapsed": true
   },
   "outputs": [],
   "source": [
    "lst_links = bs.find_all('a')"
   ]
  },
  {
   "cell_type": "code",
   "execution_count": 6,
   "metadata": {
    "collapsed": true
   },
   "outputs": [],
   "source": [
    "lst_routes_links = []\n",
    "route_names = []\n",
    "titles = []\n",
    "for link in lst_links:\n",
    "    if s0 in str(link) and link.text != 'Маршруты':\n",
    "        lst_routes_links.append('https://yandex.ru'+link.get('href'))\n",
    "        route_names.append(link.text)\n",
    "        titles.append(link.get('title'))\n",
    "# "
   ]
  },
  {
   "cell_type": "code",
   "execution_count": null,
   "metadata": {
    "collapsed": true
   },
   "outputs": [],
   "source": []
  },
  {
   "cell_type": "code",
   "execution_count": 7,
   "metadata": {
    "collapsed": true
   },
   "outputs": [],
   "source": [
    "url1 = lst_routes_links[0]"
   ]
  },
  {
   "cell_type": "code",
   "execution_count": 8,
   "metadata": {
    "collapsed": true
   },
   "outputs": [],
   "source": [
    "req = requests.get(url1)\n",
    "bs = BeautifulSoup(req.text, 'html.parser')"
   ]
  },
  {
   "cell_type": "code",
   "execution_count": 9,
   "metadata": {
    "collapsed": true
   },
   "outputs": [],
   "source": [
    "scrpt = bs.find_all('script')[-2].text\n",
    "js = json.loads(scrpt)"
   ]
  },
  {
   "cell_type": "code",
   "execution_count": 10,
   "metadata": {},
   "outputs": [
    {
     "data": {
      "text/plain": [
       "{'coordinates': [39.773594992, 43.557614811],\n",
       " 'id': 'stop__9973554',\n",
       " 'name': 'Микрорайон Искра',\n",
       " 'region': {'bounds': [[39.1261495, 43.261256799670214],\n",
       "   [40.3199745, 43.908055799670215]],\n",
       "  'hierarchy': [225, 10995, 239],\n",
       "  'id': 239,\n",
       "  'seoname': 'sochi'}}"
      ]
     },
     "execution_count": 10,
     "metadata": {},
     "output_type": "execute_result"
    }
   ],
   "source": [
    "js['masstransitLine']['features'][0]['features'][-1]"
   ]
  },
  {
   "cell_type": "code",
   "execution_count": null,
   "metadata": {
    "collapsed": true
   },
   "outputs": [],
   "source": []
  },
  {
   "cell_type": "code",
   "execution_count": 11,
   "metadata": {},
   "outputs": [
    {
     "data": {
      "text/plain": [
       "True"
      ]
     },
     "execution_count": 11,
     "metadata": {},
     "output_type": "execute_result"
    }
   ],
   "source": [
    "bs.find_all('script')[-2].get(\"type\") == \"application/json\""
   ]
  },
  {
   "cell_type": "code",
   "execution_count": null,
   "metadata": {
    "collapsed": true
   },
   "outputs": [],
   "source": []
  },
  {
   "cell_type": "code",
   "execution_count": 14,
   "metadata": {},
   "outputs": [
    {
     "name": "stdout",
     "output_type": "stream",
     "text": [
      "12\n"
     ]
    }
   ],
   "source": [
    "all_scrpt = bs.find_all('script')\n",
    "for scr in all_scrpt:\n",
    "    if scr.get(\"type\") == \"application/json\":\n",
    "        print(all_scrpt.index(scr))\n",
    "# "
   ]
  },
  {
   "cell_type": "code",
   "execution_count": null,
   "metadata": {
    "collapsed": true
   },
   "outputs": [],
   "source": []
  },
  {
   "cell_type": "code",
   "execution_count": null,
   "metadata": {
    "collapsed": true
   },
   "outputs": [],
   "source": []
  },
  {
   "cell_type": "code",
   "execution_count": 16,
   "metadata": {
    "collapsed": true
   },
   "outputs": [],
   "source": [
    "str1 = 'остановка общественного транспорта'\n",
    "str_qt = urllib.parse.quote(str1)"
   ]
  },
  {
   "cell_type": "code",
   "execution_count": 20,
   "metadata": {
    "collapsed": true
   },
   "outputs": [],
   "source": [
    "srch = \"https://yandex.ru/maps/239/sochi/search/{}\".format(str_qt)"
   ]
  },
  {
   "cell_type": "code",
   "execution_count": null,
   "metadata": {
    "collapsed": true
   },
   "outputs": [],
   "source": []
  },
  {
   "cell_type": "code",
   "execution_count": 21,
   "metadata": {
    "scrolled": true
   },
   "outputs": [],
   "source": [
    "req = requests.get(srch)\n",
    "bs = BeautifulSoup(req.text, 'html.parser')"
   ]
  },
  {
   "cell_type": "code",
   "execution_count": null,
   "metadata": {
    "collapsed": true
   },
   "outputs": [],
   "source": []
  },
  {
   "cell_type": "code",
   "execution_count": 33,
   "metadata": {},
   "outputs": [],
   "source": [
    "all_scrpt = bs.find_all(\"script\")"
   ]
  },
  {
   "cell_type": "code",
   "execution_count": 34,
   "metadata": {},
   "outputs": [
    {
     "name": "stdout",
     "output_type": "stream",
     "text": [
      "14\n"
     ]
    }
   ],
   "source": [
    "all_scrpt = bs.find_all(\"script\")\n",
    "for scr in all_scrpt:\n",
    "    if scr.get('type') == \"application/json\":\n",
    "        print(all_scrpt.index(scr))"
   ]
  },
  {
   "cell_type": "code",
   "execution_count": null,
   "metadata": {
    "collapsed": true
   },
   "outputs": [],
   "source": []
  },
  {
   "cell_type": "code",
   "execution_count": null,
   "metadata": {},
   "outputs": [],
   "source": []
  },
  {
   "cell_type": "code",
   "execution_count": 28,
   "metadata": {},
   "outputs": [],
   "source": [
    "scr1 = all_scrpt[13].text\n",
    "js2 = json.loads(scr1)"
   ]
  },
  {
   "cell_type": "code",
   "execution_count": null,
   "metadata": {
    "collapsed": true
   },
   "outputs": [],
   "source": []
  },
  {
   "cell_type": "code",
   "execution_count": 32,
   "metadata": {},
   "outputs": [
    {
     "data": {
      "text/plain": [
       "dict_keys(['counters', 'hosts', 'locale', 'lang', 'tld', 'query', 'baseUrl', 'originalUrl', 'uatraits', 'cspNonce', 'origin', 'csrfToken', 'xscriptCsrfToken', 'isUserFromPortal', 'isUserFromGoogle', 'availableLangs', 'currencyCode', 'banner', 'staticHost', 'pageMode', 'bookmarks', 'clientErrors', 'searchResultsCount', 'enableTaxi', 'enableAvia', 'enableZapravkiPromo', 'iframeCounter', 'tnsCounter', 'cloudApi', 'blaBlaCarBanner', 'search', 'routes', 'feedback', 'font', 'advert', 'serviceName', 'bilet', 'share', 'mobile', 'servicePanel', 'apiManual', 'mapMargin', 'business', 'troubleshooting', 'passport', 'morda', 'ruler', 'ugcCabinet', 'advertLandingUrl', 'advertLandingMetroUrl', 'becomeAuthorUrl', 'becomeOwnerUrl', 'agreementUrl', 'metroAgreementUrl', 'rightHoldersUrl', 'ymapsUrlTemplate', 'mrcLandingUrl', 'reviews', 'enableRoutesB2B', 'routesB2BUrl', 'enableMobileDistribution', 'bannerLayout', 'pharmacyLinks', 'mapLocation', 'mapType', 'userRegion', 'experiments', 'layerLinks', 'layers', 'searchPreloadedResults', 'isVectorEnabled', 'bunker', 'landing', 'promo', 'mapRegion', 'direct', 'brandings', 'serverCookie', 'meta'])"
      ]
     },
     "execution_count": 32,
     "metadata": {},
     "output_type": "execute_result"
    }
   ],
   "source": [
    "js2.keys()"
   ]
  },
  {
   "cell_type": "code",
   "execution_count": null,
   "metadata": {
    "collapsed": true
   },
   "outputs": [],
   "source": []
  },
  {
   "cell_type": "code",
   "execution_count": 34,
   "metadata": {},
   "outputs": [
    {
     "data": {
      "text/plain": [
       "dict_keys(['requestId', 'requestSerpId', 'requestContext', 'requestQuery', 'requestCorrectedQuery', 'requestBounds', 'displayType', 'totalResultCount', 'requestResults', 'requestSkip', 'items', 'bounds', 'categories', 'filters', 'hasLavkaBanner'])"
      ]
     },
     "execution_count": 34,
     "metadata": {},
     "output_type": "execute_result"
    }
   ],
   "source": [
    "js2['searchPreloadedResults'].keys()"
   ]
  },
  {
   "cell_type": "code",
   "execution_count": null,
   "metadata": {
    "collapsed": true
   },
   "outputs": [],
   "source": []
  },
  {
   "cell_type": "code",
   "execution_count": 48,
   "metadata": {},
   "outputs": [
    {
     "data": {
      "text/plain": [
       "dict_keys(['type', 'requestId', 'analyticsId', 'title', 'description', 'address', 'coordinates', 'displayCoordinates', 'bounds', 'logId', 'uri', 'id', 'metro', 'stops', 'panorama', 'shortTitle', 'fullAddress', 'country', 'status', 'businessLinks', 'ratingData', 'sources', 'categories', 'businessProperties', 'modularSnippet', 'seoname', 'geoId', 'compositeAddress', 'references', 'subtitleItems', 'region', 'breadcrumbs'])"
      ]
     },
     "execution_count": 48,
     "metadata": {},
     "output_type": "execute_result"
    }
   ],
   "source": [
    "js2['searchPreloadedResults']['items'][1].keys()"
   ]
  },
  {
   "cell_type": "code",
   "execution_count": 53,
   "metadata": {},
   "outputs": [
    {
     "data": {
      "text/plain": [
       "'Россия, Краснодарский край, Сочи, улица Конституции СССР'"
      ]
     },
     "execution_count": 53,
     "metadata": {},
     "output_type": "execute_result"
    }
   ],
   "source": [
    "js2['searchPreloadedResults']['items'][1]['description']"
   ]
  },
  {
   "cell_type": "code",
   "execution_count": null,
   "metadata": {
    "collapsed": true
   },
   "outputs": [],
   "source": []
  },
  {
   "cell_type": "code",
   "execution_count": null,
   "metadata": {},
   "outputs": [],
   "source": []
  },
  {
   "cell_type": "markdown",
   "metadata": {},
   "source": [
    "# Способ поиска всех маршрутов в городе по названию"
   ]
  },
  {
   "cell_type": "code",
   "execution_count": null,
   "metadata": {},
   "outputs": [],
   "source": [
    "import pandas as pd\n",
    "import shapely\n",
    "from shapely.geometry import Point, LineString, MultiLineString"
   ]
  },
  {
   "cell_type": "code",
   "execution_count": null,
   "metadata": {},
   "outputs": [],
   "source": []
  },
  {
   "cell_type": "code",
   "execution_count": 80,
   "metadata": {},
   "outputs": [],
   "source": [
    "str_ct = 'Самара'\n",
    "str_qt = urllib.parse.quote(str_ct)\n",
    "srch_ct = \"https://yandex.ru/maps/?text={}\".format(str_qt)"
   ]
  },
  {
   "cell_type": "code",
   "execution_count": 81,
   "metadata": {},
   "outputs": [],
   "source": [
    "req = requests.get(srch_ct)\n",
    "bs = BeautifulSoup(req.text, 'html.parser')"
   ]
  },
  {
   "cell_type": "code",
   "execution_count": 83,
   "metadata": {},
   "outputs": [],
   "source": [
    "alla = bs.find_all('a')\n",
    "for aa in alla:\n",
    "    cls = aa.get(\"class\")\n",
    "    try:\n",
    "        if 'catalog-entry-point' in cls:\n",
    "            hrf = aa.get(\"href\")\n",
    "            break\n",
    "    except:\n",
    "        pass\n",
    "# \n",
    "try:\n",
    "    city_id,city_name = hrf.split(\"maps/\")[1].split(\"/catalog\")[0].split(\"/\")\n",
    "except:\n",
    "    city_id,city_name = None,None\n",
    "    print(\"Error. Not found\")\n",
    "    pass\n",
    "#\n"
   ]
  },
  {
   "cell_type": "code",
   "execution_count": 85,
   "metadata": {},
   "outputs": [],
   "source": [
    "lnk_tp = \"https://yandex.ru/maps/\"+ str(city_id) + \"/\" + str(city_name) + \"/transport\""
   ]
  },
  {
   "cell_type": "code",
   "execution_count": 96,
   "metadata": {},
   "outputs": [],
   "source": [
    "def find_js(lnk):\n",
    "    req = requests.get(lnk)\n",
    "    bs = BeautifulSoup(req.text, 'html.parser')\n",
    "    all_scrpt = bs.find_all(\"script\")\n",
    "    for scr in all_scrpt:\n",
    "        if scr.get('type') == \"application/json\":\n",
    "            sc_ind = all_scrpt.index(scr)\n",
    "            break\n",
    "    # \n",
    "    scrp_txt = all_scrpt[sc_ind].text\n",
    "    js = json.loads(scrp_txt)\n",
    "    \n",
    "    return js"
   ]
  },
  {
   "cell_type": "code",
   "execution_count": 105,
   "metadata": {},
   "outputs": [],
   "source": [
    "js_tp = find_js(lnk_tp)"
   ]
  },
  {
   "cell_type": "code",
   "execution_count": null,
   "metadata": {},
   "outputs": [],
   "source": []
  },
  {
   "cell_type": "code",
   "execution_count": null,
   "metadata": {},
   "outputs": [],
   "source": [
    "link"
   ]
  },
  {
   "cell_type": "code",
   "execution_count": 379,
   "metadata": {},
   "outputs": [],
   "source": [
    "req = requests.get(lnk_tp)\n",
    "bs = BeautifulSoup(req.text, 'html.parser')\n",
    "lst_srp = bs.find_all('script')"
   ]
  },
  {
   "cell_type": "code",
   "execution_count": null,
   "metadata": {},
   "outputs": [],
   "source": []
  },
  {
   "cell_type": "code",
   "execution_count": 384,
   "metadata": {},
   "outputs": [
    {
     "data": {
      "text/plain": [
       "<script type=\"application/ld+json\">{\"@context\":\"http://schema.org\",\"@type\":\"BreadcrumbList\",\"itemListElement\":[{\"@type\":\"ListItem\",\"position\":1,\"item\":{\"@id\":\"https://yandex.ru/maps/\",\"name\":\"Карты\"}},{\"@type\":\"ListItem\",\"position\":2,\"item\":{\"@id\":\"https://yandex.ru/maps/51/samara/\",\"name\":\"Самара\"}}]}</script>"
      ]
     },
     "execution_count": 384,
     "metadata": {},
     "output_type": "execute_result"
    }
   ],
   "source": [
    "lst_srp[11]"
   ]
  },
  {
   "cell_type": "code",
   "execution_count": null,
   "metadata": {},
   "outputs": [],
   "source": []
  },
  {
   "cell_type": "code",
   "execution_count": null,
   "metadata": {},
   "outputs": [],
   "source": []
  },
  {
   "cell_type": "code",
   "execution_count": 387,
   "metadata": {},
   "outputs": [],
   "source": [
    "lst_lineid = []\n",
    "lst_tpts = []\n",
    "lst_names = []\n",
    "lst_rts = []\n",
    "i=0\n",
    "for i in range(len(js_tp['vehicles'])):\n",
    "    one_lst = []\n",
    "    try:\n",
    "        meta_veh = js_tp['vehicles'][i]['properties']['VehicleMetaData']['Transport']\n",
    "        lineid = meta_veh['lineId']\n",
    "        if lineid not in lst_lineid:\n",
    "            lst_lineid.append(lineid)\n",
    "            one_lst.append(lineid)\n",
    "            answ_line = 1\n",
    "        else:\n",
    "            answ_line = 0\n",
    "        try:\n",
    "            transp_type = meta_veh['type']\n",
    "            name_rt = meta_veh['name']\n",
    "        except:\n",
    "            transp_type,name_rt = None,None\n",
    "        if answ_line == 1:\n",
    "            lst_tpts.append(transp_type)\n",
    "            lst_names.append(name_rt)\n",
    "            one_lst.append(name_rt)\n",
    "            one_lst.append(transp_type)\n",
    "        #\n",
    "        if one_lst != []:\n",
    "            lst_rts.append(one_lst)\n",
    "    except:\n",
    "        pass\n",
    "# "
   ]
  },
  {
   "cell_type": "code",
   "execution_count": null,
   "metadata": {},
   "outputs": [],
   "source": []
  },
  {
   "cell_type": "code",
   "execution_count": 411,
   "metadata": {},
   "outputs": [],
   "source": [
    "def get_stop(dct):\n",
    "    lst=[]\n",
    "    stop_id = dct['id']\n",
    "    name = dct['name']\n",
    "    stop_lon = dct['coordinates'][0]\n",
    "    stop_lat = dct['coordinates'][1]\n",
    "    lst = [stop_id,name,stop_lat,stop_lon]\n",
    "    return lst"
   ]
  },
  {
   "cell_type": "code",
   "execution_count": null,
   "metadata": {},
   "outputs": [],
   "source": []
  },
  {
   "cell_type": "code",
   "execution_count": 420,
   "metadata": {},
   "outputs": [],
   "source": [
    "def get_dir_data(one_dir,direction,rt_id):\n",
    "    all_stops=[]\n",
    "    rt_line=[]\n",
    "    line_data=[]\n",
    "    i=0\n",
    "    lst_stop=[]\n",
    "    cnt_stp = 0\n",
    "    line_data = line_data + [rt_id,direction]\n",
    "    for i in range(len(one_dir)):\n",
    "        if 'id' in one_dir[i]:\n",
    "            cnt_stp +=1\n",
    "            lst_stop = []\n",
    "            lst_stop = lst_stop + [rt_id,direction,cnt_stp]\n",
    "            lst_stop = lst_stop + get_stop(one_dir[i])\n",
    "            all_stops.append(lst_stop)\n",
    "\n",
    "        if 'points' in one_dir[i]:\n",
    "            one_part = one_dir[i]['points']\n",
    "            for j in range(len(one_part)):\n",
    "                rt_line.append(one_part[j])\n",
    "        #\n",
    "    # \n",
    "    line_data.append(LineString(rt_line))\n",
    "    \n",
    "    return all_stops,line_data"
   ]
  },
  {
   "cell_type": "code",
   "execution_count": null,
   "metadata": {},
   "outputs": [],
   "source": []
  },
  {
   "cell_type": "code",
   "execution_count": 443,
   "metadata": {},
   "outputs": [],
   "source": [
    "def get_rt_data(one_rt,rt_id):\n",
    "\n",
    "    for_reestr = []\n",
    "\n",
    "    stop_seq1,line_data1 = get_dir_data(one_rt[0]['features'],0,rt_id)\n",
    "\n",
    "    stp_frw = one_rt[0]['properties']['ThreadMetaData']['EssentialStops'][0]['name']\n",
    "    stp_bckw = one_rt[0]['properties']['ThreadMetaData']['EssentialStops'][1]['name']\n",
    "    str_rt_nm = str(stp_frw) + \"_\" + str(stp_bckw)\n",
    "    for_reestr.append(str_rt_nm)\n",
    "#     length_frw=line_data[3].length\n",
    "    length_frw=0\n",
    "    length_bckw=0\n",
    "\n",
    "    if len(one_rt) == 2:\n",
    "        stop_seq2,line_data2 = get_dir_data(one_rt[1]['features'],1,rt_id)\n",
    "        stop_seq = stop_seq1 + stop_seq2\n",
    "        line_data = line_data1 + line_data2\n",
    "        \n",
    "        is_circle = False\n",
    "#         length_bckw=line_data[3].length\n",
    "\n",
    "    else:\n",
    "        stop_seq = stop_seq1\n",
    "        line_data = line_data1\n",
    "        is_circle = True\n",
    "#         length_bckw = 0\n",
    "\n",
    "    # \n",
    "    \n",
    "    for_reestr.append(is_circle)\n",
    "    for_reestr.append(length_frw)\n",
    "    for_reestr.append(length_bckw)\n",
    "    return for_reestr, stop_seq, line_data"
   ]
  },
  {
   "cell_type": "code",
   "execution_count": null,
   "metadata": {},
   "outputs": [],
   "source": []
  },
  {
   "cell_type": "code",
   "execution_count": 451,
   "metadata": {},
   "outputs": [],
   "source": [
    "# dct_lnks = {}\n",
    "big_reestr=[]\n",
    "big_seq=[]\n",
    "big_line=[]\n",
    "i=0\n",
    "# for i in range(len(lst_rts)):\n",
    "for i in range(2):\n",
    "    lnkid = lst_rts[i][0]\n",
    "#     lnkid = lst_lineid[i]\n",
    "    lnk_rt = 'https://yandex.ru/maps/{}/{}/routes/{}'.format(city_id, city_name, lnkid)\n",
    "    js_rt = find_js(lnk_rt)\n",
    "    one_rt=js_rt['masstransitLine']['features']\n",
    "    rt_nbr = lst_rts[i][1]\n",
    "    rt_tp = lst_rts[i][2]\n",
    "    for_r_2 = [lnkid,rt_nbr,rt_tp]\n",
    "#     need: rt_name,is_circle,length_frw,length_bckw\n",
    "    for_reestr, stop_seq, line_data = get_rt_data(one_rt,lnkid)\n",
    "    for_r_2 = for_r_2 + for_reestr\n",
    "    big_reestr.append(for_r_2)\n",
    "    big_seq.append(stop_seq)\n",
    "    big_line.append(line_data)\n",
    "\n",
    "#     dct_lnks[lnkid] = js_rt['masstransitLine']['features']\n",
    "# "
   ]
  },
  {
   "cell_type": "code",
   "execution_count": null,
   "metadata": {},
   "outputs": [],
   "source": []
  },
  {
   "cell_type": "code",
   "execution_count": 458,
   "metadata": {},
   "outputs": [
    {
     "data": {
      "text/plain": [
       "['2193179075', 0, 1, 'stop__10002140', 'Овощная база', 53.253455, 50.2948622]"
      ]
     },
     "execution_count": 458,
     "metadata": {},
     "output_type": "execute_result"
    }
   ],
   "source": [
    "big_seq[0][0]"
   ]
  },
  {
   "cell_type": "code",
   "execution_count": null,
   "metadata": {},
   "outputs": [],
   "source": []
  },
  {
   "cell_type": "code",
   "execution_count": null,
   "metadata": {},
   "outputs": [],
   "source": []
  },
  {
   "cell_type": "code",
   "execution_count": null,
   "metadata": {},
   "outputs": [],
   "source": []
  },
  {
   "cell_type": "code",
   "execution_count": null,
   "metadata": {},
   "outputs": [],
   "source": []
  },
  {
   "cell_type": "code",
   "execution_count": 396,
   "metadata": {},
   "outputs": [],
   "source": [
    "# line_length(line)\n",
    "line = line_data[2]\n",
    "\n",
    "# return length"
   ]
  },
  {
   "cell_type": "code",
   "execution_count": null,
   "metadata": {},
   "outputs": [],
   "source": []
  },
  {
   "cell_type": "code",
   "execution_count": 402,
   "metadata": {},
   "outputs": [],
   "source": [
    "crds = list(line.coords)"
   ]
  },
  {
   "cell_type": "code",
   "execution_count": 404,
   "metadata": {},
   "outputs": [
    {
     "data": {
      "text/plain": [
       "50.294937"
      ]
     },
     "execution_count": 404,
     "metadata": {},
     "output_type": "execute_result"
    }
   ],
   "source": [
    "crds[0][0]"
   ]
  },
  {
   "cell_type": "code",
   "execution_count": null,
   "metadata": {},
   "outputs": [],
   "source": []
  },
  {
   "cell_type": "code",
   "execution_count": 405,
   "metadata": {},
   "outputs": [],
   "source": [
    "from pyproj import Proj, transform"
   ]
  },
  {
   "cell_type": "code",
   "execution_count": 407,
   "metadata": {},
   "outputs": [
    {
     "name": "stderr",
     "output_type": "stream",
     "text": [
      "C:\\Users\\ochristm\\anaconda3\\lib\\site-packages\\ipykernel_launcher.py:9: DeprecationWarning: This function is deprecated. See: https://pyproj4.github.io/pyproj/stable/gotchas.html#upgrading-to-pyproj-2-from-pyproj-1\n",
      "  if __name__ == '__main__':\n"
     ]
    },
    {
     "name": "stdout",
     "output_type": "stream",
     "text": [
      "22484.173070391418\n"
     ]
    }
   ],
   "source": [
    "inProj = Proj('epsg:4326')\n",
    "outProj = Proj('epsg:32637')\n",
    "\n",
    "crds = list(line.coords)\n",
    "lst_new_line=[]\n",
    "for i in range(len(crds)):\n",
    "    lat=crds[i][0]\n",
    "    lon=crds[i][1]\n",
    "    lat2,lon2 = transform(inProj,outProj,lat,lon)\n",
    "    lst_new_line.append([lat2,lon2])\n",
    "# \n",
    "new_line = LineString(lst_new_line)\n",
    "length = new_line.length\n",
    "print(length)"
   ]
  },
  {
   "cell_type": "code",
   "execution_count": null,
   "metadata": {},
   "outputs": [],
   "source": []
  },
  {
   "cell_type": "code",
   "execution_count": null,
   "metadata": {},
   "outputs": [],
   "source": []
  },
  {
   "cell_type": "code",
   "execution_count": null,
   "metadata": {},
   "outputs": [],
   "source": []
  },
  {
   "cell_type": "code",
   "execution_count": null,
   "metadata": {},
   "outputs": [],
   "source": []
  },
  {
   "cell_type": "code",
   "execution_count": null,
   "metadata": {},
   "outputs": [],
   "source": []
  },
  {
   "cell_type": "code",
   "execution_count": null,
   "metadata": {},
   "outputs": [],
   "source": []
  },
  {
   "cell_type": "code",
   "execution_count": null,
   "metadata": {},
   "outputs": [],
   "source": []
  },
  {
   "cell_type": "code",
   "execution_count": null,
   "metadata": {},
   "outputs": [],
   "source": []
  }
 ],
 "metadata": {
  "kernelspec": {
   "display_name": "Python 3",
   "language": "python",
   "name": "python3"
  },
  "language_info": {
   "codemirror_mode": {
    "name": "ipython",
    "version": 3
   },
   "file_extension": ".py",
   "mimetype": "text/x-python",
   "name": "python",
   "nbconvert_exporter": "python",
   "pygments_lexer": "ipython3",
   "version": "3.7.6"
  }
 },
 "nbformat": 4,
 "nbformat_minor": 2
}
