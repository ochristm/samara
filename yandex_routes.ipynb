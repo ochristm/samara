{
 "cells": [
  {
   "cell_type": "code",
   "execution_count": 1,
   "metadata": {},
   "outputs": [],
   "source": [
    "import requests\n",
    "import re\n",
    "from bs4 import BeautifulSoup\n",
    "import json\n",
    "import urllib"
   ]
  },
  {
   "cell_type": "code",
   "execution_count": 15,
   "metadata": {
    "collapsed": true
   },
   "outputs": [],
   "source": []
  },
  {
   "cell_type": "code",
   "execution_count": 2,
   "metadata": {
    "collapsed": true
   },
   "outputs": [],
   "source": [
    "# s = \"https://yandex.ru/maps/239/sochi/stops/stop__9973362/\"\n",
    "city_code = '239'\n",
    "city_name = 'sochi'\n",
    "stop = 'stop__9973362'\n",
    "\n",
    "s0 = 'href=\"/maps/'+str(city_code)+'/'+city_name+'/routes/'\n",
    "\n",
    "s = 'https://yandex.ru/maps/{}/{}/stops/{}/'.format(city_code, city_name, stop)"
   ]
  },
  {
   "cell_type": "code",
   "execution_count": 3,
   "metadata": {
    "collapsed": true
   },
   "outputs": [],
   "source": [
    "url = s"
   ]
  },
  {
   "cell_type": "code",
   "execution_count": 4,
   "metadata": {
    "collapsed": true
   },
   "outputs": [],
   "source": [
    "req = requests.get(url)\n",
    "bs = BeautifulSoup(req.text, 'html.parser')"
   ]
  },
  {
   "cell_type": "code",
   "execution_count": 5,
   "metadata": {
    "collapsed": true
   },
   "outputs": [],
   "source": [
    "lst_links = bs.find_all('a')"
   ]
  },
  {
   "cell_type": "code",
   "execution_count": 6,
   "metadata": {
    "collapsed": true
   },
   "outputs": [],
   "source": [
    "lst_routes_links = []\n",
    "route_names = []\n",
    "titles = []\n",
    "for link in lst_links:\n",
    "    if s0 in str(link) and link.text != 'Маршруты':\n",
    "        lst_routes_links.append('https://yandex.ru'+link.get('href'))\n",
    "        route_names.append(link.text)\n",
    "        titles.append(link.get('title'))\n",
    "# "
   ]
  },
  {
   "cell_type": "code",
   "execution_count": null,
   "metadata": {
    "collapsed": true
   },
   "outputs": [],
   "source": []
  },
  {
   "cell_type": "code",
   "execution_count": 7,
   "metadata": {
    "collapsed": true
   },
   "outputs": [],
   "source": [
    "url1 = lst_routes_links[0]"
   ]
  },
  {
   "cell_type": "code",
   "execution_count": 8,
   "metadata": {
    "collapsed": true
   },
   "outputs": [],
   "source": [
    "req = requests.get(url1)\n",
    "bs = BeautifulSoup(req.text, 'html.parser')"
   ]
  },
  {
   "cell_type": "code",
   "execution_count": 9,
   "metadata": {
    "collapsed": true
   },
   "outputs": [],
   "source": [
    "scrpt = bs.find_all('script')[-2].text\n",
    "js = json.loads(scrpt)"
   ]
  },
  {
   "cell_type": "code",
   "execution_count": 10,
   "metadata": {},
   "outputs": [
    {
     "data": {
      "text/plain": [
       "{'coordinates': [39.773594992, 43.557614811],\n",
       " 'id': 'stop__9973554',\n",
       " 'name': 'Микрорайон Искра',\n",
       " 'region': {'bounds': [[39.1261495, 43.261256799670214],\n",
       "   [40.3199745, 43.908055799670215]],\n",
       "  'hierarchy': [225, 10995, 239],\n",
       "  'id': 239,\n",
       "  'seoname': 'sochi'}}"
      ]
     },
     "execution_count": 10,
     "metadata": {},
     "output_type": "execute_result"
    }
   ],
   "source": [
    "js['masstransitLine']['features'][0]['features'][-1]"
   ]
  },
  {
   "cell_type": "code",
   "execution_count": null,
   "metadata": {
    "collapsed": true
   },
   "outputs": [],
   "source": []
  },
  {
   "cell_type": "code",
   "execution_count": 11,
   "metadata": {},
   "outputs": [
    {
     "data": {
      "text/plain": [
       "True"
      ]
     },
     "execution_count": 11,
     "metadata": {},
     "output_type": "execute_result"
    }
   ],
   "source": [
    "bs.find_all('script')[-2].get(\"type\") == \"application/json\""
   ]
  },
  {
   "cell_type": "code",
   "execution_count": null,
   "metadata": {
    "collapsed": true
   },
   "outputs": [],
   "source": []
  },
  {
   "cell_type": "code",
   "execution_count": 14,
   "metadata": {},
   "outputs": [
    {
     "name": "stdout",
     "output_type": "stream",
     "text": [
      "12\n"
     ]
    }
   ],
   "source": [
    "all_scrpt = bs.find_all('script')\n",
    "for scr in all_scrpt:\n",
    "    if scr.get(\"type\") == \"application/json\":\n",
    "        print(all_scrpt.index(scr))\n",
    "# "
   ]
  },
  {
   "cell_type": "code",
   "execution_count": null,
   "metadata": {
    "collapsed": true
   },
   "outputs": [],
   "source": []
  },
  {
   "cell_type": "code",
   "execution_count": null,
   "metadata": {
    "collapsed": true
   },
   "outputs": [],
   "source": []
  },
  {
   "cell_type": "code",
   "execution_count": 16,
   "metadata": {
    "collapsed": true
   },
   "outputs": [],
   "source": [
    "str1 = 'остановка общественного транспорта'\n",
    "str_qt = urllib.parse.quote(str1)"
   ]
  },
  {
   "cell_type": "code",
   "execution_count": 20,
   "metadata": {
    "collapsed": true
   },
   "outputs": [],
   "source": [
    "srch = \"https://yandex.ru/maps/239/sochi/search/{}\".format(str_qt)"
   ]
  },
  {
   "cell_type": "code",
   "execution_count": null,
   "metadata": {
    "collapsed": true
   },
   "outputs": [],
   "source": []
  },
  {
   "cell_type": "code",
   "execution_count": 21,
   "metadata": {
    "scrolled": true
   },
   "outputs": [],
   "source": [
    "req = requests.get(srch)\n",
    "bs = BeautifulSoup(req.text, 'html.parser')"
   ]
  },
  {
   "cell_type": "code",
   "execution_count": null,
   "metadata": {
    "collapsed": true
   },
   "outputs": [],
   "source": []
  },
  {
   "cell_type": "code",
   "execution_count": 33,
   "metadata": {},
   "outputs": [],
   "source": [
    "all_scrpt = bs.find_all(\"script\")"
   ]
  },
  {
   "cell_type": "code",
   "execution_count": 34,
   "metadata": {},
   "outputs": [
    {
     "name": "stdout",
     "output_type": "stream",
     "text": [
      "14\n"
     ]
    }
   ],
   "source": [
    "all_scrpt = bs.find_all(\"script\")\n",
    "for scr in all_scrpt:\n",
    "    if scr.get('type') == \"application/json\":\n",
    "        print(all_scrpt.index(scr))"
   ]
  },
  {
   "cell_type": "code",
   "execution_count": null,
   "metadata": {
    "collapsed": true
   },
   "outputs": [],
   "source": []
  },
  {
   "cell_type": "code",
   "execution_count": null,
   "metadata": {},
   "outputs": [],
   "source": []
  },
  {
   "cell_type": "code",
   "execution_count": 28,
   "metadata": {},
   "outputs": [],
   "source": [
    "scr1 = all_scrpt[13].text\n",
    "js2 = json.loads(scr1)"
   ]
  },
  {
   "cell_type": "code",
   "execution_count": null,
   "metadata": {
    "collapsed": true
   },
   "outputs": [],
   "source": []
  },
  {
   "cell_type": "code",
   "execution_count": 32,
   "metadata": {},
   "outputs": [
    {
     "data": {
      "text/plain": [
       "dict_keys(['counters', 'hosts', 'locale', 'lang', 'tld', 'query', 'baseUrl', 'originalUrl', 'uatraits', 'cspNonce', 'origin', 'csrfToken', 'xscriptCsrfToken', 'isUserFromPortal', 'isUserFromGoogle', 'availableLangs', 'currencyCode', 'banner', 'staticHost', 'pageMode', 'bookmarks', 'clientErrors', 'searchResultsCount', 'enableTaxi', 'enableAvia', 'enableZapravkiPromo', 'iframeCounter', 'tnsCounter', 'cloudApi', 'blaBlaCarBanner', 'search', 'routes', 'feedback', 'font', 'advert', 'serviceName', 'bilet', 'share', 'mobile', 'servicePanel', 'apiManual', 'mapMargin', 'business', 'troubleshooting', 'passport', 'morda', 'ruler', 'ugcCabinet', 'advertLandingUrl', 'advertLandingMetroUrl', 'becomeAuthorUrl', 'becomeOwnerUrl', 'agreementUrl', 'metroAgreementUrl', 'rightHoldersUrl', 'ymapsUrlTemplate', 'mrcLandingUrl', 'reviews', 'enableRoutesB2B', 'routesB2BUrl', 'enableMobileDistribution', 'bannerLayout', 'pharmacyLinks', 'mapLocation', 'mapType', 'userRegion', 'experiments', 'layerLinks', 'layers', 'searchPreloadedResults', 'isVectorEnabled', 'bunker', 'landing', 'promo', 'mapRegion', 'direct', 'brandings', 'serverCookie', 'meta'])"
      ]
     },
     "execution_count": 32,
     "metadata": {},
     "output_type": "execute_result"
    }
   ],
   "source": [
    "js2.keys()"
   ]
  },
  {
   "cell_type": "code",
   "execution_count": null,
   "metadata": {
    "collapsed": true
   },
   "outputs": [],
   "source": []
  },
  {
   "cell_type": "code",
   "execution_count": 34,
   "metadata": {},
   "outputs": [
    {
     "data": {
      "text/plain": [
       "dict_keys(['requestId', 'requestSerpId', 'requestContext', 'requestQuery', 'requestCorrectedQuery', 'requestBounds', 'displayType', 'totalResultCount', 'requestResults', 'requestSkip', 'items', 'bounds', 'categories', 'filters', 'hasLavkaBanner'])"
      ]
     },
     "execution_count": 34,
     "metadata": {},
     "output_type": "execute_result"
    }
   ],
   "source": [
    "js2['searchPreloadedResults'].keys()"
   ]
  },
  {
   "cell_type": "code",
   "execution_count": null,
   "metadata": {
    "collapsed": true
   },
   "outputs": [],
   "source": []
  },
  {
   "cell_type": "code",
   "execution_count": 48,
   "metadata": {},
   "outputs": [
    {
     "data": {
      "text/plain": [
       "dict_keys(['type', 'requestId', 'analyticsId', 'title', 'description', 'address', 'coordinates', 'displayCoordinates', 'bounds', 'logId', 'uri', 'id', 'metro', 'stops', 'panorama', 'shortTitle', 'fullAddress', 'country', 'status', 'businessLinks', 'ratingData', 'sources', 'categories', 'businessProperties', 'modularSnippet', 'seoname', 'geoId', 'compositeAddress', 'references', 'subtitleItems', 'region', 'breadcrumbs'])"
      ]
     },
     "execution_count": 48,
     "metadata": {},
     "output_type": "execute_result"
    }
   ],
   "source": [
    "js2['searchPreloadedResults']['items'][1].keys()"
   ]
  },
  {
   "cell_type": "code",
   "execution_count": 53,
   "metadata": {},
   "outputs": [
    {
     "data": {
      "text/plain": [
       "'Россия, Краснодарский край, Сочи, улица Конституции СССР'"
      ]
     },
     "execution_count": 53,
     "metadata": {},
     "output_type": "execute_result"
    }
   ],
   "source": [
    "js2['searchPreloadedResults']['items'][1]['description']"
   ]
  },
  {
   "cell_type": "code",
   "execution_count": null,
   "metadata": {
    "collapsed": true
   },
   "outputs": [],
   "source": []
  },
  {
   "cell_type": "code",
   "execution_count": null,
   "metadata": {},
   "outputs": [],
   "source": []
  },
  {
   "cell_type": "code",
   "execution_count": 80,
   "metadata": {},
   "outputs": [],
   "source": [
    "str_ct = 'Самара'\n",
    "str_qt = urllib.parse.quote(str_ct)\n",
    "srch_ct = \"https://yandex.ru/maps/?text={}\".format(str_qt)"
   ]
  },
  {
   "cell_type": "code",
   "execution_count": 81,
   "metadata": {},
   "outputs": [],
   "source": [
    "req = requests.get(srch_ct)\n",
    "bs = BeautifulSoup(req.text, 'html.parser')"
   ]
  },
  {
   "cell_type": "code",
   "execution_count": 83,
   "metadata": {},
   "outputs": [],
   "source": [
    "alla = bs.find_all('a')\n",
    "for aa in alla:\n",
    "    cls = aa.get(\"class\")\n",
    "    try:\n",
    "        if 'catalog-entry-point' in cls:\n",
    "            hrf = aa.get(\"href\")\n",
    "            break\n",
    "    except:\n",
    "        pass\n",
    "# \n",
    "try:\n",
    "    city_id,city_name = hrf.split(\"maps/\")[1].split(\"/catalog\")[0].split(\"/\")\n",
    "except:\n",
    "    city_id,city_name = None,None\n",
    "    print(\"Error. Not found\")\n",
    "    pass\n",
    "# "
   ]
  },
  {
   "cell_type": "code",
   "execution_count": 85,
   "metadata": {},
   "outputs": [],
   "source": [
    "lnk_tp = \"https://yandex.ru/maps/\"+ str(city_id) + \"/\" + str(city_name) + \"/transport\""
   ]
  },
  {
   "cell_type": "code",
   "execution_count": 96,
   "metadata": {},
   "outputs": [],
   "source": [
    "def find_js(lnk):\n",
    "    req = requests.get(lnk)\n",
    "    bs = BeautifulSoup(req.text, 'html.parser')\n",
    "    all_scrpt = bs.find_all(\"script\")\n",
    "    for scr in all_scrpt:\n",
    "        if scr.get('type') == \"application/json\":\n",
    "            sc_ind = all_scrpt.index(scr)\n",
    "    # \n",
    "    scrp_txt = all_scrpt[sc_ind].text\n",
    "    js = json.loads(scrp_txt)\n",
    "    \n",
    "    return js"
   ]
  },
  {
   "cell_type": "code",
   "execution_count": 105,
   "metadata": {},
   "outputs": [],
   "source": [
    "js_tp = find_js(lnk_tp)"
   ]
  },
  {
   "cell_type": "code",
   "execution_count": null,
   "metadata": {},
   "outputs": [],
   "source": []
  },
  {
   "cell_type": "code",
   "execution_count": 245,
   "metadata": {},
   "outputs": [],
   "source": [
    "def foo_apnd(lst,data):\n",
    "    if data not in lst:\n",
    "        lst.append(data)\n",
    "    return lst\n",
    "\n",
    "lst_lineid = []\n",
    "lst_tpts = []\n",
    "lst_names = []\n",
    "i=0\n",
    "for i in range(len(js_tp['vehicles'])):\n",
    "    try:\n",
    "        meta_veh = js_tp['vehicles'][i]['properties']['VehicleMetaData']['Transport']\n",
    "        lineid = meta_veh['lineId']\n",
    "        lst_lineid = foo_apnd(lst_lineid,lineid)\n",
    "        try:\n",
    "            transp_type = meta_veh['type']\n",
    "            name_rt = meta_veh['name']\n",
    "            lst_tpts = foo_apnd(lst_tpts,transp_type)\n",
    "            lst_names = foo_apnd(lst_names,name_rt)\n",
    "        except:\n",
    "            lst_tpts = foo_apnd(lst_tpts,None)\n",
    "            lst_names = foo_apnd(lst_names,None)\n",
    "\n",
    "        # \n",
    "    except:\n",
    "        pass\n",
    "# "
   ]
  },
  {
   "cell_type": "code",
   "execution_count": null,
   "metadata": {},
   "outputs": [],
   "source": []
  },
  {
   "cell_type": "code",
   "execution_count": 248,
   "metadata": {},
   "outputs": [
    {
     "data": {
      "text/plain": [
       "['minibus', 'bus', 'tramway', 'trolleybus']"
      ]
     },
     "execution_count": 248,
     "metadata": {},
     "output_type": "execute_result"
    }
   ],
   "source": [
    "lst_tpts"
   ]
  },
  {
   "cell_type": "code",
   "execution_count": null,
   "metadata": {},
   "outputs": [],
   "source": []
  },
  {
   "cell_type": "code",
   "execution_count": null,
   "metadata": {},
   "outputs": [],
   "source": [
    "# dct_lnks = {}\n",
    "# i=0\n",
    "# # for i in range(len(lst_lineid)):\n",
    "# for i in range(5):\n",
    "#     lnkid = lst_lineid[i]\n",
    "#     lnk_rt = 'https://yandex.ru/maps/{}/{}/routes/{}'.format(city_id, city_name, lnkid)\n",
    "#     js_rt = find_js(lnk_rt)\n",
    "#     dct_lnks[lnkid] = js_rt\n",
    "# # "
   ]
  },
  {
   "cell_type": "code",
   "execution_count": null,
   "metadata": {},
   "outputs": [],
   "source": []
  },
  {
   "cell_type": "code",
   "execution_count": 235,
   "metadata": {},
   "outputs": [
    {
     "data": {
      "text/plain": [
       "{'id': 'samara|127000',\n",
       " 'threadId': '2193179214',\n",
       " 'lineId': '2193179075',\n",
       " 'name': '99',\n",
       " 'Types': ['minibus'],\n",
       " 'type': 'minibus',\n",
       " 'uri': 'ymapsbm1://transit/line?id=2193179075&ll=50.206932%2C53.220111&name=99&r=6935&type=minibus',\n",
       " 'seoname': '99'}"
      ]
     },
     "execution_count": 235,
     "metadata": {},
     "output_type": "execute_result"
    }
   ],
   "source": [
    "i=0\n",
    "js_tp['vehicles'][i]['properties']['VehicleMetaData']['Transport']#['name']"
   ]
  },
  {
   "cell_type": "code",
   "execution_count": 236,
   "metadata": {},
   "outputs": [
    {
     "data": {
      "text/plain": [
       "'99'"
      ]
     },
     "execution_count": 236,
     "metadata": {},
     "output_type": "execute_result"
    }
   ],
   "source": [
    "js_tp['vehicles'][i]['properties']['VehicleMetaData']['Transport']['name']"
   ]
  },
  {
   "cell_type": "code",
   "execution_count": 237,
   "metadata": {},
   "outputs": [
    {
     "data": {
      "text/plain": [
       "'minibus'"
      ]
     },
     "execution_count": 237,
     "metadata": {},
     "output_type": "execute_result"
    }
   ],
   "source": [
    "js_tp['vehicles'][i]['properties']['VehicleMetaData']['Transport']['type']"
   ]
  },
  {
   "cell_type": "code",
   "execution_count": null,
   "metadata": {},
   "outputs": [],
   "source": []
  },
  {
   "cell_type": "code",
   "execution_count": null,
   "metadata": {},
   "outputs": [],
   "source": [
    "# i=0\n",
    "# lnk_rt = 'https://yandex.ru/maps/{}/{}/routes/{}'.format(city_id, city_name, lst_lineid[i])"
   ]
  },
  {
   "cell_type": "code",
   "execution_count": null,
   "metadata": {},
   "outputs": [],
   "source": []
  },
  {
   "cell_type": "code",
   "execution_count": 108,
   "metadata": {},
   "outputs": [],
   "source": [
    "i=0\n",
    "lnkid = lst_lineid[i]\n",
    "lnk_rt = 'https://yandex.ru/maps/{}/{}/routes/{}'.format(city_id, city_name, lnkid)\n",
    "js = find_js(lnk_rt)"
   ]
  },
  {
   "cell_type": "code",
   "execution_count": null,
   "metadata": {},
   "outputs": [],
   "source": []
  },
  {
   "cell_type": "code",
   "execution_count": 117,
   "metadata": {},
   "outputs": [],
   "source": [
    "lst_ks = list(js.keys())"
   ]
  },
  {
   "cell_type": "code",
   "execution_count": 119,
   "metadata": {},
   "outputs": [
    {
     "data": {
      "text/plain": [
       "'counters'"
      ]
     },
     "execution_count": 119,
     "metadata": {},
     "output_type": "execute_result"
    }
   ],
   "source": [
    "lst_ks[0]"
   ]
  },
  {
   "cell_type": "code",
   "execution_count": 213,
   "metadata": {},
   "outputs": [],
   "source": [
    "i=78"
   ]
  },
  {
   "cell_type": "code",
   "execution_count": 227,
   "metadata": {},
   "outputs": [
    {
     "data": {
      "text/plain": [
       "{'name': 'Маршрутка 99',\n",
       " 'type': 'search',\n",
       " 'url': 'https://yandex.ru/maps/51/samara/routes/minibus_99/796d617073626d313a2f2f7472616e7369742f6c696e653f69643d32313933313739303735266c6c3d35302e32303639333225324335332e323230313131266e616d653d393926723d3639333526747970653d6d696e69627573/',\n",
       " 'currentPage': True}"
      ]
     },
     "execution_count": 227,
     "metadata": {},
     "output_type": "execute_result"
    }
   ],
   "source": [
    "js['meta']['breadcrumbs'][3]#.keys()#['name']"
   ]
  },
  {
   "cell_type": "code",
   "execution_count": null,
   "metadata": {},
   "outputs": [],
   "source": []
  },
  {
   "cell_type": "code",
   "execution_count": 214,
   "metadata": {},
   "outputs": [
    {
     "data": {
      "text/plain": [
       "{'title': 'Маршрутка 99: маршрут, остановки и расписание в Самаре',\n",
       " 'breadcrumbs': [{'name': 'Карты',\n",
       "   'type': 'root',\n",
       "   'url': 'https://yandex.ru/maps/'},\n",
       "  {'name': 'Самара',\n",
       "   'type': 'region',\n",
       "   'url': 'https://yandex.ru/maps/51/samara/',\n",
       "   'region': {'center': [50.101783, 53.195538], 'zoom': 12}},\n",
       "  {'name': 'Общественный транспорт',\n",
       "   'type': 'masstransit-home',\n",
       "   'url': 'https://yandex.ru/maps/51/samara/transport/'},\n",
       "  {'name': 'Маршрутка 99',\n",
       "   'type': 'search',\n",
       "   'url': 'https://yandex.ru/maps/51/samara/routes/minibus_99/796d617073626d313a2f2f7472616e7369742f6c696e653f69643d32313933313739303735266c6c3d35302e32303639333225324335332e323230313131266e616d653d393926723d3639333526747970653d6d696e69627573/',\n",
       "   'currentPage': True}]}"
      ]
     },
     "execution_count": 214,
     "metadata": {},
     "output_type": "execute_result"
    }
   ],
   "source": [
    "# i+=1\n",
    "js[lst_ks[i]]"
   ]
  },
  {
   "cell_type": "code",
   "execution_count": null,
   "metadata": {},
   "outputs": [],
   "source": []
  },
  {
   "cell_type": "code",
   "execution_count": 212,
   "metadata": {},
   "outputs": [
    {
     "data": {
      "text/plain": [
       "79"
      ]
     },
     "execution_count": 212,
     "metadata": {},
     "output_type": "execute_result"
    }
   ],
   "source": [
    "i"
   ]
  },
  {
   "cell_type": "code",
   "execution_count": null,
   "metadata": {},
   "outputs": [],
   "source": []
  },
  {
   "cell_type": "code",
   "execution_count": 210,
   "metadata": {},
   "outputs": [
    {
     "data": {
      "text/plain": [
       "'meta'"
      ]
     },
     "execution_count": 210,
     "metadata": {},
     "output_type": "execute_result"
    }
   ],
   "source": [
    "lst_ks[i]"
   ]
  },
  {
   "cell_type": "code",
   "execution_count": null,
   "metadata": {},
   "outputs": [],
   "source": []
  },
  {
   "cell_type": "code",
   "execution_count": 79,
   "metadata": {},
   "outputs": [
    {
     "data": {
      "text/plain": [
       "{'features': [{'id': 'stop__10001445',\n",
       "   'coordinates': [50.098717449, 53.186512972],\n",
       "   'name': 'Улица Высоцкого',\n",
       "   'region': {'id': 51,\n",
       "    'hierarchy': [225, 11131, 51],\n",
       "    'seoname': 'samara',\n",
       "    'bounds': [[49.772227, 52.96536237206464],\n",
       "     [50.431338999999994, 53.42448437206464]]}},\n",
       "  {'points': [[50.098645, 53.186561999999995],\n",
       "    [50.098779, 53.186758999999995],\n",
       "    [50.098856, 53.186871],\n",
       "    [50.098904999999995, 53.186941999999995],\n",
       "    [50.099044, 53.187145],\n",
       "    [50.099087, 53.187208],\n",
       "    [50.099309, 53.187535999999994],\n",
       "    [50.099329999999995, 53.187566],\n",
       "    [50.099418, 53.187695999999995],\n",
       "    [50.099491, 53.187802999999995],\n",
       "    [50.099647, 53.188032],\n",
       "    [50.099705, 53.188119],\n",
       "    [50.099776999999996, 53.188221999999996],\n",
       "    [50.100004999999996, 53.188556999999996],\n",
       "    [50.100153999999996, 53.188776999999995],\n",
       "    [50.100272, 53.188952],\n",
       "    [50.100516999999996, 53.189311],\n",
       "    [50.100654, 53.189510999999996],\n",
       "    [50.100874, 53.189834],\n",
       "    [50.101006999999996, 53.190028999999996]]},\n",
       "  {'id': 'stop__10097747',\n",
       "   'coordinates': [50.101070518, 53.190013605],\n",
       "   'name': 'Улица Льва Толстого',\n",
       "   'region': {'id': 51,\n",
       "    'hierarchy': [225, 11131, 51],\n",
       "    'seoname': 'samara',\n",
       "    'bounds': [[49.772227, 52.96536237206464],\n",
       "     [50.431338999999994, 53.42448437206464]]}},\n",
       "  {'points': [[50.101006999999996, 53.190028999999996],\n",
       "    [50.101178999999995, 53.190281999999996],\n",
       "    [50.101267, 53.190411999999995],\n",
       "    [50.101327999999995, 53.190501999999995],\n",
       "    [50.101434, 53.190476],\n",
       "    [50.101835, 53.19038],\n",
       "    [50.101988999999996, 53.190343],\n",
       "    [50.102137, 53.190307999999995],\n",
       "    [50.102249, 53.190281],\n",
       "    [50.102281, 53.190273],\n",
       "    [50.102453, 53.190233],\n",
       "    [50.103243, 53.190042999999996],\n",
       "    [50.10339, 53.190008999999996],\n",
       "    [50.103449999999995, 53.190098],\n",
       "    [50.103539, 53.190228],\n",
       "    [50.103567999999996, 53.190270999999996],\n",
       "    [50.103632, 53.190366]]},\n",
       "  {'id': 'stop__10001572',\n",
       "   'coordinates': [50.103766972, 53.190333651],\n",
       "   'name': 'Самарская улица',\n",
       "   'region': {'id': 51,\n",
       "    'hierarchy': [225, 11131, 51],\n",
       "    'seoname': 'samara',\n",
       "    'bounds': [[49.772227, 52.96536237206464],\n",
       "     [50.431338999999994, 53.42448437206464]]}},\n",
       "  {'points': [[50.103632, 53.190366],\n",
       "    [50.103674999999996, 53.190428],\n",
       "    [50.103781, 53.190585],\n",
       "    [50.1038, 53.190613],\n",
       "    [50.103911, 53.190776],\n",
       "    [50.103966, 53.190856],\n",
       "    [50.104107, 53.191064],\n",
       "    [50.104172, 53.191159999999996],\n",
       "    [50.104351, 53.191424],\n",
       "    [50.10438, 53.191466],\n",
       "    [50.104482999999995, 53.191618],\n",
       "    [50.104599, 53.191789],\n",
       "    [50.104692, 53.191925999999995]]},\n",
       "  {'id': 'stop__10001442',\n",
       "   'coordinates': [50.104842225, 53.191889222],\n",
       "   'name': 'Красноармейская улица',\n",
       "   'region': {'id': 51,\n",
       "    'hierarchy': [225, 11131, 51],\n",
       "    'seoname': 'samara',\n",
       "    'bounds': [[49.772227, 52.96536237206464],\n",
       "     [50.431338999999994, 53.42448437206464]]}},\n",
       "  {'points': [[50.104692, 53.191925999999995],\n",
       "    [50.104738999999995, 53.191994],\n",
       "    [50.104935999999995, 53.192284],\n",
       "    [50.104963999999995, 53.192325],\n",
       "    [50.105022999999996, 53.192412],\n",
       "    [50.105061, 53.192468],\n",
       "    [50.105484999999994, 53.193084],\n",
       "    [50.105520999999996, 53.193135999999996],\n",
       "    [50.105715, 53.193419999999996],\n",
       "    [50.105819999999994, 53.193568],\n",
       "    [50.105931999999996, 53.193729999999995],\n",
       "    [50.10599, 53.193813999999996],\n",
       "    [50.106193999999995, 53.194109999999995],\n",
       "    [50.106338, 53.194317],\n",
       "    [50.106384, 53.194387],\n",
       "    [50.106449, 53.19448],\n",
       "    [50.106730999999996, 53.194885],\n",
       "    [50.106927999999996, 53.195167999999995],\n",
       "    [50.106947999999996, 53.195197],\n",
       "    [50.107287, 53.195685],\n",
       "    [50.10731, 53.195716999999995],\n",
       "    [50.107442999999996, 53.195907],\n",
       "    [50.107558999999995, 53.196076999999995],\n",
       "    [50.107786, 53.196386],\n",
       "    [50.107875, 53.196509],\n",
       "    [50.107941, 53.1966],\n",
       "    [50.108087999999995, 53.196816],\n",
       "    [50.108259999999994, 53.197072999999996]]},\n",
       "  {'id': 'stop__10001310',\n",
       "   'coordinates': [50.108417123, 53.197035158],\n",
       "   'name': 'Вилоновская улица',\n",
       "   'region': {'id': 51,\n",
       "    'hierarchy': [225, 11131, 51],\n",
       "    'seoname': 'samara',\n",
       "    'bounds': [[49.772227, 52.96536237206464],\n",
       "     [50.431338999999994, 53.42448437206464]]}},\n",
       "  {'points': [[50.108259999999994, 53.197072999999996],\n",
       "    [50.108393, 53.197272999999996],\n",
       "    [50.108576, 53.197536],\n",
       "    [50.108805999999994, 53.197865],\n",
       "    [50.108824999999996, 53.197893],\n",
       "    [50.109103999999995, 53.198271],\n",
       "    [50.109204999999996, 53.198418999999994],\n",
       "    [50.109466, 53.198781],\n",
       "    [50.109564999999996, 53.198854],\n",
       "    [50.109663999999995, 53.198923],\n",
       "    [50.109767, 53.19898],\n",
       "    [50.109932, 53.199058],\n",
       "    [50.110451, 53.19929],\n",
       "    [50.110738999999995, 53.199414],\n",
       "    [50.111005, 53.199529999999996],\n",
       "    [50.111123, 53.199580999999995],\n",
       "    [50.111202999999996, 53.199616],\n",
       "    [50.111349, 53.19968],\n",
       "    [50.11143, 53.199715999999995]]},\n",
       "  {'id': 'stop__10021760',\n",
       "   'coordinates': [50.1115089, 53.1996513],\n",
       "   'name': 'Ярмарочная улица',\n",
       "   'region': {'id': 51,\n",
       "    'hierarchy': [225, 11131, 51],\n",
       "    'seoname': 'samara',\n",
       "    'bounds': [[49.772227, 52.96536237206464],\n",
       "     [50.431338999999994, 53.42448437206464]]}},\n",
       "  {'points': [[50.11143, 53.199715999999995],\n",
       "    [50.111667999999995, 53.199821],\n",
       "    [50.112218999999996, 53.200058],\n",
       "    [50.112328, 53.200106999999996],\n",
       "    [50.112463999999996, 53.200165],\n",
       "    [50.114124, 53.200903999999994],\n",
       "    [50.114266, 53.200967999999996],\n",
       "    [50.114419, 53.201035],\n",
       "    [50.114563, 53.201097999999995]]},\n",
       "  {'id': 'stop__10001308',\n",
       "   'coordinates': [50.1146479, 53.2010295],\n",
       "   'name': 'Самарская площадь',\n",
       "   'region': {'id': 51,\n",
       "    'hierarchy': [225, 11131, 51],\n",
       "    'seoname': 'samara',\n",
       "    'bounds': [[49.772227, 52.96536237206464],\n",
       "     [50.431338999999994, 53.42448437206464]]}},\n",
       "  {'points': [[50.114563, 53.201097999999995],\n",
       "    [50.11505, 53.201313],\n",
       "    [50.115080999999996, 53.201328],\n",
       "    [50.115728, 53.201617],\n",
       "    [50.115826, 53.20166],\n",
       "    [50.116155, 53.201811],\n",
       "    [50.116585, 53.202006],\n",
       "    [50.116724, 53.202068999999995],\n",
       "    [50.116834, 53.20212],\n",
       "    [50.117038, 53.202213],\n",
       "    [50.117129, 53.202256],\n",
       "    [50.117608999999995, 53.202473999999995],\n",
       "    [50.117866, 53.20259],\n",
       "    [50.117967, 53.202636],\n",
       "    [50.118686, 53.202967],\n",
       "    [50.1196, 53.203376],\n",
       "    [50.120006, 53.203556],\n",
       "    [50.120135999999995, 53.203616],\n",
       "    [50.12027, 53.203675],\n",
       "    [50.120968, 53.203990999999995],\n",
       "    [50.121539, 53.204245],\n",
       "    [50.121789, 53.204355],\n",
       "    [50.122223, 53.204549],\n",
       "    [50.122414, 53.204632999999994],\n",
       "    [50.122771, 53.204792999999995],\n",
       "    [50.122825, 53.204817],\n",
       "    [50.123345, 53.205048],\n",
       "    [50.123475, 53.205104999999996],\n",
       "    [50.123593, 53.205135999999996],\n",
       "    [50.123743, 53.205014999999996],\n",
       "    [50.123849, 53.204932],\n",
       "    [50.123914, 53.204879],\n",
       "    [50.124052, 53.204769999999996]]},\n",
       "  {'id': 'stop__10001591',\n",
       "   'coordinates': [50.123998423, 53.204745611],\n",
       "   'name': 'Площадь Сельского Хозяйства',\n",
       "   'region': {'id': 51,\n",
       "    'hierarchy': [225, 11131, 51],\n",
       "    'seoname': 'samara',\n",
       "    'bounds': [[49.772227, 52.96536237206464],\n",
       "     [50.431338999999994, 53.42448437206464]]}},\n",
       "  {'points': [[50.124052, 53.204769999999996],\n",
       "    [50.124233, 53.204625],\n",
       "    [50.124721, 53.204235],\n",
       "    [50.125575, 53.203554],\n",
       "    [50.125682, 53.203469],\n",
       "    [50.125882, 53.203308],\n",
       "    [50.125999, 53.203216999999995],\n",
       "    [50.126295999999996, 53.202977999999995],\n",
       "    [50.126625999999995, 53.202715999999995],\n",
       "    [50.127069999999996, 53.202360999999996],\n",
       "    [50.127114, 53.202326],\n",
       "    [50.12791, 53.201691]]},\n",
       "  {'id': 'stop__10001589',\n",
       "   'coordinates': [50.127854417, 53.201665966],\n",
       "   'name': 'Арцыбушевская улица',\n",
       "   'region': {'id': 51,\n",
       "    'hierarchy': [225, 11131, 51],\n",
       "    'seoname': 'samara',\n",
       "    'bounds': [[49.772227, 52.96536237206464],\n",
       "     [50.431338999999994, 53.42448437206464]]}},\n",
       "  {'points': [[50.12791, 53.201691],\n",
       "    [50.128170999999995, 53.201482999999996],\n",
       "    [50.128279, 53.201397],\n",
       "    [50.128367999999995, 53.201327],\n",
       "    [50.128487, 53.201232],\n",
       "    [50.129836999999995, 53.200154],\n",
       "    [50.130055, 53.19998]]},\n",
       "  {'id': 'stop__10001000',\n",
       "   'coordinates': [50.129984024, 53.199948726],\n",
       "   'name': 'Сквер Мичурина',\n",
       "   'region': {'id': 51,\n",
       "    'hierarchy': [225, 11131, 51],\n",
       "    'seoname': 'samara',\n",
       "    'bounds': [[49.772227, 52.96536237206464],\n",
       "     [50.431338999999994, 53.42448437206464]]}},\n",
       "  {'points': [[50.130055, 53.19998],\n",
       "    [50.130466, 53.199652],\n",
       "    [50.13053, 53.1996],\n",
       "    [50.130689999999994, 53.199472],\n",
       "    [50.130721, 53.199447],\n",
       "    [50.130863999999995, 53.199503],\n",
       "    [50.131437, 53.199729],\n",
       "    [50.131678, 53.199839999999995],\n",
       "    [50.132177999999996, 53.200069],\n",
       "    [50.132365, 53.200154999999995],\n",
       "    [50.133672999999995, 53.200753999999996],\n",
       "    [50.135220999999994, 53.201463999999994],\n",
       "    [50.135452, 53.201569],\n",
       "    [50.13554, 53.201609999999995],\n",
       "    [50.135599, 53.201654999999995],\n",
       "    [50.135729, 53.201767999999994],\n",
       "    [50.136069, 53.201923],\n",
       "    [50.136446, 53.202095]]},\n",
       "  {'id': 'stop__10001245',\n",
       "   'coordinates': [50.136566977, 53.202000595],\n",
       "   'name': 'Площадь Памяти',\n",
       "   'region': {'id': 51,\n",
       "    'hierarchy': [225, 11131, 51],\n",
       "    'seoname': 'samara',\n",
       "    'bounds': [[49.772227, 52.96536237206464],\n",
       "     [50.431338999999994, 53.42448437206464]]}},\n",
       "  {'points': [[50.136446, 53.202095],\n",
       "    [50.137615999999994, 53.202628999999995],\n",
       "    [50.138532999999995, 53.203047],\n",
       "    [50.138708, 53.203126999999995],\n",
       "    [50.138867999999995, 53.203094],\n",
       "    [50.139047, 53.20307],\n",
       "    [50.139233999999995, 53.203052],\n",
       "    [50.139447, 53.203038],\n",
       "    [50.140097, 53.203008],\n",
       "    [50.140681, 53.202988999999995],\n",
       "    [50.141104999999996, 53.202985999999996],\n",
       "    [50.141531, 53.203002999999995],\n",
       "    [50.142509999999994, 53.203039],\n",
       "    [50.142922, 53.203055],\n",
       "    [50.143878, 53.203091],\n",
       "    [50.144622999999996, 53.203119],\n",
       "    [50.144942, 53.203131],\n",
       "    [50.145874, 53.203167],\n",
       "    [50.147194999999996, 53.203216],\n",
       "    [50.147836, 53.20324],\n",
       "    [50.148146999999994, 53.203252]]},\n",
       "  {'id': 'stop__10001242',\n",
       "   'coordinates': [50.148156225, 53.203167221],\n",
       "   'name': 'Киевская улица',\n",
       "   'region': {'id': 51,\n",
       "    'hierarchy': [225, 11131, 51],\n",
       "    'seoname': 'samara',\n",
       "    'bounds': [[49.772227, 52.96536237206464],\n",
       "     [50.431338999999994, 53.42448437206464]]}},\n",
       "  {'points': [[50.148146999999994, 53.203252],\n",
       "    [50.148658, 53.203271],\n",
       "    [50.149107, 53.203288],\n",
       "    [50.149364, 53.203064],\n",
       "    [50.149449, 53.202993],\n",
       "    [50.149522999999995, 53.202932],\n",
       "    [50.149741999999996, 53.202752999999994],\n",
       "    [50.150802, 53.201892],\n",
       "    [50.151329999999994, 53.201454],\n",
       "    [50.1515, 53.201319],\n",
       "    [50.152029, 53.200888],\n",
       "    [50.152179, 53.200767],\n",
       "    [50.15219, 53.200759],\n",
       "    [50.152708999999994, 53.200334999999995],\n",
       "    [50.153757, 53.199458],\n",
       "    [50.154283, 53.199014],\n",
       "    [50.154855999999995, 53.198533],\n",
       "    [50.155228, 53.198223],\n",
       "    [50.155536999999995, 53.197967999999996],\n",
       "    [50.155994, 53.197593],\n",
       "    [50.156138999999996, 53.197491],\n",
       "    [50.156318, 53.197328999999996],\n",
       "    [50.156479, 53.197202999999995],\n",
       "    [50.156684, 53.197072999999996],\n",
       "    [50.156805, 53.197007],\n",
       "    [50.156943, 53.197064999999995],\n",
       "    [50.157156, 53.197151],\n",
       "    [50.157968999999994, 53.197482],\n",
       "    [50.158198, 53.197573999999996]]},\n",
       "  {'id': 'stop__10001552',\n",
       "   'coordinates': [50.158250999, 53.197526912],\n",
       "   'name': 'Улица Тухачевского',\n",
       "   'region': {'id': 51,\n",
       "    'hierarchy': [225, 11131, 51],\n",
       "    'seoname': 'samara',\n",
       "    'bounds': [[49.772227, 52.96536237206464],\n",
       "     [50.431338999999994, 53.42448437206464]]}},\n",
       "  {'points': [[50.158198, 53.197573999999996],\n",
       "    [50.158483999999994, 53.197689999999994],\n",
       "    [50.159532, 53.198116],\n",
       "    [50.159707, 53.198187999999995],\n",
       "    [50.159796, 53.198223],\n",
       "    [50.15999, 53.198299999999996],\n",
       "    [50.160999, 53.198709],\n",
       "    [50.161634, 53.198964],\n",
       "    [50.161654999999996, 53.198972],\n",
       "    [50.162698, 53.199402],\n",
       "    [50.163336, 53.199664],\n",
       "    [50.163467999999995, 53.199714],\n",
       "    [50.163585, 53.199754],\n",
       "    [50.163667, 53.199777999999995],\n",
       "    [50.163762, 53.199801],\n",
       "    [50.163880999999996, 53.199822],\n",
       "    [50.164027999999995, 53.199841],\n",
       "    [50.164747, 53.199863],\n",
       "    [50.166438, 53.199909999999996],\n",
       "    [50.166979, 53.199923],\n",
       "    [50.167018, 53.199923999999996],\n",
       "    [50.167308999999996, 53.199934]]},\n",
       "  {'id': 'stop__10001550',\n",
       "   'coordinates': [50.167317614, 53.199834692],\n",
       "   'name': 'Клиники Медуниверситета',\n",
       "   'region': {'id': 51,\n",
       "    'hierarchy': [225, 11131, 51],\n",
       "    'seoname': 'samara',\n",
       "    'bounds': [[49.772227, 52.96536237206464],\n",
       "     [50.431338999999994, 53.42448437206464]]}},\n",
       "  {'points': [[50.167308999999996, 53.199934],\n",
       "    [50.168361999999995, 53.199968],\n",
       "    [50.170383, 53.200024],\n",
       "    [50.170570999999995, 53.200029],\n",
       "    [50.170823999999996, 53.200038],\n",
       "    [50.171136999999995, 53.200049],\n",
       "    [50.173384, 53.200112],\n",
       "    [50.173721, 53.200120999999996],\n",
       "    [50.175219999999996, 53.200162],\n",
       "    [50.176168, 53.200191]]},\n",
       "  {'id': 'stop__10001549',\n",
       "   'coordinates': [50.176176361, 53.200090599],\n",
       "   'name': 'Метро Гагаринская',\n",
       "   'region': {'id': 51,\n",
       "    'hierarchy': [225, 11131, 51],\n",
       "    'seoname': 'samara',\n",
       "    'bounds': [[49.772227, 52.96536237206464],\n",
       "     [50.431338999999994, 53.42448437206464]]}},\n",
       "  {'points': [[50.176168, 53.200191],\n",
       "    [50.177637, 53.200235],\n",
       "    [50.177820999999994, 53.200241],\n",
       "    [50.178267, 53.200255],\n",
       "    [50.178484, 53.200261999999995],\n",
       "    [50.178827999999996, 53.200274],\n",
       "    [50.181075, 53.20034],\n",
       "    [50.181576, 53.200354]]},\n",
       "  {'id': 'stop__10001546',\n",
       "   'coordinates': [50.181584514, 53.200251151],\n",
       "   'name': 'Революционная улица',\n",
       "   'region': {'id': 51,\n",
       "    'hierarchy': [225, 11131, 51],\n",
       "    'seoname': 'samara',\n",
       "    'bounds': [[49.772227, 52.96536237206464],\n",
       "     [50.431338999999994, 53.42448437206464]]}},\n",
       "  {'points': [[50.181576, 53.200354],\n",
       "    [50.183237999999996, 53.200402999999994],\n",
       "    [50.18384, 53.200419999999994],\n",
       "    [50.183968, 53.200424],\n",
       "    [50.184689, 53.200443],\n",
       "    [50.186935, 53.200511],\n",
       "    [50.188066, 53.200545],\n",
       "    [50.189474, 53.200576],\n",
       "    [50.189606999999995, 53.200579],\n",
       "    [50.190058, 53.200593999999995],\n",
       "    [50.190262, 53.200601],\n",
       "    [50.190633999999996, 53.200609],\n",
       "    [50.192023, 53.200649999999996]]},\n",
       "  {'id': 'stop__10001545',\n",
       "   'coordinates': [50.192029797, 53.20057129],\n",
       "   'name': 'Улица Авроры',\n",
       "   'region': {'id': 51,\n",
       "    'hierarchy': [225, 11131, 51],\n",
       "    'seoname': 'samara',\n",
       "    'bounds': [[49.772227, 52.96536237206464],\n",
       "     [50.431338999999994, 53.42448437206464]]}},\n",
       "  {'points': [[50.192023, 53.200649999999996],\n",
       "    [50.194269999999996, 53.200717],\n",
       "    [50.196517, 53.200784],\n",
       "    [50.198111, 53.200831],\n",
       "    [50.198374, 53.200838],\n",
       "    [50.198878, 53.200854]]},\n",
       "  {'id': 'stop__10001543',\n",
       "   'coordinates': [50.198886641, 53.200757405],\n",
       "   'name': 'Метро Спортивная',\n",
       "   'region': {'id': 51,\n",
       "    'hierarchy': [225, 11131, 51],\n",
       "    'seoname': 'samara',\n",
       "    'bounds': [[49.772227, 52.96536237206464],\n",
       "     [50.431338999999994, 53.42448437206464]]}},\n",
       "  {'points': [[50.198878, 53.200854],\n",
       "    [50.199588999999996, 53.200877],\n",
       "    [50.200269999999996, 53.200893],\n",
       "    [50.202517, 53.200962999999994],\n",
       "    [50.203261, 53.200986],\n",
       "    [50.203354, 53.200989],\n",
       "    [50.203612, 53.200998],\n",
       "    [50.204181999999996, 53.201015],\n",
       "    [50.204538, 53.201024999999994]]},\n",
       "  {'id': 'stop__10001541',\n",
       "   'coordinates': [50.204544813, 53.200932147],\n",
       "   'name': 'Улица Карбышева',\n",
       "   'region': {'id': 51,\n",
       "    'hierarchy': [225, 11131, 51],\n",
       "    'seoname': 'samara',\n",
       "    'bounds': [[49.772227, 52.96536237206464],\n",
       "     [50.431338999999994, 53.42448437206464]]}},\n",
       "  {'points': [[50.204538, 53.201024999999994],\n",
       "    [50.206784999999996, 53.201088],\n",
       "    [50.208355, 53.201131999999994],\n",
       "    [50.209050999999995, 53.201152],\n",
       "    [50.211298, 53.201215999999995],\n",
       "    [50.212257, 53.201243999999996],\n",
       "    [50.213173999999995, 53.201271],\n",
       "    [50.213603, 53.201283],\n",
       "    [50.213727999999996, 53.201285999999996],\n",
       "    [50.213893999999996, 53.201293],\n",
       "    [50.214096, 53.201302],\n",
       "    [50.214197, 53.201307],\n",
       "    [50.214898999999996, 53.201325999999995]]},\n",
       "  {'id': 'stop__10001538',\n",
       "   'coordinates': [50.214904838, 53.201248067],\n",
       "   'name': 'Улица Советской Армии',\n",
       "   'region': {'id': 51,\n",
       "    'hierarchy': [225, 11131, 51],\n",
       "    'seoname': 'samara',\n",
       "    'bounds': [[49.772227, 52.96536237206464],\n",
       "     [50.431338999999994, 53.42448437206464]]}},\n",
       "  {'points': [[50.214898999999996, 53.201325999999995],\n",
       "    [50.215717, 53.201347999999996],\n",
       "    [50.217014, 53.201386],\n",
       "    [50.2189, 53.201439],\n",
       "    [50.21912, 53.201445],\n",
       "    [50.221286, 53.201501],\n",
       "    [50.22197, 53.201519],\n",
       "    [50.222567999999995, 53.201536]]},\n",
       "  {'id': 'stop__10001537',\n",
       "   'coordinates': [50.22257456, 53.2014563],\n",
       "   'name': 'Метро Советская',\n",
       "   'region': {'id': 51,\n",
       "    'hierarchy': [225, 11131, 51],\n",
       "    'seoname': 'samara',\n",
       "    'bounds': [[49.772227, 52.96536237206464],\n",
       "     [50.431338999999994, 53.42448437206464]]}},\n",
       "  {'points': [[50.222567999999995, 53.201536],\n",
       "    [50.223468, 53.201561],\n",
       "    [50.224410999999996, 53.201589],\n",
       "    [50.224492999999995, 53.201611],\n",
       "    [50.224582999999996, 53.201643999999995],\n",
       "    [50.224655999999996, 53.201677],\n",
       "    [50.224725, 53.201718],\n",
       "    [50.224795, 53.201769],\n",
       "    [50.224851, 53.201817999999996],\n",
       "    [50.224923999999994, 53.201879999999996],\n",
       "    [50.224996999999995, 53.201935],\n",
       "    [50.225103, 53.202003999999995],\n",
       "    [50.225229, 53.202068999999995],\n",
       "    [50.226973, 53.202866],\n",
       "    [50.227033, 53.202894],\n",
       "    [50.227239, 53.202988],\n",
       "    [50.227666, 53.203182999999996],\n",
       "    [50.228145, 53.203398],\n",
       "    [50.228837, 53.20371]]},\n",
       "  {'id': 'stop__10001535',\n",
       "   'coordinates': [50.228897352, 53.203661608],\n",
       "   'name': 'Улица Победы',\n",
       "   'region': {'id': 51,\n",
       "    'hierarchy': [225, 11131, 51],\n",
       "    'seoname': 'samara',\n",
       "    'bounds': [[49.772227, 52.96536237206464],\n",
       "     [50.431338999999994, 53.42448437206464]]}},\n",
       "  {'points': [[50.228837, 53.20371],\n",
       "    [50.229538999999995, 53.204024999999994],\n",
       "    [50.230826, 53.204609],\n",
       "    [50.230931999999996, 53.204659],\n",
       "    [50.231226, 53.204792],\n",
       "    [50.231494999999995, 53.204915],\n",
       "    [50.232321, 53.205293],\n",
       "    [50.233331, 53.205763],\n",
       "    [50.233906, 53.206019],\n",
       "    [50.234541, 53.206316],\n",
       "    [50.234936999999995, 53.206502],\n",
       "    [50.235094, 53.206576999999996],\n",
       "    [50.235324, 53.206688],\n",
       "    [50.235651999999995, 53.206835999999996],\n",
       "    [50.235951, 53.206972]]},\n",
       "  {'id': 'stop__10001533',\n",
       "   'coordinates': [50.2360125, 53.2069238],\n",
       "   'name': 'Метро Победа',\n",
       "   'region': {'id': 51,\n",
       "    'hierarchy': [225, 11131, 51],\n",
       "    'seoname': 'samara',\n",
       "    'bounds': [[49.772227, 52.96536237206464],\n",
       "     [50.431338999999994, 53.42448437206464]]}},\n",
       "  {'points': [[50.235951, 53.206972],\n",
       "    [50.236898, 53.207404],\n",
       "    [50.236967, 53.207437999999996],\n",
       "    [50.237946, 53.207888],\n",
       "    [50.239087, 53.208397],\n",
       "    [50.239188999999996, 53.208441],\n",
       "    [50.239323, 53.208498],\n",
       "    [50.239481, 53.208571],\n",
       "    [50.239819, 53.208726]]},\n",
       "  {'id': 'stop__10001531',\n",
       "   'coordinates': [50.23989, 53.20867],\n",
       "   'name': 'Средне-Садовая улица',\n",
       "   'region': {'id': 51,\n",
       "    'hierarchy': [225, 11131, 51],\n",
       "    'seoname': 'samara',\n",
       "    'bounds': [[49.772227, 52.96536237206464],\n",
       "     [50.431338999999994, 53.42448437206464]]}},\n",
       "  {'points': [[50.239819, 53.208726],\n",
       "    [50.240967, 53.209253],\n",
       "    [50.242172, 53.209804999999996],\n",
       "    [50.243573, 53.210439],\n",
       "    [50.243676, 53.210485],\n",
       "    [50.243846999999995, 53.210563],\n",
       "    [50.244025, 53.210645],\n",
       "    [50.244353, 53.210795]]},\n",
       "  {'id': 'stop__10001529',\n",
       "   'coordinates': [50.244417, 53.210745],\n",
       "   'name': 'Улица Александра Матросова',\n",
       "   'region': {'id': 51,\n",
       "    'hierarchy': [225, 11131, 51],\n",
       "    'seoname': 'samara',\n",
       "    'bounds': [[49.772227, 52.96536237206464],\n",
       "     [50.431338999999994, 53.42448437206464]]}},\n",
       "  {'points': [[50.244353, 53.210795],\n",
       "    [50.245315, 53.211237],\n",
       "    [50.246247999999994, 53.211667999999996],\n",
       "    [50.246491999999996, 53.21178],\n",
       "    [50.246648, 53.211853],\n",
       "    [50.247727, 53.212343999999995],\n",
       "    [50.247799, 53.212377],\n",
       "    [50.248014999999995, 53.212475],\n",
       "    [50.248408, 53.212663],\n",
       "    [50.248501, 53.212705],\n",
       "    [50.248604, 53.212751999999995],\n",
       "    [50.248703, 53.212798]]},\n",
       "  {'id': 'stop__10001526',\n",
       "   'coordinates': [50.248829399, 53.212699637],\n",
       "   'name': 'Метро Безымянка',\n",
       "   'region': {'id': 51,\n",
       "    'hierarchy': [225, 11131, 51],\n",
       "    'seoname': 'samara',\n",
       "    'bounds': [[49.772227, 52.96536237206464],\n",
       "     [50.431338999999994, 53.42448437206464]]}},\n",
       "  {'points': [[50.248703, 53.212798],\n",
       "    [50.248740999999995, 53.212816],\n",
       "    [50.249128999999996, 53.212995],\n",
       "    [50.249458999999995, 53.213148],\n",
       "    [50.249626, 53.213224999999994],\n",
       "    [50.249975, 53.213381],\n",
       "    [50.250851, 53.213702],\n",
       "    [50.250941999999995, 53.213736999999995],\n",
       "    [50.2521, 53.214264],\n",
       "    [50.252237, 53.214327],\n",
       "    [50.253647, 53.214968],\n",
       "    [50.253871, 53.215072],\n",
       "    [50.253941999999995, 53.215106],\n",
       "    [50.254104, 53.21518],\n",
       "    [50.254265, 53.215253],\n",
       "    [50.254577, 53.215395]]},\n",
       "  {'id': 'stop__10001525',\n",
       "   'coordinates': [50.254654034, 53.215333991],\n",
       "   'name': 'Дом Дружбы Народов',\n",
       "   'region': {'id': 51,\n",
       "    'hierarchy': [225, 11131, 51],\n",
       "    'seoname': 'samara',\n",
       "    'bounds': [[49.772227, 52.96536237206464],\n",
       "     [50.431338999999994, 53.42448437206464]]}},\n",
       "  {'points': [[50.254577, 53.215395],\n",
       "    [50.25597, 53.216026],\n",
       "    [50.256014, 53.216046999999996],\n",
       "    [50.256164, 53.216113],\n",
       "    [50.256280999999994, 53.216165999999994],\n",
       "    [50.257449, 53.216696],\n",
       "    [50.258342999999996, 53.217104],\n",
       "    [50.259284, 53.217535],\n",
       "    [50.260374999999996, 53.218033999999996],\n",
       "    [50.260402, 53.218046],\n",
       "    [50.260487999999995, 53.218084],\n",
       "    [50.260529, 53.218053999999995],\n",
       "    [50.260954999999996, 53.21772],\n",
       "    [50.261553, 53.217248999999995],\n",
       "    [50.261626, 53.217191],\n",
       "    [50.261966, 53.216922],\n",
       "    [50.262024, 53.216888],\n",
       "    [50.262082, 53.216864],\n",
       "    [50.262221, 53.216828],\n",
       "    [50.262363, 53.216840999999995],\n",
       "    [50.262443999999995, 53.216845],\n",
       "    [50.262526, 53.21685],\n",
       "    [50.262591, 53.216857999999995],\n",
       "    [50.262657999999995, 53.216874999999995],\n",
       "    [50.262724999999996, 53.216896999999996],\n",
       "    [50.263487999999995, 53.217242],\n",
       "    [50.264084, 53.217523],\n",
       "    [50.264309999999995, 53.217628999999995],\n",
       "    [50.264392, 53.217665999999994],\n",
       "    [50.264694, 53.217808],\n",
       "    [50.264874, 53.217892],\n",
       "    [50.264686, 53.218064999999996],\n",
       "    [50.264576, 53.218168],\n",
       "    [50.264267, 53.218412]]},\n",
       "  {'id': 'stop__10001339',\n",
       "   'coordinates': [50.264393227, 53.218469276],\n",
       "   'name': 'Площадь имени Кирова',\n",
       "   'region': {'id': 51,\n",
       "    'hierarchy': [225, 11131, 51],\n",
       "    'seoname': 'samara',\n",
       "    'bounds': [[49.772227, 52.96536237206464],\n",
       "     [50.431338999999994, 53.42448437206464]]}},\n",
       "  {'points': [[50.264267, 53.218412],\n",
       "    [50.263799999999996, 53.218781],\n",
       "    [50.263284, 53.219187999999995],\n",
       "    [50.263211, 53.219246999999996],\n",
       "    [50.263149999999996, 53.219279],\n",
       "    [50.263084, 53.219305999999996],\n",
       "    [50.263017, 53.219328],\n",
       "    [50.262688999999995, 53.219434],\n",
       "    [50.262533999999995, 53.21948],\n",
       "    [50.262471, 53.219501],\n",
       "    [50.262443999999995, 53.219522999999995],\n",
       "    [50.261596999999995, 53.220192]]},\n",
       "  {'id': 'stop__10001337',\n",
       "   'coordinates': [50.261733914, 53.220253483],\n",
       "   'name': 'ТРК Вива Лэнд',\n",
       "   'region': {'id': 51,\n",
       "    'hierarchy': [225, 11131, 51],\n",
       "    'seoname': 'samara',\n",
       "    'bounds': [[49.772227, 52.96536237206464],\n",
       "     [50.431338999999994, 53.42448437206464]]}},\n",
       "  {'points': [[50.261596999999995, 53.220192],\n",
       "    [50.261153, 53.220543],\n",
       "    [50.26077, 53.220845],\n",
       "    [50.260681999999996, 53.220914],\n",
       "    [50.260146, 53.221336],\n",
       "    [50.259823999999995, 53.221591],\n",
       "    [50.259409, 53.22192],\n",
       "    [50.25929, 53.222013999999994],\n",
       "    [50.259159999999994, 53.222114999999995],\n",
       "    [50.258457, 53.222671],\n",
       "    [50.257633999999996, 53.223321],\n",
       "    [50.257255, 53.223619],\n",
       "    [50.25713, 53.22372],\n",
       "    [50.256505999999995, 53.224211],\n",
       "    [50.255888999999996, 53.224695999999994],\n",
       "    [50.2558, 53.224768999999995],\n",
       "    [50.255672, 53.224869],\n",
       "    [50.255494, 53.22501],\n",
       "    [50.255381, 53.2251],\n",
       "    [50.255313, 53.22515],\n",
       "    [50.25516, 53.225272]]},\n",
       "  {'id': 'stop__10001332',\n",
       "   'coordinates': [50.255319831, 53.225343834],\n",
       "   'name': 'Вольская улица',\n",
       "   'region': {'id': 51,\n",
       "    'hierarchy': [225, 11131, 51],\n",
       "    'seoname': 'samara',\n",
       "    'bounds': [[49.772227, 52.96536237206464],\n",
       "     [50.431338999999994, 53.42448437206464]]}},\n",
       "  {'points': [[50.25516, 53.225272],\n",
       "    [50.254678, 53.225654],\n",
       "    [50.254458, 53.225828],\n",
       "    [50.253879, 53.226287],\n",
       "    [50.253867, 53.226296],\n",
       "    [50.253370999999994, 53.226682999999994],\n",
       "    [50.253097, 53.2269],\n",
       "    [50.252506, 53.227363],\n",
       "    [50.252418, 53.227430999999996],\n",
       "    [50.252308, 53.227517],\n",
       "    [50.251822, 53.2279],\n",
       "    [50.251746999999995, 53.227956999999996],\n",
       "    [50.251672, 53.228016],\n",
       "    [50.250992, 53.228553999999995],\n",
       "    [50.250899, 53.228629999999995],\n",
       "    [50.250425, 53.229001999999994],\n",
       "    [50.250375999999996, 53.229042],\n",
       "    [50.249851, 53.229459]]},\n",
       "  {'id': 'stop__10001330',\n",
       "   'coordinates': [50.249997, 53.229525],\n",
       "   'name': 'Ставропольская улица',\n",
       "   'region': {'id': 51,\n",
       "    'hierarchy': [225, 11131, 51],\n",
       "    'seoname': 'samara',\n",
       "    'bounds': [[49.772227, 52.96536237206464],\n",
       "     [50.431338999999994, 53.42448437206464]]}},\n",
       "  {'points': [[50.249851, 53.229459],\n",
       "    [50.249682, 53.229592999999994],\n",
       "    [50.249604999999995, 53.229653],\n",
       "    [50.249584999999996, 53.22967],\n",
       "    [50.249463, 53.229765],\n",
       "    [50.249317999999995, 53.229884],\n",
       "    [50.249255, 53.229931],\n",
       "    [50.249103999999996, 53.230053999999996],\n",
       "    [50.248991, 53.230140999999996],\n",
       "    [50.248627, 53.230438],\n",
       "    [50.248276999999995, 53.230714],\n",
       "    [50.247234, 53.231536],\n",
       "    [50.247046, 53.231685],\n",
       "    [50.246967999999995, 53.231749],\n",
       "    [50.246818, 53.231865],\n",
       "    [50.245711, 53.232738999999995],\n",
       "    [50.244516, 53.233684999999994],\n",
       "    [50.244437, 53.233747],\n",
       "    [50.244327999999996, 53.233827999999995],\n",
       "    [50.244172999999996, 53.23395],\n",
       "    [50.244006, 53.234082],\n",
       "    [50.243992999999996, 53.234092999999994]]},\n",
       "  {'id': 'stop__10001328',\n",
       "   'coordinates': [50.24411365, 53.234149614],\n",
       "   'name': 'Черемшанская улица',\n",
       "   'region': {'id': 51,\n",
       "    'hierarchy': [225, 11131, 51],\n",
       "    'seoname': 'samara',\n",
       "    'bounds': [[49.772227, 52.96536237206464],\n",
       "     [50.431338999999994, 53.42448437206464]]}},\n",
       "  {'points': [[50.243992999999996, 53.234092999999994],\n",
       "    [50.243928, 53.234142999999996],\n",
       "    [50.24384, 53.234213999999994],\n",
       "    [50.243496, 53.234486],\n",
       "    [50.242563, 53.235215999999994],\n",
       "    [50.241571, 53.236003999999994],\n",
       "    [50.240663999999995, 53.236728]]},\n",
       "  {'id': 'stop__10001325',\n",
       "   'coordinates': [50.240792, 53.236785008],\n",
       "   'name': 'Кинотеатр Огонёк',\n",
       "   'region': {'id': 51,\n",
       "    'hierarchy': [225, 11131, 51],\n",
       "    'seoname': 'samara',\n",
       "    'bounds': [[49.772227, 52.96536237206464],\n",
       "     [50.431338999999994, 53.42448437206464]]}},\n",
       "  {'points': [[50.240663999999995, 53.236728],\n",
       "    [50.240595, 53.236782999999996],\n",
       "    [50.240503, 53.236850999999994],\n",
       "    [50.240379, 53.236945999999996],\n",
       "    [50.240327, 53.236984],\n",
       "    [50.239745, 53.237441],\n",
       "    [50.239469, 53.23766],\n",
       "    [50.239111, 53.237942999999994],\n",
       "    [50.237753, 53.239017999999994],\n",
       "    [50.237624, 53.23912],\n",
       "    [50.237182, 53.23947],\n",
       "    [50.237032, 53.239591]]},\n",
       "  {'id': 'stop__10001323',\n",
       "   'coordinates': [50.237165662, 53.239650045],\n",
       "   'name': 'Шоколадная фабрика',\n",
       "   'region': {'id': 51,\n",
       "    'hierarchy': [225, 11131, 51],\n",
       "    'seoname': 'samara',\n",
       "    'bounds': [[49.772227, 52.96536237206464],\n",
       "     [50.431338999999994, 53.42448437206464]]}},\n",
       "  {'points': [[50.237032, 53.239591],\n",
       "    [50.237002999999994, 53.239613999999996],\n",
       "    [50.236937999999995, 53.239664999999995],\n",
       "    [50.236546999999995, 53.239976],\n",
       "    [50.236379, 53.240106],\n",
       "    [50.236000999999995, 53.240401999999996],\n",
       "    [50.235721999999996, 53.24062],\n",
       "    [50.235175999999996, 53.241049],\n",
       "    [50.235084, 53.241121],\n",
       "    [50.234809, 53.241336],\n",
       "    [50.23419, 53.24182],\n",
       "    [50.233934, 53.242025999999996],\n",
       "    [50.233494, 53.242374],\n",
       "    [50.232886, 53.242852],\n",
       "    [50.232821, 53.242905],\n",
       "    [50.232751, 53.242957999999994],\n",
       "    [50.232578, 53.243095]]},\n",
       "  {'id': 'stop__10001322',\n",
       "   'coordinates': [50.23268638, 53.243144116],\n",
       "   'name': 'Улица Стара Загора',\n",
       "   'region': {'id': 51,\n",
       "    'hierarchy': [225, 11131, 51],\n",
       "    'seoname': 'samara',\n",
       "    'bounds': [[49.772227, 52.96536237206464],\n",
       "     [50.431338999999994, 53.42448437206464]]}},\n",
       "  {'points': [[50.232578, 53.243095],\n",
       "    [50.232248, 53.243355],\n",
       "    [50.232178, 53.243409],\n",
       "    [50.232105, 53.243545999999995],\n",
       "    [50.232071999999995, 53.243629999999996],\n",
       "    [50.232048, 53.243708],\n",
       "    [50.232037999999996, 53.243781999999996],\n",
       "    [50.232036, 53.24388],\n",
       "    [50.232045, 53.243969],\n",
       "    [50.232065999999996, 53.244017],\n",
       "    [50.232077, 53.24406],\n",
       "    [50.232079999999996, 53.244105],\n",
       "    [50.232076, 53.244156999999994],\n",
       "    [50.232127, 53.244281],\n",
       "    [50.232167, 53.244358999999996],\n",
       "    [50.232217999999996, 53.244437],\n",
       "    [50.232288, 53.244505999999994],\n",
       "    [50.232389999999995, 53.244586],\n",
       "    [50.232537, 53.244651],\n",
       "    [50.233239, 53.244965],\n",
       "    [50.233571999999995, 53.245117]]},\n",
       "  {'id': 'stop__10001422',\n",
       "   'coordinates': [50.23368426, 53.245028891],\n",
       "   'name': 'Проспект Кирова',\n",
       "   'region': {'id': 51,\n",
       "    'hierarchy': [225, 11131, 51],\n",
       "    'seoname': 'samara',\n",
       "    'bounds': [[49.772227, 52.96536237206464],\n",
       "     [50.431338999999994, 53.42448437206464]]}},\n",
       "  {'points': [[50.233571999999995, 53.245117],\n",
       "    [50.233819999999994, 53.24523],\n",
       "    [50.235352, 53.245933],\n",
       "    [50.236529, 53.246475],\n",
       "    [50.236779, 53.246583],\n",
       "    [50.236867, 53.246614],\n",
       "    [50.236985999999995, 53.246657],\n",
       "    [50.237082, 53.246688],\n",
       "    [50.237133, 53.246703999999994],\n",
       "    [50.237311999999996, 53.246755],\n",
       "    [50.237606, 53.246815999999995],\n",
       "    [50.23778, 53.246843999999996],\n",
       "    [50.238034999999996, 53.246880999999995],\n",
       "    [50.238395, 53.246925],\n",
       "    [50.239463, 53.247054999999996]]},\n",
       "  {'id': 'stop__10001420',\n",
       "   'coordinates': [50.23950335, 53.246934553],\n",
       "   'name': 'Кинотеатр Самара',\n",
       "   'region': {'id': 51,\n",
       "    'hierarchy': [225, 11131, 51],\n",
       "    'seoname': 'samara',\n",
       "    'bounds': [[49.772227, 52.96536237206464],\n",
       "     [50.431338999999994, 53.42448437206464]]}},\n",
       "  {'points': [[50.239463, 53.247054999999996],\n",
       "    [50.240234, 53.247147999999996],\n",
       "    [50.241043, 53.247246999999994],\n",
       "    [50.241713999999995, 53.247327999999996],\n",
       "    [50.241774, 53.247336],\n",
       "    [50.242036, 53.247367999999994],\n",
       "    [50.242401, 53.247408],\n",
       "    [50.242788999999995, 53.247454],\n",
       "    [50.24398, 53.2476],\n",
       "    [50.244378999999995, 53.247654],\n",
       "    [50.24474, 53.247710999999995],\n",
       "    [50.245324, 53.247819],\n",
       "    [50.245501, 53.247859],\n",
       "    [50.246089999999995, 53.247991999999996],\n",
       "    [50.246162999999996, 53.248011]]},\n",
       "  {'id': 'stop__10001418',\n",
       "   'coordinates': [50.246238341, 53.247903929],\n",
       "   'name': 'ТЦ Колизей / Ташкентская улица',\n",
       "   'region': {'id': 51,\n",
       "    'hierarchy': [225, 11131, 51],\n",
       "    'seoname': 'samara',\n",
       "    'bounds': [[49.772227, 52.96536237206464],\n",
       "     [50.431338999999994, 53.42448437206464]]}},\n",
       "  {'points': [[50.246162999999996, 53.248011],\n",
       "    [50.246463, 53.248086],\n",
       "    [50.24671, 53.248155],\n",
       "    [50.24688, 53.248157],\n",
       "    [50.247032, 53.248154],\n",
       "    [50.247147999999996, 53.248143999999996],\n",
       "    [50.247239, 53.248134],\n",
       "    [50.247310999999996, 53.248124999999995],\n",
       "    [50.247339, 53.24812],\n",
       "    [50.247369, 53.248115],\n",
       "    [50.247445, 53.248098999999996],\n",
       "    [50.247552, 53.248065999999994],\n",
       "    [50.247619, 53.248036],\n",
       "    [50.24767, 53.24801],\n",
       "    [50.247733, 53.247972999999995],\n",
       "    [50.247785, 53.247918],\n",
       "    [50.247938, 53.247752],\n",
       "    [50.248252, 53.247406999999995],\n",
       "    [50.248484999999995, 53.247152],\n",
       "    [50.248669, 53.246952],\n",
       "    [50.248881, 53.246722999999996],\n",
       "    [50.249131, 53.246448],\n",
       "    [50.249246, 53.246323999999994],\n",
       "    [50.249361, 53.246213],\n",
       "    [50.24951, 53.246075999999995],\n",
       "    [50.249637, 53.245968999999995],\n",
       "    [50.249707, 53.245914],\n",
       "    [50.249762999999994, 53.245871],\n",
       "    [50.25031, 53.245447999999996],\n",
       "    [50.251689, 53.244383],\n",
       "    [50.252047999999995, 53.244105],\n",
       "    [50.252106999999995, 53.244059]]},\n",
       "  {'id': 'stop__10001618',\n",
       "   'coordinates': [50.252010475, 53.24401532],\n",
       "   'name': 'Рынок 15-го микрорайона',\n",
       "   'region': {'id': 51,\n",
       "    'hierarchy': [225, 11131, 51],\n",
       "    'seoname': 'samara',\n",
       "    'bounds': [[49.772227, 52.96536237206464],\n",
       "     [50.431338999999994, 53.42448437206464]]}},\n",
       "  {'points': [[50.252106999999995, 53.244059],\n",
       "    [50.25217, 53.244009999999996],\n",
       "    [50.252275, 53.243928],\n",
       "    [50.252697, 53.243598999999996],\n",
       "    [50.253132, 53.243261],\n",
       "    [50.253169, 53.243233],\n",
       "    [50.253522, 53.243387],\n",
       "    [50.254129, 53.243652],\n",
       "    [50.254239, 53.2437],\n",
       "    [50.254359, 53.243755],\n",
       "    [50.255188, 53.244125999999994],\n",
       "    [50.256099999999996, 53.244533999999994],\n",
       "    [50.256249999999994, 53.244600999999996],\n",
       "    [50.256322999999995, 53.244633],\n",
       "    [50.256338, 53.24464],\n",
       "    [50.257875, 53.245335],\n",
       "    [50.258106999999995, 53.245441]]},\n",
       "  {'id': 'stop__10001616',\n",
       "   'coordinates': [50.258160364, 53.245398879],\n",
       "   'name': 'Проспект Карла Маркса',\n",
       "   'region': {'id': 51,\n",
       "    'hierarchy': [225, 11131, 51],\n",
       "    'seoname': 'samara',\n",
       "    'bounds': [[49.772227, 52.96536237206464],\n",
       "     [50.431338999999994, 53.42448437206464]]}},\n",
       "  {'points': [[50.258106999999995, 53.245441],\n",
       "    [50.25899, 53.245844],\n",
       "    [50.259206999999996, 53.245943],\n",
       "    [50.259702, 53.24617],\n",
       "    [50.261491, 53.246989],\n",
       "    [50.261509, 53.246998],\n",
       "    [50.261661, 53.247066999999994],\n",
       "    [50.261773, 53.247118],\n",
       "    [50.263298, 53.247817],\n",
       "    [50.263636999999996, 53.247972999999995],\n",
       "    [50.264207, 53.248227],\n",
       "    [50.264371999999995, 53.248301],\n",
       "    [50.264603, 53.248408],\n",
       "    [50.265144, 53.248658999999996],\n",
       "    [50.265212999999996, 53.248691],\n",
       "    [50.265178, 53.248821],\n",
       "    [50.265145, 53.248939],\n",
       "    [50.265124, 53.248996999999996],\n",
       "    [50.265097, 53.249061999999995],\n",
       "    [50.265389, 53.249193999999996]]},\n",
       "  {'id': 'stop__10001409',\n",
       "   'coordinates': [50.265436246, 53.249157114],\n",
       "   'name': '15-й А микрорайон',\n",
       "   'region': {'id': 51,\n",
       "    'hierarchy': [225, 11131, 51],\n",
       "    'seoname': 'samara',\n",
       "    'bounds': [[49.772227, 52.96536237206464],\n",
       "     [50.431338999999994, 53.42448437206464]]}}],\n",
       " 'properties': {'ThreadMetaData': {'id': '2193179277',\n",
       "   'lineId': '2193179125',\n",
       "   'name': '41',\n",
       "   'type': 'bus',\n",
       "   'Types': ['bus'],\n",
       "   'EssentialStops': [{'id': 'stop__10001445', 'name': 'Улица Высоцкого'},\n",
       "    {'id': 'stop__10001409', 'name': '15-й А микрорайон'}],\n",
       "   'uri': 'ymapsbm1://transit/line?id=2193179125&ll=50.182016%2C53.217864&name=41&r=6559&type=bus',\n",
       "   'seoname': '41'},\n",
       "  'boundedBy': [[50.0986452609, 53.186512972],\n",
       "   [50.26538885537206, 53.24919444999498]]},\n",
       " 'MapsUIMetaData': {'Region': [{'id': 51,\n",
       "    'type': 6,\n",
       "    'parent_id': 120861,\n",
       "    'capital_id': 0,\n",
       "    'geo_parent_id': 0,\n",
       "    'city_id': 51,\n",
       "    'name': 'Самара',\n",
       "    'native_name': '',\n",
       "    'iso_name': 'RU KUF',\n",
       "    'is_main': True,\n",
       "    'en_name': 'Samara',\n",
       "    'short_en_name': 'KUF',\n",
       "    'phone_code': '846',\n",
       "    'phone_code_old': '',\n",
       "    'zip_code': '',\n",
       "    'population': 1163399,\n",
       "    'synonyms': '',\n",
       "    'latitude': 53.195538,\n",
       "    'longitude': 50.101783,\n",
       "    'latitude_size': 0.459122,\n",
       "    'longitude_size': 0.659112,\n",
       "    'zoom': 12,\n",
       "    'tzname': 'Europe/Samara',\n",
       "    'official_languages': 'ru',\n",
       "    'widespread_languages': 'ba,cv,ru,tt',\n",
       "    'suggest_list': [],\n",
       "    'is_eu': False,\n",
       "    'services_names': ['bs',\n",
       "     'yaca',\n",
       "     'weather',\n",
       "     'afisha',\n",
       "     'maps',\n",
       "     'tv',\n",
       "     'ad',\n",
       "     'etrain',\n",
       "     'delivery',\n",
       "     'route'],\n",
       "    'seoname': 'samara',\n",
       "    'bounds': [[49.772227, 52.96536237206464],\n",
       "     [50.431338999999994, 53.42448437206464]],\n",
       "    'names': {'ablative': '',\n",
       "     'accusative': 'Самару',\n",
       "     'dative': 'Самаре',\n",
       "     'directional': '',\n",
       "     'genitive': 'Самары',\n",
       "     'instrumental': 'Самарой',\n",
       "     'locative': '',\n",
       "     'nominative': 'Самара',\n",
       "     'preposition': 'в',\n",
       "     'prepositional': 'Самаре'},\n",
       "    'parent': {'id': 11131,\n",
       "     'type': 5,\n",
       "     'parent_id': 40,\n",
       "     'capital_id': 51,\n",
       "     'geo_parent_id': 0,\n",
       "     'city_id': 51,\n",
       "     'name': 'Самарская область',\n",
       "     'native_name': '',\n",
       "     'iso_name': 'RU-SAM',\n",
       "     'is_main': False,\n",
       "     'en_name': 'Samara Oblast',\n",
       "     'short_en_name': 'RU-SAM',\n",
       "     'phone_code': '846 848',\n",
       "     'phone_code_old': '',\n",
       "     'zip_code': '',\n",
       "     'population': 3193514,\n",
       "     'synonyms': '',\n",
       "     'latitude': 53.27635,\n",
       "     'longitude': 50.463301,\n",
       "     'latitude_size': 2.906034,\n",
       "     'longitude_size': 4.640813,\n",
       "     'zoom': 8,\n",
       "     'tzname': 'Europe/Samara',\n",
       "     'official_languages': 'ru',\n",
       "     'widespread_languages': 'ba,cv,ru,tt',\n",
       "     'suggest_list': [51,\n",
       "      240,\n",
       "      11139,\n",
       "      11135,\n",
       "      11141,\n",
       "      11132,\n",
       "      11137,\n",
       "      11133,\n",
       "      11138,\n",
       "      11136,\n",
       "      11134],\n",
       "     'is_eu': False,\n",
       "     'services_names': ['bs', 'yaca', 'ad'],\n",
       "     'seoname': 'samara-oblast',\n",
       "     'bounds': [[48.142894500000004, 51.79864476633541],\n",
       "      [52.7837075, 54.704678766335405]],\n",
       "     'names': {'ablative': '',\n",
       "      'accusative': 'Самарскую область',\n",
       "      'dative': 'Самарской области',\n",
       "      'directional': '',\n",
       "      'genitive': 'Самарской области',\n",
       "      'instrumental': 'Самарской областью',\n",
       "      'locative': '',\n",
       "      'nominative': 'Самарская область',\n",
       "      'preposition': 'в',\n",
       "      'prepositional': 'Самарской области'},\n",
       "     'parent': {'id': 225,\n",
       "      'type': 3,\n",
       "      'parent_id': 10001,\n",
       "      'capital_id': 213,\n",
       "      'geo_parent_id': 0,\n",
       "      'city_id': 213,\n",
       "      'name': 'Россия',\n",
       "      'native_name': '',\n",
       "      'iso_name': 'RU',\n",
       "      'is_main': False,\n",
       "      'en_name': 'Russia',\n",
       "      'short_en_name': 'RU',\n",
       "      'phone_code': '7',\n",
       "      'phone_code_old': '',\n",
       "      'zip_code': '',\n",
       "      'population': 146880432,\n",
       "      'synonyms': 'Russian Federation,Российская Федерация',\n",
       "      'latitude': 61.698653,\n",
       "      'longitude': 99.505405,\n",
       "      'latitude_size': 40.700127,\n",
       "      'longitude_size': 171.643239,\n",
       "      'zoom': 3,\n",
       "      'tzname': '',\n",
       "      'official_languages': 'ru',\n",
       "      'widespread_languages': 'ru',\n",
       "      'suggest_list': [213, 2, 65, 54, 47, 43, 66, 51, 56, 172, 39, 62],\n",
       "      'is_eu': False,\n",
       "      'services_names': ['bs', 'yaca', 'ad'],\n",
       "      'seoname': 'russia',\n",
       "      'bounds': [[13.683785499999999, 35.290400699917846],\n",
       "       [-174.6729755, 75.99052769991785]],\n",
       "      'names': {'ablative': '',\n",
       "       'accusative': 'Россию',\n",
       "       'dative': 'России',\n",
       "       'directional': '',\n",
       "       'genitive': 'России',\n",
       "       'instrumental': 'Россией',\n",
       "       'locative': '',\n",
       "       'nominative': 'Россия',\n",
       "       'preposition': 'в',\n",
       "       'prepositional': 'России'}}}},\n",
       "   {'id': 51,\n",
       "    'type': 6,\n",
       "    'parent_id': 120861,\n",
       "    'capital_id': 0,\n",
       "    'geo_parent_id': 0,\n",
       "    'city_id': 51,\n",
       "    'name': 'Самара',\n",
       "    'native_name': '',\n",
       "    'iso_name': 'RU KUF',\n",
       "    'is_main': True,\n",
       "    'en_name': 'Samara',\n",
       "    'short_en_name': 'KUF',\n",
       "    'phone_code': '846',\n",
       "    'phone_code_old': '',\n",
       "    'zip_code': '',\n",
       "    'population': 1163399,\n",
       "    'synonyms': '',\n",
       "    'latitude': 53.195538,\n",
       "    'longitude': 50.101783,\n",
       "    'latitude_size': 0.459122,\n",
       "    'longitude_size': 0.659112,\n",
       "    'zoom': 12,\n",
       "    'tzname': 'Europe/Samara',\n",
       "    'official_languages': 'ru',\n",
       "    'widespread_languages': 'ba,cv,ru,tt',\n",
       "    'suggest_list': [],\n",
       "    'is_eu': False,\n",
       "    'services_names': ['bs',\n",
       "     'yaca',\n",
       "     'weather',\n",
       "     'afisha',\n",
       "     'maps',\n",
       "     'tv',\n",
       "     'ad',\n",
       "     'etrain',\n",
       "     'delivery',\n",
       "     'route'],\n",
       "    'seoname': 'samara',\n",
       "    'bounds': [[49.772227, 52.96536237206464],\n",
       "     [50.431338999999994, 53.42448437206464]],\n",
       "    'names': {'ablative': '',\n",
       "     'accusative': 'Самару',\n",
       "     'dative': 'Самаре',\n",
       "     'directional': '',\n",
       "     'genitive': 'Самары',\n",
       "     'instrumental': 'Самарой',\n",
       "     'locative': '',\n",
       "     'nominative': 'Самара',\n",
       "     'preposition': 'в',\n",
       "     'prepositional': 'Самаре'},\n",
       "    'parent': {'id': 11131,\n",
       "     'type': 5,\n",
       "     'parent_id': 40,\n",
       "     'capital_id': 51,\n",
       "     'geo_parent_id': 0,\n",
       "     'city_id': 51,\n",
       "     'name': 'Самарская область',\n",
       "     'native_name': '',\n",
       "     'iso_name': 'RU-SAM',\n",
       "     'is_main': False,\n",
       "     'en_name': 'Samara Oblast',\n",
       "     'short_en_name': 'RU-SAM',\n",
       "     'phone_code': '846 848',\n",
       "     'phone_code_old': '',\n",
       "     'zip_code': '',\n",
       "     'population': 3193514,\n",
       "     'synonyms': '',\n",
       "     'latitude': 53.27635,\n",
       "     'longitude': 50.463301,\n",
       "     'latitude_size': 2.906034,\n",
       "     'longitude_size': 4.640813,\n",
       "     'zoom': 8,\n",
       "     'tzname': 'Europe/Samara',\n",
       "     'official_languages': 'ru',\n",
       "     'widespread_languages': 'ba,cv,ru,tt',\n",
       "     'suggest_list': [51,\n",
       "      240,\n",
       "      11139,\n",
       "      11135,\n",
       "      11141,\n",
       "      11132,\n",
       "      11137,\n",
       "      11133,\n",
       "      11138,\n",
       "      11136,\n",
       "      11134],\n",
       "     'is_eu': False,\n",
       "     'services_names': ['bs', 'yaca', 'ad'],\n",
       "     'seoname': 'samara-oblast',\n",
       "     'bounds': [[48.142894500000004, 51.79864476633541],\n",
       "      [52.7837075, 54.704678766335405]],\n",
       "     'names': {'ablative': '',\n",
       "      'accusative': 'Самарскую область',\n",
       "      'dative': 'Самарской области',\n",
       "      'directional': '',\n",
       "      'genitive': 'Самарской области',\n",
       "      'instrumental': 'Самарской областью',\n",
       "      'locative': '',\n",
       "      'nominative': 'Самарская область',\n",
       "      'preposition': 'в',\n",
       "      'prepositional': 'Самарской области'},\n",
       "     'parent': {'id': 225,\n",
       "      'type': 3,\n",
       "      'parent_id': 10001,\n",
       "      'capital_id': 213,\n",
       "      'geo_parent_id': 0,\n",
       "      'city_id': 213,\n",
       "      'name': 'Россия',\n",
       "      'native_name': '',\n",
       "      'iso_name': 'RU',\n",
       "      'is_main': False,\n",
       "      'en_name': 'Russia',\n",
       "      'short_en_name': 'RU',\n",
       "      'phone_code': '7',\n",
       "      'phone_code_old': '',\n",
       "      'zip_code': '',\n",
       "      'population': 146880432,\n",
       "      'synonyms': 'Russian Federation,Российская Федерация',\n",
       "      'latitude': 61.698653,\n",
       "      'longitude': 99.505405,\n",
       "      'latitude_size': 40.700127,\n",
       "      'longitude_size': 171.643239,\n",
       "      'zoom': 3,\n",
       "      'tzname': '',\n",
       "      'official_languages': 'ru',\n",
       "      'widespread_languages': 'ru',\n",
       "      'suggest_list': [213, 2, 65, 54, 47, 43, 66, 51, 56, 172, 39, 62],\n",
       "      'is_eu': False,\n",
       "      'services_names': ['bs', 'yaca', 'ad'],\n",
       "      'seoname': 'russia',\n",
       "      'bounds': [[13.683785499999999, 35.290400699917846],\n",
       "       [-174.6729755, 75.99052769991785]],\n",
       "      'names': {'ablative': '',\n",
       "       'accusative': 'Россию',\n",
       "       'dative': 'России',\n",
       "       'directional': '',\n",
       "       'genitive': 'России',\n",
       "       'instrumental': 'Россией',\n",
       "       'locative': '',\n",
       "       'nominative': 'Россия',\n",
       "       'preposition': 'в',\n",
       "       'prepositional': 'России'}}}}],\n",
       "  'areFirstAndLastStopsInSameRegion': True}}"
      ]
     },
     "execution_count": 79,
     "metadata": {},
     "output_type": "execute_result"
    }
   ],
   "source": [
    "js['masstransitLine']['features'][1]"
   ]
  },
  {
   "cell_type": "code",
   "execution_count": null,
   "metadata": {},
   "outputs": [],
   "source": []
  },
  {
   "cell_type": "code",
   "execution_count": null,
   "metadata": {},
   "outputs": [],
   "source": []
  },
  {
   "cell_type": "code",
   "execution_count": 64,
   "metadata": {},
   "outputs": [
    {
     "data": {
      "text/plain": [
       "'2193179125'"
      ]
     },
     "execution_count": 64,
     "metadata": {},
     "output_type": "execute_result"
    }
   ],
   "source": [
    "js['vehicles'][0]['properties']['VehicleMetaData']['Transport']['lineId']"
   ]
  },
  {
   "cell_type": "code",
   "execution_count": null,
   "metadata": {},
   "outputs": [],
   "source": []
  },
  {
   "cell_type": "code",
   "execution_count": 65,
   "metadata": {},
   "outputs": [],
   "source": [
    "lineid = '2193179125'"
   ]
  },
  {
   "cell_type": "code",
   "execution_count": 69,
   "metadata": {},
   "outputs": [],
   "source": [
    "l3 = 'https://yandex.ru/maps/{}/{}/routes/{}'.format(city_id, city_name, lineid)"
   ]
  },
  {
   "cell_type": "code",
   "execution_count": null,
   "metadata": {},
   "outputs": [],
   "source": []
  },
  {
   "cell_type": "code",
   "execution_count": 68,
   "metadata": {},
   "outputs": [
    {
     "name": "stdout",
     "output_type": "stream",
     "text": [
      "https://yandex.ru/maps/51/samara/routes/2193179125\n"
     ]
    }
   ],
   "source": [
    "print(s)"
   ]
  },
  {
   "cell_type": "code",
   "execution_count": null,
   "metadata": {},
   "outputs": [],
   "source": []
  },
  {
   "cell_type": "code",
   "execution_count": 43,
   "metadata": {},
   "outputs": [],
   "source": [
    "l2 = l1 + \"/buses\""
   ]
  },
  {
   "cell_type": "code",
   "execution_count": 44,
   "metadata": {},
   "outputs": [
    {
     "name": "stdout",
     "output_type": "stream",
     "text": [
      "https://yandex.ru/maps/51/samara/transport/buses\n"
     ]
    }
   ],
   "source": [
    "print(l2)"
   ]
  },
  {
   "cell_type": "code",
   "execution_count": null,
   "metadata": {},
   "outputs": [],
   "source": []
  },
  {
   "cell_type": "code",
   "execution_count": null,
   "metadata": {},
   "outputs": [],
   "source": [
    "# \"https://yandex.ru/maps/51/samara/transport/buses/?l=masstransit&ll=50.212459%2C53.227108&z=11\""
   ]
  },
  {
   "cell_type": "code",
   "execution_count": null,
   "metadata": {},
   "outputs": [],
   "source": [
    "# https://yandex.ru/maps/51/samara/transport/?ll=50.183735%2C53.233963&z=10"
   ]
  },
  {
   "cell_type": "code",
   "execution_count": null,
   "metadata": {},
   "outputs": [],
   "source": []
  }
 ],
 "metadata": {
  "kernelspec": {
   "display_name": "Python 3",
   "language": "python",
   "name": "python3"
  },
  "language_info": {
   "codemirror_mode": {
    "name": "ipython",
    "version": 3
   },
   "file_extension": ".py",
   "mimetype": "text/x-python",
   "name": "python",
   "nbconvert_exporter": "python",
   "pygments_lexer": "ipython3",
   "version": "3.7.6"
  }
 },
 "nbformat": 4,
 "nbformat_minor": 2
}
