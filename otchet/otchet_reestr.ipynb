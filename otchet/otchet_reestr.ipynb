{
 "cells": [
  {
   "cell_type": "code",
   "execution_count": 1,
   "metadata": {},
   "outputs": [],
   "source": [
    "import numpy as np\n",
    "import pandas as pd\n",
    "import geopandas as gpd\n",
    "from tqdm.notebook import tqdm\n",
    "import time\n",
    "\n",
    "import shapely\n",
    "from shapely.geometry import Point, MultiPoint, LineString, MultiLineString\n",
    "\n",
    "from sqlalchemy import create_engine\n",
    "import traceback\n",
    "import getpass"
   ]
  },
  {
   "cell_type": "code",
   "execution_count": null,
   "metadata": {},
   "outputs": [],
   "source": []
  },
  {
   "cell_type": "code",
   "execution_count": 2,
   "metadata": {},
   "outputs": [],
   "source": [
    "# clmns = ['route_id','agency_id','route_short_name','route_long_name','route_type']\n",
    "routes = pd.read_csv('./data/raspis/routes.txt', sep=\",\")\n",
    "# routes.columns = clmns"
   ]
  },
  {
   "cell_type": "code",
   "execution_count": 3,
   "metadata": {},
   "outputs": [
    {
     "data": {
      "text/html": [
       "<div>\n",
       "<style scoped>\n",
       "    .dataframe tbody tr th:only-of-type {\n",
       "        vertical-align: middle;\n",
       "    }\n",
       "\n",
       "    .dataframe tbody tr th {\n",
       "        vertical-align: top;\n",
       "    }\n",
       "\n",
       "    .dataframe thead th {\n",
       "        text-align: right;\n",
       "    }\n",
       "</style>\n",
       "<table border=\"1\" class=\"dataframe\">\n",
       "  <thead>\n",
       "    <tr style=\"text-align: right;\">\n",
       "      <th></th>\n",
       "      <th>route_id</th>\n",
       "      <th>agency_id</th>\n",
       "      <th>route_short_name</th>\n",
       "      <th>route_long_name</th>\n",
       "      <th>route_type</th>\n",
       "    </tr>\n",
       "  </thead>\n",
       "  <tbody>\n",
       "    <tr>\n",
       "      <th>0</th>\n",
       "      <td>1</td>\n",
       "      <td>1</td>\n",
       "      <td>1</td>\n",
       "      <td>Автостанция Красная Глинка - Железнодорожный в...</td>\n",
       "      <td>3</td>\n",
       "    </tr>\n",
       "    <tr>\n",
       "      <th>1</th>\n",
       "      <td>14</td>\n",
       "      <td>1</td>\n",
       "      <td>38</td>\n",
       "      <td>9-й микрорайон - Юнгородок</td>\n",
       "      <td>3</td>\n",
       "    </tr>\n",
       "  </tbody>\n",
       "</table>\n",
       "</div>"
      ],
      "text/plain": [
       "   route_id  agency_id route_short_name  \\\n",
       "0         1          1                1   \n",
       "1        14          1               38   \n",
       "\n",
       "                                     route_long_name  route_type  \n",
       "0  Автостанция Красная Глинка - Железнодорожный в...           3  \n",
       "1                         9-й микрорайон - Юнгородок           3  "
      ]
     },
     "execution_count": 3,
     "metadata": {},
     "output_type": "execute_result"
    }
   ],
   "source": [
    "routes.head(2)"
   ]
  },
  {
   "cell_type": "code",
   "execution_count": 4,
   "metadata": {},
   "outputs": [],
   "source": [
    "stops = pd.read_csv('./data/raspis/stops.txt', sep=\",\")"
   ]
  },
  {
   "cell_type": "code",
   "execution_count": 5,
   "metadata": {},
   "outputs": [
    {
     "data": {
      "text/html": [
       "<div>\n",
       "<style scoped>\n",
       "    .dataframe tbody tr th:only-of-type {\n",
       "        vertical-align: middle;\n",
       "    }\n",
       "\n",
       "    .dataframe tbody tr th {\n",
       "        vertical-align: top;\n",
       "    }\n",
       "\n",
       "    .dataframe thead th {\n",
       "        text-align: right;\n",
       "    }\n",
       "</style>\n",
       "<table border=\"1\" class=\"dataframe\">\n",
       "  <thead>\n",
       "    <tr style=\"text-align: right;\">\n",
       "      <th></th>\n",
       "      <th>stop_id</th>\n",
       "      <th>stop_name</th>\n",
       "      <th>stop_lat</th>\n",
       "      <th>stop_lon</th>\n",
       "    </tr>\n",
       "  </thead>\n",
       "  <tbody>\n",
       "    <tr>\n",
       "      <th>0</th>\n",
       "      <td>2</td>\n",
       "      <td>Завод Электрощит</td>\n",
       "      <td>53.381994</td>\n",
       "      <td>50.166450</td>\n",
       "    </tr>\n",
       "    <tr>\n",
       "      <th>1</th>\n",
       "      <td>3</td>\n",
       "      <td>пос.Южный</td>\n",
       "      <td>53.372294</td>\n",
       "      <td>50.177035</td>\n",
       "    </tr>\n",
       "  </tbody>\n",
       "</table>\n",
       "</div>"
      ],
      "text/plain": [
       "   stop_id         stop_name   stop_lat   stop_lon\n",
       "0        2  Завод Электрощит  53.381994  50.166450\n",
       "1        3         пос.Южный  53.372294  50.177035"
      ]
     },
     "execution_count": 5,
     "metadata": {},
     "output_type": "execute_result"
    }
   ],
   "source": [
    "stops.head(2)"
   ]
  },
  {
   "cell_type": "code",
   "execution_count": null,
   "metadata": {},
   "outputs": [],
   "source": []
  },
  {
   "cell_type": "code",
   "execution_count": 6,
   "metadata": {},
   "outputs": [],
   "source": [
    "trips = pd.read_csv('./data/raspis/trips.txt', sep=\",\")"
   ]
  },
  {
   "cell_type": "code",
   "execution_count": 7,
   "metadata": {},
   "outputs": [],
   "source": [
    "trips = trips.sort_values(by=['route_id', 'trip_id']).reset_index(drop=True)"
   ]
  },
  {
   "cell_type": "code",
   "execution_count": 8,
   "metadata": {},
   "outputs": [
    {
     "data": {
      "text/html": [
       "<div>\n",
       "<style scoped>\n",
       "    .dataframe tbody tr th:only-of-type {\n",
       "        vertical-align: middle;\n",
       "    }\n",
       "\n",
       "    .dataframe tbody tr th {\n",
       "        vertical-align: top;\n",
       "    }\n",
       "\n",
       "    .dataframe thead th {\n",
       "        text-align: right;\n",
       "    }\n",
       "</style>\n",
       "<table border=\"1\" class=\"dataframe\">\n",
       "  <thead>\n",
       "    <tr style=\"text-align: right;\">\n",
       "      <th></th>\n",
       "      <th>route_id</th>\n",
       "      <th>service_id</th>\n",
       "      <th>trip_id</th>\n",
       "      <th>trip_headsign</th>\n",
       "      <th>direction_id</th>\n",
       "      <th>shape_id</th>\n",
       "    </tr>\n",
       "  </thead>\n",
       "  <tbody>\n",
       "    <tr>\n",
       "      <th>0</th>\n",
       "      <td>1</td>\n",
       "      <td>0_40549</td>\n",
       "      <td>0_40549_405490011_1</td>\n",
       "      <td>до Автостанция Красная Глинка</td>\n",
       "      <td>1</td>\n",
       "      <td>0_40549_H</td>\n",
       "    </tr>\n",
       "    <tr>\n",
       "      <th>1</th>\n",
       "      <td>1</td>\n",
       "      <td>0_40549</td>\n",
       "      <td>0_40549_405490011_2</td>\n",
       "      <td>до Железнодорожный вокзал (стоянка)</td>\n",
       "      <td>0</td>\n",
       "      <td>0_40549_A</td>\n",
       "    </tr>\n",
       "  </tbody>\n",
       "</table>\n",
       "</div>"
      ],
      "text/plain": [
       "   route_id service_id              trip_id  \\\n",
       "0         1    0_40549  0_40549_405490011_1   \n",
       "1         1    0_40549  0_40549_405490011_2   \n",
       "\n",
       "                         trip_headsign  direction_id   shape_id  \n",
       "0        до Автостанция Красная Глинка             1  0_40549_H  \n",
       "1  до Железнодорожный вокзал (стоянка)             0  0_40549_A  "
      ]
     },
     "execution_count": 8,
     "metadata": {},
     "output_type": "execute_result"
    }
   ],
   "source": [
    "trips.head(2)"
   ]
  },
  {
   "cell_type": "code",
   "execution_count": 9,
   "metadata": {},
   "outputs": [],
   "source": [
    "stop_times = pd.read_csv('./data/raspis/stop_times.txt', sep=\",\")"
   ]
  },
  {
   "cell_type": "code",
   "execution_count": 10,
   "metadata": {},
   "outputs": [
    {
     "data": {
      "text/html": [
       "<div>\n",
       "<style scoped>\n",
       "    .dataframe tbody tr th:only-of-type {\n",
       "        vertical-align: middle;\n",
       "    }\n",
       "\n",
       "    .dataframe tbody tr th {\n",
       "        vertical-align: top;\n",
       "    }\n",
       "\n",
       "    .dataframe thead th {\n",
       "        text-align: right;\n",
       "    }\n",
       "</style>\n",
       "<table border=\"1\" class=\"dataframe\">\n",
       "  <thead>\n",
       "    <tr style=\"text-align: right;\">\n",
       "      <th></th>\n",
       "      <th>trip_id</th>\n",
       "      <th>arrival_time</th>\n",
       "      <th>departure_time</th>\n",
       "      <th>stop_id</th>\n",
       "      <th>stop_sequence</th>\n",
       "    </tr>\n",
       "  </thead>\n",
       "  <tbody>\n",
       "    <tr>\n",
       "      <th>0</th>\n",
       "      <td>0_38341_383410011_1</td>\n",
       "      <td>06:00:00</td>\n",
       "      <td>06:00:00</td>\n",
       "      <td>615</td>\n",
       "      <td>5</td>\n",
       "    </tr>\n",
       "    <tr>\n",
       "      <th>1</th>\n",
       "      <td>0_38341_383410011_1</td>\n",
       "      <td>06:01:00</td>\n",
       "      <td>06:01:00</td>\n",
       "      <td>554</td>\n",
       "      <td>6</td>\n",
       "    </tr>\n",
       "  </tbody>\n",
       "</table>\n",
       "</div>"
      ],
      "text/plain": [
       "               trip_id arrival_time departure_time  stop_id  stop_sequence\n",
       "0  0_38341_383410011_1     06:00:00       06:00:00      615              5\n",
       "1  0_38341_383410011_1     06:01:00       06:01:00      554              6"
      ]
     },
     "execution_count": 10,
     "metadata": {},
     "output_type": "execute_result"
    }
   ],
   "source": [
    "stop_times.head(2)"
   ]
  },
  {
   "cell_type": "code",
   "execution_count": null,
   "metadata": {},
   "outputs": [],
   "source": []
  },
  {
   "cell_type": "code",
   "execution_count": null,
   "metadata": {},
   "outputs": [],
   "source": []
  },
  {
   "cell_type": "code",
   "execution_count": 11,
   "metadata": {},
   "outputs": [],
   "source": [
    "reestr = routes.copy()"
   ]
  },
  {
   "cell_type": "code",
   "execution_count": 12,
   "metadata": {},
   "outputs": [
    {
     "data": {
      "text/html": [
       "<div>\n",
       "<style scoped>\n",
       "    .dataframe tbody tr th:only-of-type {\n",
       "        vertical-align: middle;\n",
       "    }\n",
       "\n",
       "    .dataframe tbody tr th {\n",
       "        vertical-align: top;\n",
       "    }\n",
       "\n",
       "    .dataframe thead th {\n",
       "        text-align: right;\n",
       "    }\n",
       "</style>\n",
       "<table border=\"1\" class=\"dataframe\">\n",
       "  <thead>\n",
       "    <tr style=\"text-align: right;\">\n",
       "      <th></th>\n",
       "      <th>route_id</th>\n",
       "      <th>agency_id</th>\n",
       "      <th>route_short_name</th>\n",
       "      <th>route_long_name</th>\n",
       "      <th>route_type</th>\n",
       "    </tr>\n",
       "  </thead>\n",
       "  <tbody>\n",
       "    <tr>\n",
       "      <th>0</th>\n",
       "      <td>1</td>\n",
       "      <td>1</td>\n",
       "      <td>1</td>\n",
       "      <td>Автостанция Красная Глинка - Железнодорожный в...</td>\n",
       "      <td>3</td>\n",
       "    </tr>\n",
       "    <tr>\n",
       "      <th>1</th>\n",
       "      <td>14</td>\n",
       "      <td>1</td>\n",
       "      <td>38</td>\n",
       "      <td>9-й микрорайон - Юнгородок</td>\n",
       "      <td>3</td>\n",
       "    </tr>\n",
       "  </tbody>\n",
       "</table>\n",
       "</div>"
      ],
      "text/plain": [
       "   route_id  agency_id route_short_name  \\\n",
       "0         1          1                1   \n",
       "1        14          1               38   \n",
       "\n",
       "                                     route_long_name  route_type  \n",
       "0  Автостанция Красная Глинка - Железнодорожный в...           3  \n",
       "1                         9-й микрорайон - Юнгородок           3  "
      ]
     },
     "execution_count": 12,
     "metadata": {},
     "output_type": "execute_result"
    }
   ],
   "source": [
    "reestr.head(2)"
   ]
  },
  {
   "cell_type": "code",
   "execution_count": 13,
   "metadata": {},
   "outputs": [],
   "source": [
    "reestr = reestr.reset_index()\n",
    "reestr['index'] = reestr['index'] + 1\n",
    "reestr['city'] = 'Самара'\n",
    "reestr['transp_type'] = 'автобус'\n",
    "reestr['rt_type'] = 'муниципальный'\n",
    "reestr = reestr[['index', 'city', 'transp_type', \n",
    "                 'rt_type', 'route_short_name', 'route_long_name', 'route_id']]\n",
    "# ООО «СамараАвтоГаз»"
   ]
  },
  {
   "cell_type": "code",
   "execution_count": 14,
   "metadata": {},
   "outputs": [
    {
     "data": {
      "text/plain": [
       "Index(['index', 'city', 'transp_type', 'rt_type', 'route_short_name',\n",
       "       'route_long_name', 'route_id'],\n",
       "      dtype='object')"
      ]
     },
     "execution_count": 14,
     "metadata": {},
     "output_type": "execute_result"
    }
   ],
   "source": [
    "reestr.columns"
   ]
  },
  {
   "cell_type": "code",
   "execution_count": 15,
   "metadata": {},
   "outputs": [
    {
     "data": {
      "text/html": [
       "<div>\n",
       "<style scoped>\n",
       "    .dataframe tbody tr th:only-of-type {\n",
       "        vertical-align: middle;\n",
       "    }\n",
       "\n",
       "    .dataframe tbody tr th {\n",
       "        vertical-align: top;\n",
       "    }\n",
       "\n",
       "    .dataframe thead th {\n",
       "        text-align: right;\n",
       "    }\n",
       "</style>\n",
       "<table border=\"1\" class=\"dataframe\">\n",
       "  <thead>\n",
       "    <tr style=\"text-align: right;\">\n",
       "      <th></th>\n",
       "      <th>index</th>\n",
       "      <th>city</th>\n",
       "      <th>transp_type</th>\n",
       "      <th>rt_type</th>\n",
       "      <th>route_short_name</th>\n",
       "      <th>route_long_name</th>\n",
       "      <th>route_id</th>\n",
       "    </tr>\n",
       "  </thead>\n",
       "  <tbody>\n",
       "    <tr>\n",
       "      <th>0</th>\n",
       "      <td>1</td>\n",
       "      <td>Самара</td>\n",
       "      <td>автобус</td>\n",
       "      <td>муниципальный</td>\n",
       "      <td>1</td>\n",
       "      <td>Автостанция Красная Глинка - Железнодорожный в...</td>\n",
       "      <td>1</td>\n",
       "    </tr>\n",
       "    <tr>\n",
       "      <th>1</th>\n",
       "      <td>2</td>\n",
       "      <td>Самара</td>\n",
       "      <td>автобус</td>\n",
       "      <td>муниципальный</td>\n",
       "      <td>38</td>\n",
       "      <td>9-й микрорайон - Юнгородок</td>\n",
       "      <td>14</td>\n",
       "    </tr>\n",
       "  </tbody>\n",
       "</table>\n",
       "</div>"
      ],
      "text/plain": [
       "   index    city transp_type        rt_type route_short_name  \\\n",
       "0      1  Самара     автобус  муниципальный                1   \n",
       "1      2  Самара     автобус  муниципальный               38   \n",
       "\n",
       "                                     route_long_name  route_id  \n",
       "0  Автостанция Красная Глинка - Железнодорожный в...         1  \n",
       "1                         9-й микрорайон - Юнгородок        14  "
      ]
     },
     "execution_count": 15,
     "metadata": {},
     "output_type": "execute_result"
    }
   ],
   "source": [
    "reestr.head(2)"
   ]
  },
  {
   "cell_type": "code",
   "execution_count": null,
   "metadata": {},
   "outputs": [],
   "source": []
  },
  {
   "cell_type": "code",
   "execution_count": null,
   "metadata": {},
   "outputs": [],
   "source": []
  },
  {
   "cell_type": "code",
   "execution_count": 16,
   "metadata": {},
   "outputs": [],
   "source": [
    "def stops_line(longest_trip, ind_stpid, stops):\n",
    "    df_stpid = pd.DataFrame(list(longest_trip[:,ind_stpid]), columns=['stop_id'])\n",
    "    df_stpid = df_stpid.merge(stops[['stop_id','stop_name']],how='left', on=['stop_id'])\n",
    "    lst_stps = list(df_stpid.stop_name)\n",
    "    str_stps = \" – \".join(lst_stps)\n",
    "    return str_stps"
   ]
  },
  {
   "cell_type": "code",
   "execution_count": 17,
   "metadata": {},
   "outputs": [],
   "source": [
    "def get_stop_seq(trips, stops, rt_id, \n",
    "                 np_stptm, ind_trid, ind_arrtm, ind_deptm, ind_stpid, \n",
    "                 ind_stpseq, ind_rtid, ind_dir):\n",
    "    \n",
    "    one_rt = np_stptm[np_stptm[:,ind_rtid] == rt_id]\n",
    "    lst_trips = list(set(list(one_rt[:,ind_trid])))\n",
    "    \n",
    "    lngth_max0=0\n",
    "    lngth_max1=0\n",
    "    if len(lst_trips) > 0:\n",
    "        max_trip0 = lst_trips[0]\n",
    "        max_trip1 = lst_trips[1]\n",
    "\n",
    "        i=0\n",
    "        for i in (range(len(lst_trips))):\n",
    "            one_trp = one_rt[one_rt[:, ind_trid] == lst_trips[i]]\n",
    "            if one_trp[0,ind_dir] == 0:\n",
    "                lngth0 = len(one_trp)\n",
    "                if lngth0 > lngth_max0:\n",
    "                    lngth_max0 = lngth0\n",
    "                    max_trip0 = lst_trips[i]\n",
    "            #\n",
    "            else:\n",
    "                lngth1 = len(one_trp)\n",
    "                if lngth1 > lngth_max1:\n",
    "                    lngth_max1 = lngth1\n",
    "                    max_trip1 = lst_trips[i]\n",
    "            #\n",
    "        longest_trip0 = one_rt[one_rt[:, ind_trid] == max_trip0]\n",
    "        str_stps0 = stops_line(longest_trip0, ind_stpid, stops)\n",
    "        if lngth_max1 == 0:\n",
    "            longest_trip1 = []\n",
    "            str_stps1 = ''\n",
    "        else:\n",
    "            longest_trip1 = one_rt[one_rt[:, ind_trid] == max_trip1]\n",
    "            str_stps1 = stops_line(longest_trip1, ind_stpid, stops)\n",
    "        # \n",
    "        return [str_stps0, str_stps1]\n",
    "    else:\n",
    "        print(rt_id)\n",
    "        return ['', '']"
   ]
  },
  {
   "cell_type": "code",
   "execution_count": 18,
   "metadata": {},
   "outputs": [],
   "source": [
    "def get_work_days(calendar, srvc_id):\n",
    "    np_clnd = calendar.to_numpy()\n",
    "    ind_servid = list(calendar.columns).index('service_id')\n",
    "    ind_mon = list(calendar.columns).index('monday')\n",
    "    ind_tue = list(calendar.columns).index('tuesday')\n",
    "    ind_wed = list(calendar.columns).index('wednesday')\n",
    "    ind_thu = list(calendar.columns).index('thursday')\n",
    "    ind_fri = list(calendar.columns).index('friday')\n",
    "    ind_sat = list(calendar.columns).index('saturday')\n",
    "    ind_sun = list(calendar.columns).index('sunday')\n",
    "    \n",
    "    lst_days = list(np_clnd[np_clnd[:,ind_servid] == srvc_id][0,ind_mon:ind_sun+1])\n",
    "    \n",
    "    if 0 not in lst_days:\n",
    "        descr = 'Ежедневно'\n",
    "    elif ((lst_days[-2:] == [0,0]) & (lst_days[:-2] == [1,1,1,1,1])):\n",
    "        descr = 'По будням'\n",
    "    elif ((lst_days[-2:] == [1,1]) & (lst_days[:-2] == [0,0,0,0,0])):\n",
    "        descr = 'По выходным'\n",
    "    else:\n",
    "        lst_words = ['понедельникам', 'вторникам', 'средам', \n",
    "         'четвергам', 'пятницам', 'субботам', 'воскресеньям']\n",
    "        days_str = ''\n",
    "        for j in range(len(lst_days)):\n",
    "            if lst_days[j] == 1:\n",
    "                days_str = days_str + ', ' + lst_words[j]\n",
    "        days_str = days_str[2:]\n",
    "        descr = 'По ' + days_str\n",
    "    # \n",
    "    \n",
    "    return descr"
   ]
  },
  {
   "cell_type": "code",
   "execution_count": 19,
   "metadata": {},
   "outputs": [],
   "source": [
    "def get_work_hours(srvc_id, np_stptm, ind_trid, ind_arrtm, ind_serv):\n",
    "    lst_tm = list(set(list(np_stptm[np_stptm[:,ind_serv] == srvc_id][:,ind_arrtm])))\n",
    "    lst_tm.sort()\n",
    "    strt_tm = lst_tm[0][:-3]\n",
    "    \n",
    "    last_trip_id = np_stptm[np_stptm[:,ind_arrtm] == lst_tm[-1]][0][ind_trid]\n",
    "    end_tm = np_stptm[np_stptm[:,ind_trid] == last_trip_id][0,ind_arrtm]\n",
    "    \n",
    "    end_tm = end_tm[:-3]\n",
    "    return strt_tm, end_tm"
   ]
  },
  {
   "cell_type": "code",
   "execution_count": 20,
   "metadata": {},
   "outputs": [],
   "source": [
    "def get_time_in_route(rt_id, np_stptm, ind_trid, ind_arrtm, ind_rtid):\n",
    "    \n",
    "    one_rt = np_stptm[np_stptm[:,ind_rtid] == rt_id]\n",
    "    lst_trips = list(set(list(one_rt[:,ind_trid])))\n",
    "    \n",
    "    ttl_tm_max = 0\n",
    "    if len(lst_trips) > 0:\n",
    "        i=0\n",
    "        for i in (range(len(lst_trips))):\n",
    "            one_trp = one_rt[one_rt[:, ind_trid] == lst_trips[i]]\n",
    "            strt_tm = one_trp[0,ind_arrtm]\n",
    "            end_tm = one_trp[-1,ind_arrtm]\n",
    "            hour_strt = int(strt_tm[0:2])\n",
    "            mnt_strt = int(strt_tm[3:5])\n",
    "            hour_end = int(end_tm[0:2])\n",
    "            mnt_end = int(end_tm[3:5])\n",
    "            ttl_tm = (hour_end * 60 + mnt_end) - (hour_strt * 60 + mnt_strt)\n",
    "            if ttl_tm > ttl_tm_max:\n",
    "                ttl_tm_max = ttl_tm\n",
    "            #\n",
    "    else:\n",
    "        print(rt_id)\n",
    "    return ttl_tm_max"
   ]
  },
  {
   "cell_type": "code",
   "execution_count": 131,
   "metadata": {},
   "outputs": [],
   "source": [
    "def get_rt_interval(one_rt, ind_daytrp, ind_trid, ind_deptm):\n",
    "    \n",
    "    lst_days_one_rt = list(set(list(one_rt[:,ind_daytrp])))\n",
    "\n",
    "    lst_first_dep=[]\n",
    "\n",
    "    j=0\n",
    "    for j in range(len(lst_days_one_rt)):\n",
    "        one_day = one_rt[one_rt[:,ind_daytrp] == lst_days_one_rt[j]]\n",
    "        lst_trips = list(set(list(one_day[:,ind_trid])))\n",
    "\n",
    "        one_day_tm=[]\n",
    "        k=0\n",
    "        for k in range(len(lst_trips)):\n",
    "            one_trp = one_day[one_day[:, ind_trid] == lst_trips[k]]\n",
    "            lst_dep = list(one_trp[:,ind_deptm])\n",
    "            first_dep = lst_dep[0]\n",
    "            one_day_tm.append(first_dep)\n",
    "            lst_first_dep.append(one_day_tm)\n",
    "    # \n",
    "    lst_first_dep.sort()\n",
    "    \n",
    "    lst_max_day=[]\n",
    "    lst_other_interv=[]\n",
    "    h=0\n",
    "    for h in range(len(lst_first_dep)):\n",
    "        lst1 = lst_first_dep[h]\n",
    "        lst1.sort()\n",
    "        lst1.reverse()\n",
    "        lst_interv=[]\n",
    "        g=0\n",
    "        for g in range(1,len(lst1)):\n",
    "            hr1,mn1,sc1 = lst1[g-1].split(\":\")\n",
    "            hr2,mn2,sc2 = lst1[g].split(\":\")\n",
    "            hr1,mn1,hr2,mn2 = int(hr1),int(mn1),int(hr2),int(mn2)\n",
    "            if ((hr1 > 6) & (hr1 < 10)) & ((hr2 > 6) & (hr2 < 10)):\n",
    "                interv = (hr1 * 60 + mn1) - (hr2 * 60 + mn2)\n",
    "                lst_interv.append(interv)\n",
    "            else:\n",
    "                interv = (hr1 * 60 + mn1) - (hr2 * 60 + mn2)\n",
    "                lst_other_interv.append(interv)\n",
    "        #\n",
    "        if lst_interv != []:\n",
    "            max_per_day=max(lst_interv)\n",
    "            lst_max_day.append(max_per_day)\n",
    "    # \n",
    "    if lst_max_day == []:\n",
    "        total_max_rt = max(lst_other_interv)\n",
    "        total_min_rt = min(lst_other_interv)\n",
    "    else:\n",
    "        total_max_rt = max(lst_max_day)\n",
    "        total_min_rt = min(lst_max_day)\n",
    "    # \n",
    "    if total_min_rt != total_max_rt:\n",
    "        rt_interv_str = str(total_min_rt) + '-' + str(total_max_rt) + ' мин.'\n",
    "    else:\n",
    "        rt_interv_str = str(total_min_rt) + ' мин.'\n",
    "    \n",
    "    return rt_interv_str"
   ]
  },
  {
   "cell_type": "code",
   "execution_count": null,
   "metadata": {},
   "outputs": [],
   "source": []
  },
  {
   "cell_type": "code",
   "execution_count": null,
   "metadata": {},
   "outputs": [],
   "source": []
  },
  {
   "cell_type": "code",
   "execution_count": null,
   "metadata": {},
   "outputs": [],
   "source": []
  },
  {
   "cell_type": "code",
   "execution_count": 21,
   "metadata": {},
   "outputs": [],
   "source": [
    "stop_times_rts = stop_times.merge(trips[['trip_id', 'route_id', 'direction_id', 'service_id']], \n",
    "                                   how='left', on=['trip_id'])\n",
    "stop_times_rts['day_trips_id'] = stop_times_rts['trip_id'].apply(lambda one: \"_\".join(one.split(\"_\")[:-1]))"
   ]
  },
  {
   "cell_type": "code",
   "execution_count": null,
   "metadata": {},
   "outputs": [],
   "source": []
  },
  {
   "cell_type": "code",
   "execution_count": 22,
   "metadata": {},
   "outputs": [],
   "source": [
    "np_stptm = stop_times_rts.to_numpy()\n",
    "ind_trid = list(stop_times_rts.columns).index('trip_id')\n",
    "ind_arrtm = list(stop_times_rts.columns).index('arrival_time')\n",
    "ind_deptm = list(stop_times_rts.columns).index('departure_time')\n",
    "ind_stpid = list(stop_times_rts.columns).index('stop_id')\n",
    "ind_stpseq = list(stop_times_rts.columns).index('stop_sequence')\n",
    "ind_rtid = list(stop_times_rts.columns).index('route_id')\n",
    "ind_dir = list(stop_times_rts.columns).index('direction_id')\n",
    "ind_serv = list(stop_times_rts.columns).index('service_id')\n",
    "ind_daytrp = list(stop_times_rts.columns).index('day_trips_id')"
   ]
  },
  {
   "cell_type": "code",
   "execution_count": null,
   "metadata": {},
   "outputs": [],
   "source": []
  },
  {
   "cell_type": "code",
   "execution_count": 23,
   "metadata": {
    "scrolled": true
   },
   "outputs": [
    {
     "data": {
      "application/vnd.jupyter.widget-view+json": {
       "model_id": "94d614ea3061405eb2a339501a9174b0",
       "version_major": 2,
       "version_minor": 0
      },
      "text/plain": [
       "HBox(children=(FloatProgress(value=0.0, max=88.0), HTML(value='')))"
      ]
     },
     "metadata": {},
     "output_type": "display_data"
    },
    {
     "name": "stdout",
     "output_type": "stream",
     "text": [
      "177\n",
      "189\n",
      "282\n",
      "\n"
     ]
    }
   ],
   "source": [
    "lst_rtid=list(routes.route_id.unique())\n",
    "lst_rt_two_seq = []\n",
    "\n",
    "# for j in tqdm(range(2)):\n",
    "for j in tqdm(range(len(lst_rtid))):\n",
    "    rt_id = lst_rtid[j]\n",
    "    lst_stp_seq = get_stop_seq(trips, stops, rt_id, \n",
    "                     np_stptm, ind_trid, ind_arrtm, ind_deptm, ind_stpid, \n",
    "                     ind_stpseq, ind_rtid, ind_dir)\n",
    "    #\n",
    "    lst_rt_two_seq.append([rt_id] + lst_stp_seq)\n",
    "# "
   ]
  },
  {
   "cell_type": "code",
   "execution_count": 24,
   "metadata": {},
   "outputs": [],
   "source": [
    "df_stop_seq = pd.DataFrame(lst_rt_two_seq, columns=['route_id', 'stop_seq_frwr', 'stop_seq_bck'])"
   ]
  },
  {
   "cell_type": "code",
   "execution_count": 25,
   "metadata": {},
   "outputs": [
    {
     "data": {
      "text/html": [
       "<div>\n",
       "<style scoped>\n",
       "    .dataframe tbody tr th:only-of-type {\n",
       "        vertical-align: middle;\n",
       "    }\n",
       "\n",
       "    .dataframe tbody tr th {\n",
       "        vertical-align: top;\n",
       "    }\n",
       "\n",
       "    .dataframe thead th {\n",
       "        text-align: right;\n",
       "    }\n",
       "</style>\n",
       "<table border=\"1\" class=\"dataframe\">\n",
       "  <thead>\n",
       "    <tr style=\"text-align: right;\">\n",
       "      <th></th>\n",
       "      <th>route_id</th>\n",
       "      <th>stop_seq_frwr</th>\n",
       "      <th>stop_seq_bck</th>\n",
       "    </tr>\n",
       "  </thead>\n",
       "  <tbody>\n",
       "    <tr>\n",
       "      <th>0</th>\n",
       "      <td>1</td>\n",
       "      <td>Автостанция Красная Глинка – Завод Электрощит ...</td>\n",
       "      <td>Железнодорожный вокзал (стоянка) – Железнодоро...</td>\n",
       "    </tr>\n",
       "    <tr>\n",
       "      <th>1</th>\n",
       "      <td>14</td>\n",
       "      <td>9-й микрорайон – Кинотеатр Шипка – 10-й микрор...</td>\n",
       "      <td>Юнгородок – ОАО Гидроавтоматика – Авиагородок ...</td>\n",
       "    </tr>\n",
       "  </tbody>\n",
       "</table>\n",
       "</div>"
      ],
      "text/plain": [
       "   route_id                                      stop_seq_frwr  \\\n",
       "0         1  Автостанция Красная Глинка – Завод Электрощит ...   \n",
       "1        14  9-й микрорайон – Кинотеатр Шипка – 10-й микрор...   \n",
       "\n",
       "                                        stop_seq_bck  \n",
       "0  Железнодорожный вокзал (стоянка) – Железнодоро...  \n",
       "1  Юнгородок – ОАО Гидроавтоматика – Авиагородок ...  "
      ]
     },
     "execution_count": 25,
     "metadata": {},
     "output_type": "execute_result"
    }
   ],
   "source": [
    "df_stop_seq.head(2)"
   ]
  },
  {
   "cell_type": "code",
   "execution_count": null,
   "metadata": {},
   "outputs": [],
   "source": []
  },
  {
   "cell_type": "code",
   "execution_count": 26,
   "metadata": {},
   "outputs": [],
   "source": [
    "# calendar"
   ]
  },
  {
   "cell_type": "code",
   "execution_count": 27,
   "metadata": {},
   "outputs": [],
   "source": [
    "calendar = pd.read_csv('./data/raspis/calendar.txt', sep=\",\")"
   ]
  },
  {
   "cell_type": "code",
   "execution_count": 28,
   "metadata": {},
   "outputs": [
    {
     "data": {
      "text/html": [
       "<div>\n",
       "<style scoped>\n",
       "    .dataframe tbody tr th:only-of-type {\n",
       "        vertical-align: middle;\n",
       "    }\n",
       "\n",
       "    .dataframe tbody tr th {\n",
       "        vertical-align: top;\n",
       "    }\n",
       "\n",
       "    .dataframe thead th {\n",
       "        text-align: right;\n",
       "    }\n",
       "</style>\n",
       "<table border=\"1\" class=\"dataframe\">\n",
       "  <thead>\n",
       "    <tr style=\"text-align: right;\">\n",
       "      <th></th>\n",
       "      <th>service_id</th>\n",
       "      <th>monday</th>\n",
       "      <th>tuesday</th>\n",
       "      <th>wednesday</th>\n",
       "      <th>thursday</th>\n",
       "      <th>friday</th>\n",
       "      <th>saturday</th>\n",
       "      <th>sunday</th>\n",
       "      <th>start_date</th>\n",
       "      <th>end_date</th>\n",
       "    </tr>\n",
       "  </thead>\n",
       "  <tbody>\n",
       "    <tr>\n",
       "      <th>0</th>\n",
       "      <td>0_38341</td>\n",
       "      <td>1</td>\n",
       "      <td>1</td>\n",
       "      <td>1</td>\n",
       "      <td>1</td>\n",
       "      <td>1</td>\n",
       "      <td>0</td>\n",
       "      <td>0</td>\n",
       "      <td>20160201</td>\n",
       "      <td>20210916</td>\n",
       "    </tr>\n",
       "    <tr>\n",
       "      <th>1</th>\n",
       "      <td>0_38342</td>\n",
       "      <td>0</td>\n",
       "      <td>0</td>\n",
       "      <td>0</td>\n",
       "      <td>0</td>\n",
       "      <td>0</td>\n",
       "      <td>1</td>\n",
       "      <td>1</td>\n",
       "      <td>20160206</td>\n",
       "      <td>20210916</td>\n",
       "    </tr>\n",
       "  </tbody>\n",
       "</table>\n",
       "</div>"
      ],
      "text/plain": [
       "  service_id  monday  tuesday  wednesday  thursday  friday  saturday  sunday  \\\n",
       "0    0_38341       1        1          1         1       1         0       0   \n",
       "1    0_38342       0        0          0         0       0         1       1   \n",
       "\n",
       "   start_date  end_date  \n",
       "0    20160201  20210916  \n",
       "1    20160206  20210916  "
      ]
     },
     "execution_count": 28,
     "metadata": {},
     "output_type": "execute_result"
    }
   ],
   "source": [
    "calendar.head(2)"
   ]
  },
  {
   "cell_type": "code",
   "execution_count": null,
   "metadata": {},
   "outputs": [],
   "source": []
  },
  {
   "cell_type": "code",
   "execution_count": null,
   "metadata": {},
   "outputs": [],
   "source": []
  },
  {
   "cell_type": "code",
   "execution_count": 29,
   "metadata": {},
   "outputs": [
    {
     "data": {
      "application/vnd.jupyter.widget-view+json": {
       "model_id": "7b01181a42cd4c2498c93a3e25b41b43",
       "version_major": 2,
       "version_minor": 0
      },
      "text/plain": [
       "HBox(children=(FloatProgress(value=0.0, max=126.0), HTML(value='')))"
      ]
     },
     "metadata": {},
     "output_type": "display_data"
    },
    {
     "name": "stdout",
     "output_type": "stream",
     "text": [
      "0_39579\n",
      "0_39795\n",
      "0_40050\n",
      "0_40087\n",
      "\n"
     ]
    }
   ],
   "source": [
    "lst_srvc_id = list(calendar.service_id.unique())\n",
    "lst_ttl_wrk_tm = []\n",
    "i=0\n",
    "for srvc_id in tqdm(lst_srvc_id):\n",
    "    descr = get_work_days(calendar, srvc_id)\n",
    "    try:\n",
    "        strt_tm, end_tm = get_work_hours(srvc_id, np_stptm, ind_trid, ind_arrtm, ind_serv)\n",
    "    except:\n",
    "        strt_tm, end_tm = '', ''\n",
    "        print(srvc_id)\n",
    "    total_tm = descr + ': c ' + strt_tm + ' до ' + end_tm\n",
    "    lst_ttl_wrk_tm.append([srvc_id, total_tm])\n",
    "# "
   ]
  },
  {
   "cell_type": "code",
   "execution_count": 30,
   "metadata": {},
   "outputs": [],
   "source": [
    "df_calend = pd.DataFrame(lst_ttl_wrk_tm, columns=['service_id', 'work_time'])"
   ]
  },
  {
   "cell_type": "code",
   "execution_count": 31,
   "metadata": {},
   "outputs": [],
   "source": [
    "serv_rts = stop_times_rts[['service_id', 'route_id']].copy()\n",
    "serv_rts = serv_rts.drop_duplicates().reset_index(drop=True)"
   ]
  },
  {
   "cell_type": "code",
   "execution_count": 32,
   "metadata": {},
   "outputs": [],
   "source": [
    "df_calend = df_calend.merge(serv_rts, \n",
    "                            how='left', on=['service_id'])"
   ]
  },
  {
   "cell_type": "code",
   "execution_count": 33,
   "metadata": {},
   "outputs": [
    {
     "data": {
      "text/html": [
       "<div>\n",
       "<style scoped>\n",
       "    .dataframe tbody tr th:only-of-type {\n",
       "        vertical-align: middle;\n",
       "    }\n",
       "\n",
       "    .dataframe tbody tr th {\n",
       "        vertical-align: top;\n",
       "    }\n",
       "\n",
       "    .dataframe thead th {\n",
       "        text-align: right;\n",
       "    }\n",
       "</style>\n",
       "<table border=\"1\" class=\"dataframe\">\n",
       "  <thead>\n",
       "    <tr style=\"text-align: right;\">\n",
       "      <th></th>\n",
       "      <th>service_id</th>\n",
       "      <th>work_time</th>\n",
       "      <th>route_id</th>\n",
       "    </tr>\n",
       "  </thead>\n",
       "  <tbody>\n",
       "    <tr>\n",
       "      <th>0</th>\n",
       "      <td>0_38341</td>\n",
       "      <td>По будням: c 06:00 до 20:30</td>\n",
       "      <td>199.0</td>\n",
       "    </tr>\n",
       "    <tr>\n",
       "      <th>1</th>\n",
       "      <td>0_38342</td>\n",
       "      <td>По выходным: c 06:00 до 20:10</td>\n",
       "      <td>199.0</td>\n",
       "    </tr>\n",
       "  </tbody>\n",
       "</table>\n",
       "</div>"
      ],
      "text/plain": [
       "  service_id                      work_time  route_id\n",
       "0    0_38341    По будням: c 06:00 до 20:30     199.0\n",
       "1    0_38342  По выходным: c 06:00 до 20:10     199.0"
      ]
     },
     "execution_count": 33,
     "metadata": {},
     "output_type": "execute_result"
    }
   ],
   "source": [
    "df_calend.head(2)"
   ]
  },
  {
   "cell_type": "code",
   "execution_count": 34,
   "metadata": {},
   "outputs": [],
   "source": [
    "df_calend2=df_calend.copy()"
   ]
  },
  {
   "cell_type": "code",
   "execution_count": 35,
   "metadata": {},
   "outputs": [],
   "source": [
    "grp_df_calend2 = df_calend2.groupby(['route_id']).agg({'work_time':'sum'})"
   ]
  },
  {
   "cell_type": "code",
   "execution_count": 36,
   "metadata": {},
   "outputs": [],
   "source": [
    "grp_df_calend2 = grp_df_calend2.reset_index()"
   ]
  },
  {
   "cell_type": "code",
   "execution_count": 140,
   "metadata": {},
   "outputs": [],
   "source": [
    "grp_df_calend2['work_time'] = grp_df_calend2['work_time'].apply(lambda s: s.replace(\"По\", \" По\"))"
   ]
  },
  {
   "cell_type": "code",
   "execution_count": 141,
   "metadata": {},
   "outputs": [
    {
     "data": {
      "text/html": [
       "<div>\n",
       "<style scoped>\n",
       "    .dataframe tbody tr th:only-of-type {\n",
       "        vertical-align: middle;\n",
       "    }\n",
       "\n",
       "    .dataframe tbody tr th {\n",
       "        vertical-align: top;\n",
       "    }\n",
       "\n",
       "    .dataframe thead th {\n",
       "        text-align: right;\n",
       "    }\n",
       "</style>\n",
       "<table border=\"1\" class=\"dataframe\">\n",
       "  <thead>\n",
       "    <tr style=\"text-align: right;\">\n",
       "      <th></th>\n",
       "      <th>route_id</th>\n",
       "      <th>work_time</th>\n",
       "    </tr>\n",
       "  </thead>\n",
       "  <tbody>\n",
       "    <tr>\n",
       "      <th>0</th>\n",
       "      <td>1.0</td>\n",
       "      <td>По выходным: c 05:27 до 22:00 По будням: c 05...</td>\n",
       "    </tr>\n",
       "    <tr>\n",
       "      <th>1</th>\n",
       "      <td>14.0</td>\n",
       "      <td>По выходным: c 06:20 до 20:03 По будням: c 05...</td>\n",
       "    </tr>\n",
       "  </tbody>\n",
       "</table>\n",
       "</div>"
      ],
      "text/plain": [
       "   route_id                                          work_time\n",
       "0       1.0   По выходным: c 05:27 до 22:00 По будням: c 05...\n",
       "1      14.0   По выходным: c 06:20 до 20:03 По будням: c 05..."
      ]
     },
     "execution_count": 141,
     "metadata": {},
     "output_type": "execute_result"
    }
   ],
   "source": [
    "grp_df_calend2.head(2)"
   ]
  },
  {
   "cell_type": "code",
   "execution_count": null,
   "metadata": {},
   "outputs": [],
   "source": []
  },
  {
   "cell_type": "code",
   "execution_count": 38,
   "metadata": {},
   "outputs": [
    {
     "data": {
      "application/vnd.jupyter.widget-view+json": {
       "model_id": "6338371049f2458eba210ab01a24be37",
       "version_major": 2,
       "version_minor": 0
      },
      "text/plain": [
       "HBox(children=(FloatProgress(value=0.0, max=88.0), HTML(value='')))"
      ]
     },
     "metadata": {},
     "output_type": "display_data"
    },
    {
     "name": "stdout",
     "output_type": "stream",
     "text": [
      "177\n",
      "189\n",
      "282\n",
      "\n"
     ]
    }
   ],
   "source": [
    "lst_rtid=list(routes.route_id.unique())\n",
    "lst_rt_two_seq = []\n",
    "\n",
    "# for j in tqdm(range(2)):\n",
    "for j in tqdm(range(len(lst_rtid))):\n",
    "    rt_id = lst_rtid[j]\n",
    "    ttl_tm_max1 = get_time_in_route(rt_id, np_stptm, ind_trid, ind_arrtm, ind_rtid)\n",
    "    if ttl_tm_max1 / 60 < 1:\n",
    "        ttl_tm_max2 = str(ttl_tm_max1) + ' мин.'\n",
    "    else:\n",
    "        tmp = int(ttl_tm_max1 / 60)\n",
    "        ttl_tm_max2 = str(tmp) + ' ч. ' + str(ttl_tm_max1 - (tmp * 60)) + ' мин.'\n",
    "    # \n",
    "    lst_rt_two_seq.append([rt_id, ttl_tm_max2, ttl_tm_max1])\n",
    "# "
   ]
  },
  {
   "cell_type": "code",
   "execution_count": 39,
   "metadata": {},
   "outputs": [],
   "source": [
    "df_tm_in_rt = pd.DataFrame(lst_rt_two_seq, columns=['route_id', 'time_str', 'time_min'])"
   ]
  },
  {
   "cell_type": "code",
   "execution_count": 40,
   "metadata": {},
   "outputs": [
    {
     "data": {
      "text/html": [
       "<div>\n",
       "<style scoped>\n",
       "    .dataframe tbody tr th:only-of-type {\n",
       "        vertical-align: middle;\n",
       "    }\n",
       "\n",
       "    .dataframe tbody tr th {\n",
       "        vertical-align: top;\n",
       "    }\n",
       "\n",
       "    .dataframe thead th {\n",
       "        text-align: right;\n",
       "    }\n",
       "</style>\n",
       "<table border=\"1\" class=\"dataframe\">\n",
       "  <thead>\n",
       "    <tr style=\"text-align: right;\">\n",
       "      <th></th>\n",
       "      <th>route_id</th>\n",
       "      <th>time_str</th>\n",
       "      <th>time_min</th>\n",
       "    </tr>\n",
       "  </thead>\n",
       "  <tbody>\n",
       "    <tr>\n",
       "      <th>0</th>\n",
       "      <td>1</td>\n",
       "      <td>1 ч. 23 мин.</td>\n",
       "      <td>83</td>\n",
       "    </tr>\n",
       "    <tr>\n",
       "      <th>1</th>\n",
       "      <td>14</td>\n",
       "      <td>36 мин.</td>\n",
       "      <td>36</td>\n",
       "    </tr>\n",
       "    <tr>\n",
       "      <th>2</th>\n",
       "      <td>15</td>\n",
       "      <td>1 ч. 6 мин.</td>\n",
       "      <td>66</td>\n",
       "    </tr>\n",
       "  </tbody>\n",
       "</table>\n",
       "</div>"
      ],
      "text/plain": [
       "   route_id      time_str  time_min\n",
       "0         1  1 ч. 23 мин.        83\n",
       "1        14       36 мин.        36\n",
       "2        15   1 ч. 6 мин.        66"
      ]
     },
     "execution_count": 40,
     "metadata": {},
     "output_type": "execute_result"
    }
   ],
   "source": [
    "df_tm_in_rt.head(3)"
   ]
  },
  {
   "cell_type": "code",
   "execution_count": null,
   "metadata": {},
   "outputs": [],
   "source": []
  },
  {
   "cell_type": "code",
   "execution_count": null,
   "metadata": {},
   "outputs": [],
   "source": []
  },
  {
   "cell_type": "code",
   "execution_count": 41,
   "metadata": {},
   "outputs": [],
   "source": [
    "rt_id=1\n",
    "one_rt = np_stptm[np_stptm[:,ind_rtid] == rt_id]"
   ]
  },
  {
   "cell_type": "code",
   "execution_count": null,
   "metadata": {},
   "outputs": [],
   "source": []
  },
  {
   "cell_type": "code",
   "execution_count": 123,
   "metadata": {},
   "outputs": [],
   "source": [
    "rt_interv_str = get_rt_interval(one_rt, ind_daytrp, ind_trid, ind_deptm)"
   ]
  },
  {
   "cell_type": "code",
   "execution_count": 124,
   "metadata": {},
   "outputs": [
    {
     "data": {
      "text/plain": [
       "'39-97 мин.'"
      ]
     },
     "execution_count": 124,
     "metadata": {},
     "output_type": "execute_result"
    }
   ],
   "source": [
    "rt_interv_str"
   ]
  },
  {
   "cell_type": "code",
   "execution_count": 132,
   "metadata": {},
   "outputs": [
    {
     "data": {
      "application/vnd.jupyter.widget-view+json": {
       "model_id": "f0e837ec2792433e87775c9c6b2f8285",
       "version_major": 2,
       "version_minor": 0
      },
      "text/plain": [
       "HBox(children=(FloatProgress(value=0.0, max=88.0), HTML(value='')))"
      ]
     },
     "metadata": {},
     "output_type": "display_data"
    },
    {
     "name": "stdout",
     "output_type": "stream",
     "text": [
      "177\n",
      "189\n",
      "282\n",
      "\n"
     ]
    }
   ],
   "source": [
    "lst_rtid=list(routes.route_id.unique())\n",
    "lst_rt_intervs = []\n",
    "\n",
    "for t in tqdm(range(len(lst_rtid))):\n",
    "    rt_id = lst_rtid[t]\n",
    "    one_rt = np_stptm[np_stptm[:,ind_rtid] == rt_id]\n",
    "    try:\n",
    "        rt_interv_str = get_rt_interval(one_rt, ind_daytrp, ind_trid, ind_deptm)\n",
    "    except:\n",
    "        print(rt_id)\n",
    "        rt_interv_str = ''\n",
    "    lst_rt_intervs.append([rt_id, rt_interv_str])\n",
    "# "
   ]
  },
  {
   "cell_type": "code",
   "execution_count": null,
   "metadata": {},
   "outputs": [],
   "source": []
  },
  {
   "cell_type": "code",
   "execution_count": 133,
   "metadata": {},
   "outputs": [],
   "source": [
    "df_intervs = pd.DataFrame(lst_rt_intervs, columns=['route_id', 'interval'])"
   ]
  },
  {
   "cell_type": "code",
   "execution_count": 134,
   "metadata": {},
   "outputs": [
    {
     "data": {
      "text/html": [
       "<div>\n",
       "<style scoped>\n",
       "    .dataframe tbody tr th:only-of-type {\n",
       "        vertical-align: middle;\n",
       "    }\n",
       "\n",
       "    .dataframe tbody tr th {\n",
       "        vertical-align: top;\n",
       "    }\n",
       "\n",
       "    .dataframe thead th {\n",
       "        text-align: right;\n",
       "    }\n",
       "</style>\n",
       "<table border=\"1\" class=\"dataframe\">\n",
       "  <thead>\n",
       "    <tr style=\"text-align: right;\">\n",
       "      <th></th>\n",
       "      <th>route_id</th>\n",
       "      <th>interval</th>\n",
       "    </tr>\n",
       "  </thead>\n",
       "  <tbody>\n",
       "    <tr>\n",
       "      <th>0</th>\n",
       "      <td>1</td>\n",
       "      <td>39-97 мин.</td>\n",
       "    </tr>\n",
       "    <tr>\n",
       "      <th>1</th>\n",
       "      <td>14</td>\n",
       "      <td>34-46 мин.</td>\n",
       "    </tr>\n",
       "    <tr>\n",
       "      <th>2</th>\n",
       "      <td>15</td>\n",
       "      <td>42-108 мин.</td>\n",
       "    </tr>\n",
       "    <tr>\n",
       "      <th>3</th>\n",
       "      <td>17</td>\n",
       "      <td>39-93 мин.</td>\n",
       "    </tr>\n",
       "    <tr>\n",
       "      <th>4</th>\n",
       "      <td>18</td>\n",
       "      <td>45 мин.</td>\n",
       "    </tr>\n",
       "  </tbody>\n",
       "</table>\n",
       "</div>"
      ],
      "text/plain": [
       "   route_id     interval\n",
       "0         1   39-97 мин.\n",
       "1        14   34-46 мин.\n",
       "2        15  42-108 мин.\n",
       "3        17   39-93 мин.\n",
       "4        18      45 мин."
      ]
     },
     "execution_count": 134,
     "metadata": {},
     "output_type": "execute_result"
    }
   ],
   "source": [
    "df_intervs.head()"
   ]
  },
  {
   "cell_type": "code",
   "execution_count": null,
   "metadata": {},
   "outputs": [],
   "source": [
    "# reestr - названия\n",
    "# df_stop_seq - трассы\n",
    "# grp_df_calend2 - даты работы\n",
    "# df_tm_in_rt - время в пути\n",
    "# df_intervs - интервалы"
   ]
  },
  {
   "cell_type": "code",
   "execution_count": 135,
   "metadata": {},
   "outputs": [
    {
     "name": "stdout",
     "output_type": "stream",
     "text": [
      "88\n",
      "88\n",
      "85\n",
      "88\n",
      "88\n"
     ]
    }
   ],
   "source": [
    "print(len(reestr))\n",
    "print(len(df_stop_seq))\n",
    "print(len(grp_df_calend2))\n",
    "print(len(df_tm_in_rt))\n",
    "print(len(df_intervs))"
   ]
  },
  {
   "cell_type": "code",
   "execution_count": 136,
   "metadata": {},
   "outputs": [
    {
     "data": {
      "text/html": [
       "<div>\n",
       "<style scoped>\n",
       "    .dataframe tbody tr th:only-of-type {\n",
       "        vertical-align: middle;\n",
       "    }\n",
       "\n",
       "    .dataframe tbody tr th {\n",
       "        vertical-align: top;\n",
       "    }\n",
       "\n",
       "    .dataframe thead th {\n",
       "        text-align: right;\n",
       "    }\n",
       "</style>\n",
       "<table border=\"1\" class=\"dataframe\">\n",
       "  <thead>\n",
       "    <tr style=\"text-align: right;\">\n",
       "      <th></th>\n",
       "      <th>index</th>\n",
       "      <th>city</th>\n",
       "      <th>transp_type</th>\n",
       "      <th>rt_type</th>\n",
       "      <th>route_short_name</th>\n",
       "      <th>route_long_name</th>\n",
       "      <th>route_id</th>\n",
       "    </tr>\n",
       "  </thead>\n",
       "  <tbody>\n",
       "    <tr>\n",
       "      <th>0</th>\n",
       "      <td>1</td>\n",
       "      <td>Самара</td>\n",
       "      <td>автобус</td>\n",
       "      <td>муниципальный</td>\n",
       "      <td>1</td>\n",
       "      <td>Автостанция Красная Глинка - Железнодорожный в...</td>\n",
       "      <td>1</td>\n",
       "    </tr>\n",
       "    <tr>\n",
       "      <th>1</th>\n",
       "      <td>2</td>\n",
       "      <td>Самара</td>\n",
       "      <td>автобус</td>\n",
       "      <td>муниципальный</td>\n",
       "      <td>38</td>\n",
       "      <td>9-й микрорайон - Юнгородок</td>\n",
       "      <td>14</td>\n",
       "    </tr>\n",
       "  </tbody>\n",
       "</table>\n",
       "</div>"
      ],
      "text/plain": [
       "   index    city transp_type        rt_type route_short_name  \\\n",
       "0      1  Самара     автобус  муниципальный                1   \n",
       "1      2  Самара     автобус  муниципальный               38   \n",
       "\n",
       "                                     route_long_name  route_id  \n",
       "0  Автостанция Красная Глинка - Железнодорожный в...         1  \n",
       "1                         9-й микрорайон - Юнгородок        14  "
      ]
     },
     "execution_count": 136,
     "metadata": {},
     "output_type": "execute_result"
    }
   ],
   "source": [
    "reestr.head(2)"
   ]
  },
  {
   "cell_type": "code",
   "execution_count": 151,
   "metadata": {},
   "outputs": [
    {
     "name": "stdout",
     "output_type": "stream",
     "text": [
      "88\n",
      "88\n"
     ]
    }
   ],
   "source": [
    "print(len(reestr))\n",
    "reestr_fin = reestr.merge(df_stop_seq, how='left', on=['route_id'])\n",
    "reestr_fin = reestr_fin.merge(grp_df_calend2, how='left', on=['route_id'])\n",
    "reestr_fin = reestr_fin.merge(df_intervs, how='left', on=['route_id'])\n",
    "reestr_fin['vehicl_amnt'] = None\n",
    "reestr_fin = reestr_fin.merge(df_tm_in_rt, how='left', on=['route_id'])\n",
    "reestr_fin['route_length'] = None\n",
    "reestr_fin['agency'] = 'ООО «СамараАвтоГаз»'\n",
    "reestr_fin['vehicl_type'] = None\n",
    "print(len(reestr_fin))"
   ]
  },
  {
   "cell_type": "code",
   "execution_count": 155,
   "metadata": {},
   "outputs": [],
   "source": [
    "reestr_fin['route_id'] = None"
   ]
  },
  {
   "cell_type": "code",
   "execution_count": null,
   "metadata": {},
   "outputs": [],
   "source": []
  },
  {
   "cell_type": "code",
   "execution_count": 159,
   "metadata": {},
   "outputs": [],
   "source": [
    "dct_renm = {'index':'№',\n",
    "'city':'Город',\n",
    "'transp_type':'Тип транспорта',\n",
    "'rt_type':'Тип маршрута',\n",
    "'route_short_name':'Номер маршрута',\n",
    "'route_long_name':'Наименование маршрута',\n",
    "'route_id':'Тип подвижного состава на маршруте (основной, данные реестра)',\n",
    "'stop_seq_frwr':'Трасса следования по маршруту регулярных перевозок, прямое направление',\n",
    "'stop_seq_bck':'Трасса следования по маршруту регулярных перевозок, обратное направление',\n",
    "'work_time':'Режим работы маршрута',\n",
    "'interval':'Интервалы движения на маршруте',\n",
    "'vehicl_amnt':'Выпуск на маршруте (из открытых источников)',\n",
    "'time_str':'Время рейса в одном направлении',\n",
    "'time_min':'Время рейса в одном направлении, мин',\n",
    "'route_length':'Протяженность (км) маршрута регулярных перевозок',\n",
    "'agency':'Наименование предприятия, осуществляющего перевозки по маршруту регулярных перевозок',\n",
    "'vehicl_type':'Подвижной состав (из открытых источников)'\n",
    "}"
   ]
  },
  {
   "cell_type": "code",
   "execution_count": 160,
   "metadata": {},
   "outputs": [],
   "source": [
    "reestr_fin = reestr_fin.rename(columns=dct_renm)"
   ]
  },
  {
   "cell_type": "code",
   "execution_count": 161,
   "metadata": {},
   "outputs": [
    {
     "data": {
      "text/html": [
       "<div>\n",
       "<style scoped>\n",
       "    .dataframe tbody tr th:only-of-type {\n",
       "        vertical-align: middle;\n",
       "    }\n",
       "\n",
       "    .dataframe tbody tr th {\n",
       "        vertical-align: top;\n",
       "    }\n",
       "\n",
       "    .dataframe thead th {\n",
       "        text-align: right;\n",
       "    }\n",
       "</style>\n",
       "<table border=\"1\" class=\"dataframe\">\n",
       "  <thead>\n",
       "    <tr style=\"text-align: right;\">\n",
       "      <th></th>\n",
       "      <th>№</th>\n",
       "      <th>Город</th>\n",
       "      <th>Тип транспорта</th>\n",
       "      <th>Тип маршрута</th>\n",
       "      <th>Номер маршрута</th>\n",
       "      <th>Наименование маршрута</th>\n",
       "      <th>Тип подвижного состава на маршруте (основной, данные реестра)</th>\n",
       "      <th>Трасса следования по маршруту регулярных перевозок, прямое направление</th>\n",
       "      <th>Трасса следования по маршруту регулярных перевозок, обратное направление</th>\n",
       "      <th>Режим работы маршрута</th>\n",
       "      <th>Интервалы движения на маршруте</th>\n",
       "      <th>Выпуск на маршруте (из открытых источников)</th>\n",
       "      <th>Время рейса в одном направлении</th>\n",
       "      <th>Время рейса в одном направлении, мин</th>\n",
       "      <th>Протяженность (км) маршрута регулярных перевозок</th>\n",
       "      <th>Наименование предприятия, осуществляющего перевозки по маршруту регулярных перевозок</th>\n",
       "      <th>Подвижной состав (из открытых источников)</th>\n",
       "    </tr>\n",
       "  </thead>\n",
       "  <tbody>\n",
       "    <tr>\n",
       "      <th>0</th>\n",
       "      <td>1</td>\n",
       "      <td>Самара</td>\n",
       "      <td>автобус</td>\n",
       "      <td>муниципальный</td>\n",
       "      <td>1</td>\n",
       "      <td>Автостанция Красная Глинка - Железнодорожный в...</td>\n",
       "      <td>None</td>\n",
       "      <td>Автостанция Красная Глинка – Завод Электрощит ...</td>\n",
       "      <td>Железнодорожный вокзал (стоянка) – Железнодоро...</td>\n",
       "      <td>По выходным: c 05:27 до 22:00 По будням: c 05...</td>\n",
       "      <td>39-97 мин.</td>\n",
       "      <td>None</td>\n",
       "      <td>1 ч. 23 мин.</td>\n",
       "      <td>83</td>\n",
       "      <td>None</td>\n",
       "      <td>ООО «СамараАвтоГаз»</td>\n",
       "      <td>None</td>\n",
       "    </tr>\n",
       "    <tr>\n",
       "      <th>1</th>\n",
       "      <td>2</td>\n",
       "      <td>Самара</td>\n",
       "      <td>автобус</td>\n",
       "      <td>муниципальный</td>\n",
       "      <td>38</td>\n",
       "      <td>9-й микрорайон - Юнгородок</td>\n",
       "      <td>None</td>\n",
       "      <td>9-й микрорайон – Кинотеатр Шипка – 10-й микрор...</td>\n",
       "      <td>Юнгородок – ОАО Гидроавтоматика – Авиагородок ...</td>\n",
       "      <td>По выходным: c 06:20 до 20:03 По будням: c 05...</td>\n",
       "      <td>34-46 мин.</td>\n",
       "      <td>None</td>\n",
       "      <td>36 мин.</td>\n",
       "      <td>36</td>\n",
       "      <td>None</td>\n",
       "      <td>ООО «СамараАвтоГаз»</td>\n",
       "      <td>None</td>\n",
       "    </tr>\n",
       "  </tbody>\n",
       "</table>\n",
       "</div>"
      ],
      "text/plain": [
       "   №   Город Тип транспорта   Тип маршрута Номер маршрута  \\\n",
       "0  1  Самара        автобус  муниципальный              1   \n",
       "1  2  Самара        автобус  муниципальный             38   \n",
       "\n",
       "                               Наименование маршрута  \\\n",
       "0  Автостанция Красная Глинка - Железнодорожный в...   \n",
       "1                         9-й микрорайон - Юнгородок   \n",
       "\n",
       "  Тип подвижного состава на маршруте (основной, данные реестра)  \\\n",
       "0                                               None              \n",
       "1                                               None              \n",
       "\n",
       "  Трасса следования по маршруту регулярных перевозок, прямое направление  \\\n",
       "0  Автостанция Красная Глинка – Завод Электрощит ...                       \n",
       "1  9-й микрорайон – Кинотеатр Шипка – 10-й микрор...                       \n",
       "\n",
       "  Трасса следования по маршруту регулярных перевозок, обратное направление  \\\n",
       "0  Железнодорожный вокзал (стоянка) – Железнодоро...                         \n",
       "1  Юнгородок – ОАО Гидроавтоматика – Авиагородок ...                         \n",
       "\n",
       "                               Режим работы маршрута  \\\n",
       "0   По выходным: c 05:27 до 22:00 По будням: c 05...   \n",
       "1   По выходным: c 06:20 до 20:03 По будням: c 05...   \n",
       "\n",
       "  Интервалы движения на маршруте Выпуск на маршруте (из открытых источников)  \\\n",
       "0                     39-97 мин.                                        None   \n",
       "1                     34-46 мин.                                        None   \n",
       "\n",
       "  Время рейса в одном направлении  Время рейса в одном направлении, мин  \\\n",
       "0                    1 ч. 23 мин.                                    83   \n",
       "1                         36 мин.                                    36   \n",
       "\n",
       "  Протяженность (км) маршрута регулярных перевозок  \\\n",
       "0                                             None   \n",
       "1                                             None   \n",
       "\n",
       "  Наименование предприятия, осуществляющего перевозки по маршруту регулярных перевозок  \\\n",
       "0                                ООО «СамараАвтоГаз»                                     \n",
       "1                                ООО «СамараАвтоГаз»                                     \n",
       "\n",
       "  Подвижной состав (из открытых источников)  \n",
       "0                                      None  \n",
       "1                                      None  "
      ]
     },
     "execution_count": 161,
     "metadata": {},
     "output_type": "execute_result"
    }
   ],
   "source": [
    "reestr_fin.head(2)"
   ]
  },
  {
   "cell_type": "code",
   "execution_count": 163,
   "metadata": {},
   "outputs": [],
   "source": [
    "reestr_fin.to_excel(\"./data/reestr_fin.xlsx\", index=False)"
   ]
  },
  {
   "cell_type": "code",
   "execution_count": null,
   "metadata": {},
   "outputs": [],
   "source": []
  }
 ],
 "metadata": {
  "kernelspec": {
   "display_name": "Python 3",
   "language": "python",
   "name": "python3"
  },
  "language_info": {
   "codemirror_mode": {
    "name": "ipython",
    "version": 3
   },
   "file_extension": ".py",
   "mimetype": "text/x-python",
   "name": "python",
   "nbconvert_exporter": "python",
   "pygments_lexer": "ipython3",
   "version": "3.7.6"
  }
 },
 "nbformat": 4,
 "nbformat_minor": 4
}
