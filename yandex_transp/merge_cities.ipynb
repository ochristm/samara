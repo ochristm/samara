{
 "cells": [
  {
   "cell_type": "code",
   "execution_count": 1,
   "metadata": {},
   "outputs": [],
   "source": [
    "import pandas as pd\n",
    "import geopandas as gpd\n",
    "from tqdm.notebook import tqdm\n",
    "import time"
   ]
  },
  {
   "cell_type": "code",
   "execution_count": 3,
   "metadata": {},
   "outputs": [],
   "source": []
  },
  {
   "cell_type": "code",
   "execution_count": null,
   "metadata": {},
   "outputs": [],
   "source": []
  },
  {
   "cell_type": "code",
   "execution_count": 36,
   "metadata": {},
   "outputs": [],
   "source": [
    "lst_cities = ['Самара',\n",
    "              'Тольятти',\n",
    "              'Новокуйбышевск',\n",
    "              'sam_tol_new',\n",
    "              'Жигулёвск',\n",
    "             'Кинель',\n",
    "             'Нефтегорск',\n",
    "             'Октябрьск',\n",
    "             'Отрадный',\n",
    "             'Похвистнево',\n",
    "             'Сызрань',\n",
    "             'Чапаевск',\n",
    "             'Алексеевка',\n",
    "             'Балашейка',\n",
    "             'Безенчук',\n",
    "             'Волжский',\n",
    "             'Междуреченск',\n",
    "             'Мирный',\n",
    "             'Новосемейкино',\n",
    "             'Осинки',\n",
    "             'Петра Дубрава',\n",
    "             'Рощинский',\n",
    "             'Смышляевка',\n",
    "             'Стройкерамика',\n",
    "             'Суходол',\n",
    "             'Усть-Кинельский']\n",
    "# "
   ]
  },
  {
   "cell_type": "code",
   "execution_count": 37,
   "metadata": {},
   "outputs": [
    {
     "data": {
      "text/plain": [
       "26"
      ]
     },
     "execution_count": 37,
     "metadata": {},
     "output_type": "execute_result"
    }
   ],
   "source": [
    "len(lst_cities)"
   ]
  },
  {
   "cell_type": "code",
   "execution_count": null,
   "metadata": {},
   "outputs": [],
   "source": []
  },
  {
   "cell_type": "code",
   "execution_count": 5,
   "metadata": {},
   "outputs": [],
   "source": [
    "# time.sleep(300)"
   ]
  },
  {
   "cell_type": "code",
   "execution_count": 38,
   "metadata": {},
   "outputs": [
    {
     "data": {
      "application/vnd.jupyter.widget-view+json": {
       "model_id": "6722ea7fb59047ff86c5add2cef0b269",
       "version_major": 2,
       "version_minor": 0
      },
      "text/plain": [
       "HBox(children=(FloatProgress(value=0.0, max=26.0), HTML(value='')))"
      ]
     },
     "metadata": {},
     "output_type": "display_data"
    },
    {
     "name": "stdout",
     "output_type": "stream",
     "text": [
      "\n"
     ]
    }
   ],
   "source": [
    "total_reestr = pd.DataFrame()\n",
    "total_lines = gpd.GeoDataFrame()\n",
    "total_stops = pd.DataFrame()\n",
    "lst_cities\n",
    "\n",
    "i=0\n",
    "# for i in tqdm(range(1)):\n",
    "for i in tqdm(range(len(lst_cities))):\n",
    "    city = lst_cities[i]\n",
    "    try:\n",
    "        df_reestr_all = pd.read_csv('./data_SO/df_reestr_{}.csv'.format(city),sep=';',encoding='utf-8')\n",
    "#         df_reestr_all['city'] = city\n",
    "        gdf_line_all = gpd.read_file('./data_SO/gdf_line_{}.json'.format(city),encoding='utf-8')\n",
    "        df_stop_seq_all = pd.read_csv('./data_SO/df_stop_seq_{}.csv'.format(city),sep=';',encoding='utf-8')\n",
    "\n",
    "        total_reestr = total_reestr.append(df_reestr_all).reset_index(drop=True)\n",
    "        total_lines = total_lines.append(gdf_line_all).reset_index(drop=True)\n",
    "        total_stops = total_stops.append(df_stop_seq_all).reset_index(drop=True)\n",
    "    except:\n",
    "        print(city)\n",
    "# "
   ]
  },
  {
   "cell_type": "code",
   "execution_count": null,
   "metadata": {},
   "outputs": [],
   "source": []
  },
  {
   "cell_type": "code",
   "execution_count": null,
   "metadata": {},
   "outputs": [],
   "source": []
  },
  {
   "cell_type": "code",
   "execution_count": 39,
   "metadata": {},
   "outputs": [],
   "source": [
    "new_total_reestr = total_reestr.drop_duplicates(subset=['line_id']).reset_index(drop=True)"
   ]
  },
  {
   "cell_type": "code",
   "execution_count": 40,
   "metadata": {},
   "outputs": [
    {
     "data": {
      "text/plain": [
       "646"
      ]
     },
     "execution_count": 40,
     "metadata": {},
     "output_type": "execute_result"
    }
   ],
   "source": [
    "len(new_total_reestr)"
   ]
  },
  {
   "cell_type": "code",
   "execution_count": 41,
   "metadata": {},
   "outputs": [],
   "source": [
    "new_total_lines = total_lines.drop_duplicates(subset=['line_id',\n",
    "                                                      'trip_id']).reset_index(drop=True)"
   ]
  },
  {
   "cell_type": "code",
   "execution_count": 42,
   "metadata": {},
   "outputs": [],
   "source": [
    "new_total_stops = total_stops.drop_duplicates(subset=['line_id',\n",
    "                                                      'trip_id',\n",
    "                                                      'stop_sequence']).reset_index(drop=True)"
   ]
  },
  {
   "cell_type": "code",
   "execution_count": null,
   "metadata": {},
   "outputs": [],
   "source": []
  },
  {
   "cell_type": "code",
   "execution_count": null,
   "metadata": {},
   "outputs": [],
   "source": []
  },
  {
   "cell_type": "code",
   "execution_count": 43,
   "metadata": {},
   "outputs": [],
   "source": [
    "city_all = 'all_n_samobl'\n",
    "new_total_reestr.to_csv(\"./data_SO/total/df_reestr_{}.csv\".format(city_all),\n",
    "                     encoding='utf-8-sig',sep=';',index=False)\n",
    "new_total_lines.to_file(\"./data_SO/total/gdf_line_{}.json\".format(city_all), \n",
    "                     driver=\"GeoJSON\",encoding='utf-8-sig')\n",
    "new_total_stops.to_csv(\"./data_SO/total/df_stop_seq_{}.csv\".format(city_all),\n",
    "                       encoding='utf-8-sig',sep=';',index=False)\n",
    "#"
   ]
  },
  {
   "cell_type": "code",
   "execution_count": null,
   "metadata": {},
   "outputs": [],
   "source": []
  },
  {
   "cell_type": "code",
   "execution_count": null,
   "metadata": {},
   "outputs": [],
   "source": []
  }
 ],
 "metadata": {
  "kernelspec": {
   "display_name": "Python 3",
   "language": "python",
   "name": "python3"
  },
  "language_info": {
   "codemirror_mode": {
    "name": "ipython",
    "version": 3
   },
   "file_extension": ".py",
   "mimetype": "text/x-python",
   "name": "python",
   "nbconvert_exporter": "python",
   "pygments_lexer": "ipython3",
   "version": "3.7.6"
  }
 },
 "nbformat": 4,
 "nbformat_minor": 4
}
