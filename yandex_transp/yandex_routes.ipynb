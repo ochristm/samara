{
 "cells": [
  {
   "cell_type": "code",
   "execution_count": 2,
   "metadata": {},
   "outputs": [],
   "source": [
    "import requests\n",
    "import re\n",
    "from bs4 import BeautifulSoup\n",
    "import json\n",
    "import urllib\n",
    "import pandas as pd\n",
    "import geopandas as gpd\n",
    "import shapely\n",
    "from shapely.geometry import Point, LineString, MultiLineString"
   ]
  },
  {
   "cell_type": "code",
   "execution_count": 15,
   "metadata": {
    "collapsed": true
   },
   "outputs": [],
   "source": []
  },
  {
   "cell_type": "markdown",
   "metadata": {},
   "source": [
    "# Способ поиска всех маршрутов в городе по названию"
   ]
  },
  {
   "cell_type": "code",
   "execution_count": null,
   "metadata": {},
   "outputs": [],
   "source": []
  },
  {
   "cell_type": "code",
   "execution_count": 3,
   "metadata": {},
   "outputs": [],
   "source": [
    "str_ct = 'Самара'\n",
    "str_qt = urllib.parse.quote(str_ct)\n",
    "srch_ct = \"https://yandex.ru/maps/?text={}\".format(str_qt)"
   ]
  },
  {
   "cell_type": "code",
   "execution_count": 4,
   "metadata": {},
   "outputs": [],
   "source": [
    "req = requests.get(srch_ct)\n",
    "bs = BeautifulSoup(req.text, 'html.parser')"
   ]
  },
  {
   "cell_type": "code",
   "execution_count": 5,
   "metadata": {},
   "outputs": [],
   "source": [
    "alla = bs.find_all('a')\n",
    "for aa in alla:\n",
    "    cls = aa.get(\"class\")\n",
    "    try:\n",
    "        if 'catalog-entry-point' in cls:\n",
    "            hrf = aa.get(\"href\")\n",
    "            break\n",
    "    except:\n",
    "        pass\n",
    "# \n",
    "try:\n",
    "    city_id,city_name = hrf.split(\"maps/\")[1].split(\"/catalog\")[0].split(\"/\")\n",
    "except:\n",
    "    city_id,city_name = None,None\n",
    "    print(\"Error. Not found\")\n",
    "    pass\n",
    "#\n"
   ]
  },
  {
   "cell_type": "code",
   "execution_count": 6,
   "metadata": {},
   "outputs": [],
   "source": [
    "lnk_tp = \"https://yandex.ru/maps/\"+ str(city_id) + \"/\" + str(city_name) + \"/transport\""
   ]
  },
  {
   "cell_type": "code",
   "execution_count": 7,
   "metadata": {},
   "outputs": [],
   "source": [
    "def find_js(lnk):\n",
    "    req = requests.get(lnk)\n",
    "    bs = BeautifulSoup(req.text, 'html.parser')\n",
    "    all_scrpt = bs.find_all(\"script\")\n",
    "    for scr in all_scrpt:\n",
    "        if scr.get('type') == \"application/json\":\n",
    "            sc_ind = all_scrpt.index(scr)\n",
    "            break\n",
    "    # \n",
    "    scrp_txt = all_scrpt[sc_ind].text\n",
    "    js = json.loads(scrp_txt)\n",
    "    \n",
    "    return js"
   ]
  },
  {
   "cell_type": "code",
   "execution_count": 8,
   "metadata": {},
   "outputs": [],
   "source": [
    "js_tp = find_js(lnk_tp)"
   ]
  },
  {
   "cell_type": "code",
   "execution_count": null,
   "metadata": {},
   "outputs": [],
   "source": []
  },
  {
   "cell_type": "code",
   "execution_count": null,
   "metadata": {},
   "outputs": [],
   "source": []
  },
  {
   "cell_type": "code",
   "execution_count": 9,
   "metadata": {},
   "outputs": [],
   "source": [
    "lst_lineid = []\n",
    "lst_tpts = []\n",
    "lst_names = []\n",
    "lst_rts = []\n",
    "i=0\n",
    "for i in range(len(js_tp['vehicles'])):\n",
    "    one_lst = []\n",
    "    try:\n",
    "        meta_veh = js_tp['vehicles'][i]['properties']['VehicleMetaData']['Transport']\n",
    "        lineid = meta_veh['lineId']\n",
    "        if lineid not in lst_lineid:\n",
    "            lst_lineid.append(lineid)\n",
    "            one_lst.append(lineid)\n",
    "            answ_line = 1\n",
    "        else:\n",
    "            answ_line = 0\n",
    "        try:\n",
    "            transp_type = meta_veh['type']\n",
    "            name_rt = meta_veh['name']\n",
    "        except:\n",
    "            transp_type,name_rt = None,None\n",
    "        if answ_line == 1:\n",
    "            lst_tpts.append(transp_type)\n",
    "            lst_names.append(name_rt)\n",
    "            one_lst.append(name_rt)\n",
    "            one_lst.append(transp_type)\n",
    "        #\n",
    "        if one_lst != []:\n",
    "            lst_rts.append(one_lst)\n",
    "    except:\n",
    "        pass\n",
    "# "
   ]
  },
  {
   "cell_type": "code",
   "execution_count": null,
   "metadata": {},
   "outputs": [],
   "source": []
  },
  {
   "cell_type": "code",
   "execution_count": 10,
   "metadata": {},
   "outputs": [],
   "source": [
    "def get_stop(dct):\n",
    "    lst=[]\n",
    "    stop_id = dct['id']\n",
    "    name = dct['name']\n",
    "    stop_lon = dct['coordinates'][0]\n",
    "    stop_lat = dct['coordinates'][1]\n",
    "    lst = [stop_id,name,stop_lat,stop_lon]\n",
    "    return lst"
   ]
  },
  {
   "cell_type": "code",
   "execution_count": null,
   "metadata": {},
   "outputs": [],
   "source": []
  },
  {
   "cell_type": "code",
   "execution_count": 11,
   "metadata": {},
   "outputs": [],
   "source": [
    "def get_dir_data(one_dir,direction,rt_id):\n",
    "    all_stops=[]\n",
    "    rt_line=[]\n",
    "    line_data=[]\n",
    "    i=0\n",
    "    lst_stop=[]\n",
    "    cnt_stp = 0\n",
    "    line_data = line_data + [rt_id,direction]\n",
    "    for i in range(len(one_dir)):\n",
    "        if 'id' in one_dir[i]:\n",
    "            cnt_stp +=1\n",
    "            lst_stop = []\n",
    "            lst_stop = lst_stop + [rt_id,direction,cnt_stp]\n",
    "            lst_stop = lst_stop + get_stop(one_dir[i])\n",
    "            all_stops.append(lst_stop)\n",
    "\n",
    "        if 'points' in one_dir[i]:\n",
    "            one_part = one_dir[i]['points']\n",
    "            for j in range(len(one_part)):\n",
    "                rt_line.append(one_part[j])\n",
    "        #\n",
    "    # \n",
    "    line_data.append(LineString(rt_line))\n",
    "    \n",
    "    return all_stops,line_data"
   ]
  },
  {
   "cell_type": "code",
   "execution_count": null,
   "metadata": {},
   "outputs": [],
   "source": []
  },
  {
   "cell_type": "code",
   "execution_count": 48,
   "metadata": {},
   "outputs": [],
   "source": [
    "def get_rt_data(one_rt,rt_id):\n",
    "\n",
    "    for_reestr = []\n",
    "    line_data=[]\n",
    "\n",
    "    stop_seq1,line_data1 = get_dir_data(one_rt[0]['features'],0,rt_id)\n",
    "    line_data.append(line_data1)\n",
    "\n",
    "    stp_frw = one_rt[0]['properties']['ThreadMetaData']['EssentialStops'][0]['name']\n",
    "    stp_bckw = one_rt[0]['properties']['ThreadMetaData']['EssentialStops'][1]['name']\n",
    "    str_rt_nm = str(stp_frw) + \"_\" + str(stp_bckw)\n",
    "    for_reestr.append(str_rt_nm)\n",
    "#     length_frw=line_data[3].length\n",
    "    length_frw=0\n",
    "    length_bckw=0\n",
    "\n",
    "    if len(one_rt) == 2:\n",
    "        stop_seq2,line_data2 = get_dir_data(one_rt[1]['features'],1,rt_id)\n",
    "        stop_seq = stop_seq1 + stop_seq2\n",
    "        if line_data2 not in line_data:\n",
    "            line_data.append(line_data2)\n",
    "        #\n",
    "        \n",
    "        is_circle = False\n",
    "#         length_bckw=line_data[3].length\n",
    "\n",
    "    else:\n",
    "        stop_seq = stop_seq1\n",
    "        is_circle = True\n",
    "#         length_bckw = 0\n",
    "\n",
    "    # \n",
    "    \n",
    "    for_reestr.append(is_circle)\n",
    "    for_reestr.append(length_frw)\n",
    "    for_reestr.append(length_bckw)\n",
    "    return for_reestr, stop_seq, line_data"
   ]
  },
  {
   "cell_type": "code",
   "execution_count": null,
   "metadata": {},
   "outputs": [],
   "source": []
  },
  {
   "cell_type": "code",
   "execution_count": 52,
   "metadata": {},
   "outputs": [],
   "source": [
    "# dct_lnks = {}\n",
    "big_reestr=[]\n",
    "big_seq=[]\n",
    "big_line=[]\n",
    "i=0\n",
    "# for i in range(len(lst_rts)):\n",
    "for i in range(2):\n",
    "    lnkid = lst_rts[i][0]\n",
    "#     lnkid = lst_lineid[i]\n",
    "    lnk_rt = 'https://yandex.ru/maps/{}/{}/routes/{}'.format(city_id, city_name, lnkid)\n",
    "    js_rt = find_js(lnk_rt)\n",
    "    one_rt=js_rt['masstransitLine']['features']\n",
    "    rt_nbr = lst_rts[i][1]\n",
    "    rt_tp = lst_rts[i][2]\n",
    "    for_r_2 = [lnkid,rt_nbr,rt_tp]\n",
    "#     need: rt_name,is_circle,length_frw,length_bckw\n",
    "    for_reestr, stop_seq, line_data = get_rt_data(one_rt,lnkid)\n",
    "    for_r_2 = for_r_2 + for_reestr\n",
    "    big_reestr.append(for_r_2)\n",
    "    big_seq = big_seq + stop_seq\n",
    "    big_line = big_line + line_data\n",
    "\n",
    "#     dct_lnks[lnkid] = js_rt['masstransitLine']['features']\n",
    "# "
   ]
  },
  {
   "cell_type": "code",
   "execution_count": null,
   "metadata": {},
   "outputs": [],
   "source": []
  },
  {
   "cell_type": "code",
   "execution_count": null,
   "metadata": {},
   "outputs": [],
   "source": []
  },
  {
   "cell_type": "code",
   "execution_count": 74,
   "metadata": {},
   "outputs": [],
   "source": [
    "columns=['line_id','route_number','type_ts','route_long_name',\n",
    "         'is_circle','lenght_frw','length_bckw']\n",
    "df_reestr = pd.DataFrame(data=big_reestr,columns=columns)"
   ]
  },
  {
   "cell_type": "code",
   "execution_count": 75,
   "metadata": {},
   "outputs": [],
   "source": [
    "gdf_line = gpd.GeoDataFrame(data=big_line,columns=['line_id','direction','geometry'])\n",
    "gdf_line.crs='epsg:4326'"
   ]
  },
  {
   "cell_type": "code",
   "execution_count": 76,
   "metadata": {},
   "outputs": [],
   "source": [
    "columns=['line_id','direction','stop_sequence','stop_id','stop_name','lat','lon']\n",
    "df_stop_seq = pd.DataFrame(data=big_seq,columns=columns)"
   ]
  },
  {
   "cell_type": "code",
   "execution_count": null,
   "metadata": {},
   "outputs": [],
   "source": []
  },
  {
   "cell_type": "code",
   "execution_count": null,
   "metadata": {},
   "outputs": [],
   "source": []
  },
  {
   "cell_type": "code",
   "execution_count": null,
   "metadata": {},
   "outputs": [],
   "source": []
  },
  {
   "cell_type": "code",
   "execution_count": null,
   "metadata": {},
   "outputs": [],
   "source": []
  },
  {
   "cell_type": "code",
   "execution_count": null,
   "metadata": {},
   "outputs": [],
   "source": []
  },
  {
   "cell_type": "code",
   "execution_count": null,
   "metadata": {},
   "outputs": [],
   "source": []
  },
  {
   "cell_type": "code",
   "execution_count": null,
   "metadata": {},
   "outputs": [],
   "source": [
    "# # s = \"https://yandex.ru/maps/239/sochi/stops/stop__9973362/\"\n",
    "# city_code = '239'\n",
    "# city_name = 'sochi'\n",
    "# stop = 'stop__9973362'\n",
    "\n",
    "# s0 = 'href=\"/maps/'+str(city_code)+'/'+city_name+'/routes/'\n",
    "\n",
    "# s = 'https://yandex.ru/maps/{}/{}/stops/{}/'.format(city_code, city_name, stop)\n",
    "\n",
    "# url = s\n",
    "\n",
    "# req = requests.get(url)\n",
    "# bs = BeautifulSoup(req.text, 'html.parser')\n",
    "\n",
    "# lst_links = bs.find_all('a')\n",
    "\n",
    "# lst_routes_links = []\n",
    "# route_names = []\n",
    "# titles = []\n",
    "# for link in lst_links:\n",
    "#     if s0 in str(link) and link.text != 'Маршруты':\n",
    "#         lst_routes_links.append('https://yandex.ru'+link.get('href'))\n",
    "#         route_names.append(link.text)\n",
    "#         titles.append(link.get('title'))\n",
    "# # \n",
    "\n",
    "\n",
    "# url1 = lst_routes_links[0]\n",
    "# req = requests.get(url1)\n",
    "# bs = BeautifulSoup(req.text, 'html.parser')\n",
    "\n",
    "# scrpt = bs.find_all('script')[-2].text\n",
    "# js = json.loads(scrpt)\n",
    "\n",
    "# # stop features\n",
    "# # js['masstransitLine']['features'][0]['features'][-1]\n",
    "\n",
    "# all_scrpt = bs.find_all('script')\n",
    "# for scr in all_scrpt:\n",
    "#     if scr.get(\"type\") == \"application/json\":\n",
    "#         print(all_scrpt.index(scr))\n",
    "# # \n",
    "\n",
    "\n",
    "# ################\n",
    "# str1 = 'остановка общественного транспорта'\n",
    "# str_qt = urllib.parse.quote(str1)\n",
    "\n",
    "# srch = \"https://yandex.ru/maps/239/sochi/search/{}\".format(str_qt)\n",
    "\n",
    "# req = requests.get(srch)\n",
    "# bs = BeautifulSoup(req.text, 'html.parser')\n",
    "\n",
    "# all_scrpt = bs.find_all(\"script\")\n",
    "\n",
    "\n",
    "# all_scrpt = bs.find_all(\"script\")\n",
    "# for scr in all_scrpt:\n",
    "#     if scr.get('type') == \"application/json\":\n",
    "#         print(all_scrpt.index(scr))\n",
    "# # \n",
    "\n",
    "# scr1 = all_scrpt[13].text\n",
    "# js2 = json.loads(scr1)\n",
    "\n",
    "# # address\n",
    "# # js2['searchPreloadedResults']['items'][1]['description']"
   ]
  }
 ],
 "metadata": {
  "kernelspec": {
   "display_name": "Python 3",
   "language": "python",
   "name": "python3"
  },
  "language_info": {
   "codemirror_mode": {
    "name": "ipython",
    "version": 3
   },
   "file_extension": ".py",
   "mimetype": "text/x-python",
   "name": "python",
   "nbconvert_exporter": "python",
   "pygments_lexer": "ipython3",
   "version": "3.7.6"
  }
 },
 "nbformat": 4,
 "nbformat_minor": 2
}
