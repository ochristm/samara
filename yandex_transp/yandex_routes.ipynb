{
 "cells": [
  {
   "cell_type": "code",
   "execution_count": 1,
   "metadata": {},
   "outputs": [],
   "source": [
    "import requests\n",
    "import re\n",
    "from bs4 import BeautifulSoup\n",
    "import json\n",
    "import urllib\n",
    "import pandas as pd\n",
    "import geopandas as gpd\n",
    "import shapely\n",
    "from shapely.geometry import Point, LineString, MultiLineString\n",
    "from tqdm.notebook import tqdm\n",
    "import time"
   ]
  },
  {
   "cell_type": "code",
   "execution_count": null,
   "metadata": {},
   "outputs": [],
   "source": []
  },
  {
   "cell_type": "markdown",
   "metadata": {},
   "source": [
    "# Способ поиска всех маршрутов в городе по названию"
   ]
  },
  {
   "cell_type": "code",
   "execution_count": null,
   "metadata": {},
   "outputs": [],
   "source": []
  },
  {
   "cell_type": "code",
   "execution_count": 2,
   "metadata": {},
   "outputs": [],
   "source": [
    "def get_url_from_city(city):\n",
    "\n",
    "    str_qt = urllib.parse.quote(city)\n",
    "    srch_ct = \"https://yandex.ru/maps/?text={}\".format(str_qt)\n",
    "\n",
    "    req = requests.get(srch_ct)\n",
    "    bs = BeautifulSoup(req.text, 'html.parser')\n",
    "\n",
    "\n",
    "    alla = bs.find_all('a')\n",
    "    for aa in alla:\n",
    "        cls = aa.get(\"class\")\n",
    "        try:\n",
    "            if 'catalog-entry-point' in cls:\n",
    "                hrf = aa.get(\"href\")\n",
    "                break\n",
    "        except:\n",
    "            pass\n",
    "    # \n",
    "    try:\n",
    "        city_id,city_name = hrf.split(\"maps/\")[1].split(\"/catalog\")[0].split(\"/\")\n",
    "    except:\n",
    "        city_id,city_name = None,None\n",
    "        print(\"Error. Not found\")\n",
    "        pass\n",
    "    #\n",
    "\n",
    "    lnk_tp = \"https://yandex.ru/maps/\"+ str(city_id) + \"/\" + str(city_name) + \"/transport\"\n",
    "\n",
    "    return lnk_tp,city_id,city_name"
   ]
  },
  {
   "cell_type": "code",
   "execution_count": 3,
   "metadata": {},
   "outputs": [],
   "source": [
    "def find_js(lnk):\n",
    "    with requests.get(lnk, stream=True, timeout=25) as req:\n",
    "        bs = BeautifulSoup(req.text, 'html.parser')\n",
    "        all_scrpt = bs.find_all(\"script\")\n",
    "        for scr in all_scrpt:\n",
    "            if scr.get('type') == \"application/json\":\n",
    "                sc_ind = all_scrpt.index(scr)\n",
    "                break\n",
    "            else:\n",
    "                sc_ind=0\n",
    "        # \n",
    "        scrp_txt = all_scrpt[sc_ind].text\n",
    "        js = json.loads(scrp_txt)\n",
    "\n",
    "        return js"
   ]
  },
  {
   "cell_type": "code",
   "execution_count": 4,
   "metadata": {},
   "outputs": [],
   "source": [
    "def get_list_stop_ids(city_id,city_name):\n",
    "\n",
    "    stop_url = \"https://yandex.ru/maps/{}/{}/category/public_transport_stop/\".format(city_id,\n",
    "                                                                                    city_name)\n",
    "    # \n",
    "    js_stp = find_js(stop_url)\n",
    "    lst_items = js_stp['searchPreloadedResults']['items']\n",
    "\n",
    "    lst_stop_ids = []\n",
    "    for i in range(len(lst_items)):\n",
    "        one_grp = lst_items[i]\n",
    "        try:\n",
    "            grp_stops = one_grp['stops']\n",
    "            for j in range(len(grp_stops)):\n",
    "                one_stop = grp_stops[j]\n",
    "                grp = [one_stop['id'],one_stop['coordinates']]\n",
    "                if grp not in lst_stop_ids:\n",
    "                    lst_stop_ids.append(grp)\n",
    "            #\n",
    "        except:\n",
    "            pass\n",
    "    # \n",
    "\n",
    "    return lst_stop_ids "
   ]
  },
  {
   "cell_type": "code",
   "execution_count": 5,
   "metadata": {},
   "outputs": [],
   "source": [
    "def get_stop_url(lst_stop_ids,city_id,city_name):\n",
    "    lst_stops_url=[]\n",
    "    i=0\n",
    "    for i in range(len(lst_stop_ids)):\n",
    "        stop_id = lst_stop_ids[i][0]\n",
    "        stop_url = 'https://yandex.ru/maps/{}/{}/stops/{}'.format(city_id,city_name,stop_id)\n",
    "        lst_stops_url.append(stop_url)\n",
    "    # \n",
    "    return lst_stops_url"
   ]
  },
  {
   "cell_type": "code",
   "execution_count": 6,
   "metadata": {},
   "outputs": [],
   "source": [
    "def get_ids_all(js):\n",
    "    lst_tsp = js['masstransitStop']['transports']\n",
    "    lstno = ['suburban', 'water']\n",
    "    lst_rts = []\n",
    "    i=0\n",
    "    for i in range(len(lst_tsp)):\n",
    "        one_lst = []\n",
    "        try:\n",
    "            meta_veh = lst_tsp[i]\n",
    "            lineid = meta_veh['lineId']\n",
    "            if lineid not in one_lst:\n",
    "                one_lst.append(lineid)\n",
    "                answ_line = 1\n",
    "            else:\n",
    "                answ_line = 0\n",
    "            try:\n",
    "                transp_type = meta_veh['type']\n",
    "                name_rt = meta_veh['name']\n",
    "            except:\n",
    "                transp_type,name_rt = None,None\n",
    "            if answ_line == 1:\n",
    "                one_lst.append(name_rt)\n",
    "                one_lst.append(transp_type)\n",
    "            #\n",
    "            if (one_lst != []) & (one_lst not in lst_rts) & (one_lst[2] not in lstno):\n",
    "                lst_rts.append(one_lst)\n",
    "        except:\n",
    "            pass\n",
    "    # \n",
    "\n",
    "    return lst_rts"
   ]
  },
  {
   "cell_type": "code",
   "execution_count": 7,
   "metadata": {},
   "outputs": [],
   "source": [
    "def get_rts_in_stop(lst_stops_url):\n",
    "    big_lst_id = []\n",
    "    i=0\n",
    "    for i in range(len(lst_stops_url)):\n",
    "        one_url=lst_stops_url[i]\n",
    "        js = find_js(one_url)\n",
    "        lst_rts = get_ids_all(js)\n",
    "        j=0\n",
    "        for j in range(len(lst_rts)):\n",
    "            if lst_rts[j] not in big_lst_id:\n",
    "                big_lst_id.append(lst_rts[j])\n",
    "    # \n",
    "    return big_lst_id"
   ]
  },
  {
   "cell_type": "code",
   "execution_count": null,
   "metadata": {},
   "outputs": [],
   "source": []
  },
  {
   "cell_type": "code",
   "execution_count": 8,
   "metadata": {},
   "outputs": [],
   "source": [
    "def get_stop(dct):\n",
    "    lst=[]\n",
    "    stop_id = dct['id']\n",
    "    name = dct['name']\n",
    "    stop_lon = dct['coordinates'][0]\n",
    "    stop_lat = dct['coordinates'][1]\n",
    "    lst = [stop_id,name,stop_lat,stop_lon]\n",
    "    return lst"
   ]
  },
  {
   "cell_type": "code",
   "execution_count": 9,
   "metadata": {},
   "outputs": [],
   "source": [
    "def get_dir_data(one_dir,direction,lnkid):\n",
    "    all_stops=[]\n",
    "    rt_line=[]\n",
    "    line_data=[]\n",
    "    i=0\n",
    "    lst_stop=[]\n",
    "    cnt_stp = 0\n",
    "    line_data = line_data + [lnkid,direction]\n",
    "    for i in range(len(one_dir)):\n",
    "        if 'id' in one_dir[i]:\n",
    "            cnt_stp +=1\n",
    "            lst_stop = []\n",
    "            lst_stop = lst_stop + [lnkid,direction,cnt_stp]\n",
    "            lst_stop = lst_stop + get_stop(one_dir[i])\n",
    "            all_stops.append(lst_stop)\n",
    "\n",
    "        if 'points' in one_dir[i]:\n",
    "            one_part = one_dir[i]['points']\n",
    "            for j in range(len(one_part)):\n",
    "                rt_line.append(one_part[j])\n",
    "        #\n",
    "    # \n",
    "    line_data.append(LineString(rt_line))\n",
    "    \n",
    "    return all_stops,line_data"
   ]
  },
  {
   "cell_type": "code",
   "execution_count": 10,
   "metadata": {},
   "outputs": [],
   "source": [
    "def get_rt_data(city_id, city_name, lnkid):\n",
    "    \n",
    "    lnk_rt = 'https://yandex.ru/maps/{}/{}/routes/{}'.format(city_id, city_name, lnkid)\n",
    "    js_rt = find_js(lnk_rt)\n",
    "    one_rt=js_rt['masstransitLine']['features']\n",
    "\n",
    "    for_reestr = []\n",
    "    line_data=[]\n",
    "\n",
    "    stop_seq1,line_data1 = get_dir_data(one_rt[0]['features'],0,lnkid)\n",
    "    line_data.append(line_data1)\n",
    "\n",
    "    stp_frw = one_rt[0]['properties']['ThreadMetaData']['EssentialStops'][0]['name']\n",
    "    try:\n",
    "        stp_bckw = one_rt[0]['properties']['ThreadMetaData']['EssentialStops'][1]['name']\n",
    "    except:\n",
    "        stp_bckw = stp_frw\n",
    "    #\n",
    "    str_rt_nm = str(stp_frw) + \"_\" + str(stp_bckw)\n",
    "    for_reestr.append(str_rt_nm)\n",
    "\n",
    "    if len(one_rt) == 2:\n",
    "        stop_seq2,line_data2 = get_dir_data(one_rt[1]['features'],1,lnkid)\n",
    "        stop_seq = stop_seq1 + stop_seq2\n",
    "        if line_data2 not in line_data:\n",
    "            line_data.append(line_data2)\n",
    "        #\n",
    "        is_circle = False\n",
    "\n",
    "    else:\n",
    "        stop_seq = stop_seq1\n",
    "        is_circle = True\n",
    "\n",
    "    # \n",
    "    \n",
    "    for_reestr.append(is_circle)\n",
    "    return for_reestr, stop_seq, line_data"
   ]
  },
  {
   "cell_type": "code",
   "execution_count": 11,
   "metadata": {},
   "outputs": [],
   "source": [
    "def get_length(gdf_line,df_reestr):\n",
    "    cp_gdfl = gdf_line.copy()\n",
    "    cp_gdfl = cp_gdfl.to_crs('epsg:32637')\n",
    "    lst_geo = list(cp_gdfl.geometry)\n",
    "\n",
    "    lst_length = []\n",
    "    for line in lst_geo:\n",
    "        lngth = round(line.length/1000,2)\n",
    "        lst_length.append(lngth)\n",
    "    # \n",
    "    cp_gdfl['length'] = lst_length\n",
    "\n",
    "    direct = cp_gdfl[cp_gdfl.direction == 0]\n",
    "    backw = cp_gdfl[cp_gdfl.direction == 1]\n",
    "\n",
    "    df_reestr = df_reestr.merge(direct[['line_id', 'length']], how='left',on=['line_id'])\n",
    "    df_reestr['lenght_frw'] = df_reestr['length']\n",
    "    del df_reestr['length']\n",
    "    df_reestr = df_reestr.merge(backw[['line_id', 'length']], how='left',on=['line_id'])\n",
    "    df_reestr['length_bckw'] = df_reestr['length']\n",
    "    del df_reestr['length']\n",
    "    df_reestr['length_bckw'] = df_reestr['length_bckw'].fillna(0)\n",
    "    \n",
    "    cp_gdfl = None\n",
    "    del cp_gdfl\n",
    "    \n",
    "    return df_reestr"
   ]
  },
  {
   "cell_type": "code",
   "execution_count": 12,
   "metadata": {},
   "outputs": [],
   "source": [
    "def make_df_from_url(city_id, city_name, lst_rts):\n",
    "\n",
    "    big_reestr=[]\n",
    "    big_seq=[]\n",
    "    big_line=[]\n",
    "    i=0\n",
    "    for i in range(len(lst_rts)):\n",
    "    # for i in range(2):\n",
    "        lnkid = lst_rts[i][0]\n",
    "        rt_nbr = lst_rts[i][1]\n",
    "        rt_tp = lst_rts[i][2]\n",
    "        for_r_2 = [lnkid,rt_nbr,rt_tp]\n",
    "        for_reestr, stop_seq, line_data = get_rt_data(city_id, city_name, lnkid)\n",
    "        for_r_2 = for_r_2 + for_reestr\n",
    "        big_reestr.append(for_r_2)\n",
    "        big_seq = big_seq + stop_seq\n",
    "        big_line = big_line + line_data\n",
    "    # \n",
    "\n",
    "    # reestr with all routes\n",
    "    columns=['line_id','route_number','type_ts','route_long_name','is_circle']\n",
    "    df_reestr = pd.DataFrame(data=big_reestr,columns=columns)\n",
    "\n",
    "    # geometry of route\n",
    "    gdf_line = gpd.GeoDataFrame(data=big_line,columns=['line_id','direction','geometry'])\n",
    "    gdf_line.crs='epsg:4326'\n",
    "\n",
    "    # stop_sequence\n",
    "    columns=['line_id','direction','stop_sequence','stop_id','stop_name','lat','lon']\n",
    "    df_stop_seq = pd.DataFrame(data=big_seq,columns=columns)\n",
    "\n",
    "\n",
    "    # get line.length for reestr\n",
    "    df_reestr = get_length(gdf_line,df_reestr)\n",
    "\n",
    "    return df_reestr,gdf_line,df_stop_seq"
   ]
  },
  {
   "cell_type": "code",
   "execution_count": 13,
   "metadata": {},
   "outputs": [],
   "source": [
    "def get_new_stops(df_stop_seq,city,lst_stop_ids):\n",
    "    lst_stops_all = list(df_stop_seq['stop_id'])\n",
    "    lst_lon_all = list(df_stop_seq['lon'])\n",
    "    lst_lat_all = list(df_stop_seq['lat'])\n",
    "    lst_new_ids = []\n",
    "    i=0\n",
    "    for i in range(len(lst_stops_all)):\n",
    "        stop_id = lst_stops_all[i]\n",
    "        lon = lst_lon_all[i]\n",
    "        lat = lst_lat_all[i]\n",
    "        one_id = [stop_id,[lon,lat]]\n",
    "        if one_id not in lst_new_ids:\n",
    "            lst_new_ids.append(one_id)\n",
    "    # \n",
    "\n",
    "    lst_points_all=[]\n",
    "    lst_ids = []\n",
    "    i=0\n",
    "    for i in range(len(lst_new_ids)):\n",
    "        point = Point(lst_new_ids[i][1])\n",
    "        lst_points_all.append(point)\n",
    "        lst_ids.append(lst_new_ids[i][0])\n",
    "    # \n",
    "\n",
    "    gdf_points = gpd.GeoDataFrame(data=lst_new_ids,geometry=lst_points_all)\n",
    "    gdf_points.crs='epsg:4326'\n",
    "    gdf_points = gdf_points.to_crs('epsg:4326')\n",
    "\n",
    "\n",
    "    #######\n",
    "    lnk_tp,city_id,city_name = get_url_from_city(city)\n",
    "    js = find_js(lnk_tp)\n",
    "    lst_bbox = js['mapRegion']['bounds']\n",
    "    box1 = shapely.geometry.box(lst_bbox[0][0],lst_bbox[0][1],lst_bbox[1][0],lst_bbox[1][1])\n",
    "    #######\n",
    "\n",
    "\n",
    "    gdf_bbox = gpd.GeoDataFrame(geometry=[box1])\n",
    "    gdf_bbox.crs='epsg:4326'\n",
    "    gdf_bbox = gdf_bbox.to_crs('epsg:4326')\n",
    "\n",
    "    gdf_pt_bbx = gpd.sjoin(gdf_points,gdf_bbox,op='within',\n",
    "                           how='inner').drop(\"index_right\",axis=1)\n",
    "    #\n",
    "\n",
    "    #######\n",
    "    lst_new_stops_good = []\n",
    "    l1=list(gdf_pt_bbx[0])\n",
    "    l2=list(gdf_pt_bbx[1])\n",
    "    i=0\n",
    "    for i in range(len(l1)):\n",
    "        one = [l1[i],l2[i]]\n",
    "        if one not in lst_stop_ids:\n",
    "            lst_new_stops_good.append(one)\n",
    "    # \n",
    "    #######\n",
    "\n",
    "    return lst_new_stops_good"
   ]
  },
  {
   "cell_type": "code",
   "execution_count": null,
   "metadata": {},
   "outputs": [],
   "source": []
  },
  {
   "cell_type": "code",
   "execution_count": null,
   "metadata": {},
   "outputs": [],
   "source": []
  },
  {
   "cell_type": "code",
   "execution_count": 14,
   "metadata": {},
   "outputs": [],
   "source": [
    "def get_city_transp_info(city):\n",
    "\n",
    "    # get global url of all transport in city\n",
    "    lnk_tp,city_id,city_name = get_url_from_city(city)\n",
    "    \n",
    "    # first list of stops\n",
    "    lst_stop_ids = get_list_stop_ids(city_id,city_name)\n",
    "    \n",
    "    # get first list of stop urls\n",
    "    lst_stops_url = get_stop_url(lst_stop_ids,city_id,city_name)\n",
    "    \n",
    "    # get first list of line_ids\n",
    "    big_lst_id = get_rts_in_stop(lst_stops_url)\n",
    "    \n",
    "    # get first data\n",
    "    df_reestr,gdf_line,df_stop_seq = make_df_from_url(city_id,city_name,big_lst_id)\n",
    "    print(\"first part done\")\n",
    "    \n",
    "    ####### second part ######\n",
    "    time.sleep(2)\n",
    "    #get second list of stops\n",
    "    lst_stop_ids2 = get_new_stops(df_stop_seq,city,lst_stop_ids)\n",
    "    \n",
    "    # get second list of stop urls\n",
    "    lst_stops_url2 = get_stop_url(lst_stop_ids2,city_id,city_name)\n",
    "    \n",
    "    # get second list of line_ids\n",
    "    big_lst_id2 = get_rts_in_stop(lst_stops_url2)\n",
    "    \n",
    "    # get second data\n",
    "    df_reestr2,gdf_line2,df_stop_seq2 = make_df_from_url(city_id,city_name,big_lst_id2)\n",
    "    \n",
    "    \n",
    "    ##### finale #####\n",
    "    df_reestr_all = df_reestr.append(df_reestr2).reset_index(drop=True)\n",
    "    gdf_line_all = gdf_line.append(gdf_line2).reset_index(drop=True)\n",
    "    df_stop_seq_all = df_stop_seq.append(df_stop_seq2).reset_index(drop=True)\n",
    "    \n",
    "\n",
    "    return df_reestr_all,gdf_line_all,df_stop_seq_all"
   ]
  },
  {
   "cell_type": "code",
   "execution_count": null,
   "metadata": {},
   "outputs": [],
   "source": []
  },
  {
   "cell_type": "code",
   "execution_count": null,
   "metadata": {},
   "outputs": [],
   "source": []
  },
  {
   "cell_type": "code",
   "execution_count": 15,
   "metadata": {},
   "outputs": [],
   "source": [
    "city = 'Самара'"
   ]
  },
  {
   "cell_type": "code",
   "execution_count": 16,
   "metadata": {
    "scrolled": true
   },
   "outputs": [
    {
     "name": "stdout",
     "output_type": "stream",
     "text": [
      "first part done\n",
      "Wall time: 12min 17s\n"
     ]
    }
   ],
   "source": [
    "%time df_reestr_all,gdf_line_all,df_stop_seq_all = get_city_transp_info(city)"
   ]
  },
  {
   "cell_type": "code",
   "execution_count": null,
   "metadata": {},
   "outputs": [],
   "source": []
  },
  {
   "cell_type": "code",
   "execution_count": 18,
   "metadata": {},
   "outputs": [
    {
     "name": "stdout",
     "output_type": "stream",
     "text": [
      "461\n"
     ]
    }
   ],
   "source": [
    "print(len(df_reestr_all))"
   ]
  },
  {
   "cell_type": "code",
   "execution_count": null,
   "metadata": {},
   "outputs": [],
   "source": [
    "# time_entry + time_end"
   ]
  },
  {
   "cell_type": "code",
   "execution_count": null,
   "metadata": {},
   "outputs": [],
   "source": [
    "# lnk_tp"
   ]
  },
  {
   "cell_type": "code",
   "execution_count": 19,
   "metadata": {},
   "outputs": [],
   "source": [
    "df_reestr_all.to_csv(\"df_reestr_all.csv\",encoding='utf-8-sig',sep=';',index=False)\n",
    "gdf_line_all.to_csv(\"gdf_line_all.csv\",encoding='utf-8-sig',sep=';',index=False)\n",
    "df_stop_seq_all.to_csv(\"df_stop_seq_all.csv\",encoding='utf-8-sig',sep=';',index=False)"
   ]
  },
  {
   "cell_type": "code",
   "execution_count": null,
   "metadata": {},
   "outputs": [],
   "source": []
  },
  {
   "cell_type": "code",
   "execution_count": null,
   "metadata": {},
   "outputs": [],
   "source": []
  },
  {
   "cell_type": "code",
   "execution_count": null,
   "metadata": {},
   "outputs": [],
   "source": []
  },
  {
   "cell_type": "code",
   "execution_count": null,
   "metadata": {},
   "outputs": [],
   "source": []
  }
 ],
 "metadata": {
  "kernelspec": {
   "display_name": "Python 3",
   "language": "python",
   "name": "python3"
  },
  "language_info": {
   "codemirror_mode": {
    "name": "ipython",
    "version": 3
   },
   "file_extension": ".py",
   "mimetype": "text/x-python",
   "name": "python",
   "nbconvert_exporter": "python",
   "pygments_lexer": "ipython3",
   "version": "3.7.6"
  }
 },
 "nbformat": 4,
 "nbformat_minor": 2
}
