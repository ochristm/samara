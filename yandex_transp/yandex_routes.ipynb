{
 "cells": [
  {
   "cell_type": "code",
   "execution_count": 2,
   "metadata": {},
   "outputs": [],
   "source": [
    "import requests\n",
    "import re\n",
    "from bs4 import BeautifulSoup\n",
    "import json\n",
    "import urllib\n",
    "import pandas as pd\n",
    "import geopandas as gpd\n",
    "import shapely\n",
    "from shapely.geometry import Point, LineString, MultiLineString"
   ]
  },
  {
   "cell_type": "code",
   "execution_count": 15,
   "metadata": {
    "collapsed": true
   },
   "outputs": [],
   "source": []
  },
  {
   "cell_type": "markdown",
   "metadata": {},
   "source": [
    "# Способ поиска всех маршрутов в городе по названию"
   ]
  },
  {
   "cell_type": "code",
   "execution_count": null,
   "metadata": {},
   "outputs": [],
   "source": []
  },
  {
   "cell_type": "code",
   "execution_count": 3,
   "metadata": {},
   "outputs": [],
   "source": [
    "str_ct = 'Самара'\n",
    "str_qt = urllib.parse.quote(str_ct)\n",
    "srch_ct = \"https://yandex.ru/maps/?text={}\".format(str_qt)"
   ]
  },
  {
   "cell_type": "code",
   "execution_count": 4,
   "metadata": {},
   "outputs": [],
   "source": [
    "req = requests.get(srch_ct)\n",
    "bs = BeautifulSoup(req.text, 'html.parser')"
   ]
  },
  {
   "cell_type": "code",
   "execution_count": 5,
   "metadata": {},
   "outputs": [],
   "source": [
    "alla = bs.find_all('a')\n",
    "for aa in alla:\n",
    "    cls = aa.get(\"class\")\n",
    "    try:\n",
    "        if 'catalog-entry-point' in cls:\n",
    "            hrf = aa.get(\"href\")\n",
    "            break\n",
    "    except:\n",
    "        pass\n",
    "# \n",
    "try:\n",
    "    city_id,city_name = hrf.split(\"maps/\")[1].split(\"/catalog\")[0].split(\"/\")\n",
    "except:\n",
    "    city_id,city_name = None,None\n",
    "    print(\"Error. Not found\")\n",
    "    pass\n",
    "#\n"
   ]
  },
  {
   "cell_type": "code",
   "execution_count": 6,
   "metadata": {},
   "outputs": [],
   "source": [
    "lnk_tp = \"https://yandex.ru/maps/\"+ str(city_id) + \"/\" + str(city_name) + \"/transport\""
   ]
  },
  {
   "cell_type": "code",
   "execution_count": null,
   "metadata": {},
   "outputs": [],
   "source": []
  },
  {
   "cell_type": "code",
   "execution_count": null,
   "metadata": {},
   "outputs": [],
   "source": [
    "# def get_city_info(city):\n",
    "# return "
   ]
  },
  {
   "cell_type": "code",
   "execution_count": null,
   "metadata": {},
   "outputs": [],
   "source": []
  },
  {
   "cell_type": "code",
   "execution_count": null,
   "metadata": {},
   "outputs": [],
   "source": []
  },
  {
   "cell_type": "code",
   "execution_count": 7,
   "metadata": {},
   "outputs": [],
   "source": [
    "def find_js(lnk):\n",
    "    req = requests.get(lnk)\n",
    "    bs = BeautifulSoup(req.text, 'html.parser')\n",
    "    all_scrpt = bs.find_all(\"script\")\n",
    "    for scr in all_scrpt:\n",
    "        if scr.get('type') == \"application/json\":\n",
    "            sc_ind = all_scrpt.index(scr)\n",
    "            break\n",
    "    # \n",
    "    scrp_txt = all_scrpt[sc_ind].text\n",
    "    js = json.loads(scrp_txt)\n",
    "    \n",
    "    return js"
   ]
  },
  {
   "cell_type": "code",
   "execution_count": 8,
   "metadata": {},
   "outputs": [],
   "source": [
    "js_tp = find_js(lnk_tp)"
   ]
  },
  {
   "cell_type": "code",
   "execution_count": null,
   "metadata": {},
   "outputs": [],
   "source": []
  },
  {
   "cell_type": "code",
   "execution_count": 157,
   "metadata": {},
   "outputs": [],
   "source": [
    "def get_ids_all(js_tp):\n",
    "\n",
    "    lst_rts = []\n",
    "    i=0\n",
    "    for i in range(len(js_tp['vehicles'])):\n",
    "        one_lst = []\n",
    "        try:\n",
    "            meta_veh = js_tp['vehicles'][i]['properties']['VehicleMetaData']['Transport']\n",
    "            lineid = meta_veh['lineId']\n",
    "            if lineid not in lst_lineid:\n",
    "                one_lst.append(lineid)\n",
    "                answ_line = 1\n",
    "            else:\n",
    "                answ_line = 0\n",
    "            try:\n",
    "                transp_type = meta_veh['type']\n",
    "                name_rt = meta_veh['name']\n",
    "            except:\n",
    "                transp_type,name_rt = None,None\n",
    "            if answ_line == 1:\n",
    "                one_lst.append(name_rt)\n",
    "                one_lst.append(transp_type)\n",
    "            #\n",
    "            if (one_lst != []) & (one_lst not in lst_rts):\n",
    "                lst_rts.append(one_lst)\n",
    "        except:\n",
    "            pass\n",
    "    # \n",
    "\n",
    "    return lst_rts"
   ]
  },
  {
   "cell_type": "code",
   "execution_count": 154,
   "metadata": {},
   "outputs": [],
   "source": [
    "lst_rts = get_ids_all(js_tp)"
   ]
  },
  {
   "cell_type": "code",
   "execution_count": null,
   "metadata": {},
   "outputs": [],
   "source": []
  },
  {
   "cell_type": "code",
   "execution_count": null,
   "metadata": {},
   "outputs": [],
   "source": []
  },
  {
   "cell_type": "code",
   "execution_count": 10,
   "metadata": {},
   "outputs": [],
   "source": [
    "def get_stop(dct):\n",
    "    lst=[]\n",
    "    stop_id = dct['id']\n",
    "    name = dct['name']\n",
    "    stop_lon = dct['coordinates'][0]\n",
    "    stop_lat = dct['coordinates'][1]\n",
    "    lst = [stop_id,name,stop_lat,stop_lon]\n",
    "    return lst"
   ]
  },
  {
   "cell_type": "code",
   "execution_count": null,
   "metadata": {},
   "outputs": [],
   "source": []
  },
  {
   "cell_type": "code",
   "execution_count": 11,
   "metadata": {},
   "outputs": [],
   "source": [
    "def get_dir_data(one_dir,direction,lnkid):\n",
    "    all_stops=[]\n",
    "    rt_line=[]\n",
    "    line_data=[]\n",
    "    i=0\n",
    "    lst_stop=[]\n",
    "    cnt_stp = 0\n",
    "    line_data = line_data + [lnkid,direction]\n",
    "    for i in range(len(one_dir)):\n",
    "        if 'id' in one_dir[i]:\n",
    "            cnt_stp +=1\n",
    "            lst_stop = []\n",
    "            lst_stop = lst_stop + [lnkid,direction,cnt_stp]\n",
    "            lst_stop = lst_stop + get_stop(one_dir[i])\n",
    "            all_stops.append(lst_stop)\n",
    "\n",
    "        if 'points' in one_dir[i]:\n",
    "            one_part = one_dir[i]['points']\n",
    "            for j in range(len(one_part)):\n",
    "                rt_line.append(one_part[j])\n",
    "        #\n",
    "    # \n",
    "    line_data.append(LineString(rt_line))\n",
    "    \n",
    "    return all_stops,line_data"
   ]
  },
  {
   "cell_type": "code",
   "execution_count": null,
   "metadata": {},
   "outputs": [],
   "source": []
  },
  {
   "cell_type": "code",
   "execution_count": 141,
   "metadata": {},
   "outputs": [],
   "source": [
    "def get_rt_data(city_id, city_name, lnkid):\n",
    "    \n",
    "    lnk_rt = 'https://yandex.ru/maps/{}/{}/routes/{}'.format(city_id, city_name, lnkid)\n",
    "    js_rt = find_js(lnk_rt)\n",
    "    one_rt=js_rt['masstransitLine']['features']\n",
    "\n",
    "    for_reestr = []\n",
    "    line_data=[]\n",
    "\n",
    "    stop_seq1,line_data1 = get_dir_data(one_rt[0]['features'],0,lnkid)\n",
    "    line_data.append(line_data1)\n",
    "\n",
    "    stp_frw = one_rt[0]['properties']['ThreadMetaData']['EssentialStops'][0]['name']\n",
    "    try:\n",
    "        stp_bckw = one_rt[0]['properties']['ThreadMetaData']['EssentialStops'][1]['name']\n",
    "    except:\n",
    "        stp_bckw = stp_frw\n",
    "    #\n",
    "    str_rt_nm = str(stp_frw) + \"_\" + str(stp_bckw)\n",
    "    for_reestr.append(str_rt_nm)\n",
    "\n",
    "    if len(one_rt) == 2:\n",
    "        stop_seq2,line_data2 = get_dir_data(one_rt[1]['features'],1,lnkid)\n",
    "        stop_seq = stop_seq1 + stop_seq2\n",
    "        if line_data2 not in line_data:\n",
    "            line_data.append(line_data2)\n",
    "        #\n",
    "        is_circle = False\n",
    "\n",
    "    else:\n",
    "        stop_seq = stop_seq1\n",
    "        is_circle = True\n",
    "\n",
    "    # \n",
    "    \n",
    "    for_reestr.append(is_circle)\n",
    "    return for_reestr, stop_seq, line_data"
   ]
  },
  {
   "cell_type": "code",
   "execution_count": null,
   "metadata": {},
   "outputs": [],
   "source": []
  },
  {
   "cell_type": "code",
   "execution_count": null,
   "metadata": {},
   "outputs": [],
   "source": []
  },
  {
   "cell_type": "code",
   "execution_count": null,
   "metadata": {},
   "outputs": [],
   "source": [
    "def get_length(gdf_line,df_reestr):\n",
    "    cp_gdfl = gdf_line.copy()\n",
    "    cp_gdfl = cp_gdfl.to_crs('epsg:32637')\n",
    "    lst_geo = list(cp_gdfl.geometry)\n",
    "\n",
    "    lst_length = []\n",
    "    for line in lst_geo:\n",
    "        lngth = round(line.length/1000,2)\n",
    "        lst_length.append(lngth)\n",
    "    # \n",
    "    cp_gdfl['length'] = lst_length\n",
    "\n",
    "    direct = cp_gdfl[cp_gdfl.direction == 0]\n",
    "    backw = cp_gdfl[cp_gdfl.direction == 1]\n",
    "\n",
    "    df_reestr = df_reestr.merge(direct[['line_id', 'length']], how='left',on=['line_id'])\n",
    "    df_reestr['lenght_frw'] = df_reestr['length']\n",
    "    del df_reestr['length']\n",
    "    df_reestr = df_reestr.merge(backw[['line_id', 'length']], how='left',on=['line_id'])\n",
    "    df_reestr['length_bckw'] = df_reestr['length']\n",
    "    del df_reestr['length']\n",
    "    df_reestr['length_bckw'] = df_reestr['length_bckw'].fillna(0)\n",
    "    \n",
    "    cp_gdfl = None\n",
    "    del cp_gdfl\n",
    "    \n",
    "    return df_reestr"
   ]
  },
  {
   "cell_type": "code",
   "execution_count": null,
   "metadata": {},
   "outputs": [],
   "source": []
  },
  {
   "cell_type": "code",
   "execution_count": 142,
   "metadata": {},
   "outputs": [],
   "source": [
    "def make_df_from_url(lst_rts):\n",
    "\n",
    "    big_reestr=[]\n",
    "    big_seq=[]\n",
    "    big_line=[]\n",
    "    i=0\n",
    "    for i in range(len(lst_rts)):\n",
    "    # for i in range(2):\n",
    "        lnkid = lst_rts[i][0]\n",
    "        rt_nbr = lst_rts[i][1]\n",
    "        rt_tp = lst_rts[i][2]\n",
    "        for_r_2 = [lnkid,rt_nbr,rt_tp]\n",
    "        for_reestr, stop_seq, line_data = get_rt_data(city_id, city_name, lnkid)\n",
    "        for_r_2 = for_r_2 + for_reestr\n",
    "        big_reestr.append(for_r_2)\n",
    "        big_seq = big_seq + stop_seq\n",
    "        big_line = big_line + line_data\n",
    "    # \n",
    "\n",
    "    # reestr with all routes\n",
    "    columns=['line_id','route_number','type_ts','route_long_name','is_circle']\n",
    "    df_reestr = pd.DataFrame(data=big_reestr,columns=columns)\n",
    "\n",
    "    # geometry of route\n",
    "    gdf_line = gpd.GeoDataFrame(data=big_line,columns=['line_id','direction','geometry'])\n",
    "    gdf_line.crs='epsg:4326'\n",
    "\n",
    "    # stop_sequence\n",
    "    columns=['line_id','direction','stop_sequence','stop_id','stop_name','lat','lon']\n",
    "    df_stop_seq = pd.DataFrame(data=big_seq,columns=columns)\n",
    "\n",
    "\n",
    "    # get line.length for reestr\n",
    "    df_reestr = get_length(gdf_line,df_reestr)\n",
    "\n",
    "    return df_reestr,gdf_line,df_stop_seq"
   ]
  },
  {
   "cell_type": "code",
   "execution_count": null,
   "metadata": {},
   "outputs": [],
   "source": []
  },
  {
   "cell_type": "code",
   "execution_count": 139,
   "metadata": {},
   "outputs": [],
   "source": [
    "import time"
   ]
  },
  {
   "cell_type": "code",
   "execution_count": 143,
   "metadata": {},
   "outputs": [
    {
     "name": "stdout",
     "output_type": "stream",
     "text": [
      "Wall time: 15.5 s\n"
     ]
    }
   ],
   "source": [
    "%time df_reestr,gdf_line,df_stop_seq = make_df_from_url(lst_rts)"
   ]
  },
  {
   "cell_type": "code",
   "execution_count": null,
   "metadata": {},
   "outputs": [],
   "source": []
  },
  {
   "cell_type": "code",
   "execution_count": null,
   "metadata": {},
   "outputs": [],
   "source": []
  },
  {
   "cell_type": "code",
   "execution_count": null,
   "metadata": {},
   "outputs": [],
   "source": []
  },
  {
   "cell_type": "code",
   "execution_count": null,
   "metadata": {},
   "outputs": [],
   "source": []
  },
  {
   "cell_type": "code",
   "execution_count": null,
   "metadata": {},
   "outputs": [],
   "source": []
  },
  {
   "cell_type": "code",
   "execution_count": null,
   "metadata": {},
   "outputs": [],
   "source": []
  },
  {
   "cell_type": "code",
   "execution_count": null,
   "metadata": {},
   "outputs": [],
   "source": []
  },
  {
   "cell_type": "code",
   "execution_count": null,
   "metadata": {},
   "outputs": [],
   "source": []
  },
  {
   "cell_type": "code",
   "execution_count": null,
   "metadata": {},
   "outputs": [],
   "source": []
  },
  {
   "cell_type": "code",
   "execution_count": null,
   "metadata": {},
   "outputs": [],
   "source": [
    "# # s = \"https://yandex.ru/maps/239/sochi/stops/stop__9973362/\"\n",
    "# city_code = '239'\n",
    "# city_name = 'sochi'\n",
    "# stop = 'stop__9973362'\n",
    "\n",
    "# s0 = 'href=\"/maps/'+str(city_code)+'/'+city_name+'/routes/'\n",
    "\n",
    "# s = 'https://yandex.ru/maps/{}/{}/stops/{}/'.format(city_code, city_name, stop)\n",
    "\n",
    "# url = s\n",
    "\n",
    "# req = requests.get(url)\n",
    "# bs = BeautifulSoup(req.text, 'html.parser')\n",
    "\n",
    "# lst_links = bs.find_all('a')\n",
    "\n",
    "# lst_routes_links = []\n",
    "# route_names = []\n",
    "# titles = []\n",
    "# for link in lst_links:\n",
    "#     if s0 in str(link) and link.text != 'Маршруты':\n",
    "#         lst_routes_links.append('https://yandex.ru'+link.get('href'))\n",
    "#         route_names.append(link.text)\n",
    "#         titles.append(link.get('title'))\n",
    "# # \n",
    "\n",
    "\n",
    "# url1 = lst_routes_links[0]\n",
    "# req = requests.get(url1)\n",
    "# bs = BeautifulSoup(req.text, 'html.parser')\n",
    "\n",
    "# scrpt = bs.find_all('script')[-2].text\n",
    "# js = json.loads(scrpt)\n",
    "\n",
    "# # stop features\n",
    "# # js['masstransitLine']['features'][0]['features'][-1]\n",
    "\n",
    "# all_scrpt = bs.find_all('script')\n",
    "# for scr in all_scrpt:\n",
    "#     if scr.get(\"type\") == \"application/json\":\n",
    "#         print(all_scrpt.index(scr))\n",
    "# # \n",
    "\n",
    "\n",
    "# ################\n",
    "# str1 = 'остановка общественного транспорта'\n",
    "# str_qt = urllib.parse.quote(str1)\n",
    "\n",
    "# srch = \"https://yandex.ru/maps/239/sochi/search/{}\".format(str_qt)\n",
    "\n",
    "# req = requests.get(srch)\n",
    "# bs = BeautifulSoup(req.text, 'html.parser')\n",
    "\n",
    "# all_scrpt = bs.find_all(\"script\")\n",
    "\n",
    "\n",
    "# all_scrpt = bs.find_all(\"script\")\n",
    "# for scr in all_scrpt:\n",
    "#     if scr.get('type') == \"application/json\":\n",
    "#         print(all_scrpt.index(scr))\n",
    "# # \n",
    "\n",
    "# scr1 = all_scrpt[13].text\n",
    "# js2 = json.loads(scr1)\n",
    "\n",
    "# # address\n",
    "# # js2['searchPreloadedResults']['items'][1]['description']"
   ]
  }
 ],
 "metadata": {
  "kernelspec": {
   "display_name": "Python 3",
   "language": "python",
   "name": "python3"
  },
  "language_info": {
   "codemirror_mode": {
    "name": "ipython",
    "version": 3
   },
   "file_extension": ".py",
   "mimetype": "text/x-python",
   "name": "python",
   "nbconvert_exporter": "python",
   "pygments_lexer": "ipython3",
   "version": "3.7.6"
  }
 },
 "nbformat": 4,
 "nbformat_minor": 2
}
