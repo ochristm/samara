{
 "cells": [
  {
   "cell_type": "code",
   "execution_count": 1,
   "metadata": {},
   "outputs": [],
   "source": [
    "import requests\n",
    "import re\n",
    "from bs4 import BeautifulSoup\n",
    "import json\n",
    "import urllib\n",
    "import pandas as pd\n",
    "import geopandas as gpd\n",
    "import shapely\n",
    "from shapely.geometry import Point, LineString, MultiLineString\n",
    "from tqdm.notebook import tqdm\n",
    "import time\n",
    "from datetime import datetime"
   ]
  },
  {
   "cell_type": "code",
   "execution_count": null,
   "metadata": {},
   "outputs": [],
   "source": []
  },
  {
   "cell_type": "code",
   "execution_count": 2,
   "metadata": {},
   "outputs": [],
   "source": [
    "def find_js(lnk):\n",
    "    with requests.get(lnk, stream=True, timeout=25) as req:\n",
    "        bs = BeautifulSoup(req.text, 'html.parser')\n",
    "        all_scrpt = bs.find_all(\"script\")\n",
    "        for scr in all_scrpt:\n",
    "            if scr.get('type') == \"application/json\":\n",
    "                sc_ind = all_scrpt.index(scr)\n",
    "                break\n",
    "            else:\n",
    "                sc_ind=0\n",
    "        # \n",
    "        scrp_txt = all_scrpt[sc_ind].text\n",
    "        js = json.loads(scrp_txt)\n",
    "\n",
    "        return js"
   ]
  },
  {
   "cell_type": "code",
   "execution_count": 3,
   "metadata": {},
   "outputs": [],
   "source": [
    "def get_stop_url(lst_stop_ids,city_id,city_name):\n",
    "    lst_stops_url=[]\n",
    "    i=0\n",
    "    for i in range(len(lst_stop_ids)):\n",
    "        stop_id = lst_stop_ids[i][0]\n",
    "        stop_url = 'https://yandex.ru/maps/{}/{}/stops/{}'.format(city_id,city_name,stop_id)\n",
    "        lst_stops_url.append(stop_url)\n",
    "    # \n",
    "    return lst_stops_url"
   ]
  },
  {
   "cell_type": "code",
   "execution_count": 4,
   "metadata": {},
   "outputs": [],
   "source": [
    "def get_ids_all(js):\n",
    "    try:\n",
    "        lst_tsp = js['masstransitStop']['transports']\n",
    "    except:\n",
    "        lst_tsp = []\n",
    "#     lstno = ['suburban', 'water']\n",
    "    lst_rts = []\n",
    "    i=0\n",
    "    for i in range(len(lst_tsp)):\n",
    "        one_lst = []\n",
    "        try:\n",
    "            meta_veh = lst_tsp[i]\n",
    "            lineid = meta_veh['lineId']\n",
    "            if lineid not in one_lst:\n",
    "                one_lst.append(lineid)\n",
    "                answ_line = 1\n",
    "            else:\n",
    "                answ_line = 0\n",
    "            try:\n",
    "                transp_type = meta_veh['type']\n",
    "                name_rt = meta_veh['name']\n",
    "            except:\n",
    "                transp_type,name_rt = None,None\n",
    "            if answ_line == 1:\n",
    "                one_lst.append(name_rt)\n",
    "                one_lst.append(transp_type)\n",
    "            #\n",
    "            if (one_lst != []) & (one_lst not in lst_rts):\n",
    "                lst_rts.append(one_lst)\n",
    "        except:\n",
    "            pass\n",
    "    # \n",
    "\n",
    "    return lst_rts"
   ]
  },
  {
   "cell_type": "code",
   "execution_count": 5,
   "metadata": {},
   "outputs": [],
   "source": [
    "def get_rts_in_stop(lst_stops_url):\n",
    "    big_lst_id = []\n",
    "    i=0\n",
    "    for i in range(len(lst_stops_url)):\n",
    "        one_url=lst_stops_url[i]\n",
    "        js = find_js(one_url)\n",
    "        lst_rts = get_ids_all(js)\n",
    "        j=0\n",
    "        for j in range(len(lst_rts)):\n",
    "            if lst_rts[j] not in big_lst_id:\n",
    "                big_lst_id.append(lst_rts[j])\n",
    "    # \n",
    "    return big_lst_id"
   ]
  },
  {
   "cell_type": "code",
   "execution_count": 6,
   "metadata": {},
   "outputs": [],
   "source": [
    "def get_stop(dct):\n",
    "    lst=[]\n",
    "    stop_id = dct['id']\n",
    "    name = dct['name']\n",
    "    stop_lon = dct['coordinates'][0]\n",
    "    stop_lat = dct['coordinates'][1]\n",
    "    lst = [stop_id,name,stop_lat,stop_lon]\n",
    "    return lst"
   ]
  },
  {
   "cell_type": "code",
   "execution_count": 7,
   "metadata": {},
   "outputs": [],
   "source": [
    "def get_dir_data(one_dir,direction,lnkid):\n",
    "    all_stops=[]\n",
    "    rt_line=[]\n",
    "    line_data=[]\n",
    "    i=0\n",
    "    lst_stop=[]\n",
    "    cnt_stp = 0\n",
    "    line_data = line_data + [lnkid,direction]\n",
    "    for i in range(len(one_dir)):\n",
    "        if 'id' in one_dir[i]:\n",
    "            cnt_stp +=1\n",
    "            lst_stop = []\n",
    "            lst_stop = lst_stop + [lnkid,direction,cnt_stp]\n",
    "            lst_stop = lst_stop + get_stop(one_dir[i])\n",
    "            all_stops.append(lst_stop)\n",
    "\n",
    "        if 'points' in one_dir[i]:\n",
    "            one_part = one_dir[i]['points']\n",
    "            for j in range(len(one_part)):\n",
    "                rt_line.append(one_part[j])\n",
    "        #\n",
    "    # \n",
    "    line_data.append(LineString(rt_line))\n",
    "    \n",
    "    return all_stops,line_data"
   ]
  },
  {
   "cell_type": "code",
   "execution_count": 8,
   "metadata": {},
   "outputs": [],
   "source": [
    "def get_rt_data(city_id, city_name, lnkid):\n",
    "    \n",
    "    lnk_rt = 'https://yandex.ru/maps/{}/{}/routes/{}'.format(city_id, city_name, lnkid)\n",
    "    for_reestr = []\n",
    "    line_data = []\n",
    "    stop_seq =[]\n",
    "\n",
    "    try:\n",
    "        js_rt = find_js(lnk_rt)\n",
    "        one_rt=js_rt['masstransitLine']['features']\n",
    "\n",
    "\n",
    "        stop_seq1,line_data1 = get_dir_data(one_rt[0]['features'],0,lnkid)\n",
    "        line_data.append(line_data1)\n",
    "\n",
    "        stp_frw = one_rt[0]['properties']['ThreadMetaData']['EssentialStops'][0]['name']\n",
    "        try:\n",
    "            stp_bckw = one_rt[0]['properties']['ThreadMetaData']['EssentialStops'][1]['name']\n",
    "        except:\n",
    "            stp_bckw = stp_frw\n",
    "        #\n",
    "        str_rt_nm = str(stp_frw) + \"_\" + str(stp_bckw)\n",
    "        for_reestr.append(str_rt_nm)\n",
    "\n",
    "        if len(one_rt) == 2:\n",
    "            stop_seq2,line_data2 = get_dir_data(one_rt[1]['features'],1,lnkid)\n",
    "            stop_seq = stop_seq1 + stop_seq2\n",
    "            if line_data2 not in line_data:\n",
    "                line_data.append(line_data2)\n",
    "            #\n",
    "            is_circle = False\n",
    "\n",
    "        else:\n",
    "            stop_seq = stop_seq1\n",
    "            is_circle = True\n",
    "\n",
    "        # \n",
    "\n",
    "        for_reestr.append(is_circle)\n",
    "    except:\n",
    "        print(\"Error in getting data from lineID:\", lnkid)\n",
    "        pass\n",
    "    return for_reestr, stop_seq, line_data"
   ]
  },
  {
   "cell_type": "code",
   "execution_count": 9,
   "metadata": {},
   "outputs": [],
   "source": [
    "def get_length(gdf_line,df_reestr):\n",
    "    cp_gdfl = gdf_line.copy()\n",
    "    cp_gdfl = cp_gdfl.to_crs('epsg:32637')\n",
    "    lst_geo = list(cp_gdfl.geometry)\n",
    "\n",
    "    lst_length = []\n",
    "    for line in lst_geo:\n",
    "        lngth = round(line.length/1000,2)\n",
    "        lst_length.append(lngth)\n",
    "    # \n",
    "    cp_gdfl['length'] = lst_length\n",
    "\n",
    "    direct = cp_gdfl[cp_gdfl.direction == 0]\n",
    "    backw = cp_gdfl[cp_gdfl.direction == 1]\n",
    "\n",
    "    df_reestr = df_reestr.merge(direct[['line_id', 'length']], how='left',on=['line_id'])\n",
    "    df_reestr['lenght_frw'] = df_reestr['length']\n",
    "    del df_reestr['length']\n",
    "    df_reestr = df_reestr.merge(backw[['line_id', 'length']], how='left',on=['line_id'])\n",
    "    df_reestr['length_bckw'] = df_reestr['length']\n",
    "    del df_reestr['length']\n",
    "    df_reestr['length_bckw'] = df_reestr['length_bckw'].fillna(0)\n",
    "    \n",
    "    cp_gdfl = None\n",
    "    del cp_gdfl\n",
    "    \n",
    "    return df_reestr"
   ]
  },
  {
   "cell_type": "code",
   "execution_count": 10,
   "metadata": {},
   "outputs": [],
   "source": [
    "def make_df_from_url(city_id, city_name, lst_rts):\n",
    "\n",
    "    big_reestr=[]\n",
    "    big_seq=[]\n",
    "    big_line=[]\n",
    "    i=0\n",
    "    for i in range(len(lst_rts)):\n",
    "    # for i in range(2):\n",
    "        lnkid = lst_rts[i][0]\n",
    "        rt_nbr = lst_rts[i][1]\n",
    "        rt_tp = lst_rts[i][2]\n",
    "        for_r_2 = [lnkid,rt_nbr,rt_tp]\n",
    "        for_reestr, stop_seq, line_data = get_rt_data(city_id, city_name, lnkid)\n",
    "        for_r_2 = for_r_2 + for_reestr\n",
    "        big_reestr.append(for_r_2)\n",
    "        big_seq = big_seq + stop_seq\n",
    "        big_line = big_line + line_data\n",
    "    #\n",
    "\n",
    "    # reestr with all routes\n",
    "    columns=['line_id','route_number','type_ts','route_long_name','is_circle']\n",
    "    df_reestr = pd.DataFrame(data=big_reestr,columns=columns)\n",
    "\n",
    "    # geometry of route\n",
    "    gdf_line = gpd.GeoDataFrame(data=big_line,columns=['line_id','direction','geometry'])\n",
    "    gdf_line.crs='epsg:4326'\n",
    "\n",
    "    # stop_sequence\n",
    "    columns=['line_id','direction','stop_sequence','stop_id','stop_name','lat','lon']\n",
    "    df_stop_seq = pd.DataFrame(data=big_seq,columns=columns)\n",
    "\n",
    "\n",
    "    # get line.length for reestr\n",
    "    df_reestr = get_length(gdf_line,df_reestr)\n",
    "\n",
    "    return df_reestr,gdf_line,df_stop_seq"
   ]
  },
  {
   "cell_type": "code",
   "execution_count": null,
   "metadata": {},
   "outputs": [],
   "source": []
  },
  {
   "cell_type": "code",
   "execution_count": null,
   "metadata": {},
   "outputs": [],
   "source": []
  },
  {
   "cell_type": "code",
   "execution_count": null,
   "metadata": {},
   "outputs": [],
   "source": []
  },
  {
   "cell_type": "code",
   "execution_count": null,
   "metadata": {},
   "outputs": [],
   "source": []
  },
  {
   "cell_type": "code",
   "execution_count": 30,
   "metadata": {
    "scrolled": true
   },
   "outputs": [],
   "source": [
    "data_stops2 = pd.read_csv(\"water_only.csv\",sep=';',encoding='windows-1251')"
   ]
  },
  {
   "cell_type": "code",
   "execution_count": 31,
   "metadata": {
    "scrolled": true
   },
   "outputs": [
    {
     "data": {
      "text/html": [
       "<div>\n",
       "<style scoped>\n",
       "    .dataframe tbody tr th:only-of-type {\n",
       "        vertical-align: middle;\n",
       "    }\n",
       "\n",
       "    .dataframe tbody tr th {\n",
       "        vertical-align: top;\n",
       "    }\n",
       "\n",
       "    .dataframe thead th {\n",
       "        text-align: right;\n",
       "    }\n",
       "</style>\n",
       "<table border=\"1\" class=\"dataframe\">\n",
       "  <thead>\n",
       "    <tr style=\"text-align: right;\">\n",
       "      <th></th>\n",
       "      <th>city_id</th>\n",
       "      <th>city_name</th>\n",
       "      <th>stop_id</th>\n",
       "      <th>stop_type</th>\n",
       "      <th>stop_name</th>\n",
       "      <th>url</th>\n",
       "    </tr>\n",
       "  </thead>\n",
       "  <tbody>\n",
       "    <tr>\n",
       "      <th>0</th>\n",
       "      <td>51</td>\n",
       "      <td>samara</td>\n",
       "      <td>1543171260</td>\n",
       "      <td>причал</td>\n",
       "      <td>1-й причал</td>\n",
       "      <td>https://yandex.ru/maps/51/samara/stops/1543171...</td>\n",
       "    </tr>\n",
       "    <tr>\n",
       "      <th>1</th>\n",
       "      <td>51</td>\n",
       "      <td>samara</td>\n",
       "      <td>1829520131</td>\n",
       "      <td>причал</td>\n",
       "      <td>База отдыха Ладья</td>\n",
       "      <td>https://yandex.ru/maps/51/samara/stops/1829520...</td>\n",
       "    </tr>\n",
       "    <tr>\n",
       "      <th>2</th>\n",
       "      <td>51</td>\n",
       "      <td>samara</td>\n",
       "      <td>1543170860</td>\n",
       "      <td>причал</td>\n",
       "      <td>База отдыха Чайка</td>\n",
       "      <td>https://yandex.ru/maps/51/samara/stops/1543170...</td>\n",
       "    </tr>\n",
       "  </tbody>\n",
       "</table>\n",
       "</div>"
      ],
      "text/plain": [
       "   city_id city_name     stop_id stop_type          stop_name  \\\n",
       "0       51    samara  1543171260    причал         1-й причал   \n",
       "1       51    samara  1829520131    причал  База отдыха Ладья   \n",
       "2       51    samara  1543170860    причал  База отдыха Чайка   \n",
       "\n",
       "                                                 url  \n",
       "0  https://yandex.ru/maps/51/samara/stops/1543171...  \n",
       "1  https://yandex.ru/maps/51/samara/stops/1829520...  \n",
       "2  https://yandex.ru/maps/51/samara/stops/1543170...  "
      ]
     },
     "execution_count": 31,
     "metadata": {},
     "output_type": "execute_result"
    }
   ],
   "source": [
    "data_stops2.head(3)"
   ]
  },
  {
   "cell_type": "code",
   "execution_count": 41,
   "metadata": {
    "scrolled": true
   },
   "outputs": [
    {
     "name": "stdout",
     "output_type": "stream",
     "text": [
      "4\n"
     ]
    }
   ],
   "source": [
    "data_stops = data_stops2[data_stops2.stop_type == 'жд']\n",
    "print(len(data_stops))"
   ]
  },
  {
   "cell_type": "code",
   "execution_count": null,
   "metadata": {},
   "outputs": [],
   "source": []
  },
  {
   "cell_type": "code",
   "execution_count": 42,
   "metadata": {},
   "outputs": [
    {
     "data": {
      "application/vnd.jupyter.widget-view+json": {
       "model_id": "2e1cb83344ad4b0995c778d9b0a18cec",
       "version_major": 2,
       "version_minor": 0
      },
      "text/plain": [
       "HBox(children=(FloatProgress(value=0.0, max=3.0), HTML(value='')))"
      ]
     },
     "metadata": {},
     "output_type": "display_data"
    },
    {
     "name": "stdout",
     "output_type": "stream",
     "text": [
      "\n"
     ]
    }
   ],
   "source": [
    "# i=0\n",
    "lst_ct_ids = list(data_stops.city_id.unique())\n",
    "\n",
    "df_reestr_all = pd.DataFrame()\n",
    "gdf_line_all = gpd.GeoDataFrame()\n",
    "df_stop_seq_all = pd.DataFrame()\n",
    "\n",
    "for ct_id in tqdm(lst_ct_ids):\n",
    "    one_ct = data_stops[data_stops.city_id == ct_id].reset_index(drop=True)\n",
    "    ct_name = one_ct.city_name[0]\n",
    "    lst_stops_url = list(one_ct.url)\n",
    "    big_lst_id = get_rts_in_stop(lst_stops_url)\n",
    "    df_reestr,gdf_line,df_stop_seq = make_df_from_url(ct_id,ct_name,big_lst_id)\n",
    "    \n",
    "    df_reestr_all = df_reestr_all.append(df_reestr).reset_index(drop=True)\n",
    "    gdf_line_all = gdf_line_all.append(gdf_line).reset_index(drop=True)\n",
    "    df_stop_seq_all = df_stop_seq_all.append(df_stop_seq).reset_index(drop=True)\n",
    "# "
   ]
  },
  {
   "cell_type": "code",
   "execution_count": null,
   "metadata": {},
   "outputs": [],
   "source": []
  },
  {
   "cell_type": "code",
   "execution_count": 43,
   "metadata": {},
   "outputs": [],
   "source": [
    "df_reestr_all = df_reestr_all.drop_duplicates(subset=['line_id']).reset_index(drop=True)\n",
    "gdf_line_all = gdf_line_all.drop_duplicates(subset=['line_id',\n",
    "                                                    'direction']).reset_index(drop=True)\n",
    "df_stop_seq_all = df_stop_seq_all.drop_duplicates(subset=['line_id',\n",
    "                                                          'direction',\n",
    "                                                          'stop_sequence']).reset_index(drop=True)\n",
    "# "
   ]
  },
  {
   "cell_type": "code",
   "execution_count": null,
   "metadata": {},
   "outputs": [],
   "source": []
  },
  {
   "cell_type": "code",
   "execution_count": 44,
   "metadata": {},
   "outputs": [],
   "source": [
    "city = \"СТН\"\n",
    "tp = \"rail\""
   ]
  },
  {
   "cell_type": "code",
   "execution_count": 45,
   "metadata": {},
   "outputs": [],
   "source": [
    "df_reestr_all.to_csv(\"df_reestr_{}_{}.csv\".format(city,tp),\n",
    "                     encoding='utf-8-sig',sep=';',index=False)\n",
    "gdf_line_all.to_file(\"gdf_line_{}_{}.json\".format(city,tp), \n",
    "                     driver=\"GeoJSON\",encoding='utf-8-sig')\n",
    "df_stop_seq_all.to_csv(\"df_stop_seq_{}_{}.csv\".format(city,tp),\n",
    "                       encoding='utf-8-sig',sep=';',index=False)"
   ]
  },
  {
   "cell_type": "code",
   "execution_count": null,
   "metadata": {},
   "outputs": [],
   "source": []
  }
 ],
 "metadata": {
  "kernelspec": {
   "display_name": "Python 3",
   "language": "python",
   "name": "python3"
  },
  "language_info": {
   "codemirror_mode": {
    "name": "ipython",
    "version": 3
   },
   "file_extension": ".py",
   "mimetype": "text/x-python",
   "name": "python",
   "nbconvert_exporter": "python",
   "pygments_lexer": "ipython3",
   "version": "3.7.6"
  }
 },
 "nbformat": 4,
 "nbformat_minor": 4
}
