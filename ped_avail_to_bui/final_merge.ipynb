{
 "cells": [
  {
   "cell_type": "code",
   "execution_count": 1,
   "metadata": {},
   "outputs": [],
   "source": [
    "import numpy as np\n",
    "import pandas as pd\n",
    "import geopandas as gpd\n",
    "import shapely\n",
    "from shapely.geometry import Point, LineString, MultiLineString, Polygon, MultiPolygon\n",
    "from tqdm.notebook import tqdm\n",
    "import time\n",
    "from datetime import datetime\n",
    "\n",
    "import momepy\n",
    "import networkx as nx\n",
    "\n",
    "import io\n",
    "import sys\n",
    "\n",
    "from shapely.ops import nearest_points, unary_union, cascaded_union"
   ]
  },
  {
   "cell_type": "code",
   "execution_count": null,
   "metadata": {},
   "outputs": [],
   "source": []
  },
  {
   "cell_type": "code",
   "execution_count": 2,
   "metadata": {},
   "outputs": [],
   "source": [
    "path=r'./res/ok/'"
   ]
  },
  {
   "cell_type": "code",
   "execution_count": 3,
   "metadata": {
    "scrolled": true
   },
   "outputs": [],
   "source": [
    "buil_old = gpd.read_file(path + 'bui_liv_9' + '.json', encoding='utf-8')"
   ]
  },
  {
   "cell_type": "code",
   "execution_count": 4,
   "metadata": {},
   "outputs": [],
   "source": [
    "stops_800 = gpd.read_file(path + 'gdf_stops_32640_buff_9' + '.json', encoding='utf-8')"
   ]
  },
  {
   "cell_type": "code",
   "execution_count": 5,
   "metadata": {},
   "outputs": [],
   "source": [
    "buff_400 = gpd.read_file(path + 'spruts_buff_400_10' + '.json', encoding='utf-8')"
   ]
  },
  {
   "cell_type": "code",
   "execution_count": 6,
   "metadata": {},
   "outputs": [],
   "source": [
    "pairs = pd.read_csv('df_pairs.csv', sep=\";\", encoding='utf-8')"
   ]
  },
  {
   "cell_type": "code",
   "execution_count": null,
   "metadata": {},
   "outputs": [],
   "source": []
  },
  {
   "cell_type": "code",
   "execution_count": null,
   "metadata": {},
   "outputs": [],
   "source": []
  },
  {
   "cell_type": "code",
   "execution_count": 7,
   "metadata": {},
   "outputs": [],
   "source": [
    "shrt_bui = buil_old[['osm_id', 'bui_liv_type', 'geometry']]\n",
    "\n",
    "shrt_bui_400 = shrt_bui[shrt_bui.bui_liv_type == 'многоквартирный'].reset_index(drop=True)\n",
    "shrt_bui_800 = shrt_bui[shrt_bui.bui_liv_type == 'ИЖС'].reset_index(drop=True)"
   ]
  },
  {
   "cell_type": "code",
   "execution_count": 8,
   "metadata": {},
   "outputs": [],
   "source": [
    "stops_800['ped_avail_m'] = 800\n",
    "buff_400['ped_avail_m'] = 400"
   ]
  },
  {
   "cell_type": "code",
   "execution_count": null,
   "metadata": {},
   "outputs": [],
   "source": []
  },
  {
   "cell_type": "code",
   "execution_count": 9,
   "metadata": {},
   "outputs": [
    {
     "name": "stdout",
     "output_type": "stream",
     "text": [
      "Wall time: 35.1 s\n"
     ]
    }
   ],
   "source": [
    "%time sj_800 = gpd.sjoin(shrt_bui_800, stops_800[['stop_id', 'ped_avail_m', 'geometry']], how='left', op='intersects')\n",
    "sj_800 = sj_800.drop(\"index_right\", axis=1)\n",
    "sj_800 = sj_800.drop_duplicates(subset=['osm_id']).reset_index(drop=True)"
   ]
  },
  {
   "cell_type": "code",
   "execution_count": 10,
   "metadata": {},
   "outputs": [
    {
     "data": {
      "text/html": [
       "<div>\n",
       "<style scoped>\n",
       "    .dataframe tbody tr th:only-of-type {\n",
       "        vertical-align: middle;\n",
       "    }\n",
       "\n",
       "    .dataframe tbody tr th {\n",
       "        vertical-align: top;\n",
       "    }\n",
       "\n",
       "    .dataframe thead th {\n",
       "        text-align: right;\n",
       "    }\n",
       "</style>\n",
       "<table border=\"1\" class=\"dataframe\">\n",
       "  <thead>\n",
       "    <tr style=\"text-align: right;\">\n",
       "      <th></th>\n",
       "      <th>osm_id</th>\n",
       "      <th>bui_liv_type</th>\n",
       "      <th>geometry</th>\n",
       "      <th>stop_id</th>\n",
       "      <th>ped_avail_m</th>\n",
       "    </tr>\n",
       "  </thead>\n",
       "  <tbody>\n",
       "    <tr>\n",
       "      <th>0</th>\n",
       "      <td>22025513</td>\n",
       "      <td>ИЖС</td>\n",
       "      <td>POLYGON ((50.17540 53.21847, 50.17534 53.21852...</td>\n",
       "      <td>stop__10000939</td>\n",
       "      <td>800.0</td>\n",
       "    </tr>\n",
       "    <tr>\n",
       "      <th>1</th>\n",
       "      <td>22025515</td>\n",
       "      <td>ИЖС</td>\n",
       "      <td>POLYGON ((50.17303 53.21791, 50.17296 53.21798...</td>\n",
       "      <td>stop__10000939</td>\n",
       "      <td>800.0</td>\n",
       "    </tr>\n",
       "  </tbody>\n",
       "</table>\n",
       "</div>"
      ],
      "text/plain": [
       "     osm_id bui_liv_type                                           geometry  \\\n",
       "0  22025513          ИЖС  POLYGON ((50.17540 53.21847, 50.17534 53.21852...   \n",
       "1  22025515          ИЖС  POLYGON ((50.17303 53.21791, 50.17296 53.21798...   \n",
       "\n",
       "          stop_id  ped_avail_m  \n",
       "0  stop__10000939        800.0  \n",
       "1  stop__10000939        800.0  "
      ]
     },
     "execution_count": 10,
     "metadata": {},
     "output_type": "execute_result"
    }
   ],
   "source": [
    "sj_800.head(2)"
   ]
  },
  {
   "cell_type": "code",
   "execution_count": null,
   "metadata": {},
   "outputs": [],
   "source": []
  },
  {
   "cell_type": "code",
   "execution_count": null,
   "metadata": {},
   "outputs": [],
   "source": []
  },
  {
   "cell_type": "code",
   "execution_count": null,
   "metadata": {},
   "outputs": [],
   "source": []
  },
  {
   "cell_type": "code",
   "execution_count": 11,
   "metadata": {},
   "outputs": [],
   "source": [
    "np_400 = buff_400.to_numpy()\n",
    "ind_stid = list(buff_400.columns).index('stop_id')\n",
    "ind_geo = list(buff_400.columns).index('geometry')\n",
    "\n",
    "np_pairs = pairs.to_numpy()\n",
    "ind_one = list(pairs.columns).index('one')\n",
    "ind_two = list(pairs.columns).index('two')"
   ]
  },
  {
   "cell_type": "code",
   "execution_count": null,
   "metadata": {},
   "outputs": [],
   "source": []
  },
  {
   "cell_type": "code",
   "execution_count": null,
   "metadata": {},
   "outputs": [],
   "source": []
  },
  {
   "cell_type": "code",
   "execution_count": null,
   "metadata": {},
   "outputs": [],
   "source": []
  },
  {
   "cell_type": "code",
   "execution_count": 30,
   "metadata": {},
   "outputs": [
    {
     "data": {
      "application/vnd.jupyter.widget-view+json": {
       "model_id": "5b4da374235c4c009f6800e8174124a5",
       "version_major": 2,
       "version_minor": 0
      },
      "text/plain": [
       "HBox(children=(FloatProgress(value=0.0, max=15556.0), HTML(value='')))"
      ]
     },
     "metadata": {},
     "output_type": "display_data"
    },
    {
     "name": "stdout",
     "output_type": "stream",
     "text": [
      "\n"
     ]
    }
   ],
   "source": [
    "lst_inter = []\n",
    "lst_stopid_one = []\n",
    "lst_stopid_two = []\n",
    "lst_done = []\n",
    "\n",
    "i=0\n",
    "# for i in tqdm(range(2)):\n",
    "\n",
    "for i in tqdm(range(len(np_pairs))):\n",
    "    one_stop = np_pairs[i, ind_one]\n",
    "    two_stop = np_pairs[i, ind_two]\n",
    "    one_pair = str(one_stop) + \"^\" + str(two_stop)\n",
    "    one_pair2 = str(two_stop) + \"^\" + str(one_stop)\n",
    "    \n",
    "#     try:\n",
    "    try:\n",
    "        one_stop_poly = list(np_400[np_400[:,ind_stid] == one_stop][:,ind_geo])[0]\n",
    "    except:\n",
    "        one_stop_poly = []\n",
    "    try:\n",
    "        two_stop_poly = list(np_400[np_400[:,ind_stid] == two_stop][:,ind_geo])[0]\n",
    "    except:\n",
    "        two_stop_poly = []\n",
    "    if ((type(one_stop_poly) == shapely.geometry.polygon.Polygon) \n",
    "        | (type(one_stop_poly) == shapely.geometry.multipolygon.MultiPolygon)):\n",
    "        if ((type(two_stop_poly) == shapely.geometry.polygon.Polygon) \n",
    "            | (type(two_stop_poly) == shapely.geometry.multipolygon.MultiPolygon)):\n",
    "            intr = one_stop_poly.intersection(two_stop_poly)\n",
    "        else:\n",
    "            intr = one_stop_poly\n",
    "    else:\n",
    "        if ((type(two_stop_poly) == shapely.geometry.polygon.Polygon) \n",
    "            | (type(two_stop_poly) == shapely.geometry.multipolygon.MultiPolygon)):\n",
    "            intr = two_stop_poly\n",
    "    #\n",
    "    if ((one_pair not in lst_done) \n",
    "        & (one_pair2 not in lst_done) \n",
    "        & ((type(intr) == shapely.geometry.polygon.Polygon) \n",
    "            | (type(intr) == shapely.geometry.multipolygon.MultiPolygon))):\n",
    "        lst_done.append(one_pair)\n",
    "        lst_inter.append(intr)\n",
    "\n",
    "        lst_stopid_one.append(one_stop)\n",
    "        lst_stopid_two.append(two_stop)\n",
    "#     except:\n",
    "#         print(one_pair)\n",
    "#         pass\n",
    "#     #"
   ]
  },
  {
   "cell_type": "code",
   "execution_count": null,
   "metadata": {},
   "outputs": [],
   "source": []
  },
  {
   "cell_type": "code",
   "execution_count": 91,
   "metadata": {},
   "outputs": [],
   "source": [
    "def get_paired_buffs(gdf_buff, df_pairs):\n",
    "    np_buff = gdf_buff.to_numpy()\n",
    "    ind_stid = list(gdf_buff.columns).index('stop_id')\n",
    "    ind_geo = list(gdf_buff.columns).index('geometry')\n",
    "\n",
    "    np_pairs = df_pairs.to_numpy()\n",
    "    ind_one = list(df_pairs.columns).index('one')\n",
    "    ind_two = list(df_pairs.columns).index('two')\n",
    "    \n",
    "    lst_inter = []\n",
    "    lst_stopid_one = []\n",
    "    lst_stopid_two = []\n",
    "    lst_done = []\n",
    "\n",
    "    i=0\n",
    "    for i in tqdm(range(len(np_pairs))):\n",
    "        one_stop = np_pairs[i, ind_one]\n",
    "        two_stop = np_pairs[i, ind_two]\n",
    "        one_pair = str(one_stop) + \"^\" + str(two_stop)\n",
    "        one_pair2 = str(two_stop) + \"^\" + str(one_stop)\n",
    "        try:\n",
    "            one_stop_poly = list(np_buff[np_buff[:,ind_stid] == one_stop][:,ind_geo])[0]\n",
    "        except:\n",
    "            one_stop_poly = []\n",
    "        try:\n",
    "            two_stop_poly = list(np_buff[np_buff[:,ind_stid] == two_stop][:,ind_geo])[0]\n",
    "        except:\n",
    "            two_stop_poly = []\n",
    "        if ((type(one_stop_poly) == shapely.geometry.polygon.Polygon) \n",
    "            | (type(one_stop_poly) == shapely.geometry.multipolygon.MultiPolygon)):\n",
    "            if ((type(two_stop_poly) == shapely.geometry.polygon.Polygon) \n",
    "                | (type(two_stop_poly) == shapely.geometry.multipolygon.MultiPolygon)):\n",
    "                intr = one_stop_poly.intersection(two_stop_poly)\n",
    "            else:\n",
    "                intr = one_stop_poly\n",
    "        else:\n",
    "            if ((type(two_stop_poly) == shapely.geometry.polygon.Polygon) \n",
    "                | (type(two_stop_poly) == shapely.geometry.multipolygon.MultiPolygon)):\n",
    "                intr = two_stop_poly\n",
    "        #\n",
    "        if ((one_pair not in lst_done) \n",
    "            & (one_pair2 not in lst_done) \n",
    "            & ((type(intr) == shapely.geometry.polygon.Polygon) \n",
    "                | (type(intr) == shapely.geometry.multipolygon.MultiPolygon))):\n",
    "            lst_done.append(one_pair)\n",
    "            lst_inter.append(intr)\n",
    "\n",
    "            lst_stopid_one.append(one_stop)\n",
    "            lst_stopid_two.append(two_stop)\n",
    "    #\n",
    "    \n",
    "    return lst_inter, lst_stopid_one, lst_stopid_two"
   ]
  },
  {
   "cell_type": "code",
   "execution_count": 92,
   "metadata": {},
   "outputs": [
    {
     "data": {
      "application/vnd.jupyter.widget-view+json": {
       "model_id": "973193df6344487ba79324c09552b99a",
       "version_major": 2,
       "version_minor": 0
      },
      "text/plain": [
       "HBox(children=(FloatProgress(value=0.0, max=15556.0), HTML(value='')))"
      ]
     },
     "metadata": {},
     "output_type": "display_data"
    },
    {
     "name": "stdout",
     "output_type": "stream",
     "text": [
      "\n"
     ]
    }
   ],
   "source": [
    "lst_inter_400, lst_stopid_one_400, lst_stopid_two_400 = get_paired_buffs(buff_400, pairs)"
   ]
  },
  {
   "cell_type": "code",
   "execution_count": 93,
   "metadata": {},
   "outputs": [
    {
     "data": {
      "application/vnd.jupyter.widget-view+json": {
       "model_id": "df1b38e773a04b45b1ad9152e3b798e5",
       "version_major": 2,
       "version_minor": 0
      },
      "text/plain": [
       "HBox(children=(FloatProgress(value=0.0, max=15556.0), HTML(value='')))"
      ]
     },
     "metadata": {},
     "output_type": "display_data"
    },
    {
     "name": "stdout",
     "output_type": "stream",
     "text": [
      "\n"
     ]
    }
   ],
   "source": [
    "lst_inter_800, lst_stopid_one_800, lst_stopid_two_800 = get_paired_buffs(stops_800, pairs)"
   ]
  },
  {
   "cell_type": "code",
   "execution_count": null,
   "metadata": {},
   "outputs": [],
   "source": []
  },
  {
   "cell_type": "code",
   "execution_count": null,
   "metadata": {},
   "outputs": [],
   "source": []
  },
  {
   "cell_type": "code",
   "execution_count": 34,
   "metadata": {
    "scrolled": true
   },
   "outputs": [],
   "source": [
    "gdf_paired_400 = gpd.GeoDataFrame(geometry=lst_inter_400, \n",
    "                 data=list(zip(lst_stopid_one_400, lst_stopid_two_400)), columns=['one', 'two'])\n",
    "#\n",
    "gdf_paired_400.crs='epsg:4326'\n",
    "gdf_paired_400['ped_avail_m'] = 400"
   ]
  },
  {
   "cell_type": "code",
   "execution_count": 95,
   "metadata": {},
   "outputs": [],
   "source": [
    "gdf_paired_800 = gpd.GeoDataFrame(geometry=lst_inter_800, \n",
    "                 data=list(zip(lst_stopid_one_800, lst_stopid_two_800)), columns=['one', 'two'])\n",
    "#\n",
    "gdf_paired_800.crs='epsg:4326'\n",
    "gdf_paired_800['ped_avail_m'] = 800"
   ]
  },
  {
   "cell_type": "code",
   "execution_count": 35,
   "metadata": {},
   "outputs": [
    {
     "data": {
      "text/html": [
       "<div>\n",
       "<style scoped>\n",
       "    .dataframe tbody tr th:only-of-type {\n",
       "        vertical-align: middle;\n",
       "    }\n",
       "\n",
       "    .dataframe tbody tr th {\n",
       "        vertical-align: top;\n",
       "    }\n",
       "\n",
       "    .dataframe thead th {\n",
       "        text-align: right;\n",
       "    }\n",
       "</style>\n",
       "<table border=\"1\" class=\"dataframe\">\n",
       "  <thead>\n",
       "    <tr style=\"text-align: right;\">\n",
       "      <th></th>\n",
       "      <th>one</th>\n",
       "      <th>two</th>\n",
       "      <th>geometry</th>\n",
       "      <th>ped_avail_m</th>\n",
       "    </tr>\n",
       "  </thead>\n",
       "  <tbody>\n",
       "    <tr>\n",
       "      <th>0</th>\n",
       "      <td>stop__10001575</td>\n",
       "      <td>stop__10002125</td>\n",
       "      <td>POLYGON ((50.18312 53.18982, 50.18311 53.18982...</td>\n",
       "      <td>400</td>\n",
       "    </tr>\n",
       "    <tr>\n",
       "      <th>1</th>\n",
       "      <td>stop__10001575</td>\n",
       "      <td>stop__10001577</td>\n",
       "      <td>POLYGON ((50.18607 53.18900, 50.18607 53.18900...</td>\n",
       "      <td>400</td>\n",
       "    </tr>\n",
       "  </tbody>\n",
       "</table>\n",
       "</div>"
      ],
      "text/plain": [
       "              one             two  \\\n",
       "0  stop__10001575  stop__10002125   \n",
       "1  stop__10001575  stop__10001577   \n",
       "\n",
       "                                            geometry  ped_avail_m  \n",
       "0  POLYGON ((50.18312 53.18982, 50.18311 53.18982...          400  \n",
       "1  POLYGON ((50.18607 53.18900, 50.18607 53.18900...          400  "
      ]
     },
     "execution_count": 35,
     "metadata": {},
     "output_type": "execute_result"
    }
   ],
   "source": [
    "gdf_paired_400.head(2)"
   ]
  },
  {
   "cell_type": "code",
   "execution_count": null,
   "metadata": {},
   "outputs": [],
   "source": []
  },
  {
   "cell_type": "code",
   "execution_count": 99,
   "metadata": {},
   "outputs": [
    {
     "name": "stdout",
     "output_type": "stream",
     "text": [
      "Wall time: 8.8 s\n"
     ]
    }
   ],
   "source": [
    "%time sj_paired_400 = gpd.sjoin(shrt_bui_400, gdf_paired_400, how='left', op='intersects')\n",
    "sj_paired_400 = sj_paired_400.drop(\"index_right\", axis=1)\n",
    "sj_paired_400 = sj_paired_400.drop_duplicates(subset=['osm_id']).reset_index(drop=True)"
   ]
  },
  {
   "cell_type": "code",
   "execution_count": 97,
   "metadata": {},
   "outputs": [
    {
     "name": "stdout",
     "output_type": "stream",
     "text": [
      "Wall time: 1min 4s\n"
     ]
    }
   ],
   "source": [
    "%time sj_paired_800 = gpd.sjoin(shrt_bui_800, gdf_paired_800, how='left', op='intersects')\n",
    "sj_paired_800 = sj_paired_800.drop(\"index_right\", axis=1)\n",
    "sj_paired_800 = sj_paired_800.drop_duplicates(subset=['osm_id']).reset_index(drop=True)"
   ]
  },
  {
   "cell_type": "code",
   "execution_count": null,
   "metadata": {},
   "outputs": [],
   "source": []
  },
  {
   "cell_type": "code",
   "execution_count": 100,
   "metadata": {},
   "outputs": [
    {
     "data": {
      "text/plain": [
       "Index(['osm_id', 'bui_liv_type', 'geometry', 'one', 'two', 'ped_avail_m'], dtype='object')"
      ]
     },
     "execution_count": 100,
     "metadata": {},
     "output_type": "execute_result"
    }
   ],
   "source": [
    "sj_paired_400.columns"
   ]
  },
  {
   "cell_type": "code",
   "execution_count": 101,
   "metadata": {},
   "outputs": [],
   "source": [
    "sj_paired_400 = sj_paired_400.rename(columns={'one':'stop_id_one', 'two':'stop_id_two'})\n",
    "sj_paired_400 = sj_paired_400[['osm_id', 'bui_liv_type','stop_id_one','stop_id_two', \n",
    "                 'ped_avail_m', 'geometry']]"
   ]
  },
  {
   "cell_type": "code",
   "execution_count": 98,
   "metadata": {},
   "outputs": [],
   "source": [
    "sj_paired_800 = sj_paired_800.rename(columns={'one':'stop_id_one', 'two':'stop_id_two'})\n",
    "sj_paired_800 = sj_paired_800[['osm_id', 'bui_liv_type','stop_id_one','stop_id_two', \n",
    "                 'ped_avail_m', 'geometry']]"
   ]
  },
  {
   "cell_type": "code",
   "execution_count": null,
   "metadata": {},
   "outputs": [],
   "source": []
  },
  {
   "cell_type": "code",
   "execution_count": 44,
   "metadata": {},
   "outputs": [
    {
     "data": {
      "text/plain": [
       "Index(['osm_id', 'bui_liv_type', 'geometry', 'stop_id', 'ped_avail_m'], dtype='object')"
      ]
     },
     "execution_count": 44,
     "metadata": {},
     "output_type": "execute_result"
    }
   ],
   "source": [
    "sj_800.columns"
   ]
  },
  {
   "cell_type": "code",
   "execution_count": 47,
   "metadata": {},
   "outputs": [],
   "source": [
    "sj_800 = sj_800.rename(columns={'stop_id':'stop_id_one'})\n",
    "sj_800['stop_id_two'] = None\n",
    "sj_800 = sj_800[['osm_id', 'bui_liv_type','stop_id_one','stop_id_two', \n",
    "                 'ped_avail_m', 'geometry']]"
   ]
  },
  {
   "cell_type": "code",
   "execution_count": null,
   "metadata": {},
   "outputs": [],
   "source": []
  },
  {
   "cell_type": "code",
   "execution_count": 102,
   "metadata": {},
   "outputs": [],
   "source": [
    "bui_new = sj_paired_400.append(sj_paired_800).reset_index(drop=True)"
   ]
  },
  {
   "cell_type": "code",
   "execution_count": null,
   "metadata": {},
   "outputs": [],
   "source": [
    "# bui_new = sj_400.append(sj_800).reset_index(drop=True)"
   ]
  },
  {
   "cell_type": "code",
   "execution_count": 103,
   "metadata": {},
   "outputs": [
    {
     "name": "stdout",
     "output_type": "stream",
     "text": [
      "175376\n",
      "175376\n"
     ]
    }
   ],
   "source": [
    "print(len(bui_new))\n",
    "print(len(buil_old))"
   ]
  },
  {
   "cell_type": "code",
   "execution_count": 104,
   "metadata": {},
   "outputs": [
    {
     "data": {
      "text/html": [
       "<div>\n",
       "<style scoped>\n",
       "    .dataframe tbody tr th:only-of-type {\n",
       "        vertical-align: middle;\n",
       "    }\n",
       "\n",
       "    .dataframe tbody tr th {\n",
       "        vertical-align: top;\n",
       "    }\n",
       "\n",
       "    .dataframe thead th {\n",
       "        text-align: right;\n",
       "    }\n",
       "</style>\n",
       "<table border=\"1\" class=\"dataframe\">\n",
       "  <thead>\n",
       "    <tr style=\"text-align: right;\">\n",
       "      <th></th>\n",
       "      <th>osm_id</th>\n",
       "      <th>bui_liv_type</th>\n",
       "      <th>stop_id_one</th>\n",
       "      <th>stop_id_two</th>\n",
       "      <th>ped_avail_m</th>\n",
       "      <th>geometry</th>\n",
       "    </tr>\n",
       "  </thead>\n",
       "  <tbody>\n",
       "    <tr>\n",
       "      <th>0</th>\n",
       "      <td>21759242</td>\n",
       "      <td>многоквартирный</td>\n",
       "      <td>stop__10001437</td>\n",
       "      <td>stop__10001227</td>\n",
       "      <td>400.0</td>\n",
       "      <td>POLYGON ((50.19760 53.22646, 50.19735 53.22653...</td>\n",
       "    </tr>\n",
       "    <tr>\n",
       "      <th>1</th>\n",
       "      <td>22025511</td>\n",
       "      <td>многоквартирный</td>\n",
       "      <td>NaN</td>\n",
       "      <td>NaN</td>\n",
       "      <td>NaN</td>\n",
       "      <td>POLYGON ((50.17588 53.21841, 50.17510 53.21823...</td>\n",
       "    </tr>\n",
       "  </tbody>\n",
       "</table>\n",
       "</div>"
      ],
      "text/plain": [
       "     osm_id     bui_liv_type     stop_id_one     stop_id_two  ped_avail_m  \\\n",
       "0  21759242  многоквартирный  stop__10001437  stop__10001227        400.0   \n",
       "1  22025511  многоквартирный             NaN             NaN          NaN   \n",
       "\n",
       "                                            geometry  \n",
       "0  POLYGON ((50.19760 53.22646, 50.19735 53.22653...  \n",
       "1  POLYGON ((50.17588 53.21841, 50.17510 53.21823...  "
      ]
     },
     "execution_count": 104,
     "metadata": {},
     "output_type": "execute_result"
    }
   ],
   "source": [
    "bui_new.head(2)"
   ]
  },
  {
   "cell_type": "code",
   "execution_count": null,
   "metadata": {},
   "outputs": [],
   "source": []
  },
  {
   "cell_type": "code",
   "execution_count": 105,
   "metadata": {},
   "outputs": [],
   "source": [
    "bui_new.to_file(\"bui_new.json\", driver=\"GeoJSON\", encoding='utf-8')"
   ]
  },
  {
   "cell_type": "code",
   "execution_count": null,
   "metadata": {},
   "outputs": [],
   "source": []
  },
  {
   "cell_type": "code",
   "execution_count": 62,
   "metadata": {},
   "outputs": [],
   "source": [
    "big_buff_paired_400 = gpd.GeoDataFrame(geometry=[cascaded_union(list(gdf_paired_400.geometry))], data=['400'], columns=['ped_avail_m'])\n",
    "big_buff_paired_400.crs=gdf_paired_400.crs"
   ]
  },
  {
   "cell_type": "code",
   "execution_count": 78,
   "metadata": {},
   "outputs": [],
   "source": [
    "big_buff_paired_400.to_file(\"big_buff_paired_400.json\", driver=\"GeoJSON\", encoding='utf-8')"
   ]
  },
  {
   "cell_type": "code",
   "execution_count": 77,
   "metadata": {},
   "outputs": [],
   "source": []
  },
  {
   "cell_type": "code",
   "execution_count": 106,
   "metadata": {},
   "outputs": [],
   "source": [
    "big_buff_paired_800 = gpd.GeoDataFrame(geometry=[cascaded_union(list(gdf_paired_800.geometry))], data=['400'], columns=['ped_avail_m'])\n",
    "big_buff_paired_800.crs=gdf_paired_800.crs"
   ]
  },
  {
   "cell_type": "code",
   "execution_count": 107,
   "metadata": {},
   "outputs": [],
   "source": [
    "big_buff_paired_800.to_file(\"big_buff_paired_800.json\", driver=\"GeoJSON\", encoding='utf-8')"
   ]
  },
  {
   "cell_type": "code",
   "execution_count": null,
   "metadata": {},
   "outputs": [],
   "source": []
  },
  {
   "cell_type": "code",
   "execution_count": 71,
   "metadata": {},
   "outputs": [],
   "source": [
    "new_geo_list = [x for x in list(buff_400.geometry) if not pd.isnull(x)]\n",
    "big_buff_400 = gpd.GeoDataFrame(geometry=[cascaded_union(new_geo_list)], data=['400'], columns=['ped_avail_m'])\n",
    "big_buff_400.crs=buff_400.crs"
   ]
  },
  {
   "cell_type": "code",
   "execution_count": 76,
   "metadata": {},
   "outputs": [],
   "source": [
    "big_buff_400.to_file(\"big_buff_400.json\", driver=\"GeoJSON\", encoding='utf-8')"
   ]
  },
  {
   "cell_type": "code",
   "execution_count": 75,
   "metadata": {},
   "outputs": [],
   "source": []
  },
  {
   "cell_type": "code",
   "execution_count": null,
   "metadata": {},
   "outputs": [],
   "source": []
  },
  {
   "cell_type": "code",
   "execution_count": 73,
   "metadata": {},
   "outputs": [],
   "source": [
    "big_buff_800 = gpd.GeoDataFrame(geometry=[cascaded_union(list(stops_800.geometry))], data=['800'], columns=['ped_avail_m'])\n",
    "big_buff_800.crs=stops_800.crs"
   ]
  },
  {
   "cell_type": "code",
   "execution_count": 80,
   "metadata": {},
   "outputs": [],
   "source": [
    "big_buff_800.to_file(\"big_buff_800.json\", driver=\"GeoJSON\", encoding='utf-8')"
   ]
  },
  {
   "cell_type": "code",
   "execution_count": null,
   "metadata": {},
   "outputs": [],
   "source": []
  },
  {
   "cell_type": "code",
   "execution_count": 82,
   "metadata": {},
   "outputs": [],
   "source": [
    "new_buff_400 = buff_400[~buff_400.geometry.isna()].reset_index(drop=True)"
   ]
  },
  {
   "cell_type": "code",
   "execution_count": 88,
   "metadata": {},
   "outputs": [],
   "source": [
    "new_buff_400.to_file(\"new_buff_400.json\", driver=\"GeoJSON\", encoding='utf-8')"
   ]
  },
  {
   "cell_type": "code",
   "execution_count": 90,
   "metadata": {},
   "outputs": [],
   "source": [
    "gdf_paired_400.to_file(\"buff_paired_400.json\", driver=\"GeoJSON\", encoding='utf-8')"
   ]
  },
  {
   "cell_type": "code",
   "execution_count": 96,
   "metadata": {},
   "outputs": [],
   "source": [
    "gdf_paired_800.to_file(\"buff_paired_800.json\", driver=\"GeoJSON\", encoding='utf-8')"
   ]
  },
  {
   "cell_type": "code",
   "execution_count": null,
   "metadata": {},
   "outputs": [],
   "source": []
  }
 ],
 "metadata": {
  "kernelspec": {
   "display_name": "Python 3",
   "language": "python",
   "name": "python3"
  },
  "language_info": {
   "codemirror_mode": {
    "name": "ipython",
    "version": 3
   },
   "file_extension": ".py",
   "mimetype": "text/x-python",
   "name": "python",
   "nbconvert_exporter": "python",
   "pygments_lexer": "ipython3",
   "version": "3.7.6"
  }
 },
 "nbformat": 4,
 "nbformat_minor": 4
}
