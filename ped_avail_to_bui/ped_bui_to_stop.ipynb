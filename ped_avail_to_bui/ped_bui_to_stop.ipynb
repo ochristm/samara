{
 "cells": [
  {
   "cell_type": "code",
   "execution_count": 1,
   "metadata": {},
   "outputs": [],
   "source": [
    "import numpy as np\n",
    "import pandas as pd\n",
    "import geopandas as gpd\n",
    "import shapely\n",
    "from shapely.geometry import Point, LineString, MultiLineString, Polygon, MultiPolygon\n",
    "from tqdm.notebook import tqdm\n",
    "import time\n",
    "from datetime import datetime\n",
    "\n",
    "import momepy as mm\n",
    "import momepy\n",
    "import networkx as nx\n",
    "\n",
    "import math\n",
    "\n",
    "from contextlib import redirect_stdout\n",
    "\n",
    "import io\n",
    "import sys\n",
    "\n",
    "from shapely.ops import nearest_points\n",
    "from shapely.ops import unary_union"
   ]
  },
  {
   "cell_type": "code",
   "execution_count": null,
   "metadata": {},
   "outputs": [],
   "source": []
  },
  {
   "cell_type": "code",
   "execution_count": 2,
   "metadata": {},
   "outputs": [],
   "source": [
    "# проверка остановки в буффере - если даже по вохдуху не попадает - не искать"
   ]
  },
  {
   "cell_type": "code",
   "execution_count": null,
   "metadata": {},
   "outputs": [],
   "source": []
  },
  {
   "cell_type": "code",
   "execution_count": 3,
   "metadata": {},
   "outputs": [],
   "source": [
    "graph = gpd.read_file('../lines_to_graph/with_ped/new_graph_with_ped.json',\n",
    "                        encoding='utf-8')"
   ]
  },
  {
   "cell_type": "code",
   "execution_count": 4,
   "metadata": {},
   "outputs": [],
   "source": [
    "nodes = gpd.read_file('../lines_to_graph/with_ped/all_nodes_with_ped.json',\n",
    "                        encoding='utf-8')"
   ]
  },
  {
   "cell_type": "code",
   "execution_count": 5,
   "metadata": {},
   "outputs": [],
   "source": [
    "buildings = gpd.read_file('./all_bui.json',encoding='utf-8')"
   ]
  },
  {
   "cell_type": "code",
   "execution_count": 6,
   "metadata": {},
   "outputs": [],
   "source": [
    "stps_big = pd.read_csv('../lines_to_graph/total/df_stop_seq_all_n_samobl.csv',\n",
    "                        encoding='utf-8', sep=';')"
   ]
  },
  {
   "cell_type": "code",
   "execution_count": 7,
   "metadata": {},
   "outputs": [],
   "source": [
    "stps_big = stps_big[['stop_id', 'stop_name', 'lat', 'lon']]\n",
    "stps_big = stps_big.drop_duplicates(subset=['stop_id']).reset_index(drop=True)"
   ]
  },
  {
   "cell_type": "code",
   "execution_count": 8,
   "metadata": {},
   "outputs": [
    {
     "data": {
      "application/vnd.jupyter.widget-view+json": {
       "model_id": "b97ab8d82f7948e0b98aee021442f3f0",
       "version_major": 2,
       "version_minor": 0
      },
      "text/plain": [
       "HBox(children=(FloatProgress(value=0.0, max=7242.0), HTML(value='')))"
      ]
     },
     "metadata": {},
     "output_type": "display_data"
    },
    {
     "name": "stdout",
     "output_type": "stream",
     "text": [
      "\n"
     ]
    }
   ],
   "source": [
    "lst_geo=[]\n",
    "lst_lat=list(stps_big.lat)\n",
    "lst_lon=list(stps_big.lon)\n",
    "i=0\n",
    "for i in tqdm(range(len(stps_big))):\n",
    "    one_pt = Point(lst_lon[i], lst_lat[i])\n",
    "    lst_geo.append(one_pt)\n",
    "# "
   ]
  },
  {
   "cell_type": "code",
   "execution_count": 9,
   "metadata": {},
   "outputs": [],
   "source": [
    "gdf_stops_all = gpd.GeoDataFrame(stps_big, geometry=lst_geo)\n",
    "gdf_stops_all.crs='epsg:4326'"
   ]
  },
  {
   "cell_type": "code",
   "execution_count": 10,
   "metadata": {},
   "outputs": [],
   "source": [
    "border_sa = gpd.read_file('./data/outer_border_SA.shp',encoding='utf-8')"
   ]
  },
  {
   "cell_type": "code",
   "execution_count": 11,
   "metadata": {},
   "outputs": [],
   "source": [
    "gdf_stops = gpd.sjoin(gdf_stops_all, border_sa[['geometry']], how='inner', op='intersects')\n",
    "gdf_stops = gdf_stops.drop('index_right', axis=1).reset_index(drop=True)"
   ]
  },
  {
   "cell_type": "code",
   "execution_count": null,
   "metadata": {},
   "outputs": [],
   "source": []
  },
  {
   "cell_type": "code",
   "execution_count": 12,
   "metadata": {},
   "outputs": [],
   "source": [
    "# убрать жд пути из графа\n",
    "graph_ped = graph[graph.type_ped != 'no_ped'].reset_index(drop=True)[['link_id', 'geometry']]"
   ]
  },
  {
   "cell_type": "code",
   "execution_count": 13,
   "metadata": {},
   "outputs": [],
   "source": [
    "shrt_bui = buildings[['osm_id', 'geometry']].copy()"
   ]
  },
  {
   "cell_type": "code",
   "execution_count": null,
   "metadata": {},
   "outputs": [],
   "source": []
  },
  {
   "cell_type": "code",
   "execution_count": 14,
   "metadata": {},
   "outputs": [],
   "source": [
    "def intersect_using_spatial_index(source_gdf, intersecting_gdf):\n",
    "    \"\"\"\n",
    "    Conduct spatial intersection using spatial index for candidates GeoDataFrame to make queries faster.\n",
    "    Note, with this function, you can have multiple Polygons in the 'intersecting_gdf' and it will return all the points\n",
    "    intersect with ANY of those geometries.\n",
    "    \"\"\"\n",
    "    source_sindex = source_gdf.sindex\n",
    "    possible_matches_index = []\n",
    "\n",
    "    # 'itertuples()' function is a faster version of 'iterrows()'\n",
    "    for other in intersecting_gdf.itertuples():\n",
    "        bounds = other.geometry.bounds\n",
    "        c = list(source_sindex.intersection(bounds))\n",
    "        possible_matches_index += c\n",
    "\n",
    "    # Get unique candidates\n",
    "    unique_candidate_matches = list(set(possible_matches_index))\n",
    "    possible_matches = source_gdf.iloc[unique_candidate_matches]\n",
    "\n",
    "    # Conduct the actual intersect\n",
    "    result = possible_matches.loc[possible_matches.intersects(intersecting_gdf.unary_union)]\n",
    "    return result\n",
    "########"
   ]
  },
  {
   "cell_type": "code",
   "execution_count": 15,
   "metadata": {},
   "outputs": [],
   "source": [
    "def find_closest_stop(gdf_one_bui, gdf_stops, gdf_buff):\n",
    "    uu_stops = gdf_stops.geometry.unary_union\n",
    "    centr_bui = gdf_one_bui.geometry[0].centroid\n",
    "    nrst_pt = nearest_points(centr_bui, uu_stops)[1]\n",
    "    \n",
    "    nearest_stop_id = list(gdf_stops[gdf_stops.geometry == nrst_pt]['stop_id'])[0]\n",
    "    nearest_stop_geo = list(gdf_stops[gdf_stops.geometry == nrst_pt]['geometry'])[0]\n",
    "    if gdf_buff.geometry[0].intersects(nearest_stop_geo):\n",
    "        return [nearest_stop_id, nearest_stop_geo]\n",
    "    else:\n",
    "        return []"
   ]
  },
  {
   "cell_type": "code",
   "execution_count": 16,
   "metadata": {},
   "outputs": [],
   "source": [
    "def get_closest_node(gdf_obj, linkid, graph_in_buff):\n",
    "    line_geo = list(graph_in_buff[graph_in_buff.link_id == linkid]['geometry'])[0]\n",
    "    start = Point(line_geo.coords[0])\n",
    "    end = Point(line_geo.coords[-1])\n",
    "    obj_centr = gdf_obj['geometry'][0]#.centroid\n",
    "\n",
    "    if start.distance(obj_centr) < end.distance(obj_centr):\n",
    "        return start\n",
    "    else:\n",
    "        return end\n",
    "# "
   ]
  },
  {
   "cell_type": "code",
   "execution_count": 17,
   "metadata": {},
   "outputs": [],
   "source": [
    "def get_shrt_pth(gdf_one_bui, gdf_buff, gdf_stops, graph_ped):\n",
    "\n",
    "    try:\n",
    "        nearest_stop = find_closest_stop(gdf_one_bui, gdf_stops, gdf_buff)\n",
    "    except:\n",
    "        nearest_stop = []\n",
    "    #\n",
    "    if nearest_stop != []:\n",
    "        gdf_near_stop = gpd.GeoDataFrame(data=[nearest_stop], columns=['stop_id', 'geometry'])\n",
    "        gdf_near_stop.crs=graph_ped.crs\n",
    "        graph_in_buff = intersect_using_spatial_index(graph_ped, gdf_buff[['geometry']])\n",
    "        centr_bui = gdf_one_bui.copy()\n",
    "        centr_bui.geometry = centr_bui.geometry.centroid\n",
    "\n",
    "        text_trap = io.StringIO()\n",
    "        with redirect_stdout(text_trap):\n",
    "            closest_link_bui = mm.get_network_id(gdf_one_bui, graph_in_buff, 'link_id')[0]\n",
    "            closest_link_stop = mm.get_network_id(gdf_near_stop, graph_in_buff, 'link_id')[0]\n",
    "\n",
    "        closest_node_bui = get_closest_node(gdf_one_bui, closest_link_bui, graph_in_buff)\n",
    "        closest_node_stop = get_closest_node(gdf_near_stop, closest_link_stop, graph_in_buff)\n",
    "\n",
    "        one_G = mm.gdf_to_nx(graph_in_buff)\n",
    "        res_lst = nx.shortest_path(one_G, closest_node_bui.coords[0], closest_node_stop.coords[0])\n",
    "\n",
    "        if len(res_lst) == 1:\n",
    "            line_path = LineString([closest_node_bui, closest_node_stop])\n",
    "            path_lngth = 0\n",
    "        elif len(res_lst) == 0:\n",
    "            line_path = LineString([closest_node_bui, closest_node_stop])\n",
    "            path_lngth = -1\n",
    "        else:\n",
    "            line_path = LineString(res_lst)\n",
    "            path_lngth = 1\n",
    "    # \n",
    "        return [nearest_stop[0], path_lngth, res_lst, line_path]\n",
    "    else:\n",
    "        return []"
   ]
  },
  {
   "cell_type": "code",
   "execution_count": 18,
   "metadata": {},
   "outputs": [],
   "source": [
    "def generate_graph(edges, fields):\n",
    "    G = nx.Graph()\n",
    "\n",
    "    key = 0\n",
    "    for index, row in edges.iterrows():\n",
    "        first = row.from_node\n",
    "        last = row.to_node\n",
    "\n",
    "        data = [row[f] for f in fields]\n",
    "        attributes = dict(zip(fields, data))\n",
    "        G.add_edge(first, last, key=key, **attributes)\n",
    "        key += 1\n",
    "    # \n",
    "    return G"
   ]
  },
  {
   "cell_type": "code",
   "execution_count": 19,
   "metadata": {},
   "outputs": [],
   "source": [
    "def get_lst_end_nodes(egg):\n",
    "    lst_nodes_end=[]\n",
    "    lst_nodes = list(egg.nodes())\n",
    "    i=0\n",
    "    for i in (range(len(lst_nodes))):\n",
    "        one_node = lst_nodes[i]\n",
    "        lst_neigh = list(nx.all_neighbors(egg, one_node))\n",
    "        if len(lst_neigh) < 2:\n",
    "            lst_nodes_end.append(one_node)\n",
    "    #\n",
    "    return lst_nodes_end"
   ]
  },
  {
   "cell_type": "code",
   "execution_count": 20,
   "metadata": {},
   "outputs": [],
   "source": [
    "def get_strt_end_paths(egg, closest_node, lst_nodes_end):\n",
    "    \n",
    "    shortest_paths = list(nx.all_pairs_dijkstra_path(egg, weight='length'))\n",
    "    \n",
    "    start_ind=0\n",
    "    i=0\n",
    "    for i in range(len(shortest_paths)):\n",
    "        if shortest_paths[i][0] == closest_node:\n",
    "            start_ind = i\n",
    "            break\n",
    "    # \n",
    "    lst_paths_to_ends = []\n",
    "    i=0\n",
    "    for nd in shortest_paths[start_ind][1]:\n",
    "        if nd in lst_nodes_end:\n",
    "            lst_paths_to_ends.append(shortest_paths[start_ind][1][nd])\n",
    "    # \n",
    "    try:\n",
    "        lst_paths_to_ends.remove([closest_node])\n",
    "    except:\n",
    "        pass\n",
    "    return lst_paths_to_ends"
   ]
  },
  {
   "cell_type": "code",
   "execution_count": 21,
   "metadata": {},
   "outputs": [],
   "source": [
    "def find_closest_node(one_stop_gdf, nodes_in_buff):\n",
    "\n",
    "    stop_pt = one_stop_gdf.geometry[0]\n",
    "    np_nib = nodes_in_buff.to_numpy()\n",
    "    ind_ndid = list(nodes_in_buff.columns).index('nodeID')\n",
    "    ind_geo = list(nodes_in_buff.columns).index('geometry')\n",
    "\n",
    "    closest_node = np_nib[0, ind_ndid]\n",
    "    dstnc = 100000000\n",
    "    i=0\n",
    "    for i in range(len(np_nib)):\n",
    "        node_pt = np_nib[i, ind_geo]\n",
    "        if stop_pt.distance(node_pt) < dstnc:\n",
    "            dstnc = stop_pt.distance(node_pt)\n",
    "            closest_node = np_nib[i, ind_ndid]\n",
    "    # \n",
    "\n",
    "    return closest_node"
   ]
  },
  {
   "cell_type": "code",
   "execution_count": 22,
   "metadata": {},
   "outputs": [],
   "source": [
    "def get_one_stop_graph(one_stop_gdf, nodes, G):\n",
    "    gdf_buff = one_stop_gdf.copy()\n",
    "    gdf_buff.geometry = gdf_buff.geometry.to_crs('epsg:32640').buffer(410).to_crs('epsg:4326')\n",
    "    nodes_in_buff = intersect_using_spatial_index(nodes, gdf_buff[['geometry']]).reset_index(drop=True)\n",
    "\n",
    "    closest_node = find_closest_node(one_stop_gdf, nodes_in_buff)\n",
    "    lst_nodes_buff = list(nodes_in_buff['nodeID'])\n",
    "    lst_paths_to_ends = path_to_ends(lst_nodes_buff, G, closest_node)\n",
    "\n",
    "#     egg = nx.ego_graph(G, closest_node, radius=400, distance='length')\n",
    "#     edglst = nx.to_pandas_edgelist(egg)\n",
    "#     lst_nodes_end = get_lst_end_nodes(egg)\n",
    "#     lst_paths_to_ends = get_strt_end_paths(egg, closest_node, lst_nodes_end)\n",
    "    return lst_paths_to_ends"
   ]
  },
  {
   "cell_type": "code",
   "execution_count": 23,
   "metadata": {},
   "outputs": [],
   "source": [
    "def path_to_ends(lst_nodes_buff, G, closest_node):\n",
    "    lst_done = []\n",
    "    lst_all=[]\n",
    "    k=0\n",
    "    for k in range(len(lst_nodes_buff)):\n",
    "        one_node = lst_nodes_buff[k]\n",
    "        if one_node not in lst_done:\n",
    "            lst_done.append(one_node)\n",
    "            lngth = nx.dijkstra_path_length(G, closest_node, one_node, weight='length')\n",
    "            if lngth < 400:\n",
    "                lst_shtpth = list(nx.dijkstra_path(G, closest_node, one_node, weight='length'))\n",
    "                lst_all.append(lst_shtpth)\n",
    "                j=0\n",
    "                for j in range(len(lst_shtpth)):\n",
    "                    if lst_shtpth[j] not in lst_done:\n",
    "                        lst_done.append(lst_shtpth[j])\n",
    "    # \n",
    "    return lst_all"
   ]
  },
  {
   "cell_type": "code",
   "execution_count": null,
   "metadata": {},
   "outputs": [],
   "source": []
  },
  {
   "cell_type": "code",
   "execution_count": 24,
   "metadata": {},
   "outputs": [],
   "source": [
    "def cut(line, distance):\n",
    "    # Cuts a line in two at a distance from its starting point\n",
    "    if distance <= 0.0 or distance >= line.length:\n",
    "        return [LineString(line)]\n",
    "    coords = list(line.coords)\n",
    "    for i, p in enumerate(coords):\n",
    "        pd = line.project(Point(p))\n",
    "        if pd == distance:\n",
    "            return [\n",
    "                LineString(coords[:i+1]),\n",
    "                LineString(coords[i:])]\n",
    "        if pd > distance:\n",
    "            cp = line.interpolate(distance)\n",
    "            return [\n",
    "                LineString(coords[:i] + [(cp.x, cp.y)]),\n",
    "                LineString([(cp.x, cp.y)] + coords[i:])]"
   ]
  },
  {
   "cell_type": "code",
   "execution_count": 25,
   "metadata": {},
   "outputs": [],
   "source": [
    "def get_one_line(lst_one, np_gnd, ind_frnd, ind_tond, ind_geo):\n",
    "    \n",
    "    lst_lines=[]\n",
    "    i=0\n",
    "    for i in range(1, len(lst_one)):\n",
    "        try:\n",
    "            row = np_gnd[((np_gnd[:,ind_frnd] == lst_one[i-1]) \n",
    "                            & (np_gnd[:,ind_tond] == lst_one[i]))][0]\n",
    "        except:\n",
    "            row = np_gnd[((np_gnd[:,ind_tond] == lst_one[i-1]) \n",
    "                            & (np_gnd[:,ind_frnd] == lst_one[i]))][0]\n",
    "        #\n",
    "        geo = row[ind_geo]\n",
    "        lst_lines.append(geo)\n",
    "    #\n",
    "    multi_line = MultiLineString(lst_lines)\n",
    "    lns = shapely.ops.linemerge(multi_line)\n",
    "    \n",
    "    return lns"
   ]
  },
  {
   "cell_type": "code",
   "execution_count": 26,
   "metadata": {},
   "outputs": [],
   "source": [
    "def get_leftovers(np_gnd, ind_frnd, ind_tond, ind_geo, last_id, lns, lst_one, lng_cut):\n",
    "    left_lines = np_gnd[(\n",
    "                    ((np_gnd[:,ind_tond] == last_id) & ~(np.isin(np_gnd[:,ind_frnd], lst_one)) \n",
    "                     | ((np_gnd[:,ind_frnd] == last_id) & ~(np.isin(np_gnd[:,ind_tond], lst_one))))\n",
    "                )]\n",
    "    #\n",
    "\n",
    "    left_length = lng_cut - lns.length\n",
    "    lst_leftovers=[]\n",
    "    i=0\n",
    "    for i in range(len(left_lines)):\n",
    "        one_line_left = left_lines[i][ind_geo]\n",
    "        left_length = lng_cut - lns.length\n",
    "        if one_line_left.length > left_length:\n",
    "            if ((one_line_left.coords[0] != lns.coords[-1]) \n",
    "                & (one_line_left.coords[-1] != lns.coords[0])):\n",
    "                one_line_left2 = one_line_left.coords[:]\n",
    "                one_line_left2.reverse()\n",
    "                one_line_left = LineString(one_line_left2)\n",
    "            #\n",
    "            left_length = one_line_left.length - left_length\n",
    "            lst_cut_left = cut(one_line_left, left_length)\n",
    "            if lst_cut_left == []:\n",
    "                lst_cut_left = [one_line_left]\n",
    "            if ((lst_cut_left[0].coords[0] == lns.coords[-1]) \n",
    "                | (lst_cut_left[0].coords[-1] == lns.coords[0])):\n",
    "                cut_left = lst_cut_left[0]\n",
    "            else:\n",
    "                try:\n",
    "                    cut_left = lst_cut_left[1]\n",
    "                except:\n",
    "                    cut_left = lst_cut_left[0]\n",
    "            #\n",
    "        else:\n",
    "            cut_left = one_line_left\n",
    "        lst_leftovers.append(cut_left)\n",
    "    # \n",
    "\n",
    "    return lst_leftovers"
   ]
  },
  {
   "cell_type": "code",
   "execution_count": 27,
   "metadata": {},
   "outputs": [],
   "source": [
    "def check_leftovers(np_gnd, ind_frnd, ind_tond, ind_geo, lns2, lst_one2, lng_cut):\n",
    "    \n",
    "    last_id = lst_one2[-1]\n",
    "    \n",
    "    if lns2.length > lng_cut:\n",
    "        try:\n",
    "            cutted_line = cut(lns2, lng_cut)[0]\n",
    "        except:\n",
    "            cutted_line = lns2\n",
    "        lst_leftovers=[]\n",
    "    elif lns2.length == lng_cut:\n",
    "        cutted_line = lns\n",
    "        lst_leftovers=[]\n",
    "    else:\n",
    "        cutted_line = lns2\n",
    "        lst_leftovers = get_leftovers(np_gnd, ind_frnd, ind_tond, ind_geo, last_id, lns2, lst_one2, lng_cut)\n",
    "    #\n",
    "    return cutted_line, lst_leftovers\n",
    "#"
   ]
  },
  {
   "cell_type": "code",
   "execution_count": 28,
   "metadata": {},
   "outputs": [],
   "source": [
    "def get_one_end_lines(lst_one, np_gnd, ind_frnd, ind_tond, ind_geo):\n",
    "\n",
    "    lng_cut = 400\n",
    "\n",
    "    lns = get_one_line(lst_one, np_gnd, ind_frnd, ind_tond, ind_geo)\n",
    "\n",
    "    cutted_line, lst_leftovers = check_leftovers(np_gnd, ind_frnd, ind_tond, ind_geo, lns, lst_one, lng_cut)\n",
    "\n",
    "    lst_lines_one_end = [cutted_line] + lst_leftovers\n",
    "    \n",
    "    l1=[]\n",
    "    i=0\n",
    "    for i in range(len(lst_one)):\n",
    "        one_link_lst = lst_one[0:i+1]\n",
    "\n",
    "        if len(one_link_lst) > 1:\n",
    "            one_line = get_one_line(one_link_lst, np_gnd, ind_frnd, ind_tond, ind_geo)\n",
    "            l1.append(one_line)\n",
    "            cutted_line_sm, lst_leftovers_sm = check_leftovers(np_gnd, ind_frnd, ind_tond, ind_geo, one_line, one_link_lst, lng_cut)\n",
    "            if lst_leftovers_sm != lst_leftovers:\n",
    "                j=0\n",
    "                for j in range(len(lst_leftovers_sm)):\n",
    "                    if lst_leftovers_sm[j] not in lst_lines_one_end:\n",
    "                        lst_lines_one_end.append(lst_leftovers_sm[j])\n",
    "    #\n",
    "\n",
    "    return lst_lines_one_end"
   ]
  },
  {
   "cell_type": "code",
   "execution_count": 29,
   "metadata": {},
   "outputs": [],
   "source": [
    "def get_one_stop_sprut(lst_paths_to_ends, np_gnd, ind_frnd, ind_tond, ind_geo):\n",
    "    lst_all_ends=[]\n",
    "    i=0\n",
    "    for i in range(len(lst_paths_to_ends)):\n",
    "        lst_one = lst_paths_to_ends[i]\n",
    "        lst_lines_one_end = get_one_end_lines(lst_one, np_gnd, ind_frnd, ind_tond, ind_geo)\n",
    "        for k in range(len(lst_lines_one_end)):\n",
    "            if lst_lines_one_end[k] not in lst_all_ends:\n",
    "                lst_all_ends.append(lst_lines_one_end[k])\n",
    "    #\n",
    "    return lst_all_ends"
   ]
  },
  {
   "cell_type": "code",
   "execution_count": null,
   "metadata": {},
   "outputs": [],
   "source": []
  },
  {
   "cell_type": "code",
   "execution_count": null,
   "metadata": {},
   "outputs": [],
   "source": []
  },
  {
   "cell_type": "code",
   "execution_count": null,
   "metadata": {},
   "outputs": [],
   "source": []
  },
  {
   "cell_type": "code",
   "execution_count": 30,
   "metadata": {},
   "outputs": [],
   "source": [
    "graph_notdir = graph[graph.direction == 'direct'].reset_index(drop=True)\n",
    "graph_notdir = graph_notdir[['link_id', 'from_node', 'to_node', 'geometry']]"
   ]
  },
  {
   "cell_type": "code",
   "execution_count": 31,
   "metadata": {},
   "outputs": [],
   "source": [
    "graph_notdir_32640 = graph_notdir.copy()\n",
    "graph_notdir_32640 = graph_notdir_32640.to_crs('epsg:32640')\n",
    "graph_notdir_32640['length'] = graph_notdir_32640.geometry.length\n",
    "fields = list(graph_notdir_32640.columns)"
   ]
  },
  {
   "cell_type": "code",
   "execution_count": 32,
   "metadata": {},
   "outputs": [
    {
     "name": "stdout",
     "output_type": "stream",
     "text": [
      "Wall time: 26.6 s\n"
     ]
    }
   ],
   "source": [
    "# https://github.com/martinfleis/momepy/blob/v0.3.0/momepy/utils.py#L117-L156\n",
    "%time G = generate_graph(graph_notdir_32640, fields)"
   ]
  },
  {
   "cell_type": "code",
   "execution_count": 33,
   "metadata": {},
   "outputs": [],
   "source": [
    "np_gnd = graph_notdir_32640.to_numpy()\n",
    "ind_frnd = list(graph_notdir_32640.columns).index('from_node')\n",
    "ind_tond = list(graph_notdir_32640.columns).index('to_node')\n",
    "ind_geo = list(graph_notdir_32640.columns).index('geometry')\n",
    "ind_li = list(graph_notdir_32640.columns).index('link_id')\n"
   ]
  },
  {
   "cell_type": "code",
   "execution_count": null,
   "metadata": {},
   "outputs": [],
   "source": []
  },
  {
   "cell_type": "code",
   "execution_count": 34,
   "metadata": {},
   "outputs": [
    {
     "data": {
      "application/vnd.jupyter.widget-view+json": {
       "model_id": "a0c6f2e90cd244a694d224649a5d6d1a",
       "version_major": 2,
       "version_minor": 0
      },
      "text/plain": [
       "HBox(children=(FloatProgress(value=0.0, max=3.0), HTML(value='')))"
      ]
     },
     "metadata": {},
     "output_type": "display_data"
    },
    {
     "name": "stdout",
     "output_type": "stream",
     "text": [
      "\n"
     ]
    }
   ],
   "source": [
    "lst_spruts = []\n",
    "i=0\n",
    "for i in tqdm(range(3)):\n",
    "# for i in tqdm(range(len(gdf_stops))):\n",
    "    one_stop_gdf = gdf_stops.iloc[[i]].reset_index(drop=True)\n",
    "    lst_paths_to_ends = get_one_stop_graph(one_stop_gdf, nodes, G)\n",
    "    sprut_ml_one_stop = get_one_stop_sprut(lst_paths_to_ends, np_gnd, ind_frnd, ind_tond, ind_geo)\n",
    "    lst_spruts = lst_spruts + sprut_ml_one_stop\n",
    "# "
   ]
  },
  {
   "cell_type": "code",
   "execution_count": null,
   "metadata": {},
   "outputs": [],
   "source": []
  },
  {
   "cell_type": "code",
   "execution_count": null,
   "metadata": {},
   "outputs": [],
   "source": []
  },
  {
   "cell_type": "code",
   "execution_count": 35,
   "metadata": {},
   "outputs": [],
   "source": [
    "spruts = gpd.GeoDataFrame(geometry=list(lst_spruts))\n",
    "spruts.crs = 'epsg:32640'"
   ]
  },
  {
   "cell_type": "code",
   "execution_count": 36,
   "metadata": {},
   "outputs": [],
   "source": [
    "spruts_buff = spruts.copy()\n",
    "spruts_buff.geometry = spruts_buff.geometry.buffer(100)\n",
    "spruts_buff = spruts_buff.to_crs('epsg:4326')"
   ]
  },
  {
   "cell_type": "code",
   "execution_count": 37,
   "metadata": {},
   "outputs": [],
   "source": [
    "spruts2 = spruts.copy()\n",
    "spruts2 = spruts2.to_crs('epsg:4326')"
   ]
  },
  {
   "cell_type": "code",
   "execution_count": null,
   "metadata": {},
   "outputs": [],
   "source": []
  },
  {
   "cell_type": "code",
   "execution_count": 40,
   "metadata": {},
   "outputs": [],
   "source": [
    "num = 3\n",
    "spruts_buff.to_file('spruts_buff_{}.json'.format(num), driver='GeoJSON')\n",
    "spruts2.to_file('spruts_{}.json'.format(num), driver='GeoJSON')"
   ]
  },
  {
   "cell_type": "code",
   "execution_count": null,
   "metadata": {},
   "outputs": [],
   "source": []
  },
  {
   "cell_type": "code",
   "execution_count": null,
   "metadata": {},
   "outputs": [],
   "source": []
  },
  {
   "cell_type": "code",
   "execution_count": null,
   "metadata": {},
   "outputs": [],
   "source": []
  },
  {
   "cell_type": "code",
   "execution_count": null,
   "metadata": {},
   "outputs": [],
   "source": []
  },
  {
   "cell_type": "code",
   "execution_count": 39,
   "metadata": {},
   "outputs": [
    {
     "data": {
      "image/svg+xml": [
       "<svg xmlns=\"http://www.w3.org/2000/svg\" xmlns:xlink=\"http://www.w3.org/1999/xlink\" width=\"300\" height=\"300\" viewBox=\"44221.24818250479 5915042.535459624 821.7976451880022 731.3315602215007\" preserveAspectRatio=\"xMinYMin meet\"><g transform=\"matrix(1,0,0,-1,0,11830816.40247947)\"><g><polyline fill=\"none\" stroke=\"#66cc99\" stroke-width=\"5.478650967920014\" points=\"44651.188375110854,5915299.93661888 44609.963980318746,5915302.43884064 44603.340869800886,5915302.49048065 44588.249109824246,5915303.207479284 44589.46152277192,5915319.661937724 44591.29884240014,5915353.321760819 44594.07895491971,5915412.705086053 44594.42198060942,5915420.010791082 44596.265536381805,5915459.496052949\" opacity=\"0.8\" /><polyline fill=\"none\" stroke=\"#66cc99\" stroke-width=\"5.478650967920014\" points=\"44596.265536381805,5915459.496052949 44606.77546045836,5915458.859267287 44629.68640555133,5915457.729582862 44635.87913322874,5915465.7635539975\" opacity=\"0.8\" /><polyline fill=\"none\" stroke=\"#66cc99\" stroke-width=\"5.478650967920014\" points=\"44596.265536381805,5915459.496052949 44601.91919750883,5915580.427345837\" opacity=\"0.8\" /><polyline fill=\"none\" stroke=\"#66cc99\" stroke-width=\"5.478650967920014\" points=\"44588.249109824246,5915303.207479284 44603.340869800886,5915302.49048065 44609.963980318746,5915302.43884064\" opacity=\"0.8\" /><polyline fill=\"none\" stroke=\"#66cc99\" stroke-width=\"5.478650967920014\" points=\"44560.962296276644,5915278.819287338 44588.31145245995,5915277.298096845 44588.82995085075,5915285.3824723195 44588.249109824246,5915303.207479284\" opacity=\"0.8\" /><polyline fill=\"none\" stroke=\"#66cc99\" stroke-width=\"5.478650967920014\" points=\"44565.239318208885,5915304.156251305 44588.249109824246,5915303.207479284\" opacity=\"0.8\" /><polyline fill=\"none\" stroke=\"#66cc99\" stroke-width=\"5.478650967920014\" points=\"44588.249109824246,5915303.207479284 44589.46152277192,5915319.661937724 44591.29884240014,5915353.321760819\" opacity=\"0.8\" /><polyline fill=\"none\" stroke=\"#66cc99\" stroke-width=\"5.478650967920014\" points=\"44566.65462415217,5915354.415882265 44570.35831266234,5915349.456368077 44575.48801588878,5915347.161264826 44579.2239932713,5915346.332907986 44582.63791608729,5915346.779030069 44586.6886813225,5915348.183720584 44591.29884240014,5915353.321760819\" opacity=\"0.8\" /><polyline fill=\"none\" stroke=\"#66cc99\" stroke-width=\"5.478650967920014\" points=\"44591.29884240014,5915353.321760819 44594.07895491971,5915412.705086053\" opacity=\"0.8\" /><polyline fill=\"none\" stroke=\"#66cc99\" stroke-width=\"5.478650967920014\" points=\"44594.07895491971,5915412.705086053 44604.835307419184,5915412.392032354 44679.81806144974,5915408.28170446\" opacity=\"0.8\" /><polyline fill=\"none\" stroke=\"#66cc99\" stroke-width=\"5.478650967920014\" points=\"44594.07895491971,5915412.705086053 44594.42198060942,5915420.010791082\" opacity=\"0.8\" /><polyline fill=\"none\" stroke=\"#66cc99\" stroke-width=\"5.478650967920014\" points=\"44712.376578808005,5915413.107876646 44605.128544041014,5915419.388794647 44594.42198060942,5915420.010791082\" opacity=\"0.8\" /><polyline fill=\"none\" stroke=\"#66cc99\" stroke-width=\"5.478650967920014\" points=\"44594.42198060942,5915420.010791082 44596.265536381805,5915459.496052949\" opacity=\"0.8\" /><polyline fill=\"none\" stroke=\"#66cc99\" stroke-width=\"5.478650967920014\" points=\"44651.188375110854,5915299.93661888 44609.963980318746,5915302.43884064 44603.340869800886,5915302.49048065 44588.249109824246,5915303.207479284 44589.46152277192,5915319.661937724 44591.29884240014,5915353.321760819 44594.07895491971,5915412.705086053 44594.42198060942,5915420.010791082 44596.265536381805,5915459.496052949 44606.77546045836,5915458.859267287 44629.68640555133,5915457.729582862 44635.87913322874,5915465.7635539975\" opacity=\"0.8\" /><polyline fill=\"none\" stroke=\"#66cc99\" stroke-width=\"5.478650967920014\" points=\"44639.376434832404,5915579.293803971 44639.8220679416,5915551.275005297 44635.87913322874,5915465.7635539975\" opacity=\"0.8\" /><polyline fill=\"none\" stroke=\"#66cc99\" stroke-width=\"5.478650967920014\" points=\"44635.87913322874,5915465.7635539975 44666.500980888086,5915463.929254907\" opacity=\"0.8\" /><polyline fill=\"none\" stroke=\"#66cc99\" stroke-width=\"5.478650967920014\" points=\"44651.188375110854,5915299.93661888 44706.79693649494,5915297.480470541 44768.91742297285,5915294.726504347 44768.47429303848,5915277.515017683 44767.847717725206,5915262.3938019285 44763.199347950576,5915252.004669405\" opacity=\"0.8\" /><polyline fill=\"none\" stroke=\"#66cc99\" stroke-width=\"5.478650967920014\" points=\"44763.199347950576,5915252.004669405 44761.50547604874,5915211.183191297 44760.283588967635,5915180.915361608\" opacity=\"0.8\" /><polyline fill=\"none\" stroke=\"#66cc99\" stroke-width=\"5.478650967920014\" points=\"44763.199347950576,5915252.004669405 44724.825208284776,5915253.706413805\" opacity=\"0.8\" /><polyline fill=\"none\" stroke=\"#66cc99\" stroke-width=\"5.478650967920014\" points=\"44706.79693649494,5915297.480470541 44768.91742297285,5915294.726504347\" opacity=\"0.8\" /><polyline fill=\"none\" stroke=\"#66cc99\" stroke-width=\"5.478650967920014\" points=\"44709.4902714832,5915353.443567451 44707.32843822776,5915313.57434285 44706.79693649494,5915297.480470541\" opacity=\"0.8\" /><polyline fill=\"none\" stroke=\"#66cc99\" stroke-width=\"5.478650967920014\" points=\"44768.91742297285,5915294.726504347 44768.47429303848,5915277.515017683 44767.847717725206,5915262.3938019285 44763.199347950576,5915252.004669405\" opacity=\"0.8\" /><polyline fill=\"none\" stroke=\"#66cc99\" stroke-width=\"5.478650967920014\" points=\"44768.91742297285,5915294.726504347 44880.34771318111,5915289.797195248\" opacity=\"0.8\" /><polyline fill=\"none\" stroke=\"#66cc99\" stroke-width=\"5.478650967920014\" points=\"44651.188375110854,5915299.93661888 44706.79693649494,5915297.480470541 44768.91742297285,5915294.726504347 44768.47429303848,5915277.515017683 44767.847717725206,5915262.3938019285 44763.199347950576,5915252.004669405 44724.825208284776,5915253.706413805\" opacity=\"0.8\" /><polyline fill=\"none\" stroke=\"#66cc99\" stroke-width=\"5.478650967920014\" points=\"44724.825208284776,5915253.706413805 44721.732904546254,5915182.465888117\" opacity=\"0.8\" /><polyline fill=\"none\" stroke=\"#66cc99\" stroke-width=\"5.478650967920014\" points=\"44724.825208284776,5915253.706413805 44725.448667788296,5915265.209098629 44712.299310644274,5915265.762140429\" opacity=\"0.8\" /><polyline fill=\"none\" stroke=\"#66cc99\" stroke-width=\"5.478650967920014\" points=\"44320.96948597935,5915314.772742708 44430.71048825013,5915309.120906239 44444.36762903776,5915308.529637029 44546.97091218829,5915303.7435104605 44550.26987742586,5915304.32386761 44565.239318208885,5915304.156251305 44588.249109824246,5915303.207479284 44603.340869800886,5915302.49048065 44609.963980318746,5915302.43884064 44651.188375110854,5915299.93661888\" opacity=\"0.8\" /><polyline fill=\"none\" stroke=\"#66cc99\" stroke-width=\"5.478650967920014\" points=\"44320.96948597935,5915314.772742708 44320.08305345074,5915296.673604291 44318.81494667876,5915277.681107896 44315.71637034684,5915269.642249606\" opacity=\"0.8\" /><polyline fill=\"none\" stroke=\"#66cc99\" stroke-width=\"5.478650967920014\" points=\"44293.99047328078,5915315.733430214 44320.96948597935,5915314.772742708\" opacity=\"0.8\" /><polyline fill=\"none\" stroke=\"#66cc99\" stroke-width=\"5.478650967920014\" points=\"44565.239318208885,5915304.156251305 44561.726777298725,5915286.801681404 44560.962296276644,5915278.819287338\" opacity=\"0.8\" /><polyline fill=\"none\" stroke=\"#66cc99\" stroke-width=\"5.478650967920014\" points=\"44550.26987742586,5915304.32386761 44565.239318208885,5915304.156251305\" opacity=\"0.8\" /><polyline fill=\"none\" stroke=\"#66cc99\" stroke-width=\"5.478650967920014\" points=\"44566.65462415217,5915354.415882265 44565.7543024699,5915320.845567829 44565.239318208885,5915304.156251305\" opacity=\"0.8\" /><polyline fill=\"none\" stroke=\"#66cc99\" stroke-width=\"5.478650967920014\" points=\"44444.36762903776,5915308.529637029 44546.97091218829,5915303.7435104605 44550.26987742586,5915304.32386761\" opacity=\"0.8\" /><polyline fill=\"none\" stroke=\"#66cc99\" stroke-width=\"5.478650967920014\" points=\"44430.71048825013,5915309.120906239 44444.36762903776,5915308.529637029\" opacity=\"0.8\" /><polyline fill=\"none\" stroke=\"#66cc99\" stroke-width=\"5.478650967920014\" points=\"44450.775056835846,5915437.8592433985 44444.86636816524,5915318.442170244 44444.36762903776,5915308.529637029\" opacity=\"0.8\" /><polyline fill=\"none\" stroke=\"#66cc99\" stroke-width=\"5.478650967920014\" points=\"44430.71048825013,5915309.120906239 44429.89671152842,5915292.05681673 44429.047108177154,5915275.321074556 44426.41552631726,5915264.358019596\" opacity=\"0.8\" /><polyline fill=\"none\" stroke=\"#66cc99\" stroke-width=\"5.478650967920014\" points=\"44320.96948597935,5915314.772742708 44430.71048825013,5915309.120906239\" opacity=\"0.8\" /><polyline fill=\"none\" stroke=\"#66cc99\" stroke-width=\"5.478650967920014\" points=\"44651.188375110854,5915299.93661888 44706.79693649494,5915297.480470541 44768.91742297285,5915294.726504347 44768.47429303848,5915277.515017683 44767.847717725206,5915262.3938019285 44763.199347950576,5915252.004669405 44724.825208284776,5915253.706413805 44725.448667788296,5915265.209098629 44712.299310644274,5915265.762140429\" opacity=\"0.8\" /><polyline fill=\"none\" stroke=\"#66cc99\" stroke-width=\"5.478650967920014\" points=\"44651.188375110854,5915299.93661888 44609.963980318746,5915302.43884064 44603.340869800886,5915302.49048065 44588.249109824246,5915303.207479284 44589.46152277192,5915319.661937724 44591.29884240014,5915353.321760819 44594.07895491971,5915412.705086053 44594.42198060942,5915420.010791082 44596.265536381805,5915459.496052949 44606.77546045836,5915458.859267287 44629.68640555133,5915457.729582862 44635.87913322874,5915465.7635539975 44639.8220679416,5915551.275005297 44639.376434832404,5915579.293803971\" opacity=\"0.8\" /><polyline fill=\"none\" stroke=\"#66cc99\" stroke-width=\"5.478650967920014\" points=\"44639.376434832404,5915579.293803971 44682.839439742456,5915578.147694353\" opacity=\"0.8\" /><polyline fill=\"none\" stroke=\"#66cc99\" stroke-width=\"5.478650967920014\" points=\"44639.376434832404,5915579.293803971 44639.5295798537,5915591.502587716\" opacity=\"0.8\" /><polyline fill=\"none\" stroke=\"#66cc99\" stroke-width=\"5.478650967920014\" points=\"44620.55756528472,5915579.796356102 44639.376434832404,5915579.293803971\" opacity=\"0.8\" /><polyline fill=\"none\" stroke=\"#66cc99\" stroke-width=\"5.478650967920014\" points=\"44651.188375110854,5915299.93661888 44609.963980318746,5915302.43884064 44603.340869800886,5915302.49048065 44588.249109824246,5915303.207479284 44589.46152277192,5915319.661937724 44591.29884240014,5915353.321760819 44594.07895491971,5915412.705086053 44594.42198060942,5915420.010791082 44596.265536381805,5915459.496052949 44606.77546045836,5915458.859267287 44629.68640555133,5915457.729582862 44635.87913322874,5915465.7635539975 44666.500980888086,5915463.929254907\" opacity=\"0.8\" /><polyline fill=\"none\" stroke=\"#66cc99\" stroke-width=\"5.478650967920014\" points=\"44293.99047328078,5915315.733430214 44320.96948597935,5915314.772742708 44430.71048825013,5915309.120906239 44444.36762903776,5915308.529637029 44546.97091218829,5915303.7435104605 44550.26987742586,5915304.32386761 44565.239318208885,5915304.156251305 44588.249109824246,5915303.207479284 44603.340869800886,5915302.49048065 44609.963980318746,5915302.43884064 44651.188375110854,5915299.93661888\" opacity=\"0.8\" /><polyline fill=\"none\" stroke=\"#66cc99\" stroke-width=\"5.478650967920014\" points=\"44251.685132326566,5915317.698422861 44252.923987898976,5915317.641000057 44293.99047328078,5915315.733430214\" opacity=\"0.8\" /><polyline fill=\"none\" stroke=\"#66cc99\" stroke-width=\"5.478650967920014\" points=\"44651.188375110854,5915299.93661888 44706.79693649494,5915297.480470541 44768.91742297285,5915294.726504347 44880.34771318111,5915289.797195248\" opacity=\"0.8\" /><polyline fill=\"none\" stroke=\"#66cc99\" stroke-width=\"5.478650967920014\" points=\"44880.34771318111,5915289.797195248 44899.32695736049,5915288.921957421 44909.656579278,5915288.437591724\" opacity=\"0.8\" /><polyline fill=\"none\" stroke=\"#66cc99\" stroke-width=\"5.478650967920014\" points=\"44651.188375110854,5915299.93661888 44609.963980318746,5915302.43884064 44603.340869800886,5915302.49048065 44588.249109824246,5915303.207479284 44589.46152277192,5915319.661937724 44591.29884240014,5915353.321760819 44594.07895491971,5915412.705086053 44594.42198060942,5915420.010791082 44596.265536381805,5915459.496052949 44601.91919750883,5915580.427345837 44611.83139788697,5915580.015835235 44620.55756528472,5915579.796356102 44620.73443701619,5915592.182136549\" opacity=\"0.8\" /><polyline fill=\"none\" stroke=\"#66cc99\" stroke-width=\"5.478650967920014\" points=\"44620.73443701619,5915592.182136549 44620.81357621805,5915594.724018854\" opacity=\"0.8\" /><polyline fill=\"none\" stroke=\"#66cc99\" stroke-width=\"5.478650967920014\" points=\"44601.91919750883,5915580.427345837 44611.83139788697,5915580.015835235 44620.55756528472,5915579.796356102\" opacity=\"0.8\" /><polyline fill=\"none\" stroke=\"#66cc99\" stroke-width=\"5.478650967920014\" points=\"44601.91919750883,5915580.427345837 44604.33944698243,5915632.114465958\" opacity=\"0.8\" /><polyline fill=\"none\" stroke=\"#66cc99\" stroke-width=\"5.478650967920014\" points=\"44620.73443701619,5915592.182136549 44620.55756528472,5915579.796356102\" opacity=\"0.8\" /><polyline fill=\"none\" stroke=\"#66cc99\" stroke-width=\"5.478650967920014\" points=\"44651.188375110854,5915299.93661888 44609.963980318746,5915302.43884064 44603.340869800886,5915302.49048065 44588.249109824246,5915303.207479284 44589.46152277192,5915319.661937724 44591.29884240014,5915353.321760819 44594.07895491971,5915412.705086053 44594.42198060942,5915420.010791082 44596.265536381805,5915459.496052949 44606.77546045836,5915458.859267287 44629.68640555133,5915457.729582862 44635.87913322874,5915465.7635539975 44639.8220679416,5915551.275005297 44639.376434832404,5915579.293803971 44639.5295798537,5915591.502587716\" opacity=\"0.8\" /><polyline fill=\"none\" stroke=\"#66cc99\" stroke-width=\"5.478650967920014\" points=\"44639.5295798537,5915591.502587716 44639.536953328214,5915592.584171039\" opacity=\"0.8\" /><polyline fill=\"none\" stroke=\"#66cc99\" stroke-width=\"5.478650967920014\" points=\"44550.53123501316,5915564.46502313 44566.05876236322,5915563.739657839 44577.41330735781,5915563.212343635 44576.24936314701,5915539.53790997 44572.051397713134,5915454.1852177605 44566.65462415217,5915354.415882265 44565.7543024699,5915320.845567829 44565.239318208885,5915304.156251305 44588.249109824246,5915303.207479284 44603.340869800886,5915302.49048065 44609.963980318746,5915302.43884064 44651.188375110854,5915299.93661888\" opacity=\"0.8\" /><polyline fill=\"none\" stroke=\"#66cc99\" stroke-width=\"5.478650967920014\" points=\"44522.88817193266,5915565.7587988265 44550.53123501316,5915564.46502313\" opacity=\"0.8\" /><polyline fill=\"none\" stroke=\"#66cc99\" stroke-width=\"5.478650967920014\" points=\"44551.9706452495,5915592.100885523 44550.53123501316,5915564.46502313\" opacity=\"0.8\" /><polyline fill=\"none\" stroke=\"#66cc99\" stroke-width=\"5.478650967920014\" points=\"44572.051397713134,5915454.1852177605 44566.65462415217,5915354.415882265\" opacity=\"0.8\" /><polyline fill=\"none\" stroke=\"#66cc99\" stroke-width=\"5.478650967920014\" points=\"44529.408725627756,5915456.409619385 44561.124097867636,5915454.7500135265 44572.051397713134,5915454.1852177605\" opacity=\"0.8\" /><polyline fill=\"none\" stroke=\"#66cc99\" stroke-width=\"5.478650967920014\" points=\"44576.24936314701,5915539.53790997 44572.051397713134,5915454.1852177605\" opacity=\"0.8\" /><polyline fill=\"none\" stroke=\"#66cc99\" stroke-width=\"5.478650967920014\" points=\"44576.24936314701,5915539.53790997 44564.98675627366,5915540.1124324845 44538.13518409117,5915541.474280016 44533.162879232084,5915528.550649698\" opacity=\"0.8\" /><polyline fill=\"none\" stroke=\"#66cc99\" stroke-width=\"5.478650967920014\" points=\"44577.41330735781,5915563.212343635 44576.24936314701,5915539.53790997\" opacity=\"0.8\" /><polyline fill=\"none\" stroke=\"#66cc99\" stroke-width=\"5.478650967920014\" points=\"44550.53123501316,5915564.46502313 44566.05876236322,5915563.739657839 44577.41330735781,5915563.212343635\" opacity=\"0.8\" /><polyline fill=\"none\" stroke=\"#66cc99\" stroke-width=\"5.478650967920014\" points=\"44580.09384269125,5915617.731052489 44577.41330735781,5915563.212343635\" opacity=\"0.8\" /><polyline fill=\"none\" stroke=\"#66cc99\" stroke-width=\"5.478650967920014\" points=\"44651.188375110854,5915299.93661888 44609.963980318746,5915302.43884064 44603.340869800886,5915302.49048065 44588.249109824246,5915303.207479284 44589.46152277192,5915319.661937724 44591.29884240014,5915353.321760819 44594.07895491971,5915412.705086053 44594.42198060942,5915420.010791082 44596.265536381805,5915459.496052949 44601.91919750883,5915580.427345837 44604.33944698243,5915632.114465958\" opacity=\"0.8\" /><polyline fill=\"none\" stroke=\"#66cc99\" stroke-width=\"5.478650967920014\" points=\"44604.33944698243,5915632.114465958 44609.542280545094,5915743.430070023\" opacity=\"0.8\" /><polyline fill=\"none\" stroke=\"#66cc99\" stroke-width=\"5.478650967920014\" points=\"44604.33944698243,5915632.114465958 44613.963955987885,5915631.159097622 44640.53504445497,5915629.544362171 44640.206602312464,5915622.046809758\" opacity=\"0.8\" /><polyline fill=\"none\" stroke=\"#66cc99\" stroke-width=\"5.478650967920014\" points=\"44651.188375110854,5915299.93661888 44706.79693649494,5915297.480470541 44768.91742297285,5915294.726504347 44880.34771318111,5915289.797195248 44899.32695736049,5915288.921957421 44909.656579278,5915288.437591724\" opacity=\"0.8\" /><polyline fill=\"none\" stroke=\"#66cc99\" stroke-width=\"5.478650967920014\" points=\"44909.656579278,5915288.437591724 44909.016447080416,5915270.920110257 44907.79605495947,5915247.672473033\" opacity=\"0.8\" /><polyline fill=\"none\" stroke=\"#66cc99\" stroke-width=\"5.478650967920014\" points=\"44909.656579278,5915288.437591724 44919.366384033114,5915287.945339682 44951.260475067305,5915286.331466748\" opacity=\"0.8\" /><polyline fill=\"none\" stroke=\"#66cc99\" stroke-width=\"5.478650967920014\" points=\"44909.656579278,5915288.437591724 44910.190000650124,5915302.660168777 44915.08072505373,5915416.201886799\" opacity=\"0.8\" /><polyline fill=\"none\" stroke=\"#66cc99\" stroke-width=\"5.478650967920014\" points=\"44651.188375110854,5915299.93661888 44706.79693649494,5915297.480470541 44768.91742297285,5915294.726504347 44768.47429303848,5915277.515017683 44767.847717725206,5915262.3938019285 44763.199347950576,5915252.004669405 44724.825208284776,5915253.706413805 44721.732904546254,5915182.465888117 44718.97738118388,5915115.585039464\" opacity=\"0.8\" /><polyline fill=\"none\" stroke=\"#66cc99\" stroke-width=\"5.478650967920014\" points=\"44718.97738118388,5915115.585039464 44718.69074871112,5915110.20102292 44718.30373046454,5915103.627805329 44720.479890416915,5915099.053978403\" opacity=\"0.8\" /><polyline fill=\"none\" stroke=\"#66cc99\" stroke-width=\"5.478650967920014\" points=\"44718.97738118388,5915115.585039464 44756.03399056552,5915113.8624664275\" opacity=\"0.8\" /><polyline fill=\"none\" stroke=\"#66cc99\" stroke-width=\"5.478650967920014\" points=\"44718.97738118388,5915115.585039464 44721.732904546254,5915182.465888117\" opacity=\"0.8\" /><polyline fill=\"none\" stroke=\"#66cc99\" stroke-width=\"5.478650967920014\" points=\"44721.732904546254,5915182.465888117 44760.283588967635,5915180.915361608\" opacity=\"0.8\" /><polyline fill=\"none\" stroke=\"#66cc99\" stroke-width=\"5.478650967920014\" points=\"44634.807138226286,5915387.674269994 44633.031010824314,5915358.445351547 44709.4902714832,5915353.443567451 44707.32843822776,5915313.57434285 44706.79693649494,5915297.480470541 44651.188375110854,5915299.93661888\" opacity=\"0.8\" /><polyline fill=\"none\" stroke=\"#66cc99\" stroke-width=\"5.478650967920014\" points=\"44634.807138226286,5915387.674269994 44633.031010824314,5915358.445351547 44709.4902714832,5915353.443567451\" opacity=\"0.8\" /><polyline fill=\"none\" stroke=\"#66cc99\" stroke-width=\"5.478650967920014\" points=\"44709.4902714832,5915353.443567451 44712.376578808005,5915413.107876646\" opacity=\"0.8\" /><polyline fill=\"none\" stroke=\"#66cc99\" stroke-width=\"5.478650967920014\" points=\"44521.671891650534,5915141.468990499 44529.22638805868,5915265.803555336 44530.6035877043,5915270.276461184 44538.25165608886,5915276.288715281 44560.962296276644,5915278.819287338 44561.726777298725,5915286.801681404 44565.239318208885,5915304.156251305 44588.249109824246,5915303.207479284 44603.340869800886,5915302.49048065 44609.963980318746,5915302.43884064 44651.188375110854,5915299.93661888\" opacity=\"0.8\" /><polyline fill=\"none\" stroke=\"#66cc99\" stroke-width=\"5.478650967920014\" points=\"44521.671891650534,5915141.468990499 44522.56221777684,5915124.768317009 44521.14934134815,5915090.272341904 44520.690736010845,5915079.089945152 44546.882630050764,5915077.769154569\" opacity=\"0.8\" /><polyline fill=\"none\" stroke=\"#66cc99\" stroke-width=\"5.478650967920014\" points=\"44521.671891650534,5915141.468990499 44647.39234613039,5915135.760007873\" opacity=\"0.8\" /><polyline fill=\"none\" stroke=\"#66cc99\" stroke-width=\"5.478650967920014\" points=\"44560.962296276644,5915278.819287338 44538.25165608886,5915276.288715281 44530.6035877043,5915270.276461184 44529.22638805868,5915265.803555336 44521.671891650534,5915141.468990499\" opacity=\"0.8\" /><polyline fill=\"none\" stroke=\"#66cc99\" stroke-width=\"5.478650967920014\" points=\"44560.962296276644,5915278.819287338 44561.79448048904,5915259.614520692 44617.33268501726,5915257.11932992 44622.42588309012,5915274.188104083 44649.768753675686,5915273.093616879\" opacity=\"0.8\" /><polyline fill=\"none\" stroke=\"#66cc99\" stroke-width=\"5.478650967920014\" points=\"44651.188375110854,5915299.93661888 44650.200088193465,5915283.079784701 44649.768753675686,5915273.093616879 44648.182797766465,5915232.777077792 44646.00865097798,5915177.3916337965 44648.90691967815,5915173.01350903 44647.39234613039,5915135.760007873 44644.36164273007,5915072.972409446 44546.882630050764,5915077.769154569\" opacity=\"0.8\" /><polyline fill=\"none\" stroke=\"#66cc99\" stroke-width=\"5.478650967920014\" points=\"44546.882630050764,5915077.769154569 44532.58500420211,5915078.490147467\" opacity=\"0.8\" /><polyline fill=\"none\" stroke=\"#66cc99\" stroke-width=\"5.478650967920014\" points=\"44649.768753675686,5915273.093616879 44648.182797766465,5915232.777077792 44646.00865097798,5915177.3916337965 44648.90691967815,5915173.01350903 44647.39234613039,5915135.760007873\" opacity=\"0.8\" /><polyline fill=\"none\" stroke=\"#66cc99\" stroke-width=\"5.478650967920014\" points=\"44647.39234613039,5915135.760007873 44644.36164273007,5915072.972409446 44546.882630050764,5915077.769154569\" opacity=\"0.8\" /><polyline fill=\"none\" stroke=\"#66cc99\" stroke-width=\"5.478650967920014\" points=\"44651.188375110854,5915299.93661888 44706.79693649494,5915297.480470541 44707.32843822776,5915313.57434285 44709.4902714832,5915353.443567451 44712.376578808005,5915413.107876646\" opacity=\"0.8\" /><polyline fill=\"none\" stroke=\"#66cc99\" stroke-width=\"5.478650967920014\" points=\"44832.67348580866,5915409.098347887 44833.45330320258,5915420.61965844 44712.95066329045,5915427.326631277 44712.376578808005,5915413.107876646\" opacity=\"0.8\" /><polyline fill=\"none\" stroke=\"#66cc99\" stroke-width=\"5.478650967920014\" points=\"44529.408725627756,5915456.409619385 44561.124097867636,5915454.7500135265 44572.051397713134,5915454.1852177605 44566.65462415217,5915354.415882265 44565.7543024699,5915320.845567829 44565.239318208885,5915304.156251305 44588.249109824246,5915303.207479284 44603.340869800886,5915302.49048065 44609.963980318746,5915302.43884064 44651.188375110854,5915299.93661888\" opacity=\"0.8\" /><polyline fill=\"none\" stroke=\"#66cc99\" stroke-width=\"5.478650967920014\" points=\"44496.40907053727,5915365.007189507 44524.58628317993,5915363.699680779 44528.92645845009,5915447.089329744 44529.408725627756,5915456.409619385\" opacity=\"0.8\" /><polyline fill=\"none\" stroke=\"#66cc99\" stroke-width=\"5.478650967920014\" points=\"44533.162879232084,5915528.550649698 44529.408725627756,5915456.409619385\" opacity=\"0.8\" /><polyline fill=\"none\" stroke=\"#66cc99\" stroke-width=\"5.478650967920014\" points=\"44420.28296548134,5915192.54556941 44424.24014154577,5915203.437656863 44426.41552631726,5915264.358019596 44429.047108177154,5915275.321074556 44429.89671152842,5915292.05681673 44430.71048825013,5915309.120906239 44444.36762903776,5915308.529637029 44546.97091218829,5915303.7435104605 44550.26987742586,5915304.32386761 44565.239318208885,5915304.156251305 44588.249109824246,5915303.207479284 44603.340869800886,5915302.49048065 44609.963980318746,5915302.43884064 44651.188375110854,5915299.93661888\" opacity=\"0.8\" /><polyline fill=\"none\" stroke=\"#66cc99\" stroke-width=\"5.478650967920014\" points=\"44417.90278704565,5915131.021177214 44420.28296548134,5915192.54556941\" opacity=\"0.8\" /><polyline fill=\"none\" stroke=\"#66cc99\" stroke-width=\"5.478650967920014\" points=\"44407.53098762693,5915193.106162536 44420.28296548134,5915192.54556941\" opacity=\"0.8\" /><polyline fill=\"none\" stroke=\"#66cc99\" stroke-width=\"5.478650967920014\" points=\"44420.28296548134,5915192.54556941 44424.24014154577,5915203.437656863 44426.41552631726,5915264.358019596\" opacity=\"0.8\" /><polyline fill=\"none\" stroke=\"#66cc99\" stroke-width=\"5.478650967920014\" points=\"44400.751977005755,5915193.405000788 44381.10258540494,5915194.271202386 44384.30688810046,5915266.487481918 44426.41552631726,5915264.358019596\" opacity=\"0.8\" /><polyline fill=\"none\" stroke=\"#66cc99\" stroke-width=\"5.478650967920014\" points=\"44881.093298282765,5915417.953328576 44880.634308141365,5915406.759843361 44832.67348580866,5915409.098347887 44833.45330320258,5915420.61965844 44712.95066329045,5915427.326631277 44712.376578808005,5915413.107876646 44709.4902714832,5915353.443567451 44707.32843822776,5915313.57434285 44706.79693649494,5915297.480470541 44651.188375110854,5915299.93661888\" opacity=\"0.8\" /><polyline fill=\"none\" stroke=\"#66cc99\" stroke-width=\"5.478650967920014\" points=\"44903.94793073718,5915416.777584455 44881.093298282765,5915417.953328576\" opacity=\"0.8\" /><polyline fill=\"none\" stroke=\"#66cc99\" stroke-width=\"5.478650967920014\" points=\"44882.36339172007,5915440.802911975 44881.093298282765,5915417.953328576\" opacity=\"0.8\" /><polyline fill=\"none\" stroke=\"#66cc99\" stroke-width=\"5.478650967920014\" points=\"44880.634308141365,5915406.759843361 44832.67348580866,5915409.098347887\" opacity=\"0.8\" /><polyline fill=\"none\" stroke=\"#66cc99\" stroke-width=\"5.478650967920014\" points=\"44832.67348580866,5915409.098347887 44832.566052984796,5915406.097852751\" opacity=\"0.8\" /><polyline fill=\"none\" stroke=\"#66cc99\" stroke-width=\"5.478650967920014\" points=\"44881.093298282765,5915417.953328576 44880.634308141365,5915406.759843361\" opacity=\"0.8\" /><polyline fill=\"none\" stroke=\"#66cc99\" stroke-width=\"5.478650967920014\" points=\"44879.241786561455,5915372.7005512845 44880.634308141365,5915406.759843361\" opacity=\"0.8\" /><polyline fill=\"none\" stroke=\"#66cc99\" stroke-width=\"5.478650967920014\" points=\"44407.53098762693,5915193.106162536 44420.28296548134,5915192.54556941 44424.24014154577,5915203.437656863 44426.41552631726,5915264.358019596 44429.047108177154,5915275.321074556 44429.89671152842,5915292.05681673 44430.71048825013,5915309.120906239 44444.36762903776,5915308.529637029 44546.97091218829,5915303.7435104605 44550.26987742586,5915304.32386761 44565.239318208885,5915304.156251305 44588.249109824246,5915303.207479284 44603.340869800886,5915302.49048065 44609.963980318746,5915302.43884064 44651.188375110854,5915299.93661888\" opacity=\"0.8\" /><polyline fill=\"none\" stroke=\"#66cc99\" stroke-width=\"5.478650967920014\" points=\"44405.46052695596,5915144.34397745 44407.53098762693,5915193.106162536\" opacity=\"0.8\" /><polyline fill=\"none\" stroke=\"#66cc99\" stroke-width=\"5.478650967920014\" points=\"44651.188375110854,5915299.93661888 44706.79693649494,5915297.480470541 44768.91742297285,5915294.726504347 44880.34771318111,5915289.797195248 44899.32695736049,5915288.921957421 44909.656579278,5915288.437591724 44910.190000650124,5915302.660168777 44915.08072505373,5915416.201886799\" opacity=\"0.8\" /><polyline fill=\"none\" stroke=\"#66cc99\" stroke-width=\"5.478650967920014\" points=\"44915.08072505373,5915416.201886799 44904.38117753406,5915416.7552963095 44894.47209783675,5915417.265063519\" opacity=\"0.8\" /><polyline fill=\"none\" stroke=\"#66cc99\" stroke-width=\"5.478650967920014\" points=\"44915.08072505373,5915416.201886799 44923.82675585995,5915415.555355979 44947.310334526584,5915413.801023938 44943.43676081061,5915340.484446445 45010.19488403562,5915336.281392238 45012.60887787101,5915387.5566455405\" opacity=\"0.8\" /><polyline fill=\"none\" stroke=\"#66cc99\" stroke-width=\"5.478650967920014\" points=\"44915.08072505373,5915416.201886799 44920.729172533785,5915547.314364088\" opacity=\"0.8\" /><polyline fill=\"none\" stroke=\"#66cc99\" stroke-width=\"5.478650967920014\" points=\"44651.188375110854,5915299.93661888 44609.963980318746,5915302.43884064 44603.340869800886,5915302.49048065 44588.249109824246,5915303.207479284 44589.46152277192,5915319.661937724 44591.29884240014,5915353.321760819 44594.07895491971,5915412.705086053 44604.835307419184,5915412.392032354 44679.81806144974,5915408.28170446\" opacity=\"0.8\" /><polyline fill=\"none\" stroke=\"#66cc99\" stroke-width=\"5.478650967920014\" points=\"44651.188375110854,5915299.93661888 44706.79693649494,5915297.480470541 44768.91742297285,5915294.726504347 44768.47429303848,5915277.515017683 44767.847717725206,5915262.3938019285 44763.199347950576,5915252.004669405 44761.50547604874,5915211.183191297 44760.283588967635,5915180.915361608\" opacity=\"0.8\" /><polyline fill=\"none\" stroke=\"#66cc99\" stroke-width=\"5.478650967920014\" points=\"44533.162879232084,5915528.550649698 44529.408725627756,5915456.409619385 44561.124097867636,5915454.7500135265 44572.051397713134,5915454.1852177605 44566.65462415217,5915354.415882265 44565.7543024699,5915320.845567829 44565.239318208885,5915304.156251305 44588.249109824246,5915303.207479284 44603.340869800886,5915302.49048065 44609.963980318746,5915302.43884064 44651.188375110854,5915299.93661888\" opacity=\"0.8\" /><polyline fill=\"none\" stroke=\"#66cc99\" stroke-width=\"5.478650967920014\" points=\"44573.047188193166,5915539.70125773 44564.98675627366,5915540.1124324845 44538.13518409117,5915541.474280016 44533.162879232084,5915528.550649698\" opacity=\"0.8\" /><polyline fill=\"none\" stroke=\"#66cc99\" stroke-width=\"5.478650967920014\" points=\"44484.417599851804,5915530.947354683 44533.162879232084,5915528.550649698\" opacity=\"0.8\" /><polyline fill=\"none\" stroke=\"#66cc99\" stroke-width=\"5.478650967920014\" points=\"44450.775056835846,5915437.8592433985 44444.86636816524,5915318.442170244 44444.36762903776,5915308.529637029 44546.97091218829,5915303.7435104605 44550.26987742586,5915304.32386761 44565.239318208885,5915304.156251305 44588.249109824246,5915303.207479284 44603.340869800886,5915302.49048065 44609.963980318746,5915302.43884064 44651.188375110854,5915299.93661888\" opacity=\"0.8\" /><polyline fill=\"none\" stroke=\"#66cc99\" stroke-width=\"5.478650967920014\" points=\"44464.256210195344,5915494.92867257 44461.699589842116,5915444.218508076 44450.775056835846,5915437.8592433985\" opacity=\"0.8\" /><polyline fill=\"none\" stroke=\"#66cc99\" stroke-width=\"5.478650967920014\" points=\"44387.45240396317,5915441.279859186 44405.28958269773,5915440.33465616 44440.973956188885,5915438.450865885 44450.775056835846,5915437.8592433985\" opacity=\"0.8\" /><polyline fill=\"none\" stroke=\"#66cc99\" stroke-width=\"5.478650967920014\" points=\"44315.71637034684,5915269.642249606 44318.81494667876,5915277.681107896 44320.08305345074,5915296.673604291 44320.96948597935,5915314.772742708 44430.71048825013,5915309.120906239 44444.36762903776,5915308.529637029 44546.97091218829,5915303.7435104605 44550.26987742586,5915304.32386761 44565.239318208885,5915304.156251305 44588.249109824246,5915303.207479284 44603.340869800886,5915302.49048065 44609.963980318746,5915302.43884064 44651.188375110854,5915299.93661888\" opacity=\"0.8\" /><polyline fill=\"none\" stroke=\"#66cc99\" stroke-width=\"5.478650967920014\" points=\"44292.17499348339,5915270.921090528 44315.71637034684,5915269.642249606\" opacity=\"0.8\" /><polyline fill=\"none\" stroke=\"#66cc99\" stroke-width=\"5.478650967920014\" points=\"44314.80857905225,5915246.08364664 44315.71637034684,5915269.642249606\" opacity=\"0.8\" /></g></g></svg>"
      ],
      "text/plain": [
       "<shapely.geometry.multilinestring.MultiLineString at 0x15a49c77a88>"
      ]
     },
     "execution_count": 39,
     "metadata": {},
     "output_type": "execute_result"
    }
   ],
   "source": [
    "MultiLineString(sprut_ml_one_stop)"
   ]
  },
  {
   "cell_type": "code",
   "execution_count": null,
   "metadata": {},
   "outputs": [],
   "source": []
  },
  {
   "cell_type": "code",
   "execution_count": null,
   "metadata": {},
   "outputs": [],
   "source": []
  }
 ],
 "metadata": {
  "kernelspec": {
   "display_name": "Python 3",
   "language": "python",
   "name": "python3"
  },
  "language_info": {
   "codemirror_mode": {
    "name": "ipython",
    "version": 3
   },
   "file_extension": ".py",
   "mimetype": "text/x-python",
   "name": "python",
   "nbconvert_exporter": "python",
   "pygments_lexer": "ipython3",
   "version": "3.7.6"
  }
 },
 "nbformat": 4,
 "nbformat_minor": 4
}
