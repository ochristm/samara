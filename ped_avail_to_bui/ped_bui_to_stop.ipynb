{
 "cells": [
  {
   "cell_type": "code",
   "execution_count": 1,
   "metadata": {},
   "outputs": [],
   "source": [
    "import numpy as np\n",
    "import pandas as pd\n",
    "import geopandas as gpd\n",
    "import shapely\n",
    "from shapely.geometry import Point, LineString, MultiLineString, Polygon, MultiPolygon\n",
    "from tqdm.notebook import tqdm\n",
    "import time\n",
    "from datetime import datetime\n",
    "\n",
    "import momepy as mm\n",
    "import networkx as nx\n",
    "\n",
    "import math\n",
    "\n",
    "from contextlib import redirect_stdout\n",
    "\n",
    "import io\n",
    "import sys\n",
    "\n",
    "from shapely.ops import nearest_points\n",
    "from shapely.ops import unary_union"
   ]
  },
  {
   "cell_type": "code",
   "execution_count": null,
   "metadata": {},
   "outputs": [],
   "source": []
  },
  {
   "cell_type": "code",
   "execution_count": null,
   "metadata": {},
   "outputs": [],
   "source": [
    "# проверка остановки в буффере - если даже по вохдуху не попадает - не искать"
   ]
  },
  {
   "cell_type": "code",
   "execution_count": null,
   "metadata": {},
   "outputs": [],
   "source": []
  },
  {
   "cell_type": "code",
   "execution_count": 2,
   "metadata": {},
   "outputs": [],
   "source": [
    "graph = gpd.read_file('../lines_to_graph/with_ped/new_graph_with_ped.json',\n",
    "                        encoding='utf-8')"
   ]
  },
  {
   "cell_type": "code",
   "execution_count": 3,
   "metadata": {},
   "outputs": [],
   "source": [
    "nodes = gpd.read_file('../lines_to_graph/with_ped/all_nodes_with_ped.json',\n",
    "                        encoding='utf-8')"
   ]
  },
  {
   "cell_type": "code",
   "execution_count": 10,
   "metadata": {},
   "outputs": [],
   "source": [
    "buildings = gpd.read_file('./all_bui.json',encoding='utf-8')"
   ]
  },
  {
   "cell_type": "code",
   "execution_count": 4,
   "metadata": {},
   "outputs": [],
   "source": [
    "stps_big = pd.read_csv('../lines_to_graph/total/df_stop_seq_all_n_samobl.csv',\n",
    "                        encoding='utf-8', sep=';')"
   ]
  },
  {
   "cell_type": "code",
   "execution_count": 8,
   "metadata": {},
   "outputs": [],
   "source": [
    "stps_big = stps_big[['stop_id', 'stop_name', 'lat', 'lon']]\n",
    "stps_big = stps_big.drop_duplicates(subset=['stop_id']).reset_index(drop=True)"
   ]
  },
  {
   "cell_type": "code",
   "execution_count": null,
   "metadata": {},
   "outputs": [],
   "source": [
    "lst_geo=[]\n",
    "lst_lat=list(stps_big.lat)\n",
    "lst_lon=list(stps_big.lon)\n",
    "i=0\n",
    "for i in tqdm(range(len(stps_big))):\n",
    "    one_pt = Point(lst_lon[i], lst_lat[i])\n",
    "    lst_geo.append(one_pt)\n",
    "# "
   ]
  },
  {
   "cell_type": "code",
   "execution_count": null,
   "metadata": {},
   "outputs": [],
   "source": [
    "gdf_stops = gpd.GeoDataFrame(stps_big, geometry=lst_geo)\n",
    "gdf_stops.crs='epsg:4326'"
   ]
  },
  {
   "cell_type": "code",
   "execution_count": 34,
   "metadata": {},
   "outputs": [],
   "source": [
    "# убрать жд пути из графа\n",
    "graph_ped = graph[graph.type_ped != 'no_ped'].reset_index(drop=True)[['link_id', 'geometry']]"
   ]
  },
  {
   "cell_type": "code",
   "execution_count": 13,
   "metadata": {},
   "outputs": [],
   "source": [
    "shrt_bui = buildings[['osm_id', 'geometry']].copy()"
   ]
  },
  {
   "cell_type": "code",
   "execution_count": null,
   "metadata": {},
   "outputs": [],
   "source": []
  },
  {
   "cell_type": "code",
   "execution_count": null,
   "metadata": {},
   "outputs": [],
   "source": [
    "def intersect_using_spatial_index(source_gdf, intersecting_gdf):\n",
    "    \"\"\"\n",
    "    Conduct spatial intersection using spatial index for candidates GeoDataFrame to make queries faster.\n",
    "    Note, with this function, you can have multiple Polygons in the 'intersecting_gdf' and it will return all the points\n",
    "    intersect with ANY of those geometries.\n",
    "    \"\"\"\n",
    "    source_sindex = source_gdf.sindex\n",
    "    possible_matches_index = []\n",
    "\n",
    "    # 'itertuples()' function is a faster version of 'iterrows()'\n",
    "    for other in intersecting_gdf.itertuples():\n",
    "        bounds = other.geometry.bounds\n",
    "        c = list(source_sindex.intersection(bounds))\n",
    "        possible_matches_index += c\n",
    "\n",
    "    # Get unique candidates\n",
    "    unique_candidate_matches = list(set(possible_matches_index))\n",
    "    possible_matches = source_gdf.iloc[unique_candidate_matches]\n",
    "\n",
    "    # Conduct the actual intersect\n",
    "    result = possible_matches.loc[possible_matches.intersects(intersecting_gdf.unary_union)]\n",
    "    return result\n",
    "########"
   ]
  },
  {
   "cell_type": "code",
   "execution_count": null,
   "metadata": {},
   "outputs": [],
   "source": [
    "def find_closest_stop(gdf_one_bui, gdf_stops, gdf_buff):\n",
    "    uu_stops = gdf_stops.geometry.unary_union\n",
    "    centr_bui = gdf_one_bui.geometry[0].centroid\n",
    "    nrst_pt = nearest_points(centr_bui, uu_stops)[1]\n",
    "    \n",
    "    nearest_stop_id = list(gdf_stops[gdf_stops.geometry == nrst_pt]['stop_id'])[0]\n",
    "    nearest_stop_geo = list(gdf_stops[gdf_stops.geometry == nrst_pt]['geometry'])[0]\n",
    "    if gdf_buff.geometry[0].intersects(nearest_stop_geo):\n",
    "        return [nearest_stop_id, nearest_stop_geo]\n",
    "    else:\n",
    "        return []"
   ]
  },
  {
   "cell_type": "code",
   "execution_count": 183,
   "metadata": {},
   "outputs": [],
   "source": [
    "def get_closest_node(gdf_obj, linkid, graph_in_buff):\n",
    "    line_geo = list(graph_in_buff[graph_in_buff.link_id == linkid]['geometry'])[0]\n",
    "    start = Point(line_geo.coords[0])\n",
    "    end = Point(line_geo.coords[-1])\n",
    "    obj_centr = gdf_obj['geometry'][0]#.centroid\n",
    "\n",
    "    if start.distance(obj_centr) < end.distance(obj_centr):\n",
    "        return start\n",
    "    else:\n",
    "        return end\n",
    "# "
   ]
  },
  {
   "cell_type": "code",
   "execution_count": 206,
   "metadata": {},
   "outputs": [],
   "source": [
    "def get_shrt_pth(gdf_one_bui, gdf_buff, gdf_stops, graph_ped):\n",
    "\n",
    "    try:\n",
    "        nearest_stop = find_closest_stop(gdf_one_bui, gdf_stops, gdf_buff)\n",
    "    except:\n",
    "        nearest_stop = []\n",
    "    #\n",
    "    if nearest_stop != []:\n",
    "        gdf_near_stop = gpd.GeoDataFrame(data=[nearest_stop], columns=['stop_id', 'geometry'])\n",
    "        gdf_near_stop.crs=graph_ped.crs\n",
    "        graph_in_buff = intersect_using_spatial_index(graph_ped, gdf_buff[['geometry']])\n",
    "\n",
    "        text_trap = io.StringIO()\n",
    "        with redirect_stdout(text_trap):\n",
    "            closest_link_bui = mm.get_network_id(gdf_bui, graph_in_buff, 'link_id')[0]\n",
    "            closest_link_stop = mm.get_network_id(gdf_near_stop, graph_in_buff, 'link_id')[0]\n",
    "\n",
    "        closest_node_bui = get_closest_node(gdf_bui, closest_link_bui, graph_in_buff)\n",
    "        closest_node_stop = get_closest_node(gdf_near_stop, closest_link_stop, graph_in_buff)\n",
    "\n",
    "        one_G = mm.gdf_to_nx(graph_in_buff)\n",
    "        res_lst = nx.shortest_path(one_G, closest_node_bui.coords[0], closest_node_stop.coords[0])\n",
    "\n",
    "        if len(res_lst) == 1:\n",
    "            line_path = LineString([closest_node_bui, closest_node_stop])\n",
    "            path_lngth = 0\n",
    "        elif len(res_lst) == 0:\n",
    "            line_path = LineString([closest_node_bui, closest_node_stop])\n",
    "            path_lngth = -1\n",
    "        else:\n",
    "            line_path = LineString(res_lst)\n",
    "            path_lngth = 1\n",
    "    # \n",
    "        return [nearest_stop[0], path_lngth, res_lst, line_path]\n",
    "    else:\n",
    "        return []"
   ]
  },
  {
   "cell_type": "code",
   "execution_count": null,
   "metadata": {},
   "outputs": [],
   "source": []
  },
  {
   "cell_type": "code",
   "execution_count": 171,
   "metadata": {},
   "outputs": [
    {
     "data": {
      "text/plain": [
       "4615"
      ]
     },
     "execution_count": 171,
     "metadata": {},
     "output_type": "execute_result"
    }
   ],
   "source": [
    "# list(shrt_bui.osm_id).index(40707382)"
   ]
  },
  {
   "cell_type": "code",
   "execution_count": 15,
   "metadata": {},
   "outputs": [],
   "source": [
    "np_shbu = shrt_bui.to_numpy()\n",
    "ind_oi_bui = list(shrt_bui.columns).index('osm_id')\n",
    "ind_geo_bui = list(shrt_bui.columns).index('geometry')"
   ]
  },
  {
   "cell_type": "code",
   "execution_count": null,
   "metadata": {},
   "outputs": [],
   "source": []
  },
  {
   "cell_type": "code",
   "execution_count": 207,
   "metadata": {
    "scrolled": true
   },
   "outputs": [
    {
     "data": {
      "application/vnd.jupyter.widget-view+json": {
       "model_id": "94845fd9241a4eb783fec3bf85daca06",
       "version_major": 2,
       "version_minor": 0
      },
      "text/plain": [
       "HBox(children=(FloatProgress(value=0.0, max=2.0), HTML(value='')))"
      ]
     },
     "metadata": {},
     "output_type": "display_data"
    },
    {
     "name": "stderr",
     "output_type": "stream",
     "text": [
      "C:\\Users\\ochristm\\anaconda3\\lib\\site-packages\\momepy\\elements.py:696: UserWarning: Geometry is in a geographic CRS. Results from 'centroid' are likely incorrect. Use 'GeoSeries.to_crs()' to re-project geometries to a projected CRS before this operation.\n",
      "\n",
      "  buildings_c[\"geometry\"] = buildings_c.centroid  # make centroids\n",
      "\n",
      "Snapping: 100%|██████████████████████████████████████████████████████████████████████████| 1/1 [00:00<00:00, 16.95it/s]\u001b[A\n",
      "\n",
      "Snapping: 100%|██████████████████████████████████████████████████████████████████████████| 1/1 [00:00<00:00, 18.52it/s]\u001b[A\n",
      "C:\\Users\\ochristm\\anaconda3\\lib\\site-packages\\momepy\\utils.py:202: UserWarning: Geometry is in a geographic CRS. Results from 'length' are likely incorrect. Use 'GeoSeries.to_crs()' to re-project geometries to a projected CRS before this operation.\n",
      "\n",
      "  gdf_network[length] = gdf_network.geometry.length\n",
      "C:\\Users\\ochristm\\anaconda3\\lib\\site-packages\\momepy\\elements.py:696: UserWarning: Geometry is in a geographic CRS. Results from 'centroid' are likely incorrect. Use 'GeoSeries.to_crs()' to re-project geometries to a projected CRS before this operation.\n",
      "\n",
      "  buildings_c[\"geometry\"] = buildings_c.centroid  # make centroids\n",
      "\n",
      "Snapping: 100%|██████████████████████████████████████████████████████████████████████████| 1/1 [00:00<00:00, 20.83it/s]\u001b[A\n",
      "\n",
      "Snapping: 100%|██████████████████████████████████████████████████████████████████████████| 1/1 [00:00<00:00, 20.41it/s]\u001b[A\n",
      "C:\\Users\\ochristm\\anaconda3\\lib\\site-packages\\momepy\\utils.py:202: UserWarning: Geometry is in a geographic CRS. Results from 'length' are likely incorrect. Use 'GeoSeries.to_crs()' to re-project geometries to a projected CRS before this operation.\n",
      "\n",
      "  gdf_network[length] = gdf_network.geometry.length\n"
     ]
    },
    {
     "name": "stdout",
     "output_type": "stream",
     "text": [
      "\n"
     ]
    }
   ],
   "source": [
    "lst_total_path = []\n",
    "i=0\n",
    "# for i in tqdm(range(len(np_shbu))):\n",
    "for i in tqdm(range(2)):\n",
    "    one_bui_oi = np_shbu[i, ind_oi_bui]\n",
    "    one_bui_geo = np_shbu[i, ind_geo_bui]\n",
    "    \n",
    "    gdf_one_bui = gpd.GeoDataFrame(geometry=[one_bui_geo])\n",
    "    gdf_one_bui.crs = 'epsg:4326'\n",
    "\n",
    "    gdf_buff = gdf_one_bui.copy()\n",
    "    gdf_buff.geometry = gdf_buff.geometry.to_crs('epsg:32637').buffer(1000).to_crs('epsg:4326')\n",
    "    \n",
    "    lst_path = get_shrt_pth(gdf_one_bui, gdf_buff, gdf_stops, graph_ped)\n",
    "    \n",
    "    if lst_path != []:\n",
    "        lst_total_path.append([one_bui_oi] + lst_path)\n",
    "    #\n",
    "# "
   ]
  },
  {
   "cell_type": "code",
   "execution_count": null,
   "metadata": {},
   "outputs": [],
   "source": []
  },
  {
   "cell_type": "code",
   "execution_count": null,
   "metadata": {},
   "outputs": [],
   "source": []
  },
  {
   "cell_type": "code",
   "execution_count": 210,
   "metadata": {
    "scrolled": true
   },
   "outputs": [],
   "source": [
    "gdf_path = gpd.GeoDataFrame(lst_total_path, \n",
    "                            columns = ['osm_id_bui','stop_id_ya',\n",
    "                                       'is_valid', 'node_seq', 'geometry'])\n",
    "gdf_path.crs = graph_ped.crs"
   ]
  },
  {
   "cell_type": "code",
   "execution_count": null,
   "metadata": {},
   "outputs": [],
   "source": []
  },
  {
   "cell_type": "code",
   "execution_count": null,
   "metadata": {},
   "outputs": [],
   "source": []
  },
  {
   "cell_type": "code",
   "execution_count": null,
   "metadata": {},
   "outputs": [],
   "source": []
  }
 ],
 "metadata": {
  "kernelspec": {
   "display_name": "Python 3",
   "language": "python",
   "name": "python3"
  },
  "language_info": {
   "codemirror_mode": {
    "name": "ipython",
    "version": 3
   },
   "file_extension": ".py",
   "mimetype": "text/x-python",
   "name": "python",
   "nbconvert_exporter": "python",
   "pygments_lexer": "ipython3",
   "version": "3.7.6"
  }
 },
 "nbformat": 4,
 "nbformat_minor": 4
}
