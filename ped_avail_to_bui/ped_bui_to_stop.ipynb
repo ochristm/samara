{
 "cells": [
  {
   "cell_type": "code",
   "execution_count": 1,
   "metadata": {},
   "outputs": [],
   "source": [
    "import numpy as np\n",
    "import pandas as pd\n",
    "import geopandas as gpd\n",
    "import shapely\n",
    "from shapely.geometry import Point, LineString, MultiLineString, Polygon, MultiPolygon\n",
    "from tqdm.notebook import tqdm\n",
    "import time\n",
    "from datetime import datetime\n",
    "\n",
    "import momepy as mm\n",
    "import networkx as nx\n",
    "\n",
    "import math\n",
    "\n",
    "from contextlib import redirect_stdout\n",
    "\n",
    "import io\n",
    "import sys\n",
    "\n",
    "from shapely.ops import nearest_points\n",
    "from shapely.ops import unary_union"
   ]
  },
  {
   "cell_type": "code",
   "execution_count": null,
   "metadata": {},
   "outputs": [],
   "source": []
  },
  {
   "cell_type": "code",
   "execution_count": null,
   "metadata": {},
   "outputs": [],
   "source": [
    "# проверка остановки в буффере - если даже по вохдуху не попадает - не искать"
   ]
  },
  {
   "cell_type": "code",
   "execution_count": null,
   "metadata": {},
   "outputs": [],
   "source": []
  },
  {
   "cell_type": "code",
   "execution_count": 2,
   "metadata": {},
   "outputs": [],
   "source": [
    "graph = gpd.read_file('../lines_to_graph/with_ped/new_graph_with_ped.json',\n",
    "                        encoding='utf-8')"
   ]
  },
  {
   "cell_type": "code",
   "execution_count": 3,
   "metadata": {},
   "outputs": [],
   "source": [
    "nodes = gpd.read_file('../lines_to_graph/with_ped/all_nodes_with_ped.json',\n",
    "                        encoding='utf-8')"
   ]
  },
  {
   "cell_type": "code",
   "execution_count": 4,
   "metadata": {},
   "outputs": [],
   "source": [
    "buildings = gpd.read_file('./all_bui.json',encoding='utf-8')"
   ]
  },
  {
   "cell_type": "code",
   "execution_count": 5,
   "metadata": {},
   "outputs": [],
   "source": [
    "stps_big = pd.read_csv('../lines_to_graph/total/df_stop_seq_all_n_samobl.csv',\n",
    "                        encoding='utf-8', sep=';')"
   ]
  },
  {
   "cell_type": "code",
   "execution_count": 6,
   "metadata": {},
   "outputs": [],
   "source": [
    "stps_big = stps_big[['stop_id', 'stop_name', 'lat', 'lon']]\n",
    "stps_big = stps_big.drop_duplicates(subset=['stop_id']).reset_index(drop=True)"
   ]
  },
  {
   "cell_type": "code",
   "execution_count": 7,
   "metadata": {},
   "outputs": [
    {
     "data": {
      "application/vnd.jupyter.widget-view+json": {
       "model_id": "43fc6870b54a477dbe49e18e7975de02",
       "version_major": 2,
       "version_minor": 0
      },
      "text/plain": [
       "HBox(children=(FloatProgress(value=0.0, max=7242.0), HTML(value='')))"
      ]
     },
     "metadata": {},
     "output_type": "display_data"
    },
    {
     "name": "stdout",
     "output_type": "stream",
     "text": [
      "\n"
     ]
    }
   ],
   "source": [
    "lst_geo=[]\n",
    "lst_lat=list(stps_big.lat)\n",
    "lst_lon=list(stps_big.lon)\n",
    "i=0\n",
    "for i in tqdm(range(len(stps_big))):\n",
    "    one_pt = Point(lst_lon[i], lst_lat[i])\n",
    "    lst_geo.append(one_pt)\n",
    "# "
   ]
  },
  {
   "cell_type": "code",
   "execution_count": 8,
   "metadata": {},
   "outputs": [],
   "source": [
    "gdf_stops_all = gpd.GeoDataFrame(stps_big, geometry=lst_geo)\n",
    "gdf_stops_all.crs='epsg:4326'"
   ]
  },
  {
   "cell_type": "code",
   "execution_count": 9,
   "metadata": {},
   "outputs": [],
   "source": [
    "border_sa = gpd.read_file('./data/outer_border_SA.shp',encoding='utf-8')"
   ]
  },
  {
   "cell_type": "code",
   "execution_count": 10,
   "metadata": {},
   "outputs": [],
   "source": [
    "gdf_stops = gpd.sjoin(gdf_stops_all, border_sa[['geometry']], how='inner', op='intersects')\n",
    "gdf_stops = gdf_stops.drop('index_right', axis=1).reset_index(drop=True)"
   ]
  },
  {
   "cell_type": "code",
   "execution_count": null,
   "metadata": {},
   "outputs": [],
   "source": []
  },
  {
   "cell_type": "code",
   "execution_count": 11,
   "metadata": {},
   "outputs": [],
   "source": [
    "# убрать жд пути из графа\n",
    "graph_ped = graph[graph.type_ped != 'no_ped'].reset_index(drop=True)[['link_id', 'geometry']]"
   ]
  },
  {
   "cell_type": "code",
   "execution_count": 12,
   "metadata": {},
   "outputs": [],
   "source": [
    "shrt_bui = buildings[['osm_id', 'geometry']].copy()"
   ]
  },
  {
   "cell_type": "code",
   "execution_count": null,
   "metadata": {},
   "outputs": [],
   "source": []
  },
  {
   "cell_type": "code",
   "execution_count": 13,
   "metadata": {},
   "outputs": [],
   "source": [
    "def intersect_using_spatial_index(source_gdf, intersecting_gdf):\n",
    "    \"\"\"\n",
    "    Conduct spatial intersection using spatial index for candidates GeoDataFrame to make queries faster.\n",
    "    Note, with this function, you can have multiple Polygons in the 'intersecting_gdf' and it will return all the points\n",
    "    intersect with ANY of those geometries.\n",
    "    \"\"\"\n",
    "    source_sindex = source_gdf.sindex\n",
    "    possible_matches_index = []\n",
    "\n",
    "    # 'itertuples()' function is a faster version of 'iterrows()'\n",
    "    for other in intersecting_gdf.itertuples():\n",
    "        bounds = other.geometry.bounds\n",
    "        c = list(source_sindex.intersection(bounds))\n",
    "        possible_matches_index += c\n",
    "\n",
    "    # Get unique candidates\n",
    "    unique_candidate_matches = list(set(possible_matches_index))\n",
    "    possible_matches = source_gdf.iloc[unique_candidate_matches]\n",
    "\n",
    "    # Conduct the actual intersect\n",
    "    result = possible_matches.loc[possible_matches.intersects(intersecting_gdf.unary_union)]\n",
    "    return result\n",
    "########"
   ]
  },
  {
   "cell_type": "code",
   "execution_count": 14,
   "metadata": {},
   "outputs": [],
   "source": [
    "def find_closest_stop(gdf_one_bui, gdf_stops, gdf_buff):\n",
    "    uu_stops = gdf_stops.geometry.unary_union\n",
    "    centr_bui = gdf_one_bui.geometry[0].centroid\n",
    "    nrst_pt = nearest_points(centr_bui, uu_stops)[1]\n",
    "    \n",
    "    nearest_stop_id = list(gdf_stops[gdf_stops.geometry == nrst_pt]['stop_id'])[0]\n",
    "    nearest_stop_geo = list(gdf_stops[gdf_stops.geometry == nrst_pt]['geometry'])[0]\n",
    "    if gdf_buff.geometry[0].intersects(nearest_stop_geo):\n",
    "        return [nearest_stop_id, nearest_stop_geo]\n",
    "    else:\n",
    "        return []"
   ]
  },
  {
   "cell_type": "code",
   "execution_count": 15,
   "metadata": {},
   "outputs": [],
   "source": [
    "def get_closest_node(gdf_obj, linkid, graph_in_buff):\n",
    "    line_geo = list(graph_in_buff[graph_in_buff.link_id == linkid]['geometry'])[0]\n",
    "    start = Point(line_geo.coords[0])\n",
    "    end = Point(line_geo.coords[-1])\n",
    "    obj_centr = gdf_obj['geometry'][0]#.centroid\n",
    "\n",
    "    if start.distance(obj_centr) < end.distance(obj_centr):\n",
    "        return start\n",
    "    else:\n",
    "        return end\n",
    "# "
   ]
  },
  {
   "cell_type": "code",
   "execution_count": 16,
   "metadata": {},
   "outputs": [],
   "source": [
    "def get_shrt_pth(gdf_one_bui, gdf_buff, gdf_stops, graph_ped):\n",
    "\n",
    "    try:\n",
    "        nearest_stop = find_closest_stop(gdf_one_bui, gdf_stops, gdf_buff)\n",
    "    except:\n",
    "        nearest_stop = []\n",
    "    #\n",
    "    if nearest_stop != []:\n",
    "        gdf_near_stop = gpd.GeoDataFrame(data=[nearest_stop], columns=['stop_id', 'geometry'])\n",
    "        gdf_near_stop.crs=graph_ped.crs\n",
    "        graph_in_buff = intersect_using_spatial_index(graph_ped, gdf_buff[['geometry']])\n",
    "        centr_bui = gdf_one_bui.copy()\n",
    "        centr_bui.geometry = centr_bui.geometry.centroid\n",
    "\n",
    "        text_trap = io.StringIO()\n",
    "        with redirect_stdout(text_trap):\n",
    "            closest_link_bui = mm.get_network_id(gdf_one_bui, graph_in_buff, 'link_id')[0]\n",
    "            closest_link_stop = mm.get_network_id(gdf_near_stop, graph_in_buff, 'link_id')[0]\n",
    "\n",
    "        closest_node_bui = get_closest_node(gdf_one_bui, closest_link_bui, graph_in_buff)\n",
    "        closest_node_stop = get_closest_node(gdf_near_stop, closest_link_stop, graph_in_buff)\n",
    "\n",
    "        one_G = mm.gdf_to_nx(graph_in_buff)\n",
    "        res_lst = nx.shortest_path(one_G, closest_node_bui.coords[0], closest_node_stop.coords[0])\n",
    "\n",
    "        if len(res_lst) == 1:\n",
    "            line_path = LineString([closest_node_bui, closest_node_stop])\n",
    "            path_lngth = 0\n",
    "        elif len(res_lst) == 0:\n",
    "            line_path = LineString([closest_node_bui, closest_node_stop])\n",
    "            path_lngth = -1\n",
    "        else:\n",
    "            line_path = LineString(res_lst)\n",
    "            path_lngth = 1\n",
    "    # \n",
    "        return [nearest_stop[0], path_lngth, res_lst, line_path]\n",
    "    else:\n",
    "        return []"
   ]
  },
  {
   "cell_type": "code",
   "execution_count": 17,
   "metadata": {},
   "outputs": [],
   "source": [
    "def generate_graph(edges, fields):\n",
    "    G = nx.Graph()\n",
    "\n",
    "    key = 0\n",
    "    for index, row in edges.iterrows():\n",
    "        first = row.from_node\n",
    "        last = row.to_node\n",
    "\n",
    "        data = [row[f] for f in fields]\n",
    "        attributes = dict(zip(fields, data))\n",
    "        G.add_edge(first, last, key=key, **attributes)\n",
    "        key += 1\n",
    "    # \n",
    "    return G"
   ]
  },
  {
   "cell_type": "code",
   "execution_count": 136,
   "metadata": {},
   "outputs": [],
   "source": [
    "def get_lst_end_nodes(egg):\n",
    "    lst_nodes_end=[]\n",
    "    lst_nodes = list(egg.nodes())\n",
    "    i=0\n",
    "    for i in (range(len(lst_nodes))):\n",
    "        one_node = lst_nodes[i]\n",
    "        lst_neigh = list(nx.all_neighbors(egg, one_node))\n",
    "        if len(lst_neigh) < 2:\n",
    "            lst_nodes_end.append(one_node)\n",
    "    #\n",
    "    return lst_nodes_end"
   ]
  },
  {
   "cell_type": "code",
   "execution_count": 221,
   "metadata": {},
   "outputs": [],
   "source": [
    "def get_strt_end_paths(egg, closest_node, lst_nodes_end):\n",
    "    \n",
    "    shortest_paths = list(nx.all_pairs_dijkstra_path(egg, weight='length'))\n",
    "    \n",
    "    start_ind=0\n",
    "    i=0\n",
    "    for i in range(len(shortest_paths)):\n",
    "        if shortest_paths[i][0] == closest_node:\n",
    "            start_ind = i\n",
    "            break\n",
    "    # \n",
    "    lst_paths_to_ends = []\n",
    "    i=0\n",
    "    for nd in shortest_paths[start_ind][1]:\n",
    "        if nd in lst_nodes_end:\n",
    "            lst_paths_to_ends.append(shortest_paths[start_ind][1][nd])\n",
    "    # \n",
    "    try:\n",
    "        lst_paths_to_ends.remove([closest_node])\n",
    "    except:\n",
    "        pass\n",
    "    return lst_paths_to_ends"
   ]
  },
  {
   "cell_type": "code",
   "execution_count": 39,
   "metadata": {},
   "outputs": [],
   "source": [
    "def find_closest_node(one_stop_gdf, nodes_in_buff):\n",
    "\n",
    "    stop_pt = one_stop_gdf.geometry[0]\n",
    "    np_nib = nodes_in_buff.to_numpy()\n",
    "    ind_ndid = list(nodes_in_buff.columns).index('nodeID')\n",
    "    ind_geo = list(nodes_in_buff.columns).index('geometry')\n",
    "\n",
    "    closest_node = np_nib[0, ind_ndid]\n",
    "    dstnc = 100000000\n",
    "    i=0\n",
    "    for i in range(len(np_nib)):\n",
    "        node_pt = np_nib[i, ind_geo]\n",
    "        if stop_pt.distance(node_pt) < dstnc:\n",
    "            dstnc = stop_pt.distance(node_pt)\n",
    "            closest_node = np_nib[i, ind_ndid]\n",
    "    # \n",
    "\n",
    "    return closest_node"
   ]
  },
  {
   "cell_type": "code",
   "execution_count": 340,
   "metadata": {},
   "outputs": [],
   "source": [
    "def get_one_stop_graph(one_stop_gdf, nodes, G):\n",
    "    gdf_buff = one_stop_gdf.copy()\n",
    "    gdf_buff.geometry = gdf_buff.geometry.to_crs('epsg:32640').buffer(600).to_crs('epsg:4326')\n",
    "    nodes_in_buff = intersect_using_spatial_index(nodes, gdf_buff[['geometry']]).reset_index(drop=True)\n",
    "\n",
    "    closest_node = find_closest_node(one_stop_gdf, nodes_in_buff)\n",
    "\n",
    "    egg = nx.ego_graph(G, closest_node, radius=500, distance='length')\n",
    "    edglst = nx.to_pandas_edgelist(egg)\n",
    "    lst_nodes_end = get_lst_end_nodes(egg)\n",
    "    lst_paths_to_ends = get_strt_end_paths(egg, closest_node, lst_nodes_end)\n",
    "    return lst_paths_to_ends"
   ]
  },
  {
   "cell_type": "code",
   "execution_count": 105,
   "metadata": {},
   "outputs": [],
   "source": [
    "def cut(line, distance):\n",
    "    # Cuts a line in two at a distance from its starting point\n",
    "    if distance <= 0.0 or distance >= line.length:\n",
    "        return [LineString(line)]\n",
    "    coords = list(line.coords)\n",
    "    for i, p in enumerate(coords):\n",
    "        pd = line.project(Point(p))\n",
    "        if pd == distance:\n",
    "            return [\n",
    "                LineString(coords[:i+1]),\n",
    "                LineString(coords[i:])]\n",
    "        if pd > distance:\n",
    "            cp = line.interpolate(distance)\n",
    "            return [\n",
    "                LineString(coords[:i] + [(cp.x, cp.y)]),\n",
    "                LineString([(cp.x, cp.y)] + coords[i:])]"
   ]
  },
  {
   "cell_type": "code",
   "execution_count": null,
   "metadata": {},
   "outputs": [],
   "source": [
    "def get_leftovers(np_gnd, ind_frnd, ind_tond, ind_geo, last_id, lns, lst_one, lng_cut):\n",
    "    left_lines = np_gnd[(\n",
    "                    ((np_gnd[:,ind_tond] == last_id) & ~(np.isin(np_gnd[:,ind_frnd], lst_one)) \n",
    "                     | ((np_gnd[:,ind_frnd] == last_id) & ~(np.isin(np_gnd[:,ind_tond], lst_one))))\n",
    "                )]\n",
    "    #\n",
    "\n",
    "    left_length = lng_cut - lns.length\n",
    "    lst_leftovers=[]\n",
    "    i=0\n",
    "    for i in range(len(left_lines)):\n",
    "        one_line_left = left_lines[i][ind_geo]\n",
    "\n",
    "        cut_left = cut(one_line_left, left_length)[0]\n",
    "        lst_leftovers.append(cut_left)\n",
    "    # \n",
    "\n",
    "    return lst_leftovers"
   ]
  },
  {
   "cell_type": "code",
   "execution_count": null,
   "metadata": {},
   "outputs": [],
   "source": [
    "def get_one_end_lines(lst_one, np_gnd, ind_frnd, ind_tond, ind_geo):\n",
    "\n",
    "    lst_geo = []\n",
    "    i=0\n",
    "    for i in range(1, len(lst_one)):\n",
    "        try:\n",
    "            row = np_gnd[((np_gnd[:,ind_frnd] == lst_one[i-1]) \n",
    "                            & (np_gnd[:,ind_tond] == lst_one[i]))][0]\n",
    "        except:\n",
    "            row = np_gnd[((np_gnd[:,ind_tond] == lst_one[i-1]) \n",
    "                            & (np_gnd[:,ind_frnd] == lst_one[i]))][0]\n",
    "        #\n",
    "        geo = row[ind_geo]\n",
    "        one_line = geo.coords[:]\n",
    "        if len(lst_geo) > 0:\n",
    "            if geo.coords[0] != lst_geo[-1]:\n",
    "                one_line.reverse()\n",
    "        lst_geo = lst_geo + one_line\n",
    "    # \n",
    "\n",
    "    last_id = lst_one[-1]\n",
    "    lns = LineString(lst_geo)\n",
    "\n",
    "    lng_cut = 600\n",
    "    if lns.length > lng_cut:\n",
    "        cutted_line = cut(lns, lng_cut)[0]\n",
    "        lst_leftovers=[]\n",
    "    elif lns.length == lng_cut:\n",
    "        cutted_line = lns\n",
    "        lst_leftovers=[]\n",
    "    else:\n",
    "        cutted_line = lns\n",
    "        lst_leftovers = get_leftovers(np_gnd, ind_frnd, ind_tond, ind_geo, last_id, lns, lst_one, lng_cut)\n",
    "    #\n",
    "    lst_lines_one_end = [cutted_line] + lst_leftovers\n",
    "\n",
    "    return lst_lines_one_end"
   ]
  },
  {
   "cell_type": "code",
   "execution_count": null,
   "metadata": {},
   "outputs": [],
   "source": []
  },
  {
   "cell_type": "code",
   "execution_count": null,
   "metadata": {},
   "outputs": [],
   "source": []
  },
  {
   "cell_type": "code",
   "execution_count": null,
   "metadata": {},
   "outputs": [],
   "source": []
  },
  {
   "cell_type": "code",
   "execution_count": 20,
   "metadata": {},
   "outputs": [],
   "source": [
    "graph_notdir = graph[graph.direction == 'direct'].reset_index(drop=True)\n",
    "graph_notdir = graph_notdir[['link_id', 'from_node', 'to_node', 'geometry']]"
   ]
  },
  {
   "cell_type": "code",
   "execution_count": 21,
   "metadata": {},
   "outputs": [],
   "source": [
    "graph_notdir_32640 = graph_notdir.copy()\n",
    "graph_notdir_32640 = graph_notdir_32640.to_crs('epsg:32640')\n",
    "graph_notdir_32640['length'] = graph_notdir_32640.geometry.length\n",
    "fields = list(graph_notdir_32640.columns)"
   ]
  },
  {
   "cell_type": "code",
   "execution_count": 168,
   "metadata": {},
   "outputs": [],
   "source": [
    "graph2 = graph[['link_id', 'from_node', 'to_node', 'geometry']].copy()"
   ]
  },
  {
   "cell_type": "code",
   "execution_count": 169,
   "metadata": {},
   "outputs": [],
   "source": [
    "graph2_32640 = graph2.copy()\n",
    "graph2_32640 = graph2_32640.to_crs('epsg:32640')\n",
    "graph2_32640['length'] = graph2_32640.geometry.length\n",
    "fields2 = list(graph2_32640.columns)"
   ]
  },
  {
   "cell_type": "code",
   "execution_count": 170,
   "metadata": {},
   "outputs": [
    {
     "name": "stdout",
     "output_type": "stream",
     "text": [
      "Wall time: 44.4 s\n"
     ]
    }
   ],
   "source": [
    "%time GG = generate_graph(graph2_32640, fields2)"
   ]
  },
  {
   "cell_type": "code",
   "execution_count": 22,
   "metadata": {},
   "outputs": [
    {
     "name": "stdout",
     "output_type": "stream",
     "text": [
      "Wall time: 22.5 s\n"
     ]
    }
   ],
   "source": [
    "# https://github.com/martinfleis/momepy/blob/v0.3.0/momepy/utils.py#L117-L156\n",
    "%time G = generate_graph(graph_notdir_32640, fields)"
   ]
  },
  {
   "cell_type": "code",
   "execution_count": null,
   "metadata": {},
   "outputs": [],
   "source": [
    "np_gnd = graph_notdir_32640.to_numpy()\n",
    "ind_frnd = list(graph_notdir_32640.columns).index('from_node')\n",
    "ind_tond = list(graph_notdir_32640.columns).index('to_node')\n",
    "ind_geo = list(graph_notdir_32640.columns).index('geometry')\n",
    "ind_li = list(graph_notdir_32640.columns).index('link_id')\n"
   ]
  },
  {
   "cell_type": "code",
   "execution_count": null,
   "metadata": {},
   "outputs": [],
   "source": []
  },
  {
   "cell_type": "code",
   "execution_count": 222,
   "metadata": {},
   "outputs": [
    {
     "name": "stdout",
     "output_type": "stream",
     "text": [
      "Wall time: 152 ms\n"
     ]
    }
   ],
   "source": [
    "i=0\n",
    "for i in range(1):\n",
    "# for i in range(len(gdf_stops)):\n",
    "    one_stop_gdf = gdf_stops.iloc[[i]].reset_index(drop=True)\n",
    "    %time lst_paths_to_ends = get_one_stop_graph(one_stop_gdf, nodes, G)"
   ]
  },
  {
   "cell_type": "code",
   "execution_count": null,
   "metadata": {},
   "outputs": [],
   "source": []
  },
  {
   "cell_type": "code",
   "execution_count": null,
   "metadata": {},
   "outputs": [],
   "source": []
  },
  {
   "cell_type": "code",
   "execution_count": 341,
   "metadata": {},
   "outputs": [],
   "source": [
    "def get_one_stop_sprut(lst_paths_to_ends, np_gnd, ind_frnd, ind_tond, ind_geo):\n",
    "    lst_all_ends=[]\n",
    "    i=0\n",
    "    for i in range(len(lst_paths_to_ends)):\n",
    "        lst_one = lst_paths_to_ends[i]\n",
    "        lst_lines_one_end = get_one_end_lines(lst_one, np_gnd, ind_frnd, ind_tond, ind_geo)\n",
    "        lst_all_ends = lst_all_ends + lst_lines_one_end\n",
    "    # \n",
    "    sprut_ml_one_stop = MultiLineString(lst_all_ends)\n",
    "    return sprut_ml_one_stop"
   ]
  },
  {
   "cell_type": "code",
   "execution_count": 344,
   "metadata": {},
   "outputs": [
    {
     "name": "stdout",
     "output_type": "stream",
     "text": [
      "Wall time: 1.97 s\n"
     ]
    }
   ],
   "source": [
    "%time sprut_ml_one_stop = get_one_stop_sprut(lst_paths_to_ends, np_gnd, ind_frnd, ind_tond, ind_geo)"
   ]
  },
  {
   "cell_type": "code",
   "execution_count": null,
   "metadata": {},
   "outputs": [],
   "source": []
  },
  {
   "cell_type": "code",
   "execution_count": 346,
   "metadata": {},
   "outputs": [
    {
     "data": {
      "text/plain": [
       "25"
      ]
     },
     "execution_count": 346,
     "metadata": {},
     "output_type": "execute_result"
    }
   ],
   "source": [
    "len(lst_paths_to_ends)"
   ]
  },
  {
   "cell_type": "code",
   "execution_count": null,
   "metadata": {},
   "outputs": [],
   "source": []
  },
  {
   "cell_type": "code",
   "execution_count": 345,
   "metadata": {},
   "outputs": [
    {
     "data": {
      "image/svg+xml": [
       "<svg xmlns=\"http://www.w3.org/2000/svg\" xmlns:xlink=\"http://www.w3.org/1999/xlink\" width=\"300\" height=\"300\" viewBox=\"44607.76737341238 5914794.049518121 1172.3670458587003 788.0297233369201\" preserveAspectRatio=\"xMinYMin meet\"><g transform=\"matrix(1,0,0,-1,0,11830376.12875958)\"><g><polyline fill=\"none\" stroke=\"#66cc99\" stroke-width=\"7.815780305724669\" points=\"45197.88795279706,5915273.881917465 45232.9581979168,5915272.1189494375 45232.9581979168,5915272.1189494375 45231.9300532465,5915254.190559491 45231.837180408416,5915252.586111894\" opacity=\"0.8\" /><polyline fill=\"none\" stroke=\"#66cc99\" stroke-width=\"7.815780305724669\" points=\"45197.88795279706,5915273.881917465 45232.9581979168,5915272.1189494375 45232.9581979168,5915272.1189494375 45246.78674155567,5915271.423954285 45246.78674155567,5915271.423954285 45263.5085296536,5915270.586780577 45263.5085296536,5915270.586780577 45268.40736113733,5915263.060033693 45268.40736113733,5915263.060033693 45265.40752550715,5915252.165630466 45265.405592680036,5915250.597302642\" opacity=\"0.8\" /><polyline fill=\"none\" stroke=\"#66cc99\" stroke-width=\"7.815780305724669\" points=\"45184.88273215963,5915274.531922867 45197.88795279706,5915273.881917465 45184.88273215963,5915274.531922867 45177.281817190174,5915274.911565695 45177.281817190174,5915274.911565695 45166.7153680824,5915275.451613985 45166.7153680824,5915275.451613985 45132.072903445514,5915277.185355283 45132.072903445514,5915277.185355283 45092.35602520837,5915279.191890672 45092.35602520837,5915279.191890672 45092.78663385264,5915288.124881059 45095.15997139859,5915334.740617425 45095.15997139859,5915334.740617425 45097.99521118618,5915392.795991145\" opacity=\"0.8\" /><polyline fill=\"none\" stroke=\"#66cc99\" stroke-width=\"7.815780305724669\" points=\"45184.88273215963,5915274.531922867 45197.88795279706,5915273.881917465 45184.88273215963,5915274.531922867 45185.425666352035,5915282.389802373 45192.56819507858,5915398.930918718 45192.56819507858,5915398.930918718 45195.21521030832,5915437.722627888 45195.21521030832,5915437.722627888 45201.524997107976,5915538.6582397595\" opacity=\"0.8\" /><polyline fill=\"none\" stroke=\"#66cc99\" stroke-width=\"7.815780305724669\" points=\"45184.88273215963,5915274.531922867 45197.88795279706,5915273.881917465 45184.88273215963,5915274.531922867 45185.425666352035,5915282.389802373 45192.56819507858,5915398.930918718 45192.56819507858,5915398.930918718 45195.21521030832,5915437.722627888 45195.21521030832,5915437.722627888 45287.45871838683,5915432.318213014\" opacity=\"0.8\" /><polyline fill=\"none\" stroke=\"#66cc99\" stroke-width=\"7.815780305724669\" points=\"45197.88795279706,5915273.881917465 45232.9581979168,5915272.1189494375 45232.9581979168,5915272.1189494375 45246.78674155567,5915271.423954285 45246.78674155567,5915271.423954285 45263.5085296536,5915270.586780577 45263.5085296536,5915270.586780577 45271.23612695909,5915270.195161617 45271.23612695909,5915270.195161617 45279.19815966062,5915269.792342113 45279.19815966062,5915269.792342113 45313.44504744775,5915268.075084675 45313.44504744775,5915268.075084675 45351.60186310491,5915266.152318411 45369.52248376288,5915265.256920726 45369.52248376288,5915265.256920726 45385.511526362156,5915264.075692143 45399.43868363247,5915262.934771656 45399.43868363247,5915262.934771656 45693.77926813654,5915251.376596841\" opacity=\"0.8\" /><polyline fill=\"none\" stroke=\"#66cc99\" stroke-width=\"7.815780305724669\" points=\"45693.77926813654,5915251.376596841 45736.71341757261,5915249.246998445\" opacity=\"0.8\" /><polyline fill=\"none\" stroke=\"#66cc99\" stroke-width=\"7.815780305724669\" points=\"45698.14542990335,5915386.174717429 45694.902841493735,5915282.650454669\" opacity=\"0.8\" /><polyline fill=\"none\" stroke=\"#66cc99\" stroke-width=\"7.815780305724669\" points=\"45184.88273215963,5915274.531922867 45197.88795279706,5915273.881917465 45184.88273215963,5915274.531922867 45185.425666352035,5915282.389802373 45192.56819507858,5915398.930918718 45192.56819507858,5915398.930918718 45160.21777380252,5915400.770281674 45160.21777380252,5915400.770281674 45163.32156174147,5915459.2480498515 45163.32156174147,5915459.2480498515 45122.06134048232,5915461.704686567 45126.14912333165,5915528.704043665\" opacity=\"0.8\" /><polyline fill=\"none\" stroke=\"#66cc99\" stroke-width=\"7.815780305724669\" points=\"45184.88273215963,5915274.531922867 45197.88795279706,5915273.881917465 45184.88273215963,5915274.531922867 45185.425666352035,5915282.389802373 45192.56819507858,5915398.930918718 45192.56819507858,5915398.930918718 45160.21777380252,5915400.770281674 45160.21777380252,5915400.770281674 45163.32156174147,5915459.2480498515 45163.32156174147,5915459.2480498515 45167.26752675552,5915524.770827773\" opacity=\"0.8\" /><polyline fill=\"none\" stroke=\"#66cc99\" stroke-width=\"7.815780305724669\" points=\"45184.88273215963,5915274.531922867 45197.88795279706,5915273.881917465 45184.88273215963,5915274.531922867 45177.281817190174,5915274.911565695 45177.281817190174,5915274.911565695 45166.7153680824,5915275.451613985 45166.7153680824,5915275.451613985 45132.072903445514,5915277.185355283 45132.072903445514,5915277.185355283 45131.51577388169,5915260.175396692 45123.71182169864,5915112.315880202 45123.71182169864,5915112.315880202 45134.10420747264,5915111.781235584 45169.58710731921,5915109.676013579 45168.05305435741,5915083.78535743\" opacity=\"0.8\" /><polyline fill=\"none\" stroke=\"#66cc99\" stroke-width=\"7.815780305724669\" points=\"45184.88273215963,5915274.531922867 45197.88795279706,5915273.881917465 45184.88273215963,5915274.531922867 45177.281817190174,5915274.911565695 45177.281817190174,5915274.911565695 45166.7153680824,5915275.451613985 45166.7153680824,5915275.451613985 45132.072903445514,5915277.185355283 45132.072903445514,5915277.185355283 45131.51577388169,5915260.175396692 45123.71182169864,5915112.315880202 45123.71182169864,5915112.315880202 45122.916547739296,5915093.659353978 45122.916547739296,5915093.659353978 45119.36668377416,5915025.5890817065 45119.36668377416,5915025.5890817065 45130.06174783851,5915024.980691664 45133.42646826868,5915024.77091573 45162.507186686096,5915023.334082942\" opacity=\"0.8\" /><polyline fill=\"none\" stroke=\"#66cc99\" stroke-width=\"7.815780305724669\" points=\"45197.88795279706,5915273.881917465 45232.9581979168,5915272.1189494375 45232.9581979168,5915272.1189494375 45246.78674155567,5915271.423954285 45246.78674155567,5915271.423954285 45263.5085296536,5915270.586780577 45263.5085296536,5915270.586780577 45271.23612695909,5915270.195161617 45271.23612695909,5915270.195161617 45279.19815966062,5915269.792342113 45279.19815966062,5915269.792342113 45313.44504744775,5915268.075084675 45313.44504744775,5915268.075084675 45351.60186310491,5915266.152318411 45369.52248376288,5915265.256920726 45369.52248376288,5915265.256920726 45385.511526362156,5915264.075692143 45399.43868363247,5915262.934771656 45399.43868363247,5915262.934771656 45398.76908186643,5915234.250304639 45395.9420846515,5915161.809094486 45395.60635663959,5915153.158388142 45395.60635663959,5915153.158388142 45394.9922570287,5915137.442405991 45394.9922570287,5915137.442405991 45388.98414452502,5914978.992703581\" opacity=\"0.8\" /><polyline fill=\"none\" stroke=\"#66cc99\" stroke-width=\"7.815780305724669\" points=\"45388.98414452502,5914978.992703581 45385.44503187976,5914886.352289161\" opacity=\"0.8\" /><polyline fill=\"none\" stroke=\"#66cc99\" stroke-width=\"7.815780305724669\" points=\"45388.98414452502,5914978.992703581 45396.00489876332,5914978.523274248 45418.189547337184,5914977.030176021\" opacity=\"0.8\" /><polyline fill=\"none\" stroke=\"#66cc99\" stroke-width=\"7.815780305724669\" points=\"45197.88795279706,5915273.881917465 45232.9581979168,5915272.1189494375 45232.9581979168,5915272.1189494375 45246.78674155567,5915271.423954285 45246.78674155567,5915271.423954285 45263.5085296536,5915270.586780577 45263.5085296536,5915270.586780577 45271.23612695909,5915270.195161617 45271.23612695909,5915270.195161617 45279.19815966062,5915269.792342113 45279.19815966062,5915269.792342113 45313.44504744775,5915268.075084675 45313.44504744775,5915268.075084675 45351.60186310491,5915266.152318411 45369.52248376288,5915265.256920726 45369.52248376288,5915265.256920726 45370.258869586454,5915280.4906754885 45373.57796027465,5915348.358644266 45375.44844161917,5915386.574659867 45375.44844161917,5915386.574659867 45377.724051783036,5915430.364965751 45377.724051783036,5915430.364965751 45362.400799919444,5915431.325797596 45355.01080383727,5915431.79706719 45298.96990089369,5915435.329231672\" opacity=\"0.8\" /><polyline fill=\"none\" stroke=\"#66cc99\" stroke-width=\"7.815780305724669\" points=\"45197.88795279706,5915273.881917465 45232.9581979168,5915272.1189494375 45232.9581979168,5915272.1189494375 45246.78674155567,5915271.423954285 45246.78674155567,5915271.423954285 45263.5085296536,5915270.586780577 45263.5085296536,5915270.586780577 45271.23612695909,5915270.195161617 45271.23612695909,5915270.195161617 45279.19815966062,5915269.792342113 45279.19815966062,5915269.792342113 45313.44504744775,5915268.075084675 45313.44504744775,5915268.075084675 45351.60186310491,5915266.152318411 45369.52248376288,5915265.256920726 45369.52248376288,5915265.256920726 45385.511526362156,5915264.075692143 45399.43868363247,5915262.934771656 45399.43868363247,5915262.934771656 45398.76908186643,5915234.250304639 45395.9420846515,5915161.809094486 45395.60635663959,5915153.158388142 45395.60635663959,5915153.158388142 45402.824471226835,5915152.714879087 45439.38792891358,5915152.558574784 45439.38792891358,5915152.558574784 45476.75876519625,5915215.905728543\" opacity=\"0.8\" /><polyline fill=\"none\" stroke=\"#66cc99\" stroke-width=\"7.815780305724669\" points=\"45197.88795279706,5915273.881917465 45232.9581979168,5915272.1189494375 45232.9581979168,5915272.1189494375 45246.78674155567,5915271.423954285 45246.78674155567,5915271.423954285 45263.5085296536,5915270.586780577 45263.5085296536,5915270.586780577 45271.23612695909,5915270.195161617 45271.23612695909,5915270.195161617 45279.19815966062,5915269.792342113 45279.19815966062,5915269.792342113 45313.44504744775,5915268.075084675 45313.44504744775,5915268.075084675 45351.60186310491,5915266.152318411 45369.52248376288,5915265.256920726 45369.52248376288,5915265.256920726 45385.511526362156,5915264.075692143 45399.43868363247,5915262.934771656 45399.43868363247,5915262.934771656 45398.76908186643,5915234.250304639 45395.9420846515,5915161.809094486 45395.60635663959,5915153.158388142 45395.60635663959,5915153.158388142 45402.824471226835,5915152.714879087 45439.38792891358,5915152.558574784 45439.38792891358,5915152.558574784 45477.797103945224,5915149.537282741 45477.797103945224,5915149.537282741 45511.1276148085,5915123.720635143\" opacity=\"0.8\" /><polyline fill=\"none\" stroke=\"#66cc99\" stroke-width=\"7.815780305724669\" points=\"45197.88795279706,5915273.881917465 45232.9581979168,5915272.1189494375 45232.9581979168,5915272.1189494375 45246.78674155567,5915271.423954285 45246.78674155567,5915271.423954285 45263.5085296536,5915270.586780577 45263.5085296536,5915270.586780577 45271.23612695909,5915270.195161617 45271.23612695909,5915270.195161617 45279.19815966062,5915269.792342113 45279.19815966062,5915269.792342113 45313.44504744775,5915268.075084675 45313.44504744775,5915268.075084675 45351.60186310491,5915266.152318411 45369.52248376288,5915265.256920726 45369.52248376288,5915265.256920726 45385.511526362156,5915264.075692143 45399.43868363247,5915262.934771656 45399.43868363247,5915262.934771656 45398.76908186643,5915234.250304639 45395.9420846515,5915161.809094486 45395.60635663959,5915153.158388142 45395.60635663959,5915153.158388142 45402.824471226835,5915152.714879087 45439.38792891358,5915152.558574784 45439.38792891358,5915152.558574784 45477.797103945224,5915149.537282741 45477.797103945224,5915149.537282741 45435.080071379314,5915078.836137012\" opacity=\"0.8\" /><polyline fill=\"none\" stroke=\"#66cc99\" stroke-width=\"7.815780305724669\" points=\"45184.88273215963,5915274.531922867 45197.88795279706,5915273.881917465 45184.88273215963,5915274.531922867 45177.281817190174,5915274.911565695 45177.281817190174,5915274.911565695 45166.7153680824,5915275.451613985 45166.7153680824,5915275.451613985 45132.072903445514,5915277.185355283 45132.072903445514,5915277.185355283 45131.51577388169,5915260.175396692 45123.71182169864,5915112.315880202 45123.71182169864,5915112.315880202 45122.916547739296,5915093.659353978 45122.916547739296,5915093.659353978 45119.36668377416,5915025.5890817065 45119.36668377416,5915025.5890817065 45115.19303156092,5914942.34144968 45115.19303156092,5914942.34144968 45126.184576130356,5914941.805555346 45207.799838510924,5914937.608009274\" opacity=\"0.8\" /><polyline fill=\"none\" stroke=\"#66cc99\" stroke-width=\"7.815780305724669\" points=\"45197.88795279706,5915273.881917465 45232.9581979168,5915272.1189494375 45232.9581979168,5915272.1189494375 45246.78674155567,5915271.423954285 45246.78674155567,5915271.423954285 45263.5085296536,5915270.586780577 45263.5085296536,5915270.586780577 45271.23612695909,5915270.195161617 45271.23612695909,5915270.195161617 45279.19815966062,5915269.792342113 45279.19815966062,5915269.792342113 45313.44504744775,5915268.075084675 45313.44504744775,5915268.075084675 45351.60186310491,5915266.152318411 45369.52248376288,5915265.256920726 45369.52248376288,5915265.256920726 45370.258869586454,5915280.4906754885 45373.57796027465,5915348.358644266 45375.44844161917,5915386.574659867 45375.44844161917,5915386.574659867 45377.724051783036,5915430.364965751 45377.724051783036,5915430.364965751 45381.381524063705,5915500.6429950725 45381.381524063705,5915500.6429950725 45365.707541978976,5915501.59256721 45351.4579836413,5915502.450813148\" opacity=\"0.8\" /><polyline fill=\"none\" stroke=\"#66cc99\" stroke-width=\"7.815780305724669\" points=\"45197.88795279706,5915273.881917465 45232.9581979168,5915272.1189494375 45232.9581979168,5915272.1189494375 45246.78674155567,5915271.423954285 45246.78674155567,5915271.423954285 45263.5085296536,5915270.586780577 45263.5085296536,5915270.586780577 45271.23612695909,5915270.195161617 45271.23612695909,5915270.195161617 45279.19815966062,5915269.792342113 45279.19815966062,5915269.792342113 45313.44504744775,5915268.075084675 45313.44504744775,5915268.075084675 45351.60186310491,5915266.152318411 45369.52248376288,5915265.256920726 45369.52248376288,5915265.256920726 45385.511526362156,5915264.075692143 45399.43868363247,5915262.934771656 45399.43868363247,5915262.934771656 45398.76908186643,5915234.250304639 45395.9420846515,5915161.809094486 45395.60635663959,5915153.158388142 45395.60635663959,5915153.158388142 45402.824471226835,5915152.714879087 45439.38792891358,5915152.558574784 45439.38792891358,5915152.558574784 45477.797103945224,5915149.537282741 45477.797103945224,5915149.537282741 45502.461742488784,5915148.726126244 45502.461742488784,5915148.726126244 45539.07696975587,5915208.964043425\" opacity=\"0.8\" /><polyline fill=\"none\" stroke=\"#66cc99\" stroke-width=\"7.815780305724669\" points=\"45197.88795279706,5915273.881917465 45232.9581979168,5915272.1189494375 45232.9581979168,5915272.1189494375 45246.78674155567,5915271.423954285 45246.78674155567,5915271.423954285 45263.5085296536,5915270.586780577 45263.5085296536,5915270.586780577 45271.23612695909,5915270.195161617 45271.23612695909,5915270.195161617 45279.19815966062,5915269.792342113 45279.19815966062,5915269.792342113 45313.44504744775,5915268.075084675 45313.44504744775,5915268.075084675 45351.60186310491,5915266.152318411 45369.52248376288,5915265.256920726 45369.52248376288,5915265.256920726 45385.511526362156,5915264.075692143 45399.43868363247,5915262.934771656 45399.43868363247,5915262.934771656 45398.76908186643,5915234.250304639 45395.9420846515,5915161.809094486 45395.60635663959,5915153.158388142 45395.60635663959,5915153.158388142 45402.824471226835,5915152.714879087 45439.38792891358,5915152.558574784 45439.38792891358,5915152.558574784 45477.797103945224,5915149.537282741 45477.797103945224,5915149.537282741 45502.461742488784,5915148.726126244 45502.461742488784,5915148.726126244 45555.33775089047,5915146.406759212\" opacity=\"0.8\" /><polyline fill=\"none\" stroke=\"#66cc99\" stroke-width=\"7.815780305724669\" points=\"45555.33775089047,5915146.406759212 45592.197814308456,5915144.497928407\" opacity=\"0.8\" /><polyline fill=\"none\" stroke=\"#66cc99\" stroke-width=\"7.815780305724669\" points=\"45555.33775089047,5915146.406759212 45591.27867525793,5915209.947236658\" opacity=\"0.8\" /><polyline fill=\"none\" stroke=\"#66cc99\" stroke-width=\"7.815780305724669\" points=\"45197.88795279706,5915273.881917465 45232.9581979168,5915272.1189494375 45232.9581979168,5915272.1189494375 45246.78674155567,5915271.423954285 45246.78674155567,5915271.423954285 45263.5085296536,5915270.586780577 45263.5085296536,5915270.586780577 45271.23612695909,5915270.195161617 45271.23612695909,5915270.195161617 45279.19815966062,5915269.792342113 45279.19815966062,5915269.792342113 45313.44504744775,5915268.075084675 45313.44504744775,5915268.075084675 45351.60186310491,5915266.152318411 45369.52248376288,5915265.256920726 45369.52248376288,5915265.256920726 45368.43123916257,5915236.175798899 45365.0595095887,5915146.2865555845 45364.79807217949,5915139.398913785 45364.79807217949,5915139.398913785 45359.731016739504,5915011.288162668 45359.731016739504,5915011.288162668 45341.31768151146,5915012.600277992 45326.89481143735,5915013.63179926\" opacity=\"0.8\" /><polyline fill=\"none\" stroke=\"#66cc99\" stroke-width=\"7.815780305724669\" points=\"45326.89481143735,5915013.63179926 45320.96155674686,5914929.18590078 45283.11868960996,5914971.029091705\" opacity=\"0.8\" /><polyline fill=\"none\" stroke=\"#66cc99\" stroke-width=\"7.815780305724669\" points=\"45261.60424729419,5915017.386952378 45326.89481143735,5915013.63179926\" opacity=\"0.8\" /><polyline fill=\"none\" stroke=\"#66cc99\" stroke-width=\"7.815780305724669\" points=\"45184.88273215963,5915274.531922867 45197.88795279706,5915273.881917465 45184.88273215963,5915274.531922867 45177.281817190174,5915274.911565695 45177.281817190174,5915274.911565695 45166.7153680824,5915275.451613985 45166.7153680824,5915275.451613985 45132.072903445514,5915277.185355283 45132.072903445514,5915277.185355283 45131.51577388169,5915260.175396692 45123.71182169864,5915112.315880202 45123.71182169864,5915112.315880202 45122.916547739296,5915093.659353978 45122.916547739296,5915093.659353978 45119.36668377416,5915025.5890817065 45119.36668377416,5915025.5890817065 45115.19303156092,5914942.34144968 45115.19303156092,5914942.34144968 45113.777013113955,5914914.097916733 45113.777013113955,5914914.097916733 45107.148501350835,5914914.5190257 45083.106458246824,5914916.157569121 45077.824638765305,5914919.542131943\" opacity=\"0.8\" /><polyline fill=\"none\" stroke=\"#66cc99\" stroke-width=\"7.815780305724669\" points=\"45028.58385723963,5914920.85760423 45040.4622738419,5914925.3007644685 45072.117286382185,5914923.191479233 45077.824638765305,5914919.542131943\" opacity=\"0.8\" /><polyline fill=\"none\" stroke=\"#66cc99\" stroke-width=\"7.815780305724669\" points=\"45072.8344471514,5914837.47051982 45077.824638765305,5914919.542131943\" opacity=\"0.8\" /><polyline fill=\"none\" stroke=\"#66cc99\" stroke-width=\"7.815780305724669\" points=\"45077.824638765305,5914919.542131943 45081.62612871622,5914992.8429127475\" opacity=\"0.8\" /><polyline fill=\"none\" stroke=\"#66cc99\" stroke-width=\"7.815780305724669\" points=\"45184.88273215963,5915274.531922867 45197.88795279706,5915273.881917465 45184.88273215963,5915274.531922867 45177.281817190174,5915274.911565695 45177.281817190174,5915274.911565695 45166.7153680824,5915275.451613985 45166.7153680824,5915275.451613985 45132.072903445514,5915277.185355283 45132.072903445514,5915277.185355283 45131.51577388169,5915260.175396692 45123.71182169864,5915112.315880202 45123.71182169864,5915112.315880202 45122.916547739296,5915093.659353978 45122.916547739296,5915093.659353978 45119.36668377416,5915025.5890817065 45119.36668377416,5915025.5890817065 45115.19303156092,5914942.34144968 45115.19303156092,5914942.34144968 45113.777013113955,5914914.097916733 45113.777013113955,5914914.097916733 45124.86970974866,5914913.563558194 45155.54905131878,5914911.525742628\" opacity=\"0.8\" /><polyline fill=\"none\" stroke=\"#66cc99\" stroke-width=\"7.815780305724669\" points=\"45155.54905131878,5914911.525742628 45152.55954943551,5914845.575475146 45202.09830410681,5914842.131738379\" opacity=\"0.8\" /><polyline fill=\"none\" stroke=\"#66cc99\" stroke-width=\"7.815780305724669\" points=\"45155.54905131878,5914911.525742628 45182.4368169611,5914909.7386719715 45204.79892282712,5914904.396009752\" opacity=\"0.8\" /><polyline fill=\"none\" stroke=\"#66cc99\" stroke-width=\"7.815780305724669\" points=\"45184.88273215963,5915274.531922867 45197.88795279706,5915273.881917465 45184.88273215963,5915274.531922867 45177.281817190174,5915274.911565695 45177.281817190174,5915274.911565695 45166.7153680824,5915275.451613985 45166.7153680824,5915275.451613985 45132.072903445514,5915277.185355283 45132.072903445514,5915277.185355283 45092.35602520837,5915279.191890672 45092.35602520837,5915279.191890672 44919.366384033114,5915287.945339682 44909.656579278,5915288.437591724 44909.656579278,5915288.437591724 44899.32695736049,5915288.921957421 44880.34771318111,5915289.797195248 44880.34771318111,5915289.797195248 44768.91742297285,5915294.726504347 44768.91742297285,5915294.726504347 44768.47429303848,5915277.515017683 44767.847717725206,5915262.3938019285 44763.199347950576,5915252.004669405\" opacity=\"0.8\" /><polyline fill=\"none\" stroke=\"#66cc99\" stroke-width=\"7.815780305724669\" points=\"44763.199347950576,5915252.004669405 44761.50547604874,5915211.183191297 44760.283588967635,5915180.915361608\" opacity=\"0.8\" /><polyline fill=\"none\" stroke=\"#66cc99\" stroke-width=\"7.815780305724669\" points=\"44763.199347950576,5915252.004669405 44724.825208284776,5915253.706413805\" opacity=\"0.8\" /><polyline fill=\"none\" stroke=\"#66cc99\" stroke-width=\"7.815780305724669\" points=\"45184.88273215963,5915274.531922867 45197.88795279706,5915273.881917465 45184.88273215963,5915274.531922867 45177.281817190174,5915274.911565695 45177.281817190174,5915274.911565695 45166.7153680824,5915275.451613985 45166.7153680824,5915275.451613985 45132.072903445514,5915277.185355283 45132.072903445514,5915277.185355283 45092.35602520837,5915279.191890672 45092.35602520837,5915279.191890672 44919.366384033114,5915287.945339682 44909.656579278,5915288.437591724 44909.656579278,5915288.437591724 44899.32695736049,5915288.921957421 44880.34771318111,5915289.797195248 44880.34771318111,5915289.797195248 44768.91742297285,5915294.726504347 44768.91742297285,5915294.726504347 44706.79693649494,5915297.480470541\" opacity=\"0.8\" /><polyline fill=\"none\" stroke=\"#66cc99\" stroke-width=\"7.815780305724669\" points=\"44651.188375110854,5915299.93661888 44706.79693649494,5915297.480470541\" opacity=\"0.8\" /><polyline fill=\"none\" stroke=\"#66cc99\" stroke-width=\"7.815780305724669\" points=\"44709.4902714832,5915353.443567451 44707.32843822776,5915313.57434285 44706.79693649494,5915297.480470541\" opacity=\"0.8\" /><polyline fill=\"none\" stroke=\"#66cc99\" stroke-width=\"7.815780305724669\" points=\"45184.88273215963,5915274.531922867 45197.88795279706,5915273.881917465 45184.88273215963,5915274.531922867 45177.281817190174,5915274.911565695 45177.281817190174,5915274.911565695 45166.7153680824,5915275.451613985 45166.7153680824,5915275.451613985 45132.072903445514,5915277.185355283 45132.072903445514,5915277.185355283 45092.35602520837,5915279.191890672 45092.35602520837,5915279.191890672 44919.366384033114,5915287.945339682 44909.656579278,5915288.437591724 44909.656579278,5915288.437591724 44910.190000650124,5915302.660168777 44915.08072505373,5915416.201886799 44915.08072505373,5915416.201886799 44904.38117753406,5915416.7552963095 44881.093298282765,5915417.953328576 44881.093298282765,5915417.953328576 44880.634308141365,5915406.759843361\" opacity=\"0.8\" /><polyline fill=\"none\" stroke=\"#66cc99\" stroke-width=\"7.815780305724669\" points=\"44880.634308141365,5915406.759843361 44832.67348580866,5915409.098347887\" opacity=\"0.8\" /><polyline fill=\"none\" stroke=\"#66cc99\" stroke-width=\"7.815780305724669\" points=\"44880.634308141365,5915406.759843361 44878.13021922938,5915345.513039815 44854.3114558325,5915346.700586333\" opacity=\"0.8\" /></g></g></svg>"
      ],
      "text/plain": [
       "<shapely.geometry.multilinestring.MultiLineString at 0x2c32d739ec8>"
      ]
     },
     "execution_count": 345,
     "metadata": {},
     "output_type": "execute_result"
    }
   ],
   "source": [
    "sprut_ml_one_stop"
   ]
  },
  {
   "cell_type": "code",
   "execution_count": null,
   "metadata": {},
   "outputs": [],
   "source": []
  },
  {
   "cell_type": "code",
   "execution_count": 240,
   "metadata": {},
   "outputs": [],
   "source": [
    "i=-2\n",
    "lst_one = lst_paths_to_ends[i]"
   ]
  },
  {
   "cell_type": "code",
   "execution_count": null,
   "metadata": {},
   "outputs": [],
   "source": []
  },
  {
   "cell_type": "code",
   "execution_count": 334,
   "metadata": {},
   "outputs": [],
   "source": [
    "lst_lines_one_end = get_one_end_lines(lst_one, np_gnd, ind_frnd, ind_tond, ind_geo)"
   ]
  },
  {
   "cell_type": "code",
   "execution_count": null,
   "metadata": {},
   "outputs": [],
   "source": []
  },
  {
   "cell_type": "code",
   "execution_count": 335,
   "metadata": {},
   "outputs": [
    {
     "data": {
      "text/plain": [
       "[<shapely.geometry.linestring.LineString at 0x2c32d739a48>,\n",
       " <shapely.geometry.linestring.LineString at 0x2c32d1a30c8>,\n",
       " <shapely.geometry.linestring.LineString at 0x2c32d1e9888>]"
      ]
     },
     "execution_count": 335,
     "metadata": {},
     "output_type": "execute_result"
    }
   ],
   "source": [
    "lst_lines_one_end"
   ]
  },
  {
   "cell_type": "code",
   "execution_count": null,
   "metadata": {},
   "outputs": [],
   "source": []
  },
  {
   "cell_type": "code",
   "execution_count": null,
   "metadata": {},
   "outputs": [],
   "source": []
  },
  {
   "cell_type": "code",
   "execution_count": null,
   "metadata": {},
   "outputs": [],
   "source": []
  },
  {
   "cell_type": "code",
   "execution_count": null,
   "metadata": {},
   "outputs": [],
   "source": [
    "#  для обрезки:\n",
    "# начало - всегда одно и то же\n",
    "# найти концы - нет соседей?\n",
    "# на концах найти следующее ребро, которого нет в эго\n",
    "# построить кратчайший путь от начала до конца\n",
    "# из последовательности сделать линию\n",
    "# обрезать линию по длине"
   ]
  },
  {
   "cell_type": "code",
   "execution_count": null,
   "metadata": {},
   "outputs": [],
   "source": []
  },
  {
   "cell_type": "code",
   "execution_count": null,
   "metadata": {},
   "outputs": [],
   "source": []
  },
  {
   "cell_type": "code",
   "execution_count": null,
   "metadata": {},
   "outputs": [],
   "source": []
  },
  {
   "cell_type": "code",
   "execution_count": null,
   "metadata": {},
   "outputs": [],
   "source": []
  }
 ],
 "metadata": {
  "kernelspec": {
   "display_name": "Python 3",
   "language": "python",
   "name": "python3"
  },
  "language_info": {
   "codemirror_mode": {
    "name": "ipython",
    "version": 3
   },
   "file_extension": ".py",
   "mimetype": "text/x-python",
   "name": "python",
   "nbconvert_exporter": "python",
   "pygments_lexer": "ipython3",
   "version": "3.7.6"
  }
 },
 "nbformat": 4,
 "nbformat_minor": 4
}
