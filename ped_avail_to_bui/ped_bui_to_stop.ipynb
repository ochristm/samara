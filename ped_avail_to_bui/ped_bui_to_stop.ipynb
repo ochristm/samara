{
 "cells": [
  {
   "cell_type": "code",
   "execution_count": 1,
   "metadata": {},
   "outputs": [],
   "source": [
    "import numpy as np\n",
    "import pandas as pd\n",
    "import geopandas as gpd\n",
    "import shapely\n",
    "from shapely.geometry import Point, LineString, MultiLineString, Polygon, MultiPolygon\n",
    "from tqdm.notebook import tqdm\n",
    "import time\n",
    "from datetime import datetime\n",
    "\n",
    "import momepy as mm\n",
    "import momepy\n",
    "import networkx as nx\n",
    "\n",
    "import math\n",
    "\n",
    "from contextlib import redirect_stdout\n",
    "\n",
    "import io\n",
    "import sys\n",
    "\n",
    "from shapely.ops import nearest_points\n",
    "from shapely.ops import unary_union"
   ]
  },
  {
   "cell_type": "code",
   "execution_count": null,
   "metadata": {},
   "outputs": [],
   "source": []
  },
  {
   "cell_type": "code",
   "execution_count": null,
   "metadata": {},
   "outputs": [],
   "source": [
    "# проверка остановки в буффере - если даже по вохдуху не попадает - не искать"
   ]
  },
  {
   "cell_type": "code",
   "execution_count": null,
   "metadata": {},
   "outputs": [],
   "source": []
  },
  {
   "cell_type": "code",
   "execution_count": 2,
   "metadata": {},
   "outputs": [],
   "source": [
    "graph = gpd.read_file('../lines_to_graph/with_ped/new_graph_with_ped.json',\n",
    "                        encoding='utf-8')"
   ]
  },
  {
   "cell_type": "code",
   "execution_count": 3,
   "metadata": {},
   "outputs": [],
   "source": [
    "nodes = gpd.read_file('../lines_to_graph/with_ped/all_nodes_with_ped.json',\n",
    "                        encoding='utf-8')"
   ]
  },
  {
   "cell_type": "code",
   "execution_count": 4,
   "metadata": {},
   "outputs": [],
   "source": [
    "buildings = gpd.read_file('./all_bui.json',encoding='utf-8')"
   ]
  },
  {
   "cell_type": "code",
   "execution_count": 5,
   "metadata": {},
   "outputs": [],
   "source": [
    "stps_big = pd.read_csv('../lines_to_graph/total/df_stop_seq_all_n_samobl.csv',\n",
    "                        encoding='utf-8', sep=';')"
   ]
  },
  {
   "cell_type": "code",
   "execution_count": 6,
   "metadata": {},
   "outputs": [],
   "source": [
    "stps_big = stps_big[['stop_id', 'stop_name', 'lat', 'lon']]\n",
    "stps_big = stps_big.drop_duplicates(subset=['stop_id']).reset_index(drop=True)"
   ]
  },
  {
   "cell_type": "code",
   "execution_count": 7,
   "metadata": {},
   "outputs": [
    {
     "data": {
      "application/vnd.jupyter.widget-view+json": {
       "model_id": "6119cf0aa5dd49de9f8f65defbc15bf0",
       "version_major": 2,
       "version_minor": 0
      },
      "text/plain": [
       "HBox(children=(FloatProgress(value=0.0, max=7242.0), HTML(value='')))"
      ]
     },
     "metadata": {},
     "output_type": "display_data"
    },
    {
     "name": "stdout",
     "output_type": "stream",
     "text": [
      "\n"
     ]
    }
   ],
   "source": [
    "lst_geo=[]\n",
    "lst_lat=list(stps_big.lat)\n",
    "lst_lon=list(stps_big.lon)\n",
    "i=0\n",
    "for i in tqdm(range(len(stps_big))):\n",
    "    one_pt = Point(lst_lon[i], lst_lat[i])\n",
    "    lst_geo.append(one_pt)\n",
    "# "
   ]
  },
  {
   "cell_type": "code",
   "execution_count": 8,
   "metadata": {},
   "outputs": [],
   "source": [
    "gdf_stops_all = gpd.GeoDataFrame(stps_big, geometry=lst_geo)\n",
    "gdf_stops_all.crs='epsg:4326'"
   ]
  },
  {
   "cell_type": "code",
   "execution_count": 9,
   "metadata": {},
   "outputs": [],
   "source": [
    "border_sa = gpd.read_file('./data/outer_border_SA.shp',encoding='utf-8')"
   ]
  },
  {
   "cell_type": "code",
   "execution_count": 10,
   "metadata": {},
   "outputs": [],
   "source": [
    "gdf_stops = gpd.sjoin(gdf_stops_all, border_sa[['geometry']], how='inner', op='intersects')\n",
    "gdf_stops = gdf_stops.drop('index_right', axis=1).reset_index(drop=True)"
   ]
  },
  {
   "cell_type": "code",
   "execution_count": null,
   "metadata": {},
   "outputs": [],
   "source": []
  },
  {
   "cell_type": "code",
   "execution_count": 11,
   "metadata": {},
   "outputs": [],
   "source": [
    "# убрать жд пути из графа\n",
    "graph_ped = graph[graph.type_ped != 'no_ped'].reset_index(drop=True)[['link_id', 'geometry']]"
   ]
  },
  {
   "cell_type": "code",
   "execution_count": 12,
   "metadata": {},
   "outputs": [],
   "source": [
    "shrt_bui = buildings[['osm_id', 'geometry']].copy()"
   ]
  },
  {
   "cell_type": "code",
   "execution_count": null,
   "metadata": {},
   "outputs": [],
   "source": []
  },
  {
   "cell_type": "code",
   "execution_count": 13,
   "metadata": {},
   "outputs": [],
   "source": [
    "def intersect_using_spatial_index(source_gdf, intersecting_gdf):\n",
    "    \"\"\"\n",
    "    Conduct spatial intersection using spatial index for candidates GeoDataFrame to make queries faster.\n",
    "    Note, with this function, you can have multiple Polygons in the 'intersecting_gdf' and it will return all the points\n",
    "    intersect with ANY of those geometries.\n",
    "    \"\"\"\n",
    "    source_sindex = source_gdf.sindex\n",
    "    possible_matches_index = []\n",
    "\n",
    "    # 'itertuples()' function is a faster version of 'iterrows()'\n",
    "    for other in intersecting_gdf.itertuples():\n",
    "        bounds = other.geometry.bounds\n",
    "        c = list(source_sindex.intersection(bounds))\n",
    "        possible_matches_index += c\n",
    "\n",
    "    # Get unique candidates\n",
    "    unique_candidate_matches = list(set(possible_matches_index))\n",
    "    possible_matches = source_gdf.iloc[unique_candidate_matches]\n",
    "\n",
    "    # Conduct the actual intersect\n",
    "    result = possible_matches.loc[possible_matches.intersects(intersecting_gdf.unary_union)]\n",
    "    return result\n",
    "########"
   ]
  },
  {
   "cell_type": "code",
   "execution_count": 14,
   "metadata": {},
   "outputs": [],
   "source": [
    "def find_closest_stop(gdf_one_bui, gdf_stops, gdf_buff):\n",
    "    uu_stops = gdf_stops.geometry.unary_union\n",
    "    centr_bui = gdf_one_bui.geometry[0].centroid\n",
    "    nrst_pt = nearest_points(centr_bui, uu_stops)[1]\n",
    "    \n",
    "    nearest_stop_id = list(gdf_stops[gdf_stops.geometry == nrst_pt]['stop_id'])[0]\n",
    "    nearest_stop_geo = list(gdf_stops[gdf_stops.geometry == nrst_pt]['geometry'])[0]\n",
    "    if gdf_buff.geometry[0].intersects(nearest_stop_geo):\n",
    "        return [nearest_stop_id, nearest_stop_geo]\n",
    "    else:\n",
    "        return []"
   ]
  },
  {
   "cell_type": "code",
   "execution_count": 15,
   "metadata": {},
   "outputs": [],
   "source": [
    "def get_closest_node(gdf_obj, linkid, graph_in_buff):\n",
    "    line_geo = list(graph_in_buff[graph_in_buff.link_id == linkid]['geometry'])[0]\n",
    "    start = Point(line_geo.coords[0])\n",
    "    end = Point(line_geo.coords[-1])\n",
    "    obj_centr = gdf_obj['geometry'][0]#.centroid\n",
    "\n",
    "    if start.distance(obj_centr) < end.distance(obj_centr):\n",
    "        return start\n",
    "    else:\n",
    "        return end\n",
    "# "
   ]
  },
  {
   "cell_type": "code",
   "execution_count": 16,
   "metadata": {},
   "outputs": [],
   "source": [
    "def get_shrt_pth(gdf_one_bui, gdf_buff, gdf_stops, graph_ped):\n",
    "\n",
    "    try:\n",
    "        nearest_stop = find_closest_stop(gdf_one_bui, gdf_stops, gdf_buff)\n",
    "    except:\n",
    "        nearest_stop = []\n",
    "    #\n",
    "    if nearest_stop != []:\n",
    "        gdf_near_stop = gpd.GeoDataFrame(data=[nearest_stop], columns=['stop_id', 'geometry'])\n",
    "        gdf_near_stop.crs=graph_ped.crs\n",
    "        graph_in_buff = intersect_using_spatial_index(graph_ped, gdf_buff[['geometry']])\n",
    "        centr_bui = gdf_one_bui.copy()\n",
    "        centr_bui.geometry = centr_bui.geometry.centroid\n",
    "\n",
    "        text_trap = io.StringIO()\n",
    "        with redirect_stdout(text_trap):\n",
    "            closest_link_bui = mm.get_network_id(gdf_one_bui, graph_in_buff, 'link_id')[0]\n",
    "            closest_link_stop = mm.get_network_id(gdf_near_stop, graph_in_buff, 'link_id')[0]\n",
    "\n",
    "        closest_node_bui = get_closest_node(gdf_one_bui, closest_link_bui, graph_in_buff)\n",
    "        closest_node_stop = get_closest_node(gdf_near_stop, closest_link_stop, graph_in_buff)\n",
    "\n",
    "        one_G = mm.gdf_to_nx(graph_in_buff)\n",
    "        res_lst = nx.shortest_path(one_G, closest_node_bui.coords[0], closest_node_stop.coords[0])\n",
    "\n",
    "        if len(res_lst) == 1:\n",
    "            line_path = LineString([closest_node_bui, closest_node_stop])\n",
    "            path_lngth = 0\n",
    "        elif len(res_lst) == 0:\n",
    "            line_path = LineString([closest_node_bui, closest_node_stop])\n",
    "            path_lngth = -1\n",
    "        else:\n",
    "            line_path = LineString(res_lst)\n",
    "            path_lngth = 1\n",
    "    # \n",
    "        return [nearest_stop[0], path_lngth, res_lst, line_path]\n",
    "    else:\n",
    "        return []"
   ]
  },
  {
   "cell_type": "code",
   "execution_count": 17,
   "metadata": {},
   "outputs": [],
   "source": [
    "def generate_graph(edges, fields):\n",
    "    G = nx.Graph()\n",
    "\n",
    "    key = 0\n",
    "    for index, row in edges.iterrows():\n",
    "        first = row.from_node\n",
    "        last = row.to_node\n",
    "\n",
    "        data = [row[f] for f in fields]\n",
    "        attributes = dict(zip(fields, data))\n",
    "        G.add_edge(first, last, key=key, **attributes)\n",
    "        key += 1\n",
    "    # \n",
    "    return G"
   ]
  },
  {
   "cell_type": "code",
   "execution_count": 18,
   "metadata": {},
   "outputs": [],
   "source": [
    "def get_lst_end_nodes(egg):\n",
    "    lst_nodes_end=[]\n",
    "    lst_nodes = list(egg.nodes())\n",
    "    i=0\n",
    "    for i in (range(len(lst_nodes))):\n",
    "        one_node = lst_nodes[i]\n",
    "        lst_neigh = list(nx.all_neighbors(egg, one_node))\n",
    "        if len(lst_neigh) < 2:\n",
    "            lst_nodes_end.append(one_node)\n",
    "    #\n",
    "    return lst_nodes_end"
   ]
  },
  {
   "cell_type": "code",
   "execution_count": 19,
   "metadata": {},
   "outputs": [],
   "source": [
    "def get_strt_end_paths(egg, closest_node, lst_nodes_end):\n",
    "    \n",
    "    shortest_paths = list(nx.all_pairs_dijkstra_path(egg, weight='length'))\n",
    "    \n",
    "    start_ind=0\n",
    "    i=0\n",
    "    for i in range(len(shortest_paths)):\n",
    "        if shortest_paths[i][0] == closest_node:\n",
    "            start_ind = i\n",
    "            break\n",
    "    # \n",
    "    lst_paths_to_ends = []\n",
    "    i=0\n",
    "    for nd in shortest_paths[start_ind][1]:\n",
    "        if nd in lst_nodes_end:\n",
    "            lst_paths_to_ends.append(shortest_paths[start_ind][1][nd])\n",
    "    # \n",
    "    try:\n",
    "        lst_paths_to_ends.remove([closest_node])\n",
    "    except:\n",
    "        pass\n",
    "    return lst_paths_to_ends"
   ]
  },
  {
   "cell_type": "code",
   "execution_count": 20,
   "metadata": {},
   "outputs": [],
   "source": [
    "def find_closest_node(one_stop_gdf, nodes_in_buff):\n",
    "\n",
    "    stop_pt = one_stop_gdf.geometry[0]\n",
    "    np_nib = nodes_in_buff.to_numpy()\n",
    "    ind_ndid = list(nodes_in_buff.columns).index('nodeID')\n",
    "    ind_geo = list(nodes_in_buff.columns).index('geometry')\n",
    "\n",
    "    closest_node = np_nib[0, ind_ndid]\n",
    "    dstnc = 100000000\n",
    "    i=0\n",
    "    for i in range(len(np_nib)):\n",
    "        node_pt = np_nib[i, ind_geo]\n",
    "        if stop_pt.distance(node_pt) < dstnc:\n",
    "            dstnc = stop_pt.distance(node_pt)\n",
    "            closest_node = np_nib[i, ind_ndid]\n",
    "    # \n",
    "\n",
    "    return closest_node"
   ]
  },
  {
   "cell_type": "code",
   "execution_count": 52,
   "metadata": {},
   "outputs": [],
   "source": [
    "def get_one_stop_graph(one_stop_gdf, nodes, G):\n",
    "    gdf_buff = one_stop_gdf.copy()\n",
    "    gdf_buff.geometry = gdf_buff.geometry.to_crs('epsg:32640').buffer(600).to_crs('epsg:4326')\n",
    "    nodes_in_buff = intersect_using_spatial_index(nodes, gdf_buff[['geometry']]).reset_index(drop=True)\n",
    "\n",
    "    closest_node = find_closest_node(one_stop_gdf, nodes_in_buff)\n",
    "\n",
    "    egg = nx.ego_graph(G, closest_node, radius=400, distance='length')\n",
    "    edglst = nx.to_pandas_edgelist(egg)\n",
    "    lst_nodes_end = get_lst_end_nodes(egg)\n",
    "    lst_paths_to_ends = get_strt_end_paths(egg, closest_node, lst_nodes_end)\n",
    "    return lst_paths_to_ends"
   ]
  },
  {
   "cell_type": "code",
   "execution_count": 53,
   "metadata": {},
   "outputs": [],
   "source": [
    "def cut(line, distance):\n",
    "    # Cuts a line in two at a distance from its starting point\n",
    "    if distance <= 0.0 or distance >= line.length:\n",
    "        return [LineString(line)]\n",
    "    coords = list(line.coords)\n",
    "    for i, p in enumerate(coords):\n",
    "        pd = line.project(Point(p))\n",
    "        if pd == distance:\n",
    "            return [\n",
    "                LineString(coords[:i+1]),\n",
    "                LineString(coords[i:])]\n",
    "        if pd > distance:\n",
    "            cp = line.interpolate(distance)\n",
    "            return [\n",
    "                LineString(coords[:i] + [(cp.x, cp.y)]),\n",
    "                LineString([(cp.x, cp.y)] + coords[i:])]"
   ]
  },
  {
   "cell_type": "code",
   "execution_count": 160,
   "metadata": {},
   "outputs": [],
   "source": [
    "def get_leftovers(np_gnd, ind_frnd, ind_tond, ind_geo, last_id, lns, lst_one, lng_cut):\n",
    "    left_lines = np_gnd[(\n",
    "                    ((np_gnd[:,ind_tond] == last_id) & ~(np.isin(np_gnd[:,ind_frnd], lst_one)) \n",
    "                     | ((np_gnd[:,ind_frnd] == last_id) & ~(np.isin(np_gnd[:,ind_tond], lst_one))))\n",
    "                )]\n",
    "    #\n",
    "\n",
    "    left_length = lng_cut - lns.length\n",
    "    lst_leftovers=[]\n",
    "    i=0\n",
    "    for i in range(len(left_lines)):\n",
    "        one_line_left = left_lines[i][ind_geo]\n",
    "        lst_cut_left = cut(one_line_left, left_length)\n",
    "        if ((lst_cut_left[0].coords[0] == lns.coords[-1]) \n",
    "            | (lst_cut_left[0].coords[-1] == lns.coords[0])):\n",
    "            cut_left = lst_cut_left[0]\n",
    "        else:\n",
    "            try:\n",
    "                cut_left = lst_cut_left[1]\n",
    "            except:\n",
    "                cut_left = lst_cut_left[0]\n",
    "        #\n",
    "        lst_leftovers.append(cut_left)\n",
    "    # \n",
    "\n",
    "    return lst_leftovers"
   ]
  },
  {
   "cell_type": "code",
   "execution_count": 80,
   "metadata": {},
   "outputs": [],
   "source": [
    "def get_one_line(lst_one, np_gnd, ind_frnd, ind_tond, ind_geo):\n",
    "    lst_geo = []\n",
    "    i=0\n",
    "    for i in range(1, len(lst_one)):\n",
    "        try:\n",
    "            row = np_gnd[((np_gnd[:,ind_frnd] == lst_one[i-1]) \n",
    "                            & (np_gnd[:,ind_tond] == lst_one[i]))][0]\n",
    "        except:\n",
    "            row = np_gnd[((np_gnd[:,ind_tond] == lst_one[i-1]) \n",
    "                            & (np_gnd[:,ind_frnd] == lst_one[i]))][0]\n",
    "        #\n",
    "        geo = row[ind_geo]\n",
    "        one_line = geo.coords[:]\n",
    "        if len(lst_geo) > 0:\n",
    "            if geo.coords[0] != lst_geo[-1]:\n",
    "                one_line.reverse()\n",
    "        lst_geo = lst_geo + one_line\n",
    "    # \n",
    "\n",
    "    last_id = lst_one[-1]\n",
    "    lns = LineString(lst_geo)\n",
    "    \n",
    "    return lns"
   ]
  },
  {
   "cell_type": "code",
   "execution_count": 212,
   "metadata": {},
   "outputs": [],
   "source": [
    "def get_one_end_lines(lst_one, np_gnd, ind_frnd, ind_tond, ind_geo):\n",
    "\n",
    "    lng_cut = 400\n",
    "\n",
    "    lns = get_one_line(lst_one, np_gnd, ind_frnd, ind_tond, ind_geo)\n",
    "\n",
    "    cutted_line, lst_leftovers = check_leftovers(np_gnd, ind_frnd, ind_tond, ind_geo, lns, lst_one, lng_cut)\n",
    "\n",
    "    lst_lines_one_end = [cutted_line] + lst_leftovers\n",
    "    \n",
    "    l1=[]\n",
    "    i=0\n",
    "    for i in range(len(lst_one)):\n",
    "        one_link_lst = lst_one[0:i+1]\n",
    "\n",
    "        if len(one_link_lst) > 1:\n",
    "            one_line = get_one_line(one_link_lst, np_gnd, ind_frnd, ind_tond, ind_geo)\n",
    "            l1.append(one_line)\n",
    "            cutted_line_sm, lst_leftovers_sm = check_leftovers(np_gnd, ind_frnd, ind_tond, ind_geo, one_line, one_link_lst, lng_cut)\n",
    "            if lst_leftovers_sm != lst_leftovers:\n",
    "                j=0\n",
    "                for j in range(len(lst_leftovers_sm)):\n",
    "                    if lst_leftovers_sm[j] not in lst_lines_one_end2:\n",
    "                        lst_lines_one_end.append(lst_leftovers_sm[j])\n",
    "    #\n",
    "\n",
    "    return lst_lines_one_end"
   ]
  },
  {
   "cell_type": "code",
   "execution_count": 213,
   "metadata": {},
   "outputs": [],
   "source": [
    "def get_one_stop_sprut(lst_paths_to_ends, np_gnd, ind_frnd, ind_tond, ind_geo):\n",
    "    lst_all_ends=[]\n",
    "    i=0\n",
    "    for i in range(len(lst_paths_to_ends)):\n",
    "        lst_one = lst_paths_to_ends[i]\n",
    "        lst_lines_one_end = get_one_end_lines(lst_one, np_gnd, ind_frnd, ind_tond, ind_geo)\n",
    "        for k in range(len(lst_lines_one_end)):\n",
    "            if lst_lines_one_end[k] not in lst_all_ends:\n",
    "                lst_all_ends.append(lst_lines_one_end[k])\n",
    "#         lst_all_ends = lst_all_ends + lst_lines_one_end\n",
    "    # \n",
    "    sprut_ml_one_stop = MultiLineString(lst_all_ends)\n",
    "    return sprut_ml_one_stop"
   ]
  },
  {
   "cell_type": "code",
   "execution_count": 199,
   "metadata": {},
   "outputs": [],
   "source": [
    "def check_leftovers(np_gnd, ind_frnd, ind_tond, ind_geo, lns2, lst_one2, lng_cut):\n",
    "    \n",
    "    last_id = lst_one2[-1]\n",
    "    \n",
    "    if lns2.length > lng_cut:\n",
    "        cutted_line = cut(lns2, lng_cut)[0]\n",
    "        lst_leftovers=[]\n",
    "    elif lns2.length == lng_cut:\n",
    "        cutted_line = lns\n",
    "        lst_leftovers=[]\n",
    "    else:\n",
    "        cutted_line = lns2\n",
    "        lst_leftovers = get_leftovers(np_gnd, ind_frnd, ind_tond, ind_geo, last_id, lns2, lst_one2, lng_cut)\n",
    "    #\n",
    "    return cutted_line, lst_leftovers\n",
    "#"
   ]
  },
  {
   "cell_type": "code",
   "execution_count": null,
   "metadata": {},
   "outputs": [],
   "source": []
  },
  {
   "cell_type": "code",
   "execution_count": 25,
   "metadata": {},
   "outputs": [],
   "source": [
    "graph_notdir = graph[graph.direction == 'direct'].reset_index(drop=True)\n",
    "graph_notdir = graph_notdir[['link_id', 'from_node', 'to_node', 'geometry']]"
   ]
  },
  {
   "cell_type": "code",
   "execution_count": 26,
   "metadata": {},
   "outputs": [],
   "source": [
    "graph_notdir_32640 = graph_notdir.copy()\n",
    "graph_notdir_32640 = graph_notdir_32640.to_crs('epsg:32640')\n",
    "graph_notdir_32640['length'] = graph_notdir_32640.geometry.length\n",
    "fields = list(graph_notdir_32640.columns)"
   ]
  },
  {
   "cell_type": "code",
   "execution_count": 168,
   "metadata": {},
   "outputs": [],
   "source": [
    "# graph2 = graph[['link_id', 'from_node', 'to_node', 'geometry']].copy()"
   ]
  },
  {
   "cell_type": "code",
   "execution_count": 169,
   "metadata": {},
   "outputs": [],
   "source": [
    "# graph2_32640 = graph2.copy()\n",
    "# graph2_32640 = graph2_32640.to_crs('epsg:32640')\n",
    "# graph2_32640['length'] = graph2_32640.geometry.length\n",
    "# fields2 = list(graph2_32640.columns)"
   ]
  },
  {
   "cell_type": "code",
   "execution_count": 170,
   "metadata": {},
   "outputs": [
    {
     "name": "stdout",
     "output_type": "stream",
     "text": [
      "Wall time: 44.4 s\n"
     ]
    }
   ],
   "source": [
    "# %time GG = generate_graph(graph2_32640, fields2)"
   ]
  },
  {
   "cell_type": "code",
   "execution_count": 27,
   "metadata": {},
   "outputs": [
    {
     "name": "stdout",
     "output_type": "stream",
     "text": [
      "Wall time: 21.9 s\n"
     ]
    }
   ],
   "source": [
    "# https://github.com/martinfleis/momepy/blob/v0.3.0/momepy/utils.py#L117-L156\n",
    "%time G = generate_graph(graph_notdir_32640, fields)"
   ]
  },
  {
   "cell_type": "code",
   "execution_count": 28,
   "metadata": {},
   "outputs": [],
   "source": [
    "np_gnd = graph_notdir_32640.to_numpy()\n",
    "ind_frnd = list(graph_notdir_32640.columns).index('from_node')\n",
    "ind_tond = list(graph_notdir_32640.columns).index('to_node')\n",
    "ind_geo = list(graph_notdir_32640.columns).index('geometry')\n",
    "ind_li = list(graph_notdir_32640.columns).index('link_id')\n"
   ]
  },
  {
   "cell_type": "code",
   "execution_count": null,
   "metadata": {},
   "outputs": [],
   "source": []
  },
  {
   "cell_type": "code",
   "execution_count": 56,
   "metadata": {},
   "outputs": [
    {
     "name": "stdout",
     "output_type": "stream",
     "text": [
      "Wall time: 150 ms\n"
     ]
    }
   ],
   "source": [
    "i=0\n",
    "for i in range(1):\n",
    "# for i in range(len(gdf_stops)):\n",
    "    one_stop_gdf = gdf_stops.iloc[[i]].reset_index(drop=True)\n",
    "    %time lst_paths_to_ends = get_one_stop_graph(one_stop_gdf, nodes, G)"
   ]
  },
  {
   "cell_type": "code",
   "execution_count": null,
   "metadata": {},
   "outputs": [],
   "source": []
  },
  {
   "cell_type": "code",
   "execution_count": null,
   "metadata": {},
   "outputs": [],
   "source": []
  },
  {
   "cell_type": "code",
   "execution_count": 214,
   "metadata": {},
   "outputs": [
    {
     "name": "stdout",
     "output_type": "stream",
     "text": [
      "Wall time: 3.74 s\n"
     ]
    }
   ],
   "source": [
    "%time sprut_ml_one_stop = get_one_stop_sprut(lst_paths_to_ends, np_gnd, ind_frnd, ind_tond, ind_geo)"
   ]
  },
  {
   "cell_type": "code",
   "execution_count": null,
   "metadata": {},
   "outputs": [],
   "source": []
  },
  {
   "cell_type": "code",
   "execution_count": 215,
   "metadata": {},
   "outputs": [
    {
     "data": {
      "image/svg+xml": [
       "<svg xmlns=\"http://www.w3.org/2000/svg\" xmlns:xlink=\"http://www.w3.org/1999/xlink\" width=\"300\" height=\"300\" viewBox=\"44812.05434269603 5914985.579586961 697.5479147076912 578.9137607505545\" preserveAspectRatio=\"xMinYMin meet\"><g transform=\"matrix(1,0,0,-1,0,11830550.072934672)\"><g><polyline fill=\"none\" stroke=\"#66cc99\" stroke-width=\"4.650319431384609\" points=\"45197.88795279706,5915273.881917465 45232.9581979168,5915272.1189494375 45232.9581979168,5915272.1189494375 45231.9300532465,5915254.190559491 45231.837180408416,5915252.586111894\" opacity=\"0.8\" /><polyline fill=\"none\" stroke=\"#66cc99\" stroke-width=\"4.650319431384609\" points=\"45197.88795279706,5915273.881917465 45232.9581979168,5915272.1189494375 45232.9581979168,5915272.1189494375 45246.78674155567,5915271.423954285 45246.78674155567,5915271.423954285 45263.5085296536,5915270.586780577 45263.5085296536,5915270.586780577 45268.40736113733,5915263.060033693 45268.40736113733,5915263.060033693 45265.40752550715,5915252.165630466 45265.405592680036,5915250.597302642\" opacity=\"0.8\" /><polyline fill=\"none\" stroke=\"#66cc99\" stroke-width=\"4.650319431384609\" points=\"45269.592556995456,5915258.566071569 45268.40736113733,5915263.060033693\" opacity=\"0.8\" /><polyline fill=\"none\" stroke=\"#66cc99\" stroke-width=\"4.650319431384609\" points=\"45265.405592680036,5915250.597302642 45265.40752550715,5915252.165630466 45268.40736113733,5915263.060033693\" opacity=\"0.8\" /><polyline fill=\"none\" stroke=\"#66cc99\" stroke-width=\"4.650319431384609\" points=\"45184.88273215963,5915274.531922867 45197.88795279706,5915273.881917465 45184.88273215963,5915274.531922867 45177.281817190174,5915274.911565695 45177.281817190174,5915274.911565695 45166.7153680824,5915275.451613985 45166.7153680824,5915275.451613985 45132.072903445514,5915277.185355283 45132.072903445514,5915277.185355283 45092.35602520837,5915279.191890672 45092.35602520837,5915279.191890672 45092.78663385264,5915288.124881059 45095.15997139859,5915334.740617425 45095.15997139859,5915334.740617425 45097.99521118618,5915392.795991145\" opacity=\"0.8\" /><polyline fill=\"none\" stroke=\"#66cc99\" stroke-width=\"4.650319431384609\" points=\"45177.281817190174,5915274.911565695 45184.88273215963,5915274.531922867\" opacity=\"0.8\" /><polyline fill=\"none\" stroke=\"#66cc99\" stroke-width=\"4.650319431384609\" points=\"45192.56819507858,5915398.930918718 45185.425666352035,5915282.389802373 45184.88273215963,5915274.531922867\" opacity=\"0.8\" /><polyline fill=\"none\" stroke=\"#66cc99\" stroke-width=\"4.650319431384609\" points=\"45177.281817190174,5915274.911565695 45184.37304955849,5915265.684938493 45188.20420375414,5915260.433720866\" opacity=\"0.8\" /><polyline fill=\"none\" stroke=\"#66cc99\" stroke-width=\"4.650319431384609\" points=\"45166.7153680824,5915275.451613985 45177.281817190174,5915274.911565695\" opacity=\"0.8\" /><polyline fill=\"none\" stroke=\"#66cc99\" stroke-width=\"4.650319431384609\" points=\"45132.072903445514,5915277.185355283 45166.7153680824,5915275.451613985\" opacity=\"0.8\" /><polyline fill=\"none\" stroke=\"#66cc99\" stroke-width=\"4.650319431384609\" points=\"45123.71182169864,5915112.315880202 45131.51577388169,5915260.175396692 45132.072903445514,5915277.185355283\" opacity=\"0.8\" /><polyline fill=\"none\" stroke=\"#66cc99\" stroke-width=\"4.650319431384609\" points=\"45092.35602520837,5915279.191890672 45132.072903445514,5915277.185355283\" opacity=\"0.8\" /><polyline fill=\"none\" stroke=\"#66cc99\" stroke-width=\"4.650319431384609\" points=\"44909.656579278,5915288.437591724 44919.366384033114,5915287.945339682 45092.35602520837,5915279.191890672\" opacity=\"0.8\" /><polyline fill=\"none\" stroke=\"#66cc99\" stroke-width=\"4.650319431384609\" points=\"45095.15997139859,5915334.740617425 45092.78663385264,5915288.124881059 45092.35602520837,5915279.191890672\" opacity=\"0.8\" /><polyline fill=\"none\" stroke=\"#66cc99\" stroke-width=\"4.650319431384609\" points=\"45160.21777380252,5915400.770281674 45156.514636332926,5915330.608364676 45095.15997139859,5915334.740617425\" opacity=\"0.8\" /><polyline fill=\"none\" stroke=\"#66cc99\" stroke-width=\"4.650319431384609\" points=\"45095.15997139859,5915334.740617425 45097.99521118618,5915392.795991145\" opacity=\"0.8\" /><polyline fill=\"none\" stroke=\"#66cc99\" stroke-width=\"4.650319431384609\" points=\"45184.88273215963,5915274.531922867 45197.88795279706,5915273.881917465 45184.88273215963,5915274.531922867 45185.425666352035,5915282.389802373 45192.56819507858,5915398.930918718 45192.56819507858,5915398.930918718 45195.21521030832,5915437.722627888 45195.21521030832,5915437.722627888 45201.524997107976,5915538.6582397595\" opacity=\"0.8\" /><polyline fill=\"none\" stroke=\"#66cc99\" stroke-width=\"4.650319431384609\" points=\"45160.21777380252,5915400.770281674 45192.56819507858,5915398.930918718\" opacity=\"0.8\" /><polyline fill=\"none\" stroke=\"#66cc99\" stroke-width=\"4.650319431384609\" points=\"45192.56819507858,5915398.930918718 45360.3391767093,5915387.593444947 45375.44844161917,5915386.574659867\" opacity=\"0.8\" /><polyline fill=\"none\" stroke=\"#66cc99\" stroke-width=\"4.650319431384609\" points=\"45195.21521030832,5915437.722627888 45192.56819507858,5915398.930918718\" opacity=\"0.8\" /><polyline fill=\"none\" stroke=\"#66cc99\" stroke-width=\"4.650319431384609\" points=\"45201.524997107976,5915538.6582397595 45195.21521030832,5915437.722627888\" opacity=\"0.8\" /><polyline fill=\"none\" stroke=\"#66cc99\" stroke-width=\"4.650319431384609\" points=\"45195.21521030832,5915437.722627888 45287.45871838683,5915432.318213014\" opacity=\"0.8\" /><polyline fill=\"none\" stroke=\"#66cc99\" stroke-width=\"4.650319431384609\" points=\"45184.88273215963,5915274.531922867 45197.88795279706,5915273.881917465 45184.88273215963,5915274.531922867 45185.425666352035,5915282.389802373 45192.56819507858,5915398.930918718 45192.56819507858,5915398.930918718 45195.21521030832,5915437.722627888 45195.21521030832,5915437.722627888 45287.45871838683,5915432.318213014\" opacity=\"0.8\" /><polyline fill=\"none\" stroke=\"#66cc99\" stroke-width=\"4.650319431384609\" points=\"45184.88273215963,5915274.531922867 45197.88795279706,5915273.881917465 45184.88273215963,5915274.531922867 45185.425666352035,5915282.389802373 45192.56819507858,5915398.930918718 45192.56819507858,5915398.930918718 45160.21777380252,5915400.770281674 45160.21777380252,5915400.770281674 45163.32156174147,5915459.2480498515 45163.32156174147,5915459.2480498515 45122.06134048232,5915461.704686567 45126.14912333165,5915528.704043665\" opacity=\"0.8\" /><polyline fill=\"none\" stroke=\"#66cc99\" stroke-width=\"4.650319431384609\" points=\"45163.32156174147,5915459.2480498515 45160.21777380252,5915400.770281674\" opacity=\"0.8\" /><polyline fill=\"none\" stroke=\"#66cc99\" stroke-width=\"4.650319431384609\" points=\"45167.26752675552,5915524.770827773 45163.32156174147,5915459.2480498515\" opacity=\"0.8\" /><polyline fill=\"none\" stroke=\"#66cc99\" stroke-width=\"4.650319431384609\" points=\"45163.32156174147,5915459.2480498515 45122.06134048232,5915461.704686567 45126.14912333165,5915528.704043665\" opacity=\"0.8\" /><polyline fill=\"none\" stroke=\"#66cc99\" stroke-width=\"4.650319431384609\" points=\"45184.88273215963,5915274.531922867 45197.88795279706,5915273.881917465 45184.88273215963,5915274.531922867 45185.425666352035,5915282.389802373 45192.56819507858,5915398.930918718 45192.56819507858,5915398.930918718 45160.21777380252,5915400.770281674 45160.21777380252,5915400.770281674 45163.32156174147,5915459.2480498515 45163.32156174147,5915459.2480498515 45167.26752675552,5915524.770827773\" opacity=\"0.8\" /><polyline fill=\"none\" stroke=\"#66cc99\" stroke-width=\"4.650319431384609\" points=\"45184.88273215963,5915274.531922867 45197.88795279706,5915273.881917465 45184.88273215963,5915274.531922867 45177.281817190174,5915274.911565695 45177.281817190174,5915274.911565695 45166.7153680824,5915275.451613985 45166.7153680824,5915275.451613985 45132.072903445514,5915277.185355283 45132.072903445514,5915277.185355283 45131.51577388169,5915260.175396692 45123.71182169864,5915112.315880202 45123.71182169864,5915112.315880202 45134.10420747264,5915111.781235584 45169.58710731921,5915109.676013579 45168.05305435741,5915083.78535743\" opacity=\"0.8\" /><polyline fill=\"none\" stroke=\"#66cc99\" stroke-width=\"4.650319431384609\" points=\"45122.916547739296,5915093.659353978 45123.71182169864,5915112.315880202\" opacity=\"0.8\" /><polyline fill=\"none\" stroke=\"#66cc99\" stroke-width=\"4.650319431384609\" points=\"45123.71182169864,5915112.315880202 45134.10420747264,5915111.781235584 45169.58710731921,5915109.676013579 45168.05305435741,5915083.78535743\" opacity=\"0.8\" /><polyline fill=\"none\" stroke=\"#66cc99\" stroke-width=\"4.650319431384609\" points=\"45184.88273215963,5915274.531922867 45197.88795279706,5915273.881917465 45184.88273215963,5915274.531922867 45177.281817190174,5915274.911565695 45177.281817190174,5915274.911565695 45166.7153680824,5915275.451613985 45166.7153680824,5915275.451613985 45132.072903445514,5915277.185355283 45132.072903445514,5915277.185355283 45092.35602520837,5915279.191890672 45092.35602520837,5915279.191890672 44919.366384033114,5915287.945339682 44909.656579278,5915288.437591724 44909.656579278,5915288.437591724 44899.32695736049,5915288.921957421 44880.34771318111,5915289.797195248\" opacity=\"0.8\" /><polyline fill=\"none\" stroke=\"#66cc99\" stroke-width=\"4.650319431384609\" points=\"44837.88945064817,5915291.675408968 44880.34771318111,5915289.797195248\" opacity=\"0.8\" /><polyline fill=\"none\" stroke=\"#66cc99\" stroke-width=\"4.650319431384609\" points=\"44905.54730148495,5915204.83525368 44909.016447080416,5915270.920110257 44909.656579278,5915288.437591724\" opacity=\"0.8\" /><polyline fill=\"none\" stroke=\"#66cc99\" stroke-width=\"4.650319431384609\" points=\"44880.34771318111,5915289.797195248 44899.32695736049,5915288.921957421 44909.656579278,5915288.437591724\" opacity=\"0.8\" /><polyline fill=\"none\" stroke=\"#66cc99\" stroke-width=\"4.650319431384609\" points=\"44909.656579278,5915288.437591724 44910.190000650124,5915302.660168777 44913.8112242472,5915386.729503834\" opacity=\"0.8\" /><polyline fill=\"none\" stroke=\"#66cc99\" stroke-width=\"4.650319431384609\" points=\"45197.88795279706,5915273.881917465 45232.9581979168,5915272.1189494375 45232.9581979168,5915272.1189494375 45246.78674155567,5915271.423954285 45246.78674155567,5915271.423954285 45263.5085296536,5915270.586780577 45263.5085296536,5915270.586780577 45271.23612695909,5915270.195161617 45271.23612695909,5915270.195161617 45279.19815966062,5915269.792342113 45279.19815966062,5915269.792342113 45313.44504744775,5915268.075084675 45313.44504744775,5915268.075084675 45351.60186310491,5915266.152318411 45369.52248376288,5915265.256920726 45369.52248376288,5915265.256920726 45370.258869586454,5915280.4906754885 45373.57796027465,5915348.358644266 45375.44844161917,5915386.574659867 45375.44844161917,5915386.574659867 45377.724051783036,5915430.364965751\" opacity=\"0.8\" /><polyline fill=\"none\" stroke=\"#66cc99\" stroke-width=\"4.650319431384609\" points=\"45377.724051783036,5915430.364965751 45362.400799919444,5915431.325797596 45355.01080383727,5915431.79706719 45315.011418315604,5915434.31816163\" opacity=\"0.8\" /><polyline fill=\"none\" stroke=\"#66cc99\" stroke-width=\"4.650319431384609\" points=\"45377.724051783036,5915430.364965751 45380.98985744315,5915493.1171531435\" opacity=\"0.8\" /><polyline fill=\"none\" stroke=\"#66cc99\" stroke-width=\"4.650319431384609\" points=\"45375.44844161917,5915386.574659867 45377.724051783036,5915430.364965751\" opacity=\"0.8\" /><polyline fill=\"none\" stroke=\"#66cc99\" stroke-width=\"4.650319431384609\" points=\"45299.011929830805,5915391.73776148 45360.3391767093,5915387.593444947 45375.44844161917,5915386.574659867\" opacity=\"0.8\" /><polyline fill=\"none\" stroke=\"#66cc99\" stroke-width=\"4.650319431384609\" points=\"45184.88273215963,5915274.531922867 45197.88795279706,5915273.881917465 45184.88273215963,5915274.531922867 45177.281817190174,5915274.911565695 45177.281817190174,5915274.911565695 45166.7153680824,5915275.451613985 45166.7153680824,5915275.451613985 45132.072903445514,5915277.185355283 45132.072903445514,5915277.185355283 45131.51577388169,5915260.175396692 45123.71182169864,5915112.315880202 45123.71182169864,5915112.315880202 45122.916547739296,5915093.659353978 45122.916547739296,5915093.659353978 45119.36668377416,5915025.5890817065 45119.36668377416,5915025.5890817065 45130.06174783851,5915024.980691664 45133.42646826868,5915024.77091573 45162.507186686096,5915023.334082942\" opacity=\"0.8\" /><polyline fill=\"none\" stroke=\"#66cc99\" stroke-width=\"4.650319431384609\" points=\"45119.36668377416,5915025.5890817065 45122.916547739296,5915093.659353978\" opacity=\"0.8\" /><polyline fill=\"none\" stroke=\"#66cc99\" stroke-width=\"4.650319431384609\" points=\"45037.462088919616,5915098.433728696 45115.62737877568,5915094.065252486 45122.916547739296,5915093.659353978\" opacity=\"0.8\" /><polyline fill=\"none\" stroke=\"#66cc99\" stroke-width=\"4.650319431384609\" points=\"45118.656045412805,5915011.414694914 45119.36668377416,5915025.5890817065\" opacity=\"0.8\" /><polyline fill=\"none\" stroke=\"#66cc99\" stroke-width=\"4.650319431384609\" points=\"45119.36668377416,5915025.5890817065 45130.06174783851,5915024.980691664 45133.42646826868,5915024.77091573 45162.507186686096,5915023.334082942\" opacity=\"0.8\" /><polyline fill=\"none\" stroke=\"#66cc99\" stroke-width=\"4.650319431384609\" points=\"45197.88795279706,5915273.881917465 45232.9581979168,5915272.1189494375 45232.9581979168,5915272.1189494375 45246.78674155567,5915271.423954285 45246.78674155567,5915271.423954285 45263.5085296536,5915270.586780577 45263.5085296536,5915270.586780577 45271.23612695909,5915270.195161617 45271.23612695909,5915270.195161617 45279.19815966062,5915269.792342113 45279.19815966062,5915269.792342113 45313.44504744775,5915268.075084675 45313.44504744775,5915268.075084675 45351.60186310491,5915266.152318411 45369.52248376288,5915265.256920726 45369.52248376288,5915265.256920726 45385.511526362156,5915264.075692143 45399.43868363247,5915262.934771656 45399.43868363247,5915262.934771656 45398.76908186643,5915234.250304639 45395.9420846515,5915161.809094486 45395.60635663959,5915153.158388142 45395.60635663959,5915153.158388142 45402.824471226835,5915152.714879087 45439.38792891358,5915152.558574784 45439.38792891358,5915152.558574784 45477.797103945224,5915149.537282741\" opacity=\"0.8\" /><polyline fill=\"none\" stroke=\"#66cc99\" stroke-width=\"4.650319431384609\" points=\"45477.797103945224,5915149.537282741 45474.708137882306,5915144.424721623\" opacity=\"0.8\" /><polyline fill=\"none\" stroke=\"#66cc99\" stroke-width=\"4.650319431384609\" points=\"45477.797103945224,5915149.537282741 45482.519463402044,5915145.879508324\" opacity=\"0.8\" /><polyline fill=\"none\" stroke=\"#66cc99\" stroke-width=\"4.650319431384609\" points=\"45477.797103945224,5915149.537282741 45483.76714945158,5915149.340943306\" opacity=\"0.8\" /></g></g></svg>"
      ],
      "text/plain": [
       "<shapely.geometry.multilinestring.MultiLineString at 0x22393a00788>"
      ]
     },
     "execution_count": 215,
     "metadata": {},
     "output_type": "execute_result"
    }
   ],
   "source": [
    "sprut_ml_one_stop"
   ]
  },
  {
   "cell_type": "code",
   "execution_count": null,
   "metadata": {},
   "outputs": [],
   "source": []
  },
  {
   "cell_type": "code",
   "execution_count": null,
   "metadata": {},
   "outputs": [],
   "source": []
  },
  {
   "cell_type": "code",
   "execution_count": null,
   "metadata": {},
   "outputs": [],
   "source": []
  },
  {
   "cell_type": "code",
   "execution_count": null,
   "metadata": {},
   "outputs": [],
   "source": []
  },
  {
   "cell_type": "code",
   "execution_count": null,
   "metadata": {},
   "outputs": [],
   "source": []
  },
  {
   "cell_type": "code",
   "execution_count": 216,
   "metadata": {},
   "outputs": [],
   "source": [
    "tmp1 = gpd.GeoDataFrame(geometry=list(sprut_ml_one_stop))\n",
    "tmp1.crs = 'epsg:32640'\n",
    "tmp1 = tmp1.to_crs('epsg:4326')"
   ]
  },
  {
   "cell_type": "code",
   "execution_count": null,
   "metadata": {},
   "outputs": [],
   "source": []
  },
  {
   "cell_type": "code",
   "execution_count": 210,
   "metadata": {},
   "outputs": [],
   "source": [
    "tmp1 = gpd.GeoDataFrame(geometry=lst_lines_one_end3)\n",
    "tmp1.crs = 'epsg:32640'\n",
    "tmp1 = tmp1.to_crs('epsg:4326')"
   ]
  },
  {
   "cell_type": "code",
   "execution_count": 171,
   "metadata": {},
   "outputs": [],
   "source": [
    "tmp2 = gpd.GeoDataFrame(geometry=lst_lines_one_end)\n",
    "tmp2.crs = 'epsg:32640'\n",
    "tmp2 = tmp2.to_crs('epsg:4326')"
   ]
  },
  {
   "cell_type": "code",
   "execution_count": null,
   "metadata": {},
   "outputs": [],
   "source": []
  },
  {
   "cell_type": "code",
   "execution_count": 217,
   "metadata": {},
   "outputs": [],
   "source": [
    "tmp1.to_file('tmp1_sprut.json', driver='GeoJSON')\n",
    "# tmp2.to_file('tmp2_main.json', driver='GeoJSON')"
   ]
  },
  {
   "cell_type": "code",
   "execution_count": null,
   "metadata": {},
   "outputs": [],
   "source": []
  },
  {
   "cell_type": "code",
   "execution_count": null,
   "metadata": {},
   "outputs": [],
   "source": []
  }
 ],
 "metadata": {
  "kernelspec": {
   "display_name": "Python 3",
   "language": "python",
   "name": "python3"
  },
  "language_info": {
   "codemirror_mode": {
    "name": "ipython",
    "version": 3
   },
   "file_extension": ".py",
   "mimetype": "text/x-python",
   "name": "python",
   "nbconvert_exporter": "python",
   "pygments_lexer": "ipython3",
   "version": "3.7.6"
  }
 },
 "nbformat": 4,
 "nbformat_minor": 4
}
