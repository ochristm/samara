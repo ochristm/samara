{
 "cells": [
  {
   "cell_type": "code",
   "execution_count": 1,
   "metadata": {},
   "outputs": [],
   "source": [
    "import numpy as np\n",
    "import pandas as pd\n",
    "import geopandas as gpd\n",
    "import shapely\n",
    "from shapely.geometry import Point, LineString, MultiLineString, Polygon, MultiPolygon\n",
    "from tqdm.notebook import tqdm\n",
    "import time\n",
    "from datetime import datetime\n",
    "\n",
    "import momepy as mm\n",
    "import networkx as nx\n",
    "\n",
    "import math\n",
    "\n",
    "from contextlib import redirect_stdout\n",
    "\n",
    "import io\n",
    "import sys\n",
    "\n",
    "from shapely.ops import nearest_points\n",
    "from shapely.ops import unary_union"
   ]
  },
  {
   "cell_type": "code",
   "execution_count": null,
   "metadata": {},
   "outputs": [],
   "source": []
  },
  {
   "cell_type": "code",
   "execution_count": null,
   "metadata": {},
   "outputs": [],
   "source": [
    "# проверка остановки в буффере - если даже по вохдуху не попадает - не искать"
   ]
  },
  {
   "cell_type": "code",
   "execution_count": null,
   "metadata": {},
   "outputs": [],
   "source": []
  },
  {
   "cell_type": "code",
   "execution_count": 2,
   "metadata": {},
   "outputs": [],
   "source": [
    "graph = gpd.read_file('../lines_to_graph/with_ped/new_graph_with_ped.json',\n",
    "                        encoding='utf-8')"
   ]
  },
  {
   "cell_type": "code",
   "execution_count": 3,
   "metadata": {},
   "outputs": [],
   "source": [
    "nodes = gpd.read_file('../lines_to_graph/with_ped/all_nodes_with_ped.json',\n",
    "                        encoding='utf-8')"
   ]
  },
  {
   "cell_type": "code",
   "execution_count": 4,
   "metadata": {},
   "outputs": [],
   "source": [
    "buildings = gpd.read_file('./all_bui.json',encoding='utf-8')"
   ]
  },
  {
   "cell_type": "code",
   "execution_count": 5,
   "metadata": {},
   "outputs": [],
   "source": [
    "stps_big = pd.read_csv('../lines_to_graph/total/df_stop_seq_all_n_samobl.csv',\n",
    "                        encoding='utf-8', sep=';')"
   ]
  },
  {
   "cell_type": "code",
   "execution_count": 6,
   "metadata": {},
   "outputs": [],
   "source": [
    "stps_big = stps_big[['stop_id', 'stop_name', 'lat', 'lon']]\n",
    "stps_big = stps_big.drop_duplicates(subset=['stop_id']).reset_index(drop=True)"
   ]
  },
  {
   "cell_type": "code",
   "execution_count": 7,
   "metadata": {},
   "outputs": [
    {
     "data": {
      "application/vnd.jupyter.widget-view+json": {
       "model_id": "43fc6870b54a477dbe49e18e7975de02",
       "version_major": 2,
       "version_minor": 0
      },
      "text/plain": [
       "HBox(children=(FloatProgress(value=0.0, max=7242.0), HTML(value='')))"
      ]
     },
     "metadata": {},
     "output_type": "display_data"
    },
    {
     "name": "stdout",
     "output_type": "stream",
     "text": [
      "\n"
     ]
    }
   ],
   "source": [
    "lst_geo=[]\n",
    "lst_lat=list(stps_big.lat)\n",
    "lst_lon=list(stps_big.lon)\n",
    "i=0\n",
    "for i in tqdm(range(len(stps_big))):\n",
    "    one_pt = Point(lst_lon[i], lst_lat[i])\n",
    "    lst_geo.append(one_pt)\n",
    "# "
   ]
  },
  {
   "cell_type": "code",
   "execution_count": 8,
   "metadata": {},
   "outputs": [],
   "source": [
    "gdf_stops_all = gpd.GeoDataFrame(stps_big, geometry=lst_geo)\n",
    "gdf_stops_all.crs='epsg:4326'"
   ]
  },
  {
   "cell_type": "code",
   "execution_count": 9,
   "metadata": {},
   "outputs": [],
   "source": [
    "border_sa = gpd.read_file('./data/outer_border_SA.shp',encoding='utf-8')"
   ]
  },
  {
   "cell_type": "code",
   "execution_count": 10,
   "metadata": {},
   "outputs": [],
   "source": [
    "gdf_stops = gpd.sjoin(gdf_stops_all, border_sa[['geometry']], how='inner', op='intersects')\n",
    "gdf_stops = gdf_stops.drop('index_right', axis=1).reset_index(drop=True)"
   ]
  },
  {
   "cell_type": "code",
   "execution_count": null,
   "metadata": {},
   "outputs": [],
   "source": []
  },
  {
   "cell_type": "code",
   "execution_count": 11,
   "metadata": {},
   "outputs": [],
   "source": [
    "# убрать жд пути из графа\n",
    "graph_ped = graph[graph.type_ped != 'no_ped'].reset_index(drop=True)[['link_id', 'geometry']]"
   ]
  },
  {
   "cell_type": "code",
   "execution_count": 12,
   "metadata": {},
   "outputs": [],
   "source": [
    "shrt_bui = buildings[['osm_id', 'geometry']].copy()"
   ]
  },
  {
   "cell_type": "code",
   "execution_count": null,
   "metadata": {},
   "outputs": [],
   "source": []
  },
  {
   "cell_type": "code",
   "execution_count": 13,
   "metadata": {},
   "outputs": [],
   "source": [
    "def intersect_using_spatial_index(source_gdf, intersecting_gdf):\n",
    "    \"\"\"\n",
    "    Conduct spatial intersection using spatial index for candidates GeoDataFrame to make queries faster.\n",
    "    Note, with this function, you can have multiple Polygons in the 'intersecting_gdf' and it will return all the points\n",
    "    intersect with ANY of those geometries.\n",
    "    \"\"\"\n",
    "    source_sindex = source_gdf.sindex\n",
    "    possible_matches_index = []\n",
    "\n",
    "    # 'itertuples()' function is a faster version of 'iterrows()'\n",
    "    for other in intersecting_gdf.itertuples():\n",
    "        bounds = other.geometry.bounds\n",
    "        c = list(source_sindex.intersection(bounds))\n",
    "        possible_matches_index += c\n",
    "\n",
    "    # Get unique candidates\n",
    "    unique_candidate_matches = list(set(possible_matches_index))\n",
    "    possible_matches = source_gdf.iloc[unique_candidate_matches]\n",
    "\n",
    "    # Conduct the actual intersect\n",
    "    result = possible_matches.loc[possible_matches.intersects(intersecting_gdf.unary_union)]\n",
    "    return result\n",
    "########"
   ]
  },
  {
   "cell_type": "code",
   "execution_count": 14,
   "metadata": {},
   "outputs": [],
   "source": [
    "def find_closest_stop(gdf_one_bui, gdf_stops, gdf_buff):\n",
    "    uu_stops = gdf_stops.geometry.unary_union\n",
    "    centr_bui = gdf_one_bui.geometry[0].centroid\n",
    "    nrst_pt = nearest_points(centr_bui, uu_stops)[1]\n",
    "    \n",
    "    nearest_stop_id = list(gdf_stops[gdf_stops.geometry == nrst_pt]['stop_id'])[0]\n",
    "    nearest_stop_geo = list(gdf_stops[gdf_stops.geometry == nrst_pt]['geometry'])[0]\n",
    "    if gdf_buff.geometry[0].intersects(nearest_stop_geo):\n",
    "        return [nearest_stop_id, nearest_stop_geo]\n",
    "    else:\n",
    "        return []"
   ]
  },
  {
   "cell_type": "code",
   "execution_count": 15,
   "metadata": {},
   "outputs": [],
   "source": [
    "def get_closest_node(gdf_obj, linkid, graph_in_buff):\n",
    "    line_geo = list(graph_in_buff[graph_in_buff.link_id == linkid]['geometry'])[0]\n",
    "    start = Point(line_geo.coords[0])\n",
    "    end = Point(line_geo.coords[-1])\n",
    "    obj_centr = gdf_obj['geometry'][0]#.centroid\n",
    "\n",
    "    if start.distance(obj_centr) < end.distance(obj_centr):\n",
    "        return start\n",
    "    else:\n",
    "        return end\n",
    "# "
   ]
  },
  {
   "cell_type": "code",
   "execution_count": 16,
   "metadata": {},
   "outputs": [],
   "source": [
    "def get_shrt_pth(gdf_one_bui, gdf_buff, gdf_stops, graph_ped):\n",
    "\n",
    "    try:\n",
    "        nearest_stop = find_closest_stop(gdf_one_bui, gdf_stops, gdf_buff)\n",
    "    except:\n",
    "        nearest_stop = []\n",
    "    #\n",
    "    if nearest_stop != []:\n",
    "        gdf_near_stop = gpd.GeoDataFrame(data=[nearest_stop], columns=['stop_id', 'geometry'])\n",
    "        gdf_near_stop.crs=graph_ped.crs\n",
    "        graph_in_buff = intersect_using_spatial_index(graph_ped, gdf_buff[['geometry']])\n",
    "        centr_bui = gdf_one_bui.copy()\n",
    "        centr_bui.geometry = centr_bui.geometry.centroid\n",
    "\n",
    "        text_trap = io.StringIO()\n",
    "        with redirect_stdout(text_trap):\n",
    "            closest_link_bui = mm.get_network_id(gdf_one_bui, graph_in_buff, 'link_id')[0]\n",
    "            closest_link_stop = mm.get_network_id(gdf_near_stop, graph_in_buff, 'link_id')[0]\n",
    "\n",
    "        closest_node_bui = get_closest_node(gdf_one_bui, closest_link_bui, graph_in_buff)\n",
    "        closest_node_stop = get_closest_node(gdf_near_stop, closest_link_stop, graph_in_buff)\n",
    "\n",
    "        one_G = mm.gdf_to_nx(graph_in_buff)\n",
    "        res_lst = nx.shortest_path(one_G, closest_node_bui.coords[0], closest_node_stop.coords[0])\n",
    "\n",
    "        if len(res_lst) == 1:\n",
    "            line_path = LineString([closest_node_bui, closest_node_stop])\n",
    "            path_lngth = 0\n",
    "        elif len(res_lst) == 0:\n",
    "            line_path = LineString([closest_node_bui, closest_node_stop])\n",
    "            path_lngth = -1\n",
    "        else:\n",
    "            line_path = LineString(res_lst)\n",
    "            path_lngth = 1\n",
    "    # \n",
    "        return [nearest_stop[0], path_lngth, res_lst, line_path]\n",
    "    else:\n",
    "        return []"
   ]
  },
  {
   "cell_type": "code",
   "execution_count": 17,
   "metadata": {},
   "outputs": [],
   "source": [
    "def generate_graph(edges, fields):\n",
    "    G = nx.Graph()\n",
    "\n",
    "    key = 0\n",
    "    for index, row in edges.iterrows():\n",
    "        first = row.from_node\n",
    "        last = row.to_node\n",
    "\n",
    "        data = [row[f] for f in fields]\n",
    "        attributes = dict(zip(fields, data))\n",
    "        G.add_edge(first, last, key=key, **attributes)\n",
    "        key += 1\n",
    "    # \n",
    "    return G"
   ]
  },
  {
   "cell_type": "code",
   "execution_count": 18,
   "metadata": {},
   "outputs": [],
   "source": [
    "def get_lst_nodes(egg):\n",
    "    lst_nodes_end=[]\n",
    "    lst_nodes = list(egg.nodes())\n",
    "    i=0\n",
    "    for i in (range(len(lst_nodes))):\n",
    "        one_node = lst_nodes[i]\n",
    "        lst_neigh = list(nx.all_neighbors(egg, one_node))\n",
    "        if len(lst_neigh) < 2:\n",
    "            lst_nodes_end.append(one_node)\n",
    "    #\n",
    "    return lst_nodes_end"
   ]
  },
  {
   "cell_type": "code",
   "execution_count": 42,
   "metadata": {},
   "outputs": [],
   "source": [
    "def get_strt_end_paths(egg, closest_node, lst_nodes_end):\n",
    "    \n",
    "    shortest_paths = list(nx.all_pairs_dijkstra_path(egg))\n",
    "    \n",
    "    start_ind=0\n",
    "    i=0\n",
    "    for i in range(len(shortest_paths)):\n",
    "        if shortest_paths[i][0] == closest_node:\n",
    "            start_ind = i\n",
    "            break\n",
    "    # \n",
    "    lst_paths_to_ends = []\n",
    "    i=0\n",
    "    for nd in shortest_paths[start_ind][1]:\n",
    "        if nd in lst_nodes_end:\n",
    "            lst_paths_to_ends.append(shortest_paths[start_ind][1][nd])\n",
    "    # \n",
    "    try:\n",
    "        lst_paths_to_ends.remove([closest_node])\n",
    "    except:\n",
    "        pass\n",
    "    return lst_paths_to_ends"
   ]
  },
  {
   "cell_type": "code",
   "execution_count": 39,
   "metadata": {},
   "outputs": [],
   "source": [
    "def find_closest_node(one_stop_gdf, nodes_in_buff):\n",
    "\n",
    "    stop_pt = one_stop_gdf.geometry[0]\n",
    "    np_nib = nodes_in_buff.to_numpy()\n",
    "    ind_ndid = list(nodes_in_buff.columns).index('nodeID')\n",
    "    ind_geo = list(nodes_in_buff.columns).index('geometry')\n",
    "\n",
    "    closest_node = np_nib[0, ind_ndid]\n",
    "    dstnc = 100000000\n",
    "    i=0\n",
    "    for i in range(len(np_nib)):\n",
    "        node_pt = np_nib[i, ind_geo]\n",
    "        if stop_pt.distance(node_pt) < dstnc:\n",
    "            dstnc = stop_pt.distance(node_pt)\n",
    "            closest_node = np_nib[i, ind_ndid]\n",
    "    # \n",
    "\n",
    "    return closest_node"
   ]
  },
  {
   "cell_type": "code",
   "execution_count": null,
   "metadata": {},
   "outputs": [],
   "source": [
    "def get_one_stop_sprut(one_stop_gdf, nodes, G):\n",
    "    gdf_buff = one_stop_gdf.copy()\n",
    "    gdf_buff.geometry = gdf_buff.geometry.to_crs('epsg:32640').buffer(600).to_crs('epsg:4326')\n",
    "    nodes_in_buff = intersect_using_spatial_index(nodes, gdf_buff[['geometry']]).reset_index(drop=True)\n",
    "\n",
    "    closest_node = find_closest_node(one_stop_gdf, nodes_in_buff)\n",
    "\n",
    "    egg = nx.ego_graph(G, closest_node, radius=500, distance='length')\n",
    "    edglst = nx.to_pandas_edgelist(egg)\n",
    "    lst_nodes_end = get_lst_nodes(egg)\n",
    "    lst_paths_to_ends = get_strt_end_paths(egg, closest_node, lst_nodes_end)\n",
    "    return lst_paths_to_ends"
   ]
  },
  {
   "cell_type": "code",
   "execution_count": null,
   "metadata": {},
   "outputs": [],
   "source": []
  },
  {
   "cell_type": "code",
   "execution_count": null,
   "metadata": {},
   "outputs": [],
   "source": []
  },
  {
   "cell_type": "code",
   "execution_count": 20,
   "metadata": {},
   "outputs": [],
   "source": [
    "graph_notdir = graph[graph.direction == 'direct'].reset_index(drop=True)\n",
    "graph_notdir = graph_notdir[['link_id', 'from_node', 'to_node', 'geometry']]"
   ]
  },
  {
   "cell_type": "code",
   "execution_count": 21,
   "metadata": {},
   "outputs": [],
   "source": [
    "graph_notdir_32640 = graph_notdir.copy()\n",
    "graph_notdir_32640 = graph_notdir_32640.to_crs('epsg:32640')\n",
    "graph_notdir_32640['length'] = graph_notdir_32640.geometry.length\n",
    "fields = list(graph_notdir_32640.columns)"
   ]
  },
  {
   "cell_type": "code",
   "execution_count": 52,
   "metadata": {},
   "outputs": [],
   "source": []
  },
  {
   "cell_type": "code",
   "execution_count": 22,
   "metadata": {},
   "outputs": [
    {
     "name": "stdout",
     "output_type": "stream",
     "text": [
      "Wall time: 22.5 s\n"
     ]
    }
   ],
   "source": [
    "# https://github.com/martinfleis/momepy/blob/v0.3.0/momepy/utils.py#L117-L156\n",
    "%time G = generate_graph(graph_notdir_32640, fields)"
   ]
  },
  {
   "cell_type": "code",
   "execution_count": null,
   "metadata": {},
   "outputs": [],
   "source": []
  },
  {
   "cell_type": "code",
   "execution_count": 23,
   "metadata": {},
   "outputs": [
    {
     "data": {
      "text/plain": [
       "Index(['link_id', 'from_node', 'to_node', 'geometry', 'length'], dtype='object')"
      ]
     },
     "execution_count": 23,
     "metadata": {},
     "output_type": "execute_result"
    }
   ],
   "source": [
    "graph_notdir_32640.columns"
   ]
  },
  {
   "cell_type": "code",
   "execution_count": null,
   "metadata": {},
   "outputs": [],
   "source": []
  },
  {
   "cell_type": "code",
   "execution_count": 43,
   "metadata": {},
   "outputs": [
    {
     "name": "stdout",
     "output_type": "stream",
     "text": [
      "Wall time: 714 ms\n"
     ]
    }
   ],
   "source": [
    "i=0\n",
    "for i in range(1):\n",
    "# for i in range(len(gdf_stops)):\n",
    "    one_stop_gdf = gdf_stops.iloc[[i]].reset_index(drop=True)\n",
    "    %time lst_paths_to_ends = get_one_stop_sprut(one_stop_gdf, nodes, G)"
   ]
  },
  {
   "cell_type": "code",
   "execution_count": null,
   "metadata": {},
   "outputs": [],
   "source": []
  },
  {
   "cell_type": "code",
   "execution_count": null,
   "metadata": {},
   "outputs": [],
   "source": []
  },
  {
   "cell_type": "code",
   "execution_count": null,
   "metadata": {},
   "outputs": [],
   "source": [
    "# def get_last_link_list(lst_paths_to_ends, nodes, ):\n",
    "\n"
   ]
  },
  {
   "cell_type": "code",
   "execution_count": 44,
   "metadata": {},
   "outputs": [
    {
     "data": {
      "text/plain": [
       "[[27397, 27394, 27395],\n",
       " [27397, 27415, 27658, 27657, 27656],\n",
       " [27397, 27415, 27658, 27657, 27732],\n",
       " [27397, 27394, 27416, 27400, 27399, 27402],\n",
       " [27397, 27415, 27658, 27495, 27496, 27554],\n",
       " [27397, 27415, 27658, 27495, 27754, 27824],\n",
       " [27397, 27415, 27658, 27495, 27754, 27753],\n",
       " [27397, 27415, 27658, 27522, 27712, 27737],\n",
       " [27397, 27386, 27385, 27413, 26931, 26930, 27038],\n",
       " [27397, 27415, 27658, 27522, 27258, 26951, 27458],\n",
       " [27397, 27415, 27658, 27522, 27712, 27817, 27864],\n",
       " [27397, 27415, 27658, 27522, 27258, 27036, 26603, 26846],\n",
       " [27397, 27415, 27658, 27522, 27258, 27036, 26953, 26925],\n",
       " [27397, 27386, 27385, 27413, 26931, 26930, 26929, 26898, 26899],\n",
       " [27397, 27415, 27658, 27522, 27258, 26951, 26952, 27232, 27233],\n",
       " [27397, 27386, 27385, 27413, 26931, 27396, 26908, 27546, 27542, 27543],\n",
       " [27397, 27386, 27385, 27413, 26931, 27396, 26908, 27347, 27204, 27161],\n",
       " [27397, 27386, 27385, 27413, 26931, 27396, 26908, 27347, 27204, 27346],\n",
       " [27397, 27386, 27385, 27413, 26931, 26930, 26929, 26898, 26623, 26624],\n",
       " [27397, 27415, 27658, 27522, 27258, 26951, 26952, 27232, 27088, 27152],\n",
       " [27397, 27415, 27658, 27522, 27258, 26951, 26952, 27232, 27088, 27089],\n",
       " [27397, 27386, 27385, 27413, 26931, 26930, 26929, 26898, 26623, 26483, 26564],\n",
       " [27397, 27386, 27385, 27413, 26931, 26930, 26929, 26898, 26623, 26483, 26440],\n",
       " [27397, 27415, 27658, 27522, 27258, 26951, 26952, 27232, 27088, 27234, 27235],\n",
       " [27397, 27415, 27658, 27522, 27258, 26951, 26952, 27232, 27088, 27234, 27238]]"
      ]
     },
     "execution_count": 44,
     "metadata": {},
     "output_type": "execute_result"
    }
   ],
   "source": [
    "lst_paths_to_ends"
   ]
  },
  {
   "cell_type": "code",
   "execution_count": null,
   "metadata": {},
   "outputs": [],
   "source": []
  },
  {
   "cell_type": "code",
   "execution_count": 133,
   "metadata": {},
   "outputs": [
    {
     "data": {
      "text/html": [
       "<div>\n",
       "<style scoped>\n",
       "    .dataframe tbody tr th:only-of-type {\n",
       "        vertical-align: middle;\n",
       "    }\n",
       "\n",
       "    .dataframe tbody tr th {\n",
       "        vertical-align: top;\n",
       "    }\n",
       "\n",
       "    .dataframe thead th {\n",
       "        text-align: right;\n",
       "    }\n",
       "</style>\n",
       "<table border=\"1\" class=\"dataframe\">\n",
       "  <thead>\n",
       "    <tr style=\"text-align: right;\">\n",
       "      <th></th>\n",
       "      <th>link_id</th>\n",
       "      <th>from_node</th>\n",
       "      <th>to_node</th>\n",
       "      <th>geometry</th>\n",
       "    </tr>\n",
       "  </thead>\n",
       "  <tbody>\n",
       "    <tr>\n",
       "      <th>30495</th>\n",
       "      <td>60991</td>\n",
       "      <td>22976</td>\n",
       "      <td>23222</td>\n",
       "      <td>LINESTRING (50.19849 53.22491, 50.19836 53.225...</td>\n",
       "    </tr>\n",
       "  </tbody>\n",
       "</table>\n",
       "</div>"
      ],
      "text/plain": [
       "       link_id  from_node  to_node  \\\n",
       "30495    60991      22976    23222   \n",
       "\n",
       "                                                geometry  \n",
       "30495  LINESTRING (50.19849 53.22491, 50.19836 53.225...  "
      ]
     },
     "execution_count": 133,
     "metadata": {},
     "output_type": "execute_result"
    }
   ],
   "source": [
    "graph_notdir[((graph_notdir.from_node == 22976) & (graph_notdir.to_node == 23222))]"
   ]
  },
  {
   "cell_type": "code",
   "execution_count": null,
   "metadata": {},
   "outputs": [],
   "source": []
  },
  {
   "cell_type": "code",
   "execution_count": null,
   "metadata": {},
   "outputs": [],
   "source": []
  },
  {
   "cell_type": "code",
   "execution_count": null,
   "metadata": {},
   "outputs": [],
   "source": []
  },
  {
   "cell_type": "code",
   "execution_count": null,
   "metadata": {},
   "outputs": [],
   "source": [
    "#  для обрезки:\n",
    "# начало - всегда одно и то же\n",
    "# найти концы - нет соседей?\n",
    "# на концах найти следующее ребро, которого нет в эго\n",
    "# построить кратчайший путь от начала до конца\n",
    "# из последовательности сделать линию\n",
    "# обрезать линию по длине"
   ]
  },
  {
   "cell_type": "code",
   "execution_count": null,
   "metadata": {},
   "outputs": [],
   "source": []
  },
  {
   "cell_type": "code",
   "execution_count": null,
   "metadata": {},
   "outputs": [],
   "source": []
  },
  {
   "cell_type": "code",
   "execution_count": null,
   "metadata": {},
   "outputs": [],
   "source": []
  },
  {
   "cell_type": "code",
   "execution_count": null,
   "metadata": {},
   "outputs": [],
   "source": []
  },
  {
   "cell_type": "code",
   "execution_count": null,
   "metadata": {},
   "outputs": [],
   "source": []
  }
 ],
 "metadata": {
  "kernelspec": {
   "display_name": "Python 3",
   "language": "python",
   "name": "python3"
  },
  "language_info": {
   "codemirror_mode": {
    "name": "ipython",
    "version": 3
   },
   "file_extension": ".py",
   "mimetype": "text/x-python",
   "name": "python",
   "nbconvert_exporter": "python",
   "pygments_lexer": "ipython3",
   "version": "3.7.6"
  }
 },
 "nbformat": 4,
 "nbformat_minor": 4
}
