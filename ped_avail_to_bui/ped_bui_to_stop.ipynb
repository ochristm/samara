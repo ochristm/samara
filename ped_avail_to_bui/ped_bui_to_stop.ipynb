{
 "cells": [
  {
   "cell_type": "code",
   "execution_count": 1,
   "metadata": {},
   "outputs": [],
   "source": [
    "import numpy as np\n",
    "import pandas as pd\n",
    "import geopandas as gpd\n",
    "import shapely\n",
    "from shapely.geometry import Point, LineString, MultiLineString, Polygon, MultiPolygon\n",
    "from tqdm.notebook import tqdm\n",
    "import time\n",
    "from datetime import datetime\n",
    "\n",
    "import momepy as mm\n",
    "import momepy\n",
    "import networkx as nx\n",
    "\n",
    "import math\n",
    "\n",
    "from contextlib import redirect_stdout\n",
    "\n",
    "import io\n",
    "import sys\n",
    "\n",
    "from shapely.ops import nearest_points, unary_union, cascaded_union"
   ]
  },
  {
   "cell_type": "code",
   "execution_count": null,
   "metadata": {},
   "outputs": [],
   "source": []
  },
  {
   "cell_type": "code",
   "execution_count": 2,
   "metadata": {},
   "outputs": [],
   "source": [
    "# чтение файлов"
   ]
  },
  {
   "cell_type": "code",
   "execution_count": 3,
   "metadata": {},
   "outputs": [],
   "source": [
    "graph = gpd.read_file('../lines_to_graph/with_ped/new_graph_with_ped.json',\n",
    "                        encoding='utf-8')"
   ]
  },
  {
   "cell_type": "code",
   "execution_count": 4,
   "metadata": {},
   "outputs": [],
   "source": [
    "nodes = gpd.read_file('../lines_to_graph/with_ped/all_nodes_with_ped.json',\n",
    "                        encoding='utf-8')"
   ]
  },
  {
   "cell_type": "code",
   "execution_count": 5,
   "metadata": {},
   "outputs": [],
   "source": [
    "buildings = gpd.read_file('./all_bui.json',encoding='utf-8')\n",
    "buildings.total_ppl = buildings.total_ppl.astype(float)"
   ]
  },
  {
   "cell_type": "code",
   "execution_count": 6,
   "metadata": {},
   "outputs": [],
   "source": [
    "stps_big = pd.read_csv('../lines_to_graph/total/df_stop_seq_all_n_samobl.csv',\n",
    "                        encoding='utf-8', sep=';')"
   ]
  },
  {
   "cell_type": "code",
   "execution_count": 7,
   "metadata": {},
   "outputs": [],
   "source": [
    "border_sa = gpd.read_file('./data/outer_border_SA.shp',encoding='utf-8')"
   ]
  },
  {
   "cell_type": "code",
   "execution_count": null,
   "metadata": {},
   "outputs": [],
   "source": []
  },
  {
   "cell_type": "code",
   "execution_count": 8,
   "metadata": {},
   "outputs": [],
   "source": [
    "# предварительный фильтр"
   ]
  },
  {
   "cell_type": "code",
   "execution_count": 9,
   "metadata": {},
   "outputs": [],
   "source": [
    "stps_big = stps_big[['stop_id', 'stop_name', 'lat', 'lon']]\n",
    "stps_big = stps_big.drop_duplicates(subset=['stop_id']).reset_index(drop=True)"
   ]
  },
  {
   "cell_type": "code",
   "execution_count": 10,
   "metadata": {},
   "outputs": [
    {
     "data": {
      "application/vnd.jupyter.widget-view+json": {
       "model_id": "1571933b2cfe4a1fa59c57c39eeeeefd",
       "version_major": 2,
       "version_minor": 0
      },
      "text/plain": [
       "HBox(children=(FloatProgress(value=0.0, max=7242.0), HTML(value='')))"
      ]
     },
     "metadata": {},
     "output_type": "display_data"
    },
    {
     "name": "stdout",
     "output_type": "stream",
     "text": [
      "\n"
     ]
    }
   ],
   "source": [
    "lst_geo=[]\n",
    "lst_lat=list(stps_big.lat)\n",
    "lst_lon=list(stps_big.lon)\n",
    "i=0\n",
    "for i in tqdm(range(len(stps_big))):\n",
    "    one_pt = Point(lst_lon[i], lst_lat[i])\n",
    "    lst_geo.append(one_pt)\n",
    "# "
   ]
  },
  {
   "cell_type": "code",
   "execution_count": 11,
   "metadata": {},
   "outputs": [],
   "source": [
    "gdf_stops_all = gpd.GeoDataFrame(stps_big, geometry=lst_geo)\n",
    "gdf_stops_all.crs='epsg:4326'"
   ]
  },
  {
   "cell_type": "code",
   "execution_count": 12,
   "metadata": {},
   "outputs": [],
   "source": [
    "gdf_stops = gpd.sjoin(gdf_stops_all, border_sa[['geometry']], how='inner', op='intersects')\n",
    "gdf_stops = gdf_stops.drop('index_right', axis=1).reset_index(drop=True)"
   ]
  },
  {
   "cell_type": "code",
   "execution_count": null,
   "metadata": {},
   "outputs": [],
   "source": []
  },
  {
   "cell_type": "code",
   "execution_count": 13,
   "metadata": {},
   "outputs": [],
   "source": [
    "shrt_bui = buildings[['osm_id', 'geometry']].copy()"
   ]
  },
  {
   "cell_type": "code",
   "execution_count": 14,
   "metadata": {},
   "outputs": [],
   "source": [
    "# убрать жд пути из графа\n",
    "graph_ped = graph[graph.type_ped != 'no_ped'].reset_index(drop=True)\n",
    "\n",
    "graph_notdir = graph_ped[graph_ped.direction == 'direct'].reset_index(drop=True)\n",
    "graph_notdir = graph_notdir[['link_id', 'from_node', 'to_node', 'geometry']]\n",
    "\n",
    "\n",
    "graph_notdir_32640 = graph_notdir.copy()\n",
    "graph_notdir_32640 = graph_notdir_32640.to_crs('epsg:32640')\n",
    "graph_notdir_32640['length'] = graph_notdir_32640.geometry.length\n",
    "fields = list(graph_notdir_32640.columns)"
   ]
  },
  {
   "cell_type": "code",
   "execution_count": 15,
   "metadata": {},
   "outputs": [],
   "source": [
    "np_gnd = graph_notdir_32640.to_numpy()\n",
    "ind_frnd = list(graph_notdir_32640.columns).index('from_node')\n",
    "ind_tond = list(graph_notdir_32640.columns).index('to_node')\n",
    "ind_geo = list(graph_notdir_32640.columns).index('geometry')\n",
    "ind_li = list(graph_notdir_32640.columns).index('link_id')\n"
   ]
  },
  {
   "cell_type": "code",
   "execution_count": 16,
   "metadata": {},
   "outputs": [],
   "source": [
    "# Алгоритм группирования зданий\n",
    "# 0 удалить нежилые по тегу - проверить если нет total_ppl\n",
    "# 1 total_ppl > 20 - многоквартирный\n",
    "# Если люди есть и их меньше 20 - то ИЖС.\n",
    "# Если людей нет, но этажей больше 4 - то многоквартирный .\n",
    "# 2 нет жителей - если этажей (bui_lvl) меньше 4 - ИЖС\n",
    "# 3 нет этажей, нет людей, площадь полигона (чисто полигона) \n",
    "# если меньше 400 - ИЖС, если больше - многоквартирный\n"
   ]
  },
  {
   "cell_type": "code",
   "execution_count": null,
   "metadata": {},
   "outputs": [],
   "source": []
  },
  {
   "cell_type": "code",
   "execution_count": 18,
   "metadata": {},
   "outputs": [],
   "source": [
    "# Если людей больше 20 - многоквартирные\n",
    "# Если меньше (или их нет):\n",
    "#     Если больше 4 этажей - многоквартирные\n",
    "#     Если меньше:\n",
    "#         Если площадь больше 400 - многоквартирные\n",
    "#         Если меньше - ИЖС"
   ]
  },
  {
   "cell_type": "code",
   "execution_count": null,
   "metadata": {},
   "outputs": [],
   "source": []
  },
  {
   "cell_type": "code",
   "execution_count": 19,
   "metadata": {},
   "outputs": [],
   "source": [
    "bui_liv = buildings[~(buildings.total_ppl.isna() \n",
    "                     & (buildings.bui_group == 'нежилое'))].reset_index(drop=True)"
   ]
  },
  {
   "cell_type": "code",
   "execution_count": 20,
   "metadata": {},
   "outputs": [],
   "source": [
    "bui_liv_32640 = bui_liv.copy()\n",
    "bui_liv_32640 = bui_liv_32640.to_crs('epsg:32640')"
   ]
  },
  {
   "cell_type": "code",
   "execution_count": 21,
   "metadata": {},
   "outputs": [],
   "source": [
    "np_bl = bui_liv_32640.to_numpy()\n",
    "ind_grp = list(bui_liv_32640.columns).index('bui_group')\n",
    "ind_livsq = list(bui_liv_32640.columns).index('living_rooms_sq')\n",
    "ind_ppl = list(bui_liv_32640.columns).index('total_ppl')\n",
    "ind_blvl = list(bui_liv_32640.columns).index('bui_lvl')\n",
    "ind_geo = list(bui_liv_32640.columns).index('geometry')"
   ]
  },
  {
   "cell_type": "code",
   "execution_count": 22,
   "metadata": {},
   "outputs": [
    {
     "data": {
      "application/vnd.jupyter.widget-view+json": {
       "model_id": "7508a79e6bd846ee82c0c87badc05363",
       "version_major": 2,
       "version_minor": 0
      },
      "text/plain": [
       "HBox(children=(FloatProgress(value=0.0, max=175376.0), HTML(value='')))"
      ]
     },
     "metadata": {},
     "output_type": "display_data"
    },
    {
     "name": "stdout",
     "output_type": "stream",
     "text": [
      "\n"
     ]
    }
   ],
   "source": [
    "lst_liv_type = []\n",
    "lst_new_grp=[]\n",
    "\n",
    "for i in tqdm(range(len(np_bl))):\n",
    "    bui_group = np_bl[i, ind_grp]\n",
    "    liv_sq = np_bl[i, ind_livsq]\n",
    "    ttl_ppl = np_bl[i, ind_ppl]\n",
    "    bui_lvl = np_bl[i, ind_blvl]\n",
    "    geo = np_bl[i, ind_geo]\n",
    "    \n",
    "    if ((bui_group == 'нежилое') & (ttl_ppl == ttl_ppl) & (liv_sq == liv_sq)):\n",
    "        new_grp = 'жилое'\n",
    "    else:\n",
    "        new_grp = bui_group\n",
    "    #\n",
    "    lst_new_grp.append(new_grp)\n",
    "    \n",
    "    #\n",
    "    if ttl_ppl > 20:\n",
    "        liv_type = 'многоквартирный'\n",
    "    else:\n",
    "        if bui_lvl > 4:\n",
    "            liv_type = 'многоквартирный'\n",
    "        else:\n",
    "            if geo.area > 400:\n",
    "                liv_type = 'многоквартирный'\n",
    "            else:\n",
    "                liv_type = 'ИЖС'\n",
    "    #\n",
    "    lst_liv_type.append(liv_type)\n",
    "# "
   ]
  },
  {
   "cell_type": "code",
   "execution_count": null,
   "metadata": {},
   "outputs": [],
   "source": []
  },
  {
   "cell_type": "code",
   "execution_count": 23,
   "metadata": {},
   "outputs": [],
   "source": [
    "bui_liv['bui_group'] = lst_new_grp\n",
    "bui_liv['bui_liv_type'] = lst_liv_type"
   ]
  },
  {
   "cell_type": "code",
   "execution_count": 24,
   "metadata": {},
   "outputs": [],
   "source": [
    "bui_liv_400 = bui_liv[bui_liv.bui_liv_type == 'многоквартирный'].reset_index(drop=True)\n",
    "bui_liv_1350 = bui_liv[bui_liv.bui_liv_type == 'ИЖС'].reset_index(drop=True)"
   ]
  },
  {
   "cell_type": "code",
   "execution_count": 25,
   "metadata": {},
   "outputs": [],
   "source": [
    "bui_liv_400_shrt = bui_liv_400[['osm_id', 'bui_liv_type', 'geometry']]"
   ]
  },
  {
   "cell_type": "code",
   "execution_count": 26,
   "metadata": {},
   "outputs": [],
   "source": [
    "bui_liv_1350_shrt = bui_liv_1350[['osm_id', 'bui_liv_type', 'geometry']]"
   ]
  },
  {
   "cell_type": "code",
   "execution_count": null,
   "metadata": {},
   "outputs": [],
   "source": []
  },
  {
   "cell_type": "code",
   "execution_count": null,
   "metadata": {},
   "outputs": [],
   "source": []
  },
  {
   "cell_type": "code",
   "execution_count": null,
   "metadata": {},
   "outputs": [],
   "source": []
  },
  {
   "cell_type": "code",
   "execution_count": null,
   "metadata": {},
   "outputs": [],
   "source": []
  },
  {
   "cell_type": "code",
   "execution_count": 27,
   "metadata": {},
   "outputs": [],
   "source": [
    "def intersect_using_spatial_index(source_gdf, intersecting_gdf):\n",
    "    \"\"\"\n",
    "    Conduct spatial intersection using spatial index for candidates GeoDataFrame to make queries faster.\n",
    "    Note, with this function, you can have multiple Polygons in the 'intersecting_gdf' and it will return all the points\n",
    "    intersect with ANY of those geometries.\n",
    "    \"\"\"\n",
    "    source_sindex = source_gdf.sindex\n",
    "    possible_matches_index = []\n",
    "\n",
    "    # 'itertuples()' function is a faster version of 'iterrows()'\n",
    "    for other in intersecting_gdf.itertuples():\n",
    "        bounds = other.geometry.bounds\n",
    "        c = list(source_sindex.intersection(bounds))\n",
    "        possible_matches_index += c\n",
    "\n",
    "    # Get unique candidates\n",
    "    unique_candidate_matches = list(set(possible_matches_index))\n",
    "    possible_matches = source_gdf.iloc[unique_candidate_matches]\n",
    "\n",
    "    # Conduct the actual intersect\n",
    "    result = possible_matches.loc[possible_matches.intersects(intersecting_gdf.unary_union)]\n",
    "    return result\n",
    "########"
   ]
  },
  {
   "cell_type": "code",
   "execution_count": 28,
   "metadata": {},
   "outputs": [],
   "source": [
    "def find_closest_stop(gdf_one_bui, gdf_stops, gdf_buff):\n",
    "    uu_stops = gdf_stops.geometry.unary_union\n",
    "    centr_bui = gdf_one_bui.geometry[0].centroid\n",
    "    nrst_pt = nearest_points(centr_bui, uu_stops)[1]\n",
    "    \n",
    "    nearest_stop_id = list(gdf_stops[gdf_stops.geometry == nrst_pt]['stop_id'])[0]\n",
    "    nearest_stop_geo = list(gdf_stops[gdf_stops.geometry == nrst_pt]['geometry'])[0]\n",
    "    if gdf_buff.geometry[0].intersects(nearest_stop_geo):\n",
    "        return [nearest_stop_id, nearest_stop_geo]\n",
    "    else:\n",
    "        return []"
   ]
  },
  {
   "cell_type": "code",
   "execution_count": 29,
   "metadata": {},
   "outputs": [],
   "source": [
    "def get_closest_node(gdf_obj, linkid, graph_in_buff):\n",
    "    line_geo = list(graph_in_buff[graph_in_buff.link_id == linkid]['geometry'])[0]\n",
    "    start = Point(line_geo.coords[0])\n",
    "    end = Point(line_geo.coords[-1])\n",
    "    obj_centr = gdf_obj['geometry'][0]#.centroid\n",
    "\n",
    "    if start.distance(obj_centr) < end.distance(obj_centr):\n",
    "        return start\n",
    "    else:\n",
    "        return end\n",
    "# "
   ]
  },
  {
   "cell_type": "code",
   "execution_count": 30,
   "metadata": {},
   "outputs": [],
   "source": [
    "def get_shrt_pth(gdf_one_bui, gdf_buff, gdf_stops, graph_ped):\n",
    "\n",
    "    try:\n",
    "        nearest_stop = find_closest_stop(gdf_one_bui, gdf_stops, gdf_buff)\n",
    "    except:\n",
    "        nearest_stop = []\n",
    "    #\n",
    "    if nearest_stop != []:\n",
    "        gdf_near_stop = gpd.GeoDataFrame(data=[nearest_stop], columns=['stop_id', 'geometry'])\n",
    "        gdf_near_stop.crs=graph_ped.crs\n",
    "        graph_in_buff = intersect_using_spatial_index(graph_ped, gdf_buff[['geometry']])\n",
    "        centr_bui = gdf_one_bui.copy()\n",
    "        centr_bui.geometry = centr_bui.geometry.centroid\n",
    "\n",
    "        text_trap = io.StringIO()\n",
    "        with redirect_stdout(text_trap):\n",
    "            closest_link_bui = mm.get_network_id(gdf_one_bui, graph_in_buff, 'link_id')[0]\n",
    "            closest_link_stop = mm.get_network_id(gdf_near_stop, graph_in_buff, 'link_id')[0]\n",
    "\n",
    "        closest_node_bui = get_closest_node(gdf_one_bui, closest_link_bui, graph_in_buff)\n",
    "        closest_node_stop = get_closest_node(gdf_near_stop, closest_link_stop, graph_in_buff)\n",
    "\n",
    "        one_G = mm.gdf_to_nx(graph_in_buff)\n",
    "        res_lst = nx.shortest_path(one_G, closest_node_bui.coords[0], closest_node_stop.coords[0])\n",
    "\n",
    "        if len(res_lst) == 1:\n",
    "            line_path = LineString([closest_node_bui, closest_node_stop])\n",
    "            path_lngth = 0\n",
    "        elif len(res_lst) == 0:\n",
    "            line_path = LineString([closest_node_bui, closest_node_stop])\n",
    "            path_lngth = -1\n",
    "        else:\n",
    "            line_path = LineString(res_lst)\n",
    "            path_lngth = 1\n",
    "    # \n",
    "        return [nearest_stop[0], path_lngth, res_lst, line_path]\n",
    "    else:\n",
    "        return []"
   ]
  },
  {
   "cell_type": "code",
   "execution_count": 31,
   "metadata": {},
   "outputs": [],
   "source": [
    "def generate_graph(edges, fields):\n",
    "    G = nx.Graph()\n",
    "\n",
    "    key = 0\n",
    "    for index, row in edges.iterrows():\n",
    "        first = row.from_node\n",
    "        last = row.to_node\n",
    "\n",
    "        data = [row[f] for f in fields]\n",
    "        attributes = dict(zip(fields, data))\n",
    "        G.add_edge(first, last, key=key, **attributes)\n",
    "        key += 1\n",
    "    # \n",
    "    return G"
   ]
  },
  {
   "cell_type": "code",
   "execution_count": 32,
   "metadata": {},
   "outputs": [],
   "source": [
    "def get_lst_end_nodes(egg):\n",
    "    lst_nodes_end=[]\n",
    "    lst_nodes = list(egg.nodes())\n",
    "    i=0\n",
    "    for i in (range(len(lst_nodes))):\n",
    "        one_node = lst_nodes[i]\n",
    "        lst_neigh = list(nx.all_neighbors(egg, one_node))\n",
    "        if len(lst_neigh) < 2:\n",
    "            lst_nodes_end.append(one_node)\n",
    "    #\n",
    "    return lst_nodes_end"
   ]
  },
  {
   "cell_type": "code",
   "execution_count": 33,
   "metadata": {},
   "outputs": [],
   "source": [
    "def get_strt_end_paths(egg, closest_node, lst_nodes_end):\n",
    "    \n",
    "    shortest_paths = list(nx.all_pairs_dijkstra_path(egg, weight='length'))\n",
    "    \n",
    "    start_ind=0\n",
    "    i=0\n",
    "    for i in range(len(shortest_paths)):\n",
    "        if shortest_paths[i][0] == closest_node:\n",
    "            start_ind = i\n",
    "            break\n",
    "    # \n",
    "    lst_paths_to_ends = []\n",
    "    i=0\n",
    "    for nd in shortest_paths[start_ind][1]:\n",
    "        if nd in lst_nodes_end:\n",
    "            lst_paths_to_ends.append(shortest_paths[start_ind][1][nd])\n",
    "    # \n",
    "    try:\n",
    "        lst_paths_to_ends.remove([closest_node])\n",
    "    except:\n",
    "        pass\n",
    "    return lst_paths_to_ends"
   ]
  },
  {
   "cell_type": "code",
   "execution_count": 34,
   "metadata": {},
   "outputs": [],
   "source": [
    "def find_closest_node(one_stop_gdf, nodes_in_buff):\n",
    "\n",
    "    stop_pt = one_stop_gdf.geometry[0]\n",
    "    np_nib = nodes_in_buff.to_numpy()\n",
    "    ind_ndid = list(nodes_in_buff.columns).index('nodeID')\n",
    "    ind_geo = list(nodes_in_buff.columns).index('geometry')\n",
    "\n",
    "    closest_node = np_nib[0, ind_ndid]\n",
    "    dstnc = 100000000\n",
    "    i=0\n",
    "    for i in range(len(np_nib)):\n",
    "        node_pt = np_nib[i, ind_geo]\n",
    "        if stop_pt.distance(node_pt) < dstnc:\n",
    "            dstnc = stop_pt.distance(node_pt)\n",
    "            closest_node = np_nib[i, ind_ndid]\n",
    "    # \n",
    "\n",
    "    return closest_node"
   ]
  },
  {
   "cell_type": "code",
   "execution_count": 35,
   "metadata": {},
   "outputs": [],
   "source": [
    "def get_one_stop_graph(one_stop_gdf, nodes, G, buff):\n",
    "    \n",
    "    buff_big = buff + 10\n",
    "    gdf_buff = one_stop_gdf.copy()\n",
    "    gdf_buff.geometry = gdf_buff.geometry.to_crs('epsg:32640').buffer(buff_big).to_crs('epsg:4326')\n",
    "    nodes_in_buff = intersect_using_spatial_index(nodes, gdf_buff[['geometry']]).reset_index(drop=True)\n",
    "\n",
    "    closest_node = find_closest_node(one_stop_gdf, nodes_in_buff)\n",
    "    lst_nodes_buff = list(nodes_in_buff['nodeID'])\n",
    "    lst_paths_to_ends = path_to_ends(lst_nodes_buff, G, closest_node)\n",
    "\n",
    "#     egg = nx.ego_graph(G, closest_node, radius=400, distance='length')\n",
    "#     edglst = nx.to_pandas_edgelist(egg)\n",
    "#     lst_nodes_end = get_lst_end_nodes(egg)\n",
    "#     lst_paths_to_ends = get_strt_end_paths(egg, closest_node, lst_nodes_end)\n",
    "    return lst_paths_to_ends"
   ]
  },
  {
   "cell_type": "code",
   "execution_count": 36,
   "metadata": {},
   "outputs": [],
   "source": [
    "def path_to_ends(lst_nodes_buff, G, closest_node):\n",
    "    lst_done = []\n",
    "    lst_all=[]\n",
    "    k=0\n",
    "    for k in range(len(lst_nodes_buff)):\n",
    "        one_node = lst_nodes_buff[k]\n",
    "        if one_node not in lst_done:\n",
    "            lst_done.append(one_node)\n",
    "            lngth = nx.dijkstra_path_length(G, closest_node, one_node, weight='length')\n",
    "            if lngth < 400:\n",
    "                lst_shtpth = list(nx.dijkstra_path(G, closest_node, one_node, weight='length'))\n",
    "                lst_all.append(lst_shtpth)\n",
    "                j=0\n",
    "                for j in range(len(lst_shtpth)):\n",
    "                    if lst_shtpth[j] not in lst_done:\n",
    "                        lst_done.append(lst_shtpth[j])\n",
    "    # \n",
    "    return lst_all"
   ]
  },
  {
   "cell_type": "code",
   "execution_count": 37,
   "metadata": {},
   "outputs": [],
   "source": [
    "def cut(line, distance):\n",
    "    # Cuts a line in two at a distance from its starting point\n",
    "    if distance <= 0.0 or distance >= line.length:\n",
    "        return [LineString(line)]\n",
    "    coords = list(line.coords)\n",
    "    for i, p in enumerate(coords):\n",
    "        pd = line.project(Point(p))\n",
    "        if pd == distance:\n",
    "            return [\n",
    "                LineString(coords[:i+1]),\n",
    "                LineString(coords[i:])]\n",
    "        if pd > distance:\n",
    "            cp = line.interpolate(distance)\n",
    "            return [\n",
    "                LineString(coords[:i] + [(cp.x, cp.y)]),\n",
    "                LineString([(cp.x, cp.y)] + coords[i:])]"
   ]
  },
  {
   "cell_type": "code",
   "execution_count": 38,
   "metadata": {},
   "outputs": [],
   "source": [
    "def get_one_line(lst_one, np_gnd, ind_frnd, ind_tond, ind_geo):\n",
    "    \n",
    "    lst_lines=[]\n",
    "    i=0\n",
    "    for i in range(1, len(lst_one)):\n",
    "        try:\n",
    "            row = np_gnd[((np_gnd[:,ind_frnd] == lst_one[i-1]) \n",
    "                            & (np_gnd[:,ind_tond] == lst_one[i]))][0]\n",
    "        except:\n",
    "            row = np_gnd[((np_gnd[:,ind_tond] == lst_one[i-1]) \n",
    "                            & (np_gnd[:,ind_frnd] == lst_one[i]))][0]\n",
    "        #\n",
    "        geo = row[ind_geo]\n",
    "        lst_lines.append(geo)\n",
    "    #\n",
    "    multi_line = MultiLineString(lst_lines)\n",
    "    lns = shapely.ops.linemerge(multi_line)\n",
    "    \n",
    "    return lns"
   ]
  },
  {
   "cell_type": "code",
   "execution_count": 39,
   "metadata": {},
   "outputs": [],
   "source": [
    "def get_leftovers(np_gnd, ind_frnd, ind_tond, ind_geo, last_id, lns, lst_one, lng_cut):\n",
    "    left_lines = np_gnd[(\n",
    "                    ((np_gnd[:,ind_tond] == last_id) & ~(np.isin(np_gnd[:,ind_frnd], lst_one)) \n",
    "                     | ((np_gnd[:,ind_frnd] == last_id) & ~(np.isin(np_gnd[:,ind_tond], lst_one))))\n",
    "                )]\n",
    "    #\n",
    "\n",
    "    left_length = lng_cut - lns.length\n",
    "    lst_leftovers=[]\n",
    "    i=0\n",
    "    for i in range(len(left_lines)):\n",
    "        one_line_left = left_lines[i][ind_geo]\n",
    "        left_length = lng_cut - lns.length\n",
    "        if one_line_left.length > left_length:\n",
    "            if ((one_line_left.coords[0] != lns.coords[-1]) \n",
    "                & (one_line_left.coords[-1] != lns.coords[0])):\n",
    "                one_line_left2 = one_line_left.coords[:]\n",
    "                one_line_left2.reverse()\n",
    "                one_line_left = LineString(one_line_left2)\n",
    "            #\n",
    "            left_length = one_line_left.length - left_length\n",
    "            lst_cut_left = cut(one_line_left, left_length)\n",
    "            if lst_cut_left == []:\n",
    "                lst_cut_left = [one_line_left]\n",
    "            if ((lst_cut_left[0].coords[0] == lns.coords[-1]) \n",
    "                | (lst_cut_left[0].coords[-1] == lns.coords[0])):\n",
    "                cut_left = lst_cut_left[0]\n",
    "            else:\n",
    "                try:\n",
    "                    cut_left = lst_cut_left[1]\n",
    "                except:\n",
    "                    cut_left = lst_cut_left[0]\n",
    "            #\n",
    "        else:\n",
    "            cut_left = one_line_left\n",
    "        lst_leftovers.append(cut_left)\n",
    "    # \n",
    "\n",
    "    return lst_leftovers"
   ]
  },
  {
   "cell_type": "code",
   "execution_count": 40,
   "metadata": {},
   "outputs": [],
   "source": [
    "def check_leftovers(np_gnd, ind_frnd, ind_tond, ind_geo, lns2, lst_one2, lng_cut):\n",
    "    \n",
    "    last_id = lst_one2[-1]\n",
    "    \n",
    "    if lns2.length > lng_cut:\n",
    "        try:\n",
    "            cutted_line = cut(lns2, lng_cut)[0]\n",
    "        except:\n",
    "            cutted_line = lns2\n",
    "        lst_leftovers=[]\n",
    "    elif lns2.length == lng_cut:\n",
    "        cutted_line = lns\n",
    "        lst_leftovers=[]\n",
    "    else:\n",
    "        cutted_line = lns2\n",
    "        lst_leftovers = get_leftovers(np_gnd, ind_frnd, ind_tond, ind_geo, last_id, lns2, lst_one2, lng_cut)\n",
    "    #\n",
    "    return cutted_line, lst_leftovers\n",
    "#"
   ]
  },
  {
   "cell_type": "code",
   "execution_count": 41,
   "metadata": {},
   "outputs": [],
   "source": [
    "def get_one_end_lines(lst_one, np_gnd, ind_frnd, ind_tond, ind_geo, buff):\n",
    "\n",
    "    lng_cut = buff\n",
    "\n",
    "    lns = get_one_line(lst_one, np_gnd, ind_frnd, ind_tond, ind_geo)\n",
    "\n",
    "    cutted_line, lst_leftovers = check_leftovers(np_gnd, ind_frnd, ind_tond, ind_geo, lns, lst_one, lng_cut)\n",
    "\n",
    "    lst_lines_one_end = [cutted_line] + lst_leftovers\n",
    "    \n",
    "    l1=[]\n",
    "    i=0\n",
    "    for i in range(len(lst_one)):\n",
    "        one_link_lst = lst_one[0:i+1]\n",
    "\n",
    "        if len(one_link_lst) > 1:\n",
    "            one_line = get_one_line(one_link_lst, np_gnd, ind_frnd, ind_tond, ind_geo)\n",
    "            l1.append(one_line)\n",
    "            cutted_line_sm, lst_leftovers_sm = check_leftovers(np_gnd, ind_frnd, ind_tond, ind_geo, one_line, one_link_lst, lng_cut)\n",
    "            if lst_leftovers_sm != lst_leftovers:\n",
    "                j=0\n",
    "                for j in range(len(lst_leftovers_sm)):\n",
    "                    if lst_leftovers_sm[j] not in lst_lines_one_end:\n",
    "                        lst_lines_one_end.append(lst_leftovers_sm[j])\n",
    "    #\n",
    "\n",
    "    return lst_lines_one_end"
   ]
  },
  {
   "cell_type": "code",
   "execution_count": 42,
   "metadata": {},
   "outputs": [],
   "source": [
    "def get_one_stop_sprut(lst_paths_to_ends, np_gnd, ind_frnd, ind_tond, ind_geo, buff):\n",
    "    lst_all_ends=[]\n",
    "    i=0\n",
    "    for i in range(len(lst_paths_to_ends)):\n",
    "        lst_one = lst_paths_to_ends[i]\n",
    "        lst_lines_one_end = get_one_end_lines(lst_one, np_gnd, ind_frnd, ind_tond, ind_geo, buff)\n",
    "        for k in range(len(lst_lines_one_end)):\n",
    "            if lst_lines_one_end[k] not in lst_all_ends:\n",
    "                lst_all_ends.append(lst_lines_one_end[k])\n",
    "    #\n",
    "    return lst_all_ends"
   ]
  },
  {
   "cell_type": "code",
   "execution_count": 74,
   "metadata": {},
   "outputs": [],
   "source": [
    "def get_sj_and_spruts(lngth, graph_notdir_32640, G, gdf_stops, shrt_bui, buff_big, buff_small):\n",
    "    \n",
    "    np_gnd = graph_notdir_32640.to_numpy()\n",
    "    ind_frnd = list(graph_notdir_32640.columns).index('from_node')\n",
    "    ind_tond = list(graph_notdir_32640.columns).index('to_node')\n",
    "    ind_geo = list(graph_notdir_32640.columns).index('geometry')\n",
    "    ind_li = list(graph_notdir_32640.columns).index('link_id')\n",
    "\n",
    "    lst_cu_spruts = []\n",
    "    lst_stop_id = []\n",
    "    \n",
    "    i=0\n",
    "    for i in tqdm(range(lngth)):\n",
    "    # for i in tqdm(range(len(gdf_stops))):\n",
    "        one_stop_gdf = gdf_stops.iloc[[i]].reset_index(drop=True)\n",
    "        stop_id = one_stop_gdf.stop_id[0]\n",
    "        lst_paths_to_ends = get_one_stop_graph(one_stop_gdf, nodes, G, buff_big)\n",
    "        sprut_ml_one_stop = get_one_stop_sprut(lst_paths_to_ends, np_gnd, \n",
    "                                               ind_frnd, ind_tond, ind_geo, buff_big)\n",
    "        cu_sprut = cascaded_union(sprut_ml_one_stop)\n",
    "        lst_cu_spruts.append(cu_sprut)\n",
    "        lst_stop_id.append(stop_id)\n",
    "    # \n",
    "\n",
    "    spruts = gpd.GeoDataFrame(data=lst_stop_id,geometry=list(lst_cu_spruts), columns=['stop_id'])\n",
    "    spruts['ped_avail_m'] = buff_big\n",
    "    spruts.crs = 'epsg:32640'\n",
    "\n",
    "    spruts_buff = spruts.copy()\n",
    "    spruts_buff.geometry = spruts_buff.geometry.buffer(buff_small)\n",
    "    \n",
    "    spruts_buff = spruts_buff.to_crs('epsg:4326')\n",
    "    spruts = spruts.to_crs('epsg:4326')\n",
    "    \n",
    "    print(datetime.now())\n",
    "    if buff_big == 400:\n",
    "        tm = (len(lst_cu_spruts) * 6) / 60\n",
    "    else:\n",
    "        tm = (len(lst_cu_spruts) * 10) / 60\n",
    "    print(\"time left to sjoin spruts_buff with buildings, min:\", tm)\n",
    "\n",
    "    sj = gpd.sjoin(shrt_bui, spruts_buff, how='inner', \n",
    "                   op='intersects').drop(\"index_right\", axis=1).reset_index(drop=True)\n",
    "    sj = sj.drop_duplicates(subset=['osm_id']).reset_index(drop=True)\n",
    "    print(datetime.now())\n",
    "    \n",
    "    return sj, spruts_buff, spruts"
   ]
  },
  {
   "cell_type": "code",
   "execution_count": null,
   "metadata": {},
   "outputs": [],
   "source": []
  },
  {
   "cell_type": "code",
   "execution_count": null,
   "metadata": {},
   "outputs": [],
   "source": []
  },
  {
   "cell_type": "code",
   "execution_count": null,
   "metadata": {},
   "outputs": [],
   "source": []
  },
  {
   "cell_type": "code",
   "execution_count": 44,
   "metadata": {},
   "outputs": [
    {
     "name": "stdout",
     "output_type": "stream",
     "text": [
      "Wall time: 21.4 s\n"
     ]
    }
   ],
   "source": [
    "# https://github.com/martinfleis/momepy/blob/v0.3.0/momepy/utils.py#L117-L156\n",
    "%time G = generate_graph(graph_notdir_32640, fields)"
   ]
  },
  {
   "cell_type": "code",
   "execution_count": null,
   "metadata": {},
   "outputs": [],
   "source": []
  },
  {
   "cell_type": "code",
   "execution_count": 75,
   "metadata": {},
   "outputs": [
    {
     "data": {
      "application/vnd.jupyter.widget-view+json": {
       "model_id": "b4774c537f6e43d1ba810376f02ded0d",
       "version_major": 2,
       "version_minor": 0
      },
      "text/plain": [
       "HBox(children=(FloatProgress(value=0.0, max=3.0), HTML(value='')))"
      ]
     },
     "metadata": {},
     "output_type": "display_data"
    },
    {
     "name": "stdout",
     "output_type": "stream",
     "text": [
      "\n",
      "2020-09-14 09:10:13.896278\n",
      "time left to sjoin spruts_buff with buildings, min: 0.3\n",
      "2020-09-14 09:10:16.256536\n",
      "Wall time: 28.7 s\n"
     ]
    }
   ],
   "source": [
    "shrt_bui = bui_liv_400_shrt.copy()\n",
    "buff_big, buff_small = 400, 100\n",
    "# lngth = len(gdf_stops)\n",
    "lngth = 3\n",
    "%time sj_400, spruts_buff_400, spruts_400 = get_sj_and_spruts(lngth, graph_notdir_32640, G, gdf_stops, shrt_bui, buff_big, buff_small)"
   ]
  },
  {
   "cell_type": "code",
   "execution_count": 71,
   "metadata": {},
   "outputs": [
    {
     "data": {
      "application/vnd.jupyter.widget-view+json": {
       "model_id": "3e3c7a964d254f5180a5aec14ff4923a",
       "version_major": 2,
       "version_minor": 0
      },
      "text/plain": [
       "HBox(children=(FloatProgress(value=0.0, max=3.0), HTML(value='')))"
      ]
     },
     "metadata": {},
     "output_type": "display_data"
    },
    {
     "name": "stdout",
     "output_type": "stream",
     "text": [
      "\n",
      "2020-09-14 08:55:37.907041\n",
      "time left to sjoin spruts_buff with buildings, min: 0.3\n",
      "2020-09-14 08:55:51.136320\n",
      "Wall time: 44.3 s\n"
     ]
    }
   ],
   "source": [
    "shrt_bui = bui_liv_1350_shrt.copy()\n",
    "buff_big, buff_small = 1350, 150\n",
    "# lngth = len(gdf_stops)\n",
    "lngth = 3\n",
    "%time sj_1350, spruts_buff_1350, spruts_1350 = get_sj_and_spruts(graph_notdir_32640, G, gdf_stops, shrt_bui, buff_big, buff_small)"
   ]
  },
  {
   "cell_type": "code",
   "execution_count": null,
   "metadata": {},
   "outputs": [],
   "source": []
  },
  {
   "cell_type": "code",
   "execution_count": null,
   "metadata": {},
   "outputs": [],
   "source": []
  },
  {
   "cell_type": "code",
   "execution_count": null,
   "metadata": {},
   "outputs": [],
   "source": []
  },
  {
   "cell_type": "code",
   "execution_count": null,
   "metadata": {},
   "outputs": [],
   "source": []
  },
  {
   "cell_type": "code",
   "execution_count": 67,
   "metadata": {
    "scrolled": true
   },
   "outputs": [],
   "source": [
    "num = 4\n",
    "spruts_buff_1350.to_file('spruts_buff_1350_{}.json'.format(num), driver='GeoJSON', \n",
    "                         encoding='utf-8')\n",
    "spruts_1350.to_file('spruts_1350_{}.json'.format(num), driver='GeoJSON', encoding='utf-8')\n",
    "sj_1350.to_file('sj_1350_{}.json'.format(num), driver='GeoJSON', encoding='utf-8')"
   ]
  },
  {
   "cell_type": "code",
   "execution_count": 65,
   "metadata": {
    "scrolled": true
   },
   "outputs": [],
   "source": [
    "num = 4\n",
    "spruts_buff_400.to_file('spruts_buff_400_{}.json'.format(num), driver='GeoJSON')\n",
    "spruts_400.to_file('spruts_400_{}.json'.format(num), driver='GeoJSON')\n",
    "sj_400.to_file('sj_400_{}.json'.format(num), driver='GeoJSON')"
   ]
  },
  {
   "cell_type": "code",
   "execution_count": null,
   "metadata": {},
   "outputs": [],
   "source": []
  },
  {
   "cell_type": "code",
   "execution_count": null,
   "metadata": {},
   "outputs": [],
   "source": [
    "# прилепить оставшиеся здания (вне буффера)"
   ]
  },
  {
   "cell_type": "code",
   "execution_count": null,
   "metadata": {},
   "outputs": [],
   "source": []
  },
  {
   "cell_type": "code",
   "execution_count": 83,
   "metadata": {},
   "outputs": [],
   "source": [
    "new_bui_liv = bui_liv[(~(bui_liv.osm_id.isin(sj_400.osm_id)) \n",
    "                        & (~bui_liv.osm_id.isin(sj_1350.osm_id)))].reset_index(drop=True)\n",
    "new_bui_liv['stop_id'] = None\n",
    "new_bui_liv['ped_avail_m'] = None\n",
    "new_bui_liv = new_bui_liv[['osm_id', 'bui_liv_type', 'geometry', 'stop_id', 'ped_avail_m']]"
   ]
  },
  {
   "cell_type": "code",
   "execution_count": 87,
   "metadata": {},
   "outputs": [],
   "source": [
    "total_bui_liv = sj_400.append(sj_1350).append(new_bui_liv).reset_index(drop=True)"
   ]
  },
  {
   "cell_type": "code",
   "execution_count": null,
   "metadata": {},
   "outputs": [],
   "source": []
  },
  {
   "cell_type": "code",
   "execution_count": 88,
   "metadata": {},
   "outputs": [
    {
     "data": {
      "text/html": [
       "<div>\n",
       "<style scoped>\n",
       "    .dataframe tbody tr th:only-of-type {\n",
       "        vertical-align: middle;\n",
       "    }\n",
       "\n",
       "    .dataframe tbody tr th {\n",
       "        vertical-align: top;\n",
       "    }\n",
       "\n",
       "    .dataframe thead th {\n",
       "        text-align: right;\n",
       "    }\n",
       "</style>\n",
       "<table border=\"1\" class=\"dataframe\">\n",
       "  <thead>\n",
       "    <tr style=\"text-align: right;\">\n",
       "      <th></th>\n",
       "      <th>osm_id</th>\n",
       "      <th>bui_liv_type</th>\n",
       "      <th>geometry</th>\n",
       "      <th>stop_id</th>\n",
       "      <th>ped_avail_m</th>\n",
       "    </tr>\n",
       "  </thead>\n",
       "  <tbody>\n",
       "    <tr>\n",
       "      <th>0</th>\n",
       "      <td>40532043</td>\n",
       "      <td>многоквартирный</td>\n",
       "      <td>POLYGON ((50.17355 53.19140, 50.17246 53.19137...</td>\n",
       "      <td>stop__10000931</td>\n",
       "      <td>400</td>\n",
       "    </tr>\n",
       "    <tr>\n",
       "      <th>1</th>\n",
       "      <td>41601932</td>\n",
       "      <td>многоквартирный</td>\n",
       "      <td>POLYGON ((50.17797 53.19571, 50.17818 53.19571...</td>\n",
       "      <td>stop__10000931</td>\n",
       "      <td>400</td>\n",
       "    </tr>\n",
       "  </tbody>\n",
       "</table>\n",
       "</div>"
      ],
      "text/plain": [
       "     osm_id     bui_liv_type  \\\n",
       "0  40532043  многоквартирный   \n",
       "1  41601932  многоквартирный   \n",
       "\n",
       "                                            geometry         stop_id  \\\n",
       "0  POLYGON ((50.17355 53.19140, 50.17246 53.19137...  stop__10000931   \n",
       "1  POLYGON ((50.17797 53.19571, 50.17818 53.19571...  stop__10000931   \n",
       "\n",
       "  ped_avail_m  \n",
       "0         400  \n",
       "1         400  "
      ]
     },
     "execution_count": 88,
     "metadata": {},
     "output_type": "execute_result"
    }
   ],
   "source": [
    "total_bui_liv.head(2)"
   ]
  },
  {
   "cell_type": "code",
   "execution_count": null,
   "metadata": {},
   "outputs": [],
   "source": []
  },
  {
   "cell_type": "code",
   "execution_count": null,
   "metadata": {},
   "outputs": [],
   "source": [
    "num = 4\n",
    "total_bui_liv.to_file('total_bui_liv_{}.json'.format(num), driver='GeoJSON', \n",
    "                         encoding='utf-8')"
   ]
  },
  {
   "cell_type": "code",
   "execution_count": null,
   "metadata": {},
   "outputs": [],
   "source": []
  }
 ],
 "metadata": {
  "kernelspec": {
   "display_name": "Python 3",
   "language": "python",
   "name": "python3"
  },
  "language_info": {
   "codemirror_mode": {
    "name": "ipython",
    "version": 3
   },
   "file_extension": ".py",
   "mimetype": "text/x-python",
   "name": "python",
   "nbconvert_exporter": "python",
   "pygments_lexer": "ipython3",
   "version": "3.7.6"
  }
 },
 "nbformat": 4,
 "nbformat_minor": 4
}
