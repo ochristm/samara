{
 "cells": [
  {
   "cell_type": "code",
   "execution_count": 1,
   "metadata": {},
   "outputs": [],
   "source": [
    "import numpy as np\n",
    "import pandas as pd\n",
    "import geopandas as gpd\n",
    "import shapely\n",
    "from shapely.geometry import Point, LineString, MultiLineString, Polygon, MultiPolygon\n",
    "from tqdm.notebook import tqdm\n",
    "import time\n",
    "from datetime import datetime\n",
    "\n",
    "import momepy as mm\n",
    "import momepy\n",
    "import networkx as nx\n",
    "\n",
    "import math\n",
    "\n",
    "from contextlib import redirect_stdout\n",
    "\n",
    "import io\n",
    "import sys\n",
    "\n",
    "from shapely.ops import nearest_points\n",
    "from shapely.ops import unary_union"
   ]
  },
  {
   "cell_type": "code",
   "execution_count": null,
   "metadata": {},
   "outputs": [],
   "source": []
  },
  {
   "cell_type": "code",
   "execution_count": 2,
   "metadata": {},
   "outputs": [],
   "source": [
    "# проверка остановки в буффере - если даже по вохдуху не попадает - не искать"
   ]
  },
  {
   "cell_type": "code",
   "execution_count": null,
   "metadata": {},
   "outputs": [],
   "source": []
  },
  {
   "cell_type": "code",
   "execution_count": 2,
   "metadata": {},
   "outputs": [],
   "source": [
    "graph = gpd.read_file('../lines_to_graph/with_ped/new_graph_with_ped.json',\n",
    "                        encoding='utf-8')"
   ]
  },
  {
   "cell_type": "code",
   "execution_count": 3,
   "metadata": {},
   "outputs": [],
   "source": [
    "nodes = gpd.read_file('../lines_to_graph/with_ped/all_nodes_with_ped.json',\n",
    "                        encoding='utf-8')"
   ]
  },
  {
   "cell_type": "code",
   "execution_count": 4,
   "metadata": {},
   "outputs": [],
   "source": [
    "buildings = gpd.read_file('./all_bui.json',encoding='utf-8')"
   ]
  },
  {
   "cell_type": "code",
   "execution_count": 5,
   "metadata": {},
   "outputs": [],
   "source": [
    "stps_big = pd.read_csv('../lines_to_graph/total/df_stop_seq_all_n_samobl.csv',\n",
    "                        encoding='utf-8', sep=';')"
   ]
  },
  {
   "cell_type": "code",
   "execution_count": 6,
   "metadata": {},
   "outputs": [],
   "source": [
    "stps_big = stps_big[['stop_id', 'stop_name', 'lat', 'lon']]\n",
    "stps_big = stps_big.drop_duplicates(subset=['stop_id']).reset_index(drop=True)"
   ]
  },
  {
   "cell_type": "code",
   "execution_count": 7,
   "metadata": {},
   "outputs": [
    {
     "data": {
      "application/vnd.jupyter.widget-view+json": {
       "model_id": "abce6d38f0f544e3b1f25c42ecdda474",
       "version_major": 2,
       "version_minor": 0
      },
      "text/plain": [
       "HBox(children=(FloatProgress(value=0.0, max=7242.0), HTML(value='')))"
      ]
     },
     "metadata": {},
     "output_type": "display_data"
    },
    {
     "name": "stdout",
     "output_type": "stream",
     "text": [
      "\n"
     ]
    }
   ],
   "source": [
    "lst_geo=[]\n",
    "lst_lat=list(stps_big.lat)\n",
    "lst_lon=list(stps_big.lon)\n",
    "i=0\n",
    "for i in tqdm(range(len(stps_big))):\n",
    "    one_pt = Point(lst_lon[i], lst_lat[i])\n",
    "    lst_geo.append(one_pt)\n",
    "# "
   ]
  },
  {
   "cell_type": "code",
   "execution_count": 8,
   "metadata": {},
   "outputs": [],
   "source": [
    "gdf_stops_all = gpd.GeoDataFrame(stps_big, geometry=lst_geo)\n",
    "gdf_stops_all.crs='epsg:4326'"
   ]
  },
  {
   "cell_type": "code",
   "execution_count": 9,
   "metadata": {},
   "outputs": [],
   "source": [
    "border_sa = gpd.read_file('./data/outer_border_SA.shp',encoding='utf-8')"
   ]
  },
  {
   "cell_type": "code",
   "execution_count": 10,
   "metadata": {},
   "outputs": [],
   "source": [
    "gdf_stops = gpd.sjoin(gdf_stops_all, border_sa[['geometry']], how='inner', op='intersects')\n",
    "gdf_stops = gdf_stops.drop('index_right', axis=1).reset_index(drop=True)"
   ]
  },
  {
   "cell_type": "code",
   "execution_count": null,
   "metadata": {},
   "outputs": [],
   "source": []
  },
  {
   "cell_type": "code",
   "execution_count": 11,
   "metadata": {},
   "outputs": [],
   "source": [
    "# убрать жд пути из графа\n",
    "graph_ped = graph[graph.type_ped != 'no_ped'].reset_index(drop=True)[['link_id', 'geometry']]"
   ]
  },
  {
   "cell_type": "code",
   "execution_count": 12,
   "metadata": {},
   "outputs": [],
   "source": [
    "shrt_bui = buildings[['osm_id', 'geometry']].copy()"
   ]
  },
  {
   "cell_type": "code",
   "execution_count": null,
   "metadata": {},
   "outputs": [],
   "source": []
  },
  {
   "cell_type": "code",
   "execution_count": 13,
   "metadata": {},
   "outputs": [],
   "source": [
    "def intersect_using_spatial_index(source_gdf, intersecting_gdf):\n",
    "    \"\"\"\n",
    "    Conduct spatial intersection using spatial index for candidates GeoDataFrame to make queries faster.\n",
    "    Note, with this function, you can have multiple Polygons in the 'intersecting_gdf' and it will return all the points\n",
    "    intersect with ANY of those geometries.\n",
    "    \"\"\"\n",
    "    source_sindex = source_gdf.sindex\n",
    "    possible_matches_index = []\n",
    "\n",
    "    # 'itertuples()' function is a faster version of 'iterrows()'\n",
    "    for other in intersecting_gdf.itertuples():\n",
    "        bounds = other.geometry.bounds\n",
    "        c = list(source_sindex.intersection(bounds))\n",
    "        possible_matches_index += c\n",
    "\n",
    "    # Get unique candidates\n",
    "    unique_candidate_matches = list(set(possible_matches_index))\n",
    "    possible_matches = source_gdf.iloc[unique_candidate_matches]\n",
    "\n",
    "    # Conduct the actual intersect\n",
    "    result = possible_matches.loc[possible_matches.intersects(intersecting_gdf.unary_union)]\n",
    "    return result\n",
    "########"
   ]
  },
  {
   "cell_type": "code",
   "execution_count": 14,
   "metadata": {},
   "outputs": [],
   "source": [
    "def find_closest_stop(gdf_one_bui, gdf_stops, gdf_buff):\n",
    "    uu_stops = gdf_stops.geometry.unary_union\n",
    "    centr_bui = gdf_one_bui.geometry[0].centroid\n",
    "    nrst_pt = nearest_points(centr_bui, uu_stops)[1]\n",
    "    \n",
    "    nearest_stop_id = list(gdf_stops[gdf_stops.geometry == nrst_pt]['stop_id'])[0]\n",
    "    nearest_stop_geo = list(gdf_stops[gdf_stops.geometry == nrst_pt]['geometry'])[0]\n",
    "    if gdf_buff.geometry[0].intersects(nearest_stop_geo):\n",
    "        return [nearest_stop_id, nearest_stop_geo]\n",
    "    else:\n",
    "        return []"
   ]
  },
  {
   "cell_type": "code",
   "execution_count": 15,
   "metadata": {},
   "outputs": [],
   "source": [
    "def get_closest_node(gdf_obj, linkid, graph_in_buff):\n",
    "    line_geo = list(graph_in_buff[graph_in_buff.link_id == linkid]['geometry'])[0]\n",
    "    start = Point(line_geo.coords[0])\n",
    "    end = Point(line_geo.coords[-1])\n",
    "    obj_centr = gdf_obj['geometry'][0]#.centroid\n",
    "\n",
    "    if start.distance(obj_centr) < end.distance(obj_centr):\n",
    "        return start\n",
    "    else:\n",
    "        return end\n",
    "# "
   ]
  },
  {
   "cell_type": "code",
   "execution_count": 16,
   "metadata": {},
   "outputs": [],
   "source": [
    "def get_shrt_pth(gdf_one_bui, gdf_buff, gdf_stops, graph_ped):\n",
    "\n",
    "    try:\n",
    "        nearest_stop = find_closest_stop(gdf_one_bui, gdf_stops, gdf_buff)\n",
    "    except:\n",
    "        nearest_stop = []\n",
    "    #\n",
    "    if nearest_stop != []:\n",
    "        gdf_near_stop = gpd.GeoDataFrame(data=[nearest_stop], columns=['stop_id', 'geometry'])\n",
    "        gdf_near_stop.crs=graph_ped.crs\n",
    "        graph_in_buff = intersect_using_spatial_index(graph_ped, gdf_buff[['geometry']])\n",
    "        centr_bui = gdf_one_bui.copy()\n",
    "        centr_bui.geometry = centr_bui.geometry.centroid\n",
    "\n",
    "        text_trap = io.StringIO()\n",
    "        with redirect_stdout(text_trap):\n",
    "            closest_link_bui = mm.get_network_id(gdf_one_bui, graph_in_buff, 'link_id')[0]\n",
    "            closest_link_stop = mm.get_network_id(gdf_near_stop, graph_in_buff, 'link_id')[0]\n",
    "\n",
    "        closest_node_bui = get_closest_node(gdf_one_bui, closest_link_bui, graph_in_buff)\n",
    "        closest_node_stop = get_closest_node(gdf_near_stop, closest_link_stop, graph_in_buff)\n",
    "\n",
    "        one_G = mm.gdf_to_nx(graph_in_buff)\n",
    "        res_lst = nx.shortest_path(one_G, closest_node_bui.coords[0], closest_node_stop.coords[0])\n",
    "\n",
    "        if len(res_lst) == 1:\n",
    "            line_path = LineString([closest_node_bui, closest_node_stop])\n",
    "            path_lngth = 0\n",
    "        elif len(res_lst) == 0:\n",
    "            line_path = LineString([closest_node_bui, closest_node_stop])\n",
    "            path_lngth = -1\n",
    "        else:\n",
    "            line_path = LineString(res_lst)\n",
    "            path_lngth = 1\n",
    "    # \n",
    "        return [nearest_stop[0], path_lngth, res_lst, line_path]\n",
    "    else:\n",
    "        return []"
   ]
  },
  {
   "cell_type": "code",
   "execution_count": 17,
   "metadata": {},
   "outputs": [],
   "source": [
    "def generate_graph(edges, fields):\n",
    "    G = nx.Graph()\n",
    "\n",
    "    key = 0\n",
    "    for index, row in edges.iterrows():\n",
    "        first = row.from_node\n",
    "        last = row.to_node\n",
    "\n",
    "        data = [row[f] for f in fields]\n",
    "        attributes = dict(zip(fields, data))\n",
    "        G.add_edge(first, last, key=key, **attributes)\n",
    "        key += 1\n",
    "    # \n",
    "    return G"
   ]
  },
  {
   "cell_type": "code",
   "execution_count": 18,
   "metadata": {},
   "outputs": [],
   "source": [
    "def get_lst_end_nodes(egg):\n",
    "    lst_nodes_end=[]\n",
    "    lst_nodes = list(egg.nodes())\n",
    "    i=0\n",
    "    for i in (range(len(lst_nodes))):\n",
    "        one_node = lst_nodes[i]\n",
    "        lst_neigh = list(nx.all_neighbors(egg, one_node))\n",
    "        if len(lst_neigh) < 2:\n",
    "            lst_nodes_end.append(one_node)\n",
    "    #\n",
    "    return lst_nodes_end"
   ]
  },
  {
   "cell_type": "code",
   "execution_count": 19,
   "metadata": {},
   "outputs": [],
   "source": [
    "def get_strt_end_paths(egg, closest_node, lst_nodes_end):\n",
    "    \n",
    "    shortest_paths = list(nx.all_pairs_dijkstra_path(egg, weight='length'))\n",
    "    \n",
    "    start_ind=0\n",
    "    i=0\n",
    "    for i in range(len(shortest_paths)):\n",
    "        if shortest_paths[i][0] == closest_node:\n",
    "            start_ind = i\n",
    "            break\n",
    "    # \n",
    "    lst_paths_to_ends = []\n",
    "    i=0\n",
    "    for nd in shortest_paths[start_ind][1]:\n",
    "        if nd in lst_nodes_end:\n",
    "            lst_paths_to_ends.append(shortest_paths[start_ind][1][nd])\n",
    "    # \n",
    "    try:\n",
    "        lst_paths_to_ends.remove([closest_node])\n",
    "    except:\n",
    "        pass\n",
    "    return lst_paths_to_ends"
   ]
  },
  {
   "cell_type": "code",
   "execution_count": 20,
   "metadata": {},
   "outputs": [],
   "source": [
    "def find_closest_node(one_stop_gdf, nodes_in_buff):\n",
    "\n",
    "    stop_pt = one_stop_gdf.geometry[0]\n",
    "    np_nib = nodes_in_buff.to_numpy()\n",
    "    ind_ndid = list(nodes_in_buff.columns).index('nodeID')\n",
    "    ind_geo = list(nodes_in_buff.columns).index('geometry')\n",
    "\n",
    "    closest_node = np_nib[0, ind_ndid]\n",
    "    dstnc = 100000000\n",
    "    i=0\n",
    "    for i in range(len(np_nib)):\n",
    "        node_pt = np_nib[i, ind_geo]\n",
    "        if stop_pt.distance(node_pt) < dstnc:\n",
    "            dstnc = stop_pt.distance(node_pt)\n",
    "            closest_node = np_nib[i, ind_ndid]\n",
    "    # \n",
    "\n",
    "    return closest_node"
   ]
  },
  {
   "cell_type": "code",
   "execution_count": 21,
   "metadata": {},
   "outputs": [],
   "source": [
    "def get_one_stop_graph(one_stop_gdf, nodes, G):\n",
    "    gdf_buff = one_stop_gdf.copy()\n",
    "    gdf_buff.geometry = gdf_buff.geometry.to_crs('epsg:32640').buffer(600).to_crs('epsg:4326')\n",
    "    nodes_in_buff = intersect_using_spatial_index(nodes, gdf_buff[['geometry']]).reset_index(drop=True)\n",
    "\n",
    "    closest_node = find_closest_node(one_stop_gdf, nodes_in_buff)\n",
    "\n",
    "    egg = nx.ego_graph(G, closest_node, radius=400, distance='length')\n",
    "#     edglst = nx.to_pandas_edgelist(egg)\n",
    "    lst_nodes_end = get_lst_end_nodes(egg)\n",
    "    lst_paths_to_ends = get_strt_end_paths(egg, closest_node, lst_nodes_end)\n",
    "    return lst_paths_to_ends"
   ]
  },
  {
   "cell_type": "code",
   "execution_count": 22,
   "metadata": {},
   "outputs": [],
   "source": [
    "def cut(line, distance):\n",
    "    # Cuts a line in two at a distance from its starting point\n",
    "    if distance <= 0.0 or distance >= line.length:\n",
    "        return [LineString(line)]\n",
    "    coords = list(line.coords)\n",
    "    for i, p in enumerate(coords):\n",
    "        pd = line.project(Point(p))\n",
    "        if pd == distance:\n",
    "            return [\n",
    "                LineString(coords[:i+1]),\n",
    "                LineString(coords[i:])]\n",
    "        if pd > distance:\n",
    "            cp = line.interpolate(distance)\n",
    "            return [\n",
    "                LineString(coords[:i] + [(cp.x, cp.y)]),\n",
    "                LineString([(cp.x, cp.y)] + coords[i:])]"
   ]
  },
  {
   "cell_type": "code",
   "execution_count": 217,
   "metadata": {},
   "outputs": [],
   "source": [
    "def get_one_line(lst_one, np_gnd, ind_frnd, ind_tond, ind_geo):\n",
    "    \n",
    "    lst_lines=[]\n",
    "    i=0\n",
    "    for i in range(1, len(lst_one)):\n",
    "        try:\n",
    "            row = np_gnd[((np_gnd[:,ind_frnd] == lst_one[i-1]) \n",
    "                            & (np_gnd[:,ind_tond] == lst_one[i]))][0]\n",
    "        except:\n",
    "            row = np_gnd[((np_gnd[:,ind_tond] == lst_one[i-1]) \n",
    "                            & (np_gnd[:,ind_frnd] == lst_one[i]))][0]\n",
    "        #\n",
    "        geo = row[ind_geo]\n",
    "        lst_lines.append(geo)\n",
    "    #\n",
    "    multi_line = MultiLineString(lst_lines)\n",
    "    lns = shapely.ops.linemerge(multi_line)\n",
    "    \n",
    "    return lns"
   ]
  },
  {
   "cell_type": "code",
   "execution_count": 80,
   "metadata": {},
   "outputs": [],
   "source": [
    "def get_leftovers(np_gnd, ind_frnd, ind_tond, ind_geo, last_id, lns, lst_one, lng_cut):\n",
    "    left_lines = np_gnd[(\n",
    "                    ((np_gnd[:,ind_tond] == last_id) & ~(np.isin(np_gnd[:,ind_frnd], lst_one)) \n",
    "                     | ((np_gnd[:,ind_frnd] == last_id) & ~(np.isin(np_gnd[:,ind_tond], lst_one))))\n",
    "                )]\n",
    "    #\n",
    "\n",
    "    left_length = lng_cut - lns.length\n",
    "    lst_leftovers=[]\n",
    "    i=0\n",
    "    for i in range(len(left_lines)):\n",
    "        one_line_left = left_lines[i][ind_geo]\n",
    "        if one_line_left.length > left_length:\n",
    "            if ((one_line_left.coords[0] != lns.coords[-1]) \n",
    "                & (one_line_left.coords[-1] != lns.coords[0])):\n",
    "                one_line_left2 = one_line_left.coords[:]\n",
    "                one_line_left2.reverse()\n",
    "                one_line_left = LineString(one_line_left2)\n",
    "            \n",
    "            lst_cut_left = cut(one_line_left, left_length)\n",
    "            if lst_cut_left == []:\n",
    "                lst_cut_left = [one_line_left]\n",
    "            if ((lst_cut_left[0].coords[0] == lns.coords[-1]) \n",
    "                | (lst_cut_left[0].coords[-1] == lns.coords[0])):\n",
    "                cut_left = lst_cut_left[0]\n",
    "            else:\n",
    "                try:\n",
    "                    cut_left = lst_cut_left[1]\n",
    "                except:\n",
    "                    cut_left = lst_cut_left[0]\n",
    "            #\n",
    "        else:\n",
    "            cut_left = one_line_left\n",
    "        lst_leftovers.append(cut_left)\n",
    "    # \n",
    "\n",
    "    return lst_leftovers"
   ]
  },
  {
   "cell_type": "code",
   "execution_count": 92,
   "metadata": {},
   "outputs": [],
   "source": [
    "def check_leftovers(np_gnd, ind_frnd, ind_tond, ind_geo, lns2, lst_one2, lng_cut):\n",
    "    \n",
    "    last_id = lst_one2[-1]\n",
    "#     print()\n",
    "#     print(last_id)\n",
    "#     print(\"1_len_link\", lns2.length)\n",
    "    \n",
    "    if lns2.length > lng_cut:\n",
    "        try:\n",
    "            cutted_line = cut(lns2, lng_cut)[0]\n",
    "        except:\n",
    "            cutted_line = lns2, lng_cut\n",
    "        lst_leftovers=[]\n",
    "    elif lns2.length == lng_cut:\n",
    "        cutted_line = lns\n",
    "        lst_leftovers=[]\n",
    "    else:\n",
    "        cutted_line = lns2\n",
    "        lst_leftovers = get_leftovers(np_gnd, ind_frnd, ind_tond, ind_geo, last_id, lns2, lst_one2, lng_cut)\n",
    "    #\n",
    "    return cutted_line, lst_leftovers\n",
    "#"
   ]
  },
  {
   "cell_type": "code",
   "execution_count": 25,
   "metadata": {},
   "outputs": [],
   "source": [
    "def get_one_end_lines(lst_one, np_gnd, ind_frnd, ind_tond, ind_geo):\n",
    "\n",
    "    lng_cut = 400\n",
    "\n",
    "    lns = get_one_line(lst_one, np_gnd, ind_frnd, ind_tond, ind_geo)\n",
    "\n",
    "    cutted_line, lst_leftovers = check_leftovers(np_gnd, ind_frnd, ind_tond, ind_geo, lns, lst_one, lng_cut)\n",
    "\n",
    "    lst_lines_one_end = [cutted_line] + lst_leftovers\n",
    "    \n",
    "    l1=[]\n",
    "    i=0\n",
    "    for i in range(len(lst_one)):\n",
    "        one_link_lst = lst_one[0:i+1]\n",
    "\n",
    "        if len(one_link_lst) > 1:\n",
    "            one_line = get_one_line(one_link_lst, np_gnd, ind_frnd, ind_tond, ind_geo)\n",
    "            l1.append(one_line)\n",
    "            cutted_line_sm, lst_leftovers_sm = check_leftovers(np_gnd, ind_frnd, ind_tond, ind_geo, one_line, one_link_lst, lng_cut)\n",
    "            if lst_leftovers_sm != lst_leftovers:\n",
    "                j=0\n",
    "                for j in range(len(lst_leftovers_sm)):\n",
    "                    if lst_leftovers_sm[j] not in lst_lines_one_end:\n",
    "                        lst_lines_one_end.append(lst_leftovers_sm[j])\n",
    "    #\n",
    "\n",
    "    return lst_lines_one_end"
   ]
  },
  {
   "cell_type": "code",
   "execution_count": 26,
   "metadata": {},
   "outputs": [],
   "source": [
    "def get_one_stop_sprut(lst_paths_to_ends, np_gnd, ind_frnd, ind_tond, ind_geo):\n",
    "    lst_all_ends=[]\n",
    "    i=0\n",
    "    for i in range(len(lst_paths_to_ends)):\n",
    "        lst_one = lst_paths_to_ends[i]\n",
    "        lst_lines_one_end = get_one_end_lines(lst_one, np_gnd, ind_frnd, ind_tond, ind_geo)\n",
    "        for k in range(len(lst_lines_one_end)):\n",
    "            if lst_lines_one_end[k] not in lst_all_ends:\n",
    "                lst_all_ends.append(lst_lines_one_end[k])\n",
    "#         lst_all_ends = lst_all_ends + lst_lines_one_end\n",
    "    # \n",
    "    sprut_ml_one_stop = MultiLineString(lst_all_ends)\n",
    "    return sprut_ml_one_stop"
   ]
  },
  {
   "cell_type": "code",
   "execution_count": null,
   "metadata": {},
   "outputs": [],
   "source": []
  },
  {
   "cell_type": "code",
   "execution_count": null,
   "metadata": {},
   "outputs": [],
   "source": []
  },
  {
   "cell_type": "code",
   "execution_count": null,
   "metadata": {},
   "outputs": [],
   "source": []
  },
  {
   "cell_type": "code",
   "execution_count": 28,
   "metadata": {},
   "outputs": [],
   "source": [
    "graph_notdir = graph[graph.direction == 'direct'].reset_index(drop=True)\n",
    "graph_notdir = graph_notdir[['link_id', 'from_node', 'to_node', 'geometry']]"
   ]
  },
  {
   "cell_type": "code",
   "execution_count": 29,
   "metadata": {},
   "outputs": [],
   "source": [
    "graph_notdir_32640 = graph_notdir.copy()\n",
    "graph_notdir_32640 = graph_notdir_32640.to_crs('epsg:32640')\n",
    "graph_notdir_32640['length'] = graph_notdir_32640.geometry.length\n",
    "fields = list(graph_notdir_32640.columns)"
   ]
  },
  {
   "cell_type": "code",
   "execution_count": 31,
   "metadata": {},
   "outputs": [],
   "source": [
    "# graph2 = graph[['link_id', 'from_node', 'to_node', 'geometry']].copy()"
   ]
  },
  {
   "cell_type": "code",
   "execution_count": 32,
   "metadata": {},
   "outputs": [],
   "source": [
    "# graph2_32640 = graph2.copy()\n",
    "# graph2_32640 = graph2_32640.to_crs('epsg:32640')\n",
    "# graph2_32640['length'] = graph2_32640.geometry.length\n",
    "# fields2 = list(graph2_32640.columns)"
   ]
  },
  {
   "cell_type": "code",
   "execution_count": 33,
   "metadata": {},
   "outputs": [],
   "source": [
    "# %time GG = generate_graph(graph2_32640, fields2)"
   ]
  },
  {
   "cell_type": "code",
   "execution_count": 30,
   "metadata": {},
   "outputs": [
    {
     "name": "stdout",
     "output_type": "stream",
     "text": [
      "Wall time: 22 s\n"
     ]
    }
   ],
   "source": [
    "# https://github.com/martinfleis/momepy/blob/v0.3.0/momepy/utils.py#L117-L156\n",
    "%time G = generate_graph(graph_notdir_32640, fields)"
   ]
  },
  {
   "cell_type": "code",
   "execution_count": 31,
   "metadata": {},
   "outputs": [],
   "source": [
    "np_gnd = graph_notdir_32640.to_numpy()\n",
    "ind_frnd = list(graph_notdir_32640.columns).index('from_node')\n",
    "ind_tond = list(graph_notdir_32640.columns).index('to_node')\n",
    "ind_geo = list(graph_notdir_32640.columns).index('geometry')\n",
    "ind_li = list(graph_notdir_32640.columns).index('link_id')\n"
   ]
  },
  {
   "cell_type": "code",
   "execution_count": null,
   "metadata": {},
   "outputs": [],
   "source": []
  },
  {
   "cell_type": "code",
   "execution_count": 218,
   "metadata": {},
   "outputs": [
    {
     "data": {
      "application/vnd.jupyter.widget-view+json": {
       "model_id": "de572d5f8ca94a33b8b27214786c41f8",
       "version_major": 2,
       "version_minor": 0
      },
      "text/plain": [
       "HBox(children=(FloatProgress(value=0.0, max=2.0), HTML(value='')))"
      ]
     },
     "metadata": {},
     "output_type": "display_data"
    },
    {
     "name": "stdout",
     "output_type": "stream",
     "text": [
      "\n"
     ]
    }
   ],
   "source": [
    "lst_spruts = []\n",
    "i=0\n",
    "for i in tqdm(range(2)):\n",
    "# for i in tqdm(range(len(gdf_stops))):\n",
    "    one_stop_gdf = gdf_stops.iloc[[i]].reset_index(drop=True)\n",
    "    lst_paths_to_ends = get_one_stop_graph(one_stop_gdf, nodes, G)\n",
    "    sprut_ml_one_stop = get_one_stop_sprut(lst_paths_to_ends, np_gnd, ind_frnd, ind_tond, ind_geo)\n",
    "    lst_spruts.append(sprut_ml_one_stop)\n",
    "# "
   ]
  },
  {
   "cell_type": "code",
   "execution_count": null,
   "metadata": {},
   "outputs": [],
   "source": []
  },
  {
   "cell_type": "code",
   "execution_count": 94,
   "metadata": {},
   "outputs": [],
   "source": [
    "spruts = gpd.GeoDataFrame(geometry=list(lst_spruts))\n",
    "spruts.crs = 'epsg:32640'\n"
   ]
  },
  {
   "cell_type": "code",
   "execution_count": 95,
   "metadata": {},
   "outputs": [],
   "source": [
    "spruts_buff = spruts.copy()\n",
    "spruts_buff.geometry = spruts_buff.geometry.buffer(100)\n",
    "spruts_buff = spruts_buff.to_crs('epsg:4326')"
   ]
  },
  {
   "cell_type": "code",
   "execution_count": null,
   "metadata": {},
   "outputs": [],
   "source": []
  },
  {
   "cell_type": "code",
   "execution_count": 96,
   "metadata": {},
   "outputs": [],
   "source": [
    "spruts_buff.to_file('spruts_buff.json', driver='GeoJSON')"
   ]
  },
  {
   "cell_type": "code",
   "execution_count": null,
   "metadata": {},
   "outputs": [],
   "source": []
  },
  {
   "cell_type": "code",
   "execution_count": null,
   "metadata": {},
   "outputs": [],
   "source": []
  },
  {
   "cell_type": "code",
   "execution_count": 220,
   "metadata": {},
   "outputs": [
    {
     "data": {
      "image/svg+xml": [
       "<svg xmlns=\"http://www.w3.org/2000/svg\" xmlns:xlink=\"http://www.w3.org/1999/xlink\" width=\"300\" height=\"300\" viewBox=\"44451.78772548081 5914835.744672945 852.2285800402315 885.0648211725056\" preserveAspectRatio=\"xMinYMin meet\"><g transform=\"matrix(1,0,0,-1,0,11830556.554167062)\"><g><polyline fill=\"none\" stroke=\"#66cc99\" stroke-width=\"5.900432141150038\" points=\"44909.656579278,5915288.437591724 44910.190000650124,5915302.660168777 44915.08072505373,5915416.201886799 44923.82675585995,5915415.555355979 44947.310334526584,5915413.801023938 44943.43676081061,5915340.484446445 45010.19488403562,5915336.281392238 45013.23887512321,5915400.938315457\" opacity=\"0.8\" /><polyline fill=\"none\" stroke=\"#66cc99\" stroke-width=\"5.900432141150038\" points=\"44915.08072505373,5915416.201886799 44904.38117753406,5915416.7552963095 44881.093298282765,5915417.953328576\" opacity=\"0.8\" /><polyline fill=\"none\" stroke=\"#66cc99\" stroke-width=\"5.900432141150038\" points=\"44915.08072505373,5915416.201886799 44923.82675585995,5915415.555355979 44947.310334526584,5915413.801023938 44943.43676081061,5915340.484446445 45010.19488403562,5915336.281392238 45013.23887512321,5915400.938315457\" opacity=\"0.8\" /><polyline fill=\"none\" stroke=\"#66cc99\" stroke-width=\"5.900432141150038\" points=\"44915.08072505373,5915416.201886799 44921.14027796092,5915556.856995257 44921.252420503355,5915560.700368649\" opacity=\"0.8\" /><polyline fill=\"none\" stroke=\"#66cc99\" stroke-width=\"5.900432141150038\" points=\"44909.656579278,5915288.437591724 44910.190000650124,5915302.660168777 44915.08072505373,5915416.201886799 44904.38117753406,5915416.7552963095 44881.093298282765,5915417.953328576 44886.3971798179,5915513.372673262 44822.81755280553,5915516.455682596\" opacity=\"0.8\" /><polyline fill=\"none\" stroke=\"#66cc99\" stroke-width=\"5.900432141150038\" points=\"44881.093298282765,5915417.953328576 44880.634308141365,5915406.759843361\" opacity=\"0.8\" /><polyline fill=\"none\" stroke=\"#66cc99\" stroke-width=\"5.900432141150038\" points=\"44881.093298282765,5915417.953328576 44886.3971798179,5915513.372673262 44822.81755280553,5915516.455682596\" opacity=\"0.8\" /><polyline fill=\"none\" stroke=\"#66cc99\" stroke-width=\"5.900432141150038\" points=\"44909.656579278,5915288.437591724 44919.366384033114,5915287.945339682 45092.35602520837,5915279.191890672 45132.072903445514,5915277.185355283 45131.51577388169,5915260.175396692 45123.71182169864,5915112.315880202\" opacity=\"0.8\" /><polyline fill=\"none\" stroke=\"#66cc99\" stroke-width=\"5.900432141150038\" points=\"45123.71182169864,5915112.315880202 45123.191611118855,5915100.112133041\" opacity=\"0.8\" /><polyline fill=\"none\" stroke=\"#66cc99\" stroke-width=\"5.900432141150038\" points=\"45123.71182169864,5915112.315880202 45134.10420747264,5915111.781235584 45135.909732801796,5915111.674112669\" opacity=\"0.8\" /><polyline fill=\"none\" stroke=\"#66cc99\" stroke-width=\"5.900432141150038\" points=\"45092.35602520837,5915279.191890672 45132.072903445514,5915277.185355283\" opacity=\"0.8\" /><polyline fill=\"none\" stroke=\"#66cc99\" stroke-width=\"5.900432141150038\" points=\"45095.15997139859,5915334.740617425 45092.78663385264,5915288.124881059 45092.35602520837,5915279.191890672\" opacity=\"0.8\" /><polyline fill=\"none\" stroke=\"#66cc99\" stroke-width=\"5.900432141150038\" points=\"45123.71182169864,5915112.315880202 45131.51577388169,5915260.175396692 45132.072903445514,5915277.185355283\" opacity=\"0.8\" /><polyline fill=\"none\" stroke=\"#66cc99\" stroke-width=\"5.900432141150038\" points=\"45132.072903445514,5915277.185355283 45166.7153680824,5915275.451613985\" opacity=\"0.8\" /><polyline fill=\"none\" stroke=\"#66cc99\" stroke-width=\"5.900432141150038\" points=\"44909.656579278,5915288.437591724 44899.32695736049,5915288.921957421 44880.34771318111,5915289.797195248 44768.91742297285,5915294.726504347 44768.47429303848,5915277.515017683 44767.847717725206,5915262.3938019285 44763.199347950576,5915252.004669405 44724.825208284776,5915253.706413805 44725.448667788296,5915265.209098629 44712.299310644274,5915265.762140429\" opacity=\"0.8\" /><polyline fill=\"none\" stroke=\"#66cc99\" stroke-width=\"5.900432141150038\" points=\"44768.91742297285,5915294.726504347 44880.34771318111,5915289.797195248\" opacity=\"0.8\" /><polyline fill=\"none\" stroke=\"#66cc99\" stroke-width=\"5.900432141150038\" points=\"44768.91742297285,5915294.726504347 44768.47429303848,5915277.515017683 44767.847717725206,5915262.3938019285 44763.199347950576,5915252.004669405\" opacity=\"0.8\" /><polyline fill=\"none\" stroke=\"#66cc99\" stroke-width=\"5.900432141150038\" points=\"44706.79693649494,5915297.480470541 44768.91742297285,5915294.726504347\" opacity=\"0.8\" /><polyline fill=\"none\" stroke=\"#66cc99\" stroke-width=\"5.900432141150038\" points=\"44763.199347950576,5915252.004669405 44761.50547604874,5915211.183191297 44760.283588967635,5915180.915361608\" opacity=\"0.8\" /><polyline fill=\"none\" stroke=\"#66cc99\" stroke-width=\"5.900432141150038\" points=\"44763.199347950576,5915252.004669405 44724.825208284776,5915253.706413805\" opacity=\"0.8\" /><polyline fill=\"none\" stroke=\"#66cc99\" stroke-width=\"5.900432141150038\" points=\"44724.825208284776,5915253.706413805 44721.732904546254,5915182.465888117\" opacity=\"0.8\" /><polyline fill=\"none\" stroke=\"#66cc99\" stroke-width=\"5.900432141150038\" points=\"44724.825208284776,5915253.706413805 44725.448667788296,5915265.209098629 44712.299310644274,5915265.762140429\" opacity=\"0.8\" /><polyline fill=\"none\" stroke=\"#66cc99\" stroke-width=\"5.900432141150038\" points=\"44909.656579278,5915288.437591724 44919.366384033114,5915287.945339682 45092.35602520837,5915279.191890672 45092.78663385264,5915288.124881059 45095.15997139859,5915334.740617425 45097.99521118618,5915392.795991145\" opacity=\"0.8\" /><polyline fill=\"none\" stroke=\"#66cc99\" stroke-width=\"5.900432141150038\" points=\"45160.21777380252,5915400.770281674 45156.514636332926,5915330.608364676 45095.15997139859,5915334.740617425\" opacity=\"0.8\" /><polyline fill=\"none\" stroke=\"#66cc99\" stroke-width=\"5.900432141150038\" points=\"45095.15997139859,5915334.740617425 45097.99521118618,5915392.795991145\" opacity=\"0.8\" /><polyline fill=\"none\" stroke=\"#66cc99\" stroke-width=\"5.900432141150038\" points=\"45160.21777380252,5915400.770281674 45156.514636332926,5915330.608364676 45095.15997139859,5915334.740617425 45092.78663385264,5915288.124881059 45092.35602520837,5915279.191890672 44919.366384033114,5915287.945339682 44909.656579278,5915288.437591724\" opacity=\"0.8\" /><polyline fill=\"none\" stroke=\"#66cc99\" stroke-width=\"5.900432141150038\" points=\"45161.74772468667,5915429.595741044 45160.21777380252,5915400.770281674\" opacity=\"0.8\" /><polyline fill=\"none\" stroke=\"#66cc99\" stroke-width=\"5.900432141150038\" points=\"45162.92202983345,5915400.616524531 45160.21777380252,5915400.770281674\" opacity=\"0.8\" /><polyline fill=\"none\" stroke=\"#66cc99\" stroke-width=\"5.900432141150038\" points=\"44634.807138226286,5915387.674269994 44633.031010824314,5915358.445351547 44709.4902714832,5915353.443567451 44707.32843822776,5915313.57434285 44706.79693649494,5915297.480470541 44768.91742297285,5915294.726504347 44880.34771318111,5915289.797195248 44899.32695736049,5915288.921957421 44909.656579278,5915288.437591724\" opacity=\"0.8\" /><polyline fill=\"none\" stroke=\"#66cc99\" stroke-width=\"5.900432141150038\" points=\"44651.188375110854,5915299.93661888 44706.79693649494,5915297.480470541\" opacity=\"0.8\" /><polyline fill=\"none\" stroke=\"#66cc99\" stroke-width=\"5.900432141150038\" points=\"44709.4902714832,5915353.443567451 44707.32843822776,5915313.57434285 44706.79693649494,5915297.480470541\" opacity=\"0.8\" /><polyline fill=\"none\" stroke=\"#66cc99\" stroke-width=\"5.900432141150038\" points=\"44634.807138226286,5915387.674269994 44633.031010824314,5915358.445351547 44709.4902714832,5915353.443567451\" opacity=\"0.8\" /><polyline fill=\"none\" stroke=\"#66cc99\" stroke-width=\"5.900432141150038\" points=\"44709.4902714832,5915353.443567451 44712.376578808005,5915413.107876646\" opacity=\"0.8\" /><polyline fill=\"none\" stroke=\"#66cc99\" stroke-width=\"5.900432141150038\" points=\"44909.656579278,5915288.437591724 44909.016447080416,5915270.920110257 44900.38992042927,5915106.590663478 44890.726128195936,5915107.145718568 44865.397657838475,5915108.482861352 44817.73302794964,5915110.994392421 44817.63658657746,5915105.8386668265 44817.254044656176,5915096.99065981\" opacity=\"0.8\" /><polyline fill=\"none\" stroke=\"#66cc99\" stroke-width=\"5.900432141150038\" points=\"44891.15227327781,5914937.132395918 44900.38992042927,5915106.590663478\" opacity=\"0.8\" /><polyline fill=\"none\" stroke=\"#66cc99\" stroke-width=\"5.900432141150038\" points=\"44905.36369122735,5915106.12640052 44900.38992042927,5915106.590663478\" opacity=\"0.8\" /><polyline fill=\"none\" stroke=\"#66cc99\" stroke-width=\"5.900432141150038\" points=\"44900.38992042927,5915106.590663478 44890.726128195936,5915107.145718568 44865.397657838475,5915108.482861352\" opacity=\"0.8\" /><polyline fill=\"none\" stroke=\"#66cc99\" stroke-width=\"5.900432141150038\" points=\"44865.397657838475,5915108.482861352 44817.73302794964,5915110.994392421\" opacity=\"0.8\" /><polyline fill=\"none\" stroke=\"#66cc99\" stroke-width=\"5.900432141150038\" points=\"44865.397657838475,5915108.482861352 44868.59965183021,5915176.956514781\" opacity=\"0.8\" /><polyline fill=\"none\" stroke=\"#66cc99\" stroke-width=\"5.900432141150038\" points=\"44817.73302794964,5915110.994392421 44718.97738118388,5915115.585039464\" opacity=\"0.8\" /><polyline fill=\"none\" stroke=\"#66cc99\" stroke-width=\"5.900432141150038\" points=\"44817.73302794964,5915110.994392421 44817.63658657746,5915105.8386668265 44817.254044656176,5915096.99065981\" opacity=\"0.8\" /><polyline fill=\"none\" stroke=\"#66cc99\" stroke-width=\"5.900432141150038\" points=\"44909.656579278,5915288.437591724 44909.016447080416,5915270.920110257 44900.38992042927,5915106.590663478 44890.726128195936,5915107.145718568 44865.397657838475,5915108.482861352 44868.59965183021,5915176.956514781 44841.57786667108,5915178.455894288 44837.883743152604,5915172.692178231 44829.18564527761,5915161.189283696\" opacity=\"0.8\" /><polyline fill=\"none\" stroke=\"#66cc99\" stroke-width=\"5.900432141150038\" points=\"44868.59965183021,5915176.956514781 44841.57786667108,5915178.455894288 44837.883743152604,5915172.692178231 44829.18564527761,5915161.189283696\" opacity=\"0.8\" /><polyline fill=\"none\" stroke=\"#66cc99\" stroke-width=\"5.900432141150038\" points=\"44868.59965183021,5915176.956514781 44871.87840399332,5915245.949410126\" opacity=\"0.8\" /><polyline fill=\"none\" stroke=\"#66cc99\" stroke-width=\"5.900432141150038\" points=\"44909.656579278,5915288.437591724 44909.016447080416,5915270.920110257 44900.38992042927,5915106.590663478 44890.726128195936,5915107.145718568 44865.397657838475,5915108.482861352 44868.59965183021,5915176.956514781 44871.87840399332,5915245.949410126\" opacity=\"0.8\" /><polyline fill=\"none\" stroke=\"#66cc99\" stroke-width=\"5.900432141150038\" points=\"44909.656579278,5915288.437591724 44919.366384033114,5915287.945339682 45092.35602520837,5915279.191890672 45132.072903445514,5915277.185355283 45166.7153680824,5915275.451613985 45177.281817190174,5915274.911565695 45184.88273215963,5915274.531922867 45197.88795279706,5915273.881917465 45232.9581979168,5915272.1189494375 45231.9300532465,5915254.190559491 45231.837180408416,5915252.586111894\" opacity=\"0.8\" /><polyline fill=\"none\" stroke=\"#66cc99\" stroke-width=\"5.900432141150038\" points=\"45166.7153680824,5915275.451613985 45177.281817190174,5915274.911565695\" opacity=\"0.8\" /><polyline fill=\"none\" stroke=\"#66cc99\" stroke-width=\"5.900432141150038\" points=\"45177.281817190174,5915274.911565695 45184.37304955849,5915265.684938493 45188.20420375414,5915260.433720866\" opacity=\"0.8\" /><polyline fill=\"none\" stroke=\"#66cc99\" stroke-width=\"5.900432141150038\" points=\"45177.281817190174,5915274.911565695 45184.88273215963,5915274.531922867\" opacity=\"0.8\" /><polyline fill=\"none\" stroke=\"#66cc99\" stroke-width=\"5.900432141150038\" points=\"45184.88273215963,5915274.531922867 45197.88795279706,5915273.881917465\" opacity=\"0.8\" /><polyline fill=\"none\" stroke=\"#66cc99\" stroke-width=\"5.900432141150038\" points=\"45184.88273215963,5915274.531922867 45185.425666352035,5915282.389802373 45192.55512704378,5915398.717694043\" opacity=\"0.8\" /><polyline fill=\"none\" stroke=\"#66cc99\" stroke-width=\"5.900432141150038\" points=\"45188.20420375414,5915260.433720866 45192.48685210949,5915265.883663965 45197.88795279706,5915273.881917465\" opacity=\"0.8\" /><polyline fill=\"none\" stroke=\"#66cc99\" stroke-width=\"5.900432141150038\" points=\"45197.88795279706,5915273.881917465 45232.9581979168,5915272.1189494375\" opacity=\"0.8\" /><polyline fill=\"none\" stroke=\"#66cc99\" stroke-width=\"5.900432141150038\" points=\"45232.9581979168,5915272.1189494375 45231.9300532465,5915254.190559491 45231.837180408416,5915252.586111894\" opacity=\"0.8\" /><polyline fill=\"none\" stroke=\"#66cc99\" stroke-width=\"5.900432141150038\" points=\"45232.9581979168,5915272.1189494375 45246.78674155567,5915271.423954285\" opacity=\"0.8\" /><polyline fill=\"none\" stroke=\"#66cc99\" stroke-width=\"5.900432141150038\" points=\"44550.26987742586,5915304.32386761 44565.239318208885,5915304.156251305 44588.249109824246,5915303.207479284 44603.340869800886,5915302.49048065 44609.963980318746,5915302.43884064 44651.188375110854,5915299.93661888 44706.79693649494,5915297.480470541 44768.91742297285,5915294.726504347 44880.34771318111,5915289.797195248 44899.32695736049,5915288.921957421 44909.656579278,5915288.437591724\" opacity=\"0.8\" /><polyline fill=\"none\" stroke=\"#66cc99\" stroke-width=\"5.900432141150038\" points=\"44484.567904042764,5915306.654418241 44546.97091218829,5915303.7435104605 44550.26987742586,5915304.32386761\" opacity=\"0.8\" /><polyline fill=\"none\" stroke=\"#66cc99\" stroke-width=\"5.900432141150038\" points=\"44651.188375110854,5915299.93661888 44650.200088193465,5915283.079784701 44649.768753675686,5915273.093616879\" opacity=\"0.8\" /><polyline fill=\"none\" stroke=\"#66cc99\" stroke-width=\"5.900432141150038\" points=\"44609.963980318746,5915302.43884064 44651.188375110854,5915299.93661888\" opacity=\"0.8\" /><polyline fill=\"none\" stroke=\"#66cc99\" stroke-width=\"5.900432141150038\" points=\"44588.249109824246,5915303.207479284 44603.340869800886,5915302.49048065 44609.963980318746,5915302.43884064\" opacity=\"0.8\" /><polyline fill=\"none\" stroke=\"#66cc99\" stroke-width=\"5.900432141150038\" points=\"44560.962296276644,5915278.819287338 44588.31145245995,5915277.298096845 44588.82995085075,5915285.3824723195 44588.249109824246,5915303.207479284\" opacity=\"0.8\" /><polyline fill=\"none\" stroke=\"#66cc99\" stroke-width=\"5.900432141150038\" points=\"44565.239318208885,5915304.156251305 44588.249109824246,5915303.207479284\" opacity=\"0.8\" /><polyline fill=\"none\" stroke=\"#66cc99\" stroke-width=\"5.900432141150038\" points=\"44588.249109824246,5915303.207479284 44589.46152277192,5915319.661937724 44591.29884240014,5915353.321760819\" opacity=\"0.8\" /><polyline fill=\"none\" stroke=\"#66cc99\" stroke-width=\"5.900432141150038\" points=\"44565.239318208885,5915304.156251305 44561.726777298725,5915286.801681404 44560.962296276644,5915278.819287338\" opacity=\"0.8\" /><polyline fill=\"none\" stroke=\"#66cc99\" stroke-width=\"5.900432141150038\" points=\"44550.26987742586,5915304.32386761 44565.239318208885,5915304.156251305\" opacity=\"0.8\" /><polyline fill=\"none\" stroke=\"#66cc99\" stroke-width=\"5.900432141150038\" points=\"44566.65462415217,5915354.415882265 44565.7543024699,5915320.845567829 44565.239318208885,5915304.156251305\" opacity=\"0.8\" /><polyline fill=\"none\" stroke=\"#66cc99\" stroke-width=\"5.900432141150038\" points=\"44909.656579278,5915288.437591724 44910.190000650124,5915302.660168777 44915.08072505373,5915416.201886799 44921.14027796092,5915556.856995257 44921.252420503355,5915560.700368649 44924.99243564496,5915635.07176006 44927.43504511233,5915683.652941623\" opacity=\"0.8\" /><polyline fill=\"none\" stroke=\"#66cc99\" stroke-width=\"5.900432141150038\" points=\"44927.43504511233,5915683.652941623 44927.65542224886,5915688.0293155555\" opacity=\"0.8\" /><polyline fill=\"none\" stroke=\"#66cc99\" stroke-width=\"5.900432141150038\" points=\"44927.43504511233,5915683.652941623 44931.01131327008,5915683.478727059 44931.811825804165,5915683.440808457\" opacity=\"0.8\" /><polyline fill=\"none\" stroke=\"#66cc99\" stroke-width=\"5.900432141150038\" points=\"44921.252420503355,5915560.700368649 44930.915292420716,5915560.1453266125 45048.531650699566,5915553.375295333\" opacity=\"0.8\" /><polyline fill=\"none\" stroke=\"#66cc99\" stroke-width=\"5.900432141150038\" points=\"44921.252420503355,5915560.700368649 44924.99243564496,5915635.07176006\" opacity=\"0.8\" /><polyline fill=\"none\" stroke=\"#66cc99\" stroke-width=\"5.900432141150038\" points=\"44924.99243564496,5915635.07176006 44927.43504511233,5915683.652941623\" opacity=\"0.8\" /><polyline fill=\"none\" stroke=\"#66cc99\" stroke-width=\"5.900432141150038\" points=\"44924.99243564496,5915635.07176006 44915.92252414476,5915635.704531323 44892.92384681996,5915637.311934638 44891.475119349045,5915616.484530036\" opacity=\"0.8\" /><polyline fill=\"none\" stroke=\"#66cc99\" stroke-width=\"5.900432141150038\" points=\"44927.510192827904,5914927.838659712 44919.15652148891,5914935.337823591 44900.42781434016,5914936.524914016 44891.15227327781,5914937.132395918 44900.38992042927,5915106.590663478 44909.016447080416,5915270.920110257 44909.656579278,5915288.437591724\" opacity=\"0.8\" /><polyline fill=\"none\" stroke=\"#66cc99\" stroke-width=\"5.900432141150038\" points=\"45019.68835170454,5914921.485244044 45002.702412335726,5914922.683720262 44927.510192827904,5914927.838659712\" opacity=\"0.8\" /><polyline fill=\"none\" stroke=\"#66cc99\" stroke-width=\"5.900432141150038\" points=\"44924.358791840714,5914870.619325579 44927.510192827904,5914927.838659712\" opacity=\"0.8\" /><polyline fill=\"none\" stroke=\"#66cc99\" stroke-width=\"5.900432141150038\" points=\"44931.38818086027,5914999.587358205 44927.510192827904,5914927.838659712\" opacity=\"0.8\" /><polyline fill=\"none\" stroke=\"#66cc99\" stroke-width=\"5.900432141150038\" points=\"44889.18414150501,5914896.780299389 44891.15227327781,5914937.132395918\" opacity=\"0.8\" /><polyline fill=\"none\" stroke=\"#66cc99\" stroke-width=\"5.900432141150038\" points=\"44891.15227327781,5914937.132395918 44900.42781434016,5914936.524914016 44919.15652148891,5914935.337823591 44927.510192827904,5914927.838659712\" opacity=\"0.8\" /><polyline fill=\"none\" stroke=\"#66cc99\" stroke-width=\"5.900432141150038\" points=\"44857.142451722524,5914939.669908634 44882.90548640594,5914937.731081797 44891.15227327781,5914937.132395918\" opacity=\"0.8\" /><polyline fill=\"none\" stroke=\"#66cc99\" stroke-width=\"5.900432141150038\" points=\"44857.142451722524,5914939.669908634 44882.90548640594,5914937.731081797 44891.15227327781,5914937.132395918 44900.38992042927,5915106.590663478 44909.016447080416,5915270.920110257 44909.656579278,5915288.437591724\" opacity=\"0.8\" /><polyline fill=\"none\" stroke=\"#66cc99\" stroke-width=\"5.900432141150038\" points=\"44785.98764032908,5914884.209237571 44785.38058663771,5914871.8981475625 44852.93834747258,5914868.524851507 44857.142451722524,5914939.669908634\" opacity=\"0.8\" /><polyline fill=\"none\" stroke=\"#66cc99\" stroke-width=\"5.900432141150038\" points=\"44802.99241262653,5914942.878273591 44857.142451722524,5914939.669908634\" opacity=\"0.8\" /><polyline fill=\"none\" stroke=\"#66cc99\" stroke-width=\"5.900432141150038\" points=\"44735.086760764854,5915014.743769063 44860.660640348564,5915008.919952219 44857.142451722524,5914939.669908634\" opacity=\"0.8\" /><polyline fill=\"none\" stroke=\"#66cc99\" stroke-width=\"5.900432141150038\" points=\"44909.656579278,5915288.437591724 44919.366384033114,5915287.945339682 45092.35602520837,5915279.191890672 45132.072903445514,5915277.185355283 45166.7153680824,5915275.451613985 45177.281817190174,5915274.911565695 45184.88273215963,5915274.531922867 45197.88795279706,5915273.881917465 45232.9581979168,5915272.1189494375 45246.78674155567,5915271.423954285 45263.5085296536,5915270.586780577 45268.40736113733,5915263.060033693 45265.40752550715,5915252.165630466 45265.405592680036,5915250.597302642\" opacity=\"0.8\" /><polyline fill=\"none\" stroke=\"#66cc99\" stroke-width=\"5.900432141150038\" points=\"45246.78674155567,5915271.423954285 45263.5085296536,5915270.586780577\" opacity=\"0.8\" /><polyline fill=\"none\" stroke=\"#66cc99\" stroke-width=\"5.900432141150038\" points=\"45268.40736113733,5915263.060033693 45263.5085296536,5915270.586780577\" opacity=\"0.8\" /><polyline fill=\"none\" stroke=\"#66cc99\" stroke-width=\"5.900432141150038\" points=\"45263.5085296536,5915270.586780577 45271.23612695909,5915270.195161617\" opacity=\"0.8\" /><polyline fill=\"none\" stroke=\"#66cc99\" stroke-width=\"5.900432141150038\" points=\"45269.592556995456,5915258.566071569 45268.40736113733,5915263.060033693\" opacity=\"0.8\" /><polyline fill=\"none\" stroke=\"#66cc99\" stroke-width=\"5.900432141150038\" points=\"45265.405592680036,5915250.597302642 45265.40752550715,5915252.165630466 45268.40736113733,5915263.060033693\" opacity=\"0.8\" /><polyline fill=\"none\" stroke=\"#66cc99\" stroke-width=\"5.900432141150038\" points=\"45268.40736113733,5915263.060033693 45271.23612695909,5915270.195161617\" opacity=\"0.8\" /></g></g></svg>"
      ],
      "text/plain": [
       "<shapely.geometry.multilinestring.MultiLineString at 0x1a8cbd2cd48>"
      ]
     },
     "execution_count": 220,
     "metadata": {},
     "output_type": "execute_result"
    }
   ],
   "source": [
    "lst_spruts[1]"
   ]
  },
  {
   "cell_type": "code",
   "execution_count": null,
   "metadata": {},
   "outputs": [],
   "source": []
  }
 ],
 "metadata": {
  "kernelspec": {
   "display_name": "Python 3",
   "language": "python",
   "name": "python3"
  },
  "language_info": {
   "codemirror_mode": {
    "name": "ipython",
    "version": 3
   },
   "file_extension": ".py",
   "mimetype": "text/x-python",
   "name": "python",
   "nbconvert_exporter": "python",
   "pygments_lexer": "ipython3",
   "version": "3.7.6"
  }
 },
 "nbformat": 4,
 "nbformat_minor": 4
}
